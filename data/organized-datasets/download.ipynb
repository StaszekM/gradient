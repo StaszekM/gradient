version https://git-lfs.github.com/spec/v1
oid sha256:a4ac08319e3869ea49e92e838ebc2f787f67b0bf47d7aa7bd27d29947addf1c2
size 1531026
