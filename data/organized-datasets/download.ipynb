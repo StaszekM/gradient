version https://git-lfs.github.com/spec/v1
oid sha256:d4f3cefe31d55f880a7a6662f29771afa51f445c210e7dbbe258f4bdcd51120b
size 1538152
