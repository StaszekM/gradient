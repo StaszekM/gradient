version https://git-lfs.github.com/spec/v1
oid sha256:190247da7dbebca967412e121a7212c7d3f1ab2969c4e664889478544cf8b2c8
size 7069
