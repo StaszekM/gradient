version https://git-lfs.github.com/spec/v1
oid sha256:41a7a478a833c15c6db0a9fd3abedaa2dec95b51656e80d56fc772846f6884fc
size 449
