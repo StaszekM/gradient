version https://git-lfs.github.com/spec/v1
oid sha256:0625410ce9c40442cab178da62b2dced65c40ff5e8d93c24ea83efec09a30580
size 39943
