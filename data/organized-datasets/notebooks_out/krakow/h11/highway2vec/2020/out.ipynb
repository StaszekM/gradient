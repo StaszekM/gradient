version https://git-lfs.github.com/spec/v1
oid sha256:df4bf7befa3bcf7056167146db9bcc46667dc024403a0d538cf45ee6286d4ed7
size 27903004
