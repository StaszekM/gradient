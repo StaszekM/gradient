version https://git-lfs.github.com/spec/v1
oid sha256:4b85ee969970ea6f441ac3c6ecbfb9880989659bb5d2b851978c3f611173e025
size 27903004
