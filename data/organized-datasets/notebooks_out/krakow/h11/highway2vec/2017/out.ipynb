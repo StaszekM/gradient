version https://git-lfs.github.com/spec/v1
oid sha256:72dc819ae2680726b36d69d5761ab3c4057841dee7a69fcd56cec11ea804e3e6
size 27916723
