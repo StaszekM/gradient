version https://git-lfs.github.com/spec/v1
oid sha256:4e07a3caa6280e10bf96705fbb4397f0c5350918e16846b731405085612a09b6
size 115452950
