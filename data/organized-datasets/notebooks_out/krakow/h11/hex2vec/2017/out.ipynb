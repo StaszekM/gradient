version https://git-lfs.github.com/spec/v1
oid sha256:8c287b1e85baeddab94102bd83c0dbd4fa80f9f90e37c25cba167dac1238b04c
size 115477999
