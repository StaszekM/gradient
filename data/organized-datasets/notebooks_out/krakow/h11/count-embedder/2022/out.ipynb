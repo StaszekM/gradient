version https://git-lfs.github.com/spec/v1
oid sha256:38da2076ff2c55e3011759935d5799f8eb41680a63b5296957ef4234d9f3b364
size 262944
