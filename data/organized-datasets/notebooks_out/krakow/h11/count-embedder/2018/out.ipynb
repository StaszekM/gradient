version https://git-lfs.github.com/spec/v1
oid sha256:102a234951bd561fced1e7144f621a7b9c11be4bd19ca84bedc45627167590c5
size 262944
