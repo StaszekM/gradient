version https://git-lfs.github.com/spec/v1
oid sha256:6ef2d29bfac7a58253a2684e69c14bd6bb94488f14e220976710f3be3e7c9e6e
size 262949
