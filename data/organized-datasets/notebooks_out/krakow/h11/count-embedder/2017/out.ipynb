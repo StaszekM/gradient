version https://git-lfs.github.com/spec/v1
oid sha256:35d4c894e13e82bacb29f0b3b31b99a7087916174c347c1bdea7835774fe2f0c
size 262946
