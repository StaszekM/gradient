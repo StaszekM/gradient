version https://git-lfs.github.com/spec/v1
oid sha256:8b35eb90c1eb23f7d9f536ee854320b261285376772c438ae6accc1cff8ea225
size 97636
