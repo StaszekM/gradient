version https://git-lfs.github.com/spec/v1
oid sha256:5377ca9c849e6826bd9c17d19a9e4e4f9e3a83388f9e69725594886b3a5cbe2a
size 276857
