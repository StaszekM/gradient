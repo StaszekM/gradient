version https://git-lfs.github.com/spec/v1
oid sha256:cbfec4bf09383a28a06f945ddd21034654c3d956af01c3ac6b950d4285e4eb82
size 276992
