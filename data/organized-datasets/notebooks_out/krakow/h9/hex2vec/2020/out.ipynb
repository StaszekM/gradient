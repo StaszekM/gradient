version https://git-lfs.github.com/spec/v1
oid sha256:d01a697da18c0ec1840ba411c59a477a0be091171944e119fd57cfa58c8756a4
size 2534212
