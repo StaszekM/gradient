version https://git-lfs.github.com/spec/v1
oid sha256:76b5bb37e24c49682311de48268d2dc72f85c86f430f5be0aa8eeb3805000705
size 2534212
