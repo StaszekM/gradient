version https://git-lfs.github.com/spec/v1
oid sha256:a41881a8cf92ec8f5a57653a7fdd0f48b1625a3d8ac09e77cff20080838107e2
size 1875107
