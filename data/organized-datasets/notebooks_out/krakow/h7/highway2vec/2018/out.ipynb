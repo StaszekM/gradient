version https://git-lfs.github.com/spec/v1
oid sha256:02e5b3a6504e042e8191dbf0ab6a41b2353953af3e00ccf5b05074adde533675
size 148792
