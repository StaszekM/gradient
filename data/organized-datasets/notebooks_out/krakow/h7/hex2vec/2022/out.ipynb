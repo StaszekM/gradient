version https://git-lfs.github.com/spec/v1
oid sha256:cfd15d5d326fc6314280c0aa9ddf9f561ddd68554252a09abee3441880cf49b4
size 143500
