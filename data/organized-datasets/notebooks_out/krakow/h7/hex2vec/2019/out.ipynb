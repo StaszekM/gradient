version https://git-lfs.github.com/spec/v1
oid sha256:cdc9ea677a5bc1a26020e451a0cb946bc2d0bfd812bae976518f5418ab8fab53
size 143502
