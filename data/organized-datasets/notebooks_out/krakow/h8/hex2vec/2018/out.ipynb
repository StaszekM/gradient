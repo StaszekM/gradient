version https://git-lfs.github.com/spec/v1
oid sha256:d6cdcc0898b292b6502c91acb99bbbfaedbacfee9986ee89d60ced2e0cdbd9bf
size 462719
