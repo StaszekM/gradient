version https://git-lfs.github.com/spec/v1
oid sha256:e64357caec7c8ac081938e4ca52817d1f2ab663178476b26088438f27fbaa55d
size 432251
