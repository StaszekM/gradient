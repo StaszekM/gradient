version https://git-lfs.github.com/spec/v1
oid sha256:2ab460e8f69f70cfb79c980188622f89f21ab17d90824e2f49a73c3038305d88
size 445970
