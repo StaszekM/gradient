version https://git-lfs.github.com/spec/v1
oid sha256:af22b1c988dacc285d6da844611c7fb805b0e1019b3e094f2fa1de0a4f028206
size 432252
