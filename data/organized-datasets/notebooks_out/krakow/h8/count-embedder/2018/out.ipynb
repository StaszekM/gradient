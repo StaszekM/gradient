version https://git-lfs.github.com/spec/v1
oid sha256:7c3005e36ea32c5f85ad20ad28f2826263ebe2c6844bcf43d1ec5f90e23bf422
size 283934
