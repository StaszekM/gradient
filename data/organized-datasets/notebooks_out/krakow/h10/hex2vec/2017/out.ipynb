version https://git-lfs.github.com/spec/v1
oid sha256:52dcab5f85d416e7cacb3154d0e2d69b2cee66705c61e9ebc6055e1376f0a1dd
size 16711838
