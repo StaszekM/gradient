version https://git-lfs.github.com/spec/v1
oid sha256:406f0e162436e2b11a3a8ca55a9fa698605fa04625eefa936ad8c4bb5553573c
size 16696319
