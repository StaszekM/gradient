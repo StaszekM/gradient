version https://git-lfs.github.com/spec/v1
oid sha256:86d83a0ee489c8fca7759f61605b7e2bfbb63cae3d6ef42360eec877920aac8f
size 16696318
