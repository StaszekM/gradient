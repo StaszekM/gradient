version https://git-lfs.github.com/spec/v1
oid sha256:3bb7d11d0361c0d1ca9fad22108ed8ffb299b1e7a6517858fba8c434c0e863a8
size 7976347
