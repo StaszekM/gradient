version https://git-lfs.github.com/spec/v1
oid sha256:0a680bbf1dd99ed2991747efd7fd3547a9a5081a1ad5c584394269849ff9cfa8
size 265441
