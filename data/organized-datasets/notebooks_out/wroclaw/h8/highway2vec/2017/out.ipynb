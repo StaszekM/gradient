version https://git-lfs.github.com/spec/v1
oid sha256:2c79e6f5039d3e01857b4cd9117322da9fe2c4f30ca54d2d71d526dce938d175
size 398407
