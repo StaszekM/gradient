version https://git-lfs.github.com/spec/v1
oid sha256:7c454114d38bacdb041ce3df6e3fb5ecb3c5b229c1800c60bcaa08acec500071
size 384687
