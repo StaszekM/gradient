version https://git-lfs.github.com/spec/v1
oid sha256:b83727960f7ffb05155b6bc7576a2291bcd7776edaec9759413fa278d747f8f3
size 433985
