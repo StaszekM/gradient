version https://git-lfs.github.com/spec/v1
oid sha256:f85caf9e86854dcd1981bcde3f6f5939205bab39259f5936f60cf197efc9c8c9
size 227952
