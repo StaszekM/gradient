version https://git-lfs.github.com/spec/v1
oid sha256:c31153589fe16bfcee4408c222a4a1caec76622323ccf2e8f803e10c2531adc4
size 227957
