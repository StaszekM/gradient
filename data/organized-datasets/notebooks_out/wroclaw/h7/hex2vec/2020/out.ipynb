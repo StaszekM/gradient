version https://git-lfs.github.com/spec/v1
oid sha256:d17e6a1a3d2c349cb5b006d664c41078a5ec2532ae0be521a9d86143c1522b90
size 136402
