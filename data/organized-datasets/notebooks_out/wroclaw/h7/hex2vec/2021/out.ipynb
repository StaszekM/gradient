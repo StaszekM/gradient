version https://git-lfs.github.com/spec/v1
oid sha256:6f6d4ab8466a142d851d42e1561167daee82131d5fcb05d94aa707056bce82fe
size 136400
