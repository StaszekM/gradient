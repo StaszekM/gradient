version https://git-lfs.github.com/spec/v1
oid sha256:0644c6f1ba01a79256e508f179307396adfd6bd0b811232dfceb1063095612d3
size 150755
