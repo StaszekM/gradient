version https://git-lfs.github.com/spec/v1
oid sha256:8690a342ae671ef0a77a91a8f38fd8b6d9c8ec55dff16392f5d3aa924b0c0e11
size 154641
