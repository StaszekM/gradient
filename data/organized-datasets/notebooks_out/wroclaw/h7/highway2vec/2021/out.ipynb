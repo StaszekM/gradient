version https://git-lfs.github.com/spec/v1
oid sha256:5b6311e9d0a35e2f98e821bd6c44919db226d89c3fb314b2a9a412f31d6c2a10
size 140923
