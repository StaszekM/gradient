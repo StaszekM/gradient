version https://git-lfs.github.com/spec/v1
oid sha256:df9a3f1696f20c5b995b5d8975027dd73c26936041b96aa27b3e93e2bf2fdef0
size 140923
