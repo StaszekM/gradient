version https://git-lfs.github.com/spec/v1
oid sha256:da95c57400e0c57f69e872ed40196609e95598e6b34039b6b1383cc093060e6d
size 221080
