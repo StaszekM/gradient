version https://git-lfs.github.com/spec/v1
oid sha256:def25dbe305b21fdf1672c657af7afc7e2ca0846cc2bcc3c54f4198a44cccdb5
size 106508943
