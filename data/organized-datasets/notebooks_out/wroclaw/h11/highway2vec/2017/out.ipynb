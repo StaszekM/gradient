version https://git-lfs.github.com/spec/v1
oid sha256:c58811cedf784ef32fa831c4e5740800c29ae0806187cd52f5278fb8ae7c6525
size 22290611
