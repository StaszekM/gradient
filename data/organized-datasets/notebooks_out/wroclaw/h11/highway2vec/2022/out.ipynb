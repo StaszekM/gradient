version https://git-lfs.github.com/spec/v1
oid sha256:3727fb92048f429fc296eec317b2a22e8fa0c9bbe778d92ea003e82f375ebf75
size 22276894
