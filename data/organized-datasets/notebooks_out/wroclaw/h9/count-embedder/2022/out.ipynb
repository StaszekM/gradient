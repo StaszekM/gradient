version https://git-lfs.github.com/spec/v1
oid sha256:555e015622172bcc1cf766ffa41f2f47e124b8e45c8839817cc0a3548d316eb9
size 224804
