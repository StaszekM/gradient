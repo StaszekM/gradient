version https://git-lfs.github.com/spec/v1
oid sha256:6c82dd2f18a49554f11bce59ee830a6e4ca2aff69f24d4557d16fd2d6f45cc34
size 224807
