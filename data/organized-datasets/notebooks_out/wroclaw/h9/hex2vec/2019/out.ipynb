version https://git-lfs.github.com/spec/v1
oid sha256:93d4e297f0bdf1fa01cb31db608e2ec83fcd98b62855143862fd478c0c4e2bac
size 2354468
