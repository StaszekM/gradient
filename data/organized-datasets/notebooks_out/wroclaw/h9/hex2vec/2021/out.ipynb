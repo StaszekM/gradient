version https://git-lfs.github.com/spec/v1
oid sha256:d1f0c983746e82daddad9d20807f8e85abdc68ccc3b20eb48d5f07fbfc27aced
size 2354467
