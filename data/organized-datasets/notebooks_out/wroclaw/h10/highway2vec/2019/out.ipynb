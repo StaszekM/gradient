version https://git-lfs.github.com/spec/v1
oid sha256:6b9856b678ab73beaa5177186ca138bbcdea24ca5ef7916065b08c09b16b18a6
size 6384132
