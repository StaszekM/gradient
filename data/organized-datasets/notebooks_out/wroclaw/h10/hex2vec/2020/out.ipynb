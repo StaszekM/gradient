version https://git-lfs.github.com/spec/v1
oid sha256:f5ba23e0d32264bb7c5b0a641560cb7881c14d8e99e255e61114264a547a745a
size 15460759
