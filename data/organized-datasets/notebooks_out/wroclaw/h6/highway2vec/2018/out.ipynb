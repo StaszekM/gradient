version https://git-lfs.github.com/spec/v1
oid sha256:98e7e958ed375c4743469f490a6d46ebabada89368eac9bcd8cbb041a5820ab6
size 106077
