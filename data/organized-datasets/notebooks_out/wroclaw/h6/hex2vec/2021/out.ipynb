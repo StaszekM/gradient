version https://git-lfs.github.com/spec/v1
oid sha256:c1e997bc3d125e8f8fa71ad5301793cc4c466ed6d0d843e9ac46656eac6eef1b
size 97536
