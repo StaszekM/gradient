version https://git-lfs.github.com/spec/v1
oid sha256:82e0745a916f575e9b841583223e03a22d7452e5df6407098acf8a431488ec59
size 691763
