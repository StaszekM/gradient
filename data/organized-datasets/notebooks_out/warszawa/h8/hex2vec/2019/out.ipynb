version https://git-lfs.github.com/spec/v1
oid sha256:82dcac0f072aa4ead5b11c6ead9647f4c784fbf3a92defb1fab561897ee78c43
size 691764
