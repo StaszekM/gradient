version https://git-lfs.github.com/spec/v1
oid sha256:9efac5b48552476707723a85c30d291b7a2bfe85706683f5e61faa32b8ee73ec
size 691766
