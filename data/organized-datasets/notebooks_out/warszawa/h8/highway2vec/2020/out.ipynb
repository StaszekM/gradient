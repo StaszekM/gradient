version https://git-lfs.github.com/spec/v1
oid sha256:81d66b65f5908a642ae1d1bf58679e489e5f2815700fa1acc35b578fff724f3a
size 645240
