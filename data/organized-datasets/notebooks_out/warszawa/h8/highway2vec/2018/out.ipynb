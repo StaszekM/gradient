version https://git-lfs.github.com/spec/v1
oid sha256:c879d9d33fb35efd3bbc58f883fc042d878cb447f3bd530b3b45c1d38f59855f
size 645241
