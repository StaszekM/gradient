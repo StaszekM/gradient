version https://git-lfs.github.com/spec/v1
oid sha256:b982b428f10c2219a9a60f0f76f9618d12b15f468aa58eecbcc7c9990660a591
size 14921928
