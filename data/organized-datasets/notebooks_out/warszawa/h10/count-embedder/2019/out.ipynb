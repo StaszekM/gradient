version https://git-lfs.github.com/spec/v1
oid sha256:76c9b2a036ea65c1a1f469969828b784489aed21364c968e99843bc7f3642170
size 490074
