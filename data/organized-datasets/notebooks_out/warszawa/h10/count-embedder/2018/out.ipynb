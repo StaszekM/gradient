version https://git-lfs.github.com/spec/v1
oid sha256:5ee1b284a63c3493db603a424e37af1e71a78db9b652ffcc6757a3b56afac610
size 490077
