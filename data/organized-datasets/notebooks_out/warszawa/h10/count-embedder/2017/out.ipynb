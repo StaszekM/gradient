version https://git-lfs.github.com/spec/v1
oid sha256:e1cac51bbceb6e7ee852f432f76a2659d47596d0207aeb9b3e11b89cab1510bf
size 489741
