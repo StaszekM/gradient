version https://git-lfs.github.com/spec/v1
oid sha256:943c51276574634084673f58e524ebfd4187a1a9f936cc423eec46ca74af7c57
size 27493794
