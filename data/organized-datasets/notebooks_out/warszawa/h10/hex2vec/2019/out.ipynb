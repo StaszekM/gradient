version https://git-lfs.github.com/spec/v1
oid sha256:b6d83b96fe78f7b165304a335f81d592f2a411807c40e5a0f0706a177be08361
size 27493793
