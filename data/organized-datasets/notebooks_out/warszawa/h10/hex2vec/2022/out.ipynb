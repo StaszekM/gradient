version https://git-lfs.github.com/spec/v1
oid sha256:3f90785c3cb0109c8d987de32cd046b3a848554a3fee1e183c4c20a08352ff5d
size 27493793
