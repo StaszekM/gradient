version https://git-lfs.github.com/spec/v1
oid sha256:a3381b8ecee74f2f42958274d731443a75882c851fade0f7dfb6780fb1832331
size 27510337
