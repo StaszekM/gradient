version https://git-lfs.github.com/spec/v1
oid sha256:e881333ad354c9bb5e830be3ab0376c2007e09e2d28992c78fcfabb148f90d04
size 27493796
