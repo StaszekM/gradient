version https://git-lfs.github.com/spec/v1
oid sha256:cc5119ece6eefc7090963dd09dd6f7925a9bb8c9c4144a21f165527dec2c624d
size 490129
