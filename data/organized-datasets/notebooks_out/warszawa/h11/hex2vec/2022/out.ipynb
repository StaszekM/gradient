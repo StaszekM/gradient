version https://git-lfs.github.com/spec/v1
oid sha256:3f3a4ed7bb23d487240b8a5ef1400a75695fcf71fc86a6e2186068c131787a85
size 189944076
