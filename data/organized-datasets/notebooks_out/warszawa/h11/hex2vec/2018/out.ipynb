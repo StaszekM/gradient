version https://git-lfs.github.com/spec/v1
oid sha256:332b896bf35062e013b81d0f1bd96c4579350229909a47c48738a856fc5bfba0
size 189944078
