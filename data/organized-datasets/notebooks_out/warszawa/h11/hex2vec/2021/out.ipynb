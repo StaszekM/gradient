version https://git-lfs.github.com/spec/v1
oid sha256:c1b78e82cc3664ab78d07ef17488d6f7ee12ca993fce4f934265e89b4a695205
size 189944071
