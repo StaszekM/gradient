version https://git-lfs.github.com/spec/v1
oid sha256:877b1b1587dc6ced339e13859582f2197042a31647c2962e0db90de03d365067
size 511592
