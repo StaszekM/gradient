version https://git-lfs.github.com/spec/v1
oid sha256:852db45211dd8e4d451f21632dd914eef9bbbe0222f0e99137c7b7108c3b6daa
size 127694
