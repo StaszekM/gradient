version https://git-lfs.github.com/spec/v1
oid sha256:3c87478c99a57439d8b378c3f9c75bde96d818afbe41ab4135af88dc4d393e34
size 113334
