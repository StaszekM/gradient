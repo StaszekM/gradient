version https://git-lfs.github.com/spec/v1
oid sha256:0993a4c67250ddb15171fc8d39c9b69bee1db09cd4b7cff0e626ba788407abad
size 126067
