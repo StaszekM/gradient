version https://git-lfs.github.com/spec/v1
oid sha256:5e26eb538cd22d2f79b7baff3e13cdd3e7cbee61fae416c88d3aa0a6b66adae7
size 186397
