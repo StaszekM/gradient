version https://git-lfs.github.com/spec/v1
oid sha256:470ff4ca2547970d3cfd03509e2a4e35fee5763416084ac7f4b6c179011ad17f
size 186394
