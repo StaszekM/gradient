version https://git-lfs.github.com/spec/v1
oid sha256:dc8938797550fddaa80890fa644b72cde40600bcaa1bea8455feb789d7a106d2
size 511649
