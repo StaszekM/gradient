version https://git-lfs.github.com/spec/v1
oid sha256:024c27a402f2faa68d9e4422232f7d511ef06e985a0d6adf0b567e01ec7967e8
size 511651
