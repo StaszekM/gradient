version https://git-lfs.github.com/spec/v1
oid sha256:e79b71e364ad2556907780f6837ba7aa575eb9aa23cbf4cf640fed440bbf678b
size 180367
