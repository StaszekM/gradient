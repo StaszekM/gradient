version https://git-lfs.github.com/spec/v1
oid sha256:2fe104b16b3094067eb1c552a7794c4c11add602dc047ddec9a1fefc9b01da01
size 4099859
