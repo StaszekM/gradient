version https://git-lfs.github.com/spec/v1
oid sha256:8b964ef3923a71280927e34e1ec949a11a4ec59cd83ed92fe446943551ed30f4
size 4099859
