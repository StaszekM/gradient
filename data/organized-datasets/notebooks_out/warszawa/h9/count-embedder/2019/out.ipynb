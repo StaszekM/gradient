version https://git-lfs.github.com/spec/v1
oid sha256:5428f46b2666ab4ebf165aea4d70ae8b02c643dcbfae96df4e95934b3f6e9810
size 512938
