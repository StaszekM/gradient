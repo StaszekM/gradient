version https://git-lfs.github.com/spec/v1
oid sha256:8b36ded488c1565b23366be3cf3e1e9fea77770020087dc724e2227a1b1f22b6
size 1496042
