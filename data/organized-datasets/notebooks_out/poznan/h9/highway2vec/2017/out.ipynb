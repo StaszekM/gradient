version https://git-lfs.github.com/spec/v1
oid sha256:08721fa30b64d35b1206a416c1c95fe6fec2e05f7d718eb0c29f56dfef6a2cf6
size 1509765
