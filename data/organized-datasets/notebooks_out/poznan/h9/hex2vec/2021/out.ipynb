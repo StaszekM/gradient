version https://git-lfs.github.com/spec/v1
oid sha256:dd535557eecb22246f5945a5704bf8bdff759097ea854a1899fe6892b7705be5
size 2190800
