version https://git-lfs.github.com/spec/v1
oid sha256:38b5a05599e875439b1292e6eb57fb9cc8ecc141976b71f13cb0ae5112521671
size 2190801
