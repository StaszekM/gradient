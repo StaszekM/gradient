version https://git-lfs.github.com/spec/v1
oid sha256:ff2b9ae4fdc0968e733657fc425ab12217402eb21e792f7fa4739f342eab7260
size 2205155
