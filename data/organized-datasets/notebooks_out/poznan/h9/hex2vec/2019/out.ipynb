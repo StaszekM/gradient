version https://git-lfs.github.com/spec/v1
oid sha256:46dfed75129a191394e1a2c139e3d99b3025e3d13165501b5aa479e6718b3732
size 2190799
