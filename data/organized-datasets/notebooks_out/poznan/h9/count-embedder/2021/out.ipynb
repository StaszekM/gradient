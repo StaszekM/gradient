version https://git-lfs.github.com/spec/v1
oid sha256:59dc753515179cb9b06c5fec588194d2f83e3ce0ed3840f0b7a892b68408a311
size 199911
