version https://git-lfs.github.com/spec/v1
oid sha256:97c66161cd960c1152d78d3cafcd6de3a2100f4dea15ef2a26cd09b3aadfee11
size 137672
