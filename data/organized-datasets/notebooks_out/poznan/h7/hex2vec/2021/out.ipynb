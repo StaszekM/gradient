version https://git-lfs.github.com/spec/v1
oid sha256:dbaadd73cabc8ab0aade19f097359a7905b353f9a09eb22b4bd37238d0b0ba91
size 137671
