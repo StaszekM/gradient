version https://git-lfs.github.com/spec/v1
oid sha256:837e4ebc2c82d23ea9a28523fc3114d63521ad8285000673fa0e953d812c8328
size 140745
