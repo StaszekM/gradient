version https://git-lfs.github.com/spec/v1
oid sha256:60ac34ccde334365a4c718e5e92d17dfc7df670b7d0dedcfca8aba5d670c414b
size 140744
