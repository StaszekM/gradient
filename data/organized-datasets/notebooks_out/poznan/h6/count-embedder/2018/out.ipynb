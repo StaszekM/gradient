version https://git-lfs.github.com/spec/v1
oid sha256:cd1ff2fe0ebf3f76f110725d1f0f38fbf66b7d6d3057416fe6e3eb7e1e94b486
size 205932
