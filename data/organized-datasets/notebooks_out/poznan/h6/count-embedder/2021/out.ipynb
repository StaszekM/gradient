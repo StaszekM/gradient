version https://git-lfs.github.com/spec/v1
oid sha256:ba041c0bd1fbce91a241b494f958434195b4bff7e054856bbd91a463fc307cec
size 205927
