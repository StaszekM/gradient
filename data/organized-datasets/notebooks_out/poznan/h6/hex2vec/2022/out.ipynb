version https://git-lfs.github.com/spec/v1
oid sha256:1171ef3104fc61dd5a47e10a4ecaff317a764c38c7072404991b06bab741cf82
size 97591
