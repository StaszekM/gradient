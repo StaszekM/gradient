version https://git-lfs.github.com/spec/v1
oid sha256:6c9879531b8f1c8803da417266710a57dfffdfb6623d85e4cd8e747c2ee4284e
size 193662
