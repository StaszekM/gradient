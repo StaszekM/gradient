version https://git-lfs.github.com/spec/v1
oid sha256:71094625a0d53897a9c5b96bbd4b72fd3dcee7f9901dbae32b43bf6c6cfe9b0a
size 193982
