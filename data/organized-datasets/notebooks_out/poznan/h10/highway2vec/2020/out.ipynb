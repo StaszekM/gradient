version https://git-lfs.github.com/spec/v1
oid sha256:678e22cfbc7ced295a00c4427a0a4772420fdf5c414ab710db60ca282284f6e4
size 6464987
