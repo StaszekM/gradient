version https://git-lfs.github.com/spec/v1
oid sha256:cd9bec243f58f052d321a0cec3705ee83e1cefbf302a4b39d04fd973557d366f
size 6464990
