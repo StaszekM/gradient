version https://git-lfs.github.com/spec/v1
oid sha256:ccc2d703becac1f0d90c93c3023fa8bee5eb735e5d936fb12a22049384312f84
size 6464989
