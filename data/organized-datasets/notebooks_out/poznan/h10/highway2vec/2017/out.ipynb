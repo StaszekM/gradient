version https://git-lfs.github.com/spec/v1
oid sha256:b47ca29c3ad5304033b36a913125ac75c1af5f7f398c1d142819334eae8d4d9f
size 6478706
