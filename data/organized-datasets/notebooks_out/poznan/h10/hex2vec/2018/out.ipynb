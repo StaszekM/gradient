version https://git-lfs.github.com/spec/v1
oid sha256:0d228af0a4f93fdb10722cd712a00b2c4a830fa6e3d870fe2d4736245042f37e
size 14290953
