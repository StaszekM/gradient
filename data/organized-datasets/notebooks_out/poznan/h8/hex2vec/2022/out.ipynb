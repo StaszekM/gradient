version https://git-lfs.github.com/spec/v1
oid sha256:573b1e343a47bd070cba4400a28f0a0030afe7175ed5f3adabc12d8313dce750
size 419075
