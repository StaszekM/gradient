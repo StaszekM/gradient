version https://git-lfs.github.com/spec/v1
oid sha256:17d1b8caf6b0dac6ef524ffd6345dfc0b23796bd71e14396c726ad892e2f163b
size 208075
