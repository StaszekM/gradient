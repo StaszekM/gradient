version https://git-lfs.github.com/spec/v1
oid sha256:ab1912e5e37ac789b1b36356eb2511b43deb59e242dee0806228a3d159b7f0be
size 208076
