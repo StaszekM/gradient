version https://git-lfs.github.com/spec/v1
oid sha256:4bdf65faa906d430503ae9d8aab668ef7b7a4bc6b2d91ae99c35fb8a15dbd1ae
size 363424
