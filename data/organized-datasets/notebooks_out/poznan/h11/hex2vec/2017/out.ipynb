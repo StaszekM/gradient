version https://git-lfs.github.com/spec/v1
oid sha256:a41288c6c638cb4ee0cbc1b83fa06abb130a1c1bb6a0900f7311b76ad102420a
size 98038053
