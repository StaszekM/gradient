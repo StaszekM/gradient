version https://git-lfs.github.com/spec/v1
oid sha256:1e8299e1fe00a8619084bb993f9d4da787a7709a0f3dff470ddb7829c2a2f874
size 98014693
