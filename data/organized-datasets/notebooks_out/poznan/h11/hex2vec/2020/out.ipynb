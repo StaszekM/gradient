version https://git-lfs.github.com/spec/v1
oid sha256:1330015510d7b86ff16a24bf9a7835e6443e15131b86deafd05933fb9931bedc
size 98014688
