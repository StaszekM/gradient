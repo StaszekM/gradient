version https://git-lfs.github.com/spec/v1
oid sha256:6d47d8bcd7bf6b568b1b9c74a896d10e0abcc0db21fc46506d35947e1030034f
size 23726045
