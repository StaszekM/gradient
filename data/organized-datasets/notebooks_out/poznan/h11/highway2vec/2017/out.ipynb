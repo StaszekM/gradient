version https://git-lfs.github.com/spec/v1
oid sha256:8d08b498a58371f8370edf57b9258c59aff722242b0400aabb6f637014d2d53b
size 23739763
