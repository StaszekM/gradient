version https://git-lfs.github.com/spec/v1
oid sha256:30b5af12e9a068d4545e6a0792b55eab5b7f7478533db51b433b8d33fe84ae63
size 23726045
