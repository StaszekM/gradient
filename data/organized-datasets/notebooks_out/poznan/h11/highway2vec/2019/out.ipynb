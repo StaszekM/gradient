version https://git-lfs.github.com/spec/v1
oid sha256:3a28a14528b7657c0a182a8275f5b36dad4c0827a93c851d7601614fd989fca0
size 23726047
