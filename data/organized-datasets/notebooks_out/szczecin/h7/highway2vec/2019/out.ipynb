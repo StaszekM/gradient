version https://git-lfs.github.com/spec/v1
oid sha256:41b1da3307698aaf2125b7b6e2859246a3876a9b4767269c3cad6dcffda479d0
size 135962
