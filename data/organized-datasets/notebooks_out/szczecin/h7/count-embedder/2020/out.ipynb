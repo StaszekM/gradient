version https://git-lfs.github.com/spec/v1
oid sha256:a89f64e9c7ada0802c723c44185c5e68a6ec0e2c99afd56c5e5016aa8944b758
size 125525
