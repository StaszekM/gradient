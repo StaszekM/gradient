version https://git-lfs.github.com/spec/v1
oid sha256:8d9c1fe6a6dda153a9be05b24ccd7e5a460bc9d5f58d1c717cde9e15f5b4e94d
size 162774
