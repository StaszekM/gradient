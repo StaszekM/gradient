version https://git-lfs.github.com/spec/v1
oid sha256:66ec6e6c597be505976aaff926f480c1105835ca72e0ed37dadd8affda3acb09
size 17086639
