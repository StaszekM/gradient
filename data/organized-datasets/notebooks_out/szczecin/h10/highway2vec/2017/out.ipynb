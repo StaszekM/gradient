version https://git-lfs.github.com/spec/v1
oid sha256:a51a8dd9cdb9676dd1c6b1fa7ed30f697bff5404eaecb508aa55162ea5f79f6e
size 4650470
