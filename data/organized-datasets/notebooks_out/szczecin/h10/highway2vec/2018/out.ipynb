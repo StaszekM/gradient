version https://git-lfs.github.com/spec/v1
oid sha256:f8eeb6c98f4ef3be65ebfa32a36f8b99d9018e8cee995407e09c8b38fa37a3c9
size 4636757
