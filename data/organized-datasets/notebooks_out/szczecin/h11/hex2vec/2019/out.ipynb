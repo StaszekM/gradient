version https://git-lfs.github.com/spec/v1
oid sha256:78c88c6261d43f8efb4d8a87936578a48b8d1998e7b5be761ea441153241905f
size 116765540
