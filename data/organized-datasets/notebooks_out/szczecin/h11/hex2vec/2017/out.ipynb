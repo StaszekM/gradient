version https://git-lfs.github.com/spec/v1
oid sha256:515e5b64c32768b931cd31751d00c6e393c2efdf69ebfe3729509ae7aa367f7c
size 116915202
