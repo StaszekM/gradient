version https://git-lfs.github.com/spec/v1
oid sha256:a82b819807515d6ab558f710268d9aad33015e2afad4d734f7e226d7c89cc113
size 16764249
