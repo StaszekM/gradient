version https://git-lfs.github.com/spec/v1
oid sha256:557fa7fe2058cd18e622a02f418dc879d020db5b47bad1d91f1a9a4f6a5d6e1b
size 16777963
