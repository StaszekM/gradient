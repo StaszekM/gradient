version https://git-lfs.github.com/spec/v1
oid sha256:333391c4b010b5c5873d21491d56e7ab4f6a1d12145799d5b471cc6d886cc8dc
size 16764250
