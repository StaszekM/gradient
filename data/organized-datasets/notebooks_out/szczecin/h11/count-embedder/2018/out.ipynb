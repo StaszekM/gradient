version https://git-lfs.github.com/spec/v1
oid sha256:68b4e0eb496fa9b686bbb45ace67424848235141083470013efc945a7756901f
size 119570
