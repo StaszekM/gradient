version https://git-lfs.github.com/spec/v1
oid sha256:b677ecd895eed6de338d53e27a79708fdebd87813e56ebb92800d2e6d0629c01
size 119569
