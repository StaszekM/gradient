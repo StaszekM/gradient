version https://git-lfs.github.com/spec/v1
oid sha256:3e0810ca8ba4e132abf5304e285f09abcec9f5149ae2f8ef077ce8a72114b5e3
size 119565
