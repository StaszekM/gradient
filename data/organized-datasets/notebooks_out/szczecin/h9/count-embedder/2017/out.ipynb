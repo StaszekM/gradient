version https://git-lfs.github.com/spec/v1
oid sha256:9bd7fab020c70cee80129063ece80f96a19686ff5af0d1cffc6608314d0eaa04
size 121740
