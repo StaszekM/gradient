version https://git-lfs.github.com/spec/v1
oid sha256:0e42eff9cc7584a575848b58643b106eed62e9247c572f46e78d0dec19e641dc
size 2636250
