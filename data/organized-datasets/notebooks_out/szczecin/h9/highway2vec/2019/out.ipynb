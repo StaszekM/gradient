version https://git-lfs.github.com/spec/v1
oid sha256:0d9789d87125637a783be2217c8d9739cee9ee0836b14edd780bb54ea7394b21
size 1143086
