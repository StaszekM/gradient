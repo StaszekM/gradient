version https://git-lfs.github.com/spec/v1
oid sha256:f08e746d1f73792805ce81513a27dd300eb05a4dd3615eb1d9a0efd113825137
size 1143087
