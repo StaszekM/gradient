version https://git-lfs.github.com/spec/v1
oid sha256:bcbb613e55f27072dd816a3929b828144a918cba37f1c15c9ffbb303a5f4c276
size 1143085
