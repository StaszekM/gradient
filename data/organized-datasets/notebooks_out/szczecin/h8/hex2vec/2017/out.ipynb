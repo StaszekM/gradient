version https://git-lfs.github.com/spec/v1
oid sha256:c1d5eeb00f1a2d00afbadbbeaa5345b61a6ba7dc96a21ab75c814149dd097f62
size 499217
