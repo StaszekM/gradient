version https://git-lfs.github.com/spec/v1
oid sha256:4c375c0b18160bbf2bbe0528a2ee88bf8520401240ac91f3fae6771e4acb7a18
size 484863
