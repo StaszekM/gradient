version https://git-lfs.github.com/spec/v1
oid sha256:4a2622279469654ec2717099919831c0ed9e5196a0d4ae6dc085163e7169e539
size 484865
