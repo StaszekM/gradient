version https://git-lfs.github.com/spec/v1
oid sha256:beab6653cc4563492c18737b6e125c0cd02574c91dc185f825e33600637b994a
size 323822
