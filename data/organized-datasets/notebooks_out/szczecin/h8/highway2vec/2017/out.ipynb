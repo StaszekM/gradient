version https://git-lfs.github.com/spec/v1
oid sha256:520d695b8b00ff42b01027a33d9fa6fa360a81ff789778ab56051a4d623f6d33
size 337537
