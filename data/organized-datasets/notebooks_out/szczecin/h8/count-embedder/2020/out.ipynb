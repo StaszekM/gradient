version https://git-lfs.github.com/spec/v1
oid sha256:b7b34238f133811e4b8e166dd1320d6b01a5a32bde82b8b14d080cebeb2e103d
size 124241
