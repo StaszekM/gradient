version https://git-lfs.github.com/spec/v1
oid sha256:12cc03e09ae16a2e53e7f347c23ffa4a77e68dd3c9a8eb5e1bfaf849bdd1c02b
size 124239
