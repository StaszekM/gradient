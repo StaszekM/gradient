version https://git-lfs.github.com/spec/v1
oid sha256:e117937801cd08af52f3face808af131ff01b0e1290e362190ff12399c060bfa
size 137877
