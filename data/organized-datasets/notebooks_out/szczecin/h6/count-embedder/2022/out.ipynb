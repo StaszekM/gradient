version https://git-lfs.github.com/spec/v1
oid sha256:0c3ff0a303ab47ac8015af1c03895dbf1d9cbf2fa3ff68c6a39cdbda8d20ddb6
size 137877
