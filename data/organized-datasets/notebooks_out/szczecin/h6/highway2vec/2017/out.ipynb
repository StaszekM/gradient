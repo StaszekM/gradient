version https://git-lfs.github.com/spec/v1
oid sha256:0d0f34228265091fe14011309b2220b38d9b3bdd92c44b45764254d98c3ee012
size 149523
