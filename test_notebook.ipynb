{
 "cells": [
  {
   "cell_type": "code",
   "execution_count": 1,
   "metadata": {},
   "outputs": [],
   "source": [
    "from srai.loaders import OSMOnlineLoader\n",
    "from srai.plotting import plot_regions\n",
    "from srai.regionalizers import geocode_to_region_gdf\n",
    "import pandas as pd\n",
    "import geopandas as gpd\n",
    "from srai.embedders import CountEmbedder\n",
    "from srai.joiners import IntersectionJoiner\n",
    "import folium\n",
    "import os\n",
    "import matplotlib.pyplot as plt\n",
    "import matplotlib.colors as pltcolors\n",
    "import numpy as np\n",
    "import plotly.express as px"
   ]
  },
  {
   "cell_type": "code",
   "execution_count": 2,
   "metadata": {},
   "outputs": [],
   "source": [
    "area: gpd.GeoDataFrame = geocode_to_region_gdf(\"Wrocław, Poland\")"
   ]
  },
  {
   "cell_type": "code",
   "execution_count": 3,
   "metadata": {},
   "outputs": [],
   "source": [
    "loader = OSMOnlineLoader()"
   ]
  },
  {
   "cell_type": "code",
   "execution_count": 9,
   "metadata": {},
   "outputs": [
    {
     "name": "stderr",
     "output_type": "stream",
     "text": [
      "Downloading barrier: True : 100%|██████████| 10/10 [00:50<00:00,  5.00s/it]\n"
     ]
    }
   ],
   "source": [
    "query = {\"amenity\": True, \"railway\": True, \"route\": True, \"building\": True, \"leisure\": True, \"natural\": True, \"waterway\": True, \"surface\": True, \"highway\": True, 'barrier': True}\n",
    "data_gdf = loader.load(area, query)"
   ]
  }
 ],
 "metadata": {
  "kernelspec": {
   "display_name": "env",
   "language": "python",
   "name": "python3"
  },
  "language_info": {
   "codemirror_mode": {
    "name": "ipython",
    "version": 3
   },
   "file_extension": ".py",
   "mimetype": "text/x-python",
   "name": "python",
   "nbconvert_exporter": "python",
   "pygments_lexer": "ipython3",
   "version": "3.8.18"
  }
 },
 "nbformat": 4,
 "nbformat_minor": 2
}
