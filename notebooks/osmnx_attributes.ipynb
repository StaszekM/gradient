{
 "cells": [
  {
   "cell_type": "code",
   "execution_count": null,
   "metadata": {},
   "outputs": [],
   "source": [
    "import pandas as pd\n",
    "import osmnx as ox\n",
    "import numpy as np\n",
    "import json"
   ]
  },
  {
   "cell_type": "code",
   "execution_count": null,
   "metadata": {},
   "outputs": [],
   "source": [
    "cities_pl = ['Warszawa', 'Kraków', 'Wrocław', 'Poznań', 'Szczecin']\n",
    "\n",
    "all_nodes_pl = pd.DataFrame()\n",
    "all_edges_pl = pd.DataFrame()\n",
    "\n",
    "for city in cities_pl:\n",
    "    G =ox.graph.graph_from_place(f\"{city}, Poland\", network_type=\"drive\", simplify=False)\n",
    "    gdf_nodes, gdf_edges = ox.graph_to_gdfs(G)\n",
    "    all_nodes_pl = pd.concat([all_nodes_pl, gdf_nodes])\n",
    "    all_edges_pl = pd.concat([all_edges_pl, gdf_edges])\n"
   ]
  },
  {
   "cell_type": "code",
   "execution_count": null,
   "metadata": {},
   "outputs": [],
   "source": [
    "cities_usa = ['Seattle', 'New York City']\n",
    "\n",
    "all_nodes_usa = pd.DataFrame()\n",
    "all_edges_usa = pd.DataFrame()\n",
    "\n",
    "for city in cities_usa:\n",
    "    G =ox.graph.graph_from_place(f\"{city}, United States\", network_type=\"drive\", simplify=False)\n",
    "    gdf_nodes, gdf_edges = ox.graph_to_gdfs(G)\n",
    "    all_nodes_usa = pd.concat([all_nodes_usa, gdf_nodes])\n",
    "    all_edges_usa = pd.concat([all_edges_usa, gdf_edges])"
   ]
  },
  {
   "cell_type": "code",
   "execution_count": null,
   "metadata": {},
   "outputs": [],
   "source": [
    "all_attributes = {}\n",
    "for col in ['highway', 'access', 'junction', 'bridge', 'tunnel']:\n",
    "    edges_usa = all_edges_usa[col].dropna().unique()\n",
    "    edges_pl = all_edges_pl[col].dropna().unique()\n",
    "    all_edges = set(np.concatenate((edges_pl, edges_usa)))\n",
    "    all_attributes[f'edges_{col}'] = list(all_edges)\n",
    "\n",
    "     \n",
    "nodes_highway_usa = all_nodes_usa['highway'].dropna().unique()\n",
    "nodes_highway_pl = all_nodes_pl['highway'].dropna().unique()   \n",
    "all_nodes_highway = set(np.concatenate((nodes_highway_pl, nodes_highway_usa)))\n",
    "all_attributes['nodes_highway'] = list(all_nodes_highway)\n",
    "\n",
    "with open('../data/osmnx_attributes.json', 'w') as f:\n",
    "    json.dump(all_attributes, f)\n",
    "    "
   ]
  },
  {
   "cell_type": "code",
   "execution_count": null,
   "metadata": {},
   "outputs": [],
   "source": [
    "# Assuming list1 and list2 are your two lists\n",
    "set([item for item in all_nodes_highway if item not in all_nodes_usa['highway'].dropna().unique()])"
   ]
  }
 ],
 "metadata": {
  "kernelspec": {
   "display_name": "studia_projekt",
   "language": "python",
   "name": "python3"
  },
  "language_info": {
   "codemirror_mode": {
    "name": "ipython",
    "version": 3
   },
   "file_extension": ".py",
   "mimetype": "text/x-python",
   "name": "python",
   "nbconvert_exporter": "python",
   "pygments_lexer": "ipython3",
   "version": "3.8.18"
  }
 },
 "nbformat": 4,
 "nbformat_minor": 2
}
