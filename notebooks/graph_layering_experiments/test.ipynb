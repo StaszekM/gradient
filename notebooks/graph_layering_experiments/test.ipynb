{
 "cells": [
  {
   "metadata": {
    "ExecuteTime": {
     "end_time": "2024-04-18T12:08:06.290351Z",
     "start_time": "2024-04-18T12:08:06.274337Z"
    }
   },
   "cell_type": "code",
   "source": [
    "%load_ext autoreload\n",
    "%autoreload 2"
   ],
   "id": "c19e3f9762e41f45",
   "outputs": [],
   "execution_count": 1
  },
  {
   "metadata": {
    "ExecuteTime": {
     "end_time": "2024-04-18T12:08:07.671382Z",
     "start_time": "2024-04-18T12:08:06.291494Z"
    }
   },
   "cell_type": "code",
   "source": [
    "from src.graph_layering.create_dataframes import create_osmnx_dataframes\n",
    "import geopandas as gpd\n",
    "import os\n"
   ],
   "id": "4c2dc160402baa08",
   "outputs": [],
   "execution_count": 2
  },
  {
   "metadata": {
    "ExecuteTime": {
     "end_time": "2024-04-18T12:08:07.687054Z",
     "start_time": "2024-04-18T12:08:07.672801Z"
    }
   },
   "cell_type": "code",
   "source": [
    "GRAPH_LOCATION = \"/home/staszek/mgr/gradient/gradient/data/wro/wro-map.osm\"\n",
    "ACCIDENTS_LOCATION = \"/home/staszek/mgr/gradient/gradient/data/wypadki-pl/accidents.csv\"\n",
    "ORGANIZED_DATASETS_LOCATION = (\n",
    "    \"/home/staszek/mgr/gradient/gradient/data/organized-datasets\"\n",
    ")"
   ],
   "id": "db07558ec393f0cf",
   "outputs": [],
   "execution_count": 3
  },
  {
   "metadata": {
    "ExecuteTime": {
     "end_time": "2024-04-18T12:08:23.269527Z",
     "start_time": "2024-04-18T12:08:07.687849Z"
    }
   },
   "cell_type": "code",
   "source": [
    "krakow_osmnx_nodes, krakow_osmnx_edges = create_osmnx_dataframes(ACCIDENTS_LOCATION, 'Kraków, Poland')\n",
    "krakow_hexes: gpd.GeoDataFrame = gpd.read_parquet(\n",
    "    os.path.join(\n",
    "        ORGANIZED_DATASETS_LOCATION, \"krakow/2022/h9/count-embedder/dataset.parquet\"\n",
    "    )\n",
    ")\n",
    "\n",
    "wroclaw_osmnx_nodes, wroclaw_osmnx_edges = create_osmnx_dataframes(ACCIDENTS_LOCATION, 'Wrocław, Poland')\n",
    "wroclaw_hexes: gpd.GeoDataFrame = gpd.read_parquet(\n",
    "    os.path.join(\n",
    "        ORGANIZED_DATASETS_LOCATION, \"wroclaw/2022/h9/count-embedder/dataset.parquet\"\n",
    "    )\n",
    ")"
   ],
   "id": "1f0be959b0dca05",
   "outputs": [
    {
     "name": "stderr",
     "output_type": "stream",
     "text": [
      "/home/staszek/mgr/gradient/gradient/env/lib/python3.8/site-packages/sklearn/feature_extraction/text.py:525: UserWarning: The parameter 'token_pattern' will not be used since 'tokenizer' is not None'\n",
      "  warnings.warn(\n",
      "/home/staszek/mgr/gradient/gradient/env/lib/python3.8/site-packages/sklearn/feature_extraction/text.py:525: UserWarning: The parameter 'token_pattern' will not be used since 'tokenizer' is not None'\n",
      "  warnings.warn(\n",
      "/home/staszek/mgr/gradient/gradient/env/lib/python3.8/site-packages/sklearn/feature_extraction/text.py:525: UserWarning: The parameter 'token_pattern' will not be used since 'tokenizer' is not None'\n",
      "  warnings.warn(\n",
      "/home/staszek/mgr/gradient/gradient/env/lib/python3.8/site-packages/sklearn/feature_extraction/text.py:525: UserWarning: The parameter 'token_pattern' will not be used since 'tokenizer' is not None'\n",
      "  warnings.warn(\n",
      "/home/staszek/mgr/gradient/gradient/env/lib/python3.8/site-packages/sklearn/feature_extraction/text.py:525: UserWarning: The parameter 'token_pattern' will not be used since 'tokenizer' is not None'\n",
      "  warnings.warn(\n",
      "/home/staszek/mgr/gradient/gradient/env/lib/python3.8/site-packages/sklearn/feature_extraction/text.py:525: UserWarning: The parameter 'token_pattern' will not be used since 'tokenizer' is not None'\n",
      "  warnings.warn(\n",
      "/home/staszek/mgr/gradient/gradient/env/lib/python3.8/site-packages/sklearn/feature_extraction/text.py:525: UserWarning: The parameter 'token_pattern' will not be used since 'tokenizer' is not None'\n",
      "  warnings.warn(\n",
      "/home/staszek/mgr/gradient/gradient/env/lib/python3.8/site-packages/sklearn/feature_extraction/text.py:525: UserWarning: The parameter 'token_pattern' will not be used since 'tokenizer' is not None'\n",
      "  warnings.warn(\n",
      "/home/staszek/mgr/gradient/gradient/env/lib/python3.8/site-packages/sklearn/feature_extraction/text.py:525: UserWarning: The parameter 'token_pattern' will not be used since 'tokenizer' is not None'\n",
      "  warnings.warn(\n",
      "/home/staszek/mgr/gradient/gradient/env/lib/python3.8/site-packages/sklearn/feature_extraction/text.py:525: UserWarning: The parameter 'token_pattern' will not be used since 'tokenizer' is not None'\n",
      "  warnings.warn(\n",
      "/home/staszek/mgr/gradient/gradient/env/lib/python3.8/site-packages/sklearn/feature_extraction/text.py:525: UserWarning: The parameter 'token_pattern' will not be used since 'tokenizer' is not None'\n",
      "  warnings.warn(\n",
      "/home/staszek/mgr/gradient/gradient/env/lib/python3.8/site-packages/sklearn/feature_extraction/text.py:525: UserWarning: The parameter 'token_pattern' will not be used since 'tokenizer' is not None'\n",
      "  warnings.warn(\n"
     ]
    }
   ],
   "execution_count": 4
  },
  {
   "metadata": {
    "ExecuteTime": {
     "end_time": "2024-04-18T12:08:53.332777Z",
     "start_time": "2024-04-18T12:08:53.271753Z"
    }
   },
   "cell_type": "code",
   "source": [
    "wroclaw_hexes = (\n",
    "    wroclaw_hexes.rename(columns={\"region_id\": \"h3_id\"})\n",
    "    .rename_axis(\"region_id\", axis=0)\n",
    "    .drop(columns=\"accidents_count\")\n",
    ")\n",
    "\n",
    "krakow_hexes = (\n",
    "    krakow_hexes.rename(columns={\"region_id\": \"h3_id\"})\n",
    "    .rename_axis(\"region_id\", axis=0)\n",
    "    .drop(columns=\"accidents_count\")\n",
    ")"
   ],
   "id": "de30c7d7bfce95f3",
   "outputs": [],
   "execution_count": 6
  },
  {
   "metadata": {
    "ExecuteTime": {
     "end_time": "2024-04-18T12:08:56.781926Z",
     "start_time": "2024-04-18T12:08:56.718027Z"
    }
   },
   "cell_type": "code",
   "source": [
    "from src.graph_layering.graph_layer_creator import GraphLayerController\n",
    "\n",
    "wroclaw_layer_controller = GraphLayerController(\n",
    "    hexes_gdf=wroclaw_hexes, osmnx_nodes_gdf=wroclaw_osmnx_nodes, osmnx_edges_gdf=wroclaw_osmnx_edges\n",
    ")\n",
    "krakow_layer_controller = GraphLayerController(\n",
    "    hexes_gdf=krakow_hexes, osmnx_nodes_gdf=krakow_osmnx_nodes, osmnx_edges_gdf=krakow_osmnx_edges\n",
    ")"
   ],
   "id": "c12eae27eee19875",
   "outputs": [
    {
     "name": "stderr",
     "output_type": "stream",
     "text": [
      "/home/staszek/mgr/gradient/gradient/src/graph_layering/graph_layer_creator.py:410: UserWarning: Geometry is in a geographic CRS. Results from 'centroid' are likely incorrect. Use 'GeoSeries.to_crs()' to re-project geometries to a projected CRS before this operation.\n",
      "\n",
      "  self.hexes_gdf.centroid, columns=[\"centroid_geometry\"]\n",
      "/home/staszek/mgr/gradient/gradient/src/graph_layering/graph_layer_creator.py:410: UserWarning: Geometry is in a geographic CRS. Results from 'centroid' are likely incorrect. Use 'GeoSeries.to_crs()' to re-project geometries to a projected CRS before this operation.\n",
      "\n",
      "  self.hexes_gdf.centroid, columns=[\"centroid_geometry\"]\n"
     ]
    }
   ],
   "execution_count": 7
  },
  {
   "metadata": {
    "ExecuteTime": {
     "end_time": "2024-04-18T12:09:17.854145Z",
     "start_time": "2024-04-18T12:09:17.833193Z"
    }
   },
   "cell_type": "code",
   "source": [
    "from src.graph_layering.graph_layer_creator import SourceType\n",
    "from typing import cast\n",
    "import pandas as pd\n",
    "\n",
    "def create_hexes_with_y(\n",
    "        osmnx_nodes: gpd.GeoDataFrame, hexes: gpd.GeoDataFrame, virtual_edges: pd.DataFrame\n",
    ") -> gpd.GeoDataFrame:\n",
    "    return cast(gpd.GeoDataFrame, hexes.merge(\n",
    "        virtual_edges.merge(osmnx_nodes, left_on=\"source_id\", right_index=True)[\n",
    "            [\"region_id\", \"accidents_count\"]\n",
    "        ]\n",
    "        .groupby(\"region_id\")\n",
    "        .sum(),\n",
    "        left_index=True,\n",
    "        right_index=True,\n",
    "        how=\"left\",\n",
    "    ).fillna(\n",
    "        0\n",
    "    ))\n",
    "\n",
    "def patch_hexes_with_accidents_occurred(controller, osmnx_nodes, hexes, ):\n",
    "    virtual_edges = controller.get_virtual_edges_to_hexes(SourceType.OSMNX_NODES)\n",
    "    hexes_with_y = create_hexes_with_y(osmnx_nodes, hexes, virtual_edges)\n",
    "    hexes_with_y[\"accident_occured\"] = (hexes_with_y[\"accidents_count\"] > 0).astype(int)\n",
    "    hexes_with_y.drop(columns=\"accidents_count\", inplace=True)\n",
    "    controller.hexes_gdf = hexes_with_y\n",
    "    controller._hexes_centroids_gdf = controller._create_hexes_centroids_gdf()"
   ],
   "id": "4c7a8ce7cc0ff308",
   "outputs": [],
   "execution_count": 9
  },
  {
   "metadata": {
    "ExecuteTime": {
     "end_time": "2024-04-18T12:09:21.365207Z",
     "start_time": "2024-04-18T12:09:21.214676Z"
    }
   },
   "cell_type": "code",
   "source": [
    "patch_hexes_with_accidents_occurred(wroclaw_layer_controller, wroclaw_osmnx_nodes, wroclaw_hexes)\n",
    "patch_hexes_with_accidents_occurred(krakow_layer_controller, krakow_osmnx_nodes, krakow_hexes)"
   ],
   "id": "6b56d280707a7a65",
   "outputs": [
    {
     "name": "stderr",
     "output_type": "stream",
     "text": [
      "/home/staszek/mgr/gradient/gradient/src/graph_layering/graph_layer_creator.py:410: UserWarning: Geometry is in a geographic CRS. Results from 'centroid' are likely incorrect. Use 'GeoSeries.to_crs()' to re-project geometries to a projected CRS before this operation.\n",
      "\n",
      "  self.hexes_gdf.centroid, columns=[\"centroid_geometry\"]\n",
      "/home/staszek/mgr/gradient/gradient/src/graph_layering/graph_layer_creator.py:410: UserWarning: Geometry is in a geographic CRS. Results from 'centroid' are likely incorrect. Use 'GeoSeries.to_crs()' to re-project geometries to a projected CRS before this operation.\n",
      "\n",
      "  self.hexes_gdf.centroid, columns=[\"centroid_geometry\"]\n"
     ]
    }
   ],
   "execution_count": 10
  },
  {
   "metadata": {
    "ExecuteTime": {
     "end_time": "2024-04-18T12:15:10.664929Z",
     "start_time": "2024-04-18T12:15:10.404625Z"
    }
   },
   "cell_type": "code",
   "source": [
    "from src.graph_layering.hetero_data import create_hetero_data\n",
    "\n",
    "\n",
    "def create_city_hetero_data(osmnx_nodes, osmnx_edges, hexes, controller):\n",
    "    edges_attr_columns = osmnx_edges.columns[\n",
    "        ~osmnx_edges.columns.isin([\"u\", \"v\", \"key\", \"geometry\"])\n",
    "    ]\n",
    "    nodes_attr_columns = osmnx_nodes.columns[\n",
    "        ~osmnx_nodes.columns.isin([\"geometry\", \"x\", \"y\", \"osmid\", \"accidents_count\"])\n",
    "    ]\n",
    "    hexes_attr_columns = hexes.columns[~hexes.columns.isin([\"geometry\", \"h3_id\"])]\n",
    "    \n",
    "    return create_hetero_data(\n",
    "        controller,\n",
    "        hexes_attrs_columns_names=hexes_attr_columns,\n",
    "        osmnx_edge_attrs_columns_names=edges_attr_columns,\n",
    "        osmnx_node_attrs_columns_names=nodes_attr_columns,\n",
    "        virtual_edge_attrs_columns_names=[],\n",
    "        hexes_y_columns_names=[\"accident_occured\"],\n",
    "    )\n",
    "\n",
    "wroclaw_hetero_data = create_city_hetero_data(wroclaw_osmnx_nodes, wroclaw_osmnx_edges, wroclaw_hexes, wroclaw_layer_controller)"
   ],
   "id": "fcb4ae56e2202728",
   "outputs": [],
   "execution_count": 13
  },
  {
   "metadata": {
    "ExecuteTime": {
     "end_time": "2024-04-18T12:53:59.099481Z",
     "start_time": "2024-04-18T12:53:59.068599Z"
    }
   },
   "cell_type": "code",
   "source": [
    "a = (wroclaw_osmnx_nodes.loc[:, wroclaw_osmnx_nodes.columns != 'geometry'])\n",
    "a[(a.street_count > 0) & (a.crossing > 0) & (a.crossing > 0)].loc[34:35]"
   ],
   "id": "d13279c88c8045da",
   "outputs": [
    {
     "data": {
      "text/plain": [
       "             osmid  street_count  crossing  give_way  mini_roundabout  \\\n",
       "node_id                                                                 \n",
       "34       150597406             3         1         0                0   \n",
       "\n",
       "         motorway_junction  traffic_signals  turning_circle  accidents_count  \\\n",
       "node_id                                                                        \n",
       "34                       0                0               0                0   \n",
       "\n",
       "                 x          y  \n",
       "node_id                        \n",
       "34       16.977864  51.092384  "
      ],
      "text/html": [
       "<div>\n",
       "<style scoped>\n",
       "    .dataframe tbody tr th:only-of-type {\n",
       "        vertical-align: middle;\n",
       "    }\n",
       "\n",
       "    .dataframe tbody tr th {\n",
       "        vertical-align: top;\n",
       "    }\n",
       "\n",
       "    .dataframe thead th {\n",
       "        text-align: right;\n",
       "    }\n",
       "</style>\n",
       "<table border=\"1\" class=\"dataframe\">\n",
       "  <thead>\n",
       "    <tr style=\"text-align: right;\">\n",
       "      <th></th>\n",
       "      <th>osmid</th>\n",
       "      <th>street_count</th>\n",
       "      <th>crossing</th>\n",
       "      <th>give_way</th>\n",
       "      <th>mini_roundabout</th>\n",
       "      <th>motorway_junction</th>\n",
       "      <th>traffic_signals</th>\n",
       "      <th>turning_circle</th>\n",
       "      <th>accidents_count</th>\n",
       "      <th>x</th>\n",
       "      <th>y</th>\n",
       "    </tr>\n",
       "    <tr>\n",
       "      <th>node_id</th>\n",
       "      <th></th>\n",
       "      <th></th>\n",
       "      <th></th>\n",
       "      <th></th>\n",
       "      <th></th>\n",
       "      <th></th>\n",
       "      <th></th>\n",
       "      <th></th>\n",
       "      <th></th>\n",
       "      <th></th>\n",
       "      <th></th>\n",
       "    </tr>\n",
       "  </thead>\n",
       "  <tbody>\n",
       "    <tr>\n",
       "      <th>34</th>\n",
       "      <td>150597406</td>\n",
       "      <td>3</td>\n",
       "      <td>1</td>\n",
       "      <td>0</td>\n",
       "      <td>0</td>\n",
       "      <td>0</td>\n",
       "      <td>0</td>\n",
       "      <td>0</td>\n",
       "      <td>0</td>\n",
       "      <td>16.977864</td>\n",
       "      <td>51.092384</td>\n",
       "    </tr>\n",
       "  </tbody>\n",
       "</table>\n",
       "</div>"
      ]
     },
     "execution_count": 52,
     "metadata": {},
     "output_type": "execute_result"
    }
   ],
   "execution_count": 52
  },
  {
   "metadata": {
    "ExecuteTime": {
     "end_time": "2024-04-18T12:53:48.297032Z",
     "start_time": "2024-04-18T12:53:48.267747Z"
    }
   },
   "cell_type": "code",
   "source": [
    "display(wroclaw_hetero_data['osmnx_node'].x[34])\n",
    "display(wroclaw_osmnx_nodes.iloc[34:35])"
   ],
   "id": "51f511fe9acd5033",
   "outputs": [
    {
     "data": {
      "text/plain": [
       "tensor([3., 1., 0., 0., 0., 0., 0.])"
      ]
     },
     "metadata": {},
     "output_type": "display_data"
    },
    {
     "data": {
      "text/plain": [
       "             osmid  street_count  crossing  give_way  mini_roundabout  \\\n",
       "node_id                                                                 \n",
       "34       150597406             3         1         0                0   \n",
       "\n",
       "         motorway_junction  traffic_signals  turning_circle  accidents_count  \\\n",
       "node_id                                                                        \n",
       "34                       0                0               0                0   \n",
       "\n",
       "                          geometry          x          y  \n",
       "node_id                                                   \n",
       "34       POINT (16.97786 51.09238)  16.977864  51.092384  "
      ],
      "text/html": [
       "<div>\n",
       "<style scoped>\n",
       "    .dataframe tbody tr th:only-of-type {\n",
       "        vertical-align: middle;\n",
       "    }\n",
       "\n",
       "    .dataframe tbody tr th {\n",
       "        vertical-align: top;\n",
       "    }\n",
       "\n",
       "    .dataframe thead th {\n",
       "        text-align: right;\n",
       "    }\n",
       "</style>\n",
       "<table border=\"1\" class=\"dataframe\">\n",
       "  <thead>\n",
       "    <tr style=\"text-align: right;\">\n",
       "      <th></th>\n",
       "      <th>osmid</th>\n",
       "      <th>street_count</th>\n",
       "      <th>crossing</th>\n",
       "      <th>give_way</th>\n",
       "      <th>mini_roundabout</th>\n",
       "      <th>motorway_junction</th>\n",
       "      <th>traffic_signals</th>\n",
       "      <th>turning_circle</th>\n",
       "      <th>accidents_count</th>\n",
       "      <th>geometry</th>\n",
       "      <th>x</th>\n",
       "      <th>y</th>\n",
       "    </tr>\n",
       "    <tr>\n",
       "      <th>node_id</th>\n",
       "      <th></th>\n",
       "      <th></th>\n",
       "      <th></th>\n",
       "      <th></th>\n",
       "      <th></th>\n",
       "      <th></th>\n",
       "      <th></th>\n",
       "      <th></th>\n",
       "      <th></th>\n",
       "      <th></th>\n",
       "      <th></th>\n",
       "      <th></th>\n",
       "    </tr>\n",
       "  </thead>\n",
       "  <tbody>\n",
       "    <tr>\n",
       "      <th>34</th>\n",
       "      <td>150597406</td>\n",
       "      <td>3</td>\n",
       "      <td>1</td>\n",
       "      <td>0</td>\n",
       "      <td>0</td>\n",
       "      <td>0</td>\n",
       "      <td>0</td>\n",
       "      <td>0</td>\n",
       "      <td>0</td>\n",
       "      <td>POINT (16.97786 51.09238)</td>\n",
       "      <td>16.977864</td>\n",
       "      <td>51.092384</td>\n",
       "    </tr>\n",
       "  </tbody>\n",
       "</table>\n",
       "</div>"
      ]
     },
     "metadata": {},
     "output_type": "display_data"
    }
   ],
   "execution_count": 50
  },
  {
   "metadata": {
    "ExecuteTime": {
     "end_time": "2024-04-18T12:55:22.457258Z",
     "start_time": "2024-04-18T12:55:22.430877Z"
    }
   },
   "cell_type": "code",
   "source": [
    "from torch_geometric.loader import DataLoader\n",
    "\n",
    "loader = DataLoader([wroclaw_hetero_data], batch_size=16, shuffle=True)"
   ],
   "id": "e489a5a45f6a7d52",
   "outputs": [],
   "execution_count": 55
  },
  {
   "metadata": {
    "ExecuteTime": {
     "end_time": "2024-04-18T13:00:53.523692Z",
     "start_time": "2024-04-18T13:00:53.489207Z"
    }
   },
   "cell_type": "code",
   "source": [
    "sample = next(iter(loader))\n",
    "loader.dataset"
   ],
   "id": "2baa2e031ce986b1",
   "outputs": [
    {
     "data": {
      "text/plain": [
       "[HeteroData(\n",
       "   hex={\n",
       "     x=[3168, 798],\n",
       "     y=[3168, 1],\n",
       "   },\n",
       "   osmnx_node={ x=[7220, 7] },\n",
       "   (hex, connected_to, hex)={ edge_index=[2, 9206] },\n",
       "   (osmnx_node, connected_to, osmnx_node)={\n",
       "     edge_index=[2, 17004],\n",
       "     edge_attr=[17004, 33],\n",
       "   },\n",
       "   (osmnx_node, connected_to, hex)={\n",
       "     edge_index=[2, 7220],\n",
       "     edge_attr=[7220, 0],\n",
       "   }\n",
       " )]"
      ]
     },
     "execution_count": 71,
     "metadata": {},
     "output_type": "execute_result"
    }
   ],
   "execution_count": 71
  }
 ],
 "metadata": {
  "kernelspec": {
   "display_name": "Python 3",
   "language": "python",
   "name": "python3"
  },
  "language_info": {
   "codemirror_mode": {
    "name": "ipython",
    "version": 2
   },
   "file_extension": ".py",
   "mimetype": "text/x-python",
   "name": "python",
   "nbconvert_exporter": "python",
   "pygments_lexer": "ipython2",
   "version": "2.7.6"
  }
 },
 "nbformat": 4,
 "nbformat_minor": 5
}
