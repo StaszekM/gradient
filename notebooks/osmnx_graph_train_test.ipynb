{
 "cells": [
  {
   "cell_type": "code",
   "execution_count": 1,
   "metadata": {},
   "outputs": [],
   "source": [
    "import pandas as pd\n",
    "import geopandas as gpd\n",
    "import osmnx as ox\n",
    "import sys\n",
    "sys.path.append('../.') \n",
    "from src.graph.create_osmnx_graph import OSMnxGraph\n",
    "import numpy as np\n",
    "import matplotlib.pyplot as plt\n",
    "%load_ext autoreload\n",
    "%autoreload 2\n",
    "import networkx as nx\n",
    "%reload_ext autoreload\n",
    "from src.baseline_models.GCN.supervised_node_classification import SupervisedNodeClassificationGNN\n",
    "from src.baseline_models.GCN.gcn import GCNModel\n",
    "import torch\n",
    "from sklearn.model_selection import train_test_split\n",
    "import pytorch_lightning as pl\n",
    "from src.baseline_models.GCN.GraphData import GraphData\n",
    "import warnings\n",
    "warnings.filterwarnings('ignore')\n",
    "from shapely.geometry import Point"
   ],
   "outputs": []
  },
  {
   "cell_type": "markdown",
   "metadata": {},
   "source": [
    "# Wczytanie danych"
   ]
  },
  {
   "cell_type": "code",
   "execution_count": 2,
   "metadata": {},
   "outputs": [
    {
     "data": {
      "text/html": [
       "<div>\n",
       "<style scoped>\n",
       "    .dataframe tbody tr th:only-of-type {\n",
       "        vertical-align: middle;\n",
       "    }\n",
       "\n",
       "    .dataframe tbody tr th {\n",
       "        vertical-align: top;\n",
       "    }\n",
       "\n",
       "    .dataframe thead th {\n",
       "        text-align: right;\n",
       "    }\n",
       "</style>\n",
       "<table border=\"1\" class=\"dataframe\">\n",
       "  <thead>\n",
       "    <tr style=\"text-align: right;\">\n",
       "      <th></th>\n",
       "      <th>y</th>\n",
       "      <th>x</th>\n",
       "      <th>street_count</th>\n",
       "      <th>highway</th>\n",
       "      <th>ref</th>\n",
       "      <th>geometry</th>\n",
       "    </tr>\n",
       "    <tr>\n",
       "      <th>osmid</th>\n",
       "      <th></th>\n",
       "      <th></th>\n",
       "      <th></th>\n",
       "      <th></th>\n",
       "      <th></th>\n",
       "      <th></th>\n",
       "    </tr>\n",
       "  </thead>\n",
       "  <tbody>\n",
       "    <tr>\n",
       "      <th>26063726</th>\n",
       "      <td>52.152787</td>\n",
       "      <td>21.017454</td>\n",
       "      <td>5</td>\n",
       "      <td>NaN</td>\n",
       "      <td>NaN</td>\n",
       "      <td>POINT (21.01745 52.15279)</td>\n",
       "    </tr>\n",
       "    <tr>\n",
       "      <th>26063729</th>\n",
       "      <td>52.142444</td>\n",
       "      <td>21.017666</td>\n",
       "      <td>2</td>\n",
       "      <td>NaN</td>\n",
       "      <td>NaN</td>\n",
       "      <td>POINT (21.01767 52.14244)</td>\n",
       "    </tr>\n",
       "    <tr>\n",
       "      <th>26063848</th>\n",
       "      <td>52.157570</td>\n",
       "      <td>20.991392</td>\n",
       "      <td>4</td>\n",
       "      <td>NaN</td>\n",
       "      <td>NaN</td>\n",
       "      <td>POINT (20.99139 52.15757)</td>\n",
       "    </tr>\n",
       "    <tr>\n",
       "      <th>26063849</th>\n",
       "      <td>52.158084</td>\n",
       "      <td>20.992016</td>\n",
       "      <td>2</td>\n",
       "      <td>NaN</td>\n",
       "      <td>NaN</td>\n",
       "      <td>POINT (20.99202 52.15808)</td>\n",
       "    </tr>\n",
       "    <tr>\n",
       "      <th>26063850</th>\n",
       "      <td>52.158472</td>\n",
       "      <td>20.992195</td>\n",
       "      <td>2</td>\n",
       "      <td>NaN</td>\n",
       "      <td>NaN</td>\n",
       "      <td>POINT (20.99219 52.15847)</td>\n",
       "    </tr>\n",
       "    <tr>\n",
       "      <th>...</th>\n",
       "      <td>...</td>\n",
       "      <td>...</td>\n",
       "      <td>...</td>\n",
       "      <td>...</td>\n",
       "      <td>...</td>\n",
       "      <td>...</td>\n",
       "    </tr>\n",
       "    <tr>\n",
       "      <th>11795306927</th>\n",
       "      <td>52.284441</td>\n",
       "      <td>21.052049</td>\n",
       "      <td>2</td>\n",
       "      <td>NaN</td>\n",
       "      <td>NaN</td>\n",
       "      <td>POINT (21.05205 52.28444)</td>\n",
       "    </tr>\n",
       "    <tr>\n",
       "      <th>11795306928</th>\n",
       "      <td>52.284429</td>\n",
       "      <td>21.052054</td>\n",
       "      <td>2</td>\n",
       "      <td>NaN</td>\n",
       "      <td>NaN</td>\n",
       "      <td>POINT (21.05205 52.28443)</td>\n",
       "    </tr>\n",
       "    <tr>\n",
       "      <th>11795306929</th>\n",
       "      <td>52.284408</td>\n",
       "      <td>21.052071</td>\n",
       "      <td>2</td>\n",
       "      <td>NaN</td>\n",
       "      <td>NaN</td>\n",
       "      <td>POINT (21.05207 52.28441)</td>\n",
       "    </tr>\n",
       "    <tr>\n",
       "      <th>11795306937</th>\n",
       "      <td>52.284358</td>\n",
       "      <td>21.052339</td>\n",
       "      <td>2</td>\n",
       "      <td>NaN</td>\n",
       "      <td>NaN</td>\n",
       "      <td>POINT (21.05234 52.28436)</td>\n",
       "    </tr>\n",
       "    <tr>\n",
       "      <th>11795306945</th>\n",
       "      <td>52.285288</td>\n",
       "      <td>21.052821</td>\n",
       "      <td>2</td>\n",
       "      <td>NaN</td>\n",
       "      <td>NaN</td>\n",
       "      <td>POINT (21.05282 52.28529)</td>\n",
       "    </tr>\n",
       "  </tbody>\n",
       "</table>\n",
       "<p>152178 rows × 6 columns</p>\n",
       "</div>"
      ],
      "text/plain": [
       "                     y          x  street_count highway  ref  \\\n",
       "osmid                                                          \n",
       "26063726     52.152787  21.017454             5     NaN  NaN   \n",
       "26063729     52.142444  21.017666             2     NaN  NaN   \n",
       "26063848     52.157570  20.991392             4     NaN  NaN   \n",
       "26063849     52.158084  20.992016             2     NaN  NaN   \n",
       "26063850     52.158472  20.992195             2     NaN  NaN   \n",
       "...                ...        ...           ...     ...  ...   \n",
       "11795306927  52.284441  21.052049             2     NaN  NaN   \n",
       "11795306928  52.284429  21.052054             2     NaN  NaN   \n",
       "11795306929  52.284408  21.052071             2     NaN  NaN   \n",
       "11795306937  52.284358  21.052339             2     NaN  NaN   \n",
       "11795306945  52.285288  21.052821             2     NaN  NaN   \n",
       "\n",
       "                              geometry  \n",
       "osmid                                   \n",
       "26063726     POINT (21.01745 52.15279)  \n",
       "26063729     POINT (21.01767 52.14244)  \n",
       "26063848     POINT (20.99139 52.15757)  \n",
       "26063849     POINT (20.99202 52.15808)  \n",
       "26063850     POINT (20.99219 52.15847)  \n",
       "...                                ...  \n",
       "11795306927  POINT (21.05205 52.28444)  \n",
       "11795306928  POINT (21.05205 52.28443)  \n",
       "11795306929  POINT (21.05207 52.28441)  \n",
       "11795306937  POINT (21.05234 52.28436)  \n",
       "11795306945  POINT (21.05282 52.28529)  \n",
       "\n",
       "[152178 rows x 6 columns]"
      ]
     },
     "execution_count": 2,
     "metadata": {},
     "output_type": "execute_result"
    }
   ],
   "source": [
    "df_accidents = pd.read_csv(\"../data/wypadki-pl/accidents.csv\")\n",
    "df_accidents.drop(df_accidents[(df_accidents['mie_nazwa'] != 'Warszawa')].index, inplace=True)\n",
    "df_accidents.drop(columns='uczestnicy', inplace=True)\n",
    "geometry = [Point(xy) for xy in zip(df_accidents['wsp_gps_x'], df_accidents['wsp_gps_y'])]\n",
    "gdf_accidents = gpd.GeoDataFrame(df_accidents, geometry=geometry)\n",
    "gdf_accidents.drop(columns=['wsp_gps_x', 'wsp_gps_y'], inplace=True)\n",
    "G =ox.graph.graph_from_place(\"Warsaw, Poland\", network_type=\"drive\", simplify=False)\n",
    "gdf_nodes, gdf_edges = ox.graph_to_gdfs(G)\n",
    "gdf_nodes"
   ],
   "outputs": []
  },
  {
   "cell_type": "code",
   "execution_count": 3,
   "metadata": {},
   "outputs": [
    {
     "data": {
      "text/html": [
       "<div>\n",
       "<style scoped>\n",
       "    .dataframe tbody tr th:only-of-type {\n",
       "        vertical-align: middle;\n",
       "    }\n",
       "\n",
       "    .dataframe tbody tr th {\n",
       "        vertical-align: top;\n",
       "    }\n",
       "\n",
       "    .dataframe thead th {\n",
       "        text-align: right;\n",
       "    }\n",
       "</style>\n",
       "<table border=\"1\" class=\"dataframe\">\n",
       "  <thead>\n",
       "    <tr style=\"text-align: right;\">\n",
       "      <th></th>\n",
       "      <th></th>\n",
       "      <th></th>\n",
       "      <th>osmid</th>\n",
       "      <th>oneway</th>\n",
       "      <th>lanes</th>\n",
       "      <th>name</th>\n",
       "      <th>highway</th>\n",
       "      <th>reversed</th>\n",
       "      <th>length</th>\n",
       "      <th>maxspeed</th>\n",
       "      <th>access</th>\n",
       "      <th>junction</th>\n",
       "      <th>bridge</th>\n",
       "      <th>ref</th>\n",
       "      <th>width</th>\n",
       "      <th>tunnel</th>\n",
       "      <th>geometry</th>\n",
       "    </tr>\n",
       "    <tr>\n",
       "      <th>u</th>\n",
       "      <th>v</th>\n",
       "      <th>key</th>\n",
       "      <th></th>\n",
       "      <th></th>\n",
       "      <th></th>\n",
       "      <th></th>\n",
       "      <th></th>\n",
       "      <th></th>\n",
       "      <th></th>\n",
       "      <th></th>\n",
       "      <th></th>\n",
       "      <th></th>\n",
       "      <th></th>\n",
       "      <th></th>\n",
       "      <th></th>\n",
       "      <th></th>\n",
       "      <th></th>\n",
       "    </tr>\n",
       "  </thead>\n",
       "  <tbody>\n",
       "    <tr>\n",
       "      <th rowspan=\"2\" valign=\"top\">26063726</th>\n",
       "      <th>31717945</th>\n",
       "      <th>0</th>\n",
       "      <td>4895484</td>\n",
       "      <td>True</td>\n",
       "      <td>4</td>\n",
       "      <td>Poleczki</td>\n",
       "      <td>secondary</td>\n",
       "      <td>False</td>\n",
       "      <td>25.021</td>\n",
       "      <td>NaN</td>\n",
       "      <td>NaN</td>\n",
       "      <td>NaN</td>\n",
       "      <td>NaN</td>\n",
       "      <td>NaN</td>\n",
       "      <td>NaN</td>\n",
       "      <td>NaN</td>\n",
       "      <td>LINESTRING (21.01745 52.15279, 21.01780 52.15271)</td>\n",
       "    </tr>\n",
       "    <tr>\n",
       "      <th>270313043</th>\n",
       "      <th>0</th>\n",
       "      <td>1007148203</td>\n",
       "      <td>True</td>\n",
       "      <td>4</td>\n",
       "      <td>Puławska</td>\n",
       "      <td>primary</td>\n",
       "      <td>False</td>\n",
       "      <td>26.031</td>\n",
       "      <td>60</td>\n",
       "      <td>NaN</td>\n",
       "      <td>NaN</td>\n",
       "      <td>NaN</td>\n",
       "      <td>NaN</td>\n",
       "      <td>NaN</td>\n",
       "      <td>NaN</td>\n",
       "      <td>LINESTRING (21.01745 52.15279, 21.01745 52.15255)</td>\n",
       "    </tr>\n",
       "    <tr>\n",
       "      <th>26063729</th>\n",
       "      <th>2382490050</th>\n",
       "      <th>0</th>\n",
       "      <td>148749609</td>\n",
       "      <td>True</td>\n",
       "      <td>3</td>\n",
       "      <td>Puławska</td>\n",
       "      <td>primary</td>\n",
       "      <td>False</td>\n",
       "      <td>38.496</td>\n",
       "      <td>60</td>\n",
       "      <td>NaN</td>\n",
       "      <td>NaN</td>\n",
       "      <td>NaN</td>\n",
       "      <td>NaN</td>\n",
       "      <td>NaN</td>\n",
       "      <td>NaN</td>\n",
       "      <td>LINESTRING (21.01767 52.14244, 21.01767 52.14210)</td>\n",
       "    </tr>\n",
       "    <tr>\n",
       "      <th rowspan=\"2\" valign=\"top\">26063848</th>\n",
       "      <th>8043122320</th>\n",
       "      <th>0</th>\n",
       "      <td>13982288</td>\n",
       "      <td>False</td>\n",
       "      <td>NaN</td>\n",
       "      <td>Wyczółki</td>\n",
       "      <td>residential</td>\n",
       "      <td>True</td>\n",
       "      <td>7.267</td>\n",
       "      <td>NaN</td>\n",
       "      <td>NaN</td>\n",
       "      <td>NaN</td>\n",
       "      <td>NaN</td>\n",
       "      <td>NaN</td>\n",
       "      <td>NaN</td>\n",
       "      <td>NaN</td>\n",
       "      <td>LINESTRING (20.99139 52.15757, 20.99129 52.15759)</td>\n",
       "    </tr>\n",
       "    <tr>\n",
       "      <th>1268494441</th>\n",
       "      <th>0</th>\n",
       "      <td>23853023</td>\n",
       "      <td>False</td>\n",
       "      <td>2</td>\n",
       "      <td>Zatorze</td>\n",
       "      <td>tertiary</td>\n",
       "      <td>False</td>\n",
       "      <td>11.010</td>\n",
       "      <td>NaN</td>\n",
       "      <td>NaN</td>\n",
       "      <td>NaN</td>\n",
       "      <td>NaN</td>\n",
       "      <td>NaN</td>\n",
       "      <td>NaN</td>\n",
       "      <td>NaN</td>\n",
       "      <td>LINESTRING (20.99139 52.15757, 20.99127 52.15751)</td>\n",
       "    </tr>\n",
       "    <tr>\n",
       "      <th>...</th>\n",
       "      <th>...</th>\n",
       "      <th>...</th>\n",
       "      <td>...</td>\n",
       "      <td>...</td>\n",
       "      <td>...</td>\n",
       "      <td>...</td>\n",
       "      <td>...</td>\n",
       "      <td>...</td>\n",
       "      <td>...</td>\n",
       "      <td>...</td>\n",
       "      <td>...</td>\n",
       "      <td>...</td>\n",
       "      <td>...</td>\n",
       "      <td>...</td>\n",
       "      <td>...</td>\n",
       "      <td>...</td>\n",
       "      <td>...</td>\n",
       "    </tr>\n",
       "    <tr>\n",
       "      <th>11795306929</th>\n",
       "      <th>11795306922</th>\n",
       "      <th>0</th>\n",
       "      <td>1270353669</td>\n",
       "      <td>False</td>\n",
       "      <td>NaN</td>\n",
       "      <td>NaN</td>\n",
       "      <td>living_street</td>\n",
       "      <td>True</td>\n",
       "      <td>1.361</td>\n",
       "      <td>20</td>\n",
       "      <td>NaN</td>\n",
       "      <td>NaN</td>\n",
       "      <td>NaN</td>\n",
       "      <td>NaN</td>\n",
       "      <td>NaN</td>\n",
       "      <td>NaN</td>\n",
       "      <td>LINESTRING (21.05207 52.28441, 21.05206 52.28442)</td>\n",
       "    </tr>\n",
       "    <tr>\n",
       "      <th rowspan=\"2\" valign=\"top\">11795306937</th>\n",
       "      <th>11795306892</th>\n",
       "      <th>0</th>\n",
       "      <td>1270353667</td>\n",
       "      <td>False</td>\n",
       "      <td>NaN</td>\n",
       "      <td>NaN</td>\n",
       "      <td>living_street</td>\n",
       "      <td>False</td>\n",
       "      <td>7.371</td>\n",
       "      <td>20</td>\n",
       "      <td>NaN</td>\n",
       "      <td>NaN</td>\n",
       "      <td>NaN</td>\n",
       "      <td>NaN</td>\n",
       "      <td>NaN</td>\n",
       "      <td>NaN</td>\n",
       "      <td>LINESTRING (21.05234 52.28436, 21.05244 52.28434)</td>\n",
       "    </tr>\n",
       "    <tr>\n",
       "      <th>11795306891</th>\n",
       "      <th>0</th>\n",
       "      <td>1270353667</td>\n",
       "      <td>False</td>\n",
       "      <td>NaN</td>\n",
       "      <td>NaN</td>\n",
       "      <td>living_street</td>\n",
       "      <td>True</td>\n",
       "      <td>8.724</td>\n",
       "      <td>20</td>\n",
       "      <td>NaN</td>\n",
       "      <td>NaN</td>\n",
       "      <td>NaN</td>\n",
       "      <td>NaN</td>\n",
       "      <td>NaN</td>\n",
       "      <td>NaN</td>\n",
       "      <td>LINESTRING (21.05234 52.28436, 21.05222 52.28438)</td>\n",
       "    </tr>\n",
       "    <tr>\n",
       "      <th rowspan=\"2\" valign=\"top\">11795306945</th>\n",
       "      <th>11795303552</th>\n",
       "      <th>0</th>\n",
       "      <td>1202254926</td>\n",
       "      <td>False</td>\n",
       "      <td>2</td>\n",
       "      <td>Krasiczyńska</td>\n",
       "      <td>residential</td>\n",
       "      <td>False</td>\n",
       "      <td>48.408</td>\n",
       "      <td>30</td>\n",
       "      <td>LINESTRING (21.04604 52.29773, 21.04596 52.297...</td>\n",
       "      <td>NaN</td>\n",
       "      <td>NaN</td>\n",
       "      <td>residential</td>\n",
       "      <td>False</td>\n",
       "      <td>28.909</td>\n",
       "      <td>30</td>\n",
       "      <td>NaN</td>\n",
       "      <td>NaN</td>\n",
       "      <td>NaN</td>\n",
       "      <td>NaN</td>\n",
       "      <td>NaN</td>\n",
       "      <td>NaN</td>\n",
       "      <td>LINESTRING (21.05282 52.28529, 21.05277 52.28503)</td>\n",
       "    </tr>\n",
       "    <tr>\n",
       "      <th>11795306883</th>\n",
       "      <th>0</th>\n",
       "      <td>1202254926</td>\n",
       "      <td>False</td>\n",
       "      <td>NaN</td>\n",
       "      <td>NaN</td>\n",
       "      <td>residential</td>\n",
       "      <td>True</td>\n",
       "      <td>9.111</td>\n",
       "      <td>30</td>\n",
       "      <td>NaN</td>\n",
       "      <td>NaN</td>\n",
       "      <td>NaN</td>\n",
       "      <td>NaN</td>\n",
       "      <td>NaN</td>\n",
       "      <td>NaN</td>\n",
       "      <td>LINESTRING (21.05282 52.28529, 21.05284 52.28537)</td>\n",
       "    </tr>\n",
       "  </tbody>\n",
       "</table>\n",
       "<p>256070 rows × 15 columns</p>\n",
       "</div>"
      ],
      "text/plain": [
       "                                  osmid  oneway lanes      name  \\\n",
       "u           v           key                                       \n",
       "26063726    31717945    0       4895484    True     4  Poleczki   \n",
       "            270313043   0    1007148203    True     4  Puławska   \n",
       "26063729    2382490050  0     148749609    True     3  Puławska   \n",
       "26063848    8043122320  0      13982288   False   NaN  Wyczółki   \n",
       "            1268494441  0      23853023   False     2   Zatorze   \n",
       "...                                 ...     ...   ...       ...   \n",
       "11795306929 11795306922 0    1270353669   False   NaN       NaN   \n",
       "11795306937 11795306892 0    1270353667   False   NaN       NaN   \n",
       "            11795306891 0    1270353667   False   NaN       NaN   \n",
       "11795306945 11795303552 0    1202254926   False   NaN       NaN   \n",
       "            11795306883 0    1202254926   False   NaN       NaN   \n",
       "\n",
       "                                   highway  reversed  length maxspeed access  \\\n",
       "u           v           key                                                    \n",
       "26063726    31717945    0        secondary     False  25.021      NaN    NaN   \n",
       "            270313043   0          primary     False  26.031       60    NaN   \n",
       "26063729    2382490050  0          primary     False  38.496       60    NaN   \n",
       "26063848    8043122320  0      residential      True   7.267      NaN    NaN   \n",
       "            1268494441  0         tertiary     False  11.010      NaN    NaN   \n",
       "...                                    ...       ...     ...      ...    ...   \n",
       "11795306929 11795306922 0    living_street      True   1.361       20    NaN   \n",
       "11795306937 11795306892 0    living_street     False   7.371       20    NaN   \n",
       "            11795306891 0    living_street      True   8.724       20    NaN   \n",
       "11795306945 11795303552 0      residential     False  28.909       30    NaN   \n",
       "            11795306883 0      residential      True   9.111       30    NaN   \n",
       "\n",
       "                            junction bridge  ref width tunnel  \\\n",
       "u           v           key                                     \n",
       "26063726    31717945    0        NaN    NaN  NaN   NaN    NaN   \n",
       "            270313043   0        NaN    NaN  NaN   NaN    NaN   \n",
       "26063729    2382490050  0        NaN    NaN  NaN   NaN    NaN   \n",
       "26063848    8043122320  0        NaN    NaN  NaN   NaN    NaN   \n",
       "            1268494441  0        NaN    NaN  NaN   NaN    NaN   \n",
       "...                              ...    ...  ...   ...    ...   \n",
       "11795306929 11795306922 0        NaN    NaN  NaN   NaN    NaN   \n",
       "11795306937 11795306892 0        NaN    NaN  NaN   NaN    NaN   \n",
       "            11795306891 0        NaN    NaN  NaN   NaN    NaN   \n",
       "11795306945 11795303552 0        NaN    NaN  NaN   NaN    NaN   \n",
       "            11795306883 0        NaN    NaN  NaN   NaN    NaN   \n",
       "\n",
       "                                                                      geometry  \n",
       "u           v           key                                                     \n",
       "26063726    31717945    0    LINESTRING (21.01745 52.15279, 21.01780 52.15271)  \n",
       "            270313043   0    LINESTRING (21.01745 52.15279, 21.01745 52.15255)  \n",
       "26063729    2382490050  0    LINESTRING (21.01767 52.14244, 21.01767 52.14210)  \n",
       "26063848    8043122320  0    LINESTRING (20.99139 52.15757, 20.99129 52.15759)  \n",
       "            1268494441  0    LINESTRING (20.99139 52.15757, 20.99127 52.15751)  \n",
       "...                                                                        ...  \n",
       "11795306929 11795306922 0    LINESTRING (21.05207 52.28441, 21.05206 52.28442)  \n",
       "11795306937 11795306892 0    LINESTRING (21.05234 52.28436, 21.05244 52.28434)  \n",
       "            11795306891 0    LINESTRING (21.05234 52.28436, 21.05222 52.28438)  \n",
       "11795306945 11795303552 0    LINESTRING (21.05282 52.28529, 21.05277 52.28503)  \n",
       "            11795306883 0    LINESTRING (21.05282 52.28529, 21.05284 52.28537)  \n",
       "\n",
       "[256070 rows x 15 columns]"
      ]
     },
     "execution_count": 3,
     "metadata": {},
     "output_type": "execute_result"
    }
   ],
   "source": [
    "gdf_edges"
   ],
   "outputs": []
  },
  {
   "cell_type": "markdown",
   "metadata": {},
   "source": [
    "## Informacje o przetwarzaniu cech\n",
    "\n",
    "### Krawędzie\n",
    "\n",
    "Preprocessing obejmował:\n",
    "* lanes - dodanie domyślnej wartości jako średniej wartości z kolumny\n",
    "* maxspeed - dodanie domyślnej wartości jako średniej wartości z kolumny\n",
    "* width - dodanie domyślnej wartości jako średniej wartości z kolumny\n",
    "* pozostałe - dodanie wartości \"unspecified\"\n",
    "\n",
    "\n",
    "### Wierzchołki\n",
    "\n",
    "Preprocessing obejmował rozbicie CountVectorizerem wartości z kolumny \"highway\", \"street_count\" pozostawiono jako wartość numeryczną bez zmian\n",
    "\n",
    "\n",
    "W obu przypadkach (krawędzie i wierzchołki) usunięto kolumnę \"ref\".\n"
   ]
  },
  {
   "cell_type": "markdown",
   "metadata": {},
   "source": [
    "# Agregacja do wierzchołków\n",
    "\n",
    "## 1. Tworzenie grafu i statystyki"
   ]
  },
  {
   "cell_type": "code",
   "execution_count": 4,
   "metadata": {},
   "outputs": [
    {
     "data": {
      "text/plain": [
       "Data(x=[152178, 15], edge_index=[2, 256070], y=[152178], street_count=[152178], highway=[152178], ref=[152178], accidents_count=[152178], osmid=[256070], oneway=[256070], lanes=[256070], name=[256070], edge_highway=[256070], reversed=[256070], length=[256070], maxspeed=[256070], access=[256070], junction=[256070], bridge=[256070], edge_ref=[256070], width=[256070], tunnel=[256070], geometry=[256070], crs=epsg:4326)"
      ]
     },
     "execution_count": 4,
     "metadata": {},
     "output_type": "execute_result"
    }
   ],
   "source": [
    "graph_embedder = OSMnxGraph(gdf_events, gdf_nodes, gdf_edges)\n",
    "\n",
    "graph_data = graph_embedder.create_graph(element_type='node', aggregation_method='mean', normalize_y=False)\n",
    "graph_data"
   ],
   "outputs": []
  },
  {
   "cell_type": "code",
   "execution_count": 5,
   "metadata": {},
   "outputs": [
    {
     "data": {
      "text/plain": [
       "{'Nodes': 152178,\n",
       " 'Edges': 256070,\n",
       " 'Nodes dim': 15,\n",
       " 'Nodes class': 2,\n",
       " 'Directed': True,\n",
       " 'Graph density [%]': 0.001}"
      ]
     },
     "execution_count": 5,
     "metadata": {},
     "output_type": "execute_result"
    }
   ],
   "source": [
    "graph_embedder.show_statistics()"
   ],
   "outputs": []
  },
  {
   "cell_type": "code",
   "execution_count": 6,
   "metadata": {},
   "outputs": [
    {
     "data": {
      "text/plain": [
       "15"
      ]
     },
     "execution_count": 6,
     "metadata": {},
     "output_type": "execute_result"
    }
   ],
   "source": [
    "graph_data.num_features"
   ],
   "outputs": []
  },
  {
   "cell_type": "code",
   "execution_count": 7,
   "metadata": {},
   "outputs": [
    {
     "data": {
      "text/plain": [
       "2"
      ]
     },
     "execution_count": 7,
     "metadata": {},
     "output_type": "execute_result"
    }
   ],
   "source": [
    "len(graph_data.y.unique())"
   ],
   "outputs": []
  },
  {
   "cell_type": "markdown",
   "metadata": {},
   "source": [
    "Poniżej znajduje się wywołanie metody do pozyskiwania cech wierzchołków."
   ]
  },
  {
   "cell_type": "code",
   "execution_count": 8,
   "metadata": {},
   "outputs": [
    {
     "data": {
      "text/html": [
       "<div>\n",
       "<style scoped>\n",
       "    .dataframe tbody tr th:only-of-type {\n",
       "        vertical-align: middle;\n",
       "    }\n",
       "\n",
       "    .dataframe tbody tr th {\n",
       "        vertical-align: top;\n",
       "    }\n",
       "\n",
       "    .dataframe thead th {\n",
       "        text-align: right;\n",
       "    }\n",
       "</style>\n",
       "<table border=\"1\" class=\"dataframe\">\n",
       "  <thead>\n",
       "    <tr style=\"text-align: right;\">\n",
       "      <th></th>\n",
       "      <th>street_count</th>\n",
       "      <th>bus_stop</th>\n",
       "      <th>construction</th>\n",
       "      <th>crossing</th>\n",
       "      <th>give_way</th>\n",
       "      <th>milestone</th>\n",
       "      <th>mini_roundabout</th>\n",
       "      <th>motorway_junction</th>\n",
       "      <th>passing_place</th>\n",
       "      <th>proposed</th>\n",
       "      <th>speed_camera</th>\n",
       "      <th>stop</th>\n",
       "      <th>traffic_signals</th>\n",
       "      <th>turning_circle</th>\n",
       "      <th>turning_loop</th>\n",
       "    </tr>\n",
       "    <tr>\n",
       "      <th>osmid</th>\n",
       "      <th></th>\n",
       "      <th></th>\n",
       "      <th></th>\n",
       "      <th></th>\n",
       "      <th></th>\n",
       "      <th></th>\n",
       "      <th></th>\n",
       "      <th></th>\n",
       "      <th></th>\n",
       "      <th></th>\n",
       "      <th></th>\n",
       "      <th></th>\n",
       "      <th></th>\n",
       "      <th></th>\n",
       "      <th></th>\n",
       "    </tr>\n",
       "  </thead>\n",
       "  <tbody>\n",
       "    <tr>\n",
       "      <th>26063726</th>\n",
       "      <td>5</td>\n",
       "      <td>0</td>\n",
       "      <td>0</td>\n",
       "      <td>0</td>\n",
       "      <td>0</td>\n",
       "      <td>0</td>\n",
       "      <td>0</td>\n",
       "      <td>0</td>\n",
       "      <td>0</td>\n",
       "      <td>0</td>\n",
       "      <td>0</td>\n",
       "      <td>0</td>\n",
       "      <td>0</td>\n",
       "      <td>0</td>\n",
       "      <td>0</td>\n",
       "    </tr>\n",
       "    <tr>\n",
       "      <th>26063729</th>\n",
       "      <td>2</td>\n",
       "      <td>0</td>\n",
       "      <td>0</td>\n",
       "      <td>0</td>\n",
       "      <td>0</td>\n",
       "      <td>0</td>\n",
       "      <td>0</td>\n",
       "      <td>0</td>\n",
       "      <td>0</td>\n",
       "      <td>0</td>\n",
       "      <td>0</td>\n",
       "      <td>0</td>\n",
       "      <td>0</td>\n",
       "      <td>0</td>\n",
       "      <td>0</td>\n",
       "    </tr>\n",
       "    <tr>\n",
       "      <th>26063848</th>\n",
       "      <td>4</td>\n",
       "      <td>0</td>\n",
       "      <td>0</td>\n",
       "      <td>0</td>\n",
       "      <td>0</td>\n",
       "      <td>0</td>\n",
       "      <td>0</td>\n",
       "      <td>0</td>\n",
       "      <td>0</td>\n",
       "      <td>0</td>\n",
       "      <td>0</td>\n",
       "      <td>0</td>\n",
       "      <td>0</td>\n",
       "      <td>0</td>\n",
       "      <td>0</td>\n",
       "    </tr>\n",
       "    <tr>\n",
       "      <th>26063849</th>\n",
       "      <td>2</td>\n",
       "      <td>0</td>\n",
       "      <td>0</td>\n",
       "      <td>0</td>\n",
       "      <td>0</td>\n",
       "      <td>0</td>\n",
       "      <td>0</td>\n",
       "      <td>0</td>\n",
       "      <td>0</td>\n",
       "      <td>0</td>\n",
       "      <td>0</td>\n",
       "      <td>0</td>\n",
       "      <td>0</td>\n",
       "      <td>0</td>\n",
       "      <td>0</td>\n",
       "    </tr>\n",
       "    <tr>\n",
       "      <th>26063850</th>\n",
       "      <td>2</td>\n",
       "      <td>0</td>\n",
       "      <td>0</td>\n",
       "      <td>0</td>\n",
       "      <td>0</td>\n",
       "      <td>0</td>\n",
       "      <td>0</td>\n",
       "      <td>0</td>\n",
       "      <td>0</td>\n",
       "      <td>0</td>\n",
       "      <td>0</td>\n",
       "      <td>0</td>\n",
       "      <td>0</td>\n",
       "      <td>0</td>\n",
       "      <td>0</td>\n",
       "    </tr>\n",
       "    <tr>\n",
       "      <th>...</th>\n",
       "      <td>...</td>\n",
       "      <td>...</td>\n",
       "      <td>...</td>\n",
       "      <td>...</td>\n",
       "      <td>...</td>\n",
       "      <td>...</td>\n",
       "      <td>...</td>\n",
       "      <td>...</td>\n",
       "      <td>...</td>\n",
       "      <td>...</td>\n",
       "      <td>...</td>\n",
       "      <td>...</td>\n",
       "      <td>...</td>\n",
       "      <td>...</td>\n",
       "      <td>...</td>\n",
       "    </tr>\n",
       "    <tr>\n",
       "      <th>11795306927</th>\n",
       "      <td>2</td>\n",
       "      <td>0</td>\n",
       "      <td>0</td>\n",
       "      <td>0</td>\n",
       "      <td>0</td>\n",
       "      <td>0</td>\n",
       "      <td>0</td>\n",
       "      <td>0</td>\n",
       "      <td>0</td>\n",
       "      <td>0</td>\n",
       "      <td>0</td>\n",
       "      <td>0</td>\n",
       "      <td>0</td>\n",
       "      <td>0</td>\n",
       "      <td>0</td>\n",
       "    </tr>\n",
       "    <tr>\n",
       "      <th>11795306928</th>\n",
       "      <td>2</td>\n",
       "      <td>0</td>\n",
       "      <td>0</td>\n",
       "      <td>0</td>\n",
       "      <td>0</td>\n",
       "      <td>0</td>\n",
       "      <td>0</td>\n",
       "      <td>0</td>\n",
       "      <td>0</td>\n",
       "      <td>0</td>\n",
       "      <td>0</td>\n",
       "      <td>0</td>\n",
       "      <td>0</td>\n",
       "      <td>0</td>\n",
       "      <td>0</td>\n",
       "    </tr>\n",
       "    <tr>\n",
       "      <th>11795306929</th>\n",
       "      <td>2</td>\n",
       "      <td>0</td>\n",
       "      <td>0</td>\n",
       "      <td>0</td>\n",
       "      <td>0</td>\n",
       "      <td>0</td>\n",
       "      <td>0</td>\n",
       "      <td>0</td>\n",
       "      <td>0</td>\n",
       "      <td>0</td>\n",
       "      <td>0</td>\n",
       "      <td>0</td>\n",
       "      <td>0</td>\n",
       "      <td>0</td>\n",
       "      <td>0</td>\n",
       "    </tr>\n",
       "    <tr>\n",
       "      <th>11795306937</th>\n",
       "      <td>2</td>\n",
       "      <td>0</td>\n",
       "      <td>0</td>\n",
       "      <td>0</td>\n",
       "      <td>0</td>\n",
       "      <td>0</td>\n",
       "      <td>0</td>\n",
       "      <td>0</td>\n",
       "      <td>0</td>\n",
       "      <td>0</td>\n",
       "      <td>0</td>\n",
       "      <td>0</td>\n",
       "      <td>0</td>\n",
       "      <td>0</td>\n",
       "      <td>0</td>\n",
       "    </tr>\n",
       "    <tr>\n",
       "      <th>11795306945</th>\n",
       "      <td>2</td>\n",
       "      <td>0</td>\n",
       "      <td>0</td>\n",
       "      <td>0</td>\n",
       "      <td>0</td>\n",
       "      <td>0</td>\n",
       "      <td>0</td>\n",
       "      <td>0</td>\n",
       "      <td>0</td>\n",
       "      <td>0</td>\n",
       "      <td>0</td>\n",
       "      <td>0</td>\n",
       "      <td>0</td>\n",
       "      <td>0</td>\n",
       "      <td>0</td>\n",
       "    </tr>\n",
       "    <tr>\n",
       "      <th>11730365878</th>\n",
       "      <td>1</td>\n",
       "      <td>0</td>\n",
       "      <td>0</td>\n",
       "      <td>0</td>\n",
       "      <td>0</td>\n",
       "      <td>0</td>\n",
       "      <td>0</td>\n",
       "      <td>0</td>\n",
       "    </tr>\n",
       "    <tr>\n",
       "      <th>11730365883</th>\n",
       "      <td>1</td>\n",
       "      <td>0</td>\n",
       "      <td>0</td>\n",
       "      <td>0</td>\n",
       "      <td>0</td>\n",
       "      <td>0</td>\n",
       "      <td>0</td>\n",
       "      <td>0</td>\n",
       "    </tr>\n",
       "  </tbody>\n",
       "</table>\n",
       "<p>152178 rows × 15 columns</p>\n",
       "</div>"
      ],
      "text/plain": [
       "             street_count  bus_stop  construction  crossing  give_way  \\\n",
       "osmid                                                                   \n",
       "26063726                5         0             0         0         0   \n",
       "26063729                2         0             0         0         0   \n",
       "26063848                4         0             0         0         0   \n",
       "26063849                2         0             0         0         0   \n",
       "26063850                2         0             0         0         0   \n",
       "...                   ...       ...           ...       ...       ...   \n",
       "11795306927             2         0             0         0         0   \n",
       "11795306928             2         0             0         0         0   \n",
       "11795306929             2         0             0         0         0   \n",
       "11795306937             2         0             0         0         0   \n",
       "11795306945             2         0             0         0         0   \n",
       "\n",
       "             milestone  mini_roundabout  motorway_junction  passing_place  \\\n",
       "osmid                                                                       \n",
       "26063726             0                0                  0              0   \n",
       "26063729             0                0                  0              0   \n",
       "26063848             0                0                  0              0   \n",
       "26063849             0                0                  0              0   \n",
       "26063850             0                0                  0              0   \n",
       "...                ...              ...                ...            ...   \n",
       "11795306927          0                0                  0              0   \n",
       "11795306928          0                0                  0              0   \n",
       "11795306929          0                0                  0              0   \n",
       "11795306937          0                0                  0              0   \n",
       "11795306945          0                0                  0              0   \n",
       "\n",
       "             proposed  speed_camera  stop  traffic_signals  turning_circle  \\\n",
       "osmid                                                                        \n",
       "26063726            0             0     0                0               0   \n",
       "26063729            0             0     0                0               0   \n",
       "26063848            0             0     0                0               0   \n",
       "26063849            0             0     0                0               0   \n",
       "26063850            0             0     0                0               0   \n",
       "...               ...           ...   ...              ...             ...   \n",
       "11795306927         0             0     0                0               0   \n",
       "11795306928         0             0     0                0               0   \n",
       "11795306929         0             0     0                0               0   \n",
       "11795306937         0             0     0                0               0   \n",
       "11795306945         0             0     0                0               0   \n",
       "\n",
       "             turning_loop  \n",
       "osmid                      \n",
       "26063726                0  \n",
       "26063729                0  \n",
       "26063848                0  \n",
       "26063849                0  \n",
       "26063850                0  \n",
       "...                   ...  \n",
       "11795306927             0  \n",
       "11795306928             0  \n",
       "11795306929             0  \n",
       "11795306937             0  \n",
       "11795306945             0  \n",
       "\n",
       "[152178 rows x 15 columns]"
      ]
     },
     "execution_count": 8,
     "metadata": {},
     "output_type": "execute_result"
    }
   ],
   "source": [
    "features = graph_embedder.get_node_attrs()\n",
    "features"
   ],
   "outputs": []
  },
  {
   "cell_type": "markdown",
   "metadata": {},
   "source": [
    "## 2. Uczenie i testowanie modelu - Supervised node classification"
   ]
  },
  {
   "cell_type": "code",
   "execution_count": 9,
   "metadata": {},
   "source": [
    "device = 'cuda' if torch.cuda.is_available() else 'cpu'\n",
    "num_features = graph_data.num_features\n",
    "hidden_dim = 256\n",
    "out_dim = 128\n",
    "num_classes = len(graph_data.y.unique())\n",
    "\n",
    "gnn = GCNModel(in_dim=num_features, hidden_dim=hidden_dim, out_dim=out_dim)\n",
    "\n",
    "model = SupervisedNodeClassificationGNN(gnn=gnn, emb_dim=out_dim, num_classes=num_classes, lr=0.0001)"
   ],
   "outputs": []
  },
  {
   "cell_type": "code",
   "execution_count": 10,
   "metadata": {},
   "source": [
    "\n",
    "nodes_labels = {'node': features.index.to_numpy(), 'label': graph_data.y.cpu().numpy()}\n",
    "df_to_split = pd.DataFrame(nodes_labels)\n",
    "\n",
    "df_train, df_test = train_test_split(df_to_split, test_size=0.2, random_state=42, stratify=df_to_split['label'])\n",
    "df_val, df_test = train_test_split(df_test, test_size=0.5, random_state=42, stratify=df_test['label'])\n",
    "\n",
    "train_nodes = df_train['node']\n",
    "val_nodes = df_val['node']\n",
    "test_nodes = df_test['node']\n",
    "\n",
    "train_mask = []   \n",
    "val_mask = []\n",
    "test_mask = []\n",
    "\n",
    "for i in range(len(graph_data.y)):\n",
    "\n",
    "  if i in train_nodes:\n",
    "    train_mask.append(True)\n",
    "    val_mask.append(False)\n",
    "    test_mask.append(False)\n",
    "  elif i in val_nodes:\n",
    "    train_mask.append(False)\n",
    "    val_mask.append(True)\n",
    "    test_mask.append(False)\n",
    "  elif i in test_nodes:\n",
    "    train_mask.append(False)\n",
    "    val_mask.append(False)\n",
    "    test_mask.append(True)\n",
    "\n",
    "graph_data.train_mask = torch.tensor(train_mask).cpu()\n",
    "graph_data.val_mask = torch.tensor(val_mask).cpu()\n",
    "graph_data.test_mask = torch.tensor(test_mask).cpu()"
   ],
   "outputs": []
  },
  {
   "cell_type": "code",
   "execution_count": null,
   "metadata": {},
   "source": [
    "\n",
    "trainer = pl.Trainer(max_epochs=50)\n",
    "datamodule = GraphData([graph_data])\n",
    "trainer.fit(model=model, datamodule=datamodule)"
   ],
   "outputs": []
  },
  {
   "cell_type": "code",
   "execution_count": 12,
   "metadata": {},
   "outputs": [
    {
     "data": {
      "application/vnd.jupyter.widget-view+json": {
       "model_id": "294f44e5e86a4768b5e17e14304a869d",
       "version_major": 2,
       "version_minor": 0
      },
      "text/plain": [
       "Testing: |          | 0/? [00:00<?, ?it/s]"
      ]
     },
     "metadata": {},
     "output_type": "display_data"
    },
    {
     "data": {
      "text/plain": [
       "[{'step': 50.0,\n",
       "  'test/auc_weighted': 0.42416849732398987,\n",
       "  'test/f1_weighted': 0.9579160809516907,\n",
       "  'test/precision_weighted': 0.9444140791893005,\n",
       "  'test/recall_weighted': 0.9718096256256104,\n",
       "  'test/accuracy_weighted': 0.9718096256256104}]"
      ]
     },
     "execution_count": 12,
     "metadata": {},
     "output_type": "execute_result"
    }
   ],
   "source": [
    "trainer.test(model=model, datamodule=datamodule, verbose=False)"
   ],
   "outputs": []
  },
  {
   "cell_type": "code",
   "execution_count": 13,
   "metadata": {},
   "outputs": [
    {
     "data": {
      "application/vnd.jupyter.widget-view+json": {
       "model_id": "8527e9cc44b14d95acc62b149e53d3b1",
       "version_major": 2,
       "version_minor": 0
      },
      "text/plain": [
       "Testing: |          | 0/? [00:00<?, ?it/s]"
      ]
     },
     "metadata": {},
     "output_type": "display_data"
    },
    {
     "data": {
      "application/vnd.jupyter.widget-view+json": {
       "model_id": "5a0e213c94b64a6c86ffff43cd0df810",
       "version_major": 2,
       "version_minor": 0
      },
      "text/plain": [
       "Predicting: |          | 0/? [00:00<?, ?it/s]"
      ]
     },
     "metadata": {},
     "output_type": "display_data"
    },
    {
     "name": "stdout",
     "output_type": "stream",
     "text": [
      "AUC test = 42.42[%]\n"
     ]
    }
   ],
   "source": [
    "test_auc = trainer.test(model=model, datamodule=datamodule, verbose=False)[0][\"test/auc_weighted\"]\n",
    "\n",
    "z, y, y_pred = trainer.predict(model=model, datamodule=datamodule)[0]\n",
    "\n",
    "print(f'AUC test = {test_auc * 100.:.2f}[%]')"
   ],
   "outputs": []
  },
  {
   "cell_type": "code",
   "execution_count": 14,
   "metadata": {},
   "outputs": [
    {
     "data": {
      "text/plain": [
       "array([0, 0, 0, ..., 0, 0, 0])"
      ]
     },
     "execution_count": 14,
     "metadata": {},
     "output_type": "execute_result"
    }
   ],
   "source": [
    "y_pred"
   ],
   "outputs": []
  },
  {
   "cell_type": "code",
   "execution_count": 15,
   "metadata": {},
   "outputs": [
    {
     "name": "stdout",
     "output_type": "stream",
     "text": [
      "[0 0 0 ... 0 0 0]\n"
     ]
    }
   ],
   "source": [
    "print(y[test_mask].numpy())"
   ],
   "outputs": []
  },
  {
   "cell_type": "markdown",
   "metadata": {},
   "source": [
    "# Agregacja do krawędzi\n",
    "\n",
    "## 1. Tworzenie grafu i statystyki"
   ]
  },
  {
   "cell_type": "code",
   "execution_count": 41,
   "metadata": {},
   "outputs": [
    {
     "data": {
      "text/plain": [
       "Data(x=[256070, 36], edge_index=[2, 256070], y=[256070], street_count=[152178], highway=[152178], ref=[152178], accidents_count=[152178], osmid=[256070], oneway=[256070], lanes=[256070], name=[256070], edge_highway=[256070], reversed=[256070], length=[256070], maxspeed=[256070], access=[256070], junction=[256070], bridge=[256070], edge_ref=[256070], width=[256070], tunnel=[256070], geometry=[256070], edge_accidents_count=[256070], crs=epsg:4326)"
      ]
     },
     "execution_count": 41,
     "metadata": {},
     "output_type": "execute_result"
    }
   ],
   "source": [
    "graph_embedder = OSMnxGraph(gdf_events, gdf_nodes, gdf_edges)\n",
    "\n",
    "graph_data = graph_embedder.create_graph(aggregation_type='edge')\n",
    "graph_data"
   ],
   "outputs": []
  },
  {
   "cell_type": "code",
   "execution_count": 42,
   "metadata": {},
   "outputs": [
    {
     "data": {
      "text/plain": [
       "{'Nodes': 256070,\n",
       " 'Edges': 256070,\n",
       " 'Nodes dim': 36,\n",
       " 'Nodes class': 2,\n",
       " 'Directed': True,\n",
       " 'Graph density [%]': 0.0}"
      ]
     },
     "execution_count": 42,
     "metadata": {},
     "output_type": "execute_result"
    }
   ],
   "source": [
    "graph_embedder.show_statistics()"
   ],
   "outputs": []
  },
  {
   "cell_type": "code",
   "execution_count": 43,
   "metadata": {},
   "source": [
    "features = graph_embedder.get_edge_attrs()"
   ],
   "outputs": []
  },
  {
   "cell_type": "markdown",
   "metadata": {},
   "source": [
    "## 2. Uczenie i testowanie modelu - Supervised node classification"
   ]
  },
  {
   "cell_type": "code",
   "execution_count": null,
   "metadata": {},
   "source": [
    "\n",
    "device = 'cuda' if torch.cuda.is_available() else 'cpu'\n",
    "num_features = graph_data.num_features\n",
    "hidden_dim = 256\n",
    "out_dim = 128\n",
    "num_classes = len(graph_data.y.unique())\n",
    "\n",
    "gnn = GCNModel(in_dim=num_features, hidden_dim=hidden_dim, out_dim=out_dim)\n",
    "\n",
    "model = SupervisedNodeClassificationGNN(gnn=gnn, emb_dim=out_dim, num_classes=num_classes, lr=0.0001)\n",
    "\n",
    "nodes_labels = {'node': features.index.to_numpy(), 'label': graph_data.y.cpu().numpy()}\n",
    "df_to_split = pd.DataFrame(nodes_labels)\n",
    "\n",
    "df_train, df_test = train_test_split(df_to_split, test_size=0.2, random_state=42, stratify=df_to_split['label'])\n",
    "df_val, df_test = train_test_split(df_test, test_size=0.5, random_state=42, stratify=df_test['label'])\n",
    "\n",
    "train_nodes = df_train['node']\n",
    "val_nodes = df_val['node']\n",
    "test_nodes = df_test['node']\n",
    "\n",
    "train_mask = []   \n",
    "val_mask = []\n",
    "test_mask = []\n",
    "\n",
    "for i in range(len(graph_data.y)):\n",
    "\n",
    "  if i in train_nodes:\n",
    "    train_mask.append(True)\n",
    "    val_mask.append(False)\n",
    "    test_mask.append(False)\n",
    "  elif i in val_nodes:\n",
    "    train_mask.append(False)\n",
    "    val_mask.append(True)\n",
    "    test_mask.append(False)\n",
    "  elif i in test_nodes:\n",
    "    train_mask.append(False)\n",
    "    val_mask.append(False)\n",
    "    test_mask.append(True)\n",
    "\n",
    "graph_data.train_mask = torch.tensor(train_mask).cpu()\n",
    "graph_data.val_mask = torch.tensor(val_mask).cpu()\n",
    "graph_data.test_mask = torch.tensor(test_mask).cpu()\n",
    "\n",
    "trainer = pl.Trainer(max_epochs=50)\n",
    "datamodule = GraphData([graph_data])\n",
    "trainer.fit(model=model, datamodule=datamodule)"
   ],
   "outputs": []
  },
  {
   "cell_type": "code",
   "execution_count": 45,
   "metadata": {},
   "outputs": [
    {
     "data": {
      "application/vnd.jupyter.widget-view+json": {
       "model_id": "5bcedb5e6c1b4313b9f69a04c450e591",
       "version_major": 2,
       "version_minor": 0
      },
      "text/plain": [
       "Testing: |          | 0/? [00:00<?, ?it/s]"
      ]
     },
     "metadata": {},
     "output_type": "display_data"
    },
    {
     "data": {
      "text/plain": [
       "[{'step': 50.0,\n",
       "  'test/auc_weighted': 0.3434008061885834,\n",
       "  'test/f1_weighted': 0.9744167327880859,\n",
       "  'test/precision_weighted': 0.9660831689834595,\n",
       "  'test/recall_weighted': 0.9828953146934509,\n",
       "  'test/accuracy_weighted': 0.9828953146934509}]"
      ]
     },
     "execution_count": 45,
     "metadata": {},
     "output_type": "execute_result"
    }
   ],
   "source": [
    "trainer.test(model=model, datamodule=datamodule, verbose=False)"
   ],
   "outputs": []
  },
  {
   "cell_type": "code",
   "execution_count": 46,
   "metadata": {},
   "outputs": [
    {
     "data": {
      "application/vnd.jupyter.widget-view+json": {
       "model_id": "4473c92eda8b437cb444d11f69ce5af0",
       "version_major": 2,
       "version_minor": 0
      },
      "text/plain": [
       "Testing: |          | 0/? [00:00<?, ?it/s]"
      ]
     },
     "metadata": {},
     "output_type": "display_data"
    },
    {
     "data": {
      "application/vnd.jupyter.widget-view+json": {
       "model_id": "1c66da59a2414d6dac14f5d04b49bde9",
       "version_major": 2,
       "version_minor": 0
      },
      "text/plain": [
       "Predicting: |          | 0/? [00:00<?, ?it/s]"
      ]
     },
     "metadata": {},
     "output_type": "display_data"
    },
    {
     "name": "stdout",
     "output_type": "stream",
     "text": [
      "AUC test = 34.34[%]\n"
     ]
    }
   ],
   "source": [
    "test_auc = trainer.test(model=model, datamodule=datamodule, verbose=False)[0][\"test/auc_weighted\"]\n",
    "\n",
    "z, y, y_pred = trainer.predict(model=model, datamodule=datamodule)[0]\n",
    "\n",
    "print(f'AUC test = {test_auc * 100.:.2f}[%]')"
   ],
   "outputs": []
  },
  {
   "cell_type": "code",
   "execution_count": 47,
   "metadata": {},
   "outputs": [
    {
     "data": {
      "text/plain": [
       "array([0, 0, 0, ..., 0, 0, 0])"
      ]
     },
     "execution_count": 47,
     "metadata": {},
     "output_type": "execute_result"
    }
   ],
   "source": [
    "y_pred"
   ],
   "outputs": []
  },
  {
   "cell_type": "code",
   "execution_count": 48,
   "metadata": {},
   "outputs": [
    {
     "data": {
      "text/plain": [
       "0"
      ]
     },
     "execution_count": 48,
     "metadata": {},
     "output_type": "execute_result"
    }
   ],
   "source": [
    "y_pred.max()"
   ],
   "outputs": []
  }
 ],
 "metadata": {
  "kernelspec": {
   "display_name": "env",
   "language": "python",
   "name": "python3"
  },
  "language_info": {
   "codemirror_mode": {
    "name": "ipython",
    "version": 3
   },
   "file_extension": ".py",
   "mimetype": "text/x-python",
   "name": "python",
   "nbconvert_exporter": "python",
   "pygments_lexer": "ipython3",
   "version": "3.8.18"
  }
 },
 "nbformat": 4,
 "nbformat_minor": 2
}
