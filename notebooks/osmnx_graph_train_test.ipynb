{
 "cells": [
  {
   "cell_type": "code",
   "execution_count": 110,
   "metadata": {},
   "outputs": [
    {
     "name": "stdout",
     "output_type": "stream",
     "text": [
      "The autoreload extension is already loaded. To reload it, use:\n",
      "  %reload_ext autoreload\n"
     ]
    }
   ],
   "source": [
    "import pandas as pd\n",
    "import geopandas as gpd\n",
    "import osmnx as ox\n",
    "import sys\n",
    "sys.path.append('../.') \n",
    "from src.graph.create_osmnx_graph import OSMnxGraph\n",
    "import numpy as np\n",
    "import matplotlib.pyplot as plt\n",
    "%load_ext autoreload\n",
    "%autoreload 2\n",
    "import networkx as nx\n",
    "%reload_ext autoreload\n",
    "from src.baseline_models.GCN.supervised_node_classification import SupervisedNodeClassificationGNN\n",
    "from src.baseline_models.GCN.gcn import GCNModel\n",
    "import torch\n",
    "from sklearn.model_selection import train_test_split\n",
    "import pytorch_lightning as pl\n",
    "from src.baseline_models.GCN.GraphData import GraphData\n",
    "import warnings\n",
    "warnings.filterwarnings('ignore')\n",
    "from shapely.geometry import Point"
   ]
  },
  {
   "cell_type": "markdown",
   "metadata": {},
   "source": [
    "# Wczytanie danych"
   ]
  },
  {
   "cell_type": "code",
   "execution_count": 111,
   "metadata": {},
   "outputs": [
    {
     "data": {
      "text/html": [
       "<div>\n",
       "<style scoped>\n",
       "    .dataframe tbody tr th:only-of-type {\n",
       "        vertical-align: middle;\n",
       "    }\n",
       "\n",
       "    .dataframe tbody tr th {\n",
       "        vertical-align: top;\n",
       "    }\n",
       "\n",
       "    .dataframe thead th {\n",
       "        text-align: right;\n",
       "    }\n",
       "</style>\n",
       "<table border=\"1\" class=\"dataframe\">\n",
       "  <thead>\n",
       "    <tr style=\"text-align: right;\">\n",
       "      <th></th>\n",
       "      <th>y</th>\n",
       "      <th>x</th>\n",
       "      <th>street_count</th>\n",
       "      <th>highway</th>\n",
       "      <th>ref</th>\n",
       "      <th>geometry</th>\n",
       "    </tr>\n",
       "    <tr>\n",
       "      <th>osmid</th>\n",
       "      <th></th>\n",
       "      <th></th>\n",
       "      <th></th>\n",
       "      <th></th>\n",
       "      <th></th>\n",
       "      <th></th>\n",
       "    </tr>\n",
       "  </thead>\n",
       "  <tbody>\n",
       "    <tr>\n",
       "      <th>26063726</th>\n",
       "      <td>52.152787</td>\n",
       "      <td>21.017454</td>\n",
       "      <td>5</td>\n",
       "      <td>NaN</td>\n",
       "      <td>NaN</td>\n",
       "      <td>POINT (21.01745 52.15279)</td>\n",
       "    </tr>\n",
       "    <tr>\n",
       "      <th>26063848</th>\n",
       "      <td>52.157570</td>\n",
       "      <td>20.991392</td>\n",
       "      <td>4</td>\n",
       "      <td>NaN</td>\n",
       "      <td>NaN</td>\n",
       "      <td>POINT (20.99139 52.15757)</td>\n",
       "    </tr>\n",
       "    <tr>\n",
       "      <th>26063857</th>\n",
       "      <td>52.166411</td>\n",
       "      <td>20.992301</td>\n",
       "      <td>3</td>\n",
       "      <td>NaN</td>\n",
       "      <td>NaN</td>\n",
       "      <td>POINT (20.99230 52.16641)</td>\n",
       "    </tr>\n",
       "    <tr>\n",
       "      <th>26063923</th>\n",
       "      <td>52.170803</td>\n",
       "      <td>20.992247</td>\n",
       "      <td>3</td>\n",
       "      <td>NaN</td>\n",
       "      <td>NaN</td>\n",
       "      <td>POINT (20.99225 52.17080)</td>\n",
       "    </tr>\n",
       "    <tr>\n",
       "      <th>26083887</th>\n",
       "      <td>52.176026</td>\n",
       "      <td>20.995141</td>\n",
       "      <td>3</td>\n",
       "      <td>NaN</td>\n",
       "      <td>NaN</td>\n",
       "      <td>POINT (20.99514 52.17603)</td>\n",
       "    </tr>\n",
       "    <tr>\n",
       "      <th>...</th>\n",
       "      <td>...</td>\n",
       "      <td>...</td>\n",
       "      <td>...</td>\n",
       "      <td>...</td>\n",
       "      <td>...</td>\n",
       "      <td>...</td>\n",
       "    </tr>\n",
       "    <tr>\n",
       "      <th>11795306888</th>\n",
       "      <td>52.284337</td>\n",
       "      <td>21.051939</td>\n",
       "      <td>1</td>\n",
       "      <td>NaN</td>\n",
       "      <td>NaN</td>\n",
       "      <td>POINT (21.05194 52.28434)</td>\n",
       "    </tr>\n",
       "    <tr>\n",
       "      <th>11795306892</th>\n",
       "      <td>52.284337</td>\n",
       "      <td>21.052441</td>\n",
       "      <td>3</td>\n",
       "      <td>NaN</td>\n",
       "      <td>NaN</td>\n",
       "      <td>POINT (21.05244 52.28434)</td>\n",
       "    </tr>\n",
       "    <tr>\n",
       "      <th>11795306899</th>\n",
       "      <td>52.285418</td>\n",
       "      <td>21.051583</td>\n",
       "      <td>1</td>\n",
       "      <td>NaN</td>\n",
       "      <td>NaN</td>\n",
       "      <td>POINT (21.05158 52.28542)</td>\n",
       "    </tr>\n",
       "    <tr>\n",
       "      <th>11795306921</th>\n",
       "      <td>52.284486</td>\n",
       "      <td>21.052052</td>\n",
       "      <td>1</td>\n",
       "      <td>NaN</td>\n",
       "      <td>NaN</td>\n",
       "      <td>POINT (21.05205 52.28449)</td>\n",
       "    </tr>\n",
       "    <tr>\n",
       "      <th>11795306923</th>\n",
       "      <td>52.284371</td>\n",
       "      <td>21.052116</td>\n",
       "      <td>3</td>\n",
       "      <td>NaN</td>\n",
       "      <td>NaN</td>\n",
       "      <td>POINT (21.05212 52.28437)</td>\n",
       "    </tr>\n",
       "  </tbody>\n",
       "</table>\n",
       "<p>19365 rows × 6 columns</p>\n",
       "</div>"
      ],
      "text/plain": [
       "                     y          x  street_count highway  ref  \\\n",
       "osmid                                                          \n",
       "26063726     52.152787  21.017454             5     NaN  NaN   \n",
       "26063848     52.157570  20.991392             4     NaN  NaN   \n",
       "26063857     52.166411  20.992301             3     NaN  NaN   \n",
       "26063923     52.170803  20.992247             3     NaN  NaN   \n",
       "26083887     52.176026  20.995141             3     NaN  NaN   \n",
       "...                ...        ...           ...     ...  ...   \n",
       "11795306888  52.284337  21.051939             1     NaN  NaN   \n",
       "11795306892  52.284337  21.052441             3     NaN  NaN   \n",
       "11795306899  52.285418  21.051583             1     NaN  NaN   \n",
       "11795306921  52.284486  21.052052             1     NaN  NaN   \n",
       "11795306923  52.284371  21.052116             3     NaN  NaN   \n",
       "\n",
       "                              geometry  \n",
       "osmid                                   \n",
       "26063726     POINT (21.01745 52.15279)  \n",
       "26063848     POINT (20.99139 52.15757)  \n",
       "26063857     POINT (20.99230 52.16641)  \n",
       "26063923     POINT (20.99225 52.17080)  \n",
       "26083887     POINT (20.99514 52.17603)  \n",
       "...                                ...  \n",
       "11795306888  POINT (21.05194 52.28434)  \n",
       "11795306892  POINT (21.05244 52.28434)  \n",
       "11795306899  POINT (21.05158 52.28542)  \n",
       "11795306921  POINT (21.05205 52.28449)  \n",
       "11795306923  POINT (21.05212 52.28437)  \n",
       "\n",
       "[19365 rows x 6 columns]"
      ]
     },
     "execution_count": 111,
     "metadata": {},
     "output_type": "execute_result"
    }
   ],
   "source": [
    "df_accidents = pd.read_csv(\"../data/wypadki-pl/accidents.csv\")\n",
    "df_accidents.drop(df_accidents[(df_accidents['mie_nazwa'] != 'Warszawa')].index, inplace=True)\n",
    "df_accidents.drop(columns='uczestnicy', inplace=True)\n",
    "geometry = [Point(xy) for xy in zip(df_accidents['wsp_gps_x'], df_accidents['wsp_gps_y'])]\n",
    "gdf_accidents = gpd.GeoDataFrame(df_accidents, geometry=geometry)\n",
    "gdf_accidents.drop(columns=['wsp_gps_x', 'wsp_gps_y'], inplace=True)\n",
    "G =ox.graph.graph_from_place(\"Warsaw, Poland\", network_type=\"drive\")\n",
    "gdf_nodes, gdf_edges = ox.graph_to_gdfs(G)\n",
    "gdf_nodes"
   ]
  },
  {
   "cell_type": "code",
   "execution_count": 112,
   "metadata": {},
   "outputs": [
    {
     "data": {
      "text/html": [
       "<div>\n",
       "<style scoped>\n",
       "    .dataframe tbody tr th:only-of-type {\n",
       "        vertical-align: middle;\n",
       "    }\n",
       "\n",
       "    .dataframe tbody tr th {\n",
       "        vertical-align: top;\n",
       "    }\n",
       "\n",
       "    .dataframe thead th {\n",
       "        text-align: right;\n",
       "    }\n",
       "</style>\n",
       "<table border=\"1\" class=\"dataframe\">\n",
       "  <thead>\n",
       "    <tr style=\"text-align: right;\">\n",
       "      <th></th>\n",
       "      <th></th>\n",
       "      <th></th>\n",
       "      <th>osmid</th>\n",
       "      <th>oneway</th>\n",
       "      <th>lanes</th>\n",
       "      <th>name</th>\n",
       "      <th>highway</th>\n",
       "      <th>reversed</th>\n",
       "      <th>length</th>\n",
       "      <th>maxspeed</th>\n",
       "      <th>geometry</th>\n",
       "      <th>access</th>\n",
       "      <th>junction</th>\n",
       "      <th>bridge</th>\n",
       "      <th>tunnel</th>\n",
       "      <th>ref</th>\n",
       "      <th>width</th>\n",
       "    </tr>\n",
       "    <tr>\n",
       "      <th>u</th>\n",
       "      <th>v</th>\n",
       "      <th>key</th>\n",
       "      <th></th>\n",
       "      <th></th>\n",
       "      <th></th>\n",
       "      <th></th>\n",
       "      <th></th>\n",
       "      <th></th>\n",
       "      <th></th>\n",
       "      <th></th>\n",
       "      <th></th>\n",
       "      <th></th>\n",
       "      <th></th>\n",
       "      <th></th>\n",
       "      <th></th>\n",
       "      <th></th>\n",
       "      <th></th>\n",
       "    </tr>\n",
       "  </thead>\n",
       "  <tbody>\n",
       "    <tr>\n",
       "      <th rowspan=\"2\" valign=\"top\">26063726</th>\n",
       "      <th>31717945</th>\n",
       "      <th>0</th>\n",
       "      <td>4895484</td>\n",
       "      <td>True</td>\n",
       "      <td>4</td>\n",
       "      <td>Poleczki</td>\n",
       "      <td>secondary</td>\n",
       "      <td>False</td>\n",
       "      <td>25.021</td>\n",
       "      <td>NaN</td>\n",
       "      <td>LINESTRING (21.01745 52.15279, 21.01780 52.15271)</td>\n",
       "      <td>NaN</td>\n",
       "      <td>NaN</td>\n",
       "      <td>NaN</td>\n",
       "      <td>NaN</td>\n",
       "      <td>NaN</td>\n",
       "      <td>NaN</td>\n",
       "    </tr>\n",
       "    <tr>\n",
       "      <th>29273144</th>\n",
       "      <th>0</th>\n",
       "      <td>[1014952979, 1014952978, 1007148203, 148749604]</td>\n",
       "      <td>True</td>\n",
       "      <td>[3, 4]</td>\n",
       "      <td>Puławska</td>\n",
       "      <td>primary</td>\n",
       "      <td>False</td>\n",
       "      <td>336.457</td>\n",
       "      <td>60</td>\n",
       "      <td>LINESTRING (21.01745 52.15279, 21.01745 52.152...</td>\n",
       "      <td>NaN</td>\n",
       "      <td>NaN</td>\n",
       "      <td>NaN</td>\n",
       "      <td>NaN</td>\n",
       "      <td>NaN</td>\n",
       "      <td>NaN</td>\n",
       "    </tr>\n",
       "    <tr>\n",
       "      <th rowspan=\"3\" valign=\"top\">26063848</th>\n",
       "      <th>1391593855</th>\n",
       "      <th>0</th>\n",
       "      <td>[13982288, 125098266, 896320940, 1203516007]</td>\n",
       "      <td>False</td>\n",
       "      <td>2</td>\n",
       "      <td>[Nowy Służewiec, Wyczółki]</td>\n",
       "      <td>residential</td>\n",
       "      <td>[False, True]</td>\n",
       "      <td>996.078</td>\n",
       "      <td>NaN</td>\n",
       "      <td>LINESTRING (20.99139 52.15757, 20.99129 52.157...</td>\n",
       "      <td>NaN</td>\n",
       "      <td>NaN</td>\n",
       "      <td>NaN</td>\n",
       "      <td>NaN</td>\n",
       "      <td>NaN</td>\n",
       "      <td>NaN</td>\n",
       "    </tr>\n",
       "    <tr>\n",
       "      <th>258495263</th>\n",
       "      <th>0</th>\n",
       "      <td>23853023</td>\n",
       "      <td>False</td>\n",
       "      <td>2</td>\n",
       "      <td>Zatorze</td>\n",
       "      <td>tertiary</td>\n",
       "      <td>False</td>\n",
       "      <td>353.996</td>\n",
       "      <td>NaN</td>\n",
       "      <td>LINESTRING (20.99139 52.15757, 20.99127 52.157...</td>\n",
       "      <td>NaN</td>\n",
       "      <td>NaN</td>\n",
       "      <td>NaN</td>\n",
       "      <td>NaN</td>\n",
       "      <td>NaN</td>\n",
       "      <td>NaN</td>\n",
       "    </tr>\n",
       "    <tr>\n",
       "      <th>26083906</th>\n",
       "      <th>0</th>\n",
       "      <td>715903941</td>\n",
       "      <td>False</td>\n",
       "      <td>NaN</td>\n",
       "      <td>Wyczółki</td>\n",
       "      <td>residential</td>\n",
       "      <td>False</td>\n",
       "      <td>66.590</td>\n",
       "      <td>NaN</td>\n",
       "      <td>LINESTRING (20.99139 52.15757, 20.99147 52.157...</td>\n",
       "      <td>NaN</td>\n",
       "      <td>NaN</td>\n",
       "      <td>NaN</td>\n",
       "      <td>NaN</td>\n",
       "      <td>NaN</td>\n",
       "      <td>NaN</td>\n",
       "    </tr>\n",
       "    <tr>\n",
       "      <th>...</th>\n",
       "      <th>...</th>\n",
       "      <th>...</th>\n",
       "      <td>...</td>\n",
       "      <td>...</td>\n",
       "      <td>...</td>\n",
       "      <td>...</td>\n",
       "      <td>...</td>\n",
       "      <td>...</td>\n",
       "      <td>...</td>\n",
       "      <td>...</td>\n",
       "      <td>...</td>\n",
       "      <td>...</td>\n",
       "      <td>...</td>\n",
       "      <td>...</td>\n",
       "      <td>...</td>\n",
       "      <td>...</td>\n",
       "      <td>...</td>\n",
       "    </tr>\n",
       "    <tr>\n",
       "      <th>11795306899</th>\n",
       "      <th>11795306883</th>\n",
       "      <th>0</th>\n",
       "      <td>1270353666</td>\n",
       "      <td>False</td>\n",
       "      <td>NaN</td>\n",
       "      <td>NaN</td>\n",
       "      <td>living_street</td>\n",
       "      <td>True</td>\n",
       "      <td>89.591</td>\n",
       "      <td>20</td>\n",
       "      <td>LINESTRING (21.05158 52.28542, 21.05159 52.285...</td>\n",
       "      <td>NaN</td>\n",
       "      <td>NaN</td>\n",
       "      <td>NaN</td>\n",
       "      <td>NaN</td>\n",
       "      <td>NaN</td>\n",
       "      <td>NaN</td>\n",
       "    </tr>\n",
       "    <tr>\n",
       "      <th>11795306921</th>\n",
       "      <th>11795306923</th>\n",
       "      <th>0</th>\n",
       "      <td>1270353669</td>\n",
       "      <td>False</td>\n",
       "      <td>NaN</td>\n",
       "      <td>NaN</td>\n",
       "      <td>living_street</td>\n",
       "      <td>False</td>\n",
       "      <td>14.146</td>\n",
       "      <td>20</td>\n",
       "      <td>LINESTRING (21.05205 52.28449, 21.05205 52.284...</td>\n",
       "      <td>NaN</td>\n",
       "      <td>NaN</td>\n",
       "      <td>NaN</td>\n",
       "      <td>NaN</td>\n",
       "      <td>NaN</td>\n",
       "      <td>NaN</td>\n",
       "    </tr>\n",
       "    <tr>\n",
       "      <th rowspan=\"3\" valign=\"top\">11795306923</th>\n",
       "      <th>11795306892</th>\n",
       "      <th>0</th>\n",
       "      <td>1270353667</td>\n",
       "      <td>False</td>\n",
       "      <td>NaN</td>\n",
       "      <td>NaN</td>\n",
       "      <td>living_street</td>\n",
       "      <td>False</td>\n",
       "      <td>23.305</td>\n",
       "      <td>20</td>\n",
       "      <td>LINESTRING (21.05212 52.28437, 21.05212 52.284...</td>\n",
       "      <td>NaN</td>\n",
       "      <td>NaN</td>\n",
       "      <td>NaN</td>\n",
       "      <td>NaN</td>\n",
       "      <td>NaN</td>\n",
       "      <td>NaN</td>\n",
       "    </tr>\n",
       "    <tr>\n",
       "      <th>11795306888</th>\n",
       "      <th>0</th>\n",
       "      <td>1270353667</td>\n",
       "      <td>False</td>\n",
       "      <td>NaN</td>\n",
       "      <td>NaN</td>\n",
       "      <td>living_street</td>\n",
       "      <td>True</td>\n",
       "      <td>14.195</td>\n",
       "      <td>20</td>\n",
       "      <td>LINESTRING (21.05212 52.28437, 21.05211 52.284...</td>\n",
       "      <td>NaN</td>\n",
       "      <td>NaN</td>\n",
       "      <td>NaN</td>\n",
       "      <td>NaN</td>\n",
       "      <td>NaN</td>\n",
       "      <td>NaN</td>\n",
       "    </tr>\n",
       "    <tr>\n",
       "      <th>11795306921</th>\n",
       "      <th>0</th>\n",
       "      <td>1270353669</td>\n",
       "      <td>False</td>\n",
       "      <td>NaN</td>\n",
       "      <td>NaN</td>\n",
       "      <td>living_street</td>\n",
       "      <td>True</td>\n",
       "      <td>14.146</td>\n",
       "      <td>20</td>\n",
       "      <td>LINESTRING (21.05212 52.28437, 21.05207 52.284...</td>\n",
       "      <td>NaN</td>\n",
       "      <td>NaN</td>\n",
       "      <td>NaN</td>\n",
       "      <td>NaN</td>\n",
       "      <td>NaN</td>\n",
       "      <td>NaN</td>\n",
       "    </tr>\n",
       "  </tbody>\n",
       "</table>\n",
       "<p>44177 rows × 15 columns</p>\n",
       "</div>"
      ],
      "text/plain": [
       "                                                                       osmid  \\\n",
       "u           v           key                                                    \n",
       "26063726    31717945    0                                            4895484   \n",
       "            29273144    0    [1014952979, 1014952978, 1007148203, 148749604]   \n",
       "26063848    1391593855  0       [13982288, 125098266, 896320940, 1203516007]   \n",
       "            258495263   0                                           23853023   \n",
       "            26083906    0                                          715903941   \n",
       "...                                                                      ...   \n",
       "11795306899 11795306883 0                                         1270353666   \n",
       "11795306921 11795306923 0                                         1270353669   \n",
       "11795306923 11795306892 0                                         1270353667   \n",
       "            11795306888 0                                         1270353667   \n",
       "            11795306921 0                                         1270353669   \n",
       "\n",
       "                             oneway   lanes                        name  \\\n",
       "u           v           key                                               \n",
       "26063726    31717945    0      True       4                    Poleczki   \n",
       "            29273144    0      True  [3, 4]                    Puławska   \n",
       "26063848    1391593855  0     False       2  [Nowy Służewiec, Wyczółki]   \n",
       "            258495263   0     False       2                     Zatorze   \n",
       "            26083906    0     False     NaN                    Wyczółki   \n",
       "...                             ...     ...                         ...   \n",
       "11795306899 11795306883 0     False     NaN                         NaN   \n",
       "11795306921 11795306923 0     False     NaN                         NaN   \n",
       "11795306923 11795306892 0     False     NaN                         NaN   \n",
       "            11795306888 0     False     NaN                         NaN   \n",
       "            11795306921 0     False     NaN                         NaN   \n",
       "\n",
       "                                   highway       reversed   length maxspeed  \\\n",
       "u           v           key                                                   \n",
       "26063726    31717945    0        secondary          False   25.021      NaN   \n",
       "            29273144    0          primary          False  336.457       60   \n",
       "26063848    1391593855  0      residential  [False, True]  996.078      NaN   \n",
       "            258495263   0         tertiary          False  353.996      NaN   \n",
       "            26083906    0      residential          False   66.590      NaN   \n",
       "...                                    ...            ...      ...      ...   \n",
       "11795306899 11795306883 0    living_street           True   89.591       20   \n",
       "11795306921 11795306923 0    living_street          False   14.146       20   \n",
       "11795306923 11795306892 0    living_street          False   23.305       20   \n",
       "            11795306888 0    living_street           True   14.195       20   \n",
       "            11795306921 0    living_street           True   14.146       20   \n",
       "\n",
       "                                                                      geometry  \\\n",
       "u           v           key                                                      \n",
       "26063726    31717945    0    LINESTRING (21.01745 52.15279, 21.01780 52.15271)   \n",
       "            29273144    0    LINESTRING (21.01745 52.15279, 21.01745 52.152...   \n",
       "26063848    1391593855  0    LINESTRING (20.99139 52.15757, 20.99129 52.157...   \n",
       "            258495263   0    LINESTRING (20.99139 52.15757, 20.99127 52.157...   \n",
       "            26083906    0    LINESTRING (20.99139 52.15757, 20.99147 52.157...   \n",
       "...                                                                        ...   \n",
       "11795306899 11795306883 0    LINESTRING (21.05158 52.28542, 21.05159 52.285...   \n",
       "11795306921 11795306923 0    LINESTRING (21.05205 52.28449, 21.05205 52.284...   \n",
       "11795306923 11795306892 0    LINESTRING (21.05212 52.28437, 21.05212 52.284...   \n",
       "            11795306888 0    LINESTRING (21.05212 52.28437, 21.05211 52.284...   \n",
       "            11795306921 0    LINESTRING (21.05212 52.28437, 21.05207 52.284...   \n",
       "\n",
       "                            access junction bridge tunnel  ref width  \n",
       "u           v           key                                           \n",
       "26063726    31717945    0      NaN      NaN    NaN    NaN  NaN   NaN  \n",
       "            29273144    0      NaN      NaN    NaN    NaN  NaN   NaN  \n",
       "26063848    1391593855  0      NaN      NaN    NaN    NaN  NaN   NaN  \n",
       "            258495263   0      NaN      NaN    NaN    NaN  NaN   NaN  \n",
       "            26083906    0      NaN      NaN    NaN    NaN  NaN   NaN  \n",
       "...                            ...      ...    ...    ...  ...   ...  \n",
       "11795306899 11795306883 0      NaN      NaN    NaN    NaN  NaN   NaN  \n",
       "11795306921 11795306923 0      NaN      NaN    NaN    NaN  NaN   NaN  \n",
       "11795306923 11795306892 0      NaN      NaN    NaN    NaN  NaN   NaN  \n",
       "            11795306888 0      NaN      NaN    NaN    NaN  NaN   NaN  \n",
       "            11795306921 0      NaN      NaN    NaN    NaN  NaN   NaN  \n",
       "\n",
       "[44177 rows x 15 columns]"
      ]
     },
     "execution_count": 112,
     "metadata": {},
     "output_type": "execute_result"
    }
   ],
   "source": [
    "gdf_edges"
   ]
  },
  {
   "cell_type": "markdown",
   "metadata": {},
   "source": [
    "## Informacje o przetwarzaniu cech\n",
    "\n",
    "### Krawędzie\n",
    "Wszystkie zgromadzone cechy potraktowano analogicznie jak w pracy magisterskiej z road networks za wyjątkiem atrybutów: psv, service, busway, bicycle, cycleway i surface, które nie pojawiły się w zestawieniu (po prostu nie było ich po pobraniu przez osmnx).\n",
    "\n",
    "Preprocessing obejmował:\n",
    "* lanes - dodanie domyślnej wartości 2\n",
    "* maxspeed - dodanie domyślnej wartości 50\n",
    "* width - dodanie domyślnej wartości 2.0\n",
    "* pozostałe - dodanie wartości \"unspecified\"\n",
    "\n",
    "\n",
    "### Wierzchołki\n",
    "\n",
    "Preprocessing obejmował rozbicie CountVectorizerem wartości z kolumny \"highway\", \"street_count\" pozostawiono jako wartość numeryczną bez zmian\n",
    "\n",
    "\n",
    "\n",
    "W obu przypadkach (krawędzie i wierzchołki) usunięto kolumnę \"ref\".\n"
   ]
  },
  {
   "cell_type": "markdown",
   "metadata": {},
   "source": [
    "# Agregacja do wierzchołków\n",
    "\n",
    "## 1. Tworzenie grafu i statystyki"
   ]
  },
  {
   "cell_type": "code",
   "execution_count": 113,
   "metadata": {},
   "outputs": [
    {
     "data": {
      "text/plain": [
       "Data(x=[19365, 8], edge_index=[2, 44177], y=[19365], street_count=[19365], highway=[19365], ref=[19365], accidents_count=[19365], osmid=[44177], oneway=[44177], lanes=[44177], name=[44177], edge_highway=[44177], reversed=[44177], length=[44177], maxspeed=[44177], geometry=[44177], access=[44177], junction=[44177], bridge=[44177], tunnel=[44177], edge_ref=[44177], width=[44177], crs=epsg:4326)"
      ]
     },
     "execution_count": 113,
     "metadata": {},
     "output_type": "execute_result"
    }
   ],
   "source": [
    "graph_embedder = OSMnxGraph(gdf_accidents, gdf_nodes, gdf_edges)\n",
    "\n",
    "graph_data = graph_embedder.create_graph(aggregation_type='node')\n",
    "graph_data"
   ]
  },
  {
   "cell_type": "code",
   "execution_count": 114,
   "metadata": {},
   "outputs": [
    {
     "data": {
      "text/plain": [
       "{'Nodes': 19365,\n",
       " 'Edges': 44177,\n",
       " 'Nodes dim': 8,\n",
       " 'Nodes class': 2,\n",
       " 'Directed': True,\n",
       " 'Graph density [%]': 0.012}"
      ]
     },
     "execution_count": 114,
     "metadata": {},
     "output_type": "execute_result"
    }
   ],
   "source": [
    "graph_embedder.show_statistics()"
   ]
  },
  {
   "cell_type": "code",
   "execution_count": 115,
   "metadata": {},
   "outputs": [
    {
     "data": {
      "text/plain": [
       "8"
      ]
     },
     "execution_count": 115,
     "metadata": {},
     "output_type": "execute_result"
    }
   ],
   "source": [
    "graph_data.num_features"
   ]
  },
  {
   "cell_type": "code",
   "execution_count": 116,
   "metadata": {},
   "outputs": [
    {
     "data": {
      "text/plain": [
       "2"
      ]
     },
     "execution_count": 116,
     "metadata": {},
     "output_type": "execute_result"
    }
   ],
   "source": [
    "len(graph_data.y.unique())"
   ]
  },
  {
   "cell_type": "markdown",
   "metadata": {},
   "source": [
    "Poniżej znajduje się wywołanie metody do pozyskiwania cech wierzchołków."
   ]
  },
  {
   "cell_type": "code",
   "execution_count": 117,
   "metadata": {},
   "outputs": [
    {
     "data": {
      "text/html": [
       "<div>\n",
       "<style scoped>\n",
       "    .dataframe tbody tr th:only-of-type {\n",
       "        vertical-align: middle;\n",
       "    }\n",
       "\n",
       "    .dataframe tbody tr th {\n",
       "        vertical-align: top;\n",
       "    }\n",
       "\n",
       "    .dataframe thead th {\n",
       "        text-align: right;\n",
       "    }\n",
       "</style>\n",
       "<table border=\"1\" class=\"dataframe\">\n",
       "  <thead>\n",
       "    <tr style=\"text-align: right;\">\n",
       "      <th></th>\n",
       "      <th>street_count</th>\n",
       "      <th>crossing</th>\n",
       "      <th>mini_roundabout</th>\n",
       "      <th>motorway_junction</th>\n",
       "      <th>speed_camera</th>\n",
       "      <th>traffic_signals</th>\n",
       "      <th>turning_circle</th>\n",
       "      <th>turning_loop</th>\n",
       "    </tr>\n",
       "    <tr>\n",
       "      <th>osmid</th>\n",
       "      <th></th>\n",
       "      <th></th>\n",
       "      <th></th>\n",
       "      <th></th>\n",
       "      <th></th>\n",
       "      <th></th>\n",
       "      <th></th>\n",
       "      <th></th>\n",
       "    </tr>\n",
       "  </thead>\n",
       "  <tbody>\n",
       "    <tr>\n",
       "      <th>26063726</th>\n",
       "      <td>5</td>\n",
       "      <td>0</td>\n",
       "      <td>0</td>\n",
       "      <td>0</td>\n",
       "      <td>0</td>\n",
       "      <td>0</td>\n",
       "      <td>0</td>\n",
       "      <td>0</td>\n",
       "    </tr>\n",
       "    <tr>\n",
       "      <th>26063848</th>\n",
       "      <td>4</td>\n",
       "      <td>0</td>\n",
       "      <td>0</td>\n",
       "      <td>0</td>\n",
       "      <td>0</td>\n",
       "      <td>0</td>\n",
       "      <td>0</td>\n",
       "      <td>0</td>\n",
       "    </tr>\n",
       "    <tr>\n",
       "      <th>26063857</th>\n",
       "      <td>3</td>\n",
       "      <td>0</td>\n",
       "      <td>0</td>\n",
       "      <td>0</td>\n",
       "      <td>0</td>\n",
       "      <td>0</td>\n",
       "      <td>0</td>\n",
       "      <td>0</td>\n",
       "    </tr>\n",
       "    <tr>\n",
       "      <th>26063923</th>\n",
       "      <td>3</td>\n",
       "      <td>0</td>\n",
       "      <td>0</td>\n",
       "      <td>0</td>\n",
       "      <td>0</td>\n",
       "      <td>0</td>\n",
       "      <td>0</td>\n",
       "      <td>0</td>\n",
       "    </tr>\n",
       "    <tr>\n",
       "      <th>26083887</th>\n",
       "      <td>3</td>\n",
       "      <td>0</td>\n",
       "      <td>0</td>\n",
       "      <td>0</td>\n",
       "      <td>0</td>\n",
       "      <td>0</td>\n",
       "      <td>0</td>\n",
       "      <td>0</td>\n",
       "    </tr>\n",
       "    <tr>\n",
       "      <th>...</th>\n",
       "      <td>...</td>\n",
       "      <td>...</td>\n",
       "      <td>...</td>\n",
       "      <td>...</td>\n",
       "      <td>...</td>\n",
       "      <td>...</td>\n",
       "      <td>...</td>\n",
       "      <td>...</td>\n",
       "    </tr>\n",
       "    <tr>\n",
       "      <th>11795306888</th>\n",
       "      <td>1</td>\n",
       "      <td>0</td>\n",
       "      <td>0</td>\n",
       "      <td>0</td>\n",
       "      <td>0</td>\n",
       "      <td>0</td>\n",
       "      <td>0</td>\n",
       "      <td>0</td>\n",
       "    </tr>\n",
       "    <tr>\n",
       "      <th>11795306892</th>\n",
       "      <td>3</td>\n",
       "      <td>0</td>\n",
       "      <td>0</td>\n",
       "      <td>0</td>\n",
       "      <td>0</td>\n",
       "      <td>0</td>\n",
       "      <td>0</td>\n",
       "      <td>0</td>\n",
       "    </tr>\n",
       "    <tr>\n",
       "      <th>11795306899</th>\n",
       "      <td>1</td>\n",
       "      <td>0</td>\n",
       "      <td>0</td>\n",
       "      <td>0</td>\n",
       "      <td>0</td>\n",
       "      <td>0</td>\n",
       "      <td>0</td>\n",
       "      <td>0</td>\n",
       "    </tr>\n",
       "    <tr>\n",
       "      <th>11795306921</th>\n",
       "      <td>1</td>\n",
       "      <td>0</td>\n",
       "      <td>0</td>\n",
       "      <td>0</td>\n",
       "      <td>0</td>\n",
       "      <td>0</td>\n",
       "      <td>0</td>\n",
       "      <td>0</td>\n",
       "    </tr>\n",
       "    <tr>\n",
       "      <th>11795306923</th>\n",
       "      <td>3</td>\n",
       "      <td>0</td>\n",
       "      <td>0</td>\n",
       "      <td>0</td>\n",
       "      <td>0</td>\n",
       "      <td>0</td>\n",
       "      <td>0</td>\n",
       "      <td>0</td>\n",
       "    </tr>\n",
       "  </tbody>\n",
       "</table>\n",
       "<p>19365 rows × 8 columns</p>\n",
       "</div>"
      ],
      "text/plain": [
       "             street_count  crossing  mini_roundabout  motorway_junction  \\\n",
       "osmid                                                                     \n",
       "26063726                5         0                0                  0   \n",
       "26063848                4         0                0                  0   \n",
       "26063857                3         0                0                  0   \n",
       "26063923                3         0                0                  0   \n",
       "26083887                3         0                0                  0   \n",
       "...                   ...       ...              ...                ...   \n",
       "11795306888             1         0                0                  0   \n",
       "11795306892             3         0                0                  0   \n",
       "11795306899             1         0                0                  0   \n",
       "11795306921             1         0                0                  0   \n",
       "11795306923             3         0                0                  0   \n",
       "\n",
       "             speed_camera  traffic_signals  turning_circle  turning_loop  \n",
       "osmid                                                                     \n",
       "26063726                0                0               0             0  \n",
       "26063848                0                0               0             0  \n",
       "26063857                0                0               0             0  \n",
       "26063923                0                0               0             0  \n",
       "26083887                0                0               0             0  \n",
       "...                   ...              ...             ...           ...  \n",
       "11795306888             0                0               0             0  \n",
       "11795306892             0                0               0             0  \n",
       "11795306899             0                0               0             0  \n",
       "11795306921             0                0               0             0  \n",
       "11795306923             0                0               0             0  \n",
       "\n",
       "[19365 rows x 8 columns]"
      ]
     },
     "execution_count": 117,
     "metadata": {},
     "output_type": "execute_result"
    }
   ],
   "source": [
    "features = graph_embedder.get_node_attrs()\n",
    "features"
   ]
  },
  {
   "cell_type": "markdown",
   "metadata": {},
   "source": [
    "## 2. Uczenie i testowanie modelu - Supervised node classification"
   ]
  },
  {
   "cell_type": "code",
   "execution_count": 118,
   "metadata": {},
   "outputs": [],
   "source": [
    "device = 'cuda' if torch.cuda.is_available() else 'cpu'\n",
    "num_features = graph_data.num_features\n",
    "hidden_dim = 256\n",
    "out_dim = 128\n",
    "num_classes = len(graph_data.y.unique())\n",
    "\n",
    "gnn = GCNModel(in_dim=num_features, hidden_dim=hidden_dim, out_dim=out_dim)\n",
    "\n",
    "model = SupervisedNodeClassificationGNN(gnn=gnn, emb_dim=out_dim, num_classes=num_classes, lr=0.0001)"
   ]
  },
  {
   "cell_type": "code",
   "execution_count": 119,
   "metadata": {},
   "outputs": [],
   "source": [
    "\n",
    "nodes_labels = {'node': features.index.to_numpy(), 'label': graph_data.y.cpu().numpy()}\n",
    "df_to_split = pd.DataFrame(nodes_labels)\n",
    "\n",
    "df_train, df_test = train_test_split(df_to_split, test_size=0.2, random_state=42, stratify=df_to_split['label'])\n",
    "df_val, df_test = train_test_split(df_test, test_size=0.5, random_state=42, stratify=df_test['label'])\n",
    "\n",
    "train_nodes = df_train['node']\n",
    "val_nodes = df_val['node']\n",
    "test_nodes = df_test['node']\n",
    "\n",
    "train_mask = []   \n",
    "val_mask = []\n",
    "test_mask = []\n",
    "\n",
    "for i in range(len(graph_data.y)):\n",
    "\n",
    "  if i in train_nodes:\n",
    "    train_mask.append(True)\n",
    "    val_mask.append(False)\n",
    "    test_mask.append(False)\n",
    "  elif i in val_nodes:\n",
    "    train_mask.append(False)\n",
    "    val_mask.append(True)\n",
    "    test_mask.append(False)\n",
    "  elif i in test_nodes:\n",
    "    train_mask.append(False)\n",
    "    val_mask.append(False)\n",
    "    test_mask.append(True)\n",
    "\n",
    "graph_data.train_mask = torch.tensor(train_mask).cpu()\n",
    "graph_data.val_mask = torch.tensor(val_mask).cpu()\n",
    "graph_data.test_mask = torch.tensor(test_mask).cpu()"
   ]
  },
  {
   "cell_type": "code",
   "execution_count": null,
   "metadata": {},
   "outputs": [],
   "source": [
    "\n",
    "trainer = pl.Trainer(max_epochs=50)\n",
    "datamodule = GraphData([graph_data])\n",
    "trainer.fit(model=model, datamodule=datamodule)"
   ]
  },
  {
   "cell_type": "code",
   "execution_count": 121,
   "metadata": {},
   "outputs": [
    {
     "name": "stdout",
     "output_type": "stream",
     "text": [
      "Testing DataLoader 0: 100%|██████████| 1/1 [00:00<00:00, 15.46it/s]\n"
     ]
    },
    {
     "data": {
      "text/plain": [
       "[{'step': 50.0,\n",
       "  'test/auc_weighted': 0.4092303216457367,\n",
       "  'test/f1_weighted': 0.7625361680984497,\n",
       "  'test/precision_weighted': 0.7003365159034729,\n",
       "  'test/recall_weighted': 0.8368611335754395,\n",
       "  'test/accuracy_weighted': 0.8368611335754395}]"
      ]
     },
     "execution_count": 121,
     "metadata": {},
     "output_type": "execute_result"
    }
   ],
   "source": [
    "trainer.test(model=model, datamodule=datamodule, verbose=False)"
   ]
  },
  {
   "cell_type": "code",
   "execution_count": 122,
   "metadata": {},
   "outputs": [
    {
     "name": "stdout",
     "output_type": "stream",
     "text": [
      "Testing DataLoader 0: 100%|██████████| 1/1 [00:00<00:00, 18.53it/s]\n",
      "Predicting DataLoader 0: 100%|██████████| 1/1 [00:00<00:00, 23.22it/s]\n",
      "AUC test = 40.92[%]\n"
     ]
    }
   ],
   "source": [
    "test_auc = trainer.test(model=model, datamodule=datamodule, verbose=False)[0][\"test/auc_weighted\"]\n",
    "\n",
    "z, y, y_pred = trainer.predict(model=model, datamodule=datamodule)[0]\n",
    "\n",
    "print(f'AUC test = {test_auc * 100.:.2f}[%]')"
   ]
  },
  {
   "cell_type": "code",
   "execution_count": 123,
   "metadata": {},
   "outputs": [
    {
     "data": {
      "text/plain": [
       "array([0, 0, 0, ..., 0, 0, 0])"
      ]
     },
     "execution_count": 123,
     "metadata": {},
     "output_type": "execute_result"
    }
   ],
   "source": [
    "y_pred"
   ]
  },
  {
   "cell_type": "code",
   "execution_count": 124,
   "metadata": {},
   "outputs": [
    {
     "name": "stdout",
     "output_type": "stream",
     "text": [
      "[0 0 0 ... 0 1 0]\n"
     ]
    }
   ],
   "source": [
    "print(y[test_mask].numpy())"
   ]
  },
  {
   "cell_type": "markdown",
   "metadata": {},
   "source": [
    "# Agregacja do krawędzi\n",
    "\n",
    "## 1. Tworzenie grafu i statystyki"
   ]
  },
  {
   "cell_type": "code",
   "execution_count": 125,
   "metadata": {},
   "outputs": [
    {
     "data": {
      "text/plain": [
       "Data(x=[44177, 36], edge_index=[2, 44177], y=[44177], street_count=[19365], highway=[19365], ref=[19365], accidents_count=[19365], osmid=[44177], oneway=[44177], lanes=[44177], name=[44177], edge_highway=[44177], reversed=[44177], length=[44177], maxspeed=[44177], geometry=[44177], access=[44177], junction=[44177], bridge=[44177], tunnel=[44177], edge_ref=[44177], width=[44177], edge_accidents_count=[44177], crs=epsg:4326)"
      ]
     },
     "execution_count": 125,
     "metadata": {},
     "output_type": "execute_result"
    }
   ],
   "source": [
    "graph_embedder = OSMnxGraph(gdf_accidents, gdf_nodes, gdf_edges)\n",
    "\n",
    "graph_data = graph_embedder.create_graph(aggregation_type='edge')\n",
    "graph_data"
   ]
  },
  {
   "cell_type": "code",
   "execution_count": 126,
   "metadata": {},
   "outputs": [
    {
     "data": {
      "text/plain": [
       "{'Nodes': 44177,\n",
       " 'Edges': 44177,\n",
       " 'Nodes dim': 36,\n",
       " 'Nodes class': 2,\n",
       " 'Directed': True,\n",
       " 'Graph density [%]': 0.002}"
      ]
     },
     "execution_count": 126,
     "metadata": {},
     "output_type": "execute_result"
    }
   ],
   "source": [
    "graph_embedder.show_statistics()"
   ]
  },
  {
   "cell_type": "code",
   "execution_count": 127,
   "metadata": {},
   "outputs": [],
   "source": [
    "features = graph_embedder.get_edge_attrs()"
   ]
  },
  {
   "cell_type": "markdown",
   "metadata": {},
   "source": [
    "## 2. Uczenie i testowanie modelu - Supervised node classification"
   ]
  },
  {
   "cell_type": "code",
   "execution_count": null,
   "metadata": {},
   "outputs": [],
   "source": [
    "\n",
    "device = 'cuda' if torch.cuda.is_available() else 'cpu'\n",
    "num_features = graph_data.num_features\n",
    "hidden_dim = 256\n",
    "out_dim = 128\n",
    "num_classes = len(graph_data.y.unique())\n",
    "\n",
    "gnn = GCNModel(in_dim=num_features, hidden_dim=hidden_dim, out_dim=out_dim)\n",
    "\n",
    "model = SupervisedNodeClassificationGNN(gnn=gnn, emb_dim=out_dim, num_classes=num_classes, lr=0.0001)\n",
    "\n",
    "nodes_labels = {'node': features.index.to_numpy(), 'label': graph_data.y.cpu().numpy()}\n",
    "df_to_split = pd.DataFrame(nodes_labels)\n",
    "\n",
    "df_train, df_test = train_test_split(df_to_split, test_size=0.2, random_state=42, stratify=df_to_split['label'])\n",
    "df_val, df_test = train_test_split(df_test, test_size=0.5, random_state=42, stratify=df_test['label'])\n",
    "\n",
    "train_nodes = df_train['node']\n",
    "val_nodes = df_val['node']\n",
    "test_nodes = df_test['node']\n",
    "\n",
    "train_mask = []   \n",
    "val_mask = []\n",
    "test_mask = []\n",
    "\n",
    "for i in range(len(graph_data.y)):\n",
    "\n",
    "  if i in train_nodes:\n",
    "    train_mask.append(True)\n",
    "    val_mask.append(False)\n",
    "    test_mask.append(False)\n",
    "  elif i in val_nodes:\n",
    "    train_mask.append(False)\n",
    "    val_mask.append(True)\n",
    "    test_mask.append(False)\n",
    "  elif i in test_nodes:\n",
    "    train_mask.append(False)\n",
    "    val_mask.append(False)\n",
    "    test_mask.append(True)\n",
    "\n",
    "graph_data.train_mask = torch.tensor(train_mask).cpu()\n",
    "graph_data.val_mask = torch.tensor(val_mask).cpu()\n",
    "graph_data.test_mask = torch.tensor(test_mask).cpu()\n",
    "\n",
    "trainer = pl.Trainer(max_epochs=50)\n",
    "datamodule = GraphData([graph_data])\n",
    "trainer.fit(model=model, datamodule=datamodule)"
   ]
  },
  {
   "cell_type": "code",
   "execution_count": 129,
   "metadata": {},
   "outputs": [
    {
     "name": "stdout",
     "output_type": "stream",
     "text": [
      "Testing DataLoader 0: 100%|██████████| 1/1 [00:00<00:00, 12.81it/s]\n"
     ]
    },
    {
     "data": {
      "text/plain": [
       "[{'step': 50.0,\n",
       "  'test/auc_weighted': 0.3399044871330261,\n",
       "  'test/f1_weighted': 0.8851123452186584,\n",
       "  'test/precision_weighted': 0.8507536053657532,\n",
       "  'test/recall_weighted': 0.9223629832267761,\n",
       "  'test/accuracy_weighted': 0.9223629832267761}]"
      ]
     },
     "execution_count": 129,
     "metadata": {},
     "output_type": "execute_result"
    }
   ],
   "source": [
    "trainer.test(model=model, datamodule=datamodule, verbose=False)"
   ]
  },
  {
   "cell_type": "code",
   "execution_count": 130,
   "metadata": {},
   "outputs": [
    {
     "name": "stdout",
     "output_type": "stream",
     "text": [
      "Testing DataLoader 0: 100%|██████████| 1/1 [00:00<00:00, 14.70it/s]\n",
      "Predicting DataLoader 0: 100%|██████████| 1/1 [00:00<00:00, 17.53it/s]\n",
      "AUC test = 33.99[%]\n"
     ]
    }
   ],
   "source": [
    "test_auc = trainer.test(model=model, datamodule=datamodule, verbose=False)[0][\"test/auc_weighted\"]\n",
    "\n",
    "z, y, y_pred = trainer.predict(model=model, datamodule=datamodule)[0]\n",
    "\n",
    "print(f'AUC test = {test_auc * 100.:.2f}[%]')"
   ]
  },
  {
   "cell_type": "code",
   "execution_count": 131,
   "metadata": {},
   "outputs": [
    {
     "data": {
      "text/plain": [
       "array([0, 0, 0, ..., 0, 0, 0])"
      ]
     },
     "execution_count": 131,
     "metadata": {},
     "output_type": "execute_result"
    }
   ],
   "source": [
    "y_pred"
   ]
  },
  {
   "cell_type": "code",
   "execution_count": 132,
   "metadata": {},
   "outputs": [
    {
     "data": {
      "text/plain": [
       "0"
      ]
     },
     "execution_count": 132,
     "metadata": {},
     "output_type": "execute_result"
    }
   ],
   "source": [
    "y_pred.max()"
   ]
  }
 ],
 "metadata": {
  "kernelspec": {
   "display_name": "env",
   "language": "python",
   "name": "python3"
  },
  "language_info": {
   "codemirror_mode": {
    "name": "ipython",
    "version": 3
   },
   "file_extension": ".py",
   "mimetype": "text/x-python",
   "name": "python",
   "nbconvert_exporter": "python",
   "pygments_lexer": "ipython3",
   "version": "3.10.11"
  }
 },
 "nbformat": 4,
 "nbformat_minor": 2
}
