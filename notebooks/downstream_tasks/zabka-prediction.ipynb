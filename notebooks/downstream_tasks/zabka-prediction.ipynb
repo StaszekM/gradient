{
 "cells": [
  {
   "cell_type": "markdown",
   "id": "cfbe98d0",
   "metadata": {},
   "source": [
    "# 1. Imports\n"
   ]
  },
  {
   "cell_type": "code",
   "execution_count": 6,
   "id": "d440116b8deaa04b",
   "metadata": {
    "ExecuteTime": {
     "end_time": "2024-04-29T05:54:43.462692Z",
     "start_time": "2024-04-29T05:54:40.712864Z"
    }
   },
   "outputs": [],
   "source": [
    "import sys\n",
    "sys.path.append('../../') \n",
    "\n",
    "import geopandas as gpd\n",
    "from src.organized_datasets_creation.utils import resolve_nominatim_city_name\n",
    "from src.organized_datasets_creation.utils import convert_nominatim_name_to_filename\n",
    "from src.graph_layering.graph_layer_creator import GraphLayerController\n",
    "import pandas as pd\n",
    "from typing import cast\n",
    "import os\n",
    "from src.graph_layering.graph_layer_creator import SourceType\n",
    "import warnings\n",
    "from src.graph_layering.create_hetero_data import create_hetero_data\n",
    "\n",
    "from tqdm import tqdm\n",
    "\n",
    "import wandb.util\n",
    "import wandb\n",
    "import os\n",
    "\n",
    "import numpy as np\n",
    "from src.graph.create_osmnx_graph import OSMnxGraph\n",
    "import json\n",
    "from shapely.geometry import Point\n",
    "from joblib import dump\n",
    "\n",
    "\n",
    "from datetime import datetime\n",
    "from sklearn.metrics import f1_score, roc_auc_score\n",
    "from wandb.util import generate_id\n",
    "from sklearn.linear_model import LogisticRegression\n",
    "from src.training.train import train\n",
    "from sklearn.preprocessing import StandardScaler"
   ]
  },
  {
   "cell_type": "markdown",
   "id": "4569d985",
   "metadata": {},
   "source": [
    "# 2. Setting up env variables and configs\n"
   ]
  },
  {
   "cell_type": "code",
   "execution_count": 7,
   "id": "585d3870",
   "metadata": {},
   "outputs": [],
   "source": [
    "WANDB_API_KEY= \"56fbb1bf3740faae9e7ef1917dec1f3f5426909b\""
   ]
  },
  {
   "cell_type": "code",
   "execution_count": 8,
   "id": "21b83fb8",
   "metadata": {},
   "outputs": [],
   "source": [
    "# WANDB_API_KEY = os.environ.get(\"WANDB_API_KEY\", None)\n",
    "# assert (\n",
    "#     WANDB_API_KEY is not None\n",
    "# ), \"WANDB_API_KEY is not set, did you forget it in the config file?\""
   ]
  },
  {
   "cell_type": "code",
   "execution_count": 9,
   "id": "54a6a2a3",
   "metadata": {},
   "outputs": [
    {
     "data": {
      "text/html": [
       "<div>\n",
       "<style scoped>\n",
       "    .dataframe tbody tr th:only-of-type {\n",
       "        vertical-align: middle;\n",
       "    }\n",
       "\n",
       "    .dataframe tbody tr th {\n",
       "        vertical-align: top;\n",
       "    }\n",
       "\n",
       "    .dataframe thead th {\n",
       "        text-align: right;\n",
       "    }\n",
       "</style>\n",
       "<table border=\"1\" class=\"dataframe\">\n",
       "  <thead>\n",
       "    <tr style=\"text-align: right;\">\n",
       "      <th></th>\n",
       "      <th>id</th>\n",
       "      <th>slug</th>\n",
       "      <th>openTime</th>\n",
       "      <th>closeTime</th>\n",
       "      <th>city</th>\n",
       "      <th>address</th>\n",
       "      <th>postcode</th>\n",
       "      <th>voivodeship</th>\n",
       "      <th>county</th>\n",
       "      <th>community</th>\n",
       "      <th>region</th>\n",
       "      <th>salesRegion</th>\n",
       "      <th>openTimeSeconds</th>\n",
       "      <th>closeTimeSeconds</th>\n",
       "      <th>lat</th>\n",
       "      <th>lng</th>\n",
       "      <th>services</th>\n",
       "    </tr>\n",
       "  </thead>\n",
       "  <tbody>\n",
       "    <tr>\n",
       "      <th>0</th>\n",
       "      <td>ID06093</td>\n",
       "      <td>ID06093,gdansk-jabloniowa-29a</td>\n",
       "      <td>06:00</td>\n",
       "      <td>23:00</td>\n",
       "      <td>Gdańsk</td>\n",
       "      <td>Jabłoniowa 29A</td>\n",
       "      <td>80-175</td>\n",
       "      <td>Pomorskie</td>\n",
       "      <td>Gdańsk</td>\n",
       "      <td>GDAŃSK (GMINA MIEJSKA)</td>\n",
       "      <td>DS3</td>\n",
       "      <td>PS3.6.3</td>\n",
       "      <td>21600.0</td>\n",
       "      <td>82800.0</td>\n",
       "      <td>54.330567</td>\n",
       "      <td>18.557187</td>\n",
       "      <td>BIH,DEN,GSM,KPO,LOT,ODP,PAC,RAC,REJ,TER,ZBC</td>\n",
       "    </tr>\n",
       "    <tr>\n",
       "      <th>1</th>\n",
       "      <td>ID03871</td>\n",
       "      <td>ID03871,gorzow-wielkopolski-obroncow-pokoju-38...</td>\n",
       "      <td>06:00</td>\n",
       "      <td>23:00</td>\n",
       "      <td>Gorzów Wielkopolski</td>\n",
       "      <td>Obrońców Pokoju 38 nr 38 I</td>\n",
       "      <td>66-400</td>\n",
       "      <td>Lubuskie</td>\n",
       "      <td>Gorzów Wielkopolski</td>\n",
       "      <td>GORZÓW WIELKOPOLSKI (GMINA MIE</td>\n",
       "      <td>DS2</td>\n",
       "      <td>PS2.5.3</td>\n",
       "      <td>21600.0</td>\n",
       "      <td>82800.0</td>\n",
       "      <td>52.764806</td>\n",
       "      <td>15.264941</td>\n",
       "      <td>BIH,DEN,GSM,KPO,LOT,ODP,PAC,RAC,REJ,TER,ZBC</td>\n",
       "    </tr>\n",
       "    <tr>\n",
       "      <th>2</th>\n",
       "      <td>ID06169</td>\n",
       "      <td>ID06169,ruda-slaska-ul-niedurnego-45-lok-1</td>\n",
       "      <td>06:00</td>\n",
       "      <td>23:00</td>\n",
       "      <td>Ruda Śląska</td>\n",
       "      <td>ul. Niedurnego 45 lok. 1</td>\n",
       "      <td>41-709</td>\n",
       "      <td>Śląskie</td>\n",
       "      <td>Ruda Śląska</td>\n",
       "      <td>RUDA ŚLĄSKA (GMINA MIEJSKA)</td>\n",
       "      <td>DS8</td>\n",
       "      <td>PS8.2.2</td>\n",
       "      <td>21600.0</td>\n",
       "      <td>82800.0</td>\n",
       "      <td>50.284140</td>\n",
       "      <td>18.876000</td>\n",
       "      <td>BIH,DEN,GSM,KPO,LOT,ODP,PAC,RAC,REJ,TER,ZBC</td>\n",
       "    </tr>\n",
       "    <tr>\n",
       "      <th>3</th>\n",
       "      <td>ID06264</td>\n",
       "      <td>ID06264,warszawa-ul-zeganska-18</td>\n",
       "      <td>06:00</td>\n",
       "      <td>23:00</td>\n",
       "      <td>Warszawa</td>\n",
       "      <td>ul. Żegańska 18</td>\n",
       "      <td>04-713</td>\n",
       "      <td>Mazowieckie</td>\n",
       "      <td>Warszawa</td>\n",
       "      <td>WARSZAWA (GMINA MIEJSKA, MIAST</td>\n",
       "      <td>DS5</td>\n",
       "      <td>PS5.4.1</td>\n",
       "      <td>21600.0</td>\n",
       "      <td>82800.0</td>\n",
       "      <td>52.205620</td>\n",
       "      <td>21.172909</td>\n",
       "      <td>BIH,DEN,GSM,KPO,LOT,ODP,PAC,RAC,REJ,TER,ZBC</td>\n",
       "    </tr>\n",
       "    <tr>\n",
       "      <th>4</th>\n",
       "      <td>ID05100</td>\n",
       "      <td>ID05100,wejherowo-dworcowa-2</td>\n",
       "      <td>06:00</td>\n",
       "      <td>23:00</td>\n",
       "      <td>Wejherowo</td>\n",
       "      <td>Dworcowa 2</td>\n",
       "      <td>84-200</td>\n",
       "      <td>Pomorskie</td>\n",
       "      <td>wejherowski</td>\n",
       "      <td>WEJHEROWO (GMINA MIEJSKA)</td>\n",
       "      <td>DS3</td>\n",
       "      <td>PS3.2.3</td>\n",
       "      <td>21600.0</td>\n",
       "      <td>82800.0</td>\n",
       "      <td>54.603632</td>\n",
       "      <td>18.228519</td>\n",
       "      <td>BIH,DEN,GSM,KPO,LOT,ODP,PAC,RAC,REJ,TER,ZBC</td>\n",
       "    </tr>\n",
       "    <tr>\n",
       "      <th>...</th>\n",
       "      <td>...</td>\n",
       "      <td>...</td>\n",
       "      <td>...</td>\n",
       "      <td>...</td>\n",
       "      <td>...</td>\n",
       "      <td>...</td>\n",
       "      <td>...</td>\n",
       "      <td>...</td>\n",
       "      <td>...</td>\n",
       "      <td>...</td>\n",
       "      <td>...</td>\n",
       "      <td>...</td>\n",
       "      <td>...</td>\n",
       "      <td>...</td>\n",
       "      <td>...</td>\n",
       "      <td>...</td>\n",
       "      <td>...</td>\n",
       "    </tr>\n",
       "    <tr>\n",
       "      <th>9754</th>\n",
       "      <td>ID0A221</td>\n",
       "      <td>ID0A221,kedzierzyn-kozle-ul-gliwicka-1a</td>\n",
       "      <td>06:00</td>\n",
       "      <td>23:00</td>\n",
       "      <td>Kędzierzyn-Koźle</td>\n",
       "      <td>UL. GLIWICKA 1A</td>\n",
       "      <td>47-224</td>\n",
       "      <td>Opolskie</td>\n",
       "      <td>kędzierzyńsko-kozielski</td>\n",
       "      <td>KĘDZIERZYN-KOŹLE (GMINA MIEJSK</td>\n",
       "      <td>DS7</td>\n",
       "      <td>PS7.5.1</td>\n",
       "      <td>21600.0</td>\n",
       "      <td>82800.0</td>\n",
       "      <td>50.336754</td>\n",
       "      <td>18.183524</td>\n",
       "      <td>DEN,GSM,KPO,ODP,PAC,RAC,REJ,TER,ZBC</td>\n",
       "    </tr>\n",
       "    <tr>\n",
       "      <th>9755</th>\n",
       "      <td>ID0B739</td>\n",
       "      <td>ID0B739,lewin-brzeski-ul-kosciuszki-37d</td>\n",
       "      <td>06:00</td>\n",
       "      <td>23:00</td>\n",
       "      <td>Lewin Brzeski</td>\n",
       "      <td>UL. KOŚCIUSZKI 37D</td>\n",
       "      <td>49-340</td>\n",
       "      <td>Opolskie</td>\n",
       "      <td>brzeski (woj. opolskie)</td>\n",
       "      <td>LEWIN BRZESKI (GMINA MIEJSKO-W</td>\n",
       "      <td>DS7</td>\n",
       "      <td>PS7.5.5</td>\n",
       "      <td>21600.0</td>\n",
       "      <td>82800.0</td>\n",
       "      <td>50.751824</td>\n",
       "      <td>17.615581</td>\n",
       "      <td>DEN,GSM,KPO,ODP,PAC,RAC,REJ,TER,ZBC</td>\n",
       "    </tr>\n",
       "    <tr>\n",
       "      <th>9756</th>\n",
       "      <td>ID0C796</td>\n",
       "      <td>ID0C796,uniejow-ul-targowa-18</td>\n",
       "      <td>00:00</td>\n",
       "      <td>23:59</td>\n",
       "      <td>Uniejów</td>\n",
       "      <td>UL. Targowa 18</td>\n",
       "      <td>99-210</td>\n",
       "      <td>Łódzkie</td>\n",
       "      <td>poddębicki</td>\n",
       "      <td>UNIEJÓW (GMINA MIEJSKO-WIEJSKA</td>\n",
       "      <td>DS6</td>\n",
       "      <td>PS6.6.5</td>\n",
       "      <td>0.0</td>\n",
       "      <td>86340.0</td>\n",
       "      <td>51.976362</td>\n",
       "      <td>18.791962</td>\n",
       "      <td>DEN,GSM,KPO,ODP,PAC,RAC,REJ,TER,ZBC</td>\n",
       "    </tr>\n",
       "    <tr>\n",
       "      <th>9757</th>\n",
       "      <td>ID0D004</td>\n",
       "      <td>ID0D004,warszawa-ul-zamkowa-8-lok-u1</td>\n",
       "      <td>06:00</td>\n",
       "      <td>23:00</td>\n",
       "      <td>Warszawa</td>\n",
       "      <td>UL. Zamkowa 8 lok. U1 .</td>\n",
       "      <td>03-890</td>\n",
       "      <td>Mazowieckie</td>\n",
       "      <td>Warszawa</td>\n",
       "      <td>WARSZAWA (GMINA MIEJSKA, MIAST</td>\n",
       "      <td>DS5</td>\n",
       "      <td>PS5.4.1</td>\n",
       "      <td>21600.0</td>\n",
       "      <td>82800.0</td>\n",
       "      <td>52.274640</td>\n",
       "      <td>21.081131</td>\n",
       "      <td>DEN,GSM,KPO,ODP,PAC,RAC,REJ,TER,ZBC</td>\n",
       "    </tr>\n",
       "    <tr>\n",
       "      <th>9758</th>\n",
       "      <td>ID0D095</td>\n",
       "      <td>ID0D095,torun-ul-strobanda-10a-lok-u2</td>\n",
       "      <td>00:00</td>\n",
       "      <td>23:59</td>\n",
       "      <td>Toruń</td>\n",
       "      <td>UL. STROBANDA 10A LOK.U2</td>\n",
       "      <td>87-100</td>\n",
       "      <td>Kujawsko-Pomorskie</td>\n",
       "      <td>Toruń</td>\n",
       "      <td>TORUŃ (GMINA MIEJSKA)</td>\n",
       "      <td>DS3</td>\n",
       "      <td>PS3.4.1</td>\n",
       "      <td>0.0</td>\n",
       "      <td>86340.0</td>\n",
       "      <td>53.052142</td>\n",
       "      <td>18.603009</td>\n",
       "      <td>DEN,GSM,KPO,ODP,PAC,RAC,REJ,TER,ZBC</td>\n",
       "    </tr>\n",
       "  </tbody>\n",
       "</table>\n",
       "<p>9759 rows × 17 columns</p>\n",
       "</div>"
      ],
      "text/plain": [
       "           id                                               slug openTime  \\\n",
       "0     ID06093                      ID06093,gdansk-jabloniowa-29a    06:00   \n",
       "1     ID03871  ID03871,gorzow-wielkopolski-obroncow-pokoju-38...    06:00   \n",
       "2     ID06169         ID06169,ruda-slaska-ul-niedurnego-45-lok-1    06:00   \n",
       "3     ID06264                    ID06264,warszawa-ul-zeganska-18    06:00   \n",
       "4     ID05100                       ID05100,wejherowo-dworcowa-2    06:00   \n",
       "...       ...                                                ...      ...   \n",
       "9754  ID0A221            ID0A221,kedzierzyn-kozle-ul-gliwicka-1a    06:00   \n",
       "9755  ID0B739            ID0B739,lewin-brzeski-ul-kosciuszki-37d    06:00   \n",
       "9756  ID0C796                      ID0C796,uniejow-ul-targowa-18    00:00   \n",
       "9757  ID0D004               ID0D004,warszawa-ul-zamkowa-8-lok-u1    06:00   \n",
       "9758  ID0D095              ID0D095,torun-ul-strobanda-10a-lok-u2    00:00   \n",
       "\n",
       "     closeTime                 city                     address postcode  \\\n",
       "0        23:00               Gdańsk              Jabłoniowa 29A   80-175   \n",
       "1        23:00  Gorzów Wielkopolski  Obrońców Pokoju 38 nr 38 I   66-400   \n",
       "2        23:00          Ruda Śląska    ul. Niedurnego 45 lok. 1   41-709   \n",
       "3        23:00             Warszawa             ul. Żegańska 18   04-713   \n",
       "4        23:00            Wejherowo                  Dworcowa 2   84-200   \n",
       "...        ...                  ...                         ...      ...   \n",
       "9754     23:00     Kędzierzyn-Koźle             UL. GLIWICKA 1A   47-224   \n",
       "9755     23:00        Lewin Brzeski          UL. KOŚCIUSZKI 37D   49-340   \n",
       "9756     23:59              Uniejów              UL. Targowa 18   99-210   \n",
       "9757     23:00             Warszawa     UL. Zamkowa 8 lok. U1 .   03-890   \n",
       "9758     23:59                Toruń    UL. STROBANDA 10A LOK.U2   87-100   \n",
       "\n",
       "             voivodeship                   county  \\\n",
       "0              Pomorskie                   Gdańsk   \n",
       "1               Lubuskie      Gorzów Wielkopolski   \n",
       "2                Śląskie              Ruda Śląska   \n",
       "3            Mazowieckie                 Warszawa   \n",
       "4              Pomorskie              wejherowski   \n",
       "...                  ...                      ...   \n",
       "9754            Opolskie  kędzierzyńsko-kozielski   \n",
       "9755            Opolskie  brzeski (woj. opolskie)   \n",
       "9756             Łódzkie               poddębicki   \n",
       "9757         Mazowieckie                 Warszawa   \n",
       "9758  Kujawsko-Pomorskie                    Toruń   \n",
       "\n",
       "                           community region salesRegion  openTimeSeconds  \\\n",
       "0             GDAŃSK (GMINA MIEJSKA)    DS3     PS3.6.3          21600.0   \n",
       "1     GORZÓW WIELKOPOLSKI (GMINA MIE    DS2     PS2.5.3          21600.0   \n",
       "2        RUDA ŚLĄSKA (GMINA MIEJSKA)    DS8     PS8.2.2          21600.0   \n",
       "3     WARSZAWA (GMINA MIEJSKA, MIAST    DS5     PS5.4.1          21600.0   \n",
       "4          WEJHEROWO (GMINA MIEJSKA)    DS3     PS3.2.3          21600.0   \n",
       "...                              ...    ...         ...              ...   \n",
       "9754  KĘDZIERZYN-KOŹLE (GMINA MIEJSK    DS7     PS7.5.1          21600.0   \n",
       "9755  LEWIN BRZESKI (GMINA MIEJSKO-W    DS7     PS7.5.5          21600.0   \n",
       "9756  UNIEJÓW (GMINA MIEJSKO-WIEJSKA    DS6     PS6.6.5              0.0   \n",
       "9757  WARSZAWA (GMINA MIEJSKA, MIAST    DS5     PS5.4.1          21600.0   \n",
       "9758           TORUŃ (GMINA MIEJSKA)    DS3     PS3.4.1              0.0   \n",
       "\n",
       "      closeTimeSeconds        lat        lng  \\\n",
       "0              82800.0  54.330567  18.557187   \n",
       "1              82800.0  52.764806  15.264941   \n",
       "2              82800.0  50.284140  18.876000   \n",
       "3              82800.0  52.205620  21.172909   \n",
       "4              82800.0  54.603632  18.228519   \n",
       "...                ...        ...        ...   \n",
       "9754           82800.0  50.336754  18.183524   \n",
       "9755           82800.0  50.751824  17.615581   \n",
       "9756           86340.0  51.976362  18.791962   \n",
       "9757           82800.0  52.274640  21.081131   \n",
       "9758           86340.0  53.052142  18.603009   \n",
       "\n",
       "                                         services  \n",
       "0     BIH,DEN,GSM,KPO,LOT,ODP,PAC,RAC,REJ,TER,ZBC  \n",
       "1     BIH,DEN,GSM,KPO,LOT,ODP,PAC,RAC,REJ,TER,ZBC  \n",
       "2     BIH,DEN,GSM,KPO,LOT,ODP,PAC,RAC,REJ,TER,ZBC  \n",
       "3     BIH,DEN,GSM,KPO,LOT,ODP,PAC,RAC,REJ,TER,ZBC  \n",
       "4     BIH,DEN,GSM,KPO,LOT,ODP,PAC,RAC,REJ,TER,ZBC  \n",
       "...                                           ...  \n",
       "9754          DEN,GSM,KPO,ODP,PAC,RAC,REJ,TER,ZBC  \n",
       "9755          DEN,GSM,KPO,ODP,PAC,RAC,REJ,TER,ZBC  \n",
       "9756          DEN,GSM,KPO,ODP,PAC,RAC,REJ,TER,ZBC  \n",
       "9757          DEN,GSM,KPO,ODP,PAC,RAC,REJ,TER,ZBC  \n",
       "9758          DEN,GSM,KPO,ODP,PAC,RAC,REJ,TER,ZBC  \n",
       "\n",
       "[9759 rows x 17 columns]"
      ]
     },
     "execution_count": 9,
     "metadata": {},
     "output_type": "execute_result"
    }
   ],
   "source": [
    "pd.read_csv(f\"../../data/downstream_tasks/zabka_shops/zabka_shops.csv\")"
   ]
  },
  {
   "cell_type": "code",
   "execution_count": 10,
   "id": "2e7d25fb99b34b10",
   "metadata": {
    "ExecuteTime": {
     "end_time": "2024-04-29T05:54:43.480822Z",
     "start_time": "2024-04-29T05:54:43.463793Z"
    },
    "tags": [
     "parameters"
    ]
   },
   "outputs": [],
   "source": [
    "WANDB_API_KEY= \"56fbb1bf3740faae9e7ef1917dec1f3f5426909b\"\n",
    "\n",
    "# general settings\n",
    "ORGANIZED_HEXES_LOCATION = \"../../data/organized-hexes\"\n",
    "ORGANIZED_GRAPHS_LOCATION = \"../../data/organized_graphs\"\n",
    "OSMNX_ALL_ATTRIBUTES_LOCATION = (\n",
    "    \"../../data/osmnx_attributes.json\"\n",
    ")\n",
    "\n",
    "# downstream task settings\n",
    "ALL_ZABKAS_LOCATION = \"../../data/downstream_tasks/zabka_shops/zabka_shops.csv\"\n",
    "ZABKA_DIR = \"../../data/downstream_tasks/zabka_shops/\"\n",
    "\n",
    "TRAIN_SAVE_DIR = \"../../gradient_logs/\"\n",
    "\n",
    "SWEEP_RUNS_COUNT = 50\n",
    "EPOCHS = 300\n",
    "\n",
    "ATTRIBUTES_CONFIGURATIONS = [\n",
    "    # {\n",
    "    #     \"USE_ORTOPHOTO\": False,\n",
    "    #     \"USE_HEXES_ATTRS\": True,\n",
    "    #     \"USE_OSMNX_ATTRS\": False,\n",
    "    # },\n",
    "    {\n",
    "        \"USE_ORTOPHOTO\": False,\n",
    "        \"USE_HEXES_ATTRS\": True,\n",
    "        \"USE_OSMNX_ATTRS\": True,\n",
    "    },\n",
    "    {\n",
    "        \"USE_ORTOPHOTO\": False,\n",
    "        \"USE_HEXES_ATTRS\": False,\n",
    "        \"USE_OSMNX_ATTRS\": True,\n",
    "    },\n",
    "]\n",
    "\n",
    "WANDB_SWEEP_PARAMS_GRAPH_DATA = {\n",
    "    \"method\": \"bayes\",\n",
    "    \"metric\": {\"name\": \"mean_f1\", \"goal\": \"maximize\"},\n",
    "    \"parameters\": {\n",
    "        \"hidden_channels\": {\"values\": [10, 20, 30, 40, 50]},\n",
    "        \"learning_rate\": {\n",
    "            \"distribution\": \"log_uniform_values\",\n",
    "            \"min\": 1e-5,\n",
    "            \"max\": 1e-2,\n",
    "        },\n",
    "        \"num_conv_layers\": {\"values\": [1, 2, 3, 4, 5]},\n",
    "        \"lin_layer_size\": {\"values\": [8, 16, 32, 64, 128]},\n",
    "        \"num_lin_layers\": {\"values\": [0, 1, 2, 3, 4]},\n",
    "        \"weight_decay\": {\n",
    "            \"distribution\": \"log_uniform_values\",\n",
    "            \"min\": 1e-5,\n",
    "            \"max\": 1e-2,\n",
    "        },\n",
    "    },\n",
    "}\n",
    "\n",
    "WANDB_SWEEP_PARAMS_TABULAR_DATA = {\n",
    "    \"method\": \"bayes\",\n",
    "    \"metric\": {\"name\": \"mean_f1\", \"goal\": \"maximize\"},\n",
    "    \"parameters\": {\n",
    "        \"solver_penalty\": {\n",
    "            \"values\": [\n",
    "                \"lbfgs;l2\",\n",
    "                \"liblinear;l1\",\n",
    "                \"liblinear;l2\",\n",
    "                \"newton-cg;l2\",\n",
    "                \"newton-cholesky;l2\",\n",
    "                \"sag;l2\",\n",
    "                \"saga;elasticnet\",\n",
    "                \"saga;l1\",\n",
    "                \"saga;l2\",\n",
    "            ]\n",
    "        },\n",
    "        \"C\": {\n",
    "            \"distribution\": \"log_uniform_values\",\n",
    "            \"min\": 1e-5,\n",
    "            \"max\": 1,\n",
    "        },\n",
    "    },\n",
    "}"
   ]
  },
  {
   "cell_type": "markdown",
   "id": "51129540",
   "metadata": {},
   "source": [
    "# 3. Loading zabka\n",
    "\n",
    "The process includes removing unused columns and creating GeoSeries from raw X Y points\n"
   ]
  },
  {
   "cell_type": "code",
   "execution_count": 11,
   "id": "1426d7ddde7af4b6",
   "metadata": {
    "ExecuteTime": {
     "end_time": "2024-04-29T05:54:44.922146Z",
     "start_time": "2024-04-29T05:54:43.481459Z"
    }
   },
   "outputs": [],
   "source": [
    "all_zabkas = pd.read_csv(ALL_ZABKAS_LOCATION)\n",
    "\n",
    "\n",
    "def create_point(x):\n",
    "    return Point(float(x[0]), float(x[1]))\n",
    "\n",
    "\n",
    "geometry = all_zabkas[[\"lng\", \"lat\"]].apply(create_point, axis=1)\n",
    "\n",
    "gdf_zabka = gpd.GeoDataFrame(all_zabkas, geometry=geometry, crs=\"EPSG:4326\")\n",
    "gdf_zabka.drop(columns=[\"lng\", \"lat\"], inplace=True)\n",
    "gdf_zabka['zabka_count'] = 1"
   ]
  },
  {
   "cell_type": "markdown",
   "id": "e5ecb693",
   "metadata": {},
   "source": [
    "# 4. Displaying available cities\n"
   ]
  },
  {
   "cell_type": "code",
   "execution_count": 12,
   "id": "fa453cc94b7c9a03",
   "metadata": {
    "ExecuteTime": {
     "end_time": "2024-04-29T05:54:44.938471Z",
     "start_time": "2024-04-29T05:54:44.922907Z"
    }
   },
   "outputs": [],
   "source": [
    "cities = [\"Kraków\", \"Poznań\", \"Szczecin\", \"Wrocław\", \"Warszawa\"]"
   ]
  },
  {
   "cell_type": "markdown",
   "id": "4e8fa817",
   "metadata": {},
   "source": [
    "# 5. Creating GeoDataFrames\n",
    "\n",
    "The process of creation has following steps:\n",
    "\n",
    "1. loading OSMNX nodes and edges\n",
    "2. assigning accidents to OSMNX nodes\n",
    "3. taking latest H9 resolution hexes\n",
    "4. combining OSMNX nodes, OSMNX edges, hexes in a single dict and packing it inside gdfs_dict\n"
   ]
  },
  {
   "cell_type": "code",
   "execution_count": 13,
   "id": "65f1124060ba1239",
   "metadata": {
    "ExecuteTime": {
     "end_time": "2024-04-29T05:57:59.983530Z",
     "start_time": "2024-04-29T05:54:44.939172Z"
    }
   },
   "outputs": [
    {
     "name": "stdout",
     "output_type": "stream",
     "text": [
      "Creating gdfs...\n"
     ]
    },
    {
     "name": "stderr",
     "output_type": "stream",
     "text": [
      "100%|██████████| 5/5 [00:01<00:00,  2.99it/s]\n"
     ]
    }
   ],
   "source": [
    "def add_accidents_to_osmnx_nodes(\n",
    "    zabkas: gpd.GeoDataFrame,\n",
    "    nodes: gpd.GeoDataFrame,\n",
    "    edges: gpd.GeoDataFrame,\n",
    "    city_name: str,\n",
    "):\n",
    "    with open(OSMNX_ALL_ATTRIBUTES_LOCATION) as f:\n",
    "        all_attributes = json.load(f)\n",
    "\n",
    "    osmnx_graph = OSMnxGraph(\n",
    "        zabkas.loc[\n",
    "            zabkas[\"county\"] == resolve_nominatim_city_name(city_name), :\n",
    "        ],\n",
    "        nodes,\n",
    "        edges,\n",
    "        all_attributes,\n",
    "        y_column_name=\"zabka_count\"\n",
    "    )\n",
    "    osmnx_graph._aggregate(element_type=\"node\", aggregation_method=\"count\")\n",
    "    return osmnx_graph.gdf_nodes\n",
    "\n",
    "\n",
    "def create_gdfs(city_name: str, accidents_gdf: gpd.GeoDataFrame = gdf_zabka):\n",
    "    city_folder_name = convert_nominatim_name_to_filename(\n",
    "        resolve_nominatim_city_name(city_name)\n",
    "    )\n",
    "    osmnx_nodes = gpd.read_parquet(\n",
    "        os.path.join(ORGANIZED_GRAPHS_LOCATION, city_folder_name, \"nodes.parquet\")\n",
    "    )\n",
    "    osmnx_nodes = osmnx_nodes.reset_index()\n",
    "    osmnx_nodes.index.names = [\"node_id\"]\n",
    "    osmnx_nodes[\"x\"] = osmnx_nodes[\"geometry\"].x\n",
    "    osmnx_nodes[\"y\"] = osmnx_nodes[\"geometry\"].y\n",
    "\n",
    "    osmnx_edges = gpd.read_parquet(\n",
    "        os.path.join(ORGANIZED_GRAPHS_LOCATION, city_folder_name, \"edges.parquet\")\n",
    "    )\n",
    "    osmnx_edges = osmnx_edges.reset_index().rename(columns={\"index\": \"edge_id\"})\n",
    "    osmnx_edges.index.names = [\"edge_id\"]\n",
    "\n",
    "    assert osmnx_nodes.crs == osmnx_edges.crs\n",
    "    assert osmnx_nodes.crs == accidents_gdf.crs\n",
    "\n",
    "    osmnx_nodes = add_accidents_to_osmnx_nodes(\n",
    "        zabkas=accidents_gdf,\n",
    "        nodes=osmnx_nodes,\n",
    "        city_name=city_name,\n",
    "        edges=osmnx_edges,\n",
    "    )\n",
    "\n",
    "    hexes_years_folder = os.path.join(ORGANIZED_HEXES_LOCATION, city_folder_name)\n",
    "\n",
    "    subfolders = [\n",
    "        int(f)\n",
    "        for f in os.listdir(hexes_years_folder)\n",
    "        if os.path.isdir(os.path.join(hexes_years_folder, f))\n",
    "    ]\n",
    "    highest_year = subfolders[np.argmax(subfolders)]\n",
    "\n",
    "    hexes: gpd.GeoDataFrame = gpd.read_parquet(\n",
    "        os.path.join(\n",
    "            ORGANIZED_HEXES_LOCATION,\n",
    "            f\"{convert_nominatim_name_to_filename(resolve_nominatim_city_name(city_name))}/{highest_year}/h9/count-embedder/dataset.parquet\",\n",
    "        )\n",
    "    )\n",
    "\n",
    "    hexes = hexes.rename(columns={\"region_id\": \"h3_id\"}).rename_axis(\n",
    "        \"region_id\", axis=0\n",
    "    )\n",
    "\n",
    "    return dict(osmnx_nodes=osmnx_nodes, osmnx_edges=osmnx_edges, hexes=hexes)\n",
    "\n",
    "\n",
    "print(\"Creating gdfs...\")\n",
    "gdfs_dict = {city_name: create_gdfs(city_name+ \", Poland\") for city_name in tqdm(cities)}"
   ]
  },
  {
   "cell_type": "markdown",
   "id": "f6304be2",
   "metadata": {},
   "source": [
    "# 6. Creating GraphLayerController for each of the cities\n",
    "\n",
    "The creation is based on previously made GeoDataFrames. The controller is used to transfer accidents Y values from OSMNX nodes to hexes. It is also used to create complete graph data in case of graph datasets.\n"
   ]
  },
  {
   "cell_type": "code",
   "execution_count": 14,
   "id": "2fdc8136326251d0",
   "metadata": {
    "ExecuteTime": {
     "end_time": "2024-04-29T05:58:00.358809Z",
     "start_time": "2024-04-29T05:58:00.142909Z"
    }
   },
   "outputs": [],
   "source": [
    "with warnings.catch_warnings():\n",
    "    warnings.simplefilter(\"ignore\")\n",
    "    for gdf_for_city in gdfs_dict.values():\n",
    "        gdf_for_city[\"controller\"] = GraphLayerController(\n",
    "            gdf_for_city[\"hexes\"],\n",
    "            gdf_for_city[\"osmnx_nodes\"],\n",
    "            gdf_for_city[\"osmnx_edges\"],\n",
    "        )"
   ]
  },
  {
   "cell_type": "markdown",
   "id": "402c77ee",
   "metadata": {},
   "source": [
    "# 7. Patching hexes\n",
    "\n",
    "The y value (1 = accident occured, 0 = no accident) is assigned to each of the hexes according to its underlying OSMNX nodes\n"
   ]
  },
  {
   "cell_type": "code",
   "execution_count": 15,
   "id": "e0aac7a866a12b15",
   "metadata": {
    "ExecuteTime": {
     "end_time": "2024-04-29T05:58:00.376920Z",
     "start_time": "2024-04-29T05:58:00.359616Z"
    }
   },
   "outputs": [],
   "source": [
    "def patch_hexes_with_y(\n",
    "    osmnx_nodes: gpd.GeoDataFrame,\n",
    "    hexes: gpd.GeoDataFrame,\n",
    "    controller: GraphLayerController,\n",
    "):\n",
    "    virtual_edges = controller.get_virtual_edges_to_hexes(SourceType.OSMNX_NODES)\n",
    "    hexes_with_y = cast(\n",
    "        gpd.GeoDataFrame,\n",
    "        hexes.merge(\n",
    "            virtual_edges.merge(osmnx_nodes, left_on=\"source_id\", right_index=True)[\n",
    "                [\"region_id\", \"zabka_count\"]\n",
    "            ]\n",
    "            .groupby(\"region_id\")\n",
    "            .sum(),\n",
    "            left_index=True,\n",
    "            right_index=True,\n",
    "            how=\"left\",\n",
    "        ).fillna(0),\n",
    "    )\n",
    "    hexes_with_y[\"zabka\"] = (hexes_with_y[\"zabka_count\"] > 0).astype(int)\n",
    "    hexes_with_y.drop(columns=\"zabka_count\", inplace=True)\n",
    "    controller.hexes_gdf = hexes_with_y\n",
    "    controller._hexes_centroids_gdf = controller._create_hexes_centroids_gdf()"
   ]
  },
  {
   "cell_type": "code",
   "execution_count": 16,
   "id": "7348370ea8cdaece",
   "metadata": {
    "ExecuteTime": {
     "end_time": "2024-04-29T05:58:00.689761Z",
     "start_time": "2024-04-29T05:58:00.377730Z"
    }
   },
   "outputs": [],
   "source": [
    "with warnings.catch_warnings():\n",
    "    warnings.simplefilter(\"ignore\")\n",
    "    for gdfs in gdfs_dict.values():\n",
    "        patch_hexes_with_y(gdfs[\"osmnx_nodes\"], gdfs[\"hexes\"], gdfs[\"controller\"])"
   ]
  },
  {
   "cell_type": "markdown",
   "id": "3025c1ec",
   "metadata": {},
   "source": [
    "# 8. Creating graph data\n",
    "\n",
    "Graph data is used when we include OSMNX attributes and in turn maintain the graph structure of the data\n",
    "\n",
    "The data is created only once for now just to create (train, val, test) folds labels for crossvalidation on graph-based versions of the task\n"
   ]
  },
  {
   "cell_type": "code",
   "execution_count": 17,
   "id": "aa099bf6c66b97cf",
   "metadata": {
    "ExecuteTime": {
     "end_time": "2024-04-29T05:58:01.878441Z",
     "start_time": "2024-04-29T05:58:00.690710Z"
    }
   },
   "outputs": [],
   "source": [
    "def create_graph_data(\n",
    "    osmnx_nodes,\n",
    "    osmnx_edges,\n",
    "    hexes,\n",
    "    controller: GraphLayerController,\n",
    "    use_hexes_attr: bool,\n",
    "    use_ortophoto: bool,\n",
    "):\n",
    "\n",
    "    edges_attr_columns = osmnx_edges.columns[\n",
    "        ~osmnx_edges.columns.isin([\"u\", \"v\", \"key\", \"geometry\"])\n",
    "    ]\n",
    "    nodes_attr_columns = osmnx_nodes.columns[\n",
    "        ~osmnx_nodes.columns.isin([\"geometry\", \"x\", \"y\", \"osmid\", \"zabka_count\"])\n",
    "    ]\n",
    "    hexes_attr_columns = (\n",
    "        hexes.columns[~hexes.columns.isin([\"geometry\", \"h3_id\"])]\n",
    "        if use_hexes_attr\n",
    "        else []\n",
    "    )\n",
    "\n",
    "    data = create_hetero_data(\n",
    "        controller,\n",
    "        hexes_attrs_columns_names=hexes_attr_columns,\n",
    "        osmnx_edge_attrs_columns_names=edges_attr_columns,\n",
    "        osmnx_node_attrs_columns_names=nodes_attr_columns,\n",
    "        virtual_edge_attrs_columns_names=[],\n",
    "        hexes_y_columns_names=[\"zabka\"],\n",
    "    )\n",
    "    return data\n",
    "\n",
    "\n",
    "graph_data_dict = {\n",
    "    city_name: create_graph_data(**gdfs, use_ortophoto=True, use_hexes_attr=True)\n",
    "    for city_name, gdfs in gdfs_dict.items()\n",
    "}"
   ]
  },
  {
   "cell_type": "markdown",
   "id": "aaa7d7c7",
   "metadata": {},
   "source": [
    "# 9. Creating tabular data\n",
    "\n",
    "Tabular data is used when we omit OSMNX attributes and in turn lose the graph structure of the data\n",
    "\n",
    "No folds creation on tabular-based versions of the task - using simple leave-one-out\n"
   ]
  },
  {
   "cell_type": "code",
   "execution_count": 18,
   "id": "9d17b304",
   "metadata": {},
   "outputs": [],
   "source": [
    "def create_tabular_data(\n",
    "    hexes: pd.DataFrame,\n",
    "    controller: GraphLayerController,\n",
    "    use_hexes_attr: bool,\n",
    "    use_ortophoto: bool,\n",
    "):\n",
    "    assert use_ortophoto or use_hexes_attr, \"Provide at least one data source\"\n",
    "\n",
    "    hexes_attr_columns = (\n",
    "        hexes.columns[~hexes.columns.isin([\"geometry\", \"h3_id\"])]\n",
    "        if use_hexes_attr\n",
    "        else []\n",
    "    )\n",
    "\n",
    "    hexes_y_columns_names = [\"zabka\"]\n",
    "\n",
    "    X = hexes[hexes_attr_columns]\n",
    "    y = controller.hexes_centroids_gdf[hexes_y_columns_names]\n",
    "\n",
    "    return {\"X\": X, \"y\": y}\n",
    "\n",
    "\n",
    "tabular_data_dict = {\n",
    "    city_name: create_tabular_data(\n",
    "        gdfs[\"hexes\"], gdfs[\"controller\"], use_ortophoto=True, use_hexes_attr=True\n",
    "    )\n",
    "    for city_name, gdfs in gdfs_dict.items()\n",
    "}"
   ]
  },
  {
   "cell_type": "markdown",
   "id": "0da44b71",
   "metadata": {},
   "source": [
    "# 10. Creating folds labels\n"
   ]
  },
  {
   "cell_type": "code",
   "execution_count": 19,
   "id": "735adf5b",
   "metadata": {},
   "outputs": [
    {
     "data": {
      "text/plain": [
       "[('Wrocław', 'Kraków'),\n",
       " ('Kraków', 'Poznań'),\n",
       " ('Poznań', 'Szczecin'),\n",
       " ('Szczecin', 'Warszawa'),\n",
       " ('Warszawa', 'Wrocław')]"
      ]
     },
     "metadata": {},
     "output_type": "display_data"
    }
   ],
   "source": [
    "def shift_elements_right(lst):\n",
    "    shifted_lst = [lst[-1]] + lst[:-1]\n",
    "    return shifted_lst\n",
    "\n",
    "\n",
    "cities_names_list = list(graph_data_dict.keys())\n",
    "cities_names_list.sort(key=lambda x: str(x))\n",
    "\n",
    "# val + test\n",
    "folds_tuples = list(zip(shift_elements_right(cities_names_list), cities_names_list))\n",
    "display(folds_tuples)"
   ]
  },
  {
   "cell_type": "markdown",
   "id": "edd185f7",
   "metadata": {},
   "source": [
    "# 11. Functions setup\n"
   ]
  },
  {
   "cell_type": "code",
   "execution_count": 20,
   "id": "312d98f295cfeb0a",
   "metadata": {
    "ExecuteTime": {
     "end_time": "2024-04-29T07:59:07.807822Z",
     "start_time": "2024-04-29T07:58:54.359959Z"
    }
   },
   "outputs": [],
   "source": [
    "def run_k_fold_graph_data(closure_config, sweep_id):\n",
    "    # pass external config (i.e. what attributes are used in the data), closure to avoid passing it to the function directly\n",
    "    def wrapped():\n",
    "        run = wandb.init()\n",
    "        epochs = EPOCHS\n",
    "\n",
    "        config = wandb.config\n",
    "\n",
    "        for k, v in closure_config.items():\n",
    "            run.log({k: 1 if v else 0})\n",
    "\n",
    "        run.log({\"data_structure\": \"graph\"})\n",
    "\n",
    "        # create hparams\n",
    "        if hasattr(config, \"lin_layer_size\") and hasattr(config, \"num_lin_layers\"):\n",
    "            lin_layer_sizes = [config.lin_layer_size] * config.num_lin_layers\n",
    "        else:\n",
    "            lin_layer_sizes = config.lin_layer_sizes\n",
    "        hparams = {\n",
    "            \"hidden_channels\": config.hidden_channels,\n",
    "            \"lr\": config.learning_rate,\n",
    "            \"num_conv_layers\": config.num_conv_layers,\n",
    "            \"lin_layer_sizes\": lin_layer_sizes,\n",
    "            \"weight_decay\": config.weight_decay,\n",
    "        }\n",
    "\n",
    "        aucs = []\n",
    "        accuracies = []\n",
    "        f1s = []\n",
    "\n",
    "        fold_group_id = generate_id()\n",
    "\n",
    "        # log data as artifact if no data was logged in the sweep before\n",
    "        # dataset is uploaded only on the first run in sweep, because it does not change across runs in sweep\n",
    "        # in wandb, dataset will be visible on the first run in the sweep\n",
    "        artifact_path = os.path.join(TRAIN_SAVE_DIR, f\"graph_data_{sweep_id}.pkl\")\n",
    "        if not os.path.exists(artifact_path):\n",
    "            dump(\n",
    "                graph_data_dict,\n",
    "                artifact_path,\n",
    "                protocol=5,\n",
    "            )\n",
    "            artifact = wandb.Artifact(\n",
    "                name=\"graph_data\", type=\"dataset\", metadata=closure_config\n",
    "            )\n",
    "            artifact.add_file(local_path=artifact_path)\n",
    "            run.log_artifact(artifact)\n",
    "\n",
    "        # run k-fold\n",
    "        for index, (val_city_name, test_city_name) in enumerate(folds_tuples):\n",
    "            # prepare data\n",
    "            val_data = [graph_data_dict[val_city_name].to(\"cpu\").clone()]\n",
    "            train_data = [\n",
    "                v.to(\"cpu\").clone()\n",
    "                for k, v in graph_data_dict.items()\n",
    "                if k != val_city_name and k != test_city_name\n",
    "            ]\n",
    "            test_data = graph_data_dict[test_city_name].to(\"cpu\").clone()\n",
    "\n",
    "            # run training with checkpointing on lowest val_loss, return test metrics for the best model and its path\n",
    "            # builtin preprocessing - scaling to N(0, 1)\n",
    "            auc, accuracy, f1, model_path = train(\n",
    "                train_data=train_data,\n",
    "                val_data=val_data,\n",
    "                test_data=test_data,\n",
    "                epochs=epochs,\n",
    "                hparams=hparams,\n",
    "                train_save_dir=TRAIN_SAVE_DIR,\n",
    "            )\n",
    "\n",
    "            # logging - single fold\n",
    "            run.log_model(\n",
    "                path=model_path,\n",
    "                name=f\"model_{fold_group_id}_fold_{index}\",\n",
    "            )\n",
    "            run.log({f\"auc_fold_{index}\": auc})\n",
    "            run.log({f\"accuracy_fold_{index}\": accuracy})\n",
    "            run.log({f\"f1_fold_{index}\": f1})\n",
    "\n",
    "            aucs.append(auc)\n",
    "            accuracies.append(accuracy)\n",
    "            f1s.append(f1)\n",
    "\n",
    "        # logging - summary statistics\n",
    "        mean_auc = sum(aucs) / len(aucs)\n",
    "        mean_accuracy = sum(accuracies) / len(accuracies)\n",
    "        mean_f1 = sum(f1s) / len(f1s)\n",
    "        run.log({\"mean_auc\": mean_auc})\n",
    "        run.log({\"mean_accuracy\": mean_accuracy})\n",
    "        run.log({\"mean_f1\": mean_f1})\n",
    "\n",
    "    return wrapped\n",
    "\n",
    "\n",
    "def run_k_fold_tabular_data(closure_config, sweep_id):\n",
    "    # analogously to the graph data, but for tabular data\n",
    "    def wrapped():\n",
    "        run = wandb.init()\n",
    "\n",
    "        config = wandb.config\n",
    "\n",
    "        for k, v in closure_config.items():\n",
    "            run.log({k: 1 if v else 0})\n",
    "\n",
    "        run.log({\"data_structure\": \"tabular\"})\n",
    "\n",
    "        hparams = {}\n",
    "        hparams[\"C\"] = config[\"C\"]\n",
    "        solver, penalty = config[\"solver_penalty\"].split(\";\")\n",
    "        hparams[\"solver\"] = solver\n",
    "        if penalty == \"None\":\n",
    "            penalty = None\n",
    "        hparams[\"penalty\"] = penalty\n",
    "\n",
    "        aucs = []\n",
    "        accuracies = []\n",
    "        f1s = []\n",
    "\n",
    "        fold_group_id = generate_id()\n",
    "\n",
    "        # log data as artifact\n",
    "        artifact_path = os.path.join(TRAIN_SAVE_DIR, f\"tabular_data_{sweep_id}.pkl\")\n",
    "\n",
    "        if not os.path.exists(artifact_path):\n",
    "            dump(\n",
    "                tabular_data_dict,\n",
    "                artifact_path,\n",
    "                protocol=5,\n",
    "            )\n",
    "            artifact = wandb.Artifact(\n",
    "                name=\"tabular_data\", type=\"dataset\", metadata=closure_config\n",
    "            )\n",
    "            artifact.add_file(local_path=artifact_path)\n",
    "            run.log_artifact(artifact)\n",
    "\n",
    "        timestamp = datetime.now().strftime(\"%Y_%m_%d_%H_%M_%S\")\n",
    "\n",
    "        for index, test_city_name in enumerate(cities_names_list):\n",
    "            scaler = StandardScaler()\n",
    "            X = pd.concat(\n",
    "                [\n",
    "                    m[\"X\"]\n",
    "                    for key, m in tabular_data_dict.items()\n",
    "                    if key != test_city_name\n",
    "                ]\n",
    "            ).to_numpy()\n",
    "            y = (\n",
    "                pd.concat(\n",
    "                    [\n",
    "                        m[\"y\"]\n",
    "                        for key, m in tabular_data_dict.items()\n",
    "                        if key != test_city_name\n",
    "                    ]\n",
    "                )\n",
    "                .to_numpy()\n",
    "                .ravel()\n",
    "            )\n",
    "\n",
    "            X = scaler.fit_transform(X)\n",
    "\n",
    "            logistic_regression = LogisticRegression(\n",
    "                C=hparams[\"C\"],\n",
    "                solver=hparams[\"solver\"],\n",
    "                penalty=hparams[\"penalty\"],\n",
    "                dual=False,\n",
    "                tol=1e-4,\n",
    "                fit_intercept=True,\n",
    "                intercept_scaling=1,\n",
    "                class_weight=\"balanced\",\n",
    "                random_state=1124,\n",
    "                max_iter=1000,\n",
    "                multi_class=\"auto\",\n",
    "                warm_start=False,\n",
    "                n_jobs=-1,\n",
    "                l1_ratio=0.5,\n",
    "            )\n",
    "            logistic_regression.fit(X, y)\n",
    "\n",
    "            test_X = tabular_data_dict[test_city_name][\"X\"].to_numpy()\n",
    "            test_X = scaler.transform(test_X)\n",
    "            test_y = tabular_data_dict[test_city_name][\"y\"].to_numpy().ravel()\n",
    "            y_pred = logistic_regression.predict(test_X)\n",
    "            y_proba = logistic_regression.predict_proba(test_X)[:, 1]\n",
    "\n",
    "            auc = roc_auc_score(test_y, y_proba, average=\"micro\")\n",
    "            accuracy = (y_pred == test_y).mean()\n",
    "            f1 = f1_score(\n",
    "                test_y,\n",
    "                y_pred,\n",
    "                pos_label=1,\n",
    "                average=\"binary\",\n",
    "            )\n",
    "\n",
    "            model_dir = os.path.join(TRAIN_SAVE_DIR, timestamp)\n",
    "\n",
    "            os.makedirs(model_dir, exist_ok=True)\n",
    "\n",
    "            model_path = os.path.join(\n",
    "                model_dir, f\"model_{fold_group_id}_fold_{index}.pkl\"\n",
    "            )\n",
    "\n",
    "            with open(model_path, \"wb\") as f:\n",
    "                dump(logistic_regression, f, protocol=5)\n",
    "\n",
    "            run.log_model(\n",
    "                path=model_path,\n",
    "                name=f\"model_{fold_group_id}_fold_{index}\",\n",
    "            )\n",
    "            run.log({f\"auc_fold_{index}\": auc})\n",
    "            run.log({f\"accuracy_fold_{index}\": accuracy})\n",
    "            run.log({f\"f1_fold_{index}\": f1})\n",
    "\n",
    "            aucs.append(auc)\n",
    "            accuracies.append(accuracy)\n",
    "            f1s.append(f1)\n",
    "\n",
    "        mean_auc = sum(aucs) / len(aucs)\n",
    "        mean_accuracy = sum(accuracies) / len(accuracies)\n",
    "        mean_f1 = sum(f1s) / len(f1s)\n",
    "        run.log({\"mean_auc\": mean_auc})\n",
    "        run.log({\"mean_accuracy\": mean_accuracy})\n",
    "        run.log({\"mean_f1\": mean_f1})\n",
    "\n",
    "    return wrapped\n",
    "\n",
    "\n",
    "def run_sweep_graph_data(config):\n",
    "    try:\n",
    "        wandb.login(key=WANDB_API_KEY)\n",
    "        sweep_id = wandb.sweep(\n",
    "            WANDB_SWEEP_PARAMS_GRAPH_DATA, project=\"zabka-downstream-task\"\n",
    "        )\n",
    "\n",
    "        wandb.agent(\n",
    "            sweep_id,\n",
    "            function=run_k_fold_graph_data(config, sweep_id),\n",
    "            count=SWEEP_RUNS_COUNT,\n",
    "        )\n",
    "    except Exception as e:\n",
    "        print(e)\n",
    "        wandb.finish()\n",
    "        wandb.sweep\n",
    "        raise e\n",
    "\n",
    "\n",
    "def run_sweep_tabular_data(config):\n",
    "    try:\n",
    "        wandb.login(key=WANDB_API_KEY)\n",
    "\n",
    "        sweep_id = wandb.sweep(\n",
    "            WANDB_SWEEP_PARAMS_TABULAR_DATA, project=\"zabka-downstream-task\"\n",
    "        )\n",
    "\n",
    "        wandb.agent(\n",
    "            sweep_id,\n",
    "            function=run_k_fold_tabular_data(config, sweep_id),\n",
    "            count=SWEEP_RUNS_COUNT,\n",
    "        )\n",
    "    except Exception as e:\n",
    "        print(e)\n",
    "        wandb.finish()\n",
    "        raise e"
   ]
  },
  {
   "cell_type": "markdown",
   "id": "983e8cf8",
   "metadata": {},
   "source": [
    "# 12. Run functions\n",
    "\n",
    "For each config:\n",
    "\n",
    "1. Determine if config requires tabular or graph data\n",
    "2. Create data excluding attributes not included in the config\n",
    "3. Run the sweep\n"
   ]
  },
  {
   "cell_type": "code",
   "execution_count": 21,
   "id": "aef83315",
   "metadata": {},
   "outputs": [
    {
     "name": "stdout",
     "output_type": "stream",
     "text": [
      "Sweep for config 1/2 in progress...\n"
     ]
    },
    {
     "name": "stderr",
     "output_type": "stream",
     "text": [
      "Failed to detect the name of this notebook, you can set it manually with the WANDB_NOTEBOOK_NAME environment variable to enable code saving.\n",
      "\u001b[34m\u001b[1mwandb\u001b[0m: Currently logged in as: \u001b[33mjuliajaniak\u001b[0m (\u001b[33mgradient_pwr\u001b[0m). Use \u001b[1m`wandb login --relogin`\u001b[0m to force relogin\n",
      "\u001b[34m\u001b[1mwandb\u001b[0m: \u001b[33mWARNING\u001b[0m If you're specifying your api key in code, ensure this code is not shared publicly.\n",
      "\u001b[34m\u001b[1mwandb\u001b[0m: \u001b[33mWARNING\u001b[0m Consider setting the WANDB_API_KEY environment variable, or running `wandb login` from the command line.\n",
      "\u001b[34m\u001b[1mwandb\u001b[0m: Appending key for api.wandb.ai to your netrc file: /Users/jjaniak/.netrc\n"
     ]
    },
    {
     "name": "stdout",
     "output_type": "stream",
     "text": [
      "Create sweep with ID: d0rbt10k\n",
      "Sweep URL: https://wandb.ai/gradient_pwr/zabka-downstream-task/sweeps/d0rbt10k\n"
     ]
    },
    {
     "name": "stderr",
     "output_type": "stream",
     "text": [
      "\u001b[34m\u001b[1mwandb\u001b[0m: Agent Starting Run: 81ergqrv with config:\n",
      "\u001b[34m\u001b[1mwandb\u001b[0m: \thidden_channels: 20\n",
      "\u001b[34m\u001b[1mwandb\u001b[0m: \tlearning_rate: 0.0050065230358305665\n",
      "\u001b[34m\u001b[1mwandb\u001b[0m: \tlin_layer_size: 32\n",
      "\u001b[34m\u001b[1mwandb\u001b[0m: \tnum_conv_layers: 2\n",
      "\u001b[34m\u001b[1mwandb\u001b[0m: \tnum_lin_layers: 0\n",
      "\u001b[34m\u001b[1mwandb\u001b[0m: \tweight_decay: 2.9110922701160134e-05\n",
      "Failed to detect the name of this notebook, you can set it manually with the WANDB_NOTEBOOK_NAME environment variable to enable code saving.\n"
     ]
    },
    {
     "data": {
      "text/html": [
       "wandb version 0.17.0 is available!  To upgrade, please run:\n",
       " $ pip install wandb --upgrade"
      ],
      "text/plain": [
       "<IPython.core.display.HTML object>"
      ]
     },
     "metadata": {},
     "output_type": "display_data"
    },
    {
     "data": {
      "text/html": [
       "Tracking run with wandb version 0.16.4"
      ],
      "text/plain": [
       "<IPython.core.display.HTML object>"
      ]
     },
     "metadata": {},
     "output_type": "display_data"
    },
    {
     "data": {
      "text/html": [
       "Run data is saved locally in <code>/Users/jjaniak/Documents/studia/projekt/gradient/notebooks/downstream_tasks/wandb/run-20240604_115208-81ergqrv</code>"
      ],
      "text/plain": [
       "<IPython.core.display.HTML object>"
      ]
     },
     "metadata": {},
     "output_type": "display_data"
    },
    {
     "data": {
      "text/html": [
       "Syncing run <strong><a href='https://wandb.ai/gradient_pwr/zabka-downstream-task/runs/81ergqrv' target=\"_blank\">visionary-sweep-1</a></strong> to <a href='https://wandb.ai/gradient_pwr/zabka-downstream-task' target=\"_blank\">Weights & Biases</a> (<a href='https://wandb.me/run' target=\"_blank\">docs</a>)<br/>Sweep page: <a href='https://wandb.ai/gradient_pwr/zabka-downstream-task/sweeps/d0rbt10k' target=\"_blank\">https://wandb.ai/gradient_pwr/zabka-downstream-task/sweeps/d0rbt10k</a>"
      ],
      "text/plain": [
       "<IPython.core.display.HTML object>"
      ]
     },
     "metadata": {},
     "output_type": "display_data"
    },
    {
     "data": {
      "text/html": [
       " View project at <a href='https://wandb.ai/gradient_pwr/zabka-downstream-task' target=\"_blank\">https://wandb.ai/gradient_pwr/zabka-downstream-task</a>"
      ],
      "text/plain": [
       "<IPython.core.display.HTML object>"
      ]
     },
     "metadata": {},
     "output_type": "display_data"
    },
    {
     "data": {
      "text/html": [
       " View sweep at <a href='https://wandb.ai/gradient_pwr/zabka-downstream-task/sweeps/d0rbt10k' target=\"_blank\">https://wandb.ai/gradient_pwr/zabka-downstream-task/sweeps/d0rbt10k</a>"
      ],
      "text/plain": [
       "<IPython.core.display.HTML object>"
      ]
     },
     "metadata": {},
     "output_type": "display_data"
    },
    {
     "data": {
      "text/html": [
       " View run at <a href='https://wandb.ai/gradient_pwr/zabka-downstream-task/runs/81ergqrv' target=\"_blank\">https://wandb.ai/gradient_pwr/zabka-downstream-task/runs/81ergqrv</a>"
      ],
      "text/plain": [
       "<IPython.core.display.HTML object>"
      ]
     },
     "metadata": {},
     "output_type": "display_data"
    },
    {
     "name": "stderr",
     "output_type": "stream",
     "text": [
      "/Users/jjaniak/anaconda3/envs/studia_projekt/lib/python3.8/site-packages/torch_geometric/deprecation.py:22: UserWarning: 'data.DataLoader' is deprecated, use 'loader.DataLoader' instead\n",
      "  warnings.warn(out)\n",
      "GPU available: True (mps), used: True\n",
      "TPU available: False, using: 0 TPU cores\n",
      "IPU available: False, using: 0 IPUs\n",
      "HPU available: False, using: 0 HPUs\n",
      "Missing logger folder: ../../gradient_logs/2024_06_04_11_52_15/lightning_logs\n",
      "/Users/jjaniak/anaconda3/envs/studia_projekt/lib/python3.8/site-packages/pytorch_lightning/utilities/model_summary/model_summary.py:452: A layer with UninitializedParameter was found. Thus, the total number of parameters detected may be inaccurate.\n",
      "\n",
      "  | Name  | Type      | Params\n",
      "------------------------------------\n",
      "0 | model | HeteroGNN | 90.9 K\n",
      "------------------------------------\n",
      "90.9 K    Trainable params\n",
      "0         Non-trainable params\n",
      "90.9 K    Total params\n",
      "0.364     Total estimated model params size (MB)\n"
     ]
    },
    {
     "data": {
      "application/vnd.jupyter.widget-view+json": {
       "model_id": "b8d4ac85d29b499b88fffef330dcd18a",
       "version_major": 2,
       "version_minor": 0
      },
      "text/plain": [
       "Sanity Checking: |          | 0/? [00:00<?, ?it/s]"
      ]
     },
     "metadata": {},
     "output_type": "display_data"
    },
    {
     "name": "stderr",
     "output_type": "stream",
     "text": [
      "/Users/jjaniak/anaconda3/envs/studia_projekt/lib/python3.8/site-packages/pytorch_lightning/trainer/connectors/data_connector.py:441: The 'val_dataloader' does not have many workers which may be a bottleneck. Consider increasing the value of the `num_workers` argument` to `num_workers=11` in the `DataLoader` to improve performance.\n"
     ]
    },
    {
     "data": {
      "application/vnd.jupyter.widget-view+json": {
       "model_id": "ca2aeb5d486f482ea3f551227d1e5367",
       "version_major": 2,
       "version_minor": 0
      },
      "text/plain": [
       "VBox(children=(Label(value='314.355 MB of 314.355 MB uploaded\\r'), FloatProgress(value=1.0, max=1.0)))"
      ]
     },
     "metadata": {},
     "output_type": "display_data"
    },
    {
     "data": {
      "text/html": [
       "<style>\n",
       "    table.wandb td:nth-child(1) { padding: 0 10px; text-align: left ; width: auto;} td:nth-child(2) {text-align: left ; width: 100%}\n",
       "    .wandb-row { display: flex; flex-direction: row; flex-wrap: wrap; justify-content: flex-start; width: 100% }\n",
       "    .wandb-col { display: flex; flex-direction: column; flex-basis: 100%; flex: 1; padding: 10px; }\n",
       "    </style>\n",
       "<div class=\"wandb-row\"><div class=\"wandb-col\"><h3>Run history:</h3><br/><table class=\"wandb\"><tr><td>USE_HEXES_ATTRS</td><td>▁</td></tr><tr><td>USE_ORTOPHOTO</td><td>▁</td></tr><tr><td>USE_OSMNX_ATTRS</td><td>▁</td></tr></table><br/></div><div class=\"wandb-col\"><h3>Run summary:</h3><br/><table class=\"wandb\"><tr><td>USE_HEXES_ATTRS</td><td>1</td></tr><tr><td>USE_ORTOPHOTO</td><td>0</td></tr><tr><td>USE_OSMNX_ATTRS</td><td>1</td></tr><tr><td>data_structure</td><td>graph</td></tr></table><br/></div></div>"
      ],
      "text/plain": [
       "<IPython.core.display.HTML object>"
      ]
     },
     "metadata": {},
     "output_type": "display_data"
    },
    {
     "data": {
      "text/html": [
       " View run <strong style=\"color:#cdcd00\">visionary-sweep-1</strong> at: <a href='https://wandb.ai/gradient_pwr/zabka-downstream-task/runs/81ergqrv' target=\"_blank\">https://wandb.ai/gradient_pwr/zabka-downstream-task/runs/81ergqrv</a><br/>Synced 6 W&B file(s), 0 media file(s), 1 artifact file(s) and 0 other file(s)"
      ],
      "text/plain": [
       "<IPython.core.display.HTML object>"
      ]
     },
     "metadata": {},
     "output_type": "display_data"
    },
    {
     "data": {
      "text/html": [
       "Find logs at: <code>./wandb/run-20240604_115208-81ergqrv/logs</code>"
      ],
      "text/plain": [
       "<IPython.core.display.HTML object>"
      ]
     },
     "metadata": {},
     "output_type": "display_data"
    },
    {
     "name": "stderr",
     "output_type": "stream",
     "text": [
      "Run 81ergqrv errored:\n",
      "Traceback (most recent call last):\n",
      "  File \"/Users/jjaniak/anaconda3/envs/studia_projekt/lib/python3.8/site-packages/wandb/agents/pyagent.py\", line 308, in _run_job\n",
      "    self._function()\n",
      "  File \"/var/folders/4k/8js3jm9n457cm4_v631zyrkw0000gn/T/ipykernel_37726/1604121319.py\", line 62, in wrapped\n",
      "    auc, accuracy, f1, model_path = train(\n",
      "  File \"/Users/jjaniak/Documents/studia/projekt/gradient/notebooks/downstream_tasks/../../src/training/train.py\", line 64, in train\n",
      "    trainer.fit(model, train_loader, val_loader)\n",
      "  File \"/Users/jjaniak/anaconda3/envs/studia_projekt/lib/python3.8/site-packages/pytorch_lightning/trainer/trainer.py\", line 545, in fit\n",
      "    call._call_and_handle_interrupt(\n",
      "  File \"/Users/jjaniak/anaconda3/envs/studia_projekt/lib/python3.8/site-packages/pytorch_lightning/trainer/call.py\", line 44, in _call_and_handle_interrupt\n",
      "    return trainer_fn(*args, **kwargs)\n",
      "  File \"/Users/jjaniak/anaconda3/envs/studia_projekt/lib/python3.8/site-packages/pytorch_lightning/trainer/trainer.py\", line 581, in _fit_impl\n",
      "    self._run(model, ckpt_path=ckpt_path)\n",
      "  File \"/Users/jjaniak/anaconda3/envs/studia_projekt/lib/python3.8/site-packages/pytorch_lightning/trainer/trainer.py\", line 990, in _run\n",
      "    results = self._run_stage()\n",
      "  File \"/Users/jjaniak/anaconda3/envs/studia_projekt/lib/python3.8/site-packages/pytorch_lightning/trainer/trainer.py\", line 1034, in _run_stage\n",
      "    self._run_sanity_check()\n",
      "  File \"/Users/jjaniak/anaconda3/envs/studia_projekt/lib/python3.8/site-packages/pytorch_lightning/trainer/trainer.py\", line 1063, in _run_sanity_check\n",
      "    val_loop.run()\n",
      "  File \"/Users/jjaniak/anaconda3/envs/studia_projekt/lib/python3.8/site-packages/pytorch_lightning/loops/utilities.py\", line 181, in _decorator\n",
      "    return loop_run(self, *args, **kwargs)\n",
      "  File \"/Users/jjaniak/anaconda3/envs/studia_projekt/lib/python3.8/site-packages/pytorch_lightning/loops/evaluation_loop.py\", line 134, in run\n",
      "    self._evaluation_step(batch, batch_idx, dataloader_idx, dataloader_iter)\n",
      "  File \"/Users/jjaniak/anaconda3/envs/studia_projekt/lib/python3.8/site-packages/pytorch_lightning/loops/evaluation_loop.py\", line 391, in _evaluation_step\n",
      "    output = call._call_strategy_hook(trainer, hook_name, *step_args)\n",
      "  File \"/Users/jjaniak/anaconda3/envs/studia_projekt/lib/python3.8/site-packages/pytorch_lightning/trainer/call.py\", line 309, in _call_strategy_hook\n",
      "    output = fn(*args, **kwargs)\n",
      "  File \"/Users/jjaniak/anaconda3/envs/studia_projekt/lib/python3.8/site-packages/pytorch_lightning/strategies/strategy.py\", line 403, in validation_step\n",
      "    return self.lightning_module.validation_step(*args, **kwargs)\n",
      "  File \"/Users/jjaniak/Documents/studia/projekt/gradient/notebooks/downstream_tasks/../../src/lightning/hetero_gnn_module.py\", line 57, in validation_step\n",
      "    y_hat = self.model(batch.x_dict, batch.edge_index_dict, batch.edge_attr_dict)\n",
      "  File \"/Users/jjaniak/anaconda3/envs/studia_projekt/lib/python3.8/site-packages/torch/nn/modules/module.py\", line 1518, in _wrapped_call_impl\n",
      "    return self._call_impl(*args, **kwargs)\n",
      "  File \"/Users/jjaniak/anaconda3/envs/studia_projekt/lib/python3.8/site-packages/torch/nn/modules/module.py\", line 1527, in _call_impl\n",
      "    return forward_call(*args, **kwargs)\n",
      "  File \"/Users/jjaniak/Documents/studia/projekt/gradient/notebooks/downstream_tasks/../../src/baseline_models/HeteroGNN/HeteroGNN.py\", line 59, in forward\n",
      "    value = self._forward(x_dict, edge_index_dict, edge_atrr_dict)\n",
      "  File \"/Users/jjaniak/Documents/studia/projekt/gradient/notebooks/downstream_tasks/../../src/baseline_models/HeteroGNN/HeteroGNN.py\", line 74, in _forward\n",
      "    x_dict = conv(x_dict, edge_index_dict, edge_atrr_dict)\n",
      "  File \"/Users/jjaniak/anaconda3/envs/studia_projekt/lib/python3.8/site-packages/torch/nn/modules/module.py\", line 1518, in _wrapped_call_impl\n",
      "    return self._call_impl(*args, **kwargs)\n",
      "  File \"/Users/jjaniak/anaconda3/envs/studia_projekt/lib/python3.8/site-packages/torch/nn/modules/module.py\", line 1527, in _call_impl\n",
      "    return forward_call(*args, **kwargs)\n",
      "  File \"/Users/jjaniak/anaconda3/envs/studia_projekt/lib/python3.8/site-packages/torch_geometric/nn/conv/hetero_conv.py\", line 159, in forward\n",
      "    out = self.convs[edge_type](*args, **kwargs)\n",
      "  File \"/Users/jjaniak/anaconda3/envs/studia_projekt/lib/python3.8/site-packages/torch/nn/modules/module.py\", line 1518, in _wrapped_call_impl\n",
      "    return self._call_impl(*args, **kwargs)\n",
      "  File \"/Users/jjaniak/anaconda3/envs/studia_projekt/lib/python3.8/site-packages/torch/nn/modules/module.py\", line 1527, in _call_impl\n",
      "    return forward_call(*args, **kwargs)\n",
      "  File \"/Users/jjaniak/anaconda3/envs/studia_projekt/lib/python3.8/site-packages/torch_geometric/nn/conv/gat_conv.py\", line 252, in forward\n",
      "    alpha = self.edge_updater(edge_index, alpha=alpha, edge_attr=edge_attr)\n",
      "  File \"/Users/jjaniak/anaconda3/envs/studia_projekt/lib/python3.8/site-packages/torch_geometric/nn/conv/message_passing.py\", line 527, in edge_updater\n",
      "    out = self.edge_update(**edge_kwargs)\n",
      "  File \"/Users/jjaniak/anaconda3/envs/studia_projekt/lib/python3.8/site-packages/torch_geometric/nn/conv/gat_conv.py\", line 295, in edge_update\n",
      "    alpha = softmax(alpha, index, ptr, size_i)\n",
      "  File \"/Users/jjaniak/anaconda3/envs/studia_projekt/lib/python3.8/site-packages/torch_geometric/utils/softmax.py\", line 65, in softmax\n",
      "    src_max = scatter(src.detach(), index, dim, dim_size=N, reduce='max')\n",
      "  File \"/Users/jjaniak/anaconda3/envs/studia_projekt/lib/python3.8/site-packages/torch_geometric/utils/scatter.py\", line 94, in scatter\n",
      "    return src.new_zeros(size).scatter_reduce_(\n",
      "NotImplementedError: The operator 'aten::scatter_reduce.two_out' is not currently implemented for the MPS device. If you want this op to be added in priority during the prototype phase of this feature, please comment on https://github.com/pytorch/pytorch/issues/77764. As a temporary fix, you can set the environment variable `PYTORCH_ENABLE_MPS_FALLBACK=1` to use the CPU as a fallback for this op. WARNING: this will be slower than running natively on MPS.\n",
      "\n",
      "\u001b[34m\u001b[1mwandb\u001b[0m: \u001b[32m\u001b[41mERROR\u001b[0m Run 81ergqrv errored:\n",
      "\u001b[34m\u001b[1mwandb\u001b[0m: \u001b[32m\u001b[41mERROR\u001b[0m Traceback (most recent call last):\n",
      "\u001b[34m\u001b[1mwandb\u001b[0m: \u001b[32m\u001b[41mERROR\u001b[0m   File \"/Users/jjaniak/anaconda3/envs/studia_projekt/lib/python3.8/site-packages/wandb/agents/pyagent.py\", line 308, in _run_job\n",
      "\u001b[34m\u001b[1mwandb\u001b[0m: \u001b[32m\u001b[41mERROR\u001b[0m     self._function()\n",
      "\u001b[34m\u001b[1mwandb\u001b[0m: \u001b[32m\u001b[41mERROR\u001b[0m   File \"/var/folders/4k/8js3jm9n457cm4_v631zyrkw0000gn/T/ipykernel_37726/1604121319.py\", line 62, in wrapped\n",
      "\u001b[34m\u001b[1mwandb\u001b[0m: \u001b[32m\u001b[41mERROR\u001b[0m     auc, accuracy, f1, model_path = train(\n",
      "\u001b[34m\u001b[1mwandb\u001b[0m: \u001b[32m\u001b[41mERROR\u001b[0m   File \"/Users/jjaniak/Documents/studia/projekt/gradient/notebooks/downstream_tasks/../../src/training/train.py\", line 64, in train\n",
      "\u001b[34m\u001b[1mwandb\u001b[0m: \u001b[32m\u001b[41mERROR\u001b[0m     trainer.fit(model, train_loader, val_loader)\n",
      "\u001b[34m\u001b[1mwandb\u001b[0m: \u001b[32m\u001b[41mERROR\u001b[0m   File \"/Users/jjaniak/anaconda3/envs/studia_projekt/lib/python3.8/site-packages/pytorch_lightning/trainer/trainer.py\", line 545, in fit\n",
      "\u001b[34m\u001b[1mwandb\u001b[0m: \u001b[32m\u001b[41mERROR\u001b[0m     call._call_and_handle_interrupt(\n",
      "\u001b[34m\u001b[1mwandb\u001b[0m: \u001b[32m\u001b[41mERROR\u001b[0m   File \"/Users/jjaniak/anaconda3/envs/studia_projekt/lib/python3.8/site-packages/pytorch_lightning/trainer/call.py\", line 44, in _call_and_handle_interrupt\n",
      "\u001b[34m\u001b[1mwandb\u001b[0m: \u001b[32m\u001b[41mERROR\u001b[0m     return trainer_fn(*args, **kwargs)\n",
      "\u001b[34m\u001b[1mwandb\u001b[0m: \u001b[32m\u001b[41mERROR\u001b[0m   File \"/Users/jjaniak/anaconda3/envs/studia_projekt/lib/python3.8/site-packages/pytorch_lightning/trainer/trainer.py\", line 581, in _fit_impl\n",
      "\u001b[34m\u001b[1mwandb\u001b[0m: \u001b[32m\u001b[41mERROR\u001b[0m     self._run(model, ckpt_path=ckpt_path)\n",
      "\u001b[34m\u001b[1mwandb\u001b[0m: \u001b[32m\u001b[41mERROR\u001b[0m   File \"/Users/jjaniak/anaconda3/envs/studia_projekt/lib/python3.8/site-packages/pytorch_lightning/trainer/trainer.py\", line 990, in _run\n",
      "\u001b[34m\u001b[1mwandb\u001b[0m: \u001b[32m\u001b[41mERROR\u001b[0m     results = self._run_stage()\n",
      "\u001b[34m\u001b[1mwandb\u001b[0m: \u001b[32m\u001b[41mERROR\u001b[0m   File \"/Users/jjaniak/anaconda3/envs/studia_projekt/lib/python3.8/site-packages/pytorch_lightning/trainer/trainer.py\", line 1034, in _run_stage\n",
      "\u001b[34m\u001b[1mwandb\u001b[0m: \u001b[32m\u001b[41mERROR\u001b[0m     self._run_sanity_check()\n",
      "\u001b[34m\u001b[1mwandb\u001b[0m: \u001b[32m\u001b[41mERROR\u001b[0m   File \"/Users/jjaniak/anaconda3/envs/studia_projekt/lib/python3.8/site-packages/pytorch_lightning/trainer/trainer.py\", line 1063, in _run_sanity_check\n",
      "\u001b[34m\u001b[1mwandb\u001b[0m: \u001b[32m\u001b[41mERROR\u001b[0m     val_loop.run()\n",
      "\u001b[34m\u001b[1mwandb\u001b[0m: \u001b[32m\u001b[41mERROR\u001b[0m   File \"/Users/jjaniak/anaconda3/envs/studia_projekt/lib/python3.8/site-packages/pytorch_lightning/loops/utilities.py\", line 181, in _decorator\n",
      "\u001b[34m\u001b[1mwandb\u001b[0m: \u001b[32m\u001b[41mERROR\u001b[0m     return loop_run(self, *args, **kwargs)\n",
      "\u001b[34m\u001b[1mwandb\u001b[0m: \u001b[32m\u001b[41mERROR\u001b[0m   File \"/Users/jjaniak/anaconda3/envs/studia_projekt/lib/python3.8/site-packages/pytorch_lightning/loops/evaluation_loop.py\", line 134, in run\n",
      "\u001b[34m\u001b[1mwandb\u001b[0m: \u001b[32m\u001b[41mERROR\u001b[0m     self._evaluation_step(batch, batch_idx, dataloader_idx, dataloader_iter)\n",
      "\u001b[34m\u001b[1mwandb\u001b[0m: \u001b[32m\u001b[41mERROR\u001b[0m   File \"/Users/jjaniak/anaconda3/envs/studia_projekt/lib/python3.8/site-packages/pytorch_lightning/loops/evaluation_loop.py\", line 391, in _evaluation_step\n",
      "\u001b[34m\u001b[1mwandb\u001b[0m: \u001b[32m\u001b[41mERROR\u001b[0m     output = call._call_strategy_hook(trainer, hook_name, *step_args)\n",
      "\u001b[34m\u001b[1mwandb\u001b[0m: \u001b[32m\u001b[41mERROR\u001b[0m   File \"/Users/jjaniak/anaconda3/envs/studia_projekt/lib/python3.8/site-packages/pytorch_lightning/trainer/call.py\", line 309, in _call_strategy_hook\n",
      "\u001b[34m\u001b[1mwandb\u001b[0m: \u001b[32m\u001b[41mERROR\u001b[0m     output = fn(*args, **kwargs)\n",
      "\u001b[34m\u001b[1mwandb\u001b[0m: \u001b[32m\u001b[41mERROR\u001b[0m   File \"/Users/jjaniak/anaconda3/envs/studia_projekt/lib/python3.8/site-packages/pytorch_lightning/strategies/strategy.py\", line 403, in validation_step\n",
      "\u001b[34m\u001b[1mwandb\u001b[0m: \u001b[32m\u001b[41mERROR\u001b[0m     return self.lightning_module.validation_step(*args, **kwargs)\n",
      "\u001b[34m\u001b[1mwandb\u001b[0m: \u001b[32m\u001b[41mERROR\u001b[0m   File \"/Users/jjaniak/Documents/studia/projekt/gradient/notebooks/downstream_tasks/../../src/lightning/hetero_gnn_module.py\", line 57, in validation_step\n",
      "\u001b[34m\u001b[1mwandb\u001b[0m: \u001b[32m\u001b[41mERROR\u001b[0m     y_hat = self.model(batch.x_dict, batch.edge_index_dict, batch.edge_attr_dict)\n",
      "\u001b[34m\u001b[1mwandb\u001b[0m: \u001b[32m\u001b[41mERROR\u001b[0m   File \"/Users/jjaniak/anaconda3/envs/studia_projekt/lib/python3.8/site-packages/torch/nn/modules/module.py\", line 1518, in _wrapped_call_impl\n",
      "\u001b[34m\u001b[1mwandb\u001b[0m: \u001b[32m\u001b[41mERROR\u001b[0m     return self._call_impl(*args, **kwargs)\n",
      "\u001b[34m\u001b[1mwandb\u001b[0m: \u001b[32m\u001b[41mERROR\u001b[0m   File \"/Users/jjaniak/anaconda3/envs/studia_projekt/lib/python3.8/site-packages/torch/nn/modules/module.py\", line 1527, in _call_impl\n",
      "\u001b[34m\u001b[1mwandb\u001b[0m: \u001b[32m\u001b[41mERROR\u001b[0m     return forward_call(*args, **kwargs)\n",
      "\u001b[34m\u001b[1mwandb\u001b[0m: \u001b[32m\u001b[41mERROR\u001b[0m   File \"/Users/jjaniak/Documents/studia/projekt/gradient/notebooks/downstream_tasks/../../src/baseline_models/HeteroGNN/HeteroGNN.py\", line 59, in forward\n",
      "\u001b[34m\u001b[1mwandb\u001b[0m: \u001b[32m\u001b[41mERROR\u001b[0m     value = self._forward(x_dict, edge_index_dict, edge_atrr_dict)\n",
      "\u001b[34m\u001b[1mwandb\u001b[0m: \u001b[32m\u001b[41mERROR\u001b[0m   File \"/Users/jjaniak/Documents/studia/projekt/gradient/notebooks/downstream_tasks/../../src/baseline_models/HeteroGNN/HeteroGNN.py\", line 74, in _forward\n",
      "\u001b[34m\u001b[1mwandb\u001b[0m: \u001b[32m\u001b[41mERROR\u001b[0m     x_dict = conv(x_dict, edge_index_dict, edge_atrr_dict)\n",
      "\u001b[34m\u001b[1mwandb\u001b[0m: \u001b[32m\u001b[41mERROR\u001b[0m   File \"/Users/jjaniak/anaconda3/envs/studia_projekt/lib/python3.8/site-packages/torch/nn/modules/module.py\", line 1518, in _wrapped_call_impl\n",
      "\u001b[34m\u001b[1mwandb\u001b[0m: \u001b[32m\u001b[41mERROR\u001b[0m     return self._call_impl(*args, **kwargs)\n",
      "\u001b[34m\u001b[1mwandb\u001b[0m: \u001b[32m\u001b[41mERROR\u001b[0m   File \"/Users/jjaniak/anaconda3/envs/studia_projekt/lib/python3.8/site-packages/torch/nn/modules/module.py\", line 1527, in _call_impl\n",
      "\u001b[34m\u001b[1mwandb\u001b[0m: \u001b[32m\u001b[41mERROR\u001b[0m     return forward_call(*args, **kwargs)\n",
      "\u001b[34m\u001b[1mwandb\u001b[0m: \u001b[32m\u001b[41mERROR\u001b[0m   File \"/Users/jjaniak/anaconda3/envs/studia_projekt/lib/python3.8/site-packages/torch_geometric/nn/conv/hetero_conv.py\", line 159, in forward\n",
      "\u001b[34m\u001b[1mwandb\u001b[0m: \u001b[32m\u001b[41mERROR\u001b[0m     out = self.convs[edge_type](*args, **kwargs)\n",
      "\u001b[34m\u001b[1mwandb\u001b[0m: \u001b[32m\u001b[41mERROR\u001b[0m   File \"/Users/jjaniak/anaconda3/envs/studia_projekt/lib/python3.8/site-packages/torch/nn/modules/module.py\", line 1518, in _wrapped_call_impl\n",
      "\u001b[34m\u001b[1mwandb\u001b[0m: \u001b[32m\u001b[41mERROR\u001b[0m     return self._call_impl(*args, **kwargs)\n",
      "\u001b[34m\u001b[1mwandb\u001b[0m: \u001b[32m\u001b[41mERROR\u001b[0m   File \"/Users/jjaniak/anaconda3/envs/studia_projekt/lib/python3.8/site-packages/torch/nn/modules/module.py\", line 1527, in _call_impl\n",
      "\u001b[34m\u001b[1mwandb\u001b[0m: \u001b[32m\u001b[41mERROR\u001b[0m     return forward_call(*args, **kwargs)\n",
      "\u001b[34m\u001b[1mwandb\u001b[0m: \u001b[32m\u001b[41mERROR\u001b[0m   File \"/Users/jjaniak/anaconda3/envs/studia_projekt/lib/python3.8/site-packages/torch_geometric/nn/conv/gat_conv.py\", line 252, in forward\n",
      "\u001b[34m\u001b[1mwandb\u001b[0m: \u001b[32m\u001b[41mERROR\u001b[0m     alpha = self.edge_updater(edge_index, alpha=alpha, edge_attr=edge_attr)\n",
      "\u001b[34m\u001b[1mwandb\u001b[0m: \u001b[32m\u001b[41mERROR\u001b[0m   File \"/Users/jjaniak/anaconda3/envs/studia_projekt/lib/python3.8/site-packages/torch_geometric/nn/conv/message_passing.py\", line 527, in edge_updater\n",
      "\u001b[34m\u001b[1mwandb\u001b[0m: \u001b[32m\u001b[41mERROR\u001b[0m     out = self.edge_update(**edge_kwargs)\n",
      "\u001b[34m\u001b[1mwandb\u001b[0m: \u001b[32m\u001b[41mERROR\u001b[0m   File \"/Users/jjaniak/anaconda3/envs/studia_projekt/lib/python3.8/site-packages/torch_geometric/nn/conv/gat_conv.py\", line 295, in edge_update\n",
      "\u001b[34m\u001b[1mwandb\u001b[0m: \u001b[32m\u001b[41mERROR\u001b[0m     alpha = softmax(alpha, index, ptr, size_i)\n",
      "\u001b[34m\u001b[1mwandb\u001b[0m: \u001b[32m\u001b[41mERROR\u001b[0m   File \"/Users/jjaniak/anaconda3/envs/studia_projekt/lib/python3.8/site-packages/torch_geometric/utils/softmax.py\", line 65, in softmax\n",
      "\u001b[34m\u001b[1mwandb\u001b[0m: \u001b[32m\u001b[41mERROR\u001b[0m     src_max = scatter(src.detach(), index, dim, dim_size=N, reduce='max')\n",
      "\u001b[34m\u001b[1mwandb\u001b[0m: \u001b[32m\u001b[41mERROR\u001b[0m   File \"/Users/jjaniak/anaconda3/envs/studia_projekt/lib/python3.8/site-packages/torch_geometric/utils/scatter.py\", line 94, in scatter\n",
      "\u001b[34m\u001b[1mwandb\u001b[0m: \u001b[32m\u001b[41mERROR\u001b[0m     return src.new_zeros(size).scatter_reduce_(\n",
      "\u001b[34m\u001b[1mwandb\u001b[0m: \u001b[32m\u001b[41mERROR\u001b[0m NotImplementedError: The operator 'aten::scatter_reduce.two_out' is not currently implemented for the MPS device. If you want this op to be added in priority during the prototype phase of this feature, please comment on https://github.com/pytorch/pytorch/issues/77764. As a temporary fix, you can set the environment variable `PYTORCH_ENABLE_MPS_FALLBACK=1` to use the CPU as a fallback for this op. WARNING: this will be slower than running natively on MPS.\n",
      "\u001b[34m\u001b[1mwandb\u001b[0m: \u001b[32m\u001b[41mERROR\u001b[0m \n",
      "\u001b[34m\u001b[1mwandb\u001b[0m: Sweep Agent: Waiting for job.\n",
      "\u001b[34m\u001b[1mwandb\u001b[0m: Job received.\n",
      "\u001b[34m\u001b[1mwandb\u001b[0m: Agent Starting Run: xmnbfcju with config:\n",
      "\u001b[34m\u001b[1mwandb\u001b[0m: \thidden_channels: 20\n",
      "\u001b[34m\u001b[1mwandb\u001b[0m: \tlearning_rate: 1.041815289511844e-05\n",
      "\u001b[34m\u001b[1mwandb\u001b[0m: \tlin_layer_size: 64\n",
      "\u001b[34m\u001b[1mwandb\u001b[0m: \tnum_conv_layers: 5\n",
      "\u001b[34m\u001b[1mwandb\u001b[0m: \tnum_lin_layers: 1\n",
      "\u001b[34m\u001b[1mwandb\u001b[0m: \tweight_decay: 0.0003084285496263191\n",
      "Failed to detect the name of this notebook, you can set it manually with the WANDB_NOTEBOOK_NAME environment variable to enable code saving.\n"
     ]
    },
    {
     "data": {
      "text/html": [
       "wandb version 0.17.0 is available!  To upgrade, please run:\n",
       " $ pip install wandb --upgrade"
      ],
      "text/plain": [
       "<IPython.core.display.HTML object>"
      ]
     },
     "metadata": {},
     "output_type": "display_data"
    },
    {
     "data": {
      "text/html": [
       "Tracking run with wandb version 0.16.4"
      ],
      "text/plain": [
       "<IPython.core.display.HTML object>"
      ]
     },
     "metadata": {},
     "output_type": "display_data"
    },
    {
     "data": {
      "text/html": [
       "Run data is saved locally in <code>/Users/jjaniak/Documents/studia/projekt/gradient/notebooks/downstream_tasks/wandb/run-20240604_115301-xmnbfcju</code>"
      ],
      "text/plain": [
       "<IPython.core.display.HTML object>"
      ]
     },
     "metadata": {},
     "output_type": "display_data"
    },
    {
     "data": {
      "text/html": [
       "Syncing run <strong><a href='https://wandb.ai/gradient_pwr/zabka-downstream-task/runs/xmnbfcju' target=\"_blank\">eternal-sweep-2</a></strong> to <a href='https://wandb.ai/gradient_pwr/zabka-downstream-task' target=\"_blank\">Weights & Biases</a> (<a href='https://wandb.me/run' target=\"_blank\">docs</a>)<br/>Sweep page: <a href='https://wandb.ai/gradient_pwr/zabka-downstream-task/sweeps/d0rbt10k' target=\"_blank\">https://wandb.ai/gradient_pwr/zabka-downstream-task/sweeps/d0rbt10k</a>"
      ],
      "text/plain": [
       "<IPython.core.display.HTML object>"
      ]
     },
     "metadata": {},
     "output_type": "display_data"
    },
    {
     "data": {
      "text/html": [
       " View project at <a href='https://wandb.ai/gradient_pwr/zabka-downstream-task' target=\"_blank\">https://wandb.ai/gradient_pwr/zabka-downstream-task</a>"
      ],
      "text/plain": [
       "<IPython.core.display.HTML object>"
      ]
     },
     "metadata": {},
     "output_type": "display_data"
    },
    {
     "data": {
      "text/html": [
       " View sweep at <a href='https://wandb.ai/gradient_pwr/zabka-downstream-task/sweeps/d0rbt10k' target=\"_blank\">https://wandb.ai/gradient_pwr/zabka-downstream-task/sweeps/d0rbt10k</a>"
      ],
      "text/plain": [
       "<IPython.core.display.HTML object>"
      ]
     },
     "metadata": {},
     "output_type": "display_data"
    },
    {
     "data": {
      "text/html": [
       " View run at <a href='https://wandb.ai/gradient_pwr/zabka-downstream-task/runs/xmnbfcju' target=\"_blank\">https://wandb.ai/gradient_pwr/zabka-downstream-task/runs/xmnbfcju</a>"
      ],
      "text/plain": [
       "<IPython.core.display.HTML object>"
      ]
     },
     "metadata": {},
     "output_type": "display_data"
    },
    {
     "name": "stderr",
     "output_type": "stream",
     "text": [
      "/Users/jjaniak/anaconda3/envs/studia_projekt/lib/python3.8/site-packages/torch_geometric/deprecation.py:22: UserWarning: 'data.DataLoader' is deprecated, use 'loader.DataLoader' instead\n",
      "  warnings.warn(out)\n",
      "GPU available: True (mps), used: True\n",
      "TPU available: False, using: 0 TPU cores\n",
      "IPU available: False, using: 0 IPUs\n",
      "HPU available: False, using: 0 HPUs\n",
      "Missing logger folder: ../../gradient_logs/2024_06_04_11_53_06/lightning_logs\n",
      "\n",
      "  | Name  | Type      | Params\n",
      "------------------------------------\n",
      "0 | model | HeteroGNN | 101 K \n",
      "------------------------------------\n",
      "101 K     Trainable params\n",
      "0         Non-trainable params\n",
      "101 K     Total params\n",
      "0.408     Total estimated model params size (MB)\n"
     ]
    },
    {
     "data": {
      "application/vnd.jupyter.widget-view+json": {
       "model_id": "19bc604b28f8415289bd891a9e8ce0ef",
       "version_major": 2,
       "version_minor": 0
      },
      "text/plain": [
       "Sanity Checking: |          | 0/? [00:00<?, ?it/s]"
      ]
     },
     "metadata": {},
     "output_type": "display_data"
    },
    {
     "name": "stderr",
     "output_type": "stream",
     "text": [
      "/Users/jjaniak/anaconda3/envs/studia_projekt/lib/python3.8/site-packages/pytorch_lightning/trainer/connectors/data_connector.py:441: The 'val_dataloader' does not have many workers which may be a bottleneck. Consider increasing the value of the `num_workers` argument` to `num_workers=11` in the `DataLoader` to improve performance.\n"
     ]
    },
    {
     "data": {
      "application/vnd.jupyter.widget-view+json": {
       "model_id": "b5664ded95774c4abf2a650c88b94108",
       "version_major": 2,
       "version_minor": 0
      },
      "text/plain": [
       "VBox(children=(Label(value='0.001 MB of 0.001 MB uploaded\\r'), FloatProgress(value=1.0, max=1.0)))"
      ]
     },
     "metadata": {},
     "output_type": "display_data"
    },
    {
     "data": {
      "text/html": [
       "<style>\n",
       "    table.wandb td:nth-child(1) { padding: 0 10px; text-align: left ; width: auto;} td:nth-child(2) {text-align: left ; width: 100%}\n",
       "    .wandb-row { display: flex; flex-direction: row; flex-wrap: wrap; justify-content: flex-start; width: 100% }\n",
       "    .wandb-col { display: flex; flex-direction: column; flex-basis: 100%; flex: 1; padding: 10px; }\n",
       "    </style>\n",
       "<div class=\"wandb-row\"><div class=\"wandb-col\"><h3>Run history:</h3><br/><table class=\"wandb\"><tr><td>USE_HEXES_ATTRS</td><td>▁</td></tr><tr><td>USE_ORTOPHOTO</td><td>▁</td></tr><tr><td>USE_OSMNX_ATTRS</td><td>▁</td></tr></table><br/></div><div class=\"wandb-col\"><h3>Run summary:</h3><br/><table class=\"wandb\"><tr><td>USE_HEXES_ATTRS</td><td>1</td></tr><tr><td>USE_ORTOPHOTO</td><td>0</td></tr><tr><td>USE_OSMNX_ATTRS</td><td>1</td></tr><tr><td>data_structure</td><td>graph</td></tr></table><br/></div></div>"
      ],
      "text/plain": [
       "<IPython.core.display.HTML object>"
      ]
     },
     "metadata": {},
     "output_type": "display_data"
    },
    {
     "data": {
      "text/html": [
       " View run <strong style=\"color:#cdcd00\">eternal-sweep-2</strong> at: <a href='https://wandb.ai/gradient_pwr/zabka-downstream-task/runs/xmnbfcju' target=\"_blank\">https://wandb.ai/gradient_pwr/zabka-downstream-task/runs/xmnbfcju</a><br/>Synced 6 W&B file(s), 0 media file(s), 0 artifact file(s) and 0 other file(s)"
      ],
      "text/plain": [
       "<IPython.core.display.HTML object>"
      ]
     },
     "metadata": {},
     "output_type": "display_data"
    },
    {
     "data": {
      "text/html": [
       "Find logs at: <code>./wandb/run-20240604_115301-xmnbfcju/logs</code>"
      ],
      "text/plain": [
       "<IPython.core.display.HTML object>"
      ]
     },
     "metadata": {},
     "output_type": "display_data"
    },
    {
     "name": "stderr",
     "output_type": "stream",
     "text": [
      "Run xmnbfcju errored:\n",
      "Traceback (most recent call last):\n",
      "  File \"/Users/jjaniak/anaconda3/envs/studia_projekt/lib/python3.8/site-packages/wandb/agents/pyagent.py\", line 308, in _run_job\n",
      "    self._function()\n",
      "  File \"/var/folders/4k/8js3jm9n457cm4_v631zyrkw0000gn/T/ipykernel_37726/1604121319.py\", line 62, in wrapped\n",
      "    auc, accuracy, f1, model_path = train(\n",
      "  File \"/Users/jjaniak/Documents/studia/projekt/gradient/notebooks/downstream_tasks/../../src/training/train.py\", line 64, in train\n",
      "    trainer.fit(model, train_loader, val_loader)\n",
      "  File \"/Users/jjaniak/anaconda3/envs/studia_projekt/lib/python3.8/site-packages/pytorch_lightning/trainer/trainer.py\", line 545, in fit\n",
      "    call._call_and_handle_interrupt(\n",
      "  File \"/Users/jjaniak/anaconda3/envs/studia_projekt/lib/python3.8/site-packages/pytorch_lightning/trainer/call.py\", line 44, in _call_and_handle_interrupt\n",
      "    return trainer_fn(*args, **kwargs)\n",
      "  File \"/Users/jjaniak/anaconda3/envs/studia_projekt/lib/python3.8/site-packages/pytorch_lightning/trainer/trainer.py\", line 581, in _fit_impl\n",
      "    self._run(model, ckpt_path=ckpt_path)\n",
      "  File \"/Users/jjaniak/anaconda3/envs/studia_projekt/lib/python3.8/site-packages/pytorch_lightning/trainer/trainer.py\", line 990, in _run\n",
      "    results = self._run_stage()\n",
      "  File \"/Users/jjaniak/anaconda3/envs/studia_projekt/lib/python3.8/site-packages/pytorch_lightning/trainer/trainer.py\", line 1034, in _run_stage\n",
      "    self._run_sanity_check()\n",
      "  File \"/Users/jjaniak/anaconda3/envs/studia_projekt/lib/python3.8/site-packages/pytorch_lightning/trainer/trainer.py\", line 1063, in _run_sanity_check\n",
      "    val_loop.run()\n",
      "  File \"/Users/jjaniak/anaconda3/envs/studia_projekt/lib/python3.8/site-packages/pytorch_lightning/loops/utilities.py\", line 181, in _decorator\n",
      "    return loop_run(self, *args, **kwargs)\n",
      "  File \"/Users/jjaniak/anaconda3/envs/studia_projekt/lib/python3.8/site-packages/pytorch_lightning/loops/evaluation_loop.py\", line 134, in run\n",
      "    self._evaluation_step(batch, batch_idx, dataloader_idx, dataloader_iter)\n",
      "  File \"/Users/jjaniak/anaconda3/envs/studia_projekt/lib/python3.8/site-packages/pytorch_lightning/loops/evaluation_loop.py\", line 391, in _evaluation_step\n",
      "    output = call._call_strategy_hook(trainer, hook_name, *step_args)\n",
      "  File \"/Users/jjaniak/anaconda3/envs/studia_projekt/lib/python3.8/site-packages/pytorch_lightning/trainer/call.py\", line 309, in _call_strategy_hook\n",
      "    output = fn(*args, **kwargs)\n",
      "  File \"/Users/jjaniak/anaconda3/envs/studia_projekt/lib/python3.8/site-packages/pytorch_lightning/strategies/strategy.py\", line 403, in validation_step\n",
      "    return self.lightning_module.validation_step(*args, **kwargs)\n",
      "  File \"/Users/jjaniak/Documents/studia/projekt/gradient/notebooks/downstream_tasks/../../src/lightning/hetero_gnn_module.py\", line 57, in validation_step\n",
      "    y_hat = self.model(batch.x_dict, batch.edge_index_dict, batch.edge_attr_dict)\n",
      "  File \"/Users/jjaniak/anaconda3/envs/studia_projekt/lib/python3.8/site-packages/torch/nn/modules/module.py\", line 1518, in _wrapped_call_impl\n",
      "    return self._call_impl(*args, **kwargs)\n",
      "  File \"/Users/jjaniak/anaconda3/envs/studia_projekt/lib/python3.8/site-packages/torch/nn/modules/module.py\", line 1527, in _call_impl\n",
      "    return forward_call(*args, **kwargs)\n",
      "  File \"/Users/jjaniak/Documents/studia/projekt/gradient/notebooks/downstream_tasks/../../src/baseline_models/HeteroGNN/HeteroGNN.py\", line 59, in forward\n",
      "    value = self._forward(x_dict, edge_index_dict, edge_atrr_dict)\n",
      "  File \"/Users/jjaniak/Documents/studia/projekt/gradient/notebooks/downstream_tasks/../../src/baseline_models/HeteroGNN/HeteroGNN.py\", line 74, in _forward\n",
      "    x_dict = conv(x_dict, edge_index_dict, edge_atrr_dict)\n",
      "  File \"/Users/jjaniak/anaconda3/envs/studia_projekt/lib/python3.8/site-packages/torch/nn/modules/module.py\", line 1518, in _wrapped_call_impl\n",
      "    return self._call_impl(*args, **kwargs)\n",
      "  File \"/Users/jjaniak/anaconda3/envs/studia_projekt/lib/python3.8/site-packages/torch/nn/modules/module.py\", line 1527, in _call_impl\n",
      "    return forward_call(*args, **kwargs)\n",
      "  File \"/Users/jjaniak/anaconda3/envs/studia_projekt/lib/python3.8/site-packages/torch_geometric/nn/conv/hetero_conv.py\", line 159, in forward\n",
      "    out = self.convs[edge_type](*args, **kwargs)\n",
      "  File \"/Users/jjaniak/anaconda3/envs/studia_projekt/lib/python3.8/site-packages/torch/nn/modules/module.py\", line 1518, in _wrapped_call_impl\n",
      "    return self._call_impl(*args, **kwargs)\n",
      "  File \"/Users/jjaniak/anaconda3/envs/studia_projekt/lib/python3.8/site-packages/torch/nn/modules/module.py\", line 1527, in _call_impl\n",
      "    return forward_call(*args, **kwargs)\n",
      "  File \"/Users/jjaniak/anaconda3/envs/studia_projekt/lib/python3.8/site-packages/torch_geometric/nn/conv/gat_conv.py\", line 252, in forward\n",
      "    alpha = self.edge_updater(edge_index, alpha=alpha, edge_attr=edge_attr)\n",
      "  File \"/Users/jjaniak/anaconda3/envs/studia_projekt/lib/python3.8/site-packages/torch_geometric/nn/conv/message_passing.py\", line 527, in edge_updater\n",
      "    out = self.edge_update(**edge_kwargs)\n",
      "  File \"/Users/jjaniak/anaconda3/envs/studia_projekt/lib/python3.8/site-packages/torch_geometric/nn/conv/gat_conv.py\", line 295, in edge_update\n",
      "    alpha = softmax(alpha, index, ptr, size_i)\n",
      "  File \"/Users/jjaniak/anaconda3/envs/studia_projekt/lib/python3.8/site-packages/torch_geometric/utils/softmax.py\", line 65, in softmax\n",
      "    src_max = scatter(src.detach(), index, dim, dim_size=N, reduce='max')\n",
      "  File \"/Users/jjaniak/anaconda3/envs/studia_projekt/lib/python3.8/site-packages/torch_geometric/utils/scatter.py\", line 94, in scatter\n",
      "    return src.new_zeros(size).scatter_reduce_(\n",
      "NotImplementedError: The operator 'aten::scatter_reduce.two_out' is not currently implemented for the MPS device. If you want this op to be added in priority during the prototype phase of this feature, please comment on https://github.com/pytorch/pytorch/issues/77764. As a temporary fix, you can set the environment variable `PYTORCH_ENABLE_MPS_FALLBACK=1` to use the CPU as a fallback for this op. WARNING: this will be slower than running natively on MPS.\n",
      "\n",
      "\u001b[34m\u001b[1mwandb\u001b[0m: \u001b[32m\u001b[41mERROR\u001b[0m Run xmnbfcju errored:\n",
      "\u001b[34m\u001b[1mwandb\u001b[0m: \u001b[32m\u001b[41mERROR\u001b[0m Traceback (most recent call last):\n",
      "\u001b[34m\u001b[1mwandb\u001b[0m: \u001b[32m\u001b[41mERROR\u001b[0m   File \"/Users/jjaniak/anaconda3/envs/studia_projekt/lib/python3.8/site-packages/wandb/agents/pyagent.py\", line 308, in _run_job\n",
      "\u001b[34m\u001b[1mwandb\u001b[0m: \u001b[32m\u001b[41mERROR\u001b[0m     self._function()\n",
      "\u001b[34m\u001b[1mwandb\u001b[0m: \u001b[32m\u001b[41mERROR\u001b[0m   File \"/var/folders/4k/8js3jm9n457cm4_v631zyrkw0000gn/T/ipykernel_37726/1604121319.py\", line 62, in wrapped\n",
      "\u001b[34m\u001b[1mwandb\u001b[0m: \u001b[32m\u001b[41mERROR\u001b[0m     auc, accuracy, f1, model_path = train(\n",
      "\u001b[34m\u001b[1mwandb\u001b[0m: \u001b[32m\u001b[41mERROR\u001b[0m   File \"/Users/jjaniak/Documents/studia/projekt/gradient/notebooks/downstream_tasks/../../src/training/train.py\", line 64, in train\n",
      "\u001b[34m\u001b[1mwandb\u001b[0m: \u001b[32m\u001b[41mERROR\u001b[0m     trainer.fit(model, train_loader, val_loader)\n",
      "\u001b[34m\u001b[1mwandb\u001b[0m: \u001b[32m\u001b[41mERROR\u001b[0m   File \"/Users/jjaniak/anaconda3/envs/studia_projekt/lib/python3.8/site-packages/pytorch_lightning/trainer/trainer.py\", line 545, in fit\n",
      "\u001b[34m\u001b[1mwandb\u001b[0m: \u001b[32m\u001b[41mERROR\u001b[0m     call._call_and_handle_interrupt(\n",
      "\u001b[34m\u001b[1mwandb\u001b[0m: \u001b[32m\u001b[41mERROR\u001b[0m   File \"/Users/jjaniak/anaconda3/envs/studia_projekt/lib/python3.8/site-packages/pytorch_lightning/trainer/call.py\", line 44, in _call_and_handle_interrupt\n",
      "\u001b[34m\u001b[1mwandb\u001b[0m: \u001b[32m\u001b[41mERROR\u001b[0m     return trainer_fn(*args, **kwargs)\n",
      "\u001b[34m\u001b[1mwandb\u001b[0m: \u001b[32m\u001b[41mERROR\u001b[0m   File \"/Users/jjaniak/anaconda3/envs/studia_projekt/lib/python3.8/site-packages/pytorch_lightning/trainer/trainer.py\", line 581, in _fit_impl\n",
      "\u001b[34m\u001b[1mwandb\u001b[0m: \u001b[32m\u001b[41mERROR\u001b[0m     self._run(model, ckpt_path=ckpt_path)\n",
      "\u001b[34m\u001b[1mwandb\u001b[0m: \u001b[32m\u001b[41mERROR\u001b[0m   File \"/Users/jjaniak/anaconda3/envs/studia_projekt/lib/python3.8/site-packages/pytorch_lightning/trainer/trainer.py\", line 990, in _run\n",
      "\u001b[34m\u001b[1mwandb\u001b[0m: \u001b[32m\u001b[41mERROR\u001b[0m     results = self._run_stage()\n",
      "\u001b[34m\u001b[1mwandb\u001b[0m: \u001b[32m\u001b[41mERROR\u001b[0m   File \"/Users/jjaniak/anaconda3/envs/studia_projekt/lib/python3.8/site-packages/pytorch_lightning/trainer/trainer.py\", line 1034, in _run_stage\n",
      "\u001b[34m\u001b[1mwandb\u001b[0m: \u001b[32m\u001b[41mERROR\u001b[0m     self._run_sanity_check()\n",
      "\u001b[34m\u001b[1mwandb\u001b[0m: \u001b[32m\u001b[41mERROR\u001b[0m   File \"/Users/jjaniak/anaconda3/envs/studia_projekt/lib/python3.8/site-packages/pytorch_lightning/trainer/trainer.py\", line 1063, in _run_sanity_check\n",
      "\u001b[34m\u001b[1mwandb\u001b[0m: \u001b[32m\u001b[41mERROR\u001b[0m     val_loop.run()\n",
      "\u001b[34m\u001b[1mwandb\u001b[0m: \u001b[32m\u001b[41mERROR\u001b[0m   File \"/Users/jjaniak/anaconda3/envs/studia_projekt/lib/python3.8/site-packages/pytorch_lightning/loops/utilities.py\", line 181, in _decorator\n",
      "\u001b[34m\u001b[1mwandb\u001b[0m: \u001b[32m\u001b[41mERROR\u001b[0m     return loop_run(self, *args, **kwargs)\n",
      "\u001b[34m\u001b[1mwandb\u001b[0m: \u001b[32m\u001b[41mERROR\u001b[0m   File \"/Users/jjaniak/anaconda3/envs/studia_projekt/lib/python3.8/site-packages/pytorch_lightning/loops/evaluation_loop.py\", line 134, in run\n",
      "\u001b[34m\u001b[1mwandb\u001b[0m: \u001b[32m\u001b[41mERROR\u001b[0m     self._evaluation_step(batch, batch_idx, dataloader_idx, dataloader_iter)\n",
      "\u001b[34m\u001b[1mwandb\u001b[0m: \u001b[32m\u001b[41mERROR\u001b[0m   File \"/Users/jjaniak/anaconda3/envs/studia_projekt/lib/python3.8/site-packages/pytorch_lightning/loops/evaluation_loop.py\", line 391, in _evaluation_step\n",
      "\u001b[34m\u001b[1mwandb\u001b[0m: \u001b[32m\u001b[41mERROR\u001b[0m     output = call._call_strategy_hook(trainer, hook_name, *step_args)\n",
      "\u001b[34m\u001b[1mwandb\u001b[0m: \u001b[32m\u001b[41mERROR\u001b[0m   File \"/Users/jjaniak/anaconda3/envs/studia_projekt/lib/python3.8/site-packages/pytorch_lightning/trainer/call.py\", line 309, in _call_strategy_hook\n",
      "\u001b[34m\u001b[1mwandb\u001b[0m: \u001b[32m\u001b[41mERROR\u001b[0m     output = fn(*args, **kwargs)\n",
      "\u001b[34m\u001b[1mwandb\u001b[0m: \u001b[32m\u001b[41mERROR\u001b[0m   File \"/Users/jjaniak/anaconda3/envs/studia_projekt/lib/python3.8/site-packages/pytorch_lightning/strategies/strategy.py\", line 403, in validation_step\n",
      "\u001b[34m\u001b[1mwandb\u001b[0m: \u001b[32m\u001b[41mERROR\u001b[0m     return self.lightning_module.validation_step(*args, **kwargs)\n",
      "\u001b[34m\u001b[1mwandb\u001b[0m: \u001b[32m\u001b[41mERROR\u001b[0m   File \"/Users/jjaniak/Documents/studia/projekt/gradient/notebooks/downstream_tasks/../../src/lightning/hetero_gnn_module.py\", line 57, in validation_step\n",
      "\u001b[34m\u001b[1mwandb\u001b[0m: \u001b[32m\u001b[41mERROR\u001b[0m     y_hat = self.model(batch.x_dict, batch.edge_index_dict, batch.edge_attr_dict)\n",
      "\u001b[34m\u001b[1mwandb\u001b[0m: \u001b[32m\u001b[41mERROR\u001b[0m   File \"/Users/jjaniak/anaconda3/envs/studia_projekt/lib/python3.8/site-packages/torch/nn/modules/module.py\", line 1518, in _wrapped_call_impl\n",
      "\u001b[34m\u001b[1mwandb\u001b[0m: \u001b[32m\u001b[41mERROR\u001b[0m     return self._call_impl(*args, **kwargs)\n",
      "\u001b[34m\u001b[1mwandb\u001b[0m: \u001b[32m\u001b[41mERROR\u001b[0m   File \"/Users/jjaniak/anaconda3/envs/studia_projekt/lib/python3.8/site-packages/torch/nn/modules/module.py\", line 1527, in _call_impl\n",
      "\u001b[34m\u001b[1mwandb\u001b[0m: \u001b[32m\u001b[41mERROR\u001b[0m     return forward_call(*args, **kwargs)\n",
      "\u001b[34m\u001b[1mwandb\u001b[0m: \u001b[32m\u001b[41mERROR\u001b[0m   File \"/Users/jjaniak/Documents/studia/projekt/gradient/notebooks/downstream_tasks/../../src/baseline_models/HeteroGNN/HeteroGNN.py\", line 59, in forward\n",
      "\u001b[34m\u001b[1mwandb\u001b[0m: \u001b[32m\u001b[41mERROR\u001b[0m     value = self._forward(x_dict, edge_index_dict, edge_atrr_dict)\n",
      "\u001b[34m\u001b[1mwandb\u001b[0m: \u001b[32m\u001b[41mERROR\u001b[0m   File \"/Users/jjaniak/Documents/studia/projekt/gradient/notebooks/downstream_tasks/../../src/baseline_models/HeteroGNN/HeteroGNN.py\", line 74, in _forward\n",
      "\u001b[34m\u001b[1mwandb\u001b[0m: \u001b[32m\u001b[41mERROR\u001b[0m     x_dict = conv(x_dict, edge_index_dict, edge_atrr_dict)\n",
      "\u001b[34m\u001b[1mwandb\u001b[0m: \u001b[32m\u001b[41mERROR\u001b[0m   File \"/Users/jjaniak/anaconda3/envs/studia_projekt/lib/python3.8/site-packages/torch/nn/modules/module.py\", line 1518, in _wrapped_call_impl\n",
      "\u001b[34m\u001b[1mwandb\u001b[0m: \u001b[32m\u001b[41mERROR\u001b[0m     return self._call_impl(*args, **kwargs)\n",
      "\u001b[34m\u001b[1mwandb\u001b[0m: \u001b[32m\u001b[41mERROR\u001b[0m   File \"/Users/jjaniak/anaconda3/envs/studia_projekt/lib/python3.8/site-packages/torch/nn/modules/module.py\", line 1527, in _call_impl\n",
      "\u001b[34m\u001b[1mwandb\u001b[0m: \u001b[32m\u001b[41mERROR\u001b[0m     return forward_call(*args, **kwargs)\n",
      "\u001b[34m\u001b[1mwandb\u001b[0m: \u001b[32m\u001b[41mERROR\u001b[0m   File \"/Users/jjaniak/anaconda3/envs/studia_projekt/lib/python3.8/site-packages/torch_geometric/nn/conv/hetero_conv.py\", line 159, in forward\n",
      "\u001b[34m\u001b[1mwandb\u001b[0m: \u001b[32m\u001b[41mERROR\u001b[0m     out = self.convs[edge_type](*args, **kwargs)\n",
      "\u001b[34m\u001b[1mwandb\u001b[0m: \u001b[32m\u001b[41mERROR\u001b[0m   File \"/Users/jjaniak/anaconda3/envs/studia_projekt/lib/python3.8/site-packages/torch/nn/modules/module.py\", line 1518, in _wrapped_call_impl\n",
      "\u001b[34m\u001b[1mwandb\u001b[0m: \u001b[32m\u001b[41mERROR\u001b[0m     return self._call_impl(*args, **kwargs)\n",
      "\u001b[34m\u001b[1mwandb\u001b[0m: \u001b[32m\u001b[41mERROR\u001b[0m   File \"/Users/jjaniak/anaconda3/envs/studia_projekt/lib/python3.8/site-packages/torch/nn/modules/module.py\", line 1527, in _call_impl\n",
      "\u001b[34m\u001b[1mwandb\u001b[0m: \u001b[32m\u001b[41mERROR\u001b[0m     return forward_call(*args, **kwargs)\n",
      "\u001b[34m\u001b[1mwandb\u001b[0m: \u001b[32m\u001b[41mERROR\u001b[0m   File \"/Users/jjaniak/anaconda3/envs/studia_projekt/lib/python3.8/site-packages/torch_geometric/nn/conv/gat_conv.py\", line 252, in forward\n",
      "\u001b[34m\u001b[1mwandb\u001b[0m: \u001b[32m\u001b[41mERROR\u001b[0m     alpha = self.edge_updater(edge_index, alpha=alpha, edge_attr=edge_attr)\n",
      "\u001b[34m\u001b[1mwandb\u001b[0m: \u001b[32m\u001b[41mERROR\u001b[0m   File \"/Users/jjaniak/anaconda3/envs/studia_projekt/lib/python3.8/site-packages/torch_geometric/nn/conv/message_passing.py\", line 527, in edge_updater\n",
      "\u001b[34m\u001b[1mwandb\u001b[0m: \u001b[32m\u001b[41mERROR\u001b[0m     out = self.edge_update(**edge_kwargs)\n",
      "\u001b[34m\u001b[1mwandb\u001b[0m: \u001b[32m\u001b[41mERROR\u001b[0m   File \"/Users/jjaniak/anaconda3/envs/studia_projekt/lib/python3.8/site-packages/torch_geometric/nn/conv/gat_conv.py\", line 295, in edge_update\n",
      "\u001b[34m\u001b[1mwandb\u001b[0m: \u001b[32m\u001b[41mERROR\u001b[0m     alpha = softmax(alpha, index, ptr, size_i)\n",
      "\u001b[34m\u001b[1mwandb\u001b[0m: \u001b[32m\u001b[41mERROR\u001b[0m   File \"/Users/jjaniak/anaconda3/envs/studia_projekt/lib/python3.8/site-packages/torch_geometric/utils/softmax.py\", line 65, in softmax\n",
      "\u001b[34m\u001b[1mwandb\u001b[0m: \u001b[32m\u001b[41mERROR\u001b[0m     src_max = scatter(src.detach(), index, dim, dim_size=N, reduce='max')\n",
      "\u001b[34m\u001b[1mwandb\u001b[0m: \u001b[32m\u001b[41mERROR\u001b[0m   File \"/Users/jjaniak/anaconda3/envs/studia_projekt/lib/python3.8/site-packages/torch_geometric/utils/scatter.py\", line 94, in scatter\n",
      "\u001b[34m\u001b[1mwandb\u001b[0m: \u001b[32m\u001b[41mERROR\u001b[0m     return src.new_zeros(size).scatter_reduce_(\n",
      "\u001b[34m\u001b[1mwandb\u001b[0m: \u001b[32m\u001b[41mERROR\u001b[0m NotImplementedError: The operator 'aten::scatter_reduce.two_out' is not currently implemented for the MPS device. If you want this op to be added in priority during the prototype phase of this feature, please comment on https://github.com/pytorch/pytorch/issues/77764. As a temporary fix, you can set the environment variable `PYTORCH_ENABLE_MPS_FALLBACK=1` to use the CPU as a fallback for this op. WARNING: this will be slower than running natively on MPS.\n",
      "\u001b[34m\u001b[1mwandb\u001b[0m: \u001b[32m\u001b[41mERROR\u001b[0m \n",
      "\u001b[34m\u001b[1mwandb\u001b[0m: Agent Starting Run: 78ej72x9 with config:\n",
      "\u001b[34m\u001b[1mwandb\u001b[0m: \thidden_channels: 50\n",
      "\u001b[34m\u001b[1mwandb\u001b[0m: \tlearning_rate: 0.00013178779703517467\n",
      "\u001b[34m\u001b[1mwandb\u001b[0m: \tlin_layer_size: 16\n",
      "\u001b[34m\u001b[1mwandb\u001b[0m: \tnum_conv_layers: 3\n",
      "\u001b[34m\u001b[1mwandb\u001b[0m: \tnum_lin_layers: 1\n",
      "\u001b[34m\u001b[1mwandb\u001b[0m: \tweight_decay: 1.4321585055433012e-05\n",
      "Failed to detect the name of this notebook, you can set it manually with the WANDB_NOTEBOOK_NAME environment variable to enable code saving.\n"
     ]
    },
    {
     "data": {
      "text/html": [
       "wandb version 0.17.0 is available!  To upgrade, please run:\n",
       " $ pip install wandb --upgrade"
      ],
      "text/plain": [
       "<IPython.core.display.HTML object>"
      ]
     },
     "metadata": {},
     "output_type": "display_data"
    },
    {
     "data": {
      "text/html": [
       "Tracking run with wandb version 0.16.4"
      ],
      "text/plain": [
       "<IPython.core.display.HTML object>"
      ]
     },
     "metadata": {},
     "output_type": "display_data"
    },
    {
     "data": {
      "text/html": [
       "Run data is saved locally in <code>/Users/jjaniak/Documents/studia/projekt/gradient/notebooks/downstream_tasks/wandb/run-20240604_115317-78ej72x9</code>"
      ],
      "text/plain": [
       "<IPython.core.display.HTML object>"
      ]
     },
     "metadata": {},
     "output_type": "display_data"
    },
    {
     "data": {
      "text/html": [
       "Syncing run <strong><a href='https://wandb.ai/gradient_pwr/zabka-downstream-task/runs/78ej72x9' target=\"_blank\">major-sweep-3</a></strong> to <a href='https://wandb.ai/gradient_pwr/zabka-downstream-task' target=\"_blank\">Weights & Biases</a> (<a href='https://wandb.me/run' target=\"_blank\">docs</a>)<br/>Sweep page: <a href='https://wandb.ai/gradient_pwr/zabka-downstream-task/sweeps/d0rbt10k' target=\"_blank\">https://wandb.ai/gradient_pwr/zabka-downstream-task/sweeps/d0rbt10k</a>"
      ],
      "text/plain": [
       "<IPython.core.display.HTML object>"
      ]
     },
     "metadata": {},
     "output_type": "display_data"
    },
    {
     "data": {
      "text/html": [
       " View project at <a href='https://wandb.ai/gradient_pwr/zabka-downstream-task' target=\"_blank\">https://wandb.ai/gradient_pwr/zabka-downstream-task</a>"
      ],
      "text/plain": [
       "<IPython.core.display.HTML object>"
      ]
     },
     "metadata": {},
     "output_type": "display_data"
    },
    {
     "data": {
      "text/html": [
       " View sweep at <a href='https://wandb.ai/gradient_pwr/zabka-downstream-task/sweeps/d0rbt10k' target=\"_blank\">https://wandb.ai/gradient_pwr/zabka-downstream-task/sweeps/d0rbt10k</a>"
      ],
      "text/plain": [
       "<IPython.core.display.HTML object>"
      ]
     },
     "metadata": {},
     "output_type": "display_data"
    },
    {
     "data": {
      "text/html": [
       " View run at <a href='https://wandb.ai/gradient_pwr/zabka-downstream-task/runs/78ej72x9' target=\"_blank\">https://wandb.ai/gradient_pwr/zabka-downstream-task/runs/78ej72x9</a>"
      ],
      "text/plain": [
       "<IPython.core.display.HTML object>"
      ]
     },
     "metadata": {},
     "output_type": "display_data"
    },
    {
     "name": "stderr",
     "output_type": "stream",
     "text": [
      "/Users/jjaniak/anaconda3/envs/studia_projekt/lib/python3.8/site-packages/torch_geometric/deprecation.py:22: UserWarning: 'data.DataLoader' is deprecated, use 'loader.DataLoader' instead\n",
      "  warnings.warn(out)\n",
      "GPU available: True (mps), used: True\n",
      "TPU available: False, using: 0 TPU cores\n",
      "IPU available: False, using: 0 IPUs\n",
      "HPU available: False, using: 0 HPUs\n",
      "Missing logger folder: ../../gradient_logs/2024_06_04_11_53_22/lightning_logs\n",
      "\n",
      "  | Name  | Type      | Params\n",
      "------------------------------------\n",
      "0 | model | HeteroGNN | 247 K \n",
      "------------------------------------\n",
      "247 K     Trainable params\n",
      "0         Non-trainable params\n",
      "247 K     Total params\n",
      "0.990     Total estimated model params size (MB)\n"
     ]
    },
    {
     "data": {
      "application/vnd.jupyter.widget-view+json": {
       "model_id": "ea999b2cf4c643d7be0e81dbfe5de3a4",
       "version_major": 2,
       "version_minor": 0
      },
      "text/plain": [
       "Sanity Checking: |          | 0/? [00:00<?, ?it/s]"
      ]
     },
     "metadata": {},
     "output_type": "display_data"
    },
    {
     "name": "stderr",
     "output_type": "stream",
     "text": [
      "/Users/jjaniak/anaconda3/envs/studia_projekt/lib/python3.8/site-packages/pytorch_lightning/trainer/connectors/data_connector.py:441: The 'val_dataloader' does not have many workers which may be a bottleneck. Consider increasing the value of the `num_workers` argument` to `num_workers=11` in the `DataLoader` to improve performance.\n"
     ]
    },
    {
     "data": {
      "application/vnd.jupyter.widget-view+json": {
       "model_id": "49e60143d76d4a44be46dc0b20cef640",
       "version_major": 2,
       "version_minor": 0
      },
      "text/plain": [
       "VBox(children=(Label(value='0.001 MB of 0.001 MB uploaded\\r'), FloatProgress(value=1.0, max=1.0)))"
      ]
     },
     "metadata": {},
     "output_type": "display_data"
    },
    {
     "data": {
      "text/html": [
       "<style>\n",
       "    table.wandb td:nth-child(1) { padding: 0 10px; text-align: left ; width: auto;} td:nth-child(2) {text-align: left ; width: 100%}\n",
       "    .wandb-row { display: flex; flex-direction: row; flex-wrap: wrap; justify-content: flex-start; width: 100% }\n",
       "    .wandb-col { display: flex; flex-direction: column; flex-basis: 100%; flex: 1; padding: 10px; }\n",
       "    </style>\n",
       "<div class=\"wandb-row\"><div class=\"wandb-col\"><h3>Run history:</h3><br/><table class=\"wandb\"><tr><td>USE_HEXES_ATTRS</td><td>▁</td></tr><tr><td>USE_ORTOPHOTO</td><td>▁</td></tr><tr><td>USE_OSMNX_ATTRS</td><td>▁</td></tr></table><br/></div><div class=\"wandb-col\"><h3>Run summary:</h3><br/><table class=\"wandb\"><tr><td>USE_HEXES_ATTRS</td><td>1</td></tr><tr><td>USE_ORTOPHOTO</td><td>0</td></tr><tr><td>USE_OSMNX_ATTRS</td><td>1</td></tr><tr><td>data_structure</td><td>graph</td></tr></table><br/></div></div>"
      ],
      "text/plain": [
       "<IPython.core.display.HTML object>"
      ]
     },
     "metadata": {},
     "output_type": "display_data"
    },
    {
     "data": {
      "text/html": [
       " View run <strong style=\"color:#cdcd00\">major-sweep-3</strong> at: <a href='https://wandb.ai/gradient_pwr/zabka-downstream-task/runs/78ej72x9' target=\"_blank\">https://wandb.ai/gradient_pwr/zabka-downstream-task/runs/78ej72x9</a><br/>Synced 6 W&B file(s), 0 media file(s), 0 artifact file(s) and 0 other file(s)"
      ],
      "text/plain": [
       "<IPython.core.display.HTML object>"
      ]
     },
     "metadata": {},
     "output_type": "display_data"
    },
    {
     "data": {
      "text/html": [
       "Find logs at: <code>./wandb/run-20240604_115317-78ej72x9/logs</code>"
      ],
      "text/plain": [
       "<IPython.core.display.HTML object>"
      ]
     },
     "metadata": {},
     "output_type": "display_data"
    },
    {
     "name": "stderr",
     "output_type": "stream",
     "text": [
      "Run 78ej72x9 errored:\n",
      "Traceback (most recent call last):\n",
      "  File \"/Users/jjaniak/anaconda3/envs/studia_projekt/lib/python3.8/site-packages/wandb/agents/pyagent.py\", line 308, in _run_job\n",
      "    self._function()\n",
      "  File \"/var/folders/4k/8js3jm9n457cm4_v631zyrkw0000gn/T/ipykernel_37726/1604121319.py\", line 62, in wrapped\n",
      "    auc, accuracy, f1, model_path = train(\n",
      "  File \"/Users/jjaniak/Documents/studia/projekt/gradient/notebooks/downstream_tasks/../../src/training/train.py\", line 64, in train\n",
      "    trainer.fit(model, train_loader, val_loader)\n",
      "  File \"/Users/jjaniak/anaconda3/envs/studia_projekt/lib/python3.8/site-packages/pytorch_lightning/trainer/trainer.py\", line 545, in fit\n",
      "    call._call_and_handle_interrupt(\n",
      "  File \"/Users/jjaniak/anaconda3/envs/studia_projekt/lib/python3.8/site-packages/pytorch_lightning/trainer/call.py\", line 44, in _call_and_handle_interrupt\n",
      "    return trainer_fn(*args, **kwargs)\n",
      "  File \"/Users/jjaniak/anaconda3/envs/studia_projekt/lib/python3.8/site-packages/pytorch_lightning/trainer/trainer.py\", line 581, in _fit_impl\n",
      "    self._run(model, ckpt_path=ckpt_path)\n",
      "  File \"/Users/jjaniak/anaconda3/envs/studia_projekt/lib/python3.8/site-packages/pytorch_lightning/trainer/trainer.py\", line 990, in _run\n",
      "    results = self._run_stage()\n",
      "  File \"/Users/jjaniak/anaconda3/envs/studia_projekt/lib/python3.8/site-packages/pytorch_lightning/trainer/trainer.py\", line 1034, in _run_stage\n",
      "    self._run_sanity_check()\n",
      "  File \"/Users/jjaniak/anaconda3/envs/studia_projekt/lib/python3.8/site-packages/pytorch_lightning/trainer/trainer.py\", line 1063, in _run_sanity_check\n",
      "    val_loop.run()\n",
      "  File \"/Users/jjaniak/anaconda3/envs/studia_projekt/lib/python3.8/site-packages/pytorch_lightning/loops/utilities.py\", line 181, in _decorator\n",
      "    return loop_run(self, *args, **kwargs)\n",
      "  File \"/Users/jjaniak/anaconda3/envs/studia_projekt/lib/python3.8/site-packages/pytorch_lightning/loops/evaluation_loop.py\", line 134, in run\n",
      "    self._evaluation_step(batch, batch_idx, dataloader_idx, dataloader_iter)\n",
      "  File \"/Users/jjaniak/anaconda3/envs/studia_projekt/lib/python3.8/site-packages/pytorch_lightning/loops/evaluation_loop.py\", line 391, in _evaluation_step\n",
      "    output = call._call_strategy_hook(trainer, hook_name, *step_args)\n",
      "  File \"/Users/jjaniak/anaconda3/envs/studia_projekt/lib/python3.8/site-packages/pytorch_lightning/trainer/call.py\", line 309, in _call_strategy_hook\n",
      "    output = fn(*args, **kwargs)\n",
      "  File \"/Users/jjaniak/anaconda3/envs/studia_projekt/lib/python3.8/site-packages/pytorch_lightning/strategies/strategy.py\", line 403, in validation_step\n",
      "    return self.lightning_module.validation_step(*args, **kwargs)\n",
      "  File \"/Users/jjaniak/Documents/studia/projekt/gradient/notebooks/downstream_tasks/../../src/lightning/hetero_gnn_module.py\", line 57, in validation_step\n",
      "    y_hat = self.model(batch.x_dict, batch.edge_index_dict, batch.edge_attr_dict)\n",
      "  File \"/Users/jjaniak/anaconda3/envs/studia_projekt/lib/python3.8/site-packages/torch/nn/modules/module.py\", line 1518, in _wrapped_call_impl\n",
      "    return self._call_impl(*args, **kwargs)\n",
      "  File \"/Users/jjaniak/anaconda3/envs/studia_projekt/lib/python3.8/site-packages/torch/nn/modules/module.py\", line 1527, in _call_impl\n",
      "    return forward_call(*args, **kwargs)\n",
      "  File \"/Users/jjaniak/Documents/studia/projekt/gradient/notebooks/downstream_tasks/../../src/baseline_models/HeteroGNN/HeteroGNN.py\", line 59, in forward\n",
      "    value = self._forward(x_dict, edge_index_dict, edge_atrr_dict)\n",
      "  File \"/Users/jjaniak/Documents/studia/projekt/gradient/notebooks/downstream_tasks/../../src/baseline_models/HeteroGNN/HeteroGNN.py\", line 74, in _forward\n",
      "    x_dict = conv(x_dict, edge_index_dict, edge_atrr_dict)\n",
      "  File \"/Users/jjaniak/anaconda3/envs/studia_projekt/lib/python3.8/site-packages/torch/nn/modules/module.py\", line 1518, in _wrapped_call_impl\n",
      "    return self._call_impl(*args, **kwargs)\n",
      "  File \"/Users/jjaniak/anaconda3/envs/studia_projekt/lib/python3.8/site-packages/torch/nn/modules/module.py\", line 1527, in _call_impl\n",
      "    return forward_call(*args, **kwargs)\n",
      "  File \"/Users/jjaniak/anaconda3/envs/studia_projekt/lib/python3.8/site-packages/torch_geometric/nn/conv/hetero_conv.py\", line 159, in forward\n",
      "    out = self.convs[edge_type](*args, **kwargs)\n",
      "  File \"/Users/jjaniak/anaconda3/envs/studia_projekt/lib/python3.8/site-packages/torch/nn/modules/module.py\", line 1518, in _wrapped_call_impl\n",
      "    return self._call_impl(*args, **kwargs)\n",
      "  File \"/Users/jjaniak/anaconda3/envs/studia_projekt/lib/python3.8/site-packages/torch/nn/modules/module.py\", line 1527, in _call_impl\n",
      "    return forward_call(*args, **kwargs)\n",
      "  File \"/Users/jjaniak/anaconda3/envs/studia_projekt/lib/python3.8/site-packages/torch_geometric/nn/conv/gat_conv.py\", line 252, in forward\n",
      "    alpha = self.edge_updater(edge_index, alpha=alpha, edge_attr=edge_attr)\n",
      "  File \"/Users/jjaniak/anaconda3/envs/studia_projekt/lib/python3.8/site-packages/torch_geometric/nn/conv/message_passing.py\", line 527, in edge_updater\n",
      "    out = self.edge_update(**edge_kwargs)\n",
      "  File \"/Users/jjaniak/anaconda3/envs/studia_projekt/lib/python3.8/site-packages/torch_geometric/nn/conv/gat_conv.py\", line 295, in edge_update\n",
      "    alpha = softmax(alpha, index, ptr, size_i)\n",
      "  File \"/Users/jjaniak/anaconda3/envs/studia_projekt/lib/python3.8/site-packages/torch_geometric/utils/softmax.py\", line 65, in softmax\n",
      "    src_max = scatter(src.detach(), index, dim, dim_size=N, reduce='max')\n",
      "  File \"/Users/jjaniak/anaconda3/envs/studia_projekt/lib/python3.8/site-packages/torch_geometric/utils/scatter.py\", line 94, in scatter\n",
      "    return src.new_zeros(size).scatter_reduce_(\n",
      "NotImplementedError: The operator 'aten::scatter_reduce.two_out' is not currently implemented for the MPS device. If you want this op to be added in priority during the prototype phase of this feature, please comment on https://github.com/pytorch/pytorch/issues/77764. As a temporary fix, you can set the environment variable `PYTORCH_ENABLE_MPS_FALLBACK=1` to use the CPU as a fallback for this op. WARNING: this will be slower than running natively on MPS.\n",
      "\n",
      "\u001b[34m\u001b[1mwandb\u001b[0m: \u001b[32m\u001b[41mERROR\u001b[0m Run 78ej72x9 errored:\n",
      "\u001b[34m\u001b[1mwandb\u001b[0m: \u001b[32m\u001b[41mERROR\u001b[0m Traceback (most recent call last):\n",
      "\u001b[34m\u001b[1mwandb\u001b[0m: \u001b[32m\u001b[41mERROR\u001b[0m   File \"/Users/jjaniak/anaconda3/envs/studia_projekt/lib/python3.8/site-packages/wandb/agents/pyagent.py\", line 308, in _run_job\n",
      "\u001b[34m\u001b[1mwandb\u001b[0m: \u001b[32m\u001b[41mERROR\u001b[0m     self._function()\n",
      "\u001b[34m\u001b[1mwandb\u001b[0m: \u001b[32m\u001b[41mERROR\u001b[0m   File \"/var/folders/4k/8js3jm9n457cm4_v631zyrkw0000gn/T/ipykernel_37726/1604121319.py\", line 62, in wrapped\n",
      "\u001b[34m\u001b[1mwandb\u001b[0m: \u001b[32m\u001b[41mERROR\u001b[0m     auc, accuracy, f1, model_path = train(\n",
      "\u001b[34m\u001b[1mwandb\u001b[0m: \u001b[32m\u001b[41mERROR\u001b[0m   File \"/Users/jjaniak/Documents/studia/projekt/gradient/notebooks/downstream_tasks/../../src/training/train.py\", line 64, in train\n",
      "\u001b[34m\u001b[1mwandb\u001b[0m: \u001b[32m\u001b[41mERROR\u001b[0m     trainer.fit(model, train_loader, val_loader)\n",
      "\u001b[34m\u001b[1mwandb\u001b[0m: \u001b[32m\u001b[41mERROR\u001b[0m   File \"/Users/jjaniak/anaconda3/envs/studia_projekt/lib/python3.8/site-packages/pytorch_lightning/trainer/trainer.py\", line 545, in fit\n",
      "\u001b[34m\u001b[1mwandb\u001b[0m: \u001b[32m\u001b[41mERROR\u001b[0m     call._call_and_handle_interrupt(\n",
      "\u001b[34m\u001b[1mwandb\u001b[0m: \u001b[32m\u001b[41mERROR\u001b[0m   File \"/Users/jjaniak/anaconda3/envs/studia_projekt/lib/python3.8/site-packages/pytorch_lightning/trainer/call.py\", line 44, in _call_and_handle_interrupt\n",
      "\u001b[34m\u001b[1mwandb\u001b[0m: \u001b[32m\u001b[41mERROR\u001b[0m     return trainer_fn(*args, **kwargs)\n",
      "\u001b[34m\u001b[1mwandb\u001b[0m: \u001b[32m\u001b[41mERROR\u001b[0m   File \"/Users/jjaniak/anaconda3/envs/studia_projekt/lib/python3.8/site-packages/pytorch_lightning/trainer/trainer.py\", line 581, in _fit_impl\n",
      "\u001b[34m\u001b[1mwandb\u001b[0m: \u001b[32m\u001b[41mERROR\u001b[0m     self._run(model, ckpt_path=ckpt_path)\n",
      "\u001b[34m\u001b[1mwandb\u001b[0m: \u001b[32m\u001b[41mERROR\u001b[0m   File \"/Users/jjaniak/anaconda3/envs/studia_projekt/lib/python3.8/site-packages/pytorch_lightning/trainer/trainer.py\", line 990, in _run\n",
      "\u001b[34m\u001b[1mwandb\u001b[0m: \u001b[32m\u001b[41mERROR\u001b[0m     results = self._run_stage()\n",
      "\u001b[34m\u001b[1mwandb\u001b[0m: \u001b[32m\u001b[41mERROR\u001b[0m   File \"/Users/jjaniak/anaconda3/envs/studia_projekt/lib/python3.8/site-packages/pytorch_lightning/trainer/trainer.py\", line 1034, in _run_stage\n",
      "\u001b[34m\u001b[1mwandb\u001b[0m: \u001b[32m\u001b[41mERROR\u001b[0m     self._run_sanity_check()\n",
      "\u001b[34m\u001b[1mwandb\u001b[0m: \u001b[32m\u001b[41mERROR\u001b[0m   File \"/Users/jjaniak/anaconda3/envs/studia_projekt/lib/python3.8/site-packages/pytorch_lightning/trainer/trainer.py\", line 1063, in _run_sanity_check\n",
      "\u001b[34m\u001b[1mwandb\u001b[0m: \u001b[32m\u001b[41mERROR\u001b[0m     val_loop.run()\n",
      "\u001b[34m\u001b[1mwandb\u001b[0m: \u001b[32m\u001b[41mERROR\u001b[0m   File \"/Users/jjaniak/anaconda3/envs/studia_projekt/lib/python3.8/site-packages/pytorch_lightning/loops/utilities.py\", line 181, in _decorator\n",
      "\u001b[34m\u001b[1mwandb\u001b[0m: \u001b[32m\u001b[41mERROR\u001b[0m     return loop_run(self, *args, **kwargs)\n",
      "\u001b[34m\u001b[1mwandb\u001b[0m: \u001b[32m\u001b[41mERROR\u001b[0m   File \"/Users/jjaniak/anaconda3/envs/studia_projekt/lib/python3.8/site-packages/pytorch_lightning/loops/evaluation_loop.py\", line 134, in run\n",
      "\u001b[34m\u001b[1mwandb\u001b[0m: \u001b[32m\u001b[41mERROR\u001b[0m     self._evaluation_step(batch, batch_idx, dataloader_idx, dataloader_iter)\n",
      "\u001b[34m\u001b[1mwandb\u001b[0m: \u001b[32m\u001b[41mERROR\u001b[0m   File \"/Users/jjaniak/anaconda3/envs/studia_projekt/lib/python3.8/site-packages/pytorch_lightning/loops/evaluation_loop.py\", line 391, in _evaluation_step\n",
      "\u001b[34m\u001b[1mwandb\u001b[0m: \u001b[32m\u001b[41mERROR\u001b[0m     output = call._call_strategy_hook(trainer, hook_name, *step_args)\n",
      "\u001b[34m\u001b[1mwandb\u001b[0m: \u001b[32m\u001b[41mERROR\u001b[0m   File \"/Users/jjaniak/anaconda3/envs/studia_projekt/lib/python3.8/site-packages/pytorch_lightning/trainer/call.py\", line 309, in _call_strategy_hook\n",
      "\u001b[34m\u001b[1mwandb\u001b[0m: \u001b[32m\u001b[41mERROR\u001b[0m     output = fn(*args, **kwargs)\n",
      "\u001b[34m\u001b[1mwandb\u001b[0m: \u001b[32m\u001b[41mERROR\u001b[0m   File \"/Users/jjaniak/anaconda3/envs/studia_projekt/lib/python3.8/site-packages/pytorch_lightning/strategies/strategy.py\", line 403, in validation_step\n",
      "\u001b[34m\u001b[1mwandb\u001b[0m: \u001b[32m\u001b[41mERROR\u001b[0m     return self.lightning_module.validation_step(*args, **kwargs)\n",
      "\u001b[34m\u001b[1mwandb\u001b[0m: \u001b[32m\u001b[41mERROR\u001b[0m   File \"/Users/jjaniak/Documents/studia/projekt/gradient/notebooks/downstream_tasks/../../src/lightning/hetero_gnn_module.py\", line 57, in validation_step\n",
      "\u001b[34m\u001b[1mwandb\u001b[0m: \u001b[32m\u001b[41mERROR\u001b[0m     y_hat = self.model(batch.x_dict, batch.edge_index_dict, batch.edge_attr_dict)\n",
      "\u001b[34m\u001b[1mwandb\u001b[0m: \u001b[32m\u001b[41mERROR\u001b[0m   File \"/Users/jjaniak/anaconda3/envs/studia_projekt/lib/python3.8/site-packages/torch/nn/modules/module.py\", line 1518, in _wrapped_call_impl\n",
      "\u001b[34m\u001b[1mwandb\u001b[0m: \u001b[32m\u001b[41mERROR\u001b[0m     return self._call_impl(*args, **kwargs)\n",
      "\u001b[34m\u001b[1mwandb\u001b[0m: \u001b[32m\u001b[41mERROR\u001b[0m   File \"/Users/jjaniak/anaconda3/envs/studia_projekt/lib/python3.8/site-packages/torch/nn/modules/module.py\", line 1527, in _call_impl\n",
      "\u001b[34m\u001b[1mwandb\u001b[0m: \u001b[32m\u001b[41mERROR\u001b[0m     return forward_call(*args, **kwargs)\n",
      "\u001b[34m\u001b[1mwandb\u001b[0m: \u001b[32m\u001b[41mERROR\u001b[0m   File \"/Users/jjaniak/Documents/studia/projekt/gradient/notebooks/downstream_tasks/../../src/baseline_models/HeteroGNN/HeteroGNN.py\", line 59, in forward\n",
      "\u001b[34m\u001b[1mwandb\u001b[0m: \u001b[32m\u001b[41mERROR\u001b[0m     value = self._forward(x_dict, edge_index_dict, edge_atrr_dict)\n",
      "\u001b[34m\u001b[1mwandb\u001b[0m: \u001b[32m\u001b[41mERROR\u001b[0m   File \"/Users/jjaniak/Documents/studia/projekt/gradient/notebooks/downstream_tasks/../../src/baseline_models/HeteroGNN/HeteroGNN.py\", line 74, in _forward\n",
      "\u001b[34m\u001b[1mwandb\u001b[0m: \u001b[32m\u001b[41mERROR\u001b[0m     x_dict = conv(x_dict, edge_index_dict, edge_atrr_dict)\n",
      "\u001b[34m\u001b[1mwandb\u001b[0m: \u001b[32m\u001b[41mERROR\u001b[0m   File \"/Users/jjaniak/anaconda3/envs/studia_projekt/lib/python3.8/site-packages/torch/nn/modules/module.py\", line 1518, in _wrapped_call_impl\n",
      "\u001b[34m\u001b[1mwandb\u001b[0m: \u001b[32m\u001b[41mERROR\u001b[0m     return self._call_impl(*args, **kwargs)\n",
      "\u001b[34m\u001b[1mwandb\u001b[0m: \u001b[32m\u001b[41mERROR\u001b[0m   File \"/Users/jjaniak/anaconda3/envs/studia_projekt/lib/python3.8/site-packages/torch/nn/modules/module.py\", line 1527, in _call_impl\n",
      "\u001b[34m\u001b[1mwandb\u001b[0m: \u001b[32m\u001b[41mERROR\u001b[0m     return forward_call(*args, **kwargs)\n",
      "\u001b[34m\u001b[1mwandb\u001b[0m: \u001b[32m\u001b[41mERROR\u001b[0m   File \"/Users/jjaniak/anaconda3/envs/studia_projekt/lib/python3.8/site-packages/torch_geometric/nn/conv/hetero_conv.py\", line 159, in forward\n",
      "\u001b[34m\u001b[1mwandb\u001b[0m: \u001b[32m\u001b[41mERROR\u001b[0m     out = self.convs[edge_type](*args, **kwargs)\n",
      "\u001b[34m\u001b[1mwandb\u001b[0m: \u001b[32m\u001b[41mERROR\u001b[0m   File \"/Users/jjaniak/anaconda3/envs/studia_projekt/lib/python3.8/site-packages/torch/nn/modules/module.py\", line 1518, in _wrapped_call_impl\n",
      "\u001b[34m\u001b[1mwandb\u001b[0m: \u001b[32m\u001b[41mERROR\u001b[0m     return self._call_impl(*args, **kwargs)\n",
      "\u001b[34m\u001b[1mwandb\u001b[0m: \u001b[32m\u001b[41mERROR\u001b[0m   File \"/Users/jjaniak/anaconda3/envs/studia_projekt/lib/python3.8/site-packages/torch/nn/modules/module.py\", line 1527, in _call_impl\n",
      "\u001b[34m\u001b[1mwandb\u001b[0m: \u001b[32m\u001b[41mERROR\u001b[0m     return forward_call(*args, **kwargs)\n",
      "\u001b[34m\u001b[1mwandb\u001b[0m: \u001b[32m\u001b[41mERROR\u001b[0m   File \"/Users/jjaniak/anaconda3/envs/studia_projekt/lib/python3.8/site-packages/torch_geometric/nn/conv/gat_conv.py\", line 252, in forward\n",
      "\u001b[34m\u001b[1mwandb\u001b[0m: \u001b[32m\u001b[41mERROR\u001b[0m     alpha = self.edge_updater(edge_index, alpha=alpha, edge_attr=edge_attr)\n",
      "\u001b[34m\u001b[1mwandb\u001b[0m: \u001b[32m\u001b[41mERROR\u001b[0m   File \"/Users/jjaniak/anaconda3/envs/studia_projekt/lib/python3.8/site-packages/torch_geometric/nn/conv/message_passing.py\", line 527, in edge_updater\n",
      "\u001b[34m\u001b[1mwandb\u001b[0m: \u001b[32m\u001b[41mERROR\u001b[0m     out = self.edge_update(**edge_kwargs)\n",
      "\u001b[34m\u001b[1mwandb\u001b[0m: \u001b[32m\u001b[41mERROR\u001b[0m   File \"/Users/jjaniak/anaconda3/envs/studia_projekt/lib/python3.8/site-packages/torch_geometric/nn/conv/gat_conv.py\", line 295, in edge_update\n",
      "\u001b[34m\u001b[1mwandb\u001b[0m: \u001b[32m\u001b[41mERROR\u001b[0m     alpha = softmax(alpha, index, ptr, size_i)\n",
      "\u001b[34m\u001b[1mwandb\u001b[0m: \u001b[32m\u001b[41mERROR\u001b[0m   File \"/Users/jjaniak/anaconda3/envs/studia_projekt/lib/python3.8/site-packages/torch_geometric/utils/softmax.py\", line 65, in softmax\n",
      "\u001b[34m\u001b[1mwandb\u001b[0m: \u001b[32m\u001b[41mERROR\u001b[0m     src_max = scatter(src.detach(), index, dim, dim_size=N, reduce='max')\n",
      "\u001b[34m\u001b[1mwandb\u001b[0m: \u001b[32m\u001b[41mERROR\u001b[0m   File \"/Users/jjaniak/anaconda3/envs/studia_projekt/lib/python3.8/site-packages/torch_geometric/utils/scatter.py\", line 94, in scatter\n",
      "\u001b[34m\u001b[1mwandb\u001b[0m: \u001b[32m\u001b[41mERROR\u001b[0m     return src.new_zeros(size).scatter_reduce_(\n",
      "\u001b[34m\u001b[1mwandb\u001b[0m: \u001b[32m\u001b[41mERROR\u001b[0m NotImplementedError: The operator 'aten::scatter_reduce.two_out' is not currently implemented for the MPS device. If you want this op to be added in priority during the prototype phase of this feature, please comment on https://github.com/pytorch/pytorch/issues/77764. As a temporary fix, you can set the environment variable `PYTORCH_ENABLE_MPS_FALLBACK=1` to use the CPU as a fallback for this op. WARNING: this will be slower than running natively on MPS.\n",
      "\u001b[34m\u001b[1mwandb\u001b[0m: \u001b[32m\u001b[41mERROR\u001b[0m \n",
      "\u001b[34m\u001b[1mwandb\u001b[0m: Agent Starting Run: ev7k8ujj with config:\n",
      "\u001b[34m\u001b[1mwandb\u001b[0m: \thidden_channels: 30\n",
      "\u001b[34m\u001b[1mwandb\u001b[0m: \tlearning_rate: 0.0025726144873124157\n",
      "\u001b[34m\u001b[1mwandb\u001b[0m: \tlin_layer_size: 32\n",
      "\u001b[34m\u001b[1mwandb\u001b[0m: \tnum_conv_layers: 5\n",
      "\u001b[34m\u001b[1mwandb\u001b[0m: \tnum_lin_layers: 1\n",
      "\u001b[34m\u001b[1mwandb\u001b[0m: \tweight_decay: 2.7034008005056666e-05\n",
      "Failed to detect the name of this notebook, you can set it manually with the WANDB_NOTEBOOK_NAME environment variable to enable code saving.\n"
     ]
    },
    {
     "data": {
      "text/html": [
       "wandb version 0.17.0 is available!  To upgrade, please run:\n",
       " $ pip install wandb --upgrade"
      ],
      "text/plain": [
       "<IPython.core.display.HTML object>"
      ]
     },
     "metadata": {},
     "output_type": "display_data"
    },
    {
     "data": {
      "text/html": [
       "Tracking run with wandb version 0.16.4"
      ],
      "text/plain": [
       "<IPython.core.display.HTML object>"
      ]
     },
     "metadata": {},
     "output_type": "display_data"
    },
    {
     "data": {
      "text/html": [
       "Run data is saved locally in <code>/Users/jjaniak/Documents/studia/projekt/gradient/notebooks/downstream_tasks/wandb/run-20240604_115332-ev7k8ujj</code>"
      ],
      "text/plain": [
       "<IPython.core.display.HTML object>"
      ]
     },
     "metadata": {},
     "output_type": "display_data"
    },
    {
     "data": {
      "text/html": [
       "Syncing run <strong><a href='https://wandb.ai/gradient_pwr/zabka-downstream-task/runs/ev7k8ujj' target=\"_blank\">splendid-sweep-4</a></strong> to <a href='https://wandb.ai/gradient_pwr/zabka-downstream-task' target=\"_blank\">Weights & Biases</a> (<a href='https://wandb.me/run' target=\"_blank\">docs</a>)<br/>Sweep page: <a href='https://wandb.ai/gradient_pwr/zabka-downstream-task/sweeps/d0rbt10k' target=\"_blank\">https://wandb.ai/gradient_pwr/zabka-downstream-task/sweeps/d0rbt10k</a>"
      ],
      "text/plain": [
       "<IPython.core.display.HTML object>"
      ]
     },
     "metadata": {},
     "output_type": "display_data"
    },
    {
     "data": {
      "text/html": [
       " View project at <a href='https://wandb.ai/gradient_pwr/zabka-downstream-task' target=\"_blank\">https://wandb.ai/gradient_pwr/zabka-downstream-task</a>"
      ],
      "text/plain": [
       "<IPython.core.display.HTML object>"
      ]
     },
     "metadata": {},
     "output_type": "display_data"
    },
    {
     "data": {
      "text/html": [
       " View sweep at <a href='https://wandb.ai/gradient_pwr/zabka-downstream-task/sweeps/d0rbt10k' target=\"_blank\">https://wandb.ai/gradient_pwr/zabka-downstream-task/sweeps/d0rbt10k</a>"
      ],
      "text/plain": [
       "<IPython.core.display.HTML object>"
      ]
     },
     "metadata": {},
     "output_type": "display_data"
    },
    {
     "data": {
      "text/html": [
       " View run at <a href='https://wandb.ai/gradient_pwr/zabka-downstream-task/runs/ev7k8ujj' target=\"_blank\">https://wandb.ai/gradient_pwr/zabka-downstream-task/runs/ev7k8ujj</a>"
      ],
      "text/plain": [
       "<IPython.core.display.HTML object>"
      ]
     },
     "metadata": {},
     "output_type": "display_data"
    },
    {
     "name": "stderr",
     "output_type": "stream",
     "text": [
      "/Users/jjaniak/anaconda3/envs/studia_projekt/lib/python3.8/site-packages/torch_geometric/deprecation.py:22: UserWarning: 'data.DataLoader' is deprecated, use 'loader.DataLoader' instead\n",
      "  warnings.warn(out)\n",
      "GPU available: True (mps), used: True\n",
      "TPU available: False, using: 0 TPU cores\n",
      "IPU available: False, using: 0 IPUs\n",
      "HPU available: False, using: 0 HPUs\n",
      "Missing logger folder: ../../gradient_logs/2024_06_04_11_53_37/lightning_logs\n",
      "\n",
      "  | Name  | Type      | Params\n",
      "------------------------------------\n",
      "0 | model | HeteroGNN | 155 K \n",
      "------------------------------------\n",
      "155 K     Trainable params\n",
      "0         Non-trainable params\n",
      "155 K     Total params\n",
      "0.622     Total estimated model params size (MB)\n"
     ]
    },
    {
     "data": {
      "application/vnd.jupyter.widget-view+json": {
       "model_id": "493b6c3fbc304eee87442d1bebefb7f7",
       "version_major": 2,
       "version_minor": 0
      },
      "text/plain": [
       "Sanity Checking: |          | 0/? [00:00<?, ?it/s]"
      ]
     },
     "metadata": {},
     "output_type": "display_data"
    },
    {
     "name": "stderr",
     "output_type": "stream",
     "text": [
      "/Users/jjaniak/anaconda3/envs/studia_projekt/lib/python3.8/site-packages/pytorch_lightning/trainer/connectors/data_connector.py:441: The 'val_dataloader' does not have many workers which may be a bottleneck. Consider increasing the value of the `num_workers` argument` to `num_workers=11` in the `DataLoader` to improve performance.\n"
     ]
    },
    {
     "data": {
      "application/vnd.jupyter.widget-view+json": {
       "model_id": "6f000419ec384a94998c88828c297352",
       "version_major": 2,
       "version_minor": 0
      },
      "text/plain": [
       "VBox(children=(Label(value='0.001 MB of 0.001 MB uploaded\\r'), FloatProgress(value=1.0, max=1.0)))"
      ]
     },
     "metadata": {},
     "output_type": "display_data"
    },
    {
     "data": {
      "text/html": [
       "<style>\n",
       "    table.wandb td:nth-child(1) { padding: 0 10px; text-align: left ; width: auto;} td:nth-child(2) {text-align: left ; width: 100%}\n",
       "    .wandb-row { display: flex; flex-direction: row; flex-wrap: wrap; justify-content: flex-start; width: 100% }\n",
       "    .wandb-col { display: flex; flex-direction: column; flex-basis: 100%; flex: 1; padding: 10px; }\n",
       "    </style>\n",
       "<div class=\"wandb-row\"><div class=\"wandb-col\"><h3>Run history:</h3><br/><table class=\"wandb\"><tr><td>USE_HEXES_ATTRS</td><td>▁</td></tr><tr><td>USE_ORTOPHOTO</td><td>▁</td></tr><tr><td>USE_OSMNX_ATTRS</td><td>▁</td></tr></table><br/></div><div class=\"wandb-col\"><h3>Run summary:</h3><br/><table class=\"wandb\"><tr><td>USE_HEXES_ATTRS</td><td>1</td></tr><tr><td>USE_ORTOPHOTO</td><td>0</td></tr><tr><td>USE_OSMNX_ATTRS</td><td>1</td></tr><tr><td>data_structure</td><td>graph</td></tr></table><br/></div></div>"
      ],
      "text/plain": [
       "<IPython.core.display.HTML object>"
      ]
     },
     "metadata": {},
     "output_type": "display_data"
    },
    {
     "data": {
      "text/html": [
       " View run <strong style=\"color:#cdcd00\">splendid-sweep-4</strong> at: <a href='https://wandb.ai/gradient_pwr/zabka-downstream-task/runs/ev7k8ujj' target=\"_blank\">https://wandb.ai/gradient_pwr/zabka-downstream-task/runs/ev7k8ujj</a><br/>Synced 6 W&B file(s), 0 media file(s), 0 artifact file(s) and 0 other file(s)"
      ],
      "text/plain": [
       "<IPython.core.display.HTML object>"
      ]
     },
     "metadata": {},
     "output_type": "display_data"
    },
    {
     "data": {
      "text/html": [
       "Find logs at: <code>./wandb/run-20240604_115332-ev7k8ujj/logs</code>"
      ],
      "text/plain": [
       "<IPython.core.display.HTML object>"
      ]
     },
     "metadata": {},
     "output_type": "display_data"
    },
    {
     "name": "stderr",
     "output_type": "stream",
     "text": [
      "Run ev7k8ujj errored:\n",
      "Traceback (most recent call last):\n",
      "  File \"/Users/jjaniak/anaconda3/envs/studia_projekt/lib/python3.8/site-packages/wandb/agents/pyagent.py\", line 308, in _run_job\n",
      "    self._function()\n",
      "  File \"/var/folders/4k/8js3jm9n457cm4_v631zyrkw0000gn/T/ipykernel_37726/1604121319.py\", line 62, in wrapped\n",
      "    auc, accuracy, f1, model_path = train(\n",
      "  File \"/Users/jjaniak/Documents/studia/projekt/gradient/notebooks/downstream_tasks/../../src/training/train.py\", line 64, in train\n",
      "    trainer.fit(model, train_loader, val_loader)\n",
      "  File \"/Users/jjaniak/anaconda3/envs/studia_projekt/lib/python3.8/site-packages/pytorch_lightning/trainer/trainer.py\", line 545, in fit\n",
      "    call._call_and_handle_interrupt(\n",
      "  File \"/Users/jjaniak/anaconda3/envs/studia_projekt/lib/python3.8/site-packages/pytorch_lightning/trainer/call.py\", line 44, in _call_and_handle_interrupt\n",
      "    return trainer_fn(*args, **kwargs)\n",
      "  File \"/Users/jjaniak/anaconda3/envs/studia_projekt/lib/python3.8/site-packages/pytorch_lightning/trainer/trainer.py\", line 581, in _fit_impl\n",
      "    self._run(model, ckpt_path=ckpt_path)\n",
      "  File \"/Users/jjaniak/anaconda3/envs/studia_projekt/lib/python3.8/site-packages/pytorch_lightning/trainer/trainer.py\", line 990, in _run\n",
      "    results = self._run_stage()\n",
      "  File \"/Users/jjaniak/anaconda3/envs/studia_projekt/lib/python3.8/site-packages/pytorch_lightning/trainer/trainer.py\", line 1034, in _run_stage\n",
      "    self._run_sanity_check()\n",
      "  File \"/Users/jjaniak/anaconda3/envs/studia_projekt/lib/python3.8/site-packages/pytorch_lightning/trainer/trainer.py\", line 1063, in _run_sanity_check\n",
      "    val_loop.run()\n",
      "  File \"/Users/jjaniak/anaconda3/envs/studia_projekt/lib/python3.8/site-packages/pytorch_lightning/loops/utilities.py\", line 181, in _decorator\n",
      "    return loop_run(self, *args, **kwargs)\n",
      "  File \"/Users/jjaniak/anaconda3/envs/studia_projekt/lib/python3.8/site-packages/pytorch_lightning/loops/evaluation_loop.py\", line 134, in run\n",
      "    self._evaluation_step(batch, batch_idx, dataloader_idx, dataloader_iter)\n",
      "  File \"/Users/jjaniak/anaconda3/envs/studia_projekt/lib/python3.8/site-packages/pytorch_lightning/loops/evaluation_loop.py\", line 391, in _evaluation_step\n",
      "    output = call._call_strategy_hook(trainer, hook_name, *step_args)\n",
      "  File \"/Users/jjaniak/anaconda3/envs/studia_projekt/lib/python3.8/site-packages/pytorch_lightning/trainer/call.py\", line 309, in _call_strategy_hook\n",
      "    output = fn(*args, **kwargs)\n",
      "  File \"/Users/jjaniak/anaconda3/envs/studia_projekt/lib/python3.8/site-packages/pytorch_lightning/strategies/strategy.py\", line 403, in validation_step\n",
      "    return self.lightning_module.validation_step(*args, **kwargs)\n",
      "  File \"/Users/jjaniak/Documents/studia/projekt/gradient/notebooks/downstream_tasks/../../src/lightning/hetero_gnn_module.py\", line 57, in validation_step\n",
      "    y_hat = self.model(batch.x_dict, batch.edge_index_dict, batch.edge_attr_dict)\n",
      "  File \"/Users/jjaniak/anaconda3/envs/studia_projekt/lib/python3.8/site-packages/torch/nn/modules/module.py\", line 1518, in _wrapped_call_impl\n",
      "    return self._call_impl(*args, **kwargs)\n",
      "  File \"/Users/jjaniak/anaconda3/envs/studia_projekt/lib/python3.8/site-packages/torch/nn/modules/module.py\", line 1527, in _call_impl\n",
      "    return forward_call(*args, **kwargs)\n",
      "  File \"/Users/jjaniak/Documents/studia/projekt/gradient/notebooks/downstream_tasks/../../src/baseline_models/HeteroGNN/HeteroGNN.py\", line 59, in forward\n",
      "    value = self._forward(x_dict, edge_index_dict, edge_atrr_dict)\n",
      "  File \"/Users/jjaniak/Documents/studia/projekt/gradient/notebooks/downstream_tasks/../../src/baseline_models/HeteroGNN/HeteroGNN.py\", line 74, in _forward\n",
      "    x_dict = conv(x_dict, edge_index_dict, edge_atrr_dict)\n",
      "  File \"/Users/jjaniak/anaconda3/envs/studia_projekt/lib/python3.8/site-packages/torch/nn/modules/module.py\", line 1518, in _wrapped_call_impl\n",
      "    return self._call_impl(*args, **kwargs)\n",
      "  File \"/Users/jjaniak/anaconda3/envs/studia_projekt/lib/python3.8/site-packages/torch/nn/modules/module.py\", line 1527, in _call_impl\n",
      "    return forward_call(*args, **kwargs)\n",
      "  File \"/Users/jjaniak/anaconda3/envs/studia_projekt/lib/python3.8/site-packages/torch_geometric/nn/conv/hetero_conv.py\", line 159, in forward\n",
      "    out = self.convs[edge_type](*args, **kwargs)\n",
      "  File \"/Users/jjaniak/anaconda3/envs/studia_projekt/lib/python3.8/site-packages/torch/nn/modules/module.py\", line 1518, in _wrapped_call_impl\n",
      "    return self._call_impl(*args, **kwargs)\n",
      "  File \"/Users/jjaniak/anaconda3/envs/studia_projekt/lib/python3.8/site-packages/torch/nn/modules/module.py\", line 1527, in _call_impl\n",
      "    return forward_call(*args, **kwargs)\n",
      "  File \"/Users/jjaniak/anaconda3/envs/studia_projekt/lib/python3.8/site-packages/torch_geometric/nn/conv/gat_conv.py\", line 252, in forward\n",
      "    alpha = self.edge_updater(edge_index, alpha=alpha, edge_attr=edge_attr)\n",
      "  File \"/Users/jjaniak/anaconda3/envs/studia_projekt/lib/python3.8/site-packages/torch_geometric/nn/conv/message_passing.py\", line 527, in edge_updater\n",
      "    out = self.edge_update(**edge_kwargs)\n",
      "  File \"/Users/jjaniak/anaconda3/envs/studia_projekt/lib/python3.8/site-packages/torch_geometric/nn/conv/gat_conv.py\", line 295, in edge_update\n",
      "    alpha = softmax(alpha, index, ptr, size_i)\n",
      "  File \"/Users/jjaniak/anaconda3/envs/studia_projekt/lib/python3.8/site-packages/torch_geometric/utils/softmax.py\", line 65, in softmax\n",
      "    src_max = scatter(src.detach(), index, dim, dim_size=N, reduce='max')\n",
      "  File \"/Users/jjaniak/anaconda3/envs/studia_projekt/lib/python3.8/site-packages/torch_geometric/utils/scatter.py\", line 94, in scatter\n",
      "    return src.new_zeros(size).scatter_reduce_(\n",
      "NotImplementedError: The operator 'aten::scatter_reduce.two_out' is not currently implemented for the MPS device. If you want this op to be added in priority during the prototype phase of this feature, please comment on https://github.com/pytorch/pytorch/issues/77764. As a temporary fix, you can set the environment variable `PYTORCH_ENABLE_MPS_FALLBACK=1` to use the CPU as a fallback for this op. WARNING: this will be slower than running natively on MPS.\n",
      "\n",
      "\u001b[34m\u001b[1mwandb\u001b[0m: \u001b[32m\u001b[41mERROR\u001b[0m Run ev7k8ujj errored:\n",
      "\u001b[34m\u001b[1mwandb\u001b[0m: \u001b[32m\u001b[41mERROR\u001b[0m Traceback (most recent call last):\n",
      "\u001b[34m\u001b[1mwandb\u001b[0m: \u001b[32m\u001b[41mERROR\u001b[0m   File \"/Users/jjaniak/anaconda3/envs/studia_projekt/lib/python3.8/site-packages/wandb/agents/pyagent.py\", line 308, in _run_job\n",
      "\u001b[34m\u001b[1mwandb\u001b[0m: \u001b[32m\u001b[41mERROR\u001b[0m     self._function()\n",
      "\u001b[34m\u001b[1mwandb\u001b[0m: \u001b[32m\u001b[41mERROR\u001b[0m   File \"/var/folders/4k/8js3jm9n457cm4_v631zyrkw0000gn/T/ipykernel_37726/1604121319.py\", line 62, in wrapped\n",
      "\u001b[34m\u001b[1mwandb\u001b[0m: \u001b[32m\u001b[41mERROR\u001b[0m     auc, accuracy, f1, model_path = train(\n",
      "\u001b[34m\u001b[1mwandb\u001b[0m: \u001b[32m\u001b[41mERROR\u001b[0m   File \"/Users/jjaniak/Documents/studia/projekt/gradient/notebooks/downstream_tasks/../../src/training/train.py\", line 64, in train\n",
      "\u001b[34m\u001b[1mwandb\u001b[0m: \u001b[32m\u001b[41mERROR\u001b[0m     trainer.fit(model, train_loader, val_loader)\n",
      "\u001b[34m\u001b[1mwandb\u001b[0m: \u001b[32m\u001b[41mERROR\u001b[0m   File \"/Users/jjaniak/anaconda3/envs/studia_projekt/lib/python3.8/site-packages/pytorch_lightning/trainer/trainer.py\", line 545, in fit\n",
      "\u001b[34m\u001b[1mwandb\u001b[0m: \u001b[32m\u001b[41mERROR\u001b[0m     call._call_and_handle_interrupt(\n",
      "\u001b[34m\u001b[1mwandb\u001b[0m: \u001b[32m\u001b[41mERROR\u001b[0m   File \"/Users/jjaniak/anaconda3/envs/studia_projekt/lib/python3.8/site-packages/pytorch_lightning/trainer/call.py\", line 44, in _call_and_handle_interrupt\n",
      "\u001b[34m\u001b[1mwandb\u001b[0m: \u001b[32m\u001b[41mERROR\u001b[0m     return trainer_fn(*args, **kwargs)\n",
      "\u001b[34m\u001b[1mwandb\u001b[0m: \u001b[32m\u001b[41mERROR\u001b[0m   File \"/Users/jjaniak/anaconda3/envs/studia_projekt/lib/python3.8/site-packages/pytorch_lightning/trainer/trainer.py\", line 581, in _fit_impl\n",
      "\u001b[34m\u001b[1mwandb\u001b[0m: \u001b[32m\u001b[41mERROR\u001b[0m     self._run(model, ckpt_path=ckpt_path)\n",
      "\u001b[34m\u001b[1mwandb\u001b[0m: \u001b[32m\u001b[41mERROR\u001b[0m   File \"/Users/jjaniak/anaconda3/envs/studia_projekt/lib/python3.8/site-packages/pytorch_lightning/trainer/trainer.py\", line 990, in _run\n",
      "\u001b[34m\u001b[1mwandb\u001b[0m: \u001b[32m\u001b[41mERROR\u001b[0m     results = self._run_stage()\n",
      "\u001b[34m\u001b[1mwandb\u001b[0m: \u001b[32m\u001b[41mERROR\u001b[0m   File \"/Users/jjaniak/anaconda3/envs/studia_projekt/lib/python3.8/site-packages/pytorch_lightning/trainer/trainer.py\", line 1034, in _run_stage\n",
      "\u001b[34m\u001b[1mwandb\u001b[0m: \u001b[32m\u001b[41mERROR\u001b[0m     self._run_sanity_check()\n",
      "\u001b[34m\u001b[1mwandb\u001b[0m: \u001b[32m\u001b[41mERROR\u001b[0m   File \"/Users/jjaniak/anaconda3/envs/studia_projekt/lib/python3.8/site-packages/pytorch_lightning/trainer/trainer.py\", line 1063, in _run_sanity_check\n",
      "\u001b[34m\u001b[1mwandb\u001b[0m: \u001b[32m\u001b[41mERROR\u001b[0m     val_loop.run()\n",
      "\u001b[34m\u001b[1mwandb\u001b[0m: \u001b[32m\u001b[41mERROR\u001b[0m   File \"/Users/jjaniak/anaconda3/envs/studia_projekt/lib/python3.8/site-packages/pytorch_lightning/loops/utilities.py\", line 181, in _decorator\n",
      "\u001b[34m\u001b[1mwandb\u001b[0m: \u001b[32m\u001b[41mERROR\u001b[0m     return loop_run(self, *args, **kwargs)\n",
      "\u001b[34m\u001b[1mwandb\u001b[0m: \u001b[32m\u001b[41mERROR\u001b[0m   File \"/Users/jjaniak/anaconda3/envs/studia_projekt/lib/python3.8/site-packages/pytorch_lightning/loops/evaluation_loop.py\", line 134, in run\n",
      "\u001b[34m\u001b[1mwandb\u001b[0m: \u001b[32m\u001b[41mERROR\u001b[0m     self._evaluation_step(batch, batch_idx, dataloader_idx, dataloader_iter)\n",
      "\u001b[34m\u001b[1mwandb\u001b[0m: \u001b[32m\u001b[41mERROR\u001b[0m   File \"/Users/jjaniak/anaconda3/envs/studia_projekt/lib/python3.8/site-packages/pytorch_lightning/loops/evaluation_loop.py\", line 391, in _evaluation_step\n",
      "\u001b[34m\u001b[1mwandb\u001b[0m: \u001b[32m\u001b[41mERROR\u001b[0m     output = call._call_strategy_hook(trainer, hook_name, *step_args)\n",
      "\u001b[34m\u001b[1mwandb\u001b[0m: \u001b[32m\u001b[41mERROR\u001b[0m   File \"/Users/jjaniak/anaconda3/envs/studia_projekt/lib/python3.8/site-packages/pytorch_lightning/trainer/call.py\", line 309, in _call_strategy_hook\n",
      "\u001b[34m\u001b[1mwandb\u001b[0m: \u001b[32m\u001b[41mERROR\u001b[0m     output = fn(*args, **kwargs)\n",
      "\u001b[34m\u001b[1mwandb\u001b[0m: \u001b[32m\u001b[41mERROR\u001b[0m   File \"/Users/jjaniak/anaconda3/envs/studia_projekt/lib/python3.8/site-packages/pytorch_lightning/strategies/strategy.py\", line 403, in validation_step\n",
      "\u001b[34m\u001b[1mwandb\u001b[0m: \u001b[32m\u001b[41mERROR\u001b[0m     return self.lightning_module.validation_step(*args, **kwargs)\n",
      "\u001b[34m\u001b[1mwandb\u001b[0m: \u001b[32m\u001b[41mERROR\u001b[0m   File \"/Users/jjaniak/Documents/studia/projekt/gradient/notebooks/downstream_tasks/../../src/lightning/hetero_gnn_module.py\", line 57, in validation_step\n",
      "\u001b[34m\u001b[1mwandb\u001b[0m: \u001b[32m\u001b[41mERROR\u001b[0m     y_hat = self.model(batch.x_dict, batch.edge_index_dict, batch.edge_attr_dict)\n",
      "\u001b[34m\u001b[1mwandb\u001b[0m: \u001b[32m\u001b[41mERROR\u001b[0m   File \"/Users/jjaniak/anaconda3/envs/studia_projekt/lib/python3.8/site-packages/torch/nn/modules/module.py\", line 1518, in _wrapped_call_impl\n",
      "\u001b[34m\u001b[1mwandb\u001b[0m: \u001b[32m\u001b[41mERROR\u001b[0m     return self._call_impl(*args, **kwargs)\n",
      "\u001b[34m\u001b[1mwandb\u001b[0m: \u001b[32m\u001b[41mERROR\u001b[0m   File \"/Users/jjaniak/anaconda3/envs/studia_projekt/lib/python3.8/site-packages/torch/nn/modules/module.py\", line 1527, in _call_impl\n",
      "\u001b[34m\u001b[1mwandb\u001b[0m: \u001b[32m\u001b[41mERROR\u001b[0m     return forward_call(*args, **kwargs)\n",
      "\u001b[34m\u001b[1mwandb\u001b[0m: \u001b[32m\u001b[41mERROR\u001b[0m   File \"/Users/jjaniak/Documents/studia/projekt/gradient/notebooks/downstream_tasks/../../src/baseline_models/HeteroGNN/HeteroGNN.py\", line 59, in forward\n",
      "\u001b[34m\u001b[1mwandb\u001b[0m: \u001b[32m\u001b[41mERROR\u001b[0m     value = self._forward(x_dict, edge_index_dict, edge_atrr_dict)\n",
      "\u001b[34m\u001b[1mwandb\u001b[0m: \u001b[32m\u001b[41mERROR\u001b[0m   File \"/Users/jjaniak/Documents/studia/projekt/gradient/notebooks/downstream_tasks/../../src/baseline_models/HeteroGNN/HeteroGNN.py\", line 74, in _forward\n",
      "\u001b[34m\u001b[1mwandb\u001b[0m: \u001b[32m\u001b[41mERROR\u001b[0m     x_dict = conv(x_dict, edge_index_dict, edge_atrr_dict)\n",
      "\u001b[34m\u001b[1mwandb\u001b[0m: \u001b[32m\u001b[41mERROR\u001b[0m   File \"/Users/jjaniak/anaconda3/envs/studia_projekt/lib/python3.8/site-packages/torch/nn/modules/module.py\", line 1518, in _wrapped_call_impl\n",
      "\u001b[34m\u001b[1mwandb\u001b[0m: \u001b[32m\u001b[41mERROR\u001b[0m     return self._call_impl(*args, **kwargs)\n",
      "\u001b[34m\u001b[1mwandb\u001b[0m: \u001b[32m\u001b[41mERROR\u001b[0m   File \"/Users/jjaniak/anaconda3/envs/studia_projekt/lib/python3.8/site-packages/torch/nn/modules/module.py\", line 1527, in _call_impl\n",
      "\u001b[34m\u001b[1mwandb\u001b[0m: \u001b[32m\u001b[41mERROR\u001b[0m     return forward_call(*args, **kwargs)\n",
      "\u001b[34m\u001b[1mwandb\u001b[0m: \u001b[32m\u001b[41mERROR\u001b[0m   File \"/Users/jjaniak/anaconda3/envs/studia_projekt/lib/python3.8/site-packages/torch_geometric/nn/conv/hetero_conv.py\", line 159, in forward\n",
      "\u001b[34m\u001b[1mwandb\u001b[0m: \u001b[32m\u001b[41mERROR\u001b[0m     out = self.convs[edge_type](*args, **kwargs)\n",
      "\u001b[34m\u001b[1mwandb\u001b[0m: \u001b[32m\u001b[41mERROR\u001b[0m   File \"/Users/jjaniak/anaconda3/envs/studia_projekt/lib/python3.8/site-packages/torch/nn/modules/module.py\", line 1518, in _wrapped_call_impl\n",
      "\u001b[34m\u001b[1mwandb\u001b[0m: \u001b[32m\u001b[41mERROR\u001b[0m     return self._call_impl(*args, **kwargs)\n",
      "\u001b[34m\u001b[1mwandb\u001b[0m: \u001b[32m\u001b[41mERROR\u001b[0m   File \"/Users/jjaniak/anaconda3/envs/studia_projekt/lib/python3.8/site-packages/torch/nn/modules/module.py\", line 1527, in _call_impl\n",
      "\u001b[34m\u001b[1mwandb\u001b[0m: \u001b[32m\u001b[41mERROR\u001b[0m     return forward_call(*args, **kwargs)\n",
      "\u001b[34m\u001b[1mwandb\u001b[0m: \u001b[32m\u001b[41mERROR\u001b[0m   File \"/Users/jjaniak/anaconda3/envs/studia_projekt/lib/python3.8/site-packages/torch_geometric/nn/conv/gat_conv.py\", line 252, in forward\n",
      "\u001b[34m\u001b[1mwandb\u001b[0m: \u001b[32m\u001b[41mERROR\u001b[0m     alpha = self.edge_updater(edge_index, alpha=alpha, edge_attr=edge_attr)\n",
      "\u001b[34m\u001b[1mwandb\u001b[0m: \u001b[32m\u001b[41mERROR\u001b[0m   File \"/Users/jjaniak/anaconda3/envs/studia_projekt/lib/python3.8/site-packages/torch_geometric/nn/conv/message_passing.py\", line 527, in edge_updater\n",
      "\u001b[34m\u001b[1mwandb\u001b[0m: \u001b[32m\u001b[41mERROR\u001b[0m     out = self.edge_update(**edge_kwargs)\n",
      "\u001b[34m\u001b[1mwandb\u001b[0m: \u001b[32m\u001b[41mERROR\u001b[0m   File \"/Users/jjaniak/anaconda3/envs/studia_projekt/lib/python3.8/site-packages/torch_geometric/nn/conv/gat_conv.py\", line 295, in edge_update\n",
      "\u001b[34m\u001b[1mwandb\u001b[0m: \u001b[32m\u001b[41mERROR\u001b[0m     alpha = softmax(alpha, index, ptr, size_i)\n",
      "\u001b[34m\u001b[1mwandb\u001b[0m: \u001b[32m\u001b[41mERROR\u001b[0m   File \"/Users/jjaniak/anaconda3/envs/studia_projekt/lib/python3.8/site-packages/torch_geometric/utils/softmax.py\", line 65, in softmax\n",
      "\u001b[34m\u001b[1mwandb\u001b[0m: \u001b[32m\u001b[41mERROR\u001b[0m     src_max = scatter(src.detach(), index, dim, dim_size=N, reduce='max')\n",
      "\u001b[34m\u001b[1mwandb\u001b[0m: \u001b[32m\u001b[41mERROR\u001b[0m   File \"/Users/jjaniak/anaconda3/envs/studia_projekt/lib/python3.8/site-packages/torch_geometric/utils/scatter.py\", line 94, in scatter\n",
      "\u001b[34m\u001b[1mwandb\u001b[0m: \u001b[32m\u001b[41mERROR\u001b[0m     return src.new_zeros(size).scatter_reduce_(\n",
      "\u001b[34m\u001b[1mwandb\u001b[0m: \u001b[32m\u001b[41mERROR\u001b[0m NotImplementedError: The operator 'aten::scatter_reduce.two_out' is not currently implemented for the MPS device. If you want this op to be added in priority during the prototype phase of this feature, please comment on https://github.com/pytorch/pytorch/issues/77764. As a temporary fix, you can set the environment variable `PYTORCH_ENABLE_MPS_FALLBACK=1` to use the CPU as a fallback for this op. WARNING: this will be slower than running natively on MPS.\n",
      "\u001b[34m\u001b[1mwandb\u001b[0m: \u001b[32m\u001b[41mERROR\u001b[0m \n",
      "\u001b[34m\u001b[1mwandb\u001b[0m: Agent Starting Run: 1uew8lk1 with config:\n",
      "\u001b[34m\u001b[1mwandb\u001b[0m: \thidden_channels: 10\n",
      "\u001b[34m\u001b[1mwandb\u001b[0m: \tlearning_rate: 0.0003509263308669809\n",
      "\u001b[34m\u001b[1mwandb\u001b[0m: \tlin_layer_size: 8\n",
      "\u001b[34m\u001b[1mwandb\u001b[0m: \tnum_conv_layers: 5\n",
      "\u001b[34m\u001b[1mwandb\u001b[0m: \tnum_lin_layers: 1\n",
      "\u001b[34m\u001b[1mwandb\u001b[0m: \tweight_decay: 0.0004751067173067388\n",
      "Failed to detect the name of this notebook, you can set it manually with the WANDB_NOTEBOOK_NAME environment variable to enable code saving.\n"
     ]
    },
    {
     "data": {
      "text/html": [
       "wandb version 0.17.0 is available!  To upgrade, please run:\n",
       " $ pip install wandb --upgrade"
      ],
      "text/plain": [
       "<IPython.core.display.HTML object>"
      ]
     },
     "metadata": {},
     "output_type": "display_data"
    },
    {
     "data": {
      "text/html": [
       "Tracking run with wandb version 0.16.4"
      ],
      "text/plain": [
       "<IPython.core.display.HTML object>"
      ]
     },
     "metadata": {},
     "output_type": "display_data"
    },
    {
     "data": {
      "text/html": [
       "Run data is saved locally in <code>/Users/jjaniak/Documents/studia/projekt/gradient/notebooks/downstream_tasks/wandb/run-20240604_115348-1uew8lk1</code>"
      ],
      "text/plain": [
       "<IPython.core.display.HTML object>"
      ]
     },
     "metadata": {},
     "output_type": "display_data"
    },
    {
     "data": {
      "text/html": [
       "Syncing run <strong><a href='https://wandb.ai/gradient_pwr/zabka-downstream-task/runs/1uew8lk1' target=\"_blank\">smooth-sweep-5</a></strong> to <a href='https://wandb.ai/gradient_pwr/zabka-downstream-task' target=\"_blank\">Weights & Biases</a> (<a href='https://wandb.me/run' target=\"_blank\">docs</a>)<br/>Sweep page: <a href='https://wandb.ai/gradient_pwr/zabka-downstream-task/sweeps/d0rbt10k' target=\"_blank\">https://wandb.ai/gradient_pwr/zabka-downstream-task/sweeps/d0rbt10k</a>"
      ],
      "text/plain": [
       "<IPython.core.display.HTML object>"
      ]
     },
     "metadata": {},
     "output_type": "display_data"
    },
    {
     "data": {
      "text/html": [
       " View project at <a href='https://wandb.ai/gradient_pwr/zabka-downstream-task' target=\"_blank\">https://wandb.ai/gradient_pwr/zabka-downstream-task</a>"
      ],
      "text/plain": [
       "<IPython.core.display.HTML object>"
      ]
     },
     "metadata": {},
     "output_type": "display_data"
    },
    {
     "data": {
      "text/html": [
       " View sweep at <a href='https://wandb.ai/gradient_pwr/zabka-downstream-task/sweeps/d0rbt10k' target=\"_blank\">https://wandb.ai/gradient_pwr/zabka-downstream-task/sweeps/d0rbt10k</a>"
      ],
      "text/plain": [
       "<IPython.core.display.HTML object>"
      ]
     },
     "metadata": {},
     "output_type": "display_data"
    },
    {
     "data": {
      "text/html": [
       " View run at <a href='https://wandb.ai/gradient_pwr/zabka-downstream-task/runs/1uew8lk1' target=\"_blank\">https://wandb.ai/gradient_pwr/zabka-downstream-task/runs/1uew8lk1</a>"
      ],
      "text/plain": [
       "<IPython.core.display.HTML object>"
      ]
     },
     "metadata": {},
     "output_type": "display_data"
    },
    {
     "name": "stderr",
     "output_type": "stream",
     "text": [
      "/Users/jjaniak/anaconda3/envs/studia_projekt/lib/python3.8/site-packages/torch_geometric/deprecation.py:22: UserWarning: 'data.DataLoader' is deprecated, use 'loader.DataLoader' instead\n",
      "  warnings.warn(out)\n",
      "GPU available: True (mps), used: True\n",
      "TPU available: False, using: 0 TPU cores\n",
      "IPU available: False, using: 0 IPUs\n",
      "HPU available: False, using: 0 HPUs\n",
      "Missing logger folder: ../../gradient_logs/2024_06_04_11_53_53/lightning_logs\n",
      "\n",
      "  | Name  | Type      | Params\n",
      "------------------------------------\n",
      "0 | model | HeteroGNN | 48.1 K\n",
      "------------------------------------\n",
      "48.1 K    Trainable params\n",
      "0         Non-trainable params\n",
      "48.1 K    Total params\n",
      "0.192     Total estimated model params size (MB)\n"
     ]
    },
    {
     "data": {
      "application/vnd.jupyter.widget-view+json": {
       "model_id": "98652a83339848878163ceef604f3c9c",
       "version_major": 2,
       "version_minor": 0
      },
      "text/plain": [
       "Sanity Checking: |          | 0/? [00:00<?, ?it/s]"
      ]
     },
     "metadata": {},
     "output_type": "display_data"
    },
    {
     "name": "stderr",
     "output_type": "stream",
     "text": [
      "/Users/jjaniak/anaconda3/envs/studia_projekt/lib/python3.8/site-packages/pytorch_lightning/trainer/connectors/data_connector.py:441: The 'val_dataloader' does not have many workers which may be a bottleneck. Consider increasing the value of the `num_workers` argument` to `num_workers=11` in the `DataLoader` to improve performance.\n"
     ]
    },
    {
     "data": {
      "application/vnd.jupyter.widget-view+json": {
       "model_id": "22d6ee6ce4934669b2e99ebfa6b4e4e4",
       "version_major": 2,
       "version_minor": 0
      },
      "text/plain": [
       "VBox(children=(Label(value='0.001 MB of 0.001 MB uploaded\\r'), FloatProgress(value=1.0, max=1.0)))"
      ]
     },
     "metadata": {},
     "output_type": "display_data"
    },
    {
     "data": {
      "text/html": [
       "<style>\n",
       "    table.wandb td:nth-child(1) { padding: 0 10px; text-align: left ; width: auto;} td:nth-child(2) {text-align: left ; width: 100%}\n",
       "    .wandb-row { display: flex; flex-direction: row; flex-wrap: wrap; justify-content: flex-start; width: 100% }\n",
       "    .wandb-col { display: flex; flex-direction: column; flex-basis: 100%; flex: 1; padding: 10px; }\n",
       "    </style>\n",
       "<div class=\"wandb-row\"><div class=\"wandb-col\"><h3>Run history:</h3><br/><table class=\"wandb\"><tr><td>USE_HEXES_ATTRS</td><td>▁</td></tr><tr><td>USE_ORTOPHOTO</td><td>▁</td></tr><tr><td>USE_OSMNX_ATTRS</td><td>▁</td></tr></table><br/></div><div class=\"wandb-col\"><h3>Run summary:</h3><br/><table class=\"wandb\"><tr><td>USE_HEXES_ATTRS</td><td>1</td></tr><tr><td>USE_ORTOPHOTO</td><td>0</td></tr><tr><td>USE_OSMNX_ATTRS</td><td>1</td></tr><tr><td>data_structure</td><td>graph</td></tr></table><br/></div></div>"
      ],
      "text/plain": [
       "<IPython.core.display.HTML object>"
      ]
     },
     "metadata": {},
     "output_type": "display_data"
    },
    {
     "data": {
      "text/html": [
       " View run <strong style=\"color:#cdcd00\">smooth-sweep-5</strong> at: <a href='https://wandb.ai/gradient_pwr/zabka-downstream-task/runs/1uew8lk1' target=\"_blank\">https://wandb.ai/gradient_pwr/zabka-downstream-task/runs/1uew8lk1</a><br/>Synced 6 W&B file(s), 0 media file(s), 0 artifact file(s) and 0 other file(s)"
      ],
      "text/plain": [
       "<IPython.core.display.HTML object>"
      ]
     },
     "metadata": {},
     "output_type": "display_data"
    },
    {
     "data": {
      "text/html": [
       "Find logs at: <code>./wandb/run-20240604_115348-1uew8lk1/logs</code>"
      ],
      "text/plain": [
       "<IPython.core.display.HTML object>"
      ]
     },
     "metadata": {},
     "output_type": "display_data"
    },
    {
     "name": "stderr",
     "output_type": "stream",
     "text": [
      "Run 1uew8lk1 errored:\n",
      "Traceback (most recent call last):\n",
      "  File \"/Users/jjaniak/anaconda3/envs/studia_projekt/lib/python3.8/site-packages/wandb/agents/pyagent.py\", line 308, in _run_job\n",
      "    self._function()\n",
      "  File \"/var/folders/4k/8js3jm9n457cm4_v631zyrkw0000gn/T/ipykernel_37726/1604121319.py\", line 62, in wrapped\n",
      "    auc, accuracy, f1, model_path = train(\n",
      "  File \"/Users/jjaniak/Documents/studia/projekt/gradient/notebooks/downstream_tasks/../../src/training/train.py\", line 64, in train\n",
      "    trainer.fit(model, train_loader, val_loader)\n",
      "  File \"/Users/jjaniak/anaconda3/envs/studia_projekt/lib/python3.8/site-packages/pytorch_lightning/trainer/trainer.py\", line 545, in fit\n",
      "    call._call_and_handle_interrupt(\n",
      "  File \"/Users/jjaniak/anaconda3/envs/studia_projekt/lib/python3.8/site-packages/pytorch_lightning/trainer/call.py\", line 44, in _call_and_handle_interrupt\n",
      "    return trainer_fn(*args, **kwargs)\n",
      "  File \"/Users/jjaniak/anaconda3/envs/studia_projekt/lib/python3.8/site-packages/pytorch_lightning/trainer/trainer.py\", line 581, in _fit_impl\n",
      "    self._run(model, ckpt_path=ckpt_path)\n",
      "  File \"/Users/jjaniak/anaconda3/envs/studia_projekt/lib/python3.8/site-packages/pytorch_lightning/trainer/trainer.py\", line 990, in _run\n",
      "    results = self._run_stage()\n",
      "  File \"/Users/jjaniak/anaconda3/envs/studia_projekt/lib/python3.8/site-packages/pytorch_lightning/trainer/trainer.py\", line 1034, in _run_stage\n",
      "    self._run_sanity_check()\n",
      "  File \"/Users/jjaniak/anaconda3/envs/studia_projekt/lib/python3.8/site-packages/pytorch_lightning/trainer/trainer.py\", line 1063, in _run_sanity_check\n",
      "    val_loop.run()\n",
      "  File \"/Users/jjaniak/anaconda3/envs/studia_projekt/lib/python3.8/site-packages/pytorch_lightning/loops/utilities.py\", line 181, in _decorator\n",
      "    return loop_run(self, *args, **kwargs)\n",
      "  File \"/Users/jjaniak/anaconda3/envs/studia_projekt/lib/python3.8/site-packages/pytorch_lightning/loops/evaluation_loop.py\", line 134, in run\n",
      "    self._evaluation_step(batch, batch_idx, dataloader_idx, dataloader_iter)\n",
      "  File \"/Users/jjaniak/anaconda3/envs/studia_projekt/lib/python3.8/site-packages/pytorch_lightning/loops/evaluation_loop.py\", line 391, in _evaluation_step\n",
      "    output = call._call_strategy_hook(trainer, hook_name, *step_args)\n",
      "  File \"/Users/jjaniak/anaconda3/envs/studia_projekt/lib/python3.8/site-packages/pytorch_lightning/trainer/call.py\", line 309, in _call_strategy_hook\n",
      "    output = fn(*args, **kwargs)\n",
      "  File \"/Users/jjaniak/anaconda3/envs/studia_projekt/lib/python3.8/site-packages/pytorch_lightning/strategies/strategy.py\", line 403, in validation_step\n",
      "    return self.lightning_module.validation_step(*args, **kwargs)\n",
      "  File \"/Users/jjaniak/Documents/studia/projekt/gradient/notebooks/downstream_tasks/../../src/lightning/hetero_gnn_module.py\", line 57, in validation_step\n",
      "    y_hat = self.model(batch.x_dict, batch.edge_index_dict, batch.edge_attr_dict)\n",
      "  File \"/Users/jjaniak/anaconda3/envs/studia_projekt/lib/python3.8/site-packages/torch/nn/modules/module.py\", line 1518, in _wrapped_call_impl\n",
      "    return self._call_impl(*args, **kwargs)\n",
      "  File \"/Users/jjaniak/anaconda3/envs/studia_projekt/lib/python3.8/site-packages/torch/nn/modules/module.py\", line 1527, in _call_impl\n",
      "    return forward_call(*args, **kwargs)\n",
      "  File \"/Users/jjaniak/Documents/studia/projekt/gradient/notebooks/downstream_tasks/../../src/baseline_models/HeteroGNN/HeteroGNN.py\", line 59, in forward\n",
      "    value = self._forward(x_dict, edge_index_dict, edge_atrr_dict)\n",
      "  File \"/Users/jjaniak/Documents/studia/projekt/gradient/notebooks/downstream_tasks/../../src/baseline_models/HeteroGNN/HeteroGNN.py\", line 74, in _forward\n",
      "    x_dict = conv(x_dict, edge_index_dict, edge_atrr_dict)\n",
      "  File \"/Users/jjaniak/anaconda3/envs/studia_projekt/lib/python3.8/site-packages/torch/nn/modules/module.py\", line 1518, in _wrapped_call_impl\n",
      "    return self._call_impl(*args, **kwargs)\n",
      "  File \"/Users/jjaniak/anaconda3/envs/studia_projekt/lib/python3.8/site-packages/torch/nn/modules/module.py\", line 1527, in _call_impl\n",
      "    return forward_call(*args, **kwargs)\n",
      "  File \"/Users/jjaniak/anaconda3/envs/studia_projekt/lib/python3.8/site-packages/torch_geometric/nn/conv/hetero_conv.py\", line 159, in forward\n",
      "    out = self.convs[edge_type](*args, **kwargs)\n",
      "  File \"/Users/jjaniak/anaconda3/envs/studia_projekt/lib/python3.8/site-packages/torch/nn/modules/module.py\", line 1518, in _wrapped_call_impl\n",
      "    return self._call_impl(*args, **kwargs)\n",
      "  File \"/Users/jjaniak/anaconda3/envs/studia_projekt/lib/python3.8/site-packages/torch/nn/modules/module.py\", line 1527, in _call_impl\n",
      "    return forward_call(*args, **kwargs)\n",
      "  File \"/Users/jjaniak/anaconda3/envs/studia_projekt/lib/python3.8/site-packages/torch_geometric/nn/conv/gat_conv.py\", line 252, in forward\n",
      "    alpha = self.edge_updater(edge_index, alpha=alpha, edge_attr=edge_attr)\n",
      "  File \"/Users/jjaniak/anaconda3/envs/studia_projekt/lib/python3.8/site-packages/torch_geometric/nn/conv/message_passing.py\", line 527, in edge_updater\n",
      "    out = self.edge_update(**edge_kwargs)\n",
      "  File \"/Users/jjaniak/anaconda3/envs/studia_projekt/lib/python3.8/site-packages/torch_geometric/nn/conv/gat_conv.py\", line 295, in edge_update\n",
      "    alpha = softmax(alpha, index, ptr, size_i)\n",
      "  File \"/Users/jjaniak/anaconda3/envs/studia_projekt/lib/python3.8/site-packages/torch_geometric/utils/softmax.py\", line 65, in softmax\n",
      "    src_max = scatter(src.detach(), index, dim, dim_size=N, reduce='max')\n",
      "  File \"/Users/jjaniak/anaconda3/envs/studia_projekt/lib/python3.8/site-packages/torch_geometric/utils/scatter.py\", line 94, in scatter\n",
      "    return src.new_zeros(size).scatter_reduce_(\n",
      "NotImplementedError: The operator 'aten::scatter_reduce.two_out' is not currently implemented for the MPS device. If you want this op to be added in priority during the prototype phase of this feature, please comment on https://github.com/pytorch/pytorch/issues/77764. As a temporary fix, you can set the environment variable `PYTORCH_ENABLE_MPS_FALLBACK=1` to use the CPU as a fallback for this op. WARNING: this will be slower than running natively on MPS.\n",
      "\n",
      "\u001b[34m\u001b[1mwandb\u001b[0m: \u001b[32m\u001b[41mERROR\u001b[0m Run 1uew8lk1 errored:\n",
      "\u001b[34m\u001b[1mwandb\u001b[0m: \u001b[32m\u001b[41mERROR\u001b[0m Traceback (most recent call last):\n",
      "\u001b[34m\u001b[1mwandb\u001b[0m: \u001b[32m\u001b[41mERROR\u001b[0m   File \"/Users/jjaniak/anaconda3/envs/studia_projekt/lib/python3.8/site-packages/wandb/agents/pyagent.py\", line 308, in _run_job\n",
      "\u001b[34m\u001b[1mwandb\u001b[0m: \u001b[32m\u001b[41mERROR\u001b[0m     self._function()\n",
      "\u001b[34m\u001b[1mwandb\u001b[0m: \u001b[32m\u001b[41mERROR\u001b[0m   File \"/var/folders/4k/8js3jm9n457cm4_v631zyrkw0000gn/T/ipykernel_37726/1604121319.py\", line 62, in wrapped\n",
      "\u001b[34m\u001b[1mwandb\u001b[0m: \u001b[32m\u001b[41mERROR\u001b[0m     auc, accuracy, f1, model_path = train(\n",
      "\u001b[34m\u001b[1mwandb\u001b[0m: \u001b[32m\u001b[41mERROR\u001b[0m   File \"/Users/jjaniak/Documents/studia/projekt/gradient/notebooks/downstream_tasks/../../src/training/train.py\", line 64, in train\n",
      "\u001b[34m\u001b[1mwandb\u001b[0m: \u001b[32m\u001b[41mERROR\u001b[0m     trainer.fit(model, train_loader, val_loader)\n",
      "\u001b[34m\u001b[1mwandb\u001b[0m: \u001b[32m\u001b[41mERROR\u001b[0m   File \"/Users/jjaniak/anaconda3/envs/studia_projekt/lib/python3.8/site-packages/pytorch_lightning/trainer/trainer.py\", line 545, in fit\n",
      "\u001b[34m\u001b[1mwandb\u001b[0m: \u001b[32m\u001b[41mERROR\u001b[0m     call._call_and_handle_interrupt(\n",
      "\u001b[34m\u001b[1mwandb\u001b[0m: \u001b[32m\u001b[41mERROR\u001b[0m   File \"/Users/jjaniak/anaconda3/envs/studia_projekt/lib/python3.8/site-packages/pytorch_lightning/trainer/call.py\", line 44, in _call_and_handle_interrupt\n",
      "\u001b[34m\u001b[1mwandb\u001b[0m: \u001b[32m\u001b[41mERROR\u001b[0m     return trainer_fn(*args, **kwargs)\n",
      "\u001b[34m\u001b[1mwandb\u001b[0m: \u001b[32m\u001b[41mERROR\u001b[0m   File \"/Users/jjaniak/anaconda3/envs/studia_projekt/lib/python3.8/site-packages/pytorch_lightning/trainer/trainer.py\", line 581, in _fit_impl\n",
      "\u001b[34m\u001b[1mwandb\u001b[0m: \u001b[32m\u001b[41mERROR\u001b[0m     self._run(model, ckpt_path=ckpt_path)\n",
      "\u001b[34m\u001b[1mwandb\u001b[0m: \u001b[32m\u001b[41mERROR\u001b[0m   File \"/Users/jjaniak/anaconda3/envs/studia_projekt/lib/python3.8/site-packages/pytorch_lightning/trainer/trainer.py\", line 990, in _run\n",
      "\u001b[34m\u001b[1mwandb\u001b[0m: \u001b[32m\u001b[41mERROR\u001b[0m     results = self._run_stage()\n",
      "\u001b[34m\u001b[1mwandb\u001b[0m: \u001b[32m\u001b[41mERROR\u001b[0m   File \"/Users/jjaniak/anaconda3/envs/studia_projekt/lib/python3.8/site-packages/pytorch_lightning/trainer/trainer.py\", line 1034, in _run_stage\n",
      "\u001b[34m\u001b[1mwandb\u001b[0m: \u001b[32m\u001b[41mERROR\u001b[0m     self._run_sanity_check()\n",
      "\u001b[34m\u001b[1mwandb\u001b[0m: \u001b[32m\u001b[41mERROR\u001b[0m   File \"/Users/jjaniak/anaconda3/envs/studia_projekt/lib/python3.8/site-packages/pytorch_lightning/trainer/trainer.py\", line 1063, in _run_sanity_check\n",
      "\u001b[34m\u001b[1mwandb\u001b[0m: \u001b[32m\u001b[41mERROR\u001b[0m     val_loop.run()\n",
      "\u001b[34m\u001b[1mwandb\u001b[0m: \u001b[32m\u001b[41mERROR\u001b[0m   File \"/Users/jjaniak/anaconda3/envs/studia_projekt/lib/python3.8/site-packages/pytorch_lightning/loops/utilities.py\", line 181, in _decorator\n",
      "\u001b[34m\u001b[1mwandb\u001b[0m: \u001b[32m\u001b[41mERROR\u001b[0m     return loop_run(self, *args, **kwargs)\n",
      "\u001b[34m\u001b[1mwandb\u001b[0m: \u001b[32m\u001b[41mERROR\u001b[0m   File \"/Users/jjaniak/anaconda3/envs/studia_projekt/lib/python3.8/site-packages/pytorch_lightning/loops/evaluation_loop.py\", line 134, in run\n",
      "\u001b[34m\u001b[1mwandb\u001b[0m: \u001b[32m\u001b[41mERROR\u001b[0m     self._evaluation_step(batch, batch_idx, dataloader_idx, dataloader_iter)\n",
      "\u001b[34m\u001b[1mwandb\u001b[0m: \u001b[32m\u001b[41mERROR\u001b[0m   File \"/Users/jjaniak/anaconda3/envs/studia_projekt/lib/python3.8/site-packages/pytorch_lightning/loops/evaluation_loop.py\", line 391, in _evaluation_step\n",
      "\u001b[34m\u001b[1mwandb\u001b[0m: \u001b[32m\u001b[41mERROR\u001b[0m     output = call._call_strategy_hook(trainer, hook_name, *step_args)\n",
      "\u001b[34m\u001b[1mwandb\u001b[0m: \u001b[32m\u001b[41mERROR\u001b[0m   File \"/Users/jjaniak/anaconda3/envs/studia_projekt/lib/python3.8/site-packages/pytorch_lightning/trainer/call.py\", line 309, in _call_strategy_hook\n",
      "\u001b[34m\u001b[1mwandb\u001b[0m: \u001b[32m\u001b[41mERROR\u001b[0m     output = fn(*args, **kwargs)\n",
      "\u001b[34m\u001b[1mwandb\u001b[0m: \u001b[32m\u001b[41mERROR\u001b[0m   File \"/Users/jjaniak/anaconda3/envs/studia_projekt/lib/python3.8/site-packages/pytorch_lightning/strategies/strategy.py\", line 403, in validation_step\n",
      "\u001b[34m\u001b[1mwandb\u001b[0m: \u001b[32m\u001b[41mERROR\u001b[0m     return self.lightning_module.validation_step(*args, **kwargs)\n",
      "\u001b[34m\u001b[1mwandb\u001b[0m: \u001b[32m\u001b[41mERROR\u001b[0m   File \"/Users/jjaniak/Documents/studia/projekt/gradient/notebooks/downstream_tasks/../../src/lightning/hetero_gnn_module.py\", line 57, in validation_step\n",
      "\u001b[34m\u001b[1mwandb\u001b[0m: \u001b[32m\u001b[41mERROR\u001b[0m     y_hat = self.model(batch.x_dict, batch.edge_index_dict, batch.edge_attr_dict)\n",
      "\u001b[34m\u001b[1mwandb\u001b[0m: \u001b[32m\u001b[41mERROR\u001b[0m   File \"/Users/jjaniak/anaconda3/envs/studia_projekt/lib/python3.8/site-packages/torch/nn/modules/module.py\", line 1518, in _wrapped_call_impl\n",
      "\u001b[34m\u001b[1mwandb\u001b[0m: \u001b[32m\u001b[41mERROR\u001b[0m     return self._call_impl(*args, **kwargs)\n",
      "\u001b[34m\u001b[1mwandb\u001b[0m: \u001b[32m\u001b[41mERROR\u001b[0m   File \"/Users/jjaniak/anaconda3/envs/studia_projekt/lib/python3.8/site-packages/torch/nn/modules/module.py\", line 1527, in _call_impl\n",
      "\u001b[34m\u001b[1mwandb\u001b[0m: \u001b[32m\u001b[41mERROR\u001b[0m     return forward_call(*args, **kwargs)\n",
      "\u001b[34m\u001b[1mwandb\u001b[0m: \u001b[32m\u001b[41mERROR\u001b[0m   File \"/Users/jjaniak/Documents/studia/projekt/gradient/notebooks/downstream_tasks/../../src/baseline_models/HeteroGNN/HeteroGNN.py\", line 59, in forward\n",
      "\u001b[34m\u001b[1mwandb\u001b[0m: \u001b[32m\u001b[41mERROR\u001b[0m     value = self._forward(x_dict, edge_index_dict, edge_atrr_dict)\n",
      "\u001b[34m\u001b[1mwandb\u001b[0m: \u001b[32m\u001b[41mERROR\u001b[0m   File \"/Users/jjaniak/Documents/studia/projekt/gradient/notebooks/downstream_tasks/../../src/baseline_models/HeteroGNN/HeteroGNN.py\", line 74, in _forward\n",
      "\u001b[34m\u001b[1mwandb\u001b[0m: \u001b[32m\u001b[41mERROR\u001b[0m     x_dict = conv(x_dict, edge_index_dict, edge_atrr_dict)\n",
      "\u001b[34m\u001b[1mwandb\u001b[0m: \u001b[32m\u001b[41mERROR\u001b[0m   File \"/Users/jjaniak/anaconda3/envs/studia_projekt/lib/python3.8/site-packages/torch/nn/modules/module.py\", line 1518, in _wrapped_call_impl\n",
      "\u001b[34m\u001b[1mwandb\u001b[0m: \u001b[32m\u001b[41mERROR\u001b[0m     return self._call_impl(*args, **kwargs)\n",
      "\u001b[34m\u001b[1mwandb\u001b[0m: \u001b[32m\u001b[41mERROR\u001b[0m   File \"/Users/jjaniak/anaconda3/envs/studia_projekt/lib/python3.8/site-packages/torch/nn/modules/module.py\", line 1527, in _call_impl\n",
      "\u001b[34m\u001b[1mwandb\u001b[0m: \u001b[32m\u001b[41mERROR\u001b[0m     return forward_call(*args, **kwargs)\n",
      "\u001b[34m\u001b[1mwandb\u001b[0m: \u001b[32m\u001b[41mERROR\u001b[0m   File \"/Users/jjaniak/anaconda3/envs/studia_projekt/lib/python3.8/site-packages/torch_geometric/nn/conv/hetero_conv.py\", line 159, in forward\n",
      "\u001b[34m\u001b[1mwandb\u001b[0m: \u001b[32m\u001b[41mERROR\u001b[0m     out = self.convs[edge_type](*args, **kwargs)\n",
      "\u001b[34m\u001b[1mwandb\u001b[0m: \u001b[32m\u001b[41mERROR\u001b[0m   File \"/Users/jjaniak/anaconda3/envs/studia_projekt/lib/python3.8/site-packages/torch/nn/modules/module.py\", line 1518, in _wrapped_call_impl\n",
      "\u001b[34m\u001b[1mwandb\u001b[0m: \u001b[32m\u001b[41mERROR\u001b[0m     return self._call_impl(*args, **kwargs)\n",
      "\u001b[34m\u001b[1mwandb\u001b[0m: \u001b[32m\u001b[41mERROR\u001b[0m   File \"/Users/jjaniak/anaconda3/envs/studia_projekt/lib/python3.8/site-packages/torch/nn/modules/module.py\", line 1527, in _call_impl\n",
      "\u001b[34m\u001b[1mwandb\u001b[0m: \u001b[32m\u001b[41mERROR\u001b[0m     return forward_call(*args, **kwargs)\n",
      "\u001b[34m\u001b[1mwandb\u001b[0m: \u001b[32m\u001b[41mERROR\u001b[0m   File \"/Users/jjaniak/anaconda3/envs/studia_projekt/lib/python3.8/site-packages/torch_geometric/nn/conv/gat_conv.py\", line 252, in forward\n",
      "\u001b[34m\u001b[1mwandb\u001b[0m: \u001b[32m\u001b[41mERROR\u001b[0m     alpha = self.edge_updater(edge_index, alpha=alpha, edge_attr=edge_attr)\n",
      "\u001b[34m\u001b[1mwandb\u001b[0m: \u001b[32m\u001b[41mERROR\u001b[0m   File \"/Users/jjaniak/anaconda3/envs/studia_projekt/lib/python3.8/site-packages/torch_geometric/nn/conv/message_passing.py\", line 527, in edge_updater\n",
      "\u001b[34m\u001b[1mwandb\u001b[0m: \u001b[32m\u001b[41mERROR\u001b[0m     out = self.edge_update(**edge_kwargs)\n",
      "\u001b[34m\u001b[1mwandb\u001b[0m: \u001b[32m\u001b[41mERROR\u001b[0m   File \"/Users/jjaniak/anaconda3/envs/studia_projekt/lib/python3.8/site-packages/torch_geometric/nn/conv/gat_conv.py\", line 295, in edge_update\n",
      "\u001b[34m\u001b[1mwandb\u001b[0m: \u001b[32m\u001b[41mERROR\u001b[0m     alpha = softmax(alpha, index, ptr, size_i)\n",
      "\u001b[34m\u001b[1mwandb\u001b[0m: \u001b[32m\u001b[41mERROR\u001b[0m   File \"/Users/jjaniak/anaconda3/envs/studia_projekt/lib/python3.8/site-packages/torch_geometric/utils/softmax.py\", line 65, in softmax\n",
      "\u001b[34m\u001b[1mwandb\u001b[0m: \u001b[32m\u001b[41mERROR\u001b[0m     src_max = scatter(src.detach(), index, dim, dim_size=N, reduce='max')\n",
      "\u001b[34m\u001b[1mwandb\u001b[0m: \u001b[32m\u001b[41mERROR\u001b[0m   File \"/Users/jjaniak/anaconda3/envs/studia_projekt/lib/python3.8/site-packages/torch_geometric/utils/scatter.py\", line 94, in scatter\n",
      "\u001b[34m\u001b[1mwandb\u001b[0m: \u001b[32m\u001b[41mERROR\u001b[0m     return src.new_zeros(size).scatter_reduce_(\n",
      "\u001b[34m\u001b[1mwandb\u001b[0m: \u001b[32m\u001b[41mERROR\u001b[0m NotImplementedError: The operator 'aten::scatter_reduce.two_out' is not currently implemented for the MPS device. If you want this op to be added in priority during the prototype phase of this feature, please comment on https://github.com/pytorch/pytorch/issues/77764. As a temporary fix, you can set the environment variable `PYTORCH_ENABLE_MPS_FALLBACK=1` to use the CPU as a fallback for this op. WARNING: this will be slower than running natively on MPS.\n",
      "\u001b[34m\u001b[1mwandb\u001b[0m: \u001b[32m\u001b[41mERROR\u001b[0m \n",
      "\u001b[34m\u001b[1mwandb\u001b[0m: Agent Starting Run: cikxqk08 with config:\n",
      "\u001b[34m\u001b[1mwandb\u001b[0m: \thidden_channels: 20\n",
      "\u001b[34m\u001b[1mwandb\u001b[0m: \tlearning_rate: 0.0011454048475554694\n",
      "\u001b[34m\u001b[1mwandb\u001b[0m: \tlin_layer_size: 16\n",
      "\u001b[34m\u001b[1mwandb\u001b[0m: \tnum_conv_layers: 2\n",
      "\u001b[34m\u001b[1mwandb\u001b[0m: \tnum_lin_layers: 2\n",
      "\u001b[34m\u001b[1mwandb\u001b[0m: \tweight_decay: 0.0001768429889777076\n",
      "Failed to detect the name of this notebook, you can set it manually with the WANDB_NOTEBOOK_NAME environment variable to enable code saving.\n"
     ]
    },
    {
     "data": {
      "text/html": [
       "wandb version 0.17.0 is available!  To upgrade, please run:\n",
       " $ pip install wandb --upgrade"
      ],
      "text/plain": [
       "<IPython.core.display.HTML object>"
      ]
     },
     "metadata": {},
     "output_type": "display_data"
    },
    {
     "data": {
      "text/html": [
       "Tracking run with wandb version 0.16.4"
      ],
      "text/plain": [
       "<IPython.core.display.HTML object>"
      ]
     },
     "metadata": {},
     "output_type": "display_data"
    },
    {
     "data": {
      "text/html": [
       "Run data is saved locally in <code>/Users/jjaniak/Documents/studia/projekt/gradient/notebooks/downstream_tasks/wandb/run-20240604_115403-cikxqk08</code>"
      ],
      "text/plain": [
       "<IPython.core.display.HTML object>"
      ]
     },
     "metadata": {},
     "output_type": "display_data"
    },
    {
     "data": {
      "text/html": [
       "Syncing run <strong><a href='https://wandb.ai/gradient_pwr/zabka-downstream-task/runs/cikxqk08' target=\"_blank\">fanciful-sweep-6</a></strong> to <a href='https://wandb.ai/gradient_pwr/zabka-downstream-task' target=\"_blank\">Weights & Biases</a> (<a href='https://wandb.me/run' target=\"_blank\">docs</a>)<br/>Sweep page: <a href='https://wandb.ai/gradient_pwr/zabka-downstream-task/sweeps/d0rbt10k' target=\"_blank\">https://wandb.ai/gradient_pwr/zabka-downstream-task/sweeps/d0rbt10k</a>"
      ],
      "text/plain": [
       "<IPython.core.display.HTML object>"
      ]
     },
     "metadata": {},
     "output_type": "display_data"
    },
    {
     "data": {
      "text/html": [
       " View project at <a href='https://wandb.ai/gradient_pwr/zabka-downstream-task' target=\"_blank\">https://wandb.ai/gradient_pwr/zabka-downstream-task</a>"
      ],
      "text/plain": [
       "<IPython.core.display.HTML object>"
      ]
     },
     "metadata": {},
     "output_type": "display_data"
    },
    {
     "data": {
      "text/html": [
       " View sweep at <a href='https://wandb.ai/gradient_pwr/zabka-downstream-task/sweeps/d0rbt10k' target=\"_blank\">https://wandb.ai/gradient_pwr/zabka-downstream-task/sweeps/d0rbt10k</a>"
      ],
      "text/plain": [
       "<IPython.core.display.HTML object>"
      ]
     },
     "metadata": {},
     "output_type": "display_data"
    },
    {
     "data": {
      "text/html": [
       " View run at <a href='https://wandb.ai/gradient_pwr/zabka-downstream-task/runs/cikxqk08' target=\"_blank\">https://wandb.ai/gradient_pwr/zabka-downstream-task/runs/cikxqk08</a>"
      ],
      "text/plain": [
       "<IPython.core.display.HTML object>"
      ]
     },
     "metadata": {},
     "output_type": "display_data"
    },
    {
     "name": "stderr",
     "output_type": "stream",
     "text": [
      "/Users/jjaniak/anaconda3/envs/studia_projekt/lib/python3.8/site-packages/torch_geometric/deprecation.py:22: UserWarning: 'data.DataLoader' is deprecated, use 'loader.DataLoader' instead\n",
      "  warnings.warn(out)\n",
      "GPU available: True (mps), used: True\n",
      "TPU available: False, using: 0 TPU cores\n",
      "IPU available: False, using: 0 IPUs\n",
      "HPU available: False, using: 0 HPUs\n",
      "Missing logger folder: ../../gradient_logs/2024_06_04_11_54_08/lightning_logs\n",
      "\n",
      "  | Name  | Type      | Params\n",
      "------------------------------------\n",
      "0 | model | HeteroGNN | 92.1 K\n",
      "------------------------------------\n",
      "92.1 K    Trainable params\n",
      "0         Non-trainable params\n",
      "92.1 K    Total params\n",
      "0.368     Total estimated model params size (MB)\n"
     ]
    },
    {
     "data": {
      "application/vnd.jupyter.widget-view+json": {
       "model_id": "392d041e560244ca81e3b6cce586edee",
       "version_major": 2,
       "version_minor": 0
      },
      "text/plain": [
       "Sanity Checking: |          | 0/? [00:00<?, ?it/s]"
      ]
     },
     "metadata": {},
     "output_type": "display_data"
    },
    {
     "name": "stderr",
     "output_type": "stream",
     "text": [
      "/Users/jjaniak/anaconda3/envs/studia_projekt/lib/python3.8/site-packages/pytorch_lightning/trainer/connectors/data_connector.py:441: The 'val_dataloader' does not have many workers which may be a bottleneck. Consider increasing the value of the `num_workers` argument` to `num_workers=11` in the `DataLoader` to improve performance.\n"
     ]
    },
    {
     "data": {
      "application/vnd.jupyter.widget-view+json": {
       "model_id": "c5ced8443c4a465e8e08b978d7a671e6",
       "version_major": 2,
       "version_minor": 0
      },
      "text/plain": [
       "VBox(children=(Label(value='0.001 MB of 0.001 MB uploaded\\r'), FloatProgress(value=1.0, max=1.0)))"
      ]
     },
     "metadata": {},
     "output_type": "display_data"
    },
    {
     "data": {
      "text/html": [
       "<style>\n",
       "    table.wandb td:nth-child(1) { padding: 0 10px; text-align: left ; width: auto;} td:nth-child(2) {text-align: left ; width: 100%}\n",
       "    .wandb-row { display: flex; flex-direction: row; flex-wrap: wrap; justify-content: flex-start; width: 100% }\n",
       "    .wandb-col { display: flex; flex-direction: column; flex-basis: 100%; flex: 1; padding: 10px; }\n",
       "    </style>\n",
       "<div class=\"wandb-row\"><div class=\"wandb-col\"><h3>Run history:</h3><br/><table class=\"wandb\"><tr><td>USE_HEXES_ATTRS</td><td>▁</td></tr><tr><td>USE_ORTOPHOTO</td><td>▁</td></tr><tr><td>USE_OSMNX_ATTRS</td><td>▁</td></tr></table><br/></div><div class=\"wandb-col\"><h3>Run summary:</h3><br/><table class=\"wandb\"><tr><td>USE_HEXES_ATTRS</td><td>1</td></tr><tr><td>USE_ORTOPHOTO</td><td>0</td></tr><tr><td>USE_OSMNX_ATTRS</td><td>1</td></tr><tr><td>data_structure</td><td>graph</td></tr></table><br/></div></div>"
      ],
      "text/plain": [
       "<IPython.core.display.HTML object>"
      ]
     },
     "metadata": {},
     "output_type": "display_data"
    },
    {
     "data": {
      "text/html": [
       " View run <strong style=\"color:#cdcd00\">fanciful-sweep-6</strong> at: <a href='https://wandb.ai/gradient_pwr/zabka-downstream-task/runs/cikxqk08' target=\"_blank\">https://wandb.ai/gradient_pwr/zabka-downstream-task/runs/cikxqk08</a><br/>Synced 6 W&B file(s), 0 media file(s), 0 artifact file(s) and 0 other file(s)"
      ],
      "text/plain": [
       "<IPython.core.display.HTML object>"
      ]
     },
     "metadata": {},
     "output_type": "display_data"
    },
    {
     "data": {
      "text/html": [
       "Find logs at: <code>./wandb/run-20240604_115403-cikxqk08/logs</code>"
      ],
      "text/plain": [
       "<IPython.core.display.HTML object>"
      ]
     },
     "metadata": {},
     "output_type": "display_data"
    },
    {
     "name": "stderr",
     "output_type": "stream",
     "text": [
      "Run cikxqk08 errored:\n",
      "Traceback (most recent call last):\n",
      "  File \"/Users/jjaniak/anaconda3/envs/studia_projekt/lib/python3.8/site-packages/wandb/agents/pyagent.py\", line 308, in _run_job\n",
      "    self._function()\n",
      "  File \"/var/folders/4k/8js3jm9n457cm4_v631zyrkw0000gn/T/ipykernel_37726/1604121319.py\", line 62, in wrapped\n",
      "    auc, accuracy, f1, model_path = train(\n",
      "  File \"/Users/jjaniak/Documents/studia/projekt/gradient/notebooks/downstream_tasks/../../src/training/train.py\", line 64, in train\n",
      "    trainer.fit(model, train_loader, val_loader)\n",
      "  File \"/Users/jjaniak/anaconda3/envs/studia_projekt/lib/python3.8/site-packages/pytorch_lightning/trainer/trainer.py\", line 545, in fit\n",
      "    call._call_and_handle_interrupt(\n",
      "  File \"/Users/jjaniak/anaconda3/envs/studia_projekt/lib/python3.8/site-packages/pytorch_lightning/trainer/call.py\", line 44, in _call_and_handle_interrupt\n",
      "    return trainer_fn(*args, **kwargs)\n",
      "  File \"/Users/jjaniak/anaconda3/envs/studia_projekt/lib/python3.8/site-packages/pytorch_lightning/trainer/trainer.py\", line 581, in _fit_impl\n",
      "    self._run(model, ckpt_path=ckpt_path)\n",
      "  File \"/Users/jjaniak/anaconda3/envs/studia_projekt/lib/python3.8/site-packages/pytorch_lightning/trainer/trainer.py\", line 990, in _run\n",
      "    results = self._run_stage()\n",
      "  File \"/Users/jjaniak/anaconda3/envs/studia_projekt/lib/python3.8/site-packages/pytorch_lightning/trainer/trainer.py\", line 1034, in _run_stage\n",
      "    self._run_sanity_check()\n",
      "  File \"/Users/jjaniak/anaconda3/envs/studia_projekt/lib/python3.8/site-packages/pytorch_lightning/trainer/trainer.py\", line 1063, in _run_sanity_check\n",
      "    val_loop.run()\n",
      "  File \"/Users/jjaniak/anaconda3/envs/studia_projekt/lib/python3.8/site-packages/pytorch_lightning/loops/utilities.py\", line 181, in _decorator\n",
      "    return loop_run(self, *args, **kwargs)\n",
      "  File \"/Users/jjaniak/anaconda3/envs/studia_projekt/lib/python3.8/site-packages/pytorch_lightning/loops/evaluation_loop.py\", line 134, in run\n",
      "    self._evaluation_step(batch, batch_idx, dataloader_idx, dataloader_iter)\n",
      "  File \"/Users/jjaniak/anaconda3/envs/studia_projekt/lib/python3.8/site-packages/pytorch_lightning/loops/evaluation_loop.py\", line 391, in _evaluation_step\n",
      "    output = call._call_strategy_hook(trainer, hook_name, *step_args)\n",
      "  File \"/Users/jjaniak/anaconda3/envs/studia_projekt/lib/python3.8/site-packages/pytorch_lightning/trainer/call.py\", line 309, in _call_strategy_hook\n",
      "    output = fn(*args, **kwargs)\n",
      "  File \"/Users/jjaniak/anaconda3/envs/studia_projekt/lib/python3.8/site-packages/pytorch_lightning/strategies/strategy.py\", line 403, in validation_step\n",
      "    return self.lightning_module.validation_step(*args, **kwargs)\n",
      "  File \"/Users/jjaniak/Documents/studia/projekt/gradient/notebooks/downstream_tasks/../../src/lightning/hetero_gnn_module.py\", line 57, in validation_step\n",
      "    y_hat = self.model(batch.x_dict, batch.edge_index_dict, batch.edge_attr_dict)\n",
      "  File \"/Users/jjaniak/anaconda3/envs/studia_projekt/lib/python3.8/site-packages/torch/nn/modules/module.py\", line 1518, in _wrapped_call_impl\n",
      "    return self._call_impl(*args, **kwargs)\n",
      "  File \"/Users/jjaniak/anaconda3/envs/studia_projekt/lib/python3.8/site-packages/torch/nn/modules/module.py\", line 1527, in _call_impl\n",
      "    return forward_call(*args, **kwargs)\n",
      "  File \"/Users/jjaniak/Documents/studia/projekt/gradient/notebooks/downstream_tasks/../../src/baseline_models/HeteroGNN/HeteroGNN.py\", line 59, in forward\n",
      "    value = self._forward(x_dict, edge_index_dict, edge_atrr_dict)\n",
      "  File \"/Users/jjaniak/Documents/studia/projekt/gradient/notebooks/downstream_tasks/../../src/baseline_models/HeteroGNN/HeteroGNN.py\", line 74, in _forward\n",
      "    x_dict = conv(x_dict, edge_index_dict, edge_atrr_dict)\n",
      "  File \"/Users/jjaniak/anaconda3/envs/studia_projekt/lib/python3.8/site-packages/torch/nn/modules/module.py\", line 1518, in _wrapped_call_impl\n",
      "    return self._call_impl(*args, **kwargs)\n",
      "  File \"/Users/jjaniak/anaconda3/envs/studia_projekt/lib/python3.8/site-packages/torch/nn/modules/module.py\", line 1527, in _call_impl\n",
      "    return forward_call(*args, **kwargs)\n",
      "  File \"/Users/jjaniak/anaconda3/envs/studia_projekt/lib/python3.8/site-packages/torch_geometric/nn/conv/hetero_conv.py\", line 159, in forward\n",
      "    out = self.convs[edge_type](*args, **kwargs)\n",
      "  File \"/Users/jjaniak/anaconda3/envs/studia_projekt/lib/python3.8/site-packages/torch/nn/modules/module.py\", line 1518, in _wrapped_call_impl\n",
      "    return self._call_impl(*args, **kwargs)\n",
      "  File \"/Users/jjaniak/anaconda3/envs/studia_projekt/lib/python3.8/site-packages/torch/nn/modules/module.py\", line 1527, in _call_impl\n",
      "    return forward_call(*args, **kwargs)\n",
      "  File \"/Users/jjaniak/anaconda3/envs/studia_projekt/lib/python3.8/site-packages/torch_geometric/nn/conv/gat_conv.py\", line 252, in forward\n",
      "    alpha = self.edge_updater(edge_index, alpha=alpha, edge_attr=edge_attr)\n",
      "  File \"/Users/jjaniak/anaconda3/envs/studia_projekt/lib/python3.8/site-packages/torch_geometric/nn/conv/message_passing.py\", line 527, in edge_updater\n",
      "    out = self.edge_update(**edge_kwargs)\n",
      "  File \"/Users/jjaniak/anaconda3/envs/studia_projekt/lib/python3.8/site-packages/torch_geometric/nn/conv/gat_conv.py\", line 295, in edge_update\n",
      "    alpha = softmax(alpha, index, ptr, size_i)\n",
      "  File \"/Users/jjaniak/anaconda3/envs/studia_projekt/lib/python3.8/site-packages/torch_geometric/utils/softmax.py\", line 65, in softmax\n",
      "    src_max = scatter(src.detach(), index, dim, dim_size=N, reduce='max')\n",
      "  File \"/Users/jjaniak/anaconda3/envs/studia_projekt/lib/python3.8/site-packages/torch_geometric/utils/scatter.py\", line 94, in scatter\n",
      "    return src.new_zeros(size).scatter_reduce_(\n",
      "NotImplementedError: The operator 'aten::scatter_reduce.two_out' is not currently implemented for the MPS device. If you want this op to be added in priority during the prototype phase of this feature, please comment on https://github.com/pytorch/pytorch/issues/77764. As a temporary fix, you can set the environment variable `PYTORCH_ENABLE_MPS_FALLBACK=1` to use the CPU as a fallback for this op. WARNING: this will be slower than running natively on MPS.\n",
      "\n",
      "\u001b[34m\u001b[1mwandb\u001b[0m: \u001b[32m\u001b[41mERROR\u001b[0m Run cikxqk08 errored:\n",
      "\u001b[34m\u001b[1mwandb\u001b[0m: \u001b[32m\u001b[41mERROR\u001b[0m Traceback (most recent call last):\n",
      "\u001b[34m\u001b[1mwandb\u001b[0m: \u001b[32m\u001b[41mERROR\u001b[0m   File \"/Users/jjaniak/anaconda3/envs/studia_projekt/lib/python3.8/site-packages/wandb/agents/pyagent.py\", line 308, in _run_job\n",
      "\u001b[34m\u001b[1mwandb\u001b[0m: \u001b[32m\u001b[41mERROR\u001b[0m     self._function()\n",
      "\u001b[34m\u001b[1mwandb\u001b[0m: \u001b[32m\u001b[41mERROR\u001b[0m   File \"/var/folders/4k/8js3jm9n457cm4_v631zyrkw0000gn/T/ipykernel_37726/1604121319.py\", line 62, in wrapped\n",
      "\u001b[34m\u001b[1mwandb\u001b[0m: \u001b[32m\u001b[41mERROR\u001b[0m     auc, accuracy, f1, model_path = train(\n",
      "\u001b[34m\u001b[1mwandb\u001b[0m: \u001b[32m\u001b[41mERROR\u001b[0m   File \"/Users/jjaniak/Documents/studia/projekt/gradient/notebooks/downstream_tasks/../../src/training/train.py\", line 64, in train\n",
      "\u001b[34m\u001b[1mwandb\u001b[0m: \u001b[32m\u001b[41mERROR\u001b[0m     trainer.fit(model, train_loader, val_loader)\n",
      "\u001b[34m\u001b[1mwandb\u001b[0m: \u001b[32m\u001b[41mERROR\u001b[0m   File \"/Users/jjaniak/anaconda3/envs/studia_projekt/lib/python3.8/site-packages/pytorch_lightning/trainer/trainer.py\", line 545, in fit\n",
      "\u001b[34m\u001b[1mwandb\u001b[0m: \u001b[32m\u001b[41mERROR\u001b[0m     call._call_and_handle_interrupt(\n",
      "\u001b[34m\u001b[1mwandb\u001b[0m: \u001b[32m\u001b[41mERROR\u001b[0m   File \"/Users/jjaniak/anaconda3/envs/studia_projekt/lib/python3.8/site-packages/pytorch_lightning/trainer/call.py\", line 44, in _call_and_handle_interrupt\n",
      "\u001b[34m\u001b[1mwandb\u001b[0m: \u001b[32m\u001b[41mERROR\u001b[0m     return trainer_fn(*args, **kwargs)\n",
      "\u001b[34m\u001b[1mwandb\u001b[0m: \u001b[32m\u001b[41mERROR\u001b[0m   File \"/Users/jjaniak/anaconda3/envs/studia_projekt/lib/python3.8/site-packages/pytorch_lightning/trainer/trainer.py\", line 581, in _fit_impl\n",
      "\u001b[34m\u001b[1mwandb\u001b[0m: \u001b[32m\u001b[41mERROR\u001b[0m     self._run(model, ckpt_path=ckpt_path)\n",
      "\u001b[34m\u001b[1mwandb\u001b[0m: \u001b[32m\u001b[41mERROR\u001b[0m   File \"/Users/jjaniak/anaconda3/envs/studia_projekt/lib/python3.8/site-packages/pytorch_lightning/trainer/trainer.py\", line 990, in _run\n",
      "\u001b[34m\u001b[1mwandb\u001b[0m: \u001b[32m\u001b[41mERROR\u001b[0m     results = self._run_stage()\n",
      "\u001b[34m\u001b[1mwandb\u001b[0m: \u001b[32m\u001b[41mERROR\u001b[0m   File \"/Users/jjaniak/anaconda3/envs/studia_projekt/lib/python3.8/site-packages/pytorch_lightning/trainer/trainer.py\", line 1034, in _run_stage\n",
      "\u001b[34m\u001b[1mwandb\u001b[0m: \u001b[32m\u001b[41mERROR\u001b[0m     self._run_sanity_check()\n",
      "\u001b[34m\u001b[1mwandb\u001b[0m: \u001b[32m\u001b[41mERROR\u001b[0m   File \"/Users/jjaniak/anaconda3/envs/studia_projekt/lib/python3.8/site-packages/pytorch_lightning/trainer/trainer.py\", line 1063, in _run_sanity_check\n",
      "\u001b[34m\u001b[1mwandb\u001b[0m: \u001b[32m\u001b[41mERROR\u001b[0m     val_loop.run()\n",
      "\u001b[34m\u001b[1mwandb\u001b[0m: \u001b[32m\u001b[41mERROR\u001b[0m   File \"/Users/jjaniak/anaconda3/envs/studia_projekt/lib/python3.8/site-packages/pytorch_lightning/loops/utilities.py\", line 181, in _decorator\n",
      "\u001b[34m\u001b[1mwandb\u001b[0m: \u001b[32m\u001b[41mERROR\u001b[0m     return loop_run(self, *args, **kwargs)\n",
      "\u001b[34m\u001b[1mwandb\u001b[0m: \u001b[32m\u001b[41mERROR\u001b[0m   File \"/Users/jjaniak/anaconda3/envs/studia_projekt/lib/python3.8/site-packages/pytorch_lightning/loops/evaluation_loop.py\", line 134, in run\n",
      "\u001b[34m\u001b[1mwandb\u001b[0m: \u001b[32m\u001b[41mERROR\u001b[0m     self._evaluation_step(batch, batch_idx, dataloader_idx, dataloader_iter)\n",
      "\u001b[34m\u001b[1mwandb\u001b[0m: \u001b[32m\u001b[41mERROR\u001b[0m   File \"/Users/jjaniak/anaconda3/envs/studia_projekt/lib/python3.8/site-packages/pytorch_lightning/loops/evaluation_loop.py\", line 391, in _evaluation_step\n",
      "\u001b[34m\u001b[1mwandb\u001b[0m: \u001b[32m\u001b[41mERROR\u001b[0m     output = call._call_strategy_hook(trainer, hook_name, *step_args)\n",
      "\u001b[34m\u001b[1mwandb\u001b[0m: \u001b[32m\u001b[41mERROR\u001b[0m   File \"/Users/jjaniak/anaconda3/envs/studia_projekt/lib/python3.8/site-packages/pytorch_lightning/trainer/call.py\", line 309, in _call_strategy_hook\n",
      "\u001b[34m\u001b[1mwandb\u001b[0m: \u001b[32m\u001b[41mERROR\u001b[0m     output = fn(*args, **kwargs)\n",
      "\u001b[34m\u001b[1mwandb\u001b[0m: \u001b[32m\u001b[41mERROR\u001b[0m   File \"/Users/jjaniak/anaconda3/envs/studia_projekt/lib/python3.8/site-packages/pytorch_lightning/strategies/strategy.py\", line 403, in validation_step\n",
      "\u001b[34m\u001b[1mwandb\u001b[0m: \u001b[32m\u001b[41mERROR\u001b[0m     return self.lightning_module.validation_step(*args, **kwargs)\n",
      "\u001b[34m\u001b[1mwandb\u001b[0m: \u001b[32m\u001b[41mERROR\u001b[0m   File \"/Users/jjaniak/Documents/studia/projekt/gradient/notebooks/downstream_tasks/../../src/lightning/hetero_gnn_module.py\", line 57, in validation_step\n",
      "\u001b[34m\u001b[1mwandb\u001b[0m: \u001b[32m\u001b[41mERROR\u001b[0m     y_hat = self.model(batch.x_dict, batch.edge_index_dict, batch.edge_attr_dict)\n",
      "\u001b[34m\u001b[1mwandb\u001b[0m: \u001b[32m\u001b[41mERROR\u001b[0m   File \"/Users/jjaniak/anaconda3/envs/studia_projekt/lib/python3.8/site-packages/torch/nn/modules/module.py\", line 1518, in _wrapped_call_impl\n",
      "\u001b[34m\u001b[1mwandb\u001b[0m: \u001b[32m\u001b[41mERROR\u001b[0m     return self._call_impl(*args, **kwargs)\n",
      "\u001b[34m\u001b[1mwandb\u001b[0m: \u001b[32m\u001b[41mERROR\u001b[0m   File \"/Users/jjaniak/anaconda3/envs/studia_projekt/lib/python3.8/site-packages/torch/nn/modules/module.py\", line 1527, in _call_impl\n",
      "\u001b[34m\u001b[1mwandb\u001b[0m: \u001b[32m\u001b[41mERROR\u001b[0m     return forward_call(*args, **kwargs)\n",
      "\u001b[34m\u001b[1mwandb\u001b[0m: \u001b[32m\u001b[41mERROR\u001b[0m   File \"/Users/jjaniak/Documents/studia/projekt/gradient/notebooks/downstream_tasks/../../src/baseline_models/HeteroGNN/HeteroGNN.py\", line 59, in forward\n",
      "\u001b[34m\u001b[1mwandb\u001b[0m: \u001b[32m\u001b[41mERROR\u001b[0m     value = self._forward(x_dict, edge_index_dict, edge_atrr_dict)\n",
      "\u001b[34m\u001b[1mwandb\u001b[0m: \u001b[32m\u001b[41mERROR\u001b[0m   File \"/Users/jjaniak/Documents/studia/projekt/gradient/notebooks/downstream_tasks/../../src/baseline_models/HeteroGNN/HeteroGNN.py\", line 74, in _forward\n",
      "\u001b[34m\u001b[1mwandb\u001b[0m: \u001b[32m\u001b[41mERROR\u001b[0m     x_dict = conv(x_dict, edge_index_dict, edge_atrr_dict)\n",
      "\u001b[34m\u001b[1mwandb\u001b[0m: \u001b[32m\u001b[41mERROR\u001b[0m   File \"/Users/jjaniak/anaconda3/envs/studia_projekt/lib/python3.8/site-packages/torch/nn/modules/module.py\", line 1518, in _wrapped_call_impl\n",
      "\u001b[34m\u001b[1mwandb\u001b[0m: \u001b[32m\u001b[41mERROR\u001b[0m     return self._call_impl(*args, **kwargs)\n",
      "\u001b[34m\u001b[1mwandb\u001b[0m: \u001b[32m\u001b[41mERROR\u001b[0m   File \"/Users/jjaniak/anaconda3/envs/studia_projekt/lib/python3.8/site-packages/torch/nn/modules/module.py\", line 1527, in _call_impl\n",
      "\u001b[34m\u001b[1mwandb\u001b[0m: \u001b[32m\u001b[41mERROR\u001b[0m     return forward_call(*args, **kwargs)\n",
      "\u001b[34m\u001b[1mwandb\u001b[0m: \u001b[32m\u001b[41mERROR\u001b[0m   File \"/Users/jjaniak/anaconda3/envs/studia_projekt/lib/python3.8/site-packages/torch_geometric/nn/conv/hetero_conv.py\", line 159, in forward\n",
      "\u001b[34m\u001b[1mwandb\u001b[0m: \u001b[32m\u001b[41mERROR\u001b[0m     out = self.convs[edge_type](*args, **kwargs)\n",
      "\u001b[34m\u001b[1mwandb\u001b[0m: \u001b[32m\u001b[41mERROR\u001b[0m   File \"/Users/jjaniak/anaconda3/envs/studia_projekt/lib/python3.8/site-packages/torch/nn/modules/module.py\", line 1518, in _wrapped_call_impl\n",
      "\u001b[34m\u001b[1mwandb\u001b[0m: \u001b[32m\u001b[41mERROR\u001b[0m     return self._call_impl(*args, **kwargs)\n",
      "\u001b[34m\u001b[1mwandb\u001b[0m: \u001b[32m\u001b[41mERROR\u001b[0m   File \"/Users/jjaniak/anaconda3/envs/studia_projekt/lib/python3.8/site-packages/torch/nn/modules/module.py\", line 1527, in _call_impl\n",
      "\u001b[34m\u001b[1mwandb\u001b[0m: \u001b[32m\u001b[41mERROR\u001b[0m     return forward_call(*args, **kwargs)\n",
      "\u001b[34m\u001b[1mwandb\u001b[0m: \u001b[32m\u001b[41mERROR\u001b[0m   File \"/Users/jjaniak/anaconda3/envs/studia_projekt/lib/python3.8/site-packages/torch_geometric/nn/conv/gat_conv.py\", line 252, in forward\n",
      "\u001b[34m\u001b[1mwandb\u001b[0m: \u001b[32m\u001b[41mERROR\u001b[0m     alpha = self.edge_updater(edge_index, alpha=alpha, edge_attr=edge_attr)\n",
      "\u001b[34m\u001b[1mwandb\u001b[0m: \u001b[32m\u001b[41mERROR\u001b[0m   File \"/Users/jjaniak/anaconda3/envs/studia_projekt/lib/python3.8/site-packages/torch_geometric/nn/conv/message_passing.py\", line 527, in edge_updater\n",
      "\u001b[34m\u001b[1mwandb\u001b[0m: \u001b[32m\u001b[41mERROR\u001b[0m     out = self.edge_update(**edge_kwargs)\n",
      "\u001b[34m\u001b[1mwandb\u001b[0m: \u001b[32m\u001b[41mERROR\u001b[0m   File \"/Users/jjaniak/anaconda3/envs/studia_projekt/lib/python3.8/site-packages/torch_geometric/nn/conv/gat_conv.py\", line 295, in edge_update\n",
      "\u001b[34m\u001b[1mwandb\u001b[0m: \u001b[32m\u001b[41mERROR\u001b[0m     alpha = softmax(alpha, index, ptr, size_i)\n",
      "\u001b[34m\u001b[1mwandb\u001b[0m: \u001b[32m\u001b[41mERROR\u001b[0m   File \"/Users/jjaniak/anaconda3/envs/studia_projekt/lib/python3.8/site-packages/torch_geometric/utils/softmax.py\", line 65, in softmax\n",
      "\u001b[34m\u001b[1mwandb\u001b[0m: \u001b[32m\u001b[41mERROR\u001b[0m     src_max = scatter(src.detach(), index, dim, dim_size=N, reduce='max')\n",
      "\u001b[34m\u001b[1mwandb\u001b[0m: \u001b[32m\u001b[41mERROR\u001b[0m   File \"/Users/jjaniak/anaconda3/envs/studia_projekt/lib/python3.8/site-packages/torch_geometric/utils/scatter.py\", line 94, in scatter\n",
      "\u001b[34m\u001b[1mwandb\u001b[0m: \u001b[32m\u001b[41mERROR\u001b[0m     return src.new_zeros(size).scatter_reduce_(\n",
      "\u001b[34m\u001b[1mwandb\u001b[0m: \u001b[32m\u001b[41mERROR\u001b[0m NotImplementedError: The operator 'aten::scatter_reduce.two_out' is not currently implemented for the MPS device. If you want this op to be added in priority during the prototype phase of this feature, please comment on https://github.com/pytorch/pytorch/issues/77764. As a temporary fix, you can set the environment variable `PYTORCH_ENABLE_MPS_FALLBACK=1` to use the CPU as a fallback for this op. WARNING: this will be slower than running natively on MPS.\n",
      "\u001b[34m\u001b[1mwandb\u001b[0m: \u001b[32m\u001b[41mERROR\u001b[0m \n",
      "Detected 5 failed runs in a row at start, killing sweep.\n",
      "\u001b[34m\u001b[1mwandb\u001b[0m: \u001b[32m\u001b[41mERROR\u001b[0m Detected 5 failed runs in a row at start, killing sweep.\n",
      "\u001b[34m\u001b[1mwandb\u001b[0m: To change this value set WANDB_AGENT_MAX_INITIAL_FAILURES=val\n"
     ]
    },
    {
     "name": "stdout",
     "output_type": "stream",
     "text": [
      "Sweep for config 2/2 in progress...\n"
     ]
    },
    {
     "name": "stderr",
     "output_type": "stream",
     "text": [
      "\u001b[34m\u001b[1mwandb\u001b[0m: \u001b[33mWARNING\u001b[0m If you're specifying your api key in code, ensure this code is not shared publicly.\n",
      "\u001b[34m\u001b[1mwandb\u001b[0m: \u001b[33mWARNING\u001b[0m Consider setting the WANDB_API_KEY environment variable, or running `wandb login` from the command line.\n",
      "\u001b[34m\u001b[1mwandb\u001b[0m: Appending key for api.wandb.ai to your netrc file: /Users/jjaniak/.netrc\n"
     ]
    },
    {
     "name": "stdout",
     "output_type": "stream",
     "text": [
      "Create sweep with ID: xfv6c74m\n",
      "Sweep URL: https://wandb.ai/gradient_pwr/zabka-downstream-task/sweeps/xfv6c74m\n"
     ]
    },
    {
     "name": "stderr",
     "output_type": "stream",
     "text": [
      "\u001b[34m\u001b[1mwandb\u001b[0m: Agent Starting Run: hnvsovpk with config:\n",
      "\u001b[34m\u001b[1mwandb\u001b[0m: \thidden_channels: 40\n",
      "\u001b[34m\u001b[1mwandb\u001b[0m: \tlearning_rate: 0.0010389459519569366\n",
      "\u001b[34m\u001b[1mwandb\u001b[0m: \tlin_layer_size: 128\n",
      "\u001b[34m\u001b[1mwandb\u001b[0m: \tnum_conv_layers: 4\n",
      "\u001b[34m\u001b[1mwandb\u001b[0m: \tnum_lin_layers: 0\n",
      "\u001b[34m\u001b[1mwandb\u001b[0m: \tweight_decay: 0.001955351119400673\n",
      "Failed to detect the name of this notebook, you can set it manually with the WANDB_NOTEBOOK_NAME environment variable to enable code saving.\n"
     ]
    },
    {
     "data": {
      "text/html": [
       "wandb version 0.17.0 is available!  To upgrade, please run:\n",
       " $ pip install wandb --upgrade"
      ],
      "text/plain": [
       "<IPython.core.display.HTML object>"
      ]
     },
     "metadata": {},
     "output_type": "display_data"
    },
    {
     "data": {
      "text/html": [
       "Tracking run with wandb version 0.16.4"
      ],
      "text/plain": [
       "<IPython.core.display.HTML object>"
      ]
     },
     "metadata": {},
     "output_type": "display_data"
    },
    {
     "data": {
      "text/html": [
       "Run data is saved locally in <code>/Users/jjaniak/Documents/studia/projekt/gradient/notebooks/downstream_tasks/wandb/run-20240604_115419-hnvsovpk</code>"
      ],
      "text/plain": [
       "<IPython.core.display.HTML object>"
      ]
     },
     "metadata": {},
     "output_type": "display_data"
    },
    {
     "data": {
      "text/html": [
       "Syncing run <strong><a href='https://wandb.ai/gradient_pwr/zabka-downstream-task/runs/hnvsovpk' target=\"_blank\">easy-sweep-1</a></strong> to <a href='https://wandb.ai/gradient_pwr/zabka-downstream-task' target=\"_blank\">Weights & Biases</a> (<a href='https://wandb.me/run' target=\"_blank\">docs</a>)<br/>Sweep page: <a href='https://wandb.ai/gradient_pwr/zabka-downstream-task/sweeps/xfv6c74m' target=\"_blank\">https://wandb.ai/gradient_pwr/zabka-downstream-task/sweeps/xfv6c74m</a>"
      ],
      "text/plain": [
       "<IPython.core.display.HTML object>"
      ]
     },
     "metadata": {},
     "output_type": "display_data"
    },
    {
     "data": {
      "text/html": [
       " View project at <a href='https://wandb.ai/gradient_pwr/zabka-downstream-task' target=\"_blank\">https://wandb.ai/gradient_pwr/zabka-downstream-task</a>"
      ],
      "text/plain": [
       "<IPython.core.display.HTML object>"
      ]
     },
     "metadata": {},
     "output_type": "display_data"
    },
    {
     "data": {
      "text/html": [
       " View sweep at <a href='https://wandb.ai/gradient_pwr/zabka-downstream-task/sweeps/xfv6c74m' target=\"_blank\">https://wandb.ai/gradient_pwr/zabka-downstream-task/sweeps/xfv6c74m</a>"
      ],
      "text/plain": [
       "<IPython.core.display.HTML object>"
      ]
     },
     "metadata": {},
     "output_type": "display_data"
    },
    {
     "data": {
      "text/html": [
       " View run at <a href='https://wandb.ai/gradient_pwr/zabka-downstream-task/runs/hnvsovpk' target=\"_blank\">https://wandb.ai/gradient_pwr/zabka-downstream-task/runs/hnvsovpk</a>"
      ],
      "text/plain": [
       "<IPython.core.display.HTML object>"
      ]
     },
     "metadata": {},
     "output_type": "display_data"
    },
    {
     "name": "stderr",
     "output_type": "stream",
     "text": [
      "/Users/jjaniak/anaconda3/envs/studia_projekt/lib/python3.8/site-packages/torch_geometric/deprecation.py:22: UserWarning: 'data.DataLoader' is deprecated, use 'loader.DataLoader' instead\n",
      "  warnings.warn(out)\n",
      "GPU available: True (mps), used: True\n",
      "TPU available: False, using: 0 TPU cores\n",
      "IPU available: False, using: 0 IPUs\n",
      "HPU available: False, using: 0 HPUs\n",
      "Missing logger folder: ../../gradient_logs/2024_06_04_11_54_25/lightning_logs\n",
      "\n",
      "  | Name  | Type      | Params\n",
      "------------------------------------\n",
      "0 | model | HeteroGNN | 30.2 K\n",
      "------------------------------------\n",
      "30.2 K    Trainable params\n",
      "0         Non-trainable params\n",
      "30.2 K    Total params\n",
      "0.121     Total estimated model params size (MB)\n"
     ]
    },
    {
     "data": {
      "application/vnd.jupyter.widget-view+json": {
       "model_id": "a83a6043a25a4d18abcb1152419f6d42",
       "version_major": 2,
       "version_minor": 0
      },
      "text/plain": [
       "Sanity Checking: |          | 0/? [00:00<?, ?it/s]"
      ]
     },
     "metadata": {},
     "output_type": "display_data"
    },
    {
     "name": "stderr",
     "output_type": "stream",
     "text": [
      "/Users/jjaniak/anaconda3/envs/studia_projekt/lib/python3.8/site-packages/pytorch_lightning/trainer/connectors/data_connector.py:441: The 'val_dataloader' does not have many workers which may be a bottleneck. Consider increasing the value of the `num_workers` argument` to `num_workers=11` in the `DataLoader` to improve performance.\n"
     ]
    },
    {
     "data": {
      "application/vnd.jupyter.widget-view+json": {
       "model_id": "df252200f400465d8c10899a7cf19425",
       "version_major": 2,
       "version_minor": 0
      },
      "text/plain": [
       "VBox(children=(Label(value='161.414 MB of 161.414 MB uploaded\\r'), FloatProgress(value=1.0, max=1.0)))"
      ]
     },
     "metadata": {},
     "output_type": "display_data"
    },
    {
     "data": {
      "text/html": [
       "<style>\n",
       "    table.wandb td:nth-child(1) { padding: 0 10px; text-align: left ; width: auto;} td:nth-child(2) {text-align: left ; width: 100%}\n",
       "    .wandb-row { display: flex; flex-direction: row; flex-wrap: wrap; justify-content: flex-start; width: 100% }\n",
       "    .wandb-col { display: flex; flex-direction: column; flex-basis: 100%; flex: 1; padding: 10px; }\n",
       "    </style>\n",
       "<div class=\"wandb-row\"><div class=\"wandb-col\"><h3>Run history:</h3><br/><table class=\"wandb\"><tr><td>USE_HEXES_ATTRS</td><td>▁</td></tr><tr><td>USE_ORTOPHOTO</td><td>▁</td></tr><tr><td>USE_OSMNX_ATTRS</td><td>▁</td></tr></table><br/></div><div class=\"wandb-col\"><h3>Run summary:</h3><br/><table class=\"wandb\"><tr><td>USE_HEXES_ATTRS</td><td>0</td></tr><tr><td>USE_ORTOPHOTO</td><td>0</td></tr><tr><td>USE_OSMNX_ATTRS</td><td>1</td></tr><tr><td>data_structure</td><td>graph</td></tr></table><br/></div></div>"
      ],
      "text/plain": [
       "<IPython.core.display.HTML object>"
      ]
     },
     "metadata": {},
     "output_type": "display_data"
    },
    {
     "data": {
      "text/html": [
       " View run <strong style=\"color:#cdcd00\">easy-sweep-1</strong> at: <a href='https://wandb.ai/gradient_pwr/zabka-downstream-task/runs/hnvsovpk' target=\"_blank\">https://wandb.ai/gradient_pwr/zabka-downstream-task/runs/hnvsovpk</a><br/>Synced 6 W&B file(s), 0 media file(s), 1 artifact file(s) and 0 other file(s)"
      ],
      "text/plain": [
       "<IPython.core.display.HTML object>"
      ]
     },
     "metadata": {},
     "output_type": "display_data"
    },
    {
     "data": {
      "text/html": [
       "Find logs at: <code>./wandb/run-20240604_115419-hnvsovpk/logs</code>"
      ],
      "text/plain": [
       "<IPython.core.display.HTML object>"
      ]
     },
     "metadata": {},
     "output_type": "display_data"
    },
    {
     "name": "stderr",
     "output_type": "stream",
     "text": [
      "Run hnvsovpk errored:\n",
      "Traceback (most recent call last):\n",
      "  File \"/Users/jjaniak/anaconda3/envs/studia_projekt/lib/python3.8/site-packages/wandb/agents/pyagent.py\", line 308, in _run_job\n",
      "    self._function()\n",
      "  File \"/var/folders/4k/8js3jm9n457cm4_v631zyrkw0000gn/T/ipykernel_37726/1604121319.py\", line 62, in wrapped\n",
      "    auc, accuracy, f1, model_path = train(\n",
      "  File \"/Users/jjaniak/Documents/studia/projekt/gradient/notebooks/downstream_tasks/../../src/training/train.py\", line 64, in train\n",
      "    trainer.fit(model, train_loader, val_loader)\n",
      "  File \"/Users/jjaniak/anaconda3/envs/studia_projekt/lib/python3.8/site-packages/pytorch_lightning/trainer/trainer.py\", line 545, in fit\n",
      "    call._call_and_handle_interrupt(\n",
      "  File \"/Users/jjaniak/anaconda3/envs/studia_projekt/lib/python3.8/site-packages/pytorch_lightning/trainer/call.py\", line 44, in _call_and_handle_interrupt\n",
      "    return trainer_fn(*args, **kwargs)\n",
      "  File \"/Users/jjaniak/anaconda3/envs/studia_projekt/lib/python3.8/site-packages/pytorch_lightning/trainer/trainer.py\", line 581, in _fit_impl\n",
      "    self._run(model, ckpt_path=ckpt_path)\n",
      "  File \"/Users/jjaniak/anaconda3/envs/studia_projekt/lib/python3.8/site-packages/pytorch_lightning/trainer/trainer.py\", line 990, in _run\n",
      "    results = self._run_stage()\n",
      "  File \"/Users/jjaniak/anaconda3/envs/studia_projekt/lib/python3.8/site-packages/pytorch_lightning/trainer/trainer.py\", line 1034, in _run_stage\n",
      "    self._run_sanity_check()\n",
      "  File \"/Users/jjaniak/anaconda3/envs/studia_projekt/lib/python3.8/site-packages/pytorch_lightning/trainer/trainer.py\", line 1063, in _run_sanity_check\n",
      "    val_loop.run()\n",
      "  File \"/Users/jjaniak/anaconda3/envs/studia_projekt/lib/python3.8/site-packages/pytorch_lightning/loops/utilities.py\", line 181, in _decorator\n",
      "    return loop_run(self, *args, **kwargs)\n",
      "  File \"/Users/jjaniak/anaconda3/envs/studia_projekt/lib/python3.8/site-packages/pytorch_lightning/loops/evaluation_loop.py\", line 134, in run\n",
      "    self._evaluation_step(batch, batch_idx, dataloader_idx, dataloader_iter)\n",
      "  File \"/Users/jjaniak/anaconda3/envs/studia_projekt/lib/python3.8/site-packages/pytorch_lightning/loops/evaluation_loop.py\", line 391, in _evaluation_step\n",
      "    output = call._call_strategy_hook(trainer, hook_name, *step_args)\n",
      "  File \"/Users/jjaniak/anaconda3/envs/studia_projekt/lib/python3.8/site-packages/pytorch_lightning/trainer/call.py\", line 309, in _call_strategy_hook\n",
      "    output = fn(*args, **kwargs)\n",
      "  File \"/Users/jjaniak/anaconda3/envs/studia_projekt/lib/python3.8/site-packages/pytorch_lightning/strategies/strategy.py\", line 403, in validation_step\n",
      "    return self.lightning_module.validation_step(*args, **kwargs)\n",
      "  File \"/Users/jjaniak/Documents/studia/projekt/gradient/notebooks/downstream_tasks/../../src/lightning/hetero_gnn_module.py\", line 57, in validation_step\n",
      "    y_hat = self.model(batch.x_dict, batch.edge_index_dict, batch.edge_attr_dict)\n",
      "  File \"/Users/jjaniak/anaconda3/envs/studia_projekt/lib/python3.8/site-packages/torch/nn/modules/module.py\", line 1518, in _wrapped_call_impl\n",
      "    return self._call_impl(*args, **kwargs)\n",
      "  File \"/Users/jjaniak/anaconda3/envs/studia_projekt/lib/python3.8/site-packages/torch/nn/modules/module.py\", line 1527, in _call_impl\n",
      "    return forward_call(*args, **kwargs)\n",
      "  File \"/Users/jjaniak/Documents/studia/projekt/gradient/notebooks/downstream_tasks/../../src/baseline_models/HeteroGNN/HeteroGNN.py\", line 59, in forward\n",
      "    value = self._forward(x_dict, edge_index_dict, edge_atrr_dict)\n",
      "  File \"/Users/jjaniak/Documents/studia/projekt/gradient/notebooks/downstream_tasks/../../src/baseline_models/HeteroGNN/HeteroGNN.py\", line 74, in _forward\n",
      "    x_dict = conv(x_dict, edge_index_dict, edge_atrr_dict)\n",
      "  File \"/Users/jjaniak/anaconda3/envs/studia_projekt/lib/python3.8/site-packages/torch/nn/modules/module.py\", line 1518, in _wrapped_call_impl\n",
      "    return self._call_impl(*args, **kwargs)\n",
      "  File \"/Users/jjaniak/anaconda3/envs/studia_projekt/lib/python3.8/site-packages/torch/nn/modules/module.py\", line 1527, in _call_impl\n",
      "    return forward_call(*args, **kwargs)\n",
      "  File \"/Users/jjaniak/anaconda3/envs/studia_projekt/lib/python3.8/site-packages/torch_geometric/nn/conv/hetero_conv.py\", line 159, in forward\n",
      "    out = self.convs[edge_type](*args, **kwargs)\n",
      "  File \"/Users/jjaniak/anaconda3/envs/studia_projekt/lib/python3.8/site-packages/torch/nn/modules/module.py\", line 1518, in _wrapped_call_impl\n",
      "    return self._call_impl(*args, **kwargs)\n",
      "  File \"/Users/jjaniak/anaconda3/envs/studia_projekt/lib/python3.8/site-packages/torch/nn/modules/module.py\", line 1527, in _call_impl\n",
      "    return forward_call(*args, **kwargs)\n",
      "  File \"/Users/jjaniak/anaconda3/envs/studia_projekt/lib/python3.8/site-packages/torch_geometric/nn/conv/gat_conv.py\", line 213, in forward\n",
      "    x_src = x_dst = self.lin_src(x).view(-1, H, C)\n",
      "  File \"/Users/jjaniak/anaconda3/envs/studia_projekt/lib/python3.8/site-packages/torch/nn/modules/module.py\", line 1518, in _wrapped_call_impl\n",
      "    return self._call_impl(*args, **kwargs)\n",
      "  File \"/Users/jjaniak/anaconda3/envs/studia_projekt/lib/python3.8/site-packages/torch/nn/modules/module.py\", line 1527, in _call_impl\n",
      "    return forward_call(*args, **kwargs)\n",
      "  File \"/Users/jjaniak/anaconda3/envs/studia_projekt/lib/python3.8/site-packages/torch_geometric/nn/dense/linear.py\", line 130, in forward\n",
      "    return F.linear(x, self.weight, self.bias)\n",
      "RuntimeError: [srcBuf length] > 0 INTERNAL ASSERT FAILED at \"/Users/runner/work/pytorch/pytorch/pytorch/aten/src/ATen/native/mps/OperationUtils.mm\":327, please report a bug to PyTorch. Placeholder tensor is empty!\n",
      "\n",
      "\u001b[34m\u001b[1mwandb\u001b[0m: \u001b[32m\u001b[41mERROR\u001b[0m Run hnvsovpk errored:\n",
      "\u001b[34m\u001b[1mwandb\u001b[0m: \u001b[32m\u001b[41mERROR\u001b[0m Traceback (most recent call last):\n",
      "\u001b[34m\u001b[1mwandb\u001b[0m: \u001b[32m\u001b[41mERROR\u001b[0m   File \"/Users/jjaniak/anaconda3/envs/studia_projekt/lib/python3.8/site-packages/wandb/agents/pyagent.py\", line 308, in _run_job\n",
      "\u001b[34m\u001b[1mwandb\u001b[0m: \u001b[32m\u001b[41mERROR\u001b[0m     self._function()\n",
      "\u001b[34m\u001b[1mwandb\u001b[0m: \u001b[32m\u001b[41mERROR\u001b[0m   File \"/var/folders/4k/8js3jm9n457cm4_v631zyrkw0000gn/T/ipykernel_37726/1604121319.py\", line 62, in wrapped\n",
      "\u001b[34m\u001b[1mwandb\u001b[0m: \u001b[32m\u001b[41mERROR\u001b[0m     auc, accuracy, f1, model_path = train(\n",
      "\u001b[34m\u001b[1mwandb\u001b[0m: \u001b[32m\u001b[41mERROR\u001b[0m   File \"/Users/jjaniak/Documents/studia/projekt/gradient/notebooks/downstream_tasks/../../src/training/train.py\", line 64, in train\n",
      "\u001b[34m\u001b[1mwandb\u001b[0m: \u001b[32m\u001b[41mERROR\u001b[0m     trainer.fit(model, train_loader, val_loader)\n",
      "\u001b[34m\u001b[1mwandb\u001b[0m: \u001b[32m\u001b[41mERROR\u001b[0m   File \"/Users/jjaniak/anaconda3/envs/studia_projekt/lib/python3.8/site-packages/pytorch_lightning/trainer/trainer.py\", line 545, in fit\n",
      "\u001b[34m\u001b[1mwandb\u001b[0m: \u001b[32m\u001b[41mERROR\u001b[0m     call._call_and_handle_interrupt(\n",
      "\u001b[34m\u001b[1mwandb\u001b[0m: \u001b[32m\u001b[41mERROR\u001b[0m   File \"/Users/jjaniak/anaconda3/envs/studia_projekt/lib/python3.8/site-packages/pytorch_lightning/trainer/call.py\", line 44, in _call_and_handle_interrupt\n",
      "\u001b[34m\u001b[1mwandb\u001b[0m: \u001b[32m\u001b[41mERROR\u001b[0m     return trainer_fn(*args, **kwargs)\n",
      "\u001b[34m\u001b[1mwandb\u001b[0m: \u001b[32m\u001b[41mERROR\u001b[0m   File \"/Users/jjaniak/anaconda3/envs/studia_projekt/lib/python3.8/site-packages/pytorch_lightning/trainer/trainer.py\", line 581, in _fit_impl\n",
      "\u001b[34m\u001b[1mwandb\u001b[0m: \u001b[32m\u001b[41mERROR\u001b[0m     self._run(model, ckpt_path=ckpt_path)\n",
      "\u001b[34m\u001b[1mwandb\u001b[0m: \u001b[32m\u001b[41mERROR\u001b[0m   File \"/Users/jjaniak/anaconda3/envs/studia_projekt/lib/python3.8/site-packages/pytorch_lightning/trainer/trainer.py\", line 990, in _run\n",
      "\u001b[34m\u001b[1mwandb\u001b[0m: \u001b[32m\u001b[41mERROR\u001b[0m     results = self._run_stage()\n",
      "\u001b[34m\u001b[1mwandb\u001b[0m: \u001b[32m\u001b[41mERROR\u001b[0m   File \"/Users/jjaniak/anaconda3/envs/studia_projekt/lib/python3.8/site-packages/pytorch_lightning/trainer/trainer.py\", line 1034, in _run_stage\n",
      "\u001b[34m\u001b[1mwandb\u001b[0m: \u001b[32m\u001b[41mERROR\u001b[0m     self._run_sanity_check()\n",
      "\u001b[34m\u001b[1mwandb\u001b[0m: \u001b[32m\u001b[41mERROR\u001b[0m   File \"/Users/jjaniak/anaconda3/envs/studia_projekt/lib/python3.8/site-packages/pytorch_lightning/trainer/trainer.py\", line 1063, in _run_sanity_check\n",
      "\u001b[34m\u001b[1mwandb\u001b[0m: \u001b[32m\u001b[41mERROR\u001b[0m     val_loop.run()\n",
      "\u001b[34m\u001b[1mwandb\u001b[0m: \u001b[32m\u001b[41mERROR\u001b[0m   File \"/Users/jjaniak/anaconda3/envs/studia_projekt/lib/python3.8/site-packages/pytorch_lightning/loops/utilities.py\", line 181, in _decorator\n",
      "\u001b[34m\u001b[1mwandb\u001b[0m: \u001b[32m\u001b[41mERROR\u001b[0m     return loop_run(self, *args, **kwargs)\n",
      "\u001b[34m\u001b[1mwandb\u001b[0m: \u001b[32m\u001b[41mERROR\u001b[0m   File \"/Users/jjaniak/anaconda3/envs/studia_projekt/lib/python3.8/site-packages/pytorch_lightning/loops/evaluation_loop.py\", line 134, in run\n",
      "\u001b[34m\u001b[1mwandb\u001b[0m: \u001b[32m\u001b[41mERROR\u001b[0m     self._evaluation_step(batch, batch_idx, dataloader_idx, dataloader_iter)\n",
      "\u001b[34m\u001b[1mwandb\u001b[0m: \u001b[32m\u001b[41mERROR\u001b[0m   File \"/Users/jjaniak/anaconda3/envs/studia_projekt/lib/python3.8/site-packages/pytorch_lightning/loops/evaluation_loop.py\", line 391, in _evaluation_step\n",
      "\u001b[34m\u001b[1mwandb\u001b[0m: \u001b[32m\u001b[41mERROR\u001b[0m     output = call._call_strategy_hook(trainer, hook_name, *step_args)\n",
      "\u001b[34m\u001b[1mwandb\u001b[0m: \u001b[32m\u001b[41mERROR\u001b[0m   File \"/Users/jjaniak/anaconda3/envs/studia_projekt/lib/python3.8/site-packages/pytorch_lightning/trainer/call.py\", line 309, in _call_strategy_hook\n",
      "\u001b[34m\u001b[1mwandb\u001b[0m: \u001b[32m\u001b[41mERROR\u001b[0m     output = fn(*args, **kwargs)\n",
      "\u001b[34m\u001b[1mwandb\u001b[0m: \u001b[32m\u001b[41mERROR\u001b[0m   File \"/Users/jjaniak/anaconda3/envs/studia_projekt/lib/python3.8/site-packages/pytorch_lightning/strategies/strategy.py\", line 403, in validation_step\n",
      "\u001b[34m\u001b[1mwandb\u001b[0m: \u001b[32m\u001b[41mERROR\u001b[0m     return self.lightning_module.validation_step(*args, **kwargs)\n",
      "\u001b[34m\u001b[1mwandb\u001b[0m: \u001b[32m\u001b[41mERROR\u001b[0m   File \"/Users/jjaniak/Documents/studia/projekt/gradient/notebooks/downstream_tasks/../../src/lightning/hetero_gnn_module.py\", line 57, in validation_step\n",
      "\u001b[34m\u001b[1mwandb\u001b[0m: \u001b[32m\u001b[41mERROR\u001b[0m     y_hat = self.model(batch.x_dict, batch.edge_index_dict, batch.edge_attr_dict)\n",
      "\u001b[34m\u001b[1mwandb\u001b[0m: \u001b[32m\u001b[41mERROR\u001b[0m   File \"/Users/jjaniak/anaconda3/envs/studia_projekt/lib/python3.8/site-packages/torch/nn/modules/module.py\", line 1518, in _wrapped_call_impl\n",
      "\u001b[34m\u001b[1mwandb\u001b[0m: \u001b[32m\u001b[41mERROR\u001b[0m     return self._call_impl(*args, **kwargs)\n",
      "\u001b[34m\u001b[1mwandb\u001b[0m: \u001b[32m\u001b[41mERROR\u001b[0m   File \"/Users/jjaniak/anaconda3/envs/studia_projekt/lib/python3.8/site-packages/torch/nn/modules/module.py\", line 1527, in _call_impl\n",
      "\u001b[34m\u001b[1mwandb\u001b[0m: \u001b[32m\u001b[41mERROR\u001b[0m     return forward_call(*args, **kwargs)\n",
      "\u001b[34m\u001b[1mwandb\u001b[0m: \u001b[32m\u001b[41mERROR\u001b[0m   File \"/Users/jjaniak/Documents/studia/projekt/gradient/notebooks/downstream_tasks/../../src/baseline_models/HeteroGNN/HeteroGNN.py\", line 59, in forward\n",
      "\u001b[34m\u001b[1mwandb\u001b[0m: \u001b[32m\u001b[41mERROR\u001b[0m     value = self._forward(x_dict, edge_index_dict, edge_atrr_dict)\n",
      "\u001b[34m\u001b[1mwandb\u001b[0m: \u001b[32m\u001b[41mERROR\u001b[0m   File \"/Users/jjaniak/Documents/studia/projekt/gradient/notebooks/downstream_tasks/../../src/baseline_models/HeteroGNN/HeteroGNN.py\", line 74, in _forward\n",
      "\u001b[34m\u001b[1mwandb\u001b[0m: \u001b[32m\u001b[41mERROR\u001b[0m     x_dict = conv(x_dict, edge_index_dict, edge_atrr_dict)\n",
      "\u001b[34m\u001b[1mwandb\u001b[0m: \u001b[32m\u001b[41mERROR\u001b[0m   File \"/Users/jjaniak/anaconda3/envs/studia_projekt/lib/python3.8/site-packages/torch/nn/modules/module.py\", line 1518, in _wrapped_call_impl\n",
      "\u001b[34m\u001b[1mwandb\u001b[0m: \u001b[32m\u001b[41mERROR\u001b[0m     return self._call_impl(*args, **kwargs)\n",
      "\u001b[34m\u001b[1mwandb\u001b[0m: \u001b[32m\u001b[41mERROR\u001b[0m   File \"/Users/jjaniak/anaconda3/envs/studia_projekt/lib/python3.8/site-packages/torch/nn/modules/module.py\", line 1527, in _call_impl\n",
      "\u001b[34m\u001b[1mwandb\u001b[0m: \u001b[32m\u001b[41mERROR\u001b[0m     return forward_call(*args, **kwargs)\n",
      "\u001b[34m\u001b[1mwandb\u001b[0m: \u001b[32m\u001b[41mERROR\u001b[0m   File \"/Users/jjaniak/anaconda3/envs/studia_projekt/lib/python3.8/site-packages/torch_geometric/nn/conv/hetero_conv.py\", line 159, in forward\n",
      "\u001b[34m\u001b[1mwandb\u001b[0m: \u001b[32m\u001b[41mERROR\u001b[0m     out = self.convs[edge_type](*args, **kwargs)\n",
      "\u001b[34m\u001b[1mwandb\u001b[0m: \u001b[32m\u001b[41mERROR\u001b[0m   File \"/Users/jjaniak/anaconda3/envs/studia_projekt/lib/python3.8/site-packages/torch/nn/modules/module.py\", line 1518, in _wrapped_call_impl\n",
      "\u001b[34m\u001b[1mwandb\u001b[0m: \u001b[32m\u001b[41mERROR\u001b[0m     return self._call_impl(*args, **kwargs)\n",
      "\u001b[34m\u001b[1mwandb\u001b[0m: \u001b[32m\u001b[41mERROR\u001b[0m   File \"/Users/jjaniak/anaconda3/envs/studia_projekt/lib/python3.8/site-packages/torch/nn/modules/module.py\", line 1527, in _call_impl\n",
      "\u001b[34m\u001b[1mwandb\u001b[0m: \u001b[32m\u001b[41mERROR\u001b[0m     return forward_call(*args, **kwargs)\n",
      "\u001b[34m\u001b[1mwandb\u001b[0m: \u001b[32m\u001b[41mERROR\u001b[0m   File \"/Users/jjaniak/anaconda3/envs/studia_projekt/lib/python3.8/site-packages/torch_geometric/nn/conv/gat_conv.py\", line 213, in forward\n",
      "\u001b[34m\u001b[1mwandb\u001b[0m: \u001b[32m\u001b[41mERROR\u001b[0m     x_src = x_dst = self.lin_src(x).view(-1, H, C)\n",
      "\u001b[34m\u001b[1mwandb\u001b[0m: \u001b[32m\u001b[41mERROR\u001b[0m   File \"/Users/jjaniak/anaconda3/envs/studia_projekt/lib/python3.8/site-packages/torch/nn/modules/module.py\", line 1518, in _wrapped_call_impl\n",
      "\u001b[34m\u001b[1mwandb\u001b[0m: \u001b[32m\u001b[41mERROR\u001b[0m     return self._call_impl(*args, **kwargs)\n",
      "\u001b[34m\u001b[1mwandb\u001b[0m: \u001b[32m\u001b[41mERROR\u001b[0m   File \"/Users/jjaniak/anaconda3/envs/studia_projekt/lib/python3.8/site-packages/torch/nn/modules/module.py\", line 1527, in _call_impl\n",
      "\u001b[34m\u001b[1mwandb\u001b[0m: \u001b[32m\u001b[41mERROR\u001b[0m     return forward_call(*args, **kwargs)\n",
      "\u001b[34m\u001b[1mwandb\u001b[0m: \u001b[32m\u001b[41mERROR\u001b[0m   File \"/Users/jjaniak/anaconda3/envs/studia_projekt/lib/python3.8/site-packages/torch_geometric/nn/dense/linear.py\", line 130, in forward\n",
      "\u001b[34m\u001b[1mwandb\u001b[0m: \u001b[32m\u001b[41mERROR\u001b[0m     return F.linear(x, self.weight, self.bias)\n",
      "\u001b[34m\u001b[1mwandb\u001b[0m: \u001b[32m\u001b[41mERROR\u001b[0m RuntimeError: [srcBuf length] > 0 INTERNAL ASSERT FAILED at \"/Users/runner/work/pytorch/pytorch/pytorch/aten/src/ATen/native/mps/OperationUtils.mm\":327, please report a bug to PyTorch. Placeholder tensor is empty!\n",
      "\u001b[34m\u001b[1mwandb\u001b[0m: \u001b[32m\u001b[41mERROR\u001b[0m \n",
      "\u001b[34m\u001b[1mwandb\u001b[0m: Agent Starting Run: m1y2ke5y with config:\n",
      "\u001b[34m\u001b[1mwandb\u001b[0m: \thidden_channels: 20\n",
      "\u001b[34m\u001b[1mwandb\u001b[0m: \tlearning_rate: 6.903311968122579e-05\n",
      "\u001b[34m\u001b[1mwandb\u001b[0m: \tlin_layer_size: 8\n",
      "\u001b[34m\u001b[1mwandb\u001b[0m: \tnum_conv_layers: 5\n",
      "\u001b[34m\u001b[1mwandb\u001b[0m: \tnum_lin_layers: 0\n",
      "\u001b[34m\u001b[1mwandb\u001b[0m: \tweight_decay: 0.0059863116923261845\n",
      "Failed to detect the name of this notebook, you can set it manually with the WANDB_NOTEBOOK_NAME environment variable to enable code saving.\n"
     ]
    },
    {
     "data": {
      "text/html": [
       "wandb version 0.17.0 is available!  To upgrade, please run:\n",
       " $ pip install wandb --upgrade"
      ],
      "text/plain": [
       "<IPython.core.display.HTML object>"
      ]
     },
     "metadata": {},
     "output_type": "display_data"
    },
    {
     "data": {
      "text/html": [
       "Tracking run with wandb version 0.16.4"
      ],
      "text/plain": [
       "<IPython.core.display.HTML object>"
      ]
     },
     "metadata": {},
     "output_type": "display_data"
    },
    {
     "data": {
      "text/html": [
       "Run data is saved locally in <code>/Users/jjaniak/Documents/studia/projekt/gradient/notebooks/downstream_tasks/wandb/run-20240604_115450-m1y2ke5y</code>"
      ],
      "text/plain": [
       "<IPython.core.display.HTML object>"
      ]
     },
     "metadata": {},
     "output_type": "display_data"
    },
    {
     "data": {
      "text/html": [
       "Syncing run <strong><a href='https://wandb.ai/gradient_pwr/zabka-downstream-task/runs/m1y2ke5y' target=\"_blank\">likely-sweep-2</a></strong> to <a href='https://wandb.ai/gradient_pwr/zabka-downstream-task' target=\"_blank\">Weights & Biases</a> (<a href='https://wandb.me/run' target=\"_blank\">docs</a>)<br/>Sweep page: <a href='https://wandb.ai/gradient_pwr/zabka-downstream-task/sweeps/xfv6c74m' target=\"_blank\">https://wandb.ai/gradient_pwr/zabka-downstream-task/sweeps/xfv6c74m</a>"
      ],
      "text/plain": [
       "<IPython.core.display.HTML object>"
      ]
     },
     "metadata": {},
     "output_type": "display_data"
    },
    {
     "data": {
      "text/html": [
       " View project at <a href='https://wandb.ai/gradient_pwr/zabka-downstream-task' target=\"_blank\">https://wandb.ai/gradient_pwr/zabka-downstream-task</a>"
      ],
      "text/plain": [
       "<IPython.core.display.HTML object>"
      ]
     },
     "metadata": {},
     "output_type": "display_data"
    },
    {
     "data": {
      "text/html": [
       " View sweep at <a href='https://wandb.ai/gradient_pwr/zabka-downstream-task/sweeps/xfv6c74m' target=\"_blank\">https://wandb.ai/gradient_pwr/zabka-downstream-task/sweeps/xfv6c74m</a>"
      ],
      "text/plain": [
       "<IPython.core.display.HTML object>"
      ]
     },
     "metadata": {},
     "output_type": "display_data"
    },
    {
     "data": {
      "text/html": [
       " View run at <a href='https://wandb.ai/gradient_pwr/zabka-downstream-task/runs/m1y2ke5y' target=\"_blank\">https://wandb.ai/gradient_pwr/zabka-downstream-task/runs/m1y2ke5y</a>"
      ],
      "text/plain": [
       "<IPython.core.display.HTML object>"
      ]
     },
     "metadata": {},
     "output_type": "display_data"
    },
    {
     "name": "stderr",
     "output_type": "stream",
     "text": [
      "/Users/jjaniak/anaconda3/envs/studia_projekt/lib/python3.8/site-packages/torch_geometric/deprecation.py:22: UserWarning: 'data.DataLoader' is deprecated, use 'loader.DataLoader' instead\n",
      "  warnings.warn(out)\n",
      "GPU available: True (mps), used: True\n",
      "TPU available: False, using: 0 TPU cores\n",
      "IPU available: False, using: 0 IPUs\n",
      "HPU available: False, using: 0 HPUs\n",
      "Missing logger folder: ../../gradient_logs/2024_06_04_11_54_55/lightning_logs\n",
      "\n",
      "  | Name  | Type      | Params\n",
      "------------------------------------\n",
      "0 | model | HeteroGNN | 13.0 K\n",
      "------------------------------------\n",
      "13.0 K    Trainable params\n",
      "0         Non-trainable params\n",
      "13.0 K    Total params\n",
      "0.052     Total estimated model params size (MB)\n"
     ]
    },
    {
     "data": {
      "application/vnd.jupyter.widget-view+json": {
       "model_id": "0fcd41693a254aa2b6dcf44ec948ee6c",
       "version_major": 2,
       "version_minor": 0
      },
      "text/plain": [
       "Sanity Checking: |          | 0/? [00:00<?, ?it/s]"
      ]
     },
     "metadata": {},
     "output_type": "display_data"
    },
    {
     "name": "stderr",
     "output_type": "stream",
     "text": [
      "/Users/jjaniak/anaconda3/envs/studia_projekt/lib/python3.8/site-packages/pytorch_lightning/trainer/connectors/data_connector.py:441: The 'val_dataloader' does not have many workers which may be a bottleneck. Consider increasing the value of the `num_workers` argument` to `num_workers=11` in the `DataLoader` to improve performance.\n"
     ]
    },
    {
     "data": {
      "application/vnd.jupyter.widget-view+json": {
       "model_id": "4d6f1923110b424fa8acf943d7cbc271",
       "version_major": 2,
       "version_minor": 0
      },
      "text/plain": [
       "VBox(children=(Label(value='0.001 MB of 0.001 MB uploaded\\r'), FloatProgress(value=1.0, max=1.0)))"
      ]
     },
     "metadata": {},
     "output_type": "display_data"
    },
    {
     "data": {
      "text/html": [
       "<style>\n",
       "    table.wandb td:nth-child(1) { padding: 0 10px; text-align: left ; width: auto;} td:nth-child(2) {text-align: left ; width: 100%}\n",
       "    .wandb-row { display: flex; flex-direction: row; flex-wrap: wrap; justify-content: flex-start; width: 100% }\n",
       "    .wandb-col { display: flex; flex-direction: column; flex-basis: 100%; flex: 1; padding: 10px; }\n",
       "    </style>\n",
       "<div class=\"wandb-row\"><div class=\"wandb-col\"><h3>Run history:</h3><br/><table class=\"wandb\"><tr><td>USE_HEXES_ATTRS</td><td>▁</td></tr><tr><td>USE_ORTOPHOTO</td><td>▁</td></tr><tr><td>USE_OSMNX_ATTRS</td><td>▁</td></tr></table><br/></div><div class=\"wandb-col\"><h3>Run summary:</h3><br/><table class=\"wandb\"><tr><td>USE_HEXES_ATTRS</td><td>0</td></tr><tr><td>USE_ORTOPHOTO</td><td>0</td></tr><tr><td>USE_OSMNX_ATTRS</td><td>1</td></tr><tr><td>data_structure</td><td>graph</td></tr></table><br/></div></div>"
      ],
      "text/plain": [
       "<IPython.core.display.HTML object>"
      ]
     },
     "metadata": {},
     "output_type": "display_data"
    },
    {
     "data": {
      "text/html": [
       " View run <strong style=\"color:#cdcd00\">likely-sweep-2</strong> at: <a href='https://wandb.ai/gradient_pwr/zabka-downstream-task/runs/m1y2ke5y' target=\"_blank\">https://wandb.ai/gradient_pwr/zabka-downstream-task/runs/m1y2ke5y</a><br/>Synced 6 W&B file(s), 0 media file(s), 0 artifact file(s) and 0 other file(s)"
      ],
      "text/plain": [
       "<IPython.core.display.HTML object>"
      ]
     },
     "metadata": {},
     "output_type": "display_data"
    },
    {
     "data": {
      "text/html": [
       "Find logs at: <code>./wandb/run-20240604_115450-m1y2ke5y/logs</code>"
      ],
      "text/plain": [
       "<IPython.core.display.HTML object>"
      ]
     },
     "metadata": {},
     "output_type": "display_data"
    },
    {
     "name": "stderr",
     "output_type": "stream",
     "text": [
      "Run m1y2ke5y errored:\n",
      "Traceback (most recent call last):\n",
      "  File \"/Users/jjaniak/anaconda3/envs/studia_projekt/lib/python3.8/site-packages/wandb/agents/pyagent.py\", line 308, in _run_job\n",
      "    self._function()\n",
      "  File \"/var/folders/4k/8js3jm9n457cm4_v631zyrkw0000gn/T/ipykernel_37726/1604121319.py\", line 62, in wrapped\n",
      "    auc, accuracy, f1, model_path = train(\n",
      "  File \"/Users/jjaniak/Documents/studia/projekt/gradient/notebooks/downstream_tasks/../../src/training/train.py\", line 64, in train\n",
      "    trainer.fit(model, train_loader, val_loader)\n",
      "  File \"/Users/jjaniak/anaconda3/envs/studia_projekt/lib/python3.8/site-packages/pytorch_lightning/trainer/trainer.py\", line 545, in fit\n",
      "    call._call_and_handle_interrupt(\n",
      "  File \"/Users/jjaniak/anaconda3/envs/studia_projekt/lib/python3.8/site-packages/pytorch_lightning/trainer/call.py\", line 44, in _call_and_handle_interrupt\n",
      "    return trainer_fn(*args, **kwargs)\n",
      "  File \"/Users/jjaniak/anaconda3/envs/studia_projekt/lib/python3.8/site-packages/pytorch_lightning/trainer/trainer.py\", line 581, in _fit_impl\n",
      "    self._run(model, ckpt_path=ckpt_path)\n",
      "  File \"/Users/jjaniak/anaconda3/envs/studia_projekt/lib/python3.8/site-packages/pytorch_lightning/trainer/trainer.py\", line 990, in _run\n",
      "    results = self._run_stage()\n",
      "  File \"/Users/jjaniak/anaconda3/envs/studia_projekt/lib/python3.8/site-packages/pytorch_lightning/trainer/trainer.py\", line 1034, in _run_stage\n",
      "    self._run_sanity_check()\n",
      "  File \"/Users/jjaniak/anaconda3/envs/studia_projekt/lib/python3.8/site-packages/pytorch_lightning/trainer/trainer.py\", line 1063, in _run_sanity_check\n",
      "    val_loop.run()\n",
      "  File \"/Users/jjaniak/anaconda3/envs/studia_projekt/lib/python3.8/site-packages/pytorch_lightning/loops/utilities.py\", line 181, in _decorator\n",
      "    return loop_run(self, *args, **kwargs)\n",
      "  File \"/Users/jjaniak/anaconda3/envs/studia_projekt/lib/python3.8/site-packages/pytorch_lightning/loops/evaluation_loop.py\", line 134, in run\n",
      "    self._evaluation_step(batch, batch_idx, dataloader_idx, dataloader_iter)\n",
      "  File \"/Users/jjaniak/anaconda3/envs/studia_projekt/lib/python3.8/site-packages/pytorch_lightning/loops/evaluation_loop.py\", line 391, in _evaluation_step\n",
      "    output = call._call_strategy_hook(trainer, hook_name, *step_args)\n",
      "  File \"/Users/jjaniak/anaconda3/envs/studia_projekt/lib/python3.8/site-packages/pytorch_lightning/trainer/call.py\", line 309, in _call_strategy_hook\n",
      "    output = fn(*args, **kwargs)\n",
      "  File \"/Users/jjaniak/anaconda3/envs/studia_projekt/lib/python3.8/site-packages/pytorch_lightning/strategies/strategy.py\", line 403, in validation_step\n",
      "    return self.lightning_module.validation_step(*args, **kwargs)\n",
      "  File \"/Users/jjaniak/Documents/studia/projekt/gradient/notebooks/downstream_tasks/../../src/lightning/hetero_gnn_module.py\", line 57, in validation_step\n",
      "    y_hat = self.model(batch.x_dict, batch.edge_index_dict, batch.edge_attr_dict)\n",
      "  File \"/Users/jjaniak/anaconda3/envs/studia_projekt/lib/python3.8/site-packages/torch/nn/modules/module.py\", line 1518, in _wrapped_call_impl\n",
      "    return self._call_impl(*args, **kwargs)\n",
      "  File \"/Users/jjaniak/anaconda3/envs/studia_projekt/lib/python3.8/site-packages/torch/nn/modules/module.py\", line 1527, in _call_impl\n",
      "    return forward_call(*args, **kwargs)\n",
      "  File \"/Users/jjaniak/Documents/studia/projekt/gradient/notebooks/downstream_tasks/../../src/baseline_models/HeteroGNN/HeteroGNN.py\", line 59, in forward\n",
      "    value = self._forward(x_dict, edge_index_dict, edge_atrr_dict)\n",
      "  File \"/Users/jjaniak/Documents/studia/projekt/gradient/notebooks/downstream_tasks/../../src/baseline_models/HeteroGNN/HeteroGNN.py\", line 74, in _forward\n",
      "    x_dict = conv(x_dict, edge_index_dict, edge_atrr_dict)\n",
      "  File \"/Users/jjaniak/anaconda3/envs/studia_projekt/lib/python3.8/site-packages/torch/nn/modules/module.py\", line 1518, in _wrapped_call_impl\n",
      "    return self._call_impl(*args, **kwargs)\n",
      "  File \"/Users/jjaniak/anaconda3/envs/studia_projekt/lib/python3.8/site-packages/torch/nn/modules/module.py\", line 1527, in _call_impl\n",
      "    return forward_call(*args, **kwargs)\n",
      "  File \"/Users/jjaniak/anaconda3/envs/studia_projekt/lib/python3.8/site-packages/torch_geometric/nn/conv/hetero_conv.py\", line 159, in forward\n",
      "    out = self.convs[edge_type](*args, **kwargs)\n",
      "  File \"/Users/jjaniak/anaconda3/envs/studia_projekt/lib/python3.8/site-packages/torch/nn/modules/module.py\", line 1518, in _wrapped_call_impl\n",
      "    return self._call_impl(*args, **kwargs)\n",
      "  File \"/Users/jjaniak/anaconda3/envs/studia_projekt/lib/python3.8/site-packages/torch/nn/modules/module.py\", line 1527, in _call_impl\n",
      "    return forward_call(*args, **kwargs)\n",
      "  File \"/Users/jjaniak/anaconda3/envs/studia_projekt/lib/python3.8/site-packages/torch_geometric/nn/conv/gat_conv.py\", line 213, in forward\n",
      "    x_src = x_dst = self.lin_src(x).view(-1, H, C)\n",
      "  File \"/Users/jjaniak/anaconda3/envs/studia_projekt/lib/python3.8/site-packages/torch/nn/modules/module.py\", line 1518, in _wrapped_call_impl\n",
      "    return self._call_impl(*args, **kwargs)\n",
      "  File \"/Users/jjaniak/anaconda3/envs/studia_projekt/lib/python3.8/site-packages/torch/nn/modules/module.py\", line 1527, in _call_impl\n",
      "    return forward_call(*args, **kwargs)\n",
      "  File \"/Users/jjaniak/anaconda3/envs/studia_projekt/lib/python3.8/site-packages/torch_geometric/nn/dense/linear.py\", line 130, in forward\n",
      "    return F.linear(x, self.weight, self.bias)\n",
      "RuntimeError: [srcBuf length] > 0 INTERNAL ASSERT FAILED at \"/Users/runner/work/pytorch/pytorch/pytorch/aten/src/ATen/native/mps/OperationUtils.mm\":327, please report a bug to PyTorch. Placeholder tensor is empty!\n",
      "\n",
      "\u001b[34m\u001b[1mwandb\u001b[0m: \u001b[32m\u001b[41mERROR\u001b[0m Run m1y2ke5y errored:\n",
      "\u001b[34m\u001b[1mwandb\u001b[0m: \u001b[32m\u001b[41mERROR\u001b[0m Traceback (most recent call last):\n",
      "\u001b[34m\u001b[1mwandb\u001b[0m: \u001b[32m\u001b[41mERROR\u001b[0m   File \"/Users/jjaniak/anaconda3/envs/studia_projekt/lib/python3.8/site-packages/wandb/agents/pyagent.py\", line 308, in _run_job\n",
      "\u001b[34m\u001b[1mwandb\u001b[0m: \u001b[32m\u001b[41mERROR\u001b[0m     self._function()\n",
      "\u001b[34m\u001b[1mwandb\u001b[0m: \u001b[32m\u001b[41mERROR\u001b[0m   File \"/var/folders/4k/8js3jm9n457cm4_v631zyrkw0000gn/T/ipykernel_37726/1604121319.py\", line 62, in wrapped\n",
      "\u001b[34m\u001b[1mwandb\u001b[0m: \u001b[32m\u001b[41mERROR\u001b[0m     auc, accuracy, f1, model_path = train(\n",
      "\u001b[34m\u001b[1mwandb\u001b[0m: \u001b[32m\u001b[41mERROR\u001b[0m   File \"/Users/jjaniak/Documents/studia/projekt/gradient/notebooks/downstream_tasks/../../src/training/train.py\", line 64, in train\n",
      "\u001b[34m\u001b[1mwandb\u001b[0m: \u001b[32m\u001b[41mERROR\u001b[0m     trainer.fit(model, train_loader, val_loader)\n",
      "\u001b[34m\u001b[1mwandb\u001b[0m: \u001b[32m\u001b[41mERROR\u001b[0m   File \"/Users/jjaniak/anaconda3/envs/studia_projekt/lib/python3.8/site-packages/pytorch_lightning/trainer/trainer.py\", line 545, in fit\n",
      "\u001b[34m\u001b[1mwandb\u001b[0m: \u001b[32m\u001b[41mERROR\u001b[0m     call._call_and_handle_interrupt(\n",
      "\u001b[34m\u001b[1mwandb\u001b[0m: \u001b[32m\u001b[41mERROR\u001b[0m   File \"/Users/jjaniak/anaconda3/envs/studia_projekt/lib/python3.8/site-packages/pytorch_lightning/trainer/call.py\", line 44, in _call_and_handle_interrupt\n",
      "\u001b[34m\u001b[1mwandb\u001b[0m: \u001b[32m\u001b[41mERROR\u001b[0m     return trainer_fn(*args, **kwargs)\n",
      "\u001b[34m\u001b[1mwandb\u001b[0m: \u001b[32m\u001b[41mERROR\u001b[0m   File \"/Users/jjaniak/anaconda3/envs/studia_projekt/lib/python3.8/site-packages/pytorch_lightning/trainer/trainer.py\", line 581, in _fit_impl\n",
      "\u001b[34m\u001b[1mwandb\u001b[0m: \u001b[32m\u001b[41mERROR\u001b[0m     self._run(model, ckpt_path=ckpt_path)\n",
      "\u001b[34m\u001b[1mwandb\u001b[0m: \u001b[32m\u001b[41mERROR\u001b[0m   File \"/Users/jjaniak/anaconda3/envs/studia_projekt/lib/python3.8/site-packages/pytorch_lightning/trainer/trainer.py\", line 990, in _run\n",
      "\u001b[34m\u001b[1mwandb\u001b[0m: \u001b[32m\u001b[41mERROR\u001b[0m     results = self._run_stage()\n",
      "\u001b[34m\u001b[1mwandb\u001b[0m: \u001b[32m\u001b[41mERROR\u001b[0m   File \"/Users/jjaniak/anaconda3/envs/studia_projekt/lib/python3.8/site-packages/pytorch_lightning/trainer/trainer.py\", line 1034, in _run_stage\n",
      "\u001b[34m\u001b[1mwandb\u001b[0m: \u001b[32m\u001b[41mERROR\u001b[0m     self._run_sanity_check()\n",
      "\u001b[34m\u001b[1mwandb\u001b[0m: \u001b[32m\u001b[41mERROR\u001b[0m   File \"/Users/jjaniak/anaconda3/envs/studia_projekt/lib/python3.8/site-packages/pytorch_lightning/trainer/trainer.py\", line 1063, in _run_sanity_check\n",
      "\u001b[34m\u001b[1mwandb\u001b[0m: \u001b[32m\u001b[41mERROR\u001b[0m     val_loop.run()\n",
      "\u001b[34m\u001b[1mwandb\u001b[0m: \u001b[32m\u001b[41mERROR\u001b[0m   File \"/Users/jjaniak/anaconda3/envs/studia_projekt/lib/python3.8/site-packages/pytorch_lightning/loops/utilities.py\", line 181, in _decorator\n",
      "\u001b[34m\u001b[1mwandb\u001b[0m: \u001b[32m\u001b[41mERROR\u001b[0m     return loop_run(self, *args, **kwargs)\n",
      "\u001b[34m\u001b[1mwandb\u001b[0m: \u001b[32m\u001b[41mERROR\u001b[0m   File \"/Users/jjaniak/anaconda3/envs/studia_projekt/lib/python3.8/site-packages/pytorch_lightning/loops/evaluation_loop.py\", line 134, in run\n",
      "\u001b[34m\u001b[1mwandb\u001b[0m: \u001b[32m\u001b[41mERROR\u001b[0m     self._evaluation_step(batch, batch_idx, dataloader_idx, dataloader_iter)\n",
      "\u001b[34m\u001b[1mwandb\u001b[0m: \u001b[32m\u001b[41mERROR\u001b[0m   File \"/Users/jjaniak/anaconda3/envs/studia_projekt/lib/python3.8/site-packages/pytorch_lightning/loops/evaluation_loop.py\", line 391, in _evaluation_step\n",
      "\u001b[34m\u001b[1mwandb\u001b[0m: \u001b[32m\u001b[41mERROR\u001b[0m     output = call._call_strategy_hook(trainer, hook_name, *step_args)\n",
      "\u001b[34m\u001b[1mwandb\u001b[0m: \u001b[32m\u001b[41mERROR\u001b[0m   File \"/Users/jjaniak/anaconda3/envs/studia_projekt/lib/python3.8/site-packages/pytorch_lightning/trainer/call.py\", line 309, in _call_strategy_hook\n",
      "\u001b[34m\u001b[1mwandb\u001b[0m: \u001b[32m\u001b[41mERROR\u001b[0m     output = fn(*args, **kwargs)\n",
      "\u001b[34m\u001b[1mwandb\u001b[0m: \u001b[32m\u001b[41mERROR\u001b[0m   File \"/Users/jjaniak/anaconda3/envs/studia_projekt/lib/python3.8/site-packages/pytorch_lightning/strategies/strategy.py\", line 403, in validation_step\n",
      "\u001b[34m\u001b[1mwandb\u001b[0m: \u001b[32m\u001b[41mERROR\u001b[0m     return self.lightning_module.validation_step(*args, **kwargs)\n",
      "\u001b[34m\u001b[1mwandb\u001b[0m: \u001b[32m\u001b[41mERROR\u001b[0m   File \"/Users/jjaniak/Documents/studia/projekt/gradient/notebooks/downstream_tasks/../../src/lightning/hetero_gnn_module.py\", line 57, in validation_step\n",
      "\u001b[34m\u001b[1mwandb\u001b[0m: \u001b[32m\u001b[41mERROR\u001b[0m     y_hat = self.model(batch.x_dict, batch.edge_index_dict, batch.edge_attr_dict)\n",
      "\u001b[34m\u001b[1mwandb\u001b[0m: \u001b[32m\u001b[41mERROR\u001b[0m   File \"/Users/jjaniak/anaconda3/envs/studia_projekt/lib/python3.8/site-packages/torch/nn/modules/module.py\", line 1518, in _wrapped_call_impl\n",
      "\u001b[34m\u001b[1mwandb\u001b[0m: \u001b[32m\u001b[41mERROR\u001b[0m     return self._call_impl(*args, **kwargs)\n",
      "\u001b[34m\u001b[1mwandb\u001b[0m: \u001b[32m\u001b[41mERROR\u001b[0m   File \"/Users/jjaniak/anaconda3/envs/studia_projekt/lib/python3.8/site-packages/torch/nn/modules/module.py\", line 1527, in _call_impl\n",
      "\u001b[34m\u001b[1mwandb\u001b[0m: \u001b[32m\u001b[41mERROR\u001b[0m     return forward_call(*args, **kwargs)\n",
      "\u001b[34m\u001b[1mwandb\u001b[0m: \u001b[32m\u001b[41mERROR\u001b[0m   File \"/Users/jjaniak/Documents/studia/projekt/gradient/notebooks/downstream_tasks/../../src/baseline_models/HeteroGNN/HeteroGNN.py\", line 59, in forward\n",
      "\u001b[34m\u001b[1mwandb\u001b[0m: \u001b[32m\u001b[41mERROR\u001b[0m     value = self._forward(x_dict, edge_index_dict, edge_atrr_dict)\n",
      "\u001b[34m\u001b[1mwandb\u001b[0m: \u001b[32m\u001b[41mERROR\u001b[0m   File \"/Users/jjaniak/Documents/studia/projekt/gradient/notebooks/downstream_tasks/../../src/baseline_models/HeteroGNN/HeteroGNN.py\", line 74, in _forward\n",
      "\u001b[34m\u001b[1mwandb\u001b[0m: \u001b[32m\u001b[41mERROR\u001b[0m     x_dict = conv(x_dict, edge_index_dict, edge_atrr_dict)\n",
      "\u001b[34m\u001b[1mwandb\u001b[0m: \u001b[32m\u001b[41mERROR\u001b[0m   File \"/Users/jjaniak/anaconda3/envs/studia_projekt/lib/python3.8/site-packages/torch/nn/modules/module.py\", line 1518, in _wrapped_call_impl\n",
      "\u001b[34m\u001b[1mwandb\u001b[0m: \u001b[32m\u001b[41mERROR\u001b[0m     return self._call_impl(*args, **kwargs)\n",
      "\u001b[34m\u001b[1mwandb\u001b[0m: \u001b[32m\u001b[41mERROR\u001b[0m   File \"/Users/jjaniak/anaconda3/envs/studia_projekt/lib/python3.8/site-packages/torch/nn/modules/module.py\", line 1527, in _call_impl\n",
      "\u001b[34m\u001b[1mwandb\u001b[0m: \u001b[32m\u001b[41mERROR\u001b[0m     return forward_call(*args, **kwargs)\n",
      "\u001b[34m\u001b[1mwandb\u001b[0m: \u001b[32m\u001b[41mERROR\u001b[0m   File \"/Users/jjaniak/anaconda3/envs/studia_projekt/lib/python3.8/site-packages/torch_geometric/nn/conv/hetero_conv.py\", line 159, in forward\n",
      "\u001b[34m\u001b[1mwandb\u001b[0m: \u001b[32m\u001b[41mERROR\u001b[0m     out = self.convs[edge_type](*args, **kwargs)\n",
      "\u001b[34m\u001b[1mwandb\u001b[0m: \u001b[32m\u001b[41mERROR\u001b[0m   File \"/Users/jjaniak/anaconda3/envs/studia_projekt/lib/python3.8/site-packages/torch/nn/modules/module.py\", line 1518, in _wrapped_call_impl\n",
      "\u001b[34m\u001b[1mwandb\u001b[0m: \u001b[32m\u001b[41mERROR\u001b[0m     return self._call_impl(*args, **kwargs)\n",
      "\u001b[34m\u001b[1mwandb\u001b[0m: \u001b[32m\u001b[41mERROR\u001b[0m   File \"/Users/jjaniak/anaconda3/envs/studia_projekt/lib/python3.8/site-packages/torch/nn/modules/module.py\", line 1527, in _call_impl\n",
      "\u001b[34m\u001b[1mwandb\u001b[0m: \u001b[32m\u001b[41mERROR\u001b[0m     return forward_call(*args, **kwargs)\n",
      "\u001b[34m\u001b[1mwandb\u001b[0m: \u001b[32m\u001b[41mERROR\u001b[0m   File \"/Users/jjaniak/anaconda3/envs/studia_projekt/lib/python3.8/site-packages/torch_geometric/nn/conv/gat_conv.py\", line 213, in forward\n",
      "\u001b[34m\u001b[1mwandb\u001b[0m: \u001b[32m\u001b[41mERROR\u001b[0m     x_src = x_dst = self.lin_src(x).view(-1, H, C)\n",
      "\u001b[34m\u001b[1mwandb\u001b[0m: \u001b[32m\u001b[41mERROR\u001b[0m   File \"/Users/jjaniak/anaconda3/envs/studia_projekt/lib/python3.8/site-packages/torch/nn/modules/module.py\", line 1518, in _wrapped_call_impl\n",
      "\u001b[34m\u001b[1mwandb\u001b[0m: \u001b[32m\u001b[41mERROR\u001b[0m     return self._call_impl(*args, **kwargs)\n",
      "\u001b[34m\u001b[1mwandb\u001b[0m: \u001b[32m\u001b[41mERROR\u001b[0m   File \"/Users/jjaniak/anaconda3/envs/studia_projekt/lib/python3.8/site-packages/torch/nn/modules/module.py\", line 1527, in _call_impl\n",
      "\u001b[34m\u001b[1mwandb\u001b[0m: \u001b[32m\u001b[41mERROR\u001b[0m     return forward_call(*args, **kwargs)\n",
      "\u001b[34m\u001b[1mwandb\u001b[0m: \u001b[32m\u001b[41mERROR\u001b[0m   File \"/Users/jjaniak/anaconda3/envs/studia_projekt/lib/python3.8/site-packages/torch_geometric/nn/dense/linear.py\", line 130, in forward\n",
      "\u001b[34m\u001b[1mwandb\u001b[0m: \u001b[32m\u001b[41mERROR\u001b[0m     return F.linear(x, self.weight, self.bias)\n",
      "\u001b[34m\u001b[1mwandb\u001b[0m: \u001b[32m\u001b[41mERROR\u001b[0m RuntimeError: [srcBuf length] > 0 INTERNAL ASSERT FAILED at \"/Users/runner/work/pytorch/pytorch/pytorch/aten/src/ATen/native/mps/OperationUtils.mm\":327, please report a bug to PyTorch. Placeholder tensor is empty!\n",
      "\u001b[34m\u001b[1mwandb\u001b[0m: \u001b[32m\u001b[41mERROR\u001b[0m \n",
      "\u001b[34m\u001b[1mwandb\u001b[0m: Sweep Agent: Waiting for job.\n",
      "\u001b[34m\u001b[1mwandb\u001b[0m: Job received.\n",
      "\u001b[34m\u001b[1mwandb\u001b[0m: Agent Starting Run: be09oqcc with config:\n",
      "\u001b[34m\u001b[1mwandb\u001b[0m: \thidden_channels: 40\n",
      "\u001b[34m\u001b[1mwandb\u001b[0m: \tlearning_rate: 0.00563320045797044\n",
      "\u001b[34m\u001b[1mwandb\u001b[0m: \tlin_layer_size: 64\n",
      "\u001b[34m\u001b[1mwandb\u001b[0m: \tnum_conv_layers: 4\n",
      "\u001b[34m\u001b[1mwandb\u001b[0m: \tnum_lin_layers: 4\n",
      "\u001b[34m\u001b[1mwandb\u001b[0m: \tweight_decay: 7.951305215500928e-05\n",
      "Failed to detect the name of this notebook, you can set it manually with the WANDB_NOTEBOOK_NAME environment variable to enable code saving.\n"
     ]
    },
    {
     "data": {
      "text/html": [
       "wandb version 0.17.0 is available!  To upgrade, please run:\n",
       " $ pip install wandb --upgrade"
      ],
      "text/plain": [
       "<IPython.core.display.HTML object>"
      ]
     },
     "metadata": {},
     "output_type": "display_data"
    },
    {
     "data": {
      "text/html": [
       "Tracking run with wandb version 0.16.4"
      ],
      "text/plain": [
       "<IPython.core.display.HTML object>"
      ]
     },
     "metadata": {},
     "output_type": "display_data"
    },
    {
     "data": {
      "text/html": [
       "Run data is saved locally in <code>/Users/jjaniak/Documents/studia/projekt/gradient/notebooks/downstream_tasks/wandb/run-20240604_115512-be09oqcc</code>"
      ],
      "text/plain": [
       "<IPython.core.display.HTML object>"
      ]
     },
     "metadata": {},
     "output_type": "display_data"
    },
    {
     "data": {
      "text/html": [
       "Syncing run <strong><a href='https://wandb.ai/gradient_pwr/zabka-downstream-task/runs/be09oqcc' target=\"_blank\">good-sweep-3</a></strong> to <a href='https://wandb.ai/gradient_pwr/zabka-downstream-task' target=\"_blank\">Weights & Biases</a> (<a href='https://wandb.me/run' target=\"_blank\">docs</a>)<br/>Sweep page: <a href='https://wandb.ai/gradient_pwr/zabka-downstream-task/sweeps/xfv6c74m' target=\"_blank\">https://wandb.ai/gradient_pwr/zabka-downstream-task/sweeps/xfv6c74m</a>"
      ],
      "text/plain": [
       "<IPython.core.display.HTML object>"
      ]
     },
     "metadata": {},
     "output_type": "display_data"
    },
    {
     "data": {
      "text/html": [
       " View project at <a href='https://wandb.ai/gradient_pwr/zabka-downstream-task' target=\"_blank\">https://wandb.ai/gradient_pwr/zabka-downstream-task</a>"
      ],
      "text/plain": [
       "<IPython.core.display.HTML object>"
      ]
     },
     "metadata": {},
     "output_type": "display_data"
    },
    {
     "data": {
      "text/html": [
       " View sweep at <a href='https://wandb.ai/gradient_pwr/zabka-downstream-task/sweeps/xfv6c74m' target=\"_blank\">https://wandb.ai/gradient_pwr/zabka-downstream-task/sweeps/xfv6c74m</a>"
      ],
      "text/plain": [
       "<IPython.core.display.HTML object>"
      ]
     },
     "metadata": {},
     "output_type": "display_data"
    },
    {
     "data": {
      "text/html": [
       " View run at <a href='https://wandb.ai/gradient_pwr/zabka-downstream-task/runs/be09oqcc' target=\"_blank\">https://wandb.ai/gradient_pwr/zabka-downstream-task/runs/be09oqcc</a>"
      ],
      "text/plain": [
       "<IPython.core.display.HTML object>"
      ]
     },
     "metadata": {},
     "output_type": "display_data"
    },
    {
     "name": "stderr",
     "output_type": "stream",
     "text": [
      "/Users/jjaniak/anaconda3/envs/studia_projekt/lib/python3.8/site-packages/torch_geometric/deprecation.py:22: UserWarning: 'data.DataLoader' is deprecated, use 'loader.DataLoader' instead\n",
      "  warnings.warn(out)\n",
      "GPU available: True (mps), used: True\n",
      "TPU available: False, using: 0 TPU cores\n",
      "IPU available: False, using: 0 IPUs\n",
      "HPU available: False, using: 0 HPUs\n",
      "Missing logger folder: ../../gradient_logs/2024_06_04_11_55_17/lightning_logs\n",
      "\n",
      "  | Name  | Type      | Params\n",
      "------------------------------------\n",
      "0 | model | HeteroGNN | 60.5 K\n",
      "------------------------------------\n",
      "60.5 K    Trainable params\n",
      "0         Non-trainable params\n",
      "60.5 K    Total params\n",
      "0.242     Total estimated model params size (MB)\n"
     ]
    },
    {
     "data": {
      "application/vnd.jupyter.widget-view+json": {
       "model_id": "8509376de3874387a4ba388d9f40f250",
       "version_major": 2,
       "version_minor": 0
      },
      "text/plain": [
       "Sanity Checking: |          | 0/? [00:00<?, ?it/s]"
      ]
     },
     "metadata": {},
     "output_type": "display_data"
    },
    {
     "name": "stderr",
     "output_type": "stream",
     "text": [
      "/Users/jjaniak/anaconda3/envs/studia_projekt/lib/python3.8/site-packages/pytorch_lightning/trainer/connectors/data_connector.py:441: The 'val_dataloader' does not have many workers which may be a bottleneck. Consider increasing the value of the `num_workers` argument` to `num_workers=11` in the `DataLoader` to improve performance.\n"
     ]
    },
    {
     "data": {
      "application/vnd.jupyter.widget-view+json": {
       "model_id": "6f2e273828ba4e198fbb03a271734f4a",
       "version_major": 2,
       "version_minor": 0
      },
      "text/plain": [
       "VBox(children=(Label(value='0.001 MB of 0.001 MB uploaded\\r'), FloatProgress(value=1.0, max=1.0)))"
      ]
     },
     "metadata": {},
     "output_type": "display_data"
    },
    {
     "data": {
      "text/html": [
       "<style>\n",
       "    table.wandb td:nth-child(1) { padding: 0 10px; text-align: left ; width: auto;} td:nth-child(2) {text-align: left ; width: 100%}\n",
       "    .wandb-row { display: flex; flex-direction: row; flex-wrap: wrap; justify-content: flex-start; width: 100% }\n",
       "    .wandb-col { display: flex; flex-direction: column; flex-basis: 100%; flex: 1; padding: 10px; }\n",
       "    </style>\n",
       "<div class=\"wandb-row\"><div class=\"wandb-col\"><h3>Run history:</h3><br/><table class=\"wandb\"><tr><td>USE_HEXES_ATTRS</td><td>▁</td></tr><tr><td>USE_ORTOPHOTO</td><td>▁</td></tr><tr><td>USE_OSMNX_ATTRS</td><td>▁</td></tr></table><br/></div><div class=\"wandb-col\"><h3>Run summary:</h3><br/><table class=\"wandb\"><tr><td>USE_HEXES_ATTRS</td><td>0</td></tr><tr><td>USE_ORTOPHOTO</td><td>0</td></tr><tr><td>USE_OSMNX_ATTRS</td><td>1</td></tr><tr><td>data_structure</td><td>graph</td></tr></table><br/></div></div>"
      ],
      "text/plain": [
       "<IPython.core.display.HTML object>"
      ]
     },
     "metadata": {},
     "output_type": "display_data"
    },
    {
     "data": {
      "text/html": [
       " View run <strong style=\"color:#cdcd00\">good-sweep-3</strong> at: <a href='https://wandb.ai/gradient_pwr/zabka-downstream-task/runs/be09oqcc' target=\"_blank\">https://wandb.ai/gradient_pwr/zabka-downstream-task/runs/be09oqcc</a><br/>Synced 6 W&B file(s), 0 media file(s), 0 artifact file(s) and 0 other file(s)"
      ],
      "text/plain": [
       "<IPython.core.display.HTML object>"
      ]
     },
     "metadata": {},
     "output_type": "display_data"
    },
    {
     "data": {
      "text/html": [
       "Find logs at: <code>./wandb/run-20240604_115512-be09oqcc/logs</code>"
      ],
      "text/plain": [
       "<IPython.core.display.HTML object>"
      ]
     },
     "metadata": {},
     "output_type": "display_data"
    },
    {
     "name": "stderr",
     "output_type": "stream",
     "text": [
      "Run be09oqcc errored:\n",
      "Traceback (most recent call last):\n",
      "  File \"/Users/jjaniak/anaconda3/envs/studia_projekt/lib/python3.8/site-packages/wandb/agents/pyagent.py\", line 308, in _run_job\n",
      "    self._function()\n",
      "  File \"/var/folders/4k/8js3jm9n457cm4_v631zyrkw0000gn/T/ipykernel_37726/1604121319.py\", line 62, in wrapped\n",
      "    auc, accuracy, f1, model_path = train(\n",
      "  File \"/Users/jjaniak/Documents/studia/projekt/gradient/notebooks/downstream_tasks/../../src/training/train.py\", line 64, in train\n",
      "    trainer.fit(model, train_loader, val_loader)\n",
      "  File \"/Users/jjaniak/anaconda3/envs/studia_projekt/lib/python3.8/site-packages/pytorch_lightning/trainer/trainer.py\", line 545, in fit\n",
      "    call._call_and_handle_interrupt(\n",
      "  File \"/Users/jjaniak/anaconda3/envs/studia_projekt/lib/python3.8/site-packages/pytorch_lightning/trainer/call.py\", line 44, in _call_and_handle_interrupt\n",
      "    return trainer_fn(*args, **kwargs)\n",
      "  File \"/Users/jjaniak/anaconda3/envs/studia_projekt/lib/python3.8/site-packages/pytorch_lightning/trainer/trainer.py\", line 581, in _fit_impl\n",
      "    self._run(model, ckpt_path=ckpt_path)\n",
      "  File \"/Users/jjaniak/anaconda3/envs/studia_projekt/lib/python3.8/site-packages/pytorch_lightning/trainer/trainer.py\", line 990, in _run\n",
      "    results = self._run_stage()\n",
      "  File \"/Users/jjaniak/anaconda3/envs/studia_projekt/lib/python3.8/site-packages/pytorch_lightning/trainer/trainer.py\", line 1034, in _run_stage\n",
      "    self._run_sanity_check()\n",
      "  File \"/Users/jjaniak/anaconda3/envs/studia_projekt/lib/python3.8/site-packages/pytorch_lightning/trainer/trainer.py\", line 1063, in _run_sanity_check\n",
      "    val_loop.run()\n",
      "  File \"/Users/jjaniak/anaconda3/envs/studia_projekt/lib/python3.8/site-packages/pytorch_lightning/loops/utilities.py\", line 181, in _decorator\n",
      "    return loop_run(self, *args, **kwargs)\n",
      "  File \"/Users/jjaniak/anaconda3/envs/studia_projekt/lib/python3.8/site-packages/pytorch_lightning/loops/evaluation_loop.py\", line 134, in run\n",
      "    self._evaluation_step(batch, batch_idx, dataloader_idx, dataloader_iter)\n",
      "  File \"/Users/jjaniak/anaconda3/envs/studia_projekt/lib/python3.8/site-packages/pytorch_lightning/loops/evaluation_loop.py\", line 391, in _evaluation_step\n",
      "    output = call._call_strategy_hook(trainer, hook_name, *step_args)\n",
      "  File \"/Users/jjaniak/anaconda3/envs/studia_projekt/lib/python3.8/site-packages/pytorch_lightning/trainer/call.py\", line 309, in _call_strategy_hook\n",
      "    output = fn(*args, **kwargs)\n",
      "  File \"/Users/jjaniak/anaconda3/envs/studia_projekt/lib/python3.8/site-packages/pytorch_lightning/strategies/strategy.py\", line 403, in validation_step\n",
      "    return self.lightning_module.validation_step(*args, **kwargs)\n",
      "  File \"/Users/jjaniak/Documents/studia/projekt/gradient/notebooks/downstream_tasks/../../src/lightning/hetero_gnn_module.py\", line 57, in validation_step\n",
      "    y_hat = self.model(batch.x_dict, batch.edge_index_dict, batch.edge_attr_dict)\n",
      "  File \"/Users/jjaniak/anaconda3/envs/studia_projekt/lib/python3.8/site-packages/torch/nn/modules/module.py\", line 1518, in _wrapped_call_impl\n",
      "    return self._call_impl(*args, **kwargs)\n",
      "  File \"/Users/jjaniak/anaconda3/envs/studia_projekt/lib/python3.8/site-packages/torch/nn/modules/module.py\", line 1527, in _call_impl\n",
      "    return forward_call(*args, **kwargs)\n",
      "  File \"/Users/jjaniak/Documents/studia/projekt/gradient/notebooks/downstream_tasks/../../src/baseline_models/HeteroGNN/HeteroGNN.py\", line 59, in forward\n",
      "    value = self._forward(x_dict, edge_index_dict, edge_atrr_dict)\n",
      "  File \"/Users/jjaniak/Documents/studia/projekt/gradient/notebooks/downstream_tasks/../../src/baseline_models/HeteroGNN/HeteroGNN.py\", line 74, in _forward\n",
      "    x_dict = conv(x_dict, edge_index_dict, edge_atrr_dict)\n",
      "  File \"/Users/jjaniak/anaconda3/envs/studia_projekt/lib/python3.8/site-packages/torch/nn/modules/module.py\", line 1518, in _wrapped_call_impl\n",
      "    return self._call_impl(*args, **kwargs)\n",
      "  File \"/Users/jjaniak/anaconda3/envs/studia_projekt/lib/python3.8/site-packages/torch/nn/modules/module.py\", line 1527, in _call_impl\n",
      "    return forward_call(*args, **kwargs)\n",
      "  File \"/Users/jjaniak/anaconda3/envs/studia_projekt/lib/python3.8/site-packages/torch_geometric/nn/conv/hetero_conv.py\", line 159, in forward\n",
      "    out = self.convs[edge_type](*args, **kwargs)\n",
      "  File \"/Users/jjaniak/anaconda3/envs/studia_projekt/lib/python3.8/site-packages/torch/nn/modules/module.py\", line 1518, in _wrapped_call_impl\n",
      "    return self._call_impl(*args, **kwargs)\n",
      "  File \"/Users/jjaniak/anaconda3/envs/studia_projekt/lib/python3.8/site-packages/torch/nn/modules/module.py\", line 1527, in _call_impl\n",
      "    return forward_call(*args, **kwargs)\n",
      "  File \"/Users/jjaniak/anaconda3/envs/studia_projekt/lib/python3.8/site-packages/torch_geometric/nn/conv/gat_conv.py\", line 213, in forward\n",
      "    x_src = x_dst = self.lin_src(x).view(-1, H, C)\n",
      "  File \"/Users/jjaniak/anaconda3/envs/studia_projekt/lib/python3.8/site-packages/torch/nn/modules/module.py\", line 1518, in _wrapped_call_impl\n",
      "    return self._call_impl(*args, **kwargs)\n",
      "  File \"/Users/jjaniak/anaconda3/envs/studia_projekt/lib/python3.8/site-packages/torch/nn/modules/module.py\", line 1527, in _call_impl\n",
      "    return forward_call(*args, **kwargs)\n",
      "  File \"/Users/jjaniak/anaconda3/envs/studia_projekt/lib/python3.8/site-packages/torch_geometric/nn/dense/linear.py\", line 130, in forward\n",
      "    return F.linear(x, self.weight, self.bias)\n",
      "RuntimeError: [srcBuf length] > 0 INTERNAL ASSERT FAILED at \"/Users/runner/work/pytorch/pytorch/pytorch/aten/src/ATen/native/mps/OperationUtils.mm\":327, please report a bug to PyTorch. Placeholder tensor is empty!\n",
      "\n",
      "\u001b[34m\u001b[1mwandb\u001b[0m: \u001b[32m\u001b[41mERROR\u001b[0m Run be09oqcc errored:\n",
      "\u001b[34m\u001b[1mwandb\u001b[0m: \u001b[32m\u001b[41mERROR\u001b[0m Traceback (most recent call last):\n",
      "\u001b[34m\u001b[1mwandb\u001b[0m: \u001b[32m\u001b[41mERROR\u001b[0m   File \"/Users/jjaniak/anaconda3/envs/studia_projekt/lib/python3.8/site-packages/wandb/agents/pyagent.py\", line 308, in _run_job\n",
      "\u001b[34m\u001b[1mwandb\u001b[0m: \u001b[32m\u001b[41mERROR\u001b[0m     self._function()\n",
      "\u001b[34m\u001b[1mwandb\u001b[0m: \u001b[32m\u001b[41mERROR\u001b[0m   File \"/var/folders/4k/8js3jm9n457cm4_v631zyrkw0000gn/T/ipykernel_37726/1604121319.py\", line 62, in wrapped\n",
      "\u001b[34m\u001b[1mwandb\u001b[0m: \u001b[32m\u001b[41mERROR\u001b[0m     auc, accuracy, f1, model_path = train(\n",
      "\u001b[34m\u001b[1mwandb\u001b[0m: \u001b[32m\u001b[41mERROR\u001b[0m   File \"/Users/jjaniak/Documents/studia/projekt/gradient/notebooks/downstream_tasks/../../src/training/train.py\", line 64, in train\n",
      "\u001b[34m\u001b[1mwandb\u001b[0m: \u001b[32m\u001b[41mERROR\u001b[0m     trainer.fit(model, train_loader, val_loader)\n",
      "\u001b[34m\u001b[1mwandb\u001b[0m: \u001b[32m\u001b[41mERROR\u001b[0m   File \"/Users/jjaniak/anaconda3/envs/studia_projekt/lib/python3.8/site-packages/pytorch_lightning/trainer/trainer.py\", line 545, in fit\n",
      "\u001b[34m\u001b[1mwandb\u001b[0m: \u001b[32m\u001b[41mERROR\u001b[0m     call._call_and_handle_interrupt(\n",
      "\u001b[34m\u001b[1mwandb\u001b[0m: \u001b[32m\u001b[41mERROR\u001b[0m   File \"/Users/jjaniak/anaconda3/envs/studia_projekt/lib/python3.8/site-packages/pytorch_lightning/trainer/call.py\", line 44, in _call_and_handle_interrupt\n",
      "\u001b[34m\u001b[1mwandb\u001b[0m: \u001b[32m\u001b[41mERROR\u001b[0m     return trainer_fn(*args, **kwargs)\n",
      "\u001b[34m\u001b[1mwandb\u001b[0m: \u001b[32m\u001b[41mERROR\u001b[0m   File \"/Users/jjaniak/anaconda3/envs/studia_projekt/lib/python3.8/site-packages/pytorch_lightning/trainer/trainer.py\", line 581, in _fit_impl\n",
      "\u001b[34m\u001b[1mwandb\u001b[0m: \u001b[32m\u001b[41mERROR\u001b[0m     self._run(model, ckpt_path=ckpt_path)\n",
      "\u001b[34m\u001b[1mwandb\u001b[0m: \u001b[32m\u001b[41mERROR\u001b[0m   File \"/Users/jjaniak/anaconda3/envs/studia_projekt/lib/python3.8/site-packages/pytorch_lightning/trainer/trainer.py\", line 990, in _run\n",
      "\u001b[34m\u001b[1mwandb\u001b[0m: \u001b[32m\u001b[41mERROR\u001b[0m     results = self._run_stage()\n",
      "\u001b[34m\u001b[1mwandb\u001b[0m: \u001b[32m\u001b[41mERROR\u001b[0m   File \"/Users/jjaniak/anaconda3/envs/studia_projekt/lib/python3.8/site-packages/pytorch_lightning/trainer/trainer.py\", line 1034, in _run_stage\n",
      "\u001b[34m\u001b[1mwandb\u001b[0m: \u001b[32m\u001b[41mERROR\u001b[0m     self._run_sanity_check()\n",
      "\u001b[34m\u001b[1mwandb\u001b[0m: \u001b[32m\u001b[41mERROR\u001b[0m   File \"/Users/jjaniak/anaconda3/envs/studia_projekt/lib/python3.8/site-packages/pytorch_lightning/trainer/trainer.py\", line 1063, in _run_sanity_check\n",
      "\u001b[34m\u001b[1mwandb\u001b[0m: \u001b[32m\u001b[41mERROR\u001b[0m     val_loop.run()\n",
      "\u001b[34m\u001b[1mwandb\u001b[0m: \u001b[32m\u001b[41mERROR\u001b[0m   File \"/Users/jjaniak/anaconda3/envs/studia_projekt/lib/python3.8/site-packages/pytorch_lightning/loops/utilities.py\", line 181, in _decorator\n",
      "\u001b[34m\u001b[1mwandb\u001b[0m: \u001b[32m\u001b[41mERROR\u001b[0m     return loop_run(self, *args, **kwargs)\n",
      "\u001b[34m\u001b[1mwandb\u001b[0m: \u001b[32m\u001b[41mERROR\u001b[0m   File \"/Users/jjaniak/anaconda3/envs/studia_projekt/lib/python3.8/site-packages/pytorch_lightning/loops/evaluation_loop.py\", line 134, in run\n",
      "\u001b[34m\u001b[1mwandb\u001b[0m: \u001b[32m\u001b[41mERROR\u001b[0m     self._evaluation_step(batch, batch_idx, dataloader_idx, dataloader_iter)\n",
      "\u001b[34m\u001b[1mwandb\u001b[0m: \u001b[32m\u001b[41mERROR\u001b[0m   File \"/Users/jjaniak/anaconda3/envs/studia_projekt/lib/python3.8/site-packages/pytorch_lightning/loops/evaluation_loop.py\", line 391, in _evaluation_step\n",
      "\u001b[34m\u001b[1mwandb\u001b[0m: \u001b[32m\u001b[41mERROR\u001b[0m     output = call._call_strategy_hook(trainer, hook_name, *step_args)\n",
      "\u001b[34m\u001b[1mwandb\u001b[0m: \u001b[32m\u001b[41mERROR\u001b[0m   File \"/Users/jjaniak/anaconda3/envs/studia_projekt/lib/python3.8/site-packages/pytorch_lightning/trainer/call.py\", line 309, in _call_strategy_hook\n",
      "\u001b[34m\u001b[1mwandb\u001b[0m: \u001b[32m\u001b[41mERROR\u001b[0m     output = fn(*args, **kwargs)\n",
      "\u001b[34m\u001b[1mwandb\u001b[0m: \u001b[32m\u001b[41mERROR\u001b[0m   File \"/Users/jjaniak/anaconda3/envs/studia_projekt/lib/python3.8/site-packages/pytorch_lightning/strategies/strategy.py\", line 403, in validation_step\n",
      "\u001b[34m\u001b[1mwandb\u001b[0m: \u001b[32m\u001b[41mERROR\u001b[0m     return self.lightning_module.validation_step(*args, **kwargs)\n",
      "\u001b[34m\u001b[1mwandb\u001b[0m: \u001b[32m\u001b[41mERROR\u001b[0m   File \"/Users/jjaniak/Documents/studia/projekt/gradient/notebooks/downstream_tasks/../../src/lightning/hetero_gnn_module.py\", line 57, in validation_step\n",
      "\u001b[34m\u001b[1mwandb\u001b[0m: \u001b[32m\u001b[41mERROR\u001b[0m     y_hat = self.model(batch.x_dict, batch.edge_index_dict, batch.edge_attr_dict)\n",
      "\u001b[34m\u001b[1mwandb\u001b[0m: \u001b[32m\u001b[41mERROR\u001b[0m   File \"/Users/jjaniak/anaconda3/envs/studia_projekt/lib/python3.8/site-packages/torch/nn/modules/module.py\", line 1518, in _wrapped_call_impl\n",
      "\u001b[34m\u001b[1mwandb\u001b[0m: \u001b[32m\u001b[41mERROR\u001b[0m     return self._call_impl(*args, **kwargs)\n",
      "\u001b[34m\u001b[1mwandb\u001b[0m: \u001b[32m\u001b[41mERROR\u001b[0m   File \"/Users/jjaniak/anaconda3/envs/studia_projekt/lib/python3.8/site-packages/torch/nn/modules/module.py\", line 1527, in _call_impl\n",
      "\u001b[34m\u001b[1mwandb\u001b[0m: \u001b[32m\u001b[41mERROR\u001b[0m     return forward_call(*args, **kwargs)\n",
      "\u001b[34m\u001b[1mwandb\u001b[0m: \u001b[32m\u001b[41mERROR\u001b[0m   File \"/Users/jjaniak/Documents/studia/projekt/gradient/notebooks/downstream_tasks/../../src/baseline_models/HeteroGNN/HeteroGNN.py\", line 59, in forward\n",
      "\u001b[34m\u001b[1mwandb\u001b[0m: \u001b[32m\u001b[41mERROR\u001b[0m     value = self._forward(x_dict, edge_index_dict, edge_atrr_dict)\n",
      "\u001b[34m\u001b[1mwandb\u001b[0m: \u001b[32m\u001b[41mERROR\u001b[0m   File \"/Users/jjaniak/Documents/studia/projekt/gradient/notebooks/downstream_tasks/../../src/baseline_models/HeteroGNN/HeteroGNN.py\", line 74, in _forward\n",
      "\u001b[34m\u001b[1mwandb\u001b[0m: \u001b[32m\u001b[41mERROR\u001b[0m     x_dict = conv(x_dict, edge_index_dict, edge_atrr_dict)\n",
      "\u001b[34m\u001b[1mwandb\u001b[0m: \u001b[32m\u001b[41mERROR\u001b[0m   File \"/Users/jjaniak/anaconda3/envs/studia_projekt/lib/python3.8/site-packages/torch/nn/modules/module.py\", line 1518, in _wrapped_call_impl\n",
      "\u001b[34m\u001b[1mwandb\u001b[0m: \u001b[32m\u001b[41mERROR\u001b[0m     return self._call_impl(*args, **kwargs)\n",
      "\u001b[34m\u001b[1mwandb\u001b[0m: \u001b[32m\u001b[41mERROR\u001b[0m   File \"/Users/jjaniak/anaconda3/envs/studia_projekt/lib/python3.8/site-packages/torch/nn/modules/module.py\", line 1527, in _call_impl\n",
      "\u001b[34m\u001b[1mwandb\u001b[0m: \u001b[32m\u001b[41mERROR\u001b[0m     return forward_call(*args, **kwargs)\n",
      "\u001b[34m\u001b[1mwandb\u001b[0m: \u001b[32m\u001b[41mERROR\u001b[0m   File \"/Users/jjaniak/anaconda3/envs/studia_projekt/lib/python3.8/site-packages/torch_geometric/nn/conv/hetero_conv.py\", line 159, in forward\n",
      "\u001b[34m\u001b[1mwandb\u001b[0m: \u001b[32m\u001b[41mERROR\u001b[0m     out = self.convs[edge_type](*args, **kwargs)\n",
      "\u001b[34m\u001b[1mwandb\u001b[0m: \u001b[32m\u001b[41mERROR\u001b[0m   File \"/Users/jjaniak/anaconda3/envs/studia_projekt/lib/python3.8/site-packages/torch/nn/modules/module.py\", line 1518, in _wrapped_call_impl\n",
      "\u001b[34m\u001b[1mwandb\u001b[0m: \u001b[32m\u001b[41mERROR\u001b[0m     return self._call_impl(*args, **kwargs)\n",
      "\u001b[34m\u001b[1mwandb\u001b[0m: \u001b[32m\u001b[41mERROR\u001b[0m   File \"/Users/jjaniak/anaconda3/envs/studia_projekt/lib/python3.8/site-packages/torch/nn/modules/module.py\", line 1527, in _call_impl\n",
      "\u001b[34m\u001b[1mwandb\u001b[0m: \u001b[32m\u001b[41mERROR\u001b[0m     return forward_call(*args, **kwargs)\n",
      "\u001b[34m\u001b[1mwandb\u001b[0m: \u001b[32m\u001b[41mERROR\u001b[0m   File \"/Users/jjaniak/anaconda3/envs/studia_projekt/lib/python3.8/site-packages/torch_geometric/nn/conv/gat_conv.py\", line 213, in forward\n",
      "\u001b[34m\u001b[1mwandb\u001b[0m: \u001b[32m\u001b[41mERROR\u001b[0m     x_src = x_dst = self.lin_src(x).view(-1, H, C)\n",
      "\u001b[34m\u001b[1mwandb\u001b[0m: \u001b[32m\u001b[41mERROR\u001b[0m   File \"/Users/jjaniak/anaconda3/envs/studia_projekt/lib/python3.8/site-packages/torch/nn/modules/module.py\", line 1518, in _wrapped_call_impl\n",
      "\u001b[34m\u001b[1mwandb\u001b[0m: \u001b[32m\u001b[41mERROR\u001b[0m     return self._call_impl(*args, **kwargs)\n",
      "\u001b[34m\u001b[1mwandb\u001b[0m: \u001b[32m\u001b[41mERROR\u001b[0m   File \"/Users/jjaniak/anaconda3/envs/studia_projekt/lib/python3.8/site-packages/torch/nn/modules/module.py\", line 1527, in _call_impl\n",
      "\u001b[34m\u001b[1mwandb\u001b[0m: \u001b[32m\u001b[41mERROR\u001b[0m     return forward_call(*args, **kwargs)\n",
      "\u001b[34m\u001b[1mwandb\u001b[0m: \u001b[32m\u001b[41mERROR\u001b[0m   File \"/Users/jjaniak/anaconda3/envs/studia_projekt/lib/python3.8/site-packages/torch_geometric/nn/dense/linear.py\", line 130, in forward\n",
      "\u001b[34m\u001b[1mwandb\u001b[0m: \u001b[32m\u001b[41mERROR\u001b[0m     return F.linear(x, self.weight, self.bias)\n",
      "\u001b[34m\u001b[1mwandb\u001b[0m: \u001b[32m\u001b[41mERROR\u001b[0m RuntimeError: [srcBuf length] > 0 INTERNAL ASSERT FAILED at \"/Users/runner/work/pytorch/pytorch/pytorch/aten/src/ATen/native/mps/OperationUtils.mm\":327, please report a bug to PyTorch. Placeholder tensor is empty!\n",
      "\u001b[34m\u001b[1mwandb\u001b[0m: \u001b[32m\u001b[41mERROR\u001b[0m \n",
      "\u001b[34m\u001b[1mwandb\u001b[0m: Agent Starting Run: 4qqhhakg with config:\n",
      "\u001b[34m\u001b[1mwandb\u001b[0m: \thidden_channels: 30\n",
      "\u001b[34m\u001b[1mwandb\u001b[0m: \tlearning_rate: 0.0030348316822927292\n",
      "\u001b[34m\u001b[1mwandb\u001b[0m: \tlin_layer_size: 16\n",
      "\u001b[34m\u001b[1mwandb\u001b[0m: \tnum_conv_layers: 5\n",
      "\u001b[34m\u001b[1mwandb\u001b[0m: \tnum_lin_layers: 0\n",
      "\u001b[34m\u001b[1mwandb\u001b[0m: \tweight_decay: 6.739411792171016e-05\n",
      "Failed to detect the name of this notebook, you can set it manually with the WANDB_NOTEBOOK_NAME environment variable to enable code saving.\n"
     ]
    },
    {
     "data": {
      "text/html": [
       "wandb version 0.17.0 is available!  To upgrade, please run:\n",
       " $ pip install wandb --upgrade"
      ],
      "text/plain": [
       "<IPython.core.display.HTML object>"
      ]
     },
     "metadata": {},
     "output_type": "display_data"
    },
    {
     "data": {
      "text/html": [
       "Tracking run with wandb version 0.16.4"
      ],
      "text/plain": [
       "<IPython.core.display.HTML object>"
      ]
     },
     "metadata": {},
     "output_type": "display_data"
    },
    {
     "data": {
      "text/html": [
       "Run data is saved locally in <code>/Users/jjaniak/Documents/studia/projekt/gradient/notebooks/downstream_tasks/wandb/run-20240604_115528-4qqhhakg</code>"
      ],
      "text/plain": [
       "<IPython.core.display.HTML object>"
      ]
     },
     "metadata": {},
     "output_type": "display_data"
    },
    {
     "data": {
      "text/html": [
       "Syncing run <strong><a href='https://wandb.ai/gradient_pwr/zabka-downstream-task/runs/4qqhhakg' target=\"_blank\">faithful-sweep-4</a></strong> to <a href='https://wandb.ai/gradient_pwr/zabka-downstream-task' target=\"_blank\">Weights & Biases</a> (<a href='https://wandb.me/run' target=\"_blank\">docs</a>)<br/>Sweep page: <a href='https://wandb.ai/gradient_pwr/zabka-downstream-task/sweeps/xfv6c74m' target=\"_blank\">https://wandb.ai/gradient_pwr/zabka-downstream-task/sweeps/xfv6c74m</a>"
      ],
      "text/plain": [
       "<IPython.core.display.HTML object>"
      ]
     },
     "metadata": {},
     "output_type": "display_data"
    },
    {
     "data": {
      "text/html": [
       " View project at <a href='https://wandb.ai/gradient_pwr/zabka-downstream-task' target=\"_blank\">https://wandb.ai/gradient_pwr/zabka-downstream-task</a>"
      ],
      "text/plain": [
       "<IPython.core.display.HTML object>"
      ]
     },
     "metadata": {},
     "output_type": "display_data"
    },
    {
     "data": {
      "text/html": [
       " View sweep at <a href='https://wandb.ai/gradient_pwr/zabka-downstream-task/sweeps/xfv6c74m' target=\"_blank\">https://wandb.ai/gradient_pwr/zabka-downstream-task/sweeps/xfv6c74m</a>"
      ],
      "text/plain": [
       "<IPython.core.display.HTML object>"
      ]
     },
     "metadata": {},
     "output_type": "display_data"
    },
    {
     "data": {
      "text/html": [
       " View run at <a href='https://wandb.ai/gradient_pwr/zabka-downstream-task/runs/4qqhhakg' target=\"_blank\">https://wandb.ai/gradient_pwr/zabka-downstream-task/runs/4qqhhakg</a>"
      ],
      "text/plain": [
       "<IPython.core.display.HTML object>"
      ]
     },
     "metadata": {},
     "output_type": "display_data"
    },
    {
     "name": "stderr",
     "output_type": "stream",
     "text": [
      "/Users/jjaniak/anaconda3/envs/studia_projekt/lib/python3.8/site-packages/torch_geometric/deprecation.py:22: UserWarning: 'data.DataLoader' is deprecated, use 'loader.DataLoader' instead\n",
      "  warnings.warn(out)\n",
      "GPU available: True (mps), used: True\n",
      "TPU available: False, using: 0 TPU cores\n",
      "IPU available: False, using: 0 IPUs\n",
      "HPU available: False, using: 0 HPUs\n",
      "Missing logger folder: ../../gradient_logs/2024_06_04_11_55_33/lightning_logs\n",
      "\n",
      "  | Name  | Type      | Params\n",
      "------------------------------------\n",
      "0 | model | HeteroGNN | 24.4 K\n",
      "------------------------------------\n",
      "24.4 K    Trainable params\n",
      "0         Non-trainable params\n",
      "24.4 K    Total params\n",
      "0.097     Total estimated model params size (MB)\n"
     ]
    },
    {
     "data": {
      "application/vnd.jupyter.widget-view+json": {
       "model_id": "521e6332f4694444a7ec06cfed53115e",
       "version_major": 2,
       "version_minor": 0
      },
      "text/plain": [
       "Sanity Checking: |          | 0/? [00:00<?, ?it/s]"
      ]
     },
     "metadata": {},
     "output_type": "display_data"
    },
    {
     "name": "stderr",
     "output_type": "stream",
     "text": [
      "/Users/jjaniak/anaconda3/envs/studia_projekt/lib/python3.8/site-packages/pytorch_lightning/trainer/connectors/data_connector.py:441: The 'val_dataloader' does not have many workers which may be a bottleneck. Consider increasing the value of the `num_workers` argument` to `num_workers=11` in the `DataLoader` to improve performance.\n"
     ]
    },
    {
     "data": {
      "application/vnd.jupyter.widget-view+json": {
       "model_id": "8fcfba6568404a2e8413374190db38ec",
       "version_major": 2,
       "version_minor": 0
      },
      "text/plain": [
       "VBox(children=(Label(value='0.001 MB of 0.001 MB uploaded\\r'), FloatProgress(value=1.0, max=1.0)))"
      ]
     },
     "metadata": {},
     "output_type": "display_data"
    },
    {
     "data": {
      "text/html": [
       "<style>\n",
       "    table.wandb td:nth-child(1) { padding: 0 10px; text-align: left ; width: auto;} td:nth-child(2) {text-align: left ; width: 100%}\n",
       "    .wandb-row { display: flex; flex-direction: row; flex-wrap: wrap; justify-content: flex-start; width: 100% }\n",
       "    .wandb-col { display: flex; flex-direction: column; flex-basis: 100%; flex: 1; padding: 10px; }\n",
       "    </style>\n",
       "<div class=\"wandb-row\"><div class=\"wandb-col\"><h3>Run history:</h3><br/><table class=\"wandb\"><tr><td>USE_HEXES_ATTRS</td><td>▁</td></tr><tr><td>USE_ORTOPHOTO</td><td>▁</td></tr><tr><td>USE_OSMNX_ATTRS</td><td>▁</td></tr></table><br/></div><div class=\"wandb-col\"><h3>Run summary:</h3><br/><table class=\"wandb\"><tr><td>USE_HEXES_ATTRS</td><td>0</td></tr><tr><td>USE_ORTOPHOTO</td><td>0</td></tr><tr><td>USE_OSMNX_ATTRS</td><td>1</td></tr><tr><td>data_structure</td><td>graph</td></tr></table><br/></div></div>"
      ],
      "text/plain": [
       "<IPython.core.display.HTML object>"
      ]
     },
     "metadata": {},
     "output_type": "display_data"
    },
    {
     "data": {
      "text/html": [
       " View run <strong style=\"color:#cdcd00\">faithful-sweep-4</strong> at: <a href='https://wandb.ai/gradient_pwr/zabka-downstream-task/runs/4qqhhakg' target=\"_blank\">https://wandb.ai/gradient_pwr/zabka-downstream-task/runs/4qqhhakg</a><br/>Synced 6 W&B file(s), 0 media file(s), 0 artifact file(s) and 0 other file(s)"
      ],
      "text/plain": [
       "<IPython.core.display.HTML object>"
      ]
     },
     "metadata": {},
     "output_type": "display_data"
    },
    {
     "data": {
      "text/html": [
       "Find logs at: <code>./wandb/run-20240604_115528-4qqhhakg/logs</code>"
      ],
      "text/plain": [
       "<IPython.core.display.HTML object>"
      ]
     },
     "metadata": {},
     "output_type": "display_data"
    },
    {
     "name": "stderr",
     "output_type": "stream",
     "text": [
      "Run 4qqhhakg errored:\n",
      "Traceback (most recent call last):\n",
      "  File \"/Users/jjaniak/anaconda3/envs/studia_projekt/lib/python3.8/site-packages/wandb/agents/pyagent.py\", line 308, in _run_job\n",
      "    self._function()\n",
      "  File \"/var/folders/4k/8js3jm9n457cm4_v631zyrkw0000gn/T/ipykernel_37726/1604121319.py\", line 62, in wrapped\n",
      "    auc, accuracy, f1, model_path = train(\n",
      "  File \"/Users/jjaniak/Documents/studia/projekt/gradient/notebooks/downstream_tasks/../../src/training/train.py\", line 64, in train\n",
      "    trainer.fit(model, train_loader, val_loader)\n",
      "  File \"/Users/jjaniak/anaconda3/envs/studia_projekt/lib/python3.8/site-packages/pytorch_lightning/trainer/trainer.py\", line 545, in fit\n",
      "    call._call_and_handle_interrupt(\n",
      "  File \"/Users/jjaniak/anaconda3/envs/studia_projekt/lib/python3.8/site-packages/pytorch_lightning/trainer/call.py\", line 44, in _call_and_handle_interrupt\n",
      "    return trainer_fn(*args, **kwargs)\n",
      "  File \"/Users/jjaniak/anaconda3/envs/studia_projekt/lib/python3.8/site-packages/pytorch_lightning/trainer/trainer.py\", line 581, in _fit_impl\n",
      "    self._run(model, ckpt_path=ckpt_path)\n",
      "  File \"/Users/jjaniak/anaconda3/envs/studia_projekt/lib/python3.8/site-packages/pytorch_lightning/trainer/trainer.py\", line 990, in _run\n",
      "    results = self._run_stage()\n",
      "  File \"/Users/jjaniak/anaconda3/envs/studia_projekt/lib/python3.8/site-packages/pytorch_lightning/trainer/trainer.py\", line 1034, in _run_stage\n",
      "    self._run_sanity_check()\n",
      "  File \"/Users/jjaniak/anaconda3/envs/studia_projekt/lib/python3.8/site-packages/pytorch_lightning/trainer/trainer.py\", line 1063, in _run_sanity_check\n",
      "    val_loop.run()\n",
      "  File \"/Users/jjaniak/anaconda3/envs/studia_projekt/lib/python3.8/site-packages/pytorch_lightning/loops/utilities.py\", line 181, in _decorator\n",
      "    return loop_run(self, *args, **kwargs)\n",
      "  File \"/Users/jjaniak/anaconda3/envs/studia_projekt/lib/python3.8/site-packages/pytorch_lightning/loops/evaluation_loop.py\", line 134, in run\n",
      "    self._evaluation_step(batch, batch_idx, dataloader_idx, dataloader_iter)\n",
      "  File \"/Users/jjaniak/anaconda3/envs/studia_projekt/lib/python3.8/site-packages/pytorch_lightning/loops/evaluation_loop.py\", line 391, in _evaluation_step\n",
      "    output = call._call_strategy_hook(trainer, hook_name, *step_args)\n",
      "  File \"/Users/jjaniak/anaconda3/envs/studia_projekt/lib/python3.8/site-packages/pytorch_lightning/trainer/call.py\", line 309, in _call_strategy_hook\n",
      "    output = fn(*args, **kwargs)\n",
      "  File \"/Users/jjaniak/anaconda3/envs/studia_projekt/lib/python3.8/site-packages/pytorch_lightning/strategies/strategy.py\", line 403, in validation_step\n",
      "    return self.lightning_module.validation_step(*args, **kwargs)\n",
      "  File \"/Users/jjaniak/Documents/studia/projekt/gradient/notebooks/downstream_tasks/../../src/lightning/hetero_gnn_module.py\", line 57, in validation_step\n",
      "    y_hat = self.model(batch.x_dict, batch.edge_index_dict, batch.edge_attr_dict)\n",
      "  File \"/Users/jjaniak/anaconda3/envs/studia_projekt/lib/python3.8/site-packages/torch/nn/modules/module.py\", line 1518, in _wrapped_call_impl\n",
      "    return self._call_impl(*args, **kwargs)\n",
      "  File \"/Users/jjaniak/anaconda3/envs/studia_projekt/lib/python3.8/site-packages/torch/nn/modules/module.py\", line 1527, in _call_impl\n",
      "    return forward_call(*args, **kwargs)\n",
      "  File \"/Users/jjaniak/Documents/studia/projekt/gradient/notebooks/downstream_tasks/../../src/baseline_models/HeteroGNN/HeteroGNN.py\", line 59, in forward\n",
      "    value = self._forward(x_dict, edge_index_dict, edge_atrr_dict)\n",
      "  File \"/Users/jjaniak/Documents/studia/projekt/gradient/notebooks/downstream_tasks/../../src/baseline_models/HeteroGNN/HeteroGNN.py\", line 74, in _forward\n",
      "    x_dict = conv(x_dict, edge_index_dict, edge_atrr_dict)\n",
      "  File \"/Users/jjaniak/anaconda3/envs/studia_projekt/lib/python3.8/site-packages/torch/nn/modules/module.py\", line 1518, in _wrapped_call_impl\n",
      "    return self._call_impl(*args, **kwargs)\n",
      "  File \"/Users/jjaniak/anaconda3/envs/studia_projekt/lib/python3.8/site-packages/torch/nn/modules/module.py\", line 1527, in _call_impl\n",
      "    return forward_call(*args, **kwargs)\n",
      "  File \"/Users/jjaniak/anaconda3/envs/studia_projekt/lib/python3.8/site-packages/torch_geometric/nn/conv/hetero_conv.py\", line 159, in forward\n",
      "    out = self.convs[edge_type](*args, **kwargs)\n",
      "  File \"/Users/jjaniak/anaconda3/envs/studia_projekt/lib/python3.8/site-packages/torch/nn/modules/module.py\", line 1518, in _wrapped_call_impl\n",
      "    return self._call_impl(*args, **kwargs)\n",
      "  File \"/Users/jjaniak/anaconda3/envs/studia_projekt/lib/python3.8/site-packages/torch/nn/modules/module.py\", line 1527, in _call_impl\n",
      "    return forward_call(*args, **kwargs)\n",
      "  File \"/Users/jjaniak/anaconda3/envs/studia_projekt/lib/python3.8/site-packages/torch_geometric/nn/conv/gat_conv.py\", line 213, in forward\n",
      "    x_src = x_dst = self.lin_src(x).view(-1, H, C)\n",
      "  File \"/Users/jjaniak/anaconda3/envs/studia_projekt/lib/python3.8/site-packages/torch/nn/modules/module.py\", line 1518, in _wrapped_call_impl\n",
      "    return self._call_impl(*args, **kwargs)\n",
      "  File \"/Users/jjaniak/anaconda3/envs/studia_projekt/lib/python3.8/site-packages/torch/nn/modules/module.py\", line 1527, in _call_impl\n",
      "    return forward_call(*args, **kwargs)\n",
      "  File \"/Users/jjaniak/anaconda3/envs/studia_projekt/lib/python3.8/site-packages/torch_geometric/nn/dense/linear.py\", line 130, in forward\n",
      "    return F.linear(x, self.weight, self.bias)\n",
      "RuntimeError: [srcBuf length] > 0 INTERNAL ASSERT FAILED at \"/Users/runner/work/pytorch/pytorch/pytorch/aten/src/ATen/native/mps/OperationUtils.mm\":327, please report a bug to PyTorch. Placeholder tensor is empty!\n",
      "\n",
      "\u001b[34m\u001b[1mwandb\u001b[0m: \u001b[32m\u001b[41mERROR\u001b[0m Run 4qqhhakg errored:\n",
      "\u001b[34m\u001b[1mwandb\u001b[0m: \u001b[32m\u001b[41mERROR\u001b[0m Traceback (most recent call last):\n",
      "\u001b[34m\u001b[1mwandb\u001b[0m: \u001b[32m\u001b[41mERROR\u001b[0m   File \"/Users/jjaniak/anaconda3/envs/studia_projekt/lib/python3.8/site-packages/wandb/agents/pyagent.py\", line 308, in _run_job\n",
      "\u001b[34m\u001b[1mwandb\u001b[0m: \u001b[32m\u001b[41mERROR\u001b[0m     self._function()\n",
      "\u001b[34m\u001b[1mwandb\u001b[0m: \u001b[32m\u001b[41mERROR\u001b[0m   File \"/var/folders/4k/8js3jm9n457cm4_v631zyrkw0000gn/T/ipykernel_37726/1604121319.py\", line 62, in wrapped\n",
      "\u001b[34m\u001b[1mwandb\u001b[0m: \u001b[32m\u001b[41mERROR\u001b[0m     auc, accuracy, f1, model_path = train(\n",
      "\u001b[34m\u001b[1mwandb\u001b[0m: \u001b[32m\u001b[41mERROR\u001b[0m   File \"/Users/jjaniak/Documents/studia/projekt/gradient/notebooks/downstream_tasks/../../src/training/train.py\", line 64, in train\n",
      "\u001b[34m\u001b[1mwandb\u001b[0m: \u001b[32m\u001b[41mERROR\u001b[0m     trainer.fit(model, train_loader, val_loader)\n",
      "\u001b[34m\u001b[1mwandb\u001b[0m: \u001b[32m\u001b[41mERROR\u001b[0m   File \"/Users/jjaniak/anaconda3/envs/studia_projekt/lib/python3.8/site-packages/pytorch_lightning/trainer/trainer.py\", line 545, in fit\n",
      "\u001b[34m\u001b[1mwandb\u001b[0m: \u001b[32m\u001b[41mERROR\u001b[0m     call._call_and_handle_interrupt(\n",
      "\u001b[34m\u001b[1mwandb\u001b[0m: \u001b[32m\u001b[41mERROR\u001b[0m   File \"/Users/jjaniak/anaconda3/envs/studia_projekt/lib/python3.8/site-packages/pytorch_lightning/trainer/call.py\", line 44, in _call_and_handle_interrupt\n",
      "\u001b[34m\u001b[1mwandb\u001b[0m: \u001b[32m\u001b[41mERROR\u001b[0m     return trainer_fn(*args, **kwargs)\n",
      "\u001b[34m\u001b[1mwandb\u001b[0m: \u001b[32m\u001b[41mERROR\u001b[0m   File \"/Users/jjaniak/anaconda3/envs/studia_projekt/lib/python3.8/site-packages/pytorch_lightning/trainer/trainer.py\", line 581, in _fit_impl\n",
      "\u001b[34m\u001b[1mwandb\u001b[0m: \u001b[32m\u001b[41mERROR\u001b[0m     self._run(model, ckpt_path=ckpt_path)\n",
      "\u001b[34m\u001b[1mwandb\u001b[0m: \u001b[32m\u001b[41mERROR\u001b[0m   File \"/Users/jjaniak/anaconda3/envs/studia_projekt/lib/python3.8/site-packages/pytorch_lightning/trainer/trainer.py\", line 990, in _run\n",
      "\u001b[34m\u001b[1mwandb\u001b[0m: \u001b[32m\u001b[41mERROR\u001b[0m     results = self._run_stage()\n",
      "\u001b[34m\u001b[1mwandb\u001b[0m: \u001b[32m\u001b[41mERROR\u001b[0m   File \"/Users/jjaniak/anaconda3/envs/studia_projekt/lib/python3.8/site-packages/pytorch_lightning/trainer/trainer.py\", line 1034, in _run_stage\n",
      "\u001b[34m\u001b[1mwandb\u001b[0m: \u001b[32m\u001b[41mERROR\u001b[0m     self._run_sanity_check()\n",
      "\u001b[34m\u001b[1mwandb\u001b[0m: \u001b[32m\u001b[41mERROR\u001b[0m   File \"/Users/jjaniak/anaconda3/envs/studia_projekt/lib/python3.8/site-packages/pytorch_lightning/trainer/trainer.py\", line 1063, in _run_sanity_check\n",
      "\u001b[34m\u001b[1mwandb\u001b[0m: \u001b[32m\u001b[41mERROR\u001b[0m     val_loop.run()\n",
      "\u001b[34m\u001b[1mwandb\u001b[0m: \u001b[32m\u001b[41mERROR\u001b[0m   File \"/Users/jjaniak/anaconda3/envs/studia_projekt/lib/python3.8/site-packages/pytorch_lightning/loops/utilities.py\", line 181, in _decorator\n",
      "\u001b[34m\u001b[1mwandb\u001b[0m: \u001b[32m\u001b[41mERROR\u001b[0m     return loop_run(self, *args, **kwargs)\n",
      "\u001b[34m\u001b[1mwandb\u001b[0m: \u001b[32m\u001b[41mERROR\u001b[0m   File \"/Users/jjaniak/anaconda3/envs/studia_projekt/lib/python3.8/site-packages/pytorch_lightning/loops/evaluation_loop.py\", line 134, in run\n",
      "\u001b[34m\u001b[1mwandb\u001b[0m: \u001b[32m\u001b[41mERROR\u001b[0m     self._evaluation_step(batch, batch_idx, dataloader_idx, dataloader_iter)\n",
      "\u001b[34m\u001b[1mwandb\u001b[0m: \u001b[32m\u001b[41mERROR\u001b[0m   File \"/Users/jjaniak/anaconda3/envs/studia_projekt/lib/python3.8/site-packages/pytorch_lightning/loops/evaluation_loop.py\", line 391, in _evaluation_step\n",
      "\u001b[34m\u001b[1mwandb\u001b[0m: \u001b[32m\u001b[41mERROR\u001b[0m     output = call._call_strategy_hook(trainer, hook_name, *step_args)\n",
      "\u001b[34m\u001b[1mwandb\u001b[0m: \u001b[32m\u001b[41mERROR\u001b[0m   File \"/Users/jjaniak/anaconda3/envs/studia_projekt/lib/python3.8/site-packages/pytorch_lightning/trainer/call.py\", line 309, in _call_strategy_hook\n",
      "\u001b[34m\u001b[1mwandb\u001b[0m: \u001b[32m\u001b[41mERROR\u001b[0m     output = fn(*args, **kwargs)\n",
      "\u001b[34m\u001b[1mwandb\u001b[0m: \u001b[32m\u001b[41mERROR\u001b[0m   File \"/Users/jjaniak/anaconda3/envs/studia_projekt/lib/python3.8/site-packages/pytorch_lightning/strategies/strategy.py\", line 403, in validation_step\n",
      "\u001b[34m\u001b[1mwandb\u001b[0m: \u001b[32m\u001b[41mERROR\u001b[0m     return self.lightning_module.validation_step(*args, **kwargs)\n",
      "\u001b[34m\u001b[1mwandb\u001b[0m: \u001b[32m\u001b[41mERROR\u001b[0m   File \"/Users/jjaniak/Documents/studia/projekt/gradient/notebooks/downstream_tasks/../../src/lightning/hetero_gnn_module.py\", line 57, in validation_step\n",
      "\u001b[34m\u001b[1mwandb\u001b[0m: \u001b[32m\u001b[41mERROR\u001b[0m     y_hat = self.model(batch.x_dict, batch.edge_index_dict, batch.edge_attr_dict)\n",
      "\u001b[34m\u001b[1mwandb\u001b[0m: \u001b[32m\u001b[41mERROR\u001b[0m   File \"/Users/jjaniak/anaconda3/envs/studia_projekt/lib/python3.8/site-packages/torch/nn/modules/module.py\", line 1518, in _wrapped_call_impl\n",
      "\u001b[34m\u001b[1mwandb\u001b[0m: \u001b[32m\u001b[41mERROR\u001b[0m     return self._call_impl(*args, **kwargs)\n",
      "\u001b[34m\u001b[1mwandb\u001b[0m: \u001b[32m\u001b[41mERROR\u001b[0m   File \"/Users/jjaniak/anaconda3/envs/studia_projekt/lib/python3.8/site-packages/torch/nn/modules/module.py\", line 1527, in _call_impl\n",
      "\u001b[34m\u001b[1mwandb\u001b[0m: \u001b[32m\u001b[41mERROR\u001b[0m     return forward_call(*args, **kwargs)\n",
      "\u001b[34m\u001b[1mwandb\u001b[0m: \u001b[32m\u001b[41mERROR\u001b[0m   File \"/Users/jjaniak/Documents/studia/projekt/gradient/notebooks/downstream_tasks/../../src/baseline_models/HeteroGNN/HeteroGNN.py\", line 59, in forward\n",
      "\u001b[34m\u001b[1mwandb\u001b[0m: \u001b[32m\u001b[41mERROR\u001b[0m     value = self._forward(x_dict, edge_index_dict, edge_atrr_dict)\n",
      "\u001b[34m\u001b[1mwandb\u001b[0m: \u001b[32m\u001b[41mERROR\u001b[0m   File \"/Users/jjaniak/Documents/studia/projekt/gradient/notebooks/downstream_tasks/../../src/baseline_models/HeteroGNN/HeteroGNN.py\", line 74, in _forward\n",
      "\u001b[34m\u001b[1mwandb\u001b[0m: \u001b[32m\u001b[41mERROR\u001b[0m     x_dict = conv(x_dict, edge_index_dict, edge_atrr_dict)\n",
      "\u001b[34m\u001b[1mwandb\u001b[0m: \u001b[32m\u001b[41mERROR\u001b[0m   File \"/Users/jjaniak/anaconda3/envs/studia_projekt/lib/python3.8/site-packages/torch/nn/modules/module.py\", line 1518, in _wrapped_call_impl\n",
      "\u001b[34m\u001b[1mwandb\u001b[0m: \u001b[32m\u001b[41mERROR\u001b[0m     return self._call_impl(*args, **kwargs)\n",
      "\u001b[34m\u001b[1mwandb\u001b[0m: \u001b[32m\u001b[41mERROR\u001b[0m   File \"/Users/jjaniak/anaconda3/envs/studia_projekt/lib/python3.8/site-packages/torch/nn/modules/module.py\", line 1527, in _call_impl\n",
      "\u001b[34m\u001b[1mwandb\u001b[0m: \u001b[32m\u001b[41mERROR\u001b[0m     return forward_call(*args, **kwargs)\n",
      "\u001b[34m\u001b[1mwandb\u001b[0m: \u001b[32m\u001b[41mERROR\u001b[0m   File \"/Users/jjaniak/anaconda3/envs/studia_projekt/lib/python3.8/site-packages/torch_geometric/nn/conv/hetero_conv.py\", line 159, in forward\n",
      "\u001b[34m\u001b[1mwandb\u001b[0m: \u001b[32m\u001b[41mERROR\u001b[0m     out = self.convs[edge_type](*args, **kwargs)\n",
      "\u001b[34m\u001b[1mwandb\u001b[0m: \u001b[32m\u001b[41mERROR\u001b[0m   File \"/Users/jjaniak/anaconda3/envs/studia_projekt/lib/python3.8/site-packages/torch/nn/modules/module.py\", line 1518, in _wrapped_call_impl\n",
      "\u001b[34m\u001b[1mwandb\u001b[0m: \u001b[32m\u001b[41mERROR\u001b[0m     return self._call_impl(*args, **kwargs)\n",
      "\u001b[34m\u001b[1mwandb\u001b[0m: \u001b[32m\u001b[41mERROR\u001b[0m   File \"/Users/jjaniak/anaconda3/envs/studia_projekt/lib/python3.8/site-packages/torch/nn/modules/module.py\", line 1527, in _call_impl\n",
      "\u001b[34m\u001b[1mwandb\u001b[0m: \u001b[32m\u001b[41mERROR\u001b[0m     return forward_call(*args, **kwargs)\n",
      "\u001b[34m\u001b[1mwandb\u001b[0m: \u001b[32m\u001b[41mERROR\u001b[0m   File \"/Users/jjaniak/anaconda3/envs/studia_projekt/lib/python3.8/site-packages/torch_geometric/nn/conv/gat_conv.py\", line 213, in forward\n",
      "\u001b[34m\u001b[1mwandb\u001b[0m: \u001b[32m\u001b[41mERROR\u001b[0m     x_src = x_dst = self.lin_src(x).view(-1, H, C)\n",
      "\u001b[34m\u001b[1mwandb\u001b[0m: \u001b[32m\u001b[41mERROR\u001b[0m   File \"/Users/jjaniak/anaconda3/envs/studia_projekt/lib/python3.8/site-packages/torch/nn/modules/module.py\", line 1518, in _wrapped_call_impl\n",
      "\u001b[34m\u001b[1mwandb\u001b[0m: \u001b[32m\u001b[41mERROR\u001b[0m     return self._call_impl(*args, **kwargs)\n",
      "\u001b[34m\u001b[1mwandb\u001b[0m: \u001b[32m\u001b[41mERROR\u001b[0m   File \"/Users/jjaniak/anaconda3/envs/studia_projekt/lib/python3.8/site-packages/torch/nn/modules/module.py\", line 1527, in _call_impl\n",
      "\u001b[34m\u001b[1mwandb\u001b[0m: \u001b[32m\u001b[41mERROR\u001b[0m     return forward_call(*args, **kwargs)\n",
      "\u001b[34m\u001b[1mwandb\u001b[0m: \u001b[32m\u001b[41mERROR\u001b[0m   File \"/Users/jjaniak/anaconda3/envs/studia_projekt/lib/python3.8/site-packages/torch_geometric/nn/dense/linear.py\", line 130, in forward\n",
      "\u001b[34m\u001b[1mwandb\u001b[0m: \u001b[32m\u001b[41mERROR\u001b[0m     return F.linear(x, self.weight, self.bias)\n",
      "\u001b[34m\u001b[1mwandb\u001b[0m: \u001b[32m\u001b[41mERROR\u001b[0m RuntimeError: [srcBuf length] > 0 INTERNAL ASSERT FAILED at \"/Users/runner/work/pytorch/pytorch/pytorch/aten/src/ATen/native/mps/OperationUtils.mm\":327, please report a bug to PyTorch. Placeholder tensor is empty!\n",
      "\u001b[34m\u001b[1mwandb\u001b[0m: \u001b[32m\u001b[41mERROR\u001b[0m \n",
      "\u001b[34m\u001b[1mwandb\u001b[0m: Agent Starting Run: sr4rj1hi with config:\n",
      "\u001b[34m\u001b[1mwandb\u001b[0m: \thidden_channels: 50\n",
      "\u001b[34m\u001b[1mwandb\u001b[0m: \tlearning_rate: 0.007649067204799697\n",
      "\u001b[34m\u001b[1mwandb\u001b[0m: \tlin_layer_size: 8\n",
      "\u001b[34m\u001b[1mwandb\u001b[0m: \tnum_conv_layers: 1\n",
      "\u001b[34m\u001b[1mwandb\u001b[0m: \tnum_lin_layers: 2\n",
      "\u001b[34m\u001b[1mwandb\u001b[0m: \tweight_decay: 0.0001109677322450908\n",
      "Failed to detect the name of this notebook, you can set it manually with the WANDB_NOTEBOOK_NAME environment variable to enable code saving.\n"
     ]
    },
    {
     "data": {
      "text/html": [
       "wandb version 0.17.0 is available!  To upgrade, please run:\n",
       " $ pip install wandb --upgrade"
      ],
      "text/plain": [
       "<IPython.core.display.HTML object>"
      ]
     },
     "metadata": {},
     "output_type": "display_data"
    },
    {
     "data": {
      "text/html": [
       "Tracking run with wandb version 0.16.4"
      ],
      "text/plain": [
       "<IPython.core.display.HTML object>"
      ]
     },
     "metadata": {},
     "output_type": "display_data"
    },
    {
     "data": {
      "text/html": [
       "Run data is saved locally in <code>/Users/jjaniak/Documents/studia/projekt/gradient/notebooks/downstream_tasks/wandb/run-20240604_115543-sr4rj1hi</code>"
      ],
      "text/plain": [
       "<IPython.core.display.HTML object>"
      ]
     },
     "metadata": {},
     "output_type": "display_data"
    },
    {
     "data": {
      "text/html": [
       "Syncing run <strong><a href='https://wandb.ai/gradient_pwr/zabka-downstream-task/runs/sr4rj1hi' target=\"_blank\">sweepy-sweep-5</a></strong> to <a href='https://wandb.ai/gradient_pwr/zabka-downstream-task' target=\"_blank\">Weights & Biases</a> (<a href='https://wandb.me/run' target=\"_blank\">docs</a>)<br/>Sweep page: <a href='https://wandb.ai/gradient_pwr/zabka-downstream-task/sweeps/xfv6c74m' target=\"_blank\">https://wandb.ai/gradient_pwr/zabka-downstream-task/sweeps/xfv6c74m</a>"
      ],
      "text/plain": [
       "<IPython.core.display.HTML object>"
      ]
     },
     "metadata": {},
     "output_type": "display_data"
    },
    {
     "data": {
      "text/html": [
       " View project at <a href='https://wandb.ai/gradient_pwr/zabka-downstream-task' target=\"_blank\">https://wandb.ai/gradient_pwr/zabka-downstream-task</a>"
      ],
      "text/plain": [
       "<IPython.core.display.HTML object>"
      ]
     },
     "metadata": {},
     "output_type": "display_data"
    },
    {
     "data": {
      "text/html": [
       " View sweep at <a href='https://wandb.ai/gradient_pwr/zabka-downstream-task/sweeps/xfv6c74m' target=\"_blank\">https://wandb.ai/gradient_pwr/zabka-downstream-task/sweeps/xfv6c74m</a>"
      ],
      "text/plain": [
       "<IPython.core.display.HTML object>"
      ]
     },
     "metadata": {},
     "output_type": "display_data"
    },
    {
     "data": {
      "text/html": [
       " View run at <a href='https://wandb.ai/gradient_pwr/zabka-downstream-task/runs/sr4rj1hi' target=\"_blank\">https://wandb.ai/gradient_pwr/zabka-downstream-task/runs/sr4rj1hi</a>"
      ],
      "text/plain": [
       "<IPython.core.display.HTML object>"
      ]
     },
     "metadata": {},
     "output_type": "display_data"
    },
    {
     "name": "stderr",
     "output_type": "stream",
     "text": [
      "/Users/jjaniak/anaconda3/envs/studia_projekt/lib/python3.8/site-packages/torch_geometric/deprecation.py:22: UserWarning: 'data.DataLoader' is deprecated, use 'loader.DataLoader' instead\n",
      "  warnings.warn(out)\n",
      "GPU available: True (mps), used: True\n",
      "TPU available: False, using: 0 TPU cores\n",
      "IPU available: False, using: 0 IPUs\n",
      "HPU available: False, using: 0 HPUs\n",
      "Missing logger folder: ../../gradient_logs/2024_06_04_11_55_48/lightning_logs\n",
      "\n",
      "  | Name  | Type      | Params\n",
      "------------------------------------\n",
      "0 | model | HeteroGNN | 6.2 K \n",
      "------------------------------------\n",
      "6.2 K     Trainable params\n",
      "0         Non-trainable params\n",
      "6.2 K     Total params\n",
      "0.025     Total estimated model params size (MB)\n"
     ]
    },
    {
     "data": {
      "application/vnd.jupyter.widget-view+json": {
       "model_id": "9d2abf351bb1494d8005db9c71a65ad8",
       "version_major": 2,
       "version_minor": 0
      },
      "text/plain": [
       "Sanity Checking: |          | 0/? [00:00<?, ?it/s]"
      ]
     },
     "metadata": {},
     "output_type": "display_data"
    },
    {
     "name": "stderr",
     "output_type": "stream",
     "text": [
      "/Users/jjaniak/anaconda3/envs/studia_projekt/lib/python3.8/site-packages/pytorch_lightning/trainer/connectors/data_connector.py:441: The 'val_dataloader' does not have many workers which may be a bottleneck. Consider increasing the value of the `num_workers` argument` to `num_workers=11` in the `DataLoader` to improve performance.\n"
     ]
    },
    {
     "data": {
      "application/vnd.jupyter.widget-view+json": {
       "model_id": "8ec8521266114af7aa99bcc9b6e10d4c",
       "version_major": 2,
       "version_minor": 0
      },
      "text/plain": [
       "VBox(children=(Label(value='0.001 MB of 0.001 MB uploaded\\r'), FloatProgress(value=1.0, max=1.0)))"
      ]
     },
     "metadata": {},
     "output_type": "display_data"
    },
    {
     "data": {
      "text/html": [
       "<style>\n",
       "    table.wandb td:nth-child(1) { padding: 0 10px; text-align: left ; width: auto;} td:nth-child(2) {text-align: left ; width: 100%}\n",
       "    .wandb-row { display: flex; flex-direction: row; flex-wrap: wrap; justify-content: flex-start; width: 100% }\n",
       "    .wandb-col { display: flex; flex-direction: column; flex-basis: 100%; flex: 1; padding: 10px; }\n",
       "    </style>\n",
       "<div class=\"wandb-row\"><div class=\"wandb-col\"><h3>Run history:</h3><br/><table class=\"wandb\"><tr><td>USE_HEXES_ATTRS</td><td>▁</td></tr><tr><td>USE_ORTOPHOTO</td><td>▁</td></tr><tr><td>USE_OSMNX_ATTRS</td><td>▁</td></tr></table><br/></div><div class=\"wandb-col\"><h3>Run summary:</h3><br/><table class=\"wandb\"><tr><td>USE_HEXES_ATTRS</td><td>0</td></tr><tr><td>USE_ORTOPHOTO</td><td>0</td></tr><tr><td>USE_OSMNX_ATTRS</td><td>1</td></tr><tr><td>data_structure</td><td>graph</td></tr></table><br/></div></div>"
      ],
      "text/plain": [
       "<IPython.core.display.HTML object>"
      ]
     },
     "metadata": {},
     "output_type": "display_data"
    },
    {
     "data": {
      "text/html": [
       " View run <strong style=\"color:#cdcd00\">sweepy-sweep-5</strong> at: <a href='https://wandb.ai/gradient_pwr/zabka-downstream-task/runs/sr4rj1hi' target=\"_blank\">https://wandb.ai/gradient_pwr/zabka-downstream-task/runs/sr4rj1hi</a><br/>Synced 6 W&B file(s), 0 media file(s), 0 artifact file(s) and 0 other file(s)"
      ],
      "text/plain": [
       "<IPython.core.display.HTML object>"
      ]
     },
     "metadata": {},
     "output_type": "display_data"
    },
    {
     "data": {
      "text/html": [
       "Find logs at: <code>./wandb/run-20240604_115543-sr4rj1hi/logs</code>"
      ],
      "text/plain": [
       "<IPython.core.display.HTML object>"
      ]
     },
     "metadata": {},
     "output_type": "display_data"
    },
    {
     "name": "stderr",
     "output_type": "stream",
     "text": [
      "Run sr4rj1hi errored:\n",
      "Traceback (most recent call last):\n",
      "  File \"/Users/jjaniak/anaconda3/envs/studia_projekt/lib/python3.8/site-packages/wandb/agents/pyagent.py\", line 308, in _run_job\n",
      "    self._function()\n",
      "  File \"/var/folders/4k/8js3jm9n457cm4_v631zyrkw0000gn/T/ipykernel_37726/1604121319.py\", line 62, in wrapped\n",
      "    auc, accuracy, f1, model_path = train(\n",
      "  File \"/Users/jjaniak/Documents/studia/projekt/gradient/notebooks/downstream_tasks/../../src/training/train.py\", line 64, in train\n",
      "    trainer.fit(model, train_loader, val_loader)\n",
      "  File \"/Users/jjaniak/anaconda3/envs/studia_projekt/lib/python3.8/site-packages/pytorch_lightning/trainer/trainer.py\", line 545, in fit\n",
      "    call._call_and_handle_interrupt(\n",
      "  File \"/Users/jjaniak/anaconda3/envs/studia_projekt/lib/python3.8/site-packages/pytorch_lightning/trainer/call.py\", line 44, in _call_and_handle_interrupt\n",
      "    return trainer_fn(*args, **kwargs)\n",
      "  File \"/Users/jjaniak/anaconda3/envs/studia_projekt/lib/python3.8/site-packages/pytorch_lightning/trainer/trainer.py\", line 581, in _fit_impl\n",
      "    self._run(model, ckpt_path=ckpt_path)\n",
      "  File \"/Users/jjaniak/anaconda3/envs/studia_projekt/lib/python3.8/site-packages/pytorch_lightning/trainer/trainer.py\", line 990, in _run\n",
      "    results = self._run_stage()\n",
      "  File \"/Users/jjaniak/anaconda3/envs/studia_projekt/lib/python3.8/site-packages/pytorch_lightning/trainer/trainer.py\", line 1034, in _run_stage\n",
      "    self._run_sanity_check()\n",
      "  File \"/Users/jjaniak/anaconda3/envs/studia_projekt/lib/python3.8/site-packages/pytorch_lightning/trainer/trainer.py\", line 1063, in _run_sanity_check\n",
      "    val_loop.run()\n",
      "  File \"/Users/jjaniak/anaconda3/envs/studia_projekt/lib/python3.8/site-packages/pytorch_lightning/loops/utilities.py\", line 181, in _decorator\n",
      "    return loop_run(self, *args, **kwargs)\n",
      "  File \"/Users/jjaniak/anaconda3/envs/studia_projekt/lib/python3.8/site-packages/pytorch_lightning/loops/evaluation_loop.py\", line 134, in run\n",
      "    self._evaluation_step(batch, batch_idx, dataloader_idx, dataloader_iter)\n",
      "  File \"/Users/jjaniak/anaconda3/envs/studia_projekt/lib/python3.8/site-packages/pytorch_lightning/loops/evaluation_loop.py\", line 391, in _evaluation_step\n",
      "    output = call._call_strategy_hook(trainer, hook_name, *step_args)\n",
      "  File \"/Users/jjaniak/anaconda3/envs/studia_projekt/lib/python3.8/site-packages/pytorch_lightning/trainer/call.py\", line 309, in _call_strategy_hook\n",
      "    output = fn(*args, **kwargs)\n",
      "  File \"/Users/jjaniak/anaconda3/envs/studia_projekt/lib/python3.8/site-packages/pytorch_lightning/strategies/strategy.py\", line 403, in validation_step\n",
      "    return self.lightning_module.validation_step(*args, **kwargs)\n",
      "  File \"/Users/jjaniak/Documents/studia/projekt/gradient/notebooks/downstream_tasks/../../src/lightning/hetero_gnn_module.py\", line 57, in validation_step\n",
      "    y_hat = self.model(batch.x_dict, batch.edge_index_dict, batch.edge_attr_dict)\n",
      "  File \"/Users/jjaniak/anaconda3/envs/studia_projekt/lib/python3.8/site-packages/torch/nn/modules/module.py\", line 1518, in _wrapped_call_impl\n",
      "    return self._call_impl(*args, **kwargs)\n",
      "  File \"/Users/jjaniak/anaconda3/envs/studia_projekt/lib/python3.8/site-packages/torch/nn/modules/module.py\", line 1527, in _call_impl\n",
      "    return forward_call(*args, **kwargs)\n",
      "  File \"/Users/jjaniak/Documents/studia/projekt/gradient/notebooks/downstream_tasks/../../src/baseline_models/HeteroGNN/HeteroGNN.py\", line 59, in forward\n",
      "    value = self._forward(x_dict, edge_index_dict, edge_atrr_dict)\n",
      "  File \"/Users/jjaniak/Documents/studia/projekt/gradient/notebooks/downstream_tasks/../../src/baseline_models/HeteroGNN/HeteroGNN.py\", line 74, in _forward\n",
      "    x_dict = conv(x_dict, edge_index_dict, edge_atrr_dict)\n",
      "  File \"/Users/jjaniak/anaconda3/envs/studia_projekt/lib/python3.8/site-packages/torch/nn/modules/module.py\", line 1518, in _wrapped_call_impl\n",
      "    return self._call_impl(*args, **kwargs)\n",
      "  File \"/Users/jjaniak/anaconda3/envs/studia_projekt/lib/python3.8/site-packages/torch/nn/modules/module.py\", line 1527, in _call_impl\n",
      "    return forward_call(*args, **kwargs)\n",
      "  File \"/Users/jjaniak/anaconda3/envs/studia_projekt/lib/python3.8/site-packages/torch_geometric/nn/conv/hetero_conv.py\", line 159, in forward\n",
      "    out = self.convs[edge_type](*args, **kwargs)\n",
      "  File \"/Users/jjaniak/anaconda3/envs/studia_projekt/lib/python3.8/site-packages/torch/nn/modules/module.py\", line 1518, in _wrapped_call_impl\n",
      "    return self._call_impl(*args, **kwargs)\n",
      "  File \"/Users/jjaniak/anaconda3/envs/studia_projekt/lib/python3.8/site-packages/torch/nn/modules/module.py\", line 1527, in _call_impl\n",
      "    return forward_call(*args, **kwargs)\n",
      "  File \"/Users/jjaniak/anaconda3/envs/studia_projekt/lib/python3.8/site-packages/torch_geometric/nn/conv/gat_conv.py\", line 213, in forward\n",
      "    x_src = x_dst = self.lin_src(x).view(-1, H, C)\n",
      "  File \"/Users/jjaniak/anaconda3/envs/studia_projekt/lib/python3.8/site-packages/torch/nn/modules/module.py\", line 1518, in _wrapped_call_impl\n",
      "    return self._call_impl(*args, **kwargs)\n",
      "  File \"/Users/jjaniak/anaconda3/envs/studia_projekt/lib/python3.8/site-packages/torch/nn/modules/module.py\", line 1527, in _call_impl\n",
      "    return forward_call(*args, **kwargs)\n",
      "  File \"/Users/jjaniak/anaconda3/envs/studia_projekt/lib/python3.8/site-packages/torch_geometric/nn/dense/linear.py\", line 130, in forward\n",
      "    return F.linear(x, self.weight, self.bias)\n",
      "RuntimeError: [srcBuf length] > 0 INTERNAL ASSERT FAILED at \"/Users/runner/work/pytorch/pytorch/pytorch/aten/src/ATen/native/mps/OperationUtils.mm\":327, please report a bug to PyTorch. Placeholder tensor is empty!\n",
      "\n",
      "\u001b[34m\u001b[1mwandb\u001b[0m: \u001b[32m\u001b[41mERROR\u001b[0m Run sr4rj1hi errored:\n",
      "\u001b[34m\u001b[1mwandb\u001b[0m: \u001b[32m\u001b[41mERROR\u001b[0m Traceback (most recent call last):\n",
      "\u001b[34m\u001b[1mwandb\u001b[0m: \u001b[32m\u001b[41mERROR\u001b[0m   File \"/Users/jjaniak/anaconda3/envs/studia_projekt/lib/python3.8/site-packages/wandb/agents/pyagent.py\", line 308, in _run_job\n",
      "\u001b[34m\u001b[1mwandb\u001b[0m: \u001b[32m\u001b[41mERROR\u001b[0m     self._function()\n",
      "\u001b[34m\u001b[1mwandb\u001b[0m: \u001b[32m\u001b[41mERROR\u001b[0m   File \"/var/folders/4k/8js3jm9n457cm4_v631zyrkw0000gn/T/ipykernel_37726/1604121319.py\", line 62, in wrapped\n",
      "\u001b[34m\u001b[1mwandb\u001b[0m: \u001b[32m\u001b[41mERROR\u001b[0m     auc, accuracy, f1, model_path = train(\n",
      "\u001b[34m\u001b[1mwandb\u001b[0m: \u001b[32m\u001b[41mERROR\u001b[0m   File \"/Users/jjaniak/Documents/studia/projekt/gradient/notebooks/downstream_tasks/../../src/training/train.py\", line 64, in train\n",
      "\u001b[34m\u001b[1mwandb\u001b[0m: \u001b[32m\u001b[41mERROR\u001b[0m     trainer.fit(model, train_loader, val_loader)\n",
      "\u001b[34m\u001b[1mwandb\u001b[0m: \u001b[32m\u001b[41mERROR\u001b[0m   File \"/Users/jjaniak/anaconda3/envs/studia_projekt/lib/python3.8/site-packages/pytorch_lightning/trainer/trainer.py\", line 545, in fit\n",
      "\u001b[34m\u001b[1mwandb\u001b[0m: \u001b[32m\u001b[41mERROR\u001b[0m     call._call_and_handle_interrupt(\n",
      "\u001b[34m\u001b[1mwandb\u001b[0m: \u001b[32m\u001b[41mERROR\u001b[0m   File \"/Users/jjaniak/anaconda3/envs/studia_projekt/lib/python3.8/site-packages/pytorch_lightning/trainer/call.py\", line 44, in _call_and_handle_interrupt\n",
      "\u001b[34m\u001b[1mwandb\u001b[0m: \u001b[32m\u001b[41mERROR\u001b[0m     return trainer_fn(*args, **kwargs)\n",
      "\u001b[34m\u001b[1mwandb\u001b[0m: \u001b[32m\u001b[41mERROR\u001b[0m   File \"/Users/jjaniak/anaconda3/envs/studia_projekt/lib/python3.8/site-packages/pytorch_lightning/trainer/trainer.py\", line 581, in _fit_impl\n",
      "\u001b[34m\u001b[1mwandb\u001b[0m: \u001b[32m\u001b[41mERROR\u001b[0m     self._run(model, ckpt_path=ckpt_path)\n",
      "\u001b[34m\u001b[1mwandb\u001b[0m: \u001b[32m\u001b[41mERROR\u001b[0m   File \"/Users/jjaniak/anaconda3/envs/studia_projekt/lib/python3.8/site-packages/pytorch_lightning/trainer/trainer.py\", line 990, in _run\n",
      "\u001b[34m\u001b[1mwandb\u001b[0m: \u001b[32m\u001b[41mERROR\u001b[0m     results = self._run_stage()\n",
      "\u001b[34m\u001b[1mwandb\u001b[0m: \u001b[32m\u001b[41mERROR\u001b[0m   File \"/Users/jjaniak/anaconda3/envs/studia_projekt/lib/python3.8/site-packages/pytorch_lightning/trainer/trainer.py\", line 1034, in _run_stage\n",
      "\u001b[34m\u001b[1mwandb\u001b[0m: \u001b[32m\u001b[41mERROR\u001b[0m     self._run_sanity_check()\n",
      "\u001b[34m\u001b[1mwandb\u001b[0m: \u001b[32m\u001b[41mERROR\u001b[0m   File \"/Users/jjaniak/anaconda3/envs/studia_projekt/lib/python3.8/site-packages/pytorch_lightning/trainer/trainer.py\", line 1063, in _run_sanity_check\n",
      "\u001b[34m\u001b[1mwandb\u001b[0m: \u001b[32m\u001b[41mERROR\u001b[0m     val_loop.run()\n",
      "\u001b[34m\u001b[1mwandb\u001b[0m: \u001b[32m\u001b[41mERROR\u001b[0m   File \"/Users/jjaniak/anaconda3/envs/studia_projekt/lib/python3.8/site-packages/pytorch_lightning/loops/utilities.py\", line 181, in _decorator\n",
      "\u001b[34m\u001b[1mwandb\u001b[0m: \u001b[32m\u001b[41mERROR\u001b[0m     return loop_run(self, *args, **kwargs)\n",
      "\u001b[34m\u001b[1mwandb\u001b[0m: \u001b[32m\u001b[41mERROR\u001b[0m   File \"/Users/jjaniak/anaconda3/envs/studia_projekt/lib/python3.8/site-packages/pytorch_lightning/loops/evaluation_loop.py\", line 134, in run\n",
      "\u001b[34m\u001b[1mwandb\u001b[0m: \u001b[32m\u001b[41mERROR\u001b[0m     self._evaluation_step(batch, batch_idx, dataloader_idx, dataloader_iter)\n",
      "\u001b[34m\u001b[1mwandb\u001b[0m: \u001b[32m\u001b[41mERROR\u001b[0m   File \"/Users/jjaniak/anaconda3/envs/studia_projekt/lib/python3.8/site-packages/pytorch_lightning/loops/evaluation_loop.py\", line 391, in _evaluation_step\n",
      "\u001b[34m\u001b[1mwandb\u001b[0m: \u001b[32m\u001b[41mERROR\u001b[0m     output = call._call_strategy_hook(trainer, hook_name, *step_args)\n",
      "\u001b[34m\u001b[1mwandb\u001b[0m: \u001b[32m\u001b[41mERROR\u001b[0m   File \"/Users/jjaniak/anaconda3/envs/studia_projekt/lib/python3.8/site-packages/pytorch_lightning/trainer/call.py\", line 309, in _call_strategy_hook\n",
      "\u001b[34m\u001b[1mwandb\u001b[0m: \u001b[32m\u001b[41mERROR\u001b[0m     output = fn(*args, **kwargs)\n",
      "\u001b[34m\u001b[1mwandb\u001b[0m: \u001b[32m\u001b[41mERROR\u001b[0m   File \"/Users/jjaniak/anaconda3/envs/studia_projekt/lib/python3.8/site-packages/pytorch_lightning/strategies/strategy.py\", line 403, in validation_step\n",
      "\u001b[34m\u001b[1mwandb\u001b[0m: \u001b[32m\u001b[41mERROR\u001b[0m     return self.lightning_module.validation_step(*args, **kwargs)\n",
      "\u001b[34m\u001b[1mwandb\u001b[0m: \u001b[32m\u001b[41mERROR\u001b[0m   File \"/Users/jjaniak/Documents/studia/projekt/gradient/notebooks/downstream_tasks/../../src/lightning/hetero_gnn_module.py\", line 57, in validation_step\n",
      "\u001b[34m\u001b[1mwandb\u001b[0m: \u001b[32m\u001b[41mERROR\u001b[0m     y_hat = self.model(batch.x_dict, batch.edge_index_dict, batch.edge_attr_dict)\n",
      "\u001b[34m\u001b[1mwandb\u001b[0m: \u001b[32m\u001b[41mERROR\u001b[0m   File \"/Users/jjaniak/anaconda3/envs/studia_projekt/lib/python3.8/site-packages/torch/nn/modules/module.py\", line 1518, in _wrapped_call_impl\n",
      "\u001b[34m\u001b[1mwandb\u001b[0m: \u001b[32m\u001b[41mERROR\u001b[0m     return self._call_impl(*args, **kwargs)\n",
      "\u001b[34m\u001b[1mwandb\u001b[0m: \u001b[32m\u001b[41mERROR\u001b[0m   File \"/Users/jjaniak/anaconda3/envs/studia_projekt/lib/python3.8/site-packages/torch/nn/modules/module.py\", line 1527, in _call_impl\n",
      "\u001b[34m\u001b[1mwandb\u001b[0m: \u001b[32m\u001b[41mERROR\u001b[0m     return forward_call(*args, **kwargs)\n",
      "\u001b[34m\u001b[1mwandb\u001b[0m: \u001b[32m\u001b[41mERROR\u001b[0m   File \"/Users/jjaniak/Documents/studia/projekt/gradient/notebooks/downstream_tasks/../../src/baseline_models/HeteroGNN/HeteroGNN.py\", line 59, in forward\n",
      "\u001b[34m\u001b[1mwandb\u001b[0m: \u001b[32m\u001b[41mERROR\u001b[0m     value = self._forward(x_dict, edge_index_dict, edge_atrr_dict)\n",
      "\u001b[34m\u001b[1mwandb\u001b[0m: \u001b[32m\u001b[41mERROR\u001b[0m   File \"/Users/jjaniak/Documents/studia/projekt/gradient/notebooks/downstream_tasks/../../src/baseline_models/HeteroGNN/HeteroGNN.py\", line 74, in _forward\n",
      "\u001b[34m\u001b[1mwandb\u001b[0m: \u001b[32m\u001b[41mERROR\u001b[0m     x_dict = conv(x_dict, edge_index_dict, edge_atrr_dict)\n",
      "\u001b[34m\u001b[1mwandb\u001b[0m: \u001b[32m\u001b[41mERROR\u001b[0m   File \"/Users/jjaniak/anaconda3/envs/studia_projekt/lib/python3.8/site-packages/torch/nn/modules/module.py\", line 1518, in _wrapped_call_impl\n",
      "\u001b[34m\u001b[1mwandb\u001b[0m: \u001b[32m\u001b[41mERROR\u001b[0m     return self._call_impl(*args, **kwargs)\n",
      "\u001b[34m\u001b[1mwandb\u001b[0m: \u001b[32m\u001b[41mERROR\u001b[0m   File \"/Users/jjaniak/anaconda3/envs/studia_projekt/lib/python3.8/site-packages/torch/nn/modules/module.py\", line 1527, in _call_impl\n",
      "\u001b[34m\u001b[1mwandb\u001b[0m: \u001b[32m\u001b[41mERROR\u001b[0m     return forward_call(*args, **kwargs)\n",
      "\u001b[34m\u001b[1mwandb\u001b[0m: \u001b[32m\u001b[41mERROR\u001b[0m   File \"/Users/jjaniak/anaconda3/envs/studia_projekt/lib/python3.8/site-packages/torch_geometric/nn/conv/hetero_conv.py\", line 159, in forward\n",
      "\u001b[34m\u001b[1mwandb\u001b[0m: \u001b[32m\u001b[41mERROR\u001b[0m     out = self.convs[edge_type](*args, **kwargs)\n",
      "\u001b[34m\u001b[1mwandb\u001b[0m: \u001b[32m\u001b[41mERROR\u001b[0m   File \"/Users/jjaniak/anaconda3/envs/studia_projekt/lib/python3.8/site-packages/torch/nn/modules/module.py\", line 1518, in _wrapped_call_impl\n",
      "\u001b[34m\u001b[1mwandb\u001b[0m: \u001b[32m\u001b[41mERROR\u001b[0m     return self._call_impl(*args, **kwargs)\n",
      "\u001b[34m\u001b[1mwandb\u001b[0m: \u001b[32m\u001b[41mERROR\u001b[0m   File \"/Users/jjaniak/anaconda3/envs/studia_projekt/lib/python3.8/site-packages/torch/nn/modules/module.py\", line 1527, in _call_impl\n",
      "\u001b[34m\u001b[1mwandb\u001b[0m: \u001b[32m\u001b[41mERROR\u001b[0m     return forward_call(*args, **kwargs)\n",
      "\u001b[34m\u001b[1mwandb\u001b[0m: \u001b[32m\u001b[41mERROR\u001b[0m   File \"/Users/jjaniak/anaconda3/envs/studia_projekt/lib/python3.8/site-packages/torch_geometric/nn/conv/gat_conv.py\", line 213, in forward\n",
      "\u001b[34m\u001b[1mwandb\u001b[0m: \u001b[32m\u001b[41mERROR\u001b[0m     x_src = x_dst = self.lin_src(x).view(-1, H, C)\n",
      "\u001b[34m\u001b[1mwandb\u001b[0m: \u001b[32m\u001b[41mERROR\u001b[0m   File \"/Users/jjaniak/anaconda3/envs/studia_projekt/lib/python3.8/site-packages/torch/nn/modules/module.py\", line 1518, in _wrapped_call_impl\n",
      "\u001b[34m\u001b[1mwandb\u001b[0m: \u001b[32m\u001b[41mERROR\u001b[0m     return self._call_impl(*args, **kwargs)\n",
      "\u001b[34m\u001b[1mwandb\u001b[0m: \u001b[32m\u001b[41mERROR\u001b[0m   File \"/Users/jjaniak/anaconda3/envs/studia_projekt/lib/python3.8/site-packages/torch/nn/modules/module.py\", line 1527, in _call_impl\n",
      "\u001b[34m\u001b[1mwandb\u001b[0m: \u001b[32m\u001b[41mERROR\u001b[0m     return forward_call(*args, **kwargs)\n",
      "\u001b[34m\u001b[1mwandb\u001b[0m: \u001b[32m\u001b[41mERROR\u001b[0m   File \"/Users/jjaniak/anaconda3/envs/studia_projekt/lib/python3.8/site-packages/torch_geometric/nn/dense/linear.py\", line 130, in forward\n",
      "\u001b[34m\u001b[1mwandb\u001b[0m: \u001b[32m\u001b[41mERROR\u001b[0m     return F.linear(x, self.weight, self.bias)\n",
      "\u001b[34m\u001b[1mwandb\u001b[0m: \u001b[32m\u001b[41mERROR\u001b[0m RuntimeError: [srcBuf length] > 0 INTERNAL ASSERT FAILED at \"/Users/runner/work/pytorch/pytorch/pytorch/aten/src/ATen/native/mps/OperationUtils.mm\":327, please report a bug to PyTorch. Placeholder tensor is empty!\n",
      "\u001b[34m\u001b[1mwandb\u001b[0m: \u001b[32m\u001b[41mERROR\u001b[0m \n",
      "\u001b[34m\u001b[1mwandb\u001b[0m: Agent Starting Run: o4uqmb73 with config:\n",
      "\u001b[34m\u001b[1mwandb\u001b[0m: \thidden_channels: 10\n",
      "\u001b[34m\u001b[1mwandb\u001b[0m: \tlearning_rate: 1.185173771397138e-05\n",
      "\u001b[34m\u001b[1mwandb\u001b[0m: \tlin_layer_size: 128\n",
      "\u001b[34m\u001b[1mwandb\u001b[0m: \tnum_conv_layers: 5\n",
      "\u001b[34m\u001b[1mwandb\u001b[0m: \tnum_lin_layers: 1\n",
      "\u001b[34m\u001b[1mwandb\u001b[0m: \tweight_decay: 0.00013321386184627807\n",
      "Failed to detect the name of this notebook, you can set it manually with the WANDB_NOTEBOOK_NAME environment variable to enable code saving.\n"
     ]
    },
    {
     "data": {
      "text/html": [
       "wandb version 0.17.0 is available!  To upgrade, please run:\n",
       " $ pip install wandb --upgrade"
      ],
      "text/plain": [
       "<IPython.core.display.HTML object>"
      ]
     },
     "metadata": {},
     "output_type": "display_data"
    },
    {
     "data": {
      "text/html": [
       "Tracking run with wandb version 0.16.4"
      ],
      "text/plain": [
       "<IPython.core.display.HTML object>"
      ]
     },
     "metadata": {},
     "output_type": "display_data"
    },
    {
     "data": {
      "text/html": [
       "Run data is saved locally in <code>/Users/jjaniak/Documents/studia/projekt/gradient/notebooks/downstream_tasks/wandb/run-20240604_115559-o4uqmb73</code>"
      ],
      "text/plain": [
       "<IPython.core.display.HTML object>"
      ]
     },
     "metadata": {},
     "output_type": "display_data"
    },
    {
     "data": {
      "text/html": [
       "Syncing run <strong><a href='https://wandb.ai/gradient_pwr/zabka-downstream-task/runs/o4uqmb73' target=\"_blank\">blooming-sweep-6</a></strong> to <a href='https://wandb.ai/gradient_pwr/zabka-downstream-task' target=\"_blank\">Weights & Biases</a> (<a href='https://wandb.me/run' target=\"_blank\">docs</a>)<br/>Sweep page: <a href='https://wandb.ai/gradient_pwr/zabka-downstream-task/sweeps/xfv6c74m' target=\"_blank\">https://wandb.ai/gradient_pwr/zabka-downstream-task/sweeps/xfv6c74m</a>"
      ],
      "text/plain": [
       "<IPython.core.display.HTML object>"
      ]
     },
     "metadata": {},
     "output_type": "display_data"
    },
    {
     "data": {
      "text/html": [
       " View project at <a href='https://wandb.ai/gradient_pwr/zabka-downstream-task' target=\"_blank\">https://wandb.ai/gradient_pwr/zabka-downstream-task</a>"
      ],
      "text/plain": [
       "<IPython.core.display.HTML object>"
      ]
     },
     "metadata": {},
     "output_type": "display_data"
    },
    {
     "data": {
      "text/html": [
       " View sweep at <a href='https://wandb.ai/gradient_pwr/zabka-downstream-task/sweeps/xfv6c74m' target=\"_blank\">https://wandb.ai/gradient_pwr/zabka-downstream-task/sweeps/xfv6c74m</a>"
      ],
      "text/plain": [
       "<IPython.core.display.HTML object>"
      ]
     },
     "metadata": {},
     "output_type": "display_data"
    },
    {
     "data": {
      "text/html": [
       " View run at <a href='https://wandb.ai/gradient_pwr/zabka-downstream-task/runs/o4uqmb73' target=\"_blank\">https://wandb.ai/gradient_pwr/zabka-downstream-task/runs/o4uqmb73</a>"
      ],
      "text/plain": [
       "<IPython.core.display.HTML object>"
      ]
     },
     "metadata": {},
     "output_type": "display_data"
    },
    {
     "name": "stderr",
     "output_type": "stream",
     "text": [
      "/Users/jjaniak/anaconda3/envs/studia_projekt/lib/python3.8/site-packages/torch_geometric/deprecation.py:22: UserWarning: 'data.DataLoader' is deprecated, use 'loader.DataLoader' instead\n",
      "  warnings.warn(out)\n",
      "GPU available: True (mps), used: True\n",
      "TPU available: False, using: 0 TPU cores\n",
      "IPU available: False, using: 0 IPUs\n",
      "HPU available: False, using: 0 HPUs\n",
      "Missing logger folder: ../../gradient_logs/2024_06_04_11_56_04/lightning_logs\n",
      "\n",
      "  | Name  | Type      | Params\n",
      "------------------------------------\n",
      "0 | model | HeteroGNN | 8.2 K \n",
      "------------------------------------\n",
      "8.2 K     Trainable params\n",
      "0         Non-trainable params\n",
      "8.2 K     Total params\n",
      "0.033     Total estimated model params size (MB)\n"
     ]
    },
    {
     "data": {
      "application/vnd.jupyter.widget-view+json": {
       "model_id": "e6291db72ad540f3967aef9a37eaffc6",
       "version_major": 2,
       "version_minor": 0
      },
      "text/plain": [
       "Sanity Checking: |          | 0/? [00:00<?, ?it/s]"
      ]
     },
     "metadata": {},
     "output_type": "display_data"
    },
    {
     "name": "stderr",
     "output_type": "stream",
     "text": [
      "/Users/jjaniak/anaconda3/envs/studia_projekt/lib/python3.8/site-packages/pytorch_lightning/trainer/connectors/data_connector.py:441: The 'val_dataloader' does not have many workers which may be a bottleneck. Consider increasing the value of the `num_workers` argument` to `num_workers=11` in the `DataLoader` to improve performance.\n"
     ]
    },
    {
     "data": {
      "application/vnd.jupyter.widget-view+json": {
       "model_id": "86ca949bb3b246ec8e646c43ad863a38",
       "version_major": 2,
       "version_minor": 0
      },
      "text/plain": [
       "VBox(children=(Label(value='0.001 MB of 0.001 MB uploaded\\r'), FloatProgress(value=1.0, max=1.0)))"
      ]
     },
     "metadata": {},
     "output_type": "display_data"
    },
    {
     "data": {
      "text/html": [
       "<style>\n",
       "    table.wandb td:nth-child(1) { padding: 0 10px; text-align: left ; width: auto;} td:nth-child(2) {text-align: left ; width: 100%}\n",
       "    .wandb-row { display: flex; flex-direction: row; flex-wrap: wrap; justify-content: flex-start; width: 100% }\n",
       "    .wandb-col { display: flex; flex-direction: column; flex-basis: 100%; flex: 1; padding: 10px; }\n",
       "    </style>\n",
       "<div class=\"wandb-row\"><div class=\"wandb-col\"><h3>Run history:</h3><br/><table class=\"wandb\"><tr><td>USE_HEXES_ATTRS</td><td>▁</td></tr><tr><td>USE_ORTOPHOTO</td><td>▁</td></tr><tr><td>USE_OSMNX_ATTRS</td><td>▁</td></tr></table><br/></div><div class=\"wandb-col\"><h3>Run summary:</h3><br/><table class=\"wandb\"><tr><td>USE_HEXES_ATTRS</td><td>0</td></tr><tr><td>USE_ORTOPHOTO</td><td>0</td></tr><tr><td>USE_OSMNX_ATTRS</td><td>1</td></tr><tr><td>data_structure</td><td>graph</td></tr></table><br/></div></div>"
      ],
      "text/plain": [
       "<IPython.core.display.HTML object>"
      ]
     },
     "metadata": {},
     "output_type": "display_data"
    },
    {
     "data": {
      "text/html": [
       " View run <strong style=\"color:#cdcd00\">blooming-sweep-6</strong> at: <a href='https://wandb.ai/gradient_pwr/zabka-downstream-task/runs/o4uqmb73' target=\"_blank\">https://wandb.ai/gradient_pwr/zabka-downstream-task/runs/o4uqmb73</a><br/>Synced 6 W&B file(s), 0 media file(s), 0 artifact file(s) and 0 other file(s)"
      ],
      "text/plain": [
       "<IPython.core.display.HTML object>"
      ]
     },
     "metadata": {},
     "output_type": "display_data"
    },
    {
     "data": {
      "text/html": [
       "Find logs at: <code>./wandb/run-20240604_115559-o4uqmb73/logs</code>"
      ],
      "text/plain": [
       "<IPython.core.display.HTML object>"
      ]
     },
     "metadata": {},
     "output_type": "display_data"
    },
    {
     "name": "stderr",
     "output_type": "stream",
     "text": [
      "Run o4uqmb73 errored:\n",
      "Traceback (most recent call last):\n",
      "  File \"/Users/jjaniak/anaconda3/envs/studia_projekt/lib/python3.8/site-packages/wandb/agents/pyagent.py\", line 308, in _run_job\n",
      "    self._function()\n",
      "  File \"/var/folders/4k/8js3jm9n457cm4_v631zyrkw0000gn/T/ipykernel_37726/1604121319.py\", line 62, in wrapped\n",
      "    auc, accuracy, f1, model_path = train(\n",
      "  File \"/Users/jjaniak/Documents/studia/projekt/gradient/notebooks/downstream_tasks/../../src/training/train.py\", line 64, in train\n",
      "    trainer.fit(model, train_loader, val_loader)\n",
      "  File \"/Users/jjaniak/anaconda3/envs/studia_projekt/lib/python3.8/site-packages/pytorch_lightning/trainer/trainer.py\", line 545, in fit\n",
      "    call._call_and_handle_interrupt(\n",
      "  File \"/Users/jjaniak/anaconda3/envs/studia_projekt/lib/python3.8/site-packages/pytorch_lightning/trainer/call.py\", line 44, in _call_and_handle_interrupt\n",
      "    return trainer_fn(*args, **kwargs)\n",
      "  File \"/Users/jjaniak/anaconda3/envs/studia_projekt/lib/python3.8/site-packages/pytorch_lightning/trainer/trainer.py\", line 581, in _fit_impl\n",
      "    self._run(model, ckpt_path=ckpt_path)\n",
      "  File \"/Users/jjaniak/anaconda3/envs/studia_projekt/lib/python3.8/site-packages/pytorch_lightning/trainer/trainer.py\", line 990, in _run\n",
      "    results = self._run_stage()\n",
      "  File \"/Users/jjaniak/anaconda3/envs/studia_projekt/lib/python3.8/site-packages/pytorch_lightning/trainer/trainer.py\", line 1034, in _run_stage\n",
      "    self._run_sanity_check()\n",
      "  File \"/Users/jjaniak/anaconda3/envs/studia_projekt/lib/python3.8/site-packages/pytorch_lightning/trainer/trainer.py\", line 1063, in _run_sanity_check\n",
      "    val_loop.run()\n",
      "  File \"/Users/jjaniak/anaconda3/envs/studia_projekt/lib/python3.8/site-packages/pytorch_lightning/loops/utilities.py\", line 181, in _decorator\n",
      "    return loop_run(self, *args, **kwargs)\n",
      "  File \"/Users/jjaniak/anaconda3/envs/studia_projekt/lib/python3.8/site-packages/pytorch_lightning/loops/evaluation_loop.py\", line 134, in run\n",
      "    self._evaluation_step(batch, batch_idx, dataloader_idx, dataloader_iter)\n",
      "  File \"/Users/jjaniak/anaconda3/envs/studia_projekt/lib/python3.8/site-packages/pytorch_lightning/loops/evaluation_loop.py\", line 391, in _evaluation_step\n",
      "    output = call._call_strategy_hook(trainer, hook_name, *step_args)\n",
      "  File \"/Users/jjaniak/anaconda3/envs/studia_projekt/lib/python3.8/site-packages/pytorch_lightning/trainer/call.py\", line 309, in _call_strategy_hook\n",
      "    output = fn(*args, **kwargs)\n",
      "  File \"/Users/jjaniak/anaconda3/envs/studia_projekt/lib/python3.8/site-packages/pytorch_lightning/strategies/strategy.py\", line 403, in validation_step\n",
      "    return self.lightning_module.validation_step(*args, **kwargs)\n",
      "  File \"/Users/jjaniak/Documents/studia/projekt/gradient/notebooks/downstream_tasks/../../src/lightning/hetero_gnn_module.py\", line 57, in validation_step\n",
      "    y_hat = self.model(batch.x_dict, batch.edge_index_dict, batch.edge_attr_dict)\n",
      "  File \"/Users/jjaniak/anaconda3/envs/studia_projekt/lib/python3.8/site-packages/torch/nn/modules/module.py\", line 1518, in _wrapped_call_impl\n",
      "    return self._call_impl(*args, **kwargs)\n",
      "  File \"/Users/jjaniak/anaconda3/envs/studia_projekt/lib/python3.8/site-packages/torch/nn/modules/module.py\", line 1527, in _call_impl\n",
      "    return forward_call(*args, **kwargs)\n",
      "  File \"/Users/jjaniak/Documents/studia/projekt/gradient/notebooks/downstream_tasks/../../src/baseline_models/HeteroGNN/HeteroGNN.py\", line 59, in forward\n",
      "    value = self._forward(x_dict, edge_index_dict, edge_atrr_dict)\n",
      "  File \"/Users/jjaniak/Documents/studia/projekt/gradient/notebooks/downstream_tasks/../../src/baseline_models/HeteroGNN/HeteroGNN.py\", line 74, in _forward\n",
      "    x_dict = conv(x_dict, edge_index_dict, edge_atrr_dict)\n",
      "  File \"/Users/jjaniak/anaconda3/envs/studia_projekt/lib/python3.8/site-packages/torch/nn/modules/module.py\", line 1518, in _wrapped_call_impl\n",
      "    return self._call_impl(*args, **kwargs)\n",
      "  File \"/Users/jjaniak/anaconda3/envs/studia_projekt/lib/python3.8/site-packages/torch/nn/modules/module.py\", line 1527, in _call_impl\n",
      "    return forward_call(*args, **kwargs)\n",
      "  File \"/Users/jjaniak/anaconda3/envs/studia_projekt/lib/python3.8/site-packages/torch_geometric/nn/conv/hetero_conv.py\", line 159, in forward\n",
      "    out = self.convs[edge_type](*args, **kwargs)\n",
      "  File \"/Users/jjaniak/anaconda3/envs/studia_projekt/lib/python3.8/site-packages/torch/nn/modules/module.py\", line 1518, in _wrapped_call_impl\n",
      "    return self._call_impl(*args, **kwargs)\n",
      "  File \"/Users/jjaniak/anaconda3/envs/studia_projekt/lib/python3.8/site-packages/torch/nn/modules/module.py\", line 1527, in _call_impl\n",
      "    return forward_call(*args, **kwargs)\n",
      "  File \"/Users/jjaniak/anaconda3/envs/studia_projekt/lib/python3.8/site-packages/torch_geometric/nn/conv/gat_conv.py\", line 213, in forward\n",
      "    x_src = x_dst = self.lin_src(x).view(-1, H, C)\n",
      "  File \"/Users/jjaniak/anaconda3/envs/studia_projekt/lib/python3.8/site-packages/torch/nn/modules/module.py\", line 1518, in _wrapped_call_impl\n",
      "    return self._call_impl(*args, **kwargs)\n",
      "  File \"/Users/jjaniak/anaconda3/envs/studia_projekt/lib/python3.8/site-packages/torch/nn/modules/module.py\", line 1527, in _call_impl\n",
      "    return forward_call(*args, **kwargs)\n",
      "  File \"/Users/jjaniak/anaconda3/envs/studia_projekt/lib/python3.8/site-packages/torch_geometric/nn/dense/linear.py\", line 130, in forward\n",
      "    return F.linear(x, self.weight, self.bias)\n",
      "RuntimeError: [srcBuf length] > 0 INTERNAL ASSERT FAILED at \"/Users/runner/work/pytorch/pytorch/pytorch/aten/src/ATen/native/mps/OperationUtils.mm\":327, please report a bug to PyTorch. Placeholder tensor is empty!\n",
      "\n",
      "\u001b[34m\u001b[1mwandb\u001b[0m: \u001b[32m\u001b[41mERROR\u001b[0m Run o4uqmb73 errored:\n",
      "\u001b[34m\u001b[1mwandb\u001b[0m: \u001b[32m\u001b[41mERROR\u001b[0m Traceback (most recent call last):\n",
      "\u001b[34m\u001b[1mwandb\u001b[0m: \u001b[32m\u001b[41mERROR\u001b[0m   File \"/Users/jjaniak/anaconda3/envs/studia_projekt/lib/python3.8/site-packages/wandb/agents/pyagent.py\", line 308, in _run_job\n",
      "\u001b[34m\u001b[1mwandb\u001b[0m: \u001b[32m\u001b[41mERROR\u001b[0m     self._function()\n",
      "\u001b[34m\u001b[1mwandb\u001b[0m: \u001b[32m\u001b[41mERROR\u001b[0m   File \"/var/folders/4k/8js3jm9n457cm4_v631zyrkw0000gn/T/ipykernel_37726/1604121319.py\", line 62, in wrapped\n",
      "\u001b[34m\u001b[1mwandb\u001b[0m: \u001b[32m\u001b[41mERROR\u001b[0m     auc, accuracy, f1, model_path = train(\n",
      "\u001b[34m\u001b[1mwandb\u001b[0m: \u001b[32m\u001b[41mERROR\u001b[0m   File \"/Users/jjaniak/Documents/studia/projekt/gradient/notebooks/downstream_tasks/../../src/training/train.py\", line 64, in train\n",
      "\u001b[34m\u001b[1mwandb\u001b[0m: \u001b[32m\u001b[41mERROR\u001b[0m     trainer.fit(model, train_loader, val_loader)\n",
      "\u001b[34m\u001b[1mwandb\u001b[0m: \u001b[32m\u001b[41mERROR\u001b[0m   File \"/Users/jjaniak/anaconda3/envs/studia_projekt/lib/python3.8/site-packages/pytorch_lightning/trainer/trainer.py\", line 545, in fit\n",
      "\u001b[34m\u001b[1mwandb\u001b[0m: \u001b[32m\u001b[41mERROR\u001b[0m     call._call_and_handle_interrupt(\n",
      "\u001b[34m\u001b[1mwandb\u001b[0m: \u001b[32m\u001b[41mERROR\u001b[0m   File \"/Users/jjaniak/anaconda3/envs/studia_projekt/lib/python3.8/site-packages/pytorch_lightning/trainer/call.py\", line 44, in _call_and_handle_interrupt\n",
      "\u001b[34m\u001b[1mwandb\u001b[0m: \u001b[32m\u001b[41mERROR\u001b[0m     return trainer_fn(*args, **kwargs)\n",
      "\u001b[34m\u001b[1mwandb\u001b[0m: \u001b[32m\u001b[41mERROR\u001b[0m   File \"/Users/jjaniak/anaconda3/envs/studia_projekt/lib/python3.8/site-packages/pytorch_lightning/trainer/trainer.py\", line 581, in _fit_impl\n",
      "\u001b[34m\u001b[1mwandb\u001b[0m: \u001b[32m\u001b[41mERROR\u001b[0m     self._run(model, ckpt_path=ckpt_path)\n",
      "\u001b[34m\u001b[1mwandb\u001b[0m: \u001b[32m\u001b[41mERROR\u001b[0m   File \"/Users/jjaniak/anaconda3/envs/studia_projekt/lib/python3.8/site-packages/pytorch_lightning/trainer/trainer.py\", line 990, in _run\n",
      "\u001b[34m\u001b[1mwandb\u001b[0m: \u001b[32m\u001b[41mERROR\u001b[0m     results = self._run_stage()\n",
      "\u001b[34m\u001b[1mwandb\u001b[0m: \u001b[32m\u001b[41mERROR\u001b[0m   File \"/Users/jjaniak/anaconda3/envs/studia_projekt/lib/python3.8/site-packages/pytorch_lightning/trainer/trainer.py\", line 1034, in _run_stage\n",
      "\u001b[34m\u001b[1mwandb\u001b[0m: \u001b[32m\u001b[41mERROR\u001b[0m     self._run_sanity_check()\n",
      "\u001b[34m\u001b[1mwandb\u001b[0m: \u001b[32m\u001b[41mERROR\u001b[0m   File \"/Users/jjaniak/anaconda3/envs/studia_projekt/lib/python3.8/site-packages/pytorch_lightning/trainer/trainer.py\", line 1063, in _run_sanity_check\n",
      "\u001b[34m\u001b[1mwandb\u001b[0m: \u001b[32m\u001b[41mERROR\u001b[0m     val_loop.run()\n",
      "\u001b[34m\u001b[1mwandb\u001b[0m: \u001b[32m\u001b[41mERROR\u001b[0m   File \"/Users/jjaniak/anaconda3/envs/studia_projekt/lib/python3.8/site-packages/pytorch_lightning/loops/utilities.py\", line 181, in _decorator\n",
      "\u001b[34m\u001b[1mwandb\u001b[0m: \u001b[32m\u001b[41mERROR\u001b[0m     return loop_run(self, *args, **kwargs)\n",
      "\u001b[34m\u001b[1mwandb\u001b[0m: \u001b[32m\u001b[41mERROR\u001b[0m   File \"/Users/jjaniak/anaconda3/envs/studia_projekt/lib/python3.8/site-packages/pytorch_lightning/loops/evaluation_loop.py\", line 134, in run\n",
      "\u001b[34m\u001b[1mwandb\u001b[0m: \u001b[32m\u001b[41mERROR\u001b[0m     self._evaluation_step(batch, batch_idx, dataloader_idx, dataloader_iter)\n",
      "\u001b[34m\u001b[1mwandb\u001b[0m: \u001b[32m\u001b[41mERROR\u001b[0m   File \"/Users/jjaniak/anaconda3/envs/studia_projekt/lib/python3.8/site-packages/pytorch_lightning/loops/evaluation_loop.py\", line 391, in _evaluation_step\n",
      "\u001b[34m\u001b[1mwandb\u001b[0m: \u001b[32m\u001b[41mERROR\u001b[0m     output = call._call_strategy_hook(trainer, hook_name, *step_args)\n",
      "\u001b[34m\u001b[1mwandb\u001b[0m: \u001b[32m\u001b[41mERROR\u001b[0m   File \"/Users/jjaniak/anaconda3/envs/studia_projekt/lib/python3.8/site-packages/pytorch_lightning/trainer/call.py\", line 309, in _call_strategy_hook\n",
      "\u001b[34m\u001b[1mwandb\u001b[0m: \u001b[32m\u001b[41mERROR\u001b[0m     output = fn(*args, **kwargs)\n",
      "\u001b[34m\u001b[1mwandb\u001b[0m: \u001b[32m\u001b[41mERROR\u001b[0m   File \"/Users/jjaniak/anaconda3/envs/studia_projekt/lib/python3.8/site-packages/pytorch_lightning/strategies/strategy.py\", line 403, in validation_step\n",
      "\u001b[34m\u001b[1mwandb\u001b[0m: \u001b[32m\u001b[41mERROR\u001b[0m     return self.lightning_module.validation_step(*args, **kwargs)\n",
      "\u001b[34m\u001b[1mwandb\u001b[0m: \u001b[32m\u001b[41mERROR\u001b[0m   File \"/Users/jjaniak/Documents/studia/projekt/gradient/notebooks/downstream_tasks/../../src/lightning/hetero_gnn_module.py\", line 57, in validation_step\n",
      "\u001b[34m\u001b[1mwandb\u001b[0m: \u001b[32m\u001b[41mERROR\u001b[0m     y_hat = self.model(batch.x_dict, batch.edge_index_dict, batch.edge_attr_dict)\n",
      "\u001b[34m\u001b[1mwandb\u001b[0m: \u001b[32m\u001b[41mERROR\u001b[0m   File \"/Users/jjaniak/anaconda3/envs/studia_projekt/lib/python3.8/site-packages/torch/nn/modules/module.py\", line 1518, in _wrapped_call_impl\n",
      "\u001b[34m\u001b[1mwandb\u001b[0m: \u001b[32m\u001b[41mERROR\u001b[0m     return self._call_impl(*args, **kwargs)\n",
      "\u001b[34m\u001b[1mwandb\u001b[0m: \u001b[32m\u001b[41mERROR\u001b[0m   File \"/Users/jjaniak/anaconda3/envs/studia_projekt/lib/python3.8/site-packages/torch/nn/modules/module.py\", line 1527, in _call_impl\n",
      "\u001b[34m\u001b[1mwandb\u001b[0m: \u001b[32m\u001b[41mERROR\u001b[0m     return forward_call(*args, **kwargs)\n",
      "\u001b[34m\u001b[1mwandb\u001b[0m: \u001b[32m\u001b[41mERROR\u001b[0m   File \"/Users/jjaniak/Documents/studia/projekt/gradient/notebooks/downstream_tasks/../../src/baseline_models/HeteroGNN/HeteroGNN.py\", line 59, in forward\n",
      "\u001b[34m\u001b[1mwandb\u001b[0m: \u001b[32m\u001b[41mERROR\u001b[0m     value = self._forward(x_dict, edge_index_dict, edge_atrr_dict)\n",
      "\u001b[34m\u001b[1mwandb\u001b[0m: \u001b[32m\u001b[41mERROR\u001b[0m   File \"/Users/jjaniak/Documents/studia/projekt/gradient/notebooks/downstream_tasks/../../src/baseline_models/HeteroGNN/HeteroGNN.py\", line 74, in _forward\n",
      "\u001b[34m\u001b[1mwandb\u001b[0m: \u001b[32m\u001b[41mERROR\u001b[0m     x_dict = conv(x_dict, edge_index_dict, edge_atrr_dict)\n",
      "\u001b[34m\u001b[1mwandb\u001b[0m: \u001b[32m\u001b[41mERROR\u001b[0m   File \"/Users/jjaniak/anaconda3/envs/studia_projekt/lib/python3.8/site-packages/torch/nn/modules/module.py\", line 1518, in _wrapped_call_impl\n",
      "\u001b[34m\u001b[1mwandb\u001b[0m: \u001b[32m\u001b[41mERROR\u001b[0m     return self._call_impl(*args, **kwargs)\n",
      "\u001b[34m\u001b[1mwandb\u001b[0m: \u001b[32m\u001b[41mERROR\u001b[0m   File \"/Users/jjaniak/anaconda3/envs/studia_projekt/lib/python3.8/site-packages/torch/nn/modules/module.py\", line 1527, in _call_impl\n",
      "\u001b[34m\u001b[1mwandb\u001b[0m: \u001b[32m\u001b[41mERROR\u001b[0m     return forward_call(*args, **kwargs)\n",
      "\u001b[34m\u001b[1mwandb\u001b[0m: \u001b[32m\u001b[41mERROR\u001b[0m   File \"/Users/jjaniak/anaconda3/envs/studia_projekt/lib/python3.8/site-packages/torch_geometric/nn/conv/hetero_conv.py\", line 159, in forward\n",
      "\u001b[34m\u001b[1mwandb\u001b[0m: \u001b[32m\u001b[41mERROR\u001b[0m     out = self.convs[edge_type](*args, **kwargs)\n",
      "\u001b[34m\u001b[1mwandb\u001b[0m: \u001b[32m\u001b[41mERROR\u001b[0m   File \"/Users/jjaniak/anaconda3/envs/studia_projekt/lib/python3.8/site-packages/torch/nn/modules/module.py\", line 1518, in _wrapped_call_impl\n",
      "\u001b[34m\u001b[1mwandb\u001b[0m: \u001b[32m\u001b[41mERROR\u001b[0m     return self._call_impl(*args, **kwargs)\n",
      "\u001b[34m\u001b[1mwandb\u001b[0m: \u001b[32m\u001b[41mERROR\u001b[0m   File \"/Users/jjaniak/anaconda3/envs/studia_projekt/lib/python3.8/site-packages/torch/nn/modules/module.py\", line 1527, in _call_impl\n",
      "\u001b[34m\u001b[1mwandb\u001b[0m: \u001b[32m\u001b[41mERROR\u001b[0m     return forward_call(*args, **kwargs)\n",
      "\u001b[34m\u001b[1mwandb\u001b[0m: \u001b[32m\u001b[41mERROR\u001b[0m   File \"/Users/jjaniak/anaconda3/envs/studia_projekt/lib/python3.8/site-packages/torch_geometric/nn/conv/gat_conv.py\", line 213, in forward\n",
      "\u001b[34m\u001b[1mwandb\u001b[0m: \u001b[32m\u001b[41mERROR\u001b[0m     x_src = x_dst = self.lin_src(x).view(-1, H, C)\n",
      "\u001b[34m\u001b[1mwandb\u001b[0m: \u001b[32m\u001b[41mERROR\u001b[0m   File \"/Users/jjaniak/anaconda3/envs/studia_projekt/lib/python3.8/site-packages/torch/nn/modules/module.py\", line 1518, in _wrapped_call_impl\n",
      "\u001b[34m\u001b[1mwandb\u001b[0m: \u001b[32m\u001b[41mERROR\u001b[0m     return self._call_impl(*args, **kwargs)\n",
      "\u001b[34m\u001b[1mwandb\u001b[0m: \u001b[32m\u001b[41mERROR\u001b[0m   File \"/Users/jjaniak/anaconda3/envs/studia_projekt/lib/python3.8/site-packages/torch/nn/modules/module.py\", line 1527, in _call_impl\n",
      "\u001b[34m\u001b[1mwandb\u001b[0m: \u001b[32m\u001b[41mERROR\u001b[0m     return forward_call(*args, **kwargs)\n",
      "\u001b[34m\u001b[1mwandb\u001b[0m: \u001b[32m\u001b[41mERROR\u001b[0m   File \"/Users/jjaniak/anaconda3/envs/studia_projekt/lib/python3.8/site-packages/torch_geometric/nn/dense/linear.py\", line 130, in forward\n",
      "\u001b[34m\u001b[1mwandb\u001b[0m: \u001b[32m\u001b[41mERROR\u001b[0m     return F.linear(x, self.weight, self.bias)\n",
      "\u001b[34m\u001b[1mwandb\u001b[0m: \u001b[32m\u001b[41mERROR\u001b[0m RuntimeError: [srcBuf length] > 0 INTERNAL ASSERT FAILED at \"/Users/runner/work/pytorch/pytorch/pytorch/aten/src/ATen/native/mps/OperationUtils.mm\":327, please report a bug to PyTorch. Placeholder tensor is empty!\n",
      "\u001b[34m\u001b[1mwandb\u001b[0m: \u001b[32m\u001b[41mERROR\u001b[0m \n",
      "Detected 5 failed runs in a row at start, killing sweep.\n",
      "\u001b[34m\u001b[1mwandb\u001b[0m: \u001b[32m\u001b[41mERROR\u001b[0m Detected 5 failed runs in a row at start, killing sweep.\n",
      "\u001b[34m\u001b[1mwandb\u001b[0m: To change this value set WANDB_AGENT_MAX_INITIAL_FAILURES=val\n"
     ]
    }
   ],
   "source": [
    "def derive_data_structure(attr_config):\n",
    "    if attr_config[\"USE_OSMNX_ATTRS\"]:\n",
    "        return \"graph\"\n",
    "    return \"tabular\"\n",
    "\n",
    "\n",
    "configs_size = len(ATTRIBUTES_CONFIGURATIONS)\n",
    "\n",
    "for index, attr_config in enumerate(ATTRIBUTES_CONFIGURATIONS):\n",
    "    print(\"Sweep for config {}/{} in progress...\".format(index + 1, configs_size))\n",
    "\n",
    "    assert \"USE_ORTOPHOTO\" in attr_config, \"Provide USE_ORTOPHOTO key\"\n",
    "    assert \"USE_HEXES_ATTRS\" in attr_config, \"Provide USE_HEXES_ATTRS key\"\n",
    "    assert \"USE_OSMNX_ATTRS\" in attr_config, \"Provide USE_OSMNX_ATTRS key\"\n",
    "\n",
    "    data_structure = derive_data_structure(attr_config)\n",
    "\n",
    "    if data_structure == \"graph\":\n",
    "        graph_data_dict = {\n",
    "            city_name: create_graph_data(\n",
    "                **gdfs,\n",
    "                use_ortophoto=attr_config[\"USE_ORTOPHOTO\"],\n",
    "                use_hexes_attr=attr_config[\"USE_HEXES_ATTRS\"],\n",
    "            )\n",
    "            for city_name, gdfs in gdfs_dict.items()\n",
    "        }\n",
    "        run_sweep_graph_data(attr_config)\n",
    "    elif data_structure == \"tabular\":\n",
    "        tabular_data_dict = {\n",
    "            city_name: create_tabular_data(\n",
    "                gdfs[\"hexes\"],\n",
    "                gdfs[\"controller\"],\n",
    "                use_ortophoto=attr_config[\"USE_ORTOPHOTO\"],\n",
    "                use_hexes_attr=attr_config[\"USE_HEXES_ATTRS\"],\n",
    "            )\n",
    "            for city_name, gdfs in gdfs_dict.items()\n",
    "        }\n",
    "        run_sweep_tabular_data(attr_config)\n",
    "    else:\n",
    "        raise ValueError(\"Unknown data structure\")"
   ]
  },
  {
   "cell_type": "code",
   "execution_count": null,
   "id": "af7f7819",
   "metadata": {},
   "outputs": [],
   "source": []
  }
 ],
 "metadata": {
  "kernelspec": {
   "display_name": "Python 3",
   "language": "python",
   "name": "python3"
  },
  "language_info": {
   "codemirror_mode": {
    "name": "ipython",
    "version": 3
   },
   "file_extension": ".py",
   "mimetype": "text/x-python",
   "name": "python",
   "nbconvert_exporter": "python",
   "pygments_lexer": "ipython3",
   "version": "3.8.18"
  }
 },
 "nbformat": 4,
 "nbformat_minor": 5
}
