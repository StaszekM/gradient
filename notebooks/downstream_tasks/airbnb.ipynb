{
 "cells": [
  {
   "cell_type": "code",
   "execution_count": 20,
   "metadata": {},
   "outputs": [
    {
     "name": "stdout",
     "output_type": "stream",
     "text": [
      "The autoreload extension is already loaded. To reload it, use:\n",
      "  %reload_ext autoreload\n"
     ]
    }
   ],
   "source": [
    "%load_ext autoreload\n",
    "%autoreload 2"
   ]
  },
  {
   "cell_type": "code",
   "execution_count": 21,
   "metadata": {},
   "outputs": [],
   "source": [
    "import sys\n",
    "sys.path.append(\"../../\")\n",
    "import geopandas as gpd\n",
    "from src.organized_datasets_creation.utils import resolve_nominatim_city_name\n",
    "from src.graph_layering.graph_layer_creator import GraphLayerController\n",
    "import pandas as pd\n",
    "import os\n",
    "from src.graph_layering.graph_layer_creator import SourceType\n",
    "import warnings\n",
    "from src.graph_layering.create_hetero_data import create_hetero_data\n",
    "from sklearn.preprocessing import OneHotEncoder\n",
    "from typing import cast\n",
    "from tqdm import tqdm\n",
    "\n",
    "import wandb.util\n",
    "import wandb\n",
    "import os\n",
    "\n",
    "\n",
    "import numpy as np\n",
    "from src.graph.create_osmnx_graph import OSMnxGraph\n",
    "import json\n",
    "from shapely.geometry import Point\n",
    "from joblib import dump\n",
    "\n",
    "\n",
    "from datetime import datetime\n",
    "from sklearn.metrics import f1_score, roc_auc_score\n",
    "from wandb.util import generate_id\n",
    "from sklearn.linear_model import LogisticRegression\n",
    "from src.training.train import train\n",
    "from sklearn.preprocessing import StandardScaler"
   ]
  },
  {
   "cell_type": "code",
   "execution_count": null,
   "metadata": {},
   "outputs": [],
   "source": [
    "WANDB_API_KEY = os.environ.get(\"WANDB_API_KEY\", None)\n",
    "assert (\n",
    "    WANDB_API_KEY is not None\n",
    "), \"WANDB_API_KEY is not set, did you forget it in the config file?\""
   ]
  },
  {
   "cell_type": "code",
   "execution_count": 22,
   "metadata": {
    "tags": [
     "parameters"
    ]
   },
   "outputs": [],
   "source": [
    "# general settings\n",
    "ORGANIZED_HEXES_LOCATION = \"../../data/organized-hexes\"\n",
    "ORGANIZED_GRAPHS_LOCATION = \"../../data/organized_graphs\"\n",
    "OSMNX_ALL_ATTRIBUTES_LOCATION = (\n",
    "    \"../../data/osmnx_attributes.json\"\n",
    ")\n",
    "\n",
    "# downstream task settings\n",
    "AIRBNB_LOCATION = \"../../data/downstream_tasks/airbnb\"\n",
    "TRAIN_SAVE_DIR = \"../../gradient_logs\"\n",
    "\n",
    "SWEEP_RUNS_COUNT = 2\n",
    "\n",
    "ATTRIBUTES_CONFIGURATIONS = [\n",
    "    {\n",
    "        \"USE_ORTOPHOTO\": False,\n",
    "        \"USE_HEXES_ATTRS\": True,\n",
    "        \"USE_OSMNX_ATTRS\": True,\n",
    "    },\n",
    "    {\n",
    "        \"USE_ORTOPHOTO\": False,\n",
    "        \"USE_HEXES_ATTRS\": True,\n",
    "        \"USE_OSMNX_ATTRS\": False,\n",
    "    },\n",
    "    {\n",
    "        \"USE_ORTOPHOTO\": False,\n",
    "        \"USE_HEXES_ATTRS\": False,\n",
    "        \"USE_OSMNX_ATTRS\": True,\n",
    "    },\n",
    "]\n",
    "\n",
    "WANDB_SWEEP_PARAMS_GRAPH_DATA = {\n",
    "    \"method\": \"bayes\",\n",
    "    \"metric\": {\"name\": \"mean_f1\", \"goal\": \"maximize\"},\n",
    "    \"parameters\": {\n",
    "        \"hidden_channels\": {\"values\": [10, 20, 30, 40, 50]},\n",
    "        \"learning_rate\": {\n",
    "            \"distribution\": \"log_uniform_values\",\n",
    "            \"min\": 1e-5,\n",
    "            \"max\": 1e-2,\n",
    "        },\n",
    "        \"epochs\": {\n",
    "            \"distribution\": \"int_uniform\",\n",
    "            \"min\": 10,\n",
    "            \"max\": 20,\n",
    "        },\n",
    "        \"num_conv_layers\": {\"values\": [1, 2, 3, 4, 5]},\n",
    "        \"lin_layer_size\": {\"values\": [8, 16, 32, 64, 128]},\n",
    "        \"num_lin_layers\": {\"values\": [0, 1, 2, 3, 4]},\n",
    "        \"weight_decay\": {\n",
    "            \"distribution\": \"log_uniform_values\",\n",
    "            \"min\": 1e-5,\n",
    "            \"max\": 1e-2,\n",
    "        },\n",
    "    },\n",
    "}\n",
    "\n",
    "WANDB_SWEEP_PARAMS_TABULAR_DATA = {\n",
    "    \"method\": \"bayes\",\n",
    "    \"metric\": {\"name\": \"mean_f1\", \"goal\": \"maximize\"},\n",
    "    \"parameters\": {\n",
    "        \"solver_penalty\": {\n",
    "            \"values\": [\n",
    "                \"lbfgs;l2\",\n",
    "                \"liblinear;l1\",\n",
    "                \"liblinear;l2\",\n",
    "                \"newton-cg;l2\",\n",
    "                \"newton-cholesky;l2\",\n",
    "                \"sag;l2\",\n",
    "                \"saga;elasticnet\",\n",
    "                \"saga;l1\",\n",
    "                \"saga;l2\",\n",
    "            ]\n",
    "        },\n",
    "        \"C\": {\n",
    "            \"distribution\": \"log_uniform_values\",\n",
    "            \"min\": 1e-5,\n",
    "            \"max\": 1,\n",
    "        },\n",
    "    },\n",
    "}"
   ]
  },
  {
   "cell_type": "markdown",
   "metadata": {},
   "source": [
    "# Load airbnb data\n"
   ]
  },
  {
   "cell_type": "code",
   "execution_count": 23,
   "metadata": {},
   "outputs": [],
   "source": [
    "def create_gdf_airbnb_price(data):\n",
    "    gdf = gpd.GeoDataFrame(\n",
    "                data.drop([\"latitude\", \"longitude\"], axis=1),\n",
    "                geometry=gpd.points_from_xy(x=data[\"longitude\"], y=data[\"latitude\"]),\n",
    "                crs=\"EPSG:4326\",\n",
    "            )\n",
    "    gdf_price = gdf[['geometry', 'price']]\n",
    "    gdf_price.reset_index(inplace=True, drop=True)\n",
    "    \n",
    "    return gdf_price"
   ]
  },
  {
   "cell_type": "code",
   "execution_count": 24,
   "metadata": {},
   "outputs": [
    {
     "data": {
      "text/html": [
       "<div>\n",
       "<style scoped>\n",
       "    .dataframe tbody tr th:only-of-type {\n",
       "        vertical-align: middle;\n",
       "    }\n",
       "\n",
       "    .dataframe tbody tr th {\n",
       "        vertical-align: top;\n",
       "    }\n",
       "\n",
       "    .dataframe thead th {\n",
       "        text-align: right;\n",
       "    }\n",
       "</style>\n",
       "<table border=\"1\" class=\"dataframe\">\n",
       "  <thead>\n",
       "    <tr style=\"text-align: right;\">\n",
       "      <th></th>\n",
       "      <th>geometry</th>\n",
       "      <th>price</th>\n",
       "      <th>mie_nazwa</th>\n",
       "    </tr>\n",
       "  </thead>\n",
       "  <tbody>\n",
       "    <tr>\n",
       "      <th>0</th>\n",
       "      <td>POINT (-73.95512 40.68535)</td>\n",
       "      <td>72.0</td>\n",
       "      <td>new_york</td>\n",
       "    </tr>\n",
       "    <tr>\n",
       "      <th>1</th>\n",
       "      <td>POINT (-73.99454 40.66265)</td>\n",
       "      <td>253.0</td>\n",
       "      <td>new_york</td>\n",
       "    </tr>\n",
       "    <tr>\n",
       "      <th>2</th>\n",
       "      <td>POINT (-73.95342 40.70935)</td>\n",
       "      <td>81.0</td>\n",
       "      <td>new_york</td>\n",
       "    </tr>\n",
       "    <tr>\n",
       "      <th>3</th>\n",
       "      <td>POINT (-73.94255 40.80107)</td>\n",
       "      <td>65.0</td>\n",
       "      <td>new_york</td>\n",
       "    </tr>\n",
       "    <tr>\n",
       "      <th>4</th>\n",
       "      <td>POINT (-73.94759 40.78778)</td>\n",
       "      <td>60.0</td>\n",
       "      <td>new_york</td>\n",
       "    </tr>\n",
       "    <tr>\n",
       "      <th>...</th>\n",
       "      <td>...</td>\n",
       "      <td>...</td>\n",
       "      <td>...</td>\n",
       "    </tr>\n",
       "    <tr>\n",
       "      <th>23756</th>\n",
       "      <td>POINT (-74.00952 40.71445)</td>\n",
       "      <td>721.0</td>\n",
       "      <td>new_york</td>\n",
       "    </tr>\n",
       "    <tr>\n",
       "      <th>23757</th>\n",
       "      <td>POINT (-74.00940 40.71647)</td>\n",
       "      <td>721.0</td>\n",
       "      <td>new_york</td>\n",
       "    </tr>\n",
       "    <tr>\n",
       "      <th>23758</th>\n",
       "      <td>POINT (-74.01149 40.71617)</td>\n",
       "      <td>1080.0</td>\n",
       "      <td>new_york</td>\n",
       "    </tr>\n",
       "    <tr>\n",
       "      <th>23759</th>\n",
       "      <td>POINT (-73.94935 40.78102)</td>\n",
       "      <td>198.0</td>\n",
       "      <td>new_york</td>\n",
       "    </tr>\n",
       "    <tr>\n",
       "      <th>23760</th>\n",
       "      <td>POINT (-73.91387 40.69006)</td>\n",
       "      <td>41.0</td>\n",
       "      <td>new_york</td>\n",
       "    </tr>\n",
       "  </tbody>\n",
       "</table>\n",
       "<p>23761 rows × 3 columns</p>\n",
       "</div>"
      ],
      "text/plain": [
       "                         geometry   price mie_nazwa\n",
       "0      POINT (-73.95512 40.68535)    72.0  new_york\n",
       "1      POINT (-73.99454 40.66265)   253.0  new_york\n",
       "2      POINT (-73.95342 40.70935)    81.0  new_york\n",
       "3      POINT (-73.94255 40.80107)    65.0  new_york\n",
       "4      POINT (-73.94759 40.78778)    60.0  new_york\n",
       "...                           ...     ...       ...\n",
       "23756  POINT (-74.00952 40.71445)   721.0  new_york\n",
       "23757  POINT (-74.00940 40.71647)   721.0  new_york\n",
       "23758  POINT (-74.01149 40.71617)  1080.0  new_york\n",
       "23759  POINT (-73.94935 40.78102)   198.0  new_york\n",
       "23760  POINT (-73.91387 40.69006)    41.0  new_york\n",
       "\n",
       "[23761 rows x 3 columns]"
      ]
     },
     "execution_count": 24,
     "metadata": {},
     "output_type": "execute_result"
    }
   ],
   "source": [
    "airbnb_ny = pd.read_csv(f\"{AIRBNB_LOCATION}/airbnb_new_york_cleaned.csv\")\n",
    "airbnb_ny = create_gdf_airbnb_price(airbnb_ny)\n",
    "airbnb_ny[\"mie_nazwa\"] = \"new_york\"\n",
    "airbnb_ny"
   ]
  },
  {
   "cell_type": "code",
   "execution_count": 25,
   "metadata": {},
   "outputs": [
    {
     "data": {
      "text/html": [
       "<div>\n",
       "<style scoped>\n",
       "    .dataframe tbody tr th:only-of-type {\n",
       "        vertical-align: middle;\n",
       "    }\n",
       "\n",
       "    .dataframe tbody tr th {\n",
       "        vertical-align: top;\n",
       "    }\n",
       "\n",
       "    .dataframe thead th {\n",
       "        text-align: right;\n",
       "    }\n",
       "</style>\n",
       "<table border=\"1\" class=\"dataframe\">\n",
       "  <thead>\n",
       "    <tr style=\"text-align: right;\">\n",
       "      <th></th>\n",
       "      <th>geometry</th>\n",
       "      <th>price</th>\n",
       "      <th>mie_nazwa</th>\n",
       "    </tr>\n",
       "  </thead>\n",
       "  <tbody>\n",
       "    <tr>\n",
       "      <th>0</th>\n",
       "      <td>POINT (-122.33629 47.65444)</td>\n",
       "      <td>99.0</td>\n",
       "      <td>seattle</td>\n",
       "    </tr>\n",
       "    <tr>\n",
       "      <th>1</th>\n",
       "      <td>POINT (-122.31937 47.55017)</td>\n",
       "      <td>72.0</td>\n",
       "      <td>seattle</td>\n",
       "    </tr>\n",
       "    <tr>\n",
       "      <th>2</th>\n",
       "      <td>POINT (-122.38663 47.55495)</td>\n",
       "      <td>166.0</td>\n",
       "      <td>seattle</td>\n",
       "    </tr>\n",
       "    <tr>\n",
       "      <th>3</th>\n",
       "      <td>POINT (-122.38607 47.55627)</td>\n",
       "      <td>125.0</td>\n",
       "      <td>seattle</td>\n",
       "    </tr>\n",
       "    <tr>\n",
       "      <th>4</th>\n",
       "      <td>POINT (-122.37196 47.67947)</td>\n",
       "      <td>81.0</td>\n",
       "      <td>seattle</td>\n",
       "    </tr>\n",
       "    <tr>\n",
       "      <th>...</th>\n",
       "      <td>...</td>\n",
       "      <td>...</td>\n",
       "      <td>...</td>\n",
       "    </tr>\n",
       "    <tr>\n",
       "      <th>6073</th>\n",
       "      <td>POINT (-122.34716 47.61584)</td>\n",
       "      <td>307.0</td>\n",
       "      <td>seattle</td>\n",
       "    </tr>\n",
       "    <tr>\n",
       "      <th>6074</th>\n",
       "      <td>POINT (-122.37198 47.70236)</td>\n",
       "      <td>145.0</td>\n",
       "      <td>seattle</td>\n",
       "    </tr>\n",
       "    <tr>\n",
       "      <th>6075</th>\n",
       "      <td>POINT (-122.34887 47.61576)</td>\n",
       "      <td>153.0</td>\n",
       "      <td>seattle</td>\n",
       "    </tr>\n",
       "    <tr>\n",
       "      <th>6076</th>\n",
       "      <td>POINT (-122.35028 47.62791)</td>\n",
       "      <td>186.0</td>\n",
       "      <td>seattle</td>\n",
       "    </tr>\n",
       "    <tr>\n",
       "      <th>6077</th>\n",
       "      <td>POINT (-122.34856 47.61601)</td>\n",
       "      <td>270.0</td>\n",
       "      <td>seattle</td>\n",
       "    </tr>\n",
       "  </tbody>\n",
       "</table>\n",
       "<p>6078 rows × 3 columns</p>\n",
       "</div>"
      ],
      "text/plain": [
       "                         geometry  price mie_nazwa\n",
       "0     POINT (-122.33629 47.65444)   99.0   seattle\n",
       "1     POINT (-122.31937 47.55017)   72.0   seattle\n",
       "2     POINT (-122.38663 47.55495)  166.0   seattle\n",
       "3     POINT (-122.38607 47.55627)  125.0   seattle\n",
       "4     POINT (-122.37196 47.67947)   81.0   seattle\n",
       "...                           ...    ...       ...\n",
       "6073  POINT (-122.34716 47.61584)  307.0   seattle\n",
       "6074  POINT (-122.37198 47.70236)  145.0   seattle\n",
       "6075  POINT (-122.34887 47.61576)  153.0   seattle\n",
       "6076  POINT (-122.35028 47.62791)  186.0   seattle\n",
       "6077  POINT (-122.34856 47.61601)  270.0   seattle\n",
       "\n",
       "[6078 rows x 3 columns]"
      ]
     },
     "execution_count": 25,
     "metadata": {},
     "output_type": "execute_result"
    }
   ],
   "source": [
    "airbnb_st = pd.read_csv(f\"{AIRBNB_LOCATION}/airbnb_seattle_cleaned.csv\")\n",
    "airbnb_st = create_gdf_airbnb_price(airbnb_st)\n",
    "airbnb_st[\"mie_nazwa\"] = \"seattle\"\n",
    "airbnb_st"
   ]
  },
  {
   "cell_type": "code",
   "execution_count": 26,
   "metadata": {},
   "outputs": [
    {
     "data": {
      "text/html": [
       "<div>\n",
       "<style scoped>\n",
       "    .dataframe tbody tr th:only-of-type {\n",
       "        vertical-align: middle;\n",
       "    }\n",
       "\n",
       "    .dataframe tbody tr th {\n",
       "        vertical-align: top;\n",
       "    }\n",
       "\n",
       "    .dataframe thead th {\n",
       "        text-align: right;\n",
       "    }\n",
       "</style>\n",
       "<table border=\"1\" class=\"dataframe\">\n",
       "  <thead>\n",
       "    <tr style=\"text-align: right;\">\n",
       "      <th></th>\n",
       "      <th>geometry</th>\n",
       "      <th>price</th>\n",
       "      <th>mie_nazwa</th>\n",
       "    </tr>\n",
       "  </thead>\n",
       "  <tbody>\n",
       "    <tr>\n",
       "      <th>0</th>\n",
       "      <td>POINT (-73.95512 40.68535)</td>\n",
       "      <td>72.0</td>\n",
       "      <td>new_york</td>\n",
       "    </tr>\n",
       "    <tr>\n",
       "      <th>1</th>\n",
       "      <td>POINT (-73.99454 40.66265)</td>\n",
       "      <td>253.0</td>\n",
       "      <td>new_york</td>\n",
       "    </tr>\n",
       "    <tr>\n",
       "      <th>2</th>\n",
       "      <td>POINT (-73.95342 40.70935)</td>\n",
       "      <td>81.0</td>\n",
       "      <td>new_york</td>\n",
       "    </tr>\n",
       "    <tr>\n",
       "      <th>3</th>\n",
       "      <td>POINT (-73.94255 40.80107)</td>\n",
       "      <td>65.0</td>\n",
       "      <td>new_york</td>\n",
       "    </tr>\n",
       "    <tr>\n",
       "      <th>4</th>\n",
       "      <td>POINT (-73.94759 40.78778)</td>\n",
       "      <td>60.0</td>\n",
       "      <td>new_york</td>\n",
       "    </tr>\n",
       "    <tr>\n",
       "      <th>...</th>\n",
       "      <td>...</td>\n",
       "      <td>...</td>\n",
       "      <td>...</td>\n",
       "    </tr>\n",
       "    <tr>\n",
       "      <th>6073</th>\n",
       "      <td>POINT (-122.34716 47.61584)</td>\n",
       "      <td>307.0</td>\n",
       "      <td>seattle</td>\n",
       "    </tr>\n",
       "    <tr>\n",
       "      <th>6074</th>\n",
       "      <td>POINT (-122.37198 47.70236)</td>\n",
       "      <td>145.0</td>\n",
       "      <td>seattle</td>\n",
       "    </tr>\n",
       "    <tr>\n",
       "      <th>6075</th>\n",
       "      <td>POINT (-122.34887 47.61576)</td>\n",
       "      <td>153.0</td>\n",
       "      <td>seattle</td>\n",
       "    </tr>\n",
       "    <tr>\n",
       "      <th>6076</th>\n",
       "      <td>POINT (-122.35028 47.62791)</td>\n",
       "      <td>186.0</td>\n",
       "      <td>seattle</td>\n",
       "    </tr>\n",
       "    <tr>\n",
       "      <th>6077</th>\n",
       "      <td>POINT (-122.34856 47.61601)</td>\n",
       "      <td>270.0</td>\n",
       "      <td>seattle</td>\n",
       "    </tr>\n",
       "  </tbody>\n",
       "</table>\n",
       "<p>29839 rows × 3 columns</p>\n",
       "</div>"
      ],
      "text/plain": [
       "                         geometry  price mie_nazwa\n",
       "0      POINT (-73.95512 40.68535)   72.0  new_york\n",
       "1      POINT (-73.99454 40.66265)  253.0  new_york\n",
       "2      POINT (-73.95342 40.70935)   81.0  new_york\n",
       "3      POINT (-73.94255 40.80107)   65.0  new_york\n",
       "4      POINT (-73.94759 40.78778)   60.0  new_york\n",
       "...                           ...    ...       ...\n",
       "6073  POINT (-122.34716 47.61584)  307.0   seattle\n",
       "6074  POINT (-122.37198 47.70236)  145.0   seattle\n",
       "6075  POINT (-122.34887 47.61576)  153.0   seattle\n",
       "6076  POINT (-122.35028 47.62791)  186.0   seattle\n",
       "6077  POINT (-122.34856 47.61601)  270.0   seattle\n",
       "\n",
       "[29839 rows x 3 columns]"
      ]
     },
     "execution_count": 26,
     "metadata": {},
     "output_type": "execute_result"
    }
   ],
   "source": [
    "airbnb = pd.concat([airbnb_ny, airbnb_st])\n",
    "airbnb"
   ]
  },
  {
   "cell_type": "code",
   "execution_count": 27,
   "metadata": {},
   "outputs": [],
   "source": [
    "def add_class_to_df(data):\n",
    "    \n",
    "    q1 = data['price'].quantile(0.25)\n",
    "    q2 = data['price'].quantile(0.5)\n",
    "    q3 = data['price'].quantile(0.75)\n",
    "    \n",
    "    bins = [0, q1,  q2, q3, float(\"inf\")]\n",
    "    # label_names = ['low', 'medium', 'high', 'very high']\n",
    "    label_names = [0, 1, 2, 3]\n",
    "    data['price_class'] = pd.cut(data['price'], bins=bins, labels=label_names, right=True)\n",
    "\n",
    "    return data"
   ]
  },
  {
   "cell_type": "code",
   "execution_count": 28,
   "metadata": {},
   "outputs": [
    {
     "data": {
      "text/html": [
       "<div>\n",
       "<style scoped>\n",
       "    .dataframe tbody tr th:only-of-type {\n",
       "        vertical-align: middle;\n",
       "    }\n",
       "\n",
       "    .dataframe tbody tr th {\n",
       "        vertical-align: top;\n",
       "    }\n",
       "\n",
       "    .dataframe thead th {\n",
       "        text-align: right;\n",
       "    }\n",
       "</style>\n",
       "<table border=\"1\" class=\"dataframe\">\n",
       "  <thead>\n",
       "    <tr style=\"text-align: right;\">\n",
       "      <th></th>\n",
       "      <th>geometry</th>\n",
       "      <th>mie_nazwa</th>\n",
       "      <th>price_class</th>\n",
       "    </tr>\n",
       "  </thead>\n",
       "  <tbody>\n",
       "    <tr>\n",
       "      <th>0</th>\n",
       "      <td>POINT (-73.95512 40.68535)</td>\n",
       "      <td>new_york</td>\n",
       "      <td>0</td>\n",
       "    </tr>\n",
       "    <tr>\n",
       "      <th>1</th>\n",
       "      <td>POINT (-73.99454 40.66265)</td>\n",
       "      <td>new_york</td>\n",
       "      <td>3</td>\n",
       "    </tr>\n",
       "    <tr>\n",
       "      <th>2</th>\n",
       "      <td>POINT (-73.95342 40.70935)</td>\n",
       "      <td>new_york</td>\n",
       "      <td>0</td>\n",
       "    </tr>\n",
       "    <tr>\n",
       "      <th>3</th>\n",
       "      <td>POINT (-73.94255 40.80107)</td>\n",
       "      <td>new_york</td>\n",
       "      <td>0</td>\n",
       "    </tr>\n",
       "    <tr>\n",
       "      <th>4</th>\n",
       "      <td>POINT (-73.94759 40.78778)</td>\n",
       "      <td>new_york</td>\n",
       "      <td>0</td>\n",
       "    </tr>\n",
       "    <tr>\n",
       "      <th>...</th>\n",
       "      <td>...</td>\n",
       "      <td>...</td>\n",
       "      <td>...</td>\n",
       "    </tr>\n",
       "    <tr>\n",
       "      <th>6073</th>\n",
       "      <td>POINT (-122.34716 47.61584)</td>\n",
       "      <td>seattle</td>\n",
       "      <td>3</td>\n",
       "    </tr>\n",
       "    <tr>\n",
       "      <th>6074</th>\n",
       "      <td>POINT (-122.37198 47.70236)</td>\n",
       "      <td>seattle</td>\n",
       "      <td>2</td>\n",
       "    </tr>\n",
       "    <tr>\n",
       "      <th>6075</th>\n",
       "      <td>POINT (-122.34887 47.61576)</td>\n",
       "      <td>seattle</td>\n",
       "      <td>2</td>\n",
       "    </tr>\n",
       "    <tr>\n",
       "      <th>6076</th>\n",
       "      <td>POINT (-122.35028 47.62791)</td>\n",
       "      <td>seattle</td>\n",
       "      <td>2</td>\n",
       "    </tr>\n",
       "    <tr>\n",
       "      <th>6077</th>\n",
       "      <td>POINT (-122.34856 47.61601)</td>\n",
       "      <td>seattle</td>\n",
       "      <td>3</td>\n",
       "    </tr>\n",
       "  </tbody>\n",
       "</table>\n",
       "<p>29839 rows × 3 columns</p>\n",
       "</div>"
      ],
      "text/plain": [
       "                         geometry mie_nazwa price_class\n",
       "0      POINT (-73.95512 40.68535)  new_york           0\n",
       "1      POINT (-73.99454 40.66265)  new_york           3\n",
       "2      POINT (-73.95342 40.70935)  new_york           0\n",
       "3      POINT (-73.94255 40.80107)  new_york           0\n",
       "4      POINT (-73.94759 40.78778)  new_york           0\n",
       "...                           ...       ...         ...\n",
       "6073  POINT (-122.34716 47.61584)   seattle           3\n",
       "6074  POINT (-122.37198 47.70236)   seattle           2\n",
       "6075  POINT (-122.34887 47.61576)   seattle           2\n",
       "6076  POINT (-122.35028 47.62791)   seattle           2\n",
       "6077  POINT (-122.34856 47.61601)   seattle           3\n",
       "\n",
       "[29839 rows x 3 columns]"
      ]
     },
     "execution_count": 28,
     "metadata": {},
     "output_type": "execute_result"
    }
   ],
   "source": [
    "airbnb = add_class_to_df(airbnb)\n",
    "airbnb.drop(\"price\", axis=1, inplace=True)\n",
    "airbnb"
   ]
  },
  {
   "cell_type": "code",
   "execution_count": 29,
   "metadata": {},
   "outputs": [
    {
     "name": "stdout",
     "output_type": "stream",
     "text": [
      "Creating gdfs...\n"
     ]
    },
    {
     "name": "stderr",
     "output_type": "stream",
     "text": [
      "  0%|          | 0/2 [00:00<?, ?it/s]/var/folders/bm/ftw8z7yx4x7__tj58fqqzvcm0000gn/T/ipykernel_79162/2068887478.py:39: DeprecationWarning: ExtensionArray.fillna added a 'copy' keyword in pandas 2.1.0. In a future version, ExtensionArray subclasses will need to implement this keyword or an exception will be raised. In the interim, the keyword is ignored by GeometryArray.\n",
      "  osmnx_edges = osmnx_edges.fillna(0)\n",
      " 50%|█████     | 1/2 [00:01<00:01,  1.34s/it]/var/folders/bm/ftw8z7yx4x7__tj58fqqzvcm0000gn/T/ipykernel_79162/2068887478.py:39: DeprecationWarning: ExtensionArray.fillna added a 'copy' keyword in pandas 2.1.0. In a future version, ExtensionArray subclasses will need to implement this keyword or an exception will be raised. In the interim, the keyword is ignored by GeometryArray.\n",
      "  osmnx_edges = osmnx_edges.fillna(0)\n",
      "100%|██████████| 2/2 [00:02<00:00,  1.02s/it]\n"
     ]
    }
   ],
   "source": [
    "def add_airbnb_to_osmnx_nodes(\n",
    "    airbnb: gpd.GeoDataFrame,\n",
    "    nodes: gpd.GeoDataFrame,\n",
    "    edges: gpd.GeoDataFrame,\n",
    "    city_name: str,\n",
    "):\n",
    "    with open(OSMNX_ALL_ATTRIBUTES_LOCATION) as f:\n",
    "        all_attributes = json.load(f)\n",
    "\n",
    "    osmnx_graph = OSMnxGraph(\n",
    "        airbnb.loc[\n",
    "            airbnb[\"mie_nazwa\"] == city_name, :\n",
    "        ],\n",
    "        nodes,\n",
    "        edges,\n",
    "        all_attributes,\n",
    "        y_column_name='price_class'\n",
    "    )\n",
    "    osmnx_graph._aggregate(element_type=\"node\", aggregation_method=\"count\")\n",
    "    return osmnx_graph.gdf_nodes\n",
    "\n",
    "\n",
    "def create_gdfs(city_name: str):\n",
    "    osmnx_nodes = gpd.read_parquet(\n",
    "        os.path.join(ORGANIZED_GRAPHS_LOCATION, city_name, \"nodes.parquet\")\n",
    "    )\n",
    "    osmnx_nodes = osmnx_nodes.reset_index()\n",
    "    osmnx_nodes.index.names = [\"node_id\"]\n",
    "    osmnx_nodes[\"x\"] = osmnx_nodes[\"geometry\"].x\n",
    "    osmnx_nodes[\"y\"] = osmnx_nodes[\"geometry\"].y\n",
    "\n",
    "    osmnx_edges = gpd.read_parquet(\n",
    "        os.path.join(ORGANIZED_GRAPHS_LOCATION, city_name, \"edges.parquet\")\n",
    "    )\n",
    "    osmnx_edges = osmnx_edges.reset_index().rename(columns={\"index\": \"edge_id\"})\n",
    "    osmnx_edges.index.names = [\"edge_id\"]\n",
    "    if \"level_4\" in osmnx_edges.columns:\n",
    "        osmnx_edges = osmnx_edges.drop(\"level_4\", axis=1)\n",
    "    osmnx_edges = osmnx_edges.fillna(0)\n",
    "\n",
    "    assert osmnx_nodes.crs == osmnx_edges.crs\n",
    "    assert osmnx_nodes.crs == airbnb.crs\n",
    "\n",
    "    osmnx_nodes = add_airbnb_to_osmnx_nodes(\n",
    "        airbnb=airbnb,\n",
    "        nodes=osmnx_nodes,\n",
    "        city_name=city_name,\n",
    "        edges=osmnx_edges,\n",
    "    )\n",
    "\n",
    "    hexes_years_folder = os.path.join(ORGANIZED_HEXES_LOCATION, city_name)\n",
    "\n",
    "    subfolders = [\n",
    "        int(f)\n",
    "        for f in os.listdir(hexes_years_folder)\n",
    "        if os.path.isdir(os.path.join(hexes_years_folder, f))\n",
    "    ]\n",
    "    highest_year = subfolders[np.argmax(subfolders)]\n",
    "\n",
    "    hexes: gpd.GeoDataFrame = gpd.read_parquet(\n",
    "        os.path.join(\n",
    "            ORGANIZED_HEXES_LOCATION,\n",
    "            f\"{city_name}/{highest_year}/h9/count-embedder/dataset.parquet\",\n",
    "        )\n",
    "    )\n",
    "\n",
    "\n",
    "    hexes = hexes.rename(columns={\"region_id\": \"h3_id\"}).rename_axis(\n",
    "        \"region_id\", axis=0\n",
    "    )\n",
    "\n",
    "    return dict(osmnx_nodes=osmnx_nodes, osmnx_edges=osmnx_edges, hexes=hexes)\n",
    "\n",
    "\n",
    "print(\"Creating gdfs...\")\n",
    "gdfs_dict = {\n",
    "    city_name: create_gdfs(city_name) for city_name in tqdm([\"new_york\", \"seattle\"])\n",
    "}"
   ]
  },
  {
   "cell_type": "code",
   "execution_count": 30,
   "metadata": {},
   "outputs": [],
   "source": [
    "with warnings.catch_warnings():\n",
    "    warnings.simplefilter(\"ignore\")\n",
    "    for gdf_for_city in gdfs_dict.values():\n",
    "        gdf_for_city[\"controller\"] = GraphLayerController(\n",
    "            gdf_for_city[\"hexes\"],\n",
    "            gdf_for_city[\"osmnx_nodes\"],\n",
    "            gdf_for_city[\"osmnx_edges\"],\n",
    "        )"
   ]
  },
  {
   "cell_type": "code",
   "execution_count": 31,
   "metadata": {},
   "outputs": [],
   "source": [
    "def patch_hexes_with_y(\n",
    "    osmnx_nodes: gpd.GeoDataFrame,\n",
    "    hexes: gpd.GeoDataFrame,\n",
    "    controller: GraphLayerController,\n",
    "):\n",
    "    virtual_edges = controller.get_virtual_edges_to_hexes(SourceType.OSMNX_NODES)\n",
    "    hexes_with_y = cast(\n",
    "        gpd.GeoDataFrame,\n",
    "        hexes.merge(\n",
    "            virtual_edges.merge(osmnx_nodes, left_on=\"source_id\", right_index=True)[\n",
    "                [\"region_id\", \"price_class\"]\n",
    "            ]\n",
    "            .groupby(\"region_id\")\n",
    "            .sum(),\n",
    "            left_index=True,\n",
    "            right_index=True,\n",
    "            how=\"left\",\n",
    "        ).fillna(0),\n",
    "    )\n",
    "    # czy mapować tutaj klasy jako 0, 1, 2, 3, 4??\n",
    "    controller.hexes_gdf = hexes_with_y\n",
    "    controller._hexes_centroids_gdf = controller._create_hexes_centroids_gdf()"
   ]
  },
  {
   "cell_type": "code",
   "execution_count": 32,
   "metadata": {},
   "outputs": [],
   "source": [
    "with warnings.catch_warnings():\n",
    "    warnings.simplefilter(\"ignore\")\n",
    "    for gdfs in gdfs_dict.values():\n",
    "        patch_hexes_with_y(gdfs['osmnx_nodes'], gdfs[\"hexes\"], gdfs[\"controller\"])"
   ]
  },
  {
   "cell_type": "code",
   "execution_count": 33,
   "metadata": {},
   "outputs": [
    {
     "data": {
      "text/html": [
       "<div>\n",
       "<style scoped>\n",
       "    .dataframe tbody tr th:only-of-type {\n",
       "        vertical-align: middle;\n",
       "    }\n",
       "\n",
       "    .dataframe tbody tr th {\n",
       "        vertical-align: top;\n",
       "    }\n",
       "\n",
       "    .dataframe thead th {\n",
       "        text-align: right;\n",
       "    }\n",
       "</style>\n",
       "<table border=\"1\" class=\"dataframe\">\n",
       "  <thead>\n",
       "    <tr style=\"text-align: right;\">\n",
       "      <th></th>\n",
       "      <th>h3_id</th>\n",
       "      <th>geometry</th>\n",
       "      <th>amenity_gym</th>\n",
       "      <th>building_garages</th>\n",
       "      <th>landuse_gravel</th>\n",
       "      <th>sport_ultimate</th>\n",
       "      <th>office_bakery</th>\n",
       "      <th>natural_shrubbery</th>\n",
       "      <th>landuse_gress</th>\n",
       "      <th>building_guard_cabin</th>\n",
       "      <th>...</th>\n",
       "      <th>shop_eggs</th>\n",
       "      <th>historic_heritage</th>\n",
       "      <th>building_government</th>\n",
       "      <th>aeroway_navigationaid</th>\n",
       "      <th>historic_park</th>\n",
       "      <th>historic_train_station</th>\n",
       "      <th>shop_hobby</th>\n",
       "      <th>building_floating_home</th>\n",
       "      <th>amenity_vacuum_cleaner</th>\n",
       "      <th>building_castle</th>\n",
       "    </tr>\n",
       "    <tr>\n",
       "      <th>region_id</th>\n",
       "      <th></th>\n",
       "      <th></th>\n",
       "      <th></th>\n",
       "      <th></th>\n",
       "      <th></th>\n",
       "      <th></th>\n",
       "      <th></th>\n",
       "      <th></th>\n",
       "      <th></th>\n",
       "      <th></th>\n",
       "      <th></th>\n",
       "      <th></th>\n",
       "      <th></th>\n",
       "      <th></th>\n",
       "      <th></th>\n",
       "      <th></th>\n",
       "      <th></th>\n",
       "      <th></th>\n",
       "      <th></th>\n",
       "      <th></th>\n",
       "      <th></th>\n",
       "    </tr>\n",
       "  </thead>\n",
       "  <tbody>\n",
       "    <tr>\n",
       "      <th>0</th>\n",
       "      <td>892a1000003ffff</td>\n",
       "      <td>POLYGON ((-73.78199 40.86018, -73.78410 40.859...</td>\n",
       "      <td>0</td>\n",
       "      <td>0</td>\n",
       "      <td>0</td>\n",
       "      <td>0</td>\n",
       "      <td>0</td>\n",
       "      <td>0</td>\n",
       "      <td>0</td>\n",
       "      <td>0</td>\n",
       "      <td>...</td>\n",
       "      <td>0</td>\n",
       "      <td>0</td>\n",
       "      <td>0</td>\n",
       "      <td>0</td>\n",
       "      <td>0</td>\n",
       "      <td>0</td>\n",
       "      <td>0</td>\n",
       "      <td>0</td>\n",
       "      <td>0</td>\n",
       "      <td>0</td>\n",
       "    </tr>\n",
       "    <tr>\n",
       "      <th>1</th>\n",
       "      <td>892a1000007ffff</td>\n",
       "      <td>POLYGON ((-73.77975 40.85759, -73.78187 40.856...</td>\n",
       "      <td>0</td>\n",
       "      <td>0</td>\n",
       "      <td>0</td>\n",
       "      <td>0</td>\n",
       "      <td>0</td>\n",
       "      <td>0</td>\n",
       "      <td>0</td>\n",
       "      <td>0</td>\n",
       "      <td>...</td>\n",
       "      <td>0</td>\n",
       "      <td>0</td>\n",
       "      <td>0</td>\n",
       "      <td>0</td>\n",
       "      <td>0</td>\n",
       "      <td>0</td>\n",
       "      <td>0</td>\n",
       "      <td>0</td>\n",
       "      <td>0</td>\n",
       "      <td>0</td>\n",
       "    </tr>\n",
       "    <tr>\n",
       "      <th>2</th>\n",
       "      <td>892a100000bffff</td>\n",
       "      <td>POLYGON ((-73.78628 40.86007, -73.78839 40.859...</td>\n",
       "      <td>0</td>\n",
       "      <td>0</td>\n",
       "      <td>0</td>\n",
       "      <td>0</td>\n",
       "      <td>0</td>\n",
       "      <td>0</td>\n",
       "      <td>0</td>\n",
       "      <td>0</td>\n",
       "      <td>...</td>\n",
       "      <td>0</td>\n",
       "      <td>0</td>\n",
       "      <td>0</td>\n",
       "      <td>0</td>\n",
       "      <td>0</td>\n",
       "      <td>0</td>\n",
       "      <td>0</td>\n",
       "      <td>0</td>\n",
       "      <td>0</td>\n",
       "      <td>0</td>\n",
       "    </tr>\n",
       "    <tr>\n",
       "      <th>3</th>\n",
       "      <td>892a100000fffff</td>\n",
       "      <td>POLYGON ((-73.78404 40.85748, -73.78615 40.856...</td>\n",
       "      <td>0</td>\n",
       "      <td>0</td>\n",
       "      <td>0</td>\n",
       "      <td>0</td>\n",
       "      <td>0</td>\n",
       "      <td>0</td>\n",
       "      <td>0</td>\n",
       "      <td>0</td>\n",
       "      <td>...</td>\n",
       "      <td>0</td>\n",
       "      <td>0</td>\n",
       "      <td>0</td>\n",
       "      <td>0</td>\n",
       "      <td>0</td>\n",
       "      <td>0</td>\n",
       "      <td>0</td>\n",
       "      <td>0</td>\n",
       "      <td>0</td>\n",
       "      <td>0</td>\n",
       "    </tr>\n",
       "    <tr>\n",
       "      <th>4</th>\n",
       "      <td>892a1000013ffff</td>\n",
       "      <td>POLYGON ((-73.77994 40.86288, -73.78205 40.861...</td>\n",
       "      <td>0</td>\n",
       "      <td>0</td>\n",
       "      <td>0</td>\n",
       "      <td>0</td>\n",
       "      <td>0</td>\n",
       "      <td>0</td>\n",
       "      <td>0</td>\n",
       "      <td>0</td>\n",
       "      <td>...</td>\n",
       "      <td>0</td>\n",
       "      <td>0</td>\n",
       "      <td>0</td>\n",
       "      <td>0</td>\n",
       "      <td>0</td>\n",
       "      <td>0</td>\n",
       "      <td>0</td>\n",
       "      <td>0</td>\n",
       "      <td>0</td>\n",
       "      <td>0</td>\n",
       "    </tr>\n",
       "    <tr>\n",
       "      <th>...</th>\n",
       "      <td>...</td>\n",
       "      <td>...</td>\n",
       "      <td>...</td>\n",
       "      <td>...</td>\n",
       "      <td>...</td>\n",
       "      <td>...</td>\n",
       "      <td>...</td>\n",
       "      <td>...</td>\n",
       "      <td>...</td>\n",
       "      <td>...</td>\n",
       "      <td>...</td>\n",
       "      <td>...</td>\n",
       "      <td>...</td>\n",
       "      <td>...</td>\n",
       "      <td>...</td>\n",
       "      <td>...</td>\n",
       "      <td>...</td>\n",
       "      <td>...</td>\n",
       "      <td>...</td>\n",
       "      <td>...</td>\n",
       "      <td>...</td>\n",
       "    </tr>\n",
       "    <tr>\n",
       "      <th>10752</th>\n",
       "      <td>892a10776cbffff</td>\n",
       "      <td>POLYGON ((-74.02133 40.67672, -74.02343 40.675...</td>\n",
       "      <td>0</td>\n",
       "      <td>0</td>\n",
       "      <td>0</td>\n",
       "      <td>0</td>\n",
       "      <td>0</td>\n",
       "      <td>0</td>\n",
       "      <td>0</td>\n",
       "      <td>0</td>\n",
       "      <td>...</td>\n",
       "      <td>0</td>\n",
       "      <td>0</td>\n",
       "      <td>0</td>\n",
       "      <td>0</td>\n",
       "      <td>0</td>\n",
       "      <td>0</td>\n",
       "      <td>0</td>\n",
       "      <td>0</td>\n",
       "      <td>0</td>\n",
       "      <td>0</td>\n",
       "    </tr>\n",
       "    <tr>\n",
       "      <th>10753</th>\n",
       "      <td>892a10776cfffff</td>\n",
       "      <td>POLYGON ((-74.01909 40.67414, -74.02119 40.673...</td>\n",
       "      <td>0</td>\n",
       "      <td>0</td>\n",
       "      <td>0</td>\n",
       "      <td>0</td>\n",
       "      <td>0</td>\n",
       "      <td>0</td>\n",
       "      <td>0</td>\n",
       "      <td>0</td>\n",
       "      <td>...</td>\n",
       "      <td>0</td>\n",
       "      <td>0</td>\n",
       "      <td>0</td>\n",
       "      <td>0</td>\n",
       "      <td>0</td>\n",
       "      <td>0</td>\n",
       "      <td>0</td>\n",
       "      <td>0</td>\n",
       "      <td>0</td>\n",
       "      <td>0</td>\n",
       "    </tr>\n",
       "    <tr>\n",
       "      <th>10754</th>\n",
       "      <td>892a10776d3ffff</td>\n",
       "      <td>POLYGON ((-74.01503 40.67954, -74.01713 40.678...</td>\n",
       "      <td>0</td>\n",
       "      <td>0</td>\n",
       "      <td>0</td>\n",
       "      <td>0</td>\n",
       "      <td>0</td>\n",
       "      <td>0</td>\n",
       "      <td>0</td>\n",
       "      <td>0</td>\n",
       "      <td>...</td>\n",
       "      <td>0</td>\n",
       "      <td>0</td>\n",
       "      <td>0</td>\n",
       "      <td>0</td>\n",
       "      <td>0</td>\n",
       "      <td>0</td>\n",
       "      <td>0</td>\n",
       "      <td>0</td>\n",
       "      <td>0</td>\n",
       "      <td>0</td>\n",
       "    </tr>\n",
       "    <tr>\n",
       "      <th>10755</th>\n",
       "      <td>892a10776d7ffff</td>\n",
       "      <td>POLYGON ((-74.01279 40.67696, -74.01489 40.676...</td>\n",
       "      <td>0</td>\n",
       "      <td>0</td>\n",
       "      <td>0</td>\n",
       "      <td>0</td>\n",
       "      <td>0</td>\n",
       "      <td>0</td>\n",
       "      <td>0</td>\n",
       "      <td>0</td>\n",
       "      <td>...</td>\n",
       "      <td>0</td>\n",
       "      <td>0</td>\n",
       "      <td>0</td>\n",
       "      <td>0</td>\n",
       "      <td>0</td>\n",
       "      <td>0</td>\n",
       "      <td>0</td>\n",
       "      <td>0</td>\n",
       "      <td>0</td>\n",
       "      <td>0</td>\n",
       "    </tr>\n",
       "    <tr>\n",
       "      <th>10756</th>\n",
       "      <td>892a10776dbffff</td>\n",
       "      <td>POLYGON ((-74.01930 40.67942, -74.02140 40.678...</td>\n",
       "      <td>0</td>\n",
       "      <td>0</td>\n",
       "      <td>0</td>\n",
       "      <td>0</td>\n",
       "      <td>0</td>\n",
       "      <td>0</td>\n",
       "      <td>0</td>\n",
       "      <td>0</td>\n",
       "      <td>...</td>\n",
       "      <td>0</td>\n",
       "      <td>0</td>\n",
       "      <td>0</td>\n",
       "      <td>0</td>\n",
       "      <td>0</td>\n",
       "      <td>0</td>\n",
       "      <td>0</td>\n",
       "      <td>0</td>\n",
       "      <td>0</td>\n",
       "      <td>0</td>\n",
       "    </tr>\n",
       "  </tbody>\n",
       "</table>\n",
       "<p>10757 rows × 2153 columns</p>\n",
       "</div>"
      ],
      "text/plain": [
       "                     h3_id                                           geometry  \\\n",
       "region_id                                                                       \n",
       "0          892a1000003ffff  POLYGON ((-73.78199 40.86018, -73.78410 40.859...   \n",
       "1          892a1000007ffff  POLYGON ((-73.77975 40.85759, -73.78187 40.856...   \n",
       "2          892a100000bffff  POLYGON ((-73.78628 40.86007, -73.78839 40.859...   \n",
       "3          892a100000fffff  POLYGON ((-73.78404 40.85748, -73.78615 40.856...   \n",
       "4          892a1000013ffff  POLYGON ((-73.77994 40.86288, -73.78205 40.861...   \n",
       "...                    ...                                                ...   \n",
       "10752      892a10776cbffff  POLYGON ((-74.02133 40.67672, -74.02343 40.675...   \n",
       "10753      892a10776cfffff  POLYGON ((-74.01909 40.67414, -74.02119 40.673...   \n",
       "10754      892a10776d3ffff  POLYGON ((-74.01503 40.67954, -74.01713 40.678...   \n",
       "10755      892a10776d7ffff  POLYGON ((-74.01279 40.67696, -74.01489 40.676...   \n",
       "10756      892a10776dbffff  POLYGON ((-74.01930 40.67942, -74.02140 40.678...   \n",
       "\n",
       "           amenity_gym  building_garages  landuse_gravel  sport_ultimate  \\\n",
       "region_id                                                                  \n",
       "0                    0                 0               0               0   \n",
       "1                    0                 0               0               0   \n",
       "2                    0                 0               0               0   \n",
       "3                    0                 0               0               0   \n",
       "4                    0                 0               0               0   \n",
       "...                ...               ...             ...             ...   \n",
       "10752                0                 0               0               0   \n",
       "10753                0                 0               0               0   \n",
       "10754                0                 0               0               0   \n",
       "10755                0                 0               0               0   \n",
       "10756                0                 0               0               0   \n",
       "\n",
       "           office_bakery  natural_shrubbery  landuse_gress  \\\n",
       "region_id                                                    \n",
       "0                      0                  0              0   \n",
       "1                      0                  0              0   \n",
       "2                      0                  0              0   \n",
       "3                      0                  0              0   \n",
       "4                      0                  0              0   \n",
       "...                  ...                ...            ...   \n",
       "10752                  0                  0              0   \n",
       "10753                  0                  0              0   \n",
       "10754                  0                  0              0   \n",
       "10755                  0                  0              0   \n",
       "10756                  0                  0              0   \n",
       "\n",
       "           building_guard_cabin  ...  shop_eggs  historic_heritage  \\\n",
       "region_id                        ...                                 \n",
       "0                             0  ...          0                  0   \n",
       "1                             0  ...          0                  0   \n",
       "2                             0  ...          0                  0   \n",
       "3                             0  ...          0                  0   \n",
       "4                             0  ...          0                  0   \n",
       "...                         ...  ...        ...                ...   \n",
       "10752                         0  ...          0                  0   \n",
       "10753                         0  ...          0                  0   \n",
       "10754                         0  ...          0                  0   \n",
       "10755                         0  ...          0                  0   \n",
       "10756                         0  ...          0                  0   \n",
       "\n",
       "           building_government  aeroway_navigationaid  historic_park  \\\n",
       "region_id                                                              \n",
       "0                            0                      0              0   \n",
       "1                            0                      0              0   \n",
       "2                            0                      0              0   \n",
       "3                            0                      0              0   \n",
       "4                            0                      0              0   \n",
       "...                        ...                    ...            ...   \n",
       "10752                        0                      0              0   \n",
       "10753                        0                      0              0   \n",
       "10754                        0                      0              0   \n",
       "10755                        0                      0              0   \n",
       "10756                        0                      0              0   \n",
       "\n",
       "           historic_train_station  shop_hobby  building_floating_home  \\\n",
       "region_id                                                               \n",
       "0                               0           0                       0   \n",
       "1                               0           0                       0   \n",
       "2                               0           0                       0   \n",
       "3                               0           0                       0   \n",
       "4                               0           0                       0   \n",
       "...                           ...         ...                     ...   \n",
       "10752                           0           0                       0   \n",
       "10753                           0           0                       0   \n",
       "10754                           0           0                       0   \n",
       "10755                           0           0                       0   \n",
       "10756                           0           0                       0   \n",
       "\n",
       "           amenity_vacuum_cleaner  building_castle  \n",
       "region_id                                           \n",
       "0                               0                0  \n",
       "1                               0                0  \n",
       "2                               0                0  \n",
       "3                               0                0  \n",
       "4                               0                0  \n",
       "...                           ...              ...  \n",
       "10752                           0                0  \n",
       "10753                           0                0  \n",
       "10754                           0                0  \n",
       "10755                           0                0  \n",
       "10756                           0                0  \n",
       "\n",
       "[10757 rows x 2153 columns]"
      ]
     },
     "execution_count": 33,
     "metadata": {},
     "output_type": "execute_result"
    }
   ],
   "source": [
    "gdfs_dict['new_york']['hexes']"
   ]
  },
  {
   "cell_type": "code",
   "execution_count": 34,
   "metadata": {},
   "outputs": [],
   "source": [
    "def create_graph_data(\n",
    "    osmnx_nodes,\n",
    "    osmnx_edges,\n",
    "    hexes,\n",
    "    controller: GraphLayerController,\n",
    "    use_hexes_attr: bool,\n",
    "    use_ortophoto: bool,\n",
    "):\n",
    "\n",
    "    edges_attr_columns = osmnx_edges.columns[\n",
    "        ~osmnx_edges.columns.isin([\"u\", \"v\", \"key\", \"geometry\"])\n",
    "    ]\n",
    "    nodes_attr_columns = osmnx_nodes.columns[\n",
    "        ~osmnx_nodes.columns.isin([\"geometry\", \"x\", \"y\", \"osmid\"])\n",
    "    ]\n",
    "    hexes_attr_columns = (\n",
    "        hexes.columns[~hexes.columns.isin([\"geometry\", \"h3_id\", \"price_class\"])]\n",
    "        if use_hexes_attr\n",
    "        else []\n",
    "    )\n",
    "\n",
    "    data = create_hetero_data(\n",
    "        controller,\n",
    "        hexes_attrs_columns_names=hexes_attr_columns,\n",
    "        osmnx_edge_attrs_columns_names=edges_attr_columns,\n",
    "        osmnx_node_attrs_columns_names=nodes_attr_columns,\n",
    "        virtual_edge_attrs_columns_names=[],\n",
    "        hexes_y_columns_names=[\"price_class\"],\n",
    "    )\n",
    "    return data\n",
    "\n",
    "\n",
    "graph_data_dict = {\n",
    "    city_name: create_graph_data(**gdfs, use_ortophoto=False, use_hexes_attr=True)\n",
    "    for city_name, gdfs in gdfs_dict.items()\n",
    "}"
   ]
  },
  {
   "cell_type": "code",
   "execution_count": 35,
   "metadata": {},
   "outputs": [],
   "source": [
    "def create_tabular_data(\n",
    "    hexes: pd.DataFrame,\n",
    "    controller: GraphLayerController,\n",
    "    use_hexes_attr: bool,\n",
    "    use_ortophoto: bool,\n",
    "):\n",
    "    assert use_ortophoto or use_hexes_attr, \"Provide at least one data source\"\n",
    "\n",
    "    hexes_attr_columns = (\n",
    "        hexes.columns[~hexes.columns.isin([\"geometry\", \"h3_id\"])]\n",
    "        if use_hexes_attr\n",
    "        else []\n",
    "    )\n",
    "\n",
    "    hexes_y_columns_names = [\"price_class\"]\n",
    "\n",
    "    X = hexes[hexes_attr_columns]\n",
    "    y = controller.hexes_centroids_gdf[hexes_y_columns_names]\n",
    "\n",
    "    return {\"X\": X, \"y\": y}\n",
    "\n",
    "\n",
    "tabular_data_dict = {\n",
    "    city_name: create_tabular_data(\n",
    "        gdfs[\"hexes\"], gdfs[\"controller\"], use_ortophoto=False, use_hexes_attr=True\n",
    "    )\n",
    "    for city_name, gdfs in gdfs_dict.items()\n",
    "}"
   ]
  },
  {
   "cell_type": "code",
   "execution_count": 36,
   "metadata": {},
   "outputs": [
    {
     "data": {
      "text/plain": [
       "[('seattle', 'new_york'), ('new_york', 'seattle')]"
      ]
     },
     "metadata": {},
     "output_type": "display_data"
    }
   ],
   "source": [
    "def shift_elements_right(lst):\n",
    "    shifted_lst = [lst[-1]] + lst[:-1]\n",
    "    return shifted_lst\n",
    "\n",
    "\n",
    "cities_names_list = list(graph_data_dict.keys())\n",
    "cities_names_list.sort(key=lambda x: str(x))\n",
    "\n",
    "# val + test\n",
    "folds_tuples = list(zip(shift_elements_right(cities_names_list), cities_names_list))\n",
    "display(folds_tuples)"
   ]
  },
  {
   "cell_type": "code",
   "execution_count": 16,
   "metadata": {},
   "outputs": [],
   "source": [
    "from typing import cast\n",
    "from wandb.sdk.wandb_run import Run\n",
    "import torch\n",
    "\n",
    "\n",
    "def run_k_fold_graph_data(closure_config, sweep_id):\n",
    "    # pass external config (i.e. what attributes are used in the data), closure to avoid passing it to the function directly\n",
    "    def wrapped():\n",
    "        run: Run = cast(Run, wandb.init())\n",
    "\n",
    "        config = wandb.config\n",
    "\n",
    "        for k, v in closure_config.items():\n",
    "            run.log({k: 1 if v else 0})\n",
    "\n",
    "        run.log({\"data_structure\": \"graph\"})\n",
    "\n",
    "        # create hparams\n",
    "        if hasattr(config, \"lin_layer_size\") and hasattr(config, \"num_lin_layers\"):\n",
    "            lin_layer_sizes = [config.lin_layer_size] * config.num_lin_layers\n",
    "        else:\n",
    "            lin_layer_sizes = config.lin_layer_sizes\n",
    "        hparams = {\n",
    "            \"hidden_channels\": config.hidden_channels,\n",
    "            \"lr\": config.learning_rate,\n",
    "            \"num_conv_layers\": config.num_conv_layers,\n",
    "            \"lin_layer_sizes\": lin_layer_sizes,\n",
    "            \"weight_decay\": config.weight_decay,\n",
    "        }\n",
    "\n",
    "        epochs = config.epochs\n",
    "\n",
    "        aucs = []\n",
    "        accuracies = []\n",
    "        f1s = []\n",
    "\n",
    "        fold_group_id = generate_id()\n",
    "\n",
    "        # log data as artifact if no data was logged in the sweep before\n",
    "        # dataset is uploaded only on the first run in sweep, because it does not change across runs in sweep\n",
    "        # in wandb, dataset will be visible on the first run in the sweep\n",
    "        artifact_path = os.path.join(TRAIN_SAVE_DIR, f\"graph_data_{sweep_id}.pkl\")\n",
    "        if not os.path.exists(artifact_path):\n",
    "            dump(\n",
    "                graph_data_dict,\n",
    "                artifact_path,\n",
    "                protocol=5,\n",
    "            )\n",
    "            artifact = wandb.Artifact(\n",
    "                name=\"graph_data\", type=\"dataset\", metadata=closure_config\n",
    "            )\n",
    "            artifact.add_file(local_path=artifact_path)\n",
    "            run.log_artifact(artifact)\n",
    "\n",
    "        # run k-fold\n",
    "        for index, (_, test_city_name) in enumerate(folds_tuples):\n",
    "            # prepare data\n",
    "            train_data = [\n",
    "                v.to(\"cpu\").clone()\n",
    "                for k, v in graph_data_dict.items()\n",
    "                if k != test_city_name\n",
    "            ]\n",
    "            test_data = graph_data_dict[test_city_name].to(\"cpu\").clone()\n",
    "\n",
    "            # run training with checkpointing on lowest val_loss, return test metrics for the best model and its path\n",
    "            # builtin preprocessing - scaling to N(0, 1)\n",
    "            auc, accuracy, f1, model_path = train(\n",
    "                train_data=train_data,\n",
    "                val_data=None,\n",
    "                test_data=test_data,\n",
    "                epochs=epochs,\n",
    "                hparams=hparams,\n",
    "                train_save_dir=TRAIN_SAVE_DIR,\n",
    "                num_classes=torch.unique(train_data[0][\"hex\"].y).shape[0],\n",
    "            )\n",
    "\n",
    "            # logging - single fold\n",
    "            run.log_model(\n",
    "                path=model_path,\n",
    "                name=f\"model_{fold_group_id}_fold_{index}\",\n",
    "            )\n",
    "            run.log({f\"auc_fold_{index}\": auc})\n",
    "            run.log({f\"accuracy_fold_{index}\": accuracy})\n",
    "            run.log({f\"f1_fold_{index}\": f1})\n",
    "\n",
    "            aucs.append(auc)\n",
    "            accuracies.append(accuracy)\n",
    "            f1s.append(f1)\n",
    "\n",
    "        # logging - summary statistics\n",
    "        mean_auc = sum(aucs) / len(aucs)\n",
    "        mean_accuracy = sum(accuracies) / len(accuracies)\n",
    "        mean_f1 = sum(f1s) / len(f1s)\n",
    "        run.log({\"mean_auc\": mean_auc})\n",
    "        run.log({\"mean_accuracy\": mean_accuracy})\n",
    "        run.log({\"mean_f1\": mean_f1})\n",
    "\n",
    "    return wrapped\n",
    "\n",
    "\n",
    "def run_k_fold_tabular_data(closure_config, sweep_id):\n",
    "    # analogously to the graph data, but for tabular data\n",
    "    def wrapped():\n",
    "        run: Run = cast(Run, wandb.init())\n",
    "\n",
    "        config = wandb.config\n",
    "\n",
    "        for k, v in closure_config.items():\n",
    "            run.log({k: 1 if v else 0})\n",
    "\n",
    "        run.log({\"data_structure\": \"tabular\"})\n",
    "\n",
    "        hparams = {}\n",
    "        hparams[\"C\"] = config[\"C\"]\n",
    "        solver, penalty = config[\"solver_penalty\"].split(\";\")\n",
    "        hparams[\"solver\"] = solver\n",
    "        if penalty == \"None\":\n",
    "            penalty = None\n",
    "        hparams[\"penalty\"] = penalty\n",
    "\n",
    "        aucs = []\n",
    "        accuracies = []\n",
    "        f1s = []\n",
    "\n",
    "        fold_group_id = generate_id()\n",
    "\n",
    "        # log data as artifact\n",
    "        artifact_path = os.path.join(TRAIN_SAVE_DIR, f\"tabular_data_{sweep_id}.pkl\")\n",
    "\n",
    "        if not os.path.exists(artifact_path):\n",
    "            dump(\n",
    "                tabular_data_dict,\n",
    "                artifact_path,\n",
    "                protocol=5,\n",
    "            )\n",
    "            artifact = wandb.Artifact(\n",
    "                name=\"tabular_data\", type=\"dataset\", metadata=closure_config\n",
    "            )\n",
    "            artifact.add_file(local_path=artifact_path)\n",
    "            run.log_artifact(artifact)\n",
    "\n",
    "        timestamp = datetime.now().strftime(\"%Y_%m_%d_%H_%M_%S\")\n",
    "\n",
    "        for index, test_city_name in enumerate(cities_names_list):\n",
    "            scaler = StandardScaler()\n",
    "            X = pd.concat(\n",
    "                [\n",
    "                    m[\"X\"]\n",
    "                    for key, m in tabular_data_dict.items()\n",
    "                    if key != test_city_name\n",
    "                ]\n",
    "            ).to_numpy()\n",
    "            y = (\n",
    "                pd.concat(\n",
    "                    [\n",
    "                        m[\"y\"]\n",
    "                        for key, m in tabular_data_dict.items()\n",
    "                        if key != test_city_name\n",
    "                    ]\n",
    "                )\n",
    "                .to_numpy()\n",
    "                .ravel()\n",
    "            )\n",
    "\n",
    "            X = scaler.fit_transform(X)\n",
    "\n",
    "            logistic_regression = LogisticRegression(\n",
    "                C=hparams[\"C\"],\n",
    "                solver=hparams[\"solver\"],\n",
    "                penalty=hparams[\"penalty\"],\n",
    "                dual=False,\n",
    "                tol=1e-4,\n",
    "                fit_intercept=True,\n",
    "                intercept_scaling=1,\n",
    "                class_weight=\"balanced\",\n",
    "                random_state=1124,\n",
    "                max_iter=1000,\n",
    "                multi_class=\"auto\",\n",
    "                warm_start=False,\n",
    "                n_jobs=-1,\n",
    "                l1_ratio=0.5,\n",
    "            )\n",
    "            logistic_regression.fit(X, y)\n",
    "\n",
    "            test_X = tabular_data_dict[test_city_name][\"X\"].to_numpy()\n",
    "            test_X = scaler.transform(test_X)\n",
    "            test_y = tabular_data_dict[test_city_name][\"y\"].to_numpy().ravel()\n",
    "\n",
    "            encoder = OneHotEncoder(sparse=False)\n",
    "            test_y_ohe = encoder.fit_transform(test_y.reshape(-1, 1))\n",
    "\n",
    "            y_pred = logistic_regression.predict(test_X)\n",
    "            y_proba = logistic_regression.predict_proba(test_X)\n",
    "\n",
    "            auc = roc_auc_score(\n",
    "                test_y_ohe, y_proba, average=\"weighted\", multi_class=\"ovr\"\n",
    "            )\n",
    "            accuracy = (y_pred == test_y).mean()\n",
    "            f1 = f1_score(\n",
    "                test_y,\n",
    "                y_pred,\n",
    "                average=\"weighted\",\n",
    "            )\n",
    "\n",
    "            model_dir = os.path.join(TRAIN_SAVE_DIR, timestamp)\n",
    "\n",
    "            os.makedirs(model_dir, exist_ok=True)\n",
    "\n",
    "            model_path = os.path.join(\n",
    "                model_dir, f\"model_{fold_group_id}_fold_{index}.pkl\"\n",
    "            )\n",
    "\n",
    "            with open(model_path, \"wb\") as f:\n",
    "                dump(logistic_regression, f, protocol=5)\n",
    "\n",
    "            run.log_model(\n",
    "                path=model_path,\n",
    "                name=f\"model_{fold_group_id}_fold_{index}\",\n",
    "            )\n",
    "            run.log({f\"auc_fold_{index}\": auc})\n",
    "            run.log({f\"accuracy_fold_{index}\": accuracy})\n",
    "            run.log({f\"f1_fold_{index}\": f1})\n",
    "\n",
    "            aucs.append(auc)\n",
    "            accuracies.append(accuracy)\n",
    "            f1s.append(f1)\n",
    "\n",
    "        mean_auc = sum(aucs) / len(aucs)\n",
    "        mean_accuracy = sum(accuracies) / len(accuracies)\n",
    "        mean_f1 = sum(f1s) / len(f1s)\n",
    "        run.log({\"mean_auc\": mean_auc})\n",
    "        run.log({\"mean_accuracy\": mean_accuracy})\n",
    "        run.log({\"mean_f1\": mean_f1})\n",
    "\n",
    "    return wrapped\n",
    "\n",
    "\n",
    "def run_sweep_graph_data(config):\n",
    "    try:\n",
    "        wandb.login(key=WANDB_API_KEY)\n",
    "        sweep_id = wandb.sweep(\n",
    "            WANDB_SWEEP_PARAMS_GRAPH_DATA, project=\"airbnb-downstream-task\"\n",
    "        )\n",
    "\n",
    "        wandb.agent(\n",
    "            sweep_id,\n",
    "            function=run_k_fold_graph_data(config, sweep_id),\n",
    "            count=SWEEP_RUNS_COUNT,\n",
    "        )\n",
    "    except Exception as e:\n",
    "        print(e)\n",
    "        wandb.finish()\n",
    "        wandb.sweep\n",
    "        raise e\n",
    "\n",
    "\n",
    "def run_sweep_tabular_data(config):\n",
    "    try:\n",
    "        wandb.login(key=WANDB_API_KEY)\n",
    "\n",
    "        sweep_id = wandb.sweep(\n",
    "            WANDB_SWEEP_PARAMS_TABULAR_DATA, project=\"airbnb-downstream-task\"\n",
    "        )\n",
    "\n",
    "        wandb.agent(\n",
    "            sweep_id,\n",
    "            function=run_k_fold_tabular_data(config, sweep_id),\n",
    "            count=SWEEP_RUNS_COUNT,\n",
    "        )\n",
    "    except Exception as e:\n",
    "        print(e)\n",
    "        wandb.finish()\n",
    "        raise e"
   ]
  },
  {
   "cell_type": "code",
   "execution_count": 17,
   "metadata": {},
   "outputs": [
    {
     "name": "stdout",
     "output_type": "stream",
     "text": [
      "Sweep for config 1/3 in progress...\n"
     ]
    },
    {
     "name": "stderr",
     "output_type": "stream",
     "text": [
      "Failed to detect the name of this notebook, you can set it manually with the WANDB_NOTEBOOK_NAME environment variable to enable code saving.\n",
      "\u001b[34m\u001b[1mwandb\u001b[0m: Currently logged in as: \u001b[33mstanislaw-markowski\u001b[0m (\u001b[33mgradient_pwr\u001b[0m). Use \u001b[1m`wandb login --relogin`\u001b[0m to force relogin\n",
      "\u001b[34m\u001b[1mwandb\u001b[0m: \u001b[33mWARNING\u001b[0m If you're specifying your api key in code, ensure this code is not shared publicly.\n",
      "\u001b[34m\u001b[1mwandb\u001b[0m: \u001b[33mWARNING\u001b[0m Consider setting the WANDB_API_KEY environment variable, or running `wandb login` from the command line.\n",
      "\u001b[34m\u001b[1mwandb\u001b[0m: Appending key for api.wandb.ai to your netrc file: /home/staszek/.netrc\n"
     ]
    },
    {
     "name": "stdout",
     "output_type": "stream",
     "text": [
      "Create sweep with ID: hjg0cuxy\n",
      "Sweep URL: https://wandb.ai/gradient_pwr/airbnb-downstream-task/sweeps/hjg0cuxy\n"
     ]
    },
    {
     "name": "stderr",
     "output_type": "stream",
     "text": [
      "\u001b[34m\u001b[1mwandb\u001b[0m: Agent Starting Run: vkmnmruh with config:\n",
      "\u001b[34m\u001b[1mwandb\u001b[0m: \tepochs: 16\n",
      "\u001b[34m\u001b[1mwandb\u001b[0m: \thidden_channels: 30\n",
      "\u001b[34m\u001b[1mwandb\u001b[0m: \tlearning_rate: 5.788733127115965e-05\n",
      "\u001b[34m\u001b[1mwandb\u001b[0m: \tlin_layer_size: 128\n",
      "\u001b[34m\u001b[1mwandb\u001b[0m: \tnum_conv_layers: 5\n",
      "\u001b[34m\u001b[1mwandb\u001b[0m: \tnum_lin_layers: 0\n",
      "\u001b[34m\u001b[1mwandb\u001b[0m: \tweight_decay: 1.2683752684248012e-05\n",
      "Failed to detect the name of this notebook, you can set it manually with the WANDB_NOTEBOOK_NAME environment variable to enable code saving.\n"
     ]
    },
    {
     "data": {
      "text/html": [
       "wandb version 0.17.0 is available!  To upgrade, please run:\n",
       " $ pip install wandb --upgrade"
      ],
      "text/plain": [
       "<IPython.core.display.HTML object>"
      ]
     },
     "metadata": {},
     "output_type": "display_data"
    },
    {
     "data": {
      "text/html": [
       "Tracking run with wandb version 0.16.4"
      ],
      "text/plain": [
       "<IPython.core.display.HTML object>"
      ]
     },
     "metadata": {},
     "output_type": "display_data"
    },
    {
     "data": {
      "text/html": [
       "Run data is saved locally in <code>/mnt/m2-mint/gradient/gradient/wandb/run-20240602_220220-vkmnmruh</code>"
      ],
      "text/plain": [
       "<IPython.core.display.HTML object>"
      ]
     },
     "metadata": {},
     "output_type": "display_data"
    },
    {
     "data": {
      "text/html": [
       "Syncing run <strong><a href='https://wandb.ai/gradient_pwr/airbnb-downstream-task/runs/vkmnmruh' target=\"_blank\">gallant-sweep-1</a></strong> to <a href='https://wandb.ai/gradient_pwr/airbnb-downstream-task' target=\"_blank\">Weights & Biases</a> (<a href='https://wandb.me/run' target=\"_blank\">docs</a>)<br/>Sweep page: <a href='https://wandb.ai/gradient_pwr/airbnb-downstream-task/sweeps/hjg0cuxy' target=\"_blank\">https://wandb.ai/gradient_pwr/airbnb-downstream-task/sweeps/hjg0cuxy</a>"
      ],
      "text/plain": [
       "<IPython.core.display.HTML object>"
      ]
     },
     "metadata": {},
     "output_type": "display_data"
    },
    {
     "data": {
      "text/html": [
       " View project at <a href='https://wandb.ai/gradient_pwr/airbnb-downstream-task' target=\"_blank\">https://wandb.ai/gradient_pwr/airbnb-downstream-task</a>"
      ],
      "text/plain": [
       "<IPython.core.display.HTML object>"
      ]
     },
     "metadata": {},
     "output_type": "display_data"
    },
    {
     "data": {
      "text/html": [
       " View sweep at <a href='https://wandb.ai/gradient_pwr/airbnb-downstream-task/sweeps/hjg0cuxy' target=\"_blank\">https://wandb.ai/gradient_pwr/airbnb-downstream-task/sweeps/hjg0cuxy</a>"
      ],
      "text/plain": [
       "<IPython.core.display.HTML object>"
      ]
     },
     "metadata": {},
     "output_type": "display_data"
    },
    {
     "data": {
      "text/html": [
       " View run at <a href='https://wandb.ai/gradient_pwr/airbnb-downstream-task/runs/vkmnmruh' target=\"_blank\">https://wandb.ai/gradient_pwr/airbnb-downstream-task/runs/vkmnmruh</a>"
      ],
      "text/plain": [
       "<IPython.core.display.HTML object>"
      ]
     },
     "metadata": {},
     "output_type": "display_data"
    },
    {
     "name": "stderr",
     "output_type": "stream",
     "text": [
      "/mnt/m2-mint/gradient/gradient/env/lib/python3.8/site-packages/torch_geometric/deprecation.py:26: UserWarning: 'data.DataLoader' is deprecated, use 'loader.DataLoader' instead\n",
      "  warnings.warn(out)\n",
      "GPU available: True (cuda), used: True\n",
      "TPU available: False, using: 0 TPU cores\n",
      "IPU available: False, using: 0 IPUs\n",
      "HPU available: False, using: 0 HPUs\n",
      "/mnt/m2-mint/gradient/gradient/env/lib/python3.8/site-packages/pytorch_lightning/trainer/configuration_validator.py:70: PossibleUserWarning: You defined a `validation_step` but have no `val_dataloader`. Skipping val loop.\n",
      "  rank_zero_warn(\n",
      "You are using a CUDA device ('NVIDIA GeForce RTX 3090') that has Tensor Cores. To properly utilize them, you should set `torch.set_float32_matmul_precision('medium' | 'high')` which will trade-off precision for performance. For more details, read https://pytorch.org/docs/stable/generated/torch.set_float32_matmul_precision.html#torch.set_float32_matmul_precision\n",
      "LOCAL_RANK: 0 - CUDA_VISIBLE_DEVICES: [0]\n",
      "/mnt/m2-mint/gradient/gradient/env/lib/python3.8/site-packages/pytorch_lightning/utilities/model_summary/model_summary.py:410: UserWarning: A layer with UninitializedParameter was found. Thus, the total number of parameters detected may be inaccurate.\n",
      "  warning_cache.warn(\n",
      "\n",
      "  | Name  | Type      | Params\n",
      "------------------------------------\n",
      "0 | model | HeteroGNN | 226 K \n",
      "------------------------------------\n",
      "226 K     Trainable params\n",
      "0         Non-trainable params\n",
      "226 K     Total params\n",
      "0.904     Total estimated model params size (MB)\n",
      "/mnt/m2-mint/gradient/gradient/env/lib/python3.8/site-packages/pytorch_lightning/trainer/connectors/data_connector.py:432: PossibleUserWarning: The dataloader, train_dataloader, does not have many workers which may be a bottleneck. Consider increasing the value of the `num_workers` argument` (try 16 which is the number of cpus on this machine) in the `DataLoader` init to improve performance.\n",
      "  rank_zero_warn(\n"
     ]
    },
    {
     "data": {
      "application/vnd.jupyter.widget-view+json": {
       "model_id": "267cfaed290b4d43a901c39d384b90c3",
       "version_major": 2,
       "version_minor": 0
      },
      "text/plain": [
       "Training: 0it [00:00, ?it/s]"
      ]
     },
     "metadata": {},
     "output_type": "display_data"
    },
    {
     "name": "stderr",
     "output_type": "stream",
     "text": [
      "`Trainer.fit` stopped: `max_epochs=16` reached.\n"
     ]
    },
    {
     "data": {
      "application/vnd.jupyter.widget-view+json": {
       "model_id": "ba376d683fce4215a631ce29f713b3b6",
       "version_major": 2,
       "version_minor": 0
      },
      "text/plain": [
       "VBox(children=(Label(value='207.286 MB of 207.286 MB uploaded\\r'), FloatProgress(value=1.0, max=1.0)))"
      ]
     },
     "metadata": {},
     "output_type": "display_data"
    },
    {
     "data": {
      "text/html": [
       "<style>\n",
       "    table.wandb td:nth-child(1) { padding: 0 10px; text-align: left ; width: auto;} td:nth-child(2) {text-align: left ; width: 100%}\n",
       "    .wandb-row { display: flex; flex-direction: row; flex-wrap: wrap; justify-content: flex-start; width: 100% }\n",
       "    .wandb-col { display: flex; flex-direction: column; flex-basis: 100%; flex: 1; padding: 10px; }\n",
       "    </style>\n",
       "<div class=\"wandb-row\"><div class=\"wandb-col\"><h3>Run history:</h3><br/><table class=\"wandb\"><tr><td>USE_HEXES_ATTRS</td><td>▁</td></tr><tr><td>USE_ORTOPHOTO</td><td>▁</td></tr><tr><td>USE_OSMNX_ATTRS</td><td>▁</td></tr><tr><td>accuracy_fold_0</td><td>▁</td></tr><tr><td>auc_fold_0</td><td>▁</td></tr><tr><td>f1_fold_0</td><td>▁</td></tr><tr><td>mean_accuracy</td><td>▁</td></tr><tr><td>mean_auc</td><td>▁</td></tr><tr><td>mean_f1</td><td>▁</td></tr></table><br/></div><div class=\"wandb-col\"><h3>Run summary:</h3><br/><table class=\"wandb\"><tr><td>USE_HEXES_ATTRS</td><td>1</td></tr><tr><td>USE_ORTOPHOTO</td><td>0</td></tr><tr><td>USE_OSMNX_ATTRS</td><td>1</td></tr><tr><td>accuracy_fold_0</td><td>0.09566</td></tr><tr><td>auc_fold_0</td><td>0.56454</td></tr><tr><td>data_structure</td><td>graph</td></tr><tr><td>f1_fold_0</td><td>0.05387</td></tr><tr><td>mean_accuracy</td><td>0.09566</td></tr><tr><td>mean_auc</td><td>0.56454</td></tr><tr><td>mean_f1</td><td>0.05387</td></tr></table><br/></div></div>"
      ],
      "text/plain": [
       "<IPython.core.display.HTML object>"
      ]
     },
     "metadata": {},
     "output_type": "display_data"
    },
    {
     "data": {
      "text/html": [
       " View run <strong style=\"color:#cdcd00\">gallant-sweep-1</strong> at: <a href='https://wandb.ai/gradient_pwr/airbnb-downstream-task/runs/vkmnmruh' target=\"_blank\">https://wandb.ai/gradient_pwr/airbnb-downstream-task/runs/vkmnmruh</a><br/>Synced 5 W&B file(s), 0 media file(s), 2 artifact file(s) and 0 other file(s)"
      ],
      "text/plain": [
       "<IPython.core.display.HTML object>"
      ]
     },
     "metadata": {},
     "output_type": "display_data"
    },
    {
     "data": {
      "text/html": [
       "Find logs at: <code>./wandb/run-20240602_220220-vkmnmruh/logs</code>"
      ],
      "text/plain": [
       "<IPython.core.display.HTML object>"
      ]
     },
     "metadata": {},
     "output_type": "display_data"
    },
    {
     "name": "stderr",
     "output_type": "stream",
     "text": [
      "\u001b[34m\u001b[1mwandb\u001b[0m: Agent Starting Run: kaho1lyh with config:\n",
      "\u001b[34m\u001b[1mwandb\u001b[0m: \tepochs: 18\n",
      "\u001b[34m\u001b[1mwandb\u001b[0m: \thidden_channels: 40\n",
      "\u001b[34m\u001b[1mwandb\u001b[0m: \tlearning_rate: 0.00013779356174398844\n",
      "\u001b[34m\u001b[1mwandb\u001b[0m: \tlin_layer_size: 64\n",
      "\u001b[34m\u001b[1mwandb\u001b[0m: \tnum_conv_layers: 1\n",
      "\u001b[34m\u001b[1mwandb\u001b[0m: \tnum_lin_layers: 3\n",
      "\u001b[34m\u001b[1mwandb\u001b[0m: \tweight_decay: 9.020676324039596e-05\n",
      "Failed to detect the name of this notebook, you can set it manually with the WANDB_NOTEBOOK_NAME environment variable to enable code saving.\n"
     ]
    },
    {
     "data": {
      "text/html": [
       "wandb version 0.17.0 is available!  To upgrade, please run:\n",
       " $ pip install wandb --upgrade"
      ],
      "text/plain": [
       "<IPython.core.display.HTML object>"
      ]
     },
     "metadata": {},
     "output_type": "display_data"
    },
    {
     "data": {
      "text/html": [
       "Tracking run with wandb version 0.16.4"
      ],
      "text/plain": [
       "<IPython.core.display.HTML object>"
      ]
     },
     "metadata": {},
     "output_type": "display_data"
    },
    {
     "data": {
      "text/html": [
       "Run data is saved locally in <code>/mnt/m2-mint/gradient/gradient/wandb/run-20240602_220318-kaho1lyh</code>"
      ],
      "text/plain": [
       "<IPython.core.display.HTML object>"
      ]
     },
     "metadata": {},
     "output_type": "display_data"
    },
    {
     "data": {
      "text/html": [
       "Syncing run <strong><a href='https://wandb.ai/gradient_pwr/airbnb-downstream-task/runs/kaho1lyh' target=\"_blank\">celestial-sweep-2</a></strong> to <a href='https://wandb.ai/gradient_pwr/airbnb-downstream-task' target=\"_blank\">Weights & Biases</a> (<a href='https://wandb.me/run' target=\"_blank\">docs</a>)<br/>Sweep page: <a href='https://wandb.ai/gradient_pwr/airbnb-downstream-task/sweeps/hjg0cuxy' target=\"_blank\">https://wandb.ai/gradient_pwr/airbnb-downstream-task/sweeps/hjg0cuxy</a>"
      ],
      "text/plain": [
       "<IPython.core.display.HTML object>"
      ]
     },
     "metadata": {},
     "output_type": "display_data"
    },
    {
     "data": {
      "text/html": [
       " View project at <a href='https://wandb.ai/gradient_pwr/airbnb-downstream-task' target=\"_blank\">https://wandb.ai/gradient_pwr/airbnb-downstream-task</a>"
      ],
      "text/plain": [
       "<IPython.core.display.HTML object>"
      ]
     },
     "metadata": {},
     "output_type": "display_data"
    },
    {
     "data": {
      "text/html": [
       " View sweep at <a href='https://wandb.ai/gradient_pwr/airbnb-downstream-task/sweeps/hjg0cuxy' target=\"_blank\">https://wandb.ai/gradient_pwr/airbnb-downstream-task/sweeps/hjg0cuxy</a>"
      ],
      "text/plain": [
       "<IPython.core.display.HTML object>"
      ]
     },
     "metadata": {},
     "output_type": "display_data"
    },
    {
     "data": {
      "text/html": [
       " View run at <a href='https://wandb.ai/gradient_pwr/airbnb-downstream-task/runs/kaho1lyh' target=\"_blank\">https://wandb.ai/gradient_pwr/airbnb-downstream-task/runs/kaho1lyh</a>"
      ],
      "text/plain": [
       "<IPython.core.display.HTML object>"
      ]
     },
     "metadata": {},
     "output_type": "display_data"
    },
    {
     "name": "stderr",
     "output_type": "stream",
     "text": [
      "/mnt/m2-mint/gradient/gradient/env/lib/python3.8/site-packages/torch_geometric/deprecation.py:26: UserWarning: 'data.DataLoader' is deprecated, use 'loader.DataLoader' instead\n",
      "  warnings.warn(out)\n",
      "GPU available: True (cuda), used: True\n",
      "TPU available: False, using: 0 TPU cores\n",
      "IPU available: False, using: 0 IPUs\n",
      "HPU available: False, using: 0 HPUs\n",
      "/mnt/m2-mint/gradient/gradient/env/lib/python3.8/site-packages/pytorch_lightning/trainer/configuration_validator.py:70: PossibleUserWarning: You defined a `validation_step` but have no `val_dataloader`. Skipping val loop.\n",
      "  rank_zero_warn(\n",
      "LOCAL_RANK: 0 - CUDA_VISIBLE_DEVICES: [0]\n",
      "\n",
      "  | Name  | Type      | Params\n",
      "------------------------------------\n",
      "0 | model | HeteroGNN | 285 K \n",
      "------------------------------------\n",
      "285 K     Trainable params\n",
      "0         Non-trainable params\n",
      "285 K     Total params\n",
      "1.143     Total estimated model params size (MB)\n",
      "/mnt/m2-mint/gradient/gradient/env/lib/python3.8/site-packages/pytorch_lightning/trainer/connectors/data_connector.py:432: PossibleUserWarning: The dataloader, train_dataloader, does not have many workers which may be a bottleneck. Consider increasing the value of the `num_workers` argument` (try 16 which is the number of cpus on this machine) in the `DataLoader` init to improve performance.\n",
      "  rank_zero_warn(\n"
     ]
    },
    {
     "data": {
      "application/vnd.jupyter.widget-view+json": {
       "model_id": "3544c42c2bb84463937b6fc1f979f342",
       "version_major": 2,
       "version_minor": 0
      },
      "text/plain": [
       "Training: 0it [00:00, ?it/s]"
      ]
     },
     "metadata": {},
     "output_type": "display_data"
    },
    {
     "name": "stderr",
     "output_type": "stream",
     "text": [
      "`Trainer.fit` stopped: `max_epochs=18` reached.\n"
     ]
    },
    {
     "data": {
      "application/vnd.jupyter.widget-view+json": {
       "model_id": "6ed1e6c5211f4a6a8d5f6550479bfcd7",
       "version_major": 2,
       "version_minor": 0
      },
      "text/plain": [
       "VBox(children=(Label(value='1.109 MB of 1.109 MB uploaded\\r'), FloatProgress(value=1.0, max=1.0)))"
      ]
     },
     "metadata": {},
     "output_type": "display_data"
    },
    {
     "data": {
      "text/html": [
       "<style>\n",
       "    table.wandb td:nth-child(1) { padding: 0 10px; text-align: left ; width: auto;} td:nth-child(2) {text-align: left ; width: 100%}\n",
       "    .wandb-row { display: flex; flex-direction: row; flex-wrap: wrap; justify-content: flex-start; width: 100% }\n",
       "    .wandb-col { display: flex; flex-direction: column; flex-basis: 100%; flex: 1; padding: 10px; }\n",
       "    </style>\n",
       "<div class=\"wandb-row\"><div class=\"wandb-col\"><h3>Run history:</h3><br/><table class=\"wandb\"><tr><td>USE_HEXES_ATTRS</td><td>▁</td></tr><tr><td>USE_ORTOPHOTO</td><td>▁</td></tr><tr><td>USE_OSMNX_ATTRS</td><td>▁</td></tr><tr><td>accuracy_fold_0</td><td>▁</td></tr><tr><td>auc_fold_0</td><td>▁</td></tr><tr><td>f1_fold_0</td><td>▁</td></tr><tr><td>mean_accuracy</td><td>▁</td></tr><tr><td>mean_auc</td><td>▁</td></tr><tr><td>mean_f1</td><td>▁</td></tr></table><br/></div><div class=\"wandb-col\"><h3>Run summary:</h3><br/><table class=\"wandb\"><tr><td>USE_HEXES_ATTRS</td><td>1</td></tr><tr><td>USE_ORTOPHOTO</td><td>0</td></tr><tr><td>USE_OSMNX_ATTRS</td><td>1</td></tr><tr><td>accuracy_fold_0</td><td>0.63986</td></tr><tr><td>auc_fold_0</td><td>0.8328</td></tr><tr><td>data_structure</td><td>graph</td></tr><tr><td>f1_fold_0</td><td>0.59304</td></tr><tr><td>mean_accuracy</td><td>0.63986</td></tr><tr><td>mean_auc</td><td>0.8328</td></tr><tr><td>mean_f1</td><td>0.59304</td></tr></table><br/></div></div>"
      ],
      "text/plain": [
       "<IPython.core.display.HTML object>"
      ]
     },
     "metadata": {},
     "output_type": "display_data"
    },
    {
     "data": {
      "text/html": [
       " View run <strong style=\"color:#cdcd00\">celestial-sweep-2</strong> at: <a href='https://wandb.ai/gradient_pwr/airbnb-downstream-task/runs/kaho1lyh' target=\"_blank\">https://wandb.ai/gradient_pwr/airbnb-downstream-task/runs/kaho1lyh</a><br/>Synced 5 W&B file(s), 0 media file(s), 1 artifact file(s) and 0 other file(s)"
      ],
      "text/plain": [
       "<IPython.core.display.HTML object>"
      ]
     },
     "metadata": {},
     "output_type": "display_data"
    },
    {
     "data": {
      "text/html": [
       "Find logs at: <code>./wandb/run-20240602_220318-kaho1lyh/logs</code>"
      ],
      "text/plain": [
       "<IPython.core.display.HTML object>"
      ]
     },
     "metadata": {},
     "output_type": "display_data"
    },
    {
     "name": "stderr",
     "output_type": "stream",
     "text": [
      "\u001b[34m\u001b[1mwandb\u001b[0m: \u001b[33mWARNING\u001b[0m If you're specifying your api key in code, ensure this code is not shared publicly.\n",
      "\u001b[34m\u001b[1mwandb\u001b[0m: \u001b[33mWARNING\u001b[0m Consider setting the WANDB_API_KEY environment variable, or running `wandb login` from the command line.\n",
      "\u001b[34m\u001b[1mwandb\u001b[0m: Appending key for api.wandb.ai to your netrc file: /home/staszek/.netrc\n"
     ]
    },
    {
     "name": "stdout",
     "output_type": "stream",
     "text": [
      "Sweep for config 2/3 in progress...\n",
      "Create sweep with ID: q0zh4kxl\n",
      "Sweep URL: https://wandb.ai/gradient_pwr/airbnb-downstream-task/sweeps/q0zh4kxl\n"
     ]
    },
    {
     "name": "stderr",
     "output_type": "stream",
     "text": [
      "\u001b[34m\u001b[1mwandb\u001b[0m: Agent Starting Run: frezf69u with config:\n",
      "\u001b[34m\u001b[1mwandb\u001b[0m: \tC: 3.0476128634607504e-05\n",
      "\u001b[34m\u001b[1mwandb\u001b[0m: \tsolver_penalty: saga;l2\n",
      "Failed to detect the name of this notebook, you can set it manually with the WANDB_NOTEBOOK_NAME environment variable to enable code saving.\n"
     ]
    },
    {
     "data": {
      "text/html": [
       "wandb version 0.17.0 is available!  To upgrade, please run:\n",
       " $ pip install wandb --upgrade"
      ],
      "text/plain": [
       "<IPython.core.display.HTML object>"
      ]
     },
     "metadata": {},
     "output_type": "display_data"
    },
    {
     "data": {
      "text/html": [
       "Tracking run with wandb version 0.16.4"
      ],
      "text/plain": [
       "<IPython.core.display.HTML object>"
      ]
     },
     "metadata": {},
     "output_type": "display_data"
    },
    {
     "data": {
      "text/html": [
       "Run data is saved locally in <code>/mnt/m2-mint/gradient/gradient/wandb/run-20240602_220332-frezf69u</code>"
      ],
      "text/plain": [
       "<IPython.core.display.HTML object>"
      ]
     },
     "metadata": {},
     "output_type": "display_data"
    },
    {
     "data": {
      "text/html": [
       "Syncing run <strong><a href='https://wandb.ai/gradient_pwr/airbnb-downstream-task/runs/frezf69u' target=\"_blank\">feasible-sweep-1</a></strong> to <a href='https://wandb.ai/gradient_pwr/airbnb-downstream-task' target=\"_blank\">Weights & Biases</a> (<a href='https://wandb.me/run' target=\"_blank\">docs</a>)<br/>Sweep page: <a href='https://wandb.ai/gradient_pwr/airbnb-downstream-task/sweeps/q0zh4kxl' target=\"_blank\">https://wandb.ai/gradient_pwr/airbnb-downstream-task/sweeps/q0zh4kxl</a>"
      ],
      "text/plain": [
       "<IPython.core.display.HTML object>"
      ]
     },
     "metadata": {},
     "output_type": "display_data"
    },
    {
     "data": {
      "text/html": [
       " View project at <a href='https://wandb.ai/gradient_pwr/airbnb-downstream-task' target=\"_blank\">https://wandb.ai/gradient_pwr/airbnb-downstream-task</a>"
      ],
      "text/plain": [
       "<IPython.core.display.HTML object>"
      ]
     },
     "metadata": {},
     "output_type": "display_data"
    },
    {
     "data": {
      "text/html": [
       " View sweep at <a href='https://wandb.ai/gradient_pwr/airbnb-downstream-task/sweeps/q0zh4kxl' target=\"_blank\">https://wandb.ai/gradient_pwr/airbnb-downstream-task/sweeps/q0zh4kxl</a>"
      ],
      "text/plain": [
       "<IPython.core.display.HTML object>"
      ]
     },
     "metadata": {},
     "output_type": "display_data"
    },
    {
     "data": {
      "text/html": [
       " View run at <a href='https://wandb.ai/gradient_pwr/airbnb-downstream-task/runs/frezf69u' target=\"_blank\">https://wandb.ai/gradient_pwr/airbnb-downstream-task/runs/frezf69u</a>"
      ],
      "text/plain": [
       "<IPython.core.display.HTML object>"
      ]
     },
     "metadata": {},
     "output_type": "display_data"
    },
    {
     "name": "stderr",
     "output_type": "stream",
     "text": [
      "/mnt/m2-mint/gradient/gradient/env/lib/python3.8/site-packages/sklearn/linear_model/_logistic.py:1172: UserWarning: l1_ratio parameter is only used when penalty is 'elasticnet'. Got (penalty=l2)\n",
      "  warnings.warn(\n",
      "/mnt/m2-mint/gradient/gradient/env/lib/python3.8/site-packages/sklearn/preprocessing/_encoders.py:975: FutureWarning: `sparse` was renamed to `sparse_output` in version 1.2 and will be removed in 1.4. `sparse_output` is ignored unless you leave `sparse` to its default value.\n",
      "  warnings.warn(\n",
      "/mnt/m2-mint/gradient/gradient/env/lib/python3.8/site-packages/sklearn/linear_model/_logistic.py:1172: UserWarning: l1_ratio parameter is only used when penalty is 'elasticnet'. Got (penalty=l2)\n",
      "  warnings.warn(\n",
      "/mnt/m2-mint/gradient/gradient/env/lib/python3.8/site-packages/sklearn/linear_model/_sag.py:350: ConvergenceWarning: The max_iter was reached which means the coef_ did not converge\n",
      "  warnings.warn(\n",
      "/mnt/m2-mint/gradient/gradient/env/lib/python3.8/site-packages/sklearn/preprocessing/_encoders.py:975: FutureWarning: `sparse` was renamed to `sparse_output` in version 1.2 and will be removed in 1.4. `sparse_output` is ignored unless you leave `sparse` to its default value.\n",
      "  warnings.warn(\n"
     ]
    },
    {
     "data": {
      "application/vnd.jupyter.widget-view+json": {
       "model_id": "1c23352a4b47497c955599c07f221ca7",
       "version_major": 2,
       "version_minor": 0
      },
      "text/plain": [
       "VBox(children=(Label(value='246.020 MB of 246.020 MB uploaded\\r'), FloatProgress(value=1.0, max=1.0)))"
      ]
     },
     "metadata": {},
     "output_type": "display_data"
    },
    {
     "data": {
      "text/html": [
       "<style>\n",
       "    table.wandb td:nth-child(1) { padding: 0 10px; text-align: left ; width: auto;} td:nth-child(2) {text-align: left ; width: 100%}\n",
       "    .wandb-row { display: flex; flex-direction: row; flex-wrap: wrap; justify-content: flex-start; width: 100% }\n",
       "    .wandb-col { display: flex; flex-direction: column; flex-basis: 100%; flex: 1; padding: 10px; }\n",
       "    </style>\n",
       "<div class=\"wandb-row\"><div class=\"wandb-col\"><h3>Run history:</h3><br/><table class=\"wandb\"><tr><td>USE_HEXES_ATTRS</td><td>▁</td></tr><tr><td>USE_ORTOPHOTO</td><td>▁</td></tr><tr><td>USE_OSMNX_ATTRS</td><td>▁</td></tr><tr><td>accuracy_fold_0</td><td>▁</td></tr><tr><td>accuracy_fold_1</td><td>▁</td></tr><tr><td>auc_fold_0</td><td>▁</td></tr><tr><td>auc_fold_1</td><td>▁</td></tr><tr><td>f1_fold_0</td><td>▁</td></tr><tr><td>f1_fold_1</td><td>▁</td></tr><tr><td>mean_accuracy</td><td>▁</td></tr><tr><td>mean_auc</td><td>▁</td></tr><tr><td>mean_f1</td><td>▁</td></tr></table><br/></div><div class=\"wandb-col\"><h3>Run summary:</h3><br/><table class=\"wandb\"><tr><td>USE_HEXES_ATTRS</td><td>1</td></tr><tr><td>USE_ORTOPHOTO</td><td>0</td></tr><tr><td>USE_OSMNX_ATTRS</td><td>0</td></tr><tr><td>accuracy_fold_0</td><td>0.66236</td></tr><tr><td>accuracy_fold_1</td><td>0.4749</td></tr><tr><td>auc_fold_0</td><td>0.85888</td></tr><tr><td>auc_fold_1</td><td>0.75099</td></tr><tr><td>data_structure</td><td>tabular</td></tr><tr><td>f1_fold_0</td><td>0.65945</td></tr><tr><td>f1_fold_1</td><td>0.52376</td></tr><tr><td>mean_accuracy</td><td>0.56863</td></tr><tr><td>mean_auc</td><td>0.80494</td></tr><tr><td>mean_f1</td><td>0.5916</td></tr></table><br/></div></div>"
      ],
      "text/plain": [
       "<IPython.core.display.HTML object>"
      ]
     },
     "metadata": {},
     "output_type": "display_data"
    },
    {
     "data": {
      "text/html": [
       " View run <strong style=\"color:#cdcd00\">feasible-sweep-1</strong> at: <a href='https://wandb.ai/gradient_pwr/airbnb-downstream-task/runs/frezf69u' target=\"_blank\">https://wandb.ai/gradient_pwr/airbnb-downstream-task/runs/frezf69u</a><br/>Synced 5 W&B file(s), 0 media file(s), 3 artifact file(s) and 0 other file(s)"
      ],
      "text/plain": [
       "<IPython.core.display.HTML object>"
      ]
     },
     "metadata": {},
     "output_type": "display_data"
    },
    {
     "data": {
      "text/html": [
       "Find logs at: <code>./wandb/run-20240602_220332-frezf69u/logs</code>"
      ],
      "text/plain": [
       "<IPython.core.display.HTML object>"
      ]
     },
     "metadata": {},
     "output_type": "display_data"
    },
    {
     "name": "stderr",
     "output_type": "stream",
     "text": [
      "\u001b[34m\u001b[1mwandb\u001b[0m: Agent Starting Run: wq01iof9 with config:\n",
      "\u001b[34m\u001b[1mwandb\u001b[0m: \tC: 0.00038966599496010175\n",
      "\u001b[34m\u001b[1mwandb\u001b[0m: \tsolver_penalty: liblinear;l2\n",
      "Failed to detect the name of this notebook, you can set it manually with the WANDB_NOTEBOOK_NAME environment variable to enable code saving.\n"
     ]
    },
    {
     "data": {
      "text/html": [
       "wandb version 0.17.0 is available!  To upgrade, please run:\n",
       " $ pip install wandb --upgrade"
      ],
      "text/plain": [
       "<IPython.core.display.HTML object>"
      ]
     },
     "metadata": {},
     "output_type": "display_data"
    },
    {
     "data": {
      "text/html": [
       "Tracking run with wandb version 0.16.4"
      ],
      "text/plain": [
       "<IPython.core.display.HTML object>"
      ]
     },
     "metadata": {},
     "output_type": "display_data"
    },
    {
     "data": {
      "text/html": [
       "Run data is saved locally in <code>/mnt/m2-mint/gradient/gradient/wandb/run-20240602_220928-wq01iof9</code>"
      ],
      "text/plain": [
       "<IPython.core.display.HTML object>"
      ]
     },
     "metadata": {},
     "output_type": "display_data"
    },
    {
     "data": {
      "text/html": [
       "Syncing run <strong><a href='https://wandb.ai/gradient_pwr/airbnb-downstream-task/runs/wq01iof9' target=\"_blank\">restful-sweep-2</a></strong> to <a href='https://wandb.ai/gradient_pwr/airbnb-downstream-task' target=\"_blank\">Weights & Biases</a> (<a href='https://wandb.me/run' target=\"_blank\">docs</a>)<br/>Sweep page: <a href='https://wandb.ai/gradient_pwr/airbnb-downstream-task/sweeps/q0zh4kxl' target=\"_blank\">https://wandb.ai/gradient_pwr/airbnb-downstream-task/sweeps/q0zh4kxl</a>"
      ],
      "text/plain": [
       "<IPython.core.display.HTML object>"
      ]
     },
     "metadata": {},
     "output_type": "display_data"
    },
    {
     "data": {
      "text/html": [
       " View project at <a href='https://wandb.ai/gradient_pwr/airbnb-downstream-task' target=\"_blank\">https://wandb.ai/gradient_pwr/airbnb-downstream-task</a>"
      ],
      "text/plain": [
       "<IPython.core.display.HTML object>"
      ]
     },
     "metadata": {},
     "output_type": "display_data"
    },
    {
     "data": {
      "text/html": [
       " View sweep at <a href='https://wandb.ai/gradient_pwr/airbnb-downstream-task/sweeps/q0zh4kxl' target=\"_blank\">https://wandb.ai/gradient_pwr/airbnb-downstream-task/sweeps/q0zh4kxl</a>"
      ],
      "text/plain": [
       "<IPython.core.display.HTML object>"
      ]
     },
     "metadata": {},
     "output_type": "display_data"
    },
    {
     "data": {
      "text/html": [
       " View run at <a href='https://wandb.ai/gradient_pwr/airbnb-downstream-task/runs/wq01iof9' target=\"_blank\">https://wandb.ai/gradient_pwr/airbnb-downstream-task/runs/wq01iof9</a>"
      ],
      "text/plain": [
       "<IPython.core.display.HTML object>"
      ]
     },
     "metadata": {},
     "output_type": "display_data"
    },
    {
     "name": "stderr",
     "output_type": "stream",
     "text": [
      "/mnt/m2-mint/gradient/gradient/env/lib/python3.8/site-packages/sklearn/linear_model/_logistic.py:1172: UserWarning: l1_ratio parameter is only used when penalty is 'elasticnet'. Got (penalty=l2)\n",
      "  warnings.warn(\n",
      "/mnt/m2-mint/gradient/gradient/env/lib/python3.8/site-packages/sklearn/linear_model/_logistic.py:1223: UserWarning: 'n_jobs' > 1 does not have any effect when 'solver' is set to 'liblinear'. Got 'n_jobs' = 16.\n",
      "  warnings.warn(\n",
      "/mnt/m2-mint/gradient/gradient/env/lib/python3.8/site-packages/sklearn/preprocessing/_encoders.py:975: FutureWarning: `sparse` was renamed to `sparse_output` in version 1.2 and will be removed in 1.4. `sparse_output` is ignored unless you leave `sparse` to its default value.\n",
      "  warnings.warn(\n",
      "/mnt/m2-mint/gradient/gradient/env/lib/python3.8/site-packages/sklearn/linear_model/_logistic.py:1172: UserWarning: l1_ratio parameter is only used when penalty is 'elasticnet'. Got (penalty=l2)\n",
      "  warnings.warn(\n",
      "/mnt/m2-mint/gradient/gradient/env/lib/python3.8/site-packages/sklearn/linear_model/_logistic.py:1223: UserWarning: 'n_jobs' > 1 does not have any effect when 'solver' is set to 'liblinear'. Got 'n_jobs' = 16.\n",
      "  warnings.warn(\n",
      "/mnt/m2-mint/gradient/gradient/env/lib/python3.8/site-packages/sklearn/preprocessing/_encoders.py:975: FutureWarning: `sparse` was renamed to `sparse_output` in version 1.2 and will be removed in 1.4. `sparse_output` is ignored unless you leave `sparse` to its default value.\n",
      "  warnings.warn(\n"
     ]
    },
    {
     "data": {
      "application/vnd.jupyter.widget-view+json": {
       "model_id": "adb7ad3b7a994055b7b04bbc2cb3ef6a",
       "version_major": 2,
       "version_minor": 0
      },
      "text/plain": [
       "VBox(children=(Label(value='0.169 MB of 0.169 MB uploaded\\r'), FloatProgress(value=1.0, max=1.0)))"
      ]
     },
     "metadata": {},
     "output_type": "display_data"
    },
    {
     "data": {
      "text/html": [
       "<style>\n",
       "    table.wandb td:nth-child(1) { padding: 0 10px; text-align: left ; width: auto;} td:nth-child(2) {text-align: left ; width: 100%}\n",
       "    .wandb-row { display: flex; flex-direction: row; flex-wrap: wrap; justify-content: flex-start; width: 100% }\n",
       "    .wandb-col { display: flex; flex-direction: column; flex-basis: 100%; flex: 1; padding: 10px; }\n",
       "    </style>\n",
       "<div class=\"wandb-row\"><div class=\"wandb-col\"><h3>Run history:</h3><br/><table class=\"wandb\"><tr><td>USE_HEXES_ATTRS</td><td>▁</td></tr><tr><td>USE_ORTOPHOTO</td><td>▁</td></tr><tr><td>USE_OSMNX_ATTRS</td><td>▁</td></tr><tr><td>accuracy_fold_0</td><td>▁</td></tr><tr><td>accuracy_fold_1</td><td>▁</td></tr><tr><td>auc_fold_0</td><td>▁</td></tr><tr><td>auc_fold_1</td><td>▁</td></tr><tr><td>f1_fold_0</td><td>▁</td></tr><tr><td>f1_fold_1</td><td>▁</td></tr><tr><td>mean_accuracy</td><td>▁</td></tr><tr><td>mean_auc</td><td>▁</td></tr><tr><td>mean_f1</td><td>▁</td></tr></table><br/></div><div class=\"wandb-col\"><h3>Run summary:</h3><br/><table class=\"wandb\"><tr><td>USE_HEXES_ATTRS</td><td>1</td></tr><tr><td>USE_ORTOPHOTO</td><td>0</td></tr><tr><td>USE_OSMNX_ATTRS</td><td>0</td></tr><tr><td>accuracy_fold_0</td><td>0.63521</td></tr><tr><td>accuracy_fold_1</td><td>0.51083</td></tr><tr><td>auc_fold_0</td><td>0.87526</td></tr><tr><td>auc_fold_1</td><td>0.8324</td></tr><tr><td>data_structure</td><td>tabular</td></tr><tr><td>f1_fold_0</td><td>0.67764</td></tr><tr><td>f1_fold_1</td><td>0.56163</td></tr><tr><td>mean_accuracy</td><td>0.57302</td></tr><tr><td>mean_auc</td><td>0.85383</td></tr><tr><td>mean_f1</td><td>0.61963</td></tr></table><br/></div></div>"
      ],
      "text/plain": [
       "<IPython.core.display.HTML object>"
      ]
     },
     "metadata": {},
     "output_type": "display_data"
    },
    {
     "data": {
      "text/html": [
       " View run <strong style=\"color:#cdcd00\">restful-sweep-2</strong> at: <a href='https://wandb.ai/gradient_pwr/airbnb-downstream-task/runs/wq01iof9' target=\"_blank\">https://wandb.ai/gradient_pwr/airbnb-downstream-task/runs/wq01iof9</a><br/>Synced 5 W&B file(s), 0 media file(s), 2 artifact file(s) and 0 other file(s)"
      ],
      "text/plain": [
       "<IPython.core.display.HTML object>"
      ]
     },
     "metadata": {},
     "output_type": "display_data"
    },
    {
     "data": {
      "text/html": [
       "Find logs at: <code>./wandb/run-20240602_220928-wq01iof9/logs</code>"
      ],
      "text/plain": [
       "<IPython.core.display.HTML object>"
      ]
     },
     "metadata": {},
     "output_type": "display_data"
    },
    {
     "name": "stdout",
     "output_type": "stream",
     "text": [
      "Sweep for config 3/3 in progress...\n"
     ]
    },
    {
     "name": "stderr",
     "output_type": "stream",
     "text": [
      "\u001b[34m\u001b[1mwandb\u001b[0m: \u001b[33mWARNING\u001b[0m If you're specifying your api key in code, ensure this code is not shared publicly.\n",
      "\u001b[34m\u001b[1mwandb\u001b[0m: \u001b[33mWARNING\u001b[0m Consider setting the WANDB_API_KEY environment variable, or running `wandb login` from the command line.\n",
      "\u001b[34m\u001b[1mwandb\u001b[0m: Appending key for api.wandb.ai to your netrc file: /home/staszek/.netrc\n"
     ]
    },
    {
     "name": "stdout",
     "output_type": "stream",
     "text": [
      "Create sweep with ID: 0b734yxx\n",
      "Sweep URL: https://wandb.ai/gradient_pwr/airbnb-downstream-task/sweeps/0b734yxx\n"
     ]
    },
    {
     "name": "stderr",
     "output_type": "stream",
     "text": [
      "\u001b[34m\u001b[1mwandb\u001b[0m: Agent Starting Run: i501rj1u with config:\n",
      "\u001b[34m\u001b[1mwandb\u001b[0m: \tepochs: 16\n",
      "\u001b[34m\u001b[1mwandb\u001b[0m: \thidden_channels: 10\n",
      "\u001b[34m\u001b[1mwandb\u001b[0m: \tlearning_rate: 0.004414493139081901\n",
      "\u001b[34m\u001b[1mwandb\u001b[0m: \tlin_layer_size: 32\n",
      "\u001b[34m\u001b[1mwandb\u001b[0m: \tnum_conv_layers: 3\n",
      "\u001b[34m\u001b[1mwandb\u001b[0m: \tnum_lin_layers: 1\n",
      "\u001b[34m\u001b[1mwandb\u001b[0m: \tweight_decay: 0.0006443006784313302\n",
      "Failed to detect the name of this notebook, you can set it manually with the WANDB_NOTEBOOK_NAME environment variable to enable code saving.\n"
     ]
    },
    {
     "data": {
      "text/html": [
       "wandb version 0.17.0 is available!  To upgrade, please run:\n",
       " $ pip install wandb --upgrade"
      ],
      "text/plain": [
       "<IPython.core.display.HTML object>"
      ]
     },
     "metadata": {},
     "output_type": "display_data"
    },
    {
     "data": {
      "text/html": [
       "Tracking run with wandb version 0.16.4"
      ],
      "text/plain": [
       "<IPython.core.display.HTML object>"
      ]
     },
     "metadata": {},
     "output_type": "display_data"
    },
    {
     "data": {
      "text/html": [
       "Run data is saved locally in <code>/mnt/m2-mint/gradient/gradient/wandb/run-20240602_220949-i501rj1u</code>"
      ],
      "text/plain": [
       "<IPython.core.display.HTML object>"
      ]
     },
     "metadata": {},
     "output_type": "display_data"
    },
    {
     "data": {
      "text/html": [
       "Syncing run <strong><a href='https://wandb.ai/gradient_pwr/airbnb-downstream-task/runs/i501rj1u' target=\"_blank\">silver-sweep-1</a></strong> to <a href='https://wandb.ai/gradient_pwr/airbnb-downstream-task' target=\"_blank\">Weights & Biases</a> (<a href='https://wandb.me/run' target=\"_blank\">docs</a>)<br/>Sweep page: <a href='https://wandb.ai/gradient_pwr/airbnb-downstream-task/sweeps/0b734yxx' target=\"_blank\">https://wandb.ai/gradient_pwr/airbnb-downstream-task/sweeps/0b734yxx</a>"
      ],
      "text/plain": [
       "<IPython.core.display.HTML object>"
      ]
     },
     "metadata": {},
     "output_type": "display_data"
    },
    {
     "data": {
      "text/html": [
       " View project at <a href='https://wandb.ai/gradient_pwr/airbnb-downstream-task' target=\"_blank\">https://wandb.ai/gradient_pwr/airbnb-downstream-task</a>"
      ],
      "text/plain": [
       "<IPython.core.display.HTML object>"
      ]
     },
     "metadata": {},
     "output_type": "display_data"
    },
    {
     "data": {
      "text/html": [
       " View sweep at <a href='https://wandb.ai/gradient_pwr/airbnb-downstream-task/sweeps/0b734yxx' target=\"_blank\">https://wandb.ai/gradient_pwr/airbnb-downstream-task/sweeps/0b734yxx</a>"
      ],
      "text/plain": [
       "<IPython.core.display.HTML object>"
      ]
     },
     "metadata": {},
     "output_type": "display_data"
    },
    {
     "data": {
      "text/html": [
       " View run at <a href='https://wandb.ai/gradient_pwr/airbnb-downstream-task/runs/i501rj1u' target=\"_blank\">https://wandb.ai/gradient_pwr/airbnb-downstream-task/runs/i501rj1u</a>"
      ],
      "text/plain": [
       "<IPython.core.display.HTML object>"
      ]
     },
     "metadata": {},
     "output_type": "display_data"
    },
    {
     "name": "stderr",
     "output_type": "stream",
     "text": [
      "/mnt/m2-mint/gradient/gradient/env/lib/python3.8/site-packages/torch_geometric/deprecation.py:26: UserWarning: 'data.DataLoader' is deprecated, use 'loader.DataLoader' instead\n",
      "  warnings.warn(out)\n",
      "GPU available: True (cuda), used: True\n",
      "TPU available: False, using: 0 TPU cores\n",
      "IPU available: False, using: 0 IPUs\n",
      "HPU available: False, using: 0 HPUs\n",
      "/mnt/m2-mint/gradient/gradient/env/lib/python3.8/site-packages/pytorch_lightning/trainer/configuration_validator.py:70: PossibleUserWarning: You defined a `validation_step` but have no `val_dataloader`. Skipping val loop.\n",
      "  rank_zero_warn(\n",
      "LOCAL_RANK: 0 - CUDA_VISIBLE_DEVICES: [0]\n",
      "\n",
      "  | Name  | Type      | Params\n",
      "------------------------------------\n",
      "0 | model | HeteroGNN | 4.6 K \n",
      "------------------------------------\n",
      "4.6 K     Trainable params\n",
      "0         Non-trainable params\n",
      "4.6 K     Total params\n",
      "0.018     Total estimated model params size (MB)\n",
      "/mnt/m2-mint/gradient/gradient/env/lib/python3.8/site-packages/pytorch_lightning/trainer/connectors/data_connector.py:432: PossibleUserWarning: The dataloader, train_dataloader, does not have many workers which may be a bottleneck. Consider increasing the value of the `num_workers` argument` (try 16 which is the number of cpus on this machine) in the `DataLoader` init to improve performance.\n",
      "  rank_zero_warn(\n"
     ]
    },
    {
     "data": {
      "application/vnd.jupyter.widget-view+json": {
       "model_id": "f92ee625b7ee44b89ab087a96da6077a",
       "version_major": 2,
       "version_minor": 0
      },
      "text/plain": [
       "Training: 0it [00:00, ?it/s]"
      ]
     },
     "metadata": {},
     "output_type": "display_data"
    },
    {
     "name": "stderr",
     "output_type": "stream",
     "text": [
      "`Trainer.fit` stopped: `max_epochs=16` reached.\n"
     ]
    },
    {
     "data": {
      "application/vnd.jupyter.widget-view+json": {
       "model_id": "46b33bb949fa47969a88c8452f773e87",
       "version_major": 2,
       "version_minor": 0
      },
      "text/plain": [
       "VBox(children=(Label(value='83.675 MB of 83.675 MB uploaded\\r'), FloatProgress(value=1.0, max=1.0)))"
      ]
     },
     "metadata": {},
     "output_type": "display_data"
    },
    {
     "data": {
      "text/html": [
       "<style>\n",
       "    table.wandb td:nth-child(1) { padding: 0 10px; text-align: left ; width: auto;} td:nth-child(2) {text-align: left ; width: 100%}\n",
       "    .wandb-row { display: flex; flex-direction: row; flex-wrap: wrap; justify-content: flex-start; width: 100% }\n",
       "    .wandb-col { display: flex; flex-direction: column; flex-basis: 100%; flex: 1; padding: 10px; }\n",
       "    </style>\n",
       "<div class=\"wandb-row\"><div class=\"wandb-col\"><h3>Run history:</h3><br/><table class=\"wandb\"><tr><td>USE_HEXES_ATTRS</td><td>▁</td></tr><tr><td>USE_ORTOPHOTO</td><td>▁</td></tr><tr><td>USE_OSMNX_ATTRS</td><td>▁</td></tr><tr><td>accuracy_fold_0</td><td>▁</td></tr><tr><td>auc_fold_0</td><td>▁</td></tr><tr><td>f1_fold_0</td><td>▁</td></tr><tr><td>mean_accuracy</td><td>▁</td></tr><tr><td>mean_auc</td><td>▁</td></tr><tr><td>mean_f1</td><td>▁</td></tr></table><br/></div><div class=\"wandb-col\"><h3>Run summary:</h3><br/><table class=\"wandb\"><tr><td>USE_HEXES_ATTRS</td><td>0</td></tr><tr><td>USE_ORTOPHOTO</td><td>0</td></tr><tr><td>USE_OSMNX_ATTRS</td><td>1</td></tr><tr><td>accuracy_fold_0</td><td>0.59059</td></tr><tr><td>auc_fold_0</td><td>0.82539</td></tr><tr><td>data_structure</td><td>graph</td></tr><tr><td>f1_fold_0</td><td>0.58472</td></tr><tr><td>mean_accuracy</td><td>0.59059</td></tr><tr><td>mean_auc</td><td>0.82539</td></tr><tr><td>mean_f1</td><td>0.58472</td></tr></table><br/></div></div>"
      ],
      "text/plain": [
       "<IPython.core.display.HTML object>"
      ]
     },
     "metadata": {},
     "output_type": "display_data"
    },
    {
     "data": {
      "text/html": [
       " View run <strong style=\"color:#cdcd00\">silver-sweep-1</strong> at: <a href='https://wandb.ai/gradient_pwr/airbnb-downstream-task/runs/i501rj1u' target=\"_blank\">https://wandb.ai/gradient_pwr/airbnb-downstream-task/runs/i501rj1u</a><br/>Synced 5 W&B file(s), 0 media file(s), 2 artifact file(s) and 0 other file(s)"
      ],
      "text/plain": [
       "<IPython.core.display.HTML object>"
      ]
     },
     "metadata": {},
     "output_type": "display_data"
    },
    {
     "data": {
      "text/html": [
       "Find logs at: <code>./wandb/run-20240602_220949-i501rj1u/logs</code>"
      ],
      "text/plain": [
       "<IPython.core.display.HTML object>"
      ]
     },
     "metadata": {},
     "output_type": "display_data"
    },
    {
     "name": "stderr",
     "output_type": "stream",
     "text": [
      "\u001b[34m\u001b[1mwandb\u001b[0m: Agent Starting Run: dlm0e5kw with config:\n",
      "\u001b[34m\u001b[1mwandb\u001b[0m: \tepochs: 17\n",
      "\u001b[34m\u001b[1mwandb\u001b[0m: \thidden_channels: 20\n",
      "\u001b[34m\u001b[1mwandb\u001b[0m: \tlearning_rate: 0.003169567882768765\n",
      "\u001b[34m\u001b[1mwandb\u001b[0m: \tlin_layer_size: 32\n",
      "\u001b[34m\u001b[1mwandb\u001b[0m: \tnum_conv_layers: 5\n",
      "\u001b[34m\u001b[1mwandb\u001b[0m: \tnum_lin_layers: 0\n",
      "\u001b[34m\u001b[1mwandb\u001b[0m: \tweight_decay: 0.0006669555100067706\n",
      "Failed to detect the name of this notebook, you can set it manually with the WANDB_NOTEBOOK_NAME environment variable to enable code saving.\n"
     ]
    },
    {
     "data": {
      "text/html": [
       "wandb version 0.17.0 is available!  To upgrade, please run:\n",
       " $ pip install wandb --upgrade"
      ],
      "text/plain": [
       "<IPython.core.display.HTML object>"
      ]
     },
     "metadata": {},
     "output_type": "display_data"
    },
    {
     "data": {
      "text/html": [
       "Tracking run with wandb version 0.16.4"
      ],
      "text/plain": [
       "<IPython.core.display.HTML object>"
      ]
     },
     "metadata": {},
     "output_type": "display_data"
    },
    {
     "data": {
      "text/html": [
       "Run data is saved locally in <code>/mnt/m2-mint/gradient/gradient/wandb/run-20240602_221021-dlm0e5kw</code>"
      ],
      "text/plain": [
       "<IPython.core.display.HTML object>"
      ]
     },
     "metadata": {},
     "output_type": "display_data"
    },
    {
     "data": {
      "text/html": [
       "Syncing run <strong><a href='https://wandb.ai/gradient_pwr/airbnb-downstream-task/runs/dlm0e5kw' target=\"_blank\">glamorous-sweep-2</a></strong> to <a href='https://wandb.ai/gradient_pwr/airbnb-downstream-task' target=\"_blank\">Weights & Biases</a> (<a href='https://wandb.me/run' target=\"_blank\">docs</a>)<br/>Sweep page: <a href='https://wandb.ai/gradient_pwr/airbnb-downstream-task/sweeps/0b734yxx' target=\"_blank\">https://wandb.ai/gradient_pwr/airbnb-downstream-task/sweeps/0b734yxx</a>"
      ],
      "text/plain": [
       "<IPython.core.display.HTML object>"
      ]
     },
     "metadata": {},
     "output_type": "display_data"
    },
    {
     "data": {
      "text/html": [
       " View project at <a href='https://wandb.ai/gradient_pwr/airbnb-downstream-task' target=\"_blank\">https://wandb.ai/gradient_pwr/airbnb-downstream-task</a>"
      ],
      "text/plain": [
       "<IPython.core.display.HTML object>"
      ]
     },
     "metadata": {},
     "output_type": "display_data"
    },
    {
     "data": {
      "text/html": [
       " View sweep at <a href='https://wandb.ai/gradient_pwr/airbnb-downstream-task/sweeps/0b734yxx' target=\"_blank\">https://wandb.ai/gradient_pwr/airbnb-downstream-task/sweeps/0b734yxx</a>"
      ],
      "text/plain": [
       "<IPython.core.display.HTML object>"
      ]
     },
     "metadata": {},
     "output_type": "display_data"
    },
    {
     "data": {
      "text/html": [
       " View run at <a href='https://wandb.ai/gradient_pwr/airbnb-downstream-task/runs/dlm0e5kw' target=\"_blank\">https://wandb.ai/gradient_pwr/airbnb-downstream-task/runs/dlm0e5kw</a>"
      ],
      "text/plain": [
       "<IPython.core.display.HTML object>"
      ]
     },
     "metadata": {},
     "output_type": "display_data"
    },
    {
     "name": "stderr",
     "output_type": "stream",
     "text": [
      "/mnt/m2-mint/gradient/gradient/env/lib/python3.8/site-packages/torch_geometric/deprecation.py:26: UserWarning: 'data.DataLoader' is deprecated, use 'loader.DataLoader' instead\n",
      "  warnings.warn(out)\n",
      "GPU available: True (cuda), used: True\n",
      "TPU available: False, using: 0 TPU cores\n",
      "IPU available: False, using: 0 IPUs\n",
      "HPU available: False, using: 0 HPUs\n",
      "/mnt/m2-mint/gradient/gradient/env/lib/python3.8/site-packages/pytorch_lightning/trainer/configuration_validator.py:70: PossibleUserWarning: You defined a `validation_step` but have no `val_dataloader`. Skipping val loop.\n",
      "  rank_zero_warn(\n",
      "LOCAL_RANK: 0 - CUDA_VISIBLE_DEVICES: [0]\n",
      "\n",
      "  | Name  | Type      | Params\n",
      "------------------------------------\n",
      "0 | model | HeteroGNN | 16.8 K\n",
      "------------------------------------\n",
      "16.8 K    Trainable params\n",
      "0         Non-trainable params\n",
      "16.8 K    Total params\n",
      "0.067     Total estimated model params size (MB)\n",
      "/mnt/m2-mint/gradient/gradient/env/lib/python3.8/site-packages/pytorch_lightning/trainer/connectors/data_connector.py:432: PossibleUserWarning: The dataloader, train_dataloader, does not have many workers which may be a bottleneck. Consider increasing the value of the `num_workers` argument` (try 16 which is the number of cpus on this machine) in the `DataLoader` init to improve performance.\n",
      "  rank_zero_warn(\n"
     ]
    },
    {
     "data": {
      "application/vnd.jupyter.widget-view+json": {
       "model_id": "bf52cd28a7cd45ff9520814976944195",
       "version_major": 2,
       "version_minor": 0
      },
      "text/plain": [
       "Training: 0it [00:00, ?it/s]"
      ]
     },
     "metadata": {},
     "output_type": "display_data"
    },
    {
     "name": "stderr",
     "output_type": "stream",
     "text": [
      "`Trainer.fit` stopped: `max_epochs=17` reached.\n"
     ]
    },
    {
     "data": {
      "application/vnd.jupyter.widget-view+json": {
       "model_id": "75d12477346f4f9aaf615168c1284957",
       "version_major": 2,
       "version_minor": 0
      },
      "text/plain": [
       "VBox(children=(Label(value='0.108 MB of 0.108 MB uploaded\\r'), FloatProgress(value=1.0, max=1.0)))"
      ]
     },
     "metadata": {},
     "output_type": "display_data"
    },
    {
     "data": {
      "text/html": [
       "<style>\n",
       "    table.wandb td:nth-child(1) { padding: 0 10px; text-align: left ; width: auto;} td:nth-child(2) {text-align: left ; width: 100%}\n",
       "    .wandb-row { display: flex; flex-direction: row; flex-wrap: wrap; justify-content: flex-start; width: 100% }\n",
       "    .wandb-col { display: flex; flex-direction: column; flex-basis: 100%; flex: 1; padding: 10px; }\n",
       "    </style>\n",
       "<div class=\"wandb-row\"><div class=\"wandb-col\"><h3>Run history:</h3><br/><table class=\"wandb\"><tr><td>USE_HEXES_ATTRS</td><td>▁</td></tr><tr><td>USE_ORTOPHOTO</td><td>▁</td></tr><tr><td>USE_OSMNX_ATTRS</td><td>▁</td></tr><tr><td>accuracy_fold_0</td><td>▁</td></tr><tr><td>auc_fold_0</td><td>▁</td></tr><tr><td>f1_fold_0</td><td>▁</td></tr><tr><td>mean_accuracy</td><td>▁</td></tr><tr><td>mean_auc</td><td>▁</td></tr><tr><td>mean_f1</td><td>▁</td></tr></table><br/></div><div class=\"wandb-col\"><h3>Run summary:</h3><br/><table class=\"wandb\"><tr><td>USE_HEXES_ATTRS</td><td>0</td></tr><tr><td>USE_ORTOPHOTO</td><td>0</td></tr><tr><td>USE_OSMNX_ATTRS</td><td>1</td></tr><tr><td>accuracy_fold_0</td><td>0.56735</td></tr><tr><td>auc_fold_0</td><td>0.8027</td></tr><tr><td>data_structure</td><td>graph</td></tr><tr><td>f1_fold_0</td><td>0.60167</td></tr><tr><td>mean_accuracy</td><td>0.56735</td></tr><tr><td>mean_auc</td><td>0.8027</td></tr><tr><td>mean_f1</td><td>0.60167</td></tr></table><br/></div></div>"
      ],
      "text/plain": [
       "<IPython.core.display.HTML object>"
      ]
     },
     "metadata": {},
     "output_type": "display_data"
    },
    {
     "data": {
      "text/html": [
       " View run <strong style=\"color:#cdcd00\">glamorous-sweep-2</strong> at: <a href='https://wandb.ai/gradient_pwr/airbnb-downstream-task/runs/dlm0e5kw' target=\"_blank\">https://wandb.ai/gradient_pwr/airbnb-downstream-task/runs/dlm0e5kw</a><br/>Synced 5 W&B file(s), 0 media file(s), 1 artifact file(s) and 0 other file(s)"
      ],
      "text/plain": [
       "<IPython.core.display.HTML object>"
      ]
     },
     "metadata": {},
     "output_type": "display_data"
    },
    {
     "data": {
      "text/html": [
       "Find logs at: <code>./wandb/run-20240602_221021-dlm0e5kw/logs</code>"
      ],
      "text/plain": [
       "<IPython.core.display.HTML object>"
      ]
     },
     "metadata": {},
     "output_type": "display_data"
    }
   ],
   "source": [
    "def derive_data_structure(attr_config):\n",
    "    if attr_config[\"USE_OSMNX_ATTRS\"]:\n",
    "        return \"graph\"\n",
    "    return \"tabular\"\n",
    "\n",
    "\n",
    "configs_size = len(ATTRIBUTES_CONFIGURATIONS)\n",
    "\n",
    "for index, attr_config in enumerate(ATTRIBUTES_CONFIGURATIONS):\n",
    "    print(\"Sweep for config {}/{} in progress...\".format(index + 1, configs_size))\n",
    "\n",
    "    assert \"USE_ORTOPHOTO\" in attr_config, \"Provide USE_ORTOPHOTO key\"\n",
    "    assert \"USE_HEXES_ATTRS\" in attr_config, \"Provide USE_HEXES_ATTRS key\"\n",
    "    assert \"USE_OSMNX_ATTRS\" in attr_config, \"Provide USE_OSMNX_ATTRS key\"\n",
    "\n",
    "    data_structure = derive_data_structure(attr_config)\n",
    "\n",
    "    if data_structure == \"graph\":\n",
    "        graph_data_dict = {\n",
    "            city_name: create_graph_data(\n",
    "                **gdfs,\n",
    "                use_ortophoto=attr_config[\"USE_ORTOPHOTO\"],\n",
    "                use_hexes_attr=attr_config[\"USE_HEXES_ATTRS\"],\n",
    "            )\n",
    "            for city_name, gdfs in gdfs_dict.items()\n",
    "        }\n",
    "        run_sweep_graph_data(attr_config)\n",
    "    elif data_structure == \"tabular\":\n",
    "        tabular_data_dict = {\n",
    "            city_name: create_tabular_data(\n",
    "                gdfs[\"hexes\"],\n",
    "                gdfs[\"controller\"],\n",
    "                use_ortophoto=attr_config[\"USE_ORTOPHOTO\"],\n",
    "                use_hexes_attr=attr_config[\"USE_HEXES_ATTRS\"],\n",
    "            )\n",
    "            for city_name, gdfs in gdfs_dict.items()\n",
    "        }\n",
    "        run_sweep_tabular_data(attr_config)\n",
    "    else:\n",
    "        raise ValueError(\"Unknown data structure\")"
   ]
  }
 ],
 "metadata": {
  "kernelspec": {
   "display_name": "env",
   "language": "python",
   "name": "python3"
  },
  "language_info": {
   "codemirror_mode": {
    "name": "ipython",
    "version": 3
   },
   "file_extension": ".py",
   "mimetype": "text/x-python",
   "name": "python",
   "nbconvert_exporter": "python",
   "pygments_lexer": "ipython3",
   "version": "3.10.11"
  }
 },
 "nbformat": 4,
 "nbformat_minor": 2
}
