{
 "cells": [
  {
   "cell_type": "code",
   "execution_count": 1,
   "metadata": {},
   "outputs": [],
   "source": [
    "%load_ext autoreload\n",
    "%autoreload 2"
   ]
  },
  {
   "cell_type": "code",
   "execution_count": 2,
   "metadata": {},
   "outputs": [],
   "source": [
    "import sys\n",
    "sys.path.append(\"../../\")\n",
    "import geopandas as gpd\n",
    "from src.organized_datasets_creation.utils import resolve_nominatim_city_name\n",
    "from src.graph_layering.graph_layer_creator import GraphLayerController\n",
    "import pandas as pd\n",
    "import os\n",
    "from src.graph_layering.graph_layer_creator import SourceType\n",
    "import warnings\n",
    "from src.graph_layering.create_hetero_data import create_hetero_data\n",
    "from sklearn.preprocessing import OneHotEncoder\n",
    "from typing import cast\n",
    "from tqdm import tqdm\n",
    "\n",
    "import wandb.util\n",
    "import wandb\n",
    "import os\n",
    "\n",
    "\n",
    "import numpy as np\n",
    "from src.graph.create_osmnx_graph import OSMnxGraph\n",
    "import json\n",
    "from shapely.geometry import Point\n",
    "from joblib import dump\n",
    "\n",
    "\n",
    "from datetime import datetime\n",
    "from sklearn.metrics import f1_score, roc_auc_score\n",
    "from wandb.util import generate_id\n",
    "from sklearn.linear_model import LogisticRegression\n",
    "from src.training.train import train\n",
    "from sklearn.preprocessing import StandardScaler"
   ]
  },
  {
   "cell_type": "code",
   "execution_count": 3,
   "metadata": {},
   "outputs": [],
   "source": [
    "WANDB_API_KEY = os.environ.get(\n",
    "    \"WANDB_API_KEY\", None)\n",
    "assert (\n",
    "    WANDB_API_KEY is not None\n",
    "), \"WANDB_API_KEY is not set, did you forget it in the config file?\""
   ]
  },
  {
   "cell_type": "code",
   "execution_count": 4,
   "metadata": {
    "tags": [
     "parameters"
    ]
   },
   "outputs": [],
   "source": [
    "# general settings\n",
    "ORGANIZED_HEXES_LOCATION = \"/home/grymar/studia/gradient/data/organized-hexes\"\n",
    "ORGANIZED_GRAPHS_LOCATION = \"/home/grymar/studia/gradient/data/organized_graphs\"\n",
    "OSMNX_ALL_ATTRIBUTES_LOCATION = (\n",
    "    \"/home/grymar/studia/gradient/data/osmnx_attributes.json\"\n",
    ")\n",
    "\n",
    "# downstream task settings\n",
    "AIRBNB_LOCATION = \"/home/grymar/studia/gradient/data/downstream_tasks/airbnb\"\n",
    "TRAIN_SAVE_DIR = \"/home/grymar/tmp/\"\n",
    "\n",
    "SWEEP_RUNS_COUNT = 50\n",
    "\n",
    "ATTRIBUTES_CONFIGURATIONS = [\n",
    "    # {\n",
    "    #     \"USE_ORTOPHOTO\": False,\n",
    "    #     \"USE_HEXES_ATTRS\": True,\n",
    "    #     \"USE_OSMNX_ATTRS\": True,\n",
    "    # },\n",
    "    {\n",
    "        \"USE_ORTOPHOTO\": False,\n",
    "        \"USE_HEXES_ATTRS\": True,\n",
    "        \"USE_OSMNX_ATTRS\": False,\n",
    "    },\n",
    "    # {\n",
    "    #     \"USE_ORTOPHOTO\": False,\n",
    "    #     \"USE_HEXES_ATTRS\": False,\n",
    "    #     \"USE_OSMNX_ATTRS\": True,\n",
    "    # },\n",
    "]\n",
    "\n",
    "WANDB_SWEEP_PARAMS_GRAPH_DATA = {\n",
    "    \"method\": \"bayes\",\n",
    "    \"metric\": {\"name\": \"mean_f1\", \"goal\": \"maximize\"},\n",
    "    \"parameters\": {\n",
    "        \"hidden_channels\": {\"values\": [10, 20, 30, 40, 50]},\n",
    "        \"learning_rate\": {\n",
    "            \"distribution\": \"log_uniform_values\",\n",
    "            \"min\": 1e-5,\n",
    "            \"max\": 1e-2,\n",
    "        },\n",
    "        \"epochs\": {\n",
    "            \"distribution\": \"int_uniform\",\n",
    "            \"min\": 10,\n",
    "            \"max\": 20,\n",
    "        },\n",
    "        \"num_conv_layers\": {\"values\": [1, 2, 3, 4, 5]},\n",
    "        \"lin_layer_size\": {\"values\": [8, 16, 32, 64, 128]},\n",
    "        \"num_lin_layers\": {\"values\": [0, 1, 2, 3, 4]},\n",
    "        \"weight_decay\": {\n",
    "            \"distribution\": \"log_uniform_values\",\n",
    "            \"min\": 1e-5,\n",
    "            \"max\": 1e-2,\n",
    "        },\n",
    "    },\n",
    "}\n",
    "\n",
    "WANDB_SWEEP_PARAMS_TABULAR_DATA = {\n",
    "    \"method\": \"bayes\",\n",
    "    \"metric\": {\"name\": \"mean_f1\", \"goal\": \"maximize\"},\n",
    "    \"parameters\": {\n",
    "        \"solver_penalty\": {\n",
    "            \"values\": [\n",
    "                \"lbfgs;l2\",\n",
    "                \"liblinear;l1\",\n",
    "                \"liblinear;l2\",\n",
    "                \"newton-cg;l2\",\n",
    "                \"newton-cholesky;l2\",\n",
    "                \"sag;l2\",\n",
    "                \"saga;elasticnet\",\n",
    "                \"saga;l1\",\n",
    "                \"saga;l2\",\n",
    "            ]\n",
    "        },\n",
    "        \"C\": {\n",
    "            \"distribution\": \"log_uniform_values\",\n",
    "            \"min\": 1e-5,\n",
    "            \"max\": 1,\n",
    "        },\n",
    "    },\n",
    "}"
   ]
  },
  {
   "cell_type": "markdown",
   "metadata": {},
   "source": [
    "# Load airbnb data\n"
   ]
  },
  {
   "cell_type": "code",
   "execution_count": 5,
   "metadata": {},
   "outputs": [],
   "source": [
    "def create_gdf_airbnb_price(data):\n",
    "    gdf = gpd.GeoDataFrame(\n",
    "        data.drop([\"latitude\", \"longitude\"], axis=1),\n",
    "        geometry=gpd.points_from_xy(x=data[\"longitude\"], y=data[\"latitude\"]),\n",
    "        crs=\"EPSG:4326\",\n",
    "    )\n",
    "    gdf_price = gdf[[\"geometry\", \"price\"]]\n",
    "    gdf_price.reset_index(inplace=True, drop=True)\n",
    "\n",
    "    return gdf_price"
   ]
  },
  {
   "cell_type": "code",
   "execution_count": 6,
   "metadata": {},
   "outputs": [
    {
     "data": {
      "text/html": [
       "<div>\n",
       "<style scoped>\n",
       "    .dataframe tbody tr th:only-of-type {\n",
       "        vertical-align: middle;\n",
       "    }\n",
       "\n",
       "    .dataframe tbody tr th {\n",
       "        vertical-align: top;\n",
       "    }\n",
       "\n",
       "    .dataframe thead th {\n",
       "        text-align: right;\n",
       "    }\n",
       "</style>\n",
       "<table border=\"1\" class=\"dataframe\">\n",
       "  <thead>\n",
       "    <tr style=\"text-align: right;\">\n",
       "      <th></th>\n",
       "      <th>geometry</th>\n",
       "      <th>price</th>\n",
       "      <th>mie_nazwa</th>\n",
       "    </tr>\n",
       "  </thead>\n",
       "  <tbody>\n",
       "    <tr>\n",
       "      <th>0</th>\n",
       "      <td>POINT (-73.95512 40.68535)</td>\n",
       "      <td>72.0</td>\n",
       "      <td>new_york</td>\n",
       "    </tr>\n",
       "    <tr>\n",
       "      <th>1</th>\n",
       "      <td>POINT (-73.99454 40.66265)</td>\n",
       "      <td>253.0</td>\n",
       "      <td>new_york</td>\n",
       "    </tr>\n",
       "    <tr>\n",
       "      <th>2</th>\n",
       "      <td>POINT (-73.95342 40.70935)</td>\n",
       "      <td>81.0</td>\n",
       "      <td>new_york</td>\n",
       "    </tr>\n",
       "    <tr>\n",
       "      <th>3</th>\n",
       "      <td>POINT (-73.94255 40.80107)</td>\n",
       "      <td>65.0</td>\n",
       "      <td>new_york</td>\n",
       "    </tr>\n",
       "    <tr>\n",
       "      <th>4</th>\n",
       "      <td>POINT (-73.94759 40.78778)</td>\n",
       "      <td>60.0</td>\n",
       "      <td>new_york</td>\n",
       "    </tr>\n",
       "    <tr>\n",
       "      <th>...</th>\n",
       "      <td>...</td>\n",
       "      <td>...</td>\n",
       "      <td>...</td>\n",
       "    </tr>\n",
       "    <tr>\n",
       "      <th>23756</th>\n",
       "      <td>POINT (-74.00952 40.71445)</td>\n",
       "      <td>721.0</td>\n",
       "      <td>new_york</td>\n",
       "    </tr>\n",
       "    <tr>\n",
       "      <th>23757</th>\n",
       "      <td>POINT (-74.00940 40.71647)</td>\n",
       "      <td>721.0</td>\n",
       "      <td>new_york</td>\n",
       "    </tr>\n",
       "    <tr>\n",
       "      <th>23758</th>\n",
       "      <td>POINT (-74.01149 40.71617)</td>\n",
       "      <td>1080.0</td>\n",
       "      <td>new_york</td>\n",
       "    </tr>\n",
       "    <tr>\n",
       "      <th>23759</th>\n",
       "      <td>POINT (-73.94935 40.78102)</td>\n",
       "      <td>198.0</td>\n",
       "      <td>new_york</td>\n",
       "    </tr>\n",
       "    <tr>\n",
       "      <th>23760</th>\n",
       "      <td>POINT (-73.91387 40.69006)</td>\n",
       "      <td>41.0</td>\n",
       "      <td>new_york</td>\n",
       "    </tr>\n",
       "  </tbody>\n",
       "</table>\n",
       "<p>23761 rows × 3 columns</p>\n",
       "</div>"
      ],
      "text/plain": [
       "                         geometry   price mie_nazwa\n",
       "0      POINT (-73.95512 40.68535)    72.0  new_york\n",
       "1      POINT (-73.99454 40.66265)   253.0  new_york\n",
       "2      POINT (-73.95342 40.70935)    81.0  new_york\n",
       "3      POINT (-73.94255 40.80107)    65.0  new_york\n",
       "4      POINT (-73.94759 40.78778)    60.0  new_york\n",
       "...                           ...     ...       ...\n",
       "23756  POINT (-74.00952 40.71445)   721.0  new_york\n",
       "23757  POINT (-74.00940 40.71647)   721.0  new_york\n",
       "23758  POINT (-74.01149 40.71617)  1080.0  new_york\n",
       "23759  POINT (-73.94935 40.78102)   198.0  new_york\n",
       "23760  POINT (-73.91387 40.69006)    41.0  new_york\n",
       "\n",
       "[23761 rows x 3 columns]"
      ]
     },
     "execution_count": 6,
     "metadata": {},
     "output_type": "execute_result"
    }
   ],
   "source": [
    "airbnb_ny = pd.read_csv(f\"{AIRBNB_LOCATION}/airbnb_new_york_cleaned.csv\")\n",
    "airbnb_ny = create_gdf_airbnb_price(airbnb_ny)\n",
    "airbnb_ny[\"mie_nazwa\"] = \"new_york\"\n",
    "airbnb_ny"
   ]
  },
  {
   "cell_type": "code",
   "execution_count": 7,
   "metadata": {},
   "outputs": [
    {
     "data": {
      "text/html": [
       "<div>\n",
       "<style scoped>\n",
       "    .dataframe tbody tr th:only-of-type {\n",
       "        vertical-align: middle;\n",
       "    }\n",
       "\n",
       "    .dataframe tbody tr th {\n",
       "        vertical-align: top;\n",
       "    }\n",
       "\n",
       "    .dataframe thead th {\n",
       "        text-align: right;\n",
       "    }\n",
       "</style>\n",
       "<table border=\"1\" class=\"dataframe\">\n",
       "  <thead>\n",
       "    <tr style=\"text-align: right;\">\n",
       "      <th></th>\n",
       "      <th>geometry</th>\n",
       "      <th>price</th>\n",
       "      <th>mie_nazwa</th>\n",
       "    </tr>\n",
       "  </thead>\n",
       "  <tbody>\n",
       "    <tr>\n",
       "      <th>0</th>\n",
       "      <td>POINT (-122.33629 47.65444)</td>\n",
       "      <td>99.0</td>\n",
       "      <td>seattle</td>\n",
       "    </tr>\n",
       "    <tr>\n",
       "      <th>1</th>\n",
       "      <td>POINT (-122.31937 47.55017)</td>\n",
       "      <td>72.0</td>\n",
       "      <td>seattle</td>\n",
       "    </tr>\n",
       "    <tr>\n",
       "      <th>2</th>\n",
       "      <td>POINT (-122.38663 47.55495)</td>\n",
       "      <td>166.0</td>\n",
       "      <td>seattle</td>\n",
       "    </tr>\n",
       "    <tr>\n",
       "      <th>3</th>\n",
       "      <td>POINT (-122.38607 47.55627)</td>\n",
       "      <td>125.0</td>\n",
       "      <td>seattle</td>\n",
       "    </tr>\n",
       "    <tr>\n",
       "      <th>4</th>\n",
       "      <td>POINT (-122.37196 47.67947)</td>\n",
       "      <td>81.0</td>\n",
       "      <td>seattle</td>\n",
       "    </tr>\n",
       "    <tr>\n",
       "      <th>...</th>\n",
       "      <td>...</td>\n",
       "      <td>...</td>\n",
       "      <td>...</td>\n",
       "    </tr>\n",
       "    <tr>\n",
       "      <th>6073</th>\n",
       "      <td>POINT (-122.34716 47.61584)</td>\n",
       "      <td>307.0</td>\n",
       "      <td>seattle</td>\n",
       "    </tr>\n",
       "    <tr>\n",
       "      <th>6074</th>\n",
       "      <td>POINT (-122.37198 47.70236)</td>\n",
       "      <td>145.0</td>\n",
       "      <td>seattle</td>\n",
       "    </tr>\n",
       "    <tr>\n",
       "      <th>6075</th>\n",
       "      <td>POINT (-122.34887 47.61576)</td>\n",
       "      <td>153.0</td>\n",
       "      <td>seattle</td>\n",
       "    </tr>\n",
       "    <tr>\n",
       "      <th>6076</th>\n",
       "      <td>POINT (-122.35028 47.62791)</td>\n",
       "      <td>186.0</td>\n",
       "      <td>seattle</td>\n",
       "    </tr>\n",
       "    <tr>\n",
       "      <th>6077</th>\n",
       "      <td>POINT (-122.34856 47.61601)</td>\n",
       "      <td>270.0</td>\n",
       "      <td>seattle</td>\n",
       "    </tr>\n",
       "  </tbody>\n",
       "</table>\n",
       "<p>6078 rows × 3 columns</p>\n",
       "</div>"
      ],
      "text/plain": [
       "                         geometry  price mie_nazwa\n",
       "0     POINT (-122.33629 47.65444)   99.0   seattle\n",
       "1     POINT (-122.31937 47.55017)   72.0   seattle\n",
       "2     POINT (-122.38663 47.55495)  166.0   seattle\n",
       "3     POINT (-122.38607 47.55627)  125.0   seattle\n",
       "4     POINT (-122.37196 47.67947)   81.0   seattle\n",
       "...                           ...    ...       ...\n",
       "6073  POINT (-122.34716 47.61584)  307.0   seattle\n",
       "6074  POINT (-122.37198 47.70236)  145.0   seattle\n",
       "6075  POINT (-122.34887 47.61576)  153.0   seattle\n",
       "6076  POINT (-122.35028 47.62791)  186.0   seattle\n",
       "6077  POINT (-122.34856 47.61601)  270.0   seattle\n",
       "\n",
       "[6078 rows x 3 columns]"
      ]
     },
     "execution_count": 7,
     "metadata": {},
     "output_type": "execute_result"
    }
   ],
   "source": [
    "airbnb_st = pd.read_csv(f\"{AIRBNB_LOCATION}/airbnb_seattle_cleaned.csv\")\n",
    "airbnb_st = create_gdf_airbnb_price(airbnb_st)\n",
    "airbnb_st[\"mie_nazwa\"] = \"seattle\"\n",
    "airbnb_st"
   ]
  },
  {
   "cell_type": "code",
   "execution_count": 8,
   "metadata": {},
   "outputs": [
    {
     "data": {
      "text/html": [
       "<div>\n",
       "<style scoped>\n",
       "    .dataframe tbody tr th:only-of-type {\n",
       "        vertical-align: middle;\n",
       "    }\n",
       "\n",
       "    .dataframe tbody tr th {\n",
       "        vertical-align: top;\n",
       "    }\n",
       "\n",
       "    .dataframe thead th {\n",
       "        text-align: right;\n",
       "    }\n",
       "</style>\n",
       "<table border=\"1\" class=\"dataframe\">\n",
       "  <thead>\n",
       "    <tr style=\"text-align: right;\">\n",
       "      <th></th>\n",
       "      <th>geometry</th>\n",
       "      <th>price</th>\n",
       "      <th>mie_nazwa</th>\n",
       "    </tr>\n",
       "  </thead>\n",
       "  <tbody>\n",
       "    <tr>\n",
       "      <th>0</th>\n",
       "      <td>POINT (-73.95512 40.68535)</td>\n",
       "      <td>72.0</td>\n",
       "      <td>new_york</td>\n",
       "    </tr>\n",
       "    <tr>\n",
       "      <th>1</th>\n",
       "      <td>POINT (-73.99454 40.66265)</td>\n",
       "      <td>253.0</td>\n",
       "      <td>new_york</td>\n",
       "    </tr>\n",
       "    <tr>\n",
       "      <th>2</th>\n",
       "      <td>POINT (-73.95342 40.70935)</td>\n",
       "      <td>81.0</td>\n",
       "      <td>new_york</td>\n",
       "    </tr>\n",
       "    <tr>\n",
       "      <th>3</th>\n",
       "      <td>POINT (-73.94255 40.80107)</td>\n",
       "      <td>65.0</td>\n",
       "      <td>new_york</td>\n",
       "    </tr>\n",
       "    <tr>\n",
       "      <th>4</th>\n",
       "      <td>POINT (-73.94759 40.78778)</td>\n",
       "      <td>60.0</td>\n",
       "      <td>new_york</td>\n",
       "    </tr>\n",
       "    <tr>\n",
       "      <th>...</th>\n",
       "      <td>...</td>\n",
       "      <td>...</td>\n",
       "      <td>...</td>\n",
       "    </tr>\n",
       "    <tr>\n",
       "      <th>6073</th>\n",
       "      <td>POINT (-122.34716 47.61584)</td>\n",
       "      <td>307.0</td>\n",
       "      <td>seattle</td>\n",
       "    </tr>\n",
       "    <tr>\n",
       "      <th>6074</th>\n",
       "      <td>POINT (-122.37198 47.70236)</td>\n",
       "      <td>145.0</td>\n",
       "      <td>seattle</td>\n",
       "    </tr>\n",
       "    <tr>\n",
       "      <th>6075</th>\n",
       "      <td>POINT (-122.34887 47.61576)</td>\n",
       "      <td>153.0</td>\n",
       "      <td>seattle</td>\n",
       "    </tr>\n",
       "    <tr>\n",
       "      <th>6076</th>\n",
       "      <td>POINT (-122.35028 47.62791)</td>\n",
       "      <td>186.0</td>\n",
       "      <td>seattle</td>\n",
       "    </tr>\n",
       "    <tr>\n",
       "      <th>6077</th>\n",
       "      <td>POINT (-122.34856 47.61601)</td>\n",
       "      <td>270.0</td>\n",
       "      <td>seattle</td>\n",
       "    </tr>\n",
       "  </tbody>\n",
       "</table>\n",
       "<p>29839 rows × 3 columns</p>\n",
       "</div>"
      ],
      "text/plain": [
       "                         geometry  price mie_nazwa\n",
       "0      POINT (-73.95512 40.68535)   72.0  new_york\n",
       "1      POINT (-73.99454 40.66265)  253.0  new_york\n",
       "2      POINT (-73.95342 40.70935)   81.0  new_york\n",
       "3      POINT (-73.94255 40.80107)   65.0  new_york\n",
       "4      POINT (-73.94759 40.78778)   60.0  new_york\n",
       "...                           ...    ...       ...\n",
       "6073  POINT (-122.34716 47.61584)  307.0   seattle\n",
       "6074  POINT (-122.37198 47.70236)  145.0   seattle\n",
       "6075  POINT (-122.34887 47.61576)  153.0   seattle\n",
       "6076  POINT (-122.35028 47.62791)  186.0   seattle\n",
       "6077  POINT (-122.34856 47.61601)  270.0   seattle\n",
       "\n",
       "[29839 rows x 3 columns]"
      ]
     },
     "execution_count": 8,
     "metadata": {},
     "output_type": "execute_result"
    }
   ],
   "source": [
    "airbnb = pd.concat([airbnb_ny, airbnb_st])\n",
    "airbnb"
   ]
  },
  {
   "cell_type": "code",
   "execution_count": 9,
   "metadata": {},
   "outputs": [
    {
     "name": "stdout",
     "output_type": "stream",
     "text": [
      "Creating gdfs...\n"
     ]
    },
    {
     "name": "stderr",
     "output_type": "stream",
     "text": [
      "100%|██████████| 2/2 [00:02<00:00,  1.05s/it]\n"
     ]
    }
   ],
   "source": [
    "# def assign_classes_to_nodes(gdf_nodes: gpd.GeoDataFrame):\n",
    "#     gdf_nodes_non0 = gdf_nodes[gdf_nodes['price'] != 0]\n",
    "#     gdf_nodes_0 = gdf_nodes[gdf_nodes['price'] == 0]\n",
    "#     print(\"Te z ZEREM\")\n",
    "#     display(gdf_nodes_0)\n",
    "\n",
    "#     print(\"TE BEZ ZERA\")\n",
    "#     display(gdf_nodes_non0)\n",
    "#     gdf_nodes_0['price_class'] = 0 # czy np.NaN???\n",
    "\n",
    "#     q1 = gdf_nodes_non0['price'].quantile(0.25)\n",
    "#     q2 = gdf_nodes_non0['price'].quantile(0.5)\n",
    "#     q3 = gdf_nodes_non0['price'].quantile(0.75)\n",
    "#     bins = [0, q1, q2, q3, float(\"inf\")]\n",
    "#     # label_names = ['low', 'medium', 'high', 'very high'] \n",
    "#     label_names = [1, 2, 3, 4]\n",
    "#     gdf_nodes_non0['price_class'] = pd.cut(gdf_nodes_non0['price'], bins=bins, labels=label_names, right=True)\n",
    "#     gdf_nodes_all = pd.concat([gdf_nodes_non0, gdf_nodes_0])\n",
    "#     gdf_nodes_all.drop('price', axis=1, inplace=True)\n",
    "#     return gdf_nodes_all\n",
    "\n",
    "\n",
    "def add_airbnb_to_osmnx_nodes(\n",
    "    airbnb: gpd.GeoDataFrame,\n",
    "    nodes: gpd.GeoDataFrame,\n",
    "    edges: gpd.GeoDataFrame,\n",
    "    city_name: str,\n",
    "):\n",
    "    with open(OSMNX_ALL_ATTRIBUTES_LOCATION) as f:\n",
    "        all_attributes = json.load(f)\n",
    "    osmnx_graph = OSMnxGraph(\n",
    "        airbnb.loc[airbnb[\"mie_nazwa\"] == city_name, :],\n",
    "        nodes,\n",
    "        edges,\n",
    "        all_attributes,\n",
    "        y_column_name=\"price\",\n",
    "    )\n",
    "    osmnx_graph._aggregate(element_type=\"node\", aggregation_method=\"mean\")\n",
    "    nodes = osmnx_graph.gdf_nodes\n",
    "    nodes['price'] = nodes['price'].apply(lambda x: None if x == 0.0 else x)\n",
    "    return nodes\n",
    "\n",
    "\n",
    "def create_gdfs(city_name: str):\n",
    "    osmnx_nodes = gpd.read_parquet(\n",
    "        os.path.join(ORGANIZED_GRAPHS_LOCATION, city_name, \"nodes.parquet\")\n",
    "    )\n",
    "    osmnx_nodes = osmnx_nodes.reset_index()\n",
    "    osmnx_nodes.index.names = [\"node_id\"]\n",
    "    osmnx_nodes[\"x\"] = osmnx_nodes[\"geometry\"].x\n",
    "    osmnx_nodes[\"y\"] = osmnx_nodes[\"geometry\"].y\n",
    "\n",
    "    osmnx_edges = gpd.read_parquet(\n",
    "        os.path.join(ORGANIZED_GRAPHS_LOCATION, city_name, \"edges.parquet\")\n",
    "    )\n",
    "    osmnx_edges = osmnx_edges.reset_index().rename(columns={\"index\": \"edge_id\"})\n",
    "    osmnx_edges.index.names = [\"edge_id\"]\n",
    "    if \"level_4\" in osmnx_edges.columns:\n",
    "        osmnx_edges = osmnx_edges.drop(\"level_4\", axis=1)\n",
    "    osmnx_edges = osmnx_edges.fillna(0)\n",
    "\n",
    "    assert osmnx_nodes.crs == osmnx_edges.crs\n",
    "    assert osmnx_nodes.crs == airbnb.crs\n",
    "\n",
    "    osmnx_nodes = add_airbnb_to_osmnx_nodes(\n",
    "        airbnb=airbnb,\n",
    "        nodes=osmnx_nodes,\n",
    "        city_name=city_name,\n",
    "        edges=osmnx_edges,\n",
    "    )\n",
    "\n",
    "    hexes_years_folder = os.path.join(ORGANIZED_HEXES_LOCATION, city_name)\n",
    "\n",
    "    subfolders = [\n",
    "        int(f)\n",
    "        for f in os.listdir(hexes_years_folder)\n",
    "        if os.path.isdir(os.path.join(hexes_years_folder, f))\n",
    "    ]\n",
    "    highest_year = subfolders[np.argmax(subfolders)]\n",
    "\n",
    "    hexes: gpd.GeoDataFrame = gpd.read_parquet(\n",
    "        os.path.join(\n",
    "            ORGANIZED_HEXES_LOCATION,\n",
    "            f\"{city_name}/{highest_year}/h9/count-embedder/dataset.parquet\",\n",
    "        )\n",
    "    )\n",
    "\n",
    "    hexes = hexes.rename(columns={\"region_id\": \"h3_id\"}).rename_axis(\n",
    "        \"region_id\", axis=0\n",
    "    )\n",
    "\n",
    "    return dict(osmnx_nodes=osmnx_nodes, osmnx_edges=osmnx_edges, hexes=hexes)\n",
    "\n",
    "\n",
    "print(\"Creating gdfs...\")\n",
    "gdfs_dict = {\n",
    "    city_name: create_gdfs(city_name) for city_name in tqdm([\"new_york\", \"seattle\"])\n",
    "}"
   ]
  },
  {
   "cell_type": "code",
   "execution_count": 10,
   "metadata": {},
   "outputs": [],
   "source": [
    "# sample_nodes = gdfs_dict['new_york']['osmnx_nodes']\n",
    "# sample_hexes = gdfs_dict['new_york']['hexes']\n",
    "# display(sample_nodes)\n",
    "# display(sample_hexes)"
   ]
  },
  {
   "cell_type": "code",
   "execution_count": 11,
   "metadata": {},
   "outputs": [],
   "source": [
    "# hexagons = sample_hexes[['h3_id', 'geometry']]\n",
    "# points = sample_nodes[['price', 'geometry']]\n",
    "# points_with_hex = gpd.sjoin(points, hexagons, how='left', op='within')\n",
    "# points_with_hex"
   ]
  },
  {
   "cell_type": "code",
   "execution_count": 12,
   "metadata": {},
   "outputs": [],
   "source": [
    "# hexes_with_aggregation = points_with_hex.groupby('h3_id')['price'].mean()\n",
    "# hexes_with_aggregation"
   ]
  },
  {
   "cell_type": "code",
   "execution_count": 13,
   "metadata": {},
   "outputs": [],
   "source": [
    "with warnings.catch_warnings():\n",
    "    warnings.simplefilter(\"ignore\")\n",
    "    for gdf_for_city in gdfs_dict.values():\n",
    "        gdf_for_city[\"controller\"] = GraphLayerController(\n",
    "            gdf_for_city[\"hexes\"],\n",
    "            gdf_for_city[\"osmnx_nodes\"],\n",
    "            gdf_for_city[\"osmnx_edges\"],\n",
    "        )"
   ]
  },
  {
   "cell_type": "code",
   "execution_count": 14,
   "metadata": {},
   "outputs": [],
   "source": [
    "# hexagons = self.hexes_gdf[['h3_id', 'geometry']]\n",
    "# points = source_gdf[['price', 'geometry']]\n",
    "# points_with_hex = (gpd.sjoin(points, hexagons, how='left', op='within', predicate=predicate)\n",
    "# .rename(columns=dict(index_right=\"source_id\"))\n",
    "# )\n",
    "# hexes_with_aggregation = points_with_hex.groupby('h3_id')['price'].mean()\n",
    "# grouped_not_na = hexes_with_aggregation[~hexes_with_aggregation.isna()]\n",
    "# df_grouped_not_na = pd.DataFrame(grouped_not_na)\n",
    "# q1 = df_grouped_not_na['price'].quantile(0.25)\n",
    "# q2 = df_grouped_not_na['price'].quantile(0.5)\n",
    "# q3 = df_grouped_not_na['price'].quantile(0.75)\n",
    "# bins = [0, q1, q2, q3, float(\"inf\")]\n",
    "# label_names = [1, 2, 3, 4]\n",
    "\n",
    "# df_grouped_not_na['price_class'] = pd.cut(df_grouped_not_na['price'], bins=bins, labels=label_names, right=True)\n",
    "\n",
    "# grouped_isna = hexes_with_aggregation[hexes_with_aggregation.isna()]\n",
    "# grouped_na = pd.DataFrame(grouped_isna)\n",
    "# grouped_na['price_class'] = 0\n",
    "\n",
    "# hexes_all_aggregated = pd.concat([df_grouped_not_na, grouped_na])\n",
    "# hexes_all_aggregated.drop('price', axis=1, inplace=True)"
   ]
  },
  {
   "cell_type": "code",
   "execution_count": 15,
   "metadata": {},
   "outputs": [],
   "source": [
    "def patch_hexes_with_y(\n",
    "    osmnx_nodes: gpd.GeoDataFrame,\n",
    "    hexes: gpd.GeoDataFrame,\n",
    "    controller: GraphLayerController,\n",
    "):\n",
    "    virtual_edges = controller.get_virtual_edges_to_hexes(SourceType.OSMNX_NODES)\n",
    "    hexes_with_y = cast(\n",
    "        gpd.GeoDataFrame,\n",
    "        hexes.merge(\n",
    "            virtual_edges.merge(osmnx_nodes, left_on=\"source_id\", right_index=True)[\n",
    "                [\"region_id\", \"price\"]\n",
    "            ]\n",
    "            .groupby(\"region_id\")\n",
    "            .mean(),\n",
    "            left_index=True,\n",
    "            right_index=True,\n",
    "            how=\"left\",\n",
    "        )\n",
    "    )\n",
    "    grouped_not_na = hexes_with_y[~hexes_with_y['price'].isna()]\n",
    "    df_grouped_not_na = gpd.GeoDataFrame(grouped_not_na)\n",
    "    q1 = df_grouped_not_na['price'].quantile(0.25)\n",
    "    q2 = df_grouped_not_na['price'].quantile(0.5)\n",
    "    q3 = df_grouped_not_na['price'].quantile(0.75)\n",
    "    bins = [0, q1, q2, q3, float(\"inf\")]\n",
    "    label_names = [1, 2, 3, 4]\n",
    "\n",
    "    df_grouped_not_na['price_class'] = pd.cut(df_grouped_not_na['price'], bins=bins, labels=label_names, right=True)\n",
    "\n",
    "    grouped_isna = hexes_with_y[hexes_with_y['price'].isna()]\n",
    "    grouped_na = gpd.GeoDataFrame(grouped_isna)\n",
    "    grouped_na['price_class'] = 0\n",
    "\n",
    "    hexes_with_y = pd.concat([df_grouped_not_na, grouped_na])\n",
    "    hexes_with_y.drop('price', axis=1, inplace=True)\n",
    "    hexes_with_y = hexes_with_y.set_crs(\"EPSG:4326\")\n",
    "    display(hexes_with_y)\n",
    "    controller.hexes_gdf = hexes_with_y\n",
    "    controller._hexes_centroids_gdf = controller._create_hexes_centroids_gdf()"
   ]
  },
  {
   "cell_type": "code",
   "execution_count": 16,
   "metadata": {},
   "outputs": [
    {
     "data": {
      "text/html": [
       "<div>\n",
       "<style scoped>\n",
       "    .dataframe tbody tr th:only-of-type {\n",
       "        vertical-align: middle;\n",
       "    }\n",
       "\n",
       "    .dataframe tbody tr th {\n",
       "        vertical-align: top;\n",
       "    }\n",
       "\n",
       "    .dataframe thead th {\n",
       "        text-align: right;\n",
       "    }\n",
       "</style>\n",
       "<table border=\"1\" class=\"dataframe\">\n",
       "  <thead>\n",
       "    <tr style=\"text-align: right;\">\n",
       "      <th></th>\n",
       "      <th>h3_id</th>\n",
       "      <th>geometry</th>\n",
       "      <th>amenity_gym</th>\n",
       "      <th>building_garages</th>\n",
       "      <th>landuse_gravel</th>\n",
       "      <th>sport_ultimate</th>\n",
       "      <th>office_bakery</th>\n",
       "      <th>natural_shrubbery</th>\n",
       "      <th>landuse_gress</th>\n",
       "      <th>building_guard_cabin</th>\n",
       "      <th>...</th>\n",
       "      <th>historic_heritage</th>\n",
       "      <th>building_government</th>\n",
       "      <th>aeroway_navigationaid</th>\n",
       "      <th>historic_park</th>\n",
       "      <th>historic_train_station</th>\n",
       "      <th>shop_hobby</th>\n",
       "      <th>building_floating_home</th>\n",
       "      <th>amenity_vacuum_cleaner</th>\n",
       "      <th>building_castle</th>\n",
       "      <th>price_class</th>\n",
       "    </tr>\n",
       "    <tr>\n",
       "      <th>region_id</th>\n",
       "      <th></th>\n",
       "      <th></th>\n",
       "      <th></th>\n",
       "      <th></th>\n",
       "      <th></th>\n",
       "      <th></th>\n",
       "      <th></th>\n",
       "      <th></th>\n",
       "      <th></th>\n",
       "      <th></th>\n",
       "      <th></th>\n",
       "      <th></th>\n",
       "      <th></th>\n",
       "      <th></th>\n",
       "      <th></th>\n",
       "      <th></th>\n",
       "      <th></th>\n",
       "      <th></th>\n",
       "      <th></th>\n",
       "      <th></th>\n",
       "      <th></th>\n",
       "    </tr>\n",
       "  </thead>\n",
       "  <tbody>\n",
       "    <tr>\n",
       "      <th>15</th>\n",
       "      <td>892a1000047ffff</td>\n",
       "      <td>POLYGON ((-73.79056 40.85996, -73.79267 40.859...</td>\n",
       "      <td>0</td>\n",
       "      <td>0</td>\n",
       "      <td>0</td>\n",
       "      <td>0</td>\n",
       "      <td>0</td>\n",
       "      <td>0</td>\n",
       "      <td>0</td>\n",
       "      <td>0</td>\n",
       "      <td>...</td>\n",
       "      <td>0</td>\n",
       "      <td>0</td>\n",
       "      <td>0</td>\n",
       "      <td>0</td>\n",
       "      <td>0</td>\n",
       "      <td>0</td>\n",
       "      <td>0</td>\n",
       "      <td>0</td>\n",
       "      <td>0</td>\n",
       "      <td>2</td>\n",
       "    </tr>\n",
       "    <tr>\n",
       "      <th>22</th>\n",
       "      <td>892a1000067ffff</td>\n",
       "      <td>POLYGON ((-73.78814 40.85208, -73.79025 40.851...</td>\n",
       "      <td>0</td>\n",
       "      <td>0</td>\n",
       "      <td>0</td>\n",
       "      <td>0</td>\n",
       "      <td>0</td>\n",
       "      <td>0</td>\n",
       "      <td>0</td>\n",
       "      <td>0</td>\n",
       "      <td>...</td>\n",
       "      <td>0</td>\n",
       "      <td>0</td>\n",
       "      <td>0</td>\n",
       "      <td>0</td>\n",
       "      <td>0</td>\n",
       "      <td>0</td>\n",
       "      <td>0</td>\n",
       "      <td>0</td>\n",
       "      <td>0</td>\n",
       "      <td>4</td>\n",
       "    </tr>\n",
       "    <tr>\n",
       "      <th>93</th>\n",
       "      <td>892a100024bffff</td>\n",
       "      <td>POLYGON ((-73.82708 40.86168, -73.82920 40.860...</td>\n",
       "      <td>0</td>\n",
       "      <td>0</td>\n",
       "      <td>0</td>\n",
       "      <td>0</td>\n",
       "      <td>0</td>\n",
       "      <td>0</td>\n",
       "      <td>0</td>\n",
       "      <td>0</td>\n",
       "      <td>...</td>\n",
       "      <td>0</td>\n",
       "      <td>0</td>\n",
       "      <td>0</td>\n",
       "      <td>0</td>\n",
       "      <td>0</td>\n",
       "      <td>0</td>\n",
       "      <td>0</td>\n",
       "      <td>0</td>\n",
       "      <td>0</td>\n",
       "      <td>2</td>\n",
       "    </tr>\n",
       "    <tr>\n",
       "      <th>97</th>\n",
       "      <td>892a100025bffff</td>\n",
       "      <td>POLYGON ((-73.82504 40.86438, -73.82715 40.863...</td>\n",
       "      <td>0</td>\n",
       "      <td>0</td>\n",
       "      <td>0</td>\n",
       "      <td>0</td>\n",
       "      <td>0</td>\n",
       "      <td>0</td>\n",
       "      <td>0</td>\n",
       "      <td>0</td>\n",
       "      <td>...</td>\n",
       "      <td>0</td>\n",
       "      <td>0</td>\n",
       "      <td>0</td>\n",
       "      <td>0</td>\n",
       "      <td>0</td>\n",
       "      <td>0</td>\n",
       "      <td>0</td>\n",
       "      <td>0</td>\n",
       "      <td>0</td>\n",
       "      <td>1</td>\n",
       "    </tr>\n",
       "    <tr>\n",
       "      <th>138</th>\n",
       "      <td>892a1000383ffff</td>\n",
       "      <td>POLYGON ((-73.78796 40.84679, -73.79007 40.845...</td>\n",
       "      <td>0</td>\n",
       "      <td>0</td>\n",
       "      <td>0</td>\n",
       "      <td>0</td>\n",
       "      <td>0</td>\n",
       "      <td>0</td>\n",
       "      <td>0</td>\n",
       "      <td>0</td>\n",
       "      <td>...</td>\n",
       "      <td>0</td>\n",
       "      <td>0</td>\n",
       "      <td>0</td>\n",
       "      <td>0</td>\n",
       "      <td>0</td>\n",
       "      <td>0</td>\n",
       "      <td>0</td>\n",
       "      <td>0</td>\n",
       "      <td>0</td>\n",
       "      <td>4</td>\n",
       "    </tr>\n",
       "    <tr>\n",
       "      <th>...</th>\n",
       "      <td>...</td>\n",
       "      <td>...</td>\n",
       "      <td>...</td>\n",
       "      <td>...</td>\n",
       "      <td>...</td>\n",
       "      <td>...</td>\n",
       "      <td>...</td>\n",
       "      <td>...</td>\n",
       "      <td>...</td>\n",
       "      <td>...</td>\n",
       "      <td>...</td>\n",
       "      <td>...</td>\n",
       "      <td>...</td>\n",
       "      <td>...</td>\n",
       "      <td>...</td>\n",
       "      <td>...</td>\n",
       "      <td>...</td>\n",
       "      <td>...</td>\n",
       "      <td>...</td>\n",
       "      <td>...</td>\n",
       "      <td>...</td>\n",
       "    </tr>\n",
       "    <tr>\n",
       "      <th>10749</th>\n",
       "      <td>892a10776bbffff</td>\n",
       "      <td>POLYGON ((-74.00607 40.66922, -74.00817 40.668...</td>\n",
       "      <td>0</td>\n",
       "      <td>0</td>\n",
       "      <td>0</td>\n",
       "      <td>0</td>\n",
       "      <td>0</td>\n",
       "      <td>0</td>\n",
       "      <td>0</td>\n",
       "      <td>0</td>\n",
       "      <td>...</td>\n",
       "      <td>0</td>\n",
       "      <td>0</td>\n",
       "      <td>0</td>\n",
       "      <td>0</td>\n",
       "      <td>0</td>\n",
       "      <td>0</td>\n",
       "      <td>0</td>\n",
       "      <td>0</td>\n",
       "      <td>0</td>\n",
       "      <td>0</td>\n",
       "    </tr>\n",
       "    <tr>\n",
       "      <th>10751</th>\n",
       "      <td>892a10776c7ffff</td>\n",
       "      <td>POLYGON ((-74.01482 40.67426, -74.01692 40.673...</td>\n",
       "      <td>0</td>\n",
       "      <td>0</td>\n",
       "      <td>0</td>\n",
       "      <td>0</td>\n",
       "      <td>0</td>\n",
       "      <td>0</td>\n",
       "      <td>0</td>\n",
       "      <td>0</td>\n",
       "      <td>...</td>\n",
       "      <td>0</td>\n",
       "      <td>0</td>\n",
       "      <td>0</td>\n",
       "      <td>0</td>\n",
       "      <td>0</td>\n",
       "      <td>0</td>\n",
       "      <td>0</td>\n",
       "      <td>0</td>\n",
       "      <td>0</td>\n",
       "      <td>0</td>\n",
       "    </tr>\n",
       "    <tr>\n",
       "      <th>10752</th>\n",
       "      <td>892a10776cbffff</td>\n",
       "      <td>POLYGON ((-74.02133 40.67672, -74.02343 40.675...</td>\n",
       "      <td>0</td>\n",
       "      <td>0</td>\n",
       "      <td>0</td>\n",
       "      <td>0</td>\n",
       "      <td>0</td>\n",
       "      <td>0</td>\n",
       "      <td>0</td>\n",
       "      <td>0</td>\n",
       "      <td>...</td>\n",
       "      <td>0</td>\n",
       "      <td>0</td>\n",
       "      <td>0</td>\n",
       "      <td>0</td>\n",
       "      <td>0</td>\n",
       "      <td>0</td>\n",
       "      <td>0</td>\n",
       "      <td>0</td>\n",
       "      <td>0</td>\n",
       "      <td>0</td>\n",
       "    </tr>\n",
       "    <tr>\n",
       "      <th>10753</th>\n",
       "      <td>892a10776cfffff</td>\n",
       "      <td>POLYGON ((-74.01909 40.67414, -74.02119 40.673...</td>\n",
       "      <td>0</td>\n",
       "      <td>0</td>\n",
       "      <td>0</td>\n",
       "      <td>0</td>\n",
       "      <td>0</td>\n",
       "      <td>0</td>\n",
       "      <td>0</td>\n",
       "      <td>0</td>\n",
       "      <td>...</td>\n",
       "      <td>0</td>\n",
       "      <td>0</td>\n",
       "      <td>0</td>\n",
       "      <td>0</td>\n",
       "      <td>0</td>\n",
       "      <td>0</td>\n",
       "      <td>0</td>\n",
       "      <td>0</td>\n",
       "      <td>0</td>\n",
       "      <td>0</td>\n",
       "    </tr>\n",
       "    <tr>\n",
       "      <th>10756</th>\n",
       "      <td>892a10776dbffff</td>\n",
       "      <td>POLYGON ((-74.01930 40.67942, -74.02140 40.678...</td>\n",
       "      <td>0</td>\n",
       "      <td>0</td>\n",
       "      <td>0</td>\n",
       "      <td>0</td>\n",
       "      <td>0</td>\n",
       "      <td>0</td>\n",
       "      <td>0</td>\n",
       "      <td>0</td>\n",
       "      <td>...</td>\n",
       "      <td>0</td>\n",
       "      <td>0</td>\n",
       "      <td>0</td>\n",
       "      <td>0</td>\n",
       "      <td>0</td>\n",
       "      <td>0</td>\n",
       "      <td>0</td>\n",
       "      <td>0</td>\n",
       "      <td>0</td>\n",
       "      <td>0</td>\n",
       "    </tr>\n",
       "  </tbody>\n",
       "</table>\n",
       "<p>10757 rows × 2154 columns</p>\n",
       "</div>"
      ],
      "text/plain": [
       "                     h3_id                                           geometry  \\\n",
       "region_id                                                                       \n",
       "15         892a1000047ffff  POLYGON ((-73.79056 40.85996, -73.79267 40.859...   \n",
       "22         892a1000067ffff  POLYGON ((-73.78814 40.85208, -73.79025 40.851...   \n",
       "93         892a100024bffff  POLYGON ((-73.82708 40.86168, -73.82920 40.860...   \n",
       "97         892a100025bffff  POLYGON ((-73.82504 40.86438, -73.82715 40.863...   \n",
       "138        892a1000383ffff  POLYGON ((-73.78796 40.84679, -73.79007 40.845...   \n",
       "...                    ...                                                ...   \n",
       "10749      892a10776bbffff  POLYGON ((-74.00607 40.66922, -74.00817 40.668...   \n",
       "10751      892a10776c7ffff  POLYGON ((-74.01482 40.67426, -74.01692 40.673...   \n",
       "10752      892a10776cbffff  POLYGON ((-74.02133 40.67672, -74.02343 40.675...   \n",
       "10753      892a10776cfffff  POLYGON ((-74.01909 40.67414, -74.02119 40.673...   \n",
       "10756      892a10776dbffff  POLYGON ((-74.01930 40.67942, -74.02140 40.678...   \n",
       "\n",
       "           amenity_gym  building_garages  landuse_gravel  sport_ultimate  \\\n",
       "region_id                                                                  \n",
       "15                   0                 0               0               0   \n",
       "22                   0                 0               0               0   \n",
       "93                   0                 0               0               0   \n",
       "97                   0                 0               0               0   \n",
       "138                  0                 0               0               0   \n",
       "...                ...               ...             ...             ...   \n",
       "10749                0                 0               0               0   \n",
       "10751                0                 0               0               0   \n",
       "10752                0                 0               0               0   \n",
       "10753                0                 0               0               0   \n",
       "10756                0                 0               0               0   \n",
       "\n",
       "           office_bakery  natural_shrubbery  landuse_gress  \\\n",
       "region_id                                                    \n",
       "15                     0                  0              0   \n",
       "22                     0                  0              0   \n",
       "93                     0                  0              0   \n",
       "97                     0                  0              0   \n",
       "138                    0                  0              0   \n",
       "...                  ...                ...            ...   \n",
       "10749                  0                  0              0   \n",
       "10751                  0                  0              0   \n",
       "10752                  0                  0              0   \n",
       "10753                  0                  0              0   \n",
       "10756                  0                  0              0   \n",
       "\n",
       "           building_guard_cabin  ...  historic_heritage  building_government  \\\n",
       "region_id                        ...                                           \n",
       "15                            0  ...                  0                    0   \n",
       "22                            0  ...                  0                    0   \n",
       "93                            0  ...                  0                    0   \n",
       "97                            0  ...                  0                    0   \n",
       "138                           0  ...                  0                    0   \n",
       "...                         ...  ...                ...                  ...   \n",
       "10749                         0  ...                  0                    0   \n",
       "10751                         0  ...                  0                    0   \n",
       "10752                         0  ...                  0                    0   \n",
       "10753                         0  ...                  0                    0   \n",
       "10756                         0  ...                  0                    0   \n",
       "\n",
       "           aeroway_navigationaid  historic_park  historic_train_station  \\\n",
       "region_id                                                                 \n",
       "15                             0              0                       0   \n",
       "22                             0              0                       0   \n",
       "93                             0              0                       0   \n",
       "97                             0              0                       0   \n",
       "138                            0              0                       0   \n",
       "...                          ...            ...                     ...   \n",
       "10749                          0              0                       0   \n",
       "10751                          0              0                       0   \n",
       "10752                          0              0                       0   \n",
       "10753                          0              0                       0   \n",
       "10756                          0              0                       0   \n",
       "\n",
       "           shop_hobby  building_floating_home  amenity_vacuum_cleaner  \\\n",
       "region_id                                                               \n",
       "15                  0                       0                       0   \n",
       "22                  0                       0                       0   \n",
       "93                  0                       0                       0   \n",
       "97                  0                       0                       0   \n",
       "138                 0                       0                       0   \n",
       "...               ...                     ...                     ...   \n",
       "10749               0                       0                       0   \n",
       "10751               0                       0                       0   \n",
       "10752               0                       0                       0   \n",
       "10753               0                       0                       0   \n",
       "10756               0                       0                       0   \n",
       "\n",
       "           building_castle  price_class  \n",
       "region_id                                \n",
       "15                       0            2  \n",
       "22                       0            4  \n",
       "93                       0            2  \n",
       "97                       0            1  \n",
       "138                      0            4  \n",
       "...                    ...          ...  \n",
       "10749                    0            0  \n",
       "10751                    0            0  \n",
       "10752                    0            0  \n",
       "10753                    0            0  \n",
       "10756                    0            0  \n",
       "\n",
       "[10757 rows x 2154 columns]"
      ]
     },
     "metadata": {},
     "output_type": "display_data"
    },
    {
     "data": {
      "text/html": [
       "<div>\n",
       "<style scoped>\n",
       "    .dataframe tbody tr th:only-of-type {\n",
       "        vertical-align: middle;\n",
       "    }\n",
       "\n",
       "    .dataframe tbody tr th {\n",
       "        vertical-align: top;\n",
       "    }\n",
       "\n",
       "    .dataframe thead th {\n",
       "        text-align: right;\n",
       "    }\n",
       "</style>\n",
       "<table border=\"1\" class=\"dataframe\">\n",
       "  <thead>\n",
       "    <tr style=\"text-align: right;\">\n",
       "      <th></th>\n",
       "      <th>h3_id</th>\n",
       "      <th>geometry</th>\n",
       "      <th>amenity_gym</th>\n",
       "      <th>building_garages</th>\n",
       "      <th>landuse_gravel</th>\n",
       "      <th>sport_ultimate</th>\n",
       "      <th>office_bakery</th>\n",
       "      <th>natural_shrubbery</th>\n",
       "      <th>landuse_gress</th>\n",
       "      <th>building_guard_cabin</th>\n",
       "      <th>...</th>\n",
       "      <th>historic_heritage</th>\n",
       "      <th>building_government</th>\n",
       "      <th>aeroway_navigationaid</th>\n",
       "      <th>historic_park</th>\n",
       "      <th>historic_train_station</th>\n",
       "      <th>shop_hobby</th>\n",
       "      <th>building_floating_home</th>\n",
       "      <th>amenity_vacuum_cleaner</th>\n",
       "      <th>building_castle</th>\n",
       "      <th>price_class</th>\n",
       "    </tr>\n",
       "    <tr>\n",
       "      <th>region_id</th>\n",
       "      <th></th>\n",
       "      <th></th>\n",
       "      <th></th>\n",
       "      <th></th>\n",
       "      <th></th>\n",
       "      <th></th>\n",
       "      <th></th>\n",
       "      <th></th>\n",
       "      <th></th>\n",
       "      <th></th>\n",
       "      <th></th>\n",
       "      <th></th>\n",
       "      <th></th>\n",
       "      <th></th>\n",
       "      <th></th>\n",
       "      <th></th>\n",
       "      <th></th>\n",
       "      <th></th>\n",
       "      <th></th>\n",
       "      <th></th>\n",
       "      <th></th>\n",
       "    </tr>\n",
       "  </thead>\n",
       "  <tbody>\n",
       "    <tr>\n",
       "      <th>35</th>\n",
       "      <td>8928d540103ffff</td>\n",
       "      <td>POLYGON ((-122.27904 47.65803, -122.27784 47.6...</td>\n",
       "      <td>0</td>\n",
       "      <td>0</td>\n",
       "      <td>0</td>\n",
       "      <td>0</td>\n",
       "      <td>0</td>\n",
       "      <td>0</td>\n",
       "      <td>0</td>\n",
       "      <td>0</td>\n",
       "      <td>...</td>\n",
       "      <td>0</td>\n",
       "      <td>0</td>\n",
       "      <td>0</td>\n",
       "      <td>0</td>\n",
       "      <td>0</td>\n",
       "      <td>0</td>\n",
       "      <td>0</td>\n",
       "      <td>0</td>\n",
       "      <td>0</td>\n",
       "      <td>3</td>\n",
       "    </tr>\n",
       "    <tr>\n",
       "      <th>37</th>\n",
       "      <td>8928d54010bffff</td>\n",
       "      <td>POLYGON ((-122.27525 47.65980, -122.27406 47.6...</td>\n",
       "      <td>0</td>\n",
       "      <td>0</td>\n",
       "      <td>0</td>\n",
       "      <td>0</td>\n",
       "      <td>0</td>\n",
       "      <td>0</td>\n",
       "      <td>0</td>\n",
       "      <td>0</td>\n",
       "      <td>...</td>\n",
       "      <td>0</td>\n",
       "      <td>0</td>\n",
       "      <td>0</td>\n",
       "      <td>0</td>\n",
       "      <td>0</td>\n",
       "      <td>0</td>\n",
       "      <td>0</td>\n",
       "      <td>0</td>\n",
       "      <td>0</td>\n",
       "      <td>3</td>\n",
       "    </tr>\n",
       "    <tr>\n",
       "      <th>38</th>\n",
       "      <td>8928d54010fffff</td>\n",
       "      <td>POLYGON ((-122.27924 47.66089, -122.27805 47.6...</td>\n",
       "      <td>0</td>\n",
       "      <td>0</td>\n",
       "      <td>0</td>\n",
       "      <td>0</td>\n",
       "      <td>0</td>\n",
       "      <td>0</td>\n",
       "      <td>0</td>\n",
       "      <td>0</td>\n",
       "      <td>...</td>\n",
       "      <td>1</td>\n",
       "      <td>0</td>\n",
       "      <td>0</td>\n",
       "      <td>0</td>\n",
       "      <td>0</td>\n",
       "      <td>0</td>\n",
       "      <td>0</td>\n",
       "      <td>0</td>\n",
       "      <td>0</td>\n",
       "      <td>1</td>\n",
       "    </tr>\n",
       "    <tr>\n",
       "      <th>40</th>\n",
       "      <td>8928d540117ffff</td>\n",
       "      <td>POLYGON ((-122.28282 47.65627, -122.28163 47.6...</td>\n",
       "      <td>0</td>\n",
       "      <td>0</td>\n",
       "      <td>0</td>\n",
       "      <td>0</td>\n",
       "      <td>0</td>\n",
       "      <td>0</td>\n",
       "      <td>0</td>\n",
       "      <td>0</td>\n",
       "      <td>...</td>\n",
       "      <td>0</td>\n",
       "      <td>0</td>\n",
       "      <td>0</td>\n",
       "      <td>0</td>\n",
       "      <td>0</td>\n",
       "      <td>0</td>\n",
       "      <td>0</td>\n",
       "      <td>0</td>\n",
       "      <td>0</td>\n",
       "      <td>3</td>\n",
       "    </tr>\n",
       "    <tr>\n",
       "      <th>41</th>\n",
       "      <td>8928d54011bffff</td>\n",
       "      <td>POLYGON ((-122.27505 47.65695, -122.27385 47.6...</td>\n",
       "      <td>0</td>\n",
       "      <td>0</td>\n",
       "      <td>0</td>\n",
       "      <td>0</td>\n",
       "      <td>0</td>\n",
       "      <td>0</td>\n",
       "      <td>0</td>\n",
       "      <td>0</td>\n",
       "      <td>...</td>\n",
       "      <td>0</td>\n",
       "      <td>0</td>\n",
       "      <td>0</td>\n",
       "      <td>0</td>\n",
       "      <td>0</td>\n",
       "      <td>0</td>\n",
       "      <td>0</td>\n",
       "      <td>0</td>\n",
       "      <td>0</td>\n",
       "      <td>3</td>\n",
       "    </tr>\n",
       "    <tr>\n",
       "      <th>...</th>\n",
       "      <td>...</td>\n",
       "      <td>...</td>\n",
       "      <td>...</td>\n",
       "      <td>...</td>\n",
       "      <td>...</td>\n",
       "      <td>...</td>\n",
       "      <td>...</td>\n",
       "      <td>...</td>\n",
       "      <td>...</td>\n",
       "      <td>...</td>\n",
       "      <td>...</td>\n",
       "      <td>...</td>\n",
       "      <td>...</td>\n",
       "      <td>...</td>\n",
       "      <td>...</td>\n",
       "      <td>...</td>\n",
       "      <td>...</td>\n",
       "      <td>...</td>\n",
       "      <td>...</td>\n",
       "      <td>...</td>\n",
       "      <td>...</td>\n",
       "    </tr>\n",
       "    <tr>\n",
       "      <th>4198</th>\n",
       "      <td>8928d5cdbcbffff</td>\n",
       "      <td>POLYGON ((-122.39215 47.49291, -122.39096 47.4...</td>\n",
       "      <td>0</td>\n",
       "      <td>0</td>\n",
       "      <td>0</td>\n",
       "      <td>0</td>\n",
       "      <td>0</td>\n",
       "      <td>0</td>\n",
       "      <td>0</td>\n",
       "      <td>0</td>\n",
       "      <td>...</td>\n",
       "      <td>0</td>\n",
       "      <td>0</td>\n",
       "      <td>0</td>\n",
       "      <td>0</td>\n",
       "      <td>0</td>\n",
       "      <td>0</td>\n",
       "      <td>0</td>\n",
       "      <td>0</td>\n",
       "      <td>0</td>\n",
       "      <td>0</td>\n",
       "    </tr>\n",
       "    <tr>\n",
       "      <th>4199</th>\n",
       "      <td>8928d5cdbcfffff</td>\n",
       "      <td>POLYGON ((-122.39613 47.49399, -122.39494 47.4...</td>\n",
       "      <td>0</td>\n",
       "      <td>0</td>\n",
       "      <td>0</td>\n",
       "      <td>0</td>\n",
       "      <td>0</td>\n",
       "      <td>0</td>\n",
       "      <td>0</td>\n",
       "      <td>0</td>\n",
       "      <td>...</td>\n",
       "      <td>0</td>\n",
       "      <td>0</td>\n",
       "      <td>0</td>\n",
       "      <td>0</td>\n",
       "      <td>0</td>\n",
       "      <td>0</td>\n",
       "      <td>0</td>\n",
       "      <td>0</td>\n",
       "      <td>0</td>\n",
       "      <td>0</td>\n",
       "    </tr>\n",
       "    <tr>\n",
       "      <th>4200</th>\n",
       "      <td>8928d5cdbd3ffff</td>\n",
       "      <td>POLYGON ((-122.39572 47.48827, -122.39453 47.4...</td>\n",
       "      <td>0</td>\n",
       "      <td>0</td>\n",
       "      <td>0</td>\n",
       "      <td>0</td>\n",
       "      <td>0</td>\n",
       "      <td>0</td>\n",
       "      <td>0</td>\n",
       "      <td>0</td>\n",
       "      <td>...</td>\n",
       "      <td>0</td>\n",
       "      <td>0</td>\n",
       "      <td>0</td>\n",
       "      <td>0</td>\n",
       "      <td>0</td>\n",
       "      <td>0</td>\n",
       "      <td>0</td>\n",
       "      <td>0</td>\n",
       "      <td>0</td>\n",
       "      <td>0</td>\n",
       "    </tr>\n",
       "    <tr>\n",
       "      <th>4201</th>\n",
       "      <td>8928d5cdbd7ffff</td>\n",
       "      <td>POLYGON ((-122.39970 47.48936, -122.39851 47.4...</td>\n",
       "      <td>0</td>\n",
       "      <td>0</td>\n",
       "      <td>0</td>\n",
       "      <td>0</td>\n",
       "      <td>0</td>\n",
       "      <td>0</td>\n",
       "      <td>0</td>\n",
       "      <td>0</td>\n",
       "      <td>...</td>\n",
       "      <td>0</td>\n",
       "      <td>0</td>\n",
       "      <td>0</td>\n",
       "      <td>0</td>\n",
       "      <td>0</td>\n",
       "      <td>0</td>\n",
       "      <td>0</td>\n",
       "      <td>0</td>\n",
       "      <td>0</td>\n",
       "      <td>0</td>\n",
       "    </tr>\n",
       "    <tr>\n",
       "      <th>4202</th>\n",
       "      <td>8928d5cdbdbffff</td>\n",
       "      <td>POLYGON ((-122.39194 47.49005, -122.39076 47.4...</td>\n",
       "      <td>0</td>\n",
       "      <td>0</td>\n",
       "      <td>0</td>\n",
       "      <td>0</td>\n",
       "      <td>0</td>\n",
       "      <td>0</td>\n",
       "      <td>0</td>\n",
       "      <td>0</td>\n",
       "      <td>...</td>\n",
       "      <td>0</td>\n",
       "      <td>0</td>\n",
       "      <td>0</td>\n",
       "      <td>0</td>\n",
       "      <td>0</td>\n",
       "      <td>0</td>\n",
       "      <td>0</td>\n",
       "      <td>0</td>\n",
       "      <td>0</td>\n",
       "      <td>0</td>\n",
       "    </tr>\n",
       "  </tbody>\n",
       "</table>\n",
       "<p>4203 rows × 2154 columns</p>\n",
       "</div>"
      ],
      "text/plain": [
       "                     h3_id                                           geometry  \\\n",
       "region_id                                                                       \n",
       "35         8928d540103ffff  POLYGON ((-122.27904 47.65803, -122.27784 47.6...   \n",
       "37         8928d54010bffff  POLYGON ((-122.27525 47.65980, -122.27406 47.6...   \n",
       "38         8928d54010fffff  POLYGON ((-122.27924 47.66089, -122.27805 47.6...   \n",
       "40         8928d540117ffff  POLYGON ((-122.28282 47.65627, -122.28163 47.6...   \n",
       "41         8928d54011bffff  POLYGON ((-122.27505 47.65695, -122.27385 47.6...   \n",
       "...                    ...                                                ...   \n",
       "4198       8928d5cdbcbffff  POLYGON ((-122.39215 47.49291, -122.39096 47.4...   \n",
       "4199       8928d5cdbcfffff  POLYGON ((-122.39613 47.49399, -122.39494 47.4...   \n",
       "4200       8928d5cdbd3ffff  POLYGON ((-122.39572 47.48827, -122.39453 47.4...   \n",
       "4201       8928d5cdbd7ffff  POLYGON ((-122.39970 47.48936, -122.39851 47.4...   \n",
       "4202       8928d5cdbdbffff  POLYGON ((-122.39194 47.49005, -122.39076 47.4...   \n",
       "\n",
       "           amenity_gym  building_garages  landuse_gravel  sport_ultimate  \\\n",
       "region_id                                                                  \n",
       "35                   0                 0               0               0   \n",
       "37                   0                 0               0               0   \n",
       "38                   0                 0               0               0   \n",
       "40                   0                 0               0               0   \n",
       "41                   0                 0               0               0   \n",
       "...                ...               ...             ...             ...   \n",
       "4198                 0                 0               0               0   \n",
       "4199                 0                 0               0               0   \n",
       "4200                 0                 0               0               0   \n",
       "4201                 0                 0               0               0   \n",
       "4202                 0                 0               0               0   \n",
       "\n",
       "           office_bakery  natural_shrubbery  landuse_gress  \\\n",
       "region_id                                                    \n",
       "35                     0                  0              0   \n",
       "37                     0                  0              0   \n",
       "38                     0                  0              0   \n",
       "40                     0                  0              0   \n",
       "41                     0                  0              0   \n",
       "...                  ...                ...            ...   \n",
       "4198                   0                  0              0   \n",
       "4199                   0                  0              0   \n",
       "4200                   0                  0              0   \n",
       "4201                   0                  0              0   \n",
       "4202                   0                  0              0   \n",
       "\n",
       "           building_guard_cabin  ...  historic_heritage  building_government  \\\n",
       "region_id                        ...                                           \n",
       "35                            0  ...                  0                    0   \n",
       "37                            0  ...                  0                    0   \n",
       "38                            0  ...                  1                    0   \n",
       "40                            0  ...                  0                    0   \n",
       "41                            0  ...                  0                    0   \n",
       "...                         ...  ...                ...                  ...   \n",
       "4198                          0  ...                  0                    0   \n",
       "4199                          0  ...                  0                    0   \n",
       "4200                          0  ...                  0                    0   \n",
       "4201                          0  ...                  0                    0   \n",
       "4202                          0  ...                  0                    0   \n",
       "\n",
       "           aeroway_navigationaid  historic_park  historic_train_station  \\\n",
       "region_id                                                                 \n",
       "35                             0              0                       0   \n",
       "37                             0              0                       0   \n",
       "38                             0              0                       0   \n",
       "40                             0              0                       0   \n",
       "41                             0              0                       0   \n",
       "...                          ...            ...                     ...   \n",
       "4198                           0              0                       0   \n",
       "4199                           0              0                       0   \n",
       "4200                           0              0                       0   \n",
       "4201                           0              0                       0   \n",
       "4202                           0              0                       0   \n",
       "\n",
       "           shop_hobby  building_floating_home  amenity_vacuum_cleaner  \\\n",
       "region_id                                                               \n",
       "35                  0                       0                       0   \n",
       "37                  0                       0                       0   \n",
       "38                  0                       0                       0   \n",
       "40                  0                       0                       0   \n",
       "41                  0                       0                       0   \n",
       "...               ...                     ...                     ...   \n",
       "4198                0                       0                       0   \n",
       "4199                0                       0                       0   \n",
       "4200                0                       0                       0   \n",
       "4201                0                       0                       0   \n",
       "4202                0                       0                       0   \n",
       "\n",
       "           building_castle  price_class  \n",
       "region_id                                \n",
       "35                       0            3  \n",
       "37                       0            3  \n",
       "38                       0            1  \n",
       "40                       0            3  \n",
       "41                       0            3  \n",
       "...                    ...          ...  \n",
       "4198                     0            0  \n",
       "4199                     0            0  \n",
       "4200                     0            0  \n",
       "4201                     0            0  \n",
       "4202                     0            0  \n",
       "\n",
       "[4203 rows x 2154 columns]"
      ]
     },
     "metadata": {},
     "output_type": "display_data"
    }
   ],
   "source": [
    "with warnings.catch_warnings():\n",
    "    warnings.simplefilter(\"ignore\")\n",
    "    for gdfs in gdfs_dict.values():\n",
    "        patch_hexes_with_y(gdfs[\"osmnx_nodes\"], gdfs[\"hexes\"], gdfs[\"controller\"])"
   ]
  },
  {
   "cell_type": "code",
   "execution_count": 17,
   "metadata": {},
   "outputs": [],
   "source": [
    "def create_graph_data(\n",
    "    osmnx_nodes,\n",
    "    osmnx_edges,\n",
    "    hexes,\n",
    "    controller: GraphLayerController,\n",
    "    use_hexes_attr: bool,\n",
    "    use_ortophoto: bool,\n",
    "):\n",
    "\n",
    "    edges_attr_columns = osmnx_edges.columns[\n",
    "        ~osmnx_edges.columns.isin([\"u\", \"v\", \"key\", \"geometry\"])\n",
    "    ]\n",
    "    nodes_attr_columns = osmnx_nodes.columns[\n",
    "        ~osmnx_nodes.columns.isin([\"geometry\", \"x\", \"y\", \"osmid\"])\n",
    "    ]\n",
    "    hexes_attr_columns = (\n",
    "        hexes.columns[~hexes.columns.isin([\"geometry\", \"h3_id\", \"price_class\"])]\n",
    "        if use_hexes_attr\n",
    "        else []\n",
    "    )\n",
    "\n",
    "    data = create_hetero_data(\n",
    "        controller,\n",
    "        hexes_attrs_columns_names=hexes_attr_columns,\n",
    "        osmnx_edge_attrs_columns_names=edges_attr_columns,\n",
    "        osmnx_node_attrs_columns_names=nodes_attr_columns,\n",
    "        virtual_edge_attrs_columns_names=[],\n",
    "        hexes_y_columns_names=[\"price_class\"],\n",
    "    )\n",
    "    return data\n",
    "\n",
    "\n",
    "graph_data_dict = {\n",
    "    city_name: create_graph_data(**gdfs, use_ortophoto=False, use_hexes_attr=True)\n",
    "    for city_name, gdfs in gdfs_dict.items()\n",
    "}"
   ]
  },
  {
   "cell_type": "code",
   "execution_count": 18,
   "metadata": {},
   "outputs": [],
   "source": [
    "def create_tabular_data(\n",
    "    hexes: pd.DataFrame,\n",
    "    controller: GraphLayerController,\n",
    "    use_hexes_attr: bool,\n",
    "    use_ortophoto: bool,\n",
    "):\n",
    "    assert use_ortophoto or use_hexes_attr, \"Provide at least one data source\"\n",
    "\n",
    "    hexes_attr_columns = (\n",
    "        hexes.columns[~hexes.columns.isin([\"geometry\", \"h3_id\"])]\n",
    "        if use_hexes_attr\n",
    "        else []\n",
    "    )\n",
    "\n",
    "    hexes_y_columns_names = [\"price_class\"]\n",
    "\n",
    "    X = hexes[hexes_attr_columns]\n",
    "    y = controller.hexes_centroids_gdf[hexes_y_columns_names]\n",
    "\n",
    "\n",
    "    return {\"X\": X, \"y\": y}\n",
    "\n",
    "\n",
    "tabular_data_dict = {\n",
    "    city_name: create_tabular_data(\n",
    "        gdfs[\"hexes\"], gdfs[\"controller\"], use_ortophoto=False, use_hexes_attr=True\n",
    "    )\n",
    "    for city_name, gdfs in gdfs_dict.items()\n",
    "}"
   ]
  },
  {
   "cell_type": "code",
   "execution_count": 19,
   "metadata": {},
   "outputs": [
    {
     "data": {
      "text/plain": [
       "[('seattle', 'new_york'), ('new_york', 'seattle')]"
      ]
     },
     "metadata": {},
     "output_type": "display_data"
    }
   ],
   "source": [
    "def shift_elements_right(lst):\n",
    "    shifted_lst = [lst[-1]] + lst[:-1]\n",
    "    return shifted_lst\n",
    "\n",
    "\n",
    "cities_names_list = list(graph_data_dict.keys())\n",
    "cities_names_list.sort(key=lambda x: str(x))\n",
    "\n",
    "# val + test\n",
    "folds_tuples = list(zip(shift_elements_right(cities_names_list), cities_names_list))\n",
    "display(folds_tuples)"
   ]
  },
  {
   "cell_type": "code",
   "execution_count": 20,
   "metadata": {},
   "outputs": [
    {
     "data": {
      "text/plain": [
       "array([3, 1, 4, 2, 0])"
      ]
     },
     "metadata": {},
     "output_type": "display_data"
    },
    {
     "data": {
      "text/plain": [
       "array([3, 1, 4, 2, 0])"
      ]
     },
     "metadata": {},
     "output_type": "display_data"
    }
   ],
   "source": [
    "display(tabular_data_dict[\"seattle\"][\"y\"].iloc[:, 0].unique())\n",
    "display(tabular_data_dict[\"seattle\"][\"y\"].iloc[:, 0].unique())"
   ]
  },
  {
   "cell_type": "code",
   "execution_count": 21,
   "metadata": {},
   "outputs": [],
   "source": [
    "from typing import cast\n",
    "from wandb.sdk.wandb_run import Run\n",
    "import torch\n",
    "\n",
    "\n",
    "def run_k_fold_graph_data(closure_config, sweep_id):\n",
    "    # pass external config (i.e. what attributes are used in the data), closure to avoid passing it to the function directly\n",
    "    def wrapped():\n",
    "        run: Run = cast(Run, wandb.init())\n",
    "\n",
    "        config = wandb.config\n",
    "\n",
    "        for k, v in closure_config.items():\n",
    "            run.log({k: 1 if v else 0})\n",
    "\n",
    "        run.log({\"data_structure\": \"graph\"})\n",
    "\n",
    "        # create hparams\n",
    "        if hasattr(config, \"lin_layer_size\") and hasattr(config, \"num_lin_layers\"):\n",
    "            lin_layer_sizes = [config.lin_layer_size] * config.num_lin_layers\n",
    "        else:\n",
    "            lin_layer_sizes = config.lin_layer_sizes\n",
    "        hparams = {\n",
    "            \"hidden_channels\": config.hidden_channels,\n",
    "            \"lr\": config.learning_rate,\n",
    "            \"num_conv_layers\": config.num_conv_layers,\n",
    "            \"lin_layer_sizes\": lin_layer_sizes,\n",
    "            \"weight_decay\": config.weight_decay,\n",
    "        }\n",
    "\n",
    "        epochs = config.epochs\n",
    "\n",
    "        aucs = []\n",
    "        accuracies = []\n",
    "        f1s = []\n",
    "\n",
    "        fold_group_id = generate_id()\n",
    "\n",
    "        # log data as artifact if no data was logged in the sweep before\n",
    "        # dataset is uploaded only on the first run in sweep, because it does not change across runs in sweep\n",
    "        # in wandb, dataset will be visible on the first run in the sweep\n",
    "        artifact_path = os.path.join(TRAIN_SAVE_DIR, f\"graph_data_{sweep_id}.pkl\")\n",
    "        if not os.path.exists(artifact_path):\n",
    "            dump(\n",
    "                graph_data_dict,\n",
    "                artifact_path,\n",
    "                protocol=5,\n",
    "            )\n",
    "            artifact = wandb.Artifact(\n",
    "                name=\"graph_data\", type=\"dataset\", metadata=closure_config\n",
    "            )\n",
    "            artifact.add_file(local_path=artifact_path)\n",
    "            run.log_artifact(artifact)\n",
    "\n",
    "        # run k-fold\n",
    "        for index, (_, test_city_name) in enumerate(folds_tuples):\n",
    "            # prepare data\n",
    "            train_data = [\n",
    "                v.to(\"cpu\").clone()\n",
    "                for k, v in graph_data_dict.items()\n",
    "                if k != test_city_name\n",
    "            ]\n",
    "            test_data = graph_data_dict[test_city_name].to(\"cpu\").clone()\n",
    "\n",
    "            # run training with checkpointing on lowest val_loss, return test metrics for the best model and its path\n",
    "            # builtin preprocessing - scaling to N(0, 1)\n",
    "            auc, accuracy, f1, model_path = train(\n",
    "                train_data=train_data,\n",
    "                val_data=None,\n",
    "                test_data=test_data,\n",
    "                epochs=epochs,\n",
    "                hparams=hparams,\n",
    "                train_save_dir=TRAIN_SAVE_DIR,\n",
    "                num_classes=torch.unique(train_data[0][\"hex\"].y).shape[0],\n",
    "            )\n",
    "\n",
    "            # logging - single fold\n",
    "            run.log_model(\n",
    "                path=model_path,\n",
    "                name=f\"model_{fold_group_id}_fold_{index}\",\n",
    "            )\n",
    "            run.log({f\"auc_fold_{index}\": auc})\n",
    "            run.log({f\"accuracy_fold_{index}\": accuracy})\n",
    "            run.log({f\"f1_fold_{index}\": f1})\n",
    "\n",
    "            aucs.append(auc)\n",
    "            accuracies.append(accuracy)\n",
    "            f1s.append(f1)\n",
    "\n",
    "        # logging - summary statistics\n",
    "        mean_auc = sum(aucs) / len(aucs)\n",
    "        mean_accuracy = sum(accuracies) / len(accuracies)\n",
    "        mean_f1 = sum(f1s) / len(f1s)\n",
    "        run.log({\"mean_auc\": mean_auc})\n",
    "        run.log({\"mean_accuracy\": mean_accuracy})\n",
    "        run.log({\"mean_f1\": mean_f1})\n",
    "\n",
    "    return wrapped\n",
    "\n",
    "\n",
    "def run_k_fold_tabular_data(closure_config, sweep_id):\n",
    "    # analogously to the graph data, but for tabular data\n",
    "    def wrapped():\n",
    "        run: Run = cast(Run, wandb.init())\n",
    "\n",
    "        config = wandb.config\n",
    "\n",
    "        for k, v in closure_config.items():\n",
    "            run.log({k: 1 if v else 0})\n",
    "\n",
    "        run.log({\"data_structure\": \"tabular\"})\n",
    "\n",
    "        hparams = {}\n",
    "        hparams[\"C\"] = config[\"C\"]\n",
    "        solver, penalty = config[\"solver_penalty\"].split(\";\")\n",
    "        hparams[\"solver\"] = solver\n",
    "        if penalty == \"None\":\n",
    "            penalty = None\n",
    "        hparams[\"penalty\"] = penalty\n",
    "\n",
    "        aucs = []\n",
    "        accuracies = []\n",
    "        f1s = []\n",
    "\n",
    "        fold_group_id = generate_id()\n",
    "\n",
    "        # log data as artifact\n",
    "        artifact_path = os.path.join(TRAIN_SAVE_DIR, f\"tabular_data_{sweep_id}.pkl\")\n",
    "\n",
    "        if not os.path.exists(artifact_path):\n",
    "            dump(\n",
    "                tabular_data_dict,\n",
    "                artifact_path,\n",
    "                protocol=5,\n",
    "            )\n",
    "            artifact = wandb.Artifact(\n",
    "                name=\"tabular_data\", type=\"dataset\", metadata=closure_config\n",
    "            )\n",
    "            artifact.add_file(local_path=artifact_path)\n",
    "            run.log_artifact(artifact)\n",
    "\n",
    "        timestamp = datetime.now().strftime(\"%Y_%m_%d_%H_%M_%S\")\n",
    "\n",
    "        for index, test_city_name in enumerate(cities_names_list):\n",
    "            scaler = StandardScaler()\n",
    "            X = pd.concat(\n",
    "                [\n",
    "                    m[\"X\"]\n",
    "                    for key, m in tabular_data_dict.items()\n",
    "                    if key != test_city_name\n",
    "                ]\n",
    "            ).to_numpy()\n",
    "            y = (\n",
    "                pd.concat(\n",
    "                    [\n",
    "                        m[\"y\"]\n",
    "                        for key, m in tabular_data_dict.items()\n",
    "                        if key != test_city_name\n",
    "                    ]\n",
    "                )\n",
    "                .to_numpy()\n",
    "                .ravel()\n",
    "            )\n",
    "            print(np.unique(y))\n",
    "\n",
    "            X = scaler.fit_transform(X)\n",
    "\n",
    "            logistic_regression = LogisticRegression(\n",
    "                C=hparams[\"C\"],\n",
    "                solver=hparams[\"solver\"],\n",
    "                penalty=hparams[\"penalty\"],\n",
    "                # solver=\"newton-cholesky\",\n",
    "                # penalty=\"l2\",\n",
    "                dual=False,\n",
    "                tol=1e-4,\n",
    "                fit_intercept=True,\n",
    "                intercept_scaling=1,\n",
    "                class_weight=\"balanced\",\n",
    "                random_state=1124,\n",
    "                max_iter=1000,\n",
    "                multi_class=\"auto\",\n",
    "                warm_start=False,\n",
    "                n_jobs=-1,\n",
    "                l1_ratio=0.5,\n",
    "            )\n",
    "            logistic_regression.fit(X, y)\n",
    "\n",
    "            test_X = tabular_data_dict[test_city_name][\"X\"].to_numpy()\n",
    "            test_X = scaler.transform(test_X)\n",
    "            test_y = tabular_data_dict[test_city_name][\"y\"].to_numpy().ravel()\n",
    "            print(np.unique(test_y))\n",
    "\n",
    "            encoder = OneHotEncoder(sparse=False)\n",
    "            test_y_ohe = encoder.fit_transform(test_y.reshape(-1, 1))\n",
    "            print(test_y_ohe.shape)\n",
    "\n",
    "            y_pred = logistic_regression.predict(test_X)\n",
    "            y_proba = logistic_regression.predict_proba(test_X)\n",
    "            print(y_proba.shape)\n",
    "\n",
    "            auc = roc_auc_score(\n",
    "                test_y_ohe, y_proba, average=\"weighted\", multi_class=\"ovr\"\n",
    "            )\n",
    "            accuracy = (y_pred == test_y).mean()\n",
    "            f1 = f1_score(\n",
    "                test_y,\n",
    "                y_pred,\n",
    "                average=\"weighted\",\n",
    "            )\n",
    "\n",
    "            model_dir = os.path.join(TRAIN_SAVE_DIR, timestamp)\n",
    "\n",
    "            os.makedirs(model_dir, exist_ok=True)\n",
    "\n",
    "            model_path = os.path.join(\n",
    "                model_dir, f\"model_{fold_group_id}_fold_{index}.pkl\"\n",
    "            )\n",
    "\n",
    "            with open(model_path, \"wb\") as f:\n",
    "                dump(logistic_regression, f, protocol=5)\n",
    "\n",
    "            run.log_model(\n",
    "                path=model_path,\n",
    "                name=f\"model_{fold_group_id}_fold_{index}\",\n",
    "            )\n",
    "            run.log({f\"auc_fold_{index}\": auc})\n",
    "            run.log({f\"accuracy_fold_{index}\": accuracy})\n",
    "            run.log({f\"f1_fold_{index}\": f1})\n",
    "\n",
    "            aucs.append(auc)\n",
    "            accuracies.append(accuracy)\n",
    "            f1s.append(f1)\n",
    "\n",
    "        mean_auc = sum(aucs) / len(aucs)\n",
    "        mean_accuracy = sum(accuracies) / len(accuracies)\n",
    "        mean_f1 = sum(f1s) / len(f1s)\n",
    "        run.log({\"mean_auc\": mean_auc})\n",
    "        run.log({\"mean_accuracy\": mean_accuracy})\n",
    "        run.log({\"mean_f1\": mean_f1})\n",
    "\n",
    "    return wrapped\n",
    "\n",
    "\n",
    "def run_sweep_graph_data(config):\n",
    "    try:\n",
    "        wandb.login(key=WANDB_API_KEY)\n",
    "        sweep_id = wandb.sweep(\n",
    "            WANDB_SWEEP_PARAMS_GRAPH_DATA, project=\"airbnb-downstream-task\"\n",
    "        )\n",
    "\n",
    "        wandb.agent(\n",
    "            sweep_id,\n",
    "            function=run_k_fold_graph_data(config, sweep_id),\n",
    "            count=SWEEP_RUNS_COUNT,\n",
    "        )\n",
    "    except Exception as e:\n",
    "        print(e)\n",
    "        wandb.finish()\n",
    "        wandb.sweep\n",
    "        raise e\n",
    "\n",
    "\n",
    "def run_sweep_tabular_data(config):\n",
    "    try:\n",
    "        wandb.login(key=WANDB_API_KEY)\n",
    "\n",
    "        sweep_id = wandb.sweep(\n",
    "            WANDB_SWEEP_PARAMS_TABULAR_DATA, project=\"airbnb-downstream-task\"\n",
    "        )\n",
    "\n",
    "        wandb.agent(\n",
    "            sweep_id,\n",
    "            function=run_k_fold_tabular_data(config, sweep_id),\n",
    "            count=SWEEP_RUNS_COUNT,\n",
    "        )\n",
    "    except Exception as e:\n",
    "        print(e)\n",
    "        wandb.finish()\n",
    "        raise e"
   ]
  },
  {
   "cell_type": "code",
   "execution_count": 22,
   "metadata": {},
   "outputs": [
    {
     "name": "stderr",
     "output_type": "stream",
     "text": [
      "Failed to detect the name of this notebook, you can set it manually with the WANDB_NOTEBOOK_NAME environment variable to enable code saving.\n"
     ]
    },
    {
     "name": "stdout",
     "output_type": "stream",
     "text": [
      "Sweep for config 1/1 in progress...\n"
     ]
    },
    {
     "name": "stderr",
     "output_type": "stream",
     "text": [
      "\u001b[34m\u001b[1mwandb\u001b[0m: Currently logged in as: \u001b[33mgrymar\u001b[0m (\u001b[33mgradient_pwr\u001b[0m). Use \u001b[1m`wandb login --relogin`\u001b[0m to force relogin\n",
      "\u001b[34m\u001b[1mwandb\u001b[0m: \u001b[33mWARNING\u001b[0m If you're specifying your api key in code, ensure this code is not shared publicly.\n",
      "\u001b[34m\u001b[1mwandb\u001b[0m: \u001b[33mWARNING\u001b[0m Consider setting the WANDB_API_KEY environment variable, or running `wandb login` from the command line.\n",
      "\u001b[34m\u001b[1mwandb\u001b[0m: Appending key for api.wandb.ai to your netrc file: /home/grymar/.netrc\n"
     ]
    },
    {
     "name": "stdout",
     "output_type": "stream",
     "text": [
      "Create sweep with ID: ow0algrs\n",
      "Sweep URL: https://wandb.ai/gradient_pwr/airbnb-downstream-task/sweeps/ow0algrs\n"
     ]
    },
    {
     "name": "stderr",
     "output_type": "stream",
     "text": [
      "\u001b[34m\u001b[1mwandb\u001b[0m: Agent Starting Run: ak52j0dx with config:\n",
      "\u001b[34m\u001b[1mwandb\u001b[0m: \tC: 0.005119498496231405\n",
      "\u001b[34m\u001b[1mwandb\u001b[0m: \tsolver_penalty: saga;elasticnet\n",
      "Failed to detect the name of this notebook, you can set it manually with the WANDB_NOTEBOOK_NAME environment variable to enable code saving.\n"
     ]
    },
    {
     "data": {
      "text/html": [
       "Tracking run with wandb version 0.17.0"
      ],
      "text/plain": [
       "<IPython.core.display.HTML object>"
      ]
     },
     "metadata": {},
     "output_type": "display_data"
    },
    {
     "data": {
      "text/html": [
       "Run data is saved locally in <code>/home/grymar/studia/gradient/notebooks/downstream_tasks/wandb/run-20240605_002324-ak52j0dx</code>"
      ],
      "text/plain": [
       "<IPython.core.display.HTML object>"
      ]
     },
     "metadata": {},
     "output_type": "display_data"
    },
    {
     "data": {
      "text/html": [
       "Syncing run <strong><a href='https://wandb.ai/gradient_pwr/airbnb-downstream-task/runs/ak52j0dx' target=\"_blank\">bright-sweep-1</a></strong> to <a href='https://wandb.ai/gradient_pwr/airbnb-downstream-task' target=\"_blank\">Weights & Biases</a> (<a href='https://wandb.me/run' target=\"_blank\">docs</a>)<br/>Sweep page: <a href='https://wandb.ai/gradient_pwr/airbnb-downstream-task/sweeps/ow0algrs' target=\"_blank\">https://wandb.ai/gradient_pwr/airbnb-downstream-task/sweeps/ow0algrs</a>"
      ],
      "text/plain": [
       "<IPython.core.display.HTML object>"
      ]
     },
     "metadata": {},
     "output_type": "display_data"
    },
    {
     "data": {
      "text/html": [
       " View project at <a href='https://wandb.ai/gradient_pwr/airbnb-downstream-task' target=\"_blank\">https://wandb.ai/gradient_pwr/airbnb-downstream-task</a>"
      ],
      "text/plain": [
       "<IPython.core.display.HTML object>"
      ]
     },
     "metadata": {},
     "output_type": "display_data"
    },
    {
     "data": {
      "text/html": [
       " View sweep at <a href='https://wandb.ai/gradient_pwr/airbnb-downstream-task/sweeps/ow0algrs' target=\"_blank\">https://wandb.ai/gradient_pwr/airbnb-downstream-task/sweeps/ow0algrs</a>"
      ],
      "text/plain": [
       "<IPython.core.display.HTML object>"
      ]
     },
     "metadata": {},
     "output_type": "display_data"
    },
    {
     "data": {
      "text/html": [
       " View run at <a href='https://wandb.ai/gradient_pwr/airbnb-downstream-task/runs/ak52j0dx' target=\"_blank\">https://wandb.ai/gradient_pwr/airbnb-downstream-task/runs/ak52j0dx</a>"
      ],
      "text/plain": [
       "<IPython.core.display.HTML object>"
      ]
     },
     "metadata": {},
     "output_type": "display_data"
    },
    {
     "name": "stdout",
     "output_type": "stream",
     "text": [
      "[0 1 2 3 4]\n",
      "[0 1 2 3 4]\n",
      "(10757, 5)\n",
      "(10757, 5)\n"
     ]
    },
    {
     "name": "stderr",
     "output_type": "stream",
     "text": [
      "/home/grymar/studia/gradient/env/lib/python3.10/site-packages/sklearn/preprocessing/_encoders.py:975: FutureWarning: `sparse` was renamed to `sparse_output` in version 1.2 and will be removed in 1.4. `sparse_output` is ignored unless you leave `sparse` to its default value.\n",
      "  warnings.warn(\n"
     ]
    },
    {
     "name": "stdout",
     "output_type": "stream",
     "text": [
      "[0 1 2 3 4]\n",
      "[0 1 2 3 4]\n",
      "(4203, 5)\n",
      "(4203, 5)\n"
     ]
    },
    {
     "name": "stderr",
     "output_type": "stream",
     "text": [
      "/home/grymar/studia/gradient/env/lib/python3.10/site-packages/sklearn/preprocessing/_encoders.py:975: FutureWarning: `sparse` was renamed to `sparse_output` in version 1.2 and will be removed in 1.4. `sparse_output` is ignored unless you leave `sparse` to its default value.\n",
      "  warnings.warn(\n"
     ]
    },
    {
     "data": {
      "application/vnd.jupyter.widget-view+json": {
       "model_id": "cada6ffd8e3849b4b8c96bd111bbf56d",
       "version_major": 2,
       "version_minor": 0
      },
      "text/plain": [
       "VBox(children=(Label(value='246.020 MB of 246.020 MB uploaded\\r'), FloatProgress(value=1.0, max=1.0)))"
      ]
     },
     "metadata": {},
     "output_type": "display_data"
    },
    {
     "data": {
      "text/html": [
       "<style>\n",
       "    table.wandb td:nth-child(1) { padding: 0 10px; text-align: left ; width: auto;} td:nth-child(2) {text-align: left ; width: 100%}\n",
       "    .wandb-row { display: flex; flex-direction: row; flex-wrap: wrap; justify-content: flex-start; width: 100% }\n",
       "    .wandb-col { display: flex; flex-direction: column; flex-basis: 100%; flex: 1; padding: 10px; }\n",
       "    </style>\n",
       "<div class=\"wandb-row\"><div class=\"wandb-col\"><h3>Run history:</h3><br/><table class=\"wandb\"><tr><td>USE_HEXES_ATTRS</td><td>▁</td></tr><tr><td>USE_ORTOPHOTO</td><td>▁</td></tr><tr><td>USE_OSMNX_ATTRS</td><td>▁</td></tr><tr><td>accuracy_fold_0</td><td>▁</td></tr><tr><td>accuracy_fold_1</td><td>▁</td></tr><tr><td>auc_fold_0</td><td>▁</td></tr><tr><td>auc_fold_1</td><td>▁</td></tr><tr><td>f1_fold_0</td><td>▁</td></tr><tr><td>f1_fold_1</td><td>▁</td></tr><tr><td>mean_accuracy</td><td>▁</td></tr><tr><td>mean_auc</td><td>▁</td></tr><tr><td>mean_f1</td><td>▁</td></tr></table><br/></div><div class=\"wandb-col\"><h3>Run summary:</h3><br/><table class=\"wandb\"><tr><td>USE_HEXES_ATTRS</td><td>1</td></tr><tr><td>USE_ORTOPHOTO</td><td>0</td></tr><tr><td>USE_OSMNX_ATTRS</td><td>0</td></tr><tr><td>accuracy_fold_0</td><td>0.49642</td></tr><tr><td>accuracy_fold_1</td><td>0.28384</td></tr><tr><td>auc_fold_0</td><td>0.62372</td></tr><tr><td>auc_fold_1</td><td>0.5741</td></tr><tr><td>data_structure</td><td>tabular</td></tr><tr><td>f1_fold_0</td><td>0.51056</td></tr><tr><td>f1_fold_1</td><td>0.33451</td></tr><tr><td>mean_accuracy</td><td>0.39013</td></tr><tr><td>mean_auc</td><td>0.59891</td></tr><tr><td>mean_f1</td><td>0.42254</td></tr></table><br/></div></div>"
      ],
      "text/plain": [
       "<IPython.core.display.HTML object>"
      ]
     },
     "metadata": {},
     "output_type": "display_data"
    },
    {
     "data": {
      "text/html": [
       " View run <strong style=\"color:#cdcd00\">bright-sweep-1</strong> at: <a href='https://wandb.ai/gradient_pwr/airbnb-downstream-task/runs/ak52j0dx' target=\"_blank\">https://wandb.ai/gradient_pwr/airbnb-downstream-task/runs/ak52j0dx</a><br/> View project at: <a href='https://wandb.ai/gradient_pwr/airbnb-downstream-task' target=\"_blank\">https://wandb.ai/gradient_pwr/airbnb-downstream-task</a><br/>Synced 5 W&B file(s), 0 media file(s), 3 artifact file(s) and 0 other file(s)"
      ],
      "text/plain": [
       "<IPython.core.display.HTML object>"
      ]
     },
     "metadata": {},
     "output_type": "display_data"
    },
    {
     "data": {
      "text/html": [
       "Find logs at: <code>./wandb/run-20240605_002324-ak52j0dx/logs</code>"
      ],
      "text/plain": [
       "<IPython.core.display.HTML object>"
      ]
     },
     "metadata": {},
     "output_type": "display_data"
    },
    {
     "name": "stderr",
     "output_type": "stream",
     "text": [
      "\u001b[34m\u001b[1mwandb\u001b[0m: Agent Starting Run: hlj18zyu with config:\n",
      "\u001b[34m\u001b[1mwandb\u001b[0m: \tC: 1.1779861154192838e-05\n",
      "\u001b[34m\u001b[1mwandb\u001b[0m: \tsolver_penalty: saga;l1\n",
      "Failed to detect the name of this notebook, you can set it manually with the WANDB_NOTEBOOK_NAME environment variable to enable code saving.\n"
     ]
    },
    {
     "data": {
      "text/html": [
       "Tracking run with wandb version 0.17.0"
      ],
      "text/plain": [
       "<IPython.core.display.HTML object>"
      ]
     },
     "metadata": {},
     "output_type": "display_data"
    },
    {
     "data": {
      "text/html": [
       "Run data is saved locally in <code>/home/grymar/studia/gradient/notebooks/downstream_tasks/wandb/run-20240605_002706-hlj18zyu</code>"
      ],
      "text/plain": [
       "<IPython.core.display.HTML object>"
      ]
     },
     "metadata": {},
     "output_type": "display_data"
    },
    {
     "data": {
      "text/html": [
       "Syncing run <strong><a href='https://wandb.ai/gradient_pwr/airbnb-downstream-task/runs/hlj18zyu' target=\"_blank\">iconic-sweep-2</a></strong> to <a href='https://wandb.ai/gradient_pwr/airbnb-downstream-task' target=\"_blank\">Weights & Biases</a> (<a href='https://wandb.me/run' target=\"_blank\">docs</a>)<br/>Sweep page: <a href='https://wandb.ai/gradient_pwr/airbnb-downstream-task/sweeps/ow0algrs' target=\"_blank\">https://wandb.ai/gradient_pwr/airbnb-downstream-task/sweeps/ow0algrs</a>"
      ],
      "text/plain": [
       "<IPython.core.display.HTML object>"
      ]
     },
     "metadata": {},
     "output_type": "display_data"
    },
    {
     "data": {
      "text/html": [
       " View project at <a href='https://wandb.ai/gradient_pwr/airbnb-downstream-task' target=\"_blank\">https://wandb.ai/gradient_pwr/airbnb-downstream-task</a>"
      ],
      "text/plain": [
       "<IPython.core.display.HTML object>"
      ]
     },
     "metadata": {},
     "output_type": "display_data"
    },
    {
     "data": {
      "text/html": [
       " View sweep at <a href='https://wandb.ai/gradient_pwr/airbnb-downstream-task/sweeps/ow0algrs' target=\"_blank\">https://wandb.ai/gradient_pwr/airbnb-downstream-task/sweeps/ow0algrs</a>"
      ],
      "text/plain": [
       "<IPython.core.display.HTML object>"
      ]
     },
     "metadata": {},
     "output_type": "display_data"
    },
    {
     "data": {
      "text/html": [
       " View run at <a href='https://wandb.ai/gradient_pwr/airbnb-downstream-task/runs/hlj18zyu' target=\"_blank\">https://wandb.ai/gradient_pwr/airbnb-downstream-task/runs/hlj18zyu</a>"
      ],
      "text/plain": [
       "<IPython.core.display.HTML object>"
      ]
     },
     "metadata": {},
     "output_type": "display_data"
    },
    {
     "name": "stdout",
     "output_type": "stream",
     "text": [
      "[0 1 2 3 4]\n"
     ]
    },
    {
     "name": "stderr",
     "output_type": "stream",
     "text": [
      "/home/grymar/studia/gradient/env/lib/python3.10/site-packages/sklearn/linear_model/_logistic.py:1172: UserWarning: l1_ratio parameter is only used when penalty is 'elasticnet'. Got (penalty=l1)\n",
      "  warnings.warn(\n"
     ]
    },
    {
     "name": "stdout",
     "output_type": "stream",
     "text": [
      "[0 1 2 3 4]\n",
      "(10757, 5)\n",
      "(10757, 5)\n"
     ]
    },
    {
     "name": "stderr",
     "output_type": "stream",
     "text": [
      "/home/grymar/studia/gradient/env/lib/python3.10/site-packages/sklearn/preprocessing/_encoders.py:975: FutureWarning: `sparse` was renamed to `sparse_output` in version 1.2 and will be removed in 1.4. `sparse_output` is ignored unless you leave `sparse` to its default value.\n",
      "  warnings.warn(\n"
     ]
    },
    {
     "name": "stdout",
     "output_type": "stream",
     "text": [
      "[0 1 2 3 4]\n"
     ]
    },
    {
     "name": "stderr",
     "output_type": "stream",
     "text": [
      "/home/grymar/studia/gradient/env/lib/python3.10/site-packages/sklearn/linear_model/_logistic.py:1172: UserWarning: l1_ratio parameter is only used when penalty is 'elasticnet'. Got (penalty=l1)\n",
      "  warnings.warn(\n"
     ]
    },
    {
     "name": "stdout",
     "output_type": "stream",
     "text": [
      "[0 1 2 3 4]\n",
      "(4203, 5)\n",
      "(4203, 5)\n"
     ]
    },
    {
     "name": "stderr",
     "output_type": "stream",
     "text": [
      "/home/grymar/studia/gradient/env/lib/python3.10/site-packages/sklearn/preprocessing/_encoders.py:975: FutureWarning: `sparse` was renamed to `sparse_output` in version 1.2 and will be removed in 1.4. `sparse_output` is ignored unless you leave `sparse` to its default value.\n",
      "  warnings.warn(\n"
     ]
    },
    {
     "data": {
      "application/vnd.jupyter.widget-view+json": {
       "model_id": "be3e12fcc9574483bc6c4ac7e1af25c6",
       "version_major": 2,
       "version_minor": 0
      },
      "text/plain": [
       "VBox(children=(Label(value='0.169 MB of 0.169 MB uploaded\\r'), FloatProgress(value=1.0, max=1.0)))"
      ]
     },
     "metadata": {},
     "output_type": "display_data"
    },
    {
     "data": {
      "text/html": [
       "<style>\n",
       "    table.wandb td:nth-child(1) { padding: 0 10px; text-align: left ; width: auto;} td:nth-child(2) {text-align: left ; width: 100%}\n",
       "    .wandb-row { display: flex; flex-direction: row; flex-wrap: wrap; justify-content: flex-start; width: 100% }\n",
       "    .wandb-col { display: flex; flex-direction: column; flex-basis: 100%; flex: 1; padding: 10px; }\n",
       "    </style>\n",
       "<div class=\"wandb-row\"><div class=\"wandb-col\"><h3>Run history:</h3><br/><table class=\"wandb\"><tr><td>USE_HEXES_ATTRS</td><td>▁</td></tr><tr><td>USE_ORTOPHOTO</td><td>▁</td></tr><tr><td>USE_OSMNX_ATTRS</td><td>▁</td></tr><tr><td>accuracy_fold_0</td><td>▁</td></tr><tr><td>accuracy_fold_1</td><td>▁</td></tr><tr><td>auc_fold_0</td><td>▁</td></tr><tr><td>auc_fold_1</td><td>▁</td></tr><tr><td>f1_fold_0</td><td>▁</td></tr><tr><td>f1_fold_1</td><td>▁</td></tr><tr><td>mean_accuracy</td><td>▁</td></tr><tr><td>mean_auc</td><td>▁</td></tr><tr><td>mean_f1</td><td>▁</td></tr></table><br/></div><div class=\"wandb-col\"><h3>Run summary:</h3><br/><table class=\"wandb\"><tr><td>USE_HEXES_ATTRS</td><td>1</td></tr><tr><td>USE_ORTOPHOTO</td><td>0</td></tr><tr><td>USE_OSMNX_ATTRS</td><td>0</td></tr><tr><td>accuracy_fold_0</td><td>0.07493</td></tr><tr><td>accuracy_fold_1</td><td>0.6581</td></tr><tr><td>auc_fold_0</td><td>0.5</td></tr><tr><td>auc_fold_1</td><td>0.5</td></tr><tr><td>data_structure</td><td>tabular</td></tr><tr><td>f1_fold_0</td><td>0.01045</td></tr><tr><td>f1_fold_1</td><td>0.5224</td></tr><tr><td>mean_accuracy</td><td>0.36651</td></tr><tr><td>mean_auc</td><td>0.5</td></tr><tr><td>mean_f1</td><td>0.26642</td></tr></table><br/></div></div>"
      ],
      "text/plain": [
       "<IPython.core.display.HTML object>"
      ]
     },
     "metadata": {},
     "output_type": "display_data"
    },
    {
     "data": {
      "text/html": [
       " View run <strong style=\"color:#cdcd00\">iconic-sweep-2</strong> at: <a href='https://wandb.ai/gradient_pwr/airbnb-downstream-task/runs/hlj18zyu' target=\"_blank\">https://wandb.ai/gradient_pwr/airbnb-downstream-task/runs/hlj18zyu</a><br/> View project at: <a href='https://wandb.ai/gradient_pwr/airbnb-downstream-task' target=\"_blank\">https://wandb.ai/gradient_pwr/airbnb-downstream-task</a><br/>Synced 5 W&B file(s), 0 media file(s), 2 artifact file(s) and 0 other file(s)"
      ],
      "text/plain": [
       "<IPython.core.display.HTML object>"
      ]
     },
     "metadata": {},
     "output_type": "display_data"
    },
    {
     "data": {
      "text/html": [
       "Find logs at: <code>./wandb/run-20240605_002706-hlj18zyu/logs</code>"
      ],
      "text/plain": [
       "<IPython.core.display.HTML object>"
      ]
     },
     "metadata": {},
     "output_type": "display_data"
    },
    {
     "name": "stderr",
     "output_type": "stream",
     "text": [
      "\u001b[34m\u001b[1mwandb\u001b[0m: Agent Starting Run: ttrt8f6c with config:\n",
      "\u001b[34m\u001b[1mwandb\u001b[0m: \tC: 0.005068293251556796\n",
      "\u001b[34m\u001b[1mwandb\u001b[0m: \tsolver_penalty: saga;l1\n",
      "Failed to detect the name of this notebook, you can set it manually with the WANDB_NOTEBOOK_NAME environment variable to enable code saving.\n"
     ]
    },
    {
     "data": {
      "text/html": [
       "Tracking run with wandb version 0.17.0"
      ],
      "text/plain": [
       "<IPython.core.display.HTML object>"
      ]
     },
     "metadata": {},
     "output_type": "display_data"
    },
    {
     "data": {
      "text/html": [
       "Run data is saved locally in <code>/home/grymar/studia/gradient/notebooks/downstream_tasks/wandb/run-20240605_002723-ttrt8f6c</code>"
      ],
      "text/plain": [
       "<IPython.core.display.HTML object>"
      ]
     },
     "metadata": {},
     "output_type": "display_data"
    },
    {
     "data": {
      "text/html": [
       "Syncing run <strong><a href='https://wandb.ai/gradient_pwr/airbnb-downstream-task/runs/ttrt8f6c' target=\"_blank\">curious-sweep-3</a></strong> to <a href='https://wandb.ai/gradient_pwr/airbnb-downstream-task' target=\"_blank\">Weights & Biases</a> (<a href='https://wandb.me/run' target=\"_blank\">docs</a>)<br/>Sweep page: <a href='https://wandb.ai/gradient_pwr/airbnb-downstream-task/sweeps/ow0algrs' target=\"_blank\">https://wandb.ai/gradient_pwr/airbnb-downstream-task/sweeps/ow0algrs</a>"
      ],
      "text/plain": [
       "<IPython.core.display.HTML object>"
      ]
     },
     "metadata": {},
     "output_type": "display_data"
    },
    {
     "data": {
      "text/html": [
       " View project at <a href='https://wandb.ai/gradient_pwr/airbnb-downstream-task' target=\"_blank\">https://wandb.ai/gradient_pwr/airbnb-downstream-task</a>"
      ],
      "text/plain": [
       "<IPython.core.display.HTML object>"
      ]
     },
     "metadata": {},
     "output_type": "display_data"
    },
    {
     "data": {
      "text/html": [
       " View sweep at <a href='https://wandb.ai/gradient_pwr/airbnb-downstream-task/sweeps/ow0algrs' target=\"_blank\">https://wandb.ai/gradient_pwr/airbnb-downstream-task/sweeps/ow0algrs</a>"
      ],
      "text/plain": [
       "<IPython.core.display.HTML object>"
      ]
     },
     "metadata": {},
     "output_type": "display_data"
    },
    {
     "data": {
      "text/html": [
       " View run at <a href='https://wandb.ai/gradient_pwr/airbnb-downstream-task/runs/ttrt8f6c' target=\"_blank\">https://wandb.ai/gradient_pwr/airbnb-downstream-task/runs/ttrt8f6c</a>"
      ],
      "text/plain": [
       "<IPython.core.display.HTML object>"
      ]
     },
     "metadata": {},
     "output_type": "display_data"
    },
    {
     "name": "stdout",
     "output_type": "stream",
     "text": [
      "[0 1 2 3 4]\n"
     ]
    },
    {
     "name": "stderr",
     "output_type": "stream",
     "text": [
      "/home/grymar/studia/gradient/env/lib/python3.10/site-packages/sklearn/linear_model/_logistic.py:1172: UserWarning: l1_ratio parameter is only used when penalty is 'elasticnet'. Got (penalty=l1)\n",
      "  warnings.warn(\n"
     ]
    },
    {
     "name": "stdout",
     "output_type": "stream",
     "text": [
      "[0 1 2 3 4]\n",
      "(10757, 5)\n",
      "(10757, 5)\n"
     ]
    },
    {
     "name": "stderr",
     "output_type": "stream",
     "text": [
      "/home/grymar/studia/gradient/env/lib/python3.10/site-packages/sklearn/preprocessing/_encoders.py:975: FutureWarning: `sparse` was renamed to `sparse_output` in version 1.2 and will be removed in 1.4. `sparse_output` is ignored unless you leave `sparse` to its default value.\n",
      "  warnings.warn(\n"
     ]
    },
    {
     "name": "stdout",
     "output_type": "stream",
     "text": [
      "[0 1 2 3 4]\n"
     ]
    },
    {
     "name": "stderr",
     "output_type": "stream",
     "text": [
      "/home/grymar/studia/gradient/env/lib/python3.10/site-packages/sklearn/linear_model/_logistic.py:1172: UserWarning: l1_ratio parameter is only used when penalty is 'elasticnet'. Got (penalty=l1)\n",
      "  warnings.warn(\n"
     ]
    },
    {
     "name": "stdout",
     "output_type": "stream",
     "text": [
      "[0 1 2 3 4]\n",
      "(4203, 5)\n",
      "(4203, 5)\n"
     ]
    },
    {
     "name": "stderr",
     "output_type": "stream",
     "text": [
      "/home/grymar/studia/gradient/env/lib/python3.10/site-packages/sklearn/preprocessing/_encoders.py:975: FutureWarning: `sparse` was renamed to `sparse_output` in version 1.2 and will be removed in 1.4. `sparse_output` is ignored unless you leave `sparse` to its default value.\n",
      "  warnings.warn(\n"
     ]
    },
    {
     "data": {
      "application/vnd.jupyter.widget-view+json": {
       "model_id": "44620b08ec3542ab87db09bbf709464f",
       "version_major": 2,
       "version_minor": 0
      },
      "text/plain": [
       "VBox(children=(Label(value='0.169 MB of 0.169 MB uploaded\\r'), FloatProgress(value=1.0, max=1.0)))"
      ]
     },
     "metadata": {},
     "output_type": "display_data"
    },
    {
     "data": {
      "text/html": [
       "<style>\n",
       "    table.wandb td:nth-child(1) { padding: 0 10px; text-align: left ; width: auto;} td:nth-child(2) {text-align: left ; width: 100%}\n",
       "    .wandb-row { display: flex; flex-direction: row; flex-wrap: wrap; justify-content: flex-start; width: 100% }\n",
       "    .wandb-col { display: flex; flex-direction: column; flex-basis: 100%; flex: 1; padding: 10px; }\n",
       "    </style>\n",
       "<div class=\"wandb-row\"><div class=\"wandb-col\"><h3>Run history:</h3><br/><table class=\"wandb\"><tr><td>USE_HEXES_ATTRS</td><td>▁</td></tr><tr><td>USE_ORTOPHOTO</td><td>▁</td></tr><tr><td>USE_OSMNX_ATTRS</td><td>▁</td></tr><tr><td>accuracy_fold_0</td><td>▁</td></tr><tr><td>accuracy_fold_1</td><td>▁</td></tr><tr><td>auc_fold_0</td><td>▁</td></tr><tr><td>auc_fold_1</td><td>▁</td></tr><tr><td>f1_fold_0</td><td>▁</td></tr><tr><td>f1_fold_1</td><td>▁</td></tr><tr><td>mean_accuracy</td><td>▁</td></tr><tr><td>mean_auc</td><td>▁</td></tr><tr><td>mean_f1</td><td>▁</td></tr></table><br/></div><div class=\"wandb-col\"><h3>Run summary:</h3><br/><table class=\"wandb\"><tr><td>USE_HEXES_ATTRS</td><td>1</td></tr><tr><td>USE_ORTOPHOTO</td><td>0</td></tr><tr><td>USE_OSMNX_ATTRS</td><td>0</td></tr><tr><td>accuracy_fold_0</td><td>0.53045</td></tr><tr><td>accuracy_fold_1</td><td>0.25482</td></tr><tr><td>auc_fold_0</td><td>0.62892</td></tr><tr><td>auc_fold_1</td><td>0.58059</td></tr><tr><td>data_structure</td><td>tabular</td></tr><tr><td>f1_fold_0</td><td>0.52033</td></tr><tr><td>f1_fold_1</td><td>0.30501</td></tr><tr><td>mean_accuracy</td><td>0.39263</td></tr><tr><td>mean_auc</td><td>0.60475</td></tr><tr><td>mean_f1</td><td>0.41267</td></tr></table><br/></div></div>"
      ],
      "text/plain": [
       "<IPython.core.display.HTML object>"
      ]
     },
     "metadata": {},
     "output_type": "display_data"
    },
    {
     "data": {
      "text/html": [
       " View run <strong style=\"color:#cdcd00\">curious-sweep-3</strong> at: <a href='https://wandb.ai/gradient_pwr/airbnb-downstream-task/runs/ttrt8f6c' target=\"_blank\">https://wandb.ai/gradient_pwr/airbnb-downstream-task/runs/ttrt8f6c</a><br/> View project at: <a href='https://wandb.ai/gradient_pwr/airbnb-downstream-task' target=\"_blank\">https://wandb.ai/gradient_pwr/airbnb-downstream-task</a><br/>Synced 5 W&B file(s), 0 media file(s), 2 artifact file(s) and 0 other file(s)"
      ],
      "text/plain": [
       "<IPython.core.display.HTML object>"
      ]
     },
     "metadata": {},
     "output_type": "display_data"
    },
    {
     "data": {
      "text/html": [
       "Find logs at: <code>./wandb/run-20240605_002723-ttrt8f6c/logs</code>"
      ],
      "text/plain": [
       "<IPython.core.display.HTML object>"
      ]
     },
     "metadata": {},
     "output_type": "display_data"
    },
    {
     "name": "stderr",
     "output_type": "stream",
     "text": [
      "\u001b[34m\u001b[1mwandb\u001b[0m: Agent Starting Run: gahe6yoa with config:\n",
      "\u001b[34m\u001b[1mwandb\u001b[0m: \tC: 0.07299899773729585\n",
      "\u001b[34m\u001b[1mwandb\u001b[0m: \tsolver_penalty: saga;l1\n",
      "Failed to detect the name of this notebook, you can set it manually with the WANDB_NOTEBOOK_NAME environment variable to enable code saving.\n"
     ]
    },
    {
     "data": {
      "text/html": [
       "Tracking run with wandb version 0.17.0"
      ],
      "text/plain": [
       "<IPython.core.display.HTML object>"
      ]
     },
     "metadata": {},
     "output_type": "display_data"
    },
    {
     "data": {
      "text/html": [
       "Run data is saved locally in <code>/home/grymar/studia/gradient/notebooks/downstream_tasks/wandb/run-20240605_003050-gahe6yoa</code>"
      ],
      "text/plain": [
       "<IPython.core.display.HTML object>"
      ]
     },
     "metadata": {},
     "output_type": "display_data"
    },
    {
     "data": {
      "text/html": [
       "Syncing run <strong><a href='https://wandb.ai/gradient_pwr/airbnb-downstream-task/runs/gahe6yoa' target=\"_blank\">ethereal-sweep-4</a></strong> to <a href='https://wandb.ai/gradient_pwr/airbnb-downstream-task' target=\"_blank\">Weights & Biases</a> (<a href='https://wandb.me/run' target=\"_blank\">docs</a>)<br/>Sweep page: <a href='https://wandb.ai/gradient_pwr/airbnb-downstream-task/sweeps/ow0algrs' target=\"_blank\">https://wandb.ai/gradient_pwr/airbnb-downstream-task/sweeps/ow0algrs</a>"
      ],
      "text/plain": [
       "<IPython.core.display.HTML object>"
      ]
     },
     "metadata": {},
     "output_type": "display_data"
    },
    {
     "data": {
      "text/html": [
       " View project at <a href='https://wandb.ai/gradient_pwr/airbnb-downstream-task' target=\"_blank\">https://wandb.ai/gradient_pwr/airbnb-downstream-task</a>"
      ],
      "text/plain": [
       "<IPython.core.display.HTML object>"
      ]
     },
     "metadata": {},
     "output_type": "display_data"
    },
    {
     "data": {
      "text/html": [
       " View sweep at <a href='https://wandb.ai/gradient_pwr/airbnb-downstream-task/sweeps/ow0algrs' target=\"_blank\">https://wandb.ai/gradient_pwr/airbnb-downstream-task/sweeps/ow0algrs</a>"
      ],
      "text/plain": [
       "<IPython.core.display.HTML object>"
      ]
     },
     "metadata": {},
     "output_type": "display_data"
    },
    {
     "data": {
      "text/html": [
       " View run at <a href='https://wandb.ai/gradient_pwr/airbnb-downstream-task/runs/gahe6yoa' target=\"_blank\">https://wandb.ai/gradient_pwr/airbnb-downstream-task/runs/gahe6yoa</a>"
      ],
      "text/plain": [
       "<IPython.core.display.HTML object>"
      ]
     },
     "metadata": {},
     "output_type": "display_data"
    },
    {
     "name": "stdout",
     "output_type": "stream",
     "text": [
      "[0 1 2 3 4]\n"
     ]
    },
    {
     "name": "stderr",
     "output_type": "stream",
     "text": [
      "/home/grymar/studia/gradient/env/lib/python3.10/site-packages/sklearn/linear_model/_logistic.py:1172: UserWarning: l1_ratio parameter is only used when penalty is 'elasticnet'. Got (penalty=l1)\n",
      "  warnings.warn(\n",
      "/home/grymar/studia/gradient/env/lib/python3.10/site-packages/sklearn/linear_model/_sag.py:350: ConvergenceWarning: The max_iter was reached which means the coef_ did not converge\n",
      "  warnings.warn(\n",
      "/home/grymar/studia/gradient/env/lib/python3.10/site-packages/sklearn/preprocessing/_encoders.py:975: FutureWarning: `sparse` was renamed to `sparse_output` in version 1.2 and will be removed in 1.4. `sparse_output` is ignored unless you leave `sparse` to its default value.\n",
      "  warnings.warn(\n"
     ]
    },
    {
     "name": "stdout",
     "output_type": "stream",
     "text": [
      "[0 1 2 3 4]\n",
      "(10757, 5)\n",
      "(10757, 5)\n",
      "[0 1 2 3 4]\n"
     ]
    },
    {
     "name": "stderr",
     "output_type": "stream",
     "text": [
      "/home/grymar/studia/gradient/env/lib/python3.10/site-packages/sklearn/linear_model/_logistic.py:1172: UserWarning: l1_ratio parameter is only used when penalty is 'elasticnet'. Got (penalty=l1)\n",
      "  warnings.warn(\n",
      "/home/grymar/studia/gradient/env/lib/python3.10/site-packages/sklearn/linear_model/_sag.py:350: ConvergenceWarning: The max_iter was reached which means the coef_ did not converge\n",
      "  warnings.warn(\n",
      "/home/grymar/studia/gradient/env/lib/python3.10/site-packages/sklearn/preprocessing/_encoders.py:975: FutureWarning: `sparse` was renamed to `sparse_output` in version 1.2 and will be removed in 1.4. `sparse_output` is ignored unless you leave `sparse` to its default value.\n",
      "  warnings.warn(\n"
     ]
    },
    {
     "name": "stdout",
     "output_type": "stream",
     "text": [
      "[0 1 2 3 4]\n",
      "(4203, 5)\n",
      "(4203, 5)\n"
     ]
    },
    {
     "data": {
      "application/vnd.jupyter.widget-view+json": {
       "model_id": "55278e92d5154c78a27d6e5e28303270",
       "version_major": 2,
       "version_minor": 0
      },
      "text/plain": [
       "VBox(children=(Label(value='0.169 MB of 0.169 MB uploaded\\r'), FloatProgress(value=1.0, max=1.0)))"
      ]
     },
     "metadata": {},
     "output_type": "display_data"
    },
    {
     "data": {
      "text/html": [
       "<style>\n",
       "    table.wandb td:nth-child(1) { padding: 0 10px; text-align: left ; width: auto;} td:nth-child(2) {text-align: left ; width: 100%}\n",
       "    .wandb-row { display: flex; flex-direction: row; flex-wrap: wrap; justify-content: flex-start; width: 100% }\n",
       "    .wandb-col { display: flex; flex-direction: column; flex-basis: 100%; flex: 1; padding: 10px; }\n",
       "    </style>\n",
       "<div class=\"wandb-row\"><div class=\"wandb-col\"><h3>Run history:</h3><br/><table class=\"wandb\"><tr><td>USE_HEXES_ATTRS</td><td>▁</td></tr><tr><td>USE_ORTOPHOTO</td><td>▁</td></tr><tr><td>USE_OSMNX_ATTRS</td><td>▁</td></tr><tr><td>accuracy_fold_0</td><td>▁</td></tr><tr><td>accuracy_fold_1</td><td>▁</td></tr><tr><td>auc_fold_0</td><td>▁</td></tr><tr><td>auc_fold_1</td><td>▁</td></tr><tr><td>f1_fold_0</td><td>▁</td></tr><tr><td>f1_fold_1</td><td>▁</td></tr><tr><td>mean_accuracy</td><td>▁</td></tr><tr><td>mean_auc</td><td>▁</td></tr><tr><td>mean_f1</td><td>▁</td></tr></table><br/></div><div class=\"wandb-col\"><h3>Run summary:</h3><br/><table class=\"wandb\"><tr><td>USE_HEXES_ATTRS</td><td>1</td></tr><tr><td>USE_ORTOPHOTO</td><td>0</td></tr><tr><td>USE_OSMNX_ATTRS</td><td>0</td></tr><tr><td>accuracy_fold_0</td><td>0.47876</td></tr><tr><td>accuracy_fold_1</td><td>0.49132</td></tr><tr><td>auc_fold_0</td><td>0.5905</td></tr><tr><td>auc_fold_1</td><td>0.46032</td></tr><tr><td>data_structure</td><td>tabular</td></tr><tr><td>f1_fold_0</td><td>0.50804</td></tr><tr><td>f1_fold_1</td><td>0.49667</td></tr><tr><td>mean_accuracy</td><td>0.48504</td></tr><tr><td>mean_auc</td><td>0.52541</td></tr><tr><td>mean_f1</td><td>0.50235</td></tr></table><br/></div></div>"
      ],
      "text/plain": [
       "<IPython.core.display.HTML object>"
      ]
     },
     "metadata": {},
     "output_type": "display_data"
    },
    {
     "data": {
      "text/html": [
       " View run <strong style=\"color:#cdcd00\">ethereal-sweep-4</strong> at: <a href='https://wandb.ai/gradient_pwr/airbnb-downstream-task/runs/gahe6yoa' target=\"_blank\">https://wandb.ai/gradient_pwr/airbnb-downstream-task/runs/gahe6yoa</a><br/> View project at: <a href='https://wandb.ai/gradient_pwr/airbnb-downstream-task' target=\"_blank\">https://wandb.ai/gradient_pwr/airbnb-downstream-task</a><br/>Synced 5 W&B file(s), 0 media file(s), 2 artifact file(s) and 0 other file(s)"
      ],
      "text/plain": [
       "<IPython.core.display.HTML object>"
      ]
     },
     "metadata": {},
     "output_type": "display_data"
    },
    {
     "data": {
      "text/html": [
       "Find logs at: <code>./wandb/run-20240605_003050-gahe6yoa/logs</code>"
      ],
      "text/plain": [
       "<IPython.core.display.HTML object>"
      ]
     },
     "metadata": {},
     "output_type": "display_data"
    },
    {
     "name": "stderr",
     "output_type": "stream",
     "text": [
      "\u001b[34m\u001b[1mwandb\u001b[0m: Agent Starting Run: n6me24se with config:\n",
      "\u001b[34m\u001b[1mwandb\u001b[0m: \tC: 0.8441567330367629\n",
      "\u001b[34m\u001b[1mwandb\u001b[0m: \tsolver_penalty: saga;l1\n",
      "Failed to detect the name of this notebook, you can set it manually with the WANDB_NOTEBOOK_NAME environment variable to enable code saving.\n"
     ]
    },
    {
     "data": {
      "text/html": [
       "Tracking run with wandb version 0.17.0"
      ],
      "text/plain": [
       "<IPython.core.display.HTML object>"
      ]
     },
     "metadata": {},
     "output_type": "display_data"
    },
    {
     "data": {
      "text/html": [
       "Run data is saved locally in <code>/home/grymar/studia/gradient/notebooks/downstream_tasks/wandb/run-20240605_004135-n6me24se</code>"
      ],
      "text/plain": [
       "<IPython.core.display.HTML object>"
      ]
     },
     "metadata": {},
     "output_type": "display_data"
    },
    {
     "data": {
      "text/html": [
       "Syncing run <strong><a href='https://wandb.ai/gradient_pwr/airbnb-downstream-task/runs/n6me24se' target=\"_blank\">dutiful-sweep-5</a></strong> to <a href='https://wandb.ai/gradient_pwr/airbnb-downstream-task' target=\"_blank\">Weights & Biases</a> (<a href='https://wandb.me/run' target=\"_blank\">docs</a>)<br/>Sweep page: <a href='https://wandb.ai/gradient_pwr/airbnb-downstream-task/sweeps/ow0algrs' target=\"_blank\">https://wandb.ai/gradient_pwr/airbnb-downstream-task/sweeps/ow0algrs</a>"
      ],
      "text/plain": [
       "<IPython.core.display.HTML object>"
      ]
     },
     "metadata": {},
     "output_type": "display_data"
    },
    {
     "data": {
      "text/html": [
       " View project at <a href='https://wandb.ai/gradient_pwr/airbnb-downstream-task' target=\"_blank\">https://wandb.ai/gradient_pwr/airbnb-downstream-task</a>"
      ],
      "text/plain": [
       "<IPython.core.display.HTML object>"
      ]
     },
     "metadata": {},
     "output_type": "display_data"
    },
    {
     "data": {
      "text/html": [
       " View sweep at <a href='https://wandb.ai/gradient_pwr/airbnb-downstream-task/sweeps/ow0algrs' target=\"_blank\">https://wandb.ai/gradient_pwr/airbnb-downstream-task/sweeps/ow0algrs</a>"
      ],
      "text/plain": [
       "<IPython.core.display.HTML object>"
      ]
     },
     "metadata": {},
     "output_type": "display_data"
    },
    {
     "data": {
      "text/html": [
       " View run at <a href='https://wandb.ai/gradient_pwr/airbnb-downstream-task/runs/n6me24se' target=\"_blank\">https://wandb.ai/gradient_pwr/airbnb-downstream-task/runs/n6me24se</a>"
      ],
      "text/plain": [
       "<IPython.core.display.HTML object>"
      ]
     },
     "metadata": {},
     "output_type": "display_data"
    },
    {
     "name": "stdout",
     "output_type": "stream",
     "text": [
      "[0 1 2 3 4]\n"
     ]
    },
    {
     "name": "stderr",
     "output_type": "stream",
     "text": [
      "/home/grymar/studia/gradient/env/lib/python3.10/site-packages/sklearn/linear_model/_logistic.py:1172: UserWarning: l1_ratio parameter is only used when penalty is 'elasticnet'. Got (penalty=l1)\n",
      "  warnings.warn(\n",
      "/home/grymar/studia/gradient/env/lib/python3.10/site-packages/sklearn/linear_model/_sag.py:350: ConvergenceWarning: The max_iter was reached which means the coef_ did not converge\n",
      "  warnings.warn(\n",
      "/home/grymar/studia/gradient/env/lib/python3.10/site-packages/sklearn/preprocessing/_encoders.py:975: FutureWarning: `sparse` was renamed to `sparse_output` in version 1.2 and will be removed in 1.4. `sparse_output` is ignored unless you leave `sparse` to its default value.\n",
      "  warnings.warn(\n"
     ]
    },
    {
     "name": "stdout",
     "output_type": "stream",
     "text": [
      "[0 1 2 3 4]\n",
      "(10757, 5)\n",
      "(10757, 5)\n",
      "[0 1 2 3 4]\n"
     ]
    },
    {
     "name": "stderr",
     "output_type": "stream",
     "text": [
      "/home/grymar/studia/gradient/env/lib/python3.10/site-packages/sklearn/linear_model/_logistic.py:1172: UserWarning: l1_ratio parameter is only used when penalty is 'elasticnet'. Got (penalty=l1)\n",
      "  warnings.warn(\n",
      "/home/grymar/studia/gradient/env/lib/python3.10/site-packages/sklearn/linear_model/_sag.py:350: ConvergenceWarning: The max_iter was reached which means the coef_ did not converge\n",
      "  warnings.warn(\n",
      "/home/grymar/studia/gradient/env/lib/python3.10/site-packages/sklearn/preprocessing/_encoders.py:975: FutureWarning: `sparse` was renamed to `sparse_output` in version 1.2 and will be removed in 1.4. `sparse_output` is ignored unless you leave `sparse` to its default value.\n",
      "  warnings.warn(\n"
     ]
    },
    {
     "name": "stdout",
     "output_type": "stream",
     "text": [
      "[0 1 2 3 4]\n",
      "(4203, 5)\n",
      "(4203, 5)\n"
     ]
    },
    {
     "data": {
      "application/vnd.jupyter.widget-view+json": {
       "model_id": "4a783e6bff3a456d8835631f9af2bd7a",
       "version_major": 2,
       "version_minor": 0
      },
      "text/plain": [
       "VBox(children=(Label(value='0.169 MB of 0.169 MB uploaded\\r'), FloatProgress(value=1.0, max=1.0)))"
      ]
     },
     "metadata": {},
     "output_type": "display_data"
    },
    {
     "data": {
      "text/html": [
       "<style>\n",
       "    table.wandb td:nth-child(1) { padding: 0 10px; text-align: left ; width: auto;} td:nth-child(2) {text-align: left ; width: 100%}\n",
       "    .wandb-row { display: flex; flex-direction: row; flex-wrap: wrap; justify-content: flex-start; width: 100% }\n",
       "    .wandb-col { display: flex; flex-direction: column; flex-basis: 100%; flex: 1; padding: 10px; }\n",
       "    </style>\n",
       "<div class=\"wandb-row\"><div class=\"wandb-col\"><h3>Run history:</h3><br/><table class=\"wandb\"><tr><td>USE_HEXES_ATTRS</td><td>▁</td></tr><tr><td>USE_ORTOPHOTO</td><td>▁</td></tr><tr><td>USE_OSMNX_ATTRS</td><td>▁</td></tr><tr><td>accuracy_fold_0</td><td>▁</td></tr><tr><td>accuracy_fold_1</td><td>▁</td></tr><tr><td>auc_fold_0</td><td>▁</td></tr><tr><td>auc_fold_1</td><td>▁</td></tr><tr><td>f1_fold_0</td><td>▁</td></tr><tr><td>f1_fold_1</td><td>▁</td></tr><tr><td>mean_accuracy</td><td>▁</td></tr><tr><td>mean_auc</td><td>▁</td></tr><tr><td>mean_f1</td><td>▁</td></tr></table><br/></div><div class=\"wandb-col\"><h3>Run summary:</h3><br/><table class=\"wandb\"><tr><td>USE_HEXES_ATTRS</td><td>1</td></tr><tr><td>USE_ORTOPHOTO</td><td>0</td></tr><tr><td>USE_OSMNX_ATTRS</td><td>0</td></tr><tr><td>accuracy_fold_0</td><td>0.46017</td></tr><tr><td>accuracy_fold_1</td><td>0.29979</td></tr><tr><td>auc_fold_0</td><td>0.55324</td></tr><tr><td>auc_fold_1</td><td>0.48082</td></tr><tr><td>data_structure</td><td>tabular</td></tr><tr><td>f1_fold_0</td><td>0.49565</td></tr><tr><td>f1_fold_1</td><td>0.34875</td></tr><tr><td>mean_accuracy</td><td>0.37998</td></tr><tr><td>mean_auc</td><td>0.51703</td></tr><tr><td>mean_f1</td><td>0.4222</td></tr></table><br/></div></div>"
      ],
      "text/plain": [
       "<IPython.core.display.HTML object>"
      ]
     },
     "metadata": {},
     "output_type": "display_data"
    },
    {
     "data": {
      "text/html": [
       " View run <strong style=\"color:#cdcd00\">dutiful-sweep-5</strong> at: <a href='https://wandb.ai/gradient_pwr/airbnb-downstream-task/runs/n6me24se' target=\"_blank\">https://wandb.ai/gradient_pwr/airbnb-downstream-task/runs/n6me24se</a><br/> View project at: <a href='https://wandb.ai/gradient_pwr/airbnb-downstream-task' target=\"_blank\">https://wandb.ai/gradient_pwr/airbnb-downstream-task</a><br/>Synced 5 W&B file(s), 0 media file(s), 2 artifact file(s) and 0 other file(s)"
      ],
      "text/plain": [
       "<IPython.core.display.HTML object>"
      ]
     },
     "metadata": {},
     "output_type": "display_data"
    },
    {
     "data": {
      "text/html": [
       "Find logs at: <code>./wandb/run-20240605_004135-n6me24se/logs</code>"
      ],
      "text/plain": [
       "<IPython.core.display.HTML object>"
      ]
     },
     "metadata": {},
     "output_type": "display_data"
    },
    {
     "name": "stderr",
     "output_type": "stream",
     "text": [
      "\u001b[34m\u001b[1mwandb\u001b[0m: Agent Starting Run: e9onx7t6 with config:\n",
      "\u001b[34m\u001b[1mwandb\u001b[0m: \tC: 0.07214299421386626\n",
      "\u001b[34m\u001b[1mwandb\u001b[0m: \tsolver_penalty: saga;l1\n",
      "Failed to detect the name of this notebook, you can set it manually with the WANDB_NOTEBOOK_NAME environment variable to enable code saving.\n"
     ]
    },
    {
     "data": {
      "text/html": [
       "Tracking run with wandb version 0.17.0"
      ],
      "text/plain": [
       "<IPython.core.display.HTML object>"
      ]
     },
     "metadata": {},
     "output_type": "display_data"
    },
    {
     "data": {
      "text/html": [
       "Run data is saved locally in <code>/home/grymar/studia/gradient/notebooks/downstream_tasks/wandb/run-20240605_005236-e9onx7t6</code>"
      ],
      "text/plain": [
       "<IPython.core.display.HTML object>"
      ]
     },
     "metadata": {},
     "output_type": "display_data"
    },
    {
     "data": {
      "text/html": [
       "Syncing run <strong><a href='https://wandb.ai/gradient_pwr/airbnb-downstream-task/runs/e9onx7t6' target=\"_blank\">lemon-sweep-6</a></strong> to <a href='https://wandb.ai/gradient_pwr/airbnb-downstream-task' target=\"_blank\">Weights & Biases</a> (<a href='https://wandb.me/run' target=\"_blank\">docs</a>)<br/>Sweep page: <a href='https://wandb.ai/gradient_pwr/airbnb-downstream-task/sweeps/ow0algrs' target=\"_blank\">https://wandb.ai/gradient_pwr/airbnb-downstream-task/sweeps/ow0algrs</a>"
      ],
      "text/plain": [
       "<IPython.core.display.HTML object>"
      ]
     },
     "metadata": {},
     "output_type": "display_data"
    },
    {
     "data": {
      "text/html": [
       " View project at <a href='https://wandb.ai/gradient_pwr/airbnb-downstream-task' target=\"_blank\">https://wandb.ai/gradient_pwr/airbnb-downstream-task</a>"
      ],
      "text/plain": [
       "<IPython.core.display.HTML object>"
      ]
     },
     "metadata": {},
     "output_type": "display_data"
    },
    {
     "data": {
      "text/html": [
       " View sweep at <a href='https://wandb.ai/gradient_pwr/airbnb-downstream-task/sweeps/ow0algrs' target=\"_blank\">https://wandb.ai/gradient_pwr/airbnb-downstream-task/sweeps/ow0algrs</a>"
      ],
      "text/plain": [
       "<IPython.core.display.HTML object>"
      ]
     },
     "metadata": {},
     "output_type": "display_data"
    },
    {
     "data": {
      "text/html": [
       " View run at <a href='https://wandb.ai/gradient_pwr/airbnb-downstream-task/runs/e9onx7t6' target=\"_blank\">https://wandb.ai/gradient_pwr/airbnb-downstream-task/runs/e9onx7t6</a>"
      ],
      "text/plain": [
       "<IPython.core.display.HTML object>"
      ]
     },
     "metadata": {},
     "output_type": "display_data"
    },
    {
     "name": "stdout",
     "output_type": "stream",
     "text": [
      "[0 1 2 3 4]\n"
     ]
    },
    {
     "name": "stderr",
     "output_type": "stream",
     "text": [
      "/home/grymar/studia/gradient/env/lib/python3.10/site-packages/sklearn/linear_model/_logistic.py:1172: UserWarning: l1_ratio parameter is only used when penalty is 'elasticnet'. Got (penalty=l1)\n",
      "  warnings.warn(\n",
      "/home/grymar/studia/gradient/env/lib/python3.10/site-packages/sklearn/linear_model/_sag.py:350: ConvergenceWarning: The max_iter was reached which means the coef_ did not converge\n",
      "  warnings.warn(\n",
      "/home/grymar/studia/gradient/env/lib/python3.10/site-packages/sklearn/preprocessing/_encoders.py:975: FutureWarning: `sparse` was renamed to `sparse_output` in version 1.2 and will be removed in 1.4. `sparse_output` is ignored unless you leave `sparse` to its default value.\n",
      "  warnings.warn(\n"
     ]
    },
    {
     "name": "stdout",
     "output_type": "stream",
     "text": [
      "[0 1 2 3 4]\n",
      "(10757, 5)\n",
      "(10757, 5)\n",
      "[0 1 2 3 4]\n"
     ]
    },
    {
     "name": "stderr",
     "output_type": "stream",
     "text": [
      "/home/grymar/studia/gradient/env/lib/python3.10/site-packages/sklearn/linear_model/_logistic.py:1172: UserWarning: l1_ratio parameter is only used when penalty is 'elasticnet'. Got (penalty=l1)\n",
      "  warnings.warn(\n",
      "/home/grymar/studia/gradient/env/lib/python3.10/site-packages/sklearn/linear_model/_sag.py:350: ConvergenceWarning: The max_iter was reached which means the coef_ did not converge\n",
      "  warnings.warn(\n",
      "/home/grymar/studia/gradient/env/lib/python3.10/site-packages/sklearn/preprocessing/_encoders.py:975: FutureWarning: `sparse` was renamed to `sparse_output` in version 1.2 and will be removed in 1.4. `sparse_output` is ignored unless you leave `sparse` to its default value.\n",
      "  warnings.warn(\n"
     ]
    },
    {
     "name": "stdout",
     "output_type": "stream",
     "text": [
      "[0 1 2 3 4]\n",
      "(4203, 5)\n",
      "(4203, 5)\n"
     ]
    },
    {
     "data": {
      "application/vnd.jupyter.widget-view+json": {
       "model_id": "124a7933bdff4ad3a39e846eb71c9232",
       "version_major": 2,
       "version_minor": 0
      },
      "text/plain": [
       "VBox(children=(Label(value='0.169 MB of 0.169 MB uploaded\\r'), FloatProgress(value=1.0, max=1.0)))"
      ]
     },
     "metadata": {},
     "output_type": "display_data"
    },
    {
     "data": {
      "text/html": [
       "<style>\n",
       "    table.wandb td:nth-child(1) { padding: 0 10px; text-align: left ; width: auto;} td:nth-child(2) {text-align: left ; width: 100%}\n",
       "    .wandb-row { display: flex; flex-direction: row; flex-wrap: wrap; justify-content: flex-start; width: 100% }\n",
       "    .wandb-col { display: flex; flex-direction: column; flex-basis: 100%; flex: 1; padding: 10px; }\n",
       "    </style>\n",
       "<div class=\"wandb-row\"><div class=\"wandb-col\"><h3>Run history:</h3><br/><table class=\"wandb\"><tr><td>USE_HEXES_ATTRS</td><td>▁</td></tr><tr><td>USE_ORTOPHOTO</td><td>▁</td></tr><tr><td>USE_OSMNX_ATTRS</td><td>▁</td></tr><tr><td>accuracy_fold_0</td><td>▁</td></tr><tr><td>accuracy_fold_1</td><td>▁</td></tr><tr><td>auc_fold_0</td><td>▁</td></tr><tr><td>auc_fold_1</td><td>▁</td></tr><tr><td>f1_fold_0</td><td>▁</td></tr><tr><td>f1_fold_1</td><td>▁</td></tr><tr><td>mean_accuracy</td><td>▁</td></tr><tr><td>mean_auc</td><td>▁</td></tr><tr><td>mean_f1</td><td>▁</td></tr></table><br/></div><div class=\"wandb-col\"><h3>Run summary:</h3><br/><table class=\"wandb\"><tr><td>USE_HEXES_ATTRS</td><td>1</td></tr><tr><td>USE_ORTOPHOTO</td><td>0</td></tr><tr><td>USE_OSMNX_ATTRS</td><td>0</td></tr><tr><td>accuracy_fold_0</td><td>0.47913</td></tr><tr><td>accuracy_fold_1</td><td>0.49108</td></tr><tr><td>auc_fold_0</td><td>0.59058</td></tr><tr><td>auc_fold_1</td><td>0.46051</td></tr><tr><td>data_structure</td><td>tabular</td></tr><tr><td>f1_fold_0</td><td>0.50845</td></tr><tr><td>f1_fold_1</td><td>0.49651</td></tr><tr><td>mean_accuracy</td><td>0.4851</td></tr><tr><td>mean_auc</td><td>0.52554</td></tr><tr><td>mean_f1</td><td>0.50248</td></tr></table><br/></div></div>"
      ],
      "text/plain": [
       "<IPython.core.display.HTML object>"
      ]
     },
     "metadata": {},
     "output_type": "display_data"
    },
    {
     "data": {
      "text/html": [
       " View run <strong style=\"color:#cdcd00\">lemon-sweep-6</strong> at: <a href='https://wandb.ai/gradient_pwr/airbnb-downstream-task/runs/e9onx7t6' target=\"_blank\">https://wandb.ai/gradient_pwr/airbnb-downstream-task/runs/e9onx7t6</a><br/> View project at: <a href='https://wandb.ai/gradient_pwr/airbnb-downstream-task' target=\"_blank\">https://wandb.ai/gradient_pwr/airbnb-downstream-task</a><br/>Synced 5 W&B file(s), 0 media file(s), 2 artifact file(s) and 0 other file(s)"
      ],
      "text/plain": [
       "<IPython.core.display.HTML object>"
      ]
     },
     "metadata": {},
     "output_type": "display_data"
    },
    {
     "data": {
      "text/html": [
       "Find logs at: <code>./wandb/run-20240605_005236-e9onx7t6/logs</code>"
      ],
      "text/plain": [
       "<IPython.core.display.HTML object>"
      ]
     },
     "metadata": {},
     "output_type": "display_data"
    },
    {
     "name": "stderr",
     "output_type": "stream",
     "text": [
      "\u001b[34m\u001b[1mwandb\u001b[0m: Sweep Agent: Waiting for job.\n",
      "\u001b[34m\u001b[1mwandb\u001b[0m: Job received.\n",
      "\u001b[34m\u001b[1mwandb\u001b[0m: Agent Starting Run: 9sfwudex with config:\n",
      "\u001b[34m\u001b[1mwandb\u001b[0m: \tC: 0.07286703861768125\n",
      "\u001b[34m\u001b[1mwandb\u001b[0m: \tsolver_penalty: saga;elasticnet\n",
      "Failed to detect the name of this notebook, you can set it manually with the WANDB_NOTEBOOK_NAME environment variable to enable code saving.\n"
     ]
    },
    {
     "data": {
      "text/html": [
       "Tracking run with wandb version 0.17.0"
      ],
      "text/plain": [
       "<IPython.core.display.HTML object>"
      ]
     },
     "metadata": {},
     "output_type": "display_data"
    },
    {
     "data": {
      "text/html": [
       "Run data is saved locally in <code>/home/grymar/studia/gradient/notebooks/downstream_tasks/wandb/run-20240605_010304-9sfwudex</code>"
      ],
      "text/plain": [
       "<IPython.core.display.HTML object>"
      ]
     },
     "metadata": {},
     "output_type": "display_data"
    },
    {
     "data": {
      "text/html": [
       "Syncing run <strong><a href='https://wandb.ai/gradient_pwr/airbnb-downstream-task/runs/9sfwudex' target=\"_blank\">glad-sweep-7</a></strong> to <a href='https://wandb.ai/gradient_pwr/airbnb-downstream-task' target=\"_blank\">Weights & Biases</a> (<a href='https://wandb.me/run' target=\"_blank\">docs</a>)<br/>Sweep page: <a href='https://wandb.ai/gradient_pwr/airbnb-downstream-task/sweeps/ow0algrs' target=\"_blank\">https://wandb.ai/gradient_pwr/airbnb-downstream-task/sweeps/ow0algrs</a>"
      ],
      "text/plain": [
       "<IPython.core.display.HTML object>"
      ]
     },
     "metadata": {},
     "output_type": "display_data"
    },
    {
     "data": {
      "text/html": [
       " View project at <a href='https://wandb.ai/gradient_pwr/airbnb-downstream-task' target=\"_blank\">https://wandb.ai/gradient_pwr/airbnb-downstream-task</a>"
      ],
      "text/plain": [
       "<IPython.core.display.HTML object>"
      ]
     },
     "metadata": {},
     "output_type": "display_data"
    },
    {
     "data": {
      "text/html": [
       " View sweep at <a href='https://wandb.ai/gradient_pwr/airbnb-downstream-task/sweeps/ow0algrs' target=\"_blank\">https://wandb.ai/gradient_pwr/airbnb-downstream-task/sweeps/ow0algrs</a>"
      ],
      "text/plain": [
       "<IPython.core.display.HTML object>"
      ]
     },
     "metadata": {},
     "output_type": "display_data"
    },
    {
     "data": {
      "text/html": [
       " View run at <a href='https://wandb.ai/gradient_pwr/airbnb-downstream-task/runs/9sfwudex' target=\"_blank\">https://wandb.ai/gradient_pwr/airbnb-downstream-task/runs/9sfwudex</a>"
      ],
      "text/plain": [
       "<IPython.core.display.HTML object>"
      ]
     },
     "metadata": {},
     "output_type": "display_data"
    },
    {
     "name": "stdout",
     "output_type": "stream",
     "text": [
      "[0 1 2 3 4]\n"
     ]
    },
    {
     "name": "stderr",
     "output_type": "stream",
     "text": [
      "/home/grymar/studia/gradient/env/lib/python3.10/site-packages/sklearn/linear_model/_sag.py:350: ConvergenceWarning: The max_iter was reached which means the coef_ did not converge\n",
      "  warnings.warn(\n",
      "/home/grymar/studia/gradient/env/lib/python3.10/site-packages/sklearn/preprocessing/_encoders.py:975: FutureWarning: `sparse` was renamed to `sparse_output` in version 1.2 and will be removed in 1.4. `sparse_output` is ignored unless you leave `sparse` to its default value.\n",
      "  warnings.warn(\n"
     ]
    },
    {
     "name": "stdout",
     "output_type": "stream",
     "text": [
      "[0 1 2 3 4]\n",
      "(10757, 5)\n",
      "(10757, 5)\n",
      "[0 1 2 3 4]\n"
     ]
    },
    {
     "name": "stderr",
     "output_type": "stream",
     "text": [
      "/home/grymar/studia/gradient/env/lib/python3.10/site-packages/sklearn/linear_model/_sag.py:350: ConvergenceWarning: The max_iter was reached which means the coef_ did not converge\n",
      "  warnings.warn(\n",
      "/home/grymar/studia/gradient/env/lib/python3.10/site-packages/sklearn/preprocessing/_encoders.py:975: FutureWarning: `sparse` was renamed to `sparse_output` in version 1.2 and will be removed in 1.4. `sparse_output` is ignored unless you leave `sparse` to its default value.\n",
      "  warnings.warn(\n"
     ]
    },
    {
     "name": "stdout",
     "output_type": "stream",
     "text": [
      "[0 1 2 3 4]\n",
      "(4203, 5)\n",
      "(4203, 5)\n"
     ]
    },
    {
     "data": {
      "application/vnd.jupyter.widget-view+json": {
       "model_id": "8d42d417fbcf41e8afbbf073a52c52e5",
       "version_major": 2,
       "version_minor": 0
      },
      "text/plain": [
       "VBox(children=(Label(value='0.169 MB of 0.169 MB uploaded\\r'), FloatProgress(value=1.0, max=1.0)))"
      ]
     },
     "metadata": {},
     "output_type": "display_data"
    },
    {
     "data": {
      "text/html": [
       "<style>\n",
       "    table.wandb td:nth-child(1) { padding: 0 10px; text-align: left ; width: auto;} td:nth-child(2) {text-align: left ; width: 100%}\n",
       "    .wandb-row { display: flex; flex-direction: row; flex-wrap: wrap; justify-content: flex-start; width: 100% }\n",
       "    .wandb-col { display: flex; flex-direction: column; flex-basis: 100%; flex: 1; padding: 10px; }\n",
       "    </style>\n",
       "<div class=\"wandb-row\"><div class=\"wandb-col\"><h3>Run history:</h3><br/><table class=\"wandb\"><tr><td>USE_HEXES_ATTRS</td><td>▁</td></tr><tr><td>USE_ORTOPHOTO</td><td>▁</td></tr><tr><td>USE_OSMNX_ATTRS</td><td>▁</td></tr><tr><td>accuracy_fold_0</td><td>▁</td></tr><tr><td>accuracy_fold_1</td><td>▁</td></tr><tr><td>auc_fold_0</td><td>▁</td></tr><tr><td>auc_fold_1</td><td>▁</td></tr><tr><td>f1_fold_0</td><td>▁</td></tr><tr><td>f1_fold_1</td><td>▁</td></tr><tr><td>mean_accuracy</td><td>▁</td></tr><tr><td>mean_auc</td><td>▁</td></tr><tr><td>mean_f1</td><td>▁</td></tr></table><br/></div><div class=\"wandb-col\"><h3>Run summary:</h3><br/><table class=\"wandb\"><tr><td>USE_HEXES_ATTRS</td><td>1</td></tr><tr><td>USE_ORTOPHOTO</td><td>0</td></tr><tr><td>USE_OSMNX_ATTRS</td><td>0</td></tr><tr><td>accuracy_fold_0</td><td>0.4769</td></tr><tr><td>accuracy_fold_1</td><td>0.50583</td></tr><tr><td>auc_fold_0</td><td>0.57621</td></tr><tr><td>auc_fold_1</td><td>0.44984</td></tr><tr><td>data_structure</td><td>tabular</td></tr><tr><td>f1_fold_0</td><td>0.50643</td></tr><tr><td>f1_fold_1</td><td>0.48774</td></tr><tr><td>mean_accuracy</td><td>0.49136</td></tr><tr><td>mean_auc</td><td>0.51303</td></tr><tr><td>mean_f1</td><td>0.49709</td></tr></table><br/></div></div>"
      ],
      "text/plain": [
       "<IPython.core.display.HTML object>"
      ]
     },
     "metadata": {},
     "output_type": "display_data"
    },
    {
     "data": {
      "text/html": [
       " View run <strong style=\"color:#cdcd00\">glad-sweep-7</strong> at: <a href='https://wandb.ai/gradient_pwr/airbnb-downstream-task/runs/9sfwudex' target=\"_blank\">https://wandb.ai/gradient_pwr/airbnb-downstream-task/runs/9sfwudex</a><br/> View project at: <a href='https://wandb.ai/gradient_pwr/airbnb-downstream-task' target=\"_blank\">https://wandb.ai/gradient_pwr/airbnb-downstream-task</a><br/>Synced 5 W&B file(s), 0 media file(s), 2 artifact file(s) and 0 other file(s)"
      ],
      "text/plain": [
       "<IPython.core.display.HTML object>"
      ]
     },
     "metadata": {},
     "output_type": "display_data"
    },
    {
     "data": {
      "text/html": [
       "Find logs at: <code>./wandb/run-20240605_010304-9sfwudex/logs</code>"
      ],
      "text/plain": [
       "<IPython.core.display.HTML object>"
      ]
     },
     "metadata": {},
     "output_type": "display_data"
    },
    {
     "name": "stderr",
     "output_type": "stream",
     "text": [
      "\u001b[34m\u001b[1mwandb\u001b[0m: Agent Starting Run: 5ypm2u30 with config:\n",
      "\u001b[34m\u001b[1mwandb\u001b[0m: \tC: 0.29024547959719393\n",
      "\u001b[34m\u001b[1mwandb\u001b[0m: \tsolver_penalty: lbfgs;l2\n",
      "Failed to detect the name of this notebook, you can set it manually with the WANDB_NOTEBOOK_NAME environment variable to enable code saving.\n"
     ]
    },
    {
     "data": {
      "text/html": [
       "Tracking run with wandb version 0.17.0"
      ],
      "text/plain": [
       "<IPython.core.display.HTML object>"
      ]
     },
     "metadata": {},
     "output_type": "display_data"
    },
    {
     "data": {
      "text/html": [
       "Run data is saved locally in <code>/home/grymar/studia/gradient/notebooks/downstream_tasks/wandb/run-20240605_011335-5ypm2u30</code>"
      ],
      "text/plain": [
       "<IPython.core.display.HTML object>"
      ]
     },
     "metadata": {},
     "output_type": "display_data"
    },
    {
     "data": {
      "text/html": [
       "Syncing run <strong><a href='https://wandb.ai/gradient_pwr/airbnb-downstream-task/runs/5ypm2u30' target=\"_blank\">peach-sweep-8</a></strong> to <a href='https://wandb.ai/gradient_pwr/airbnb-downstream-task' target=\"_blank\">Weights & Biases</a> (<a href='https://wandb.me/run' target=\"_blank\">docs</a>)<br/>Sweep page: <a href='https://wandb.ai/gradient_pwr/airbnb-downstream-task/sweeps/ow0algrs' target=\"_blank\">https://wandb.ai/gradient_pwr/airbnb-downstream-task/sweeps/ow0algrs</a>"
      ],
      "text/plain": [
       "<IPython.core.display.HTML object>"
      ]
     },
     "metadata": {},
     "output_type": "display_data"
    },
    {
     "data": {
      "text/html": [
       " View project at <a href='https://wandb.ai/gradient_pwr/airbnb-downstream-task' target=\"_blank\">https://wandb.ai/gradient_pwr/airbnb-downstream-task</a>"
      ],
      "text/plain": [
       "<IPython.core.display.HTML object>"
      ]
     },
     "metadata": {},
     "output_type": "display_data"
    },
    {
     "data": {
      "text/html": [
       " View sweep at <a href='https://wandb.ai/gradient_pwr/airbnb-downstream-task/sweeps/ow0algrs' target=\"_blank\">https://wandb.ai/gradient_pwr/airbnb-downstream-task/sweeps/ow0algrs</a>"
      ],
      "text/plain": [
       "<IPython.core.display.HTML object>"
      ]
     },
     "metadata": {},
     "output_type": "display_data"
    },
    {
     "data": {
      "text/html": [
       " View run at <a href='https://wandb.ai/gradient_pwr/airbnb-downstream-task/runs/5ypm2u30' target=\"_blank\">https://wandb.ai/gradient_pwr/airbnb-downstream-task/runs/5ypm2u30</a>"
      ],
      "text/plain": [
       "<IPython.core.display.HTML object>"
      ]
     },
     "metadata": {},
     "output_type": "display_data"
    },
    {
     "name": "stdout",
     "output_type": "stream",
     "text": [
      "[0 1 2 3 4]\n"
     ]
    },
    {
     "name": "stderr",
     "output_type": "stream",
     "text": [
      "/home/grymar/studia/gradient/env/lib/python3.10/site-packages/sklearn/linear_model/_logistic.py:1172: UserWarning: l1_ratio parameter is only used when penalty is 'elasticnet'. Got (penalty=l2)\n",
      "  warnings.warn(\n"
     ]
    },
    {
     "name": "stdout",
     "output_type": "stream",
     "text": [
      "[0 1 2 3 4]\n",
      "(10757, 5)\n",
      "(10757, 5)\n"
     ]
    },
    {
     "name": "stderr",
     "output_type": "stream",
     "text": [
      "/home/grymar/studia/gradient/env/lib/python3.10/site-packages/sklearn/preprocessing/_encoders.py:975: FutureWarning: `sparse` was renamed to `sparse_output` in version 1.2 and will be removed in 1.4. `sparse_output` is ignored unless you leave `sparse` to its default value.\n",
      "  warnings.warn(\n"
     ]
    },
    {
     "name": "stdout",
     "output_type": "stream",
     "text": [
      "[0 1 2 3 4]\n"
     ]
    },
    {
     "name": "stderr",
     "output_type": "stream",
     "text": [
      "/home/grymar/studia/gradient/env/lib/python3.10/site-packages/sklearn/linear_model/_logistic.py:1172: UserWarning: l1_ratio parameter is only used when penalty is 'elasticnet'. Got (penalty=l2)\n",
      "  warnings.warn(\n"
     ]
    },
    {
     "name": "stdout",
     "output_type": "stream",
     "text": [
      "[0 1 2 3 4]\n",
      "(4203, 5)\n",
      "(4203, 5)\n"
     ]
    },
    {
     "name": "stderr",
     "output_type": "stream",
     "text": [
      "/home/grymar/studia/gradient/env/lib/python3.10/site-packages/sklearn/preprocessing/_encoders.py:975: FutureWarning: `sparse` was renamed to `sparse_output` in version 1.2 and will be removed in 1.4. `sparse_output` is ignored unless you leave `sparse` to its default value.\n",
      "  warnings.warn(\n"
     ]
    },
    {
     "data": {
      "application/vnd.jupyter.widget-view+json": {
       "model_id": "8ccd4e7eba2c409090b42fd281ba587d",
       "version_major": 2,
       "version_minor": 0
      },
      "text/plain": [
       "VBox(children=(Label(value='0.169 MB of 0.169 MB uploaded\\r'), FloatProgress(value=1.0, max=1.0)))"
      ]
     },
     "metadata": {},
     "output_type": "display_data"
    },
    {
     "data": {
      "text/html": [
       "<style>\n",
       "    table.wandb td:nth-child(1) { padding: 0 10px; text-align: left ; width: auto;} td:nth-child(2) {text-align: left ; width: 100%}\n",
       "    .wandb-row { display: flex; flex-direction: row; flex-wrap: wrap; justify-content: flex-start; width: 100% }\n",
       "    .wandb-col { display: flex; flex-direction: column; flex-basis: 100%; flex: 1; padding: 10px; }\n",
       "    </style>\n",
       "<div class=\"wandb-row\"><div class=\"wandb-col\"><h3>Run history:</h3><br/><table class=\"wandb\"><tr><td>USE_HEXES_ATTRS</td><td>▁</td></tr><tr><td>USE_ORTOPHOTO</td><td>▁</td></tr><tr><td>USE_OSMNX_ATTRS</td><td>▁</td></tr><tr><td>accuracy_fold_0</td><td>▁</td></tr><tr><td>accuracy_fold_1</td><td>▁</td></tr><tr><td>auc_fold_0</td><td>▁</td></tr><tr><td>auc_fold_1</td><td>▁</td></tr><tr><td>f1_fold_0</td><td>▁</td></tr><tr><td>f1_fold_1</td><td>▁</td></tr><tr><td>mean_accuracy</td><td>▁</td></tr><tr><td>mean_auc</td><td>▁</td></tr><tr><td>mean_f1</td><td>▁</td></tr></table><br/></div><div class=\"wandb-col\"><h3>Run summary:</h3><br/><table class=\"wandb\"><tr><td>USE_HEXES_ATTRS</td><td>1</td></tr><tr><td>USE_ORTOPHOTO</td><td>0</td></tr><tr><td>USE_OSMNX_ATTRS</td><td>0</td></tr><tr><td>accuracy_fold_0</td><td>0.4491</td></tr><tr><td>accuracy_fold_1</td><td>0.28289</td></tr><tr><td>auc_fold_0</td><td>0.53981</td></tr><tr><td>auc_fold_1</td><td>0.49047</td></tr><tr><td>data_structure</td><td>tabular</td></tr><tr><td>f1_fold_0</td><td>0.48996</td></tr><tr><td>f1_fold_1</td><td>0.33486</td></tr><tr><td>mean_accuracy</td><td>0.366</td></tr><tr><td>mean_auc</td><td>0.51514</td></tr><tr><td>mean_f1</td><td>0.41241</td></tr></table><br/></div></div>"
      ],
      "text/plain": [
       "<IPython.core.display.HTML object>"
      ]
     },
     "metadata": {},
     "output_type": "display_data"
    },
    {
     "data": {
      "text/html": [
       " View run <strong style=\"color:#cdcd00\">peach-sweep-8</strong> at: <a href='https://wandb.ai/gradient_pwr/airbnb-downstream-task/runs/5ypm2u30' target=\"_blank\">https://wandb.ai/gradient_pwr/airbnb-downstream-task/runs/5ypm2u30</a><br/> View project at: <a href='https://wandb.ai/gradient_pwr/airbnb-downstream-task' target=\"_blank\">https://wandb.ai/gradient_pwr/airbnb-downstream-task</a><br/>Synced 5 W&B file(s), 0 media file(s), 2 artifact file(s) and 0 other file(s)"
      ],
      "text/plain": [
       "<IPython.core.display.HTML object>"
      ]
     },
     "metadata": {},
     "output_type": "display_data"
    },
    {
     "data": {
      "text/html": [
       "Find logs at: <code>./wandb/run-20240605_011335-5ypm2u30/logs</code>"
      ],
      "text/plain": [
       "<IPython.core.display.HTML object>"
      ]
     },
     "metadata": {},
     "output_type": "display_data"
    },
    {
     "name": "stderr",
     "output_type": "stream",
     "text": [
      "\u001b[34m\u001b[1mwandb\u001b[0m: Sweep Agent: Waiting for job.\n",
      "\u001b[34m\u001b[1mwandb\u001b[0m: Job received.\n",
      "\u001b[34m\u001b[1mwandb\u001b[0m: Agent Starting Run: bi79cw80 with config:\n",
      "\u001b[34m\u001b[1mwandb\u001b[0m: \tC: 1.1861069689582544e-05\n",
      "\u001b[34m\u001b[1mwandb\u001b[0m: \tsolver_penalty: lbfgs;l2\n",
      "Failed to detect the name of this notebook, you can set it manually with the WANDB_NOTEBOOK_NAME environment variable to enable code saving.\n"
     ]
    },
    {
     "data": {
      "text/html": [
       "Tracking run with wandb version 0.17.0"
      ],
      "text/plain": [
       "<IPython.core.display.HTML object>"
      ]
     },
     "metadata": {},
     "output_type": "display_data"
    },
    {
     "data": {
      "text/html": [
       "Run data is saved locally in <code>/home/grymar/studia/gradient/notebooks/downstream_tasks/wandb/run-20240605_011411-bi79cw80</code>"
      ],
      "text/plain": [
       "<IPython.core.display.HTML object>"
      ]
     },
     "metadata": {},
     "output_type": "display_data"
    },
    {
     "data": {
      "text/html": [
       "Syncing run <strong><a href='https://wandb.ai/gradient_pwr/airbnb-downstream-task/runs/bi79cw80' target=\"_blank\">driven-sweep-9</a></strong> to <a href='https://wandb.ai/gradient_pwr/airbnb-downstream-task' target=\"_blank\">Weights & Biases</a> (<a href='https://wandb.me/run' target=\"_blank\">docs</a>)<br/>Sweep page: <a href='https://wandb.ai/gradient_pwr/airbnb-downstream-task/sweeps/ow0algrs' target=\"_blank\">https://wandb.ai/gradient_pwr/airbnb-downstream-task/sweeps/ow0algrs</a>"
      ],
      "text/plain": [
       "<IPython.core.display.HTML object>"
      ]
     },
     "metadata": {},
     "output_type": "display_data"
    },
    {
     "data": {
      "text/html": [
       " View project at <a href='https://wandb.ai/gradient_pwr/airbnb-downstream-task' target=\"_blank\">https://wandb.ai/gradient_pwr/airbnb-downstream-task</a>"
      ],
      "text/plain": [
       "<IPython.core.display.HTML object>"
      ]
     },
     "metadata": {},
     "output_type": "display_data"
    },
    {
     "data": {
      "text/html": [
       " View sweep at <a href='https://wandb.ai/gradient_pwr/airbnb-downstream-task/sweeps/ow0algrs' target=\"_blank\">https://wandb.ai/gradient_pwr/airbnb-downstream-task/sweeps/ow0algrs</a>"
      ],
      "text/plain": [
       "<IPython.core.display.HTML object>"
      ]
     },
     "metadata": {},
     "output_type": "display_data"
    },
    {
     "data": {
      "text/html": [
       " View run at <a href='https://wandb.ai/gradient_pwr/airbnb-downstream-task/runs/bi79cw80' target=\"_blank\">https://wandb.ai/gradient_pwr/airbnb-downstream-task/runs/bi79cw80</a>"
      ],
      "text/plain": [
       "<IPython.core.display.HTML object>"
      ]
     },
     "metadata": {},
     "output_type": "display_data"
    },
    {
     "name": "stdout",
     "output_type": "stream",
     "text": [
      "[0 1 2 3 4]\n"
     ]
    },
    {
     "name": "stderr",
     "output_type": "stream",
     "text": [
      "/home/grymar/studia/gradient/env/lib/python3.10/site-packages/sklearn/linear_model/_logistic.py:1172: UserWarning: l1_ratio parameter is only used when penalty is 'elasticnet'. Got (penalty=l2)\n",
      "  warnings.warn(\n"
     ]
    },
    {
     "name": "stdout",
     "output_type": "stream",
     "text": [
      "[0 1 2 3 4]\n",
      "(10757, 5)\n",
      "(10757, 5)\n"
     ]
    },
    {
     "name": "stderr",
     "output_type": "stream",
     "text": [
      "/home/grymar/studia/gradient/env/lib/python3.10/site-packages/sklearn/preprocessing/_encoders.py:975: FutureWarning: `sparse` was renamed to `sparse_output` in version 1.2 and will be removed in 1.4. `sparse_output` is ignored unless you leave `sparse` to its default value.\n",
      "  warnings.warn(\n"
     ]
    },
    {
     "name": "stdout",
     "output_type": "stream",
     "text": [
      "[0 1 2 3 4]\n"
     ]
    },
    {
     "name": "stderr",
     "output_type": "stream",
     "text": [
      "/home/grymar/studia/gradient/env/lib/python3.10/site-packages/sklearn/linear_model/_logistic.py:1172: UserWarning: l1_ratio parameter is only used when penalty is 'elasticnet'. Got (penalty=l2)\n",
      "  warnings.warn(\n"
     ]
    },
    {
     "name": "stdout",
     "output_type": "stream",
     "text": [
      "[0 1 2 3 4]\n",
      "(4203, 5)\n",
      "(4203, 5)\n"
     ]
    },
    {
     "name": "stderr",
     "output_type": "stream",
     "text": [
      "/home/grymar/studia/gradient/env/lib/python3.10/site-packages/sklearn/preprocessing/_encoders.py:975: FutureWarning: `sparse` was renamed to `sparse_output` in version 1.2 and will be removed in 1.4. `sparse_output` is ignored unless you leave `sparse` to its default value.\n",
      "  warnings.warn(\n"
     ]
    },
    {
     "data": {
      "application/vnd.jupyter.widget-view+json": {
       "model_id": "d53179e40e2343328093c36203831355",
       "version_major": 2,
       "version_minor": 0
      },
      "text/plain": [
       "VBox(children=(Label(value='0.169 MB of 0.169 MB uploaded\\r'), FloatProgress(value=1.0, max=1.0)))"
      ]
     },
     "metadata": {},
     "output_type": "display_data"
    },
    {
     "data": {
      "text/html": [
       "<style>\n",
       "    table.wandb td:nth-child(1) { padding: 0 10px; text-align: left ; width: auto;} td:nth-child(2) {text-align: left ; width: 100%}\n",
       "    .wandb-row { display: flex; flex-direction: row; flex-wrap: wrap; justify-content: flex-start; width: 100% }\n",
       "    .wandb-col { display: flex; flex-direction: column; flex-basis: 100%; flex: 1; padding: 10px; }\n",
       "    </style>\n",
       "<div class=\"wandb-row\"><div class=\"wandb-col\"><h3>Run history:</h3><br/><table class=\"wandb\"><tr><td>USE_HEXES_ATTRS</td><td>▁</td></tr><tr><td>USE_ORTOPHOTO</td><td>▁</td></tr><tr><td>USE_OSMNX_ATTRS</td><td>▁</td></tr><tr><td>accuracy_fold_0</td><td>▁</td></tr><tr><td>accuracy_fold_1</td><td>▁</td></tr><tr><td>auc_fold_0</td><td>▁</td></tr><tr><td>auc_fold_1</td><td>▁</td></tr><tr><td>f1_fold_0</td><td>▁</td></tr><tr><td>f1_fold_1</td><td>▁</td></tr><tr><td>mean_accuracy</td><td>▁</td></tr><tr><td>mean_auc</td><td>▁</td></tr><tr><td>mean_f1</td><td>▁</td></tr></table><br/></div><div class=\"wandb-col\"><h3>Run summary:</h3><br/><table class=\"wandb\"><tr><td>USE_HEXES_ATTRS</td><td>1</td></tr><tr><td>USE_ORTOPHOTO</td><td>0</td></tr><tr><td>USE_OSMNX_ATTRS</td><td>0</td></tr><tr><td>accuracy_fold_0</td><td>0.59366</td></tr><tr><td>accuracy_fold_1</td><td>0.47752</td></tr><tr><td>auc_fold_0</td><td>0.54288</td></tr><tr><td>auc_fold_1</td><td>0.57922</td></tr><tr><td>data_structure</td><td>tabular</td></tr><tr><td>f1_fold_0</td><td>0.53682</td></tr><tr><td>f1_fold_1</td><td>0.50202</td></tr><tr><td>mean_accuracy</td><td>0.53559</td></tr><tr><td>mean_auc</td><td>0.56105</td></tr><tr><td>mean_f1</td><td>0.51942</td></tr></table><br/></div></div>"
      ],
      "text/plain": [
       "<IPython.core.display.HTML object>"
      ]
     },
     "metadata": {},
     "output_type": "display_data"
    },
    {
     "data": {
      "text/html": [
       " View run <strong style=\"color:#cdcd00\">driven-sweep-9</strong> at: <a href='https://wandb.ai/gradient_pwr/airbnb-downstream-task/runs/bi79cw80' target=\"_blank\">https://wandb.ai/gradient_pwr/airbnb-downstream-task/runs/bi79cw80</a><br/> View project at: <a href='https://wandb.ai/gradient_pwr/airbnb-downstream-task' target=\"_blank\">https://wandb.ai/gradient_pwr/airbnb-downstream-task</a><br/>Synced 5 W&B file(s), 0 media file(s), 2 artifact file(s) and 0 other file(s)"
      ],
      "text/plain": [
       "<IPython.core.display.HTML object>"
      ]
     },
     "metadata": {},
     "output_type": "display_data"
    },
    {
     "data": {
      "text/html": [
       "Find logs at: <code>./wandb/run-20240605_011411-bi79cw80/logs</code>"
      ],
      "text/plain": [
       "<IPython.core.display.HTML object>"
      ]
     },
     "metadata": {},
     "output_type": "display_data"
    },
    {
     "name": "stderr",
     "output_type": "stream",
     "text": [
      "\u001b[34m\u001b[1mwandb\u001b[0m: Agent Starting Run: 9gkwdchu with config:\n",
      "\u001b[34m\u001b[1mwandb\u001b[0m: \tC: 5.0683909006193026e-05\n",
      "\u001b[34m\u001b[1mwandb\u001b[0m: \tsolver_penalty: lbfgs;l2\n",
      "Failed to detect the name of this notebook, you can set it manually with the WANDB_NOTEBOOK_NAME environment variable to enable code saving.\n"
     ]
    },
    {
     "data": {
      "text/html": [
       "Tracking run with wandb version 0.17.0"
      ],
      "text/plain": [
       "<IPython.core.display.HTML object>"
      ]
     },
     "metadata": {},
     "output_type": "display_data"
    },
    {
     "data": {
      "text/html": [
       "Run data is saved locally in <code>/home/grymar/studia/gradient/notebooks/downstream_tasks/wandb/run-20240605_011427-9gkwdchu</code>"
      ],
      "text/plain": [
       "<IPython.core.display.HTML object>"
      ]
     },
     "metadata": {},
     "output_type": "display_data"
    },
    {
     "data": {
      "text/html": [
       "Syncing run <strong><a href='https://wandb.ai/gradient_pwr/airbnb-downstream-task/runs/9gkwdchu' target=\"_blank\">misunderstood-sweep-10</a></strong> to <a href='https://wandb.ai/gradient_pwr/airbnb-downstream-task' target=\"_blank\">Weights & Biases</a> (<a href='https://wandb.me/run' target=\"_blank\">docs</a>)<br/>Sweep page: <a href='https://wandb.ai/gradient_pwr/airbnb-downstream-task/sweeps/ow0algrs' target=\"_blank\">https://wandb.ai/gradient_pwr/airbnb-downstream-task/sweeps/ow0algrs</a>"
      ],
      "text/plain": [
       "<IPython.core.display.HTML object>"
      ]
     },
     "metadata": {},
     "output_type": "display_data"
    },
    {
     "data": {
      "text/html": [
       " View project at <a href='https://wandb.ai/gradient_pwr/airbnb-downstream-task' target=\"_blank\">https://wandb.ai/gradient_pwr/airbnb-downstream-task</a>"
      ],
      "text/plain": [
       "<IPython.core.display.HTML object>"
      ]
     },
     "metadata": {},
     "output_type": "display_data"
    },
    {
     "data": {
      "text/html": [
       " View sweep at <a href='https://wandb.ai/gradient_pwr/airbnb-downstream-task/sweeps/ow0algrs' target=\"_blank\">https://wandb.ai/gradient_pwr/airbnb-downstream-task/sweeps/ow0algrs</a>"
      ],
      "text/plain": [
       "<IPython.core.display.HTML object>"
      ]
     },
     "metadata": {},
     "output_type": "display_data"
    },
    {
     "data": {
      "text/html": [
       " View run at <a href='https://wandb.ai/gradient_pwr/airbnb-downstream-task/runs/9gkwdchu' target=\"_blank\">https://wandb.ai/gradient_pwr/airbnb-downstream-task/runs/9gkwdchu</a>"
      ],
      "text/plain": [
       "<IPython.core.display.HTML object>"
      ]
     },
     "metadata": {},
     "output_type": "display_data"
    },
    {
     "name": "stdout",
     "output_type": "stream",
     "text": [
      "[0 1 2 3 4]\n"
     ]
    },
    {
     "name": "stderr",
     "output_type": "stream",
     "text": [
      "/home/grymar/studia/gradient/env/lib/python3.10/site-packages/sklearn/linear_model/_logistic.py:1172: UserWarning: l1_ratio parameter is only used when penalty is 'elasticnet'. Got (penalty=l2)\n",
      "  warnings.warn(\n"
     ]
    },
    {
     "name": "stdout",
     "output_type": "stream",
     "text": [
      "[0 1 2 3 4]\n",
      "(10757, 5)\n",
      "(10757, 5)\n"
     ]
    },
    {
     "name": "stderr",
     "output_type": "stream",
     "text": [
      "/home/grymar/studia/gradient/env/lib/python3.10/site-packages/sklearn/preprocessing/_encoders.py:975: FutureWarning: `sparse` was renamed to `sparse_output` in version 1.2 and will be removed in 1.4. `sparse_output` is ignored unless you leave `sparse` to its default value.\n",
      "  warnings.warn(\n"
     ]
    },
    {
     "name": "stdout",
     "output_type": "stream",
     "text": [
      "[0 1 2 3 4]\n"
     ]
    },
    {
     "name": "stderr",
     "output_type": "stream",
     "text": [
      "/home/grymar/studia/gradient/env/lib/python3.10/site-packages/sklearn/linear_model/_logistic.py:1172: UserWarning: l1_ratio parameter is only used when penalty is 'elasticnet'. Got (penalty=l2)\n",
      "  warnings.warn(\n"
     ]
    },
    {
     "name": "stdout",
     "output_type": "stream",
     "text": [
      "[0 1 2 3 4]\n",
      "(4203, 5)\n",
      "(4203, 5)\n"
     ]
    },
    {
     "name": "stderr",
     "output_type": "stream",
     "text": [
      "/home/grymar/studia/gradient/env/lib/python3.10/site-packages/sklearn/preprocessing/_encoders.py:975: FutureWarning: `sparse` was renamed to `sparse_output` in version 1.2 and will be removed in 1.4. `sparse_output` is ignored unless you leave `sparse` to its default value.\n",
      "  warnings.warn(\n"
     ]
    },
    {
     "data": {
      "application/vnd.jupyter.widget-view+json": {
       "model_id": "51766a85054e4df69c6e7cf2b21517d4",
       "version_major": 2,
       "version_minor": 0
      },
      "text/plain": [
       "VBox(children=(Label(value='0.169 MB of 0.169 MB uploaded\\r'), FloatProgress(value=1.0, max=1.0)))"
      ]
     },
     "metadata": {},
     "output_type": "display_data"
    },
    {
     "data": {
      "text/html": [
       "<style>\n",
       "    table.wandb td:nth-child(1) { padding: 0 10px; text-align: left ; width: auto;} td:nth-child(2) {text-align: left ; width: 100%}\n",
       "    .wandb-row { display: flex; flex-direction: row; flex-wrap: wrap; justify-content: flex-start; width: 100% }\n",
       "    .wandb-col { display: flex; flex-direction: column; flex-basis: 100%; flex: 1; padding: 10px; }\n",
       "    </style>\n",
       "<div class=\"wandb-row\"><div class=\"wandb-col\"><h3>Run history:</h3><br/><table class=\"wandb\"><tr><td>USE_HEXES_ATTRS</td><td>▁</td></tr><tr><td>USE_ORTOPHOTO</td><td>▁</td></tr><tr><td>USE_OSMNX_ATTRS</td><td>▁</td></tr><tr><td>accuracy_fold_0</td><td>▁</td></tr><tr><td>accuracy_fold_1</td><td>▁</td></tr><tr><td>auc_fold_0</td><td>▁</td></tr><tr><td>auc_fold_1</td><td>▁</td></tr><tr><td>f1_fold_0</td><td>▁</td></tr><tr><td>f1_fold_1</td><td>▁</td></tr><tr><td>mean_accuracy</td><td>▁</td></tr><tr><td>mean_auc</td><td>▁</td></tr><tr><td>mean_f1</td><td>▁</td></tr></table><br/></div><div class=\"wandb-col\"><h3>Run summary:</h3><br/><table class=\"wandb\"><tr><td>USE_HEXES_ATTRS</td><td>1</td></tr><tr><td>USE_ORTOPHOTO</td><td>0</td></tr><tr><td>USE_OSMNX_ATTRS</td><td>0</td></tr><tr><td>accuracy_fold_0</td><td>0.55592</td></tr><tr><td>accuracy_fold_1</td><td>0.50345</td></tr><tr><td>auc_fold_0</td><td>0.54487</td></tr><tr><td>auc_fold_1</td><td>0.52807</td></tr><tr><td>data_structure</td><td>tabular</td></tr><tr><td>f1_fold_0</td><td>0.51943</td></tr><tr><td>f1_fold_1</td><td>0.51049</td></tr><tr><td>mean_accuracy</td><td>0.52968</td></tr><tr><td>mean_auc</td><td>0.53647</td></tr><tr><td>mean_f1</td><td>0.51496</td></tr></table><br/></div></div>"
      ],
      "text/plain": [
       "<IPython.core.display.HTML object>"
      ]
     },
     "metadata": {},
     "output_type": "display_data"
    },
    {
     "data": {
      "text/html": [
       " View run <strong style=\"color:#cdcd00\">misunderstood-sweep-10</strong> at: <a href='https://wandb.ai/gradient_pwr/airbnb-downstream-task/runs/9gkwdchu' target=\"_blank\">https://wandb.ai/gradient_pwr/airbnb-downstream-task/runs/9gkwdchu</a><br/> View project at: <a href='https://wandb.ai/gradient_pwr/airbnb-downstream-task' target=\"_blank\">https://wandb.ai/gradient_pwr/airbnb-downstream-task</a><br/>Synced 5 W&B file(s), 0 media file(s), 2 artifact file(s) and 0 other file(s)"
      ],
      "text/plain": [
       "<IPython.core.display.HTML object>"
      ]
     },
     "metadata": {},
     "output_type": "display_data"
    },
    {
     "data": {
      "text/html": [
       "Find logs at: <code>./wandb/run-20240605_011427-9gkwdchu/logs</code>"
      ],
      "text/plain": [
       "<IPython.core.display.HTML object>"
      ]
     },
     "metadata": {},
     "output_type": "display_data"
    },
    {
     "name": "stderr",
     "output_type": "stream",
     "text": [
      "\u001b[34m\u001b[1mwandb\u001b[0m: Agent Starting Run: oiq6tq4i with config:\n",
      "\u001b[34m\u001b[1mwandb\u001b[0m: \tC: 2.1642648323780312e-05\n",
      "\u001b[34m\u001b[1mwandb\u001b[0m: \tsolver_penalty: lbfgs;l2\n",
      "Failed to detect the name of this notebook, you can set it manually with the WANDB_NOTEBOOK_NAME environment variable to enable code saving.\n"
     ]
    },
    {
     "data": {
      "text/html": [
       "Tracking run with wandb version 0.17.0"
      ],
      "text/plain": [
       "<IPython.core.display.HTML object>"
      ]
     },
     "metadata": {},
     "output_type": "display_data"
    },
    {
     "data": {
      "text/html": [
       "Run data is saved locally in <code>/home/grymar/studia/gradient/notebooks/downstream_tasks/wandb/run-20240605_011443-oiq6tq4i</code>"
      ],
      "text/plain": [
       "<IPython.core.display.HTML object>"
      ]
     },
     "metadata": {},
     "output_type": "display_data"
    },
    {
     "data": {
      "text/html": [
       "Syncing run <strong><a href='https://wandb.ai/gradient_pwr/airbnb-downstream-task/runs/oiq6tq4i' target=\"_blank\">laced-sweep-11</a></strong> to <a href='https://wandb.ai/gradient_pwr/airbnb-downstream-task' target=\"_blank\">Weights & Biases</a> (<a href='https://wandb.me/run' target=\"_blank\">docs</a>)<br/>Sweep page: <a href='https://wandb.ai/gradient_pwr/airbnb-downstream-task/sweeps/ow0algrs' target=\"_blank\">https://wandb.ai/gradient_pwr/airbnb-downstream-task/sweeps/ow0algrs</a>"
      ],
      "text/plain": [
       "<IPython.core.display.HTML object>"
      ]
     },
     "metadata": {},
     "output_type": "display_data"
    },
    {
     "data": {
      "text/html": [
       " View project at <a href='https://wandb.ai/gradient_pwr/airbnb-downstream-task' target=\"_blank\">https://wandb.ai/gradient_pwr/airbnb-downstream-task</a>"
      ],
      "text/plain": [
       "<IPython.core.display.HTML object>"
      ]
     },
     "metadata": {},
     "output_type": "display_data"
    },
    {
     "data": {
      "text/html": [
       " View sweep at <a href='https://wandb.ai/gradient_pwr/airbnb-downstream-task/sweeps/ow0algrs' target=\"_blank\">https://wandb.ai/gradient_pwr/airbnb-downstream-task/sweeps/ow0algrs</a>"
      ],
      "text/plain": [
       "<IPython.core.display.HTML object>"
      ]
     },
     "metadata": {},
     "output_type": "display_data"
    },
    {
     "data": {
      "text/html": [
       " View run at <a href='https://wandb.ai/gradient_pwr/airbnb-downstream-task/runs/oiq6tq4i' target=\"_blank\">https://wandb.ai/gradient_pwr/airbnb-downstream-task/runs/oiq6tq4i</a>"
      ],
      "text/plain": [
       "<IPython.core.display.HTML object>"
      ]
     },
     "metadata": {},
     "output_type": "display_data"
    },
    {
     "name": "stdout",
     "output_type": "stream",
     "text": [
      "[0 1 2 3 4]\n"
     ]
    },
    {
     "name": "stderr",
     "output_type": "stream",
     "text": [
      "/home/grymar/studia/gradient/env/lib/python3.10/site-packages/sklearn/linear_model/_logistic.py:1172: UserWarning: l1_ratio parameter is only used when penalty is 'elasticnet'. Got (penalty=l2)\n",
      "  warnings.warn(\n"
     ]
    },
    {
     "name": "stdout",
     "output_type": "stream",
     "text": [
      "[0 1 2 3 4]\n",
      "(10757, 5)\n",
      "(10757, 5)\n"
     ]
    },
    {
     "name": "stderr",
     "output_type": "stream",
     "text": [
      "/home/grymar/studia/gradient/env/lib/python3.10/site-packages/sklearn/preprocessing/_encoders.py:975: FutureWarning: `sparse` was renamed to `sparse_output` in version 1.2 and will be removed in 1.4. `sparse_output` is ignored unless you leave `sparse` to its default value.\n",
      "  warnings.warn(\n"
     ]
    },
    {
     "name": "stdout",
     "output_type": "stream",
     "text": [
      "[0 1 2 3 4]\n"
     ]
    },
    {
     "name": "stderr",
     "output_type": "stream",
     "text": [
      "/home/grymar/studia/gradient/env/lib/python3.10/site-packages/sklearn/linear_model/_logistic.py:1172: UserWarning: l1_ratio parameter is only used when penalty is 'elasticnet'. Got (penalty=l2)\n",
      "  warnings.warn(\n"
     ]
    },
    {
     "name": "stdout",
     "output_type": "stream",
     "text": [
      "[0 1 2 3 4]\n",
      "(4203, 5)\n",
      "(4203, 5)\n"
     ]
    },
    {
     "name": "stderr",
     "output_type": "stream",
     "text": [
      "/home/grymar/studia/gradient/env/lib/python3.10/site-packages/sklearn/preprocessing/_encoders.py:975: FutureWarning: `sparse` was renamed to `sparse_output` in version 1.2 and will be removed in 1.4. `sparse_output` is ignored unless you leave `sparse` to its default value.\n",
      "  warnings.warn(\n"
     ]
    },
    {
     "data": {
      "application/vnd.jupyter.widget-view+json": {
       "model_id": "28169f666cdc46f1b95298fdea37f848",
       "version_major": 2,
       "version_minor": 0
      },
      "text/plain": [
       "VBox(children=(Label(value='0.169 MB of 0.169 MB uploaded\\r'), FloatProgress(value=1.0, max=1.0)))"
      ]
     },
     "metadata": {},
     "output_type": "display_data"
    },
    {
     "data": {
      "text/html": [
       "<style>\n",
       "    table.wandb td:nth-child(1) { padding: 0 10px; text-align: left ; width: auto;} td:nth-child(2) {text-align: left ; width: 100%}\n",
       "    .wandb-row { display: flex; flex-direction: row; flex-wrap: wrap; justify-content: flex-start; width: 100% }\n",
       "    .wandb-col { display: flex; flex-direction: column; flex-basis: 100%; flex: 1; padding: 10px; }\n",
       "    </style>\n",
       "<div class=\"wandb-row\"><div class=\"wandb-col\"><h3>Run history:</h3><br/><table class=\"wandb\"><tr><td>USE_HEXES_ATTRS</td><td>▁</td></tr><tr><td>USE_ORTOPHOTO</td><td>▁</td></tr><tr><td>USE_OSMNX_ATTRS</td><td>▁</td></tr><tr><td>accuracy_fold_0</td><td>▁</td></tr><tr><td>accuracy_fold_1</td><td>▁</td></tr><tr><td>auc_fold_0</td><td>▁</td></tr><tr><td>auc_fold_1</td><td>▁</td></tr><tr><td>f1_fold_0</td><td>▁</td></tr><tr><td>f1_fold_1</td><td>▁</td></tr><tr><td>mean_accuracy</td><td>▁</td></tr><tr><td>mean_auc</td><td>▁</td></tr><tr><td>mean_f1</td><td>▁</td></tr></table><br/></div><div class=\"wandb-col\"><h3>Run summary:</h3><br/><table class=\"wandb\"><tr><td>USE_HEXES_ATTRS</td><td>1</td></tr><tr><td>USE_ORTOPHOTO</td><td>0</td></tr><tr><td>USE_OSMNX_ATTRS</td><td>0</td></tr><tr><td>accuracy_fold_0</td><td>0.58148</td></tr><tr><td>accuracy_fold_1</td><td>0.48965</td></tr><tr><td>auc_fold_0</td><td>0.54315</td></tr><tr><td>auc_fold_1</td><td>0.55601</td></tr><tr><td>data_structure</td><td>tabular</td></tr><tr><td>f1_fold_0</td><td>0.5322</td></tr><tr><td>f1_fold_1</td><td>0.50814</td></tr><tr><td>mean_accuracy</td><td>0.53557</td></tr><tr><td>mean_auc</td><td>0.54958</td></tr><tr><td>mean_f1</td><td>0.52017</td></tr></table><br/></div></div>"
      ],
      "text/plain": [
       "<IPython.core.display.HTML object>"
      ]
     },
     "metadata": {},
     "output_type": "display_data"
    },
    {
     "data": {
      "text/html": [
       " View run <strong style=\"color:#cdcd00\">laced-sweep-11</strong> at: <a href='https://wandb.ai/gradient_pwr/airbnb-downstream-task/runs/oiq6tq4i' target=\"_blank\">https://wandb.ai/gradient_pwr/airbnb-downstream-task/runs/oiq6tq4i</a><br/> View project at: <a href='https://wandb.ai/gradient_pwr/airbnb-downstream-task' target=\"_blank\">https://wandb.ai/gradient_pwr/airbnb-downstream-task</a><br/>Synced 5 W&B file(s), 0 media file(s), 2 artifact file(s) and 0 other file(s)"
      ],
      "text/plain": [
       "<IPython.core.display.HTML object>"
      ]
     },
     "metadata": {},
     "output_type": "display_data"
    },
    {
     "data": {
      "text/html": [
       "Find logs at: <code>./wandb/run-20240605_011443-oiq6tq4i/logs</code>"
      ],
      "text/plain": [
       "<IPython.core.display.HTML object>"
      ]
     },
     "metadata": {},
     "output_type": "display_data"
    },
    {
     "name": "stderr",
     "output_type": "stream",
     "text": [
      "\u001b[34m\u001b[1mwandb\u001b[0m: Agent Starting Run: 21lg15mj with config:\n",
      "\u001b[34m\u001b[1mwandb\u001b[0m: \tC: 2.680242044677937e-05\n",
      "\u001b[34m\u001b[1mwandb\u001b[0m: \tsolver_penalty: lbfgs;l2\n",
      "Failed to detect the name of this notebook, you can set it manually with the WANDB_NOTEBOOK_NAME environment variable to enable code saving.\n"
     ]
    },
    {
     "data": {
      "text/html": [
       "Tracking run with wandb version 0.17.0"
      ],
      "text/plain": [
       "<IPython.core.display.HTML object>"
      ]
     },
     "metadata": {},
     "output_type": "display_data"
    },
    {
     "data": {
      "text/html": [
       "Run data is saved locally in <code>/home/grymar/studia/gradient/notebooks/downstream_tasks/wandb/run-20240605_011459-21lg15mj</code>"
      ],
      "text/plain": [
       "<IPython.core.display.HTML object>"
      ]
     },
     "metadata": {},
     "output_type": "display_data"
    },
    {
     "data": {
      "text/html": [
       "Syncing run <strong><a href='https://wandb.ai/gradient_pwr/airbnb-downstream-task/runs/21lg15mj' target=\"_blank\">efficient-sweep-12</a></strong> to <a href='https://wandb.ai/gradient_pwr/airbnb-downstream-task' target=\"_blank\">Weights & Biases</a> (<a href='https://wandb.me/run' target=\"_blank\">docs</a>)<br/>Sweep page: <a href='https://wandb.ai/gradient_pwr/airbnb-downstream-task/sweeps/ow0algrs' target=\"_blank\">https://wandb.ai/gradient_pwr/airbnb-downstream-task/sweeps/ow0algrs</a>"
      ],
      "text/plain": [
       "<IPython.core.display.HTML object>"
      ]
     },
     "metadata": {},
     "output_type": "display_data"
    },
    {
     "data": {
      "text/html": [
       " View project at <a href='https://wandb.ai/gradient_pwr/airbnb-downstream-task' target=\"_blank\">https://wandb.ai/gradient_pwr/airbnb-downstream-task</a>"
      ],
      "text/plain": [
       "<IPython.core.display.HTML object>"
      ]
     },
     "metadata": {},
     "output_type": "display_data"
    },
    {
     "data": {
      "text/html": [
       " View sweep at <a href='https://wandb.ai/gradient_pwr/airbnb-downstream-task/sweeps/ow0algrs' target=\"_blank\">https://wandb.ai/gradient_pwr/airbnb-downstream-task/sweeps/ow0algrs</a>"
      ],
      "text/plain": [
       "<IPython.core.display.HTML object>"
      ]
     },
     "metadata": {},
     "output_type": "display_data"
    },
    {
     "data": {
      "text/html": [
       " View run at <a href='https://wandb.ai/gradient_pwr/airbnb-downstream-task/runs/21lg15mj' target=\"_blank\">https://wandb.ai/gradient_pwr/airbnb-downstream-task/runs/21lg15mj</a>"
      ],
      "text/plain": [
       "<IPython.core.display.HTML object>"
      ]
     },
     "metadata": {},
     "output_type": "display_data"
    },
    {
     "name": "stdout",
     "output_type": "stream",
     "text": [
      "[0 1 2 3 4]\n"
     ]
    },
    {
     "name": "stderr",
     "output_type": "stream",
     "text": [
      "/home/grymar/studia/gradient/env/lib/python3.10/site-packages/sklearn/linear_model/_logistic.py:1172: UserWarning: l1_ratio parameter is only used when penalty is 'elasticnet'. Got (penalty=l2)\n",
      "  warnings.warn(\n"
     ]
    },
    {
     "name": "stdout",
     "output_type": "stream",
     "text": [
      "[0 1 2 3 4]\n",
      "(10757, 5)\n",
      "(10757, 5)\n"
     ]
    },
    {
     "name": "stderr",
     "output_type": "stream",
     "text": [
      "/home/grymar/studia/gradient/env/lib/python3.10/site-packages/sklearn/preprocessing/_encoders.py:975: FutureWarning: `sparse` was renamed to `sparse_output` in version 1.2 and will be removed in 1.4. `sparse_output` is ignored unless you leave `sparse` to its default value.\n",
      "  warnings.warn(\n"
     ]
    },
    {
     "name": "stdout",
     "output_type": "stream",
     "text": [
      "[0 1 2 3 4]\n"
     ]
    },
    {
     "name": "stderr",
     "output_type": "stream",
     "text": [
      "/home/grymar/studia/gradient/env/lib/python3.10/site-packages/sklearn/linear_model/_logistic.py:1172: UserWarning: l1_ratio parameter is only used when penalty is 'elasticnet'. Got (penalty=l2)\n",
      "  warnings.warn(\n"
     ]
    },
    {
     "name": "stdout",
     "output_type": "stream",
     "text": [
      "[0 1 2 3 4]\n",
      "(4203, 5)\n",
      "(4203, 5)\n"
     ]
    },
    {
     "name": "stderr",
     "output_type": "stream",
     "text": [
      "/home/grymar/studia/gradient/env/lib/python3.10/site-packages/sklearn/preprocessing/_encoders.py:975: FutureWarning: `sparse` was renamed to `sparse_output` in version 1.2 and will be removed in 1.4. `sparse_output` is ignored unless you leave `sparse` to its default value.\n",
      "  warnings.warn(\n"
     ]
    },
    {
     "data": {
      "application/vnd.jupyter.widget-view+json": {
       "model_id": "ff5c3e30454649e0b58606f20f967b83",
       "version_major": 2,
       "version_minor": 0
      },
      "text/plain": [
       "VBox(children=(Label(value='0.169 MB of 0.169 MB uploaded\\r'), FloatProgress(value=1.0, max=1.0)))"
      ]
     },
     "metadata": {},
     "output_type": "display_data"
    },
    {
     "data": {
      "text/html": [
       "<style>\n",
       "    table.wandb td:nth-child(1) { padding: 0 10px; text-align: left ; width: auto;} td:nth-child(2) {text-align: left ; width: 100%}\n",
       "    .wandb-row { display: flex; flex-direction: row; flex-wrap: wrap; justify-content: flex-start; width: 100% }\n",
       "    .wandb-col { display: flex; flex-direction: column; flex-basis: 100%; flex: 1; padding: 10px; }\n",
       "    </style>\n",
       "<div class=\"wandb-row\"><div class=\"wandb-col\"><h3>Run history:</h3><br/><table class=\"wandb\"><tr><td>USE_HEXES_ATTRS</td><td>▁</td></tr><tr><td>USE_ORTOPHOTO</td><td>▁</td></tr><tr><td>USE_OSMNX_ATTRS</td><td>▁</td></tr><tr><td>accuracy_fold_0</td><td>▁</td></tr><tr><td>accuracy_fold_1</td><td>▁</td></tr><tr><td>auc_fold_0</td><td>▁</td></tr><tr><td>auc_fold_1</td><td>▁</td></tr><tr><td>f1_fold_0</td><td>▁</td></tr><tr><td>f1_fold_1</td><td>▁</td></tr><tr><td>mean_accuracy</td><td>▁</td></tr><tr><td>mean_auc</td><td>▁</td></tr><tr><td>mean_f1</td><td>▁</td></tr></table><br/></div><div class=\"wandb-col\"><h3>Run summary:</h3><br/><table class=\"wandb\"><tr><td>USE_HEXES_ATTRS</td><td>1</td></tr><tr><td>USE_ORTOPHOTO</td><td>0</td></tr><tr><td>USE_OSMNX_ATTRS</td><td>0</td></tr><tr><td>accuracy_fold_0</td><td>0.57507</td></tr><tr><td>accuracy_fold_1</td><td>0.4956</td></tr><tr><td>auc_fold_0</td><td>0.54342</td></tr><tr><td>auc_fold_1</td><td>0.54995</td></tr><tr><td>data_structure</td><td>tabular</td></tr><tr><td>f1_fold_0</td><td>0.52889</td></tr><tr><td>f1_fold_1</td><td>0.5102</td></tr><tr><td>mean_accuracy</td><td>0.53533</td></tr><tr><td>mean_auc</td><td>0.54668</td></tr><tr><td>mean_f1</td><td>0.51954</td></tr></table><br/></div></div>"
      ],
      "text/plain": [
       "<IPython.core.display.HTML object>"
      ]
     },
     "metadata": {},
     "output_type": "display_data"
    },
    {
     "data": {
      "text/html": [
       " View run <strong style=\"color:#cdcd00\">efficient-sweep-12</strong> at: <a href='https://wandb.ai/gradient_pwr/airbnb-downstream-task/runs/21lg15mj' target=\"_blank\">https://wandb.ai/gradient_pwr/airbnb-downstream-task/runs/21lg15mj</a><br/> View project at: <a href='https://wandb.ai/gradient_pwr/airbnb-downstream-task' target=\"_blank\">https://wandb.ai/gradient_pwr/airbnb-downstream-task</a><br/>Synced 5 W&B file(s), 0 media file(s), 2 artifact file(s) and 0 other file(s)"
      ],
      "text/plain": [
       "<IPython.core.display.HTML object>"
      ]
     },
     "metadata": {},
     "output_type": "display_data"
    },
    {
     "data": {
      "text/html": [
       "Find logs at: <code>./wandb/run-20240605_011459-21lg15mj/logs</code>"
      ],
      "text/plain": [
       "<IPython.core.display.HTML object>"
      ]
     },
     "metadata": {},
     "output_type": "display_data"
    },
    {
     "name": "stderr",
     "output_type": "stream",
     "text": [
      "\u001b[34m\u001b[1mwandb\u001b[0m: Sweep Agent: Waiting for job.\n",
      "\u001b[34m\u001b[1mwandb\u001b[0m: Job received.\n",
      "\u001b[34m\u001b[1mwandb\u001b[0m: Agent Starting Run: 5nowwo1b with config:\n",
      "\u001b[34m\u001b[1mwandb\u001b[0m: \tC: 1.726066011205404e-05\n",
      "\u001b[34m\u001b[1mwandb\u001b[0m: \tsolver_penalty: lbfgs;l2\n",
      "Failed to detect the name of this notebook, you can set it manually with the WANDB_NOTEBOOK_NAME environment variable to enable code saving.\n"
     ]
    },
    {
     "data": {
      "text/html": [
       "Tracking run with wandb version 0.17.0"
      ],
      "text/plain": [
       "<IPython.core.display.HTML object>"
      ]
     },
     "metadata": {},
     "output_type": "display_data"
    },
    {
     "data": {
      "text/html": [
       "Run data is saved locally in <code>/home/grymar/studia/gradient/notebooks/downstream_tasks/wandb/run-20240605_011521-5nowwo1b</code>"
      ],
      "text/plain": [
       "<IPython.core.display.HTML object>"
      ]
     },
     "metadata": {},
     "output_type": "display_data"
    },
    {
     "data": {
      "text/html": [
       "Syncing run <strong><a href='https://wandb.ai/gradient_pwr/airbnb-downstream-task/runs/5nowwo1b' target=\"_blank\">quiet-sweep-13</a></strong> to <a href='https://wandb.ai/gradient_pwr/airbnb-downstream-task' target=\"_blank\">Weights & Biases</a> (<a href='https://wandb.me/run' target=\"_blank\">docs</a>)<br/>Sweep page: <a href='https://wandb.ai/gradient_pwr/airbnb-downstream-task/sweeps/ow0algrs' target=\"_blank\">https://wandb.ai/gradient_pwr/airbnb-downstream-task/sweeps/ow0algrs</a>"
      ],
      "text/plain": [
       "<IPython.core.display.HTML object>"
      ]
     },
     "metadata": {},
     "output_type": "display_data"
    },
    {
     "data": {
      "text/html": [
       " View project at <a href='https://wandb.ai/gradient_pwr/airbnb-downstream-task' target=\"_blank\">https://wandb.ai/gradient_pwr/airbnb-downstream-task</a>"
      ],
      "text/plain": [
       "<IPython.core.display.HTML object>"
      ]
     },
     "metadata": {},
     "output_type": "display_data"
    },
    {
     "data": {
      "text/html": [
       " View sweep at <a href='https://wandb.ai/gradient_pwr/airbnb-downstream-task/sweeps/ow0algrs' target=\"_blank\">https://wandb.ai/gradient_pwr/airbnb-downstream-task/sweeps/ow0algrs</a>"
      ],
      "text/plain": [
       "<IPython.core.display.HTML object>"
      ]
     },
     "metadata": {},
     "output_type": "display_data"
    },
    {
     "data": {
      "text/html": [
       " View run at <a href='https://wandb.ai/gradient_pwr/airbnb-downstream-task/runs/5nowwo1b' target=\"_blank\">https://wandb.ai/gradient_pwr/airbnb-downstream-task/runs/5nowwo1b</a>"
      ],
      "text/plain": [
       "<IPython.core.display.HTML object>"
      ]
     },
     "metadata": {},
     "output_type": "display_data"
    },
    {
     "name": "stdout",
     "output_type": "stream",
     "text": [
      "[0 1 2 3 4]\n"
     ]
    },
    {
     "name": "stderr",
     "output_type": "stream",
     "text": [
      "/home/grymar/studia/gradient/env/lib/python3.10/site-packages/sklearn/linear_model/_logistic.py:1172: UserWarning: l1_ratio parameter is only used when penalty is 'elasticnet'. Got (penalty=l2)\n",
      "  warnings.warn(\n"
     ]
    },
    {
     "name": "stdout",
     "output_type": "stream",
     "text": [
      "[0 1 2 3 4]\n",
      "(10757, 5)\n",
      "(10757, 5)\n"
     ]
    },
    {
     "name": "stderr",
     "output_type": "stream",
     "text": [
      "/home/grymar/studia/gradient/env/lib/python3.10/site-packages/sklearn/preprocessing/_encoders.py:975: FutureWarning: `sparse` was renamed to `sparse_output` in version 1.2 and will be removed in 1.4. `sparse_output` is ignored unless you leave `sparse` to its default value.\n",
      "  warnings.warn(\n"
     ]
    },
    {
     "name": "stdout",
     "output_type": "stream",
     "text": [
      "[0 1 2 3 4]\n"
     ]
    },
    {
     "name": "stderr",
     "output_type": "stream",
     "text": [
      "/home/grymar/studia/gradient/env/lib/python3.10/site-packages/sklearn/linear_model/_logistic.py:1172: UserWarning: l1_ratio parameter is only used when penalty is 'elasticnet'. Got (penalty=l2)\n",
      "  warnings.warn(\n"
     ]
    },
    {
     "name": "stdout",
     "output_type": "stream",
     "text": [
      "[0 1 2 3 4]\n",
      "(4203, 5)\n",
      "(4203, 5)\n"
     ]
    },
    {
     "name": "stderr",
     "output_type": "stream",
     "text": [
      "/home/grymar/studia/gradient/env/lib/python3.10/site-packages/sklearn/preprocessing/_encoders.py:975: FutureWarning: `sparse` was renamed to `sparse_output` in version 1.2 and will be removed in 1.4. `sparse_output` is ignored unless you leave `sparse` to its default value.\n",
      "  warnings.warn(\n"
     ]
    },
    {
     "data": {
      "application/vnd.jupyter.widget-view+json": {
       "model_id": "105903a7b1984341b20c4718979496ab",
       "version_major": 2,
       "version_minor": 0
      },
      "text/plain": [
       "VBox(children=(Label(value='0.169 MB of 0.169 MB uploaded\\r'), FloatProgress(value=1.0, max=1.0)))"
      ]
     },
     "metadata": {},
     "output_type": "display_data"
    },
    {
     "data": {
      "text/html": [
       "<style>\n",
       "    table.wandb td:nth-child(1) { padding: 0 10px; text-align: left ; width: auto;} td:nth-child(2) {text-align: left ; width: 100%}\n",
       "    .wandb-row { display: flex; flex-direction: row; flex-wrap: wrap; justify-content: flex-start; width: 100% }\n",
       "    .wandb-col { display: flex; flex-direction: column; flex-basis: 100%; flex: 1; padding: 10px; }\n",
       "    </style>\n",
       "<div class=\"wandb-row\"><div class=\"wandb-col\"><h3>Run history:</h3><br/><table class=\"wandb\"><tr><td>USE_HEXES_ATTRS</td><td>▁</td></tr><tr><td>USE_ORTOPHOTO</td><td>▁</td></tr><tr><td>USE_OSMNX_ATTRS</td><td>▁</td></tr><tr><td>accuracy_fold_0</td><td>▁</td></tr><tr><td>accuracy_fold_1</td><td>▁</td></tr><tr><td>auc_fold_0</td><td>▁</td></tr><tr><td>auc_fold_1</td><td>▁</td></tr><tr><td>f1_fold_0</td><td>▁</td></tr><tr><td>f1_fold_1</td><td>▁</td></tr><tr><td>mean_accuracy</td><td>▁</td></tr><tr><td>mean_auc</td><td>▁</td></tr><tr><td>mean_f1</td><td>▁</td></tr></table><br/></div><div class=\"wandb-col\"><h3>Run summary:</h3><br/><table class=\"wandb\"><tr><td>USE_HEXES_ATTRS</td><td>1</td></tr><tr><td>USE_ORTOPHOTO</td><td>0</td></tr><tr><td>USE_OSMNX_ATTRS</td><td>0</td></tr><tr><td>accuracy_fold_0</td><td>0.58576</td></tr><tr><td>accuracy_fold_1</td><td>0.48442</td></tr><tr><td>auc_fold_0</td><td>0.5429</td></tr><tr><td>auc_fold_1</td><td>0.56415</td></tr><tr><td>data_structure</td><td>tabular</td></tr><tr><td>f1_fold_0</td><td>0.53385</td></tr><tr><td>f1_fold_1</td><td>0.50557</td></tr><tr><td>mean_accuracy</td><td>0.53509</td></tr><tr><td>mean_auc</td><td>0.55352</td></tr><tr><td>mean_f1</td><td>0.51971</td></tr></table><br/></div></div>"
      ],
      "text/plain": [
       "<IPython.core.display.HTML object>"
      ]
     },
     "metadata": {},
     "output_type": "display_data"
    },
    {
     "data": {
      "text/html": [
       " View run <strong style=\"color:#cdcd00\">quiet-sweep-13</strong> at: <a href='https://wandb.ai/gradient_pwr/airbnb-downstream-task/runs/5nowwo1b' target=\"_blank\">https://wandb.ai/gradient_pwr/airbnb-downstream-task/runs/5nowwo1b</a><br/> View project at: <a href='https://wandb.ai/gradient_pwr/airbnb-downstream-task' target=\"_blank\">https://wandb.ai/gradient_pwr/airbnb-downstream-task</a><br/>Synced 5 W&B file(s), 0 media file(s), 2 artifact file(s) and 0 other file(s)"
      ],
      "text/plain": [
       "<IPython.core.display.HTML object>"
      ]
     },
     "metadata": {},
     "output_type": "display_data"
    },
    {
     "data": {
      "text/html": [
       "Find logs at: <code>./wandb/run-20240605_011521-5nowwo1b/logs</code>"
      ],
      "text/plain": [
       "<IPython.core.display.HTML object>"
      ]
     },
     "metadata": {},
     "output_type": "display_data"
    },
    {
     "name": "stderr",
     "output_type": "stream",
     "text": [
      "\u001b[34m\u001b[1mwandb\u001b[0m: Agent Starting Run: 7fc5z1qz with config:\n",
      "\u001b[34m\u001b[1mwandb\u001b[0m: \tC: 1.14331603455171e-05\n",
      "\u001b[34m\u001b[1mwandb\u001b[0m: \tsolver_penalty: lbfgs;l2\n",
      "Failed to detect the name of this notebook, you can set it manually with the WANDB_NOTEBOOK_NAME environment variable to enable code saving.\n"
     ]
    },
    {
     "data": {
      "text/html": [
       "Tracking run with wandb version 0.17.0"
      ],
      "text/plain": [
       "<IPython.core.display.HTML object>"
      ]
     },
     "metadata": {},
     "output_type": "display_data"
    },
    {
     "data": {
      "text/html": [
       "Run data is saved locally in <code>/home/grymar/studia/gradient/notebooks/downstream_tasks/wandb/run-20240605_011536-7fc5z1qz</code>"
      ],
      "text/plain": [
       "<IPython.core.display.HTML object>"
      ]
     },
     "metadata": {},
     "output_type": "display_data"
    },
    {
     "data": {
      "text/html": [
       "Syncing run <strong><a href='https://wandb.ai/gradient_pwr/airbnb-downstream-task/runs/7fc5z1qz' target=\"_blank\">royal-sweep-14</a></strong> to <a href='https://wandb.ai/gradient_pwr/airbnb-downstream-task' target=\"_blank\">Weights & Biases</a> (<a href='https://wandb.me/run' target=\"_blank\">docs</a>)<br/>Sweep page: <a href='https://wandb.ai/gradient_pwr/airbnb-downstream-task/sweeps/ow0algrs' target=\"_blank\">https://wandb.ai/gradient_pwr/airbnb-downstream-task/sweeps/ow0algrs</a>"
      ],
      "text/plain": [
       "<IPython.core.display.HTML object>"
      ]
     },
     "metadata": {},
     "output_type": "display_data"
    },
    {
     "data": {
      "text/html": [
       " View project at <a href='https://wandb.ai/gradient_pwr/airbnb-downstream-task' target=\"_blank\">https://wandb.ai/gradient_pwr/airbnb-downstream-task</a>"
      ],
      "text/plain": [
       "<IPython.core.display.HTML object>"
      ]
     },
     "metadata": {},
     "output_type": "display_data"
    },
    {
     "data": {
      "text/html": [
       " View sweep at <a href='https://wandb.ai/gradient_pwr/airbnb-downstream-task/sweeps/ow0algrs' target=\"_blank\">https://wandb.ai/gradient_pwr/airbnb-downstream-task/sweeps/ow0algrs</a>"
      ],
      "text/plain": [
       "<IPython.core.display.HTML object>"
      ]
     },
     "metadata": {},
     "output_type": "display_data"
    },
    {
     "data": {
      "text/html": [
       " View run at <a href='https://wandb.ai/gradient_pwr/airbnb-downstream-task/runs/7fc5z1qz' target=\"_blank\">https://wandb.ai/gradient_pwr/airbnb-downstream-task/runs/7fc5z1qz</a>"
      ],
      "text/plain": [
       "<IPython.core.display.HTML object>"
      ]
     },
     "metadata": {},
     "output_type": "display_data"
    },
    {
     "name": "stdout",
     "output_type": "stream",
     "text": [
      "[0 1 2 3 4]\n"
     ]
    },
    {
     "name": "stderr",
     "output_type": "stream",
     "text": [
      "/home/grymar/studia/gradient/env/lib/python3.10/site-packages/sklearn/linear_model/_logistic.py:1172: UserWarning: l1_ratio parameter is only used when penalty is 'elasticnet'. Got (penalty=l2)\n",
      "  warnings.warn(\n"
     ]
    },
    {
     "name": "stdout",
     "output_type": "stream",
     "text": [
      "[0 1 2 3 4]\n",
      "(10757, 5)\n",
      "(10757, 5)\n"
     ]
    },
    {
     "name": "stderr",
     "output_type": "stream",
     "text": [
      "/home/grymar/studia/gradient/env/lib/python3.10/site-packages/sklearn/preprocessing/_encoders.py:975: FutureWarning: `sparse` was renamed to `sparse_output` in version 1.2 and will be removed in 1.4. `sparse_output` is ignored unless you leave `sparse` to its default value.\n",
      "  warnings.warn(\n"
     ]
    },
    {
     "name": "stdout",
     "output_type": "stream",
     "text": [
      "[0 1 2 3 4]\n"
     ]
    },
    {
     "name": "stderr",
     "output_type": "stream",
     "text": [
      "/home/grymar/studia/gradient/env/lib/python3.10/site-packages/sklearn/linear_model/_logistic.py:1172: UserWarning: l1_ratio parameter is only used when penalty is 'elasticnet'. Got (penalty=l2)\n",
      "  warnings.warn(\n"
     ]
    },
    {
     "name": "stdout",
     "output_type": "stream",
     "text": [
      "[0 1 2 3 4]\n",
      "(4203, 5)\n",
      "(4203, 5)\n"
     ]
    },
    {
     "name": "stderr",
     "output_type": "stream",
     "text": [
      "/home/grymar/studia/gradient/env/lib/python3.10/site-packages/sklearn/preprocessing/_encoders.py:975: FutureWarning: `sparse` was renamed to `sparse_output` in version 1.2 and will be removed in 1.4. `sparse_output` is ignored unless you leave `sparse` to its default value.\n",
      "  warnings.warn(\n"
     ]
    },
    {
     "data": {
      "application/vnd.jupyter.widget-view+json": {
       "model_id": "280b3aed2b8f4135bed2f6f709a96f54",
       "version_major": 2,
       "version_minor": 0
      },
      "text/plain": [
       "VBox(children=(Label(value='0.169 MB of 0.169 MB uploaded\\r'), FloatProgress(value=1.0, max=1.0)))"
      ]
     },
     "metadata": {},
     "output_type": "display_data"
    },
    {
     "data": {
      "text/html": [
       "<style>\n",
       "    table.wandb td:nth-child(1) { padding: 0 10px; text-align: left ; width: auto;} td:nth-child(2) {text-align: left ; width: 100%}\n",
       "    .wandb-row { display: flex; flex-direction: row; flex-wrap: wrap; justify-content: flex-start; width: 100% }\n",
       "    .wandb-col { display: flex; flex-direction: column; flex-basis: 100%; flex: 1; padding: 10px; }\n",
       "    </style>\n",
       "<div class=\"wandb-row\"><div class=\"wandb-col\"><h3>Run history:</h3><br/><table class=\"wandb\"><tr><td>USE_HEXES_ATTRS</td><td>▁</td></tr><tr><td>USE_ORTOPHOTO</td><td>▁</td></tr><tr><td>USE_OSMNX_ATTRS</td><td>▁</td></tr><tr><td>accuracy_fold_0</td><td>▁</td></tr><tr><td>accuracy_fold_1</td><td>▁</td></tr><tr><td>auc_fold_0</td><td>▁</td></tr><tr><td>auc_fold_1</td><td>▁</td></tr><tr><td>f1_fold_0</td><td>▁</td></tr><tr><td>f1_fold_1</td><td>▁</td></tr><tr><td>mean_accuracy</td><td>▁</td></tr><tr><td>mean_auc</td><td>▁</td></tr><tr><td>mean_f1</td><td>▁</td></tr></table><br/></div><div class=\"wandb-col\"><h3>Run summary:</h3><br/><table class=\"wandb\"><tr><td>USE_HEXES_ATTRS</td><td>1</td></tr><tr><td>USE_ORTOPHOTO</td><td>0</td></tr><tr><td>USE_OSMNX_ATTRS</td><td>0</td></tr><tr><td>accuracy_fold_0</td><td>0.59403</td></tr><tr><td>accuracy_fold_1</td><td>0.47728</td></tr><tr><td>auc_fold_0</td><td>0.54292</td></tr><tr><td>auc_fold_1</td><td>0.58019</td></tr><tr><td>data_structure</td><td>tabular</td></tr><tr><td>f1_fold_0</td><td>0.53674</td></tr><tr><td>f1_fold_1</td><td>0.50191</td></tr><tr><td>mean_accuracy</td><td>0.53565</td></tr><tr><td>mean_auc</td><td>0.56155</td></tr><tr><td>mean_f1</td><td>0.51932</td></tr></table><br/></div></div>"
      ],
      "text/plain": [
       "<IPython.core.display.HTML object>"
      ]
     },
     "metadata": {},
     "output_type": "display_data"
    },
    {
     "data": {
      "text/html": [
       " View run <strong style=\"color:#cdcd00\">royal-sweep-14</strong> at: <a href='https://wandb.ai/gradient_pwr/airbnb-downstream-task/runs/7fc5z1qz' target=\"_blank\">https://wandb.ai/gradient_pwr/airbnb-downstream-task/runs/7fc5z1qz</a><br/> View project at: <a href='https://wandb.ai/gradient_pwr/airbnb-downstream-task' target=\"_blank\">https://wandb.ai/gradient_pwr/airbnb-downstream-task</a><br/>Synced 5 W&B file(s), 0 media file(s), 2 artifact file(s) and 0 other file(s)"
      ],
      "text/plain": [
       "<IPython.core.display.HTML object>"
      ]
     },
     "metadata": {},
     "output_type": "display_data"
    },
    {
     "data": {
      "text/html": [
       "Find logs at: <code>./wandb/run-20240605_011536-7fc5z1qz/logs</code>"
      ],
      "text/plain": [
       "<IPython.core.display.HTML object>"
      ]
     },
     "metadata": {},
     "output_type": "display_data"
    },
    {
     "name": "stderr",
     "output_type": "stream",
     "text": [
      "\u001b[34m\u001b[1mwandb\u001b[0m: Agent Starting Run: zwf7299m with config:\n",
      "\u001b[34m\u001b[1mwandb\u001b[0m: \tC: 1.2191247439731223e-05\n",
      "\u001b[34m\u001b[1mwandb\u001b[0m: \tsolver_penalty: lbfgs;l2\n",
      "Failed to detect the name of this notebook, you can set it manually with the WANDB_NOTEBOOK_NAME environment variable to enable code saving.\n"
     ]
    },
    {
     "data": {
      "text/html": [
       "Tracking run with wandb version 0.17.0"
      ],
      "text/plain": [
       "<IPython.core.display.HTML object>"
      ]
     },
     "metadata": {},
     "output_type": "display_data"
    },
    {
     "data": {
      "text/html": [
       "Run data is saved locally in <code>/home/grymar/studia/gradient/notebooks/downstream_tasks/wandb/run-20240605_011552-zwf7299m</code>"
      ],
      "text/plain": [
       "<IPython.core.display.HTML object>"
      ]
     },
     "metadata": {},
     "output_type": "display_data"
    },
    {
     "data": {
      "text/html": [
       "Syncing run <strong><a href='https://wandb.ai/gradient_pwr/airbnb-downstream-task/runs/zwf7299m' target=\"_blank\">playful-sweep-15</a></strong> to <a href='https://wandb.ai/gradient_pwr/airbnb-downstream-task' target=\"_blank\">Weights & Biases</a> (<a href='https://wandb.me/run' target=\"_blank\">docs</a>)<br/>Sweep page: <a href='https://wandb.ai/gradient_pwr/airbnb-downstream-task/sweeps/ow0algrs' target=\"_blank\">https://wandb.ai/gradient_pwr/airbnb-downstream-task/sweeps/ow0algrs</a>"
      ],
      "text/plain": [
       "<IPython.core.display.HTML object>"
      ]
     },
     "metadata": {},
     "output_type": "display_data"
    },
    {
     "data": {
      "text/html": [
       " View project at <a href='https://wandb.ai/gradient_pwr/airbnb-downstream-task' target=\"_blank\">https://wandb.ai/gradient_pwr/airbnb-downstream-task</a>"
      ],
      "text/plain": [
       "<IPython.core.display.HTML object>"
      ]
     },
     "metadata": {},
     "output_type": "display_data"
    },
    {
     "data": {
      "text/html": [
       " View sweep at <a href='https://wandb.ai/gradient_pwr/airbnb-downstream-task/sweeps/ow0algrs' target=\"_blank\">https://wandb.ai/gradient_pwr/airbnb-downstream-task/sweeps/ow0algrs</a>"
      ],
      "text/plain": [
       "<IPython.core.display.HTML object>"
      ]
     },
     "metadata": {},
     "output_type": "display_data"
    },
    {
     "data": {
      "text/html": [
       " View run at <a href='https://wandb.ai/gradient_pwr/airbnb-downstream-task/runs/zwf7299m' target=\"_blank\">https://wandb.ai/gradient_pwr/airbnb-downstream-task/runs/zwf7299m</a>"
      ],
      "text/plain": [
       "<IPython.core.display.HTML object>"
      ]
     },
     "metadata": {},
     "output_type": "display_data"
    },
    {
     "name": "stdout",
     "output_type": "stream",
     "text": [
      "[0 1 2 3 4]\n"
     ]
    },
    {
     "name": "stderr",
     "output_type": "stream",
     "text": [
      "/home/grymar/studia/gradient/env/lib/python3.10/site-packages/sklearn/linear_model/_logistic.py:1172: UserWarning: l1_ratio parameter is only used when penalty is 'elasticnet'. Got (penalty=l2)\n",
      "  warnings.warn(\n"
     ]
    },
    {
     "name": "stdout",
     "output_type": "stream",
     "text": [
      "[0 1 2 3 4]\n",
      "(10757, 5)\n",
      "(10757, 5)\n"
     ]
    },
    {
     "name": "stderr",
     "output_type": "stream",
     "text": [
      "/home/grymar/studia/gradient/env/lib/python3.10/site-packages/sklearn/preprocessing/_encoders.py:975: FutureWarning: `sparse` was renamed to `sparse_output` in version 1.2 and will be removed in 1.4. `sparse_output` is ignored unless you leave `sparse` to its default value.\n",
      "  warnings.warn(\n"
     ]
    },
    {
     "name": "stdout",
     "output_type": "stream",
     "text": [
      "[0 1 2 3 4]\n"
     ]
    },
    {
     "name": "stderr",
     "output_type": "stream",
     "text": [
      "/home/grymar/studia/gradient/env/lib/python3.10/site-packages/sklearn/linear_model/_logistic.py:1172: UserWarning: l1_ratio parameter is only used when penalty is 'elasticnet'. Got (penalty=l2)\n",
      "  warnings.warn(\n"
     ]
    },
    {
     "name": "stdout",
     "output_type": "stream",
     "text": [
      "[0 1 2 3 4]\n",
      "(4203, 5)\n",
      "(4203, 5)\n"
     ]
    },
    {
     "name": "stderr",
     "output_type": "stream",
     "text": [
      "/home/grymar/studia/gradient/env/lib/python3.10/site-packages/sklearn/preprocessing/_encoders.py:975: FutureWarning: `sparse` was renamed to `sparse_output` in version 1.2 and will be removed in 1.4. `sparse_output` is ignored unless you leave `sparse` to its default value.\n",
      "  warnings.warn(\n"
     ]
    },
    {
     "data": {
      "application/vnd.jupyter.widget-view+json": {
       "model_id": "17abb363776b499a9321a5f313051f51",
       "version_major": 2,
       "version_minor": 0
      },
      "text/plain": [
       "VBox(children=(Label(value='0.169 MB of 0.169 MB uploaded\\r'), FloatProgress(value=1.0, max=1.0)))"
      ]
     },
     "metadata": {},
     "output_type": "display_data"
    },
    {
     "data": {
      "text/html": [
       "<style>\n",
       "    table.wandb td:nth-child(1) { padding: 0 10px; text-align: left ; width: auto;} td:nth-child(2) {text-align: left ; width: 100%}\n",
       "    .wandb-row { display: flex; flex-direction: row; flex-wrap: wrap; justify-content: flex-start; width: 100% }\n",
       "    .wandb-col { display: flex; flex-direction: column; flex-basis: 100%; flex: 1; padding: 10px; }\n",
       "    </style>\n",
       "<div class=\"wandb-row\"><div class=\"wandb-col\"><h3>Run history:</h3><br/><table class=\"wandb\"><tr><td>USE_HEXES_ATTRS</td><td>▁</td></tr><tr><td>USE_ORTOPHOTO</td><td>▁</td></tr><tr><td>USE_OSMNX_ATTRS</td><td>▁</td></tr><tr><td>accuracy_fold_0</td><td>▁</td></tr><tr><td>accuracy_fold_1</td><td>▁</td></tr><tr><td>auc_fold_0</td><td>▁</td></tr><tr><td>auc_fold_1</td><td>▁</td></tr><tr><td>f1_fold_0</td><td>▁</td></tr><tr><td>f1_fold_1</td><td>▁</td></tr><tr><td>mean_accuracy</td><td>▁</td></tr><tr><td>mean_auc</td><td>▁</td></tr><tr><td>mean_f1</td><td>▁</td></tr></table><br/></div><div class=\"wandb-col\"><h3>Run summary:</h3><br/><table class=\"wandb\"><tr><td>USE_HEXES_ATTRS</td><td>1</td></tr><tr><td>USE_ORTOPHOTO</td><td>0</td></tr><tr><td>USE_OSMNX_ATTRS</td><td>0</td></tr><tr><td>accuracy_fold_0</td><td>0.59254</td></tr><tr><td>accuracy_fold_1</td><td>0.47799</td></tr><tr><td>auc_fold_0</td><td>0.54292</td></tr><tr><td>auc_fold_1</td><td>0.5786</td></tr><tr><td>data_structure</td><td>tabular</td></tr><tr><td>f1_fold_0</td><td>0.53614</td></tr><tr><td>f1_fold_1</td><td>0.5023</td></tr><tr><td>mean_accuracy</td><td>0.53527</td></tr><tr><td>mean_auc</td><td>0.56076</td></tr><tr><td>mean_f1</td><td>0.51922</td></tr></table><br/></div></div>"
      ],
      "text/plain": [
       "<IPython.core.display.HTML object>"
      ]
     },
     "metadata": {},
     "output_type": "display_data"
    },
    {
     "data": {
      "text/html": [
       " View run <strong style=\"color:#cdcd00\">playful-sweep-15</strong> at: <a href='https://wandb.ai/gradient_pwr/airbnb-downstream-task/runs/zwf7299m' target=\"_blank\">https://wandb.ai/gradient_pwr/airbnb-downstream-task/runs/zwf7299m</a><br/> View project at: <a href='https://wandb.ai/gradient_pwr/airbnb-downstream-task' target=\"_blank\">https://wandb.ai/gradient_pwr/airbnb-downstream-task</a><br/>Synced 5 W&B file(s), 0 media file(s), 2 artifact file(s) and 0 other file(s)"
      ],
      "text/plain": [
       "<IPython.core.display.HTML object>"
      ]
     },
     "metadata": {},
     "output_type": "display_data"
    },
    {
     "data": {
      "text/html": [
       "Find logs at: <code>./wandb/run-20240605_011552-zwf7299m/logs</code>"
      ],
      "text/plain": [
       "<IPython.core.display.HTML object>"
      ]
     },
     "metadata": {},
     "output_type": "display_data"
    },
    {
     "name": "stderr",
     "output_type": "stream",
     "text": [
      "\u001b[34m\u001b[1mwandb\u001b[0m: Sweep Agent: Waiting for job.\n",
      "\u001b[34m\u001b[1mwandb\u001b[0m: Job received.\n",
      "\u001b[34m\u001b[1mwandb\u001b[0m: Agent Starting Run: asrjaijx with config:\n",
      "\u001b[34m\u001b[1mwandb\u001b[0m: \tC: 3.688981417010851e-05\n",
      "\u001b[34m\u001b[1mwandb\u001b[0m: \tsolver_penalty: lbfgs;l2\n",
      "Failed to detect the name of this notebook, you can set it manually with the WANDB_NOTEBOOK_NAME environment variable to enable code saving.\n"
     ]
    },
    {
     "data": {
      "text/html": [
       "Tracking run with wandb version 0.17.0"
      ],
      "text/plain": [
       "<IPython.core.display.HTML object>"
      ]
     },
     "metadata": {},
     "output_type": "display_data"
    },
    {
     "data": {
      "text/html": [
       "Run data is saved locally in <code>/home/grymar/studia/gradient/notebooks/downstream_tasks/wandb/run-20240605_011614-asrjaijx</code>"
      ],
      "text/plain": [
       "<IPython.core.display.HTML object>"
      ]
     },
     "metadata": {},
     "output_type": "display_data"
    },
    {
     "data": {
      "text/html": [
       "Syncing run <strong><a href='https://wandb.ai/gradient_pwr/airbnb-downstream-task/runs/asrjaijx' target=\"_blank\">frosty-sweep-16</a></strong> to <a href='https://wandb.ai/gradient_pwr/airbnb-downstream-task' target=\"_blank\">Weights & Biases</a> (<a href='https://wandb.me/run' target=\"_blank\">docs</a>)<br/>Sweep page: <a href='https://wandb.ai/gradient_pwr/airbnb-downstream-task/sweeps/ow0algrs' target=\"_blank\">https://wandb.ai/gradient_pwr/airbnb-downstream-task/sweeps/ow0algrs</a>"
      ],
      "text/plain": [
       "<IPython.core.display.HTML object>"
      ]
     },
     "metadata": {},
     "output_type": "display_data"
    },
    {
     "data": {
      "text/html": [
       " View project at <a href='https://wandb.ai/gradient_pwr/airbnb-downstream-task' target=\"_blank\">https://wandb.ai/gradient_pwr/airbnb-downstream-task</a>"
      ],
      "text/plain": [
       "<IPython.core.display.HTML object>"
      ]
     },
     "metadata": {},
     "output_type": "display_data"
    },
    {
     "data": {
      "text/html": [
       " View sweep at <a href='https://wandb.ai/gradient_pwr/airbnb-downstream-task/sweeps/ow0algrs' target=\"_blank\">https://wandb.ai/gradient_pwr/airbnb-downstream-task/sweeps/ow0algrs</a>"
      ],
      "text/plain": [
       "<IPython.core.display.HTML object>"
      ]
     },
     "metadata": {},
     "output_type": "display_data"
    },
    {
     "data": {
      "text/html": [
       " View run at <a href='https://wandb.ai/gradient_pwr/airbnb-downstream-task/runs/asrjaijx' target=\"_blank\">https://wandb.ai/gradient_pwr/airbnb-downstream-task/runs/asrjaijx</a>"
      ],
      "text/plain": [
       "<IPython.core.display.HTML object>"
      ]
     },
     "metadata": {},
     "output_type": "display_data"
    },
    {
     "name": "stdout",
     "output_type": "stream",
     "text": [
      "[0 1 2 3 4]\n"
     ]
    },
    {
     "name": "stderr",
     "output_type": "stream",
     "text": [
      "/home/grymar/studia/gradient/env/lib/python3.10/site-packages/sklearn/linear_model/_logistic.py:1172: UserWarning: l1_ratio parameter is only used when penalty is 'elasticnet'. Got (penalty=l2)\n",
      "  warnings.warn(\n"
     ]
    },
    {
     "name": "stdout",
     "output_type": "stream",
     "text": [
      "[0 1 2 3 4]\n",
      "(10757, 5)\n",
      "(10757, 5)\n"
     ]
    },
    {
     "name": "stderr",
     "output_type": "stream",
     "text": [
      "/home/grymar/studia/gradient/env/lib/python3.10/site-packages/sklearn/preprocessing/_encoders.py:975: FutureWarning: `sparse` was renamed to `sparse_output` in version 1.2 and will be removed in 1.4. `sparse_output` is ignored unless you leave `sparse` to its default value.\n",
      "  warnings.warn(\n"
     ]
    },
    {
     "name": "stdout",
     "output_type": "stream",
     "text": [
      "[0 1 2 3 4]\n"
     ]
    },
    {
     "name": "stderr",
     "output_type": "stream",
     "text": [
      "/home/grymar/studia/gradient/env/lib/python3.10/site-packages/sklearn/linear_model/_logistic.py:1172: UserWarning: l1_ratio parameter is only used when penalty is 'elasticnet'. Got (penalty=l2)\n",
      "  warnings.warn(\n"
     ]
    },
    {
     "name": "stdout",
     "output_type": "stream",
     "text": [
      "[0 1 2 3 4]\n",
      "(4203, 5)\n",
      "(4203, 5)\n"
     ]
    },
    {
     "name": "stderr",
     "output_type": "stream",
     "text": [
      "/home/grymar/studia/gradient/env/lib/python3.10/site-packages/sklearn/preprocessing/_encoders.py:975: FutureWarning: `sparse` was renamed to `sparse_output` in version 1.2 and will be removed in 1.4. `sparse_output` is ignored unless you leave `sparse` to its default value.\n",
      "  warnings.warn(\n"
     ]
    },
    {
     "data": {
      "application/vnd.jupyter.widget-view+json": {
       "model_id": "9ed1bfe7939641f8b0018239b122165d",
       "version_major": 2,
       "version_minor": 0
      },
      "text/plain": [
       "VBox(children=(Label(value='0.169 MB of 0.169 MB uploaded\\r'), FloatProgress(value=1.0, max=1.0)))"
      ]
     },
     "metadata": {},
     "output_type": "display_data"
    },
    {
     "data": {
      "text/html": [
       "<style>\n",
       "    table.wandb td:nth-child(1) { padding: 0 10px; text-align: left ; width: auto;} td:nth-child(2) {text-align: left ; width: 100%}\n",
       "    .wandb-row { display: flex; flex-direction: row; flex-wrap: wrap; justify-content: flex-start; width: 100% }\n",
       "    .wandb-col { display: flex; flex-direction: column; flex-basis: 100%; flex: 1; padding: 10px; }\n",
       "    </style>\n",
       "<div class=\"wandb-row\"><div class=\"wandb-col\"><h3>Run history:</h3><br/><table class=\"wandb\"><tr><td>USE_HEXES_ATTRS</td><td>▁</td></tr><tr><td>USE_ORTOPHOTO</td><td>▁</td></tr><tr><td>USE_OSMNX_ATTRS</td><td>▁</td></tr><tr><td>accuracy_fold_0</td><td>▁</td></tr><tr><td>accuracy_fold_1</td><td>▁</td></tr><tr><td>auc_fold_0</td><td>▁</td></tr><tr><td>auc_fold_1</td><td>▁</td></tr><tr><td>f1_fold_0</td><td>▁</td></tr><tr><td>f1_fold_1</td><td>▁</td></tr><tr><td>mean_accuracy</td><td>▁</td></tr><tr><td>mean_auc</td><td>▁</td></tr><tr><td>mean_f1</td><td>▁</td></tr></table><br/></div><div class=\"wandb-col\"><h3>Run summary:</h3><br/><table class=\"wandb\"><tr><td>USE_HEXES_ATTRS</td><td>1</td></tr><tr><td>USE_ORTOPHOTO</td><td>0</td></tr><tr><td>USE_OSMNX_ATTRS</td><td>0</td></tr><tr><td>accuracy_fold_0</td><td>0.56531</td></tr><tr><td>accuracy_fold_1</td><td>0.50036</td></tr><tr><td>auc_fold_0</td><td>0.54386</td></tr><tr><td>auc_fold_1</td><td>0.53889</td></tr><tr><td>data_structure</td><td>tabular</td></tr><tr><td>f1_fold_0</td><td>0.52418</td></tr><tr><td>f1_fold_1</td><td>0.51032</td></tr><tr><td>mean_accuracy</td><td>0.53283</td></tr><tr><td>mean_auc</td><td>0.54138</td></tr><tr><td>mean_f1</td><td>0.51725</td></tr></table><br/></div></div>"
      ],
      "text/plain": [
       "<IPython.core.display.HTML object>"
      ]
     },
     "metadata": {},
     "output_type": "display_data"
    },
    {
     "data": {
      "text/html": [
       " View run <strong style=\"color:#cdcd00\">frosty-sweep-16</strong> at: <a href='https://wandb.ai/gradient_pwr/airbnb-downstream-task/runs/asrjaijx' target=\"_blank\">https://wandb.ai/gradient_pwr/airbnb-downstream-task/runs/asrjaijx</a><br/> View project at: <a href='https://wandb.ai/gradient_pwr/airbnb-downstream-task' target=\"_blank\">https://wandb.ai/gradient_pwr/airbnb-downstream-task</a><br/>Synced 5 W&B file(s), 0 media file(s), 2 artifact file(s) and 0 other file(s)"
      ],
      "text/plain": [
       "<IPython.core.display.HTML object>"
      ]
     },
     "metadata": {},
     "output_type": "display_data"
    },
    {
     "data": {
      "text/html": [
       "Find logs at: <code>./wandb/run-20240605_011614-asrjaijx/logs</code>"
      ],
      "text/plain": [
       "<IPython.core.display.HTML object>"
      ]
     },
     "metadata": {},
     "output_type": "display_data"
    },
    {
     "name": "stderr",
     "output_type": "stream",
     "text": [
      "\u001b[34m\u001b[1mwandb\u001b[0m: Agent Starting Run: cps81nsw with config:\n",
      "\u001b[34m\u001b[1mwandb\u001b[0m: \tC: 3.510140736700166e-05\n",
      "\u001b[34m\u001b[1mwandb\u001b[0m: \tsolver_penalty: lbfgs;l2\n",
      "Failed to detect the name of this notebook, you can set it manually with the WANDB_NOTEBOOK_NAME environment variable to enable code saving.\n"
     ]
    },
    {
     "data": {
      "text/html": [
       "Tracking run with wandb version 0.17.0"
      ],
      "text/plain": [
       "<IPython.core.display.HTML object>"
      ]
     },
     "metadata": {},
     "output_type": "display_data"
    },
    {
     "data": {
      "text/html": [
       "Run data is saved locally in <code>/home/grymar/studia/gradient/notebooks/downstream_tasks/wandb/run-20240605_011630-cps81nsw</code>"
      ],
      "text/plain": [
       "<IPython.core.display.HTML object>"
      ]
     },
     "metadata": {},
     "output_type": "display_data"
    },
    {
     "data": {
      "text/html": [
       "Syncing run <strong><a href='https://wandb.ai/gradient_pwr/airbnb-downstream-task/runs/cps81nsw' target=\"_blank\">dandy-sweep-17</a></strong> to <a href='https://wandb.ai/gradient_pwr/airbnb-downstream-task' target=\"_blank\">Weights & Biases</a> (<a href='https://wandb.me/run' target=\"_blank\">docs</a>)<br/>Sweep page: <a href='https://wandb.ai/gradient_pwr/airbnb-downstream-task/sweeps/ow0algrs' target=\"_blank\">https://wandb.ai/gradient_pwr/airbnb-downstream-task/sweeps/ow0algrs</a>"
      ],
      "text/plain": [
       "<IPython.core.display.HTML object>"
      ]
     },
     "metadata": {},
     "output_type": "display_data"
    },
    {
     "data": {
      "text/html": [
       " View project at <a href='https://wandb.ai/gradient_pwr/airbnb-downstream-task' target=\"_blank\">https://wandb.ai/gradient_pwr/airbnb-downstream-task</a>"
      ],
      "text/plain": [
       "<IPython.core.display.HTML object>"
      ]
     },
     "metadata": {},
     "output_type": "display_data"
    },
    {
     "data": {
      "text/html": [
       " View sweep at <a href='https://wandb.ai/gradient_pwr/airbnb-downstream-task/sweeps/ow0algrs' target=\"_blank\">https://wandb.ai/gradient_pwr/airbnb-downstream-task/sweeps/ow0algrs</a>"
      ],
      "text/plain": [
       "<IPython.core.display.HTML object>"
      ]
     },
     "metadata": {},
     "output_type": "display_data"
    },
    {
     "data": {
      "text/html": [
       " View run at <a href='https://wandb.ai/gradient_pwr/airbnb-downstream-task/runs/cps81nsw' target=\"_blank\">https://wandb.ai/gradient_pwr/airbnb-downstream-task/runs/cps81nsw</a>"
      ],
      "text/plain": [
       "<IPython.core.display.HTML object>"
      ]
     },
     "metadata": {},
     "output_type": "display_data"
    },
    {
     "name": "stdout",
     "output_type": "stream",
     "text": [
      "[0 1 2 3 4]\n"
     ]
    },
    {
     "name": "stderr",
     "output_type": "stream",
     "text": [
      "/home/grymar/studia/gradient/env/lib/python3.10/site-packages/sklearn/linear_model/_logistic.py:1172: UserWarning: l1_ratio parameter is only used when penalty is 'elasticnet'. Got (penalty=l2)\n",
      "  warnings.warn(\n"
     ]
    },
    {
     "name": "stdout",
     "output_type": "stream",
     "text": [
      "[0 1 2 3 4]\n",
      "(10757, 5)\n",
      "(10757, 5)\n"
     ]
    },
    {
     "name": "stderr",
     "output_type": "stream",
     "text": [
      "/home/grymar/studia/gradient/env/lib/python3.10/site-packages/sklearn/preprocessing/_encoders.py:975: FutureWarning: `sparse` was renamed to `sparse_output` in version 1.2 and will be removed in 1.4. `sparse_output` is ignored unless you leave `sparse` to its default value.\n",
      "  warnings.warn(\n"
     ]
    },
    {
     "name": "stdout",
     "output_type": "stream",
     "text": [
      "[0 1 2 3 4]\n"
     ]
    },
    {
     "name": "stderr",
     "output_type": "stream",
     "text": [
      "/home/grymar/studia/gradient/env/lib/python3.10/site-packages/sklearn/linear_model/_logistic.py:1172: UserWarning: l1_ratio parameter is only used when penalty is 'elasticnet'. Got (penalty=l2)\n",
      "  warnings.warn(\n"
     ]
    },
    {
     "name": "stdout",
     "output_type": "stream",
     "text": [
      "[0 1 2 3 4]\n",
      "(4203, 5)\n",
      "(4203, 5)\n"
     ]
    },
    {
     "name": "stderr",
     "output_type": "stream",
     "text": [
      "/home/grymar/studia/gradient/env/lib/python3.10/site-packages/sklearn/preprocessing/_encoders.py:975: FutureWarning: `sparse` was renamed to `sparse_output` in version 1.2 and will be removed in 1.4. `sparse_output` is ignored unless you leave `sparse` to its default value.\n",
      "  warnings.warn(\n"
     ]
    },
    {
     "data": {
      "application/vnd.jupyter.widget-view+json": {
       "model_id": "67d3b7d1f6f64b4897eea0e93f16b902",
       "version_major": 2,
       "version_minor": 0
      },
      "text/plain": [
       "VBox(children=(Label(value='0.169 MB of 0.169 MB uploaded\\r'), FloatProgress(value=1.0, max=1.0)))"
      ]
     },
     "metadata": {},
     "output_type": "display_data"
    },
    {
     "data": {
      "text/html": [
       "<style>\n",
       "    table.wandb td:nth-child(1) { padding: 0 10px; text-align: left ; width: auto;} td:nth-child(2) {text-align: left ; width: 100%}\n",
       "    .wandb-row { display: flex; flex-direction: row; flex-wrap: wrap; justify-content: flex-start; width: 100% }\n",
       "    .wandb-col { display: flex; flex-direction: column; flex-basis: 100%; flex: 1; padding: 10px; }\n",
       "    </style>\n",
       "<div class=\"wandb-row\"><div class=\"wandb-col\"><h3>Run history:</h3><br/><table class=\"wandb\"><tr><td>USE_HEXES_ATTRS</td><td>▁</td></tr><tr><td>USE_ORTOPHOTO</td><td>▁</td></tr><tr><td>USE_OSMNX_ATTRS</td><td>▁</td></tr><tr><td>accuracy_fold_0</td><td>▁</td></tr><tr><td>accuracy_fold_1</td><td>▁</td></tr><tr><td>auc_fold_0</td><td>▁</td></tr><tr><td>auc_fold_1</td><td>▁</td></tr><tr><td>f1_fold_0</td><td>▁</td></tr><tr><td>f1_fold_1</td><td>▁</td></tr><tr><td>mean_accuracy</td><td>▁</td></tr><tr><td>mean_auc</td><td>▁</td></tr><tr><td>mean_f1</td><td>▁</td></tr></table><br/></div><div class=\"wandb-col\"><h3>Run summary:</h3><br/><table class=\"wandb\"><tr><td>USE_HEXES_ATTRS</td><td>1</td></tr><tr><td>USE_ORTOPHOTO</td><td>0</td></tr><tr><td>USE_OSMNX_ATTRS</td><td>0</td></tr><tr><td>accuracy_fold_0</td><td>0.56717</td></tr><tr><td>accuracy_fold_1</td><td>0.49845</td></tr><tr><td>auc_fold_0</td><td>0.54402</td></tr><tr><td>auc_fold_1</td><td>0.54014</td></tr><tr><td>data_structure</td><td>tabular</td></tr><tr><td>f1_fold_0</td><td>0.52524</td></tr><tr><td>f1_fold_1</td><td>0.50911</td></tr><tr><td>mean_accuracy</td><td>0.53281</td></tr><tr><td>mean_auc</td><td>0.54208</td></tr><tr><td>mean_f1</td><td>0.51717</td></tr></table><br/></div></div>"
      ],
      "text/plain": [
       "<IPython.core.display.HTML object>"
      ]
     },
     "metadata": {},
     "output_type": "display_data"
    },
    {
     "data": {
      "text/html": [
       " View run <strong style=\"color:#cdcd00\">dandy-sweep-17</strong> at: <a href='https://wandb.ai/gradient_pwr/airbnb-downstream-task/runs/cps81nsw' target=\"_blank\">https://wandb.ai/gradient_pwr/airbnb-downstream-task/runs/cps81nsw</a><br/> View project at: <a href='https://wandb.ai/gradient_pwr/airbnb-downstream-task' target=\"_blank\">https://wandb.ai/gradient_pwr/airbnb-downstream-task</a><br/>Synced 5 W&B file(s), 0 media file(s), 2 artifact file(s) and 0 other file(s)"
      ],
      "text/plain": [
       "<IPython.core.display.HTML object>"
      ]
     },
     "metadata": {},
     "output_type": "display_data"
    },
    {
     "data": {
      "text/html": [
       "Find logs at: <code>./wandb/run-20240605_011630-cps81nsw/logs</code>"
      ],
      "text/plain": [
       "<IPython.core.display.HTML object>"
      ]
     },
     "metadata": {},
     "output_type": "display_data"
    },
    {
     "name": "stderr",
     "output_type": "stream",
     "text": [
      "\u001b[34m\u001b[1mwandb\u001b[0m: Sweep Agent: Waiting for job.\n",
      "\u001b[34m\u001b[1mwandb\u001b[0m: Job received.\n",
      "\u001b[34m\u001b[1mwandb\u001b[0m: Agent Starting Run: l8hvah1q with config:\n",
      "\u001b[34m\u001b[1mwandb\u001b[0m: \tC: 2.5322322561993265e-05\n",
      "\u001b[34m\u001b[1mwandb\u001b[0m: \tsolver_penalty: lbfgs;l2\n",
      "Failed to detect the name of this notebook, you can set it manually with the WANDB_NOTEBOOK_NAME environment variable to enable code saving.\n"
     ]
    },
    {
     "data": {
      "text/html": [
       "Tracking run with wandb version 0.17.0"
      ],
      "text/plain": [
       "<IPython.core.display.HTML object>"
      ]
     },
     "metadata": {},
     "output_type": "display_data"
    },
    {
     "data": {
      "text/html": [
       "Run data is saved locally in <code>/home/grymar/studia/gradient/notebooks/downstream_tasks/wandb/run-20240605_011655-l8hvah1q</code>"
      ],
      "text/plain": [
       "<IPython.core.display.HTML object>"
      ]
     },
     "metadata": {},
     "output_type": "display_data"
    },
    {
     "data": {
      "text/html": [
       "Syncing run <strong><a href='https://wandb.ai/gradient_pwr/airbnb-downstream-task/runs/l8hvah1q' target=\"_blank\">expert-sweep-18</a></strong> to <a href='https://wandb.ai/gradient_pwr/airbnb-downstream-task' target=\"_blank\">Weights & Biases</a> (<a href='https://wandb.me/run' target=\"_blank\">docs</a>)<br/>Sweep page: <a href='https://wandb.ai/gradient_pwr/airbnb-downstream-task/sweeps/ow0algrs' target=\"_blank\">https://wandb.ai/gradient_pwr/airbnb-downstream-task/sweeps/ow0algrs</a>"
      ],
      "text/plain": [
       "<IPython.core.display.HTML object>"
      ]
     },
     "metadata": {},
     "output_type": "display_data"
    },
    {
     "data": {
      "text/html": [
       " View project at <a href='https://wandb.ai/gradient_pwr/airbnb-downstream-task' target=\"_blank\">https://wandb.ai/gradient_pwr/airbnb-downstream-task</a>"
      ],
      "text/plain": [
       "<IPython.core.display.HTML object>"
      ]
     },
     "metadata": {},
     "output_type": "display_data"
    },
    {
     "data": {
      "text/html": [
       " View sweep at <a href='https://wandb.ai/gradient_pwr/airbnb-downstream-task/sweeps/ow0algrs' target=\"_blank\">https://wandb.ai/gradient_pwr/airbnb-downstream-task/sweeps/ow0algrs</a>"
      ],
      "text/plain": [
       "<IPython.core.display.HTML object>"
      ]
     },
     "metadata": {},
     "output_type": "display_data"
    },
    {
     "data": {
      "text/html": [
       " View run at <a href='https://wandb.ai/gradient_pwr/airbnb-downstream-task/runs/l8hvah1q' target=\"_blank\">https://wandb.ai/gradient_pwr/airbnb-downstream-task/runs/l8hvah1q</a>"
      ],
      "text/plain": [
       "<IPython.core.display.HTML object>"
      ]
     },
     "metadata": {},
     "output_type": "display_data"
    },
    {
     "name": "stdout",
     "output_type": "stream",
     "text": [
      "[0 1 2 3 4]\n"
     ]
    },
    {
     "name": "stderr",
     "output_type": "stream",
     "text": [
      "/home/grymar/studia/gradient/env/lib/python3.10/site-packages/sklearn/linear_model/_logistic.py:1172: UserWarning: l1_ratio parameter is only used when penalty is 'elasticnet'. Got (penalty=l2)\n",
      "  warnings.warn(\n"
     ]
    },
    {
     "name": "stdout",
     "output_type": "stream",
     "text": [
      "[0 1 2 3 4]\n",
      "(10757, 5)\n",
      "(10757, 5)\n"
     ]
    },
    {
     "name": "stderr",
     "output_type": "stream",
     "text": [
      "/home/grymar/studia/gradient/env/lib/python3.10/site-packages/sklearn/preprocessing/_encoders.py:975: FutureWarning: `sparse` was renamed to `sparse_output` in version 1.2 and will be removed in 1.4. `sparse_output` is ignored unless you leave `sparse` to its default value.\n",
      "  warnings.warn(\n"
     ]
    },
    {
     "name": "stdout",
     "output_type": "stream",
     "text": [
      "[0 1 2 3 4]\n"
     ]
    },
    {
     "name": "stderr",
     "output_type": "stream",
     "text": [
      "/home/grymar/studia/gradient/env/lib/python3.10/site-packages/sklearn/linear_model/_logistic.py:1172: UserWarning: l1_ratio parameter is only used when penalty is 'elasticnet'. Got (penalty=l2)\n",
      "  warnings.warn(\n"
     ]
    },
    {
     "name": "stdout",
     "output_type": "stream",
     "text": [
      "[0 1 2 3 4]\n",
      "(4203, 5)\n",
      "(4203, 5)\n"
     ]
    },
    {
     "name": "stderr",
     "output_type": "stream",
     "text": [
      "/home/grymar/studia/gradient/env/lib/python3.10/site-packages/sklearn/preprocessing/_encoders.py:975: FutureWarning: `sparse` was renamed to `sparse_output` in version 1.2 and will be removed in 1.4. `sparse_output` is ignored unless you leave `sparse` to its default value.\n",
      "  warnings.warn(\n"
     ]
    },
    {
     "data": {
      "application/vnd.jupyter.widget-view+json": {
       "model_id": "39853a813f5f4aff82e7a381c64695c6",
       "version_major": 2,
       "version_minor": 0
      },
      "text/plain": [
       "VBox(children=(Label(value='0.169 MB of 0.169 MB uploaded\\r'), FloatProgress(value=1.0, max=1.0)))"
      ]
     },
     "metadata": {},
     "output_type": "display_data"
    },
    {
     "data": {
      "text/html": [
       "<style>\n",
       "    table.wandb td:nth-child(1) { padding: 0 10px; text-align: left ; width: auto;} td:nth-child(2) {text-align: left ; width: 100%}\n",
       "    .wandb-row { display: flex; flex-direction: row; flex-wrap: wrap; justify-content: flex-start; width: 100% }\n",
       "    .wandb-col { display: flex; flex-direction: column; flex-basis: 100%; flex: 1; padding: 10px; }\n",
       "    </style>\n",
       "<div class=\"wandb-row\"><div class=\"wandb-col\"><h3>Run history:</h3><br/><table class=\"wandb\"><tr><td>USE_HEXES_ATTRS</td><td>▁</td></tr><tr><td>USE_ORTOPHOTO</td><td>▁</td></tr><tr><td>USE_OSMNX_ATTRS</td><td>▁</td></tr><tr><td>accuracy_fold_0</td><td>▁</td></tr><tr><td>accuracy_fold_1</td><td>▁</td></tr><tr><td>auc_fold_0</td><td>▁</td></tr><tr><td>auc_fold_1</td><td>▁</td></tr><tr><td>f1_fold_0</td><td>▁</td></tr><tr><td>f1_fold_1</td><td>▁</td></tr><tr><td>mean_accuracy</td><td>▁</td></tr><tr><td>mean_auc</td><td>▁</td></tr><tr><td>mean_f1</td><td>▁</td></tr></table><br/></div><div class=\"wandb-col\"><h3>Run summary:</h3><br/><table class=\"wandb\"><tr><td>USE_HEXES_ATTRS</td><td>1</td></tr><tr><td>USE_ORTOPHOTO</td><td>0</td></tr><tr><td>USE_OSMNX_ATTRS</td><td>0</td></tr><tr><td>accuracy_fold_0</td><td>0.57655</td></tr><tr><td>accuracy_fold_1</td><td>0.49322</td></tr><tr><td>auc_fold_0</td><td>0.5433</td></tr><tr><td>auc_fold_1</td><td>0.55208</td></tr><tr><td>data_structure</td><td>tabular</td></tr><tr><td>f1_fold_0</td><td>0.52951</td></tr><tr><td>f1_fold_1</td><td>0.50902</td></tr><tr><td>mean_accuracy</td><td>0.53489</td></tr><tr><td>mean_auc</td><td>0.54769</td></tr><tr><td>mean_f1</td><td>0.51927</td></tr></table><br/></div></div>"
      ],
      "text/plain": [
       "<IPython.core.display.HTML object>"
      ]
     },
     "metadata": {},
     "output_type": "display_data"
    },
    {
     "data": {
      "text/html": [
       " View run <strong style=\"color:#cdcd00\">expert-sweep-18</strong> at: <a href='https://wandb.ai/gradient_pwr/airbnb-downstream-task/runs/l8hvah1q' target=\"_blank\">https://wandb.ai/gradient_pwr/airbnb-downstream-task/runs/l8hvah1q</a><br/> View project at: <a href='https://wandb.ai/gradient_pwr/airbnb-downstream-task' target=\"_blank\">https://wandb.ai/gradient_pwr/airbnb-downstream-task</a><br/>Synced 5 W&B file(s), 0 media file(s), 2 artifact file(s) and 0 other file(s)"
      ],
      "text/plain": [
       "<IPython.core.display.HTML object>"
      ]
     },
     "metadata": {},
     "output_type": "display_data"
    },
    {
     "data": {
      "text/html": [
       "Find logs at: <code>./wandb/run-20240605_011655-l8hvah1q/logs</code>"
      ],
      "text/plain": [
       "<IPython.core.display.HTML object>"
      ]
     },
     "metadata": {},
     "output_type": "display_data"
    },
    {
     "name": "stderr",
     "output_type": "stream",
     "text": [
      "\u001b[34m\u001b[1mwandb\u001b[0m: Agent Starting Run: xy599sj7 with config:\n",
      "\u001b[34m\u001b[1mwandb\u001b[0m: \tC: 1.7669549791192874e-05\n",
      "\u001b[34m\u001b[1mwandb\u001b[0m: \tsolver_penalty: lbfgs;l2\n",
      "Failed to detect the name of this notebook, you can set it manually with the WANDB_NOTEBOOK_NAME environment variable to enable code saving.\n"
     ]
    },
    {
     "data": {
      "text/html": [
       "Tracking run with wandb version 0.17.0"
      ],
      "text/plain": [
       "<IPython.core.display.HTML object>"
      ]
     },
     "metadata": {},
     "output_type": "display_data"
    },
    {
     "data": {
      "text/html": [
       "Run data is saved locally in <code>/home/grymar/studia/gradient/notebooks/downstream_tasks/wandb/run-20240605_011712-xy599sj7</code>"
      ],
      "text/plain": [
       "<IPython.core.display.HTML object>"
      ]
     },
     "metadata": {},
     "output_type": "display_data"
    },
    {
     "data": {
      "text/html": [
       "Syncing run <strong><a href='https://wandb.ai/gradient_pwr/airbnb-downstream-task/runs/xy599sj7' target=\"_blank\">fearless-sweep-19</a></strong> to <a href='https://wandb.ai/gradient_pwr/airbnb-downstream-task' target=\"_blank\">Weights & Biases</a> (<a href='https://wandb.me/run' target=\"_blank\">docs</a>)<br/>Sweep page: <a href='https://wandb.ai/gradient_pwr/airbnb-downstream-task/sweeps/ow0algrs' target=\"_blank\">https://wandb.ai/gradient_pwr/airbnb-downstream-task/sweeps/ow0algrs</a>"
      ],
      "text/plain": [
       "<IPython.core.display.HTML object>"
      ]
     },
     "metadata": {},
     "output_type": "display_data"
    },
    {
     "data": {
      "text/html": [
       " View project at <a href='https://wandb.ai/gradient_pwr/airbnb-downstream-task' target=\"_blank\">https://wandb.ai/gradient_pwr/airbnb-downstream-task</a>"
      ],
      "text/plain": [
       "<IPython.core.display.HTML object>"
      ]
     },
     "metadata": {},
     "output_type": "display_data"
    },
    {
     "data": {
      "text/html": [
       " View sweep at <a href='https://wandb.ai/gradient_pwr/airbnb-downstream-task/sweeps/ow0algrs' target=\"_blank\">https://wandb.ai/gradient_pwr/airbnb-downstream-task/sweeps/ow0algrs</a>"
      ],
      "text/plain": [
       "<IPython.core.display.HTML object>"
      ]
     },
     "metadata": {},
     "output_type": "display_data"
    },
    {
     "data": {
      "text/html": [
       " View run at <a href='https://wandb.ai/gradient_pwr/airbnb-downstream-task/runs/xy599sj7' target=\"_blank\">https://wandb.ai/gradient_pwr/airbnb-downstream-task/runs/xy599sj7</a>"
      ],
      "text/plain": [
       "<IPython.core.display.HTML object>"
      ]
     },
     "metadata": {},
     "output_type": "display_data"
    },
    {
     "name": "stdout",
     "output_type": "stream",
     "text": [
      "[0 1 2 3 4]\n"
     ]
    },
    {
     "name": "stderr",
     "output_type": "stream",
     "text": [
      "/home/grymar/studia/gradient/env/lib/python3.10/site-packages/sklearn/linear_model/_logistic.py:1172: UserWarning: l1_ratio parameter is only used when penalty is 'elasticnet'. Got (penalty=l2)\n",
      "  warnings.warn(\n"
     ]
    },
    {
     "name": "stdout",
     "output_type": "stream",
     "text": [
      "[0 1 2 3 4]\n",
      "(10757, 5)\n",
      "(10757, 5)\n"
     ]
    },
    {
     "name": "stderr",
     "output_type": "stream",
     "text": [
      "/home/grymar/studia/gradient/env/lib/python3.10/site-packages/sklearn/preprocessing/_encoders.py:975: FutureWarning: `sparse` was renamed to `sparse_output` in version 1.2 and will be removed in 1.4. `sparse_output` is ignored unless you leave `sparse` to its default value.\n",
      "  warnings.warn(\n"
     ]
    },
    {
     "name": "stdout",
     "output_type": "stream",
     "text": [
      "[0 1 2 3 4]\n"
     ]
    },
    {
     "name": "stderr",
     "output_type": "stream",
     "text": [
      "/home/grymar/studia/gradient/env/lib/python3.10/site-packages/sklearn/linear_model/_logistic.py:1172: UserWarning: l1_ratio parameter is only used when penalty is 'elasticnet'. Got (penalty=l2)\n",
      "  warnings.warn(\n"
     ]
    },
    {
     "name": "stdout",
     "output_type": "stream",
     "text": [
      "[0 1 2 3 4]\n",
      "(4203, 5)\n",
      "(4203, 5)\n"
     ]
    },
    {
     "name": "stderr",
     "output_type": "stream",
     "text": [
      "/home/grymar/studia/gradient/env/lib/python3.10/site-packages/sklearn/preprocessing/_encoders.py:975: FutureWarning: `sparse` was renamed to `sparse_output` in version 1.2 and will be removed in 1.4. `sparse_output` is ignored unless you leave `sparse` to its default value.\n",
      "  warnings.warn(\n"
     ]
    },
    {
     "data": {
      "application/vnd.jupyter.widget-view+json": {
       "model_id": "b7b47ad7d5444478b964f12c45454d9e",
       "version_major": 2,
       "version_minor": 0
      },
      "text/plain": [
       "VBox(children=(Label(value='0.169 MB of 0.169 MB uploaded\\r'), FloatProgress(value=1.0, max=1.0)))"
      ]
     },
     "metadata": {},
     "output_type": "display_data"
    },
    {
     "data": {
      "text/html": [
       "<style>\n",
       "    table.wandb td:nth-child(1) { padding: 0 10px; text-align: left ; width: auto;} td:nth-child(2) {text-align: left ; width: 100%}\n",
       "    .wandb-row { display: flex; flex-direction: row; flex-wrap: wrap; justify-content: flex-start; width: 100% }\n",
       "    .wandb-col { display: flex; flex-direction: column; flex-basis: 100%; flex: 1; padding: 10px; }\n",
       "    </style>\n",
       "<div class=\"wandb-row\"><div class=\"wandb-col\"><h3>Run history:</h3><br/><table class=\"wandb\"><tr><td>USE_HEXES_ATTRS</td><td>▁</td></tr><tr><td>USE_ORTOPHOTO</td><td>▁</td></tr><tr><td>USE_OSMNX_ATTRS</td><td>▁</td></tr><tr><td>accuracy_fold_0</td><td>▁</td></tr><tr><td>accuracy_fold_1</td><td>▁</td></tr><tr><td>auc_fold_0</td><td>▁</td></tr><tr><td>auc_fold_1</td><td>▁</td></tr><tr><td>f1_fold_0</td><td>▁</td></tr><tr><td>f1_fold_1</td><td>▁</td></tr><tr><td>mean_accuracy</td><td>▁</td></tr><tr><td>mean_auc</td><td>▁</td></tr><tr><td>mean_f1</td><td>▁</td></tr></table><br/></div><div class=\"wandb-col\"><h3>Run summary:</h3><br/><table class=\"wandb\"><tr><td>USE_HEXES_ATTRS</td><td>1</td></tr><tr><td>USE_ORTOPHOTO</td><td>0</td></tr><tr><td>USE_OSMNX_ATTRS</td><td>0</td></tr><tr><td>accuracy_fold_0</td><td>0.58511</td></tr><tr><td>accuracy_fold_1</td><td>0.48489</td></tr><tr><td>auc_fold_0</td><td>0.54284</td></tr><tr><td>auc_fold_1</td><td>0.5639</td></tr><tr><td>data_structure</td><td>tabular</td></tr><tr><td>f1_fold_0</td><td>0.53355</td></tr><tr><td>f1_fold_1</td><td>0.50593</td></tr><tr><td>mean_accuracy</td><td>0.535</td></tr><tr><td>mean_auc</td><td>0.55337</td></tr><tr><td>mean_f1</td><td>0.51974</td></tr></table><br/></div></div>"
      ],
      "text/plain": [
       "<IPython.core.display.HTML object>"
      ]
     },
     "metadata": {},
     "output_type": "display_data"
    },
    {
     "data": {
      "text/html": [
       " View run <strong style=\"color:#cdcd00\">fearless-sweep-19</strong> at: <a href='https://wandb.ai/gradient_pwr/airbnb-downstream-task/runs/xy599sj7' target=\"_blank\">https://wandb.ai/gradient_pwr/airbnb-downstream-task/runs/xy599sj7</a><br/> View project at: <a href='https://wandb.ai/gradient_pwr/airbnb-downstream-task' target=\"_blank\">https://wandb.ai/gradient_pwr/airbnb-downstream-task</a><br/>Synced 5 W&B file(s), 0 media file(s), 2 artifact file(s) and 0 other file(s)"
      ],
      "text/plain": [
       "<IPython.core.display.HTML object>"
      ]
     },
     "metadata": {},
     "output_type": "display_data"
    },
    {
     "data": {
      "text/html": [
       "Find logs at: <code>./wandb/run-20240605_011712-xy599sj7/logs</code>"
      ],
      "text/plain": [
       "<IPython.core.display.HTML object>"
      ]
     },
     "metadata": {},
     "output_type": "display_data"
    },
    {
     "name": "stderr",
     "output_type": "stream",
     "text": [
      "\u001b[34m\u001b[1mwandb\u001b[0m: Agent Starting Run: si4gpbxx with config:\n",
      "\u001b[34m\u001b[1mwandb\u001b[0m: \tC: 3.513010984025289e-05\n",
      "\u001b[34m\u001b[1mwandb\u001b[0m: \tsolver_penalty: lbfgs;l2\n",
      "Failed to detect the name of this notebook, you can set it manually with the WANDB_NOTEBOOK_NAME environment variable to enable code saving.\n"
     ]
    },
    {
     "data": {
      "text/html": [
       "Tracking run with wandb version 0.17.0"
      ],
      "text/plain": [
       "<IPython.core.display.HTML object>"
      ]
     },
     "metadata": {},
     "output_type": "display_data"
    },
    {
     "data": {
      "text/html": [
       "Run data is saved locally in <code>/home/grymar/studia/gradient/notebooks/downstream_tasks/wandb/run-20240605_011728-si4gpbxx</code>"
      ],
      "text/plain": [
       "<IPython.core.display.HTML object>"
      ]
     },
     "metadata": {},
     "output_type": "display_data"
    },
    {
     "data": {
      "text/html": [
       "Syncing run <strong><a href='https://wandb.ai/gradient_pwr/airbnb-downstream-task/runs/si4gpbxx' target=\"_blank\">resilient-sweep-20</a></strong> to <a href='https://wandb.ai/gradient_pwr/airbnb-downstream-task' target=\"_blank\">Weights & Biases</a> (<a href='https://wandb.me/run' target=\"_blank\">docs</a>)<br/>Sweep page: <a href='https://wandb.ai/gradient_pwr/airbnb-downstream-task/sweeps/ow0algrs' target=\"_blank\">https://wandb.ai/gradient_pwr/airbnb-downstream-task/sweeps/ow0algrs</a>"
      ],
      "text/plain": [
       "<IPython.core.display.HTML object>"
      ]
     },
     "metadata": {},
     "output_type": "display_data"
    },
    {
     "data": {
      "text/html": [
       " View project at <a href='https://wandb.ai/gradient_pwr/airbnb-downstream-task' target=\"_blank\">https://wandb.ai/gradient_pwr/airbnb-downstream-task</a>"
      ],
      "text/plain": [
       "<IPython.core.display.HTML object>"
      ]
     },
     "metadata": {},
     "output_type": "display_data"
    },
    {
     "data": {
      "text/html": [
       " View sweep at <a href='https://wandb.ai/gradient_pwr/airbnb-downstream-task/sweeps/ow0algrs' target=\"_blank\">https://wandb.ai/gradient_pwr/airbnb-downstream-task/sweeps/ow0algrs</a>"
      ],
      "text/plain": [
       "<IPython.core.display.HTML object>"
      ]
     },
     "metadata": {},
     "output_type": "display_data"
    },
    {
     "data": {
      "text/html": [
       " View run at <a href='https://wandb.ai/gradient_pwr/airbnb-downstream-task/runs/si4gpbxx' target=\"_blank\">https://wandb.ai/gradient_pwr/airbnb-downstream-task/runs/si4gpbxx</a>"
      ],
      "text/plain": [
       "<IPython.core.display.HTML object>"
      ]
     },
     "metadata": {},
     "output_type": "display_data"
    },
    {
     "name": "stdout",
     "output_type": "stream",
     "text": [
      "[0 1 2 3 4]\n"
     ]
    },
    {
     "name": "stderr",
     "output_type": "stream",
     "text": [
      "/home/grymar/studia/gradient/env/lib/python3.10/site-packages/sklearn/linear_model/_logistic.py:1172: UserWarning: l1_ratio parameter is only used when penalty is 'elasticnet'. Got (penalty=l2)\n",
      "  warnings.warn(\n"
     ]
    },
    {
     "name": "stdout",
     "output_type": "stream",
     "text": [
      "[0 1 2 3 4]\n",
      "(10757, 5)\n",
      "(10757, 5)\n"
     ]
    },
    {
     "name": "stderr",
     "output_type": "stream",
     "text": [
      "/home/grymar/studia/gradient/env/lib/python3.10/site-packages/sklearn/preprocessing/_encoders.py:975: FutureWarning: `sparse` was renamed to `sparse_output` in version 1.2 and will be removed in 1.4. `sparse_output` is ignored unless you leave `sparse` to its default value.\n",
      "  warnings.warn(\n"
     ]
    },
    {
     "name": "stdout",
     "output_type": "stream",
     "text": [
      "[0 1 2 3 4]\n"
     ]
    },
    {
     "name": "stderr",
     "output_type": "stream",
     "text": [
      "/home/grymar/studia/gradient/env/lib/python3.10/site-packages/sklearn/linear_model/_logistic.py:1172: UserWarning: l1_ratio parameter is only used when penalty is 'elasticnet'. Got (penalty=l2)\n",
      "  warnings.warn(\n"
     ]
    },
    {
     "name": "stdout",
     "output_type": "stream",
     "text": [
      "[0 1 2 3 4]\n",
      "(4203, 5)\n",
      "(4203, 5)\n"
     ]
    },
    {
     "name": "stderr",
     "output_type": "stream",
     "text": [
      "/home/grymar/studia/gradient/env/lib/python3.10/site-packages/sklearn/preprocessing/_encoders.py:975: FutureWarning: `sparse` was renamed to `sparse_output` in version 1.2 and will be removed in 1.4. `sparse_output` is ignored unless you leave `sparse` to its default value.\n",
      "  warnings.warn(\n"
     ]
    },
    {
     "data": {
      "application/vnd.jupyter.widget-view+json": {
       "model_id": "126421e34983473e9acd177d5c4e9b32",
       "version_major": 2,
       "version_minor": 0
      },
      "text/plain": [
       "VBox(children=(Label(value='0.169 MB of 0.169 MB uploaded\\r'), FloatProgress(value=1.0, max=1.0)))"
      ]
     },
     "metadata": {},
     "output_type": "display_data"
    },
    {
     "data": {
      "text/html": [
       "<style>\n",
       "    table.wandb td:nth-child(1) { padding: 0 10px; text-align: left ; width: auto;} td:nth-child(2) {text-align: left ; width: 100%}\n",
       "    .wandb-row { display: flex; flex-direction: row; flex-wrap: wrap; justify-content: flex-start; width: 100% }\n",
       "    .wandb-col { display: flex; flex-direction: column; flex-basis: 100%; flex: 1; padding: 10px; }\n",
       "    </style>\n",
       "<div class=\"wandb-row\"><div class=\"wandb-col\"><h3>Run history:</h3><br/><table class=\"wandb\"><tr><td>USE_HEXES_ATTRS</td><td>▁</td></tr><tr><td>USE_ORTOPHOTO</td><td>▁</td></tr><tr><td>USE_OSMNX_ATTRS</td><td>▁</td></tr><tr><td>accuracy_fold_0</td><td>▁</td></tr><tr><td>accuracy_fold_1</td><td>▁</td></tr><tr><td>auc_fold_0</td><td>▁</td></tr><tr><td>auc_fold_1</td><td>▁</td></tr><tr><td>f1_fold_0</td><td>▁</td></tr><tr><td>f1_fold_1</td><td>▁</td></tr><tr><td>mean_accuracy</td><td>▁</td></tr><tr><td>mean_auc</td><td>▁</td></tr><tr><td>mean_f1</td><td>▁</td></tr></table><br/></div><div class=\"wandb-col\"><h3>Run summary:</h3><br/><table class=\"wandb\"><tr><td>USE_HEXES_ATTRS</td><td>1</td></tr><tr><td>USE_ORTOPHOTO</td><td>0</td></tr><tr><td>USE_OSMNX_ATTRS</td><td>0</td></tr><tr><td>accuracy_fold_0</td><td>0.56707</td></tr><tr><td>accuracy_fold_1</td><td>0.49845</td></tr><tr><td>auc_fold_0</td><td>0.54403</td></tr><tr><td>auc_fold_1</td><td>0.54012</td></tr><tr><td>data_structure</td><td>tabular</td></tr><tr><td>f1_fold_0</td><td>0.52518</td></tr><tr><td>f1_fold_1</td><td>0.50911</td></tr><tr><td>mean_accuracy</td><td>0.53276</td></tr><tr><td>mean_auc</td><td>0.54207</td></tr><tr><td>mean_f1</td><td>0.51714</td></tr></table><br/></div></div>"
      ],
      "text/plain": [
       "<IPython.core.display.HTML object>"
      ]
     },
     "metadata": {},
     "output_type": "display_data"
    },
    {
     "data": {
      "text/html": [
       " View run <strong style=\"color:#cdcd00\">resilient-sweep-20</strong> at: <a href='https://wandb.ai/gradient_pwr/airbnb-downstream-task/runs/si4gpbxx' target=\"_blank\">https://wandb.ai/gradient_pwr/airbnb-downstream-task/runs/si4gpbxx</a><br/> View project at: <a href='https://wandb.ai/gradient_pwr/airbnb-downstream-task' target=\"_blank\">https://wandb.ai/gradient_pwr/airbnb-downstream-task</a><br/>Synced 5 W&B file(s), 0 media file(s), 2 artifact file(s) and 0 other file(s)"
      ],
      "text/plain": [
       "<IPython.core.display.HTML object>"
      ]
     },
     "metadata": {},
     "output_type": "display_data"
    },
    {
     "data": {
      "text/html": [
       "Find logs at: <code>./wandb/run-20240605_011728-si4gpbxx/logs</code>"
      ],
      "text/plain": [
       "<IPython.core.display.HTML object>"
      ]
     },
     "metadata": {},
     "output_type": "display_data"
    },
    {
     "name": "stderr",
     "output_type": "stream",
     "text": [
      "\u001b[34m\u001b[1mwandb\u001b[0m: Sweep Agent: Waiting for job.\n",
      "\u001b[34m\u001b[1mwandb\u001b[0m: Job received.\n",
      "\u001b[34m\u001b[1mwandb\u001b[0m: Agent Starting Run: l6lzh9vn with config:\n",
      "\u001b[34m\u001b[1mwandb\u001b[0m: \tC: 3.013747383109348e-05\n",
      "\u001b[34m\u001b[1mwandb\u001b[0m: \tsolver_penalty: lbfgs;l2\n",
      "Failed to detect the name of this notebook, you can set it manually with the WANDB_NOTEBOOK_NAME environment variable to enable code saving.\n"
     ]
    },
    {
     "data": {
      "text/html": [
       "Tracking run with wandb version 0.17.0"
      ],
      "text/plain": [
       "<IPython.core.display.HTML object>"
      ]
     },
     "metadata": {},
     "output_type": "display_data"
    },
    {
     "data": {
      "text/html": [
       "Run data is saved locally in <code>/home/grymar/studia/gradient/notebooks/downstream_tasks/wandb/run-20240605_011754-l6lzh9vn</code>"
      ],
      "text/plain": [
       "<IPython.core.display.HTML object>"
      ]
     },
     "metadata": {},
     "output_type": "display_data"
    },
    {
     "data": {
      "text/html": [
       "Syncing run <strong><a href='https://wandb.ai/gradient_pwr/airbnb-downstream-task/runs/l6lzh9vn' target=\"_blank\">ethereal-sweep-21</a></strong> to <a href='https://wandb.ai/gradient_pwr/airbnb-downstream-task' target=\"_blank\">Weights & Biases</a> (<a href='https://wandb.me/run' target=\"_blank\">docs</a>)<br/>Sweep page: <a href='https://wandb.ai/gradient_pwr/airbnb-downstream-task/sweeps/ow0algrs' target=\"_blank\">https://wandb.ai/gradient_pwr/airbnb-downstream-task/sweeps/ow0algrs</a>"
      ],
      "text/plain": [
       "<IPython.core.display.HTML object>"
      ]
     },
     "metadata": {},
     "output_type": "display_data"
    },
    {
     "data": {
      "text/html": [
       " View project at <a href='https://wandb.ai/gradient_pwr/airbnb-downstream-task' target=\"_blank\">https://wandb.ai/gradient_pwr/airbnb-downstream-task</a>"
      ],
      "text/plain": [
       "<IPython.core.display.HTML object>"
      ]
     },
     "metadata": {},
     "output_type": "display_data"
    },
    {
     "data": {
      "text/html": [
       " View sweep at <a href='https://wandb.ai/gradient_pwr/airbnb-downstream-task/sweeps/ow0algrs' target=\"_blank\">https://wandb.ai/gradient_pwr/airbnb-downstream-task/sweeps/ow0algrs</a>"
      ],
      "text/plain": [
       "<IPython.core.display.HTML object>"
      ]
     },
     "metadata": {},
     "output_type": "display_data"
    },
    {
     "data": {
      "text/html": [
       " View run at <a href='https://wandb.ai/gradient_pwr/airbnb-downstream-task/runs/l6lzh9vn' target=\"_blank\">https://wandb.ai/gradient_pwr/airbnb-downstream-task/runs/l6lzh9vn</a>"
      ],
      "text/plain": [
       "<IPython.core.display.HTML object>"
      ]
     },
     "metadata": {},
     "output_type": "display_data"
    },
    {
     "name": "stdout",
     "output_type": "stream",
     "text": [
      "[0 1 2 3 4]\n"
     ]
    },
    {
     "name": "stderr",
     "output_type": "stream",
     "text": [
      "/home/grymar/studia/gradient/env/lib/python3.10/site-packages/sklearn/linear_model/_logistic.py:1172: UserWarning: l1_ratio parameter is only used when penalty is 'elasticnet'. Got (penalty=l2)\n",
      "  warnings.warn(\n"
     ]
    },
    {
     "name": "stdout",
     "output_type": "stream",
     "text": [
      "[0 1 2 3 4]\n",
      "(10757, 5)\n",
      "(10757, 5)\n"
     ]
    },
    {
     "name": "stderr",
     "output_type": "stream",
     "text": [
      "/home/grymar/studia/gradient/env/lib/python3.10/site-packages/sklearn/preprocessing/_encoders.py:975: FutureWarning: `sparse` was renamed to `sparse_output` in version 1.2 and will be removed in 1.4. `sparse_output` is ignored unless you leave `sparse` to its default value.\n",
      "  warnings.warn(\n"
     ]
    },
    {
     "name": "stdout",
     "output_type": "stream",
     "text": [
      "[0 1 2 3 4]\n"
     ]
    },
    {
     "name": "stderr",
     "output_type": "stream",
     "text": [
      "/home/grymar/studia/gradient/env/lib/python3.10/site-packages/sklearn/linear_model/_logistic.py:1172: UserWarning: l1_ratio parameter is only used when penalty is 'elasticnet'. Got (penalty=l2)\n",
      "  warnings.warn(\n"
     ]
    },
    {
     "name": "stdout",
     "output_type": "stream",
     "text": [
      "[0 1 2 3 4]\n",
      "(4203, 5)\n",
      "(4203, 5)\n"
     ]
    },
    {
     "name": "stderr",
     "output_type": "stream",
     "text": [
      "/home/grymar/studia/gradient/env/lib/python3.10/site-packages/sklearn/preprocessing/_encoders.py:975: FutureWarning: `sparse` was renamed to `sparse_output` in version 1.2 and will be removed in 1.4. `sparse_output` is ignored unless you leave `sparse` to its default value.\n",
      "  warnings.warn(\n"
     ]
    },
    {
     "data": {
      "application/vnd.jupyter.widget-view+json": {
       "model_id": "a0b6edee5fc34383870b72d7965e06d9",
       "version_major": 2,
       "version_minor": 0
      },
      "text/plain": [
       "VBox(children=(Label(value='0.169 MB of 0.169 MB uploaded\\r'), FloatProgress(value=1.0, max=1.0)))"
      ]
     },
     "metadata": {},
     "output_type": "display_data"
    },
    {
     "data": {
      "text/html": [
       "<style>\n",
       "    table.wandb td:nth-child(1) { padding: 0 10px; text-align: left ; width: auto;} td:nth-child(2) {text-align: left ; width: 100%}\n",
       "    .wandb-row { display: flex; flex-direction: row; flex-wrap: wrap; justify-content: flex-start; width: 100% }\n",
       "    .wandb-col { display: flex; flex-direction: column; flex-basis: 100%; flex: 1; padding: 10px; }\n",
       "    </style>\n",
       "<div class=\"wandb-row\"><div class=\"wandb-col\"><h3>Run history:</h3><br/><table class=\"wandb\"><tr><td>USE_HEXES_ATTRS</td><td>▁</td></tr><tr><td>USE_ORTOPHOTO</td><td>▁</td></tr><tr><td>USE_OSMNX_ATTRS</td><td>▁</td></tr><tr><td>accuracy_fold_0</td><td>▁</td></tr><tr><td>accuracy_fold_1</td><td>▁</td></tr><tr><td>auc_fold_0</td><td>▁</td></tr><tr><td>auc_fold_1</td><td>▁</td></tr><tr><td>f1_fold_0</td><td>▁</td></tr><tr><td>f1_fold_1</td><td>▁</td></tr><tr><td>mean_accuracy</td><td>▁</td></tr><tr><td>mean_auc</td><td>▁</td></tr><tr><td>mean_f1</td><td>▁</td></tr></table><br/></div><div class=\"wandb-col\"><h3>Run summary:</h3><br/><table class=\"wandb\"><tr><td>USE_HEXES_ATTRS</td><td>1</td></tr><tr><td>USE_ORTOPHOTO</td><td>0</td></tr><tr><td>USE_OSMNX_ATTRS</td><td>0</td></tr><tr><td>accuracy_fold_0</td><td>0.57135</td></tr><tr><td>accuracy_fold_1</td><td>0.49703</td></tr><tr><td>auc_fold_0</td><td>0.54367</td></tr><tr><td>auc_fold_1</td><td>0.54573</td></tr><tr><td>data_structure</td><td>tabular</td></tr><tr><td>f1_fold_0</td><td>0.52709</td></tr><tr><td>f1_fold_1</td><td>0.51032</td></tr><tr><td>mean_accuracy</td><td>0.53419</td></tr><tr><td>mean_auc</td><td>0.5447</td></tr><tr><td>mean_f1</td><td>0.5187</td></tr></table><br/></div></div>"
      ],
      "text/plain": [
       "<IPython.core.display.HTML object>"
      ]
     },
     "metadata": {},
     "output_type": "display_data"
    },
    {
     "data": {
      "text/html": [
       " View run <strong style=\"color:#cdcd00\">ethereal-sweep-21</strong> at: <a href='https://wandb.ai/gradient_pwr/airbnb-downstream-task/runs/l6lzh9vn' target=\"_blank\">https://wandb.ai/gradient_pwr/airbnb-downstream-task/runs/l6lzh9vn</a><br/> View project at: <a href='https://wandb.ai/gradient_pwr/airbnb-downstream-task' target=\"_blank\">https://wandb.ai/gradient_pwr/airbnb-downstream-task</a><br/>Synced 5 W&B file(s), 0 media file(s), 2 artifact file(s) and 0 other file(s)"
      ],
      "text/plain": [
       "<IPython.core.display.HTML object>"
      ]
     },
     "metadata": {},
     "output_type": "display_data"
    },
    {
     "data": {
      "text/html": [
       "Find logs at: <code>./wandb/run-20240605_011754-l6lzh9vn/logs</code>"
      ],
      "text/plain": [
       "<IPython.core.display.HTML object>"
      ]
     },
     "metadata": {},
     "output_type": "display_data"
    },
    {
     "name": "stderr",
     "output_type": "stream",
     "text": [
      "\u001b[34m\u001b[1mwandb\u001b[0m: Sweep Agent: Waiting for job.\n",
      "\u001b[34m\u001b[1mwandb\u001b[0m: Job received.\n",
      "\u001b[34m\u001b[1mwandb\u001b[0m: Agent Starting Run: xk5kgewx with config:\n",
      "\u001b[34m\u001b[1mwandb\u001b[0m: \tC: 1.161590368176522e-05\n",
      "\u001b[34m\u001b[1mwandb\u001b[0m: \tsolver_penalty: lbfgs;l2\n",
      "Failed to detect the name of this notebook, you can set it manually with the WANDB_NOTEBOOK_NAME environment variable to enable code saving.\n"
     ]
    },
    {
     "data": {
      "text/html": [
       "Tracking run with wandb version 0.17.0"
      ],
      "text/plain": [
       "<IPython.core.display.HTML object>"
      ]
     },
     "metadata": {},
     "output_type": "display_data"
    },
    {
     "data": {
      "text/html": [
       "Run data is saved locally in <code>/home/grymar/studia/gradient/notebooks/downstream_tasks/wandb/run-20240605_011818-xk5kgewx</code>"
      ],
      "text/plain": [
       "<IPython.core.display.HTML object>"
      ]
     },
     "metadata": {},
     "output_type": "display_data"
    },
    {
     "data": {
      "text/html": [
       "Syncing run <strong><a href='https://wandb.ai/gradient_pwr/airbnb-downstream-task/runs/xk5kgewx' target=\"_blank\">glorious-sweep-22</a></strong> to <a href='https://wandb.ai/gradient_pwr/airbnb-downstream-task' target=\"_blank\">Weights & Biases</a> (<a href='https://wandb.me/run' target=\"_blank\">docs</a>)<br/>Sweep page: <a href='https://wandb.ai/gradient_pwr/airbnb-downstream-task/sweeps/ow0algrs' target=\"_blank\">https://wandb.ai/gradient_pwr/airbnb-downstream-task/sweeps/ow0algrs</a>"
      ],
      "text/plain": [
       "<IPython.core.display.HTML object>"
      ]
     },
     "metadata": {},
     "output_type": "display_data"
    },
    {
     "data": {
      "text/html": [
       " View project at <a href='https://wandb.ai/gradient_pwr/airbnb-downstream-task' target=\"_blank\">https://wandb.ai/gradient_pwr/airbnb-downstream-task</a>"
      ],
      "text/plain": [
       "<IPython.core.display.HTML object>"
      ]
     },
     "metadata": {},
     "output_type": "display_data"
    },
    {
     "data": {
      "text/html": [
       " View sweep at <a href='https://wandb.ai/gradient_pwr/airbnb-downstream-task/sweeps/ow0algrs' target=\"_blank\">https://wandb.ai/gradient_pwr/airbnb-downstream-task/sweeps/ow0algrs</a>"
      ],
      "text/plain": [
       "<IPython.core.display.HTML object>"
      ]
     },
     "metadata": {},
     "output_type": "display_data"
    },
    {
     "data": {
      "text/html": [
       " View run at <a href='https://wandb.ai/gradient_pwr/airbnb-downstream-task/runs/xk5kgewx' target=\"_blank\">https://wandb.ai/gradient_pwr/airbnb-downstream-task/runs/xk5kgewx</a>"
      ],
      "text/plain": [
       "<IPython.core.display.HTML object>"
      ]
     },
     "metadata": {},
     "output_type": "display_data"
    },
    {
     "name": "stdout",
     "output_type": "stream",
     "text": [
      "[0 1 2 3 4]\n"
     ]
    },
    {
     "name": "stderr",
     "output_type": "stream",
     "text": [
      "/home/grymar/studia/gradient/env/lib/python3.10/site-packages/sklearn/linear_model/_logistic.py:1172: UserWarning: l1_ratio parameter is only used when penalty is 'elasticnet'. Got (penalty=l2)\n",
      "  warnings.warn(\n"
     ]
    },
    {
     "name": "stdout",
     "output_type": "stream",
     "text": [
      "[0 1 2 3 4]\n",
      "(10757, 5)\n",
      "(10757, 5)\n"
     ]
    },
    {
     "name": "stderr",
     "output_type": "stream",
     "text": [
      "/home/grymar/studia/gradient/env/lib/python3.10/site-packages/sklearn/preprocessing/_encoders.py:975: FutureWarning: `sparse` was renamed to `sparse_output` in version 1.2 and will be removed in 1.4. `sparse_output` is ignored unless you leave `sparse` to its default value.\n",
      "  warnings.warn(\n"
     ]
    },
    {
     "name": "stdout",
     "output_type": "stream",
     "text": [
      "[0 1 2 3 4]\n"
     ]
    },
    {
     "name": "stderr",
     "output_type": "stream",
     "text": [
      "/home/grymar/studia/gradient/env/lib/python3.10/site-packages/sklearn/linear_model/_logistic.py:1172: UserWarning: l1_ratio parameter is only used when penalty is 'elasticnet'. Got (penalty=l2)\n",
      "  warnings.warn(\n"
     ]
    },
    {
     "name": "stdout",
     "output_type": "stream",
     "text": [
      "[0 1 2 3 4]\n",
      "(4203, 5)\n",
      "(4203, 5)\n"
     ]
    },
    {
     "name": "stderr",
     "output_type": "stream",
     "text": [
      "/home/grymar/studia/gradient/env/lib/python3.10/site-packages/sklearn/preprocessing/_encoders.py:975: FutureWarning: `sparse` was renamed to `sparse_output` in version 1.2 and will be removed in 1.4. `sparse_output` is ignored unless you leave `sparse` to its default value.\n",
      "  warnings.warn(\n"
     ]
    },
    {
     "data": {
      "application/vnd.jupyter.widget-view+json": {
       "model_id": "023b7a2b267b4325b07ce7a32db28a5b",
       "version_major": 2,
       "version_minor": 0
      },
      "text/plain": [
       "VBox(children=(Label(value='0.169 MB of 0.169 MB uploaded\\r'), FloatProgress(value=1.0, max=1.0)))"
      ]
     },
     "metadata": {},
     "output_type": "display_data"
    },
    {
     "data": {
      "text/html": [
       "<style>\n",
       "    table.wandb td:nth-child(1) { padding: 0 10px; text-align: left ; width: auto;} td:nth-child(2) {text-align: left ; width: 100%}\n",
       "    .wandb-row { display: flex; flex-direction: row; flex-wrap: wrap; justify-content: flex-start; width: 100% }\n",
       "    .wandb-col { display: flex; flex-direction: column; flex-basis: 100%; flex: 1; padding: 10px; }\n",
       "    </style>\n",
       "<div class=\"wandb-row\"><div class=\"wandb-col\"><h3>Run history:</h3><br/><table class=\"wandb\"><tr><td>USE_HEXES_ATTRS</td><td>▁</td></tr><tr><td>USE_ORTOPHOTO</td><td>▁</td></tr><tr><td>USE_OSMNX_ATTRS</td><td>▁</td></tr><tr><td>accuracy_fold_0</td><td>▁</td></tr><tr><td>accuracy_fold_1</td><td>▁</td></tr><tr><td>auc_fold_0</td><td>▁</td></tr><tr><td>auc_fold_1</td><td>▁</td></tr><tr><td>f1_fold_0</td><td>▁</td></tr><tr><td>f1_fold_1</td><td>▁</td></tr><tr><td>mean_accuracy</td><td>▁</td></tr><tr><td>mean_auc</td><td>▁</td></tr><tr><td>mean_f1</td><td>▁</td></tr></table><br/></div><div class=\"wandb-col\"><h3>Run summary:</h3><br/><table class=\"wandb\"><tr><td>USE_HEXES_ATTRS</td><td>1</td></tr><tr><td>USE_ORTOPHOTO</td><td>0</td></tr><tr><td>USE_OSMNX_ATTRS</td><td>0</td></tr><tr><td>accuracy_fold_0</td><td>0.59403</td></tr><tr><td>accuracy_fold_1</td><td>0.47728</td></tr><tr><td>auc_fold_0</td><td>0.54287</td></tr><tr><td>auc_fold_1</td><td>0.57965</td></tr><tr><td>data_structure</td><td>tabular</td></tr><tr><td>f1_fold_0</td><td>0.53698</td></tr><tr><td>f1_fold_1</td><td>0.50199</td></tr><tr><td>mean_accuracy</td><td>0.53565</td></tr><tr><td>mean_auc</td><td>0.56126</td></tr><tr><td>mean_f1</td><td>0.51949</td></tr></table><br/></div></div>"
      ],
      "text/plain": [
       "<IPython.core.display.HTML object>"
      ]
     },
     "metadata": {},
     "output_type": "display_data"
    },
    {
     "data": {
      "text/html": [
       " View run <strong style=\"color:#cdcd00\">glorious-sweep-22</strong> at: <a href='https://wandb.ai/gradient_pwr/airbnb-downstream-task/runs/xk5kgewx' target=\"_blank\">https://wandb.ai/gradient_pwr/airbnb-downstream-task/runs/xk5kgewx</a><br/> View project at: <a href='https://wandb.ai/gradient_pwr/airbnb-downstream-task' target=\"_blank\">https://wandb.ai/gradient_pwr/airbnb-downstream-task</a><br/>Synced 5 W&B file(s), 0 media file(s), 2 artifact file(s) and 0 other file(s)"
      ],
      "text/plain": [
       "<IPython.core.display.HTML object>"
      ]
     },
     "metadata": {},
     "output_type": "display_data"
    },
    {
     "data": {
      "text/html": [
       "Find logs at: <code>./wandb/run-20240605_011818-xk5kgewx/logs</code>"
      ],
      "text/plain": [
       "<IPython.core.display.HTML object>"
      ]
     },
     "metadata": {},
     "output_type": "display_data"
    },
    {
     "name": "stderr",
     "output_type": "stream",
     "text": [
      "\u001b[34m\u001b[1mwandb\u001b[0m: Agent Starting Run: vgtsvmie with config:\n",
      "\u001b[34m\u001b[1mwandb\u001b[0m: \tC: 1.914819315700148e-05\n",
      "\u001b[34m\u001b[1mwandb\u001b[0m: \tsolver_penalty: lbfgs;l2\n",
      "Failed to detect the name of this notebook, you can set it manually with the WANDB_NOTEBOOK_NAME environment variable to enable code saving.\n"
     ]
    },
    {
     "data": {
      "text/html": [
       "Tracking run with wandb version 0.17.0"
      ],
      "text/plain": [
       "<IPython.core.display.HTML object>"
      ]
     },
     "metadata": {},
     "output_type": "display_data"
    },
    {
     "data": {
      "text/html": [
       "Run data is saved locally in <code>/home/grymar/studia/gradient/notebooks/downstream_tasks/wandb/run-20240605_011833-vgtsvmie</code>"
      ],
      "text/plain": [
       "<IPython.core.display.HTML object>"
      ]
     },
     "metadata": {},
     "output_type": "display_data"
    },
    {
     "data": {
      "text/html": [
       "Syncing run <strong><a href='https://wandb.ai/gradient_pwr/airbnb-downstream-task/runs/vgtsvmie' target=\"_blank\">fast-sweep-23</a></strong> to <a href='https://wandb.ai/gradient_pwr/airbnb-downstream-task' target=\"_blank\">Weights & Biases</a> (<a href='https://wandb.me/run' target=\"_blank\">docs</a>)<br/>Sweep page: <a href='https://wandb.ai/gradient_pwr/airbnb-downstream-task/sweeps/ow0algrs' target=\"_blank\">https://wandb.ai/gradient_pwr/airbnb-downstream-task/sweeps/ow0algrs</a>"
      ],
      "text/plain": [
       "<IPython.core.display.HTML object>"
      ]
     },
     "metadata": {},
     "output_type": "display_data"
    },
    {
     "data": {
      "text/html": [
       " View project at <a href='https://wandb.ai/gradient_pwr/airbnb-downstream-task' target=\"_blank\">https://wandb.ai/gradient_pwr/airbnb-downstream-task</a>"
      ],
      "text/plain": [
       "<IPython.core.display.HTML object>"
      ]
     },
     "metadata": {},
     "output_type": "display_data"
    },
    {
     "data": {
      "text/html": [
       " View sweep at <a href='https://wandb.ai/gradient_pwr/airbnb-downstream-task/sweeps/ow0algrs' target=\"_blank\">https://wandb.ai/gradient_pwr/airbnb-downstream-task/sweeps/ow0algrs</a>"
      ],
      "text/plain": [
       "<IPython.core.display.HTML object>"
      ]
     },
     "metadata": {},
     "output_type": "display_data"
    },
    {
     "data": {
      "text/html": [
       " View run at <a href='https://wandb.ai/gradient_pwr/airbnb-downstream-task/runs/vgtsvmie' target=\"_blank\">https://wandb.ai/gradient_pwr/airbnb-downstream-task/runs/vgtsvmie</a>"
      ],
      "text/plain": [
       "<IPython.core.display.HTML object>"
      ]
     },
     "metadata": {},
     "output_type": "display_data"
    },
    {
     "name": "stdout",
     "output_type": "stream",
     "text": [
      "[0 1 2 3 4]\n"
     ]
    },
    {
     "name": "stderr",
     "output_type": "stream",
     "text": [
      "/home/grymar/studia/gradient/env/lib/python3.10/site-packages/sklearn/linear_model/_logistic.py:1172: UserWarning: l1_ratio parameter is only used when penalty is 'elasticnet'. Got (penalty=l2)\n",
      "  warnings.warn(\n"
     ]
    },
    {
     "name": "stdout",
     "output_type": "stream",
     "text": [
      "[0 1 2 3 4]\n",
      "(10757, 5)\n",
      "(10757, 5)\n"
     ]
    },
    {
     "name": "stderr",
     "output_type": "stream",
     "text": [
      "/home/grymar/studia/gradient/env/lib/python3.10/site-packages/sklearn/preprocessing/_encoders.py:975: FutureWarning: `sparse` was renamed to `sparse_output` in version 1.2 and will be removed in 1.4. `sparse_output` is ignored unless you leave `sparse` to its default value.\n",
      "  warnings.warn(\n"
     ]
    },
    {
     "name": "stdout",
     "output_type": "stream",
     "text": [
      "[0 1 2 3 4]\n"
     ]
    },
    {
     "name": "stderr",
     "output_type": "stream",
     "text": [
      "/home/grymar/studia/gradient/env/lib/python3.10/site-packages/sklearn/linear_model/_logistic.py:1172: UserWarning: l1_ratio parameter is only used when penalty is 'elasticnet'. Got (penalty=l2)\n",
      "  warnings.warn(\n"
     ]
    },
    {
     "name": "stdout",
     "output_type": "stream",
     "text": [
      "[0 1 2 3 4]\n",
      "(4203, 5)\n",
      "(4203, 5)\n"
     ]
    },
    {
     "name": "stderr",
     "output_type": "stream",
     "text": [
      "/home/grymar/studia/gradient/env/lib/python3.10/site-packages/sklearn/preprocessing/_encoders.py:975: FutureWarning: `sparse` was renamed to `sparse_output` in version 1.2 and will be removed in 1.4. `sparse_output` is ignored unless you leave `sparse` to its default value.\n",
      "  warnings.warn(\n"
     ]
    },
    {
     "data": {
      "application/vnd.jupyter.widget-view+json": {
       "model_id": "dbe3a9cb0f604d359c5f41fbefa090cd",
       "version_major": 2,
       "version_minor": 0
      },
      "text/plain": [
       "VBox(children=(Label(value='0.169 MB of 0.169 MB uploaded\\r'), FloatProgress(value=1.0, max=1.0)))"
      ]
     },
     "metadata": {},
     "output_type": "display_data"
    },
    {
     "data": {
      "text/html": [
       "<style>\n",
       "    table.wandb td:nth-child(1) { padding: 0 10px; text-align: left ; width: auto;} td:nth-child(2) {text-align: left ; width: 100%}\n",
       "    .wandb-row { display: flex; flex-direction: row; flex-wrap: wrap; justify-content: flex-start; width: 100% }\n",
       "    .wandb-col { display: flex; flex-direction: column; flex-basis: 100%; flex: 1; padding: 10px; }\n",
       "    </style>\n",
       "<div class=\"wandb-row\"><div class=\"wandb-col\"><h3>Run history:</h3><br/><table class=\"wandb\"><tr><td>USE_HEXES_ATTRS</td><td>▁</td></tr><tr><td>USE_ORTOPHOTO</td><td>▁</td></tr><tr><td>USE_OSMNX_ATTRS</td><td>▁</td></tr><tr><td>accuracy_fold_0</td><td>▁</td></tr><tr><td>accuracy_fold_1</td><td>▁</td></tr><tr><td>auc_fold_0</td><td>▁</td></tr><tr><td>auc_fold_1</td><td>▁</td></tr><tr><td>f1_fold_0</td><td>▁</td></tr><tr><td>f1_fold_1</td><td>▁</td></tr><tr><td>mean_accuracy</td><td>▁</td></tr><tr><td>mean_auc</td><td>▁</td></tr><tr><td>mean_f1</td><td>▁</td></tr></table><br/></div><div class=\"wandb-col\"><h3>Run summary:</h3><br/><table class=\"wandb\"><tr><td>USE_HEXES_ATTRS</td><td>1</td></tr><tr><td>USE_ORTOPHOTO</td><td>0</td></tr><tr><td>USE_OSMNX_ATTRS</td><td>0</td></tr><tr><td>accuracy_fold_0</td><td>0.58371</td></tr><tr><td>accuracy_fold_1</td><td>0.48656</td></tr><tr><td>auc_fold_0</td><td>0.54305</td></tr><tr><td>auc_fold_1</td><td>0.56073</td></tr><tr><td>data_structure</td><td>tabular</td></tr><tr><td>f1_fold_0</td><td>0.53309</td></tr><tr><td>f1_fold_1</td><td>0.50642</td></tr><tr><td>mean_accuracy</td><td>0.53514</td></tr><tr><td>mean_auc</td><td>0.55189</td></tr><tr><td>mean_f1</td><td>0.51976</td></tr></table><br/></div></div>"
      ],
      "text/plain": [
       "<IPython.core.display.HTML object>"
      ]
     },
     "metadata": {},
     "output_type": "display_data"
    },
    {
     "data": {
      "text/html": [
       " View run <strong style=\"color:#cdcd00\">fast-sweep-23</strong> at: <a href='https://wandb.ai/gradient_pwr/airbnb-downstream-task/runs/vgtsvmie' target=\"_blank\">https://wandb.ai/gradient_pwr/airbnb-downstream-task/runs/vgtsvmie</a><br/> View project at: <a href='https://wandb.ai/gradient_pwr/airbnb-downstream-task' target=\"_blank\">https://wandb.ai/gradient_pwr/airbnb-downstream-task</a><br/>Synced 5 W&B file(s), 0 media file(s), 2 artifact file(s) and 0 other file(s)"
      ],
      "text/plain": [
       "<IPython.core.display.HTML object>"
      ]
     },
     "metadata": {},
     "output_type": "display_data"
    },
    {
     "data": {
      "text/html": [
       "Find logs at: <code>./wandb/run-20240605_011833-vgtsvmie/logs</code>"
      ],
      "text/plain": [
       "<IPython.core.display.HTML object>"
      ]
     },
     "metadata": {},
     "output_type": "display_data"
    },
    {
     "name": "stderr",
     "output_type": "stream",
     "text": [
      "\u001b[34m\u001b[1mwandb\u001b[0m: Sweep Agent: Waiting for job.\n",
      "\u001b[34m\u001b[1mwandb\u001b[0m: Job received.\n",
      "\u001b[34m\u001b[1mwandb\u001b[0m: Agent Starting Run: 10d72m71 with config:\n",
      "\u001b[34m\u001b[1mwandb\u001b[0m: \tC: 1.4650365870658745e-05\n",
      "\u001b[34m\u001b[1mwandb\u001b[0m: \tsolver_penalty: lbfgs;l2\n",
      "Failed to detect the name of this notebook, you can set it manually with the WANDB_NOTEBOOK_NAME environment variable to enable code saving.\n"
     ]
    },
    {
     "data": {
      "text/html": [
       "Tracking run with wandb version 0.17.0"
      ],
      "text/plain": [
       "<IPython.core.display.HTML object>"
      ]
     },
     "metadata": {},
     "output_type": "display_data"
    },
    {
     "data": {
      "text/html": [
       "Run data is saved locally in <code>/home/grymar/studia/gradient/notebooks/downstream_tasks/wandb/run-20240605_011858-10d72m71</code>"
      ],
      "text/plain": [
       "<IPython.core.display.HTML object>"
      ]
     },
     "metadata": {},
     "output_type": "display_data"
    },
    {
     "data": {
      "text/html": [
       "Syncing run <strong><a href='https://wandb.ai/gradient_pwr/airbnb-downstream-task/runs/10d72m71' target=\"_blank\">peach-sweep-24</a></strong> to <a href='https://wandb.ai/gradient_pwr/airbnb-downstream-task' target=\"_blank\">Weights & Biases</a> (<a href='https://wandb.me/run' target=\"_blank\">docs</a>)<br/>Sweep page: <a href='https://wandb.ai/gradient_pwr/airbnb-downstream-task/sweeps/ow0algrs' target=\"_blank\">https://wandb.ai/gradient_pwr/airbnb-downstream-task/sweeps/ow0algrs</a>"
      ],
      "text/plain": [
       "<IPython.core.display.HTML object>"
      ]
     },
     "metadata": {},
     "output_type": "display_data"
    },
    {
     "data": {
      "text/html": [
       " View project at <a href='https://wandb.ai/gradient_pwr/airbnb-downstream-task' target=\"_blank\">https://wandb.ai/gradient_pwr/airbnb-downstream-task</a>"
      ],
      "text/plain": [
       "<IPython.core.display.HTML object>"
      ]
     },
     "metadata": {},
     "output_type": "display_data"
    },
    {
     "data": {
      "text/html": [
       " View sweep at <a href='https://wandb.ai/gradient_pwr/airbnb-downstream-task/sweeps/ow0algrs' target=\"_blank\">https://wandb.ai/gradient_pwr/airbnb-downstream-task/sweeps/ow0algrs</a>"
      ],
      "text/plain": [
       "<IPython.core.display.HTML object>"
      ]
     },
     "metadata": {},
     "output_type": "display_data"
    },
    {
     "data": {
      "text/html": [
       " View run at <a href='https://wandb.ai/gradient_pwr/airbnb-downstream-task/runs/10d72m71' target=\"_blank\">https://wandb.ai/gradient_pwr/airbnb-downstream-task/runs/10d72m71</a>"
      ],
      "text/plain": [
       "<IPython.core.display.HTML object>"
      ]
     },
     "metadata": {},
     "output_type": "display_data"
    },
    {
     "name": "stdout",
     "output_type": "stream",
     "text": [
      "[0 1 2 3 4]\n"
     ]
    },
    {
     "name": "stderr",
     "output_type": "stream",
     "text": [
      "/home/grymar/studia/gradient/env/lib/python3.10/site-packages/sklearn/linear_model/_logistic.py:1172: UserWarning: l1_ratio parameter is only used when penalty is 'elasticnet'. Got (penalty=l2)\n",
      "  warnings.warn(\n"
     ]
    },
    {
     "name": "stdout",
     "output_type": "stream",
     "text": [
      "[0 1 2 3 4]\n",
      "(10757, 5)\n",
      "(10757, 5)\n"
     ]
    },
    {
     "name": "stderr",
     "output_type": "stream",
     "text": [
      "/home/grymar/studia/gradient/env/lib/python3.10/site-packages/sklearn/preprocessing/_encoders.py:975: FutureWarning: `sparse` was renamed to `sparse_output` in version 1.2 and will be removed in 1.4. `sparse_output` is ignored unless you leave `sparse` to its default value.\n",
      "  warnings.warn(\n"
     ]
    },
    {
     "name": "stdout",
     "output_type": "stream",
     "text": [
      "[0 1 2 3 4]\n"
     ]
    },
    {
     "name": "stderr",
     "output_type": "stream",
     "text": [
      "/home/grymar/studia/gradient/env/lib/python3.10/site-packages/sklearn/linear_model/_logistic.py:1172: UserWarning: l1_ratio parameter is only used when penalty is 'elasticnet'. Got (penalty=l2)\n",
      "  warnings.warn(\n"
     ]
    },
    {
     "name": "stdout",
     "output_type": "stream",
     "text": [
      "[0 1 2 3 4]\n",
      "(4203, 5)\n",
      "(4203, 5)\n"
     ]
    },
    {
     "name": "stderr",
     "output_type": "stream",
     "text": [
      "/home/grymar/studia/gradient/env/lib/python3.10/site-packages/sklearn/preprocessing/_encoders.py:975: FutureWarning: `sparse` was renamed to `sparse_output` in version 1.2 and will be removed in 1.4. `sparse_output` is ignored unless you leave `sparse` to its default value.\n",
      "  warnings.warn(\n"
     ]
    },
    {
     "data": {
      "application/vnd.jupyter.widget-view+json": {
       "model_id": "e87c7d4a13cc4b3db13e180f34edde36",
       "version_major": 2,
       "version_minor": 0
      },
      "text/plain": [
       "VBox(children=(Label(value='0.169 MB of 0.169 MB uploaded\\r'), FloatProgress(value=1.0, max=1.0)))"
      ]
     },
     "metadata": {},
     "output_type": "display_data"
    },
    {
     "data": {
      "text/html": [
       "<style>\n",
       "    table.wandb td:nth-child(1) { padding: 0 10px; text-align: left ; width: auto;} td:nth-child(2) {text-align: left ; width: 100%}\n",
       "    .wandb-row { display: flex; flex-direction: row; flex-wrap: wrap; justify-content: flex-start; width: 100% }\n",
       "    .wandb-col { display: flex; flex-direction: column; flex-basis: 100%; flex: 1; padding: 10px; }\n",
       "    </style>\n",
       "<div class=\"wandb-row\"><div class=\"wandb-col\"><h3>Run history:</h3><br/><table class=\"wandb\"><tr><td>USE_HEXES_ATTRS</td><td>▁</td></tr><tr><td>USE_ORTOPHOTO</td><td>▁</td></tr><tr><td>USE_OSMNX_ATTRS</td><td>▁</td></tr><tr><td>accuracy_fold_0</td><td>▁</td></tr><tr><td>accuracy_fold_1</td><td>▁</td></tr><tr><td>auc_fold_0</td><td>▁</td></tr><tr><td>auc_fold_1</td><td>▁</td></tr><tr><td>f1_fold_0</td><td>▁</td></tr><tr><td>f1_fold_1</td><td>▁</td></tr><tr><td>mean_accuracy</td><td>▁</td></tr><tr><td>mean_auc</td><td>▁</td></tr><tr><td>mean_f1</td><td>▁</td></tr></table><br/></div><div class=\"wandb-col\"><h3>Run summary:</h3><br/><table class=\"wandb\"><tr><td>USE_HEXES_ATTRS</td><td>1</td></tr><tr><td>USE_ORTOPHOTO</td><td>0</td></tr><tr><td>USE_OSMNX_ATTRS</td><td>0</td></tr><tr><td>accuracy_fold_0</td><td>0.58845</td></tr><tr><td>accuracy_fold_1</td><td>0.4799</td></tr><tr><td>auc_fold_0</td><td>0.54257</td></tr><tr><td>auc_fold_1</td><td>0.56776</td></tr><tr><td>data_structure</td><td>tabular</td></tr><tr><td>f1_fold_0</td><td>0.53484</td></tr><tr><td>f1_fold_1</td><td>0.50303</td></tr><tr><td>mean_accuracy</td><td>0.53417</td></tr><tr><td>mean_auc</td><td>0.55517</td></tr><tr><td>mean_f1</td><td>0.51893</td></tr></table><br/></div></div>"
      ],
      "text/plain": [
       "<IPython.core.display.HTML object>"
      ]
     },
     "metadata": {},
     "output_type": "display_data"
    },
    {
     "data": {
      "text/html": [
       " View run <strong style=\"color:#cdcd00\">peach-sweep-24</strong> at: <a href='https://wandb.ai/gradient_pwr/airbnb-downstream-task/runs/10d72m71' target=\"_blank\">https://wandb.ai/gradient_pwr/airbnb-downstream-task/runs/10d72m71</a><br/> View project at: <a href='https://wandb.ai/gradient_pwr/airbnb-downstream-task' target=\"_blank\">https://wandb.ai/gradient_pwr/airbnb-downstream-task</a><br/>Synced 5 W&B file(s), 0 media file(s), 2 artifact file(s) and 0 other file(s)"
      ],
      "text/plain": [
       "<IPython.core.display.HTML object>"
      ]
     },
     "metadata": {},
     "output_type": "display_data"
    },
    {
     "data": {
      "text/html": [
       "Find logs at: <code>./wandb/run-20240605_011858-10d72m71/logs</code>"
      ],
      "text/plain": [
       "<IPython.core.display.HTML object>"
      ]
     },
     "metadata": {},
     "output_type": "display_data"
    },
    {
     "name": "stderr",
     "output_type": "stream",
     "text": [
      "\u001b[34m\u001b[1mwandb\u001b[0m: Agent Starting Run: 2u0jtq91 with config:\n",
      "\u001b[34m\u001b[1mwandb\u001b[0m: \tC: 2.106468165487691e-05\n",
      "\u001b[34m\u001b[1mwandb\u001b[0m: \tsolver_penalty: lbfgs;l2\n",
      "Failed to detect the name of this notebook, you can set it manually with the WANDB_NOTEBOOK_NAME environment variable to enable code saving.\n"
     ]
    },
    {
     "data": {
      "text/html": [
       "Tracking run with wandb version 0.17.0"
      ],
      "text/plain": [
       "<IPython.core.display.HTML object>"
      ]
     },
     "metadata": {},
     "output_type": "display_data"
    },
    {
     "data": {
      "text/html": [
       "Run data is saved locally in <code>/home/grymar/studia/gradient/notebooks/downstream_tasks/wandb/run-20240605_011914-2u0jtq91</code>"
      ],
      "text/plain": [
       "<IPython.core.display.HTML object>"
      ]
     },
     "metadata": {},
     "output_type": "display_data"
    },
    {
     "data": {
      "text/html": [
       "Syncing run <strong><a href='https://wandb.ai/gradient_pwr/airbnb-downstream-task/runs/2u0jtq91' target=\"_blank\">easy-sweep-25</a></strong> to <a href='https://wandb.ai/gradient_pwr/airbnb-downstream-task' target=\"_blank\">Weights & Biases</a> (<a href='https://wandb.me/run' target=\"_blank\">docs</a>)<br/>Sweep page: <a href='https://wandb.ai/gradient_pwr/airbnb-downstream-task/sweeps/ow0algrs' target=\"_blank\">https://wandb.ai/gradient_pwr/airbnb-downstream-task/sweeps/ow0algrs</a>"
      ],
      "text/plain": [
       "<IPython.core.display.HTML object>"
      ]
     },
     "metadata": {},
     "output_type": "display_data"
    },
    {
     "data": {
      "text/html": [
       " View project at <a href='https://wandb.ai/gradient_pwr/airbnb-downstream-task' target=\"_blank\">https://wandb.ai/gradient_pwr/airbnb-downstream-task</a>"
      ],
      "text/plain": [
       "<IPython.core.display.HTML object>"
      ]
     },
     "metadata": {},
     "output_type": "display_data"
    },
    {
     "data": {
      "text/html": [
       " View sweep at <a href='https://wandb.ai/gradient_pwr/airbnb-downstream-task/sweeps/ow0algrs' target=\"_blank\">https://wandb.ai/gradient_pwr/airbnb-downstream-task/sweeps/ow0algrs</a>"
      ],
      "text/plain": [
       "<IPython.core.display.HTML object>"
      ]
     },
     "metadata": {},
     "output_type": "display_data"
    },
    {
     "data": {
      "text/html": [
       " View run at <a href='https://wandb.ai/gradient_pwr/airbnb-downstream-task/runs/2u0jtq91' target=\"_blank\">https://wandb.ai/gradient_pwr/airbnb-downstream-task/runs/2u0jtq91</a>"
      ],
      "text/plain": [
       "<IPython.core.display.HTML object>"
      ]
     },
     "metadata": {},
     "output_type": "display_data"
    },
    {
     "name": "stdout",
     "output_type": "stream",
     "text": [
      "[0 1 2 3 4]\n"
     ]
    },
    {
     "name": "stderr",
     "output_type": "stream",
     "text": [
      "/home/grymar/studia/gradient/env/lib/python3.10/site-packages/sklearn/linear_model/_logistic.py:1172: UserWarning: l1_ratio parameter is only used when penalty is 'elasticnet'. Got (penalty=l2)\n",
      "  warnings.warn(\n"
     ]
    },
    {
     "name": "stdout",
     "output_type": "stream",
     "text": [
      "[0 1 2 3 4]\n",
      "(10757, 5)\n",
      "(10757, 5)\n"
     ]
    },
    {
     "name": "stderr",
     "output_type": "stream",
     "text": [
      "/home/grymar/studia/gradient/env/lib/python3.10/site-packages/sklearn/preprocessing/_encoders.py:975: FutureWarning: `sparse` was renamed to `sparse_output` in version 1.2 and will be removed in 1.4. `sparse_output` is ignored unless you leave `sparse` to its default value.\n",
      "  warnings.warn(\n"
     ]
    },
    {
     "name": "stdout",
     "output_type": "stream",
     "text": [
      "[0 1 2 3 4]\n"
     ]
    },
    {
     "name": "stderr",
     "output_type": "stream",
     "text": [
      "/home/grymar/studia/gradient/env/lib/python3.10/site-packages/sklearn/linear_model/_logistic.py:1172: UserWarning: l1_ratio parameter is only used when penalty is 'elasticnet'. Got (penalty=l2)\n",
      "  warnings.warn(\n"
     ]
    },
    {
     "name": "stdout",
     "output_type": "stream",
     "text": [
      "[0 1 2 3 4]\n",
      "(4203, 5)\n",
      "(4203, 5)\n"
     ]
    },
    {
     "name": "stderr",
     "output_type": "stream",
     "text": [
      "/home/grymar/studia/gradient/env/lib/python3.10/site-packages/sklearn/preprocessing/_encoders.py:975: FutureWarning: `sparse` was renamed to `sparse_output` in version 1.2 and will be removed in 1.4. `sparse_output` is ignored unless you leave `sparse` to its default value.\n",
      "  warnings.warn(\n"
     ]
    },
    {
     "data": {
      "application/vnd.jupyter.widget-view+json": {
       "model_id": "1dfa1cd66a534d2db79ceaba30fc8b8c",
       "version_major": 2,
       "version_minor": 0
      },
      "text/plain": [
       "VBox(children=(Label(value='0.169 MB of 0.169 MB uploaded\\r'), FloatProgress(value=1.0, max=1.0)))"
      ]
     },
     "metadata": {},
     "output_type": "display_data"
    },
    {
     "data": {
      "text/html": [
       "<style>\n",
       "    table.wandb td:nth-child(1) { padding: 0 10px; text-align: left ; width: auto;} td:nth-child(2) {text-align: left ; width: 100%}\n",
       "    .wandb-row { display: flex; flex-direction: row; flex-wrap: wrap; justify-content: flex-start; width: 100% }\n",
       "    .wandb-col { display: flex; flex-direction: column; flex-basis: 100%; flex: 1; padding: 10px; }\n",
       "    </style>\n",
       "<div class=\"wandb-row\"><div class=\"wandb-col\"><h3>Run history:</h3><br/><table class=\"wandb\"><tr><td>USE_HEXES_ATTRS</td><td>▁</td></tr><tr><td>USE_ORTOPHOTO</td><td>▁</td></tr><tr><td>USE_OSMNX_ATTRS</td><td>▁</td></tr><tr><td>accuracy_fold_0</td><td>▁</td></tr><tr><td>accuracy_fold_1</td><td>▁</td></tr><tr><td>auc_fold_0</td><td>▁</td></tr><tr><td>auc_fold_1</td><td>▁</td></tr><tr><td>f1_fold_0</td><td>▁</td></tr><tr><td>f1_fold_1</td><td>▁</td></tr><tr><td>mean_accuracy</td><td>▁</td></tr><tr><td>mean_auc</td><td>▁</td></tr><tr><td>mean_f1</td><td>▁</td></tr></table><br/></div><div class=\"wandb-col\"><h3>Run summary:</h3><br/><table class=\"wandb\"><tr><td>USE_HEXES_ATTRS</td><td>1</td></tr><tr><td>USE_ORTOPHOTO</td><td>0</td></tr><tr><td>USE_OSMNX_ATTRS</td><td>0</td></tr><tr><td>accuracy_fold_0</td><td>0.58204</td></tr><tr><td>accuracy_fold_1</td><td>0.48965</td></tr><tr><td>auc_fold_0</td><td>0.54315</td></tr><tr><td>auc_fold_1</td><td>0.55781</td></tr><tr><td>data_structure</td><td>tabular</td></tr><tr><td>f1_fold_0</td><td>0.53251</td></tr><tr><td>f1_fold_1</td><td>0.50816</td></tr><tr><td>mean_accuracy</td><td>0.53584</td></tr><tr><td>mean_auc</td><td>0.55048</td></tr><tr><td>mean_f1</td><td>0.52034</td></tr></table><br/></div></div>"
      ],
      "text/plain": [
       "<IPython.core.display.HTML object>"
      ]
     },
     "metadata": {},
     "output_type": "display_data"
    },
    {
     "data": {
      "text/html": [
       " View run <strong style=\"color:#cdcd00\">easy-sweep-25</strong> at: <a href='https://wandb.ai/gradient_pwr/airbnb-downstream-task/runs/2u0jtq91' target=\"_blank\">https://wandb.ai/gradient_pwr/airbnb-downstream-task/runs/2u0jtq91</a><br/> View project at: <a href='https://wandb.ai/gradient_pwr/airbnb-downstream-task' target=\"_blank\">https://wandb.ai/gradient_pwr/airbnb-downstream-task</a><br/>Synced 5 W&B file(s), 0 media file(s), 2 artifact file(s) and 0 other file(s)"
      ],
      "text/plain": [
       "<IPython.core.display.HTML object>"
      ]
     },
     "metadata": {},
     "output_type": "display_data"
    },
    {
     "data": {
      "text/html": [
       "Find logs at: <code>./wandb/run-20240605_011914-2u0jtq91/logs</code>"
      ],
      "text/plain": [
       "<IPython.core.display.HTML object>"
      ]
     },
     "metadata": {},
     "output_type": "display_data"
    },
    {
     "name": "stderr",
     "output_type": "stream",
     "text": [
      "\u001b[34m\u001b[1mwandb\u001b[0m: Agent Starting Run: e0p6nkav with config:\n",
      "\u001b[34m\u001b[1mwandb\u001b[0m: \tC: 1.159323914332615e-05\n",
      "\u001b[34m\u001b[1mwandb\u001b[0m: \tsolver_penalty: lbfgs;l2\n",
      "Failed to detect the name of this notebook, you can set it manually with the WANDB_NOTEBOOK_NAME environment variable to enable code saving.\n"
     ]
    },
    {
     "data": {
      "text/html": [
       "Tracking run with wandb version 0.17.0"
      ],
      "text/plain": [
       "<IPython.core.display.HTML object>"
      ]
     },
     "metadata": {},
     "output_type": "display_data"
    },
    {
     "data": {
      "text/html": [
       "Run data is saved locally in <code>/home/grymar/studia/gradient/notebooks/downstream_tasks/wandb/run-20240605_011930-e0p6nkav</code>"
      ],
      "text/plain": [
       "<IPython.core.display.HTML object>"
      ]
     },
     "metadata": {},
     "output_type": "display_data"
    },
    {
     "data": {
      "text/html": [
       "Syncing run <strong><a href='https://wandb.ai/gradient_pwr/airbnb-downstream-task/runs/e0p6nkav' target=\"_blank\">solar-sweep-26</a></strong> to <a href='https://wandb.ai/gradient_pwr/airbnb-downstream-task' target=\"_blank\">Weights & Biases</a> (<a href='https://wandb.me/run' target=\"_blank\">docs</a>)<br/>Sweep page: <a href='https://wandb.ai/gradient_pwr/airbnb-downstream-task/sweeps/ow0algrs' target=\"_blank\">https://wandb.ai/gradient_pwr/airbnb-downstream-task/sweeps/ow0algrs</a>"
      ],
      "text/plain": [
       "<IPython.core.display.HTML object>"
      ]
     },
     "metadata": {},
     "output_type": "display_data"
    },
    {
     "data": {
      "text/html": [
       " View project at <a href='https://wandb.ai/gradient_pwr/airbnb-downstream-task' target=\"_blank\">https://wandb.ai/gradient_pwr/airbnb-downstream-task</a>"
      ],
      "text/plain": [
       "<IPython.core.display.HTML object>"
      ]
     },
     "metadata": {},
     "output_type": "display_data"
    },
    {
     "data": {
      "text/html": [
       " View sweep at <a href='https://wandb.ai/gradient_pwr/airbnb-downstream-task/sweeps/ow0algrs' target=\"_blank\">https://wandb.ai/gradient_pwr/airbnb-downstream-task/sweeps/ow0algrs</a>"
      ],
      "text/plain": [
       "<IPython.core.display.HTML object>"
      ]
     },
     "metadata": {},
     "output_type": "display_data"
    },
    {
     "data": {
      "text/html": [
       " View run at <a href='https://wandb.ai/gradient_pwr/airbnb-downstream-task/runs/e0p6nkav' target=\"_blank\">https://wandb.ai/gradient_pwr/airbnb-downstream-task/runs/e0p6nkav</a>"
      ],
      "text/plain": [
       "<IPython.core.display.HTML object>"
      ]
     },
     "metadata": {},
     "output_type": "display_data"
    },
    {
     "name": "stdout",
     "output_type": "stream",
     "text": [
      "[0 1 2 3 4]\n"
     ]
    },
    {
     "name": "stderr",
     "output_type": "stream",
     "text": [
      "/home/grymar/studia/gradient/env/lib/python3.10/site-packages/sklearn/linear_model/_logistic.py:1172: UserWarning: l1_ratio parameter is only used when penalty is 'elasticnet'. Got (penalty=l2)\n",
      "  warnings.warn(\n"
     ]
    },
    {
     "name": "stdout",
     "output_type": "stream",
     "text": [
      "[0 1 2 3 4]\n",
      "(10757, 5)\n",
      "(10757, 5)\n"
     ]
    },
    {
     "name": "stderr",
     "output_type": "stream",
     "text": [
      "/home/grymar/studia/gradient/env/lib/python3.10/site-packages/sklearn/preprocessing/_encoders.py:975: FutureWarning: `sparse` was renamed to `sparse_output` in version 1.2 and will be removed in 1.4. `sparse_output` is ignored unless you leave `sparse` to its default value.\n",
      "  warnings.warn(\n"
     ]
    },
    {
     "name": "stdout",
     "output_type": "stream",
     "text": [
      "[0 1 2 3 4]\n"
     ]
    },
    {
     "name": "stderr",
     "output_type": "stream",
     "text": [
      "/home/grymar/studia/gradient/env/lib/python3.10/site-packages/sklearn/linear_model/_logistic.py:1172: UserWarning: l1_ratio parameter is only used when penalty is 'elasticnet'. Got (penalty=l2)\n",
      "  warnings.warn(\n"
     ]
    },
    {
     "name": "stdout",
     "output_type": "stream",
     "text": [
      "[0 1 2 3 4]\n",
      "(4203, 5)\n",
      "(4203, 5)\n"
     ]
    },
    {
     "name": "stderr",
     "output_type": "stream",
     "text": [
      "/home/grymar/studia/gradient/env/lib/python3.10/site-packages/sklearn/preprocessing/_encoders.py:975: FutureWarning: `sparse` was renamed to `sparse_output` in version 1.2 and will be removed in 1.4. `sparse_output` is ignored unless you leave `sparse` to its default value.\n",
      "  warnings.warn(\n"
     ]
    },
    {
     "data": {
      "application/vnd.jupyter.widget-view+json": {
       "model_id": "9e9cd61d217646429aa8d2ab1afddbc5",
       "version_major": 2,
       "version_minor": 0
      },
      "text/plain": [
       "VBox(children=(Label(value='0.169 MB of 0.169 MB uploaded\\r'), FloatProgress(value=1.0, max=1.0)))"
      ]
     },
     "metadata": {},
     "output_type": "display_data"
    },
    {
     "data": {
      "text/html": [
       "<style>\n",
       "    table.wandb td:nth-child(1) { padding: 0 10px; text-align: left ; width: auto;} td:nth-child(2) {text-align: left ; width: 100%}\n",
       "    .wandb-row { display: flex; flex-direction: row; flex-wrap: wrap; justify-content: flex-start; width: 100% }\n",
       "    .wandb-col { display: flex; flex-direction: column; flex-basis: 100%; flex: 1; padding: 10px; }\n",
       "    </style>\n",
       "<div class=\"wandb-row\"><div class=\"wandb-col\"><h3>Run history:</h3><br/><table class=\"wandb\"><tr><td>USE_HEXES_ATTRS</td><td>▁</td></tr><tr><td>USE_ORTOPHOTO</td><td>▁</td></tr><tr><td>USE_OSMNX_ATTRS</td><td>▁</td></tr><tr><td>accuracy_fold_0</td><td>▁</td></tr><tr><td>accuracy_fold_1</td><td>▁</td></tr><tr><td>auc_fold_0</td><td>▁</td></tr><tr><td>auc_fold_1</td><td>▁</td></tr><tr><td>f1_fold_0</td><td>▁</td></tr><tr><td>f1_fold_1</td><td>▁</td></tr><tr><td>mean_accuracy</td><td>▁</td></tr><tr><td>mean_auc</td><td>▁</td></tr><tr><td>mean_f1</td><td>▁</td></tr></table><br/></div><div class=\"wandb-col\"><h3>Run summary:</h3><br/><table class=\"wandb\"><tr><td>USE_HEXES_ATTRS</td><td>1</td></tr><tr><td>USE_ORTOPHOTO</td><td>0</td></tr><tr><td>USE_OSMNX_ATTRS</td><td>0</td></tr><tr><td>accuracy_fold_0</td><td>0.59412</td></tr><tr><td>accuracy_fold_1</td><td>0.47728</td></tr><tr><td>auc_fold_0</td><td>0.54292</td></tr><tr><td>auc_fold_1</td><td>0.57971</td></tr><tr><td>data_structure</td><td>tabular</td></tr><tr><td>f1_fold_0</td><td>0.53704</td></tr><tr><td>f1_fold_1</td><td>0.50199</td></tr><tr><td>mean_accuracy</td><td>0.5357</td></tr><tr><td>mean_auc</td><td>0.56131</td></tr><tr><td>mean_f1</td><td>0.51951</td></tr></table><br/></div></div>"
      ],
      "text/plain": [
       "<IPython.core.display.HTML object>"
      ]
     },
     "metadata": {},
     "output_type": "display_data"
    },
    {
     "data": {
      "text/html": [
       " View run <strong style=\"color:#cdcd00\">solar-sweep-26</strong> at: <a href='https://wandb.ai/gradient_pwr/airbnb-downstream-task/runs/e0p6nkav' target=\"_blank\">https://wandb.ai/gradient_pwr/airbnb-downstream-task/runs/e0p6nkav</a><br/> View project at: <a href='https://wandb.ai/gradient_pwr/airbnb-downstream-task' target=\"_blank\">https://wandb.ai/gradient_pwr/airbnb-downstream-task</a><br/>Synced 5 W&B file(s), 0 media file(s), 2 artifact file(s) and 0 other file(s)"
      ],
      "text/plain": [
       "<IPython.core.display.HTML object>"
      ]
     },
     "metadata": {},
     "output_type": "display_data"
    },
    {
     "data": {
      "text/html": [
       "Find logs at: <code>./wandb/run-20240605_011930-e0p6nkav/logs</code>"
      ],
      "text/plain": [
       "<IPython.core.display.HTML object>"
      ]
     },
     "metadata": {},
     "output_type": "display_data"
    },
    {
     "name": "stderr",
     "output_type": "stream",
     "text": [
      "\u001b[34m\u001b[1mwandb\u001b[0m: Agent Starting Run: 7jbryejz with config:\n",
      "\u001b[34m\u001b[1mwandb\u001b[0m: \tC: 1.8750487323010635e-05\n",
      "\u001b[34m\u001b[1mwandb\u001b[0m: \tsolver_penalty: lbfgs;l2\n",
      "Failed to detect the name of this notebook, you can set it manually with the WANDB_NOTEBOOK_NAME environment variable to enable code saving.\n"
     ]
    },
    {
     "data": {
      "text/html": [
       "Tracking run with wandb version 0.17.0"
      ],
      "text/plain": [
       "<IPython.core.display.HTML object>"
      ]
     },
     "metadata": {},
     "output_type": "display_data"
    },
    {
     "data": {
      "text/html": [
       "Run data is saved locally in <code>/home/grymar/studia/gradient/notebooks/downstream_tasks/wandb/run-20240605_011947-7jbryejz</code>"
      ],
      "text/plain": [
       "<IPython.core.display.HTML object>"
      ]
     },
     "metadata": {},
     "output_type": "display_data"
    },
    {
     "data": {
      "text/html": [
       "Syncing run <strong><a href='https://wandb.ai/gradient_pwr/airbnb-downstream-task/runs/7jbryejz' target=\"_blank\">soft-sweep-27</a></strong> to <a href='https://wandb.ai/gradient_pwr/airbnb-downstream-task' target=\"_blank\">Weights & Biases</a> (<a href='https://wandb.me/run' target=\"_blank\">docs</a>)<br/>Sweep page: <a href='https://wandb.ai/gradient_pwr/airbnb-downstream-task/sweeps/ow0algrs' target=\"_blank\">https://wandb.ai/gradient_pwr/airbnb-downstream-task/sweeps/ow0algrs</a>"
      ],
      "text/plain": [
       "<IPython.core.display.HTML object>"
      ]
     },
     "metadata": {},
     "output_type": "display_data"
    },
    {
     "data": {
      "text/html": [
       " View project at <a href='https://wandb.ai/gradient_pwr/airbnb-downstream-task' target=\"_blank\">https://wandb.ai/gradient_pwr/airbnb-downstream-task</a>"
      ],
      "text/plain": [
       "<IPython.core.display.HTML object>"
      ]
     },
     "metadata": {},
     "output_type": "display_data"
    },
    {
     "data": {
      "text/html": [
       " View sweep at <a href='https://wandb.ai/gradient_pwr/airbnb-downstream-task/sweeps/ow0algrs' target=\"_blank\">https://wandb.ai/gradient_pwr/airbnb-downstream-task/sweeps/ow0algrs</a>"
      ],
      "text/plain": [
       "<IPython.core.display.HTML object>"
      ]
     },
     "metadata": {},
     "output_type": "display_data"
    },
    {
     "data": {
      "text/html": [
       " View run at <a href='https://wandb.ai/gradient_pwr/airbnb-downstream-task/runs/7jbryejz' target=\"_blank\">https://wandb.ai/gradient_pwr/airbnb-downstream-task/runs/7jbryejz</a>"
      ],
      "text/plain": [
       "<IPython.core.display.HTML object>"
      ]
     },
     "metadata": {},
     "output_type": "display_data"
    },
    {
     "name": "stdout",
     "output_type": "stream",
     "text": [
      "[0 1 2 3 4]\n"
     ]
    },
    {
     "name": "stderr",
     "output_type": "stream",
     "text": [
      "/home/grymar/studia/gradient/env/lib/python3.10/site-packages/sklearn/linear_model/_logistic.py:1172: UserWarning: l1_ratio parameter is only used when penalty is 'elasticnet'. Got (penalty=l2)\n",
      "  warnings.warn(\n"
     ]
    },
    {
     "name": "stdout",
     "output_type": "stream",
     "text": [
      "[0 1 2 3 4]\n",
      "(10757, 5)\n",
      "(10757, 5)\n"
     ]
    },
    {
     "name": "stderr",
     "output_type": "stream",
     "text": [
      "/home/grymar/studia/gradient/env/lib/python3.10/site-packages/sklearn/preprocessing/_encoders.py:975: FutureWarning: `sparse` was renamed to `sparse_output` in version 1.2 and will be removed in 1.4. `sparse_output` is ignored unless you leave `sparse` to its default value.\n",
      "  warnings.warn(\n"
     ]
    },
    {
     "name": "stdout",
     "output_type": "stream",
     "text": [
      "[0 1 2 3 4]\n"
     ]
    },
    {
     "name": "stderr",
     "output_type": "stream",
     "text": [
      "/home/grymar/studia/gradient/env/lib/python3.10/site-packages/sklearn/linear_model/_logistic.py:1172: UserWarning: l1_ratio parameter is only used when penalty is 'elasticnet'. Got (penalty=l2)\n",
      "  warnings.warn(\n"
     ]
    },
    {
     "name": "stdout",
     "output_type": "stream",
     "text": [
      "[0 1 2 3 4]\n",
      "(4203, 5)\n",
      "(4203, 5)\n"
     ]
    },
    {
     "name": "stderr",
     "output_type": "stream",
     "text": [
      "/home/grymar/studia/gradient/env/lib/python3.10/site-packages/sklearn/preprocessing/_encoders.py:975: FutureWarning: `sparse` was renamed to `sparse_output` in version 1.2 and will be removed in 1.4. `sparse_output` is ignored unless you leave `sparse` to its default value.\n",
      "  warnings.warn(\n"
     ]
    },
    {
     "data": {
      "application/vnd.jupyter.widget-view+json": {
       "model_id": "19d98af3ace54facb3d8676052c9c53c",
       "version_major": 2,
       "version_minor": 0
      },
      "text/plain": [
       "VBox(children=(Label(value='0.169 MB of 0.169 MB uploaded\\r'), FloatProgress(value=1.0, max=1.0)))"
      ]
     },
     "metadata": {},
     "output_type": "display_data"
    },
    {
     "data": {
      "text/html": [
       "<style>\n",
       "    table.wandb td:nth-child(1) { padding: 0 10px; text-align: left ; width: auto;} td:nth-child(2) {text-align: left ; width: 100%}\n",
       "    .wandb-row { display: flex; flex-direction: row; flex-wrap: wrap; justify-content: flex-start; width: 100% }\n",
       "    .wandb-col { display: flex; flex-direction: column; flex-basis: 100%; flex: 1; padding: 10px; }\n",
       "    </style>\n",
       "<div class=\"wandb-row\"><div class=\"wandb-col\"><h3>Run history:</h3><br/><table class=\"wandb\"><tr><td>USE_HEXES_ATTRS</td><td>▁</td></tr><tr><td>USE_ORTOPHOTO</td><td>▁</td></tr><tr><td>USE_OSMNX_ATTRS</td><td>▁</td></tr><tr><td>accuracy_fold_0</td><td>▁</td></tr><tr><td>accuracy_fold_1</td><td>▁</td></tr><tr><td>auc_fold_0</td><td>▁</td></tr><tr><td>auc_fold_1</td><td>▁</td></tr><tr><td>f1_fold_0</td><td>▁</td></tr><tr><td>f1_fold_1</td><td>▁</td></tr><tr><td>mean_accuracy</td><td>▁</td></tr><tr><td>mean_auc</td><td>▁</td></tr><tr><td>mean_f1</td><td>▁</td></tr></table><br/></div><div class=\"wandb-col\"><h3>Run summary:</h3><br/><table class=\"wandb\"><tr><td>USE_HEXES_ATTRS</td><td>1</td></tr><tr><td>USE_ORTOPHOTO</td><td>0</td></tr><tr><td>USE_OSMNX_ATTRS</td><td>0</td></tr><tr><td>accuracy_fold_0</td><td>0.58427</td></tr><tr><td>accuracy_fold_1</td><td>0.48656</td></tr><tr><td>auc_fold_0</td><td>0.54294</td></tr><tr><td>auc_fold_1</td><td>0.56192</td></tr><tr><td>data_structure</td><td>tabular</td></tr><tr><td>f1_fold_0</td><td>0.53331</td></tr><tr><td>f1_fold_1</td><td>0.50659</td></tr><tr><td>mean_accuracy</td><td>0.53541</td></tr><tr><td>mean_auc</td><td>0.55243</td></tr><tr><td>mean_f1</td><td>0.51995</td></tr></table><br/></div></div>"
      ],
      "text/plain": [
       "<IPython.core.display.HTML object>"
      ]
     },
     "metadata": {},
     "output_type": "display_data"
    },
    {
     "data": {
      "text/html": [
       " View run <strong style=\"color:#cdcd00\">soft-sweep-27</strong> at: <a href='https://wandb.ai/gradient_pwr/airbnb-downstream-task/runs/7jbryejz' target=\"_blank\">https://wandb.ai/gradient_pwr/airbnb-downstream-task/runs/7jbryejz</a><br/> View project at: <a href='https://wandb.ai/gradient_pwr/airbnb-downstream-task' target=\"_blank\">https://wandb.ai/gradient_pwr/airbnb-downstream-task</a><br/>Synced 5 W&B file(s), 0 media file(s), 2 artifact file(s) and 0 other file(s)"
      ],
      "text/plain": [
       "<IPython.core.display.HTML object>"
      ]
     },
     "metadata": {},
     "output_type": "display_data"
    },
    {
     "data": {
      "text/html": [
       "Find logs at: <code>./wandb/run-20240605_011947-7jbryejz/logs</code>"
      ],
      "text/plain": [
       "<IPython.core.display.HTML object>"
      ]
     },
     "metadata": {},
     "output_type": "display_data"
    },
    {
     "name": "stderr",
     "output_type": "stream",
     "text": [
      "\u001b[34m\u001b[1mwandb\u001b[0m: Sweep Agent: Waiting for job.\n",
      "\u001b[34m\u001b[1mwandb\u001b[0m: Job received.\n",
      "\u001b[34m\u001b[1mwandb\u001b[0m: Agent Starting Run: qgngklgc with config:\n",
      "\u001b[34m\u001b[1mwandb\u001b[0m: \tC: 2.2717474887450655e-05\n",
      "\u001b[34m\u001b[1mwandb\u001b[0m: \tsolver_penalty: lbfgs;l2\n",
      "Failed to detect the name of this notebook, you can set it manually with the WANDB_NOTEBOOK_NAME environment variable to enable code saving.\n"
     ]
    },
    {
     "data": {
      "text/html": [
       "Tracking run with wandb version 0.17.0"
      ],
      "text/plain": [
       "<IPython.core.display.HTML object>"
      ]
     },
     "metadata": {},
     "output_type": "display_data"
    },
    {
     "data": {
      "text/html": [
       "Run data is saved locally in <code>/home/grymar/studia/gradient/notebooks/downstream_tasks/wandb/run-20240605_012012-qgngklgc</code>"
      ],
      "text/plain": [
       "<IPython.core.display.HTML object>"
      ]
     },
     "metadata": {},
     "output_type": "display_data"
    },
    {
     "data": {
      "text/html": [
       "Syncing run <strong><a href='https://wandb.ai/gradient_pwr/airbnb-downstream-task/runs/qgngklgc' target=\"_blank\">light-sweep-28</a></strong> to <a href='https://wandb.ai/gradient_pwr/airbnb-downstream-task' target=\"_blank\">Weights & Biases</a> (<a href='https://wandb.me/run' target=\"_blank\">docs</a>)<br/>Sweep page: <a href='https://wandb.ai/gradient_pwr/airbnb-downstream-task/sweeps/ow0algrs' target=\"_blank\">https://wandb.ai/gradient_pwr/airbnb-downstream-task/sweeps/ow0algrs</a>"
      ],
      "text/plain": [
       "<IPython.core.display.HTML object>"
      ]
     },
     "metadata": {},
     "output_type": "display_data"
    },
    {
     "data": {
      "text/html": [
       " View project at <a href='https://wandb.ai/gradient_pwr/airbnb-downstream-task' target=\"_blank\">https://wandb.ai/gradient_pwr/airbnb-downstream-task</a>"
      ],
      "text/plain": [
       "<IPython.core.display.HTML object>"
      ]
     },
     "metadata": {},
     "output_type": "display_data"
    },
    {
     "data": {
      "text/html": [
       " View sweep at <a href='https://wandb.ai/gradient_pwr/airbnb-downstream-task/sweeps/ow0algrs' target=\"_blank\">https://wandb.ai/gradient_pwr/airbnb-downstream-task/sweeps/ow0algrs</a>"
      ],
      "text/plain": [
       "<IPython.core.display.HTML object>"
      ]
     },
     "metadata": {},
     "output_type": "display_data"
    },
    {
     "data": {
      "text/html": [
       " View run at <a href='https://wandb.ai/gradient_pwr/airbnb-downstream-task/runs/qgngklgc' target=\"_blank\">https://wandb.ai/gradient_pwr/airbnb-downstream-task/runs/qgngklgc</a>"
      ],
      "text/plain": [
       "<IPython.core.display.HTML object>"
      ]
     },
     "metadata": {},
     "output_type": "display_data"
    },
    {
     "name": "stdout",
     "output_type": "stream",
     "text": [
      "[0 1 2 3 4]\n"
     ]
    },
    {
     "name": "stderr",
     "output_type": "stream",
     "text": [
      "/home/grymar/studia/gradient/env/lib/python3.10/site-packages/sklearn/linear_model/_logistic.py:1172: UserWarning: l1_ratio parameter is only used when penalty is 'elasticnet'. Got (penalty=l2)\n",
      "  warnings.warn(\n"
     ]
    },
    {
     "name": "stdout",
     "output_type": "stream",
     "text": [
      "[0 1 2 3 4]\n",
      "(10757, 5)\n",
      "(10757, 5)\n"
     ]
    },
    {
     "name": "stderr",
     "output_type": "stream",
     "text": [
      "/home/grymar/studia/gradient/env/lib/python3.10/site-packages/sklearn/preprocessing/_encoders.py:975: FutureWarning: `sparse` was renamed to `sparse_output` in version 1.2 and will be removed in 1.4. `sparse_output` is ignored unless you leave `sparse` to its default value.\n",
      "  warnings.warn(\n"
     ]
    },
    {
     "name": "stdout",
     "output_type": "stream",
     "text": [
      "[0 1 2 3 4]\n"
     ]
    },
    {
     "name": "stderr",
     "output_type": "stream",
     "text": [
      "/home/grymar/studia/gradient/env/lib/python3.10/site-packages/sklearn/linear_model/_logistic.py:1172: UserWarning: l1_ratio parameter is only used when penalty is 'elasticnet'. Got (penalty=l2)\n",
      "  warnings.warn(\n"
     ]
    },
    {
     "name": "stdout",
     "output_type": "stream",
     "text": [
      "[0 1 2 3 4]\n",
      "(4203, 5)\n",
      "(4203, 5)\n"
     ]
    },
    {
     "name": "stderr",
     "output_type": "stream",
     "text": [
      "/home/grymar/studia/gradient/env/lib/python3.10/site-packages/sklearn/preprocessing/_encoders.py:975: FutureWarning: `sparse` was renamed to `sparse_output` in version 1.2 and will be removed in 1.4. `sparse_output` is ignored unless you leave `sparse` to its default value.\n",
      "  warnings.warn(\n"
     ]
    },
    {
     "data": {
      "application/vnd.jupyter.widget-view+json": {
       "model_id": "bfed897ce3fc4f1199ede0c6de44cc6b",
       "version_major": 2,
       "version_minor": 0
      },
      "text/plain": [
       "VBox(children=(Label(value='0.169 MB of 0.169 MB uploaded\\r'), FloatProgress(value=1.0, max=1.0)))"
      ]
     },
     "metadata": {},
     "output_type": "display_data"
    },
    {
     "data": {
      "text/html": [
       "<style>\n",
       "    table.wandb td:nth-child(1) { padding: 0 10px; text-align: left ; width: auto;} td:nth-child(2) {text-align: left ; width: 100%}\n",
       "    .wandb-row { display: flex; flex-direction: row; flex-wrap: wrap; justify-content: flex-start; width: 100% }\n",
       "    .wandb-col { display: flex; flex-direction: column; flex-basis: 100%; flex: 1; padding: 10px; }\n",
       "    </style>\n",
       "<div class=\"wandb-row\"><div class=\"wandb-col\"><h3>Run history:</h3><br/><table class=\"wandb\"><tr><td>USE_HEXES_ATTRS</td><td>▁</td></tr><tr><td>USE_ORTOPHOTO</td><td>▁</td></tr><tr><td>USE_OSMNX_ATTRS</td><td>▁</td></tr><tr><td>accuracy_fold_0</td><td>▁</td></tr><tr><td>accuracy_fold_1</td><td>▁</td></tr><tr><td>auc_fold_0</td><td>▁</td></tr><tr><td>auc_fold_1</td><td>▁</td></tr><tr><td>f1_fold_0</td><td>▁</td></tr><tr><td>f1_fold_1</td><td>▁</td></tr><tr><td>mean_accuracy</td><td>▁</td></tr><tr><td>mean_auc</td><td>▁</td></tr><tr><td>mean_f1</td><td>▁</td></tr></table><br/></div><div class=\"wandb-col\"><h3>Run summary:</h3><br/><table class=\"wandb\"><tr><td>USE_HEXES_ATTRS</td><td>1</td></tr><tr><td>USE_ORTOPHOTO</td><td>0</td></tr><tr><td>USE_OSMNX_ATTRS</td><td>0</td></tr><tr><td>accuracy_fold_0</td><td>0.57972</td></tr><tr><td>accuracy_fold_1</td><td>0.49132</td></tr><tr><td>auc_fold_0</td><td>0.54315</td></tr><tr><td>auc_fold_1</td><td>0.55472</td></tr><tr><td>data_structure</td><td>tabular</td></tr><tr><td>f1_fold_0</td><td>0.53118</td></tr><tr><td>f1_fold_1</td><td>0.50934</td></tr><tr><td>mean_accuracy</td><td>0.53552</td></tr><tr><td>mean_auc</td><td>0.54894</td></tr><tr><td>mean_f1</td><td>0.52026</td></tr></table><br/></div></div>"
      ],
      "text/plain": [
       "<IPython.core.display.HTML object>"
      ]
     },
     "metadata": {},
     "output_type": "display_data"
    },
    {
     "data": {
      "text/html": [
       " View run <strong style=\"color:#cdcd00\">light-sweep-28</strong> at: <a href='https://wandb.ai/gradient_pwr/airbnb-downstream-task/runs/qgngklgc' target=\"_blank\">https://wandb.ai/gradient_pwr/airbnb-downstream-task/runs/qgngklgc</a><br/> View project at: <a href='https://wandb.ai/gradient_pwr/airbnb-downstream-task' target=\"_blank\">https://wandb.ai/gradient_pwr/airbnb-downstream-task</a><br/>Synced 5 W&B file(s), 0 media file(s), 2 artifact file(s) and 0 other file(s)"
      ],
      "text/plain": [
       "<IPython.core.display.HTML object>"
      ]
     },
     "metadata": {},
     "output_type": "display_data"
    },
    {
     "data": {
      "text/html": [
       "Find logs at: <code>./wandb/run-20240605_012012-qgngklgc/logs</code>"
      ],
      "text/plain": [
       "<IPython.core.display.HTML object>"
      ]
     },
     "metadata": {},
     "output_type": "display_data"
    },
    {
     "name": "stderr",
     "output_type": "stream",
     "text": [
      "\u001b[34m\u001b[1mwandb\u001b[0m: Agent Starting Run: 7pwppucr with config:\n",
      "\u001b[34m\u001b[1mwandb\u001b[0m: \tC: 3.1594505511193814e-05\n",
      "\u001b[34m\u001b[1mwandb\u001b[0m: \tsolver_penalty: lbfgs;l2\n",
      "Failed to detect the name of this notebook, you can set it manually with the WANDB_NOTEBOOK_NAME environment variable to enable code saving.\n"
     ]
    },
    {
     "data": {
      "text/html": [
       "Tracking run with wandb version 0.17.0"
      ],
      "text/plain": [
       "<IPython.core.display.HTML object>"
      ]
     },
     "metadata": {},
     "output_type": "display_data"
    },
    {
     "data": {
      "text/html": [
       "Run data is saved locally in <code>/home/grymar/studia/gradient/notebooks/downstream_tasks/wandb/run-20240605_012028-7pwppucr</code>"
      ],
      "text/plain": [
       "<IPython.core.display.HTML object>"
      ]
     },
     "metadata": {},
     "output_type": "display_data"
    },
    {
     "data": {
      "text/html": [
       "Syncing run <strong><a href='https://wandb.ai/gradient_pwr/airbnb-downstream-task/runs/7pwppucr' target=\"_blank\">polar-sweep-29</a></strong> to <a href='https://wandb.ai/gradient_pwr/airbnb-downstream-task' target=\"_blank\">Weights & Biases</a> (<a href='https://wandb.me/run' target=\"_blank\">docs</a>)<br/>Sweep page: <a href='https://wandb.ai/gradient_pwr/airbnb-downstream-task/sweeps/ow0algrs' target=\"_blank\">https://wandb.ai/gradient_pwr/airbnb-downstream-task/sweeps/ow0algrs</a>"
      ],
      "text/plain": [
       "<IPython.core.display.HTML object>"
      ]
     },
     "metadata": {},
     "output_type": "display_data"
    },
    {
     "data": {
      "text/html": [
       " View project at <a href='https://wandb.ai/gradient_pwr/airbnb-downstream-task' target=\"_blank\">https://wandb.ai/gradient_pwr/airbnb-downstream-task</a>"
      ],
      "text/plain": [
       "<IPython.core.display.HTML object>"
      ]
     },
     "metadata": {},
     "output_type": "display_data"
    },
    {
     "data": {
      "text/html": [
       " View sweep at <a href='https://wandb.ai/gradient_pwr/airbnb-downstream-task/sweeps/ow0algrs' target=\"_blank\">https://wandb.ai/gradient_pwr/airbnb-downstream-task/sweeps/ow0algrs</a>"
      ],
      "text/plain": [
       "<IPython.core.display.HTML object>"
      ]
     },
     "metadata": {},
     "output_type": "display_data"
    },
    {
     "data": {
      "text/html": [
       " View run at <a href='https://wandb.ai/gradient_pwr/airbnb-downstream-task/runs/7pwppucr' target=\"_blank\">https://wandb.ai/gradient_pwr/airbnb-downstream-task/runs/7pwppucr</a>"
      ],
      "text/plain": [
       "<IPython.core.display.HTML object>"
      ]
     },
     "metadata": {},
     "output_type": "display_data"
    },
    {
     "name": "stdout",
     "output_type": "stream",
     "text": [
      "[0 1 2 3 4]\n"
     ]
    },
    {
     "name": "stderr",
     "output_type": "stream",
     "text": [
      "/home/grymar/studia/gradient/env/lib/python3.10/site-packages/sklearn/linear_model/_logistic.py:1172: UserWarning: l1_ratio parameter is only used when penalty is 'elasticnet'. Got (penalty=l2)\n",
      "  warnings.warn(\n"
     ]
    },
    {
     "name": "stdout",
     "output_type": "stream",
     "text": [
      "[0 1 2 3 4]\n",
      "(10757, 5)\n",
      "(10757, 5)\n"
     ]
    },
    {
     "name": "stderr",
     "output_type": "stream",
     "text": [
      "/home/grymar/studia/gradient/env/lib/python3.10/site-packages/sklearn/preprocessing/_encoders.py:975: FutureWarning: `sparse` was renamed to `sparse_output` in version 1.2 and will be removed in 1.4. `sparse_output` is ignored unless you leave `sparse` to its default value.\n",
      "  warnings.warn(\n"
     ]
    },
    {
     "name": "stdout",
     "output_type": "stream",
     "text": [
      "[0 1 2 3 4]\n"
     ]
    },
    {
     "name": "stderr",
     "output_type": "stream",
     "text": [
      "/home/grymar/studia/gradient/env/lib/python3.10/site-packages/sklearn/linear_model/_logistic.py:1172: UserWarning: l1_ratio parameter is only used when penalty is 'elasticnet'. Got (penalty=l2)\n",
      "  warnings.warn(\n"
     ]
    },
    {
     "name": "stdout",
     "output_type": "stream",
     "text": [
      "[0 1 2 3 4]\n",
      "(4203, 5)\n",
      "(4203, 5)\n"
     ]
    },
    {
     "name": "stderr",
     "output_type": "stream",
     "text": [
      "/home/grymar/studia/gradient/env/lib/python3.10/site-packages/sklearn/preprocessing/_encoders.py:975: FutureWarning: `sparse` was renamed to `sparse_output` in version 1.2 and will be removed in 1.4. `sparse_output` is ignored unless you leave `sparse` to its default value.\n",
      "  warnings.warn(\n"
     ]
    },
    {
     "data": {
      "application/vnd.jupyter.widget-view+json": {
       "model_id": "ba322ec6142c492891092ed713c40783",
       "version_major": 2,
       "version_minor": 0
      },
      "text/plain": [
       "VBox(children=(Label(value='0.169 MB of 0.169 MB uploaded\\r'), FloatProgress(value=1.0, max=1.0)))"
      ]
     },
     "metadata": {},
     "output_type": "display_data"
    },
    {
     "data": {
      "text/html": [
       "<style>\n",
       "    table.wandb td:nth-child(1) { padding: 0 10px; text-align: left ; width: auto;} td:nth-child(2) {text-align: left ; width: 100%}\n",
       "    .wandb-row { display: flex; flex-direction: row; flex-wrap: wrap; justify-content: flex-start; width: 100% }\n",
       "    .wandb-col { display: flex; flex-direction: column; flex-basis: 100%; flex: 1; padding: 10px; }\n",
       "    </style>\n",
       "<div class=\"wandb-row\"><div class=\"wandb-col\"><h3>Run history:</h3><br/><table class=\"wandb\"><tr><td>USE_HEXES_ATTRS</td><td>▁</td></tr><tr><td>USE_ORTOPHOTO</td><td>▁</td></tr><tr><td>USE_OSMNX_ATTRS</td><td>▁</td></tr><tr><td>accuracy_fold_0</td><td>▁</td></tr><tr><td>accuracy_fold_1</td><td>▁</td></tr><tr><td>auc_fold_0</td><td>▁</td></tr><tr><td>auc_fold_1</td><td>▁</td></tr><tr><td>f1_fold_0</td><td>▁</td></tr><tr><td>f1_fold_1</td><td>▁</td></tr><tr><td>mean_accuracy</td><td>▁</td></tr><tr><td>mean_auc</td><td>▁</td></tr><tr><td>mean_f1</td><td>▁</td></tr></table><br/></div><div class=\"wandb-col\"><h3>Run summary:</h3><br/><table class=\"wandb\"><tr><td>USE_HEXES_ATTRS</td><td>1</td></tr><tr><td>USE_ORTOPHOTO</td><td>0</td></tr><tr><td>USE_OSMNX_ATTRS</td><td>0</td></tr><tr><td>accuracy_fold_0</td><td>0.57014</td></tr><tr><td>accuracy_fold_1</td><td>0.49774</td></tr><tr><td>auc_fold_0</td><td>0.54382</td></tr><tr><td>auc_fold_1</td><td>0.54416</td></tr><tr><td>data_structure</td><td>tabular</td></tr><tr><td>f1_fold_0</td><td>0.52643</td></tr><tr><td>f1_fold_1</td><td>0.51014</td></tr><tr><td>mean_accuracy</td><td>0.53394</td></tr><tr><td>mean_auc</td><td>0.54399</td></tr><tr><td>mean_f1</td><td>0.51828</td></tr></table><br/></div></div>"
      ],
      "text/plain": [
       "<IPython.core.display.HTML object>"
      ]
     },
     "metadata": {},
     "output_type": "display_data"
    },
    {
     "data": {
      "text/html": [
       " View run <strong style=\"color:#cdcd00\">polar-sweep-29</strong> at: <a href='https://wandb.ai/gradient_pwr/airbnb-downstream-task/runs/7pwppucr' target=\"_blank\">https://wandb.ai/gradient_pwr/airbnb-downstream-task/runs/7pwppucr</a><br/> View project at: <a href='https://wandb.ai/gradient_pwr/airbnb-downstream-task' target=\"_blank\">https://wandb.ai/gradient_pwr/airbnb-downstream-task</a><br/>Synced 5 W&B file(s), 0 media file(s), 2 artifact file(s) and 0 other file(s)"
      ],
      "text/plain": [
       "<IPython.core.display.HTML object>"
      ]
     },
     "metadata": {},
     "output_type": "display_data"
    },
    {
     "data": {
      "text/html": [
       "Find logs at: <code>./wandb/run-20240605_012028-7pwppucr/logs</code>"
      ],
      "text/plain": [
       "<IPython.core.display.HTML object>"
      ]
     },
     "metadata": {},
     "output_type": "display_data"
    },
    {
     "name": "stderr",
     "output_type": "stream",
     "text": [
      "\u001b[34m\u001b[1mwandb\u001b[0m: Sweep Agent: Waiting for job.\n",
      "\u001b[34m\u001b[1mwandb\u001b[0m: Job received.\n",
      "\u001b[34m\u001b[1mwandb\u001b[0m: Agent Starting Run: iy2i2bhh with config:\n",
      "\u001b[34m\u001b[1mwandb\u001b[0m: \tC: 2.241896547770651e-05\n",
      "\u001b[34m\u001b[1mwandb\u001b[0m: \tsolver_penalty: lbfgs;l2\n",
      "Failed to detect the name of this notebook, you can set it manually with the WANDB_NOTEBOOK_NAME environment variable to enable code saving.\n"
     ]
    },
    {
     "data": {
      "text/html": [
       "Tracking run with wandb version 0.17.0"
      ],
      "text/plain": [
       "<IPython.core.display.HTML object>"
      ]
     },
     "metadata": {},
     "output_type": "display_data"
    },
    {
     "data": {
      "text/html": [
       "Run data is saved locally in <code>/home/grymar/studia/gradient/notebooks/downstream_tasks/wandb/run-20240605_012052-iy2i2bhh</code>"
      ],
      "text/plain": [
       "<IPython.core.display.HTML object>"
      ]
     },
     "metadata": {},
     "output_type": "display_data"
    },
    {
     "data": {
      "text/html": [
       "Syncing run <strong><a href='https://wandb.ai/gradient_pwr/airbnb-downstream-task/runs/iy2i2bhh' target=\"_blank\">dark-sweep-30</a></strong> to <a href='https://wandb.ai/gradient_pwr/airbnb-downstream-task' target=\"_blank\">Weights & Biases</a> (<a href='https://wandb.me/run' target=\"_blank\">docs</a>)<br/>Sweep page: <a href='https://wandb.ai/gradient_pwr/airbnb-downstream-task/sweeps/ow0algrs' target=\"_blank\">https://wandb.ai/gradient_pwr/airbnb-downstream-task/sweeps/ow0algrs</a>"
      ],
      "text/plain": [
       "<IPython.core.display.HTML object>"
      ]
     },
     "metadata": {},
     "output_type": "display_data"
    },
    {
     "data": {
      "text/html": [
       " View project at <a href='https://wandb.ai/gradient_pwr/airbnb-downstream-task' target=\"_blank\">https://wandb.ai/gradient_pwr/airbnb-downstream-task</a>"
      ],
      "text/plain": [
       "<IPython.core.display.HTML object>"
      ]
     },
     "metadata": {},
     "output_type": "display_data"
    },
    {
     "data": {
      "text/html": [
       " View sweep at <a href='https://wandb.ai/gradient_pwr/airbnb-downstream-task/sweeps/ow0algrs' target=\"_blank\">https://wandb.ai/gradient_pwr/airbnb-downstream-task/sweeps/ow0algrs</a>"
      ],
      "text/plain": [
       "<IPython.core.display.HTML object>"
      ]
     },
     "metadata": {},
     "output_type": "display_data"
    },
    {
     "data": {
      "text/html": [
       " View run at <a href='https://wandb.ai/gradient_pwr/airbnb-downstream-task/runs/iy2i2bhh' target=\"_blank\">https://wandb.ai/gradient_pwr/airbnb-downstream-task/runs/iy2i2bhh</a>"
      ],
      "text/plain": [
       "<IPython.core.display.HTML object>"
      ]
     },
     "metadata": {},
     "output_type": "display_data"
    },
    {
     "name": "stdout",
     "output_type": "stream",
     "text": [
      "[0 1 2 3 4]\n"
     ]
    },
    {
     "name": "stderr",
     "output_type": "stream",
     "text": [
      "/home/grymar/studia/gradient/env/lib/python3.10/site-packages/sklearn/linear_model/_logistic.py:1172: UserWarning: l1_ratio parameter is only used when penalty is 'elasticnet'. Got (penalty=l2)\n",
      "  warnings.warn(\n"
     ]
    },
    {
     "name": "stdout",
     "output_type": "stream",
     "text": [
      "[0 1 2 3 4]\n",
      "(10757, 5)\n",
      "(10757, 5)\n"
     ]
    },
    {
     "name": "stderr",
     "output_type": "stream",
     "text": [
      "/home/grymar/studia/gradient/env/lib/python3.10/site-packages/sklearn/preprocessing/_encoders.py:975: FutureWarning: `sparse` was renamed to `sparse_output` in version 1.2 and will be removed in 1.4. `sparse_output` is ignored unless you leave `sparse` to its default value.\n",
      "  warnings.warn(\n"
     ]
    },
    {
     "name": "stdout",
     "output_type": "stream",
     "text": [
      "[0 1 2 3 4]\n"
     ]
    },
    {
     "name": "stderr",
     "output_type": "stream",
     "text": [
      "/home/grymar/studia/gradient/env/lib/python3.10/site-packages/sklearn/linear_model/_logistic.py:1172: UserWarning: l1_ratio parameter is only used when penalty is 'elasticnet'. Got (penalty=l2)\n",
      "  warnings.warn(\n"
     ]
    },
    {
     "name": "stdout",
     "output_type": "stream",
     "text": [
      "[0 1 2 3 4]\n",
      "(4203, 5)\n",
      "(4203, 5)\n"
     ]
    },
    {
     "name": "stderr",
     "output_type": "stream",
     "text": [
      "/home/grymar/studia/gradient/env/lib/python3.10/site-packages/sklearn/preprocessing/_encoders.py:975: FutureWarning: `sparse` was renamed to `sparse_output` in version 1.2 and will be removed in 1.4. `sparse_output` is ignored unless you leave `sparse` to its default value.\n",
      "  warnings.warn(\n"
     ]
    },
    {
     "data": {
      "application/vnd.jupyter.widget-view+json": {
       "model_id": "e923237e652f4615a7e0369f667df75d",
       "version_major": 2,
       "version_minor": 0
      },
      "text/plain": [
       "VBox(children=(Label(value='0.169 MB of 0.169 MB uploaded\\r'), FloatProgress(value=1.0, max=1.0)))"
      ]
     },
     "metadata": {},
     "output_type": "display_data"
    },
    {
     "data": {
      "text/html": [
       "<style>\n",
       "    table.wandb td:nth-child(1) { padding: 0 10px; text-align: left ; width: auto;} td:nth-child(2) {text-align: left ; width: 100%}\n",
       "    .wandb-row { display: flex; flex-direction: row; flex-wrap: wrap; justify-content: flex-start; width: 100% }\n",
       "    .wandb-col { display: flex; flex-direction: column; flex-basis: 100%; flex: 1; padding: 10px; }\n",
       "    </style>\n",
       "<div class=\"wandb-row\"><div class=\"wandb-col\"><h3>Run history:</h3><br/><table class=\"wandb\"><tr><td>USE_HEXES_ATTRS</td><td>▁</td></tr><tr><td>USE_ORTOPHOTO</td><td>▁</td></tr><tr><td>USE_OSMNX_ATTRS</td><td>▁</td></tr><tr><td>accuracy_fold_0</td><td>▁</td></tr><tr><td>accuracy_fold_1</td><td>▁</td></tr><tr><td>auc_fold_0</td><td>▁</td></tr><tr><td>auc_fold_1</td><td>▁</td></tr><tr><td>f1_fold_0</td><td>▁</td></tr><tr><td>f1_fold_1</td><td>▁</td></tr><tr><td>mean_accuracy</td><td>▁</td></tr><tr><td>mean_auc</td><td>▁</td></tr><tr><td>mean_f1</td><td>▁</td></tr></table><br/></div><div class=\"wandb-col\"><h3>Run summary:</h3><br/><table class=\"wandb\"><tr><td>USE_HEXES_ATTRS</td><td>1</td></tr><tr><td>USE_ORTOPHOTO</td><td>0</td></tr><tr><td>USE_OSMNX_ATTRS</td><td>0</td></tr><tr><td>accuracy_fold_0</td><td>0.58046</td></tr><tr><td>accuracy_fold_1</td><td>0.49108</td></tr><tr><td>auc_fold_0</td><td>0.54312</td></tr><tr><td>auc_fold_1</td><td>0.55521</td></tr><tr><td>data_structure</td><td>tabular</td></tr><tr><td>f1_fold_0</td><td>0.53158</td></tr><tr><td>f1_fold_1</td><td>0.50916</td></tr><tr><td>mean_accuracy</td><td>0.53577</td></tr><tr><td>mean_auc</td><td>0.54917</td></tr><tr><td>mean_f1</td><td>0.52037</td></tr></table><br/></div></div>"
      ],
      "text/plain": [
       "<IPython.core.display.HTML object>"
      ]
     },
     "metadata": {},
     "output_type": "display_data"
    },
    {
     "data": {
      "text/html": [
       " View run <strong style=\"color:#cdcd00\">dark-sweep-30</strong> at: <a href='https://wandb.ai/gradient_pwr/airbnb-downstream-task/runs/iy2i2bhh' target=\"_blank\">https://wandb.ai/gradient_pwr/airbnb-downstream-task/runs/iy2i2bhh</a><br/> View project at: <a href='https://wandb.ai/gradient_pwr/airbnb-downstream-task' target=\"_blank\">https://wandb.ai/gradient_pwr/airbnb-downstream-task</a><br/>Synced 5 W&B file(s), 0 media file(s), 2 artifact file(s) and 0 other file(s)"
      ],
      "text/plain": [
       "<IPython.core.display.HTML object>"
      ]
     },
     "metadata": {},
     "output_type": "display_data"
    },
    {
     "data": {
      "text/html": [
       "Find logs at: <code>./wandb/run-20240605_012052-iy2i2bhh/logs</code>"
      ],
      "text/plain": [
       "<IPython.core.display.HTML object>"
      ]
     },
     "metadata": {},
     "output_type": "display_data"
    },
    {
     "name": "stderr",
     "output_type": "stream",
     "text": [
      "\u001b[34m\u001b[1mwandb\u001b[0m: Agent Starting Run: aiplack1 with config:\n",
      "\u001b[34m\u001b[1mwandb\u001b[0m: \tC: 2.053308125449417e-05\n",
      "\u001b[34m\u001b[1mwandb\u001b[0m: \tsolver_penalty: lbfgs;l2\n",
      "Failed to detect the name of this notebook, you can set it manually with the WANDB_NOTEBOOK_NAME environment variable to enable code saving.\n"
     ]
    },
    {
     "data": {
      "text/html": [
       "Tracking run with wandb version 0.17.0"
      ],
      "text/plain": [
       "<IPython.core.display.HTML object>"
      ]
     },
     "metadata": {},
     "output_type": "display_data"
    },
    {
     "data": {
      "text/html": [
       "Run data is saved locally in <code>/home/grymar/studia/gradient/notebooks/downstream_tasks/wandb/run-20240605_012111-aiplack1</code>"
      ],
      "text/plain": [
       "<IPython.core.display.HTML object>"
      ]
     },
     "metadata": {},
     "output_type": "display_data"
    },
    {
     "data": {
      "text/html": [
       "Syncing run <strong><a href='https://wandb.ai/gradient_pwr/airbnb-downstream-task/runs/aiplack1' target=\"_blank\">colorful-sweep-31</a></strong> to <a href='https://wandb.ai/gradient_pwr/airbnb-downstream-task' target=\"_blank\">Weights & Biases</a> (<a href='https://wandb.me/run' target=\"_blank\">docs</a>)<br/>Sweep page: <a href='https://wandb.ai/gradient_pwr/airbnb-downstream-task/sweeps/ow0algrs' target=\"_blank\">https://wandb.ai/gradient_pwr/airbnb-downstream-task/sweeps/ow0algrs</a>"
      ],
      "text/plain": [
       "<IPython.core.display.HTML object>"
      ]
     },
     "metadata": {},
     "output_type": "display_data"
    },
    {
     "data": {
      "text/html": [
       " View project at <a href='https://wandb.ai/gradient_pwr/airbnb-downstream-task' target=\"_blank\">https://wandb.ai/gradient_pwr/airbnb-downstream-task</a>"
      ],
      "text/plain": [
       "<IPython.core.display.HTML object>"
      ]
     },
     "metadata": {},
     "output_type": "display_data"
    },
    {
     "data": {
      "text/html": [
       " View sweep at <a href='https://wandb.ai/gradient_pwr/airbnb-downstream-task/sweeps/ow0algrs' target=\"_blank\">https://wandb.ai/gradient_pwr/airbnb-downstream-task/sweeps/ow0algrs</a>"
      ],
      "text/plain": [
       "<IPython.core.display.HTML object>"
      ]
     },
     "metadata": {},
     "output_type": "display_data"
    },
    {
     "data": {
      "text/html": [
       " View run at <a href='https://wandb.ai/gradient_pwr/airbnb-downstream-task/runs/aiplack1' target=\"_blank\">https://wandb.ai/gradient_pwr/airbnb-downstream-task/runs/aiplack1</a>"
      ],
      "text/plain": [
       "<IPython.core.display.HTML object>"
      ]
     },
     "metadata": {},
     "output_type": "display_data"
    },
    {
     "name": "stdout",
     "output_type": "stream",
     "text": [
      "[0 1 2 3 4]\n"
     ]
    },
    {
     "name": "stderr",
     "output_type": "stream",
     "text": [
      "/home/grymar/studia/gradient/env/lib/python3.10/site-packages/sklearn/linear_model/_logistic.py:1172: UserWarning: l1_ratio parameter is only used when penalty is 'elasticnet'. Got (penalty=l2)\n",
      "  warnings.warn(\n"
     ]
    },
    {
     "name": "stdout",
     "output_type": "stream",
     "text": [
      "[0 1 2 3 4]\n",
      "(10757, 5)\n",
      "(10757, 5)\n"
     ]
    },
    {
     "name": "stderr",
     "output_type": "stream",
     "text": [
      "/home/grymar/studia/gradient/env/lib/python3.10/site-packages/sklearn/preprocessing/_encoders.py:975: FutureWarning: `sparse` was renamed to `sparse_output` in version 1.2 and will be removed in 1.4. `sparse_output` is ignored unless you leave `sparse` to its default value.\n",
      "  warnings.warn(\n"
     ]
    },
    {
     "name": "stdout",
     "output_type": "stream",
     "text": [
      "[0 1 2 3 4]\n"
     ]
    },
    {
     "name": "stderr",
     "output_type": "stream",
     "text": [
      "/home/grymar/studia/gradient/env/lib/python3.10/site-packages/sklearn/linear_model/_logistic.py:1172: UserWarning: l1_ratio parameter is only used when penalty is 'elasticnet'. Got (penalty=l2)\n",
      "  warnings.warn(\n"
     ]
    },
    {
     "name": "stdout",
     "output_type": "stream",
     "text": [
      "[0 1 2 3 4]\n",
      "(4203, 5)\n",
      "(4203, 5)\n"
     ]
    },
    {
     "name": "stderr",
     "output_type": "stream",
     "text": [
      "/home/grymar/studia/gradient/env/lib/python3.10/site-packages/sklearn/preprocessing/_encoders.py:975: FutureWarning: `sparse` was renamed to `sparse_output` in version 1.2 and will be removed in 1.4. `sparse_output` is ignored unless you leave `sparse` to its default value.\n",
      "  warnings.warn(\n"
     ]
    },
    {
     "data": {
      "application/vnd.jupyter.widget-view+json": {
       "model_id": "56bee9da57264df59d7dff587aa47b3d",
       "version_major": 2,
       "version_minor": 0
      },
      "text/plain": [
       "VBox(children=(Label(value='0.169 MB of 0.169 MB uploaded\\r'), FloatProgress(value=1.0, max=1.0)))"
      ]
     },
     "metadata": {},
     "output_type": "display_data"
    },
    {
     "data": {
      "text/html": [
       "<style>\n",
       "    table.wandb td:nth-child(1) { padding: 0 10px; text-align: left ; width: auto;} td:nth-child(2) {text-align: left ; width: 100%}\n",
       "    .wandb-row { display: flex; flex-direction: row; flex-wrap: wrap; justify-content: flex-start; width: 100% }\n",
       "    .wandb-col { display: flex; flex-direction: column; flex-basis: 100%; flex: 1; padding: 10px; }\n",
       "    </style>\n",
       "<div class=\"wandb-row\"><div class=\"wandb-col\"><h3>Run history:</h3><br/><table class=\"wandb\"><tr><td>USE_HEXES_ATTRS</td><td>▁</td></tr><tr><td>USE_ORTOPHOTO</td><td>▁</td></tr><tr><td>USE_OSMNX_ATTRS</td><td>▁</td></tr><tr><td>accuracy_fold_0</td><td>▁</td></tr><tr><td>accuracy_fold_1</td><td>▁</td></tr><tr><td>auc_fold_0</td><td>▁</td></tr><tr><td>auc_fold_1</td><td>▁</td></tr><tr><td>f1_fold_0</td><td>▁</td></tr><tr><td>f1_fold_1</td><td>▁</td></tr><tr><td>mean_accuracy</td><td>▁</td></tr><tr><td>mean_auc</td><td>▁</td></tr><tr><td>mean_f1</td><td>▁</td></tr></table><br/></div><div class=\"wandb-col\"><h3>Run summary:</h3><br/><table class=\"wandb\"><tr><td>USE_HEXES_ATTRS</td><td>1</td></tr><tr><td>USE_ORTOPHOTO</td><td>0</td></tr><tr><td>USE_OSMNX_ATTRS</td><td>0</td></tr><tr><td>accuracy_fold_0</td><td>0.58232</td></tr><tr><td>accuracy_fold_1</td><td>0.48894</td></tr><tr><td>auc_fold_0</td><td>0.54322</td></tr><tr><td>auc_fold_1</td><td>0.55844</td></tr><tr><td>data_structure</td><td>tabular</td></tr><tr><td>f1_fold_0</td><td>0.53263</td></tr><tr><td>f1_fold_1</td><td>0.50767</td></tr><tr><td>mean_accuracy</td><td>0.53563</td></tr><tr><td>mean_auc</td><td>0.55083</td></tr><tr><td>mean_f1</td><td>0.52015</td></tr></table><br/></div></div>"
      ],
      "text/plain": [
       "<IPython.core.display.HTML object>"
      ]
     },
     "metadata": {},
     "output_type": "display_data"
    },
    {
     "data": {
      "text/html": [
       " View run <strong style=\"color:#cdcd00\">colorful-sweep-31</strong> at: <a href='https://wandb.ai/gradient_pwr/airbnb-downstream-task/runs/aiplack1' target=\"_blank\">https://wandb.ai/gradient_pwr/airbnb-downstream-task/runs/aiplack1</a><br/> View project at: <a href='https://wandb.ai/gradient_pwr/airbnb-downstream-task' target=\"_blank\">https://wandb.ai/gradient_pwr/airbnb-downstream-task</a><br/>Synced 5 W&B file(s), 0 media file(s), 2 artifact file(s) and 0 other file(s)"
      ],
      "text/plain": [
       "<IPython.core.display.HTML object>"
      ]
     },
     "metadata": {},
     "output_type": "display_data"
    },
    {
     "data": {
      "text/html": [
       "Find logs at: <code>./wandb/run-20240605_012111-aiplack1/logs</code>"
      ],
      "text/plain": [
       "<IPython.core.display.HTML object>"
      ]
     },
     "metadata": {},
     "output_type": "display_data"
    },
    {
     "name": "stderr",
     "output_type": "stream",
     "text": [
      "\u001b[34m\u001b[1mwandb\u001b[0m: Agent Starting Run: 6wrmrgx0 with config:\n",
      "\u001b[34m\u001b[1mwandb\u001b[0m: \tC: 2.5504264759602393e-05\n",
      "\u001b[34m\u001b[1mwandb\u001b[0m: \tsolver_penalty: lbfgs;l2\n",
      "Failed to detect the name of this notebook, you can set it manually with the WANDB_NOTEBOOK_NAME environment variable to enable code saving.\n"
     ]
    },
    {
     "data": {
      "text/html": [
       "Tracking run with wandb version 0.17.0"
      ],
      "text/plain": [
       "<IPython.core.display.HTML object>"
      ]
     },
     "metadata": {},
     "output_type": "display_data"
    },
    {
     "data": {
      "text/html": [
       "Run data is saved locally in <code>/home/grymar/studia/gradient/notebooks/downstream_tasks/wandb/run-20240605_012126-6wrmrgx0</code>"
      ],
      "text/plain": [
       "<IPython.core.display.HTML object>"
      ]
     },
     "metadata": {},
     "output_type": "display_data"
    },
    {
     "data": {
      "text/html": [
       "Syncing run <strong><a href='https://wandb.ai/gradient_pwr/airbnb-downstream-task/runs/6wrmrgx0' target=\"_blank\">kind-sweep-32</a></strong> to <a href='https://wandb.ai/gradient_pwr/airbnb-downstream-task' target=\"_blank\">Weights & Biases</a> (<a href='https://wandb.me/run' target=\"_blank\">docs</a>)<br/>Sweep page: <a href='https://wandb.ai/gradient_pwr/airbnb-downstream-task/sweeps/ow0algrs' target=\"_blank\">https://wandb.ai/gradient_pwr/airbnb-downstream-task/sweeps/ow0algrs</a>"
      ],
      "text/plain": [
       "<IPython.core.display.HTML object>"
      ]
     },
     "metadata": {},
     "output_type": "display_data"
    },
    {
     "data": {
      "text/html": [
       " View project at <a href='https://wandb.ai/gradient_pwr/airbnb-downstream-task' target=\"_blank\">https://wandb.ai/gradient_pwr/airbnb-downstream-task</a>"
      ],
      "text/plain": [
       "<IPython.core.display.HTML object>"
      ]
     },
     "metadata": {},
     "output_type": "display_data"
    },
    {
     "data": {
      "text/html": [
       " View sweep at <a href='https://wandb.ai/gradient_pwr/airbnb-downstream-task/sweeps/ow0algrs' target=\"_blank\">https://wandb.ai/gradient_pwr/airbnb-downstream-task/sweeps/ow0algrs</a>"
      ],
      "text/plain": [
       "<IPython.core.display.HTML object>"
      ]
     },
     "metadata": {},
     "output_type": "display_data"
    },
    {
     "data": {
      "text/html": [
       " View run at <a href='https://wandb.ai/gradient_pwr/airbnb-downstream-task/runs/6wrmrgx0' target=\"_blank\">https://wandb.ai/gradient_pwr/airbnb-downstream-task/runs/6wrmrgx0</a>"
      ],
      "text/plain": [
       "<IPython.core.display.HTML object>"
      ]
     },
     "metadata": {},
     "output_type": "display_data"
    },
    {
     "name": "stdout",
     "output_type": "stream",
     "text": [
      "[0 1 2 3 4]\n"
     ]
    },
    {
     "name": "stderr",
     "output_type": "stream",
     "text": [
      "/home/grymar/studia/gradient/env/lib/python3.10/site-packages/sklearn/linear_model/_logistic.py:1172: UserWarning: l1_ratio parameter is only used when penalty is 'elasticnet'. Got (penalty=l2)\n",
      "  warnings.warn(\n"
     ]
    },
    {
     "name": "stdout",
     "output_type": "stream",
     "text": [
      "[0 1 2 3 4]\n",
      "(10757, 5)\n",
      "(10757, 5)\n"
     ]
    },
    {
     "name": "stderr",
     "output_type": "stream",
     "text": [
      "/home/grymar/studia/gradient/env/lib/python3.10/site-packages/sklearn/preprocessing/_encoders.py:975: FutureWarning: `sparse` was renamed to `sparse_output` in version 1.2 and will be removed in 1.4. `sparse_output` is ignored unless you leave `sparse` to its default value.\n",
      "  warnings.warn(\n"
     ]
    },
    {
     "name": "stdout",
     "output_type": "stream",
     "text": [
      "[0 1 2 3 4]\n"
     ]
    },
    {
     "name": "stderr",
     "output_type": "stream",
     "text": [
      "/home/grymar/studia/gradient/env/lib/python3.10/site-packages/sklearn/linear_model/_logistic.py:1172: UserWarning: l1_ratio parameter is only used when penalty is 'elasticnet'. Got (penalty=l2)\n",
      "  warnings.warn(\n"
     ]
    },
    {
     "name": "stdout",
     "output_type": "stream",
     "text": [
      "[0 1 2 3 4]\n",
      "(4203, 5)\n",
      "(4203, 5)\n"
     ]
    },
    {
     "name": "stderr",
     "output_type": "stream",
     "text": [
      "/home/grymar/studia/gradient/env/lib/python3.10/site-packages/sklearn/preprocessing/_encoders.py:975: FutureWarning: `sparse` was renamed to `sparse_output` in version 1.2 and will be removed in 1.4. `sparse_output` is ignored unless you leave `sparse` to its default value.\n",
      "  warnings.warn(\n"
     ]
    },
    {
     "data": {
      "application/vnd.jupyter.widget-view+json": {
       "model_id": "3059fd296df4400ba88aed3f9193ddd5",
       "version_major": 2,
       "version_minor": 0
      },
      "text/plain": [
       "VBox(children=(Label(value='0.169 MB of 0.169 MB uploaded\\r'), FloatProgress(value=1.0, max=1.0)))"
      ]
     },
     "metadata": {},
     "output_type": "display_data"
    },
    {
     "data": {
      "text/html": [
       "<style>\n",
       "    table.wandb td:nth-child(1) { padding: 0 10px; text-align: left ; width: auto;} td:nth-child(2) {text-align: left ; width: 100%}\n",
       "    .wandb-row { display: flex; flex-direction: row; flex-wrap: wrap; justify-content: flex-start; width: 100% }\n",
       "    .wandb-col { display: flex; flex-direction: column; flex-basis: 100%; flex: 1; padding: 10px; }\n",
       "    </style>\n",
       "<div class=\"wandb-row\"><div class=\"wandb-col\"><h3>Run history:</h3><br/><table class=\"wandb\"><tr><td>USE_HEXES_ATTRS</td><td>▁</td></tr><tr><td>USE_ORTOPHOTO</td><td>▁</td></tr><tr><td>USE_OSMNX_ATTRS</td><td>▁</td></tr><tr><td>accuracy_fold_0</td><td>▁</td></tr><tr><td>accuracy_fold_1</td><td>▁</td></tr><tr><td>auc_fold_0</td><td>▁</td></tr><tr><td>auc_fold_1</td><td>▁</td></tr><tr><td>f1_fold_0</td><td>▁</td></tr><tr><td>f1_fold_1</td><td>▁</td></tr><tr><td>mean_accuracy</td><td>▁</td></tr><tr><td>mean_auc</td><td>▁</td></tr><tr><td>mean_f1</td><td>▁</td></tr></table><br/></div><div class=\"wandb-col\"><h3>Run summary:</h3><br/><table class=\"wandb\"><tr><td>USE_HEXES_ATTRS</td><td>1</td></tr><tr><td>USE_ORTOPHOTO</td><td>0</td></tr><tr><td>USE_OSMNX_ATTRS</td><td>0</td></tr><tr><td>accuracy_fold_0</td><td>0.57618</td></tr><tr><td>accuracy_fold_1</td><td>0.49346</td></tr><tr><td>auc_fold_0</td><td>0.54332</td></tr><tr><td>auc_fold_1</td><td>0.55183</td></tr><tr><td>data_structure</td><td>tabular</td></tr><tr><td>f1_fold_0</td><td>0.52931</td></tr><tr><td>f1_fold_1</td><td>0.50911</td></tr><tr><td>mean_accuracy</td><td>0.53482</td></tr><tr><td>mean_auc</td><td>0.54758</td></tr><tr><td>mean_f1</td><td>0.51921</td></tr></table><br/></div></div>"
      ],
      "text/plain": [
       "<IPython.core.display.HTML object>"
      ]
     },
     "metadata": {},
     "output_type": "display_data"
    },
    {
     "data": {
      "text/html": [
       " View run <strong style=\"color:#cdcd00\">kind-sweep-32</strong> at: <a href='https://wandb.ai/gradient_pwr/airbnb-downstream-task/runs/6wrmrgx0' target=\"_blank\">https://wandb.ai/gradient_pwr/airbnb-downstream-task/runs/6wrmrgx0</a><br/> View project at: <a href='https://wandb.ai/gradient_pwr/airbnb-downstream-task' target=\"_blank\">https://wandb.ai/gradient_pwr/airbnb-downstream-task</a><br/>Synced 5 W&B file(s), 0 media file(s), 2 artifact file(s) and 0 other file(s)"
      ],
      "text/plain": [
       "<IPython.core.display.HTML object>"
      ]
     },
     "metadata": {},
     "output_type": "display_data"
    },
    {
     "data": {
      "text/html": [
       "Find logs at: <code>./wandb/run-20240605_012126-6wrmrgx0/logs</code>"
      ],
      "text/plain": [
       "<IPython.core.display.HTML object>"
      ]
     },
     "metadata": {},
     "output_type": "display_data"
    },
    {
     "name": "stderr",
     "output_type": "stream",
     "text": [
      "\u001b[34m\u001b[1mwandb\u001b[0m: Agent Starting Run: ktb4qy0x with config:\n",
      "\u001b[34m\u001b[1mwandb\u001b[0m: \tC: 1.3397094331812466e-05\n",
      "\u001b[34m\u001b[1mwandb\u001b[0m: \tsolver_penalty: lbfgs;l2\n",
      "Failed to detect the name of this notebook, you can set it manually with the WANDB_NOTEBOOK_NAME environment variable to enable code saving.\n"
     ]
    },
    {
     "data": {
      "text/html": [
       "Tracking run with wandb version 0.17.0"
      ],
      "text/plain": [
       "<IPython.core.display.HTML object>"
      ]
     },
     "metadata": {},
     "output_type": "display_data"
    },
    {
     "data": {
      "text/html": [
       "Run data is saved locally in <code>/home/grymar/studia/gradient/notebooks/downstream_tasks/wandb/run-20240605_012143-ktb4qy0x</code>"
      ],
      "text/plain": [
       "<IPython.core.display.HTML object>"
      ]
     },
     "metadata": {},
     "output_type": "display_data"
    },
    {
     "data": {
      "text/html": [
       "Syncing run <strong><a href='https://wandb.ai/gradient_pwr/airbnb-downstream-task/runs/ktb4qy0x' target=\"_blank\">peachy-sweep-33</a></strong> to <a href='https://wandb.ai/gradient_pwr/airbnb-downstream-task' target=\"_blank\">Weights & Biases</a> (<a href='https://wandb.me/run' target=\"_blank\">docs</a>)<br/>Sweep page: <a href='https://wandb.ai/gradient_pwr/airbnb-downstream-task/sweeps/ow0algrs' target=\"_blank\">https://wandb.ai/gradient_pwr/airbnb-downstream-task/sweeps/ow0algrs</a>"
      ],
      "text/plain": [
       "<IPython.core.display.HTML object>"
      ]
     },
     "metadata": {},
     "output_type": "display_data"
    },
    {
     "data": {
      "text/html": [
       " View project at <a href='https://wandb.ai/gradient_pwr/airbnb-downstream-task' target=\"_blank\">https://wandb.ai/gradient_pwr/airbnb-downstream-task</a>"
      ],
      "text/plain": [
       "<IPython.core.display.HTML object>"
      ]
     },
     "metadata": {},
     "output_type": "display_data"
    },
    {
     "data": {
      "text/html": [
       " View sweep at <a href='https://wandb.ai/gradient_pwr/airbnb-downstream-task/sweeps/ow0algrs' target=\"_blank\">https://wandb.ai/gradient_pwr/airbnb-downstream-task/sweeps/ow0algrs</a>"
      ],
      "text/plain": [
       "<IPython.core.display.HTML object>"
      ]
     },
     "metadata": {},
     "output_type": "display_data"
    },
    {
     "data": {
      "text/html": [
       " View run at <a href='https://wandb.ai/gradient_pwr/airbnb-downstream-task/runs/ktb4qy0x' target=\"_blank\">https://wandb.ai/gradient_pwr/airbnb-downstream-task/runs/ktb4qy0x</a>"
      ],
      "text/plain": [
       "<IPython.core.display.HTML object>"
      ]
     },
     "metadata": {},
     "output_type": "display_data"
    },
    {
     "name": "stdout",
     "output_type": "stream",
     "text": [
      "[0 1 2 3 4]\n"
     ]
    },
    {
     "name": "stderr",
     "output_type": "stream",
     "text": [
      "/home/grymar/studia/gradient/env/lib/python3.10/site-packages/sklearn/linear_model/_logistic.py:1172: UserWarning: l1_ratio parameter is only used when penalty is 'elasticnet'. Got (penalty=l2)\n",
      "  warnings.warn(\n"
     ]
    },
    {
     "name": "stdout",
     "output_type": "stream",
     "text": [
      "[0 1 2 3 4]\n",
      "(10757, 5)\n",
      "(10757, 5)\n"
     ]
    },
    {
     "name": "stderr",
     "output_type": "stream",
     "text": [
      "/home/grymar/studia/gradient/env/lib/python3.10/site-packages/sklearn/preprocessing/_encoders.py:975: FutureWarning: `sparse` was renamed to `sparse_output` in version 1.2 and will be removed in 1.4. `sparse_output` is ignored unless you leave `sparse` to its default value.\n",
      "  warnings.warn(\n"
     ]
    },
    {
     "name": "stdout",
     "output_type": "stream",
     "text": [
      "[0 1 2 3 4]\n"
     ]
    },
    {
     "name": "stderr",
     "output_type": "stream",
     "text": [
      "/home/grymar/studia/gradient/env/lib/python3.10/site-packages/sklearn/linear_model/_logistic.py:1172: UserWarning: l1_ratio parameter is only used when penalty is 'elasticnet'. Got (penalty=l2)\n",
      "  warnings.warn(\n"
     ]
    },
    {
     "name": "stdout",
     "output_type": "stream",
     "text": [
      "[0 1 2 3 4]\n",
      "(4203, 5)\n",
      "(4203, 5)\n"
     ]
    },
    {
     "name": "stderr",
     "output_type": "stream",
     "text": [
      "/home/grymar/studia/gradient/env/lib/python3.10/site-packages/sklearn/preprocessing/_encoders.py:975: FutureWarning: `sparse` was renamed to `sparse_output` in version 1.2 and will be removed in 1.4. `sparse_output` is ignored unless you leave `sparse` to its default value.\n",
      "  warnings.warn(\n"
     ]
    },
    {
     "data": {
      "application/vnd.jupyter.widget-view+json": {
       "model_id": "0bee8d02c5b54de9b754415e5eb81bc3",
       "version_major": 2,
       "version_minor": 0
      },
      "text/plain": [
       "VBox(children=(Label(value='0.169 MB of 0.169 MB uploaded\\r'), FloatProgress(value=1.0, max=1.0)))"
      ]
     },
     "metadata": {},
     "output_type": "display_data"
    },
    {
     "data": {
      "text/html": [
       "<style>\n",
       "    table.wandb td:nth-child(1) { padding: 0 10px; text-align: left ; width: auto;} td:nth-child(2) {text-align: left ; width: 100%}\n",
       "    .wandb-row { display: flex; flex-direction: row; flex-wrap: wrap; justify-content: flex-start; width: 100% }\n",
       "    .wandb-col { display: flex; flex-direction: column; flex-basis: 100%; flex: 1; padding: 10px; }\n",
       "    </style>\n",
       "<div class=\"wandb-row\"><div class=\"wandb-col\"><h3>Run history:</h3><br/><table class=\"wandb\"><tr><td>USE_HEXES_ATTRS</td><td>▁</td></tr><tr><td>USE_ORTOPHOTO</td><td>▁</td></tr><tr><td>USE_OSMNX_ATTRS</td><td>▁</td></tr><tr><td>accuracy_fold_0</td><td>▁</td></tr><tr><td>accuracy_fold_1</td><td>▁</td></tr><tr><td>auc_fold_0</td><td>▁</td></tr><tr><td>auc_fold_1</td><td>▁</td></tr><tr><td>f1_fold_0</td><td>▁</td></tr><tr><td>f1_fold_1</td><td>▁</td></tr><tr><td>mean_accuracy</td><td>▁</td></tr><tr><td>mean_auc</td><td>▁</td></tr><tr><td>mean_f1</td><td>▁</td></tr></table><br/></div><div class=\"wandb-col\"><h3>Run summary:</h3><br/><table class=\"wandb\"><tr><td>USE_HEXES_ATTRS</td><td>1</td></tr><tr><td>USE_ORTOPHOTO</td><td>0</td></tr><tr><td>USE_OSMNX_ATTRS</td><td>0</td></tr><tr><td>accuracy_fold_0</td><td>0.59013</td></tr><tr><td>accuracy_fold_1</td><td>0.47894</td></tr><tr><td>auc_fold_0</td><td>0.54299</td></tr><tr><td>auc_fold_1</td><td>0.57511</td></tr><tr><td>data_structure</td><td>tabular</td></tr><tr><td>f1_fold_0</td><td>0.53521</td></tr><tr><td>f1_fold_1</td><td>0.50263</td></tr><tr><td>mean_accuracy</td><td>0.53454</td></tr><tr><td>mean_auc</td><td>0.55905</td></tr><tr><td>mean_f1</td><td>0.51892</td></tr></table><br/></div></div>"
      ],
      "text/plain": [
       "<IPython.core.display.HTML object>"
      ]
     },
     "metadata": {},
     "output_type": "display_data"
    },
    {
     "data": {
      "text/html": [
       " View run <strong style=\"color:#cdcd00\">peachy-sweep-33</strong> at: <a href='https://wandb.ai/gradient_pwr/airbnb-downstream-task/runs/ktb4qy0x' target=\"_blank\">https://wandb.ai/gradient_pwr/airbnb-downstream-task/runs/ktb4qy0x</a><br/> View project at: <a href='https://wandb.ai/gradient_pwr/airbnb-downstream-task' target=\"_blank\">https://wandb.ai/gradient_pwr/airbnb-downstream-task</a><br/>Synced 5 W&B file(s), 0 media file(s), 2 artifact file(s) and 0 other file(s)"
      ],
      "text/plain": [
       "<IPython.core.display.HTML object>"
      ]
     },
     "metadata": {},
     "output_type": "display_data"
    },
    {
     "data": {
      "text/html": [
       "Find logs at: <code>./wandb/run-20240605_012143-ktb4qy0x/logs</code>"
      ],
      "text/plain": [
       "<IPython.core.display.HTML object>"
      ]
     },
     "metadata": {},
     "output_type": "display_data"
    },
    {
     "name": "stderr",
     "output_type": "stream",
     "text": [
      "\u001b[34m\u001b[1mwandb\u001b[0m: Sweep Agent: Waiting for job.\n",
      "\u001b[34m\u001b[1mwandb\u001b[0m: Job received.\n",
      "\u001b[34m\u001b[1mwandb\u001b[0m: Agent Starting Run: uw4g94al with config:\n",
      "\u001b[34m\u001b[1mwandb\u001b[0m: \tC: 2.021829987171944e-05\n",
      "\u001b[34m\u001b[1mwandb\u001b[0m: \tsolver_penalty: lbfgs;l2\n",
      "Failed to detect the name of this notebook, you can set it manually with the WANDB_NOTEBOOK_NAME environment variable to enable code saving.\n"
     ]
    },
    {
     "data": {
      "text/html": [
       "Tracking run with wandb version 0.17.0"
      ],
      "text/plain": [
       "<IPython.core.display.HTML object>"
      ]
     },
     "metadata": {},
     "output_type": "display_data"
    },
    {
     "data": {
      "text/html": [
       "Run data is saved locally in <code>/home/grymar/studia/gradient/notebooks/downstream_tasks/wandb/run-20240605_012209-uw4g94al</code>"
      ],
      "text/plain": [
       "<IPython.core.display.HTML object>"
      ]
     },
     "metadata": {},
     "output_type": "display_data"
    },
    {
     "data": {
      "text/html": [
       "Syncing run <strong><a href='https://wandb.ai/gradient_pwr/airbnb-downstream-task/runs/uw4g94al' target=\"_blank\">bumbling-sweep-34</a></strong> to <a href='https://wandb.ai/gradient_pwr/airbnb-downstream-task' target=\"_blank\">Weights & Biases</a> (<a href='https://wandb.me/run' target=\"_blank\">docs</a>)<br/>Sweep page: <a href='https://wandb.ai/gradient_pwr/airbnb-downstream-task/sweeps/ow0algrs' target=\"_blank\">https://wandb.ai/gradient_pwr/airbnb-downstream-task/sweeps/ow0algrs</a>"
      ],
      "text/plain": [
       "<IPython.core.display.HTML object>"
      ]
     },
     "metadata": {},
     "output_type": "display_data"
    },
    {
     "data": {
      "text/html": [
       " View project at <a href='https://wandb.ai/gradient_pwr/airbnb-downstream-task' target=\"_blank\">https://wandb.ai/gradient_pwr/airbnb-downstream-task</a>"
      ],
      "text/plain": [
       "<IPython.core.display.HTML object>"
      ]
     },
     "metadata": {},
     "output_type": "display_data"
    },
    {
     "data": {
      "text/html": [
       " View sweep at <a href='https://wandb.ai/gradient_pwr/airbnb-downstream-task/sweeps/ow0algrs' target=\"_blank\">https://wandb.ai/gradient_pwr/airbnb-downstream-task/sweeps/ow0algrs</a>"
      ],
      "text/plain": [
       "<IPython.core.display.HTML object>"
      ]
     },
     "metadata": {},
     "output_type": "display_data"
    },
    {
     "data": {
      "text/html": [
       " View run at <a href='https://wandb.ai/gradient_pwr/airbnb-downstream-task/runs/uw4g94al' target=\"_blank\">https://wandb.ai/gradient_pwr/airbnb-downstream-task/runs/uw4g94al</a>"
      ],
      "text/plain": [
       "<IPython.core.display.HTML object>"
      ]
     },
     "metadata": {},
     "output_type": "display_data"
    },
    {
     "name": "stdout",
     "output_type": "stream",
     "text": [
      "[0 1 2 3 4]\n"
     ]
    },
    {
     "name": "stderr",
     "output_type": "stream",
     "text": [
      "/home/grymar/studia/gradient/env/lib/python3.10/site-packages/sklearn/linear_model/_logistic.py:1172: UserWarning: l1_ratio parameter is only used when penalty is 'elasticnet'. Got (penalty=l2)\n",
      "  warnings.warn(\n"
     ]
    },
    {
     "name": "stdout",
     "output_type": "stream",
     "text": [
      "[0 1 2 3 4]\n",
      "(10757, 5)\n",
      "(10757, 5)\n"
     ]
    },
    {
     "name": "stderr",
     "output_type": "stream",
     "text": [
      "/home/grymar/studia/gradient/env/lib/python3.10/site-packages/sklearn/preprocessing/_encoders.py:975: FutureWarning: `sparse` was renamed to `sparse_output` in version 1.2 and will be removed in 1.4. `sparse_output` is ignored unless you leave `sparse` to its default value.\n",
      "  warnings.warn(\n"
     ]
    },
    {
     "name": "stdout",
     "output_type": "stream",
     "text": [
      "[0 1 2 3 4]\n"
     ]
    },
    {
     "name": "stderr",
     "output_type": "stream",
     "text": [
      "/home/grymar/studia/gradient/env/lib/python3.10/site-packages/sklearn/linear_model/_logistic.py:1172: UserWarning: l1_ratio parameter is only used when penalty is 'elasticnet'. Got (penalty=l2)\n",
      "  warnings.warn(\n"
     ]
    },
    {
     "name": "stdout",
     "output_type": "stream",
     "text": [
      "[0 1 2 3 4]\n",
      "(4203, 5)\n",
      "(4203, 5)\n"
     ]
    },
    {
     "name": "stderr",
     "output_type": "stream",
     "text": [
      "/home/grymar/studia/gradient/env/lib/python3.10/site-packages/sklearn/preprocessing/_encoders.py:975: FutureWarning: `sparse` was renamed to `sparse_output` in version 1.2 and will be removed in 1.4. `sparse_output` is ignored unless you leave `sparse` to its default value.\n",
      "  warnings.warn(\n"
     ]
    },
    {
     "data": {
      "application/vnd.jupyter.widget-view+json": {
       "model_id": "31827247f5f049ada99ceabc86bab8fb",
       "version_major": 2,
       "version_minor": 0
      },
      "text/plain": [
       "VBox(children=(Label(value='0.169 MB of 0.169 MB uploaded\\r'), FloatProgress(value=1.0, max=1.0)))"
      ]
     },
     "metadata": {},
     "output_type": "display_data"
    },
    {
     "data": {
      "text/html": [
       "<style>\n",
       "    table.wandb td:nth-child(1) { padding: 0 10px; text-align: left ; width: auto;} td:nth-child(2) {text-align: left ; width: 100%}\n",
       "    .wandb-row { display: flex; flex-direction: row; flex-wrap: wrap; justify-content: flex-start; width: 100% }\n",
       "    .wandb-col { display: flex; flex-direction: column; flex-basis: 100%; flex: 1; padding: 10px; }\n",
       "    </style>\n",
       "<div class=\"wandb-row\"><div class=\"wandb-col\"><h3>Run history:</h3><br/><table class=\"wandb\"><tr><td>USE_HEXES_ATTRS</td><td>▁</td></tr><tr><td>USE_ORTOPHOTO</td><td>▁</td></tr><tr><td>USE_OSMNX_ATTRS</td><td>▁</td></tr><tr><td>accuracy_fold_0</td><td>▁</td></tr><tr><td>accuracy_fold_1</td><td>▁</td></tr><tr><td>auc_fold_0</td><td>▁</td></tr><tr><td>auc_fold_1</td><td>▁</td></tr><tr><td>f1_fold_0</td><td>▁</td></tr><tr><td>f1_fold_1</td><td>▁</td></tr><tr><td>mean_accuracy</td><td>▁</td></tr><tr><td>mean_auc</td><td>▁</td></tr><tr><td>mean_f1</td><td>▁</td></tr></table><br/></div><div class=\"wandb-col\"><h3>Run summary:</h3><br/><table class=\"wandb\"><tr><td>USE_HEXES_ATTRS</td><td>1</td></tr><tr><td>USE_ORTOPHOTO</td><td>0</td></tr><tr><td>USE_OSMNX_ATTRS</td><td>0</td></tr><tr><td>accuracy_fold_0</td><td>0.58232</td></tr><tr><td>accuracy_fold_1</td><td>0.48822</td></tr><tr><td>auc_fold_0</td><td>0.54314</td></tr><tr><td>auc_fold_1</td><td>0.55914</td></tr><tr><td>data_structure</td><td>tabular</td></tr><tr><td>f1_fold_0</td><td>0.53253</td></tr><tr><td>f1_fold_1</td><td>0.50729</td></tr><tr><td>mean_accuracy</td><td>0.53527</td></tr><tr><td>mean_auc</td><td>0.55114</td></tr><tr><td>mean_f1</td><td>0.51991</td></tr></table><br/></div></div>"
      ],
      "text/plain": [
       "<IPython.core.display.HTML object>"
      ]
     },
     "metadata": {},
     "output_type": "display_data"
    },
    {
     "data": {
      "text/html": [
       " View run <strong style=\"color:#cdcd00\">bumbling-sweep-34</strong> at: <a href='https://wandb.ai/gradient_pwr/airbnb-downstream-task/runs/uw4g94al' target=\"_blank\">https://wandb.ai/gradient_pwr/airbnb-downstream-task/runs/uw4g94al</a><br/> View project at: <a href='https://wandb.ai/gradient_pwr/airbnb-downstream-task' target=\"_blank\">https://wandb.ai/gradient_pwr/airbnb-downstream-task</a><br/>Synced 5 W&B file(s), 0 media file(s), 2 artifact file(s) and 0 other file(s)"
      ],
      "text/plain": [
       "<IPython.core.display.HTML object>"
      ]
     },
     "metadata": {},
     "output_type": "display_data"
    },
    {
     "data": {
      "text/html": [
       "Find logs at: <code>./wandb/run-20240605_012209-uw4g94al/logs</code>"
      ],
      "text/plain": [
       "<IPython.core.display.HTML object>"
      ]
     },
     "metadata": {},
     "output_type": "display_data"
    },
    {
     "name": "stderr",
     "output_type": "stream",
     "text": [
      "\u001b[34m\u001b[1mwandb\u001b[0m: Agent Starting Run: 2ol0p1er with config:\n",
      "\u001b[34m\u001b[1mwandb\u001b[0m: \tC: 2.9182224531437604e-05\n",
      "\u001b[34m\u001b[1mwandb\u001b[0m: \tsolver_penalty: lbfgs;l2\n",
      "Failed to detect the name of this notebook, you can set it manually with the WANDB_NOTEBOOK_NAME environment variable to enable code saving.\n"
     ]
    },
    {
     "data": {
      "text/html": [
       "Tracking run with wandb version 0.17.0"
      ],
      "text/plain": [
       "<IPython.core.display.HTML object>"
      ]
     },
     "metadata": {},
     "output_type": "display_data"
    },
    {
     "data": {
      "text/html": [
       "Run data is saved locally in <code>/home/grymar/studia/gradient/notebooks/downstream_tasks/wandb/run-20240605_012225-2ol0p1er</code>"
      ],
      "text/plain": [
       "<IPython.core.display.HTML object>"
      ]
     },
     "metadata": {},
     "output_type": "display_data"
    },
    {
     "data": {
      "text/html": [
       "Syncing run <strong><a href='https://wandb.ai/gradient_pwr/airbnb-downstream-task/runs/2ol0p1er' target=\"_blank\">leafy-sweep-35</a></strong> to <a href='https://wandb.ai/gradient_pwr/airbnb-downstream-task' target=\"_blank\">Weights & Biases</a> (<a href='https://wandb.me/run' target=\"_blank\">docs</a>)<br/>Sweep page: <a href='https://wandb.ai/gradient_pwr/airbnb-downstream-task/sweeps/ow0algrs' target=\"_blank\">https://wandb.ai/gradient_pwr/airbnb-downstream-task/sweeps/ow0algrs</a>"
      ],
      "text/plain": [
       "<IPython.core.display.HTML object>"
      ]
     },
     "metadata": {},
     "output_type": "display_data"
    },
    {
     "data": {
      "text/html": [
       " View project at <a href='https://wandb.ai/gradient_pwr/airbnb-downstream-task' target=\"_blank\">https://wandb.ai/gradient_pwr/airbnb-downstream-task</a>"
      ],
      "text/plain": [
       "<IPython.core.display.HTML object>"
      ]
     },
     "metadata": {},
     "output_type": "display_data"
    },
    {
     "data": {
      "text/html": [
       " View sweep at <a href='https://wandb.ai/gradient_pwr/airbnb-downstream-task/sweeps/ow0algrs' target=\"_blank\">https://wandb.ai/gradient_pwr/airbnb-downstream-task/sweeps/ow0algrs</a>"
      ],
      "text/plain": [
       "<IPython.core.display.HTML object>"
      ]
     },
     "metadata": {},
     "output_type": "display_data"
    },
    {
     "data": {
      "text/html": [
       " View run at <a href='https://wandb.ai/gradient_pwr/airbnb-downstream-task/runs/2ol0p1er' target=\"_blank\">https://wandb.ai/gradient_pwr/airbnb-downstream-task/runs/2ol0p1er</a>"
      ],
      "text/plain": [
       "<IPython.core.display.HTML object>"
      ]
     },
     "metadata": {},
     "output_type": "display_data"
    },
    {
     "name": "stdout",
     "output_type": "stream",
     "text": [
      "[0 1 2 3 4]\n"
     ]
    },
    {
     "name": "stderr",
     "output_type": "stream",
     "text": [
      "/home/grymar/studia/gradient/env/lib/python3.10/site-packages/sklearn/linear_model/_logistic.py:1172: UserWarning: l1_ratio parameter is only used when penalty is 'elasticnet'. Got (penalty=l2)\n",
      "  warnings.warn(\n"
     ]
    },
    {
     "name": "stdout",
     "output_type": "stream",
     "text": [
      "[0 1 2 3 4]\n",
      "(10757, 5)\n",
      "(10757, 5)\n"
     ]
    },
    {
     "name": "stderr",
     "output_type": "stream",
     "text": [
      "/home/grymar/studia/gradient/env/lib/python3.10/site-packages/sklearn/preprocessing/_encoders.py:975: FutureWarning: `sparse` was renamed to `sparse_output` in version 1.2 and will be removed in 1.4. `sparse_output` is ignored unless you leave `sparse` to its default value.\n",
      "  warnings.warn(\n"
     ]
    },
    {
     "name": "stdout",
     "output_type": "stream",
     "text": [
      "[0 1 2 3 4]\n"
     ]
    },
    {
     "name": "stderr",
     "output_type": "stream",
     "text": [
      "/home/grymar/studia/gradient/env/lib/python3.10/site-packages/sklearn/linear_model/_logistic.py:1172: UserWarning: l1_ratio parameter is only used when penalty is 'elasticnet'. Got (penalty=l2)\n",
      "  warnings.warn(\n"
     ]
    },
    {
     "name": "stdout",
     "output_type": "stream",
     "text": [
      "[0 1 2 3 4]\n",
      "(4203, 5)\n",
      "(4203, 5)\n"
     ]
    },
    {
     "name": "stderr",
     "output_type": "stream",
     "text": [
      "/home/grymar/studia/gradient/env/lib/python3.10/site-packages/sklearn/preprocessing/_encoders.py:975: FutureWarning: `sparse` was renamed to `sparse_output` in version 1.2 and will be removed in 1.4. `sparse_output` is ignored unless you leave `sparse` to its default value.\n",
      "  warnings.warn(\n"
     ]
    },
    {
     "data": {
      "application/vnd.jupyter.widget-view+json": {
       "model_id": "c724db344f504808a4ea8b42d43408c8",
       "version_major": 2,
       "version_minor": 0
      },
      "text/plain": [
       "VBox(children=(Label(value='0.169 MB of 0.169 MB uploaded\\r'), FloatProgress(value=1.0, max=1.0)))"
      ]
     },
     "metadata": {},
     "output_type": "display_data"
    },
    {
     "data": {
      "text/html": [
       "<style>\n",
       "    table.wandb td:nth-child(1) { padding: 0 10px; text-align: left ; width: auto;} td:nth-child(2) {text-align: left ; width: 100%}\n",
       "    .wandb-row { display: flex; flex-direction: row; flex-wrap: wrap; justify-content: flex-start; width: 100% }\n",
       "    .wandb-col { display: flex; flex-direction: column; flex-basis: 100%; flex: 1; padding: 10px; }\n",
       "    </style>\n",
       "<div class=\"wandb-row\"><div class=\"wandb-col\"><h3>Run history:</h3><br/><table class=\"wandb\"><tr><td>USE_HEXES_ATTRS</td><td>▁</td></tr><tr><td>USE_ORTOPHOTO</td><td>▁</td></tr><tr><td>USE_OSMNX_ATTRS</td><td>▁</td></tr><tr><td>accuracy_fold_0</td><td>▁</td></tr><tr><td>accuracy_fold_1</td><td>▁</td></tr><tr><td>auc_fold_0</td><td>▁</td></tr><tr><td>auc_fold_1</td><td>▁</td></tr><tr><td>f1_fold_0</td><td>▁</td></tr><tr><td>f1_fold_1</td><td>▁</td></tr><tr><td>mean_accuracy</td><td>▁</td></tr><tr><td>mean_auc</td><td>▁</td></tr><tr><td>mean_f1</td><td>▁</td></tr></table><br/></div><div class=\"wandb-col\"><h3>Run summary:</h3><br/><table class=\"wandb\"><tr><td>USE_HEXES_ATTRS</td><td>1</td></tr><tr><td>USE_ORTOPHOTO</td><td>0</td></tr><tr><td>USE_OSMNX_ATTRS</td><td>0</td></tr><tr><td>accuracy_fold_0</td><td>0.57191</td></tr><tr><td>accuracy_fold_1</td><td>0.49655</td></tr><tr><td>auc_fold_0</td><td>0.54358</td></tr><tr><td>auc_fold_1</td><td>0.54693</td></tr><tr><td>data_structure</td><td>tabular</td></tr><tr><td>f1_fold_0</td><td>0.52721</td></tr><tr><td>f1_fold_1</td><td>0.51023</td></tr><tr><td>mean_accuracy</td><td>0.53423</td></tr><tr><td>mean_auc</td><td>0.54526</td></tr><tr><td>mean_f1</td><td>0.51872</td></tr></table><br/></div></div>"
      ],
      "text/plain": [
       "<IPython.core.display.HTML object>"
      ]
     },
     "metadata": {},
     "output_type": "display_data"
    },
    {
     "data": {
      "text/html": [
       " View run <strong style=\"color:#cdcd00\">leafy-sweep-35</strong> at: <a href='https://wandb.ai/gradient_pwr/airbnb-downstream-task/runs/2ol0p1er' target=\"_blank\">https://wandb.ai/gradient_pwr/airbnb-downstream-task/runs/2ol0p1er</a><br/> View project at: <a href='https://wandb.ai/gradient_pwr/airbnb-downstream-task' target=\"_blank\">https://wandb.ai/gradient_pwr/airbnb-downstream-task</a><br/>Synced 5 W&B file(s), 0 media file(s), 2 artifact file(s) and 0 other file(s)"
      ],
      "text/plain": [
       "<IPython.core.display.HTML object>"
      ]
     },
     "metadata": {},
     "output_type": "display_data"
    },
    {
     "data": {
      "text/html": [
       "Find logs at: <code>./wandb/run-20240605_012225-2ol0p1er/logs</code>"
      ],
      "text/plain": [
       "<IPython.core.display.HTML object>"
      ]
     },
     "metadata": {},
     "output_type": "display_data"
    },
    {
     "name": "stderr",
     "output_type": "stream",
     "text": [
      "\u001b[34m\u001b[1mwandb\u001b[0m: Sweep Agent: Waiting for job.\n",
      "\u001b[34m\u001b[1mwandb\u001b[0m: Job received.\n",
      "\u001b[34m\u001b[1mwandb\u001b[0m: Agent Starting Run: mncaynft with config:\n",
      "\u001b[34m\u001b[1mwandb\u001b[0m: \tC: 2.3401285227046763e-05\n",
      "\u001b[34m\u001b[1mwandb\u001b[0m: \tsolver_penalty: lbfgs;l2\n",
      "Failed to detect the name of this notebook, you can set it manually with the WANDB_NOTEBOOK_NAME environment variable to enable code saving.\n"
     ]
    },
    {
     "data": {
      "text/html": [
       "Tracking run with wandb version 0.17.0"
      ],
      "text/plain": [
       "<IPython.core.display.HTML object>"
      ]
     },
     "metadata": {},
     "output_type": "display_data"
    },
    {
     "data": {
      "text/html": [
       "Run data is saved locally in <code>/home/grymar/studia/gradient/notebooks/downstream_tasks/wandb/run-20240605_012251-mncaynft</code>"
      ],
      "text/plain": [
       "<IPython.core.display.HTML object>"
      ]
     },
     "metadata": {},
     "output_type": "display_data"
    },
    {
     "data": {
      "text/html": [
       "Syncing run <strong><a href='https://wandb.ai/gradient_pwr/airbnb-downstream-task/runs/mncaynft' target=\"_blank\">still-sweep-36</a></strong> to <a href='https://wandb.ai/gradient_pwr/airbnb-downstream-task' target=\"_blank\">Weights & Biases</a> (<a href='https://wandb.me/run' target=\"_blank\">docs</a>)<br/>Sweep page: <a href='https://wandb.ai/gradient_pwr/airbnb-downstream-task/sweeps/ow0algrs' target=\"_blank\">https://wandb.ai/gradient_pwr/airbnb-downstream-task/sweeps/ow0algrs</a>"
      ],
      "text/plain": [
       "<IPython.core.display.HTML object>"
      ]
     },
     "metadata": {},
     "output_type": "display_data"
    },
    {
     "data": {
      "text/html": [
       " View project at <a href='https://wandb.ai/gradient_pwr/airbnb-downstream-task' target=\"_blank\">https://wandb.ai/gradient_pwr/airbnb-downstream-task</a>"
      ],
      "text/plain": [
       "<IPython.core.display.HTML object>"
      ]
     },
     "metadata": {},
     "output_type": "display_data"
    },
    {
     "data": {
      "text/html": [
       " View sweep at <a href='https://wandb.ai/gradient_pwr/airbnb-downstream-task/sweeps/ow0algrs' target=\"_blank\">https://wandb.ai/gradient_pwr/airbnb-downstream-task/sweeps/ow0algrs</a>"
      ],
      "text/plain": [
       "<IPython.core.display.HTML object>"
      ]
     },
     "metadata": {},
     "output_type": "display_data"
    },
    {
     "data": {
      "text/html": [
       " View run at <a href='https://wandb.ai/gradient_pwr/airbnb-downstream-task/runs/mncaynft' target=\"_blank\">https://wandb.ai/gradient_pwr/airbnb-downstream-task/runs/mncaynft</a>"
      ],
      "text/plain": [
       "<IPython.core.display.HTML object>"
      ]
     },
     "metadata": {},
     "output_type": "display_data"
    },
    {
     "name": "stdout",
     "output_type": "stream",
     "text": [
      "[0 1 2 3 4]\n"
     ]
    },
    {
     "name": "stderr",
     "output_type": "stream",
     "text": [
      "/home/grymar/studia/gradient/env/lib/python3.10/site-packages/sklearn/linear_model/_logistic.py:1172: UserWarning: l1_ratio parameter is only used when penalty is 'elasticnet'. Got (penalty=l2)\n",
      "  warnings.warn(\n"
     ]
    },
    {
     "name": "stdout",
     "output_type": "stream",
     "text": [
      "[0 1 2 3 4]\n",
      "(10757, 5)\n",
      "(10757, 5)\n"
     ]
    },
    {
     "name": "stderr",
     "output_type": "stream",
     "text": [
      "/home/grymar/studia/gradient/env/lib/python3.10/site-packages/sklearn/preprocessing/_encoders.py:975: FutureWarning: `sparse` was renamed to `sparse_output` in version 1.2 and will be removed in 1.4. `sparse_output` is ignored unless you leave `sparse` to its default value.\n",
      "  warnings.warn(\n"
     ]
    },
    {
     "name": "stdout",
     "output_type": "stream",
     "text": [
      "[0 1 2 3 4]\n"
     ]
    },
    {
     "name": "stderr",
     "output_type": "stream",
     "text": [
      "/home/grymar/studia/gradient/env/lib/python3.10/site-packages/sklearn/linear_model/_logistic.py:1172: UserWarning: l1_ratio parameter is only used when penalty is 'elasticnet'. Got (penalty=l2)\n",
      "  warnings.warn(\n"
     ]
    },
    {
     "name": "stdout",
     "output_type": "stream",
     "text": [
      "[0 1 2 3 4]\n",
      "(4203, 5)\n",
      "(4203, 5)\n"
     ]
    },
    {
     "name": "stderr",
     "output_type": "stream",
     "text": [
      "/home/grymar/studia/gradient/env/lib/python3.10/site-packages/sklearn/preprocessing/_encoders.py:975: FutureWarning: `sparse` was renamed to `sparse_output` in version 1.2 and will be removed in 1.4. `sparse_output` is ignored unless you leave `sparse` to its default value.\n",
      "  warnings.warn(\n"
     ]
    },
    {
     "data": {
      "application/vnd.jupyter.widget-view+json": {
       "model_id": "ec2edbd0c49946cc9919c88b3ed71918",
       "version_major": 2,
       "version_minor": 0
      },
      "text/plain": [
       "VBox(children=(Label(value='0.169 MB of 0.169 MB uploaded\\r'), FloatProgress(value=1.0, max=1.0)))"
      ]
     },
     "metadata": {},
     "output_type": "display_data"
    },
    {
     "data": {
      "text/html": [
       "<style>\n",
       "    table.wandb td:nth-child(1) { padding: 0 10px; text-align: left ; width: auto;} td:nth-child(2) {text-align: left ; width: 100%}\n",
       "    .wandb-row { display: flex; flex-direction: row; flex-wrap: wrap; justify-content: flex-start; width: 100% }\n",
       "    .wandb-col { display: flex; flex-direction: column; flex-basis: 100%; flex: 1; padding: 10px; }\n",
       "    </style>\n",
       "<div class=\"wandb-row\"><div class=\"wandb-col\"><h3>Run history:</h3><br/><table class=\"wandb\"><tr><td>USE_HEXES_ATTRS</td><td>▁</td></tr><tr><td>USE_ORTOPHOTO</td><td>▁</td></tr><tr><td>USE_OSMNX_ATTRS</td><td>▁</td></tr><tr><td>accuracy_fold_0</td><td>▁</td></tr><tr><td>accuracy_fold_1</td><td>▁</td></tr><tr><td>auc_fold_0</td><td>▁</td></tr><tr><td>auc_fold_1</td><td>▁</td></tr><tr><td>f1_fold_0</td><td>▁</td></tr><tr><td>f1_fold_1</td><td>▁</td></tr><tr><td>mean_accuracy</td><td>▁</td></tr><tr><td>mean_auc</td><td>▁</td></tr><tr><td>mean_f1</td><td>▁</td></tr></table><br/></div><div class=\"wandb-col\"><h3>Run summary:</h3><br/><table class=\"wandb\"><tr><td>USE_HEXES_ATTRS</td><td>1</td></tr><tr><td>USE_ORTOPHOTO</td><td>0</td></tr><tr><td>USE_OSMNX_ATTRS</td><td>0</td></tr><tr><td>accuracy_fold_0</td><td>0.57851</td></tr><tr><td>accuracy_fold_1</td><td>0.49274</td></tr><tr><td>auc_fold_0</td><td>0.54319</td></tr><tr><td>auc_fold_1</td><td>0.55367</td></tr><tr><td>data_structure</td><td>tabular</td></tr><tr><td>f1_fold_0</td><td>0.53053</td></tr><tr><td>f1_fold_1</td><td>0.51008</td></tr><tr><td>mean_accuracy</td><td>0.53563</td></tr><tr><td>mean_auc</td><td>0.54843</td></tr><tr><td>mean_f1</td><td>0.5203</td></tr></table><br/></div></div>"
      ],
      "text/plain": [
       "<IPython.core.display.HTML object>"
      ]
     },
     "metadata": {},
     "output_type": "display_data"
    },
    {
     "data": {
      "text/html": [
       " View run <strong style=\"color:#cdcd00\">still-sweep-36</strong> at: <a href='https://wandb.ai/gradient_pwr/airbnb-downstream-task/runs/mncaynft' target=\"_blank\">https://wandb.ai/gradient_pwr/airbnb-downstream-task/runs/mncaynft</a><br/> View project at: <a href='https://wandb.ai/gradient_pwr/airbnb-downstream-task' target=\"_blank\">https://wandb.ai/gradient_pwr/airbnb-downstream-task</a><br/>Synced 5 W&B file(s), 0 media file(s), 2 artifact file(s) and 0 other file(s)"
      ],
      "text/plain": [
       "<IPython.core.display.HTML object>"
      ]
     },
     "metadata": {},
     "output_type": "display_data"
    },
    {
     "data": {
      "text/html": [
       "Find logs at: <code>./wandb/run-20240605_012251-mncaynft/logs</code>"
      ],
      "text/plain": [
       "<IPython.core.display.HTML object>"
      ]
     },
     "metadata": {},
     "output_type": "display_data"
    },
    {
     "name": "stderr",
     "output_type": "stream",
     "text": [
      "\u001b[34m\u001b[1mwandb\u001b[0m: Agent Starting Run: 66rjtjux with config:\n",
      "\u001b[34m\u001b[1mwandb\u001b[0m: \tC: 1.3492156286767687e-05\n",
      "\u001b[34m\u001b[1mwandb\u001b[0m: \tsolver_penalty: lbfgs;l2\n",
      "Failed to detect the name of this notebook, you can set it manually with the WANDB_NOTEBOOK_NAME environment variable to enable code saving.\n"
     ]
    },
    {
     "data": {
      "text/html": [
       "Tracking run with wandb version 0.17.0"
      ],
      "text/plain": [
       "<IPython.core.display.HTML object>"
      ]
     },
     "metadata": {},
     "output_type": "display_data"
    },
    {
     "data": {
      "text/html": [
       "Run data is saved locally in <code>/home/grymar/studia/gradient/notebooks/downstream_tasks/wandb/run-20240605_012308-66rjtjux</code>"
      ],
      "text/plain": [
       "<IPython.core.display.HTML object>"
      ]
     },
     "metadata": {},
     "output_type": "display_data"
    },
    {
     "data": {
      "text/html": [
       "Syncing run <strong><a href='https://wandb.ai/gradient_pwr/airbnb-downstream-task/runs/66rjtjux' target=\"_blank\">icy-sweep-37</a></strong> to <a href='https://wandb.ai/gradient_pwr/airbnb-downstream-task' target=\"_blank\">Weights & Biases</a> (<a href='https://wandb.me/run' target=\"_blank\">docs</a>)<br/>Sweep page: <a href='https://wandb.ai/gradient_pwr/airbnb-downstream-task/sweeps/ow0algrs' target=\"_blank\">https://wandb.ai/gradient_pwr/airbnb-downstream-task/sweeps/ow0algrs</a>"
      ],
      "text/plain": [
       "<IPython.core.display.HTML object>"
      ]
     },
     "metadata": {},
     "output_type": "display_data"
    },
    {
     "data": {
      "text/html": [
       " View project at <a href='https://wandb.ai/gradient_pwr/airbnb-downstream-task' target=\"_blank\">https://wandb.ai/gradient_pwr/airbnb-downstream-task</a>"
      ],
      "text/plain": [
       "<IPython.core.display.HTML object>"
      ]
     },
     "metadata": {},
     "output_type": "display_data"
    },
    {
     "data": {
      "text/html": [
       " View sweep at <a href='https://wandb.ai/gradient_pwr/airbnb-downstream-task/sweeps/ow0algrs' target=\"_blank\">https://wandb.ai/gradient_pwr/airbnb-downstream-task/sweeps/ow0algrs</a>"
      ],
      "text/plain": [
       "<IPython.core.display.HTML object>"
      ]
     },
     "metadata": {},
     "output_type": "display_data"
    },
    {
     "data": {
      "text/html": [
       " View run at <a href='https://wandb.ai/gradient_pwr/airbnb-downstream-task/runs/66rjtjux' target=\"_blank\">https://wandb.ai/gradient_pwr/airbnb-downstream-task/runs/66rjtjux</a>"
      ],
      "text/plain": [
       "<IPython.core.display.HTML object>"
      ]
     },
     "metadata": {},
     "output_type": "display_data"
    },
    {
     "name": "stdout",
     "output_type": "stream",
     "text": [
      "[0 1 2 3 4]\n"
     ]
    },
    {
     "name": "stderr",
     "output_type": "stream",
     "text": [
      "/home/grymar/studia/gradient/env/lib/python3.10/site-packages/sklearn/linear_model/_logistic.py:1172: UserWarning: l1_ratio parameter is only used when penalty is 'elasticnet'. Got (penalty=l2)\n",
      "  warnings.warn(\n"
     ]
    },
    {
     "name": "stdout",
     "output_type": "stream",
     "text": [
      "[0 1 2 3 4]\n",
      "(10757, 5)\n",
      "(10757, 5)\n"
     ]
    },
    {
     "name": "stderr",
     "output_type": "stream",
     "text": [
      "/home/grymar/studia/gradient/env/lib/python3.10/site-packages/sklearn/preprocessing/_encoders.py:975: FutureWarning: `sparse` was renamed to `sparse_output` in version 1.2 and will be removed in 1.4. `sparse_output` is ignored unless you leave `sparse` to its default value.\n",
      "  warnings.warn(\n"
     ]
    },
    {
     "name": "stdout",
     "output_type": "stream",
     "text": [
      "[0 1 2 3 4]\n"
     ]
    },
    {
     "name": "stderr",
     "output_type": "stream",
     "text": [
      "/home/grymar/studia/gradient/env/lib/python3.10/site-packages/sklearn/linear_model/_logistic.py:1172: UserWarning: l1_ratio parameter is only used when penalty is 'elasticnet'. Got (penalty=l2)\n",
      "  warnings.warn(\n"
     ]
    },
    {
     "name": "stdout",
     "output_type": "stream",
     "text": [
      "[0 1 2 3 4]\n",
      "(4203, 5)\n",
      "(4203, 5)\n"
     ]
    },
    {
     "name": "stderr",
     "output_type": "stream",
     "text": [
      "/home/grymar/studia/gradient/env/lib/python3.10/site-packages/sklearn/preprocessing/_encoders.py:975: FutureWarning: `sparse` was renamed to `sparse_output` in version 1.2 and will be removed in 1.4. `sparse_output` is ignored unless you leave `sparse` to its default value.\n",
      "  warnings.warn(\n"
     ]
    },
    {
     "data": {
      "application/vnd.jupyter.widget-view+json": {
       "model_id": "dc3cea9c15214f30b651b2874ae6b05d",
       "version_major": 2,
       "version_minor": 0
      },
      "text/plain": [
       "VBox(children=(Label(value='0.169 MB of 0.169 MB uploaded\\r'), FloatProgress(value=1.0, max=1.0)))"
      ]
     },
     "metadata": {},
     "output_type": "display_data"
    },
    {
     "data": {
      "text/html": [
       "<style>\n",
       "    table.wandb td:nth-child(1) { padding: 0 10px; text-align: left ; width: auto;} td:nth-child(2) {text-align: left ; width: 100%}\n",
       "    .wandb-row { display: flex; flex-direction: row; flex-wrap: wrap; justify-content: flex-start; width: 100% }\n",
       "    .wandb-col { display: flex; flex-direction: column; flex-basis: 100%; flex: 1; padding: 10px; }\n",
       "    </style>\n",
       "<div class=\"wandb-row\"><div class=\"wandb-col\"><h3>Run history:</h3><br/><table class=\"wandb\"><tr><td>USE_HEXES_ATTRS</td><td>▁</td></tr><tr><td>USE_ORTOPHOTO</td><td>▁</td></tr><tr><td>USE_OSMNX_ATTRS</td><td>▁</td></tr><tr><td>accuracy_fold_0</td><td>▁</td></tr><tr><td>accuracy_fold_1</td><td>▁</td></tr><tr><td>auc_fold_0</td><td>▁</td></tr><tr><td>auc_fold_1</td><td>▁</td></tr><tr><td>f1_fold_0</td><td>▁</td></tr><tr><td>f1_fold_1</td><td>▁</td></tr><tr><td>mean_accuracy</td><td>▁</td></tr><tr><td>mean_auc</td><td>▁</td></tr><tr><td>mean_f1</td><td>▁</td></tr></table><br/></div><div class=\"wandb-col\"><h3>Run summary:</h3><br/><table class=\"wandb\"><tr><td>USE_HEXES_ATTRS</td><td>1</td></tr><tr><td>USE_ORTOPHOTO</td><td>0</td></tr><tr><td>USE_OSMNX_ATTRS</td><td>0</td></tr><tr><td>accuracy_fold_0</td><td>0.59013</td></tr><tr><td>accuracy_fold_1</td><td>0.47894</td></tr><tr><td>auc_fold_0</td><td>0.54301</td></tr><tr><td>auc_fold_1</td><td>0.57465</td></tr><tr><td>data_structure</td><td>tabular</td></tr><tr><td>f1_fold_0</td><td>0.53528</td></tr><tr><td>f1_fold_1</td><td>0.50263</td></tr><tr><td>mean_accuracy</td><td>0.53454</td></tr><tr><td>mean_auc</td><td>0.55883</td></tr><tr><td>mean_f1</td><td>0.51895</td></tr></table><br/></div></div>"
      ],
      "text/plain": [
       "<IPython.core.display.HTML object>"
      ]
     },
     "metadata": {},
     "output_type": "display_data"
    },
    {
     "data": {
      "text/html": [
       " View run <strong style=\"color:#cdcd00\">icy-sweep-37</strong> at: <a href='https://wandb.ai/gradient_pwr/airbnb-downstream-task/runs/66rjtjux' target=\"_blank\">https://wandb.ai/gradient_pwr/airbnb-downstream-task/runs/66rjtjux</a><br/> View project at: <a href='https://wandb.ai/gradient_pwr/airbnb-downstream-task' target=\"_blank\">https://wandb.ai/gradient_pwr/airbnb-downstream-task</a><br/>Synced 5 W&B file(s), 0 media file(s), 2 artifact file(s) and 0 other file(s)"
      ],
      "text/plain": [
       "<IPython.core.display.HTML object>"
      ]
     },
     "metadata": {},
     "output_type": "display_data"
    },
    {
     "data": {
      "text/html": [
       "Find logs at: <code>./wandb/run-20240605_012308-66rjtjux/logs</code>"
      ],
      "text/plain": [
       "<IPython.core.display.HTML object>"
      ]
     },
     "metadata": {},
     "output_type": "display_data"
    },
    {
     "name": "stderr",
     "output_type": "stream",
     "text": [
      "\u001b[34m\u001b[1mwandb\u001b[0m: Agent Starting Run: dma6zn07 with config:\n",
      "\u001b[34m\u001b[1mwandb\u001b[0m: \tC: 1.9211330656976927e-05\n",
      "\u001b[34m\u001b[1mwandb\u001b[0m: \tsolver_penalty: liblinear;l2\n",
      "Failed to detect the name of this notebook, you can set it manually with the WANDB_NOTEBOOK_NAME environment variable to enable code saving.\n"
     ]
    },
    {
     "data": {
      "text/html": [
       "Tracking run with wandb version 0.17.0"
      ],
      "text/plain": [
       "<IPython.core.display.HTML object>"
      ]
     },
     "metadata": {},
     "output_type": "display_data"
    },
    {
     "data": {
      "text/html": [
       "Run data is saved locally in <code>/home/grymar/studia/gradient/notebooks/downstream_tasks/wandb/run-20240605_012324-dma6zn07</code>"
      ],
      "text/plain": [
       "<IPython.core.display.HTML object>"
      ]
     },
     "metadata": {},
     "output_type": "display_data"
    },
    {
     "data": {
      "text/html": [
       "Syncing run <strong><a href='https://wandb.ai/gradient_pwr/airbnb-downstream-task/runs/dma6zn07' target=\"_blank\">faithful-sweep-38</a></strong> to <a href='https://wandb.ai/gradient_pwr/airbnb-downstream-task' target=\"_blank\">Weights & Biases</a> (<a href='https://wandb.me/run' target=\"_blank\">docs</a>)<br/>Sweep page: <a href='https://wandb.ai/gradient_pwr/airbnb-downstream-task/sweeps/ow0algrs' target=\"_blank\">https://wandb.ai/gradient_pwr/airbnb-downstream-task/sweeps/ow0algrs</a>"
      ],
      "text/plain": [
       "<IPython.core.display.HTML object>"
      ]
     },
     "metadata": {},
     "output_type": "display_data"
    },
    {
     "data": {
      "text/html": [
       " View project at <a href='https://wandb.ai/gradient_pwr/airbnb-downstream-task' target=\"_blank\">https://wandb.ai/gradient_pwr/airbnb-downstream-task</a>"
      ],
      "text/plain": [
       "<IPython.core.display.HTML object>"
      ]
     },
     "metadata": {},
     "output_type": "display_data"
    },
    {
     "data": {
      "text/html": [
       " View sweep at <a href='https://wandb.ai/gradient_pwr/airbnb-downstream-task/sweeps/ow0algrs' target=\"_blank\">https://wandb.ai/gradient_pwr/airbnb-downstream-task/sweeps/ow0algrs</a>"
      ],
      "text/plain": [
       "<IPython.core.display.HTML object>"
      ]
     },
     "metadata": {},
     "output_type": "display_data"
    },
    {
     "data": {
      "text/html": [
       " View run at <a href='https://wandb.ai/gradient_pwr/airbnb-downstream-task/runs/dma6zn07' target=\"_blank\">https://wandb.ai/gradient_pwr/airbnb-downstream-task/runs/dma6zn07</a>"
      ],
      "text/plain": [
       "<IPython.core.display.HTML object>"
      ]
     },
     "metadata": {},
     "output_type": "display_data"
    },
    {
     "name": "stdout",
     "output_type": "stream",
     "text": [
      "[0 1 2 3 4]\n"
     ]
    },
    {
     "name": "stderr",
     "output_type": "stream",
     "text": [
      "/home/grymar/studia/gradient/env/lib/python3.10/site-packages/sklearn/linear_model/_logistic.py:1172: UserWarning: l1_ratio parameter is only used when penalty is 'elasticnet'. Got (penalty=l2)\n",
      "  warnings.warn(\n",
      "/home/grymar/studia/gradient/env/lib/python3.10/site-packages/sklearn/linear_model/_logistic.py:1223: UserWarning: 'n_jobs' > 1 does not have any effect when 'solver' is set to 'liblinear'. Got 'n_jobs' = 16.\n",
      "  warnings.warn(\n"
     ]
    },
    {
     "name": "stdout",
     "output_type": "stream",
     "text": [
      "[0 1 2 3 4]\n",
      "(10757, 5)\n",
      "(10757, 5)\n"
     ]
    },
    {
     "name": "stderr",
     "output_type": "stream",
     "text": [
      "/home/grymar/studia/gradient/env/lib/python3.10/site-packages/sklearn/preprocessing/_encoders.py:975: FutureWarning: `sparse` was renamed to `sparse_output` in version 1.2 and will be removed in 1.4. `sparse_output` is ignored unless you leave `sparse` to its default value.\n",
      "  warnings.warn(\n"
     ]
    },
    {
     "name": "stdout",
     "output_type": "stream",
     "text": [
      "[0 1 2 3 4]\n"
     ]
    },
    {
     "name": "stderr",
     "output_type": "stream",
     "text": [
      "/home/grymar/studia/gradient/env/lib/python3.10/site-packages/sklearn/linear_model/_logistic.py:1172: UserWarning: l1_ratio parameter is only used when penalty is 'elasticnet'. Got (penalty=l2)\n",
      "  warnings.warn(\n",
      "/home/grymar/studia/gradient/env/lib/python3.10/site-packages/sklearn/linear_model/_logistic.py:1223: UserWarning: 'n_jobs' > 1 does not have any effect when 'solver' is set to 'liblinear'. Got 'n_jobs' = 16.\n",
      "  warnings.warn(\n"
     ]
    },
    {
     "name": "stdout",
     "output_type": "stream",
     "text": [
      "[0 1 2 3 4]\n",
      "(4203, 5)\n",
      "(4203, 5)\n"
     ]
    },
    {
     "name": "stderr",
     "output_type": "stream",
     "text": [
      "/home/grymar/studia/gradient/env/lib/python3.10/site-packages/sklearn/preprocessing/_encoders.py:975: FutureWarning: `sparse` was renamed to `sparse_output` in version 1.2 and will be removed in 1.4. `sparse_output` is ignored unless you leave `sparse` to its default value.\n",
      "  warnings.warn(\n"
     ]
    },
    {
     "data": {
      "application/vnd.jupyter.widget-view+json": {
       "model_id": "f2325bad133d4b489c5fcff4d5cd7695",
       "version_major": 2,
       "version_minor": 0
      },
      "text/plain": [
       "VBox(children=(Label(value='0.169 MB of 0.169 MB uploaded\\r'), FloatProgress(value=1.0, max=1.0)))"
      ]
     },
     "metadata": {},
     "output_type": "display_data"
    },
    {
     "data": {
      "text/html": [
       "<style>\n",
       "    table.wandb td:nth-child(1) { padding: 0 10px; text-align: left ; width: auto;} td:nth-child(2) {text-align: left ; width: 100%}\n",
       "    .wandb-row { display: flex; flex-direction: row; flex-wrap: wrap; justify-content: flex-start; width: 100% }\n",
       "    .wandb-col { display: flex; flex-direction: column; flex-basis: 100%; flex: 1; padding: 10px; }\n",
       "    </style>\n",
       "<div class=\"wandb-row\"><div class=\"wandb-col\"><h3>Run history:</h3><br/><table class=\"wandb\"><tr><td>USE_HEXES_ATTRS</td><td>▁</td></tr><tr><td>USE_ORTOPHOTO</td><td>▁</td></tr><tr><td>USE_OSMNX_ATTRS</td><td>▁</td></tr><tr><td>accuracy_fold_0</td><td>▁</td></tr><tr><td>accuracy_fold_1</td><td>▁</td></tr><tr><td>auc_fold_0</td><td>▁</td></tr><tr><td>auc_fold_1</td><td>▁</td></tr><tr><td>f1_fold_0</td><td>▁</td></tr><tr><td>f1_fold_1</td><td>▁</td></tr><tr><td>mean_accuracy</td><td>▁</td></tr><tr><td>mean_auc</td><td>▁</td></tr><tr><td>mean_f1</td><td>▁</td></tr></table><br/></div><div class=\"wandb-col\"><h3>Run summary:</h3><br/><table class=\"wandb\"><tr><td>USE_HEXES_ATTRS</td><td>1</td></tr><tr><td>USE_ORTOPHOTO</td><td>0</td></tr><tr><td>USE_OSMNX_ATTRS</td><td>0</td></tr><tr><td>accuracy_fold_0</td><td>0.57191</td></tr><tr><td>accuracy_fold_1</td><td>0.53105</td></tr><tr><td>auc_fold_0</td><td>0.54364</td></tr><tr><td>auc_fold_1</td><td>0.58184</td></tr><tr><td>data_structure</td><td>tabular</td></tr><tr><td>f1_fold_0</td><td>0.52686</td></tr><tr><td>f1_fold_1</td><td>0.52794</td></tr><tr><td>mean_accuracy</td><td>0.55148</td></tr><tr><td>mean_auc</td><td>0.56274</td></tr><tr><td>mean_f1</td><td>0.5274</td></tr></table><br/></div></div>"
      ],
      "text/plain": [
       "<IPython.core.display.HTML object>"
      ]
     },
     "metadata": {},
     "output_type": "display_data"
    },
    {
     "data": {
      "text/html": [
       " View run <strong style=\"color:#cdcd00\">faithful-sweep-38</strong> at: <a href='https://wandb.ai/gradient_pwr/airbnb-downstream-task/runs/dma6zn07' target=\"_blank\">https://wandb.ai/gradient_pwr/airbnb-downstream-task/runs/dma6zn07</a><br/> View project at: <a href='https://wandb.ai/gradient_pwr/airbnb-downstream-task' target=\"_blank\">https://wandb.ai/gradient_pwr/airbnb-downstream-task</a><br/>Synced 5 W&B file(s), 0 media file(s), 2 artifact file(s) and 0 other file(s)"
      ],
      "text/plain": [
       "<IPython.core.display.HTML object>"
      ]
     },
     "metadata": {},
     "output_type": "display_data"
    },
    {
     "data": {
      "text/html": [
       "Find logs at: <code>./wandb/run-20240605_012324-dma6zn07/logs</code>"
      ],
      "text/plain": [
       "<IPython.core.display.HTML object>"
      ]
     },
     "metadata": {},
     "output_type": "display_data"
    },
    {
     "name": "stderr",
     "output_type": "stream",
     "text": [
      "\u001b[34m\u001b[1mwandb\u001b[0m: Agent Starting Run: vlvfwggm with config:\n",
      "\u001b[34m\u001b[1mwandb\u001b[0m: \tC: 6.0652212313525134e-05\n",
      "\u001b[34m\u001b[1mwandb\u001b[0m: \tsolver_penalty: liblinear;l2\n",
      "Failed to detect the name of this notebook, you can set it manually with the WANDB_NOTEBOOK_NAME environment variable to enable code saving.\n"
     ]
    },
    {
     "data": {
      "text/html": [
       "Tracking run with wandb version 0.17.0"
      ],
      "text/plain": [
       "<IPython.core.display.HTML object>"
      ]
     },
     "metadata": {},
     "output_type": "display_data"
    },
    {
     "data": {
      "text/html": [
       "Run data is saved locally in <code>/home/grymar/studia/gradient/notebooks/downstream_tasks/wandb/run-20240605_012340-vlvfwggm</code>"
      ],
      "text/plain": [
       "<IPython.core.display.HTML object>"
      ]
     },
     "metadata": {},
     "output_type": "display_data"
    },
    {
     "data": {
      "text/html": [
       "Syncing run <strong><a href='https://wandb.ai/gradient_pwr/airbnb-downstream-task/runs/vlvfwggm' target=\"_blank\">young-sweep-39</a></strong> to <a href='https://wandb.ai/gradient_pwr/airbnb-downstream-task' target=\"_blank\">Weights & Biases</a> (<a href='https://wandb.me/run' target=\"_blank\">docs</a>)<br/>Sweep page: <a href='https://wandb.ai/gradient_pwr/airbnb-downstream-task/sweeps/ow0algrs' target=\"_blank\">https://wandb.ai/gradient_pwr/airbnb-downstream-task/sweeps/ow0algrs</a>"
      ],
      "text/plain": [
       "<IPython.core.display.HTML object>"
      ]
     },
     "metadata": {},
     "output_type": "display_data"
    },
    {
     "data": {
      "text/html": [
       " View project at <a href='https://wandb.ai/gradient_pwr/airbnb-downstream-task' target=\"_blank\">https://wandb.ai/gradient_pwr/airbnb-downstream-task</a>"
      ],
      "text/plain": [
       "<IPython.core.display.HTML object>"
      ]
     },
     "metadata": {},
     "output_type": "display_data"
    },
    {
     "data": {
      "text/html": [
       " View sweep at <a href='https://wandb.ai/gradient_pwr/airbnb-downstream-task/sweeps/ow0algrs' target=\"_blank\">https://wandb.ai/gradient_pwr/airbnb-downstream-task/sweeps/ow0algrs</a>"
      ],
      "text/plain": [
       "<IPython.core.display.HTML object>"
      ]
     },
     "metadata": {},
     "output_type": "display_data"
    },
    {
     "data": {
      "text/html": [
       " View run at <a href='https://wandb.ai/gradient_pwr/airbnb-downstream-task/runs/vlvfwggm' target=\"_blank\">https://wandb.ai/gradient_pwr/airbnb-downstream-task/runs/vlvfwggm</a>"
      ],
      "text/plain": [
       "<IPython.core.display.HTML object>"
      ]
     },
     "metadata": {},
     "output_type": "display_data"
    },
    {
     "name": "stdout",
     "output_type": "stream",
     "text": [
      "[0 1 2 3 4]\n"
     ]
    },
    {
     "name": "stderr",
     "output_type": "stream",
     "text": [
      "/home/grymar/studia/gradient/env/lib/python3.10/site-packages/sklearn/linear_model/_logistic.py:1172: UserWarning: l1_ratio parameter is only used when penalty is 'elasticnet'. Got (penalty=l2)\n",
      "  warnings.warn(\n",
      "/home/grymar/studia/gradient/env/lib/python3.10/site-packages/sklearn/linear_model/_logistic.py:1223: UserWarning: 'n_jobs' > 1 does not have any effect when 'solver' is set to 'liblinear'. Got 'n_jobs' = 16.\n",
      "  warnings.warn(\n"
     ]
    },
    {
     "name": "stdout",
     "output_type": "stream",
     "text": [
      "[0 1 2 3 4]\n",
      "(10757, 5)\n",
      "(10757, 5)\n"
     ]
    },
    {
     "name": "stderr",
     "output_type": "stream",
     "text": [
      "/home/grymar/studia/gradient/env/lib/python3.10/site-packages/sklearn/preprocessing/_encoders.py:975: FutureWarning: `sparse` was renamed to `sparse_output` in version 1.2 and will be removed in 1.4. `sparse_output` is ignored unless you leave `sparse` to its default value.\n",
      "  warnings.warn(\n"
     ]
    },
    {
     "name": "stdout",
     "output_type": "stream",
     "text": [
      "[0 1 2 3 4]\n"
     ]
    },
    {
     "name": "stderr",
     "output_type": "stream",
     "text": [
      "/home/grymar/studia/gradient/env/lib/python3.10/site-packages/sklearn/linear_model/_logistic.py:1172: UserWarning: l1_ratio parameter is only used when penalty is 'elasticnet'. Got (penalty=l2)\n",
      "  warnings.warn(\n",
      "/home/grymar/studia/gradient/env/lib/python3.10/site-packages/sklearn/linear_model/_logistic.py:1223: UserWarning: 'n_jobs' > 1 does not have any effect when 'solver' is set to 'liblinear'. Got 'n_jobs' = 16.\n",
      "  warnings.warn(\n"
     ]
    },
    {
     "name": "stdout",
     "output_type": "stream",
     "text": [
      "[0 1 2 3 4]\n",
      "(4203, 5)\n",
      "(4203, 5)\n"
     ]
    },
    {
     "name": "stderr",
     "output_type": "stream",
     "text": [
      "/home/grymar/studia/gradient/env/lib/python3.10/site-packages/sklearn/preprocessing/_encoders.py:975: FutureWarning: `sparse` was renamed to `sparse_output` in version 1.2 and will be removed in 1.4. `sparse_output` is ignored unless you leave `sparse` to its default value.\n",
      "  warnings.warn(\n"
     ]
    },
    {
     "data": {
      "application/vnd.jupyter.widget-view+json": {
       "model_id": "8d959e5cc29140cc96b2b89c5ce8ea91",
       "version_major": 2,
       "version_minor": 0
      },
      "text/plain": [
       "VBox(children=(Label(value='0.169 MB of 0.169 MB uploaded\\r'), FloatProgress(value=1.0, max=1.0)))"
      ]
     },
     "metadata": {},
     "output_type": "display_data"
    },
    {
     "data": {
      "text/html": [
       "<style>\n",
       "    table.wandb td:nth-child(1) { padding: 0 10px; text-align: left ; width: auto;} td:nth-child(2) {text-align: left ; width: 100%}\n",
       "    .wandb-row { display: flex; flex-direction: row; flex-wrap: wrap; justify-content: flex-start; width: 100% }\n",
       "    .wandb-col { display: flex; flex-direction: column; flex-basis: 100%; flex: 1; padding: 10px; }\n",
       "    </style>\n",
       "<div class=\"wandb-row\"><div class=\"wandb-col\"><h3>Run history:</h3><br/><table class=\"wandb\"><tr><td>USE_HEXES_ATTRS</td><td>▁</td></tr><tr><td>USE_ORTOPHOTO</td><td>▁</td></tr><tr><td>USE_OSMNX_ATTRS</td><td>▁</td></tr><tr><td>accuracy_fold_0</td><td>▁</td></tr><tr><td>accuracy_fold_1</td><td>▁</td></tr><tr><td>auc_fold_0</td><td>▁</td></tr><tr><td>auc_fold_1</td><td>▁</td></tr><tr><td>f1_fold_0</td><td>▁</td></tr><tr><td>f1_fold_1</td><td>▁</td></tr><tr><td>mean_accuracy</td><td>▁</td></tr><tr><td>mean_auc</td><td>▁</td></tr><tr><td>mean_f1</td><td>▁</td></tr></table><br/></div><div class=\"wandb-col\"><h3>Run summary:</h3><br/><table class=\"wandb\"><tr><td>USE_HEXES_ATTRS</td><td>1</td></tr><tr><td>USE_ORTOPHOTO</td><td>0</td></tr><tr><td>USE_OSMNX_ATTRS</td><td>0</td></tr><tr><td>accuracy_fold_0</td><td>0.55555</td></tr><tr><td>accuracy_fold_1</td><td>0.54937</td></tr><tr><td>auc_fold_0</td><td>0.54545</td></tr><tr><td>auc_fold_1</td><td>0.55265</td></tr><tr><td>data_structure</td><td>tabular</td></tr><tr><td>f1_fold_0</td><td>0.5198</td></tr><tr><td>f1_fold_1</td><td>0.53118</td></tr><tr><td>mean_accuracy</td><td>0.55246</td></tr><tr><td>mean_auc</td><td>0.54905</td></tr><tr><td>mean_f1</td><td>0.52549</td></tr></table><br/></div></div>"
      ],
      "text/plain": [
       "<IPython.core.display.HTML object>"
      ]
     },
     "metadata": {},
     "output_type": "display_data"
    },
    {
     "data": {
      "text/html": [
       " View run <strong style=\"color:#cdcd00\">young-sweep-39</strong> at: <a href='https://wandb.ai/gradient_pwr/airbnb-downstream-task/runs/vlvfwggm' target=\"_blank\">https://wandb.ai/gradient_pwr/airbnb-downstream-task/runs/vlvfwggm</a><br/> View project at: <a href='https://wandb.ai/gradient_pwr/airbnb-downstream-task' target=\"_blank\">https://wandb.ai/gradient_pwr/airbnb-downstream-task</a><br/>Synced 5 W&B file(s), 0 media file(s), 2 artifact file(s) and 0 other file(s)"
      ],
      "text/plain": [
       "<IPython.core.display.HTML object>"
      ]
     },
     "metadata": {},
     "output_type": "display_data"
    },
    {
     "data": {
      "text/html": [
       "Find logs at: <code>./wandb/run-20240605_012340-vlvfwggm/logs</code>"
      ],
      "text/plain": [
       "<IPython.core.display.HTML object>"
      ]
     },
     "metadata": {},
     "output_type": "display_data"
    },
    {
     "name": "stderr",
     "output_type": "stream",
     "text": [
      "\u001b[34m\u001b[1mwandb\u001b[0m: Agent Starting Run: bxjwzpv1 with config:\n",
      "\u001b[34m\u001b[1mwandb\u001b[0m: \tC: 2.409550494179476e-05\n",
      "\u001b[34m\u001b[1mwandb\u001b[0m: \tsolver_penalty: liblinear;l2\n",
      "Failed to detect the name of this notebook, you can set it manually with the WANDB_NOTEBOOK_NAME environment variable to enable code saving.\n"
     ]
    },
    {
     "data": {
      "text/html": [
       "Tracking run with wandb version 0.17.0"
      ],
      "text/plain": [
       "<IPython.core.display.HTML object>"
      ]
     },
     "metadata": {},
     "output_type": "display_data"
    },
    {
     "data": {
      "text/html": [
       "Run data is saved locally in <code>/home/grymar/studia/gradient/notebooks/downstream_tasks/wandb/run-20240605_012356-bxjwzpv1</code>"
      ],
      "text/plain": [
       "<IPython.core.display.HTML object>"
      ]
     },
     "metadata": {},
     "output_type": "display_data"
    },
    {
     "data": {
      "text/html": [
       "Syncing run <strong><a href='https://wandb.ai/gradient_pwr/airbnb-downstream-task/runs/bxjwzpv1' target=\"_blank\">clear-sweep-40</a></strong> to <a href='https://wandb.ai/gradient_pwr/airbnb-downstream-task' target=\"_blank\">Weights & Biases</a> (<a href='https://wandb.me/run' target=\"_blank\">docs</a>)<br/>Sweep page: <a href='https://wandb.ai/gradient_pwr/airbnb-downstream-task/sweeps/ow0algrs' target=\"_blank\">https://wandb.ai/gradient_pwr/airbnb-downstream-task/sweeps/ow0algrs</a>"
      ],
      "text/plain": [
       "<IPython.core.display.HTML object>"
      ]
     },
     "metadata": {},
     "output_type": "display_data"
    },
    {
     "data": {
      "text/html": [
       " View project at <a href='https://wandb.ai/gradient_pwr/airbnb-downstream-task' target=\"_blank\">https://wandb.ai/gradient_pwr/airbnb-downstream-task</a>"
      ],
      "text/plain": [
       "<IPython.core.display.HTML object>"
      ]
     },
     "metadata": {},
     "output_type": "display_data"
    },
    {
     "data": {
      "text/html": [
       " View sweep at <a href='https://wandb.ai/gradient_pwr/airbnb-downstream-task/sweeps/ow0algrs' target=\"_blank\">https://wandb.ai/gradient_pwr/airbnb-downstream-task/sweeps/ow0algrs</a>"
      ],
      "text/plain": [
       "<IPython.core.display.HTML object>"
      ]
     },
     "metadata": {},
     "output_type": "display_data"
    },
    {
     "data": {
      "text/html": [
       " View run at <a href='https://wandb.ai/gradient_pwr/airbnb-downstream-task/runs/bxjwzpv1' target=\"_blank\">https://wandb.ai/gradient_pwr/airbnb-downstream-task/runs/bxjwzpv1</a>"
      ],
      "text/plain": [
       "<IPython.core.display.HTML object>"
      ]
     },
     "metadata": {},
     "output_type": "display_data"
    },
    {
     "name": "stdout",
     "output_type": "stream",
     "text": [
      "[0 1 2 3 4]\n"
     ]
    },
    {
     "name": "stderr",
     "output_type": "stream",
     "text": [
      "/home/grymar/studia/gradient/env/lib/python3.10/site-packages/sklearn/linear_model/_logistic.py:1172: UserWarning: l1_ratio parameter is only used when penalty is 'elasticnet'. Got (penalty=l2)\n",
      "  warnings.warn(\n",
      "/home/grymar/studia/gradient/env/lib/python3.10/site-packages/sklearn/linear_model/_logistic.py:1223: UserWarning: 'n_jobs' > 1 does not have any effect when 'solver' is set to 'liblinear'. Got 'n_jobs' = 16.\n",
      "  warnings.warn(\n"
     ]
    },
    {
     "name": "stdout",
     "output_type": "stream",
     "text": [
      "[0 1 2 3 4]\n",
      "(10757, 5)\n",
      "(10757, 5)\n"
     ]
    },
    {
     "name": "stderr",
     "output_type": "stream",
     "text": [
      "/home/grymar/studia/gradient/env/lib/python3.10/site-packages/sklearn/preprocessing/_encoders.py:975: FutureWarning: `sparse` was renamed to `sparse_output` in version 1.2 and will be removed in 1.4. `sparse_output` is ignored unless you leave `sparse` to its default value.\n",
      "  warnings.warn(\n"
     ]
    },
    {
     "name": "stdout",
     "output_type": "stream",
     "text": [
      "[0 1 2 3 4]\n"
     ]
    },
    {
     "name": "stderr",
     "output_type": "stream",
     "text": [
      "/home/grymar/studia/gradient/env/lib/python3.10/site-packages/sklearn/linear_model/_logistic.py:1172: UserWarning: l1_ratio parameter is only used when penalty is 'elasticnet'. Got (penalty=l2)\n",
      "  warnings.warn(\n",
      "/home/grymar/studia/gradient/env/lib/python3.10/site-packages/sklearn/linear_model/_logistic.py:1223: UserWarning: 'n_jobs' > 1 does not have any effect when 'solver' is set to 'liblinear'. Got 'n_jobs' = 16.\n",
      "  warnings.warn(\n"
     ]
    },
    {
     "name": "stdout",
     "output_type": "stream",
     "text": [
      "[0 1 2 3 4]\n",
      "(4203, 5)\n",
      "(4203, 5)\n"
     ]
    },
    {
     "name": "stderr",
     "output_type": "stream",
     "text": [
      "/home/grymar/studia/gradient/env/lib/python3.10/site-packages/sklearn/preprocessing/_encoders.py:975: FutureWarning: `sparse` was renamed to `sparse_output` in version 1.2 and will be removed in 1.4. `sparse_output` is ignored unless you leave `sparse` to its default value.\n",
      "  warnings.warn(\n"
     ]
    },
    {
     "data": {
      "application/vnd.jupyter.widget-view+json": {
       "model_id": "e72d91589539498eb5771c481505b0cc",
       "version_major": 2,
       "version_minor": 0
      },
      "text/plain": [
       "VBox(children=(Label(value='0.169 MB of 0.169 MB uploaded\\r'), FloatProgress(value=1.0, max=1.0)))"
      ]
     },
     "metadata": {},
     "output_type": "display_data"
    },
    {
     "data": {
      "text/html": [
       "<style>\n",
       "    table.wandb td:nth-child(1) { padding: 0 10px; text-align: left ; width: auto;} td:nth-child(2) {text-align: left ; width: 100%}\n",
       "    .wandb-row { display: flex; flex-direction: row; flex-wrap: wrap; justify-content: flex-start; width: 100% }\n",
       "    .wandb-col { display: flex; flex-direction: column; flex-basis: 100%; flex: 1; padding: 10px; }\n",
       "    </style>\n",
       "<div class=\"wandb-row\"><div class=\"wandb-col\"><h3>Run history:</h3><br/><table class=\"wandb\"><tr><td>USE_HEXES_ATTRS</td><td>▁</td></tr><tr><td>USE_ORTOPHOTO</td><td>▁</td></tr><tr><td>USE_OSMNX_ATTRS</td><td>▁</td></tr><tr><td>accuracy_fold_0</td><td>▁</td></tr><tr><td>accuracy_fold_1</td><td>▁</td></tr><tr><td>auc_fold_0</td><td>▁</td></tr><tr><td>auc_fold_1</td><td>▁</td></tr><tr><td>f1_fold_0</td><td>▁</td></tr><tr><td>f1_fold_1</td><td>▁</td></tr><tr><td>mean_accuracy</td><td>▁</td></tr><tr><td>mean_auc</td><td>▁</td></tr><tr><td>mean_f1</td><td>▁</td></tr></table><br/></div><div class=\"wandb-col\"><h3>Run summary:</h3><br/><table class=\"wandb\"><tr><td>USE_HEXES_ATTRS</td><td>1</td></tr><tr><td>USE_ORTOPHOTO</td><td>0</td></tr><tr><td>USE_OSMNX_ATTRS</td><td>0</td></tr><tr><td>accuracy_fold_0</td><td>0.56921</td></tr><tr><td>accuracy_fold_1</td><td>0.537</td></tr><tr><td>auc_fold_0</td><td>0.54392</td></tr><tr><td>auc_fold_1</td><td>0.57576</td></tr><tr><td>data_structure</td><td>tabular</td></tr><tr><td>f1_fold_0</td><td>0.52592</td></tr><tr><td>f1_fold_1</td><td>0.53059</td></tr><tr><td>mean_accuracy</td><td>0.5531</td></tr><tr><td>mean_auc</td><td>0.55984</td></tr><tr><td>mean_f1</td><td>0.52825</td></tr></table><br/></div></div>"
      ],
      "text/plain": [
       "<IPython.core.display.HTML object>"
      ]
     },
     "metadata": {},
     "output_type": "display_data"
    },
    {
     "data": {
      "text/html": [
       " View run <strong style=\"color:#cdcd00\">clear-sweep-40</strong> at: <a href='https://wandb.ai/gradient_pwr/airbnb-downstream-task/runs/bxjwzpv1' target=\"_blank\">https://wandb.ai/gradient_pwr/airbnb-downstream-task/runs/bxjwzpv1</a><br/> View project at: <a href='https://wandb.ai/gradient_pwr/airbnb-downstream-task' target=\"_blank\">https://wandb.ai/gradient_pwr/airbnb-downstream-task</a><br/>Synced 5 W&B file(s), 0 media file(s), 2 artifact file(s) and 0 other file(s)"
      ],
      "text/plain": [
       "<IPython.core.display.HTML object>"
      ]
     },
     "metadata": {},
     "output_type": "display_data"
    },
    {
     "data": {
      "text/html": [
       "Find logs at: <code>./wandb/run-20240605_012356-bxjwzpv1/logs</code>"
      ],
      "text/plain": [
       "<IPython.core.display.HTML object>"
      ]
     },
     "metadata": {},
     "output_type": "display_data"
    },
    {
     "name": "stderr",
     "output_type": "stream",
     "text": [
      "\u001b[34m\u001b[1mwandb\u001b[0m: Sweep Agent: Waiting for job.\n",
      "\u001b[34m\u001b[1mwandb\u001b[0m: Job received.\n",
      "\u001b[34m\u001b[1mwandb\u001b[0m: Agent Starting Run: uppcxezp with config:\n",
      "\u001b[34m\u001b[1mwandb\u001b[0m: \tC: 2.606595687081716e-05\n",
      "\u001b[34m\u001b[1mwandb\u001b[0m: \tsolver_penalty: liblinear;l2\n",
      "Failed to detect the name of this notebook, you can set it manually with the WANDB_NOTEBOOK_NAME environment variable to enable code saving.\n"
     ]
    },
    {
     "data": {
      "text/html": [
       "Tracking run with wandb version 0.17.0"
      ],
      "text/plain": [
       "<IPython.core.display.HTML object>"
      ]
     },
     "metadata": {},
     "output_type": "display_data"
    },
    {
     "data": {
      "text/html": [
       "Run data is saved locally in <code>/home/grymar/studia/gradient/notebooks/downstream_tasks/wandb/run-20240605_012420-uppcxezp</code>"
      ],
      "text/plain": [
       "<IPython.core.display.HTML object>"
      ]
     },
     "metadata": {},
     "output_type": "display_data"
    },
    {
     "data": {
      "text/html": [
       "Syncing run <strong><a href='https://wandb.ai/gradient_pwr/airbnb-downstream-task/runs/uppcxezp' target=\"_blank\">warm-sweep-41</a></strong> to <a href='https://wandb.ai/gradient_pwr/airbnb-downstream-task' target=\"_blank\">Weights & Biases</a> (<a href='https://wandb.me/run' target=\"_blank\">docs</a>)<br/>Sweep page: <a href='https://wandb.ai/gradient_pwr/airbnb-downstream-task/sweeps/ow0algrs' target=\"_blank\">https://wandb.ai/gradient_pwr/airbnb-downstream-task/sweeps/ow0algrs</a>"
      ],
      "text/plain": [
       "<IPython.core.display.HTML object>"
      ]
     },
     "metadata": {},
     "output_type": "display_data"
    },
    {
     "data": {
      "text/html": [
       " View project at <a href='https://wandb.ai/gradient_pwr/airbnb-downstream-task' target=\"_blank\">https://wandb.ai/gradient_pwr/airbnb-downstream-task</a>"
      ],
      "text/plain": [
       "<IPython.core.display.HTML object>"
      ]
     },
     "metadata": {},
     "output_type": "display_data"
    },
    {
     "data": {
      "text/html": [
       " View sweep at <a href='https://wandb.ai/gradient_pwr/airbnb-downstream-task/sweeps/ow0algrs' target=\"_blank\">https://wandb.ai/gradient_pwr/airbnb-downstream-task/sweeps/ow0algrs</a>"
      ],
      "text/plain": [
       "<IPython.core.display.HTML object>"
      ]
     },
     "metadata": {},
     "output_type": "display_data"
    },
    {
     "data": {
      "text/html": [
       " View run at <a href='https://wandb.ai/gradient_pwr/airbnb-downstream-task/runs/uppcxezp' target=\"_blank\">https://wandb.ai/gradient_pwr/airbnb-downstream-task/runs/uppcxezp</a>"
      ],
      "text/plain": [
       "<IPython.core.display.HTML object>"
      ]
     },
     "metadata": {},
     "output_type": "display_data"
    },
    {
     "name": "stdout",
     "output_type": "stream",
     "text": [
      "[0 1 2 3 4]\n"
     ]
    },
    {
     "name": "stderr",
     "output_type": "stream",
     "text": [
      "/home/grymar/studia/gradient/env/lib/python3.10/site-packages/sklearn/linear_model/_logistic.py:1172: UserWarning: l1_ratio parameter is only used when penalty is 'elasticnet'. Got (penalty=l2)\n",
      "  warnings.warn(\n",
      "/home/grymar/studia/gradient/env/lib/python3.10/site-packages/sklearn/linear_model/_logistic.py:1223: UserWarning: 'n_jobs' > 1 does not have any effect when 'solver' is set to 'liblinear'. Got 'n_jobs' = 16.\n",
      "  warnings.warn(\n"
     ]
    },
    {
     "name": "stdout",
     "output_type": "stream",
     "text": [
      "[0 1 2 3 4]\n",
      "(10757, 5)\n",
      "(10757, 5)\n"
     ]
    },
    {
     "name": "stderr",
     "output_type": "stream",
     "text": [
      "/home/grymar/studia/gradient/env/lib/python3.10/site-packages/sklearn/preprocessing/_encoders.py:975: FutureWarning: `sparse` was renamed to `sparse_output` in version 1.2 and will be removed in 1.4. `sparse_output` is ignored unless you leave `sparse` to its default value.\n",
      "  warnings.warn(\n"
     ]
    },
    {
     "name": "stdout",
     "output_type": "stream",
     "text": [
      "[0 1 2 3 4]\n"
     ]
    },
    {
     "name": "stderr",
     "output_type": "stream",
     "text": [
      "/home/grymar/studia/gradient/env/lib/python3.10/site-packages/sklearn/linear_model/_logistic.py:1172: UserWarning: l1_ratio parameter is only used when penalty is 'elasticnet'. Got (penalty=l2)\n",
      "  warnings.warn(\n",
      "/home/grymar/studia/gradient/env/lib/python3.10/site-packages/sklearn/linear_model/_logistic.py:1223: UserWarning: 'n_jobs' > 1 does not have any effect when 'solver' is set to 'liblinear'. Got 'n_jobs' = 16.\n",
      "  warnings.warn(\n"
     ]
    },
    {
     "name": "stdout",
     "output_type": "stream",
     "text": [
      "[0 1 2 3 4]\n",
      "(4203, 5)\n",
      "(4203, 5)\n"
     ]
    },
    {
     "name": "stderr",
     "output_type": "stream",
     "text": [
      "/home/grymar/studia/gradient/env/lib/python3.10/site-packages/sklearn/preprocessing/_encoders.py:975: FutureWarning: `sparse` was renamed to `sparse_output` in version 1.2 and will be removed in 1.4. `sparse_output` is ignored unless you leave `sparse` to its default value.\n",
      "  warnings.warn(\n"
     ]
    },
    {
     "data": {
      "application/vnd.jupyter.widget-view+json": {
       "model_id": "7d1ace218696428faa99ba1bfafb922b",
       "version_major": 2,
       "version_minor": 0
      },
      "text/plain": [
       "VBox(children=(Label(value='0.169 MB of 0.169 MB uploaded\\r'), FloatProgress(value=1.0, max=1.0)))"
      ]
     },
     "metadata": {},
     "output_type": "display_data"
    },
    {
     "data": {
      "text/html": [
       "<style>\n",
       "    table.wandb td:nth-child(1) { padding: 0 10px; text-align: left ; width: auto;} td:nth-child(2) {text-align: left ; width: 100%}\n",
       "    .wandb-row { display: flex; flex-direction: row; flex-wrap: wrap; justify-content: flex-start; width: 100% }\n",
       "    .wandb-col { display: flex; flex-direction: column; flex-basis: 100%; flex: 1; padding: 10px; }\n",
       "    </style>\n",
       "<div class=\"wandb-row\"><div class=\"wandb-col\"><h3>Run history:</h3><br/><table class=\"wandb\"><tr><td>USE_HEXES_ATTRS</td><td>▁</td></tr><tr><td>USE_ORTOPHOTO</td><td>▁</td></tr><tr><td>USE_OSMNX_ATTRS</td><td>▁</td></tr><tr><td>accuracy_fold_0</td><td>▁</td></tr><tr><td>accuracy_fold_1</td><td>▁</td></tr><tr><td>auc_fold_0</td><td>▁</td></tr><tr><td>auc_fold_1</td><td>▁</td></tr><tr><td>f1_fold_0</td><td>▁</td></tr><tr><td>f1_fold_1</td><td>▁</td></tr><tr><td>mean_accuracy</td><td>▁</td></tr><tr><td>mean_auc</td><td>▁</td></tr><tr><td>mean_f1</td><td>▁</td></tr></table><br/></div><div class=\"wandb-col\"><h3>Run summary:</h3><br/><table class=\"wandb\"><tr><td>USE_HEXES_ATTRS</td><td>1</td></tr><tr><td>USE_ORTOPHOTO</td><td>0</td></tr><tr><td>USE_OSMNX_ATTRS</td><td>0</td></tr><tr><td>accuracy_fold_0</td><td>0.56772</td></tr><tr><td>accuracy_fold_1</td><td>0.53771</td></tr><tr><td>auc_fold_0</td><td>0.54404</td></tr><tr><td>auc_fold_1</td><td>0.57431</td></tr><tr><td>data_structure</td><td>tabular</td></tr><tr><td>f1_fold_0</td><td>0.52527</td></tr><tr><td>f1_fold_1</td><td>0.53012</td></tr><tr><td>mean_accuracy</td><td>0.55272</td></tr><tr><td>mean_auc</td><td>0.55918</td></tr><tr><td>mean_f1</td><td>0.5277</td></tr></table><br/></div></div>"
      ],
      "text/plain": [
       "<IPython.core.display.HTML object>"
      ]
     },
     "metadata": {},
     "output_type": "display_data"
    },
    {
     "data": {
      "text/html": [
       " View run <strong style=\"color:#cdcd00\">warm-sweep-41</strong> at: <a href='https://wandb.ai/gradient_pwr/airbnb-downstream-task/runs/uppcxezp' target=\"_blank\">https://wandb.ai/gradient_pwr/airbnb-downstream-task/runs/uppcxezp</a><br/> View project at: <a href='https://wandb.ai/gradient_pwr/airbnb-downstream-task' target=\"_blank\">https://wandb.ai/gradient_pwr/airbnb-downstream-task</a><br/>Synced 5 W&B file(s), 0 media file(s), 2 artifact file(s) and 0 other file(s)"
      ],
      "text/plain": [
       "<IPython.core.display.HTML object>"
      ]
     },
     "metadata": {},
     "output_type": "display_data"
    },
    {
     "data": {
      "text/html": [
       "Find logs at: <code>./wandb/run-20240605_012420-uppcxezp/logs</code>"
      ],
      "text/plain": [
       "<IPython.core.display.HTML object>"
      ]
     },
     "metadata": {},
     "output_type": "display_data"
    },
    {
     "name": "stderr",
     "output_type": "stream",
     "text": [
      "\u001b[34m\u001b[1mwandb\u001b[0m: Agent Starting Run: 02tnzntd with config:\n",
      "\u001b[34m\u001b[1mwandb\u001b[0m: \tC: 2.016924476674927e-05\n",
      "\u001b[34m\u001b[1mwandb\u001b[0m: \tsolver_penalty: liblinear;l2\n",
      "Failed to detect the name of this notebook, you can set it manually with the WANDB_NOTEBOOK_NAME environment variable to enable code saving.\n"
     ]
    },
    {
     "data": {
      "text/html": [
       "Tracking run with wandb version 0.17.0"
      ],
      "text/plain": [
       "<IPython.core.display.HTML object>"
      ]
     },
     "metadata": {},
     "output_type": "display_data"
    },
    {
     "data": {
      "text/html": [
       "Run data is saved locally in <code>/home/grymar/studia/gradient/notebooks/downstream_tasks/wandb/run-20240605_012436-02tnzntd</code>"
      ],
      "text/plain": [
       "<IPython.core.display.HTML object>"
      ]
     },
     "metadata": {},
     "output_type": "display_data"
    },
    {
     "data": {
      "text/html": [
       "Syncing run <strong><a href='https://wandb.ai/gradient_pwr/airbnb-downstream-task/runs/02tnzntd' target=\"_blank\">devoted-sweep-42</a></strong> to <a href='https://wandb.ai/gradient_pwr/airbnb-downstream-task' target=\"_blank\">Weights & Biases</a> (<a href='https://wandb.me/run' target=\"_blank\">docs</a>)<br/>Sweep page: <a href='https://wandb.ai/gradient_pwr/airbnb-downstream-task/sweeps/ow0algrs' target=\"_blank\">https://wandb.ai/gradient_pwr/airbnb-downstream-task/sweeps/ow0algrs</a>"
      ],
      "text/plain": [
       "<IPython.core.display.HTML object>"
      ]
     },
     "metadata": {},
     "output_type": "display_data"
    },
    {
     "data": {
      "text/html": [
       " View project at <a href='https://wandb.ai/gradient_pwr/airbnb-downstream-task' target=\"_blank\">https://wandb.ai/gradient_pwr/airbnb-downstream-task</a>"
      ],
      "text/plain": [
       "<IPython.core.display.HTML object>"
      ]
     },
     "metadata": {},
     "output_type": "display_data"
    },
    {
     "data": {
      "text/html": [
       " View sweep at <a href='https://wandb.ai/gradient_pwr/airbnb-downstream-task/sweeps/ow0algrs' target=\"_blank\">https://wandb.ai/gradient_pwr/airbnb-downstream-task/sweeps/ow0algrs</a>"
      ],
      "text/plain": [
       "<IPython.core.display.HTML object>"
      ]
     },
     "metadata": {},
     "output_type": "display_data"
    },
    {
     "data": {
      "text/html": [
       " View run at <a href='https://wandb.ai/gradient_pwr/airbnb-downstream-task/runs/02tnzntd' target=\"_blank\">https://wandb.ai/gradient_pwr/airbnb-downstream-task/runs/02tnzntd</a>"
      ],
      "text/plain": [
       "<IPython.core.display.HTML object>"
      ]
     },
     "metadata": {},
     "output_type": "display_data"
    },
    {
     "name": "stdout",
     "output_type": "stream",
     "text": [
      "[0 1 2 3 4]\n"
     ]
    },
    {
     "name": "stderr",
     "output_type": "stream",
     "text": [
      "/home/grymar/studia/gradient/env/lib/python3.10/site-packages/sklearn/linear_model/_logistic.py:1172: UserWarning: l1_ratio parameter is only used when penalty is 'elasticnet'. Got (penalty=l2)\n",
      "  warnings.warn(\n",
      "/home/grymar/studia/gradient/env/lib/python3.10/site-packages/sklearn/linear_model/_logistic.py:1223: UserWarning: 'n_jobs' > 1 does not have any effect when 'solver' is set to 'liblinear'. Got 'n_jobs' = 16.\n",
      "  warnings.warn(\n"
     ]
    },
    {
     "name": "stdout",
     "output_type": "stream",
     "text": [
      "[0 1 2 3 4]\n",
      "(10757, 5)\n",
      "(10757, 5)\n"
     ]
    },
    {
     "name": "stderr",
     "output_type": "stream",
     "text": [
      "/home/grymar/studia/gradient/env/lib/python3.10/site-packages/sklearn/preprocessing/_encoders.py:975: FutureWarning: `sparse` was renamed to `sparse_output` in version 1.2 and will be removed in 1.4. `sparse_output` is ignored unless you leave `sparse` to its default value.\n",
      "  warnings.warn(\n"
     ]
    },
    {
     "name": "stdout",
     "output_type": "stream",
     "text": [
      "[0 1 2 3 4]\n"
     ]
    },
    {
     "name": "stderr",
     "output_type": "stream",
     "text": [
      "/home/grymar/studia/gradient/env/lib/python3.10/site-packages/sklearn/linear_model/_logistic.py:1172: UserWarning: l1_ratio parameter is only used when penalty is 'elasticnet'. Got (penalty=l2)\n",
      "  warnings.warn(\n",
      "/home/grymar/studia/gradient/env/lib/python3.10/site-packages/sklearn/linear_model/_logistic.py:1223: UserWarning: 'n_jobs' > 1 does not have any effect when 'solver' is set to 'liblinear'. Got 'n_jobs' = 16.\n",
      "  warnings.warn(\n"
     ]
    },
    {
     "name": "stdout",
     "output_type": "stream",
     "text": [
      "[0 1 2 3 4]\n",
      "(4203, 5)\n",
      "(4203, 5)\n"
     ]
    },
    {
     "name": "stderr",
     "output_type": "stream",
     "text": [
      "/home/grymar/studia/gradient/env/lib/python3.10/site-packages/sklearn/preprocessing/_encoders.py:975: FutureWarning: `sparse` was renamed to `sparse_output` in version 1.2 and will be removed in 1.4. `sparse_output` is ignored unless you leave `sparse` to its default value.\n",
      "  warnings.warn(\n"
     ]
    },
    {
     "data": {
      "application/vnd.jupyter.widget-view+json": {
       "model_id": "6a72f96afe35416bb7c19c0f7a31b222",
       "version_major": 2,
       "version_minor": 0
      },
      "text/plain": [
       "VBox(children=(Label(value='0.169 MB of 0.169 MB uploaded\\r'), FloatProgress(value=1.0, max=1.0)))"
      ]
     },
     "metadata": {},
     "output_type": "display_data"
    },
    {
     "data": {
      "text/html": [
       "<style>\n",
       "    table.wandb td:nth-child(1) { padding: 0 10px; text-align: left ; width: auto;} td:nth-child(2) {text-align: left ; width: 100%}\n",
       "    .wandb-row { display: flex; flex-direction: row; flex-wrap: wrap; justify-content: flex-start; width: 100% }\n",
       "    .wandb-col { display: flex; flex-direction: column; flex-basis: 100%; flex: 1; padding: 10px; }\n",
       "    </style>\n",
       "<div class=\"wandb-row\"><div class=\"wandb-col\"><h3>Run history:</h3><br/><table class=\"wandb\"><tr><td>USE_HEXES_ATTRS</td><td>▁</td></tr><tr><td>USE_ORTOPHOTO</td><td>▁</td></tr><tr><td>USE_OSMNX_ATTRS</td><td>▁</td></tr><tr><td>accuracy_fold_0</td><td>▁</td></tr><tr><td>accuracy_fold_1</td><td>▁</td></tr><tr><td>auc_fold_0</td><td>▁</td></tr><tr><td>auc_fold_1</td><td>▁</td></tr><tr><td>f1_fold_0</td><td>▁</td></tr><tr><td>f1_fold_1</td><td>▁</td></tr><tr><td>mean_accuracy</td><td>▁</td></tr><tr><td>mean_auc</td><td>▁</td></tr><tr><td>mean_f1</td><td>▁</td></tr></table><br/></div><div class=\"wandb-col\"><h3>Run summary:</h3><br/><table class=\"wandb\"><tr><td>USE_HEXES_ATTRS</td><td>1</td></tr><tr><td>USE_ORTOPHOTO</td><td>0</td></tr><tr><td>USE_OSMNX_ATTRS</td><td>0</td></tr><tr><td>accuracy_fold_0</td><td>0.57107</td></tr><tr><td>accuracy_fold_1</td><td>0.532</td></tr><tr><td>auc_fold_0</td><td>0.5437</td></tr><tr><td>auc_fold_1</td><td>0.58107</td></tr><tr><td>data_structure</td><td>tabular</td></tr><tr><td>f1_fold_0</td><td>0.5266</td></tr><tr><td>f1_fold_1</td><td>0.52811</td></tr><tr><td>mean_accuracy</td><td>0.55154</td></tr><tr><td>mean_auc</td><td>0.56239</td></tr><tr><td>mean_f1</td><td>0.52735</td></tr></table><br/></div></div>"
      ],
      "text/plain": [
       "<IPython.core.display.HTML object>"
      ]
     },
     "metadata": {},
     "output_type": "display_data"
    },
    {
     "data": {
      "text/html": [
       " View run <strong style=\"color:#cdcd00\">devoted-sweep-42</strong> at: <a href='https://wandb.ai/gradient_pwr/airbnb-downstream-task/runs/02tnzntd' target=\"_blank\">https://wandb.ai/gradient_pwr/airbnb-downstream-task/runs/02tnzntd</a><br/> View project at: <a href='https://wandb.ai/gradient_pwr/airbnb-downstream-task' target=\"_blank\">https://wandb.ai/gradient_pwr/airbnb-downstream-task</a><br/>Synced 5 W&B file(s), 0 media file(s), 2 artifact file(s) and 0 other file(s)"
      ],
      "text/plain": [
       "<IPython.core.display.HTML object>"
      ]
     },
     "metadata": {},
     "output_type": "display_data"
    },
    {
     "data": {
      "text/html": [
       "Find logs at: <code>./wandb/run-20240605_012436-02tnzntd/logs</code>"
      ],
      "text/plain": [
       "<IPython.core.display.HTML object>"
      ]
     },
     "metadata": {},
     "output_type": "display_data"
    },
    {
     "name": "stderr",
     "output_type": "stream",
     "text": [
      "\u001b[34m\u001b[1mwandb\u001b[0m: Sweep Agent: Waiting for job.\n",
      "\u001b[34m\u001b[1mwandb\u001b[0m: Job received.\n",
      "\u001b[34m\u001b[1mwandb\u001b[0m: Agent Starting Run: 3rvpuodq with config:\n",
      "\u001b[34m\u001b[1mwandb\u001b[0m: \tC: 2.011714260047564e-05\n",
      "\u001b[34m\u001b[1mwandb\u001b[0m: \tsolver_penalty: liblinear;l2\n",
      "Failed to detect the name of this notebook, you can set it manually with the WANDB_NOTEBOOK_NAME environment variable to enable code saving.\n"
     ]
    },
    {
     "data": {
      "text/html": [
       "Tracking run with wandb version 0.17.0"
      ],
      "text/plain": [
       "<IPython.core.display.HTML object>"
      ]
     },
     "metadata": {},
     "output_type": "display_data"
    },
    {
     "data": {
      "text/html": [
       "Run data is saved locally in <code>/home/grymar/studia/gradient/notebooks/downstream_tasks/wandb/run-20240605_012457-3rvpuodq</code>"
      ],
      "text/plain": [
       "<IPython.core.display.HTML object>"
      ]
     },
     "metadata": {},
     "output_type": "display_data"
    },
    {
     "data": {
      "text/html": [
       "Syncing run <strong><a href='https://wandb.ai/gradient_pwr/airbnb-downstream-task/runs/3rvpuodq' target=\"_blank\">absurd-sweep-43</a></strong> to <a href='https://wandb.ai/gradient_pwr/airbnb-downstream-task' target=\"_blank\">Weights & Biases</a> (<a href='https://wandb.me/run' target=\"_blank\">docs</a>)<br/>Sweep page: <a href='https://wandb.ai/gradient_pwr/airbnb-downstream-task/sweeps/ow0algrs' target=\"_blank\">https://wandb.ai/gradient_pwr/airbnb-downstream-task/sweeps/ow0algrs</a>"
      ],
      "text/plain": [
       "<IPython.core.display.HTML object>"
      ]
     },
     "metadata": {},
     "output_type": "display_data"
    },
    {
     "data": {
      "text/html": [
       " View project at <a href='https://wandb.ai/gradient_pwr/airbnb-downstream-task' target=\"_blank\">https://wandb.ai/gradient_pwr/airbnb-downstream-task</a>"
      ],
      "text/plain": [
       "<IPython.core.display.HTML object>"
      ]
     },
     "metadata": {},
     "output_type": "display_data"
    },
    {
     "data": {
      "text/html": [
       " View sweep at <a href='https://wandb.ai/gradient_pwr/airbnb-downstream-task/sweeps/ow0algrs' target=\"_blank\">https://wandb.ai/gradient_pwr/airbnb-downstream-task/sweeps/ow0algrs</a>"
      ],
      "text/plain": [
       "<IPython.core.display.HTML object>"
      ]
     },
     "metadata": {},
     "output_type": "display_data"
    },
    {
     "data": {
      "text/html": [
       " View run at <a href='https://wandb.ai/gradient_pwr/airbnb-downstream-task/runs/3rvpuodq' target=\"_blank\">https://wandb.ai/gradient_pwr/airbnb-downstream-task/runs/3rvpuodq</a>"
      ],
      "text/plain": [
       "<IPython.core.display.HTML object>"
      ]
     },
     "metadata": {},
     "output_type": "display_data"
    },
    {
     "name": "stdout",
     "output_type": "stream",
     "text": [
      "[0 1 2 3 4]\n"
     ]
    },
    {
     "name": "stderr",
     "output_type": "stream",
     "text": [
      "/home/grymar/studia/gradient/env/lib/python3.10/site-packages/sklearn/linear_model/_logistic.py:1172: UserWarning: l1_ratio parameter is only used when penalty is 'elasticnet'. Got (penalty=l2)\n",
      "  warnings.warn(\n",
      "/home/grymar/studia/gradient/env/lib/python3.10/site-packages/sklearn/linear_model/_logistic.py:1223: UserWarning: 'n_jobs' > 1 does not have any effect when 'solver' is set to 'liblinear'. Got 'n_jobs' = 16.\n",
      "  warnings.warn(\n"
     ]
    },
    {
     "name": "stdout",
     "output_type": "stream",
     "text": [
      "[0 1 2 3 4]\n",
      "(10757, 5)\n",
      "(10757, 5)\n"
     ]
    },
    {
     "name": "stderr",
     "output_type": "stream",
     "text": [
      "/home/grymar/studia/gradient/env/lib/python3.10/site-packages/sklearn/preprocessing/_encoders.py:975: FutureWarning: `sparse` was renamed to `sparse_output` in version 1.2 and will be removed in 1.4. `sparse_output` is ignored unless you leave `sparse` to its default value.\n",
      "  warnings.warn(\n"
     ]
    },
    {
     "name": "stdout",
     "output_type": "stream",
     "text": [
      "[0 1 2 3 4]\n"
     ]
    },
    {
     "name": "stderr",
     "output_type": "stream",
     "text": [
      "/home/grymar/studia/gradient/env/lib/python3.10/site-packages/sklearn/linear_model/_logistic.py:1172: UserWarning: l1_ratio parameter is only used when penalty is 'elasticnet'. Got (penalty=l2)\n",
      "  warnings.warn(\n",
      "/home/grymar/studia/gradient/env/lib/python3.10/site-packages/sklearn/linear_model/_logistic.py:1223: UserWarning: 'n_jobs' > 1 does not have any effect when 'solver' is set to 'liblinear'. Got 'n_jobs' = 16.\n",
      "  warnings.warn(\n"
     ]
    },
    {
     "name": "stdout",
     "output_type": "stream",
     "text": [
      "[0 1 2 3 4]\n",
      "(4203, 5)\n",
      "(4203, 5)\n"
     ]
    },
    {
     "name": "stderr",
     "output_type": "stream",
     "text": [
      "/home/grymar/studia/gradient/env/lib/python3.10/site-packages/sklearn/preprocessing/_encoders.py:975: FutureWarning: `sparse` was renamed to `sparse_output` in version 1.2 and will be removed in 1.4. `sparse_output` is ignored unless you leave `sparse` to its default value.\n",
      "  warnings.warn(\n"
     ]
    },
    {
     "data": {
      "application/vnd.jupyter.widget-view+json": {
       "model_id": "102e64976a894257aa7c26f3ff6a27ad",
       "version_major": 2,
       "version_minor": 0
      },
      "text/plain": [
       "VBox(children=(Label(value='0.169 MB of 0.169 MB uploaded\\r'), FloatProgress(value=1.0, max=1.0)))"
      ]
     },
     "metadata": {},
     "output_type": "display_data"
    },
    {
     "data": {
      "text/html": [
       "<style>\n",
       "    table.wandb td:nth-child(1) { padding: 0 10px; text-align: left ; width: auto;} td:nth-child(2) {text-align: left ; width: 100%}\n",
       "    .wandb-row { display: flex; flex-direction: row; flex-wrap: wrap; justify-content: flex-start; width: 100% }\n",
       "    .wandb-col { display: flex; flex-direction: column; flex-basis: 100%; flex: 1; padding: 10px; }\n",
       "    </style>\n",
       "<div class=\"wandb-row\"><div class=\"wandb-col\"><h3>Run history:</h3><br/><table class=\"wandb\"><tr><td>USE_HEXES_ATTRS</td><td>▁</td></tr><tr><td>USE_ORTOPHOTO</td><td>▁</td></tr><tr><td>USE_OSMNX_ATTRS</td><td>▁</td></tr><tr><td>accuracy_fold_0</td><td>▁</td></tr><tr><td>accuracy_fold_1</td><td>▁</td></tr><tr><td>auc_fold_0</td><td>▁</td></tr><tr><td>auc_fold_1</td><td>▁</td></tr><tr><td>f1_fold_0</td><td>▁</td></tr><tr><td>f1_fold_1</td><td>▁</td></tr><tr><td>mean_accuracy</td><td>▁</td></tr><tr><td>mean_auc</td><td>▁</td></tr><tr><td>mean_f1</td><td>▁</td></tr></table><br/></div><div class=\"wandb-col\"><h3>Run summary:</h3><br/><table class=\"wandb\"><tr><td>USE_HEXES_ATTRS</td><td>1</td></tr><tr><td>USE_ORTOPHOTO</td><td>0</td></tr><tr><td>USE_OSMNX_ATTRS</td><td>0</td></tr><tr><td>accuracy_fold_0</td><td>0.57107</td></tr><tr><td>accuracy_fold_1</td><td>0.532</td></tr><tr><td>auc_fold_0</td><td>0.54369</td></tr><tr><td>auc_fold_1</td><td>0.58111</td></tr><tr><td>data_structure</td><td>tabular</td></tr><tr><td>f1_fold_0</td><td>0.52657</td></tr><tr><td>f1_fold_1</td><td>0.52818</td></tr><tr><td>mean_accuracy</td><td>0.55154</td></tr><tr><td>mean_auc</td><td>0.5624</td></tr><tr><td>mean_f1</td><td>0.52738</td></tr></table><br/></div></div>"
      ],
      "text/plain": [
       "<IPython.core.display.HTML object>"
      ]
     },
     "metadata": {},
     "output_type": "display_data"
    },
    {
     "data": {
      "text/html": [
       " View run <strong style=\"color:#cdcd00\">absurd-sweep-43</strong> at: <a href='https://wandb.ai/gradient_pwr/airbnb-downstream-task/runs/3rvpuodq' target=\"_blank\">https://wandb.ai/gradient_pwr/airbnb-downstream-task/runs/3rvpuodq</a><br/> View project at: <a href='https://wandb.ai/gradient_pwr/airbnb-downstream-task' target=\"_blank\">https://wandb.ai/gradient_pwr/airbnb-downstream-task</a><br/>Synced 5 W&B file(s), 0 media file(s), 2 artifact file(s) and 0 other file(s)"
      ],
      "text/plain": [
       "<IPython.core.display.HTML object>"
      ]
     },
     "metadata": {},
     "output_type": "display_data"
    },
    {
     "data": {
      "text/html": [
       "Find logs at: <code>./wandb/run-20240605_012457-3rvpuodq/logs</code>"
      ],
      "text/plain": [
       "<IPython.core.display.HTML object>"
      ]
     },
     "metadata": {},
     "output_type": "display_data"
    },
    {
     "name": "stderr",
     "output_type": "stream",
     "text": [
      "\u001b[34m\u001b[1mwandb\u001b[0m: Agent Starting Run: rnth7xbz with config:\n",
      "\u001b[34m\u001b[1mwandb\u001b[0m: \tC: 2.6951450214569554e-05\n",
      "\u001b[34m\u001b[1mwandb\u001b[0m: \tsolver_penalty: liblinear;l1\n",
      "Failed to detect the name of this notebook, you can set it manually with the WANDB_NOTEBOOK_NAME environment variable to enable code saving.\n"
     ]
    },
    {
     "data": {
      "text/html": [
       "Tracking run with wandb version 0.17.0"
      ],
      "text/plain": [
       "<IPython.core.display.HTML object>"
      ]
     },
     "metadata": {},
     "output_type": "display_data"
    },
    {
     "data": {
      "text/html": [
       "Run data is saved locally in <code>/home/grymar/studia/gradient/notebooks/downstream_tasks/wandb/run-20240605_012514-rnth7xbz</code>"
      ],
      "text/plain": [
       "<IPython.core.display.HTML object>"
      ]
     },
     "metadata": {},
     "output_type": "display_data"
    },
    {
     "data": {
      "text/html": [
       "Syncing run <strong><a href='https://wandb.ai/gradient_pwr/airbnb-downstream-task/runs/rnth7xbz' target=\"_blank\">eager-sweep-44</a></strong> to <a href='https://wandb.ai/gradient_pwr/airbnb-downstream-task' target=\"_blank\">Weights & Biases</a> (<a href='https://wandb.me/run' target=\"_blank\">docs</a>)<br/>Sweep page: <a href='https://wandb.ai/gradient_pwr/airbnb-downstream-task/sweeps/ow0algrs' target=\"_blank\">https://wandb.ai/gradient_pwr/airbnb-downstream-task/sweeps/ow0algrs</a>"
      ],
      "text/plain": [
       "<IPython.core.display.HTML object>"
      ]
     },
     "metadata": {},
     "output_type": "display_data"
    },
    {
     "data": {
      "text/html": [
       " View project at <a href='https://wandb.ai/gradient_pwr/airbnb-downstream-task' target=\"_blank\">https://wandb.ai/gradient_pwr/airbnb-downstream-task</a>"
      ],
      "text/plain": [
       "<IPython.core.display.HTML object>"
      ]
     },
     "metadata": {},
     "output_type": "display_data"
    },
    {
     "data": {
      "text/html": [
       " View sweep at <a href='https://wandb.ai/gradient_pwr/airbnb-downstream-task/sweeps/ow0algrs' target=\"_blank\">https://wandb.ai/gradient_pwr/airbnb-downstream-task/sweeps/ow0algrs</a>"
      ],
      "text/plain": [
       "<IPython.core.display.HTML object>"
      ]
     },
     "metadata": {},
     "output_type": "display_data"
    },
    {
     "data": {
      "text/html": [
       " View run at <a href='https://wandb.ai/gradient_pwr/airbnb-downstream-task/runs/rnth7xbz' target=\"_blank\">https://wandb.ai/gradient_pwr/airbnb-downstream-task/runs/rnth7xbz</a>"
      ],
      "text/plain": [
       "<IPython.core.display.HTML object>"
      ]
     },
     "metadata": {},
     "output_type": "display_data"
    },
    {
     "name": "stdout",
     "output_type": "stream",
     "text": [
      "[0 1 2 3 4]\n"
     ]
    },
    {
     "name": "stderr",
     "output_type": "stream",
     "text": [
      "/home/grymar/studia/gradient/env/lib/python3.10/site-packages/sklearn/linear_model/_logistic.py:1172: UserWarning: l1_ratio parameter is only used when penalty is 'elasticnet'. Got (penalty=l1)\n",
      "  warnings.warn(\n",
      "/home/grymar/studia/gradient/env/lib/python3.10/site-packages/sklearn/linear_model/_logistic.py:1223: UserWarning: 'n_jobs' > 1 does not have any effect when 'solver' is set to 'liblinear'. Got 'n_jobs' = 16.\n",
      "  warnings.warn(\n"
     ]
    },
    {
     "name": "stdout",
     "output_type": "stream",
     "text": [
      "[0 1 2 3 4]\n",
      "(10757, 5)\n",
      "(10757, 5)\n"
     ]
    },
    {
     "name": "stderr",
     "output_type": "stream",
     "text": [
      "/home/grymar/studia/gradient/env/lib/python3.10/site-packages/sklearn/preprocessing/_encoders.py:975: FutureWarning: `sparse` was renamed to `sparse_output` in version 1.2 and will be removed in 1.4. `sparse_output` is ignored unless you leave `sparse` to its default value.\n",
      "  warnings.warn(\n"
     ]
    },
    {
     "name": "stdout",
     "output_type": "stream",
     "text": [
      "[0 1 2 3 4]\n"
     ]
    },
    {
     "name": "stderr",
     "output_type": "stream",
     "text": [
      "/home/grymar/studia/gradient/env/lib/python3.10/site-packages/sklearn/linear_model/_logistic.py:1172: UserWarning: l1_ratio parameter is only used when penalty is 'elasticnet'. Got (penalty=l1)\n",
      "  warnings.warn(\n",
      "/home/grymar/studia/gradient/env/lib/python3.10/site-packages/sklearn/linear_model/_logistic.py:1223: UserWarning: 'n_jobs' > 1 does not have any effect when 'solver' is set to 'liblinear'. Got 'n_jobs' = 16.\n",
      "  warnings.warn(\n"
     ]
    },
    {
     "name": "stdout",
     "output_type": "stream",
     "text": [
      "[0 1 2 3 4]\n",
      "(4203, 5)\n",
      "(4203, 5)\n"
     ]
    },
    {
     "name": "stderr",
     "output_type": "stream",
     "text": [
      "/home/grymar/studia/gradient/env/lib/python3.10/site-packages/sklearn/preprocessing/_encoders.py:975: FutureWarning: `sparse` was renamed to `sparse_output` in version 1.2 and will be removed in 1.4. `sparse_output` is ignored unless you leave `sparse` to its default value.\n",
      "  warnings.warn(\n"
     ]
    },
    {
     "data": {
      "application/vnd.jupyter.widget-view+json": {
       "model_id": "cf689edb8ebf4a45a6d578d17d1b1986",
       "version_major": 2,
       "version_minor": 0
      },
      "text/plain": [
       "VBox(children=(Label(value='0.169 MB of 0.169 MB uploaded\\r'), FloatProgress(value=1.0, max=1.0)))"
      ]
     },
     "metadata": {},
     "output_type": "display_data"
    },
    {
     "data": {
      "text/html": [
       "<style>\n",
       "    table.wandb td:nth-child(1) { padding: 0 10px; text-align: left ; width: auto;} td:nth-child(2) {text-align: left ; width: 100%}\n",
       "    .wandb-row { display: flex; flex-direction: row; flex-wrap: wrap; justify-content: flex-start; width: 100% }\n",
       "    .wandb-col { display: flex; flex-direction: column; flex-basis: 100%; flex: 1; padding: 10px; }\n",
       "    </style>\n",
       "<div class=\"wandb-row\"><div class=\"wandb-col\"><h3>Run history:</h3><br/><table class=\"wandb\"><tr><td>USE_HEXES_ATTRS</td><td>▁</td></tr><tr><td>USE_ORTOPHOTO</td><td>▁</td></tr><tr><td>USE_OSMNX_ATTRS</td><td>▁</td></tr><tr><td>accuracy_fold_0</td><td>▁</td></tr><tr><td>accuracy_fold_1</td><td>▁</td></tr><tr><td>auc_fold_0</td><td>▁</td></tr><tr><td>auc_fold_1</td><td>▁</td></tr><tr><td>f1_fold_0</td><td>▁</td></tr><tr><td>f1_fold_1</td><td>▁</td></tr><tr><td>mean_accuracy</td><td>▁</td></tr><tr><td>mean_auc</td><td>▁</td></tr><tr><td>mean_f1</td><td>▁</td></tr></table><br/></div><div class=\"wandb-col\"><h3>Run summary:</h3><br/><table class=\"wandb\"><tr><td>USE_HEXES_ATTRS</td><td>1</td></tr><tr><td>USE_ORTOPHOTO</td><td>0</td></tr><tr><td>USE_OSMNX_ATTRS</td><td>0</td></tr><tr><td>accuracy_fold_0</td><td>0.6961</td></tr><tr><td>accuracy_fold_1</td><td>0.6581</td></tr><tr><td>auc_fold_0</td><td>0.5</td></tr><tr><td>auc_fold_1</td><td>0.5</td></tr><tr><td>data_structure</td><td>tabular</td></tr><tr><td>f1_fold_0</td><td>0.57138</td></tr><tr><td>f1_fold_1</td><td>0.5224</td></tr><tr><td>mean_accuracy</td><td>0.6771</td></tr><tr><td>mean_auc</td><td>0.5</td></tr><tr><td>mean_f1</td><td>0.54689</td></tr></table><br/></div></div>"
      ],
      "text/plain": [
       "<IPython.core.display.HTML object>"
      ]
     },
     "metadata": {},
     "output_type": "display_data"
    },
    {
     "data": {
      "text/html": [
       " View run <strong style=\"color:#cdcd00\">eager-sweep-44</strong> at: <a href='https://wandb.ai/gradient_pwr/airbnb-downstream-task/runs/rnth7xbz' target=\"_blank\">https://wandb.ai/gradient_pwr/airbnb-downstream-task/runs/rnth7xbz</a><br/> View project at: <a href='https://wandb.ai/gradient_pwr/airbnb-downstream-task' target=\"_blank\">https://wandb.ai/gradient_pwr/airbnb-downstream-task</a><br/>Synced 5 W&B file(s), 0 media file(s), 2 artifact file(s) and 0 other file(s)"
      ],
      "text/plain": [
       "<IPython.core.display.HTML object>"
      ]
     },
     "metadata": {},
     "output_type": "display_data"
    },
    {
     "data": {
      "text/html": [
       "Find logs at: <code>./wandb/run-20240605_012514-rnth7xbz/logs</code>"
      ],
      "text/plain": [
       "<IPython.core.display.HTML object>"
      ]
     },
     "metadata": {},
     "output_type": "display_data"
    },
    {
     "name": "stderr",
     "output_type": "stream",
     "text": [
      "\u001b[34m\u001b[1mwandb\u001b[0m: Agent Starting Run: 16o3rt31 with config:\n",
      "\u001b[34m\u001b[1mwandb\u001b[0m: \tC: 1.2822705333486946e-05\n",
      "\u001b[34m\u001b[1mwandb\u001b[0m: \tsolver_penalty: liblinear;l2\n",
      "Failed to detect the name of this notebook, you can set it manually with the WANDB_NOTEBOOK_NAME environment variable to enable code saving.\n"
     ]
    },
    {
     "data": {
      "text/html": [
       "Tracking run with wandb version 0.17.0"
      ],
      "text/plain": [
       "<IPython.core.display.HTML object>"
      ]
     },
     "metadata": {},
     "output_type": "display_data"
    },
    {
     "data": {
      "text/html": [
       "Run data is saved locally in <code>/home/grymar/studia/gradient/notebooks/downstream_tasks/wandb/run-20240605_012530-16o3rt31</code>"
      ],
      "text/plain": [
       "<IPython.core.display.HTML object>"
      ]
     },
     "metadata": {},
     "output_type": "display_data"
    },
    {
     "data": {
      "text/html": [
       "Syncing run <strong><a href='https://wandb.ai/gradient_pwr/airbnb-downstream-task/runs/16o3rt31' target=\"_blank\">revived-sweep-45</a></strong> to <a href='https://wandb.ai/gradient_pwr/airbnb-downstream-task' target=\"_blank\">Weights & Biases</a> (<a href='https://wandb.me/run' target=\"_blank\">docs</a>)<br/>Sweep page: <a href='https://wandb.ai/gradient_pwr/airbnb-downstream-task/sweeps/ow0algrs' target=\"_blank\">https://wandb.ai/gradient_pwr/airbnb-downstream-task/sweeps/ow0algrs</a>"
      ],
      "text/plain": [
       "<IPython.core.display.HTML object>"
      ]
     },
     "metadata": {},
     "output_type": "display_data"
    },
    {
     "data": {
      "text/html": [
       " View project at <a href='https://wandb.ai/gradient_pwr/airbnb-downstream-task' target=\"_blank\">https://wandb.ai/gradient_pwr/airbnb-downstream-task</a>"
      ],
      "text/plain": [
       "<IPython.core.display.HTML object>"
      ]
     },
     "metadata": {},
     "output_type": "display_data"
    },
    {
     "data": {
      "text/html": [
       " View sweep at <a href='https://wandb.ai/gradient_pwr/airbnb-downstream-task/sweeps/ow0algrs' target=\"_blank\">https://wandb.ai/gradient_pwr/airbnb-downstream-task/sweeps/ow0algrs</a>"
      ],
      "text/plain": [
       "<IPython.core.display.HTML object>"
      ]
     },
     "metadata": {},
     "output_type": "display_data"
    },
    {
     "data": {
      "text/html": [
       " View run at <a href='https://wandb.ai/gradient_pwr/airbnb-downstream-task/runs/16o3rt31' target=\"_blank\">https://wandb.ai/gradient_pwr/airbnb-downstream-task/runs/16o3rt31</a>"
      ],
      "text/plain": [
       "<IPython.core.display.HTML object>"
      ]
     },
     "metadata": {},
     "output_type": "display_data"
    },
    {
     "name": "stdout",
     "output_type": "stream",
     "text": [
      "[0 1 2 3 4]\n"
     ]
    },
    {
     "name": "stderr",
     "output_type": "stream",
     "text": [
      "/home/grymar/studia/gradient/env/lib/python3.10/site-packages/sklearn/linear_model/_logistic.py:1172: UserWarning: l1_ratio parameter is only used when penalty is 'elasticnet'. Got (penalty=l2)\n",
      "  warnings.warn(\n",
      "/home/grymar/studia/gradient/env/lib/python3.10/site-packages/sklearn/linear_model/_logistic.py:1223: UserWarning: 'n_jobs' > 1 does not have any effect when 'solver' is set to 'liblinear'. Got 'n_jobs' = 16.\n",
      "  warnings.warn(\n"
     ]
    },
    {
     "name": "stdout",
     "output_type": "stream",
     "text": [
      "[0 1 2 3 4]\n",
      "(10757, 5)\n",
      "(10757, 5)\n"
     ]
    },
    {
     "name": "stderr",
     "output_type": "stream",
     "text": [
      "/home/grymar/studia/gradient/env/lib/python3.10/site-packages/sklearn/preprocessing/_encoders.py:975: FutureWarning: `sparse` was renamed to `sparse_output` in version 1.2 and will be removed in 1.4. `sparse_output` is ignored unless you leave `sparse` to its default value.\n",
      "  warnings.warn(\n"
     ]
    },
    {
     "name": "stdout",
     "output_type": "stream",
     "text": [
      "[0 1 2 3 4]\n"
     ]
    },
    {
     "name": "stderr",
     "output_type": "stream",
     "text": [
      "/home/grymar/studia/gradient/env/lib/python3.10/site-packages/sklearn/linear_model/_logistic.py:1172: UserWarning: l1_ratio parameter is only used when penalty is 'elasticnet'. Got (penalty=l2)\n",
      "  warnings.warn(\n",
      "/home/grymar/studia/gradient/env/lib/python3.10/site-packages/sklearn/linear_model/_logistic.py:1223: UserWarning: 'n_jobs' > 1 does not have any effect when 'solver' is set to 'liblinear'. Got 'n_jobs' = 16.\n",
      "  warnings.warn(\n"
     ]
    },
    {
     "name": "stdout",
     "output_type": "stream",
     "text": [
      "[0 1 2 3 4]\n",
      "(4203, 5)\n",
      "(4203, 5)\n"
     ]
    },
    {
     "name": "stderr",
     "output_type": "stream",
     "text": [
      "/home/grymar/studia/gradient/env/lib/python3.10/site-packages/sklearn/preprocessing/_encoders.py:975: FutureWarning: `sparse` was renamed to `sparse_output` in version 1.2 and will be removed in 1.4. `sparse_output` is ignored unless you leave `sparse` to its default value.\n",
      "  warnings.warn(\n"
     ]
    },
    {
     "data": {
      "application/vnd.jupyter.widget-view+json": {
       "model_id": "8dd896875df44ea4bfe5a3848adad951",
       "version_major": 2,
       "version_minor": 0
      },
      "text/plain": [
       "VBox(children=(Label(value='0.169 MB of 0.169 MB uploaded\\r'), FloatProgress(value=1.0, max=1.0)))"
      ]
     },
     "metadata": {},
     "output_type": "display_data"
    },
    {
     "data": {
      "text/html": [
       "<style>\n",
       "    table.wandb td:nth-child(1) { padding: 0 10px; text-align: left ; width: auto;} td:nth-child(2) {text-align: left ; width: 100%}\n",
       "    .wandb-row { display: flex; flex-direction: row; flex-wrap: wrap; justify-content: flex-start; width: 100% }\n",
       "    .wandb-col { display: flex; flex-direction: column; flex-basis: 100%; flex: 1; padding: 10px; }\n",
       "    </style>\n",
       "<div class=\"wandb-row\"><div class=\"wandb-col\"><h3>Run history:</h3><br/><table class=\"wandb\"><tr><td>USE_HEXES_ATTRS</td><td>▁</td></tr><tr><td>USE_ORTOPHOTO</td><td>▁</td></tr><tr><td>USE_OSMNX_ATTRS</td><td>▁</td></tr><tr><td>accuracy_fold_0</td><td>▁</td></tr><tr><td>accuracy_fold_1</td><td>▁</td></tr><tr><td>auc_fold_0</td><td>▁</td></tr><tr><td>auc_fold_1</td><td>▁</td></tr><tr><td>f1_fold_0</td><td>▁</td></tr><tr><td>f1_fold_1</td><td>▁</td></tr><tr><td>mean_accuracy</td><td>▁</td></tr><tr><td>mean_auc</td><td>▁</td></tr><tr><td>mean_f1</td><td>▁</td></tr></table><br/></div><div class=\"wandb-col\"><h3>Run summary:</h3><br/><table class=\"wandb\"><tr><td>USE_HEXES_ATTRS</td><td>1</td></tr><tr><td>USE_ORTOPHOTO</td><td>0</td></tr><tr><td>USE_OSMNX_ATTRS</td><td>0</td></tr><tr><td>accuracy_fold_0</td><td>0.57758</td></tr><tr><td>accuracy_fold_1</td><td>0.52415</td></tr><tr><td>auc_fold_0</td><td>0.544</td></tr><tr><td>auc_fold_1</td><td>0.59152</td></tr><tr><td>data_structure</td><td>tabular</td></tr><tr><td>f1_fold_0</td><td>0.52934</td></tr><tr><td>f1_fold_1</td><td>0.52536</td></tr><tr><td>mean_accuracy</td><td>0.55086</td></tr><tr><td>mean_auc</td><td>0.56776</td></tr><tr><td>mean_f1</td><td>0.52735</td></tr></table><br/></div></div>"
      ],
      "text/plain": [
       "<IPython.core.display.HTML object>"
      ]
     },
     "metadata": {},
     "output_type": "display_data"
    },
    {
     "data": {
      "text/html": [
       " View run <strong style=\"color:#cdcd00\">revived-sweep-45</strong> at: <a href='https://wandb.ai/gradient_pwr/airbnb-downstream-task/runs/16o3rt31' target=\"_blank\">https://wandb.ai/gradient_pwr/airbnb-downstream-task/runs/16o3rt31</a><br/> View project at: <a href='https://wandb.ai/gradient_pwr/airbnb-downstream-task' target=\"_blank\">https://wandb.ai/gradient_pwr/airbnb-downstream-task</a><br/>Synced 5 W&B file(s), 0 media file(s), 2 artifact file(s) and 0 other file(s)"
      ],
      "text/plain": [
       "<IPython.core.display.HTML object>"
      ]
     },
     "metadata": {},
     "output_type": "display_data"
    },
    {
     "data": {
      "text/html": [
       "Find logs at: <code>./wandb/run-20240605_012530-16o3rt31/logs</code>"
      ],
      "text/plain": [
       "<IPython.core.display.HTML object>"
      ]
     },
     "metadata": {},
     "output_type": "display_data"
    },
    {
     "name": "stderr",
     "output_type": "stream",
     "text": [
      "\u001b[34m\u001b[1mwandb\u001b[0m: Agent Starting Run: vx60iz70 with config:\n",
      "\u001b[34m\u001b[1mwandb\u001b[0m: \tC: 1.6575261850497282e-05\n",
      "\u001b[34m\u001b[1mwandb\u001b[0m: \tsolver_penalty: liblinear;l2\n",
      "Failed to detect the name of this notebook, you can set it manually with the WANDB_NOTEBOOK_NAME environment variable to enable code saving.\n"
     ]
    },
    {
     "data": {
      "text/html": [
       "Tracking run with wandb version 0.17.0"
      ],
      "text/plain": [
       "<IPython.core.display.HTML object>"
      ]
     },
     "metadata": {},
     "output_type": "display_data"
    },
    {
     "data": {
      "text/html": [
       "Run data is saved locally in <code>/home/grymar/studia/gradient/notebooks/downstream_tasks/wandb/run-20240605_012545-vx60iz70</code>"
      ],
      "text/plain": [
       "<IPython.core.display.HTML object>"
      ]
     },
     "metadata": {},
     "output_type": "display_data"
    },
    {
     "data": {
      "text/html": [
       "Syncing run <strong><a href='https://wandb.ai/gradient_pwr/airbnb-downstream-task/runs/vx60iz70' target=\"_blank\">good-sweep-46</a></strong> to <a href='https://wandb.ai/gradient_pwr/airbnb-downstream-task' target=\"_blank\">Weights & Biases</a> (<a href='https://wandb.me/run' target=\"_blank\">docs</a>)<br/>Sweep page: <a href='https://wandb.ai/gradient_pwr/airbnb-downstream-task/sweeps/ow0algrs' target=\"_blank\">https://wandb.ai/gradient_pwr/airbnb-downstream-task/sweeps/ow0algrs</a>"
      ],
      "text/plain": [
       "<IPython.core.display.HTML object>"
      ]
     },
     "metadata": {},
     "output_type": "display_data"
    },
    {
     "data": {
      "text/html": [
       " View project at <a href='https://wandb.ai/gradient_pwr/airbnb-downstream-task' target=\"_blank\">https://wandb.ai/gradient_pwr/airbnb-downstream-task</a>"
      ],
      "text/plain": [
       "<IPython.core.display.HTML object>"
      ]
     },
     "metadata": {},
     "output_type": "display_data"
    },
    {
     "data": {
      "text/html": [
       " View sweep at <a href='https://wandb.ai/gradient_pwr/airbnb-downstream-task/sweeps/ow0algrs' target=\"_blank\">https://wandb.ai/gradient_pwr/airbnb-downstream-task/sweeps/ow0algrs</a>"
      ],
      "text/plain": [
       "<IPython.core.display.HTML object>"
      ]
     },
     "metadata": {},
     "output_type": "display_data"
    },
    {
     "data": {
      "text/html": [
       " View run at <a href='https://wandb.ai/gradient_pwr/airbnb-downstream-task/runs/vx60iz70' target=\"_blank\">https://wandb.ai/gradient_pwr/airbnb-downstream-task/runs/vx60iz70</a>"
      ],
      "text/plain": [
       "<IPython.core.display.HTML object>"
      ]
     },
     "metadata": {},
     "output_type": "display_data"
    },
    {
     "name": "stdout",
     "output_type": "stream",
     "text": [
      "[0 1 2 3 4]\n"
     ]
    },
    {
     "name": "stderr",
     "output_type": "stream",
     "text": [
      "/home/grymar/studia/gradient/env/lib/python3.10/site-packages/sklearn/linear_model/_logistic.py:1172: UserWarning: l1_ratio parameter is only used when penalty is 'elasticnet'. Got (penalty=l2)\n",
      "  warnings.warn(\n",
      "/home/grymar/studia/gradient/env/lib/python3.10/site-packages/sklearn/linear_model/_logistic.py:1223: UserWarning: 'n_jobs' > 1 does not have any effect when 'solver' is set to 'liblinear'. Got 'n_jobs' = 16.\n",
      "  warnings.warn(\n"
     ]
    },
    {
     "name": "stdout",
     "output_type": "stream",
     "text": [
      "[0 1 2 3 4]\n",
      "(10757, 5)\n",
      "(10757, 5)\n"
     ]
    },
    {
     "name": "stderr",
     "output_type": "stream",
     "text": [
      "/home/grymar/studia/gradient/env/lib/python3.10/site-packages/sklearn/preprocessing/_encoders.py:975: FutureWarning: `sparse` was renamed to `sparse_output` in version 1.2 and will be removed in 1.4. `sparse_output` is ignored unless you leave `sparse` to its default value.\n",
      "  warnings.warn(\n"
     ]
    },
    {
     "name": "stdout",
     "output_type": "stream",
     "text": [
      "[0 1 2 3 4]\n"
     ]
    },
    {
     "name": "stderr",
     "output_type": "stream",
     "text": [
      "/home/grymar/studia/gradient/env/lib/python3.10/site-packages/sklearn/linear_model/_logistic.py:1172: UserWarning: l1_ratio parameter is only used when penalty is 'elasticnet'. Got (penalty=l2)\n",
      "  warnings.warn(\n",
      "/home/grymar/studia/gradient/env/lib/python3.10/site-packages/sklearn/linear_model/_logistic.py:1223: UserWarning: 'n_jobs' > 1 does not have any effect when 'solver' is set to 'liblinear'. Got 'n_jobs' = 16.\n",
      "  warnings.warn(\n"
     ]
    },
    {
     "name": "stdout",
     "output_type": "stream",
     "text": [
      "[0 1 2 3 4]\n",
      "(4203, 5)\n",
      "(4203, 5)\n"
     ]
    },
    {
     "name": "stderr",
     "output_type": "stream",
     "text": [
      "/home/grymar/studia/gradient/env/lib/python3.10/site-packages/sklearn/preprocessing/_encoders.py:975: FutureWarning: `sparse` was renamed to `sparse_output` in version 1.2 and will be removed in 1.4. `sparse_output` is ignored unless you leave `sparse` to its default value.\n",
      "  warnings.warn(\n"
     ]
    },
    {
     "data": {
      "application/vnd.jupyter.widget-view+json": {
       "model_id": "1e1ec071142142fdae03b96471fadd0a",
       "version_major": 2,
       "version_minor": 0
      },
      "text/plain": [
       "VBox(children=(Label(value='0.169 MB of 0.169 MB uploaded\\r'), FloatProgress(value=1.0, max=1.0)))"
      ]
     },
     "metadata": {},
     "output_type": "display_data"
    },
    {
     "data": {
      "text/html": [
       "<style>\n",
       "    table.wandb td:nth-child(1) { padding: 0 10px; text-align: left ; width: auto;} td:nth-child(2) {text-align: left ; width: 100%}\n",
       "    .wandb-row { display: flex; flex-direction: row; flex-wrap: wrap; justify-content: flex-start; width: 100% }\n",
       "    .wandb-col { display: flex; flex-direction: column; flex-basis: 100%; flex: 1; padding: 10px; }\n",
       "    </style>\n",
       "<div class=\"wandb-row\"><div class=\"wandb-col\"><h3>Run history:</h3><br/><table class=\"wandb\"><tr><td>USE_HEXES_ATTRS</td><td>▁</td></tr><tr><td>USE_ORTOPHOTO</td><td>▁</td></tr><tr><td>USE_OSMNX_ATTRS</td><td>▁</td></tr><tr><td>accuracy_fold_0</td><td>▁</td></tr><tr><td>accuracy_fold_1</td><td>▁</td></tr><tr><td>auc_fold_0</td><td>▁</td></tr><tr><td>auc_fold_1</td><td>▁</td></tr><tr><td>f1_fold_0</td><td>▁</td></tr><tr><td>f1_fold_1</td><td>▁</td></tr><tr><td>mean_accuracy</td><td>▁</td></tr><tr><td>mean_auc</td><td>▁</td></tr><tr><td>mean_f1</td><td>▁</td></tr></table><br/></div><div class=\"wandb-col\"><h3>Run summary:</h3><br/><table class=\"wandb\"><tr><td>USE_HEXES_ATTRS</td><td>1</td></tr><tr><td>USE_ORTOPHOTO</td><td>0</td></tr><tr><td>USE_OSMNX_ATTRS</td><td>0</td></tr><tr><td>accuracy_fold_0</td><td>0.57321</td></tr><tr><td>accuracy_fold_1</td><td>0.52819</td></tr><tr><td>auc_fold_0</td><td>0.54363</td></tr><tr><td>auc_fold_1</td><td>0.58601</td></tr><tr><td>data_structure</td><td>tabular</td></tr><tr><td>f1_fold_0</td><td>0.52714</td></tr><tr><td>f1_fold_1</td><td>0.52706</td></tr><tr><td>mean_accuracy</td><td>0.5507</td></tr><tr><td>mean_auc</td><td>0.56482</td></tr><tr><td>mean_f1</td><td>0.5271</td></tr></table><br/></div></div>"
      ],
      "text/plain": [
       "<IPython.core.display.HTML object>"
      ]
     },
     "metadata": {},
     "output_type": "display_data"
    },
    {
     "data": {
      "text/html": [
       " View run <strong style=\"color:#cdcd00\">good-sweep-46</strong> at: <a href='https://wandb.ai/gradient_pwr/airbnb-downstream-task/runs/vx60iz70' target=\"_blank\">https://wandb.ai/gradient_pwr/airbnb-downstream-task/runs/vx60iz70</a><br/> View project at: <a href='https://wandb.ai/gradient_pwr/airbnb-downstream-task' target=\"_blank\">https://wandb.ai/gradient_pwr/airbnb-downstream-task</a><br/>Synced 5 W&B file(s), 0 media file(s), 2 artifact file(s) and 0 other file(s)"
      ],
      "text/plain": [
       "<IPython.core.display.HTML object>"
      ]
     },
     "metadata": {},
     "output_type": "display_data"
    },
    {
     "data": {
      "text/html": [
       "Find logs at: <code>./wandb/run-20240605_012545-vx60iz70/logs</code>"
      ],
      "text/plain": [
       "<IPython.core.display.HTML object>"
      ]
     },
     "metadata": {},
     "output_type": "display_data"
    },
    {
     "name": "stderr",
     "output_type": "stream",
     "text": [
      "\u001b[34m\u001b[1mwandb\u001b[0m: Sweep Agent: Waiting for job.\n",
      "\u001b[34m\u001b[1mwandb\u001b[0m: Job received.\n",
      "\u001b[34m\u001b[1mwandb\u001b[0m: Agent Starting Run: 0xf0k1as with config:\n",
      "\u001b[34m\u001b[1mwandb\u001b[0m: \tC: 1.5444769806062967e-05\n",
      "\u001b[34m\u001b[1mwandb\u001b[0m: \tsolver_penalty: liblinear;l2\n",
      "Failed to detect the name of this notebook, you can set it manually with the WANDB_NOTEBOOK_NAME environment variable to enable code saving.\n"
     ]
    },
    {
     "data": {
      "text/html": [
       "Tracking run with wandb version 0.17.0"
      ],
      "text/plain": [
       "<IPython.core.display.HTML object>"
      ]
     },
     "metadata": {},
     "output_type": "display_data"
    },
    {
     "data": {
      "text/html": [
       "Run data is saved locally in <code>/home/grymar/studia/gradient/notebooks/downstream_tasks/wandb/run-20240605_012607-0xf0k1as</code>"
      ],
      "text/plain": [
       "<IPython.core.display.HTML object>"
      ]
     },
     "metadata": {},
     "output_type": "display_data"
    },
    {
     "data": {
      "text/html": [
       "Syncing run <strong><a href='https://wandb.ai/gradient_pwr/airbnb-downstream-task/runs/0xf0k1as' target=\"_blank\">glorious-sweep-47</a></strong> to <a href='https://wandb.ai/gradient_pwr/airbnb-downstream-task' target=\"_blank\">Weights & Biases</a> (<a href='https://wandb.me/run' target=\"_blank\">docs</a>)<br/>Sweep page: <a href='https://wandb.ai/gradient_pwr/airbnb-downstream-task/sweeps/ow0algrs' target=\"_blank\">https://wandb.ai/gradient_pwr/airbnb-downstream-task/sweeps/ow0algrs</a>"
      ],
      "text/plain": [
       "<IPython.core.display.HTML object>"
      ]
     },
     "metadata": {},
     "output_type": "display_data"
    },
    {
     "data": {
      "text/html": [
       " View project at <a href='https://wandb.ai/gradient_pwr/airbnb-downstream-task' target=\"_blank\">https://wandb.ai/gradient_pwr/airbnb-downstream-task</a>"
      ],
      "text/plain": [
       "<IPython.core.display.HTML object>"
      ]
     },
     "metadata": {},
     "output_type": "display_data"
    },
    {
     "data": {
      "text/html": [
       " View sweep at <a href='https://wandb.ai/gradient_pwr/airbnb-downstream-task/sweeps/ow0algrs' target=\"_blank\">https://wandb.ai/gradient_pwr/airbnb-downstream-task/sweeps/ow0algrs</a>"
      ],
      "text/plain": [
       "<IPython.core.display.HTML object>"
      ]
     },
     "metadata": {},
     "output_type": "display_data"
    },
    {
     "data": {
      "text/html": [
       " View run at <a href='https://wandb.ai/gradient_pwr/airbnb-downstream-task/runs/0xf0k1as' target=\"_blank\">https://wandb.ai/gradient_pwr/airbnb-downstream-task/runs/0xf0k1as</a>"
      ],
      "text/plain": [
       "<IPython.core.display.HTML object>"
      ]
     },
     "metadata": {},
     "output_type": "display_data"
    },
    {
     "name": "stdout",
     "output_type": "stream",
     "text": [
      "[0 1 2 3 4]\n"
     ]
    },
    {
     "name": "stderr",
     "output_type": "stream",
     "text": [
      "/home/grymar/studia/gradient/env/lib/python3.10/site-packages/sklearn/linear_model/_logistic.py:1172: UserWarning: l1_ratio parameter is only used when penalty is 'elasticnet'. Got (penalty=l2)\n",
      "  warnings.warn(\n",
      "/home/grymar/studia/gradient/env/lib/python3.10/site-packages/sklearn/linear_model/_logistic.py:1223: UserWarning: 'n_jobs' > 1 does not have any effect when 'solver' is set to 'liblinear'. Got 'n_jobs' = 16.\n",
      "  warnings.warn(\n"
     ]
    },
    {
     "name": "stdout",
     "output_type": "stream",
     "text": [
      "[0 1 2 3 4]\n",
      "(10757, 5)\n",
      "(10757, 5)\n"
     ]
    },
    {
     "name": "stderr",
     "output_type": "stream",
     "text": [
      "/home/grymar/studia/gradient/env/lib/python3.10/site-packages/sklearn/preprocessing/_encoders.py:975: FutureWarning: `sparse` was renamed to `sparse_output` in version 1.2 and will be removed in 1.4. `sparse_output` is ignored unless you leave `sparse` to its default value.\n",
      "  warnings.warn(\n"
     ]
    },
    {
     "name": "stdout",
     "output_type": "stream",
     "text": [
      "[0 1 2 3 4]\n"
     ]
    },
    {
     "name": "stderr",
     "output_type": "stream",
     "text": [
      "/home/grymar/studia/gradient/env/lib/python3.10/site-packages/sklearn/linear_model/_logistic.py:1172: UserWarning: l1_ratio parameter is only used when penalty is 'elasticnet'. Got (penalty=l2)\n",
      "  warnings.warn(\n",
      "/home/grymar/studia/gradient/env/lib/python3.10/site-packages/sklearn/linear_model/_logistic.py:1223: UserWarning: 'n_jobs' > 1 does not have any effect when 'solver' is set to 'liblinear'. Got 'n_jobs' = 16.\n",
      "  warnings.warn(\n"
     ]
    },
    {
     "name": "stdout",
     "output_type": "stream",
     "text": [
      "[0 1 2 3 4]\n",
      "(4203, 5)\n",
      "(4203, 5)\n"
     ]
    },
    {
     "name": "stderr",
     "output_type": "stream",
     "text": [
      "/home/grymar/studia/gradient/env/lib/python3.10/site-packages/sklearn/preprocessing/_encoders.py:975: FutureWarning: `sparse` was renamed to `sparse_output` in version 1.2 and will be removed in 1.4. `sparse_output` is ignored unless you leave `sparse` to its default value.\n",
      "  warnings.warn(\n"
     ]
    },
    {
     "data": {
      "application/vnd.jupyter.widget-view+json": {
       "model_id": "43c8d17d15314ac58a1ec33c5bf90f37",
       "version_major": 2,
       "version_minor": 0
      },
      "text/plain": [
       "VBox(children=(Label(value='0.169 MB of 0.169 MB uploaded\\r'), FloatProgress(value=1.0, max=1.0)))"
      ]
     },
     "metadata": {},
     "output_type": "display_data"
    },
    {
     "data": {
      "text/html": [
       "<style>\n",
       "    table.wandb td:nth-child(1) { padding: 0 10px; text-align: left ; width: auto;} td:nth-child(2) {text-align: left ; width: 100%}\n",
       "    .wandb-row { display: flex; flex-direction: row; flex-wrap: wrap; justify-content: flex-start; width: 100% }\n",
       "    .wandb-col { display: flex; flex-direction: column; flex-basis: 100%; flex: 1; padding: 10px; }\n",
       "    </style>\n",
       "<div class=\"wandb-row\"><div class=\"wandb-col\"><h3>Run history:</h3><br/><table class=\"wandb\"><tr><td>USE_HEXES_ATTRS</td><td>▁</td></tr><tr><td>USE_ORTOPHOTO</td><td>▁</td></tr><tr><td>USE_OSMNX_ATTRS</td><td>▁</td></tr><tr><td>accuracy_fold_0</td><td>▁</td></tr><tr><td>accuracy_fold_1</td><td>▁</td></tr><tr><td>auc_fold_0</td><td>▁</td></tr><tr><td>auc_fold_1</td><td>▁</td></tr><tr><td>f1_fold_0</td><td>▁</td></tr><tr><td>f1_fold_1</td><td>▁</td></tr><tr><td>mean_accuracy</td><td>▁</td></tr><tr><td>mean_auc</td><td>▁</td></tr><tr><td>mean_f1</td><td>▁</td></tr></table><br/></div><div class=\"wandb-col\"><h3>Run summary:</h3><br/><table class=\"wandb\"><tr><td>USE_HEXES_ATTRS</td><td>1</td></tr><tr><td>USE_ORTOPHOTO</td><td>0</td></tr><tr><td>USE_OSMNX_ATTRS</td><td>0</td></tr><tr><td>accuracy_fold_0</td><td>0.57442</td></tr><tr><td>accuracy_fold_1</td><td>0.527</td></tr><tr><td>auc_fold_0</td><td>0.5436</td></tr><tr><td>auc_fold_1</td><td>0.588</td></tr><tr><td>data_structure</td><td>tabular</td></tr><tr><td>f1_fold_0</td><td>0.52771</td></tr><tr><td>f1_fold_1</td><td>0.52647</td></tr><tr><td>mean_accuracy</td><td>0.55071</td></tr><tr><td>mean_auc</td><td>0.5658</td></tr><tr><td>mean_f1</td><td>0.52709</td></tr></table><br/></div></div>"
      ],
      "text/plain": [
       "<IPython.core.display.HTML object>"
      ]
     },
     "metadata": {},
     "output_type": "display_data"
    },
    {
     "data": {
      "text/html": [
       " View run <strong style=\"color:#cdcd00\">glorious-sweep-47</strong> at: <a href='https://wandb.ai/gradient_pwr/airbnb-downstream-task/runs/0xf0k1as' target=\"_blank\">https://wandb.ai/gradient_pwr/airbnb-downstream-task/runs/0xf0k1as</a><br/> View project at: <a href='https://wandb.ai/gradient_pwr/airbnb-downstream-task' target=\"_blank\">https://wandb.ai/gradient_pwr/airbnb-downstream-task</a><br/>Synced 5 W&B file(s), 0 media file(s), 2 artifact file(s) and 0 other file(s)"
      ],
      "text/plain": [
       "<IPython.core.display.HTML object>"
      ]
     },
     "metadata": {},
     "output_type": "display_data"
    },
    {
     "data": {
      "text/html": [
       "Find logs at: <code>./wandb/run-20240605_012607-0xf0k1as/logs</code>"
      ],
      "text/plain": [
       "<IPython.core.display.HTML object>"
      ]
     },
     "metadata": {},
     "output_type": "display_data"
    },
    {
     "name": "stderr",
     "output_type": "stream",
     "text": [
      "\u001b[34m\u001b[1mwandb\u001b[0m: Agent Starting Run: bnvnf30c with config:\n",
      "\u001b[34m\u001b[1mwandb\u001b[0m: \tC: 0.0006072515015152799\n",
      "\u001b[34m\u001b[1mwandb\u001b[0m: \tsolver_penalty: liblinear;l2\n",
      "Failed to detect the name of this notebook, you can set it manually with the WANDB_NOTEBOOK_NAME environment variable to enable code saving.\n"
     ]
    },
    {
     "data": {
      "text/html": [
       "Tracking run with wandb version 0.17.0"
      ],
      "text/plain": [
       "<IPython.core.display.HTML object>"
      ]
     },
     "metadata": {},
     "output_type": "display_data"
    },
    {
     "data": {
      "text/html": [
       "Run data is saved locally in <code>/home/grymar/studia/gradient/notebooks/downstream_tasks/wandb/run-20240605_012623-bnvnf30c</code>"
      ],
      "text/plain": [
       "<IPython.core.display.HTML object>"
      ]
     },
     "metadata": {},
     "output_type": "display_data"
    },
    {
     "data": {
      "text/html": [
       "Syncing run <strong><a href='https://wandb.ai/gradient_pwr/airbnb-downstream-task/runs/bnvnf30c' target=\"_blank\">dulcet-sweep-48</a></strong> to <a href='https://wandb.ai/gradient_pwr/airbnb-downstream-task' target=\"_blank\">Weights & Biases</a> (<a href='https://wandb.me/run' target=\"_blank\">docs</a>)<br/>Sweep page: <a href='https://wandb.ai/gradient_pwr/airbnb-downstream-task/sweeps/ow0algrs' target=\"_blank\">https://wandb.ai/gradient_pwr/airbnb-downstream-task/sweeps/ow0algrs</a>"
      ],
      "text/plain": [
       "<IPython.core.display.HTML object>"
      ]
     },
     "metadata": {},
     "output_type": "display_data"
    },
    {
     "data": {
      "text/html": [
       " View project at <a href='https://wandb.ai/gradient_pwr/airbnb-downstream-task' target=\"_blank\">https://wandb.ai/gradient_pwr/airbnb-downstream-task</a>"
      ],
      "text/plain": [
       "<IPython.core.display.HTML object>"
      ]
     },
     "metadata": {},
     "output_type": "display_data"
    },
    {
     "data": {
      "text/html": [
       " View sweep at <a href='https://wandb.ai/gradient_pwr/airbnb-downstream-task/sweeps/ow0algrs' target=\"_blank\">https://wandb.ai/gradient_pwr/airbnb-downstream-task/sweeps/ow0algrs</a>"
      ],
      "text/plain": [
       "<IPython.core.display.HTML object>"
      ]
     },
     "metadata": {},
     "output_type": "display_data"
    },
    {
     "data": {
      "text/html": [
       " View run at <a href='https://wandb.ai/gradient_pwr/airbnb-downstream-task/runs/bnvnf30c' target=\"_blank\">https://wandb.ai/gradient_pwr/airbnb-downstream-task/runs/bnvnf30c</a>"
      ],
      "text/plain": [
       "<IPython.core.display.HTML object>"
      ]
     },
     "metadata": {},
     "output_type": "display_data"
    },
    {
     "name": "stdout",
     "output_type": "stream",
     "text": [
      "[0 1 2 3 4]\n"
     ]
    },
    {
     "name": "stderr",
     "output_type": "stream",
     "text": [
      "/home/grymar/studia/gradient/env/lib/python3.10/site-packages/sklearn/linear_model/_logistic.py:1172: UserWarning: l1_ratio parameter is only used when penalty is 'elasticnet'. Got (penalty=l2)\n",
      "  warnings.warn(\n",
      "/home/grymar/studia/gradient/env/lib/python3.10/site-packages/sklearn/linear_model/_logistic.py:1223: UserWarning: 'n_jobs' > 1 does not have any effect when 'solver' is set to 'liblinear'. Got 'n_jobs' = 16.\n",
      "  warnings.warn(\n"
     ]
    },
    {
     "name": "stdout",
     "output_type": "stream",
     "text": [
      "[0 1 2 3 4]\n",
      "(10757, 5)\n",
      "(10757, 5)\n"
     ]
    },
    {
     "name": "stderr",
     "output_type": "stream",
     "text": [
      "/home/grymar/studia/gradient/env/lib/python3.10/site-packages/sklearn/preprocessing/_encoders.py:975: FutureWarning: `sparse` was renamed to `sparse_output` in version 1.2 and will be removed in 1.4. `sparse_output` is ignored unless you leave `sparse` to its default value.\n",
      "  warnings.warn(\n"
     ]
    },
    {
     "name": "stdout",
     "output_type": "stream",
     "text": [
      "[0 1 2 3 4]\n"
     ]
    },
    {
     "name": "stderr",
     "output_type": "stream",
     "text": [
      "/home/grymar/studia/gradient/env/lib/python3.10/site-packages/sklearn/linear_model/_logistic.py:1172: UserWarning: l1_ratio parameter is only used when penalty is 'elasticnet'. Got (penalty=l2)\n",
      "  warnings.warn(\n",
      "/home/grymar/studia/gradient/env/lib/python3.10/site-packages/sklearn/linear_model/_logistic.py:1223: UserWarning: 'n_jobs' > 1 does not have any effect when 'solver' is set to 'liblinear'. Got 'n_jobs' = 16.\n",
      "  warnings.warn(\n"
     ]
    },
    {
     "name": "stdout",
     "output_type": "stream",
     "text": [
      "[0 1 2 3 4]\n",
      "(4203, 5)\n",
      "(4203, 5)\n"
     ]
    },
    {
     "name": "stderr",
     "output_type": "stream",
     "text": [
      "/home/grymar/studia/gradient/env/lib/python3.10/site-packages/sklearn/preprocessing/_encoders.py:975: FutureWarning: `sparse` was renamed to `sparse_output` in version 1.2 and will be removed in 1.4. `sparse_output` is ignored unless you leave `sparse` to its default value.\n",
      "  warnings.warn(\n"
     ]
    },
    {
     "data": {
      "application/vnd.jupyter.widget-view+json": {
       "model_id": "cf8876a9a9a747b4b5026ec22ec77b56",
       "version_major": 2,
       "version_minor": 0
      },
      "text/plain": [
       "VBox(children=(Label(value='0.169 MB of 0.169 MB uploaded\\r'), FloatProgress(value=1.0, max=1.0)))"
      ]
     },
     "metadata": {},
     "output_type": "display_data"
    },
    {
     "data": {
      "text/html": [
       "<style>\n",
       "    table.wandb td:nth-child(1) { padding: 0 10px; text-align: left ; width: auto;} td:nth-child(2) {text-align: left ; width: 100%}\n",
       "    .wandb-row { display: flex; flex-direction: row; flex-wrap: wrap; justify-content: flex-start; width: 100% }\n",
       "    .wandb-col { display: flex; flex-direction: column; flex-basis: 100%; flex: 1; padding: 10px; }\n",
       "    </style>\n",
       "<div class=\"wandb-row\"><div class=\"wandb-col\"><h3>Run history:</h3><br/><table class=\"wandb\"><tr><td>USE_HEXES_ATTRS</td><td>▁</td></tr><tr><td>USE_ORTOPHOTO</td><td>▁</td></tr><tr><td>USE_OSMNX_ATTRS</td><td>▁</td></tr><tr><td>accuracy_fold_0</td><td>▁</td></tr><tr><td>accuracy_fold_1</td><td>▁</td></tr><tr><td>auc_fold_0</td><td>▁</td></tr><tr><td>auc_fold_1</td><td>▁</td></tr><tr><td>f1_fold_0</td><td>▁</td></tr><tr><td>f1_fold_1</td><td>▁</td></tr><tr><td>mean_accuracy</td><td>▁</td></tr><tr><td>mean_auc</td><td>▁</td></tr><tr><td>mean_f1</td><td>▁</td></tr></table><br/></div><div class=\"wandb-col\"><h3>Run summary:</h3><br/><table class=\"wandb\"><tr><td>USE_HEXES_ATTRS</td><td>1</td></tr><tr><td>USE_ORTOPHOTO</td><td>0</td></tr><tr><td>USE_OSMNX_ATTRS</td><td>0</td></tr><tr><td>accuracy_fold_0</td><td>0.52766</td></tr><tr><td>accuracy_fold_1</td><td>0.56341</td></tr><tr><td>auc_fold_0</td><td>0.55593</td></tr><tr><td>auc_fold_1</td><td>0.51955</td></tr><tr><td>data_structure</td><td>tabular</td></tr><tr><td>f1_fold_0</td><td>0.51072</td></tr><tr><td>f1_fold_1</td><td>0.53051</td></tr><tr><td>mean_accuracy</td><td>0.54553</td></tr><tr><td>mean_auc</td><td>0.53774</td></tr><tr><td>mean_f1</td><td>0.52061</td></tr></table><br/></div></div>"
      ],
      "text/plain": [
       "<IPython.core.display.HTML object>"
      ]
     },
     "metadata": {},
     "output_type": "display_data"
    },
    {
     "data": {
      "text/html": [
       " View run <strong style=\"color:#cdcd00\">dulcet-sweep-48</strong> at: <a href='https://wandb.ai/gradient_pwr/airbnb-downstream-task/runs/bnvnf30c' target=\"_blank\">https://wandb.ai/gradient_pwr/airbnb-downstream-task/runs/bnvnf30c</a><br/> View project at: <a href='https://wandb.ai/gradient_pwr/airbnb-downstream-task' target=\"_blank\">https://wandb.ai/gradient_pwr/airbnb-downstream-task</a><br/>Synced 5 W&B file(s), 0 media file(s), 2 artifact file(s) and 0 other file(s)"
      ],
      "text/plain": [
       "<IPython.core.display.HTML object>"
      ]
     },
     "metadata": {},
     "output_type": "display_data"
    },
    {
     "data": {
      "text/html": [
       "Find logs at: <code>./wandb/run-20240605_012623-bnvnf30c/logs</code>"
      ],
      "text/plain": [
       "<IPython.core.display.HTML object>"
      ]
     },
     "metadata": {},
     "output_type": "display_data"
    },
    {
     "name": "stderr",
     "output_type": "stream",
     "text": [
      "\u001b[34m\u001b[1mwandb\u001b[0m: Agent Starting Run: dihxw95r with config:\n",
      "\u001b[34m\u001b[1mwandb\u001b[0m: \tC: 1.0721389707084568e-05\n",
      "\u001b[34m\u001b[1mwandb\u001b[0m: \tsolver_penalty: liblinear;l2\n",
      "Failed to detect the name of this notebook, you can set it manually with the WANDB_NOTEBOOK_NAME environment variable to enable code saving.\n"
     ]
    },
    {
     "data": {
      "text/html": [
       "Tracking run with wandb version 0.17.0"
      ],
      "text/plain": [
       "<IPython.core.display.HTML object>"
      ]
     },
     "metadata": {},
     "output_type": "display_data"
    },
    {
     "data": {
      "text/html": [
       "Run data is saved locally in <code>/home/grymar/studia/gradient/notebooks/downstream_tasks/wandb/run-20240605_012639-dihxw95r</code>"
      ],
      "text/plain": [
       "<IPython.core.display.HTML object>"
      ]
     },
     "metadata": {},
     "output_type": "display_data"
    },
    {
     "data": {
      "text/html": [
       "Syncing run <strong><a href='https://wandb.ai/gradient_pwr/airbnb-downstream-task/runs/dihxw95r' target=\"_blank\">toasty-sweep-49</a></strong> to <a href='https://wandb.ai/gradient_pwr/airbnb-downstream-task' target=\"_blank\">Weights & Biases</a> (<a href='https://wandb.me/run' target=\"_blank\">docs</a>)<br/>Sweep page: <a href='https://wandb.ai/gradient_pwr/airbnb-downstream-task/sweeps/ow0algrs' target=\"_blank\">https://wandb.ai/gradient_pwr/airbnb-downstream-task/sweeps/ow0algrs</a>"
      ],
      "text/plain": [
       "<IPython.core.display.HTML object>"
      ]
     },
     "metadata": {},
     "output_type": "display_data"
    },
    {
     "data": {
      "text/html": [
       " View project at <a href='https://wandb.ai/gradient_pwr/airbnb-downstream-task' target=\"_blank\">https://wandb.ai/gradient_pwr/airbnb-downstream-task</a>"
      ],
      "text/plain": [
       "<IPython.core.display.HTML object>"
      ]
     },
     "metadata": {},
     "output_type": "display_data"
    },
    {
     "data": {
      "text/html": [
       " View sweep at <a href='https://wandb.ai/gradient_pwr/airbnb-downstream-task/sweeps/ow0algrs' target=\"_blank\">https://wandb.ai/gradient_pwr/airbnb-downstream-task/sweeps/ow0algrs</a>"
      ],
      "text/plain": [
       "<IPython.core.display.HTML object>"
      ]
     },
     "metadata": {},
     "output_type": "display_data"
    },
    {
     "data": {
      "text/html": [
       " View run at <a href='https://wandb.ai/gradient_pwr/airbnb-downstream-task/runs/dihxw95r' target=\"_blank\">https://wandb.ai/gradient_pwr/airbnb-downstream-task/runs/dihxw95r</a>"
      ],
      "text/plain": [
       "<IPython.core.display.HTML object>"
      ]
     },
     "metadata": {},
     "output_type": "display_data"
    },
    {
     "name": "stdout",
     "output_type": "stream",
     "text": [
      "[0 1 2 3 4]\n"
     ]
    },
    {
     "name": "stderr",
     "output_type": "stream",
     "text": [
      "/home/grymar/studia/gradient/env/lib/python3.10/site-packages/sklearn/linear_model/_logistic.py:1172: UserWarning: l1_ratio parameter is only used when penalty is 'elasticnet'. Got (penalty=l2)\n",
      "  warnings.warn(\n",
      "/home/grymar/studia/gradient/env/lib/python3.10/site-packages/sklearn/linear_model/_logistic.py:1223: UserWarning: 'n_jobs' > 1 does not have any effect when 'solver' is set to 'liblinear'. Got 'n_jobs' = 16.\n",
      "  warnings.warn(\n"
     ]
    },
    {
     "name": "stdout",
     "output_type": "stream",
     "text": [
      "[0 1 2 3 4]\n",
      "(10757, 5)\n",
      "(10757, 5)\n"
     ]
    },
    {
     "name": "stderr",
     "output_type": "stream",
     "text": [
      "/home/grymar/studia/gradient/env/lib/python3.10/site-packages/sklearn/preprocessing/_encoders.py:975: FutureWarning: `sparse` was renamed to `sparse_output` in version 1.2 and will be removed in 1.4. `sparse_output` is ignored unless you leave `sparse` to its default value.\n",
      "  warnings.warn(\n"
     ]
    },
    {
     "name": "stdout",
     "output_type": "stream",
     "text": [
      "[0 1 2 3 4]\n"
     ]
    },
    {
     "name": "stderr",
     "output_type": "stream",
     "text": [
      "/home/grymar/studia/gradient/env/lib/python3.10/site-packages/sklearn/linear_model/_logistic.py:1172: UserWarning: l1_ratio parameter is only used when penalty is 'elasticnet'. Got (penalty=l2)\n",
      "  warnings.warn(\n",
      "/home/grymar/studia/gradient/env/lib/python3.10/site-packages/sklearn/linear_model/_logistic.py:1223: UserWarning: 'n_jobs' > 1 does not have any effect when 'solver' is set to 'liblinear'. Got 'n_jobs' = 16.\n",
      "  warnings.warn(\n"
     ]
    },
    {
     "name": "stdout",
     "output_type": "stream",
     "text": [
      "[0 1 2 3 4]\n",
      "(4203, 5)\n",
      "(4203, 5)\n"
     ]
    },
    {
     "name": "stderr",
     "output_type": "stream",
     "text": [
      "/home/grymar/studia/gradient/env/lib/python3.10/site-packages/sklearn/preprocessing/_encoders.py:975: FutureWarning: `sparse` was renamed to `sparse_output` in version 1.2 and will be removed in 1.4. `sparse_output` is ignored unless you leave `sparse` to its default value.\n",
      "  warnings.warn(\n"
     ]
    },
    {
     "data": {
      "application/vnd.jupyter.widget-view+json": {
       "model_id": "9812688fd3974457b472add82797bab2",
       "version_major": 2,
       "version_minor": 0
      },
      "text/plain": [
       "VBox(children=(Label(value='0.169 MB of 0.169 MB uploaded\\r'), FloatProgress(value=1.0, max=1.0)))"
      ]
     },
     "metadata": {},
     "output_type": "display_data"
    },
    {
     "data": {
      "text/html": [
       "<style>\n",
       "    table.wandb td:nth-child(1) { padding: 0 10px; text-align: left ; width: auto;} td:nth-child(2) {text-align: left ; width: 100%}\n",
       "    .wandb-row { display: flex; flex-direction: row; flex-wrap: wrap; justify-content: flex-start; width: 100% }\n",
       "    .wandb-col { display: flex; flex-direction: column; flex-basis: 100%; flex: 1; padding: 10px; }\n",
       "    </style>\n",
       "<div class=\"wandb-row\"><div class=\"wandb-col\"><h3>Run history:</h3><br/><table class=\"wandb\"><tr><td>USE_HEXES_ATTRS</td><td>▁</td></tr><tr><td>USE_ORTOPHOTO</td><td>▁</td></tr><tr><td>USE_OSMNX_ATTRS</td><td>▁</td></tr><tr><td>accuracy_fold_0</td><td>▁</td></tr><tr><td>accuracy_fold_1</td><td>▁</td></tr><tr><td>auc_fold_0</td><td>▁</td></tr><tr><td>auc_fold_1</td><td>▁</td></tr><tr><td>f1_fold_0</td><td>▁</td></tr><tr><td>f1_fold_1</td><td>▁</td></tr><tr><td>mean_accuracy</td><td>▁</td></tr><tr><td>mean_auc</td><td>▁</td></tr><tr><td>mean_f1</td><td>▁</td></tr></table><br/></div><div class=\"wandb-col\"><h3>Run summary:</h3><br/><table class=\"wandb\"><tr><td>USE_HEXES_ATTRS</td><td>1</td></tr><tr><td>USE_ORTOPHOTO</td><td>0</td></tr><tr><td>USE_OSMNX_ATTRS</td><td>0</td></tr><tr><td>accuracy_fold_0</td><td>0.57962</td></tr><tr><td>accuracy_fold_1</td><td>0.51249</td></tr><tr><td>auc_fold_0</td><td>0.54401</td></tr><tr><td>auc_fold_1</td><td>0.59549</td></tr><tr><td>data_structure</td><td>tabular</td></tr><tr><td>f1_fold_0</td><td>0.53018</td></tr><tr><td>f1_fold_1</td><td>0.51974</td></tr><tr><td>mean_accuracy</td><td>0.54606</td></tr><tr><td>mean_auc</td><td>0.56975</td></tr><tr><td>mean_f1</td><td>0.52496</td></tr></table><br/></div></div>"
      ],
      "text/plain": [
       "<IPython.core.display.HTML object>"
      ]
     },
     "metadata": {},
     "output_type": "display_data"
    },
    {
     "data": {
      "text/html": [
       " View run <strong style=\"color:#cdcd00\">toasty-sweep-49</strong> at: <a href='https://wandb.ai/gradient_pwr/airbnb-downstream-task/runs/dihxw95r' target=\"_blank\">https://wandb.ai/gradient_pwr/airbnb-downstream-task/runs/dihxw95r</a><br/> View project at: <a href='https://wandb.ai/gradient_pwr/airbnb-downstream-task' target=\"_blank\">https://wandb.ai/gradient_pwr/airbnb-downstream-task</a><br/>Synced 5 W&B file(s), 0 media file(s), 2 artifact file(s) and 0 other file(s)"
      ],
      "text/plain": [
       "<IPython.core.display.HTML object>"
      ]
     },
     "metadata": {},
     "output_type": "display_data"
    },
    {
     "data": {
      "text/html": [
       "Find logs at: <code>./wandb/run-20240605_012639-dihxw95r/logs</code>"
      ],
      "text/plain": [
       "<IPython.core.display.HTML object>"
      ]
     },
     "metadata": {},
     "output_type": "display_data"
    },
    {
     "name": "stderr",
     "output_type": "stream",
     "text": [
      "\u001b[34m\u001b[1mwandb\u001b[0m: Agent Starting Run: i69ftono with config:\n",
      "\u001b[34m\u001b[1mwandb\u001b[0m: \tC: 0.0011530002100621586\n",
      "\u001b[34m\u001b[1mwandb\u001b[0m: \tsolver_penalty: liblinear;l1\n",
      "Failed to detect the name of this notebook, you can set it manually with the WANDB_NOTEBOOK_NAME environment variable to enable code saving.\n"
     ]
    },
    {
     "data": {
      "text/html": [
       "Tracking run with wandb version 0.17.0"
      ],
      "text/plain": [
       "<IPython.core.display.HTML object>"
      ]
     },
     "metadata": {},
     "output_type": "display_data"
    },
    {
     "data": {
      "text/html": [
       "Run data is saved locally in <code>/home/grymar/studia/gradient/notebooks/downstream_tasks/wandb/run-20240605_012655-i69ftono</code>"
      ],
      "text/plain": [
       "<IPython.core.display.HTML object>"
      ]
     },
     "metadata": {},
     "output_type": "display_data"
    },
    {
     "data": {
      "text/html": [
       "Syncing run <strong><a href='https://wandb.ai/gradient_pwr/airbnb-downstream-task/runs/i69ftono' target=\"_blank\">splendid-sweep-50</a></strong> to <a href='https://wandb.ai/gradient_pwr/airbnb-downstream-task' target=\"_blank\">Weights & Biases</a> (<a href='https://wandb.me/run' target=\"_blank\">docs</a>)<br/>Sweep page: <a href='https://wandb.ai/gradient_pwr/airbnb-downstream-task/sweeps/ow0algrs' target=\"_blank\">https://wandb.ai/gradient_pwr/airbnb-downstream-task/sweeps/ow0algrs</a>"
      ],
      "text/plain": [
       "<IPython.core.display.HTML object>"
      ]
     },
     "metadata": {},
     "output_type": "display_data"
    },
    {
     "data": {
      "text/html": [
       " View project at <a href='https://wandb.ai/gradient_pwr/airbnb-downstream-task' target=\"_blank\">https://wandb.ai/gradient_pwr/airbnb-downstream-task</a>"
      ],
      "text/plain": [
       "<IPython.core.display.HTML object>"
      ]
     },
     "metadata": {},
     "output_type": "display_data"
    },
    {
     "data": {
      "text/html": [
       " View sweep at <a href='https://wandb.ai/gradient_pwr/airbnb-downstream-task/sweeps/ow0algrs' target=\"_blank\">https://wandb.ai/gradient_pwr/airbnb-downstream-task/sweeps/ow0algrs</a>"
      ],
      "text/plain": [
       "<IPython.core.display.HTML object>"
      ]
     },
     "metadata": {},
     "output_type": "display_data"
    },
    {
     "data": {
      "text/html": [
       " View run at <a href='https://wandb.ai/gradient_pwr/airbnb-downstream-task/runs/i69ftono' target=\"_blank\">https://wandb.ai/gradient_pwr/airbnb-downstream-task/runs/i69ftono</a>"
      ],
      "text/plain": [
       "<IPython.core.display.HTML object>"
      ]
     },
     "metadata": {},
     "output_type": "display_data"
    },
    {
     "name": "stdout",
     "output_type": "stream",
     "text": [
      "[0 1 2 3 4]\n"
     ]
    },
    {
     "name": "stderr",
     "output_type": "stream",
     "text": [
      "/home/grymar/studia/gradient/env/lib/python3.10/site-packages/sklearn/linear_model/_logistic.py:1172: UserWarning: l1_ratio parameter is only used when penalty is 'elasticnet'. Got (penalty=l1)\n",
      "  warnings.warn(\n",
      "/home/grymar/studia/gradient/env/lib/python3.10/site-packages/sklearn/linear_model/_logistic.py:1223: UserWarning: 'n_jobs' > 1 does not have any effect when 'solver' is set to 'liblinear'. Got 'n_jobs' = 16.\n",
      "  warnings.warn(\n"
     ]
    },
    {
     "name": "stdout",
     "output_type": "stream",
     "text": [
      "[0 1 2 3 4]\n",
      "(10757, 5)\n",
      "(10757, 5)\n"
     ]
    },
    {
     "name": "stderr",
     "output_type": "stream",
     "text": [
      "/home/grymar/studia/gradient/env/lib/python3.10/site-packages/sklearn/preprocessing/_encoders.py:975: FutureWarning: `sparse` was renamed to `sparse_output` in version 1.2 and will be removed in 1.4. `sparse_output` is ignored unless you leave `sparse` to its default value.\n",
      "  warnings.warn(\n"
     ]
    },
    {
     "name": "stdout",
     "output_type": "stream",
     "text": [
      "[0 1 2 3 4]\n"
     ]
    },
    {
     "name": "stderr",
     "output_type": "stream",
     "text": [
      "/home/grymar/studia/gradient/env/lib/python3.10/site-packages/sklearn/linear_model/_logistic.py:1172: UserWarning: l1_ratio parameter is only used when penalty is 'elasticnet'. Got (penalty=l1)\n",
      "  warnings.warn(\n",
      "/home/grymar/studia/gradient/env/lib/python3.10/site-packages/sklearn/linear_model/_logistic.py:1223: UserWarning: 'n_jobs' > 1 does not have any effect when 'solver' is set to 'liblinear'. Got 'n_jobs' = 16.\n",
      "  warnings.warn(\n"
     ]
    },
    {
     "name": "stdout",
     "output_type": "stream",
     "text": [
      "[0 1 2 3 4]\n",
      "(4203, 5)\n",
      "(4203, 5)\n"
     ]
    },
    {
     "name": "stderr",
     "output_type": "stream",
     "text": [
      "/home/grymar/studia/gradient/env/lib/python3.10/site-packages/sklearn/preprocessing/_encoders.py:975: FutureWarning: `sparse` was renamed to `sparse_output` in version 1.2 and will be removed in 1.4. `sparse_output` is ignored unless you leave `sparse` to its default value.\n",
      "  warnings.warn(\n"
     ]
    },
    {
     "data": {
      "application/vnd.jupyter.widget-view+json": {
       "model_id": "735332cab88e4c58b87e9c033d35f0a5",
       "version_major": 2,
       "version_minor": 0
      },
      "text/plain": [
       "VBox(children=(Label(value='0.169 MB of 0.169 MB uploaded\\r'), FloatProgress(value=1.0, max=1.0)))"
      ]
     },
     "metadata": {},
     "output_type": "display_data"
    },
    {
     "data": {
      "text/html": [
       "<style>\n",
       "    table.wandb td:nth-child(1) { padding: 0 10px; text-align: left ; width: auto;} td:nth-child(2) {text-align: left ; width: 100%}\n",
       "    .wandb-row { display: flex; flex-direction: row; flex-wrap: wrap; justify-content: flex-start; width: 100% }\n",
       "    .wandb-col { display: flex; flex-direction: column; flex-basis: 100%; flex: 1; padding: 10px; }\n",
       "    </style>\n",
       "<div class=\"wandb-row\"><div class=\"wandb-col\"><h3>Run history:</h3><br/><table class=\"wandb\"><tr><td>USE_HEXES_ATTRS</td><td>▁</td></tr><tr><td>USE_ORTOPHOTO</td><td>▁</td></tr><tr><td>USE_OSMNX_ATTRS</td><td>▁</td></tr><tr><td>accuracy_fold_0</td><td>▁</td></tr><tr><td>accuracy_fold_1</td><td>▁</td></tr><tr><td>auc_fold_0</td><td>▁</td></tr><tr><td>auc_fold_1</td><td>▁</td></tr><tr><td>f1_fold_0</td><td>▁</td></tr><tr><td>f1_fold_1</td><td>▁</td></tr><tr><td>mean_accuracy</td><td>▁</td></tr><tr><td>mean_auc</td><td>▁</td></tr><tr><td>mean_f1</td><td>▁</td></tr></table><br/></div><div class=\"wandb-col\"><h3>Run summary:</h3><br/><table class=\"wandb\"><tr><td>USE_HEXES_ATTRS</td><td>1</td></tr><tr><td>USE_ORTOPHOTO</td><td>0</td></tr><tr><td>USE_OSMNX_ATTRS</td><td>0</td></tr><tr><td>accuracy_fold_0</td><td>0.6961</td></tr><tr><td>accuracy_fold_1</td><td>0.6581</td></tr><tr><td>auc_fold_0</td><td>0.5</td></tr><tr><td>auc_fold_1</td><td>0.5</td></tr><tr><td>data_structure</td><td>tabular</td></tr><tr><td>f1_fold_0</td><td>0.57138</td></tr><tr><td>f1_fold_1</td><td>0.5224</td></tr><tr><td>mean_accuracy</td><td>0.6771</td></tr><tr><td>mean_auc</td><td>0.5</td></tr><tr><td>mean_f1</td><td>0.54689</td></tr></table><br/></div></div>"
      ],
      "text/plain": [
       "<IPython.core.display.HTML object>"
      ]
     },
     "metadata": {},
     "output_type": "display_data"
    },
    {
     "data": {
      "text/html": [
       " View run <strong style=\"color:#cdcd00\">splendid-sweep-50</strong> at: <a href='https://wandb.ai/gradient_pwr/airbnb-downstream-task/runs/i69ftono' target=\"_blank\">https://wandb.ai/gradient_pwr/airbnb-downstream-task/runs/i69ftono</a><br/> View project at: <a href='https://wandb.ai/gradient_pwr/airbnb-downstream-task' target=\"_blank\">https://wandb.ai/gradient_pwr/airbnb-downstream-task</a><br/>Synced 5 W&B file(s), 0 media file(s), 2 artifact file(s) and 0 other file(s)"
      ],
      "text/plain": [
       "<IPython.core.display.HTML object>"
      ]
     },
     "metadata": {},
     "output_type": "display_data"
    },
    {
     "data": {
      "text/html": [
       "Find logs at: <code>./wandb/run-20240605_012655-i69ftono/logs</code>"
      ],
      "text/plain": [
       "<IPython.core.display.HTML object>"
      ]
     },
     "metadata": {},
     "output_type": "display_data"
    }
   ],
   "source": [
    "def derive_data_structure(attr_config):\n",
    "    if attr_config[\"USE_OSMNX_ATTRS\"]:\n",
    "        return \"graph\"\n",
    "    return \"tabular\"\n",
    "\n",
    "\n",
    "configs_size = len(ATTRIBUTES_CONFIGURATIONS)\n",
    "\n",
    "for index, attr_config in enumerate(ATTRIBUTES_CONFIGURATIONS):\n",
    "    print(\"Sweep for config {}/{} in progress...\".format(index + 1, configs_size))\n",
    "\n",
    "    assert \"USE_ORTOPHOTO\" in attr_config, \"Provide USE_ORTOPHOTO key\"\n",
    "    assert \"USE_HEXES_ATTRS\" in attr_config, \"Provide USE_HEXES_ATTRS key\"\n",
    "    assert \"USE_OSMNX_ATTRS\" in attr_config, \"Provide USE_OSMNX_ATTRS key\"\n",
    "\n",
    "    data_structure = derive_data_structure(attr_config)\n",
    "\n",
    "    if data_structure == \"graph\":\n",
    "        graph_data_dict = {\n",
    "            city_name: create_graph_data(\n",
    "                **gdfs,\n",
    "                use_ortophoto=attr_config[\"USE_ORTOPHOTO\"],\n",
    "                use_hexes_attr=attr_config[\"USE_HEXES_ATTRS\"],\n",
    "            )\n",
    "            for city_name, gdfs in gdfs_dict.items()\n",
    "        }\n",
    "        run_sweep_graph_data(attr_config)\n",
    "    elif data_structure == \"tabular\":\n",
    "        tabular_data_dict = {\n",
    "            city_name: create_tabular_data(\n",
    "                gdfs[\"hexes\"],\n",
    "                gdfs[\"controller\"],\n",
    "                use_ortophoto=attr_config[\"USE_ORTOPHOTO\"],\n",
    "                use_hexes_attr=attr_config[\"USE_HEXES_ATTRS\"],\n",
    "            )\n",
    "            for city_name, gdfs in gdfs_dict.items()\n",
    "        }\n",
    "        run_sweep_tabular_data(attr_config)\n",
    "    else:\n",
    "        raise ValueError(\"Unknown data structure\")"
   ]
  }
 ],
 "metadata": {
  "kernelspec": {
   "display_name": "env",
   "language": "python",
   "name": "python3"
  },
  "language_info": {
   "codemirror_mode": {
    "name": "ipython",
    "version": 3
   },
   "file_extension": ".py",
   "mimetype": "text/x-python",
   "name": "python",
   "nbconvert_exporter": "python",
   "pygments_lexer": "ipython3",
   "version": "3.10.12"
  }
 },
 "nbformat": 4,
 "nbformat_minor": 2
}
