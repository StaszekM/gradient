{
 "cells": [
  {
   "cell_type": "markdown",
   "id": "cfbe98d0",
   "metadata": {},
   "source": [
    "# 1. Imports\n"
   ]
  },
  {
   "cell_type": "code",
   "execution_count": 1,
   "id": "d440116b8deaa04b",
   "metadata": {
    "ExecuteTime": {
     "end_time": "2024-04-29T05:54:43.462692Z",
     "start_time": "2024-04-29T05:54:40.712864Z"
    }
   },
   "outputs": [
    {
     "name": "stderr",
     "output_type": "stream",
     "text": [
      "/Users/jjaniak/anaconda3/envs/studia_projekt/lib/python3.8/site-packages/geopandas/_compat.py:124: UserWarning: The Shapely GEOS version (3.11.1-CAPI-1.17.1) is incompatible with the GEOS version PyGEOS was compiled with (3.10.4-CAPI-1.16.2). Conversions between both will be slow.\n",
      "  warnings.warn(\n",
      "/var/folders/4k/8js3jm9n457cm4_v631zyrkw0000gn/T/ipykernel_25686/4073934557.py:5: DeprecationWarning: Shapely 2.0 is installed, but because PyGEOS is also installed, GeoPandas still uses PyGEOS by default. However, starting with version 0.14, the default will switch to Shapely. To force to use Shapely 2.0 now, you can either uninstall PyGEOS or set the environment variable USE_PYGEOS=0. You can do this before starting the Python process, or in your code before importing geopandas:\n",
      "\n",
      "import os\n",
      "os.environ['USE_PYGEOS'] = '0'\n",
      "import geopandas\n",
      "\n",
      "In the next release, GeoPandas will switch to using Shapely by default, even if PyGEOS is installed. If you only have PyGEOS installed to get speed-ups, this switch should be smooth. However, if you are using PyGEOS directly (calling PyGEOS functions on geometries from GeoPandas), this will then stop working and you are encouraged to migrate from PyGEOS to Shapely 2.0 (https://shapely.readthedocs.io/en/latest/migration_pygeos.html).\n",
      "  import geopandas as gpd\n"
     ]
    }
   ],
   "source": [
    "import sys\n",
    "sys.path.append(\"../../\")\n",
    "\n",
    "\n",
    "import geopandas as gpd\n",
    "from src.organized_datasets_creation.utils import resolve_nominatim_city_name\n",
    "from src.organized_datasets_creation.utils import convert_nominatim_name_to_filename\n",
    "from src.graph_layering.graph_layer_creator import GraphLayerController\n",
    "import pandas as pd\n",
    "from typing import cast\n",
    "import os\n",
    "from src.graph_layering.graph_layer_creator import SourceType\n",
    "import warnings\n",
    "from src.graph_layering.create_hetero_data import create_hetero_data\n",
    "\n",
    "from tqdm import tqdm\n",
    "\n",
    "import wandb.util\n",
    "import wandb\n",
    "import os\n",
    "\n",
    "import numpy as np\n",
    "from src.graph.create_osmnx_graph import OSMnxGraph\n",
    "import json\n",
    "from shapely.geometry import Point\n",
    "from joblib import dump\n",
    "\n",
    "\n",
    "from datetime import datetime\n",
    "from sklearn.metrics import f1_score, roc_auc_score\n",
    "from wandb.util import generate_id\n",
    "from sklearn.linear_model import LogisticRegression\n",
    "from src.training.train import train\n",
    "from sklearn.preprocessing import StandardScaler"
   ]
  },
  {
   "cell_type": "code",
   "execution_count": 2,
   "id": "e274c51b",
   "metadata": {},
   "outputs": [
    {
     "data": {
      "text/plain": [
       "'cpu'"
      ]
     },
     "execution_count": 2,
     "metadata": {},
     "output_type": "execute_result"
    }
   ],
   "source": [
    "import torch\n",
    "\n",
    "device = 'cuda' if torch.cuda.is_available() else 'cpu'\n",
    "device"
   ]
  },
  {
   "cell_type": "markdown",
   "id": "4569d985",
   "metadata": {},
   "source": [
    "# 2. Setting up env variables and configs\n"
   ]
  },
  {
   "cell_type": "code",
   "execution_count": 3,
   "id": "21b83fb8",
   "metadata": {},
   "outputs": [],
   "source": [
    "WANDB_API_KEY = os.environ.get(\"WANDB_API_KEY\", None)\n",
    "assert (\n",
    "    WANDB_API_KEY is not None\n",
    "), \"WANDB_API_KEY is not set, did you forget it in the config file?\""
   ]
  },
  {
   "cell_type": "code",
   "execution_count": 5,
   "id": "2e7d25fb99b34b10",
   "metadata": {
    "ExecuteTime": {
     "end_time": "2024-04-29T05:54:43.480822Z",
     "start_time": "2024-04-29T05:54:43.463793Z"
    },
    "tags": [
     "parameters"
    ]
   },
   "outputs": [],
   "source": [
    "# general settings\n",
    "ORGANIZED_HEXES_LOCATION = \"../../data/organized-hexes\"\n",
    "ORGANIZED_GRAPHS_LOCATION = \"../../data/organized_graphs\"\n",
    "OSMNX_ALL_ATTRIBUTES_LOCATION = (\n",
    "    \"../../data/osmnx_attributes.json\"\n",
    ")\n",
    "\n",
    "HEX_FI_LOCATION = (\n",
    "    \"../../data/downstream_tasks/feature_importance\"\n",
    ")\n",
    "\n",
    "# downstream task settings\n",
    "ACCIDENTS_LOCATION = \"../../data/downstream_tasks/accidents_prediction/accidents.csv\"\n",
    "TRAIN_SAVE_DIR = \"../../gradient_logs/\"\n",
    "\n",
    "SWEEP_RUNS_COUNT = 50\n",
    "EPOCHS = 300\n",
    "\n",
    "ATTRIBUTES_CONFIGURATIONS = [\n",
    "    {\n",
    "        \"USE_ORTOPHOTO\": False,\n",
    "        \"USE_HEXES_ATTRS\": {\"NUM_FEATURES\": 20, \"IN_PERCENT\": False},\n",
    "        \"USE_OSMNX_ATTRS\": True,\n",
    "    },\n",
    "    {\n",
    "        \"USE_ORTOPHOTO\": False,\n",
    "        \"USE_HEXES_ATTRS\": {\"NUM_FEATURES\": 20, \"IN_PERCENT\": True},\n",
    "        \"USE_OSMNX_ATTRS\": True,\n",
    "    },\n",
    "    {\n",
    "        \"USE_ORTOPHOTO\": False,\n",
    "        \"USE_HEXES_ATTRS\": {\"NUM_FEATURES\": 50, \"IN_PERCENT\": False},\n",
    "        \"USE_OSMNX_ATTRS\": True,\n",
    "    },\n",
    "    {\n",
    "        \"USE_ORTOPHOTO\": False,\n",
    "        \"USE_HEXES_ATTRS\": {\"NUM_FEATURES\": 50, \"IN_PERCENT\": True},\n",
    "        \"USE_OSMNX_ATTRS\": True,\n",
    "    },\n",
    "]\n",
    "\n",
    "WANDB_SWEEP_PARAMS_GRAPH_DATA = {\n",
    "    \"method\": \"bayes\",\n",
    "    \"metric\": {\"name\": \"mean_f1\", \"goal\": \"maximize\"},\n",
    "    \"parameters\": {\n",
    "        \"hidden_channels\": {\"values\": [10, 20, 30, 40, 50]},\n",
    "        \"learning_rate\": {\n",
    "            \"distribution\": \"log_uniform_values\",\n",
    "            \"min\": 1e-5,\n",
    "            \"max\": 1e-2,\n",
    "        },\n",
    "        \"num_conv_layers\": {\"values\": [1, 2, 3, 4, 5]},\n",
    "        \"lin_layer_size\": {\"values\": [8, 16, 32, 64, 128]},\n",
    "        \"num_lin_layers\": {\"values\": [0, 1, 2, 3, 4]},\n",
    "        \"weight_decay\": {\n",
    "            \"distribution\": \"log_uniform_values\",\n",
    "            \"min\": 1e-5,\n",
    "            \"max\": 1e-2,\n",
    "        },\n",
    "    },\n",
    "}\n",
    "\n",
    "WANDB_SWEEP_PARAMS_TABULAR_DATA = {\n",
    "    \"method\": \"bayes\",\n",
    "    \"metric\": {\"name\": \"mean_f1\", \"goal\": \"maximize\"},\n",
    "    \"parameters\": {\n",
    "        \"solver_penalty\": {\n",
    "            \"values\": [\n",
    "                \"lbfgs;l2\",\n",
    "                \"liblinear;l1\",\n",
    "                \"liblinear;l2\",\n",
    "                \"newton-cg;l2\",\n",
    "                \"newton-cholesky;l2\",\n",
    "                \"sag;l2\",\n",
    "                \"saga;elasticnet\",\n",
    "                \"saga;l1\",\n",
    "                \"saga;l2\",\n",
    "            ]\n",
    "        },\n",
    "        \"C\": {\n",
    "            \"distribution\": \"log_uniform_values\",\n",
    "            \"min\": 1e-5,\n",
    "            \"max\": 1,\n",
    "        },\n",
    "    },\n",
    "}"
   ]
  },
  {
   "cell_type": "code",
   "execution_count": 6,
   "id": "e887ac3e",
   "metadata": {},
   "outputs": [],
   "source": [
    "def verify_attributes_configurations(configurations):\n",
    "    for item in configurations:\n",
    "        assert \"USE_ORTOPHOTO\" in item and isinstance(\n",
    "            item[\"USE_ORTOPHOTO\"], bool\n",
    "        ), f\"Invalid configuration: {item}, missing or invalid USE_ORTOPHOTO\"\n",
    "        assert \"USE_OSMNX_ATTRS\" in item and isinstance(\n",
    "            item[\"USE_OSMNX_ATTRS\"], bool\n",
    "        ), f\"Invalid configuration: {item}, missing or invalid USE_OSMNX_ATTRS\"\n",
    "\n",
    "        assert \"USE_HEXES_ATTRS\" in item, \"Missing USE_HEXES_ATTRS\"\n",
    "        if not isinstance(item[\"USE_HEXES_ATTRS\"], bool):\n",
    "            assert isinstance(\n",
    "                item[\"USE_HEXES_ATTRS\"], dict\n",
    "            ), \"USE_HEXES_ATTRS should be a dict\"\n",
    "            assert \"NUM_FEATURES\" in item[\"USE_HEXES_ATTRS\"], \"Missing NUM_FEATURES\"\n",
    "            assert \"IN_PERCENT\" in item[\"USE_HEXES_ATTRS\"], \"Missing IN_PERCENT\"\n",
    "            assert isinstance(\n",
    "                item[\"USE_HEXES_ATTRS\"][\"NUM_FEATURES\"], int\n",
    "            ), \"NUM_FEATURES should be an int\"\n",
    "            assert isinstance(\n",
    "                item[\"USE_HEXES_ATTRS\"][\"IN_PERCENT\"], bool\n",
    "            ), \"IN_PERCENT should be a bool\"\n",
    "\n",
    "\n",
    "verify_attributes_configurations(ATTRIBUTES_CONFIGURATIONS)"
   ]
  },
  {
   "cell_type": "markdown",
   "id": "51129540",
   "metadata": {},
   "source": [
    "# 3. Loading accidents\n",
    "\n",
    "The process includes removing unused columns and creating GeoSeries from raw X Y points\n"
   ]
  },
  {
   "cell_type": "code",
   "execution_count": 7,
   "id": "1426d7ddde7af4b6",
   "metadata": {
    "ExecuteTime": {
     "end_time": "2024-04-29T05:54:44.922146Z",
     "start_time": "2024-04-29T05:54:43.481459Z"
    }
   },
   "outputs": [
    {
     "data": {
      "text/html": [
       "<div>\n",
       "<style scoped>\n",
       "    .dataframe tbody tr th:only-of-type {\n",
       "        vertical-align: middle;\n",
       "    }\n",
       "\n",
       "    .dataframe tbody tr th {\n",
       "        vertical-align: top;\n",
       "    }\n",
       "\n",
       "    .dataframe thead th {\n",
       "        text-align: right;\n",
       "    }\n",
       "</style>\n",
       "<table border=\"1\" class=\"dataframe\">\n",
       "  <thead>\n",
       "    <tr style=\"text-align: right;\">\n",
       "      <th></th>\n",
       "      <th>id_w_czas</th>\n",
       "      <th>czas_zdarzenia</th>\n",
       "      <th>woj_nazwa</th>\n",
       "      <th>pow_nazwa</th>\n",
       "      <th>gmi_nazwa</th>\n",
       "      <th>mie_nazwa</th>\n",
       "      <th>opis_zdarzenia</th>\n",
       "      <th>zdarzenie_id</th>\n",
       "      <th>id_systemu_zr</th>\n",
       "      <th>year</th>\n",
       "      <th>month</th>\n",
       "      <th>day</th>\n",
       "      <th>geometry</th>\n",
       "    </tr>\n",
       "  </thead>\n",
       "  <tbody>\n",
       "    <tr>\n",
       "      <th>0</th>\n",
       "      <td>2020-01-03</td>\n",
       "      <td>12:31</td>\n",
       "      <td>DOLNOŚLĄSKIE</td>\n",
       "      <td>Wrocław</td>\n",
       "      <td>Wrocław</td>\n",
       "      <td>Wrocław</td>\n",
       "      <td>Najechanie na pieszego</td>\n",
       "      <td>199070689</td>\n",
       "      <td>108529985</td>\n",
       "      <td>2020</td>\n",
       "      <td>1</td>\n",
       "      <td>3</td>\n",
       "      <td>POINT (17.04728 51.10575)</td>\n",
       "    </tr>\n",
       "    <tr>\n",
       "      <th>1</th>\n",
       "      <td>2020-01-04</td>\n",
       "      <td>20:15</td>\n",
       "      <td>DOLNOŚLĄSKIE</td>\n",
       "      <td>Wrocław</td>\n",
       "      <td>Wrocław</td>\n",
       "      <td>Wrocław</td>\n",
       "      <td>Najechanie na pieszego</td>\n",
       "      <td>199072299</td>\n",
       "      <td>108535968</td>\n",
       "      <td>2020</td>\n",
       "      <td>1</td>\n",
       "      <td>4</td>\n",
       "      <td>POINT (17.02989 51.10906)</td>\n",
       "    </tr>\n",
       "    <tr>\n",
       "      <th>2</th>\n",
       "      <td>2020-01-07</td>\n",
       "      <td>06:46</td>\n",
       "      <td>DOLNOŚLĄSKIE</td>\n",
       "      <td>Wrocław</td>\n",
       "      <td>Wrocław</td>\n",
       "      <td>Wrocław</td>\n",
       "      <td>Zderzenie pojazdów boczne</td>\n",
       "      <td>199072513</td>\n",
       "      <td>108539746</td>\n",
       "      <td>2020</td>\n",
       "      <td>1</td>\n",
       "      <td>7</td>\n",
       "      <td>POINT (17.01919 51.10369)</td>\n",
       "    </tr>\n",
       "    <tr>\n",
       "      <th>3</th>\n",
       "      <td>2020-01-04</td>\n",
       "      <td>01:56</td>\n",
       "      <td>DOLNOŚLĄSKIE</td>\n",
       "      <td>Wrocław</td>\n",
       "      <td>Wrocław</td>\n",
       "      <td>Wrocław</td>\n",
       "      <td>Najechanie na słup, znak</td>\n",
       "      <td>199073138</td>\n",
       "      <td>108530771</td>\n",
       "      <td>2020</td>\n",
       "      <td>1</td>\n",
       "      <td>4</td>\n",
       "      <td>POINT (17.01456 51.09653)</td>\n",
       "    </tr>\n",
       "    <tr>\n",
       "      <th>4</th>\n",
       "      <td>2020-01-11</td>\n",
       "      <td>15:36</td>\n",
       "      <td>DOLNOŚLĄSKIE</td>\n",
       "      <td>Wrocław</td>\n",
       "      <td>Wrocław</td>\n",
       "      <td>Wrocław</td>\n",
       "      <td>Zderzenie pojazdów boczne</td>\n",
       "      <td>199082756</td>\n",
       "      <td>108556472</td>\n",
       "      <td>2020</td>\n",
       "      <td>1</td>\n",
       "      <td>11</td>\n",
       "      <td>POINT (17.09167 51.11358)</td>\n",
       "    </tr>\n",
       "    <tr>\n",
       "      <th>...</th>\n",
       "      <td>...</td>\n",
       "      <td>...</td>\n",
       "      <td>...</td>\n",
       "      <td>...</td>\n",
       "      <td>...</td>\n",
       "      <td>...</td>\n",
       "      <td>...</td>\n",
       "      <td>...</td>\n",
       "      <td>...</td>\n",
       "      <td>...</td>\n",
       "      <td>...</td>\n",
       "      <td>...</td>\n",
       "      <td>...</td>\n",
       "    </tr>\n",
       "    <tr>\n",
       "      <th>19893</th>\n",
       "      <td>2018-09-21</td>\n",
       "      <td>03:43</td>\n",
       "      <td>MAZOWIECKIE</td>\n",
       "      <td>Warszawa</td>\n",
       "      <td>Warszawa</td>\n",
       "      <td>Warszawa</td>\n",
       "      <td>Zderzenie pojazdów boczne</td>\n",
       "      <td>186601923</td>\n",
       "      <td>107299653</td>\n",
       "      <td>2018</td>\n",
       "      <td>9</td>\n",
       "      <td>21</td>\n",
       "      <td>POINT (20.96372 52.18850)</td>\n",
       "    </tr>\n",
       "    <tr>\n",
       "      <th>19894</th>\n",
       "      <td>2018-10-23</td>\n",
       "      <td>20:30</td>\n",
       "      <td>MAZOWIECKIE</td>\n",
       "      <td>Warszawa</td>\n",
       "      <td>Warszawa</td>\n",
       "      <td>Warszawa</td>\n",
       "      <td>Najechanie na pieszego</td>\n",
       "      <td>186638270</td>\n",
       "      <td>107395682</td>\n",
       "      <td>2018</td>\n",
       "      <td>10</td>\n",
       "      <td>23</td>\n",
       "      <td>POINT (20.99289 52.19678)</td>\n",
       "    </tr>\n",
       "    <tr>\n",
       "      <th>19895</th>\n",
       "      <td>2018-08-14</td>\n",
       "      <td>16:50</td>\n",
       "      <td>MAZOWIECKIE</td>\n",
       "      <td>Warszawa</td>\n",
       "      <td>Warszawa</td>\n",
       "      <td>Warszawa</td>\n",
       "      <td>Najechanie na pieszego</td>\n",
       "      <td>186754851</td>\n",
       "      <td>107182443</td>\n",
       "      <td>2018</td>\n",
       "      <td>8</td>\n",
       "      <td>14</td>\n",
       "      <td>POINT (20.97250 52.19344)</td>\n",
       "    </tr>\n",
       "    <tr>\n",
       "      <th>19896</th>\n",
       "      <td>2018-10-18</td>\n",
       "      <td>13:00</td>\n",
       "      <td>MAZOWIECKIE</td>\n",
       "      <td>Warszawa</td>\n",
       "      <td>Warszawa</td>\n",
       "      <td>Warszawa</td>\n",
       "      <td>Najechanie na pieszego</td>\n",
       "      <td>186776202</td>\n",
       "      <td>107387087</td>\n",
       "      <td>2018</td>\n",
       "      <td>10</td>\n",
       "      <td>18</td>\n",
       "      <td>POINT (21.03694 52.20669)</td>\n",
       "    </tr>\n",
       "    <tr>\n",
       "      <th>19897</th>\n",
       "      <td>2018-10-31</td>\n",
       "      <td>17:05</td>\n",
       "      <td>MAZOWIECKIE</td>\n",
       "      <td>Warszawa</td>\n",
       "      <td>Warszawa</td>\n",
       "      <td>Warszawa</td>\n",
       "      <td>Zderzenie pojazdów boczne</td>\n",
       "      <td>186781342</td>\n",
       "      <td>107417006</td>\n",
       "      <td>2018</td>\n",
       "      <td>10</td>\n",
       "      <td>31</td>\n",
       "      <td>POINT (21.08014 52.20494)</td>\n",
       "    </tr>\n",
       "  </tbody>\n",
       "</table>\n",
       "<p>19898 rows × 13 columns</p>\n",
       "</div>"
      ],
      "text/plain": [
       "        id_w_czas czas_zdarzenia     woj_nazwa pow_nazwa gmi_nazwa mie_nazwa  \\\n",
       "0      2020-01-03          12:31  DOLNOŚLĄSKIE   Wrocław   Wrocław   Wrocław   \n",
       "1      2020-01-04          20:15  DOLNOŚLĄSKIE   Wrocław   Wrocław   Wrocław   \n",
       "2      2020-01-07          06:46  DOLNOŚLĄSKIE   Wrocław   Wrocław   Wrocław   \n",
       "3      2020-01-04          01:56  DOLNOŚLĄSKIE   Wrocław   Wrocław   Wrocław   \n",
       "4      2020-01-11          15:36  DOLNOŚLĄSKIE   Wrocław   Wrocław   Wrocław   \n",
       "...           ...            ...           ...       ...       ...       ...   \n",
       "19893  2018-09-21          03:43   MAZOWIECKIE  Warszawa  Warszawa  Warszawa   \n",
       "19894  2018-10-23          20:30   MAZOWIECKIE  Warszawa  Warszawa  Warszawa   \n",
       "19895  2018-08-14          16:50   MAZOWIECKIE  Warszawa  Warszawa  Warszawa   \n",
       "19896  2018-10-18          13:00   MAZOWIECKIE  Warszawa  Warszawa  Warszawa   \n",
       "19897  2018-10-31          17:05   MAZOWIECKIE  Warszawa  Warszawa  Warszawa   \n",
       "\n",
       "                  opis_zdarzenia  zdarzenie_id  id_systemu_zr  year  month  \\\n",
       "0         Najechanie na pieszego     199070689      108529985  2020      1   \n",
       "1         Najechanie na pieszego     199072299      108535968  2020      1   \n",
       "2      Zderzenie pojazdów boczne     199072513      108539746  2020      1   \n",
       "3       Najechanie na słup, znak     199073138      108530771  2020      1   \n",
       "4      Zderzenie pojazdów boczne     199082756      108556472  2020      1   \n",
       "...                          ...           ...            ...   ...    ...   \n",
       "19893  Zderzenie pojazdów boczne     186601923      107299653  2018      9   \n",
       "19894     Najechanie na pieszego     186638270      107395682  2018     10   \n",
       "19895     Najechanie na pieszego     186754851      107182443  2018      8   \n",
       "19896     Najechanie na pieszego     186776202      107387087  2018     10   \n",
       "19897  Zderzenie pojazdów boczne     186781342      107417006  2018     10   \n",
       "\n",
       "       day                   geometry  \n",
       "0        3  POINT (17.04728 51.10575)  \n",
       "1        4  POINT (17.02989 51.10906)  \n",
       "2        7  POINT (17.01919 51.10369)  \n",
       "3        4  POINT (17.01456 51.09653)  \n",
       "4       11  POINT (17.09167 51.11358)  \n",
       "...    ...                        ...  \n",
       "19893   21  POINT (20.96372 52.18850)  \n",
       "19894   23  POINT (20.99289 52.19678)  \n",
       "19895   14  POINT (20.97250 52.19344)  \n",
       "19896   18  POINT (21.03694 52.20669)  \n",
       "19897   31  POINT (21.08014 52.20494)  \n",
       "\n",
       "[19898 rows x 13 columns]"
      ]
     },
     "execution_count": 7,
     "metadata": {},
     "output_type": "execute_result"
    }
   ],
   "source": [
    "accidents = pd.read_csv(ACCIDENTS_LOCATION)\n",
    "\n",
    "\n",
    "def create_point(x):\n",
    "    return Point(float(x[0]), float(x[1]))\n",
    "\n",
    "\n",
    "geometry = accidents[[\"wsp_gps_x\", \"wsp_gps_y\"]].apply(create_point, axis=1)\n",
    "\n",
    "gdf_accidents = gpd.GeoDataFrame(accidents, geometry=geometry, crs=\"EPSG:4326\")\n",
    "gdf_accidents.drop(columns=[\"wsp_gps_x\", \"wsp_gps_y\", \"uczestnicy\"], inplace=True)\n",
    "gdf_accidents"
   ]
  },
  {
   "cell_type": "markdown",
   "id": "e5ecb693",
   "metadata": {},
   "source": [
    "# 4. Displaying available cities\n"
   ]
  },
  {
   "cell_type": "code",
   "execution_count": 8,
   "id": "fa453cc94b7c9a03",
   "metadata": {
    "ExecuteTime": {
     "end_time": "2024-04-29T05:54:44.938471Z",
     "start_time": "2024-04-29T05:54:44.922907Z"
    }
   },
   "outputs": [
    {
     "name": "stdout",
     "output_type": "stream",
     "text": [
      "Cities:\n",
      "['Wrocław, Poland', 'Szczecin, Poland', 'Poznań, Poland', 'Kraków, Poland', 'Warszawa, Poland']\n"
     ]
    }
   ],
   "source": [
    "cities = list(map(lambda x: x + \", Poland\", accidents[\"mie_nazwa\"].unique()))\n",
    "print(\"Cities:\")\n",
    "print(cities)"
   ]
  },
  {
   "cell_type": "markdown",
   "id": "4e8fa817",
   "metadata": {},
   "source": [
    "# 5. Creating GeoDataFrames\n",
    "\n",
    "The process of creation has following steps:\n",
    "\n",
    "1. loading OSMNX nodes and edges\n",
    "2. assigning accidents to OSMNX nodes\n",
    "3. taking latest H9 resolution hexes\n",
    "4. combining OSMNX nodes, OSMNX edges, hexes in a single dict and packing it inside gdfs_dict\n"
   ]
  },
  {
   "cell_type": "code",
   "execution_count": 9,
   "id": "65f1124060ba1239",
   "metadata": {
    "ExecuteTime": {
     "end_time": "2024-04-29T05:57:59.983530Z",
     "start_time": "2024-04-29T05:54:44.939172Z"
    }
   },
   "outputs": [
    {
     "name": "stdout",
     "output_type": "stream",
     "text": [
      "Creating gdfs...\n"
     ]
    },
    {
     "name": "stderr",
     "output_type": "stream",
     "text": [
      "100%|██████████| 5/5 [00:01<00:00,  3.09it/s]\n"
     ]
    }
   ],
   "source": [
    "def add_accidents_to_osmnx_nodes(\n",
    "    accidents: gpd.GeoDataFrame,\n",
    "    nodes: gpd.GeoDataFrame,\n",
    "    edges: gpd.GeoDataFrame,\n",
    "    city_name: str,\n",
    "):\n",
    "    with open(OSMNX_ALL_ATTRIBUTES_LOCATION) as f:\n",
    "        all_attributes = json.load(f)\n",
    "\n",
    "    osmnx_graph = OSMnxGraph(\n",
    "        accidents.loc[\n",
    "            accidents[\"mie_nazwa\"] == resolve_nominatim_city_name(city_name), :\n",
    "        ],\n",
    "        nodes,\n",
    "        edges,\n",
    "        all_attributes,\n",
    "    )\n",
    "    osmnx_graph._aggregate(element_type=\"node\", aggregation_method=\"count\")\n",
    "    return osmnx_graph.gdf_nodes\n",
    "\n",
    "\n",
    "def create_gdfs(city_name: str, accidents_gdf: gpd.GeoDataFrame = gdf_accidents):\n",
    "    city_folder_name = convert_nominatim_name_to_filename(\n",
    "        resolve_nominatim_city_name(city_name)\n",
    "    )\n",
    "    osmnx_nodes = gpd.read_parquet(\n",
    "        os.path.join(ORGANIZED_GRAPHS_LOCATION, city_folder_name, \"nodes.parquet\")\n",
    "    )\n",
    "    osmnx_nodes = osmnx_nodes.reset_index()\n",
    "    osmnx_nodes.index.names = [\"node_id\"]\n",
    "    osmnx_nodes[\"x\"] = osmnx_nodes[\"geometry\"].x\n",
    "    osmnx_nodes[\"y\"] = osmnx_nodes[\"geometry\"].y\n",
    "\n",
    "    osmnx_edges = gpd.read_parquet(\n",
    "        os.path.join(ORGANIZED_GRAPHS_LOCATION, city_folder_name, \"edges.parquet\")\n",
    "    )\n",
    "    osmnx_edges = osmnx_edges.reset_index().rename(columns={\"index\": \"edge_id\"})\n",
    "    osmnx_edges.index.names = [\"edge_id\"]\n",
    "\n",
    "    assert osmnx_nodes.crs == osmnx_edges.crs\n",
    "    assert osmnx_nodes.crs == accidents_gdf.crs\n",
    "\n",
    "    osmnx_nodes = add_accidents_to_osmnx_nodes(\n",
    "        accidents=accidents_gdf,\n",
    "        nodes=osmnx_nodes,\n",
    "        city_name=city_name,\n",
    "        edges=osmnx_edges,\n",
    "    )\n",
    "\n",
    "    hexes_years_folder = os.path.join(ORGANIZED_HEXES_LOCATION, city_folder_name)\n",
    "\n",
    "    subfolders = [\n",
    "        int(f)\n",
    "        for f in os.listdir(hexes_years_folder)\n",
    "        if os.path.isdir(os.path.join(hexes_years_folder, f))\n",
    "    ]\n",
    "    highest_year = subfolders[np.argmax(subfolders)]\n",
    "\n",
    "    hexes: gpd.GeoDataFrame = gpd.read_parquet(\n",
    "        os.path.join(\n",
    "            ORGANIZED_HEXES_LOCATION,\n",
    "            f\"{convert_nominatim_name_to_filename(resolve_nominatim_city_name(city_name))}/{highest_year}/h9/count-embedder/dataset.parquet\",\n",
    "        )\n",
    "    )\n",
    "\n",
    "    hexes = hexes.rename(columns={\"region_id\": \"h3_id\"}).rename_axis(\n",
    "        \"region_id\", axis=0\n",
    "    )\n",
    "\n",
    "    return dict(osmnx_nodes=osmnx_nodes, osmnx_edges=osmnx_edges, hexes=hexes)\n",
    "\n",
    "\n",
    "print(\"Creating gdfs...\")\n",
    "gdfs_dict = {city_name: create_gdfs(city_name) for city_name in tqdm(cities)}"
   ]
  },
  {
   "cell_type": "markdown",
   "id": "f6304be2",
   "metadata": {},
   "source": [
    "# 6. Creating GraphLayerController for each of the cities\n",
    "\n",
    "The creation is based on previously made GeoDataFrames. The controller is used to transfer accidents Y values from OSMNX nodes to hexes. It is also used to create complete graph data in case of graph datasets.\n"
   ]
  },
  {
   "cell_type": "code",
   "execution_count": 10,
   "id": "2fdc8136326251d0",
   "metadata": {
    "ExecuteTime": {
     "end_time": "2024-04-29T05:58:00.358809Z",
     "start_time": "2024-04-29T05:58:00.142909Z"
    }
   },
   "outputs": [],
   "source": [
    "with warnings.catch_warnings():\n",
    "    warnings.simplefilter(\"ignore\")\n",
    "    for gdf_for_city in gdfs_dict.values():\n",
    "        gdf_for_city[\"controller\"] = GraphLayerController(\n",
    "            gdf_for_city[\"hexes\"],\n",
    "            gdf_for_city[\"osmnx_nodes\"],\n",
    "            gdf_for_city[\"osmnx_edges\"],\n",
    "        )"
   ]
  },
  {
   "cell_type": "markdown",
   "id": "402c77ee",
   "metadata": {},
   "source": [
    "# 7. Patching hexes\n",
    "\n",
    "The y value (1 = accident occured, 0 = no accident) is assigned to each of the hexes according to its underlying OSMNX nodes\n"
   ]
  },
  {
   "cell_type": "code",
   "execution_count": 11,
   "id": "e0aac7a866a12b15",
   "metadata": {
    "ExecuteTime": {
     "end_time": "2024-04-29T05:58:00.376920Z",
     "start_time": "2024-04-29T05:58:00.359616Z"
    }
   },
   "outputs": [],
   "source": [
    "def patch_hexes_with_y(\n",
    "    osmnx_nodes: gpd.GeoDataFrame,\n",
    "    hexes: gpd.GeoDataFrame,\n",
    "    controller: GraphLayerController,\n",
    "):\n",
    "    virtual_edges = controller.get_virtual_edges_to_hexes(SourceType.OSMNX_NODES)\n",
    "    hexes_with_y = cast(\n",
    "        gpd.GeoDataFrame,\n",
    "        hexes.merge(\n",
    "            virtual_edges.merge(osmnx_nodes, left_on=\"source_id\", right_index=True)[\n",
    "                [\"region_id\", \"accidents_count\"]\n",
    "            ]\n",
    "            .groupby(\"region_id\")\n",
    "            .sum(),\n",
    "            left_index=True,\n",
    "            right_index=True,\n",
    "            how=\"left\",\n",
    "        ).fillna(0),\n",
    "    )\n",
    "    hexes_with_y[\"accident_occured\"] = (hexes_with_y[\"accidents_count\"] > 0).astype(int)\n",
    "    hexes_with_y.drop(columns=\"accidents_count\", inplace=True)\n",
    "    controller.hexes_gdf = hexes_with_y\n",
    "    controller._hexes_centroids_gdf = controller._create_hexes_centroids_gdf()"
   ]
  },
  {
   "cell_type": "code",
   "execution_count": 12,
   "id": "7348370ea8cdaece",
   "metadata": {
    "ExecuteTime": {
     "end_time": "2024-04-29T05:58:00.689761Z",
     "start_time": "2024-04-29T05:58:00.377730Z"
    }
   },
   "outputs": [],
   "source": [
    "with warnings.catch_warnings():\n",
    "    warnings.simplefilter(\"ignore\")\n",
    "    for gdfs in gdfs_dict.values():\n",
    "        patch_hexes_with_y(gdfs[\"osmnx_nodes\"], gdfs[\"hexes\"], gdfs[\"controller\"])"
   ]
  },
  {
   "cell_type": "markdown",
   "id": "3025c1ec",
   "metadata": {},
   "source": [
    "# 8. Creating graph data\n",
    "\n",
    "Graph data is used when we include OSMNX attributes and in turn maintain the graph structure of the data\n",
    "\n",
    "The data is created only once for now just to create (train, val, test) folds labels for crossvalidation on graph-based versions of the task\n"
   ]
  },
  {
   "cell_type": "code",
   "execution_count": 13,
   "id": "aa099bf6c66b97cf",
   "metadata": {
    "ExecuteTime": {
     "end_time": "2024-04-29T05:58:01.878441Z",
     "start_time": "2024-04-29T05:58:00.690710Z"
    }
   },
   "outputs": [],
   "source": [
    "from typing import List, Literal, Union\n",
    "\n",
    "\n",
    "def create_graph_data(\n",
    "    osmnx_nodes,\n",
    "    osmnx_edges,\n",
    "    hexes,\n",
    "    controller: GraphLayerController,\n",
    "    use_hexes_attr: bool,\n",
    "    use_ortophoto: bool,\n",
    "    columns_to_take: Union[List[str], Literal[\"all\"]] = [],\n",
    "):\n",
    "\n",
    "    edges_attr_columns = osmnx_edges.columns[\n",
    "        ~osmnx_edges.columns.isin([\"u\", \"v\", \"key\", \"geometry\"])\n",
    "    ]\n",
    "    nodes_attr_columns = osmnx_nodes.columns[\n",
    "        ~osmnx_nodes.columns.isin([\"geometry\", \"x\", \"y\", \"osmid\", 'accidents_count'])\n",
    "    ]\n",
    "\n",
    "    if use_hexes_attr:\n",
    "        hexes_attr_columns = (\n",
    "            hexes.columns[~hexes.columns.isin([\"geometry\", \"h3_id\", \"accidents_count\"])]\n",
    "            if columns_to_take == \"all\"\n",
    "            else columns_to_take\n",
    "        )\n",
    "    else:\n",
    "        hexes_attr_columns = []\n",
    "\n",
    "    data = create_hetero_data(\n",
    "        controller,\n",
    "        hexes_attrs_columns_names=hexes_attr_columns,\n",
    "        osmnx_edge_attrs_columns_names=edges_attr_columns,\n",
    "        osmnx_node_attrs_columns_names=nodes_attr_columns,\n",
    "        virtual_edge_attrs_columns_names=[],\n",
    "        hexes_y_columns_names=[\"accident_occured\"],\n",
    "    )\n",
    "    return data\n",
    "\n",
    "\n",
    "graph_data_dict = {\n",
    "    city_name: create_graph_data(**gdfs, use_ortophoto=True, use_hexes_attr=True)\n",
    "    for city_name, gdfs in gdfs_dict.items()\n",
    "}"
   ]
  },
  {
   "cell_type": "code",
   "execution_count": 14,
   "id": "0de9b2d4",
   "metadata": {},
   "outputs": [
    {
     "data": {
      "text/plain": [
       "{'x': tensor([], size=(3168, 0)), 'y': tensor([0, 1, 1,  ..., 0, 0, 0])}"
      ]
     },
     "execution_count": 14,
     "metadata": {},
     "output_type": "execute_result"
    }
   ],
   "source": [
    "graph_data_dict['Wrocław, Poland']['hex']"
   ]
  },
  {
   "cell_type": "markdown",
   "id": "aaa7d7c7",
   "metadata": {},
   "source": [
    "# 9. Creating tabular data\n",
    "\n",
    "Tabular data is used when we omit OSMNX attributes and in turn lose the graph structure of the data\n",
    "\n",
    "No folds creation on tabular-based versions of the task - using simple leave-one-out\n"
   ]
  },
  {
   "cell_type": "code",
   "execution_count": 15,
   "id": "9d17b304",
   "metadata": {},
   "outputs": [],
   "source": [
    "def create_tabular_data(\n",
    "    hexes: pd.DataFrame,\n",
    "    controller: GraphLayerController,\n",
    "    use_hexes_attr: bool,\n",
    "    use_ortophoto: bool,\n",
    "):\n",
    "    assert use_ortophoto or use_hexes_attr, \"Provide at least one data source\"\n",
    "\n",
    "    hexes_attr_columns = (\n",
    "        hexes.columns[~hexes.columns.isin([\"geometry\", \"h3_id\"])]\n",
    "        if use_hexes_attr\n",
    "        else []\n",
    "    )\n",
    "\n",
    "    hexes_y_columns_names = [\"accident_occured\"]\n",
    "\n",
    "    X = hexes[hexes_attr_columns]\n",
    "    y = controller.hexes_centroids_gdf[hexes_y_columns_names]\n",
    "\n",
    "    return {\"X\": X, \"y\": y}\n",
    "\n",
    "\n",
    "tabular_data_dict = {\n",
    "    city_name: create_tabular_data(\n",
    "        gdfs[\"hexes\"],\n",
    "        cast(GraphLayerController, gdfs[\"controller\"]),\n",
    "        use_ortophoto=False,\n",
    "        use_hexes_attr=True,\n",
    "    )\n",
    "    for city_name, gdfs in gdfs_dict.items()\n",
    "}"
   ]
  },
  {
   "cell_type": "markdown",
   "id": "0da44b71",
   "metadata": {},
   "source": [
    "# 10. Creating folds labels\n"
   ]
  },
  {
   "cell_type": "code",
   "execution_count": 16,
   "id": "735adf5b",
   "metadata": {},
   "outputs": [
    {
     "data": {
      "text/plain": [
       "[('Wrocław, Poland', 'Kraków, Poland'),\n",
       " ('Kraków, Poland', 'Poznań, Poland'),\n",
       " ('Poznań, Poland', 'Szczecin, Poland'),\n",
       " ('Szczecin, Poland', 'Warszawa, Poland'),\n",
       " ('Warszawa, Poland', 'Wrocław, Poland')]"
      ]
     },
     "metadata": {},
     "output_type": "display_data"
    }
   ],
   "source": [
    "def shift_elements_right(lst):\n",
    "    shifted_lst = [lst[-1]] + lst[:-1]\n",
    "    return shifted_lst\n",
    "\n",
    "\n",
    "cities_names_list = list(graph_data_dict.keys())\n",
    "cities_names_list.sort(key=lambda x: str(x))\n",
    "\n",
    "# val + test\n",
    "folds_tuples = list(zip(shift_elements_right(cities_names_list), cities_names_list))\n",
    "display(folds_tuples)"
   ]
  },
  {
   "cell_type": "markdown",
   "id": "edd185f7",
   "metadata": {},
   "source": [
    "# 11. Functions setup\n"
   ]
  },
  {
   "cell_type": "code",
   "execution_count": 17,
   "id": "312d98f295cfeb0a",
   "metadata": {
    "ExecuteTime": {
     "end_time": "2024-04-29T07:59:07.807822Z",
     "start_time": "2024-04-29T07:58:54.359959Z"
    }
   },
   "outputs": [],
   "source": [
    "def run_k_fold_graph_data(closure_config, sweep_id):\n",
    "    # pass external config (i.e. what attributes are used in the data), closure to avoid passing it to the function directly\n",
    "    def wrapped():\n",
    "        run = wandb.init()\n",
    "        epochs = EPOCHS\n",
    "\n",
    "        config = wandb.config\n",
    "\n",
    "        for k, v in closure_config.items():\n",
    "            run.log({k: 1 if v else 0})\n",
    "\n",
    "        run.log({\"data_structure\": \"graph\"})\n",
    "\n",
    "        # create hparams\n",
    "        if hasattr(config, \"lin_layer_size\") and hasattr(config, \"num_lin_layers\"):\n",
    "            lin_layer_sizes = [config.lin_layer_size] * config.num_lin_layers\n",
    "        else:\n",
    "            lin_layer_sizes = config.lin_layer_sizes\n",
    "        hparams = {\n",
    "            \"hidden_channels\": config.hidden_channels,\n",
    "            \"lr\": config.learning_rate,\n",
    "            \"num_conv_layers\": config.num_conv_layers,\n",
    "            \"lin_layer_sizes\": lin_layer_sizes,\n",
    "            \"weight_decay\": config.weight_decay,\n",
    "        }\n",
    "\n",
    "        aucs = []\n",
    "        accuracies = []\n",
    "        f1s = []\n",
    "\n",
    "        fold_group_id = generate_id()\n",
    "\n",
    "        # log data as artifact if no data was logged in the sweep before\n",
    "        # dataset is uploaded only on the first run in sweep, because it does not change across runs in sweep\n",
    "        # in wandb, dataset will be visible on the first run in the sweep\n",
    "        artifact_path = os.path.join(TRAIN_SAVE_DIR, f\"graph_data_{sweep_id}.pkl\")\n",
    "        if not os.path.exists(artifact_path):\n",
    "            dump(\n",
    "                graph_data_dict,\n",
    "                artifact_path,\n",
    "                protocol=5,\n",
    "            )\n",
    "            artifact = wandb.Artifact(\n",
    "                name=\"graph_data\", type=\"dataset\", metadata=closure_config\n",
    "            )\n",
    "            artifact.add_file(local_path=artifact_path)\n",
    "            run.log_artifact(artifact)\n",
    "\n",
    "        # run k-fold\n",
    "        for index, (val_city_name, test_city_name) in enumerate(folds_tuples):\n",
    "            # prepare data\n",
    "            val_data = [graph_data_dict[val_city_name].to(\"cpu\").clone()]\n",
    "            train_data = [\n",
    "                v.to(\"cpu\").clone()\n",
    "                for k, v in graph_data_dict.items()\n",
    "                if k != val_city_name and k != test_city_name\n",
    "            ]\n",
    "            test_data = graph_data_dict[test_city_name].to(\"cpu\").clone()\n",
    "\n",
    "            # run training with checkpointing on lowest val_loss, return test metrics for the best model and its path\n",
    "            # builtin preprocessing - scaling to N(0, 1)\n",
    "            auc, accuracy, f1, model_path = train(\n",
    "                train_data=train_data,\n",
    "                val_data=val_data,\n",
    "                test_data=test_data,\n",
    "                epochs=epochs,\n",
    "                hparams=hparams,\n",
    "                train_save_dir=TRAIN_SAVE_DIR,\n",
    "                num_classes=2,\n",
    "            )\n",
    "\n",
    "            # logging - single fold\n",
    "            run.log_model(\n",
    "                path=model_path,\n",
    "                name=f\"model_{fold_group_id}_fold_{index}\",\n",
    "            )\n",
    "            run.log({f\"auc_fold_{index}\": auc})\n",
    "            run.log({f\"accuracy_fold_{index}\": accuracy})\n",
    "            run.log({f\"f1_fold_{index}\": f1})\n",
    "\n",
    "            aucs.append(auc)\n",
    "            accuracies.append(accuracy)\n",
    "            f1s.append(f1)\n",
    "\n",
    "        # logging - summary statistics\n",
    "        mean_auc = sum(aucs) / len(aucs)\n",
    "        mean_accuracy = sum(accuracies) / len(accuracies)\n",
    "        mean_f1 = sum(f1s) / len(f1s)\n",
    "        run.log({\"mean_auc\": mean_auc})\n",
    "        run.log({\"mean_accuracy\": mean_accuracy})\n",
    "        run.log({\"mean_f1\": mean_f1})\n",
    "\n",
    "    return wrapped\n",
    "\n",
    "\n",
    "def run_k_fold_tabular_data(closure_config, sweep_id):\n",
    "    # analogously to the graph data, but for tabular data\n",
    "    def wrapped():\n",
    "        run = wandb.init()\n",
    "\n",
    "        config = wandb.config\n",
    "\n",
    "        for k, v in closure_config.items():\n",
    "            run.log({k: 1 if v else 0})\n",
    "\n",
    "        run.log({\"data_structure\": \"tabular\"})\n",
    "\n",
    "        hparams = {}\n",
    "        hparams[\"C\"] = config[\"C\"]\n",
    "        solver, penalty = config[\"solver_penalty\"].split(\";\")\n",
    "        hparams[\"solver\"] = solver\n",
    "        if penalty == \"None\":\n",
    "            penalty = None\n",
    "        hparams[\"penalty\"] = penalty\n",
    "\n",
    "        aucs = []\n",
    "        accuracies = []\n",
    "        f1s = []\n",
    "\n",
    "        fold_group_id = generate_id()\n",
    "\n",
    "        # log data as artifact\n",
    "        artifact_path = os.path.join(TRAIN_SAVE_DIR, f\"tabular_data_{sweep_id}.pkl\")\n",
    "\n",
    "        if not os.path.exists(artifact_path):\n",
    "            dump(\n",
    "                tabular_data_dict,\n",
    "                artifact_path,\n",
    "                protocol=5,\n",
    "            )\n",
    "            artifact = wandb.Artifact(\n",
    "                name=\"tabular_data\", type=\"dataset\", metadata=closure_config\n",
    "            )\n",
    "            artifact.add_file(local_path=artifact_path)\n",
    "            run.log_artifact(artifact)\n",
    "\n",
    "        timestamp = datetime.now().strftime(\"%Y_%m_%d_%H_%M_%S\")\n",
    "\n",
    "        for index, test_city_name in enumerate(cities_names_list):\n",
    "            scaler = StandardScaler()\n",
    "            X = pd.concat(\n",
    "                [\n",
    "                    m[\"X\"]\n",
    "                    for key, m in tabular_data_dict.items()\n",
    "                    if key != test_city_name\n",
    "                ]\n",
    "            ).to_numpy()\n",
    "            y = (\n",
    "                pd.concat(\n",
    "                    [\n",
    "                        m[\"y\"]\n",
    "                        for key, m in tabular_data_dict.items()\n",
    "                        if key != test_city_name\n",
    "                    ]\n",
    "                )\n",
    "                .to_numpy()\n",
    "                .ravel()\n",
    "            )\n",
    "\n",
    "            X = scaler.fit_transform(X)\n",
    "\n",
    "            logistic_regression = LogisticRegression(\n",
    "                C=hparams[\"C\"],\n",
    "                solver=hparams[\"solver\"],\n",
    "                penalty=hparams[\"penalty\"],\n",
    "                dual=False,\n",
    "                tol=1e-4,\n",
    "                fit_intercept=True,\n",
    "                intercept_scaling=1,\n",
    "                class_weight=\"balanced\",\n",
    "                random_state=1124,\n",
    "                max_iter=1000,\n",
    "                multi_class=\"auto\",\n",
    "                warm_start=False,\n",
    "                n_jobs=-1,\n",
    "                l1_ratio=0.5,\n",
    "            )\n",
    "            logistic_regression.fit(X, y)\n",
    "\n",
    "            test_X = tabular_data_dict[test_city_name][\"X\"].to_numpy()\n",
    "            test_X = scaler.transform(test_X)\n",
    "            test_y = tabular_data_dict[test_city_name][\"y\"].to_numpy().ravel()\n",
    "            y_pred = logistic_regression.predict(test_X)\n",
    "            y_proba = logistic_regression.predict_proba(test_X)[:, 1]\n",
    "\n",
    "            auc = roc_auc_score(test_y, y_proba, average=\"micro\")\n",
    "            accuracy = (y_pred == test_y).mean()\n",
    "            f1 = f1_score(\n",
    "                test_y,\n",
    "                y_pred,\n",
    "                pos_label=1,\n",
    "                average=\"binary\",\n",
    "            )\n",
    "\n",
    "            model_dir = os.path.join(TRAIN_SAVE_DIR, timestamp)\n",
    "\n",
    "            os.makedirs(model_dir, exist_ok=True)\n",
    "\n",
    "            model_path = os.path.join(\n",
    "                model_dir, f\"model_{fold_group_id}_fold_{index}.pkl\"\n",
    "            )\n",
    "\n",
    "            with open(model_path, \"wb\") as f:\n",
    "                dump(logistic_regression, f, protocol=5)\n",
    "\n",
    "            run.log_model(\n",
    "                path=model_path,\n",
    "                name=f\"model_{fold_group_id}_fold_{index}\",\n",
    "            )\n",
    "            run.log({f\"auc_fold_{index}\": auc})\n",
    "            run.log({f\"accuracy_fold_{index}\": accuracy})\n",
    "            run.log({f\"f1_fold_{index}\": f1})\n",
    "\n",
    "            aucs.append(auc)\n",
    "            accuracies.append(accuracy)\n",
    "            f1s.append(f1)\n",
    "\n",
    "        mean_auc = sum(aucs) / len(aucs)\n",
    "        mean_accuracy = sum(accuracies) / len(accuracies)\n",
    "        mean_f1 = sum(f1s) / len(f1s)\n",
    "        run.log({\"mean_auc\": mean_auc})\n",
    "        run.log({\"mean_accuracy\": mean_accuracy})\n",
    "        run.log({\"mean_f1\": mean_f1})\n",
    "\n",
    "    return wrapped\n",
    "\n",
    "\n",
    "def run_sweep_graph_data(config):\n",
    "    try:\n",
    "        wandb.login(key=WANDB_API_KEY)\n",
    "        sweep_id = wandb.sweep(\n",
    "            WANDB_SWEEP_PARAMS_GRAPH_DATA, project=\"accidents-downstream-task-v2\"\n",
    "        )\n",
    "\n",
    "        wandb.agent(\n",
    "            sweep_id,\n",
    "            function=run_k_fold_graph_data(config, sweep_id),\n",
    "            count=SWEEP_RUNS_COUNT,\n",
    "        )\n",
    "    except Exception as e:\n",
    "        print(e)\n",
    "        wandb.finish()\n",
    "        wandb.sweep\n",
    "        raise e\n",
    "\n",
    "\n",
    "def run_sweep_tabular_data(config):\n",
    "    try:\n",
    "        wandb.login(key=WANDB_API_KEY)\n",
    "\n",
    "        sweep_id = wandb.sweep(\n",
    "            WANDB_SWEEP_PARAMS_TABULAR_DATA, project=\"accidents-downstream-task-v2\"\n",
    "        )\n",
    "\n",
    "        wandb.agent(\n",
    "            sweep_id,\n",
    "            function=run_k_fold_tabular_data(config, sweep_id),\n",
    "            count=SWEEP_RUNS_COUNT,\n",
    "        )\n",
    "    except Exception as e:\n",
    "        print(e)\n",
    "        wandb.finish()\n",
    "        raise e"
   ]
  },
  {
   "cell_type": "markdown",
   "id": "983e8cf8",
   "metadata": {},
   "source": [
    "# 12. Run functions\n",
    "\n",
    "For each config:\n",
    "\n",
    "1. Determine if config requires tabular or graph data\n",
    "2. Create data excluding attributes not included in the config\n",
    "3. Run the sweep\n"
   ]
  },
  {
   "cell_type": "code",
   "execution_count": 18,
   "id": "aef83315",
   "metadata": {},
   "outputs": [
    {
     "name": "stdout",
     "output_type": "stream",
     "text": [
      "Sweep for config 1/4 in progress...\n"
     ]
    },
    {
     "name": "stderr",
     "output_type": "stream",
     "text": [
      "Failed to detect the name of this notebook, you can set it manually with the WANDB_NOTEBOOK_NAME environment variable to enable code saving.\n",
      "\u001b[34m\u001b[1mwandb\u001b[0m: Currently logged in as: \u001b[33mjuliajaniak\u001b[0m (\u001b[33mgradient_pwr\u001b[0m). Use \u001b[1m`wandb login --relogin`\u001b[0m to force relogin\n",
      "\u001b[34m\u001b[1mwandb\u001b[0m: \u001b[33mWARNING\u001b[0m If you're specifying your api key in code, ensure this code is not shared publicly.\n",
      "\u001b[34m\u001b[1mwandb\u001b[0m: \u001b[33mWARNING\u001b[0m Consider setting the WANDB_API_KEY environment variable, or running `wandb login` from the command line.\n",
      "\u001b[34m\u001b[1mwandb\u001b[0m: Appending key for api.wandb.ai to your netrc file: /Users/jjaniak/.netrc\n"
     ]
    },
    {
     "name": "stdout",
     "output_type": "stream",
     "text": [
      "Create sweep with ID: dv87z9ro\n",
      "Sweep URL: https://wandb.ai/gradient_pwr/accidents-downstream-task-v2/sweeps/dv87z9ro\n"
     ]
    },
    {
     "name": "stderr",
     "output_type": "stream",
     "text": [
      "\u001b[34m\u001b[1mwandb\u001b[0m: Agent Starting Run: 8xv6syn2 with config:\n",
      "\u001b[34m\u001b[1mwandb\u001b[0m: \thidden_channels: 50\n",
      "\u001b[34m\u001b[1mwandb\u001b[0m: \tlearning_rate: 0.00012796340759857518\n",
      "\u001b[34m\u001b[1mwandb\u001b[0m: \tlin_layer_size: 128\n",
      "\u001b[34m\u001b[1mwandb\u001b[0m: \tnum_conv_layers: 3\n",
      "\u001b[34m\u001b[1mwandb\u001b[0m: \tnum_lin_layers: 4\n",
      "\u001b[34m\u001b[1mwandb\u001b[0m: \tweight_decay: 0.0003861152989470642\n",
      "Failed to detect the name of this notebook, you can set it manually with the WANDB_NOTEBOOK_NAME environment variable to enable code saving.\n"
     ]
    },
    {
     "data": {
      "text/html": [
       "wandb version 0.17.1 is available!  To upgrade, please run:\n",
       " $ pip install wandb --upgrade"
      ],
      "text/plain": [
       "<IPython.core.display.HTML object>"
      ]
     },
     "metadata": {},
     "output_type": "display_data"
    },
    {
     "data": {
      "text/html": [
       "Tracking run with wandb version 0.16.4"
      ],
      "text/plain": [
       "<IPython.core.display.HTML object>"
      ]
     },
     "metadata": {},
     "output_type": "display_data"
    },
    {
     "data": {
      "text/html": [
       "Run data is saved locally in <code>/Users/jjaniak/Documents/studia/projekt/gradient/notebooks/downstream_tasks/wandb/run-20240607_180457-8xv6syn2</code>"
      ],
      "text/plain": [
       "<IPython.core.display.HTML object>"
      ]
     },
     "metadata": {},
     "output_type": "display_data"
    },
    {
     "data": {
      "text/html": [
       "Syncing run <strong><a href='https://wandb.ai/gradient_pwr/accidents-downstream-task-v2/runs/8xv6syn2' target=\"_blank\">effortless-sweep-1</a></strong> to <a href='https://wandb.ai/gradient_pwr/accidents-downstream-task-v2' target=\"_blank\">Weights & Biases</a> (<a href='https://wandb.me/run' target=\"_blank\">docs</a>)<br/>Sweep page: <a href='https://wandb.ai/gradient_pwr/accidents-downstream-task-v2/sweeps/dv87z9ro' target=\"_blank\">https://wandb.ai/gradient_pwr/accidents-downstream-task-v2/sweeps/dv87z9ro</a>"
      ],
      "text/plain": [
       "<IPython.core.display.HTML object>"
      ]
     },
     "metadata": {},
     "output_type": "display_data"
    },
    {
     "data": {
      "text/html": [
       " View project at <a href='https://wandb.ai/gradient_pwr/accidents-downstream-task-v2' target=\"_blank\">https://wandb.ai/gradient_pwr/accidents-downstream-task-v2</a>"
      ],
      "text/plain": [
       "<IPython.core.display.HTML object>"
      ]
     },
     "metadata": {},
     "output_type": "display_data"
    },
    {
     "data": {
      "text/html": [
       " View sweep at <a href='https://wandb.ai/gradient_pwr/accidents-downstream-task-v2/sweeps/dv87z9ro' target=\"_blank\">https://wandb.ai/gradient_pwr/accidents-downstream-task-v2/sweeps/dv87z9ro</a>"
      ],
      "text/plain": [
       "<IPython.core.display.HTML object>"
      ]
     },
     "metadata": {},
     "output_type": "display_data"
    },
    {
     "data": {
      "text/html": [
       " View run at <a href='https://wandb.ai/gradient_pwr/accidents-downstream-task-v2/runs/8xv6syn2' target=\"_blank\">https://wandb.ai/gradient_pwr/accidents-downstream-task-v2/runs/8xv6syn2</a>"
      ],
      "text/plain": [
       "<IPython.core.display.HTML object>"
      ]
     },
     "metadata": {},
     "output_type": "display_data"
    },
    {
     "name": "stderr",
     "output_type": "stream",
     "text": [
      "/Users/jjaniak/anaconda3/envs/studia_projekt/lib/python3.8/site-packages/torch_geometric/deprecation.py:22: UserWarning: 'data.DataLoader' is deprecated, use 'loader.DataLoader' instead\n",
      "  warnings.warn(out)\n",
      "GPU available: True (mps), used: True\n",
      "TPU available: False, using: 0 TPU cores\n",
      "IPU available: False, using: 0 IPUs\n",
      "HPU available: False, using: 0 HPUs\n",
      "Missing logger folder: ../../gradient_logs/2024_06_07_18_05_03/lightning_logs\n",
      "/Users/jjaniak/anaconda3/envs/studia_projekt/lib/python3.8/site-packages/pytorch_lightning/utilities/model_summary/model_summary.py:452: A layer with UninitializedParameter was found. Thus, the total number of parameters detected may be inaccurate.\n",
      "\n",
      "  | Name  | Type      | Params\n",
      "------------------------------------\n",
      "0 | model | HeteroGNN | 145 K \n",
      "------------------------------------\n",
      "145 K     Trainable params\n",
      "0         Non-trainable params\n",
      "145 K     Total params\n",
      "0.582     Total estimated model params size (MB)\n"
     ]
    },
    {
     "data": {
      "application/vnd.jupyter.widget-view+json": {
       "model_id": "5e6ba93fa8734581b545a7843d0f8a20",
       "version_major": 2,
       "version_minor": 0
      },
      "text/plain": [
       "Sanity Checking: |          | 0/? [00:00<?, ?it/s]"
      ]
     },
     "metadata": {},
     "output_type": "display_data"
    },
    {
     "name": "stderr",
     "output_type": "stream",
     "text": [
      "/Users/jjaniak/anaconda3/envs/studia_projekt/lib/python3.8/site-packages/pytorch_lightning/trainer/connectors/data_connector.py:441: The 'val_dataloader' does not have many workers which may be a bottleneck. Consider increasing the value of the `num_workers` argument` to `num_workers=11` in the `DataLoader` to improve performance.\n"
     ]
    },
    {
     "data": {
      "application/vnd.jupyter.widget-view+json": {
       "model_id": "9903a5de1518481f98e4581a735ec2f7",
       "version_major": 2,
       "version_minor": 0
      },
      "text/plain": [
       "VBox(children=(Label(value='162.836 MB of 162.836 MB uploaded\\r'), FloatProgress(value=1.0, max=1.0)))"
      ]
     },
     "metadata": {},
     "output_type": "display_data"
    },
    {
     "data": {
      "text/html": [
       "<style>\n",
       "    table.wandb td:nth-child(1) { padding: 0 10px; text-align: left ; width: auto;} td:nth-child(2) {text-align: left ; width: 100%}\n",
       "    .wandb-row { display: flex; flex-direction: row; flex-wrap: wrap; justify-content: flex-start; width: 100% }\n",
       "    .wandb-col { display: flex; flex-direction: column; flex-basis: 100%; flex: 1; padding: 10px; }\n",
       "    </style>\n",
       "<div class=\"wandb-row\"><div class=\"wandb-col\"><h3>Run history:</h3><br/><table class=\"wandb\"><tr><td>USE_HEXES_ATTRS</td><td>▁</td></tr><tr><td>USE_ORTOPHOTO</td><td>▁</td></tr><tr><td>USE_OSMNX_ATTRS</td><td>▁</td></tr></table><br/></div><div class=\"wandb-col\"><h3>Run summary:</h3><br/><table class=\"wandb\"><tr><td>USE_HEXES_ATTRS</td><td>1</td></tr><tr><td>USE_ORTOPHOTO</td><td>0</td></tr><tr><td>USE_OSMNX_ATTRS</td><td>1</td></tr><tr><td>data_structure</td><td>graph</td></tr></table><br/></div></div>"
      ],
      "text/plain": [
       "<IPython.core.display.HTML object>"
      ]
     },
     "metadata": {},
     "output_type": "display_data"
    },
    {
     "data": {
      "text/html": [
       " View run <strong style=\"color:#cdcd00\">effortless-sweep-1</strong> at: <a href='https://wandb.ai/gradient_pwr/accidents-downstream-task-v2/runs/8xv6syn2' target=\"_blank\">https://wandb.ai/gradient_pwr/accidents-downstream-task-v2/runs/8xv6syn2</a><br/>Synced 6 W&B file(s), 0 media file(s), 1 artifact file(s) and 0 other file(s)"
      ],
      "text/plain": [
       "<IPython.core.display.HTML object>"
      ]
     },
     "metadata": {},
     "output_type": "display_data"
    },
    {
     "data": {
      "text/html": [
       "Find logs at: <code>./wandb/run-20240607_180457-8xv6syn2/logs</code>"
      ],
      "text/plain": [
       "<IPython.core.display.HTML object>"
      ]
     },
     "metadata": {},
     "output_type": "display_data"
    },
    {
     "name": "stderr",
     "output_type": "stream",
     "text": [
      "Run 8xv6syn2 errored:\n",
      "Traceback (most recent call last):\n",
      "  File \"/Users/jjaniak/anaconda3/envs/studia_projekt/lib/python3.8/site-packages/wandb/agents/pyagent.py\", line 308, in _run_job\n",
      "    self._function()\n",
      "  File \"/var/folders/4k/8js3jm9n457cm4_v631zyrkw0000gn/T/ipykernel_25686/3559290024.py\", line 62, in wrapped\n",
      "    auc, accuracy, f1, model_path = train(\n",
      "  File \"/Users/jjaniak/Documents/studia/projekt/gradient/notebooks/downstream_tasks/../../src/training/train.py\", line 84, in train\n",
      "    trainer.fit(model, train_loader, val_dataloaders=(val_loader or None))\n",
      "  File \"/Users/jjaniak/anaconda3/envs/studia_projekt/lib/python3.8/site-packages/pytorch_lightning/trainer/trainer.py\", line 545, in fit\n",
      "    call._call_and_handle_interrupt(\n",
      "  File \"/Users/jjaniak/anaconda3/envs/studia_projekt/lib/python3.8/site-packages/pytorch_lightning/trainer/call.py\", line 44, in _call_and_handle_interrupt\n",
      "    return trainer_fn(*args, **kwargs)\n",
      "  File \"/Users/jjaniak/anaconda3/envs/studia_projekt/lib/python3.8/site-packages/pytorch_lightning/trainer/trainer.py\", line 581, in _fit_impl\n",
      "    self._run(model, ckpt_path=ckpt_path)\n",
      "  File \"/Users/jjaniak/anaconda3/envs/studia_projekt/lib/python3.8/site-packages/pytorch_lightning/trainer/trainer.py\", line 990, in _run\n",
      "    results = self._run_stage()\n",
      "  File \"/Users/jjaniak/anaconda3/envs/studia_projekt/lib/python3.8/site-packages/pytorch_lightning/trainer/trainer.py\", line 1034, in _run_stage\n",
      "    self._run_sanity_check()\n",
      "  File \"/Users/jjaniak/anaconda3/envs/studia_projekt/lib/python3.8/site-packages/pytorch_lightning/trainer/trainer.py\", line 1063, in _run_sanity_check\n",
      "    val_loop.run()\n",
      "  File \"/Users/jjaniak/anaconda3/envs/studia_projekt/lib/python3.8/site-packages/pytorch_lightning/loops/utilities.py\", line 181, in _decorator\n",
      "    return loop_run(self, *args, **kwargs)\n",
      "  File \"/Users/jjaniak/anaconda3/envs/studia_projekt/lib/python3.8/site-packages/pytorch_lightning/loops/evaluation_loop.py\", line 134, in run\n",
      "    self._evaluation_step(batch, batch_idx, dataloader_idx, dataloader_iter)\n",
      "  File \"/Users/jjaniak/anaconda3/envs/studia_projekt/lib/python3.8/site-packages/pytorch_lightning/loops/evaluation_loop.py\", line 391, in _evaluation_step\n",
      "    output = call._call_strategy_hook(trainer, hook_name, *step_args)\n",
      "  File \"/Users/jjaniak/anaconda3/envs/studia_projekt/lib/python3.8/site-packages/pytorch_lightning/trainer/call.py\", line 309, in _call_strategy_hook\n",
      "    output = fn(*args, **kwargs)\n",
      "  File \"/Users/jjaniak/anaconda3/envs/studia_projekt/lib/python3.8/site-packages/pytorch_lightning/strategies/strategy.py\", line 403, in validation_step\n",
      "    return self.lightning_module.validation_step(*args, **kwargs)\n",
      "  File \"/Users/jjaniak/Documents/studia/projekt/gradient/notebooks/downstream_tasks/../../src/lightning/hetero_gnn_module.py\", line 57, in validation_step\n",
      "    y_hat = self.model(batch.x_dict, batch.edge_index_dict, batch.edge_attr_dict)\n",
      "  File \"/Users/jjaniak/anaconda3/envs/studia_projekt/lib/python3.8/site-packages/torch/nn/modules/module.py\", line 1518, in _wrapped_call_impl\n",
      "    return self._call_impl(*args, **kwargs)\n",
      "  File \"/Users/jjaniak/anaconda3/envs/studia_projekt/lib/python3.8/site-packages/torch/nn/modules/module.py\", line 1527, in _call_impl\n",
      "    return forward_call(*args, **kwargs)\n",
      "  File \"/Users/jjaniak/Documents/studia/projekt/gradient/notebooks/downstream_tasks/../../src/baseline_models/HeteroGNN/HeteroGNN.py\", line 59, in forward\n",
      "    value = self._forward(x_dict, edge_index_dict, edge_atrr_dict)\n",
      "  File \"/Users/jjaniak/Documents/studia/projekt/gradient/notebooks/downstream_tasks/../../src/baseline_models/HeteroGNN/HeteroGNN.py\", line 74, in _forward\n",
      "    x_dict = conv(x_dict, edge_index_dict, edge_atrr_dict)\n",
      "  File \"/Users/jjaniak/anaconda3/envs/studia_projekt/lib/python3.8/site-packages/torch/nn/modules/module.py\", line 1518, in _wrapped_call_impl\n",
      "    return self._call_impl(*args, **kwargs)\n",
      "  File \"/Users/jjaniak/anaconda3/envs/studia_projekt/lib/python3.8/site-packages/torch/nn/modules/module.py\", line 1527, in _call_impl\n",
      "    return forward_call(*args, **kwargs)\n",
      "  File \"/Users/jjaniak/anaconda3/envs/studia_projekt/lib/python3.8/site-packages/torch_geometric/nn/conv/hetero_conv.py\", line 159, in forward\n",
      "    out = self.convs[edge_type](*args, **kwargs)\n",
      "  File \"/Users/jjaniak/anaconda3/envs/studia_projekt/lib/python3.8/site-packages/torch/nn/modules/module.py\", line 1518, in _wrapped_call_impl\n",
      "    return self._call_impl(*args, **kwargs)\n",
      "  File \"/Users/jjaniak/anaconda3/envs/studia_projekt/lib/python3.8/site-packages/torch/nn/modules/module.py\", line 1527, in _call_impl\n",
      "    return forward_call(*args, **kwargs)\n",
      "  File \"/Users/jjaniak/anaconda3/envs/studia_projekt/lib/python3.8/site-packages/torch_geometric/nn/conv/gat_conv.py\", line 252, in forward\n",
      "    alpha = self.edge_updater(edge_index, alpha=alpha, edge_attr=edge_attr)\n",
      "  File \"/Users/jjaniak/anaconda3/envs/studia_projekt/lib/python3.8/site-packages/torch_geometric/nn/conv/message_passing.py\", line 527, in edge_updater\n",
      "    out = self.edge_update(**edge_kwargs)\n",
      "  File \"/Users/jjaniak/anaconda3/envs/studia_projekt/lib/python3.8/site-packages/torch_geometric/nn/conv/gat_conv.py\", line 295, in edge_update\n",
      "    alpha = softmax(alpha, index, ptr, size_i)\n",
      "  File \"/Users/jjaniak/anaconda3/envs/studia_projekt/lib/python3.8/site-packages/torch_geometric/utils/softmax.py\", line 65, in softmax\n",
      "    src_max = scatter(src.detach(), index, dim, dim_size=N, reduce='max')\n",
      "  File \"/Users/jjaniak/anaconda3/envs/studia_projekt/lib/python3.8/site-packages/torch_geometric/utils/scatter.py\", line 94, in scatter\n",
      "    return src.new_zeros(size).scatter_reduce_(\n",
      "NotImplementedError: The operator 'aten::scatter_reduce.two_out' is not currently implemented for the MPS device. If you want this op to be added in priority during the prototype phase of this feature, please comment on https://github.com/pytorch/pytorch/issues/77764. As a temporary fix, you can set the environment variable `PYTORCH_ENABLE_MPS_FALLBACK=1` to use the CPU as a fallback for this op. WARNING: this will be slower than running natively on MPS.\n",
      "\n",
      "\u001b[34m\u001b[1mwandb\u001b[0m: \u001b[32m\u001b[41mERROR\u001b[0m Run 8xv6syn2 errored:\n",
      "\u001b[34m\u001b[1mwandb\u001b[0m: \u001b[32m\u001b[41mERROR\u001b[0m Traceback (most recent call last):\n",
      "\u001b[34m\u001b[1mwandb\u001b[0m: \u001b[32m\u001b[41mERROR\u001b[0m   File \"/Users/jjaniak/anaconda3/envs/studia_projekt/lib/python3.8/site-packages/wandb/agents/pyagent.py\", line 308, in _run_job\n",
      "\u001b[34m\u001b[1mwandb\u001b[0m: \u001b[32m\u001b[41mERROR\u001b[0m     self._function()\n",
      "\u001b[34m\u001b[1mwandb\u001b[0m: \u001b[32m\u001b[41mERROR\u001b[0m   File \"/var/folders/4k/8js3jm9n457cm4_v631zyrkw0000gn/T/ipykernel_25686/3559290024.py\", line 62, in wrapped\n",
      "\u001b[34m\u001b[1mwandb\u001b[0m: \u001b[32m\u001b[41mERROR\u001b[0m     auc, accuracy, f1, model_path = train(\n",
      "\u001b[34m\u001b[1mwandb\u001b[0m: \u001b[32m\u001b[41mERROR\u001b[0m   File \"/Users/jjaniak/Documents/studia/projekt/gradient/notebooks/downstream_tasks/../../src/training/train.py\", line 84, in train\n",
      "\u001b[34m\u001b[1mwandb\u001b[0m: \u001b[32m\u001b[41mERROR\u001b[0m     trainer.fit(model, train_loader, val_dataloaders=(val_loader or None))\n",
      "\u001b[34m\u001b[1mwandb\u001b[0m: \u001b[32m\u001b[41mERROR\u001b[0m   File \"/Users/jjaniak/anaconda3/envs/studia_projekt/lib/python3.8/site-packages/pytorch_lightning/trainer/trainer.py\", line 545, in fit\n",
      "\u001b[34m\u001b[1mwandb\u001b[0m: \u001b[32m\u001b[41mERROR\u001b[0m     call._call_and_handle_interrupt(\n",
      "\u001b[34m\u001b[1mwandb\u001b[0m: \u001b[32m\u001b[41mERROR\u001b[0m   File \"/Users/jjaniak/anaconda3/envs/studia_projekt/lib/python3.8/site-packages/pytorch_lightning/trainer/call.py\", line 44, in _call_and_handle_interrupt\n",
      "\u001b[34m\u001b[1mwandb\u001b[0m: \u001b[32m\u001b[41mERROR\u001b[0m     return trainer_fn(*args, **kwargs)\n",
      "\u001b[34m\u001b[1mwandb\u001b[0m: \u001b[32m\u001b[41mERROR\u001b[0m   File \"/Users/jjaniak/anaconda3/envs/studia_projekt/lib/python3.8/site-packages/pytorch_lightning/trainer/trainer.py\", line 581, in _fit_impl\n",
      "\u001b[34m\u001b[1mwandb\u001b[0m: \u001b[32m\u001b[41mERROR\u001b[0m     self._run(model, ckpt_path=ckpt_path)\n",
      "\u001b[34m\u001b[1mwandb\u001b[0m: \u001b[32m\u001b[41mERROR\u001b[0m   File \"/Users/jjaniak/anaconda3/envs/studia_projekt/lib/python3.8/site-packages/pytorch_lightning/trainer/trainer.py\", line 990, in _run\n",
      "\u001b[34m\u001b[1mwandb\u001b[0m: \u001b[32m\u001b[41mERROR\u001b[0m     results = self._run_stage()\n",
      "\u001b[34m\u001b[1mwandb\u001b[0m: \u001b[32m\u001b[41mERROR\u001b[0m   File \"/Users/jjaniak/anaconda3/envs/studia_projekt/lib/python3.8/site-packages/pytorch_lightning/trainer/trainer.py\", line 1034, in _run_stage\n",
      "\u001b[34m\u001b[1mwandb\u001b[0m: \u001b[32m\u001b[41mERROR\u001b[0m     self._run_sanity_check()\n",
      "\u001b[34m\u001b[1mwandb\u001b[0m: \u001b[32m\u001b[41mERROR\u001b[0m   File \"/Users/jjaniak/anaconda3/envs/studia_projekt/lib/python3.8/site-packages/pytorch_lightning/trainer/trainer.py\", line 1063, in _run_sanity_check\n",
      "\u001b[34m\u001b[1mwandb\u001b[0m: \u001b[32m\u001b[41mERROR\u001b[0m     val_loop.run()\n",
      "\u001b[34m\u001b[1mwandb\u001b[0m: \u001b[32m\u001b[41mERROR\u001b[0m   File \"/Users/jjaniak/anaconda3/envs/studia_projekt/lib/python3.8/site-packages/pytorch_lightning/loops/utilities.py\", line 181, in _decorator\n",
      "\u001b[34m\u001b[1mwandb\u001b[0m: \u001b[32m\u001b[41mERROR\u001b[0m     return loop_run(self, *args, **kwargs)\n",
      "\u001b[34m\u001b[1mwandb\u001b[0m: \u001b[32m\u001b[41mERROR\u001b[0m   File \"/Users/jjaniak/anaconda3/envs/studia_projekt/lib/python3.8/site-packages/pytorch_lightning/loops/evaluation_loop.py\", line 134, in run\n",
      "\u001b[34m\u001b[1mwandb\u001b[0m: \u001b[32m\u001b[41mERROR\u001b[0m     self._evaluation_step(batch, batch_idx, dataloader_idx, dataloader_iter)\n",
      "\u001b[34m\u001b[1mwandb\u001b[0m: \u001b[32m\u001b[41mERROR\u001b[0m   File \"/Users/jjaniak/anaconda3/envs/studia_projekt/lib/python3.8/site-packages/pytorch_lightning/loops/evaluation_loop.py\", line 391, in _evaluation_step\n",
      "\u001b[34m\u001b[1mwandb\u001b[0m: \u001b[32m\u001b[41mERROR\u001b[0m     output = call._call_strategy_hook(trainer, hook_name, *step_args)\n",
      "\u001b[34m\u001b[1mwandb\u001b[0m: \u001b[32m\u001b[41mERROR\u001b[0m   File \"/Users/jjaniak/anaconda3/envs/studia_projekt/lib/python3.8/site-packages/pytorch_lightning/trainer/call.py\", line 309, in _call_strategy_hook\n",
      "\u001b[34m\u001b[1mwandb\u001b[0m: \u001b[32m\u001b[41mERROR\u001b[0m     output = fn(*args, **kwargs)\n",
      "\u001b[34m\u001b[1mwandb\u001b[0m: \u001b[32m\u001b[41mERROR\u001b[0m   File \"/Users/jjaniak/anaconda3/envs/studia_projekt/lib/python3.8/site-packages/pytorch_lightning/strategies/strategy.py\", line 403, in validation_step\n",
      "\u001b[34m\u001b[1mwandb\u001b[0m: \u001b[32m\u001b[41mERROR\u001b[0m     return self.lightning_module.validation_step(*args, **kwargs)\n",
      "\u001b[34m\u001b[1mwandb\u001b[0m: \u001b[32m\u001b[41mERROR\u001b[0m   File \"/Users/jjaniak/Documents/studia/projekt/gradient/notebooks/downstream_tasks/../../src/lightning/hetero_gnn_module.py\", line 57, in validation_step\n",
      "\u001b[34m\u001b[1mwandb\u001b[0m: \u001b[32m\u001b[41mERROR\u001b[0m     y_hat = self.model(batch.x_dict, batch.edge_index_dict, batch.edge_attr_dict)\n",
      "\u001b[34m\u001b[1mwandb\u001b[0m: \u001b[32m\u001b[41mERROR\u001b[0m   File \"/Users/jjaniak/anaconda3/envs/studia_projekt/lib/python3.8/site-packages/torch/nn/modules/module.py\", line 1518, in _wrapped_call_impl\n",
      "\u001b[34m\u001b[1mwandb\u001b[0m: \u001b[32m\u001b[41mERROR\u001b[0m     return self._call_impl(*args, **kwargs)\n",
      "\u001b[34m\u001b[1mwandb\u001b[0m: \u001b[32m\u001b[41mERROR\u001b[0m   File \"/Users/jjaniak/anaconda3/envs/studia_projekt/lib/python3.8/site-packages/torch/nn/modules/module.py\", line 1527, in _call_impl\n",
      "\u001b[34m\u001b[1mwandb\u001b[0m: \u001b[32m\u001b[41mERROR\u001b[0m     return forward_call(*args, **kwargs)\n",
      "\u001b[34m\u001b[1mwandb\u001b[0m: \u001b[32m\u001b[41mERROR\u001b[0m   File \"/Users/jjaniak/Documents/studia/projekt/gradient/notebooks/downstream_tasks/../../src/baseline_models/HeteroGNN/HeteroGNN.py\", line 59, in forward\n",
      "\u001b[34m\u001b[1mwandb\u001b[0m: \u001b[32m\u001b[41mERROR\u001b[0m     value = self._forward(x_dict, edge_index_dict, edge_atrr_dict)\n",
      "\u001b[34m\u001b[1mwandb\u001b[0m: \u001b[32m\u001b[41mERROR\u001b[0m   File \"/Users/jjaniak/Documents/studia/projekt/gradient/notebooks/downstream_tasks/../../src/baseline_models/HeteroGNN/HeteroGNN.py\", line 74, in _forward\n",
      "\u001b[34m\u001b[1mwandb\u001b[0m: \u001b[32m\u001b[41mERROR\u001b[0m     x_dict = conv(x_dict, edge_index_dict, edge_atrr_dict)\n",
      "\u001b[34m\u001b[1mwandb\u001b[0m: \u001b[32m\u001b[41mERROR\u001b[0m   File \"/Users/jjaniak/anaconda3/envs/studia_projekt/lib/python3.8/site-packages/torch/nn/modules/module.py\", line 1518, in _wrapped_call_impl\n",
      "\u001b[34m\u001b[1mwandb\u001b[0m: \u001b[32m\u001b[41mERROR\u001b[0m     return self._call_impl(*args, **kwargs)\n",
      "\u001b[34m\u001b[1mwandb\u001b[0m: \u001b[32m\u001b[41mERROR\u001b[0m   File \"/Users/jjaniak/anaconda3/envs/studia_projekt/lib/python3.8/site-packages/torch/nn/modules/module.py\", line 1527, in _call_impl\n",
      "\u001b[34m\u001b[1mwandb\u001b[0m: \u001b[32m\u001b[41mERROR\u001b[0m     return forward_call(*args, **kwargs)\n",
      "\u001b[34m\u001b[1mwandb\u001b[0m: \u001b[32m\u001b[41mERROR\u001b[0m   File \"/Users/jjaniak/anaconda3/envs/studia_projekt/lib/python3.8/site-packages/torch_geometric/nn/conv/hetero_conv.py\", line 159, in forward\n",
      "\u001b[34m\u001b[1mwandb\u001b[0m: \u001b[32m\u001b[41mERROR\u001b[0m     out = self.convs[edge_type](*args, **kwargs)\n",
      "\u001b[34m\u001b[1mwandb\u001b[0m: \u001b[32m\u001b[41mERROR\u001b[0m   File \"/Users/jjaniak/anaconda3/envs/studia_projekt/lib/python3.8/site-packages/torch/nn/modules/module.py\", line 1518, in _wrapped_call_impl\n",
      "\u001b[34m\u001b[1mwandb\u001b[0m: \u001b[32m\u001b[41mERROR\u001b[0m     return self._call_impl(*args, **kwargs)\n",
      "\u001b[34m\u001b[1mwandb\u001b[0m: \u001b[32m\u001b[41mERROR\u001b[0m   File \"/Users/jjaniak/anaconda3/envs/studia_projekt/lib/python3.8/site-packages/torch/nn/modules/module.py\", line 1527, in _call_impl\n",
      "\u001b[34m\u001b[1mwandb\u001b[0m: \u001b[32m\u001b[41mERROR\u001b[0m     return forward_call(*args, **kwargs)\n",
      "\u001b[34m\u001b[1mwandb\u001b[0m: \u001b[32m\u001b[41mERROR\u001b[0m   File \"/Users/jjaniak/anaconda3/envs/studia_projekt/lib/python3.8/site-packages/torch_geometric/nn/conv/gat_conv.py\", line 252, in forward\n",
      "\u001b[34m\u001b[1mwandb\u001b[0m: \u001b[32m\u001b[41mERROR\u001b[0m     alpha = self.edge_updater(edge_index, alpha=alpha, edge_attr=edge_attr)\n",
      "\u001b[34m\u001b[1mwandb\u001b[0m: \u001b[32m\u001b[41mERROR\u001b[0m   File \"/Users/jjaniak/anaconda3/envs/studia_projekt/lib/python3.8/site-packages/torch_geometric/nn/conv/message_passing.py\", line 527, in edge_updater\n",
      "\u001b[34m\u001b[1mwandb\u001b[0m: \u001b[32m\u001b[41mERROR\u001b[0m     out = self.edge_update(**edge_kwargs)\n",
      "\u001b[34m\u001b[1mwandb\u001b[0m: \u001b[32m\u001b[41mERROR\u001b[0m   File \"/Users/jjaniak/anaconda3/envs/studia_projekt/lib/python3.8/site-packages/torch_geometric/nn/conv/gat_conv.py\", line 295, in edge_update\n",
      "\u001b[34m\u001b[1mwandb\u001b[0m: \u001b[32m\u001b[41mERROR\u001b[0m     alpha = softmax(alpha, index, ptr, size_i)\n",
      "\u001b[34m\u001b[1mwandb\u001b[0m: \u001b[32m\u001b[41mERROR\u001b[0m   File \"/Users/jjaniak/anaconda3/envs/studia_projekt/lib/python3.8/site-packages/torch_geometric/utils/softmax.py\", line 65, in softmax\n",
      "\u001b[34m\u001b[1mwandb\u001b[0m: \u001b[32m\u001b[41mERROR\u001b[0m     src_max = scatter(src.detach(), index, dim, dim_size=N, reduce='max')\n",
      "\u001b[34m\u001b[1mwandb\u001b[0m: \u001b[32m\u001b[41mERROR\u001b[0m   File \"/Users/jjaniak/anaconda3/envs/studia_projekt/lib/python3.8/site-packages/torch_geometric/utils/scatter.py\", line 94, in scatter\n",
      "\u001b[34m\u001b[1mwandb\u001b[0m: \u001b[32m\u001b[41mERROR\u001b[0m     return src.new_zeros(size).scatter_reduce_(\n",
      "\u001b[34m\u001b[1mwandb\u001b[0m: \u001b[32m\u001b[41mERROR\u001b[0m NotImplementedError: The operator 'aten::scatter_reduce.two_out' is not currently implemented for the MPS device. If you want this op to be added in priority during the prototype phase of this feature, please comment on https://github.com/pytorch/pytorch/issues/77764. As a temporary fix, you can set the environment variable `PYTORCH_ENABLE_MPS_FALLBACK=1` to use the CPU as a fallback for this op. WARNING: this will be slower than running natively on MPS.\n",
      "\u001b[34m\u001b[1mwandb\u001b[0m: \u001b[32m\u001b[41mERROR\u001b[0m \n",
      "\u001b[34m\u001b[1mwandb\u001b[0m: Sweep Agent: Waiting for job.\n",
      "\u001b[34m\u001b[1mwandb\u001b[0m: Job received.\n",
      "\u001b[34m\u001b[1mwandb\u001b[0m: Agent Starting Run: ov2lgtee with config:\n",
      "\u001b[34m\u001b[1mwandb\u001b[0m: \thidden_channels: 50\n",
      "\u001b[34m\u001b[1mwandb\u001b[0m: \tlearning_rate: 0.0002322818541610757\n",
      "\u001b[34m\u001b[1mwandb\u001b[0m: \tlin_layer_size: 32\n",
      "\u001b[34m\u001b[1mwandb\u001b[0m: \tnum_conv_layers: 1\n",
      "\u001b[34m\u001b[1mwandb\u001b[0m: \tnum_lin_layers: 3\n",
      "\u001b[34m\u001b[1mwandb\u001b[0m: \tweight_decay: 0.00010312720615804524\n",
      "Failed to detect the name of this notebook, you can set it manually with the WANDB_NOTEBOOK_NAME environment variable to enable code saving.\n"
     ]
    },
    {
     "data": {
      "text/html": [
       "wandb version 0.17.1 is available!  To upgrade, please run:\n",
       " $ pip install wandb --upgrade"
      ],
      "text/plain": [
       "<IPython.core.display.HTML object>"
      ]
     },
     "metadata": {},
     "output_type": "display_data"
    },
    {
     "data": {
      "text/html": [
       "Tracking run with wandb version 0.16.4"
      ],
      "text/plain": [
       "<IPython.core.display.HTML object>"
      ]
     },
     "metadata": {},
     "output_type": "display_data"
    },
    {
     "data": {
      "text/html": [
       "Run data is saved locally in <code>/Users/jjaniak/Documents/studia/projekt/gradient/notebooks/downstream_tasks/wandb/run-20240607_180534-ov2lgtee</code>"
      ],
      "text/plain": [
       "<IPython.core.display.HTML object>"
      ]
     },
     "metadata": {},
     "output_type": "display_data"
    },
    {
     "data": {
      "text/html": [
       "Syncing run <strong><a href='https://wandb.ai/gradient_pwr/accidents-downstream-task-v2/runs/ov2lgtee' target=\"_blank\">faithful-sweep-2</a></strong> to <a href='https://wandb.ai/gradient_pwr/accidents-downstream-task-v2' target=\"_blank\">Weights & Biases</a> (<a href='https://wandb.me/run' target=\"_blank\">docs</a>)<br/>Sweep page: <a href='https://wandb.ai/gradient_pwr/accidents-downstream-task-v2/sweeps/dv87z9ro' target=\"_blank\">https://wandb.ai/gradient_pwr/accidents-downstream-task-v2/sweeps/dv87z9ro</a>"
      ],
      "text/plain": [
       "<IPython.core.display.HTML object>"
      ]
     },
     "metadata": {},
     "output_type": "display_data"
    },
    {
     "data": {
      "text/html": [
       " View project at <a href='https://wandb.ai/gradient_pwr/accidents-downstream-task-v2' target=\"_blank\">https://wandb.ai/gradient_pwr/accidents-downstream-task-v2</a>"
      ],
      "text/plain": [
       "<IPython.core.display.HTML object>"
      ]
     },
     "metadata": {},
     "output_type": "display_data"
    },
    {
     "data": {
      "text/html": [
       " View sweep at <a href='https://wandb.ai/gradient_pwr/accidents-downstream-task-v2/sweeps/dv87z9ro' target=\"_blank\">https://wandb.ai/gradient_pwr/accidents-downstream-task-v2/sweeps/dv87z9ro</a>"
      ],
      "text/plain": [
       "<IPython.core.display.HTML object>"
      ]
     },
     "metadata": {},
     "output_type": "display_data"
    },
    {
     "data": {
      "text/html": [
       " View run at <a href='https://wandb.ai/gradient_pwr/accidents-downstream-task-v2/runs/ov2lgtee' target=\"_blank\">https://wandb.ai/gradient_pwr/accidents-downstream-task-v2/runs/ov2lgtee</a>"
      ],
      "text/plain": [
       "<IPython.core.display.HTML object>"
      ]
     },
     "metadata": {},
     "output_type": "display_data"
    },
    {
     "name": "stderr",
     "output_type": "stream",
     "text": [
      "/Users/jjaniak/anaconda3/envs/studia_projekt/lib/python3.8/site-packages/torch_geometric/deprecation.py:22: UserWarning: 'data.DataLoader' is deprecated, use 'loader.DataLoader' instead\n",
      "  warnings.warn(out)\n",
      "GPU available: True (mps), used: True\n",
      "TPU available: False, using: 0 TPU cores\n",
      "IPU available: False, using: 0 IPUs\n",
      "HPU available: False, using: 0 HPUs\n",
      "Missing logger folder: ../../gradient_logs/2024_06_07_18_05_39/lightning_logs\n",
      "\n",
      "  | Name  | Type      | Params\n",
      "------------------------------------\n",
      "0 | model | HeteroGNN | 14.8 K\n",
      "------------------------------------\n",
      "14.8 K    Trainable params\n",
      "0         Non-trainable params\n",
      "14.8 K    Total params\n",
      "0.059     Total estimated model params size (MB)\n"
     ]
    },
    {
     "data": {
      "application/vnd.jupyter.widget-view+json": {
       "model_id": "9f73db3553474ba5afed79d8d0db07dd",
       "version_major": 2,
       "version_minor": 0
      },
      "text/plain": [
       "Sanity Checking: |          | 0/? [00:00<?, ?it/s]"
      ]
     },
     "metadata": {},
     "output_type": "display_data"
    },
    {
     "name": "stderr",
     "output_type": "stream",
     "text": [
      "/Users/jjaniak/anaconda3/envs/studia_projekt/lib/python3.8/site-packages/pytorch_lightning/trainer/connectors/data_connector.py:441: The 'val_dataloader' does not have many workers which may be a bottleneck. Consider increasing the value of the `num_workers` argument` to `num_workers=11` in the `DataLoader` to improve performance.\n"
     ]
    },
    {
     "data": {
      "application/vnd.jupyter.widget-view+json": {
       "model_id": "ea2d64bd45e749558c0f1429a6ab284d",
       "version_major": 2,
       "version_minor": 0
      },
      "text/plain": [
       "VBox(children=(Label(value='0.001 MB of 0.001 MB uploaded\\r'), FloatProgress(value=1.0, max=1.0)))"
      ]
     },
     "metadata": {},
     "output_type": "display_data"
    },
    {
     "data": {
      "text/html": [
       "<style>\n",
       "    table.wandb td:nth-child(1) { padding: 0 10px; text-align: left ; width: auto;} td:nth-child(2) {text-align: left ; width: 100%}\n",
       "    .wandb-row { display: flex; flex-direction: row; flex-wrap: wrap; justify-content: flex-start; width: 100% }\n",
       "    .wandb-col { display: flex; flex-direction: column; flex-basis: 100%; flex: 1; padding: 10px; }\n",
       "    </style>\n",
       "<div class=\"wandb-row\"><div class=\"wandb-col\"><h3>Run history:</h3><br/><table class=\"wandb\"><tr><td>USE_HEXES_ATTRS</td><td>▁</td></tr><tr><td>USE_ORTOPHOTO</td><td>▁</td></tr><tr><td>USE_OSMNX_ATTRS</td><td>▁</td></tr></table><br/></div><div class=\"wandb-col\"><h3>Run summary:</h3><br/><table class=\"wandb\"><tr><td>USE_HEXES_ATTRS</td><td>1</td></tr><tr><td>USE_ORTOPHOTO</td><td>0</td></tr><tr><td>USE_OSMNX_ATTRS</td><td>1</td></tr><tr><td>data_structure</td><td>graph</td></tr></table><br/></div></div>"
      ],
      "text/plain": [
       "<IPython.core.display.HTML object>"
      ]
     },
     "metadata": {},
     "output_type": "display_data"
    },
    {
     "data": {
      "text/html": [
       " View run <strong style=\"color:#cdcd00\">faithful-sweep-2</strong> at: <a href='https://wandb.ai/gradient_pwr/accidents-downstream-task-v2/runs/ov2lgtee' target=\"_blank\">https://wandb.ai/gradient_pwr/accidents-downstream-task-v2/runs/ov2lgtee</a><br/>Synced 6 W&B file(s), 0 media file(s), 0 artifact file(s) and 0 other file(s)"
      ],
      "text/plain": [
       "<IPython.core.display.HTML object>"
      ]
     },
     "metadata": {},
     "output_type": "display_data"
    },
    {
     "data": {
      "text/html": [
       "Find logs at: <code>./wandb/run-20240607_180534-ov2lgtee/logs</code>"
      ],
      "text/plain": [
       "<IPython.core.display.HTML object>"
      ]
     },
     "metadata": {},
     "output_type": "display_data"
    },
    {
     "name": "stderr",
     "output_type": "stream",
     "text": [
      "Run ov2lgtee errored:\n",
      "Traceback (most recent call last):\n",
      "  File \"/Users/jjaniak/anaconda3/envs/studia_projekt/lib/python3.8/site-packages/wandb/agents/pyagent.py\", line 308, in _run_job\n",
      "    self._function()\n",
      "  File \"/var/folders/4k/8js3jm9n457cm4_v631zyrkw0000gn/T/ipykernel_25686/3559290024.py\", line 62, in wrapped\n",
      "    auc, accuracy, f1, model_path = train(\n",
      "  File \"/Users/jjaniak/Documents/studia/projekt/gradient/notebooks/downstream_tasks/../../src/training/train.py\", line 84, in train\n",
      "    trainer.fit(model, train_loader, val_dataloaders=(val_loader or None))\n",
      "  File \"/Users/jjaniak/anaconda3/envs/studia_projekt/lib/python3.8/site-packages/pytorch_lightning/trainer/trainer.py\", line 545, in fit\n",
      "    call._call_and_handle_interrupt(\n",
      "  File \"/Users/jjaniak/anaconda3/envs/studia_projekt/lib/python3.8/site-packages/pytorch_lightning/trainer/call.py\", line 44, in _call_and_handle_interrupt\n",
      "    return trainer_fn(*args, **kwargs)\n",
      "  File \"/Users/jjaniak/anaconda3/envs/studia_projekt/lib/python3.8/site-packages/pytorch_lightning/trainer/trainer.py\", line 581, in _fit_impl\n",
      "    self._run(model, ckpt_path=ckpt_path)\n",
      "  File \"/Users/jjaniak/anaconda3/envs/studia_projekt/lib/python3.8/site-packages/pytorch_lightning/trainer/trainer.py\", line 990, in _run\n",
      "    results = self._run_stage()\n",
      "  File \"/Users/jjaniak/anaconda3/envs/studia_projekt/lib/python3.8/site-packages/pytorch_lightning/trainer/trainer.py\", line 1034, in _run_stage\n",
      "    self._run_sanity_check()\n",
      "  File \"/Users/jjaniak/anaconda3/envs/studia_projekt/lib/python3.8/site-packages/pytorch_lightning/trainer/trainer.py\", line 1063, in _run_sanity_check\n",
      "    val_loop.run()\n",
      "  File \"/Users/jjaniak/anaconda3/envs/studia_projekt/lib/python3.8/site-packages/pytorch_lightning/loops/utilities.py\", line 181, in _decorator\n",
      "    return loop_run(self, *args, **kwargs)\n",
      "  File \"/Users/jjaniak/anaconda3/envs/studia_projekt/lib/python3.8/site-packages/pytorch_lightning/loops/evaluation_loop.py\", line 134, in run\n",
      "    self._evaluation_step(batch, batch_idx, dataloader_idx, dataloader_iter)\n",
      "  File \"/Users/jjaniak/anaconda3/envs/studia_projekt/lib/python3.8/site-packages/pytorch_lightning/loops/evaluation_loop.py\", line 391, in _evaluation_step\n",
      "    output = call._call_strategy_hook(trainer, hook_name, *step_args)\n",
      "  File \"/Users/jjaniak/anaconda3/envs/studia_projekt/lib/python3.8/site-packages/pytorch_lightning/trainer/call.py\", line 309, in _call_strategy_hook\n",
      "    output = fn(*args, **kwargs)\n",
      "  File \"/Users/jjaniak/anaconda3/envs/studia_projekt/lib/python3.8/site-packages/pytorch_lightning/strategies/strategy.py\", line 403, in validation_step\n",
      "    return self.lightning_module.validation_step(*args, **kwargs)\n",
      "  File \"/Users/jjaniak/Documents/studia/projekt/gradient/notebooks/downstream_tasks/../../src/lightning/hetero_gnn_module.py\", line 57, in validation_step\n",
      "    y_hat = self.model(batch.x_dict, batch.edge_index_dict, batch.edge_attr_dict)\n",
      "  File \"/Users/jjaniak/anaconda3/envs/studia_projekt/lib/python3.8/site-packages/torch/nn/modules/module.py\", line 1518, in _wrapped_call_impl\n",
      "    return self._call_impl(*args, **kwargs)\n",
      "  File \"/Users/jjaniak/anaconda3/envs/studia_projekt/lib/python3.8/site-packages/torch/nn/modules/module.py\", line 1527, in _call_impl\n",
      "    return forward_call(*args, **kwargs)\n",
      "  File \"/Users/jjaniak/Documents/studia/projekt/gradient/notebooks/downstream_tasks/../../src/baseline_models/HeteroGNN/HeteroGNN.py\", line 59, in forward\n",
      "    value = self._forward(x_dict, edge_index_dict, edge_atrr_dict)\n",
      "  File \"/Users/jjaniak/Documents/studia/projekt/gradient/notebooks/downstream_tasks/../../src/baseline_models/HeteroGNN/HeteroGNN.py\", line 74, in _forward\n",
      "    x_dict = conv(x_dict, edge_index_dict, edge_atrr_dict)\n",
      "  File \"/Users/jjaniak/anaconda3/envs/studia_projekt/lib/python3.8/site-packages/torch/nn/modules/module.py\", line 1518, in _wrapped_call_impl\n",
      "    return self._call_impl(*args, **kwargs)\n",
      "  File \"/Users/jjaniak/anaconda3/envs/studia_projekt/lib/python3.8/site-packages/torch/nn/modules/module.py\", line 1527, in _call_impl\n",
      "    return forward_call(*args, **kwargs)\n",
      "  File \"/Users/jjaniak/anaconda3/envs/studia_projekt/lib/python3.8/site-packages/torch_geometric/nn/conv/hetero_conv.py\", line 159, in forward\n",
      "    out = self.convs[edge_type](*args, **kwargs)\n",
      "  File \"/Users/jjaniak/anaconda3/envs/studia_projekt/lib/python3.8/site-packages/torch/nn/modules/module.py\", line 1518, in _wrapped_call_impl\n",
      "    return self._call_impl(*args, **kwargs)\n",
      "  File \"/Users/jjaniak/anaconda3/envs/studia_projekt/lib/python3.8/site-packages/torch/nn/modules/module.py\", line 1527, in _call_impl\n",
      "    return forward_call(*args, **kwargs)\n",
      "  File \"/Users/jjaniak/anaconda3/envs/studia_projekt/lib/python3.8/site-packages/torch_geometric/nn/conv/gat_conv.py\", line 252, in forward\n",
      "    alpha = self.edge_updater(edge_index, alpha=alpha, edge_attr=edge_attr)\n",
      "  File \"/Users/jjaniak/anaconda3/envs/studia_projekt/lib/python3.8/site-packages/torch_geometric/nn/conv/message_passing.py\", line 527, in edge_updater\n",
      "    out = self.edge_update(**edge_kwargs)\n",
      "  File \"/Users/jjaniak/anaconda3/envs/studia_projekt/lib/python3.8/site-packages/torch_geometric/nn/conv/gat_conv.py\", line 295, in edge_update\n",
      "    alpha = softmax(alpha, index, ptr, size_i)\n",
      "  File \"/Users/jjaniak/anaconda3/envs/studia_projekt/lib/python3.8/site-packages/torch_geometric/utils/softmax.py\", line 65, in softmax\n",
      "    src_max = scatter(src.detach(), index, dim, dim_size=N, reduce='max')\n",
      "  File \"/Users/jjaniak/anaconda3/envs/studia_projekt/lib/python3.8/site-packages/torch_geometric/utils/scatter.py\", line 94, in scatter\n",
      "    return src.new_zeros(size).scatter_reduce_(\n",
      "NotImplementedError: The operator 'aten::scatter_reduce.two_out' is not currently implemented for the MPS device. If you want this op to be added in priority during the prototype phase of this feature, please comment on https://github.com/pytorch/pytorch/issues/77764. As a temporary fix, you can set the environment variable `PYTORCH_ENABLE_MPS_FALLBACK=1` to use the CPU as a fallback for this op. WARNING: this will be slower than running natively on MPS.\n",
      "\n",
      "\u001b[34m\u001b[1mwandb\u001b[0m: \u001b[32m\u001b[41mERROR\u001b[0m Run ov2lgtee errored:\n",
      "\u001b[34m\u001b[1mwandb\u001b[0m: \u001b[32m\u001b[41mERROR\u001b[0m Traceback (most recent call last):\n",
      "\u001b[34m\u001b[1mwandb\u001b[0m: \u001b[32m\u001b[41mERROR\u001b[0m   File \"/Users/jjaniak/anaconda3/envs/studia_projekt/lib/python3.8/site-packages/wandb/agents/pyagent.py\", line 308, in _run_job\n",
      "\u001b[34m\u001b[1mwandb\u001b[0m: \u001b[32m\u001b[41mERROR\u001b[0m     self._function()\n",
      "\u001b[34m\u001b[1mwandb\u001b[0m: \u001b[32m\u001b[41mERROR\u001b[0m   File \"/var/folders/4k/8js3jm9n457cm4_v631zyrkw0000gn/T/ipykernel_25686/3559290024.py\", line 62, in wrapped\n",
      "\u001b[34m\u001b[1mwandb\u001b[0m: \u001b[32m\u001b[41mERROR\u001b[0m     auc, accuracy, f1, model_path = train(\n",
      "\u001b[34m\u001b[1mwandb\u001b[0m: \u001b[32m\u001b[41mERROR\u001b[0m   File \"/Users/jjaniak/Documents/studia/projekt/gradient/notebooks/downstream_tasks/../../src/training/train.py\", line 84, in train\n",
      "\u001b[34m\u001b[1mwandb\u001b[0m: \u001b[32m\u001b[41mERROR\u001b[0m     trainer.fit(model, train_loader, val_dataloaders=(val_loader or None))\n",
      "\u001b[34m\u001b[1mwandb\u001b[0m: \u001b[32m\u001b[41mERROR\u001b[0m   File \"/Users/jjaniak/anaconda3/envs/studia_projekt/lib/python3.8/site-packages/pytorch_lightning/trainer/trainer.py\", line 545, in fit\n",
      "\u001b[34m\u001b[1mwandb\u001b[0m: \u001b[32m\u001b[41mERROR\u001b[0m     call._call_and_handle_interrupt(\n",
      "\u001b[34m\u001b[1mwandb\u001b[0m: \u001b[32m\u001b[41mERROR\u001b[0m   File \"/Users/jjaniak/anaconda3/envs/studia_projekt/lib/python3.8/site-packages/pytorch_lightning/trainer/call.py\", line 44, in _call_and_handle_interrupt\n",
      "\u001b[34m\u001b[1mwandb\u001b[0m: \u001b[32m\u001b[41mERROR\u001b[0m     return trainer_fn(*args, **kwargs)\n",
      "\u001b[34m\u001b[1mwandb\u001b[0m: \u001b[32m\u001b[41mERROR\u001b[0m   File \"/Users/jjaniak/anaconda3/envs/studia_projekt/lib/python3.8/site-packages/pytorch_lightning/trainer/trainer.py\", line 581, in _fit_impl\n",
      "\u001b[34m\u001b[1mwandb\u001b[0m: \u001b[32m\u001b[41mERROR\u001b[0m     self._run(model, ckpt_path=ckpt_path)\n",
      "\u001b[34m\u001b[1mwandb\u001b[0m: \u001b[32m\u001b[41mERROR\u001b[0m   File \"/Users/jjaniak/anaconda3/envs/studia_projekt/lib/python3.8/site-packages/pytorch_lightning/trainer/trainer.py\", line 990, in _run\n",
      "\u001b[34m\u001b[1mwandb\u001b[0m: \u001b[32m\u001b[41mERROR\u001b[0m     results = self._run_stage()\n",
      "\u001b[34m\u001b[1mwandb\u001b[0m: \u001b[32m\u001b[41mERROR\u001b[0m   File \"/Users/jjaniak/anaconda3/envs/studia_projekt/lib/python3.8/site-packages/pytorch_lightning/trainer/trainer.py\", line 1034, in _run_stage\n",
      "\u001b[34m\u001b[1mwandb\u001b[0m: \u001b[32m\u001b[41mERROR\u001b[0m     self._run_sanity_check()\n",
      "\u001b[34m\u001b[1mwandb\u001b[0m: \u001b[32m\u001b[41mERROR\u001b[0m   File \"/Users/jjaniak/anaconda3/envs/studia_projekt/lib/python3.8/site-packages/pytorch_lightning/trainer/trainer.py\", line 1063, in _run_sanity_check\n",
      "\u001b[34m\u001b[1mwandb\u001b[0m: \u001b[32m\u001b[41mERROR\u001b[0m     val_loop.run()\n",
      "\u001b[34m\u001b[1mwandb\u001b[0m: \u001b[32m\u001b[41mERROR\u001b[0m   File \"/Users/jjaniak/anaconda3/envs/studia_projekt/lib/python3.8/site-packages/pytorch_lightning/loops/utilities.py\", line 181, in _decorator\n",
      "\u001b[34m\u001b[1mwandb\u001b[0m: \u001b[32m\u001b[41mERROR\u001b[0m     return loop_run(self, *args, **kwargs)\n",
      "\u001b[34m\u001b[1mwandb\u001b[0m: \u001b[32m\u001b[41mERROR\u001b[0m   File \"/Users/jjaniak/anaconda3/envs/studia_projekt/lib/python3.8/site-packages/pytorch_lightning/loops/evaluation_loop.py\", line 134, in run\n",
      "\u001b[34m\u001b[1mwandb\u001b[0m: \u001b[32m\u001b[41mERROR\u001b[0m     self._evaluation_step(batch, batch_idx, dataloader_idx, dataloader_iter)\n",
      "\u001b[34m\u001b[1mwandb\u001b[0m: \u001b[32m\u001b[41mERROR\u001b[0m   File \"/Users/jjaniak/anaconda3/envs/studia_projekt/lib/python3.8/site-packages/pytorch_lightning/loops/evaluation_loop.py\", line 391, in _evaluation_step\n",
      "\u001b[34m\u001b[1mwandb\u001b[0m: \u001b[32m\u001b[41mERROR\u001b[0m     output = call._call_strategy_hook(trainer, hook_name, *step_args)\n",
      "\u001b[34m\u001b[1mwandb\u001b[0m: \u001b[32m\u001b[41mERROR\u001b[0m   File \"/Users/jjaniak/anaconda3/envs/studia_projekt/lib/python3.8/site-packages/pytorch_lightning/trainer/call.py\", line 309, in _call_strategy_hook\n",
      "\u001b[34m\u001b[1mwandb\u001b[0m: \u001b[32m\u001b[41mERROR\u001b[0m     output = fn(*args, **kwargs)\n",
      "\u001b[34m\u001b[1mwandb\u001b[0m: \u001b[32m\u001b[41mERROR\u001b[0m   File \"/Users/jjaniak/anaconda3/envs/studia_projekt/lib/python3.8/site-packages/pytorch_lightning/strategies/strategy.py\", line 403, in validation_step\n",
      "\u001b[34m\u001b[1mwandb\u001b[0m: \u001b[32m\u001b[41mERROR\u001b[0m     return self.lightning_module.validation_step(*args, **kwargs)\n",
      "\u001b[34m\u001b[1mwandb\u001b[0m: \u001b[32m\u001b[41mERROR\u001b[0m   File \"/Users/jjaniak/Documents/studia/projekt/gradient/notebooks/downstream_tasks/../../src/lightning/hetero_gnn_module.py\", line 57, in validation_step\n",
      "\u001b[34m\u001b[1mwandb\u001b[0m: \u001b[32m\u001b[41mERROR\u001b[0m     y_hat = self.model(batch.x_dict, batch.edge_index_dict, batch.edge_attr_dict)\n",
      "\u001b[34m\u001b[1mwandb\u001b[0m: \u001b[32m\u001b[41mERROR\u001b[0m   File \"/Users/jjaniak/anaconda3/envs/studia_projekt/lib/python3.8/site-packages/torch/nn/modules/module.py\", line 1518, in _wrapped_call_impl\n",
      "\u001b[34m\u001b[1mwandb\u001b[0m: \u001b[32m\u001b[41mERROR\u001b[0m     return self._call_impl(*args, **kwargs)\n",
      "\u001b[34m\u001b[1mwandb\u001b[0m: \u001b[32m\u001b[41mERROR\u001b[0m   File \"/Users/jjaniak/anaconda3/envs/studia_projekt/lib/python3.8/site-packages/torch/nn/modules/module.py\", line 1527, in _call_impl\n",
      "\u001b[34m\u001b[1mwandb\u001b[0m: \u001b[32m\u001b[41mERROR\u001b[0m     return forward_call(*args, **kwargs)\n",
      "\u001b[34m\u001b[1mwandb\u001b[0m: \u001b[32m\u001b[41mERROR\u001b[0m   File \"/Users/jjaniak/Documents/studia/projekt/gradient/notebooks/downstream_tasks/../../src/baseline_models/HeteroGNN/HeteroGNN.py\", line 59, in forward\n",
      "\u001b[34m\u001b[1mwandb\u001b[0m: \u001b[32m\u001b[41mERROR\u001b[0m     value = self._forward(x_dict, edge_index_dict, edge_atrr_dict)\n",
      "\u001b[34m\u001b[1mwandb\u001b[0m: \u001b[32m\u001b[41mERROR\u001b[0m   File \"/Users/jjaniak/Documents/studia/projekt/gradient/notebooks/downstream_tasks/../../src/baseline_models/HeteroGNN/HeteroGNN.py\", line 74, in _forward\n",
      "\u001b[34m\u001b[1mwandb\u001b[0m: \u001b[32m\u001b[41mERROR\u001b[0m     x_dict = conv(x_dict, edge_index_dict, edge_atrr_dict)\n",
      "\u001b[34m\u001b[1mwandb\u001b[0m: \u001b[32m\u001b[41mERROR\u001b[0m   File \"/Users/jjaniak/anaconda3/envs/studia_projekt/lib/python3.8/site-packages/torch/nn/modules/module.py\", line 1518, in _wrapped_call_impl\n",
      "\u001b[34m\u001b[1mwandb\u001b[0m: \u001b[32m\u001b[41mERROR\u001b[0m     return self._call_impl(*args, **kwargs)\n",
      "\u001b[34m\u001b[1mwandb\u001b[0m: \u001b[32m\u001b[41mERROR\u001b[0m   File \"/Users/jjaniak/anaconda3/envs/studia_projekt/lib/python3.8/site-packages/torch/nn/modules/module.py\", line 1527, in _call_impl\n",
      "\u001b[34m\u001b[1mwandb\u001b[0m: \u001b[32m\u001b[41mERROR\u001b[0m     return forward_call(*args, **kwargs)\n",
      "\u001b[34m\u001b[1mwandb\u001b[0m: \u001b[32m\u001b[41mERROR\u001b[0m   File \"/Users/jjaniak/anaconda3/envs/studia_projekt/lib/python3.8/site-packages/torch_geometric/nn/conv/hetero_conv.py\", line 159, in forward\n",
      "\u001b[34m\u001b[1mwandb\u001b[0m: \u001b[32m\u001b[41mERROR\u001b[0m     out = self.convs[edge_type](*args, **kwargs)\n",
      "\u001b[34m\u001b[1mwandb\u001b[0m: \u001b[32m\u001b[41mERROR\u001b[0m   File \"/Users/jjaniak/anaconda3/envs/studia_projekt/lib/python3.8/site-packages/torch/nn/modules/module.py\", line 1518, in _wrapped_call_impl\n",
      "\u001b[34m\u001b[1mwandb\u001b[0m: \u001b[32m\u001b[41mERROR\u001b[0m     return self._call_impl(*args, **kwargs)\n",
      "\u001b[34m\u001b[1mwandb\u001b[0m: \u001b[32m\u001b[41mERROR\u001b[0m   File \"/Users/jjaniak/anaconda3/envs/studia_projekt/lib/python3.8/site-packages/torch/nn/modules/module.py\", line 1527, in _call_impl\n",
      "\u001b[34m\u001b[1mwandb\u001b[0m: \u001b[32m\u001b[41mERROR\u001b[0m     return forward_call(*args, **kwargs)\n",
      "\u001b[34m\u001b[1mwandb\u001b[0m: \u001b[32m\u001b[41mERROR\u001b[0m   File \"/Users/jjaniak/anaconda3/envs/studia_projekt/lib/python3.8/site-packages/torch_geometric/nn/conv/gat_conv.py\", line 252, in forward\n",
      "\u001b[34m\u001b[1mwandb\u001b[0m: \u001b[32m\u001b[41mERROR\u001b[0m     alpha = self.edge_updater(edge_index, alpha=alpha, edge_attr=edge_attr)\n",
      "\u001b[34m\u001b[1mwandb\u001b[0m: \u001b[32m\u001b[41mERROR\u001b[0m   File \"/Users/jjaniak/anaconda3/envs/studia_projekt/lib/python3.8/site-packages/torch_geometric/nn/conv/message_passing.py\", line 527, in edge_updater\n",
      "\u001b[34m\u001b[1mwandb\u001b[0m: \u001b[32m\u001b[41mERROR\u001b[0m     out = self.edge_update(**edge_kwargs)\n",
      "\u001b[34m\u001b[1mwandb\u001b[0m: \u001b[32m\u001b[41mERROR\u001b[0m   File \"/Users/jjaniak/anaconda3/envs/studia_projekt/lib/python3.8/site-packages/torch_geometric/nn/conv/gat_conv.py\", line 295, in edge_update\n",
      "\u001b[34m\u001b[1mwandb\u001b[0m: \u001b[32m\u001b[41mERROR\u001b[0m     alpha = softmax(alpha, index, ptr, size_i)\n",
      "\u001b[34m\u001b[1mwandb\u001b[0m: \u001b[32m\u001b[41mERROR\u001b[0m   File \"/Users/jjaniak/anaconda3/envs/studia_projekt/lib/python3.8/site-packages/torch_geometric/utils/softmax.py\", line 65, in softmax\n",
      "\u001b[34m\u001b[1mwandb\u001b[0m: \u001b[32m\u001b[41mERROR\u001b[0m     src_max = scatter(src.detach(), index, dim, dim_size=N, reduce='max')\n",
      "\u001b[34m\u001b[1mwandb\u001b[0m: \u001b[32m\u001b[41mERROR\u001b[0m   File \"/Users/jjaniak/anaconda3/envs/studia_projekt/lib/python3.8/site-packages/torch_geometric/utils/scatter.py\", line 94, in scatter\n",
      "\u001b[34m\u001b[1mwandb\u001b[0m: \u001b[32m\u001b[41mERROR\u001b[0m     return src.new_zeros(size).scatter_reduce_(\n",
      "\u001b[34m\u001b[1mwandb\u001b[0m: \u001b[32m\u001b[41mERROR\u001b[0m NotImplementedError: The operator 'aten::scatter_reduce.two_out' is not currently implemented for the MPS device. If you want this op to be added in priority during the prototype phase of this feature, please comment on https://github.com/pytorch/pytorch/issues/77764. As a temporary fix, you can set the environment variable `PYTORCH_ENABLE_MPS_FALLBACK=1` to use the CPU as a fallback for this op. WARNING: this will be slower than running natively on MPS.\n",
      "\u001b[34m\u001b[1mwandb\u001b[0m: \u001b[32m\u001b[41mERROR\u001b[0m \n",
      "\u001b[34m\u001b[1mwandb\u001b[0m: Agent Starting Run: u1igbv8y with config:\n",
      "\u001b[34m\u001b[1mwandb\u001b[0m: \thidden_channels: 40\n",
      "\u001b[34m\u001b[1mwandb\u001b[0m: \tlearning_rate: 0.002334886857068806\n",
      "\u001b[34m\u001b[1mwandb\u001b[0m: \tlin_layer_size: 8\n",
      "\u001b[34m\u001b[1mwandb\u001b[0m: \tnum_conv_layers: 2\n",
      "\u001b[34m\u001b[1mwandb\u001b[0m: \tnum_lin_layers: 2\n",
      "\u001b[34m\u001b[1mwandb\u001b[0m: \tweight_decay: 0.000910572556535898\n",
      "Failed to detect the name of this notebook, you can set it manually with the WANDB_NOTEBOOK_NAME environment variable to enable code saving.\n"
     ]
    },
    {
     "data": {
      "text/html": [
       "wandb version 0.17.1 is available!  To upgrade, please run:\n",
       " $ pip install wandb --upgrade"
      ],
      "text/plain": [
       "<IPython.core.display.HTML object>"
      ]
     },
     "metadata": {},
     "output_type": "display_data"
    },
    {
     "data": {
      "text/html": [
       "Tracking run with wandb version 0.16.4"
      ],
      "text/plain": [
       "<IPython.core.display.HTML object>"
      ]
     },
     "metadata": {},
     "output_type": "display_data"
    },
    {
     "data": {
      "text/html": [
       "Run data is saved locally in <code>/Users/jjaniak/Documents/studia/projekt/gradient/notebooks/downstream_tasks/wandb/run-20240607_180551-u1igbv8y</code>"
      ],
      "text/plain": [
       "<IPython.core.display.HTML object>"
      ]
     },
     "metadata": {},
     "output_type": "display_data"
    },
    {
     "data": {
      "text/html": [
       "Syncing run <strong><a href='https://wandb.ai/gradient_pwr/accidents-downstream-task-v2/runs/u1igbv8y' target=\"_blank\">fearless-sweep-3</a></strong> to <a href='https://wandb.ai/gradient_pwr/accidents-downstream-task-v2' target=\"_blank\">Weights & Biases</a> (<a href='https://wandb.me/run' target=\"_blank\">docs</a>)<br/>Sweep page: <a href='https://wandb.ai/gradient_pwr/accidents-downstream-task-v2/sweeps/dv87z9ro' target=\"_blank\">https://wandb.ai/gradient_pwr/accidents-downstream-task-v2/sweeps/dv87z9ro</a>"
      ],
      "text/plain": [
       "<IPython.core.display.HTML object>"
      ]
     },
     "metadata": {},
     "output_type": "display_data"
    },
    {
     "data": {
      "text/html": [
       " View project at <a href='https://wandb.ai/gradient_pwr/accidents-downstream-task-v2' target=\"_blank\">https://wandb.ai/gradient_pwr/accidents-downstream-task-v2</a>"
      ],
      "text/plain": [
       "<IPython.core.display.HTML object>"
      ]
     },
     "metadata": {},
     "output_type": "display_data"
    },
    {
     "data": {
      "text/html": [
       " View sweep at <a href='https://wandb.ai/gradient_pwr/accidents-downstream-task-v2/sweeps/dv87z9ro' target=\"_blank\">https://wandb.ai/gradient_pwr/accidents-downstream-task-v2/sweeps/dv87z9ro</a>"
      ],
      "text/plain": [
       "<IPython.core.display.HTML object>"
      ]
     },
     "metadata": {},
     "output_type": "display_data"
    },
    {
     "data": {
      "text/html": [
       " View run at <a href='https://wandb.ai/gradient_pwr/accidents-downstream-task-v2/runs/u1igbv8y' target=\"_blank\">https://wandb.ai/gradient_pwr/accidents-downstream-task-v2/runs/u1igbv8y</a>"
      ],
      "text/plain": [
       "<IPython.core.display.HTML object>"
      ]
     },
     "metadata": {},
     "output_type": "display_data"
    },
    {
     "name": "stderr",
     "output_type": "stream",
     "text": [
      "/Users/jjaniak/anaconda3/envs/studia_projekt/lib/python3.8/site-packages/torch_geometric/deprecation.py:22: UserWarning: 'data.DataLoader' is deprecated, use 'loader.DataLoader' instead\n",
      "  warnings.warn(out)\n",
      "GPU available: True (mps), used: True\n",
      "TPU available: False, using: 0 TPU cores\n",
      "IPU available: False, using: 0 IPUs\n",
      "HPU available: False, using: 0 HPUs\n",
      "Missing logger folder: ../../gradient_logs/2024_06_07_18_05_56/lightning_logs\n",
      "\n",
      "  | Name  | Type      | Params\n",
      "------------------------------------\n",
      "0 | model | HeteroGNN | 15.2 K\n",
      "------------------------------------\n",
      "15.2 K    Trainable params\n",
      "0         Non-trainable params\n",
      "15.2 K    Total params\n",
      "0.061     Total estimated model params size (MB)\n"
     ]
    },
    {
     "data": {
      "application/vnd.jupyter.widget-view+json": {
       "model_id": "22473acd76d24f73b74a5312cbb07946",
       "version_major": 2,
       "version_minor": 0
      },
      "text/plain": [
       "Sanity Checking: |          | 0/? [00:00<?, ?it/s]"
      ]
     },
     "metadata": {},
     "output_type": "display_data"
    },
    {
     "name": "stderr",
     "output_type": "stream",
     "text": [
      "/Users/jjaniak/anaconda3/envs/studia_projekt/lib/python3.8/site-packages/pytorch_lightning/trainer/connectors/data_connector.py:441: The 'val_dataloader' does not have many workers which may be a bottleneck. Consider increasing the value of the `num_workers` argument` to `num_workers=11` in the `DataLoader` to improve performance.\n"
     ]
    },
    {
     "data": {
      "application/vnd.jupyter.widget-view+json": {
       "model_id": "e893a92052ff484ebd11a16cae314a28",
       "version_major": 2,
       "version_minor": 0
      },
      "text/plain": [
       "VBox(children=(Label(value='0.001 MB of 0.001 MB uploaded\\r'), FloatProgress(value=1.0, max=1.0)))"
      ]
     },
     "metadata": {},
     "output_type": "display_data"
    },
    {
     "data": {
      "text/html": [
       "<style>\n",
       "    table.wandb td:nth-child(1) { padding: 0 10px; text-align: left ; width: auto;} td:nth-child(2) {text-align: left ; width: 100%}\n",
       "    .wandb-row { display: flex; flex-direction: row; flex-wrap: wrap; justify-content: flex-start; width: 100% }\n",
       "    .wandb-col { display: flex; flex-direction: column; flex-basis: 100%; flex: 1; padding: 10px; }\n",
       "    </style>\n",
       "<div class=\"wandb-row\"><div class=\"wandb-col\"><h3>Run history:</h3><br/><table class=\"wandb\"><tr><td>USE_HEXES_ATTRS</td><td>▁</td></tr><tr><td>USE_ORTOPHOTO</td><td>▁</td></tr><tr><td>USE_OSMNX_ATTRS</td><td>▁</td></tr></table><br/></div><div class=\"wandb-col\"><h3>Run summary:</h3><br/><table class=\"wandb\"><tr><td>USE_HEXES_ATTRS</td><td>1</td></tr><tr><td>USE_ORTOPHOTO</td><td>0</td></tr><tr><td>USE_OSMNX_ATTRS</td><td>1</td></tr><tr><td>data_structure</td><td>graph</td></tr></table><br/></div></div>"
      ],
      "text/plain": [
       "<IPython.core.display.HTML object>"
      ]
     },
     "metadata": {},
     "output_type": "display_data"
    },
    {
     "data": {
      "text/html": [
       " View run <strong style=\"color:#cdcd00\">fearless-sweep-3</strong> at: <a href='https://wandb.ai/gradient_pwr/accidents-downstream-task-v2/runs/u1igbv8y' target=\"_blank\">https://wandb.ai/gradient_pwr/accidents-downstream-task-v2/runs/u1igbv8y</a><br/>Synced 6 W&B file(s), 0 media file(s), 0 artifact file(s) and 0 other file(s)"
      ],
      "text/plain": [
       "<IPython.core.display.HTML object>"
      ]
     },
     "metadata": {},
     "output_type": "display_data"
    },
    {
     "data": {
      "text/html": [
       "Find logs at: <code>./wandb/run-20240607_180551-u1igbv8y/logs</code>"
      ],
      "text/plain": [
       "<IPython.core.display.HTML object>"
      ]
     },
     "metadata": {},
     "output_type": "display_data"
    },
    {
     "name": "stderr",
     "output_type": "stream",
     "text": [
      "Run u1igbv8y errored:\n",
      "Traceback (most recent call last):\n",
      "  File \"/Users/jjaniak/anaconda3/envs/studia_projekt/lib/python3.8/site-packages/wandb/agents/pyagent.py\", line 308, in _run_job\n",
      "    self._function()\n",
      "  File \"/var/folders/4k/8js3jm9n457cm4_v631zyrkw0000gn/T/ipykernel_25686/3559290024.py\", line 62, in wrapped\n",
      "    auc, accuracy, f1, model_path = train(\n",
      "  File \"/Users/jjaniak/Documents/studia/projekt/gradient/notebooks/downstream_tasks/../../src/training/train.py\", line 84, in train\n",
      "    trainer.fit(model, train_loader, val_dataloaders=(val_loader or None))\n",
      "  File \"/Users/jjaniak/anaconda3/envs/studia_projekt/lib/python3.8/site-packages/pytorch_lightning/trainer/trainer.py\", line 545, in fit\n",
      "    call._call_and_handle_interrupt(\n",
      "  File \"/Users/jjaniak/anaconda3/envs/studia_projekt/lib/python3.8/site-packages/pytorch_lightning/trainer/call.py\", line 44, in _call_and_handle_interrupt\n",
      "    return trainer_fn(*args, **kwargs)\n",
      "  File \"/Users/jjaniak/anaconda3/envs/studia_projekt/lib/python3.8/site-packages/pytorch_lightning/trainer/trainer.py\", line 581, in _fit_impl\n",
      "    self._run(model, ckpt_path=ckpt_path)\n",
      "  File \"/Users/jjaniak/anaconda3/envs/studia_projekt/lib/python3.8/site-packages/pytorch_lightning/trainer/trainer.py\", line 990, in _run\n",
      "    results = self._run_stage()\n",
      "  File \"/Users/jjaniak/anaconda3/envs/studia_projekt/lib/python3.8/site-packages/pytorch_lightning/trainer/trainer.py\", line 1034, in _run_stage\n",
      "    self._run_sanity_check()\n",
      "  File \"/Users/jjaniak/anaconda3/envs/studia_projekt/lib/python3.8/site-packages/pytorch_lightning/trainer/trainer.py\", line 1063, in _run_sanity_check\n",
      "    val_loop.run()\n",
      "  File \"/Users/jjaniak/anaconda3/envs/studia_projekt/lib/python3.8/site-packages/pytorch_lightning/loops/utilities.py\", line 181, in _decorator\n",
      "    return loop_run(self, *args, **kwargs)\n",
      "  File \"/Users/jjaniak/anaconda3/envs/studia_projekt/lib/python3.8/site-packages/pytorch_lightning/loops/evaluation_loop.py\", line 134, in run\n",
      "    self._evaluation_step(batch, batch_idx, dataloader_idx, dataloader_iter)\n",
      "  File \"/Users/jjaniak/anaconda3/envs/studia_projekt/lib/python3.8/site-packages/pytorch_lightning/loops/evaluation_loop.py\", line 391, in _evaluation_step\n",
      "    output = call._call_strategy_hook(trainer, hook_name, *step_args)\n",
      "  File \"/Users/jjaniak/anaconda3/envs/studia_projekt/lib/python3.8/site-packages/pytorch_lightning/trainer/call.py\", line 309, in _call_strategy_hook\n",
      "    output = fn(*args, **kwargs)\n",
      "  File \"/Users/jjaniak/anaconda3/envs/studia_projekt/lib/python3.8/site-packages/pytorch_lightning/strategies/strategy.py\", line 403, in validation_step\n",
      "    return self.lightning_module.validation_step(*args, **kwargs)\n",
      "  File \"/Users/jjaniak/Documents/studia/projekt/gradient/notebooks/downstream_tasks/../../src/lightning/hetero_gnn_module.py\", line 57, in validation_step\n",
      "    y_hat = self.model(batch.x_dict, batch.edge_index_dict, batch.edge_attr_dict)\n",
      "  File \"/Users/jjaniak/anaconda3/envs/studia_projekt/lib/python3.8/site-packages/torch/nn/modules/module.py\", line 1518, in _wrapped_call_impl\n",
      "    return self._call_impl(*args, **kwargs)\n",
      "  File \"/Users/jjaniak/anaconda3/envs/studia_projekt/lib/python3.8/site-packages/torch/nn/modules/module.py\", line 1527, in _call_impl\n",
      "    return forward_call(*args, **kwargs)\n",
      "  File \"/Users/jjaniak/Documents/studia/projekt/gradient/notebooks/downstream_tasks/../../src/baseline_models/HeteroGNN/HeteroGNN.py\", line 59, in forward\n",
      "    value = self._forward(x_dict, edge_index_dict, edge_atrr_dict)\n",
      "  File \"/Users/jjaniak/Documents/studia/projekt/gradient/notebooks/downstream_tasks/../../src/baseline_models/HeteroGNN/HeteroGNN.py\", line 74, in _forward\n",
      "    x_dict = conv(x_dict, edge_index_dict, edge_atrr_dict)\n",
      "  File \"/Users/jjaniak/anaconda3/envs/studia_projekt/lib/python3.8/site-packages/torch/nn/modules/module.py\", line 1518, in _wrapped_call_impl\n",
      "    return self._call_impl(*args, **kwargs)\n",
      "  File \"/Users/jjaniak/anaconda3/envs/studia_projekt/lib/python3.8/site-packages/torch/nn/modules/module.py\", line 1527, in _call_impl\n",
      "    return forward_call(*args, **kwargs)\n",
      "  File \"/Users/jjaniak/anaconda3/envs/studia_projekt/lib/python3.8/site-packages/torch_geometric/nn/conv/hetero_conv.py\", line 159, in forward\n",
      "    out = self.convs[edge_type](*args, **kwargs)\n",
      "  File \"/Users/jjaniak/anaconda3/envs/studia_projekt/lib/python3.8/site-packages/torch/nn/modules/module.py\", line 1518, in _wrapped_call_impl\n",
      "    return self._call_impl(*args, **kwargs)\n",
      "  File \"/Users/jjaniak/anaconda3/envs/studia_projekt/lib/python3.8/site-packages/torch/nn/modules/module.py\", line 1527, in _call_impl\n",
      "    return forward_call(*args, **kwargs)\n",
      "  File \"/Users/jjaniak/anaconda3/envs/studia_projekt/lib/python3.8/site-packages/torch_geometric/nn/conv/gat_conv.py\", line 252, in forward\n",
      "    alpha = self.edge_updater(edge_index, alpha=alpha, edge_attr=edge_attr)\n",
      "  File \"/Users/jjaniak/anaconda3/envs/studia_projekt/lib/python3.8/site-packages/torch_geometric/nn/conv/message_passing.py\", line 527, in edge_updater\n",
      "    out = self.edge_update(**edge_kwargs)\n",
      "  File \"/Users/jjaniak/anaconda3/envs/studia_projekt/lib/python3.8/site-packages/torch_geometric/nn/conv/gat_conv.py\", line 295, in edge_update\n",
      "    alpha = softmax(alpha, index, ptr, size_i)\n",
      "  File \"/Users/jjaniak/anaconda3/envs/studia_projekt/lib/python3.8/site-packages/torch_geometric/utils/softmax.py\", line 65, in softmax\n",
      "    src_max = scatter(src.detach(), index, dim, dim_size=N, reduce='max')\n",
      "  File \"/Users/jjaniak/anaconda3/envs/studia_projekt/lib/python3.8/site-packages/torch_geometric/utils/scatter.py\", line 94, in scatter\n",
      "    return src.new_zeros(size).scatter_reduce_(\n",
      "NotImplementedError: The operator 'aten::scatter_reduce.two_out' is not currently implemented for the MPS device. If you want this op to be added in priority during the prototype phase of this feature, please comment on https://github.com/pytorch/pytorch/issues/77764. As a temporary fix, you can set the environment variable `PYTORCH_ENABLE_MPS_FALLBACK=1` to use the CPU as a fallback for this op. WARNING: this will be slower than running natively on MPS.\n",
      "\n",
      "\u001b[34m\u001b[1mwandb\u001b[0m: \u001b[32m\u001b[41mERROR\u001b[0m Run u1igbv8y errored:\n",
      "\u001b[34m\u001b[1mwandb\u001b[0m: \u001b[32m\u001b[41mERROR\u001b[0m Traceback (most recent call last):\n",
      "\u001b[34m\u001b[1mwandb\u001b[0m: \u001b[32m\u001b[41mERROR\u001b[0m   File \"/Users/jjaniak/anaconda3/envs/studia_projekt/lib/python3.8/site-packages/wandb/agents/pyagent.py\", line 308, in _run_job\n",
      "\u001b[34m\u001b[1mwandb\u001b[0m: \u001b[32m\u001b[41mERROR\u001b[0m     self._function()\n",
      "\u001b[34m\u001b[1mwandb\u001b[0m: \u001b[32m\u001b[41mERROR\u001b[0m   File \"/var/folders/4k/8js3jm9n457cm4_v631zyrkw0000gn/T/ipykernel_25686/3559290024.py\", line 62, in wrapped\n",
      "\u001b[34m\u001b[1mwandb\u001b[0m: \u001b[32m\u001b[41mERROR\u001b[0m     auc, accuracy, f1, model_path = train(\n",
      "\u001b[34m\u001b[1mwandb\u001b[0m: \u001b[32m\u001b[41mERROR\u001b[0m   File \"/Users/jjaniak/Documents/studia/projekt/gradient/notebooks/downstream_tasks/../../src/training/train.py\", line 84, in train\n",
      "\u001b[34m\u001b[1mwandb\u001b[0m: \u001b[32m\u001b[41mERROR\u001b[0m     trainer.fit(model, train_loader, val_dataloaders=(val_loader or None))\n",
      "\u001b[34m\u001b[1mwandb\u001b[0m: \u001b[32m\u001b[41mERROR\u001b[0m   File \"/Users/jjaniak/anaconda3/envs/studia_projekt/lib/python3.8/site-packages/pytorch_lightning/trainer/trainer.py\", line 545, in fit\n",
      "\u001b[34m\u001b[1mwandb\u001b[0m: \u001b[32m\u001b[41mERROR\u001b[0m     call._call_and_handle_interrupt(\n",
      "\u001b[34m\u001b[1mwandb\u001b[0m: \u001b[32m\u001b[41mERROR\u001b[0m   File \"/Users/jjaniak/anaconda3/envs/studia_projekt/lib/python3.8/site-packages/pytorch_lightning/trainer/call.py\", line 44, in _call_and_handle_interrupt\n",
      "\u001b[34m\u001b[1mwandb\u001b[0m: \u001b[32m\u001b[41mERROR\u001b[0m     return trainer_fn(*args, **kwargs)\n",
      "\u001b[34m\u001b[1mwandb\u001b[0m: \u001b[32m\u001b[41mERROR\u001b[0m   File \"/Users/jjaniak/anaconda3/envs/studia_projekt/lib/python3.8/site-packages/pytorch_lightning/trainer/trainer.py\", line 581, in _fit_impl\n",
      "\u001b[34m\u001b[1mwandb\u001b[0m: \u001b[32m\u001b[41mERROR\u001b[0m     self._run(model, ckpt_path=ckpt_path)\n",
      "\u001b[34m\u001b[1mwandb\u001b[0m: \u001b[32m\u001b[41mERROR\u001b[0m   File \"/Users/jjaniak/anaconda3/envs/studia_projekt/lib/python3.8/site-packages/pytorch_lightning/trainer/trainer.py\", line 990, in _run\n",
      "\u001b[34m\u001b[1mwandb\u001b[0m: \u001b[32m\u001b[41mERROR\u001b[0m     results = self._run_stage()\n",
      "\u001b[34m\u001b[1mwandb\u001b[0m: \u001b[32m\u001b[41mERROR\u001b[0m   File \"/Users/jjaniak/anaconda3/envs/studia_projekt/lib/python3.8/site-packages/pytorch_lightning/trainer/trainer.py\", line 1034, in _run_stage\n",
      "\u001b[34m\u001b[1mwandb\u001b[0m: \u001b[32m\u001b[41mERROR\u001b[0m     self._run_sanity_check()\n",
      "\u001b[34m\u001b[1mwandb\u001b[0m: \u001b[32m\u001b[41mERROR\u001b[0m   File \"/Users/jjaniak/anaconda3/envs/studia_projekt/lib/python3.8/site-packages/pytorch_lightning/trainer/trainer.py\", line 1063, in _run_sanity_check\n",
      "\u001b[34m\u001b[1mwandb\u001b[0m: \u001b[32m\u001b[41mERROR\u001b[0m     val_loop.run()\n",
      "\u001b[34m\u001b[1mwandb\u001b[0m: \u001b[32m\u001b[41mERROR\u001b[0m   File \"/Users/jjaniak/anaconda3/envs/studia_projekt/lib/python3.8/site-packages/pytorch_lightning/loops/utilities.py\", line 181, in _decorator\n",
      "\u001b[34m\u001b[1mwandb\u001b[0m: \u001b[32m\u001b[41mERROR\u001b[0m     return loop_run(self, *args, **kwargs)\n",
      "\u001b[34m\u001b[1mwandb\u001b[0m: \u001b[32m\u001b[41mERROR\u001b[0m   File \"/Users/jjaniak/anaconda3/envs/studia_projekt/lib/python3.8/site-packages/pytorch_lightning/loops/evaluation_loop.py\", line 134, in run\n",
      "\u001b[34m\u001b[1mwandb\u001b[0m: \u001b[32m\u001b[41mERROR\u001b[0m     self._evaluation_step(batch, batch_idx, dataloader_idx, dataloader_iter)\n",
      "\u001b[34m\u001b[1mwandb\u001b[0m: \u001b[32m\u001b[41mERROR\u001b[0m   File \"/Users/jjaniak/anaconda3/envs/studia_projekt/lib/python3.8/site-packages/pytorch_lightning/loops/evaluation_loop.py\", line 391, in _evaluation_step\n",
      "\u001b[34m\u001b[1mwandb\u001b[0m: \u001b[32m\u001b[41mERROR\u001b[0m     output = call._call_strategy_hook(trainer, hook_name, *step_args)\n",
      "\u001b[34m\u001b[1mwandb\u001b[0m: \u001b[32m\u001b[41mERROR\u001b[0m   File \"/Users/jjaniak/anaconda3/envs/studia_projekt/lib/python3.8/site-packages/pytorch_lightning/trainer/call.py\", line 309, in _call_strategy_hook\n",
      "\u001b[34m\u001b[1mwandb\u001b[0m: \u001b[32m\u001b[41mERROR\u001b[0m     output = fn(*args, **kwargs)\n",
      "\u001b[34m\u001b[1mwandb\u001b[0m: \u001b[32m\u001b[41mERROR\u001b[0m   File \"/Users/jjaniak/anaconda3/envs/studia_projekt/lib/python3.8/site-packages/pytorch_lightning/strategies/strategy.py\", line 403, in validation_step\n",
      "\u001b[34m\u001b[1mwandb\u001b[0m: \u001b[32m\u001b[41mERROR\u001b[0m     return self.lightning_module.validation_step(*args, **kwargs)\n",
      "\u001b[34m\u001b[1mwandb\u001b[0m: \u001b[32m\u001b[41mERROR\u001b[0m   File \"/Users/jjaniak/Documents/studia/projekt/gradient/notebooks/downstream_tasks/../../src/lightning/hetero_gnn_module.py\", line 57, in validation_step\n",
      "\u001b[34m\u001b[1mwandb\u001b[0m: \u001b[32m\u001b[41mERROR\u001b[0m     y_hat = self.model(batch.x_dict, batch.edge_index_dict, batch.edge_attr_dict)\n",
      "\u001b[34m\u001b[1mwandb\u001b[0m: \u001b[32m\u001b[41mERROR\u001b[0m   File \"/Users/jjaniak/anaconda3/envs/studia_projekt/lib/python3.8/site-packages/torch/nn/modules/module.py\", line 1518, in _wrapped_call_impl\n",
      "\u001b[34m\u001b[1mwandb\u001b[0m: \u001b[32m\u001b[41mERROR\u001b[0m     return self._call_impl(*args, **kwargs)\n",
      "\u001b[34m\u001b[1mwandb\u001b[0m: \u001b[32m\u001b[41mERROR\u001b[0m   File \"/Users/jjaniak/anaconda3/envs/studia_projekt/lib/python3.8/site-packages/torch/nn/modules/module.py\", line 1527, in _call_impl\n",
      "\u001b[34m\u001b[1mwandb\u001b[0m: \u001b[32m\u001b[41mERROR\u001b[0m     return forward_call(*args, **kwargs)\n",
      "\u001b[34m\u001b[1mwandb\u001b[0m: \u001b[32m\u001b[41mERROR\u001b[0m   File \"/Users/jjaniak/Documents/studia/projekt/gradient/notebooks/downstream_tasks/../../src/baseline_models/HeteroGNN/HeteroGNN.py\", line 59, in forward\n",
      "\u001b[34m\u001b[1mwandb\u001b[0m: \u001b[32m\u001b[41mERROR\u001b[0m     value = self._forward(x_dict, edge_index_dict, edge_atrr_dict)\n",
      "\u001b[34m\u001b[1mwandb\u001b[0m: \u001b[32m\u001b[41mERROR\u001b[0m   File \"/Users/jjaniak/Documents/studia/projekt/gradient/notebooks/downstream_tasks/../../src/baseline_models/HeteroGNN/HeteroGNN.py\", line 74, in _forward\n",
      "\u001b[34m\u001b[1mwandb\u001b[0m: \u001b[32m\u001b[41mERROR\u001b[0m     x_dict = conv(x_dict, edge_index_dict, edge_atrr_dict)\n",
      "\u001b[34m\u001b[1mwandb\u001b[0m: \u001b[32m\u001b[41mERROR\u001b[0m   File \"/Users/jjaniak/anaconda3/envs/studia_projekt/lib/python3.8/site-packages/torch/nn/modules/module.py\", line 1518, in _wrapped_call_impl\n",
      "\u001b[34m\u001b[1mwandb\u001b[0m: \u001b[32m\u001b[41mERROR\u001b[0m     return self._call_impl(*args, **kwargs)\n",
      "\u001b[34m\u001b[1mwandb\u001b[0m: \u001b[32m\u001b[41mERROR\u001b[0m   File \"/Users/jjaniak/anaconda3/envs/studia_projekt/lib/python3.8/site-packages/torch/nn/modules/module.py\", line 1527, in _call_impl\n",
      "\u001b[34m\u001b[1mwandb\u001b[0m: \u001b[32m\u001b[41mERROR\u001b[0m     return forward_call(*args, **kwargs)\n",
      "\u001b[34m\u001b[1mwandb\u001b[0m: \u001b[32m\u001b[41mERROR\u001b[0m   File \"/Users/jjaniak/anaconda3/envs/studia_projekt/lib/python3.8/site-packages/torch_geometric/nn/conv/hetero_conv.py\", line 159, in forward\n",
      "\u001b[34m\u001b[1mwandb\u001b[0m: \u001b[32m\u001b[41mERROR\u001b[0m     out = self.convs[edge_type](*args, **kwargs)\n",
      "\u001b[34m\u001b[1mwandb\u001b[0m: \u001b[32m\u001b[41mERROR\u001b[0m   File \"/Users/jjaniak/anaconda3/envs/studia_projekt/lib/python3.8/site-packages/torch/nn/modules/module.py\", line 1518, in _wrapped_call_impl\n",
      "\u001b[34m\u001b[1mwandb\u001b[0m: \u001b[32m\u001b[41mERROR\u001b[0m     return self._call_impl(*args, **kwargs)\n",
      "\u001b[34m\u001b[1mwandb\u001b[0m: \u001b[32m\u001b[41mERROR\u001b[0m   File \"/Users/jjaniak/anaconda3/envs/studia_projekt/lib/python3.8/site-packages/torch/nn/modules/module.py\", line 1527, in _call_impl\n",
      "\u001b[34m\u001b[1mwandb\u001b[0m: \u001b[32m\u001b[41mERROR\u001b[0m     return forward_call(*args, **kwargs)\n",
      "\u001b[34m\u001b[1mwandb\u001b[0m: \u001b[32m\u001b[41mERROR\u001b[0m   File \"/Users/jjaniak/anaconda3/envs/studia_projekt/lib/python3.8/site-packages/torch_geometric/nn/conv/gat_conv.py\", line 252, in forward\n",
      "\u001b[34m\u001b[1mwandb\u001b[0m: \u001b[32m\u001b[41mERROR\u001b[0m     alpha = self.edge_updater(edge_index, alpha=alpha, edge_attr=edge_attr)\n",
      "\u001b[34m\u001b[1mwandb\u001b[0m: \u001b[32m\u001b[41mERROR\u001b[0m   File \"/Users/jjaniak/anaconda3/envs/studia_projekt/lib/python3.8/site-packages/torch_geometric/nn/conv/message_passing.py\", line 527, in edge_updater\n",
      "\u001b[34m\u001b[1mwandb\u001b[0m: \u001b[32m\u001b[41mERROR\u001b[0m     out = self.edge_update(**edge_kwargs)\n",
      "\u001b[34m\u001b[1mwandb\u001b[0m: \u001b[32m\u001b[41mERROR\u001b[0m   File \"/Users/jjaniak/anaconda3/envs/studia_projekt/lib/python3.8/site-packages/torch_geometric/nn/conv/gat_conv.py\", line 295, in edge_update\n",
      "\u001b[34m\u001b[1mwandb\u001b[0m: \u001b[32m\u001b[41mERROR\u001b[0m     alpha = softmax(alpha, index, ptr, size_i)\n",
      "\u001b[34m\u001b[1mwandb\u001b[0m: \u001b[32m\u001b[41mERROR\u001b[0m   File \"/Users/jjaniak/anaconda3/envs/studia_projekt/lib/python3.8/site-packages/torch_geometric/utils/softmax.py\", line 65, in softmax\n",
      "\u001b[34m\u001b[1mwandb\u001b[0m: \u001b[32m\u001b[41mERROR\u001b[0m     src_max = scatter(src.detach(), index, dim, dim_size=N, reduce='max')\n",
      "\u001b[34m\u001b[1mwandb\u001b[0m: \u001b[32m\u001b[41mERROR\u001b[0m   File \"/Users/jjaniak/anaconda3/envs/studia_projekt/lib/python3.8/site-packages/torch_geometric/utils/scatter.py\", line 94, in scatter\n",
      "\u001b[34m\u001b[1mwandb\u001b[0m: \u001b[32m\u001b[41mERROR\u001b[0m     return src.new_zeros(size).scatter_reduce_(\n",
      "\u001b[34m\u001b[1mwandb\u001b[0m: \u001b[32m\u001b[41mERROR\u001b[0m NotImplementedError: The operator 'aten::scatter_reduce.two_out' is not currently implemented for the MPS device. If you want this op to be added in priority during the prototype phase of this feature, please comment on https://github.com/pytorch/pytorch/issues/77764. As a temporary fix, you can set the environment variable `PYTORCH_ENABLE_MPS_FALLBACK=1` to use the CPU as a fallback for this op. WARNING: this will be slower than running natively on MPS.\n",
      "\u001b[34m\u001b[1mwandb\u001b[0m: \u001b[32m\u001b[41mERROR\u001b[0m \n",
      "\u001b[34m\u001b[1mwandb\u001b[0m: Agent Starting Run: 8cgnldoh with config:\n",
      "\u001b[34m\u001b[1mwandb\u001b[0m: \thidden_channels: 40\n",
      "\u001b[34m\u001b[1mwandb\u001b[0m: \tlearning_rate: 0.007874285977113893\n",
      "\u001b[34m\u001b[1mwandb\u001b[0m: \tlin_layer_size: 32\n",
      "\u001b[34m\u001b[1mwandb\u001b[0m: \tnum_conv_layers: 4\n",
      "\u001b[34m\u001b[1mwandb\u001b[0m: \tnum_lin_layers: 3\n",
      "\u001b[34m\u001b[1mwandb\u001b[0m: \tweight_decay: 8.477229588178253e-05\n",
      "Failed to detect the name of this notebook, you can set it manually with the WANDB_NOTEBOOK_NAME environment variable to enable code saving.\n"
     ]
    },
    {
     "data": {
      "text/html": [
       "wandb version 0.17.1 is available!  To upgrade, please run:\n",
       " $ pip install wandb --upgrade"
      ],
      "text/plain": [
       "<IPython.core.display.HTML object>"
      ]
     },
     "metadata": {},
     "output_type": "display_data"
    },
    {
     "data": {
      "text/html": [
       "Tracking run with wandb version 0.16.4"
      ],
      "text/plain": [
       "<IPython.core.display.HTML object>"
      ]
     },
     "metadata": {},
     "output_type": "display_data"
    },
    {
     "data": {
      "text/html": [
       "Run data is saved locally in <code>/Users/jjaniak/Documents/studia/projekt/gradient/notebooks/downstream_tasks/wandb/run-20240607_180607-8cgnldoh</code>"
      ],
      "text/plain": [
       "<IPython.core.display.HTML object>"
      ]
     },
     "metadata": {},
     "output_type": "display_data"
    },
    {
     "data": {
      "text/html": [
       "Syncing run <strong><a href='https://wandb.ai/gradient_pwr/accidents-downstream-task-v2/runs/8cgnldoh' target=\"_blank\">bright-sweep-4</a></strong> to <a href='https://wandb.ai/gradient_pwr/accidents-downstream-task-v2' target=\"_blank\">Weights & Biases</a> (<a href='https://wandb.me/run' target=\"_blank\">docs</a>)<br/>Sweep page: <a href='https://wandb.ai/gradient_pwr/accidents-downstream-task-v2/sweeps/dv87z9ro' target=\"_blank\">https://wandb.ai/gradient_pwr/accidents-downstream-task-v2/sweeps/dv87z9ro</a>"
      ],
      "text/plain": [
       "<IPython.core.display.HTML object>"
      ]
     },
     "metadata": {},
     "output_type": "display_data"
    },
    {
     "data": {
      "text/html": [
       " View project at <a href='https://wandb.ai/gradient_pwr/accidents-downstream-task-v2' target=\"_blank\">https://wandb.ai/gradient_pwr/accidents-downstream-task-v2</a>"
      ],
      "text/plain": [
       "<IPython.core.display.HTML object>"
      ]
     },
     "metadata": {},
     "output_type": "display_data"
    },
    {
     "data": {
      "text/html": [
       " View sweep at <a href='https://wandb.ai/gradient_pwr/accidents-downstream-task-v2/sweeps/dv87z9ro' target=\"_blank\">https://wandb.ai/gradient_pwr/accidents-downstream-task-v2/sweeps/dv87z9ro</a>"
      ],
      "text/plain": [
       "<IPython.core.display.HTML object>"
      ]
     },
     "metadata": {},
     "output_type": "display_data"
    },
    {
     "data": {
      "text/html": [
       " View run at <a href='https://wandb.ai/gradient_pwr/accidents-downstream-task-v2/runs/8cgnldoh' target=\"_blank\">https://wandb.ai/gradient_pwr/accidents-downstream-task-v2/runs/8cgnldoh</a>"
      ],
      "text/plain": [
       "<IPython.core.display.HTML object>"
      ]
     },
     "metadata": {},
     "output_type": "display_data"
    },
    {
     "name": "stderr",
     "output_type": "stream",
     "text": [
      "/Users/jjaniak/anaconda3/envs/studia_projekt/lib/python3.8/site-packages/torch_geometric/deprecation.py:22: UserWarning: 'data.DataLoader' is deprecated, use 'loader.DataLoader' instead\n",
      "  warnings.warn(out)\n",
      "GPU available: True (mps), used: True\n",
      "TPU available: False, using: 0 TPU cores\n",
      "IPU available: False, using: 0 IPUs\n",
      "HPU available: False, using: 0 HPUs\n",
      "Missing logger folder: ../../gradient_logs/2024_06_07_18_06_12/lightning_logs\n",
      "\n",
      "  | Name  | Type      | Params\n",
      "------------------------------------\n",
      "0 | model | HeteroGNN | 38.7 K\n",
      "------------------------------------\n",
      "38.7 K    Trainable params\n",
      "0         Non-trainable params\n",
      "38.7 K    Total params\n",
      "0.155     Total estimated model params size (MB)\n"
     ]
    },
    {
     "data": {
      "application/vnd.jupyter.widget-view+json": {
       "model_id": "35d3f4aced4e419fab0f047ed69fa4dc",
       "version_major": 2,
       "version_minor": 0
      },
      "text/plain": [
       "Sanity Checking: |          | 0/? [00:00<?, ?it/s]"
      ]
     },
     "metadata": {},
     "output_type": "display_data"
    },
    {
     "name": "stderr",
     "output_type": "stream",
     "text": [
      "/Users/jjaniak/anaconda3/envs/studia_projekt/lib/python3.8/site-packages/pytorch_lightning/trainer/connectors/data_connector.py:441: The 'val_dataloader' does not have many workers which may be a bottleneck. Consider increasing the value of the `num_workers` argument` to `num_workers=11` in the `DataLoader` to improve performance.\n"
     ]
    },
    {
     "data": {
      "application/vnd.jupyter.widget-view+json": {
       "model_id": "4b1aac8371584a3da54c70ac520f9939",
       "version_major": 2,
       "version_minor": 0
      },
      "text/plain": [
       "VBox(children=(Label(value='0.001 MB of 0.001 MB uploaded\\r'), FloatProgress(value=1.0, max=1.0)))"
      ]
     },
     "metadata": {},
     "output_type": "display_data"
    },
    {
     "data": {
      "text/html": [
       "<style>\n",
       "    table.wandb td:nth-child(1) { padding: 0 10px; text-align: left ; width: auto;} td:nth-child(2) {text-align: left ; width: 100%}\n",
       "    .wandb-row { display: flex; flex-direction: row; flex-wrap: wrap; justify-content: flex-start; width: 100% }\n",
       "    .wandb-col { display: flex; flex-direction: column; flex-basis: 100%; flex: 1; padding: 10px; }\n",
       "    </style>\n",
       "<div class=\"wandb-row\"><div class=\"wandb-col\"><h3>Run history:</h3><br/><table class=\"wandb\"><tr><td>USE_HEXES_ATTRS</td><td>▁</td></tr><tr><td>USE_ORTOPHOTO</td><td>▁</td></tr><tr><td>USE_OSMNX_ATTRS</td><td>▁</td></tr></table><br/></div><div class=\"wandb-col\"><h3>Run summary:</h3><br/><table class=\"wandb\"><tr><td>USE_HEXES_ATTRS</td><td>1</td></tr><tr><td>USE_ORTOPHOTO</td><td>0</td></tr><tr><td>USE_OSMNX_ATTRS</td><td>1</td></tr><tr><td>data_structure</td><td>graph</td></tr></table><br/></div></div>"
      ],
      "text/plain": [
       "<IPython.core.display.HTML object>"
      ]
     },
     "metadata": {},
     "output_type": "display_data"
    },
    {
     "data": {
      "text/html": [
       " View run <strong style=\"color:#cdcd00\">bright-sweep-4</strong> at: <a href='https://wandb.ai/gradient_pwr/accidents-downstream-task-v2/runs/8cgnldoh' target=\"_blank\">https://wandb.ai/gradient_pwr/accidents-downstream-task-v2/runs/8cgnldoh</a><br/>Synced 6 W&B file(s), 0 media file(s), 0 artifact file(s) and 0 other file(s)"
      ],
      "text/plain": [
       "<IPython.core.display.HTML object>"
      ]
     },
     "metadata": {},
     "output_type": "display_data"
    },
    {
     "data": {
      "text/html": [
       "Find logs at: <code>./wandb/run-20240607_180607-8cgnldoh/logs</code>"
      ],
      "text/plain": [
       "<IPython.core.display.HTML object>"
      ]
     },
     "metadata": {},
     "output_type": "display_data"
    },
    {
     "name": "stderr",
     "output_type": "stream",
     "text": [
      "Run 8cgnldoh errored:\n",
      "Traceback (most recent call last):\n",
      "  File \"/Users/jjaniak/anaconda3/envs/studia_projekt/lib/python3.8/site-packages/wandb/agents/pyagent.py\", line 308, in _run_job\n",
      "    self._function()\n",
      "  File \"/var/folders/4k/8js3jm9n457cm4_v631zyrkw0000gn/T/ipykernel_25686/3559290024.py\", line 62, in wrapped\n",
      "    auc, accuracy, f1, model_path = train(\n",
      "  File \"/Users/jjaniak/Documents/studia/projekt/gradient/notebooks/downstream_tasks/../../src/training/train.py\", line 84, in train\n",
      "    trainer.fit(model, train_loader, val_dataloaders=(val_loader or None))\n",
      "  File \"/Users/jjaniak/anaconda3/envs/studia_projekt/lib/python3.8/site-packages/pytorch_lightning/trainer/trainer.py\", line 545, in fit\n",
      "    call._call_and_handle_interrupt(\n",
      "  File \"/Users/jjaniak/anaconda3/envs/studia_projekt/lib/python3.8/site-packages/pytorch_lightning/trainer/call.py\", line 44, in _call_and_handle_interrupt\n",
      "    return trainer_fn(*args, **kwargs)\n",
      "  File \"/Users/jjaniak/anaconda3/envs/studia_projekt/lib/python3.8/site-packages/pytorch_lightning/trainer/trainer.py\", line 581, in _fit_impl\n",
      "    self._run(model, ckpt_path=ckpt_path)\n",
      "  File \"/Users/jjaniak/anaconda3/envs/studia_projekt/lib/python3.8/site-packages/pytorch_lightning/trainer/trainer.py\", line 990, in _run\n",
      "    results = self._run_stage()\n",
      "  File \"/Users/jjaniak/anaconda3/envs/studia_projekt/lib/python3.8/site-packages/pytorch_lightning/trainer/trainer.py\", line 1034, in _run_stage\n",
      "    self._run_sanity_check()\n",
      "  File \"/Users/jjaniak/anaconda3/envs/studia_projekt/lib/python3.8/site-packages/pytorch_lightning/trainer/trainer.py\", line 1063, in _run_sanity_check\n",
      "    val_loop.run()\n",
      "  File \"/Users/jjaniak/anaconda3/envs/studia_projekt/lib/python3.8/site-packages/pytorch_lightning/loops/utilities.py\", line 181, in _decorator\n",
      "    return loop_run(self, *args, **kwargs)\n",
      "  File \"/Users/jjaniak/anaconda3/envs/studia_projekt/lib/python3.8/site-packages/pytorch_lightning/loops/evaluation_loop.py\", line 134, in run\n",
      "    self._evaluation_step(batch, batch_idx, dataloader_idx, dataloader_iter)\n",
      "  File \"/Users/jjaniak/anaconda3/envs/studia_projekt/lib/python3.8/site-packages/pytorch_lightning/loops/evaluation_loop.py\", line 391, in _evaluation_step\n",
      "    output = call._call_strategy_hook(trainer, hook_name, *step_args)\n",
      "  File \"/Users/jjaniak/anaconda3/envs/studia_projekt/lib/python3.8/site-packages/pytorch_lightning/trainer/call.py\", line 309, in _call_strategy_hook\n",
      "    output = fn(*args, **kwargs)\n",
      "  File \"/Users/jjaniak/anaconda3/envs/studia_projekt/lib/python3.8/site-packages/pytorch_lightning/strategies/strategy.py\", line 403, in validation_step\n",
      "    return self.lightning_module.validation_step(*args, **kwargs)\n",
      "  File \"/Users/jjaniak/Documents/studia/projekt/gradient/notebooks/downstream_tasks/../../src/lightning/hetero_gnn_module.py\", line 57, in validation_step\n",
      "    y_hat = self.model(batch.x_dict, batch.edge_index_dict, batch.edge_attr_dict)\n",
      "  File \"/Users/jjaniak/anaconda3/envs/studia_projekt/lib/python3.8/site-packages/torch/nn/modules/module.py\", line 1518, in _wrapped_call_impl\n",
      "    return self._call_impl(*args, **kwargs)\n",
      "  File \"/Users/jjaniak/anaconda3/envs/studia_projekt/lib/python3.8/site-packages/torch/nn/modules/module.py\", line 1527, in _call_impl\n",
      "    return forward_call(*args, **kwargs)\n",
      "  File \"/Users/jjaniak/Documents/studia/projekt/gradient/notebooks/downstream_tasks/../../src/baseline_models/HeteroGNN/HeteroGNN.py\", line 59, in forward\n",
      "    value = self._forward(x_dict, edge_index_dict, edge_atrr_dict)\n",
      "  File \"/Users/jjaniak/Documents/studia/projekt/gradient/notebooks/downstream_tasks/../../src/baseline_models/HeteroGNN/HeteroGNN.py\", line 74, in _forward\n",
      "    x_dict = conv(x_dict, edge_index_dict, edge_atrr_dict)\n",
      "  File \"/Users/jjaniak/anaconda3/envs/studia_projekt/lib/python3.8/site-packages/torch/nn/modules/module.py\", line 1518, in _wrapped_call_impl\n",
      "    return self._call_impl(*args, **kwargs)\n",
      "  File \"/Users/jjaniak/anaconda3/envs/studia_projekt/lib/python3.8/site-packages/torch/nn/modules/module.py\", line 1527, in _call_impl\n",
      "    return forward_call(*args, **kwargs)\n",
      "  File \"/Users/jjaniak/anaconda3/envs/studia_projekt/lib/python3.8/site-packages/torch_geometric/nn/conv/hetero_conv.py\", line 159, in forward\n",
      "    out = self.convs[edge_type](*args, **kwargs)\n",
      "  File \"/Users/jjaniak/anaconda3/envs/studia_projekt/lib/python3.8/site-packages/torch/nn/modules/module.py\", line 1518, in _wrapped_call_impl\n",
      "    return self._call_impl(*args, **kwargs)\n",
      "  File \"/Users/jjaniak/anaconda3/envs/studia_projekt/lib/python3.8/site-packages/torch/nn/modules/module.py\", line 1527, in _call_impl\n",
      "    return forward_call(*args, **kwargs)\n",
      "  File \"/Users/jjaniak/anaconda3/envs/studia_projekt/lib/python3.8/site-packages/torch_geometric/nn/conv/gat_conv.py\", line 252, in forward\n",
      "    alpha = self.edge_updater(edge_index, alpha=alpha, edge_attr=edge_attr)\n",
      "  File \"/Users/jjaniak/anaconda3/envs/studia_projekt/lib/python3.8/site-packages/torch_geometric/nn/conv/message_passing.py\", line 527, in edge_updater\n",
      "    out = self.edge_update(**edge_kwargs)\n",
      "  File \"/Users/jjaniak/anaconda3/envs/studia_projekt/lib/python3.8/site-packages/torch_geometric/nn/conv/gat_conv.py\", line 295, in edge_update\n",
      "    alpha = softmax(alpha, index, ptr, size_i)\n",
      "  File \"/Users/jjaniak/anaconda3/envs/studia_projekt/lib/python3.8/site-packages/torch_geometric/utils/softmax.py\", line 65, in softmax\n",
      "    src_max = scatter(src.detach(), index, dim, dim_size=N, reduce='max')\n",
      "  File \"/Users/jjaniak/anaconda3/envs/studia_projekt/lib/python3.8/site-packages/torch_geometric/utils/scatter.py\", line 94, in scatter\n",
      "    return src.new_zeros(size).scatter_reduce_(\n",
      "NotImplementedError: The operator 'aten::scatter_reduce.two_out' is not currently implemented for the MPS device. If you want this op to be added in priority during the prototype phase of this feature, please comment on https://github.com/pytorch/pytorch/issues/77764. As a temporary fix, you can set the environment variable `PYTORCH_ENABLE_MPS_FALLBACK=1` to use the CPU as a fallback for this op. WARNING: this will be slower than running natively on MPS.\n",
      "\n",
      "\u001b[34m\u001b[1mwandb\u001b[0m: \u001b[32m\u001b[41mERROR\u001b[0m Run 8cgnldoh errored:\n",
      "\u001b[34m\u001b[1mwandb\u001b[0m: \u001b[32m\u001b[41mERROR\u001b[0m Traceback (most recent call last):\n",
      "\u001b[34m\u001b[1mwandb\u001b[0m: \u001b[32m\u001b[41mERROR\u001b[0m   File \"/Users/jjaniak/anaconda3/envs/studia_projekt/lib/python3.8/site-packages/wandb/agents/pyagent.py\", line 308, in _run_job\n",
      "\u001b[34m\u001b[1mwandb\u001b[0m: \u001b[32m\u001b[41mERROR\u001b[0m     self._function()\n",
      "\u001b[34m\u001b[1mwandb\u001b[0m: \u001b[32m\u001b[41mERROR\u001b[0m   File \"/var/folders/4k/8js3jm9n457cm4_v631zyrkw0000gn/T/ipykernel_25686/3559290024.py\", line 62, in wrapped\n",
      "\u001b[34m\u001b[1mwandb\u001b[0m: \u001b[32m\u001b[41mERROR\u001b[0m     auc, accuracy, f1, model_path = train(\n",
      "\u001b[34m\u001b[1mwandb\u001b[0m: \u001b[32m\u001b[41mERROR\u001b[0m   File \"/Users/jjaniak/Documents/studia/projekt/gradient/notebooks/downstream_tasks/../../src/training/train.py\", line 84, in train\n",
      "\u001b[34m\u001b[1mwandb\u001b[0m: \u001b[32m\u001b[41mERROR\u001b[0m     trainer.fit(model, train_loader, val_dataloaders=(val_loader or None))\n",
      "\u001b[34m\u001b[1mwandb\u001b[0m: \u001b[32m\u001b[41mERROR\u001b[0m   File \"/Users/jjaniak/anaconda3/envs/studia_projekt/lib/python3.8/site-packages/pytorch_lightning/trainer/trainer.py\", line 545, in fit\n",
      "\u001b[34m\u001b[1mwandb\u001b[0m: \u001b[32m\u001b[41mERROR\u001b[0m     call._call_and_handle_interrupt(\n",
      "\u001b[34m\u001b[1mwandb\u001b[0m: \u001b[32m\u001b[41mERROR\u001b[0m   File \"/Users/jjaniak/anaconda3/envs/studia_projekt/lib/python3.8/site-packages/pytorch_lightning/trainer/call.py\", line 44, in _call_and_handle_interrupt\n",
      "\u001b[34m\u001b[1mwandb\u001b[0m: \u001b[32m\u001b[41mERROR\u001b[0m     return trainer_fn(*args, **kwargs)\n",
      "\u001b[34m\u001b[1mwandb\u001b[0m: \u001b[32m\u001b[41mERROR\u001b[0m   File \"/Users/jjaniak/anaconda3/envs/studia_projekt/lib/python3.8/site-packages/pytorch_lightning/trainer/trainer.py\", line 581, in _fit_impl\n",
      "\u001b[34m\u001b[1mwandb\u001b[0m: \u001b[32m\u001b[41mERROR\u001b[0m     self._run(model, ckpt_path=ckpt_path)\n",
      "\u001b[34m\u001b[1mwandb\u001b[0m: \u001b[32m\u001b[41mERROR\u001b[0m   File \"/Users/jjaniak/anaconda3/envs/studia_projekt/lib/python3.8/site-packages/pytorch_lightning/trainer/trainer.py\", line 990, in _run\n",
      "\u001b[34m\u001b[1mwandb\u001b[0m: \u001b[32m\u001b[41mERROR\u001b[0m     results = self._run_stage()\n",
      "\u001b[34m\u001b[1mwandb\u001b[0m: \u001b[32m\u001b[41mERROR\u001b[0m   File \"/Users/jjaniak/anaconda3/envs/studia_projekt/lib/python3.8/site-packages/pytorch_lightning/trainer/trainer.py\", line 1034, in _run_stage\n",
      "\u001b[34m\u001b[1mwandb\u001b[0m: \u001b[32m\u001b[41mERROR\u001b[0m     self._run_sanity_check()\n",
      "\u001b[34m\u001b[1mwandb\u001b[0m: \u001b[32m\u001b[41mERROR\u001b[0m   File \"/Users/jjaniak/anaconda3/envs/studia_projekt/lib/python3.8/site-packages/pytorch_lightning/trainer/trainer.py\", line 1063, in _run_sanity_check\n",
      "\u001b[34m\u001b[1mwandb\u001b[0m: \u001b[32m\u001b[41mERROR\u001b[0m     val_loop.run()\n",
      "\u001b[34m\u001b[1mwandb\u001b[0m: \u001b[32m\u001b[41mERROR\u001b[0m   File \"/Users/jjaniak/anaconda3/envs/studia_projekt/lib/python3.8/site-packages/pytorch_lightning/loops/utilities.py\", line 181, in _decorator\n",
      "\u001b[34m\u001b[1mwandb\u001b[0m: \u001b[32m\u001b[41mERROR\u001b[0m     return loop_run(self, *args, **kwargs)\n",
      "\u001b[34m\u001b[1mwandb\u001b[0m: \u001b[32m\u001b[41mERROR\u001b[0m   File \"/Users/jjaniak/anaconda3/envs/studia_projekt/lib/python3.8/site-packages/pytorch_lightning/loops/evaluation_loop.py\", line 134, in run\n",
      "\u001b[34m\u001b[1mwandb\u001b[0m: \u001b[32m\u001b[41mERROR\u001b[0m     self._evaluation_step(batch, batch_idx, dataloader_idx, dataloader_iter)\n",
      "\u001b[34m\u001b[1mwandb\u001b[0m: \u001b[32m\u001b[41mERROR\u001b[0m   File \"/Users/jjaniak/anaconda3/envs/studia_projekt/lib/python3.8/site-packages/pytorch_lightning/loops/evaluation_loop.py\", line 391, in _evaluation_step\n",
      "\u001b[34m\u001b[1mwandb\u001b[0m: \u001b[32m\u001b[41mERROR\u001b[0m     output = call._call_strategy_hook(trainer, hook_name, *step_args)\n",
      "\u001b[34m\u001b[1mwandb\u001b[0m: \u001b[32m\u001b[41mERROR\u001b[0m   File \"/Users/jjaniak/anaconda3/envs/studia_projekt/lib/python3.8/site-packages/pytorch_lightning/trainer/call.py\", line 309, in _call_strategy_hook\n",
      "\u001b[34m\u001b[1mwandb\u001b[0m: \u001b[32m\u001b[41mERROR\u001b[0m     output = fn(*args, **kwargs)\n",
      "\u001b[34m\u001b[1mwandb\u001b[0m: \u001b[32m\u001b[41mERROR\u001b[0m   File \"/Users/jjaniak/anaconda3/envs/studia_projekt/lib/python3.8/site-packages/pytorch_lightning/strategies/strategy.py\", line 403, in validation_step\n",
      "\u001b[34m\u001b[1mwandb\u001b[0m: \u001b[32m\u001b[41mERROR\u001b[0m     return self.lightning_module.validation_step(*args, **kwargs)\n",
      "\u001b[34m\u001b[1mwandb\u001b[0m: \u001b[32m\u001b[41mERROR\u001b[0m   File \"/Users/jjaniak/Documents/studia/projekt/gradient/notebooks/downstream_tasks/../../src/lightning/hetero_gnn_module.py\", line 57, in validation_step\n",
      "\u001b[34m\u001b[1mwandb\u001b[0m: \u001b[32m\u001b[41mERROR\u001b[0m     y_hat = self.model(batch.x_dict, batch.edge_index_dict, batch.edge_attr_dict)\n",
      "\u001b[34m\u001b[1mwandb\u001b[0m: \u001b[32m\u001b[41mERROR\u001b[0m   File \"/Users/jjaniak/anaconda3/envs/studia_projekt/lib/python3.8/site-packages/torch/nn/modules/module.py\", line 1518, in _wrapped_call_impl\n",
      "\u001b[34m\u001b[1mwandb\u001b[0m: \u001b[32m\u001b[41mERROR\u001b[0m     return self._call_impl(*args, **kwargs)\n",
      "\u001b[34m\u001b[1mwandb\u001b[0m: \u001b[32m\u001b[41mERROR\u001b[0m   File \"/Users/jjaniak/anaconda3/envs/studia_projekt/lib/python3.8/site-packages/torch/nn/modules/module.py\", line 1527, in _call_impl\n",
      "\u001b[34m\u001b[1mwandb\u001b[0m: \u001b[32m\u001b[41mERROR\u001b[0m     return forward_call(*args, **kwargs)\n",
      "\u001b[34m\u001b[1mwandb\u001b[0m: \u001b[32m\u001b[41mERROR\u001b[0m   File \"/Users/jjaniak/Documents/studia/projekt/gradient/notebooks/downstream_tasks/../../src/baseline_models/HeteroGNN/HeteroGNN.py\", line 59, in forward\n",
      "\u001b[34m\u001b[1mwandb\u001b[0m: \u001b[32m\u001b[41mERROR\u001b[0m     value = self._forward(x_dict, edge_index_dict, edge_atrr_dict)\n",
      "\u001b[34m\u001b[1mwandb\u001b[0m: \u001b[32m\u001b[41mERROR\u001b[0m   File \"/Users/jjaniak/Documents/studia/projekt/gradient/notebooks/downstream_tasks/../../src/baseline_models/HeteroGNN/HeteroGNN.py\", line 74, in _forward\n",
      "\u001b[34m\u001b[1mwandb\u001b[0m: \u001b[32m\u001b[41mERROR\u001b[0m     x_dict = conv(x_dict, edge_index_dict, edge_atrr_dict)\n",
      "\u001b[34m\u001b[1mwandb\u001b[0m: \u001b[32m\u001b[41mERROR\u001b[0m   File \"/Users/jjaniak/anaconda3/envs/studia_projekt/lib/python3.8/site-packages/torch/nn/modules/module.py\", line 1518, in _wrapped_call_impl\n",
      "\u001b[34m\u001b[1mwandb\u001b[0m: \u001b[32m\u001b[41mERROR\u001b[0m     return self._call_impl(*args, **kwargs)\n",
      "\u001b[34m\u001b[1mwandb\u001b[0m: \u001b[32m\u001b[41mERROR\u001b[0m   File \"/Users/jjaniak/anaconda3/envs/studia_projekt/lib/python3.8/site-packages/torch/nn/modules/module.py\", line 1527, in _call_impl\n",
      "\u001b[34m\u001b[1mwandb\u001b[0m: \u001b[32m\u001b[41mERROR\u001b[0m     return forward_call(*args, **kwargs)\n",
      "\u001b[34m\u001b[1mwandb\u001b[0m: \u001b[32m\u001b[41mERROR\u001b[0m   File \"/Users/jjaniak/anaconda3/envs/studia_projekt/lib/python3.8/site-packages/torch_geometric/nn/conv/hetero_conv.py\", line 159, in forward\n",
      "\u001b[34m\u001b[1mwandb\u001b[0m: \u001b[32m\u001b[41mERROR\u001b[0m     out = self.convs[edge_type](*args, **kwargs)\n",
      "\u001b[34m\u001b[1mwandb\u001b[0m: \u001b[32m\u001b[41mERROR\u001b[0m   File \"/Users/jjaniak/anaconda3/envs/studia_projekt/lib/python3.8/site-packages/torch/nn/modules/module.py\", line 1518, in _wrapped_call_impl\n",
      "\u001b[34m\u001b[1mwandb\u001b[0m: \u001b[32m\u001b[41mERROR\u001b[0m     return self._call_impl(*args, **kwargs)\n",
      "\u001b[34m\u001b[1mwandb\u001b[0m: \u001b[32m\u001b[41mERROR\u001b[0m   File \"/Users/jjaniak/anaconda3/envs/studia_projekt/lib/python3.8/site-packages/torch/nn/modules/module.py\", line 1527, in _call_impl\n",
      "\u001b[34m\u001b[1mwandb\u001b[0m: \u001b[32m\u001b[41mERROR\u001b[0m     return forward_call(*args, **kwargs)\n",
      "\u001b[34m\u001b[1mwandb\u001b[0m: \u001b[32m\u001b[41mERROR\u001b[0m   File \"/Users/jjaniak/anaconda3/envs/studia_projekt/lib/python3.8/site-packages/torch_geometric/nn/conv/gat_conv.py\", line 252, in forward\n",
      "\u001b[34m\u001b[1mwandb\u001b[0m: \u001b[32m\u001b[41mERROR\u001b[0m     alpha = self.edge_updater(edge_index, alpha=alpha, edge_attr=edge_attr)\n",
      "\u001b[34m\u001b[1mwandb\u001b[0m: \u001b[32m\u001b[41mERROR\u001b[0m   File \"/Users/jjaniak/anaconda3/envs/studia_projekt/lib/python3.8/site-packages/torch_geometric/nn/conv/message_passing.py\", line 527, in edge_updater\n",
      "\u001b[34m\u001b[1mwandb\u001b[0m: \u001b[32m\u001b[41mERROR\u001b[0m     out = self.edge_update(**edge_kwargs)\n",
      "\u001b[34m\u001b[1mwandb\u001b[0m: \u001b[32m\u001b[41mERROR\u001b[0m   File \"/Users/jjaniak/anaconda3/envs/studia_projekt/lib/python3.8/site-packages/torch_geometric/nn/conv/gat_conv.py\", line 295, in edge_update\n",
      "\u001b[34m\u001b[1mwandb\u001b[0m: \u001b[32m\u001b[41mERROR\u001b[0m     alpha = softmax(alpha, index, ptr, size_i)\n",
      "\u001b[34m\u001b[1mwandb\u001b[0m: \u001b[32m\u001b[41mERROR\u001b[0m   File \"/Users/jjaniak/anaconda3/envs/studia_projekt/lib/python3.8/site-packages/torch_geometric/utils/softmax.py\", line 65, in softmax\n",
      "\u001b[34m\u001b[1mwandb\u001b[0m: \u001b[32m\u001b[41mERROR\u001b[0m     src_max = scatter(src.detach(), index, dim, dim_size=N, reduce='max')\n",
      "\u001b[34m\u001b[1mwandb\u001b[0m: \u001b[32m\u001b[41mERROR\u001b[0m   File \"/Users/jjaniak/anaconda3/envs/studia_projekt/lib/python3.8/site-packages/torch_geometric/utils/scatter.py\", line 94, in scatter\n",
      "\u001b[34m\u001b[1mwandb\u001b[0m: \u001b[32m\u001b[41mERROR\u001b[0m     return src.new_zeros(size).scatter_reduce_(\n",
      "\u001b[34m\u001b[1mwandb\u001b[0m: \u001b[32m\u001b[41mERROR\u001b[0m NotImplementedError: The operator 'aten::scatter_reduce.two_out' is not currently implemented for the MPS device. If you want this op to be added in priority during the prototype phase of this feature, please comment on https://github.com/pytorch/pytorch/issues/77764. As a temporary fix, you can set the environment variable `PYTORCH_ENABLE_MPS_FALLBACK=1` to use the CPU as a fallback for this op. WARNING: this will be slower than running natively on MPS.\n",
      "\u001b[34m\u001b[1mwandb\u001b[0m: \u001b[32m\u001b[41mERROR\u001b[0m \n",
      "\u001b[34m\u001b[1mwandb\u001b[0m: Sweep Agent: Waiting for job.\n",
      "\u001b[34m\u001b[1mwandb\u001b[0m: Job received.\n",
      "\u001b[34m\u001b[1mwandb\u001b[0m: Agent Starting Run: j5f1qaqk with config:\n",
      "\u001b[34m\u001b[1mwandb\u001b[0m: \thidden_channels: 20\n",
      "\u001b[34m\u001b[1mwandb\u001b[0m: \tlearning_rate: 0.0033721933696397744\n",
      "\u001b[34m\u001b[1mwandb\u001b[0m: \tlin_layer_size: 16\n",
      "\u001b[34m\u001b[1mwandb\u001b[0m: \tnum_conv_layers: 4\n",
      "\u001b[34m\u001b[1mwandb\u001b[0m: \tnum_lin_layers: 4\n",
      "\u001b[34m\u001b[1mwandb\u001b[0m: \tweight_decay: 2.2630283519562328e-05\n",
      "Failed to detect the name of this notebook, you can set it manually with the WANDB_NOTEBOOK_NAME environment variable to enable code saving.\n"
     ]
    },
    {
     "data": {
      "text/html": [
       "wandb version 0.17.1 is available!  To upgrade, please run:\n",
       " $ pip install wandb --upgrade"
      ],
      "text/plain": [
       "<IPython.core.display.HTML object>"
      ]
     },
     "metadata": {},
     "output_type": "display_data"
    },
    {
     "data": {
      "text/html": [
       "Tracking run with wandb version 0.16.4"
      ],
      "text/plain": [
       "<IPython.core.display.HTML object>"
      ]
     },
     "metadata": {},
     "output_type": "display_data"
    },
    {
     "data": {
      "text/html": [
       "Run data is saved locally in <code>/Users/jjaniak/Documents/studia/projekt/gradient/notebooks/downstream_tasks/wandb/run-20240607_180629-j5f1qaqk</code>"
      ],
      "text/plain": [
       "<IPython.core.display.HTML object>"
      ]
     },
     "metadata": {},
     "output_type": "display_data"
    },
    {
     "data": {
      "text/html": [
       "Syncing run <strong><a href='https://wandb.ai/gradient_pwr/accidents-downstream-task-v2/runs/j5f1qaqk' target=\"_blank\">fragrant-sweep-5</a></strong> to <a href='https://wandb.ai/gradient_pwr/accidents-downstream-task-v2' target=\"_blank\">Weights & Biases</a> (<a href='https://wandb.me/run' target=\"_blank\">docs</a>)<br/>Sweep page: <a href='https://wandb.ai/gradient_pwr/accidents-downstream-task-v2/sweeps/dv87z9ro' target=\"_blank\">https://wandb.ai/gradient_pwr/accidents-downstream-task-v2/sweeps/dv87z9ro</a>"
      ],
      "text/plain": [
       "<IPython.core.display.HTML object>"
      ]
     },
     "metadata": {},
     "output_type": "display_data"
    },
    {
     "data": {
      "text/html": [
       " View project at <a href='https://wandb.ai/gradient_pwr/accidents-downstream-task-v2' target=\"_blank\">https://wandb.ai/gradient_pwr/accidents-downstream-task-v2</a>"
      ],
      "text/plain": [
       "<IPython.core.display.HTML object>"
      ]
     },
     "metadata": {},
     "output_type": "display_data"
    },
    {
     "data": {
      "text/html": [
       " View sweep at <a href='https://wandb.ai/gradient_pwr/accidents-downstream-task-v2/sweeps/dv87z9ro' target=\"_blank\">https://wandb.ai/gradient_pwr/accidents-downstream-task-v2/sweeps/dv87z9ro</a>"
      ],
      "text/plain": [
       "<IPython.core.display.HTML object>"
      ]
     },
     "metadata": {},
     "output_type": "display_data"
    },
    {
     "data": {
      "text/html": [
       " View run at <a href='https://wandb.ai/gradient_pwr/accidents-downstream-task-v2/runs/j5f1qaqk' target=\"_blank\">https://wandb.ai/gradient_pwr/accidents-downstream-task-v2/runs/j5f1qaqk</a>"
      ],
      "text/plain": [
       "<IPython.core.display.HTML object>"
      ]
     },
     "metadata": {},
     "output_type": "display_data"
    },
    {
     "name": "stderr",
     "output_type": "stream",
     "text": [
      "/Users/jjaniak/anaconda3/envs/studia_projekt/lib/python3.8/site-packages/torch_geometric/deprecation.py:22: UserWarning: 'data.DataLoader' is deprecated, use 'loader.DataLoader' instead\n",
      "  warnings.warn(out)\n",
      "GPU available: True (mps), used: True\n",
      "TPU available: False, using: 0 TPU cores\n",
      "IPU available: False, using: 0 IPUs\n",
      "HPU available: False, using: 0 HPUs\n",
      "Missing logger folder: ../../gradient_logs/2024_06_07_18_06_34/lightning_logs\n",
      "\n",
      "  | Name  | Type      | Params\n",
      "------------------------------------\n",
      "0 | model | HeteroGNN | 13.4 K\n",
      "------------------------------------\n",
      "13.4 K    Trainable params\n",
      "0         Non-trainable params\n",
      "13.4 K    Total params\n",
      "0.054     Total estimated model params size (MB)\n"
     ]
    },
    {
     "data": {
      "application/vnd.jupyter.widget-view+json": {
       "model_id": "1ac14c50b63a4d26aa9415785eeeb2d9",
       "version_major": 2,
       "version_minor": 0
      },
      "text/plain": [
       "Sanity Checking: |          | 0/? [00:00<?, ?it/s]"
      ]
     },
     "metadata": {},
     "output_type": "display_data"
    },
    {
     "name": "stderr",
     "output_type": "stream",
     "text": [
      "/Users/jjaniak/anaconda3/envs/studia_projekt/lib/python3.8/site-packages/pytorch_lightning/trainer/connectors/data_connector.py:441: The 'val_dataloader' does not have many workers which may be a bottleneck. Consider increasing the value of the `num_workers` argument` to `num_workers=11` in the `DataLoader` to improve performance.\n"
     ]
    },
    {
     "data": {
      "application/vnd.jupyter.widget-view+json": {
       "model_id": "5c10cf93e28d4420902b9e2dbcbf4002",
       "version_major": 2,
       "version_minor": 0
      },
      "text/plain": [
       "VBox(children=(Label(value='0.001 MB of 0.001 MB uploaded\\r'), FloatProgress(value=1.0, max=1.0)))"
      ]
     },
     "metadata": {},
     "output_type": "display_data"
    },
    {
     "data": {
      "text/html": [
       "<style>\n",
       "    table.wandb td:nth-child(1) { padding: 0 10px; text-align: left ; width: auto;} td:nth-child(2) {text-align: left ; width: 100%}\n",
       "    .wandb-row { display: flex; flex-direction: row; flex-wrap: wrap; justify-content: flex-start; width: 100% }\n",
       "    .wandb-col { display: flex; flex-direction: column; flex-basis: 100%; flex: 1; padding: 10px; }\n",
       "    </style>\n",
       "<div class=\"wandb-row\"><div class=\"wandb-col\"><h3>Run history:</h3><br/><table class=\"wandb\"><tr><td>USE_HEXES_ATTRS</td><td>▁</td></tr><tr><td>USE_ORTOPHOTO</td><td>▁</td></tr><tr><td>USE_OSMNX_ATTRS</td><td>▁</td></tr></table><br/></div><div class=\"wandb-col\"><h3>Run summary:</h3><br/><table class=\"wandb\"><tr><td>USE_HEXES_ATTRS</td><td>1</td></tr><tr><td>USE_ORTOPHOTO</td><td>0</td></tr><tr><td>USE_OSMNX_ATTRS</td><td>1</td></tr><tr><td>data_structure</td><td>graph</td></tr></table><br/></div></div>"
      ],
      "text/plain": [
       "<IPython.core.display.HTML object>"
      ]
     },
     "metadata": {},
     "output_type": "display_data"
    },
    {
     "data": {
      "text/html": [
       " View run <strong style=\"color:#cdcd00\">fragrant-sweep-5</strong> at: <a href='https://wandb.ai/gradient_pwr/accidents-downstream-task-v2/runs/j5f1qaqk' target=\"_blank\">https://wandb.ai/gradient_pwr/accidents-downstream-task-v2/runs/j5f1qaqk</a><br/>Synced 6 W&B file(s), 0 media file(s), 0 artifact file(s) and 0 other file(s)"
      ],
      "text/plain": [
       "<IPython.core.display.HTML object>"
      ]
     },
     "metadata": {},
     "output_type": "display_data"
    },
    {
     "data": {
      "text/html": [
       "Find logs at: <code>./wandb/run-20240607_180629-j5f1qaqk/logs</code>"
      ],
      "text/plain": [
       "<IPython.core.display.HTML object>"
      ]
     },
     "metadata": {},
     "output_type": "display_data"
    },
    {
     "name": "stderr",
     "output_type": "stream",
     "text": [
      "Run j5f1qaqk errored:\n",
      "Traceback (most recent call last):\n",
      "  File \"/Users/jjaniak/anaconda3/envs/studia_projekt/lib/python3.8/site-packages/wandb/agents/pyagent.py\", line 308, in _run_job\n",
      "    self._function()\n",
      "  File \"/var/folders/4k/8js3jm9n457cm4_v631zyrkw0000gn/T/ipykernel_25686/3559290024.py\", line 62, in wrapped\n",
      "    auc, accuracy, f1, model_path = train(\n",
      "  File \"/Users/jjaniak/Documents/studia/projekt/gradient/notebooks/downstream_tasks/../../src/training/train.py\", line 84, in train\n",
      "    trainer.fit(model, train_loader, val_dataloaders=(val_loader or None))\n",
      "  File \"/Users/jjaniak/anaconda3/envs/studia_projekt/lib/python3.8/site-packages/pytorch_lightning/trainer/trainer.py\", line 545, in fit\n",
      "    call._call_and_handle_interrupt(\n",
      "  File \"/Users/jjaniak/anaconda3/envs/studia_projekt/lib/python3.8/site-packages/pytorch_lightning/trainer/call.py\", line 44, in _call_and_handle_interrupt\n",
      "    return trainer_fn(*args, **kwargs)\n",
      "  File \"/Users/jjaniak/anaconda3/envs/studia_projekt/lib/python3.8/site-packages/pytorch_lightning/trainer/trainer.py\", line 581, in _fit_impl\n",
      "    self._run(model, ckpt_path=ckpt_path)\n",
      "  File \"/Users/jjaniak/anaconda3/envs/studia_projekt/lib/python3.8/site-packages/pytorch_lightning/trainer/trainer.py\", line 990, in _run\n",
      "    results = self._run_stage()\n",
      "  File \"/Users/jjaniak/anaconda3/envs/studia_projekt/lib/python3.8/site-packages/pytorch_lightning/trainer/trainer.py\", line 1034, in _run_stage\n",
      "    self._run_sanity_check()\n",
      "  File \"/Users/jjaniak/anaconda3/envs/studia_projekt/lib/python3.8/site-packages/pytorch_lightning/trainer/trainer.py\", line 1063, in _run_sanity_check\n",
      "    val_loop.run()\n",
      "  File \"/Users/jjaniak/anaconda3/envs/studia_projekt/lib/python3.8/site-packages/pytorch_lightning/loops/utilities.py\", line 181, in _decorator\n",
      "    return loop_run(self, *args, **kwargs)\n",
      "  File \"/Users/jjaniak/anaconda3/envs/studia_projekt/lib/python3.8/site-packages/pytorch_lightning/loops/evaluation_loop.py\", line 134, in run\n",
      "    self._evaluation_step(batch, batch_idx, dataloader_idx, dataloader_iter)\n",
      "  File \"/Users/jjaniak/anaconda3/envs/studia_projekt/lib/python3.8/site-packages/pytorch_lightning/loops/evaluation_loop.py\", line 391, in _evaluation_step\n",
      "    output = call._call_strategy_hook(trainer, hook_name, *step_args)\n",
      "  File \"/Users/jjaniak/anaconda3/envs/studia_projekt/lib/python3.8/site-packages/pytorch_lightning/trainer/call.py\", line 309, in _call_strategy_hook\n",
      "    output = fn(*args, **kwargs)\n",
      "  File \"/Users/jjaniak/anaconda3/envs/studia_projekt/lib/python3.8/site-packages/pytorch_lightning/strategies/strategy.py\", line 403, in validation_step\n",
      "    return self.lightning_module.validation_step(*args, **kwargs)\n",
      "  File \"/Users/jjaniak/Documents/studia/projekt/gradient/notebooks/downstream_tasks/../../src/lightning/hetero_gnn_module.py\", line 57, in validation_step\n",
      "    y_hat = self.model(batch.x_dict, batch.edge_index_dict, batch.edge_attr_dict)\n",
      "  File \"/Users/jjaniak/anaconda3/envs/studia_projekt/lib/python3.8/site-packages/torch/nn/modules/module.py\", line 1518, in _wrapped_call_impl\n",
      "    return self._call_impl(*args, **kwargs)\n",
      "  File \"/Users/jjaniak/anaconda3/envs/studia_projekt/lib/python3.8/site-packages/torch/nn/modules/module.py\", line 1527, in _call_impl\n",
      "    return forward_call(*args, **kwargs)\n",
      "  File \"/Users/jjaniak/Documents/studia/projekt/gradient/notebooks/downstream_tasks/../../src/baseline_models/HeteroGNN/HeteroGNN.py\", line 59, in forward\n",
      "    value = self._forward(x_dict, edge_index_dict, edge_atrr_dict)\n",
      "  File \"/Users/jjaniak/Documents/studia/projekt/gradient/notebooks/downstream_tasks/../../src/baseline_models/HeteroGNN/HeteroGNN.py\", line 74, in _forward\n",
      "    x_dict = conv(x_dict, edge_index_dict, edge_atrr_dict)\n",
      "  File \"/Users/jjaniak/anaconda3/envs/studia_projekt/lib/python3.8/site-packages/torch/nn/modules/module.py\", line 1518, in _wrapped_call_impl\n",
      "    return self._call_impl(*args, **kwargs)\n",
      "  File \"/Users/jjaniak/anaconda3/envs/studia_projekt/lib/python3.8/site-packages/torch/nn/modules/module.py\", line 1527, in _call_impl\n",
      "    return forward_call(*args, **kwargs)\n",
      "  File \"/Users/jjaniak/anaconda3/envs/studia_projekt/lib/python3.8/site-packages/torch_geometric/nn/conv/hetero_conv.py\", line 159, in forward\n",
      "    out = self.convs[edge_type](*args, **kwargs)\n",
      "  File \"/Users/jjaniak/anaconda3/envs/studia_projekt/lib/python3.8/site-packages/torch/nn/modules/module.py\", line 1518, in _wrapped_call_impl\n",
      "    return self._call_impl(*args, **kwargs)\n",
      "  File \"/Users/jjaniak/anaconda3/envs/studia_projekt/lib/python3.8/site-packages/torch/nn/modules/module.py\", line 1527, in _call_impl\n",
      "    return forward_call(*args, **kwargs)\n",
      "  File \"/Users/jjaniak/anaconda3/envs/studia_projekt/lib/python3.8/site-packages/torch_geometric/nn/conv/gat_conv.py\", line 252, in forward\n",
      "    alpha = self.edge_updater(edge_index, alpha=alpha, edge_attr=edge_attr)\n",
      "  File \"/Users/jjaniak/anaconda3/envs/studia_projekt/lib/python3.8/site-packages/torch_geometric/nn/conv/message_passing.py\", line 527, in edge_updater\n",
      "    out = self.edge_update(**edge_kwargs)\n",
      "  File \"/Users/jjaniak/anaconda3/envs/studia_projekt/lib/python3.8/site-packages/torch_geometric/nn/conv/gat_conv.py\", line 295, in edge_update\n",
      "    alpha = softmax(alpha, index, ptr, size_i)\n",
      "  File \"/Users/jjaniak/anaconda3/envs/studia_projekt/lib/python3.8/site-packages/torch_geometric/utils/softmax.py\", line 65, in softmax\n",
      "    src_max = scatter(src.detach(), index, dim, dim_size=N, reduce='max')\n",
      "  File \"/Users/jjaniak/anaconda3/envs/studia_projekt/lib/python3.8/site-packages/torch_geometric/utils/scatter.py\", line 94, in scatter\n",
      "    return src.new_zeros(size).scatter_reduce_(\n",
      "NotImplementedError: The operator 'aten::scatter_reduce.two_out' is not currently implemented for the MPS device. If you want this op to be added in priority during the prototype phase of this feature, please comment on https://github.com/pytorch/pytorch/issues/77764. As a temporary fix, you can set the environment variable `PYTORCH_ENABLE_MPS_FALLBACK=1` to use the CPU as a fallback for this op. WARNING: this will be slower than running natively on MPS.\n",
      "\n",
      "\u001b[34m\u001b[1mwandb\u001b[0m: \u001b[32m\u001b[41mERROR\u001b[0m Run j5f1qaqk errored:\n",
      "\u001b[34m\u001b[1mwandb\u001b[0m: \u001b[32m\u001b[41mERROR\u001b[0m Traceback (most recent call last):\n",
      "\u001b[34m\u001b[1mwandb\u001b[0m: \u001b[32m\u001b[41mERROR\u001b[0m   File \"/Users/jjaniak/anaconda3/envs/studia_projekt/lib/python3.8/site-packages/wandb/agents/pyagent.py\", line 308, in _run_job\n",
      "\u001b[34m\u001b[1mwandb\u001b[0m: \u001b[32m\u001b[41mERROR\u001b[0m     self._function()\n",
      "\u001b[34m\u001b[1mwandb\u001b[0m: \u001b[32m\u001b[41mERROR\u001b[0m   File \"/var/folders/4k/8js3jm9n457cm4_v631zyrkw0000gn/T/ipykernel_25686/3559290024.py\", line 62, in wrapped\n",
      "\u001b[34m\u001b[1mwandb\u001b[0m: \u001b[32m\u001b[41mERROR\u001b[0m     auc, accuracy, f1, model_path = train(\n",
      "\u001b[34m\u001b[1mwandb\u001b[0m: \u001b[32m\u001b[41mERROR\u001b[0m   File \"/Users/jjaniak/Documents/studia/projekt/gradient/notebooks/downstream_tasks/../../src/training/train.py\", line 84, in train\n",
      "\u001b[34m\u001b[1mwandb\u001b[0m: \u001b[32m\u001b[41mERROR\u001b[0m     trainer.fit(model, train_loader, val_dataloaders=(val_loader or None))\n",
      "\u001b[34m\u001b[1mwandb\u001b[0m: \u001b[32m\u001b[41mERROR\u001b[0m   File \"/Users/jjaniak/anaconda3/envs/studia_projekt/lib/python3.8/site-packages/pytorch_lightning/trainer/trainer.py\", line 545, in fit\n",
      "\u001b[34m\u001b[1mwandb\u001b[0m: \u001b[32m\u001b[41mERROR\u001b[0m     call._call_and_handle_interrupt(\n",
      "\u001b[34m\u001b[1mwandb\u001b[0m: \u001b[32m\u001b[41mERROR\u001b[0m   File \"/Users/jjaniak/anaconda3/envs/studia_projekt/lib/python3.8/site-packages/pytorch_lightning/trainer/call.py\", line 44, in _call_and_handle_interrupt\n",
      "\u001b[34m\u001b[1mwandb\u001b[0m: \u001b[32m\u001b[41mERROR\u001b[0m     return trainer_fn(*args, **kwargs)\n",
      "\u001b[34m\u001b[1mwandb\u001b[0m: \u001b[32m\u001b[41mERROR\u001b[0m   File \"/Users/jjaniak/anaconda3/envs/studia_projekt/lib/python3.8/site-packages/pytorch_lightning/trainer/trainer.py\", line 581, in _fit_impl\n",
      "\u001b[34m\u001b[1mwandb\u001b[0m: \u001b[32m\u001b[41mERROR\u001b[0m     self._run(model, ckpt_path=ckpt_path)\n",
      "\u001b[34m\u001b[1mwandb\u001b[0m: \u001b[32m\u001b[41mERROR\u001b[0m   File \"/Users/jjaniak/anaconda3/envs/studia_projekt/lib/python3.8/site-packages/pytorch_lightning/trainer/trainer.py\", line 990, in _run\n",
      "\u001b[34m\u001b[1mwandb\u001b[0m: \u001b[32m\u001b[41mERROR\u001b[0m     results = self._run_stage()\n",
      "\u001b[34m\u001b[1mwandb\u001b[0m: \u001b[32m\u001b[41mERROR\u001b[0m   File \"/Users/jjaniak/anaconda3/envs/studia_projekt/lib/python3.8/site-packages/pytorch_lightning/trainer/trainer.py\", line 1034, in _run_stage\n",
      "\u001b[34m\u001b[1mwandb\u001b[0m: \u001b[32m\u001b[41mERROR\u001b[0m     self._run_sanity_check()\n",
      "\u001b[34m\u001b[1mwandb\u001b[0m: \u001b[32m\u001b[41mERROR\u001b[0m   File \"/Users/jjaniak/anaconda3/envs/studia_projekt/lib/python3.8/site-packages/pytorch_lightning/trainer/trainer.py\", line 1063, in _run_sanity_check\n",
      "\u001b[34m\u001b[1mwandb\u001b[0m: \u001b[32m\u001b[41mERROR\u001b[0m     val_loop.run()\n",
      "\u001b[34m\u001b[1mwandb\u001b[0m: \u001b[32m\u001b[41mERROR\u001b[0m   File \"/Users/jjaniak/anaconda3/envs/studia_projekt/lib/python3.8/site-packages/pytorch_lightning/loops/utilities.py\", line 181, in _decorator\n",
      "\u001b[34m\u001b[1mwandb\u001b[0m: \u001b[32m\u001b[41mERROR\u001b[0m     return loop_run(self, *args, **kwargs)\n",
      "\u001b[34m\u001b[1mwandb\u001b[0m: \u001b[32m\u001b[41mERROR\u001b[0m   File \"/Users/jjaniak/anaconda3/envs/studia_projekt/lib/python3.8/site-packages/pytorch_lightning/loops/evaluation_loop.py\", line 134, in run\n",
      "\u001b[34m\u001b[1mwandb\u001b[0m: \u001b[32m\u001b[41mERROR\u001b[0m     self._evaluation_step(batch, batch_idx, dataloader_idx, dataloader_iter)\n",
      "\u001b[34m\u001b[1mwandb\u001b[0m: \u001b[32m\u001b[41mERROR\u001b[0m   File \"/Users/jjaniak/anaconda3/envs/studia_projekt/lib/python3.8/site-packages/pytorch_lightning/loops/evaluation_loop.py\", line 391, in _evaluation_step\n",
      "\u001b[34m\u001b[1mwandb\u001b[0m: \u001b[32m\u001b[41mERROR\u001b[0m     output = call._call_strategy_hook(trainer, hook_name, *step_args)\n",
      "\u001b[34m\u001b[1mwandb\u001b[0m: \u001b[32m\u001b[41mERROR\u001b[0m   File \"/Users/jjaniak/anaconda3/envs/studia_projekt/lib/python3.8/site-packages/pytorch_lightning/trainer/call.py\", line 309, in _call_strategy_hook\n",
      "\u001b[34m\u001b[1mwandb\u001b[0m: \u001b[32m\u001b[41mERROR\u001b[0m     output = fn(*args, **kwargs)\n",
      "\u001b[34m\u001b[1mwandb\u001b[0m: \u001b[32m\u001b[41mERROR\u001b[0m   File \"/Users/jjaniak/anaconda3/envs/studia_projekt/lib/python3.8/site-packages/pytorch_lightning/strategies/strategy.py\", line 403, in validation_step\n",
      "\u001b[34m\u001b[1mwandb\u001b[0m: \u001b[32m\u001b[41mERROR\u001b[0m     return self.lightning_module.validation_step(*args, **kwargs)\n",
      "\u001b[34m\u001b[1mwandb\u001b[0m: \u001b[32m\u001b[41mERROR\u001b[0m   File \"/Users/jjaniak/Documents/studia/projekt/gradient/notebooks/downstream_tasks/../../src/lightning/hetero_gnn_module.py\", line 57, in validation_step\n",
      "\u001b[34m\u001b[1mwandb\u001b[0m: \u001b[32m\u001b[41mERROR\u001b[0m     y_hat = self.model(batch.x_dict, batch.edge_index_dict, batch.edge_attr_dict)\n",
      "\u001b[34m\u001b[1mwandb\u001b[0m: \u001b[32m\u001b[41mERROR\u001b[0m   File \"/Users/jjaniak/anaconda3/envs/studia_projekt/lib/python3.8/site-packages/torch/nn/modules/module.py\", line 1518, in _wrapped_call_impl\n",
      "\u001b[34m\u001b[1mwandb\u001b[0m: \u001b[32m\u001b[41mERROR\u001b[0m     return self._call_impl(*args, **kwargs)\n",
      "\u001b[34m\u001b[1mwandb\u001b[0m: \u001b[32m\u001b[41mERROR\u001b[0m   File \"/Users/jjaniak/anaconda3/envs/studia_projekt/lib/python3.8/site-packages/torch/nn/modules/module.py\", line 1527, in _call_impl\n",
      "\u001b[34m\u001b[1mwandb\u001b[0m: \u001b[32m\u001b[41mERROR\u001b[0m     return forward_call(*args, **kwargs)\n",
      "\u001b[34m\u001b[1mwandb\u001b[0m: \u001b[32m\u001b[41mERROR\u001b[0m   File \"/Users/jjaniak/Documents/studia/projekt/gradient/notebooks/downstream_tasks/../../src/baseline_models/HeteroGNN/HeteroGNN.py\", line 59, in forward\n",
      "\u001b[34m\u001b[1mwandb\u001b[0m: \u001b[32m\u001b[41mERROR\u001b[0m     value = self._forward(x_dict, edge_index_dict, edge_atrr_dict)\n",
      "\u001b[34m\u001b[1mwandb\u001b[0m: \u001b[32m\u001b[41mERROR\u001b[0m   File \"/Users/jjaniak/Documents/studia/projekt/gradient/notebooks/downstream_tasks/../../src/baseline_models/HeteroGNN/HeteroGNN.py\", line 74, in _forward\n",
      "\u001b[34m\u001b[1mwandb\u001b[0m: \u001b[32m\u001b[41mERROR\u001b[0m     x_dict = conv(x_dict, edge_index_dict, edge_atrr_dict)\n",
      "\u001b[34m\u001b[1mwandb\u001b[0m: \u001b[32m\u001b[41mERROR\u001b[0m   File \"/Users/jjaniak/anaconda3/envs/studia_projekt/lib/python3.8/site-packages/torch/nn/modules/module.py\", line 1518, in _wrapped_call_impl\n",
      "\u001b[34m\u001b[1mwandb\u001b[0m: \u001b[32m\u001b[41mERROR\u001b[0m     return self._call_impl(*args, **kwargs)\n",
      "\u001b[34m\u001b[1mwandb\u001b[0m: \u001b[32m\u001b[41mERROR\u001b[0m   File \"/Users/jjaniak/anaconda3/envs/studia_projekt/lib/python3.8/site-packages/torch/nn/modules/module.py\", line 1527, in _call_impl\n",
      "\u001b[34m\u001b[1mwandb\u001b[0m: \u001b[32m\u001b[41mERROR\u001b[0m     return forward_call(*args, **kwargs)\n",
      "\u001b[34m\u001b[1mwandb\u001b[0m: \u001b[32m\u001b[41mERROR\u001b[0m   File \"/Users/jjaniak/anaconda3/envs/studia_projekt/lib/python3.8/site-packages/torch_geometric/nn/conv/hetero_conv.py\", line 159, in forward\n",
      "\u001b[34m\u001b[1mwandb\u001b[0m: \u001b[32m\u001b[41mERROR\u001b[0m     out = self.convs[edge_type](*args, **kwargs)\n",
      "\u001b[34m\u001b[1mwandb\u001b[0m: \u001b[32m\u001b[41mERROR\u001b[0m   File \"/Users/jjaniak/anaconda3/envs/studia_projekt/lib/python3.8/site-packages/torch/nn/modules/module.py\", line 1518, in _wrapped_call_impl\n",
      "\u001b[34m\u001b[1mwandb\u001b[0m: \u001b[32m\u001b[41mERROR\u001b[0m     return self._call_impl(*args, **kwargs)\n",
      "\u001b[34m\u001b[1mwandb\u001b[0m: \u001b[32m\u001b[41mERROR\u001b[0m   File \"/Users/jjaniak/anaconda3/envs/studia_projekt/lib/python3.8/site-packages/torch/nn/modules/module.py\", line 1527, in _call_impl\n",
      "\u001b[34m\u001b[1mwandb\u001b[0m: \u001b[32m\u001b[41mERROR\u001b[0m     return forward_call(*args, **kwargs)\n",
      "\u001b[34m\u001b[1mwandb\u001b[0m: \u001b[32m\u001b[41mERROR\u001b[0m   File \"/Users/jjaniak/anaconda3/envs/studia_projekt/lib/python3.8/site-packages/torch_geometric/nn/conv/gat_conv.py\", line 252, in forward\n",
      "\u001b[34m\u001b[1mwandb\u001b[0m: \u001b[32m\u001b[41mERROR\u001b[0m     alpha = self.edge_updater(edge_index, alpha=alpha, edge_attr=edge_attr)\n",
      "\u001b[34m\u001b[1mwandb\u001b[0m: \u001b[32m\u001b[41mERROR\u001b[0m   File \"/Users/jjaniak/anaconda3/envs/studia_projekt/lib/python3.8/site-packages/torch_geometric/nn/conv/message_passing.py\", line 527, in edge_updater\n",
      "\u001b[34m\u001b[1mwandb\u001b[0m: \u001b[32m\u001b[41mERROR\u001b[0m     out = self.edge_update(**edge_kwargs)\n",
      "\u001b[34m\u001b[1mwandb\u001b[0m: \u001b[32m\u001b[41mERROR\u001b[0m   File \"/Users/jjaniak/anaconda3/envs/studia_projekt/lib/python3.8/site-packages/torch_geometric/nn/conv/gat_conv.py\", line 295, in edge_update\n",
      "\u001b[34m\u001b[1mwandb\u001b[0m: \u001b[32m\u001b[41mERROR\u001b[0m     alpha = softmax(alpha, index, ptr, size_i)\n",
      "\u001b[34m\u001b[1mwandb\u001b[0m: \u001b[32m\u001b[41mERROR\u001b[0m   File \"/Users/jjaniak/anaconda3/envs/studia_projekt/lib/python3.8/site-packages/torch_geometric/utils/softmax.py\", line 65, in softmax\n",
      "\u001b[34m\u001b[1mwandb\u001b[0m: \u001b[32m\u001b[41mERROR\u001b[0m     src_max = scatter(src.detach(), index, dim, dim_size=N, reduce='max')\n",
      "\u001b[34m\u001b[1mwandb\u001b[0m: \u001b[32m\u001b[41mERROR\u001b[0m   File \"/Users/jjaniak/anaconda3/envs/studia_projekt/lib/python3.8/site-packages/torch_geometric/utils/scatter.py\", line 94, in scatter\n",
      "\u001b[34m\u001b[1mwandb\u001b[0m: \u001b[32m\u001b[41mERROR\u001b[0m     return src.new_zeros(size).scatter_reduce_(\n",
      "\u001b[34m\u001b[1mwandb\u001b[0m: \u001b[32m\u001b[41mERROR\u001b[0m NotImplementedError: The operator 'aten::scatter_reduce.two_out' is not currently implemented for the MPS device. If you want this op to be added in priority during the prototype phase of this feature, please comment on https://github.com/pytorch/pytorch/issues/77764. As a temporary fix, you can set the environment variable `PYTORCH_ENABLE_MPS_FALLBACK=1` to use the CPU as a fallback for this op. WARNING: this will be slower than running natively on MPS.\n",
      "\u001b[34m\u001b[1mwandb\u001b[0m: \u001b[32m\u001b[41mERROR\u001b[0m \n",
      "\u001b[34m\u001b[1mwandb\u001b[0m: Agent Starting Run: p930e5zi with config:\n",
      "\u001b[34m\u001b[1mwandb\u001b[0m: \thidden_channels: 40\n",
      "\u001b[34m\u001b[1mwandb\u001b[0m: \tlearning_rate: 0.0006660184853363091\n",
      "\u001b[34m\u001b[1mwandb\u001b[0m: \tlin_layer_size: 64\n",
      "\u001b[34m\u001b[1mwandb\u001b[0m: \tnum_conv_layers: 5\n",
      "\u001b[34m\u001b[1mwandb\u001b[0m: \tnum_lin_layers: 3\n",
      "\u001b[34m\u001b[1mwandb\u001b[0m: \tweight_decay: 0.006321674001067933\n",
      "Failed to detect the name of this notebook, you can set it manually with the WANDB_NOTEBOOK_NAME environment variable to enable code saving.\n"
     ]
    },
    {
     "data": {
      "text/html": [
       "wandb version 0.17.1 is available!  To upgrade, please run:\n",
       " $ pip install wandb --upgrade"
      ],
      "text/plain": [
       "<IPython.core.display.HTML object>"
      ]
     },
     "metadata": {},
     "output_type": "display_data"
    },
    {
     "data": {
      "text/html": [
       "Tracking run with wandb version 0.16.4"
      ],
      "text/plain": [
       "<IPython.core.display.HTML object>"
      ]
     },
     "metadata": {},
     "output_type": "display_data"
    },
    {
     "data": {
      "text/html": [
       "Run data is saved locally in <code>/Users/jjaniak/Documents/studia/projekt/gradient/notebooks/downstream_tasks/wandb/run-20240607_180642-p930e5zi</code>"
      ],
      "text/plain": [
       "<IPython.core.display.HTML object>"
      ]
     },
     "metadata": {},
     "output_type": "display_data"
    },
    {
     "data": {
      "text/html": [
       "Syncing run <strong><a href='https://wandb.ai/gradient_pwr/accidents-downstream-task-v2/runs/p930e5zi' target=\"_blank\">breezy-sweep-6</a></strong> to <a href='https://wandb.ai/gradient_pwr/accidents-downstream-task-v2' target=\"_blank\">Weights & Biases</a> (<a href='https://wandb.me/run' target=\"_blank\">docs</a>)<br/>Sweep page: <a href='https://wandb.ai/gradient_pwr/accidents-downstream-task-v2/sweeps/dv87z9ro' target=\"_blank\">https://wandb.ai/gradient_pwr/accidents-downstream-task-v2/sweeps/dv87z9ro</a>"
      ],
      "text/plain": [
       "<IPython.core.display.HTML object>"
      ]
     },
     "metadata": {},
     "output_type": "display_data"
    },
    {
     "data": {
      "text/html": [
       " View project at <a href='https://wandb.ai/gradient_pwr/accidents-downstream-task-v2' target=\"_blank\">https://wandb.ai/gradient_pwr/accidents-downstream-task-v2</a>"
      ],
      "text/plain": [
       "<IPython.core.display.HTML object>"
      ]
     },
     "metadata": {},
     "output_type": "display_data"
    },
    {
     "data": {
      "text/html": [
       " View sweep at <a href='https://wandb.ai/gradient_pwr/accidents-downstream-task-v2/sweeps/dv87z9ro' target=\"_blank\">https://wandb.ai/gradient_pwr/accidents-downstream-task-v2/sweeps/dv87z9ro</a>"
      ],
      "text/plain": [
       "<IPython.core.display.HTML object>"
      ]
     },
     "metadata": {},
     "output_type": "display_data"
    },
    {
     "data": {
      "text/html": [
       " View run at <a href='https://wandb.ai/gradient_pwr/accidents-downstream-task-v2/runs/p930e5zi' target=\"_blank\">https://wandb.ai/gradient_pwr/accidents-downstream-task-v2/runs/p930e5zi</a>"
      ],
      "text/plain": [
       "<IPython.core.display.HTML object>"
      ]
     },
     "metadata": {},
     "output_type": "display_data"
    },
    {
     "name": "stderr",
     "output_type": "stream",
     "text": [
      "/Users/jjaniak/anaconda3/envs/studia_projekt/lib/python3.8/site-packages/torch_geometric/deprecation.py:22: UserWarning: 'data.DataLoader' is deprecated, use 'loader.DataLoader' instead\n",
      "  warnings.warn(out)\n",
      "GPU available: True (mps), used: True\n",
      "TPU available: False, using: 0 TPU cores\n",
      "IPU available: False, using: 0 IPUs\n",
      "HPU available: False, using: 0 HPUs\n",
      "Missing logger folder: ../../gradient_logs/2024_06_07_18_06_47/lightning_logs\n",
      "\n",
      "  | Name  | Type      | Params\n",
      "------------------------------------\n",
      "0 | model | HeteroGNN | 62.5 K\n",
      "------------------------------------\n",
      "62.5 K    Trainable params\n",
      "0         Non-trainable params\n",
      "62.5 K    Total params\n",
      "0.250     Total estimated model params size (MB)\n"
     ]
    },
    {
     "data": {
      "application/vnd.jupyter.widget-view+json": {
       "model_id": "1b819937520e4e9fbbe83433a279c09a",
       "version_major": 2,
       "version_minor": 0
      },
      "text/plain": [
       "Sanity Checking: |          | 0/? [00:00<?, ?it/s]"
      ]
     },
     "metadata": {},
     "output_type": "display_data"
    },
    {
     "name": "stderr",
     "output_type": "stream",
     "text": [
      "/Users/jjaniak/anaconda3/envs/studia_projekt/lib/python3.8/site-packages/pytorch_lightning/trainer/connectors/data_connector.py:441: The 'val_dataloader' does not have many workers which may be a bottleneck. Consider increasing the value of the `num_workers` argument` to `num_workers=11` in the `DataLoader` to improve performance.\n"
     ]
    },
    {
     "data": {
      "application/vnd.jupyter.widget-view+json": {
       "model_id": "9726701698c04050ab98a99f1c2b2838",
       "version_major": 2,
       "version_minor": 0
      },
      "text/plain": [
       "VBox(children=(Label(value='0.001 MB of 0.001 MB uploaded\\r'), FloatProgress(value=1.0, max=1.0)))"
      ]
     },
     "metadata": {},
     "output_type": "display_data"
    },
    {
     "data": {
      "text/html": [
       "<style>\n",
       "    table.wandb td:nth-child(1) { padding: 0 10px; text-align: left ; width: auto;} td:nth-child(2) {text-align: left ; width: 100%}\n",
       "    .wandb-row { display: flex; flex-direction: row; flex-wrap: wrap; justify-content: flex-start; width: 100% }\n",
       "    .wandb-col { display: flex; flex-direction: column; flex-basis: 100%; flex: 1; padding: 10px; }\n",
       "    </style>\n",
       "<div class=\"wandb-row\"><div class=\"wandb-col\"><h3>Run history:</h3><br/><table class=\"wandb\"><tr><td>USE_HEXES_ATTRS</td><td>▁</td></tr><tr><td>USE_ORTOPHOTO</td><td>▁</td></tr><tr><td>USE_OSMNX_ATTRS</td><td>▁</td></tr></table><br/></div><div class=\"wandb-col\"><h3>Run summary:</h3><br/><table class=\"wandb\"><tr><td>USE_HEXES_ATTRS</td><td>1</td></tr><tr><td>USE_ORTOPHOTO</td><td>0</td></tr><tr><td>USE_OSMNX_ATTRS</td><td>1</td></tr><tr><td>data_structure</td><td>graph</td></tr></table><br/></div></div>"
      ],
      "text/plain": [
       "<IPython.core.display.HTML object>"
      ]
     },
     "metadata": {},
     "output_type": "display_data"
    },
    {
     "data": {
      "text/html": [
       " View run <strong style=\"color:#cdcd00\">breezy-sweep-6</strong> at: <a href='https://wandb.ai/gradient_pwr/accidents-downstream-task-v2/runs/p930e5zi' target=\"_blank\">https://wandb.ai/gradient_pwr/accidents-downstream-task-v2/runs/p930e5zi</a><br/>Synced 6 W&B file(s), 0 media file(s), 0 artifact file(s) and 0 other file(s)"
      ],
      "text/plain": [
       "<IPython.core.display.HTML object>"
      ]
     },
     "metadata": {},
     "output_type": "display_data"
    },
    {
     "data": {
      "text/html": [
       "Find logs at: <code>./wandb/run-20240607_180642-p930e5zi/logs</code>"
      ],
      "text/plain": [
       "<IPython.core.display.HTML object>"
      ]
     },
     "metadata": {},
     "output_type": "display_data"
    },
    {
     "name": "stderr",
     "output_type": "stream",
     "text": [
      "Run p930e5zi errored:\n",
      "Traceback (most recent call last):\n",
      "  File \"/Users/jjaniak/anaconda3/envs/studia_projekt/lib/python3.8/site-packages/wandb/agents/pyagent.py\", line 308, in _run_job\n",
      "    self._function()\n",
      "  File \"/var/folders/4k/8js3jm9n457cm4_v631zyrkw0000gn/T/ipykernel_25686/3559290024.py\", line 62, in wrapped\n",
      "    auc, accuracy, f1, model_path = train(\n",
      "  File \"/Users/jjaniak/Documents/studia/projekt/gradient/notebooks/downstream_tasks/../../src/training/train.py\", line 84, in train\n",
      "    trainer.fit(model, train_loader, val_dataloaders=(val_loader or None))\n",
      "  File \"/Users/jjaniak/anaconda3/envs/studia_projekt/lib/python3.8/site-packages/pytorch_lightning/trainer/trainer.py\", line 545, in fit\n",
      "    call._call_and_handle_interrupt(\n",
      "  File \"/Users/jjaniak/anaconda3/envs/studia_projekt/lib/python3.8/site-packages/pytorch_lightning/trainer/call.py\", line 44, in _call_and_handle_interrupt\n",
      "    return trainer_fn(*args, **kwargs)\n",
      "  File \"/Users/jjaniak/anaconda3/envs/studia_projekt/lib/python3.8/site-packages/pytorch_lightning/trainer/trainer.py\", line 581, in _fit_impl\n",
      "    self._run(model, ckpt_path=ckpt_path)\n",
      "  File \"/Users/jjaniak/anaconda3/envs/studia_projekt/lib/python3.8/site-packages/pytorch_lightning/trainer/trainer.py\", line 990, in _run\n",
      "    results = self._run_stage()\n",
      "  File \"/Users/jjaniak/anaconda3/envs/studia_projekt/lib/python3.8/site-packages/pytorch_lightning/trainer/trainer.py\", line 1034, in _run_stage\n",
      "    self._run_sanity_check()\n",
      "  File \"/Users/jjaniak/anaconda3/envs/studia_projekt/lib/python3.8/site-packages/pytorch_lightning/trainer/trainer.py\", line 1063, in _run_sanity_check\n",
      "    val_loop.run()\n",
      "  File \"/Users/jjaniak/anaconda3/envs/studia_projekt/lib/python3.8/site-packages/pytorch_lightning/loops/utilities.py\", line 181, in _decorator\n",
      "    return loop_run(self, *args, **kwargs)\n",
      "  File \"/Users/jjaniak/anaconda3/envs/studia_projekt/lib/python3.8/site-packages/pytorch_lightning/loops/evaluation_loop.py\", line 134, in run\n",
      "    self._evaluation_step(batch, batch_idx, dataloader_idx, dataloader_iter)\n",
      "  File \"/Users/jjaniak/anaconda3/envs/studia_projekt/lib/python3.8/site-packages/pytorch_lightning/loops/evaluation_loop.py\", line 391, in _evaluation_step\n",
      "    output = call._call_strategy_hook(trainer, hook_name, *step_args)\n",
      "  File \"/Users/jjaniak/anaconda3/envs/studia_projekt/lib/python3.8/site-packages/pytorch_lightning/trainer/call.py\", line 309, in _call_strategy_hook\n",
      "    output = fn(*args, **kwargs)\n",
      "  File \"/Users/jjaniak/anaconda3/envs/studia_projekt/lib/python3.8/site-packages/pytorch_lightning/strategies/strategy.py\", line 403, in validation_step\n",
      "    return self.lightning_module.validation_step(*args, **kwargs)\n",
      "  File \"/Users/jjaniak/Documents/studia/projekt/gradient/notebooks/downstream_tasks/../../src/lightning/hetero_gnn_module.py\", line 57, in validation_step\n",
      "    y_hat = self.model(batch.x_dict, batch.edge_index_dict, batch.edge_attr_dict)\n",
      "  File \"/Users/jjaniak/anaconda3/envs/studia_projekt/lib/python3.8/site-packages/torch/nn/modules/module.py\", line 1518, in _wrapped_call_impl\n",
      "    return self._call_impl(*args, **kwargs)\n",
      "  File \"/Users/jjaniak/anaconda3/envs/studia_projekt/lib/python3.8/site-packages/torch/nn/modules/module.py\", line 1527, in _call_impl\n",
      "    return forward_call(*args, **kwargs)\n",
      "  File \"/Users/jjaniak/Documents/studia/projekt/gradient/notebooks/downstream_tasks/../../src/baseline_models/HeteroGNN/HeteroGNN.py\", line 59, in forward\n",
      "    value = self._forward(x_dict, edge_index_dict, edge_atrr_dict)\n",
      "  File \"/Users/jjaniak/Documents/studia/projekt/gradient/notebooks/downstream_tasks/../../src/baseline_models/HeteroGNN/HeteroGNN.py\", line 74, in _forward\n",
      "    x_dict = conv(x_dict, edge_index_dict, edge_atrr_dict)\n",
      "  File \"/Users/jjaniak/anaconda3/envs/studia_projekt/lib/python3.8/site-packages/torch/nn/modules/module.py\", line 1518, in _wrapped_call_impl\n",
      "    return self._call_impl(*args, **kwargs)\n",
      "  File \"/Users/jjaniak/anaconda3/envs/studia_projekt/lib/python3.8/site-packages/torch/nn/modules/module.py\", line 1527, in _call_impl\n",
      "    return forward_call(*args, **kwargs)\n",
      "  File \"/Users/jjaniak/anaconda3/envs/studia_projekt/lib/python3.8/site-packages/torch_geometric/nn/conv/hetero_conv.py\", line 159, in forward\n",
      "    out = self.convs[edge_type](*args, **kwargs)\n",
      "  File \"/Users/jjaniak/anaconda3/envs/studia_projekt/lib/python3.8/site-packages/torch/nn/modules/module.py\", line 1518, in _wrapped_call_impl\n",
      "    return self._call_impl(*args, **kwargs)\n",
      "  File \"/Users/jjaniak/anaconda3/envs/studia_projekt/lib/python3.8/site-packages/torch/nn/modules/module.py\", line 1527, in _call_impl\n",
      "    return forward_call(*args, **kwargs)\n",
      "  File \"/Users/jjaniak/anaconda3/envs/studia_projekt/lib/python3.8/site-packages/torch_geometric/nn/conv/gat_conv.py\", line 252, in forward\n",
      "    alpha = self.edge_updater(edge_index, alpha=alpha, edge_attr=edge_attr)\n",
      "  File \"/Users/jjaniak/anaconda3/envs/studia_projekt/lib/python3.8/site-packages/torch_geometric/nn/conv/message_passing.py\", line 527, in edge_updater\n",
      "    out = self.edge_update(**edge_kwargs)\n",
      "  File \"/Users/jjaniak/anaconda3/envs/studia_projekt/lib/python3.8/site-packages/torch_geometric/nn/conv/gat_conv.py\", line 295, in edge_update\n",
      "    alpha = softmax(alpha, index, ptr, size_i)\n",
      "  File \"/Users/jjaniak/anaconda3/envs/studia_projekt/lib/python3.8/site-packages/torch_geometric/utils/softmax.py\", line 65, in softmax\n",
      "    src_max = scatter(src.detach(), index, dim, dim_size=N, reduce='max')\n",
      "  File \"/Users/jjaniak/anaconda3/envs/studia_projekt/lib/python3.8/site-packages/torch_geometric/utils/scatter.py\", line 94, in scatter\n",
      "    return src.new_zeros(size).scatter_reduce_(\n",
      "NotImplementedError: The operator 'aten::scatter_reduce.two_out' is not currently implemented for the MPS device. If you want this op to be added in priority during the prototype phase of this feature, please comment on https://github.com/pytorch/pytorch/issues/77764. As a temporary fix, you can set the environment variable `PYTORCH_ENABLE_MPS_FALLBACK=1` to use the CPU as a fallback for this op. WARNING: this will be slower than running natively on MPS.\n",
      "\n",
      "\u001b[34m\u001b[1mwandb\u001b[0m: \u001b[32m\u001b[41mERROR\u001b[0m Run p930e5zi errored:\n",
      "\u001b[34m\u001b[1mwandb\u001b[0m: \u001b[32m\u001b[41mERROR\u001b[0m Traceback (most recent call last):\n",
      "\u001b[34m\u001b[1mwandb\u001b[0m: \u001b[32m\u001b[41mERROR\u001b[0m   File \"/Users/jjaniak/anaconda3/envs/studia_projekt/lib/python3.8/site-packages/wandb/agents/pyagent.py\", line 308, in _run_job\n",
      "\u001b[34m\u001b[1mwandb\u001b[0m: \u001b[32m\u001b[41mERROR\u001b[0m     self._function()\n",
      "\u001b[34m\u001b[1mwandb\u001b[0m: \u001b[32m\u001b[41mERROR\u001b[0m   File \"/var/folders/4k/8js3jm9n457cm4_v631zyrkw0000gn/T/ipykernel_25686/3559290024.py\", line 62, in wrapped\n",
      "\u001b[34m\u001b[1mwandb\u001b[0m: \u001b[32m\u001b[41mERROR\u001b[0m     auc, accuracy, f1, model_path = train(\n",
      "\u001b[34m\u001b[1mwandb\u001b[0m: \u001b[32m\u001b[41mERROR\u001b[0m   File \"/Users/jjaniak/Documents/studia/projekt/gradient/notebooks/downstream_tasks/../../src/training/train.py\", line 84, in train\n",
      "\u001b[34m\u001b[1mwandb\u001b[0m: \u001b[32m\u001b[41mERROR\u001b[0m     trainer.fit(model, train_loader, val_dataloaders=(val_loader or None))\n",
      "\u001b[34m\u001b[1mwandb\u001b[0m: \u001b[32m\u001b[41mERROR\u001b[0m   File \"/Users/jjaniak/anaconda3/envs/studia_projekt/lib/python3.8/site-packages/pytorch_lightning/trainer/trainer.py\", line 545, in fit\n",
      "\u001b[34m\u001b[1mwandb\u001b[0m: \u001b[32m\u001b[41mERROR\u001b[0m     call._call_and_handle_interrupt(\n",
      "\u001b[34m\u001b[1mwandb\u001b[0m: \u001b[32m\u001b[41mERROR\u001b[0m   File \"/Users/jjaniak/anaconda3/envs/studia_projekt/lib/python3.8/site-packages/pytorch_lightning/trainer/call.py\", line 44, in _call_and_handle_interrupt\n",
      "\u001b[34m\u001b[1mwandb\u001b[0m: \u001b[32m\u001b[41mERROR\u001b[0m     return trainer_fn(*args, **kwargs)\n",
      "\u001b[34m\u001b[1mwandb\u001b[0m: \u001b[32m\u001b[41mERROR\u001b[0m   File \"/Users/jjaniak/anaconda3/envs/studia_projekt/lib/python3.8/site-packages/pytorch_lightning/trainer/trainer.py\", line 581, in _fit_impl\n",
      "\u001b[34m\u001b[1mwandb\u001b[0m: \u001b[32m\u001b[41mERROR\u001b[0m     self._run(model, ckpt_path=ckpt_path)\n",
      "\u001b[34m\u001b[1mwandb\u001b[0m: \u001b[32m\u001b[41mERROR\u001b[0m   File \"/Users/jjaniak/anaconda3/envs/studia_projekt/lib/python3.8/site-packages/pytorch_lightning/trainer/trainer.py\", line 990, in _run\n",
      "\u001b[34m\u001b[1mwandb\u001b[0m: \u001b[32m\u001b[41mERROR\u001b[0m     results = self._run_stage()\n",
      "\u001b[34m\u001b[1mwandb\u001b[0m: \u001b[32m\u001b[41mERROR\u001b[0m   File \"/Users/jjaniak/anaconda3/envs/studia_projekt/lib/python3.8/site-packages/pytorch_lightning/trainer/trainer.py\", line 1034, in _run_stage\n",
      "\u001b[34m\u001b[1mwandb\u001b[0m: \u001b[32m\u001b[41mERROR\u001b[0m     self._run_sanity_check()\n",
      "\u001b[34m\u001b[1mwandb\u001b[0m: \u001b[32m\u001b[41mERROR\u001b[0m   File \"/Users/jjaniak/anaconda3/envs/studia_projekt/lib/python3.8/site-packages/pytorch_lightning/trainer/trainer.py\", line 1063, in _run_sanity_check\n",
      "\u001b[34m\u001b[1mwandb\u001b[0m: \u001b[32m\u001b[41mERROR\u001b[0m     val_loop.run()\n",
      "\u001b[34m\u001b[1mwandb\u001b[0m: \u001b[32m\u001b[41mERROR\u001b[0m   File \"/Users/jjaniak/anaconda3/envs/studia_projekt/lib/python3.8/site-packages/pytorch_lightning/loops/utilities.py\", line 181, in _decorator\n",
      "\u001b[34m\u001b[1mwandb\u001b[0m: \u001b[32m\u001b[41mERROR\u001b[0m     return loop_run(self, *args, **kwargs)\n",
      "\u001b[34m\u001b[1mwandb\u001b[0m: \u001b[32m\u001b[41mERROR\u001b[0m   File \"/Users/jjaniak/anaconda3/envs/studia_projekt/lib/python3.8/site-packages/pytorch_lightning/loops/evaluation_loop.py\", line 134, in run\n",
      "\u001b[34m\u001b[1mwandb\u001b[0m: \u001b[32m\u001b[41mERROR\u001b[0m     self._evaluation_step(batch, batch_idx, dataloader_idx, dataloader_iter)\n",
      "\u001b[34m\u001b[1mwandb\u001b[0m: \u001b[32m\u001b[41mERROR\u001b[0m   File \"/Users/jjaniak/anaconda3/envs/studia_projekt/lib/python3.8/site-packages/pytorch_lightning/loops/evaluation_loop.py\", line 391, in _evaluation_step\n",
      "\u001b[34m\u001b[1mwandb\u001b[0m: \u001b[32m\u001b[41mERROR\u001b[0m     output = call._call_strategy_hook(trainer, hook_name, *step_args)\n",
      "\u001b[34m\u001b[1mwandb\u001b[0m: \u001b[32m\u001b[41mERROR\u001b[0m   File \"/Users/jjaniak/anaconda3/envs/studia_projekt/lib/python3.8/site-packages/pytorch_lightning/trainer/call.py\", line 309, in _call_strategy_hook\n",
      "\u001b[34m\u001b[1mwandb\u001b[0m: \u001b[32m\u001b[41mERROR\u001b[0m     output = fn(*args, **kwargs)\n",
      "\u001b[34m\u001b[1mwandb\u001b[0m: \u001b[32m\u001b[41mERROR\u001b[0m   File \"/Users/jjaniak/anaconda3/envs/studia_projekt/lib/python3.8/site-packages/pytorch_lightning/strategies/strategy.py\", line 403, in validation_step\n",
      "\u001b[34m\u001b[1mwandb\u001b[0m: \u001b[32m\u001b[41mERROR\u001b[0m     return self.lightning_module.validation_step(*args, **kwargs)\n",
      "\u001b[34m\u001b[1mwandb\u001b[0m: \u001b[32m\u001b[41mERROR\u001b[0m   File \"/Users/jjaniak/Documents/studia/projekt/gradient/notebooks/downstream_tasks/../../src/lightning/hetero_gnn_module.py\", line 57, in validation_step\n",
      "\u001b[34m\u001b[1mwandb\u001b[0m: \u001b[32m\u001b[41mERROR\u001b[0m     y_hat = self.model(batch.x_dict, batch.edge_index_dict, batch.edge_attr_dict)\n",
      "\u001b[34m\u001b[1mwandb\u001b[0m: \u001b[32m\u001b[41mERROR\u001b[0m   File \"/Users/jjaniak/anaconda3/envs/studia_projekt/lib/python3.8/site-packages/torch/nn/modules/module.py\", line 1518, in _wrapped_call_impl\n",
      "\u001b[34m\u001b[1mwandb\u001b[0m: \u001b[32m\u001b[41mERROR\u001b[0m     return self._call_impl(*args, **kwargs)\n",
      "\u001b[34m\u001b[1mwandb\u001b[0m: \u001b[32m\u001b[41mERROR\u001b[0m   File \"/Users/jjaniak/anaconda3/envs/studia_projekt/lib/python3.8/site-packages/torch/nn/modules/module.py\", line 1527, in _call_impl\n",
      "\u001b[34m\u001b[1mwandb\u001b[0m: \u001b[32m\u001b[41mERROR\u001b[0m     return forward_call(*args, **kwargs)\n",
      "\u001b[34m\u001b[1mwandb\u001b[0m: \u001b[32m\u001b[41mERROR\u001b[0m   File \"/Users/jjaniak/Documents/studia/projekt/gradient/notebooks/downstream_tasks/../../src/baseline_models/HeteroGNN/HeteroGNN.py\", line 59, in forward\n",
      "\u001b[34m\u001b[1mwandb\u001b[0m: \u001b[32m\u001b[41mERROR\u001b[0m     value = self._forward(x_dict, edge_index_dict, edge_atrr_dict)\n",
      "\u001b[34m\u001b[1mwandb\u001b[0m: \u001b[32m\u001b[41mERROR\u001b[0m   File \"/Users/jjaniak/Documents/studia/projekt/gradient/notebooks/downstream_tasks/../../src/baseline_models/HeteroGNN/HeteroGNN.py\", line 74, in _forward\n",
      "\u001b[34m\u001b[1mwandb\u001b[0m: \u001b[32m\u001b[41mERROR\u001b[0m     x_dict = conv(x_dict, edge_index_dict, edge_atrr_dict)\n",
      "\u001b[34m\u001b[1mwandb\u001b[0m: \u001b[32m\u001b[41mERROR\u001b[0m   File \"/Users/jjaniak/anaconda3/envs/studia_projekt/lib/python3.8/site-packages/torch/nn/modules/module.py\", line 1518, in _wrapped_call_impl\n",
      "\u001b[34m\u001b[1mwandb\u001b[0m: \u001b[32m\u001b[41mERROR\u001b[0m     return self._call_impl(*args, **kwargs)\n",
      "\u001b[34m\u001b[1mwandb\u001b[0m: \u001b[32m\u001b[41mERROR\u001b[0m   File \"/Users/jjaniak/anaconda3/envs/studia_projekt/lib/python3.8/site-packages/torch/nn/modules/module.py\", line 1527, in _call_impl\n",
      "\u001b[34m\u001b[1mwandb\u001b[0m: \u001b[32m\u001b[41mERROR\u001b[0m     return forward_call(*args, **kwargs)\n",
      "\u001b[34m\u001b[1mwandb\u001b[0m: \u001b[32m\u001b[41mERROR\u001b[0m   File \"/Users/jjaniak/anaconda3/envs/studia_projekt/lib/python3.8/site-packages/torch_geometric/nn/conv/hetero_conv.py\", line 159, in forward\n",
      "\u001b[34m\u001b[1mwandb\u001b[0m: \u001b[32m\u001b[41mERROR\u001b[0m     out = self.convs[edge_type](*args, **kwargs)\n",
      "\u001b[34m\u001b[1mwandb\u001b[0m: \u001b[32m\u001b[41mERROR\u001b[0m   File \"/Users/jjaniak/anaconda3/envs/studia_projekt/lib/python3.8/site-packages/torch/nn/modules/module.py\", line 1518, in _wrapped_call_impl\n",
      "\u001b[34m\u001b[1mwandb\u001b[0m: \u001b[32m\u001b[41mERROR\u001b[0m     return self._call_impl(*args, **kwargs)\n",
      "\u001b[34m\u001b[1mwandb\u001b[0m: \u001b[32m\u001b[41mERROR\u001b[0m   File \"/Users/jjaniak/anaconda3/envs/studia_projekt/lib/python3.8/site-packages/torch/nn/modules/module.py\", line 1527, in _call_impl\n",
      "\u001b[34m\u001b[1mwandb\u001b[0m: \u001b[32m\u001b[41mERROR\u001b[0m     return forward_call(*args, **kwargs)\n",
      "\u001b[34m\u001b[1mwandb\u001b[0m: \u001b[32m\u001b[41mERROR\u001b[0m   File \"/Users/jjaniak/anaconda3/envs/studia_projekt/lib/python3.8/site-packages/torch_geometric/nn/conv/gat_conv.py\", line 252, in forward\n",
      "\u001b[34m\u001b[1mwandb\u001b[0m: \u001b[32m\u001b[41mERROR\u001b[0m     alpha = self.edge_updater(edge_index, alpha=alpha, edge_attr=edge_attr)\n",
      "\u001b[34m\u001b[1mwandb\u001b[0m: \u001b[32m\u001b[41mERROR\u001b[0m   File \"/Users/jjaniak/anaconda3/envs/studia_projekt/lib/python3.8/site-packages/torch_geometric/nn/conv/message_passing.py\", line 527, in edge_updater\n",
      "\u001b[34m\u001b[1mwandb\u001b[0m: \u001b[32m\u001b[41mERROR\u001b[0m     out = self.edge_update(**edge_kwargs)\n",
      "\u001b[34m\u001b[1mwandb\u001b[0m: \u001b[32m\u001b[41mERROR\u001b[0m   File \"/Users/jjaniak/anaconda3/envs/studia_projekt/lib/python3.8/site-packages/torch_geometric/nn/conv/gat_conv.py\", line 295, in edge_update\n",
      "\u001b[34m\u001b[1mwandb\u001b[0m: \u001b[32m\u001b[41mERROR\u001b[0m     alpha = softmax(alpha, index, ptr, size_i)\n",
      "\u001b[34m\u001b[1mwandb\u001b[0m: \u001b[32m\u001b[41mERROR\u001b[0m   File \"/Users/jjaniak/anaconda3/envs/studia_projekt/lib/python3.8/site-packages/torch_geometric/utils/softmax.py\", line 65, in softmax\n",
      "\u001b[34m\u001b[1mwandb\u001b[0m: \u001b[32m\u001b[41mERROR\u001b[0m     src_max = scatter(src.detach(), index, dim, dim_size=N, reduce='max')\n",
      "\u001b[34m\u001b[1mwandb\u001b[0m: \u001b[32m\u001b[41mERROR\u001b[0m   File \"/Users/jjaniak/anaconda3/envs/studia_projekt/lib/python3.8/site-packages/torch_geometric/utils/scatter.py\", line 94, in scatter\n",
      "\u001b[34m\u001b[1mwandb\u001b[0m: \u001b[32m\u001b[41mERROR\u001b[0m     return src.new_zeros(size).scatter_reduce_(\n",
      "\u001b[34m\u001b[1mwandb\u001b[0m: \u001b[32m\u001b[41mERROR\u001b[0m NotImplementedError: The operator 'aten::scatter_reduce.two_out' is not currently implemented for the MPS device. If you want this op to be added in priority during the prototype phase of this feature, please comment on https://github.com/pytorch/pytorch/issues/77764. As a temporary fix, you can set the environment variable `PYTORCH_ENABLE_MPS_FALLBACK=1` to use the CPU as a fallback for this op. WARNING: this will be slower than running natively on MPS.\n",
      "\u001b[34m\u001b[1mwandb\u001b[0m: \u001b[32m\u001b[41mERROR\u001b[0m \n",
      "Detected 5 failed runs in a row at start, killing sweep.\n",
      "\u001b[34m\u001b[1mwandb\u001b[0m: \u001b[32m\u001b[41mERROR\u001b[0m Detected 5 failed runs in a row at start, killing sweep.\n",
      "\u001b[34m\u001b[1mwandb\u001b[0m: To change this value set WANDB_AGENT_MAX_INITIAL_FAILURES=val\n"
     ]
    },
    {
     "name": "stdout",
     "output_type": "stream",
     "text": [
      "Sweep for config 2/4 in progress...\n"
     ]
    },
    {
     "name": "stderr",
     "output_type": "stream",
     "text": [
      "\u001b[34m\u001b[1mwandb\u001b[0m: \u001b[33mWARNING\u001b[0m If you're specifying your api key in code, ensure this code is not shared publicly.\n",
      "\u001b[34m\u001b[1mwandb\u001b[0m: \u001b[33mWARNING\u001b[0m Consider setting the WANDB_API_KEY environment variable, or running `wandb login` from the command line.\n",
      "\u001b[34m\u001b[1mwandb\u001b[0m: Appending key for api.wandb.ai to your netrc file: /Users/jjaniak/.netrc\n"
     ]
    },
    {
     "name": "stdout",
     "output_type": "stream",
     "text": [
      "Create sweep with ID: mw9d6wsp\n",
      "Sweep URL: https://wandb.ai/gradient_pwr/accidents-downstream-task-v2/sweeps/mw9d6wsp\n"
     ]
    },
    {
     "name": "stderr",
     "output_type": "stream",
     "text": [
      "\u001b[34m\u001b[1mwandb\u001b[0m: Agent Starting Run: dhnmr268 with config:\n",
      "\u001b[34m\u001b[1mwandb\u001b[0m: \thidden_channels: 50\n",
      "\u001b[34m\u001b[1mwandb\u001b[0m: \tlearning_rate: 0.0010748515803113716\n",
      "\u001b[34m\u001b[1mwandb\u001b[0m: \tlin_layer_size: 8\n",
      "\u001b[34m\u001b[1mwandb\u001b[0m: \tnum_conv_layers: 2\n",
      "\u001b[34m\u001b[1mwandb\u001b[0m: \tnum_lin_layers: 4\n",
      "\u001b[34m\u001b[1mwandb\u001b[0m: \tweight_decay: 8.098150785204365e-05\n",
      "Failed to detect the name of this notebook, you can set it manually with the WANDB_NOTEBOOK_NAME environment variable to enable code saving.\n"
     ]
    },
    {
     "data": {
      "text/html": [
       "wandb version 0.17.1 is available!  To upgrade, please run:\n",
       " $ pip install wandb --upgrade"
      ],
      "text/plain": [
       "<IPython.core.display.HTML object>"
      ]
     },
     "metadata": {},
     "output_type": "display_data"
    },
    {
     "data": {
      "text/html": [
       "Tracking run with wandb version 0.16.4"
      ],
      "text/plain": [
       "<IPython.core.display.HTML object>"
      ]
     },
     "metadata": {},
     "output_type": "display_data"
    },
    {
     "data": {
      "text/html": [
       "Run data is saved locally in <code>/Users/jjaniak/Documents/studia/projekt/gradient/notebooks/downstream_tasks/wandb/run-20240607_180658-dhnmr268</code>"
      ],
      "text/plain": [
       "<IPython.core.display.HTML object>"
      ]
     },
     "metadata": {},
     "output_type": "display_data"
    },
    {
     "data": {
      "text/html": [
       "Syncing run <strong><a href='https://wandb.ai/gradient_pwr/accidents-downstream-task-v2/runs/dhnmr268' target=\"_blank\">quiet-sweep-1</a></strong> to <a href='https://wandb.ai/gradient_pwr/accidents-downstream-task-v2' target=\"_blank\">Weights & Biases</a> (<a href='https://wandb.me/run' target=\"_blank\">docs</a>)<br/>Sweep page: <a href='https://wandb.ai/gradient_pwr/accidents-downstream-task-v2/sweeps/mw9d6wsp' target=\"_blank\">https://wandb.ai/gradient_pwr/accidents-downstream-task-v2/sweeps/mw9d6wsp</a>"
      ],
      "text/plain": [
       "<IPython.core.display.HTML object>"
      ]
     },
     "metadata": {},
     "output_type": "display_data"
    },
    {
     "data": {
      "text/html": [
       " View project at <a href='https://wandb.ai/gradient_pwr/accidents-downstream-task-v2' target=\"_blank\">https://wandb.ai/gradient_pwr/accidents-downstream-task-v2</a>"
      ],
      "text/plain": [
       "<IPython.core.display.HTML object>"
      ]
     },
     "metadata": {},
     "output_type": "display_data"
    },
    {
     "data": {
      "text/html": [
       " View sweep at <a href='https://wandb.ai/gradient_pwr/accidents-downstream-task-v2/sweeps/mw9d6wsp' target=\"_blank\">https://wandb.ai/gradient_pwr/accidents-downstream-task-v2/sweeps/mw9d6wsp</a>"
      ],
      "text/plain": [
       "<IPython.core.display.HTML object>"
      ]
     },
     "metadata": {},
     "output_type": "display_data"
    },
    {
     "data": {
      "text/html": [
       " View run at <a href='https://wandb.ai/gradient_pwr/accidents-downstream-task-v2/runs/dhnmr268' target=\"_blank\">https://wandb.ai/gradient_pwr/accidents-downstream-task-v2/runs/dhnmr268</a>"
      ],
      "text/plain": [
       "<IPython.core.display.HTML object>"
      ]
     },
     "metadata": {},
     "output_type": "display_data"
    },
    {
     "name": "stderr",
     "output_type": "stream",
     "text": [
      "/Users/jjaniak/anaconda3/envs/studia_projekt/lib/python3.8/site-packages/torch_geometric/deprecation.py:22: UserWarning: 'data.DataLoader' is deprecated, use 'loader.DataLoader' instead\n",
      "  warnings.warn(out)\n",
      "GPU available: True (mps), used: True\n",
      "TPU available: False, using: 0 TPU cores\n",
      "IPU available: False, using: 0 IPUs\n",
      "HPU available: False, using: 0 HPUs\n",
      "Missing logger folder: ../../gradient_logs/2024_06_07_18_07_04/lightning_logs\n",
      "\n",
      "  | Name  | Type      | Params\n",
      "------------------------------------\n",
      "0 | model | HeteroGNN | 62.3 K\n",
      "------------------------------------\n",
      "62.3 K    Trainable params\n",
      "0         Non-trainable params\n",
      "62.3 K    Total params\n",
      "0.249     Total estimated model params size (MB)\n"
     ]
    },
    {
     "data": {
      "application/vnd.jupyter.widget-view+json": {
       "model_id": "ded1962baa024d2ca367ed98ab6560dd",
       "version_major": 2,
       "version_minor": 0
      },
      "text/plain": [
       "Sanity Checking: |          | 0/? [00:00<?, ?it/s]"
      ]
     },
     "metadata": {},
     "output_type": "display_data"
    },
    {
     "name": "stderr",
     "output_type": "stream",
     "text": [
      "/Users/jjaniak/anaconda3/envs/studia_projekt/lib/python3.8/site-packages/pytorch_lightning/trainer/connectors/data_connector.py:441: The 'val_dataloader' does not have many workers which may be a bottleneck. Consider increasing the value of the `num_workers` argument` to `num_workers=11` in the `DataLoader` to improve performance.\n"
     ]
    },
    {
     "data": {
      "application/vnd.jupyter.widget-view+json": {
       "model_id": "f7667664d16742e4990d01f8b801dcce",
       "version_major": 2,
       "version_minor": 0
      },
      "text/plain": [
       "VBox(children=(Label(value='191.988 MB of 191.988 MB uploaded\\r'), FloatProgress(value=1.0, max=1.0)))"
      ]
     },
     "metadata": {},
     "output_type": "display_data"
    },
    {
     "data": {
      "text/html": [
       "<style>\n",
       "    table.wandb td:nth-child(1) { padding: 0 10px; text-align: left ; width: auto;} td:nth-child(2) {text-align: left ; width: 100%}\n",
       "    .wandb-row { display: flex; flex-direction: row; flex-wrap: wrap; justify-content: flex-start; width: 100% }\n",
       "    .wandb-col { display: flex; flex-direction: column; flex-basis: 100%; flex: 1; padding: 10px; }\n",
       "    </style>\n",
       "<div class=\"wandb-row\"><div class=\"wandb-col\"><h3>Run history:</h3><br/><table class=\"wandb\"><tr><td>USE_HEXES_ATTRS</td><td>▁</td></tr><tr><td>USE_ORTOPHOTO</td><td>▁</td></tr><tr><td>USE_OSMNX_ATTRS</td><td>▁</td></tr></table><br/></div><div class=\"wandb-col\"><h3>Run summary:</h3><br/><table class=\"wandb\"><tr><td>USE_HEXES_ATTRS</td><td>1</td></tr><tr><td>USE_ORTOPHOTO</td><td>0</td></tr><tr><td>USE_OSMNX_ATTRS</td><td>1</td></tr><tr><td>data_structure</td><td>graph</td></tr></table><br/></div></div>"
      ],
      "text/plain": [
       "<IPython.core.display.HTML object>"
      ]
     },
     "metadata": {},
     "output_type": "display_data"
    },
    {
     "data": {
      "text/html": [
       " View run <strong style=\"color:#cdcd00\">quiet-sweep-1</strong> at: <a href='https://wandb.ai/gradient_pwr/accidents-downstream-task-v2/runs/dhnmr268' target=\"_blank\">https://wandb.ai/gradient_pwr/accidents-downstream-task-v2/runs/dhnmr268</a><br/>Synced 6 W&B file(s), 0 media file(s), 1 artifact file(s) and 0 other file(s)"
      ],
      "text/plain": [
       "<IPython.core.display.HTML object>"
      ]
     },
     "metadata": {},
     "output_type": "display_data"
    },
    {
     "data": {
      "text/html": [
       "Find logs at: <code>./wandb/run-20240607_180658-dhnmr268/logs</code>"
      ],
      "text/plain": [
       "<IPython.core.display.HTML object>"
      ]
     },
     "metadata": {},
     "output_type": "display_data"
    },
    {
     "name": "stderr",
     "output_type": "stream",
     "text": [
      "Run dhnmr268 errored:\n",
      "Traceback (most recent call last):\n",
      "  File \"/Users/jjaniak/anaconda3/envs/studia_projekt/lib/python3.8/site-packages/wandb/agents/pyagent.py\", line 308, in _run_job\n",
      "    self._function()\n",
      "  File \"/var/folders/4k/8js3jm9n457cm4_v631zyrkw0000gn/T/ipykernel_25686/3559290024.py\", line 62, in wrapped\n",
      "    auc, accuracy, f1, model_path = train(\n",
      "  File \"/Users/jjaniak/Documents/studia/projekt/gradient/notebooks/downstream_tasks/../../src/training/train.py\", line 84, in train\n",
      "    trainer.fit(model, train_loader, val_dataloaders=(val_loader or None))\n",
      "  File \"/Users/jjaniak/anaconda3/envs/studia_projekt/lib/python3.8/site-packages/pytorch_lightning/trainer/trainer.py\", line 545, in fit\n",
      "    call._call_and_handle_interrupt(\n",
      "  File \"/Users/jjaniak/anaconda3/envs/studia_projekt/lib/python3.8/site-packages/pytorch_lightning/trainer/call.py\", line 44, in _call_and_handle_interrupt\n",
      "    return trainer_fn(*args, **kwargs)\n",
      "  File \"/Users/jjaniak/anaconda3/envs/studia_projekt/lib/python3.8/site-packages/pytorch_lightning/trainer/trainer.py\", line 581, in _fit_impl\n",
      "    self._run(model, ckpt_path=ckpt_path)\n",
      "  File \"/Users/jjaniak/anaconda3/envs/studia_projekt/lib/python3.8/site-packages/pytorch_lightning/trainer/trainer.py\", line 990, in _run\n",
      "    results = self._run_stage()\n",
      "  File \"/Users/jjaniak/anaconda3/envs/studia_projekt/lib/python3.8/site-packages/pytorch_lightning/trainer/trainer.py\", line 1034, in _run_stage\n",
      "    self._run_sanity_check()\n",
      "  File \"/Users/jjaniak/anaconda3/envs/studia_projekt/lib/python3.8/site-packages/pytorch_lightning/trainer/trainer.py\", line 1063, in _run_sanity_check\n",
      "    val_loop.run()\n",
      "  File \"/Users/jjaniak/anaconda3/envs/studia_projekt/lib/python3.8/site-packages/pytorch_lightning/loops/utilities.py\", line 181, in _decorator\n",
      "    return loop_run(self, *args, **kwargs)\n",
      "  File \"/Users/jjaniak/anaconda3/envs/studia_projekt/lib/python3.8/site-packages/pytorch_lightning/loops/evaluation_loop.py\", line 134, in run\n",
      "    self._evaluation_step(batch, batch_idx, dataloader_idx, dataloader_iter)\n",
      "  File \"/Users/jjaniak/anaconda3/envs/studia_projekt/lib/python3.8/site-packages/pytorch_lightning/loops/evaluation_loop.py\", line 391, in _evaluation_step\n",
      "    output = call._call_strategy_hook(trainer, hook_name, *step_args)\n",
      "  File \"/Users/jjaniak/anaconda3/envs/studia_projekt/lib/python3.8/site-packages/pytorch_lightning/trainer/call.py\", line 309, in _call_strategy_hook\n",
      "    output = fn(*args, **kwargs)\n",
      "  File \"/Users/jjaniak/anaconda3/envs/studia_projekt/lib/python3.8/site-packages/pytorch_lightning/strategies/strategy.py\", line 403, in validation_step\n",
      "    return self.lightning_module.validation_step(*args, **kwargs)\n",
      "  File \"/Users/jjaniak/Documents/studia/projekt/gradient/notebooks/downstream_tasks/../../src/lightning/hetero_gnn_module.py\", line 57, in validation_step\n",
      "    y_hat = self.model(batch.x_dict, batch.edge_index_dict, batch.edge_attr_dict)\n",
      "  File \"/Users/jjaniak/anaconda3/envs/studia_projekt/lib/python3.8/site-packages/torch/nn/modules/module.py\", line 1518, in _wrapped_call_impl\n",
      "    return self._call_impl(*args, **kwargs)\n",
      "  File \"/Users/jjaniak/anaconda3/envs/studia_projekt/lib/python3.8/site-packages/torch/nn/modules/module.py\", line 1527, in _call_impl\n",
      "    return forward_call(*args, **kwargs)\n",
      "  File \"/Users/jjaniak/Documents/studia/projekt/gradient/notebooks/downstream_tasks/../../src/baseline_models/HeteroGNN/HeteroGNN.py\", line 59, in forward\n",
      "    value = self._forward(x_dict, edge_index_dict, edge_atrr_dict)\n",
      "  File \"/Users/jjaniak/Documents/studia/projekt/gradient/notebooks/downstream_tasks/../../src/baseline_models/HeteroGNN/HeteroGNN.py\", line 74, in _forward\n",
      "    x_dict = conv(x_dict, edge_index_dict, edge_atrr_dict)\n",
      "  File \"/Users/jjaniak/anaconda3/envs/studia_projekt/lib/python3.8/site-packages/torch/nn/modules/module.py\", line 1518, in _wrapped_call_impl\n",
      "    return self._call_impl(*args, **kwargs)\n",
      "  File \"/Users/jjaniak/anaconda3/envs/studia_projekt/lib/python3.8/site-packages/torch/nn/modules/module.py\", line 1527, in _call_impl\n",
      "    return forward_call(*args, **kwargs)\n",
      "  File \"/Users/jjaniak/anaconda3/envs/studia_projekt/lib/python3.8/site-packages/torch_geometric/nn/conv/hetero_conv.py\", line 159, in forward\n",
      "    out = self.convs[edge_type](*args, **kwargs)\n",
      "  File \"/Users/jjaniak/anaconda3/envs/studia_projekt/lib/python3.8/site-packages/torch/nn/modules/module.py\", line 1518, in _wrapped_call_impl\n",
      "    return self._call_impl(*args, **kwargs)\n",
      "  File \"/Users/jjaniak/anaconda3/envs/studia_projekt/lib/python3.8/site-packages/torch/nn/modules/module.py\", line 1527, in _call_impl\n",
      "    return forward_call(*args, **kwargs)\n",
      "  File \"/Users/jjaniak/anaconda3/envs/studia_projekt/lib/python3.8/site-packages/torch_geometric/nn/conv/gat_conv.py\", line 252, in forward\n",
      "    alpha = self.edge_updater(edge_index, alpha=alpha, edge_attr=edge_attr)\n",
      "  File \"/Users/jjaniak/anaconda3/envs/studia_projekt/lib/python3.8/site-packages/torch_geometric/nn/conv/message_passing.py\", line 527, in edge_updater\n",
      "    out = self.edge_update(**edge_kwargs)\n",
      "  File \"/Users/jjaniak/anaconda3/envs/studia_projekt/lib/python3.8/site-packages/torch_geometric/nn/conv/gat_conv.py\", line 295, in edge_update\n",
      "    alpha = softmax(alpha, index, ptr, size_i)\n",
      "  File \"/Users/jjaniak/anaconda3/envs/studia_projekt/lib/python3.8/site-packages/torch_geometric/utils/softmax.py\", line 65, in softmax\n",
      "    src_max = scatter(src.detach(), index, dim, dim_size=N, reduce='max')\n",
      "  File \"/Users/jjaniak/anaconda3/envs/studia_projekt/lib/python3.8/site-packages/torch_geometric/utils/scatter.py\", line 94, in scatter\n",
      "    return src.new_zeros(size).scatter_reduce_(\n",
      "NotImplementedError: The operator 'aten::scatter_reduce.two_out' is not currently implemented for the MPS device. If you want this op to be added in priority during the prototype phase of this feature, please comment on https://github.com/pytorch/pytorch/issues/77764. As a temporary fix, you can set the environment variable `PYTORCH_ENABLE_MPS_FALLBACK=1` to use the CPU as a fallback for this op. WARNING: this will be slower than running natively on MPS.\n",
      "\n",
      "\u001b[34m\u001b[1mwandb\u001b[0m: \u001b[32m\u001b[41mERROR\u001b[0m Run dhnmr268 errored:\n",
      "\u001b[34m\u001b[1mwandb\u001b[0m: \u001b[32m\u001b[41mERROR\u001b[0m Traceback (most recent call last):\n",
      "\u001b[34m\u001b[1mwandb\u001b[0m: \u001b[32m\u001b[41mERROR\u001b[0m   File \"/Users/jjaniak/anaconda3/envs/studia_projekt/lib/python3.8/site-packages/wandb/agents/pyagent.py\", line 308, in _run_job\n",
      "\u001b[34m\u001b[1mwandb\u001b[0m: \u001b[32m\u001b[41mERROR\u001b[0m     self._function()\n",
      "\u001b[34m\u001b[1mwandb\u001b[0m: \u001b[32m\u001b[41mERROR\u001b[0m   File \"/var/folders/4k/8js3jm9n457cm4_v631zyrkw0000gn/T/ipykernel_25686/3559290024.py\", line 62, in wrapped\n",
      "\u001b[34m\u001b[1mwandb\u001b[0m: \u001b[32m\u001b[41mERROR\u001b[0m     auc, accuracy, f1, model_path = train(\n",
      "\u001b[34m\u001b[1mwandb\u001b[0m: \u001b[32m\u001b[41mERROR\u001b[0m   File \"/Users/jjaniak/Documents/studia/projekt/gradient/notebooks/downstream_tasks/../../src/training/train.py\", line 84, in train\n",
      "\u001b[34m\u001b[1mwandb\u001b[0m: \u001b[32m\u001b[41mERROR\u001b[0m     trainer.fit(model, train_loader, val_dataloaders=(val_loader or None))\n",
      "\u001b[34m\u001b[1mwandb\u001b[0m: \u001b[32m\u001b[41mERROR\u001b[0m   File \"/Users/jjaniak/anaconda3/envs/studia_projekt/lib/python3.8/site-packages/pytorch_lightning/trainer/trainer.py\", line 545, in fit\n",
      "\u001b[34m\u001b[1mwandb\u001b[0m: \u001b[32m\u001b[41mERROR\u001b[0m     call._call_and_handle_interrupt(\n",
      "\u001b[34m\u001b[1mwandb\u001b[0m: \u001b[32m\u001b[41mERROR\u001b[0m   File \"/Users/jjaniak/anaconda3/envs/studia_projekt/lib/python3.8/site-packages/pytorch_lightning/trainer/call.py\", line 44, in _call_and_handle_interrupt\n",
      "\u001b[34m\u001b[1mwandb\u001b[0m: \u001b[32m\u001b[41mERROR\u001b[0m     return trainer_fn(*args, **kwargs)\n",
      "\u001b[34m\u001b[1mwandb\u001b[0m: \u001b[32m\u001b[41mERROR\u001b[0m   File \"/Users/jjaniak/anaconda3/envs/studia_projekt/lib/python3.8/site-packages/pytorch_lightning/trainer/trainer.py\", line 581, in _fit_impl\n",
      "\u001b[34m\u001b[1mwandb\u001b[0m: \u001b[32m\u001b[41mERROR\u001b[0m     self._run(model, ckpt_path=ckpt_path)\n",
      "\u001b[34m\u001b[1mwandb\u001b[0m: \u001b[32m\u001b[41mERROR\u001b[0m   File \"/Users/jjaniak/anaconda3/envs/studia_projekt/lib/python3.8/site-packages/pytorch_lightning/trainer/trainer.py\", line 990, in _run\n",
      "\u001b[34m\u001b[1mwandb\u001b[0m: \u001b[32m\u001b[41mERROR\u001b[0m     results = self._run_stage()\n",
      "\u001b[34m\u001b[1mwandb\u001b[0m: \u001b[32m\u001b[41mERROR\u001b[0m   File \"/Users/jjaniak/anaconda3/envs/studia_projekt/lib/python3.8/site-packages/pytorch_lightning/trainer/trainer.py\", line 1034, in _run_stage\n",
      "\u001b[34m\u001b[1mwandb\u001b[0m: \u001b[32m\u001b[41mERROR\u001b[0m     self._run_sanity_check()\n",
      "\u001b[34m\u001b[1mwandb\u001b[0m: \u001b[32m\u001b[41mERROR\u001b[0m   File \"/Users/jjaniak/anaconda3/envs/studia_projekt/lib/python3.8/site-packages/pytorch_lightning/trainer/trainer.py\", line 1063, in _run_sanity_check\n",
      "\u001b[34m\u001b[1mwandb\u001b[0m: \u001b[32m\u001b[41mERROR\u001b[0m     val_loop.run()\n",
      "\u001b[34m\u001b[1mwandb\u001b[0m: \u001b[32m\u001b[41mERROR\u001b[0m   File \"/Users/jjaniak/anaconda3/envs/studia_projekt/lib/python3.8/site-packages/pytorch_lightning/loops/utilities.py\", line 181, in _decorator\n",
      "\u001b[34m\u001b[1mwandb\u001b[0m: \u001b[32m\u001b[41mERROR\u001b[0m     return loop_run(self, *args, **kwargs)\n",
      "\u001b[34m\u001b[1mwandb\u001b[0m: \u001b[32m\u001b[41mERROR\u001b[0m   File \"/Users/jjaniak/anaconda3/envs/studia_projekt/lib/python3.8/site-packages/pytorch_lightning/loops/evaluation_loop.py\", line 134, in run\n",
      "\u001b[34m\u001b[1mwandb\u001b[0m: \u001b[32m\u001b[41mERROR\u001b[0m     self._evaluation_step(batch, batch_idx, dataloader_idx, dataloader_iter)\n",
      "\u001b[34m\u001b[1mwandb\u001b[0m: \u001b[32m\u001b[41mERROR\u001b[0m   File \"/Users/jjaniak/anaconda3/envs/studia_projekt/lib/python3.8/site-packages/pytorch_lightning/loops/evaluation_loop.py\", line 391, in _evaluation_step\n",
      "\u001b[34m\u001b[1mwandb\u001b[0m: \u001b[32m\u001b[41mERROR\u001b[0m     output = call._call_strategy_hook(trainer, hook_name, *step_args)\n",
      "\u001b[34m\u001b[1mwandb\u001b[0m: \u001b[32m\u001b[41mERROR\u001b[0m   File \"/Users/jjaniak/anaconda3/envs/studia_projekt/lib/python3.8/site-packages/pytorch_lightning/trainer/call.py\", line 309, in _call_strategy_hook\n",
      "\u001b[34m\u001b[1mwandb\u001b[0m: \u001b[32m\u001b[41mERROR\u001b[0m     output = fn(*args, **kwargs)\n",
      "\u001b[34m\u001b[1mwandb\u001b[0m: \u001b[32m\u001b[41mERROR\u001b[0m   File \"/Users/jjaniak/anaconda3/envs/studia_projekt/lib/python3.8/site-packages/pytorch_lightning/strategies/strategy.py\", line 403, in validation_step\n",
      "\u001b[34m\u001b[1mwandb\u001b[0m: \u001b[32m\u001b[41mERROR\u001b[0m     return self.lightning_module.validation_step(*args, **kwargs)\n",
      "\u001b[34m\u001b[1mwandb\u001b[0m: \u001b[32m\u001b[41mERROR\u001b[0m   File \"/Users/jjaniak/Documents/studia/projekt/gradient/notebooks/downstream_tasks/../../src/lightning/hetero_gnn_module.py\", line 57, in validation_step\n",
      "\u001b[34m\u001b[1mwandb\u001b[0m: \u001b[32m\u001b[41mERROR\u001b[0m     y_hat = self.model(batch.x_dict, batch.edge_index_dict, batch.edge_attr_dict)\n",
      "\u001b[34m\u001b[1mwandb\u001b[0m: \u001b[32m\u001b[41mERROR\u001b[0m   File \"/Users/jjaniak/anaconda3/envs/studia_projekt/lib/python3.8/site-packages/torch/nn/modules/module.py\", line 1518, in _wrapped_call_impl\n",
      "\u001b[34m\u001b[1mwandb\u001b[0m: \u001b[32m\u001b[41mERROR\u001b[0m     return self._call_impl(*args, **kwargs)\n",
      "\u001b[34m\u001b[1mwandb\u001b[0m: \u001b[32m\u001b[41mERROR\u001b[0m   File \"/Users/jjaniak/anaconda3/envs/studia_projekt/lib/python3.8/site-packages/torch/nn/modules/module.py\", line 1527, in _call_impl\n",
      "\u001b[34m\u001b[1mwandb\u001b[0m: \u001b[32m\u001b[41mERROR\u001b[0m     return forward_call(*args, **kwargs)\n",
      "\u001b[34m\u001b[1mwandb\u001b[0m: \u001b[32m\u001b[41mERROR\u001b[0m   File \"/Users/jjaniak/Documents/studia/projekt/gradient/notebooks/downstream_tasks/../../src/baseline_models/HeteroGNN/HeteroGNN.py\", line 59, in forward\n",
      "\u001b[34m\u001b[1mwandb\u001b[0m: \u001b[32m\u001b[41mERROR\u001b[0m     value = self._forward(x_dict, edge_index_dict, edge_atrr_dict)\n",
      "\u001b[34m\u001b[1mwandb\u001b[0m: \u001b[32m\u001b[41mERROR\u001b[0m   File \"/Users/jjaniak/Documents/studia/projekt/gradient/notebooks/downstream_tasks/../../src/baseline_models/HeteroGNN/HeteroGNN.py\", line 74, in _forward\n",
      "\u001b[34m\u001b[1mwandb\u001b[0m: \u001b[32m\u001b[41mERROR\u001b[0m     x_dict = conv(x_dict, edge_index_dict, edge_atrr_dict)\n",
      "\u001b[34m\u001b[1mwandb\u001b[0m: \u001b[32m\u001b[41mERROR\u001b[0m   File \"/Users/jjaniak/anaconda3/envs/studia_projekt/lib/python3.8/site-packages/torch/nn/modules/module.py\", line 1518, in _wrapped_call_impl\n",
      "\u001b[34m\u001b[1mwandb\u001b[0m: \u001b[32m\u001b[41mERROR\u001b[0m     return self._call_impl(*args, **kwargs)\n",
      "\u001b[34m\u001b[1mwandb\u001b[0m: \u001b[32m\u001b[41mERROR\u001b[0m   File \"/Users/jjaniak/anaconda3/envs/studia_projekt/lib/python3.8/site-packages/torch/nn/modules/module.py\", line 1527, in _call_impl\n",
      "\u001b[34m\u001b[1mwandb\u001b[0m: \u001b[32m\u001b[41mERROR\u001b[0m     return forward_call(*args, **kwargs)\n",
      "\u001b[34m\u001b[1mwandb\u001b[0m: \u001b[32m\u001b[41mERROR\u001b[0m   File \"/Users/jjaniak/anaconda3/envs/studia_projekt/lib/python3.8/site-packages/torch_geometric/nn/conv/hetero_conv.py\", line 159, in forward\n",
      "\u001b[34m\u001b[1mwandb\u001b[0m: \u001b[32m\u001b[41mERROR\u001b[0m     out = self.convs[edge_type](*args, **kwargs)\n",
      "\u001b[34m\u001b[1mwandb\u001b[0m: \u001b[32m\u001b[41mERROR\u001b[0m   File \"/Users/jjaniak/anaconda3/envs/studia_projekt/lib/python3.8/site-packages/torch/nn/modules/module.py\", line 1518, in _wrapped_call_impl\n",
      "\u001b[34m\u001b[1mwandb\u001b[0m: \u001b[32m\u001b[41mERROR\u001b[0m     return self._call_impl(*args, **kwargs)\n",
      "\u001b[34m\u001b[1mwandb\u001b[0m: \u001b[32m\u001b[41mERROR\u001b[0m   File \"/Users/jjaniak/anaconda3/envs/studia_projekt/lib/python3.8/site-packages/torch/nn/modules/module.py\", line 1527, in _call_impl\n",
      "\u001b[34m\u001b[1mwandb\u001b[0m: \u001b[32m\u001b[41mERROR\u001b[0m     return forward_call(*args, **kwargs)\n",
      "\u001b[34m\u001b[1mwandb\u001b[0m: \u001b[32m\u001b[41mERROR\u001b[0m   File \"/Users/jjaniak/anaconda3/envs/studia_projekt/lib/python3.8/site-packages/torch_geometric/nn/conv/gat_conv.py\", line 252, in forward\n",
      "\u001b[34m\u001b[1mwandb\u001b[0m: \u001b[32m\u001b[41mERROR\u001b[0m     alpha = self.edge_updater(edge_index, alpha=alpha, edge_attr=edge_attr)\n",
      "\u001b[34m\u001b[1mwandb\u001b[0m: \u001b[32m\u001b[41mERROR\u001b[0m   File \"/Users/jjaniak/anaconda3/envs/studia_projekt/lib/python3.8/site-packages/torch_geometric/nn/conv/message_passing.py\", line 527, in edge_updater\n",
      "\u001b[34m\u001b[1mwandb\u001b[0m: \u001b[32m\u001b[41mERROR\u001b[0m     out = self.edge_update(**edge_kwargs)\n",
      "\u001b[34m\u001b[1mwandb\u001b[0m: \u001b[32m\u001b[41mERROR\u001b[0m   File \"/Users/jjaniak/anaconda3/envs/studia_projekt/lib/python3.8/site-packages/torch_geometric/nn/conv/gat_conv.py\", line 295, in edge_update\n",
      "\u001b[34m\u001b[1mwandb\u001b[0m: \u001b[32m\u001b[41mERROR\u001b[0m     alpha = softmax(alpha, index, ptr, size_i)\n",
      "\u001b[34m\u001b[1mwandb\u001b[0m: \u001b[32m\u001b[41mERROR\u001b[0m   File \"/Users/jjaniak/anaconda3/envs/studia_projekt/lib/python3.8/site-packages/torch_geometric/utils/softmax.py\", line 65, in softmax\n",
      "\u001b[34m\u001b[1mwandb\u001b[0m: \u001b[32m\u001b[41mERROR\u001b[0m     src_max = scatter(src.detach(), index, dim, dim_size=N, reduce='max')\n",
      "\u001b[34m\u001b[1mwandb\u001b[0m: \u001b[32m\u001b[41mERROR\u001b[0m   File \"/Users/jjaniak/anaconda3/envs/studia_projekt/lib/python3.8/site-packages/torch_geometric/utils/scatter.py\", line 94, in scatter\n",
      "\u001b[34m\u001b[1mwandb\u001b[0m: \u001b[32m\u001b[41mERROR\u001b[0m     return src.new_zeros(size).scatter_reduce_(\n",
      "\u001b[34m\u001b[1mwandb\u001b[0m: \u001b[32m\u001b[41mERROR\u001b[0m NotImplementedError: The operator 'aten::scatter_reduce.two_out' is not currently implemented for the MPS device. If you want this op to be added in priority during the prototype phase of this feature, please comment on https://github.com/pytorch/pytorch/issues/77764. As a temporary fix, you can set the environment variable `PYTORCH_ENABLE_MPS_FALLBACK=1` to use the CPU as a fallback for this op. WARNING: this will be slower than running natively on MPS.\n",
      "\u001b[34m\u001b[1mwandb\u001b[0m: \u001b[32m\u001b[41mERROR\u001b[0m \n",
      "\u001b[34m\u001b[1mwandb\u001b[0m: Agent Starting Run: o8mbtt51 with config:\n",
      "\u001b[34m\u001b[1mwandb\u001b[0m: \thidden_channels: 20\n",
      "\u001b[34m\u001b[1mwandb\u001b[0m: \tlearning_rate: 1.1245874549652132e-05\n",
      "\u001b[34m\u001b[1mwandb\u001b[0m: \tlin_layer_size: 8\n",
      "\u001b[34m\u001b[1mwandb\u001b[0m: \tnum_conv_layers: 4\n",
      "\u001b[34m\u001b[1mwandb\u001b[0m: \tnum_lin_layers: 1\n",
      "\u001b[34m\u001b[1mwandb\u001b[0m: \tweight_decay: 6.562712101946664e-05\n",
      "Failed to detect the name of this notebook, you can set it manually with the WANDB_NOTEBOOK_NAME environment variable to enable code saving.\n"
     ]
    },
    {
     "data": {
      "text/html": [
       "wandb version 0.17.1 is available!  To upgrade, please run:\n",
       " $ pip install wandb --upgrade"
      ],
      "text/plain": [
       "<IPython.core.display.HTML object>"
      ]
     },
     "metadata": {},
     "output_type": "display_data"
    },
    {
     "data": {
      "text/html": [
       "Tracking run with wandb version 0.16.4"
      ],
      "text/plain": [
       "<IPython.core.display.HTML object>"
      ]
     },
     "metadata": {},
     "output_type": "display_data"
    },
    {
     "data": {
      "text/html": [
       "Run data is saved locally in <code>/Users/jjaniak/Documents/studia/projekt/gradient/notebooks/downstream_tasks/wandb/run-20240607_180730-o8mbtt51</code>"
      ],
      "text/plain": [
       "<IPython.core.display.HTML object>"
      ]
     },
     "metadata": {},
     "output_type": "display_data"
    },
    {
     "data": {
      "text/html": [
       "Syncing run <strong><a href='https://wandb.ai/gradient_pwr/accidents-downstream-task-v2/runs/o8mbtt51' target=\"_blank\">grateful-sweep-2</a></strong> to <a href='https://wandb.ai/gradient_pwr/accidents-downstream-task-v2' target=\"_blank\">Weights & Biases</a> (<a href='https://wandb.me/run' target=\"_blank\">docs</a>)<br/>Sweep page: <a href='https://wandb.ai/gradient_pwr/accidents-downstream-task-v2/sweeps/mw9d6wsp' target=\"_blank\">https://wandb.ai/gradient_pwr/accidents-downstream-task-v2/sweeps/mw9d6wsp</a>"
      ],
      "text/plain": [
       "<IPython.core.display.HTML object>"
      ]
     },
     "metadata": {},
     "output_type": "display_data"
    },
    {
     "data": {
      "text/html": [
       " View project at <a href='https://wandb.ai/gradient_pwr/accidents-downstream-task-v2' target=\"_blank\">https://wandb.ai/gradient_pwr/accidents-downstream-task-v2</a>"
      ],
      "text/plain": [
       "<IPython.core.display.HTML object>"
      ]
     },
     "metadata": {},
     "output_type": "display_data"
    },
    {
     "data": {
      "text/html": [
       " View sweep at <a href='https://wandb.ai/gradient_pwr/accidents-downstream-task-v2/sweeps/mw9d6wsp' target=\"_blank\">https://wandb.ai/gradient_pwr/accidents-downstream-task-v2/sweeps/mw9d6wsp</a>"
      ],
      "text/plain": [
       "<IPython.core.display.HTML object>"
      ]
     },
     "metadata": {},
     "output_type": "display_data"
    },
    {
     "data": {
      "text/html": [
       " View run at <a href='https://wandb.ai/gradient_pwr/accidents-downstream-task-v2/runs/o8mbtt51' target=\"_blank\">https://wandb.ai/gradient_pwr/accidents-downstream-task-v2/runs/o8mbtt51</a>"
      ],
      "text/plain": [
       "<IPython.core.display.HTML object>"
      ]
     },
     "metadata": {},
     "output_type": "display_data"
    },
    {
     "name": "stderr",
     "output_type": "stream",
     "text": [
      "/Users/jjaniak/anaconda3/envs/studia_projekt/lib/python3.8/site-packages/torch_geometric/deprecation.py:22: UserWarning: 'data.DataLoader' is deprecated, use 'loader.DataLoader' instead\n",
      "  warnings.warn(out)\n",
      "GPU available: True (mps), used: True\n",
      "TPU available: False, using: 0 TPU cores\n",
      "IPU available: False, using: 0 IPUs\n",
      "HPU available: False, using: 0 HPUs\n",
      "Missing logger folder: ../../gradient_logs/2024_06_07_18_07_36/lightning_logs\n",
      "\n",
      "  | Name  | Type      | Params\n",
      "------------------------------------\n",
      "0 | model | HeteroGNN | 27.8 K\n",
      "------------------------------------\n",
      "27.8 K    Trainable params\n",
      "0         Non-trainable params\n",
      "27.8 K    Total params\n",
      "0.111     Total estimated model params size (MB)\n"
     ]
    },
    {
     "data": {
      "application/vnd.jupyter.widget-view+json": {
       "model_id": "f07c294b3b764ee0bfd95d0b3e7b4033",
       "version_major": 2,
       "version_minor": 0
      },
      "text/plain": [
       "Sanity Checking: |          | 0/? [00:00<?, ?it/s]"
      ]
     },
     "metadata": {},
     "output_type": "display_data"
    },
    {
     "name": "stderr",
     "output_type": "stream",
     "text": [
      "/Users/jjaniak/anaconda3/envs/studia_projekt/lib/python3.8/site-packages/pytorch_lightning/trainer/connectors/data_connector.py:441: The 'val_dataloader' does not have many workers which may be a bottleneck. Consider increasing the value of the `num_workers` argument` to `num_workers=11` in the `DataLoader` to improve performance.\n"
     ]
    },
    {
     "data": {
      "application/vnd.jupyter.widget-view+json": {
       "model_id": "a4bdcba9714c417daca720f6238e7342",
       "version_major": 2,
       "version_minor": 0
      },
      "text/plain": [
       "VBox(children=(Label(value='0.001 MB of 0.001 MB uploaded\\r'), FloatProgress(value=1.0, max=1.0)))"
      ]
     },
     "metadata": {},
     "output_type": "display_data"
    },
    {
     "data": {
      "text/html": [
       "<style>\n",
       "    table.wandb td:nth-child(1) { padding: 0 10px; text-align: left ; width: auto;} td:nth-child(2) {text-align: left ; width: 100%}\n",
       "    .wandb-row { display: flex; flex-direction: row; flex-wrap: wrap; justify-content: flex-start; width: 100% }\n",
       "    .wandb-col { display: flex; flex-direction: column; flex-basis: 100%; flex: 1; padding: 10px; }\n",
       "    </style>\n",
       "<div class=\"wandb-row\"><div class=\"wandb-col\"><h3>Run history:</h3><br/><table class=\"wandb\"><tr><td>USE_HEXES_ATTRS</td><td>▁</td></tr><tr><td>USE_ORTOPHOTO</td><td>▁</td></tr><tr><td>USE_OSMNX_ATTRS</td><td>▁</td></tr></table><br/></div><div class=\"wandb-col\"><h3>Run summary:</h3><br/><table class=\"wandb\"><tr><td>USE_HEXES_ATTRS</td><td>1</td></tr><tr><td>USE_ORTOPHOTO</td><td>0</td></tr><tr><td>USE_OSMNX_ATTRS</td><td>1</td></tr><tr><td>data_structure</td><td>graph</td></tr></table><br/></div></div>"
      ],
      "text/plain": [
       "<IPython.core.display.HTML object>"
      ]
     },
     "metadata": {},
     "output_type": "display_data"
    },
    {
     "data": {
      "text/html": [
       " View run <strong style=\"color:#cdcd00\">grateful-sweep-2</strong> at: <a href='https://wandb.ai/gradient_pwr/accidents-downstream-task-v2/runs/o8mbtt51' target=\"_blank\">https://wandb.ai/gradient_pwr/accidents-downstream-task-v2/runs/o8mbtt51</a><br/>Synced 6 W&B file(s), 0 media file(s), 0 artifact file(s) and 0 other file(s)"
      ],
      "text/plain": [
       "<IPython.core.display.HTML object>"
      ]
     },
     "metadata": {},
     "output_type": "display_data"
    },
    {
     "data": {
      "text/html": [
       "Find logs at: <code>./wandb/run-20240607_180730-o8mbtt51/logs</code>"
      ],
      "text/plain": [
       "<IPython.core.display.HTML object>"
      ]
     },
     "metadata": {},
     "output_type": "display_data"
    },
    {
     "name": "stderr",
     "output_type": "stream",
     "text": [
      "Run o8mbtt51 errored:\n",
      "Traceback (most recent call last):\n",
      "  File \"/Users/jjaniak/anaconda3/envs/studia_projekt/lib/python3.8/site-packages/wandb/agents/pyagent.py\", line 308, in _run_job\n",
      "    self._function()\n",
      "  File \"/var/folders/4k/8js3jm9n457cm4_v631zyrkw0000gn/T/ipykernel_25686/3559290024.py\", line 62, in wrapped\n",
      "    auc, accuracy, f1, model_path = train(\n",
      "  File \"/Users/jjaniak/Documents/studia/projekt/gradient/notebooks/downstream_tasks/../../src/training/train.py\", line 84, in train\n",
      "    trainer.fit(model, train_loader, val_dataloaders=(val_loader or None))\n",
      "  File \"/Users/jjaniak/anaconda3/envs/studia_projekt/lib/python3.8/site-packages/pytorch_lightning/trainer/trainer.py\", line 545, in fit\n",
      "    call._call_and_handle_interrupt(\n",
      "  File \"/Users/jjaniak/anaconda3/envs/studia_projekt/lib/python3.8/site-packages/pytorch_lightning/trainer/call.py\", line 44, in _call_and_handle_interrupt\n",
      "    return trainer_fn(*args, **kwargs)\n",
      "  File \"/Users/jjaniak/anaconda3/envs/studia_projekt/lib/python3.8/site-packages/pytorch_lightning/trainer/trainer.py\", line 581, in _fit_impl\n",
      "    self._run(model, ckpt_path=ckpt_path)\n",
      "  File \"/Users/jjaniak/anaconda3/envs/studia_projekt/lib/python3.8/site-packages/pytorch_lightning/trainer/trainer.py\", line 990, in _run\n",
      "    results = self._run_stage()\n",
      "  File \"/Users/jjaniak/anaconda3/envs/studia_projekt/lib/python3.8/site-packages/pytorch_lightning/trainer/trainer.py\", line 1034, in _run_stage\n",
      "    self._run_sanity_check()\n",
      "  File \"/Users/jjaniak/anaconda3/envs/studia_projekt/lib/python3.8/site-packages/pytorch_lightning/trainer/trainer.py\", line 1063, in _run_sanity_check\n",
      "    val_loop.run()\n",
      "  File \"/Users/jjaniak/anaconda3/envs/studia_projekt/lib/python3.8/site-packages/pytorch_lightning/loops/utilities.py\", line 181, in _decorator\n",
      "    return loop_run(self, *args, **kwargs)\n",
      "  File \"/Users/jjaniak/anaconda3/envs/studia_projekt/lib/python3.8/site-packages/pytorch_lightning/loops/evaluation_loop.py\", line 134, in run\n",
      "    self._evaluation_step(batch, batch_idx, dataloader_idx, dataloader_iter)\n",
      "  File \"/Users/jjaniak/anaconda3/envs/studia_projekt/lib/python3.8/site-packages/pytorch_lightning/loops/evaluation_loop.py\", line 391, in _evaluation_step\n",
      "    output = call._call_strategy_hook(trainer, hook_name, *step_args)\n",
      "  File \"/Users/jjaniak/anaconda3/envs/studia_projekt/lib/python3.8/site-packages/pytorch_lightning/trainer/call.py\", line 309, in _call_strategy_hook\n",
      "    output = fn(*args, **kwargs)\n",
      "  File \"/Users/jjaniak/anaconda3/envs/studia_projekt/lib/python3.8/site-packages/pytorch_lightning/strategies/strategy.py\", line 403, in validation_step\n",
      "    return self.lightning_module.validation_step(*args, **kwargs)\n",
      "  File \"/Users/jjaniak/Documents/studia/projekt/gradient/notebooks/downstream_tasks/../../src/lightning/hetero_gnn_module.py\", line 57, in validation_step\n",
      "    y_hat = self.model(batch.x_dict, batch.edge_index_dict, batch.edge_attr_dict)\n",
      "  File \"/Users/jjaniak/anaconda3/envs/studia_projekt/lib/python3.8/site-packages/torch/nn/modules/module.py\", line 1518, in _wrapped_call_impl\n",
      "    return self._call_impl(*args, **kwargs)\n",
      "  File \"/Users/jjaniak/anaconda3/envs/studia_projekt/lib/python3.8/site-packages/torch/nn/modules/module.py\", line 1527, in _call_impl\n",
      "    return forward_call(*args, **kwargs)\n",
      "  File \"/Users/jjaniak/Documents/studia/projekt/gradient/notebooks/downstream_tasks/../../src/baseline_models/HeteroGNN/HeteroGNN.py\", line 59, in forward\n",
      "    value = self._forward(x_dict, edge_index_dict, edge_atrr_dict)\n",
      "  File \"/Users/jjaniak/Documents/studia/projekt/gradient/notebooks/downstream_tasks/../../src/baseline_models/HeteroGNN/HeteroGNN.py\", line 74, in _forward\n",
      "    x_dict = conv(x_dict, edge_index_dict, edge_atrr_dict)\n",
      "  File \"/Users/jjaniak/anaconda3/envs/studia_projekt/lib/python3.8/site-packages/torch/nn/modules/module.py\", line 1518, in _wrapped_call_impl\n",
      "    return self._call_impl(*args, **kwargs)\n",
      "  File \"/Users/jjaniak/anaconda3/envs/studia_projekt/lib/python3.8/site-packages/torch/nn/modules/module.py\", line 1527, in _call_impl\n",
      "    return forward_call(*args, **kwargs)\n",
      "  File \"/Users/jjaniak/anaconda3/envs/studia_projekt/lib/python3.8/site-packages/torch_geometric/nn/conv/hetero_conv.py\", line 159, in forward\n",
      "    out = self.convs[edge_type](*args, **kwargs)\n",
      "  File \"/Users/jjaniak/anaconda3/envs/studia_projekt/lib/python3.8/site-packages/torch/nn/modules/module.py\", line 1518, in _wrapped_call_impl\n",
      "    return self._call_impl(*args, **kwargs)\n",
      "  File \"/Users/jjaniak/anaconda3/envs/studia_projekt/lib/python3.8/site-packages/torch/nn/modules/module.py\", line 1527, in _call_impl\n",
      "    return forward_call(*args, **kwargs)\n",
      "  File \"/Users/jjaniak/anaconda3/envs/studia_projekt/lib/python3.8/site-packages/torch_geometric/nn/conv/gat_conv.py\", line 252, in forward\n",
      "    alpha = self.edge_updater(edge_index, alpha=alpha, edge_attr=edge_attr)\n",
      "  File \"/Users/jjaniak/anaconda3/envs/studia_projekt/lib/python3.8/site-packages/torch_geometric/nn/conv/message_passing.py\", line 527, in edge_updater\n",
      "    out = self.edge_update(**edge_kwargs)\n",
      "  File \"/Users/jjaniak/anaconda3/envs/studia_projekt/lib/python3.8/site-packages/torch_geometric/nn/conv/gat_conv.py\", line 295, in edge_update\n",
      "    alpha = softmax(alpha, index, ptr, size_i)\n",
      "  File \"/Users/jjaniak/anaconda3/envs/studia_projekt/lib/python3.8/site-packages/torch_geometric/utils/softmax.py\", line 65, in softmax\n",
      "    src_max = scatter(src.detach(), index, dim, dim_size=N, reduce='max')\n",
      "  File \"/Users/jjaniak/anaconda3/envs/studia_projekt/lib/python3.8/site-packages/torch_geometric/utils/scatter.py\", line 94, in scatter\n",
      "    return src.new_zeros(size).scatter_reduce_(\n",
      "NotImplementedError: The operator 'aten::scatter_reduce.two_out' is not currently implemented for the MPS device. If you want this op to be added in priority during the prototype phase of this feature, please comment on https://github.com/pytorch/pytorch/issues/77764. As a temporary fix, you can set the environment variable `PYTORCH_ENABLE_MPS_FALLBACK=1` to use the CPU as a fallback for this op. WARNING: this will be slower than running natively on MPS.\n",
      "\n",
      "\u001b[34m\u001b[1mwandb\u001b[0m: \u001b[32m\u001b[41mERROR\u001b[0m Run o8mbtt51 errored:\n",
      "\u001b[34m\u001b[1mwandb\u001b[0m: \u001b[32m\u001b[41mERROR\u001b[0m Traceback (most recent call last):\n",
      "\u001b[34m\u001b[1mwandb\u001b[0m: \u001b[32m\u001b[41mERROR\u001b[0m   File \"/Users/jjaniak/anaconda3/envs/studia_projekt/lib/python3.8/site-packages/wandb/agents/pyagent.py\", line 308, in _run_job\n",
      "\u001b[34m\u001b[1mwandb\u001b[0m: \u001b[32m\u001b[41mERROR\u001b[0m     self._function()\n",
      "\u001b[34m\u001b[1mwandb\u001b[0m: \u001b[32m\u001b[41mERROR\u001b[0m   File \"/var/folders/4k/8js3jm9n457cm4_v631zyrkw0000gn/T/ipykernel_25686/3559290024.py\", line 62, in wrapped\n",
      "\u001b[34m\u001b[1mwandb\u001b[0m: \u001b[32m\u001b[41mERROR\u001b[0m     auc, accuracy, f1, model_path = train(\n",
      "\u001b[34m\u001b[1mwandb\u001b[0m: \u001b[32m\u001b[41mERROR\u001b[0m   File \"/Users/jjaniak/Documents/studia/projekt/gradient/notebooks/downstream_tasks/../../src/training/train.py\", line 84, in train\n",
      "\u001b[34m\u001b[1mwandb\u001b[0m: \u001b[32m\u001b[41mERROR\u001b[0m     trainer.fit(model, train_loader, val_dataloaders=(val_loader or None))\n",
      "\u001b[34m\u001b[1mwandb\u001b[0m: \u001b[32m\u001b[41mERROR\u001b[0m   File \"/Users/jjaniak/anaconda3/envs/studia_projekt/lib/python3.8/site-packages/pytorch_lightning/trainer/trainer.py\", line 545, in fit\n",
      "\u001b[34m\u001b[1mwandb\u001b[0m: \u001b[32m\u001b[41mERROR\u001b[0m     call._call_and_handle_interrupt(\n",
      "\u001b[34m\u001b[1mwandb\u001b[0m: \u001b[32m\u001b[41mERROR\u001b[0m   File \"/Users/jjaniak/anaconda3/envs/studia_projekt/lib/python3.8/site-packages/pytorch_lightning/trainer/call.py\", line 44, in _call_and_handle_interrupt\n",
      "\u001b[34m\u001b[1mwandb\u001b[0m: \u001b[32m\u001b[41mERROR\u001b[0m     return trainer_fn(*args, **kwargs)\n",
      "\u001b[34m\u001b[1mwandb\u001b[0m: \u001b[32m\u001b[41mERROR\u001b[0m   File \"/Users/jjaniak/anaconda3/envs/studia_projekt/lib/python3.8/site-packages/pytorch_lightning/trainer/trainer.py\", line 581, in _fit_impl\n",
      "\u001b[34m\u001b[1mwandb\u001b[0m: \u001b[32m\u001b[41mERROR\u001b[0m     self._run(model, ckpt_path=ckpt_path)\n",
      "\u001b[34m\u001b[1mwandb\u001b[0m: \u001b[32m\u001b[41mERROR\u001b[0m   File \"/Users/jjaniak/anaconda3/envs/studia_projekt/lib/python3.8/site-packages/pytorch_lightning/trainer/trainer.py\", line 990, in _run\n",
      "\u001b[34m\u001b[1mwandb\u001b[0m: \u001b[32m\u001b[41mERROR\u001b[0m     results = self._run_stage()\n",
      "\u001b[34m\u001b[1mwandb\u001b[0m: \u001b[32m\u001b[41mERROR\u001b[0m   File \"/Users/jjaniak/anaconda3/envs/studia_projekt/lib/python3.8/site-packages/pytorch_lightning/trainer/trainer.py\", line 1034, in _run_stage\n",
      "\u001b[34m\u001b[1mwandb\u001b[0m: \u001b[32m\u001b[41mERROR\u001b[0m     self._run_sanity_check()\n",
      "\u001b[34m\u001b[1mwandb\u001b[0m: \u001b[32m\u001b[41mERROR\u001b[0m   File \"/Users/jjaniak/anaconda3/envs/studia_projekt/lib/python3.8/site-packages/pytorch_lightning/trainer/trainer.py\", line 1063, in _run_sanity_check\n",
      "\u001b[34m\u001b[1mwandb\u001b[0m: \u001b[32m\u001b[41mERROR\u001b[0m     val_loop.run()\n",
      "\u001b[34m\u001b[1mwandb\u001b[0m: \u001b[32m\u001b[41mERROR\u001b[0m   File \"/Users/jjaniak/anaconda3/envs/studia_projekt/lib/python3.8/site-packages/pytorch_lightning/loops/utilities.py\", line 181, in _decorator\n",
      "\u001b[34m\u001b[1mwandb\u001b[0m: \u001b[32m\u001b[41mERROR\u001b[0m     return loop_run(self, *args, **kwargs)\n",
      "\u001b[34m\u001b[1mwandb\u001b[0m: \u001b[32m\u001b[41mERROR\u001b[0m   File \"/Users/jjaniak/anaconda3/envs/studia_projekt/lib/python3.8/site-packages/pytorch_lightning/loops/evaluation_loop.py\", line 134, in run\n",
      "\u001b[34m\u001b[1mwandb\u001b[0m: \u001b[32m\u001b[41mERROR\u001b[0m     self._evaluation_step(batch, batch_idx, dataloader_idx, dataloader_iter)\n",
      "\u001b[34m\u001b[1mwandb\u001b[0m: \u001b[32m\u001b[41mERROR\u001b[0m   File \"/Users/jjaniak/anaconda3/envs/studia_projekt/lib/python3.8/site-packages/pytorch_lightning/loops/evaluation_loop.py\", line 391, in _evaluation_step\n",
      "\u001b[34m\u001b[1mwandb\u001b[0m: \u001b[32m\u001b[41mERROR\u001b[0m     output = call._call_strategy_hook(trainer, hook_name, *step_args)\n",
      "\u001b[34m\u001b[1mwandb\u001b[0m: \u001b[32m\u001b[41mERROR\u001b[0m   File \"/Users/jjaniak/anaconda3/envs/studia_projekt/lib/python3.8/site-packages/pytorch_lightning/trainer/call.py\", line 309, in _call_strategy_hook\n",
      "\u001b[34m\u001b[1mwandb\u001b[0m: \u001b[32m\u001b[41mERROR\u001b[0m     output = fn(*args, **kwargs)\n",
      "\u001b[34m\u001b[1mwandb\u001b[0m: \u001b[32m\u001b[41mERROR\u001b[0m   File \"/Users/jjaniak/anaconda3/envs/studia_projekt/lib/python3.8/site-packages/pytorch_lightning/strategies/strategy.py\", line 403, in validation_step\n",
      "\u001b[34m\u001b[1mwandb\u001b[0m: \u001b[32m\u001b[41mERROR\u001b[0m     return self.lightning_module.validation_step(*args, **kwargs)\n",
      "\u001b[34m\u001b[1mwandb\u001b[0m: \u001b[32m\u001b[41mERROR\u001b[0m   File \"/Users/jjaniak/Documents/studia/projekt/gradient/notebooks/downstream_tasks/../../src/lightning/hetero_gnn_module.py\", line 57, in validation_step\n",
      "\u001b[34m\u001b[1mwandb\u001b[0m: \u001b[32m\u001b[41mERROR\u001b[0m     y_hat = self.model(batch.x_dict, batch.edge_index_dict, batch.edge_attr_dict)\n",
      "\u001b[34m\u001b[1mwandb\u001b[0m: \u001b[32m\u001b[41mERROR\u001b[0m   File \"/Users/jjaniak/anaconda3/envs/studia_projekt/lib/python3.8/site-packages/torch/nn/modules/module.py\", line 1518, in _wrapped_call_impl\n",
      "\u001b[34m\u001b[1mwandb\u001b[0m: \u001b[32m\u001b[41mERROR\u001b[0m     return self._call_impl(*args, **kwargs)\n",
      "\u001b[34m\u001b[1mwandb\u001b[0m: \u001b[32m\u001b[41mERROR\u001b[0m   File \"/Users/jjaniak/anaconda3/envs/studia_projekt/lib/python3.8/site-packages/torch/nn/modules/module.py\", line 1527, in _call_impl\n",
      "\u001b[34m\u001b[1mwandb\u001b[0m: \u001b[32m\u001b[41mERROR\u001b[0m     return forward_call(*args, **kwargs)\n",
      "\u001b[34m\u001b[1mwandb\u001b[0m: \u001b[32m\u001b[41mERROR\u001b[0m   File \"/Users/jjaniak/Documents/studia/projekt/gradient/notebooks/downstream_tasks/../../src/baseline_models/HeteroGNN/HeteroGNN.py\", line 59, in forward\n",
      "\u001b[34m\u001b[1mwandb\u001b[0m: \u001b[32m\u001b[41mERROR\u001b[0m     value = self._forward(x_dict, edge_index_dict, edge_atrr_dict)\n",
      "\u001b[34m\u001b[1mwandb\u001b[0m: \u001b[32m\u001b[41mERROR\u001b[0m   File \"/Users/jjaniak/Documents/studia/projekt/gradient/notebooks/downstream_tasks/../../src/baseline_models/HeteroGNN/HeteroGNN.py\", line 74, in _forward\n",
      "\u001b[34m\u001b[1mwandb\u001b[0m: \u001b[32m\u001b[41mERROR\u001b[0m     x_dict = conv(x_dict, edge_index_dict, edge_atrr_dict)\n",
      "\u001b[34m\u001b[1mwandb\u001b[0m: \u001b[32m\u001b[41mERROR\u001b[0m   File \"/Users/jjaniak/anaconda3/envs/studia_projekt/lib/python3.8/site-packages/torch/nn/modules/module.py\", line 1518, in _wrapped_call_impl\n",
      "\u001b[34m\u001b[1mwandb\u001b[0m: \u001b[32m\u001b[41mERROR\u001b[0m     return self._call_impl(*args, **kwargs)\n",
      "\u001b[34m\u001b[1mwandb\u001b[0m: \u001b[32m\u001b[41mERROR\u001b[0m   File \"/Users/jjaniak/anaconda3/envs/studia_projekt/lib/python3.8/site-packages/torch/nn/modules/module.py\", line 1527, in _call_impl\n",
      "\u001b[34m\u001b[1mwandb\u001b[0m: \u001b[32m\u001b[41mERROR\u001b[0m     return forward_call(*args, **kwargs)\n",
      "\u001b[34m\u001b[1mwandb\u001b[0m: \u001b[32m\u001b[41mERROR\u001b[0m   File \"/Users/jjaniak/anaconda3/envs/studia_projekt/lib/python3.8/site-packages/torch_geometric/nn/conv/hetero_conv.py\", line 159, in forward\n",
      "\u001b[34m\u001b[1mwandb\u001b[0m: \u001b[32m\u001b[41mERROR\u001b[0m     out = self.convs[edge_type](*args, **kwargs)\n",
      "\u001b[34m\u001b[1mwandb\u001b[0m: \u001b[32m\u001b[41mERROR\u001b[0m   File \"/Users/jjaniak/anaconda3/envs/studia_projekt/lib/python3.8/site-packages/torch/nn/modules/module.py\", line 1518, in _wrapped_call_impl\n",
      "\u001b[34m\u001b[1mwandb\u001b[0m: \u001b[32m\u001b[41mERROR\u001b[0m     return self._call_impl(*args, **kwargs)\n",
      "\u001b[34m\u001b[1mwandb\u001b[0m: \u001b[32m\u001b[41mERROR\u001b[0m   File \"/Users/jjaniak/anaconda3/envs/studia_projekt/lib/python3.8/site-packages/torch/nn/modules/module.py\", line 1527, in _call_impl\n",
      "\u001b[34m\u001b[1mwandb\u001b[0m: \u001b[32m\u001b[41mERROR\u001b[0m     return forward_call(*args, **kwargs)\n",
      "\u001b[34m\u001b[1mwandb\u001b[0m: \u001b[32m\u001b[41mERROR\u001b[0m   File \"/Users/jjaniak/anaconda3/envs/studia_projekt/lib/python3.8/site-packages/torch_geometric/nn/conv/gat_conv.py\", line 252, in forward\n",
      "\u001b[34m\u001b[1mwandb\u001b[0m: \u001b[32m\u001b[41mERROR\u001b[0m     alpha = self.edge_updater(edge_index, alpha=alpha, edge_attr=edge_attr)\n",
      "\u001b[34m\u001b[1mwandb\u001b[0m: \u001b[32m\u001b[41mERROR\u001b[0m   File \"/Users/jjaniak/anaconda3/envs/studia_projekt/lib/python3.8/site-packages/torch_geometric/nn/conv/message_passing.py\", line 527, in edge_updater\n",
      "\u001b[34m\u001b[1mwandb\u001b[0m: \u001b[32m\u001b[41mERROR\u001b[0m     out = self.edge_update(**edge_kwargs)\n",
      "\u001b[34m\u001b[1mwandb\u001b[0m: \u001b[32m\u001b[41mERROR\u001b[0m   File \"/Users/jjaniak/anaconda3/envs/studia_projekt/lib/python3.8/site-packages/torch_geometric/nn/conv/gat_conv.py\", line 295, in edge_update\n",
      "\u001b[34m\u001b[1mwandb\u001b[0m: \u001b[32m\u001b[41mERROR\u001b[0m     alpha = softmax(alpha, index, ptr, size_i)\n",
      "\u001b[34m\u001b[1mwandb\u001b[0m: \u001b[32m\u001b[41mERROR\u001b[0m   File \"/Users/jjaniak/anaconda3/envs/studia_projekt/lib/python3.8/site-packages/torch_geometric/utils/softmax.py\", line 65, in softmax\n",
      "\u001b[34m\u001b[1mwandb\u001b[0m: \u001b[32m\u001b[41mERROR\u001b[0m     src_max = scatter(src.detach(), index, dim, dim_size=N, reduce='max')\n",
      "\u001b[34m\u001b[1mwandb\u001b[0m: \u001b[32m\u001b[41mERROR\u001b[0m   File \"/Users/jjaniak/anaconda3/envs/studia_projekt/lib/python3.8/site-packages/torch_geometric/utils/scatter.py\", line 94, in scatter\n",
      "\u001b[34m\u001b[1mwandb\u001b[0m: \u001b[32m\u001b[41mERROR\u001b[0m     return src.new_zeros(size).scatter_reduce_(\n",
      "\u001b[34m\u001b[1mwandb\u001b[0m: \u001b[32m\u001b[41mERROR\u001b[0m NotImplementedError: The operator 'aten::scatter_reduce.two_out' is not currently implemented for the MPS device. If you want this op to be added in priority during the prototype phase of this feature, please comment on https://github.com/pytorch/pytorch/issues/77764. As a temporary fix, you can set the environment variable `PYTORCH_ENABLE_MPS_FALLBACK=1` to use the CPU as a fallback for this op. WARNING: this will be slower than running natively on MPS.\n",
      "\u001b[34m\u001b[1mwandb\u001b[0m: \u001b[32m\u001b[41mERROR\u001b[0m \n",
      "\u001b[34m\u001b[1mwandb\u001b[0m: Agent Starting Run: bgvz6wur with config:\n",
      "\u001b[34m\u001b[1mwandb\u001b[0m: \thidden_channels: 40\n",
      "\u001b[34m\u001b[1mwandb\u001b[0m: \tlearning_rate: 0.00023832098884160136\n",
      "\u001b[34m\u001b[1mwandb\u001b[0m: \tlin_layer_size: 16\n",
      "\u001b[34m\u001b[1mwandb\u001b[0m: \tnum_conv_layers: 3\n",
      "\u001b[34m\u001b[1mwandb\u001b[0m: \tnum_lin_layers: 3\n",
      "\u001b[34m\u001b[1mwandb\u001b[0m: \tweight_decay: 0.004360709961074203\n",
      "Failed to detect the name of this notebook, you can set it manually with the WANDB_NOTEBOOK_NAME environment variable to enable code saving.\n"
     ]
    },
    {
     "data": {
      "text/html": [
       "wandb version 0.17.1 is available!  To upgrade, please run:\n",
       " $ pip install wandb --upgrade"
      ],
      "text/plain": [
       "<IPython.core.display.HTML object>"
      ]
     },
     "metadata": {},
     "output_type": "display_data"
    },
    {
     "data": {
      "text/html": [
       "Tracking run with wandb version 0.16.4"
      ],
      "text/plain": [
       "<IPython.core.display.HTML object>"
      ]
     },
     "metadata": {},
     "output_type": "display_data"
    },
    {
     "data": {
      "text/html": [
       "Run data is saved locally in <code>/Users/jjaniak/Documents/studia/projekt/gradient/notebooks/downstream_tasks/wandb/run-20240607_180746-bgvz6wur</code>"
      ],
      "text/plain": [
       "<IPython.core.display.HTML object>"
      ]
     },
     "metadata": {},
     "output_type": "display_data"
    },
    {
     "data": {
      "text/html": [
       "Syncing run <strong><a href='https://wandb.ai/gradient_pwr/accidents-downstream-task-v2/runs/bgvz6wur' target=\"_blank\">upbeat-sweep-3</a></strong> to <a href='https://wandb.ai/gradient_pwr/accidents-downstream-task-v2' target=\"_blank\">Weights & Biases</a> (<a href='https://wandb.me/run' target=\"_blank\">docs</a>)<br/>Sweep page: <a href='https://wandb.ai/gradient_pwr/accidents-downstream-task-v2/sweeps/mw9d6wsp' target=\"_blank\">https://wandb.ai/gradient_pwr/accidents-downstream-task-v2/sweeps/mw9d6wsp</a>"
      ],
      "text/plain": [
       "<IPython.core.display.HTML object>"
      ]
     },
     "metadata": {},
     "output_type": "display_data"
    },
    {
     "data": {
      "text/html": [
       " View project at <a href='https://wandb.ai/gradient_pwr/accidents-downstream-task-v2' target=\"_blank\">https://wandb.ai/gradient_pwr/accidents-downstream-task-v2</a>"
      ],
      "text/plain": [
       "<IPython.core.display.HTML object>"
      ]
     },
     "metadata": {},
     "output_type": "display_data"
    },
    {
     "data": {
      "text/html": [
       " View sweep at <a href='https://wandb.ai/gradient_pwr/accidents-downstream-task-v2/sweeps/mw9d6wsp' target=\"_blank\">https://wandb.ai/gradient_pwr/accidents-downstream-task-v2/sweeps/mw9d6wsp</a>"
      ],
      "text/plain": [
       "<IPython.core.display.HTML object>"
      ]
     },
     "metadata": {},
     "output_type": "display_data"
    },
    {
     "data": {
      "text/html": [
       " View run at <a href='https://wandb.ai/gradient_pwr/accidents-downstream-task-v2/runs/bgvz6wur' target=\"_blank\">https://wandb.ai/gradient_pwr/accidents-downstream-task-v2/runs/bgvz6wur</a>"
      ],
      "text/plain": [
       "<IPython.core.display.HTML object>"
      ]
     },
     "metadata": {},
     "output_type": "display_data"
    },
    {
     "name": "stderr",
     "output_type": "stream",
     "text": [
      "/Users/jjaniak/anaconda3/envs/studia_projekt/lib/python3.8/site-packages/torch_geometric/deprecation.py:22: UserWarning: 'data.DataLoader' is deprecated, use 'loader.DataLoader' instead\n",
      "  warnings.warn(out)\n",
      "GPU available: True (mps), used: True\n",
      "TPU available: False, using: 0 TPU cores\n",
      "IPU available: False, using: 0 IPUs\n",
      "HPU available: False, using: 0 HPUs\n",
      "Missing logger folder: ../../gradient_logs/2024_06_07_18_07_51/lightning_logs\n",
      "\n",
      "  | Name  | Type      | Params\n",
      "------------------------------------\n",
      "0 | model | HeteroGNN | 58.3 K\n",
      "------------------------------------\n",
      "58.3 K    Trainable params\n",
      "0         Non-trainable params\n",
      "58.3 K    Total params\n",
      "0.233     Total estimated model params size (MB)\n"
     ]
    },
    {
     "data": {
      "application/vnd.jupyter.widget-view+json": {
       "model_id": "dfd0a678b9d74a4e82f6869045f4e0b7",
       "version_major": 2,
       "version_minor": 0
      },
      "text/plain": [
       "Sanity Checking: |          | 0/? [00:00<?, ?it/s]"
      ]
     },
     "metadata": {},
     "output_type": "display_data"
    },
    {
     "name": "stderr",
     "output_type": "stream",
     "text": [
      "/Users/jjaniak/anaconda3/envs/studia_projekt/lib/python3.8/site-packages/pytorch_lightning/trainer/connectors/data_connector.py:441: The 'val_dataloader' does not have many workers which may be a bottleneck. Consider increasing the value of the `num_workers` argument` to `num_workers=11` in the `DataLoader` to improve performance.\n"
     ]
    },
    {
     "data": {
      "application/vnd.jupyter.widget-view+json": {
       "model_id": "ac44092c6a5b4b59973af5c285197bb1",
       "version_major": 2,
       "version_minor": 0
      },
      "text/plain": [
       "VBox(children=(Label(value='0.001 MB of 0.001 MB uploaded\\r'), FloatProgress(value=1.0, max=1.0)))"
      ]
     },
     "metadata": {},
     "output_type": "display_data"
    },
    {
     "data": {
      "text/html": [
       "<style>\n",
       "    table.wandb td:nth-child(1) { padding: 0 10px; text-align: left ; width: auto;} td:nth-child(2) {text-align: left ; width: 100%}\n",
       "    .wandb-row { display: flex; flex-direction: row; flex-wrap: wrap; justify-content: flex-start; width: 100% }\n",
       "    .wandb-col { display: flex; flex-direction: column; flex-basis: 100%; flex: 1; padding: 10px; }\n",
       "    </style>\n",
       "<div class=\"wandb-row\"><div class=\"wandb-col\"><h3>Run history:</h3><br/><table class=\"wandb\"><tr><td>USE_HEXES_ATTRS</td><td>▁</td></tr><tr><td>USE_ORTOPHOTO</td><td>▁</td></tr><tr><td>USE_OSMNX_ATTRS</td><td>▁</td></tr></table><br/></div><div class=\"wandb-col\"><h3>Run summary:</h3><br/><table class=\"wandb\"><tr><td>USE_HEXES_ATTRS</td><td>1</td></tr><tr><td>USE_ORTOPHOTO</td><td>0</td></tr><tr><td>USE_OSMNX_ATTRS</td><td>1</td></tr><tr><td>data_structure</td><td>graph</td></tr></table><br/></div></div>"
      ],
      "text/plain": [
       "<IPython.core.display.HTML object>"
      ]
     },
     "metadata": {},
     "output_type": "display_data"
    },
    {
     "data": {
      "text/html": [
       " View run <strong style=\"color:#cdcd00\">upbeat-sweep-3</strong> at: <a href='https://wandb.ai/gradient_pwr/accidents-downstream-task-v2/runs/bgvz6wur' target=\"_blank\">https://wandb.ai/gradient_pwr/accidents-downstream-task-v2/runs/bgvz6wur</a><br/>Synced 6 W&B file(s), 0 media file(s), 0 artifact file(s) and 0 other file(s)"
      ],
      "text/plain": [
       "<IPython.core.display.HTML object>"
      ]
     },
     "metadata": {},
     "output_type": "display_data"
    },
    {
     "data": {
      "text/html": [
       "Find logs at: <code>./wandb/run-20240607_180746-bgvz6wur/logs</code>"
      ],
      "text/plain": [
       "<IPython.core.display.HTML object>"
      ]
     },
     "metadata": {},
     "output_type": "display_data"
    },
    {
     "name": "stderr",
     "output_type": "stream",
     "text": [
      "Run bgvz6wur errored:\n",
      "Traceback (most recent call last):\n",
      "  File \"/Users/jjaniak/anaconda3/envs/studia_projekt/lib/python3.8/site-packages/wandb/agents/pyagent.py\", line 308, in _run_job\n",
      "    self._function()\n",
      "  File \"/var/folders/4k/8js3jm9n457cm4_v631zyrkw0000gn/T/ipykernel_25686/3559290024.py\", line 62, in wrapped\n",
      "    auc, accuracy, f1, model_path = train(\n",
      "  File \"/Users/jjaniak/Documents/studia/projekt/gradient/notebooks/downstream_tasks/../../src/training/train.py\", line 84, in train\n",
      "    trainer.fit(model, train_loader, val_dataloaders=(val_loader or None))\n",
      "  File \"/Users/jjaniak/anaconda3/envs/studia_projekt/lib/python3.8/site-packages/pytorch_lightning/trainer/trainer.py\", line 545, in fit\n",
      "    call._call_and_handle_interrupt(\n",
      "  File \"/Users/jjaniak/anaconda3/envs/studia_projekt/lib/python3.8/site-packages/pytorch_lightning/trainer/call.py\", line 44, in _call_and_handle_interrupt\n",
      "    return trainer_fn(*args, **kwargs)\n",
      "  File \"/Users/jjaniak/anaconda3/envs/studia_projekt/lib/python3.8/site-packages/pytorch_lightning/trainer/trainer.py\", line 581, in _fit_impl\n",
      "    self._run(model, ckpt_path=ckpt_path)\n",
      "  File \"/Users/jjaniak/anaconda3/envs/studia_projekt/lib/python3.8/site-packages/pytorch_lightning/trainer/trainer.py\", line 990, in _run\n",
      "    results = self._run_stage()\n",
      "  File \"/Users/jjaniak/anaconda3/envs/studia_projekt/lib/python3.8/site-packages/pytorch_lightning/trainer/trainer.py\", line 1034, in _run_stage\n",
      "    self._run_sanity_check()\n",
      "  File \"/Users/jjaniak/anaconda3/envs/studia_projekt/lib/python3.8/site-packages/pytorch_lightning/trainer/trainer.py\", line 1063, in _run_sanity_check\n",
      "    val_loop.run()\n",
      "  File \"/Users/jjaniak/anaconda3/envs/studia_projekt/lib/python3.8/site-packages/pytorch_lightning/loops/utilities.py\", line 181, in _decorator\n",
      "    return loop_run(self, *args, **kwargs)\n",
      "  File \"/Users/jjaniak/anaconda3/envs/studia_projekt/lib/python3.8/site-packages/pytorch_lightning/loops/evaluation_loop.py\", line 134, in run\n",
      "    self._evaluation_step(batch, batch_idx, dataloader_idx, dataloader_iter)\n",
      "  File \"/Users/jjaniak/anaconda3/envs/studia_projekt/lib/python3.8/site-packages/pytorch_lightning/loops/evaluation_loop.py\", line 391, in _evaluation_step\n",
      "    output = call._call_strategy_hook(trainer, hook_name, *step_args)\n",
      "  File \"/Users/jjaniak/anaconda3/envs/studia_projekt/lib/python3.8/site-packages/pytorch_lightning/trainer/call.py\", line 309, in _call_strategy_hook\n",
      "    output = fn(*args, **kwargs)\n",
      "  File \"/Users/jjaniak/anaconda3/envs/studia_projekt/lib/python3.8/site-packages/pytorch_lightning/strategies/strategy.py\", line 403, in validation_step\n",
      "    return self.lightning_module.validation_step(*args, **kwargs)\n",
      "  File \"/Users/jjaniak/Documents/studia/projekt/gradient/notebooks/downstream_tasks/../../src/lightning/hetero_gnn_module.py\", line 57, in validation_step\n",
      "    y_hat = self.model(batch.x_dict, batch.edge_index_dict, batch.edge_attr_dict)\n",
      "  File \"/Users/jjaniak/anaconda3/envs/studia_projekt/lib/python3.8/site-packages/torch/nn/modules/module.py\", line 1518, in _wrapped_call_impl\n",
      "    return self._call_impl(*args, **kwargs)\n",
      "  File \"/Users/jjaniak/anaconda3/envs/studia_projekt/lib/python3.8/site-packages/torch/nn/modules/module.py\", line 1527, in _call_impl\n",
      "    return forward_call(*args, **kwargs)\n",
      "  File \"/Users/jjaniak/Documents/studia/projekt/gradient/notebooks/downstream_tasks/../../src/baseline_models/HeteroGNN/HeteroGNN.py\", line 59, in forward\n",
      "    value = self._forward(x_dict, edge_index_dict, edge_atrr_dict)\n",
      "  File \"/Users/jjaniak/Documents/studia/projekt/gradient/notebooks/downstream_tasks/../../src/baseline_models/HeteroGNN/HeteroGNN.py\", line 74, in _forward\n",
      "    x_dict = conv(x_dict, edge_index_dict, edge_atrr_dict)\n",
      "  File \"/Users/jjaniak/anaconda3/envs/studia_projekt/lib/python3.8/site-packages/torch/nn/modules/module.py\", line 1518, in _wrapped_call_impl\n",
      "    return self._call_impl(*args, **kwargs)\n",
      "  File \"/Users/jjaniak/anaconda3/envs/studia_projekt/lib/python3.8/site-packages/torch/nn/modules/module.py\", line 1527, in _call_impl\n",
      "    return forward_call(*args, **kwargs)\n",
      "  File \"/Users/jjaniak/anaconda3/envs/studia_projekt/lib/python3.8/site-packages/torch_geometric/nn/conv/hetero_conv.py\", line 159, in forward\n",
      "    out = self.convs[edge_type](*args, **kwargs)\n",
      "  File \"/Users/jjaniak/anaconda3/envs/studia_projekt/lib/python3.8/site-packages/torch/nn/modules/module.py\", line 1518, in _wrapped_call_impl\n",
      "    return self._call_impl(*args, **kwargs)\n",
      "  File \"/Users/jjaniak/anaconda3/envs/studia_projekt/lib/python3.8/site-packages/torch/nn/modules/module.py\", line 1527, in _call_impl\n",
      "    return forward_call(*args, **kwargs)\n",
      "  File \"/Users/jjaniak/anaconda3/envs/studia_projekt/lib/python3.8/site-packages/torch_geometric/nn/conv/gat_conv.py\", line 252, in forward\n",
      "    alpha = self.edge_updater(edge_index, alpha=alpha, edge_attr=edge_attr)\n",
      "  File \"/Users/jjaniak/anaconda3/envs/studia_projekt/lib/python3.8/site-packages/torch_geometric/nn/conv/message_passing.py\", line 527, in edge_updater\n",
      "    out = self.edge_update(**edge_kwargs)\n",
      "  File \"/Users/jjaniak/anaconda3/envs/studia_projekt/lib/python3.8/site-packages/torch_geometric/nn/conv/gat_conv.py\", line 295, in edge_update\n",
      "    alpha = softmax(alpha, index, ptr, size_i)\n",
      "  File \"/Users/jjaniak/anaconda3/envs/studia_projekt/lib/python3.8/site-packages/torch_geometric/utils/softmax.py\", line 65, in softmax\n",
      "    src_max = scatter(src.detach(), index, dim, dim_size=N, reduce='max')\n",
      "  File \"/Users/jjaniak/anaconda3/envs/studia_projekt/lib/python3.8/site-packages/torch_geometric/utils/scatter.py\", line 94, in scatter\n",
      "    return src.new_zeros(size).scatter_reduce_(\n",
      "NotImplementedError: The operator 'aten::scatter_reduce.two_out' is not currently implemented for the MPS device. If you want this op to be added in priority during the prototype phase of this feature, please comment on https://github.com/pytorch/pytorch/issues/77764. As a temporary fix, you can set the environment variable `PYTORCH_ENABLE_MPS_FALLBACK=1` to use the CPU as a fallback for this op. WARNING: this will be slower than running natively on MPS.\n",
      "\n",
      "\u001b[34m\u001b[1mwandb\u001b[0m: \u001b[32m\u001b[41mERROR\u001b[0m Run bgvz6wur errored:\n",
      "\u001b[34m\u001b[1mwandb\u001b[0m: \u001b[32m\u001b[41mERROR\u001b[0m Traceback (most recent call last):\n",
      "\u001b[34m\u001b[1mwandb\u001b[0m: \u001b[32m\u001b[41mERROR\u001b[0m   File \"/Users/jjaniak/anaconda3/envs/studia_projekt/lib/python3.8/site-packages/wandb/agents/pyagent.py\", line 308, in _run_job\n",
      "\u001b[34m\u001b[1mwandb\u001b[0m: \u001b[32m\u001b[41mERROR\u001b[0m     self._function()\n",
      "\u001b[34m\u001b[1mwandb\u001b[0m: \u001b[32m\u001b[41mERROR\u001b[0m   File \"/var/folders/4k/8js3jm9n457cm4_v631zyrkw0000gn/T/ipykernel_25686/3559290024.py\", line 62, in wrapped\n",
      "\u001b[34m\u001b[1mwandb\u001b[0m: \u001b[32m\u001b[41mERROR\u001b[0m     auc, accuracy, f1, model_path = train(\n",
      "\u001b[34m\u001b[1mwandb\u001b[0m: \u001b[32m\u001b[41mERROR\u001b[0m   File \"/Users/jjaniak/Documents/studia/projekt/gradient/notebooks/downstream_tasks/../../src/training/train.py\", line 84, in train\n",
      "\u001b[34m\u001b[1mwandb\u001b[0m: \u001b[32m\u001b[41mERROR\u001b[0m     trainer.fit(model, train_loader, val_dataloaders=(val_loader or None))\n",
      "\u001b[34m\u001b[1mwandb\u001b[0m: \u001b[32m\u001b[41mERROR\u001b[0m   File \"/Users/jjaniak/anaconda3/envs/studia_projekt/lib/python3.8/site-packages/pytorch_lightning/trainer/trainer.py\", line 545, in fit\n",
      "\u001b[34m\u001b[1mwandb\u001b[0m: \u001b[32m\u001b[41mERROR\u001b[0m     call._call_and_handle_interrupt(\n",
      "\u001b[34m\u001b[1mwandb\u001b[0m: \u001b[32m\u001b[41mERROR\u001b[0m   File \"/Users/jjaniak/anaconda3/envs/studia_projekt/lib/python3.8/site-packages/pytorch_lightning/trainer/call.py\", line 44, in _call_and_handle_interrupt\n",
      "\u001b[34m\u001b[1mwandb\u001b[0m: \u001b[32m\u001b[41mERROR\u001b[0m     return trainer_fn(*args, **kwargs)\n",
      "\u001b[34m\u001b[1mwandb\u001b[0m: \u001b[32m\u001b[41mERROR\u001b[0m   File \"/Users/jjaniak/anaconda3/envs/studia_projekt/lib/python3.8/site-packages/pytorch_lightning/trainer/trainer.py\", line 581, in _fit_impl\n",
      "\u001b[34m\u001b[1mwandb\u001b[0m: \u001b[32m\u001b[41mERROR\u001b[0m     self._run(model, ckpt_path=ckpt_path)\n",
      "\u001b[34m\u001b[1mwandb\u001b[0m: \u001b[32m\u001b[41mERROR\u001b[0m   File \"/Users/jjaniak/anaconda3/envs/studia_projekt/lib/python3.8/site-packages/pytorch_lightning/trainer/trainer.py\", line 990, in _run\n",
      "\u001b[34m\u001b[1mwandb\u001b[0m: \u001b[32m\u001b[41mERROR\u001b[0m     results = self._run_stage()\n",
      "\u001b[34m\u001b[1mwandb\u001b[0m: \u001b[32m\u001b[41mERROR\u001b[0m   File \"/Users/jjaniak/anaconda3/envs/studia_projekt/lib/python3.8/site-packages/pytorch_lightning/trainer/trainer.py\", line 1034, in _run_stage\n",
      "\u001b[34m\u001b[1mwandb\u001b[0m: \u001b[32m\u001b[41mERROR\u001b[0m     self._run_sanity_check()\n",
      "\u001b[34m\u001b[1mwandb\u001b[0m: \u001b[32m\u001b[41mERROR\u001b[0m   File \"/Users/jjaniak/anaconda3/envs/studia_projekt/lib/python3.8/site-packages/pytorch_lightning/trainer/trainer.py\", line 1063, in _run_sanity_check\n",
      "\u001b[34m\u001b[1mwandb\u001b[0m: \u001b[32m\u001b[41mERROR\u001b[0m     val_loop.run()\n",
      "\u001b[34m\u001b[1mwandb\u001b[0m: \u001b[32m\u001b[41mERROR\u001b[0m   File \"/Users/jjaniak/anaconda3/envs/studia_projekt/lib/python3.8/site-packages/pytorch_lightning/loops/utilities.py\", line 181, in _decorator\n",
      "\u001b[34m\u001b[1mwandb\u001b[0m: \u001b[32m\u001b[41mERROR\u001b[0m     return loop_run(self, *args, **kwargs)\n",
      "\u001b[34m\u001b[1mwandb\u001b[0m: \u001b[32m\u001b[41mERROR\u001b[0m   File \"/Users/jjaniak/anaconda3/envs/studia_projekt/lib/python3.8/site-packages/pytorch_lightning/loops/evaluation_loop.py\", line 134, in run\n",
      "\u001b[34m\u001b[1mwandb\u001b[0m: \u001b[32m\u001b[41mERROR\u001b[0m     self._evaluation_step(batch, batch_idx, dataloader_idx, dataloader_iter)\n",
      "\u001b[34m\u001b[1mwandb\u001b[0m: \u001b[32m\u001b[41mERROR\u001b[0m   File \"/Users/jjaniak/anaconda3/envs/studia_projekt/lib/python3.8/site-packages/pytorch_lightning/loops/evaluation_loop.py\", line 391, in _evaluation_step\n",
      "\u001b[34m\u001b[1mwandb\u001b[0m: \u001b[32m\u001b[41mERROR\u001b[0m     output = call._call_strategy_hook(trainer, hook_name, *step_args)\n",
      "\u001b[34m\u001b[1mwandb\u001b[0m: \u001b[32m\u001b[41mERROR\u001b[0m   File \"/Users/jjaniak/anaconda3/envs/studia_projekt/lib/python3.8/site-packages/pytorch_lightning/trainer/call.py\", line 309, in _call_strategy_hook\n",
      "\u001b[34m\u001b[1mwandb\u001b[0m: \u001b[32m\u001b[41mERROR\u001b[0m     output = fn(*args, **kwargs)\n",
      "\u001b[34m\u001b[1mwandb\u001b[0m: \u001b[32m\u001b[41mERROR\u001b[0m   File \"/Users/jjaniak/anaconda3/envs/studia_projekt/lib/python3.8/site-packages/pytorch_lightning/strategies/strategy.py\", line 403, in validation_step\n",
      "\u001b[34m\u001b[1mwandb\u001b[0m: \u001b[32m\u001b[41mERROR\u001b[0m     return self.lightning_module.validation_step(*args, **kwargs)\n",
      "\u001b[34m\u001b[1mwandb\u001b[0m: \u001b[32m\u001b[41mERROR\u001b[0m   File \"/Users/jjaniak/Documents/studia/projekt/gradient/notebooks/downstream_tasks/../../src/lightning/hetero_gnn_module.py\", line 57, in validation_step\n",
      "\u001b[34m\u001b[1mwandb\u001b[0m: \u001b[32m\u001b[41mERROR\u001b[0m     y_hat = self.model(batch.x_dict, batch.edge_index_dict, batch.edge_attr_dict)\n",
      "\u001b[34m\u001b[1mwandb\u001b[0m: \u001b[32m\u001b[41mERROR\u001b[0m   File \"/Users/jjaniak/anaconda3/envs/studia_projekt/lib/python3.8/site-packages/torch/nn/modules/module.py\", line 1518, in _wrapped_call_impl\n",
      "\u001b[34m\u001b[1mwandb\u001b[0m: \u001b[32m\u001b[41mERROR\u001b[0m     return self._call_impl(*args, **kwargs)\n",
      "\u001b[34m\u001b[1mwandb\u001b[0m: \u001b[32m\u001b[41mERROR\u001b[0m   File \"/Users/jjaniak/anaconda3/envs/studia_projekt/lib/python3.8/site-packages/torch/nn/modules/module.py\", line 1527, in _call_impl\n",
      "\u001b[34m\u001b[1mwandb\u001b[0m: \u001b[32m\u001b[41mERROR\u001b[0m     return forward_call(*args, **kwargs)\n",
      "\u001b[34m\u001b[1mwandb\u001b[0m: \u001b[32m\u001b[41mERROR\u001b[0m   File \"/Users/jjaniak/Documents/studia/projekt/gradient/notebooks/downstream_tasks/../../src/baseline_models/HeteroGNN/HeteroGNN.py\", line 59, in forward\n",
      "\u001b[34m\u001b[1mwandb\u001b[0m: \u001b[32m\u001b[41mERROR\u001b[0m     value = self._forward(x_dict, edge_index_dict, edge_atrr_dict)\n",
      "\u001b[34m\u001b[1mwandb\u001b[0m: \u001b[32m\u001b[41mERROR\u001b[0m   File \"/Users/jjaniak/Documents/studia/projekt/gradient/notebooks/downstream_tasks/../../src/baseline_models/HeteroGNN/HeteroGNN.py\", line 74, in _forward\n",
      "\u001b[34m\u001b[1mwandb\u001b[0m: \u001b[32m\u001b[41mERROR\u001b[0m     x_dict = conv(x_dict, edge_index_dict, edge_atrr_dict)\n",
      "\u001b[34m\u001b[1mwandb\u001b[0m: \u001b[32m\u001b[41mERROR\u001b[0m   File \"/Users/jjaniak/anaconda3/envs/studia_projekt/lib/python3.8/site-packages/torch/nn/modules/module.py\", line 1518, in _wrapped_call_impl\n",
      "\u001b[34m\u001b[1mwandb\u001b[0m: \u001b[32m\u001b[41mERROR\u001b[0m     return self._call_impl(*args, **kwargs)\n",
      "\u001b[34m\u001b[1mwandb\u001b[0m: \u001b[32m\u001b[41mERROR\u001b[0m   File \"/Users/jjaniak/anaconda3/envs/studia_projekt/lib/python3.8/site-packages/torch/nn/modules/module.py\", line 1527, in _call_impl\n",
      "\u001b[34m\u001b[1mwandb\u001b[0m: \u001b[32m\u001b[41mERROR\u001b[0m     return forward_call(*args, **kwargs)\n",
      "\u001b[34m\u001b[1mwandb\u001b[0m: \u001b[32m\u001b[41mERROR\u001b[0m   File \"/Users/jjaniak/anaconda3/envs/studia_projekt/lib/python3.8/site-packages/torch_geometric/nn/conv/hetero_conv.py\", line 159, in forward\n",
      "\u001b[34m\u001b[1mwandb\u001b[0m: \u001b[32m\u001b[41mERROR\u001b[0m     out = self.convs[edge_type](*args, **kwargs)\n",
      "\u001b[34m\u001b[1mwandb\u001b[0m: \u001b[32m\u001b[41mERROR\u001b[0m   File \"/Users/jjaniak/anaconda3/envs/studia_projekt/lib/python3.8/site-packages/torch/nn/modules/module.py\", line 1518, in _wrapped_call_impl\n",
      "\u001b[34m\u001b[1mwandb\u001b[0m: \u001b[32m\u001b[41mERROR\u001b[0m     return self._call_impl(*args, **kwargs)\n",
      "\u001b[34m\u001b[1mwandb\u001b[0m: \u001b[32m\u001b[41mERROR\u001b[0m   File \"/Users/jjaniak/anaconda3/envs/studia_projekt/lib/python3.8/site-packages/torch/nn/modules/module.py\", line 1527, in _call_impl\n",
      "\u001b[34m\u001b[1mwandb\u001b[0m: \u001b[32m\u001b[41mERROR\u001b[0m     return forward_call(*args, **kwargs)\n",
      "\u001b[34m\u001b[1mwandb\u001b[0m: \u001b[32m\u001b[41mERROR\u001b[0m   File \"/Users/jjaniak/anaconda3/envs/studia_projekt/lib/python3.8/site-packages/torch_geometric/nn/conv/gat_conv.py\", line 252, in forward\n",
      "\u001b[34m\u001b[1mwandb\u001b[0m: \u001b[32m\u001b[41mERROR\u001b[0m     alpha = self.edge_updater(edge_index, alpha=alpha, edge_attr=edge_attr)\n",
      "\u001b[34m\u001b[1mwandb\u001b[0m: \u001b[32m\u001b[41mERROR\u001b[0m   File \"/Users/jjaniak/anaconda3/envs/studia_projekt/lib/python3.8/site-packages/torch_geometric/nn/conv/message_passing.py\", line 527, in edge_updater\n",
      "\u001b[34m\u001b[1mwandb\u001b[0m: \u001b[32m\u001b[41mERROR\u001b[0m     out = self.edge_update(**edge_kwargs)\n",
      "\u001b[34m\u001b[1mwandb\u001b[0m: \u001b[32m\u001b[41mERROR\u001b[0m   File \"/Users/jjaniak/anaconda3/envs/studia_projekt/lib/python3.8/site-packages/torch_geometric/nn/conv/gat_conv.py\", line 295, in edge_update\n",
      "\u001b[34m\u001b[1mwandb\u001b[0m: \u001b[32m\u001b[41mERROR\u001b[0m     alpha = softmax(alpha, index, ptr, size_i)\n",
      "\u001b[34m\u001b[1mwandb\u001b[0m: \u001b[32m\u001b[41mERROR\u001b[0m   File \"/Users/jjaniak/anaconda3/envs/studia_projekt/lib/python3.8/site-packages/torch_geometric/utils/softmax.py\", line 65, in softmax\n",
      "\u001b[34m\u001b[1mwandb\u001b[0m: \u001b[32m\u001b[41mERROR\u001b[0m     src_max = scatter(src.detach(), index, dim, dim_size=N, reduce='max')\n",
      "\u001b[34m\u001b[1mwandb\u001b[0m: \u001b[32m\u001b[41mERROR\u001b[0m   File \"/Users/jjaniak/anaconda3/envs/studia_projekt/lib/python3.8/site-packages/torch_geometric/utils/scatter.py\", line 94, in scatter\n",
      "\u001b[34m\u001b[1mwandb\u001b[0m: \u001b[32m\u001b[41mERROR\u001b[0m     return src.new_zeros(size).scatter_reduce_(\n",
      "\u001b[34m\u001b[1mwandb\u001b[0m: \u001b[32m\u001b[41mERROR\u001b[0m NotImplementedError: The operator 'aten::scatter_reduce.two_out' is not currently implemented for the MPS device. If you want this op to be added in priority during the prototype phase of this feature, please comment on https://github.com/pytorch/pytorch/issues/77764. As a temporary fix, you can set the environment variable `PYTORCH_ENABLE_MPS_FALLBACK=1` to use the CPU as a fallback for this op. WARNING: this will be slower than running natively on MPS.\n",
      "\u001b[34m\u001b[1mwandb\u001b[0m: \u001b[32m\u001b[41mERROR\u001b[0m \n",
      "Detected 3 failed runs in the first 60 seconds, killing sweep.\n",
      "\u001b[34m\u001b[1mwandb\u001b[0m: \u001b[32m\u001b[41mERROR\u001b[0m Detected 3 failed runs in the first 60 seconds, killing sweep.\n",
      "\u001b[34m\u001b[1mwandb\u001b[0m: To disable this check set WANDB_AGENT_DISABLE_FLAPPING=true\n"
     ]
    },
    {
     "name": "stdout",
     "output_type": "stream",
     "text": [
      "Sweep for config 3/4 in progress...\n"
     ]
    },
    {
     "name": "stderr",
     "output_type": "stream",
     "text": [
      "\u001b[34m\u001b[1mwandb\u001b[0m: \u001b[33mWARNING\u001b[0m If you're specifying your api key in code, ensure this code is not shared publicly.\n",
      "\u001b[34m\u001b[1mwandb\u001b[0m: \u001b[33mWARNING\u001b[0m Consider setting the WANDB_API_KEY environment variable, or running `wandb login` from the command line.\n",
      "\u001b[34m\u001b[1mwandb\u001b[0m: Appending key for api.wandb.ai to your netrc file: /Users/jjaniak/.netrc\n"
     ]
    },
    {
     "name": "stdout",
     "output_type": "stream",
     "text": [
      "Create sweep with ID: t34vfnwj\n",
      "Sweep URL: https://wandb.ai/gradient_pwr/accidents-downstream-task-v2/sweeps/t34vfnwj\n"
     ]
    },
    {
     "name": "stderr",
     "output_type": "stream",
     "text": [
      "\u001b[34m\u001b[1mwandb\u001b[0m: Agent Starting Run: zm2na1e1 with config:\n",
      "\u001b[34m\u001b[1mwandb\u001b[0m: \thidden_channels: 40\n",
      "\u001b[34m\u001b[1mwandb\u001b[0m: \tlearning_rate: 0.00019472320016502025\n",
      "\u001b[34m\u001b[1mwandb\u001b[0m: \tlin_layer_size: 64\n",
      "\u001b[34m\u001b[1mwandb\u001b[0m: \tnum_conv_layers: 5\n",
      "\u001b[34m\u001b[1mwandb\u001b[0m: \tnum_lin_layers: 2\n",
      "\u001b[34m\u001b[1mwandb\u001b[0m: \tweight_decay: 0.001110778108303117\n",
      "Failed to detect the name of this notebook, you can set it manually with the WANDB_NOTEBOOK_NAME environment variable to enable code saving.\n"
     ]
    },
    {
     "data": {
      "text/html": [
       "wandb version 0.17.1 is available!  To upgrade, please run:\n",
       " $ pip install wandb --upgrade"
      ],
      "text/plain": [
       "<IPython.core.display.HTML object>"
      ]
     },
     "metadata": {},
     "output_type": "display_data"
    },
    {
     "data": {
      "text/html": [
       "Tracking run with wandb version 0.16.4"
      ],
      "text/plain": [
       "<IPython.core.display.HTML object>"
      ]
     },
     "metadata": {},
     "output_type": "display_data"
    },
    {
     "data": {
      "text/html": [
       "Run data is saved locally in <code>/Users/jjaniak/Documents/studia/projekt/gradient/notebooks/downstream_tasks/wandb/run-20240607_180802-zm2na1e1</code>"
      ],
      "text/plain": [
       "<IPython.core.display.HTML object>"
      ]
     },
     "metadata": {},
     "output_type": "display_data"
    },
    {
     "data": {
      "text/html": [
       "Syncing run <strong><a href='https://wandb.ai/gradient_pwr/accidents-downstream-task-v2/runs/zm2na1e1' target=\"_blank\">fragrant-sweep-1</a></strong> to <a href='https://wandb.ai/gradient_pwr/accidents-downstream-task-v2' target=\"_blank\">Weights & Biases</a> (<a href='https://wandb.me/run' target=\"_blank\">docs</a>)<br/>Sweep page: <a href='https://wandb.ai/gradient_pwr/accidents-downstream-task-v2/sweeps/t34vfnwj' target=\"_blank\">https://wandb.ai/gradient_pwr/accidents-downstream-task-v2/sweeps/t34vfnwj</a>"
      ],
      "text/plain": [
       "<IPython.core.display.HTML object>"
      ]
     },
     "metadata": {},
     "output_type": "display_data"
    },
    {
     "data": {
      "text/html": [
       " View project at <a href='https://wandb.ai/gradient_pwr/accidents-downstream-task-v2' target=\"_blank\">https://wandb.ai/gradient_pwr/accidents-downstream-task-v2</a>"
      ],
      "text/plain": [
       "<IPython.core.display.HTML object>"
      ]
     },
     "metadata": {},
     "output_type": "display_data"
    },
    {
     "data": {
      "text/html": [
       " View sweep at <a href='https://wandb.ai/gradient_pwr/accidents-downstream-task-v2/sweeps/t34vfnwj' target=\"_blank\">https://wandb.ai/gradient_pwr/accidents-downstream-task-v2/sweeps/t34vfnwj</a>"
      ],
      "text/plain": [
       "<IPython.core.display.HTML object>"
      ]
     },
     "metadata": {},
     "output_type": "display_data"
    },
    {
     "data": {
      "text/html": [
       " View run at <a href='https://wandb.ai/gradient_pwr/accidents-downstream-task-v2/runs/zm2na1e1' target=\"_blank\">https://wandb.ai/gradient_pwr/accidents-downstream-task-v2/runs/zm2na1e1</a>"
      ],
      "text/plain": [
       "<IPython.core.display.HTML object>"
      ]
     },
     "metadata": {},
     "output_type": "display_data"
    },
    {
     "name": "stderr",
     "output_type": "stream",
     "text": [
      "/Users/jjaniak/anaconda3/envs/studia_projekt/lib/python3.8/site-packages/torch_geometric/deprecation.py:22: UserWarning: 'data.DataLoader' is deprecated, use 'loader.DataLoader' instead\n",
      "  warnings.warn(out)\n",
      "GPU available: True (mps), used: True\n",
      "TPU available: False, using: 0 TPU cores\n",
      "IPU available: False, using: 0 IPUs\n",
      "HPU available: False, using: 0 HPUs\n",
      "Missing logger folder: ../../gradient_logs/2024_06_07_18_08_07/lightning_logs\n",
      "\n",
      "  | Name  | Type      | Params\n",
      "------------------------------------\n",
      "0 | model | HeteroGNN | 56.5 K\n",
      "------------------------------------\n",
      "56.5 K    Trainable params\n",
      "0         Non-trainable params\n",
      "56.5 K    Total params\n",
      "0.226     Total estimated model params size (MB)\n"
     ]
    },
    {
     "data": {
      "application/vnd.jupyter.widget-view+json": {
       "model_id": "927e734c91744f57bb18defc58dee3ac",
       "version_major": 2,
       "version_minor": 0
      },
      "text/plain": [
       "Sanity Checking: |          | 0/? [00:00<?, ?it/s]"
      ]
     },
     "metadata": {},
     "output_type": "display_data"
    },
    {
     "name": "stderr",
     "output_type": "stream",
     "text": [
      "/Users/jjaniak/anaconda3/envs/studia_projekt/lib/python3.8/site-packages/pytorch_lightning/trainer/connectors/data_connector.py:441: The 'val_dataloader' does not have many workers which may be a bottleneck. Consider increasing the value of the `num_workers` argument` to `num_workers=11` in the `DataLoader` to improve performance.\n"
     ]
    },
    {
     "data": {
      "application/vnd.jupyter.widget-view+json": {
       "model_id": "38c527e13ace4719a543d464d4d4d142",
       "version_major": 2,
       "version_minor": 0
      },
      "text/plain": [
       "VBox(children=(Label(value='164.969 MB of 164.969 MB uploaded\\r'), FloatProgress(value=1.0, max=1.0)))"
      ]
     },
     "metadata": {},
     "output_type": "display_data"
    },
    {
     "data": {
      "text/html": [
       "<style>\n",
       "    table.wandb td:nth-child(1) { padding: 0 10px; text-align: left ; width: auto;} td:nth-child(2) {text-align: left ; width: 100%}\n",
       "    .wandb-row { display: flex; flex-direction: row; flex-wrap: wrap; justify-content: flex-start; width: 100% }\n",
       "    .wandb-col { display: flex; flex-direction: column; flex-basis: 100%; flex: 1; padding: 10px; }\n",
       "    </style>\n",
       "<div class=\"wandb-row\"><div class=\"wandb-col\"><h3>Run history:</h3><br/><table class=\"wandb\"><tr><td>USE_HEXES_ATTRS</td><td>▁</td></tr><tr><td>USE_ORTOPHOTO</td><td>▁</td></tr><tr><td>USE_OSMNX_ATTRS</td><td>▁</td></tr></table><br/></div><div class=\"wandb-col\"><h3>Run summary:</h3><br/><table class=\"wandb\"><tr><td>USE_HEXES_ATTRS</td><td>1</td></tr><tr><td>USE_ORTOPHOTO</td><td>0</td></tr><tr><td>USE_OSMNX_ATTRS</td><td>1</td></tr><tr><td>data_structure</td><td>graph</td></tr></table><br/></div></div>"
      ],
      "text/plain": [
       "<IPython.core.display.HTML object>"
      ]
     },
     "metadata": {},
     "output_type": "display_data"
    },
    {
     "data": {
      "text/html": [
       " View run <strong style=\"color:#cdcd00\">fragrant-sweep-1</strong> at: <a href='https://wandb.ai/gradient_pwr/accidents-downstream-task-v2/runs/zm2na1e1' target=\"_blank\">https://wandb.ai/gradient_pwr/accidents-downstream-task-v2/runs/zm2na1e1</a><br/>Synced 6 W&B file(s), 0 media file(s), 1 artifact file(s) and 0 other file(s)"
      ],
      "text/plain": [
       "<IPython.core.display.HTML object>"
      ]
     },
     "metadata": {},
     "output_type": "display_data"
    },
    {
     "data": {
      "text/html": [
       "Find logs at: <code>./wandb/run-20240607_180802-zm2na1e1/logs</code>"
      ],
      "text/plain": [
       "<IPython.core.display.HTML object>"
      ]
     },
     "metadata": {},
     "output_type": "display_data"
    },
    {
     "name": "stderr",
     "output_type": "stream",
     "text": [
      "Run zm2na1e1 errored:\n",
      "Traceback (most recent call last):\n",
      "  File \"/Users/jjaniak/anaconda3/envs/studia_projekt/lib/python3.8/site-packages/wandb/agents/pyagent.py\", line 308, in _run_job\n",
      "    self._function()\n",
      "  File \"/var/folders/4k/8js3jm9n457cm4_v631zyrkw0000gn/T/ipykernel_25686/3559290024.py\", line 62, in wrapped\n",
      "    auc, accuracy, f1, model_path = train(\n",
      "  File \"/Users/jjaniak/Documents/studia/projekt/gradient/notebooks/downstream_tasks/../../src/training/train.py\", line 84, in train\n",
      "    trainer.fit(model, train_loader, val_dataloaders=(val_loader or None))\n",
      "  File \"/Users/jjaniak/anaconda3/envs/studia_projekt/lib/python3.8/site-packages/pytorch_lightning/trainer/trainer.py\", line 545, in fit\n",
      "    call._call_and_handle_interrupt(\n",
      "  File \"/Users/jjaniak/anaconda3/envs/studia_projekt/lib/python3.8/site-packages/pytorch_lightning/trainer/call.py\", line 44, in _call_and_handle_interrupt\n",
      "    return trainer_fn(*args, **kwargs)\n",
      "  File \"/Users/jjaniak/anaconda3/envs/studia_projekt/lib/python3.8/site-packages/pytorch_lightning/trainer/trainer.py\", line 581, in _fit_impl\n",
      "    self._run(model, ckpt_path=ckpt_path)\n",
      "  File \"/Users/jjaniak/anaconda3/envs/studia_projekt/lib/python3.8/site-packages/pytorch_lightning/trainer/trainer.py\", line 990, in _run\n",
      "    results = self._run_stage()\n",
      "  File \"/Users/jjaniak/anaconda3/envs/studia_projekt/lib/python3.8/site-packages/pytorch_lightning/trainer/trainer.py\", line 1034, in _run_stage\n",
      "    self._run_sanity_check()\n",
      "  File \"/Users/jjaniak/anaconda3/envs/studia_projekt/lib/python3.8/site-packages/pytorch_lightning/trainer/trainer.py\", line 1063, in _run_sanity_check\n",
      "    val_loop.run()\n",
      "  File \"/Users/jjaniak/anaconda3/envs/studia_projekt/lib/python3.8/site-packages/pytorch_lightning/loops/utilities.py\", line 181, in _decorator\n",
      "    return loop_run(self, *args, **kwargs)\n",
      "  File \"/Users/jjaniak/anaconda3/envs/studia_projekt/lib/python3.8/site-packages/pytorch_lightning/loops/evaluation_loop.py\", line 134, in run\n",
      "    self._evaluation_step(batch, batch_idx, dataloader_idx, dataloader_iter)\n",
      "  File \"/Users/jjaniak/anaconda3/envs/studia_projekt/lib/python3.8/site-packages/pytorch_lightning/loops/evaluation_loop.py\", line 391, in _evaluation_step\n",
      "    output = call._call_strategy_hook(trainer, hook_name, *step_args)\n",
      "  File \"/Users/jjaniak/anaconda3/envs/studia_projekt/lib/python3.8/site-packages/pytorch_lightning/trainer/call.py\", line 309, in _call_strategy_hook\n",
      "    output = fn(*args, **kwargs)\n",
      "  File \"/Users/jjaniak/anaconda3/envs/studia_projekt/lib/python3.8/site-packages/pytorch_lightning/strategies/strategy.py\", line 403, in validation_step\n",
      "    return self.lightning_module.validation_step(*args, **kwargs)\n",
      "  File \"/Users/jjaniak/Documents/studia/projekt/gradient/notebooks/downstream_tasks/../../src/lightning/hetero_gnn_module.py\", line 57, in validation_step\n",
      "    y_hat = self.model(batch.x_dict, batch.edge_index_dict, batch.edge_attr_dict)\n",
      "  File \"/Users/jjaniak/anaconda3/envs/studia_projekt/lib/python3.8/site-packages/torch/nn/modules/module.py\", line 1518, in _wrapped_call_impl\n",
      "    return self._call_impl(*args, **kwargs)\n",
      "  File \"/Users/jjaniak/anaconda3/envs/studia_projekt/lib/python3.8/site-packages/torch/nn/modules/module.py\", line 1527, in _call_impl\n",
      "    return forward_call(*args, **kwargs)\n",
      "  File \"/Users/jjaniak/Documents/studia/projekt/gradient/notebooks/downstream_tasks/../../src/baseline_models/HeteroGNN/HeteroGNN.py\", line 59, in forward\n",
      "    value = self._forward(x_dict, edge_index_dict, edge_atrr_dict)\n",
      "  File \"/Users/jjaniak/Documents/studia/projekt/gradient/notebooks/downstream_tasks/../../src/baseline_models/HeteroGNN/HeteroGNN.py\", line 74, in _forward\n",
      "    x_dict = conv(x_dict, edge_index_dict, edge_atrr_dict)\n",
      "  File \"/Users/jjaniak/anaconda3/envs/studia_projekt/lib/python3.8/site-packages/torch/nn/modules/module.py\", line 1518, in _wrapped_call_impl\n",
      "    return self._call_impl(*args, **kwargs)\n",
      "  File \"/Users/jjaniak/anaconda3/envs/studia_projekt/lib/python3.8/site-packages/torch/nn/modules/module.py\", line 1527, in _call_impl\n",
      "    return forward_call(*args, **kwargs)\n",
      "  File \"/Users/jjaniak/anaconda3/envs/studia_projekt/lib/python3.8/site-packages/torch_geometric/nn/conv/hetero_conv.py\", line 159, in forward\n",
      "    out = self.convs[edge_type](*args, **kwargs)\n",
      "  File \"/Users/jjaniak/anaconda3/envs/studia_projekt/lib/python3.8/site-packages/torch/nn/modules/module.py\", line 1518, in _wrapped_call_impl\n",
      "    return self._call_impl(*args, **kwargs)\n",
      "  File \"/Users/jjaniak/anaconda3/envs/studia_projekt/lib/python3.8/site-packages/torch/nn/modules/module.py\", line 1527, in _call_impl\n",
      "    return forward_call(*args, **kwargs)\n",
      "  File \"/Users/jjaniak/anaconda3/envs/studia_projekt/lib/python3.8/site-packages/torch_geometric/nn/conv/gat_conv.py\", line 252, in forward\n",
      "    alpha = self.edge_updater(edge_index, alpha=alpha, edge_attr=edge_attr)\n",
      "  File \"/Users/jjaniak/anaconda3/envs/studia_projekt/lib/python3.8/site-packages/torch_geometric/nn/conv/message_passing.py\", line 527, in edge_updater\n",
      "    out = self.edge_update(**edge_kwargs)\n",
      "  File \"/Users/jjaniak/anaconda3/envs/studia_projekt/lib/python3.8/site-packages/torch_geometric/nn/conv/gat_conv.py\", line 295, in edge_update\n",
      "    alpha = softmax(alpha, index, ptr, size_i)\n",
      "  File \"/Users/jjaniak/anaconda3/envs/studia_projekt/lib/python3.8/site-packages/torch_geometric/utils/softmax.py\", line 65, in softmax\n",
      "    src_max = scatter(src.detach(), index, dim, dim_size=N, reduce='max')\n",
      "  File \"/Users/jjaniak/anaconda3/envs/studia_projekt/lib/python3.8/site-packages/torch_geometric/utils/scatter.py\", line 94, in scatter\n",
      "    return src.new_zeros(size).scatter_reduce_(\n",
      "NotImplementedError: The operator 'aten::scatter_reduce.two_out' is not currently implemented for the MPS device. If you want this op to be added in priority during the prototype phase of this feature, please comment on https://github.com/pytorch/pytorch/issues/77764. As a temporary fix, you can set the environment variable `PYTORCH_ENABLE_MPS_FALLBACK=1` to use the CPU as a fallback for this op. WARNING: this will be slower than running natively on MPS.\n",
      "\n",
      "\u001b[34m\u001b[1mwandb\u001b[0m: \u001b[32m\u001b[41mERROR\u001b[0m Run zm2na1e1 errored:\n",
      "\u001b[34m\u001b[1mwandb\u001b[0m: \u001b[32m\u001b[41mERROR\u001b[0m Traceback (most recent call last):\n",
      "\u001b[34m\u001b[1mwandb\u001b[0m: \u001b[32m\u001b[41mERROR\u001b[0m   File \"/Users/jjaniak/anaconda3/envs/studia_projekt/lib/python3.8/site-packages/wandb/agents/pyagent.py\", line 308, in _run_job\n",
      "\u001b[34m\u001b[1mwandb\u001b[0m: \u001b[32m\u001b[41mERROR\u001b[0m     self._function()\n",
      "\u001b[34m\u001b[1mwandb\u001b[0m: \u001b[32m\u001b[41mERROR\u001b[0m   File \"/var/folders/4k/8js3jm9n457cm4_v631zyrkw0000gn/T/ipykernel_25686/3559290024.py\", line 62, in wrapped\n",
      "\u001b[34m\u001b[1mwandb\u001b[0m: \u001b[32m\u001b[41mERROR\u001b[0m     auc, accuracy, f1, model_path = train(\n",
      "\u001b[34m\u001b[1mwandb\u001b[0m: \u001b[32m\u001b[41mERROR\u001b[0m   File \"/Users/jjaniak/Documents/studia/projekt/gradient/notebooks/downstream_tasks/../../src/training/train.py\", line 84, in train\n",
      "\u001b[34m\u001b[1mwandb\u001b[0m: \u001b[32m\u001b[41mERROR\u001b[0m     trainer.fit(model, train_loader, val_dataloaders=(val_loader or None))\n",
      "\u001b[34m\u001b[1mwandb\u001b[0m: \u001b[32m\u001b[41mERROR\u001b[0m   File \"/Users/jjaniak/anaconda3/envs/studia_projekt/lib/python3.8/site-packages/pytorch_lightning/trainer/trainer.py\", line 545, in fit\n",
      "\u001b[34m\u001b[1mwandb\u001b[0m: \u001b[32m\u001b[41mERROR\u001b[0m     call._call_and_handle_interrupt(\n",
      "\u001b[34m\u001b[1mwandb\u001b[0m: \u001b[32m\u001b[41mERROR\u001b[0m   File \"/Users/jjaniak/anaconda3/envs/studia_projekt/lib/python3.8/site-packages/pytorch_lightning/trainer/call.py\", line 44, in _call_and_handle_interrupt\n",
      "\u001b[34m\u001b[1mwandb\u001b[0m: \u001b[32m\u001b[41mERROR\u001b[0m     return trainer_fn(*args, **kwargs)\n",
      "\u001b[34m\u001b[1mwandb\u001b[0m: \u001b[32m\u001b[41mERROR\u001b[0m   File \"/Users/jjaniak/anaconda3/envs/studia_projekt/lib/python3.8/site-packages/pytorch_lightning/trainer/trainer.py\", line 581, in _fit_impl\n",
      "\u001b[34m\u001b[1mwandb\u001b[0m: \u001b[32m\u001b[41mERROR\u001b[0m     self._run(model, ckpt_path=ckpt_path)\n",
      "\u001b[34m\u001b[1mwandb\u001b[0m: \u001b[32m\u001b[41mERROR\u001b[0m   File \"/Users/jjaniak/anaconda3/envs/studia_projekt/lib/python3.8/site-packages/pytorch_lightning/trainer/trainer.py\", line 990, in _run\n",
      "\u001b[34m\u001b[1mwandb\u001b[0m: \u001b[32m\u001b[41mERROR\u001b[0m     results = self._run_stage()\n",
      "\u001b[34m\u001b[1mwandb\u001b[0m: \u001b[32m\u001b[41mERROR\u001b[0m   File \"/Users/jjaniak/anaconda3/envs/studia_projekt/lib/python3.8/site-packages/pytorch_lightning/trainer/trainer.py\", line 1034, in _run_stage\n",
      "\u001b[34m\u001b[1mwandb\u001b[0m: \u001b[32m\u001b[41mERROR\u001b[0m     self._run_sanity_check()\n",
      "\u001b[34m\u001b[1mwandb\u001b[0m: \u001b[32m\u001b[41mERROR\u001b[0m   File \"/Users/jjaniak/anaconda3/envs/studia_projekt/lib/python3.8/site-packages/pytorch_lightning/trainer/trainer.py\", line 1063, in _run_sanity_check\n",
      "\u001b[34m\u001b[1mwandb\u001b[0m: \u001b[32m\u001b[41mERROR\u001b[0m     val_loop.run()\n",
      "\u001b[34m\u001b[1mwandb\u001b[0m: \u001b[32m\u001b[41mERROR\u001b[0m   File \"/Users/jjaniak/anaconda3/envs/studia_projekt/lib/python3.8/site-packages/pytorch_lightning/loops/utilities.py\", line 181, in _decorator\n",
      "\u001b[34m\u001b[1mwandb\u001b[0m: \u001b[32m\u001b[41mERROR\u001b[0m     return loop_run(self, *args, **kwargs)\n",
      "\u001b[34m\u001b[1mwandb\u001b[0m: \u001b[32m\u001b[41mERROR\u001b[0m   File \"/Users/jjaniak/anaconda3/envs/studia_projekt/lib/python3.8/site-packages/pytorch_lightning/loops/evaluation_loop.py\", line 134, in run\n",
      "\u001b[34m\u001b[1mwandb\u001b[0m: \u001b[32m\u001b[41mERROR\u001b[0m     self._evaluation_step(batch, batch_idx, dataloader_idx, dataloader_iter)\n",
      "\u001b[34m\u001b[1mwandb\u001b[0m: \u001b[32m\u001b[41mERROR\u001b[0m   File \"/Users/jjaniak/anaconda3/envs/studia_projekt/lib/python3.8/site-packages/pytorch_lightning/loops/evaluation_loop.py\", line 391, in _evaluation_step\n",
      "\u001b[34m\u001b[1mwandb\u001b[0m: \u001b[32m\u001b[41mERROR\u001b[0m     output = call._call_strategy_hook(trainer, hook_name, *step_args)\n",
      "\u001b[34m\u001b[1mwandb\u001b[0m: \u001b[32m\u001b[41mERROR\u001b[0m   File \"/Users/jjaniak/anaconda3/envs/studia_projekt/lib/python3.8/site-packages/pytorch_lightning/trainer/call.py\", line 309, in _call_strategy_hook\n",
      "\u001b[34m\u001b[1mwandb\u001b[0m: \u001b[32m\u001b[41mERROR\u001b[0m     output = fn(*args, **kwargs)\n",
      "\u001b[34m\u001b[1mwandb\u001b[0m: \u001b[32m\u001b[41mERROR\u001b[0m   File \"/Users/jjaniak/anaconda3/envs/studia_projekt/lib/python3.8/site-packages/pytorch_lightning/strategies/strategy.py\", line 403, in validation_step\n",
      "\u001b[34m\u001b[1mwandb\u001b[0m: \u001b[32m\u001b[41mERROR\u001b[0m     return self.lightning_module.validation_step(*args, **kwargs)\n",
      "\u001b[34m\u001b[1mwandb\u001b[0m: \u001b[32m\u001b[41mERROR\u001b[0m   File \"/Users/jjaniak/Documents/studia/projekt/gradient/notebooks/downstream_tasks/../../src/lightning/hetero_gnn_module.py\", line 57, in validation_step\n",
      "\u001b[34m\u001b[1mwandb\u001b[0m: \u001b[32m\u001b[41mERROR\u001b[0m     y_hat = self.model(batch.x_dict, batch.edge_index_dict, batch.edge_attr_dict)\n",
      "\u001b[34m\u001b[1mwandb\u001b[0m: \u001b[32m\u001b[41mERROR\u001b[0m   File \"/Users/jjaniak/anaconda3/envs/studia_projekt/lib/python3.8/site-packages/torch/nn/modules/module.py\", line 1518, in _wrapped_call_impl\n",
      "\u001b[34m\u001b[1mwandb\u001b[0m: \u001b[32m\u001b[41mERROR\u001b[0m     return self._call_impl(*args, **kwargs)\n",
      "\u001b[34m\u001b[1mwandb\u001b[0m: \u001b[32m\u001b[41mERROR\u001b[0m   File \"/Users/jjaniak/anaconda3/envs/studia_projekt/lib/python3.8/site-packages/torch/nn/modules/module.py\", line 1527, in _call_impl\n",
      "\u001b[34m\u001b[1mwandb\u001b[0m: \u001b[32m\u001b[41mERROR\u001b[0m     return forward_call(*args, **kwargs)\n",
      "\u001b[34m\u001b[1mwandb\u001b[0m: \u001b[32m\u001b[41mERROR\u001b[0m   File \"/Users/jjaniak/Documents/studia/projekt/gradient/notebooks/downstream_tasks/../../src/baseline_models/HeteroGNN/HeteroGNN.py\", line 59, in forward\n",
      "\u001b[34m\u001b[1mwandb\u001b[0m: \u001b[32m\u001b[41mERROR\u001b[0m     value = self._forward(x_dict, edge_index_dict, edge_atrr_dict)\n",
      "\u001b[34m\u001b[1mwandb\u001b[0m: \u001b[32m\u001b[41mERROR\u001b[0m   File \"/Users/jjaniak/Documents/studia/projekt/gradient/notebooks/downstream_tasks/../../src/baseline_models/HeteroGNN/HeteroGNN.py\", line 74, in _forward\n",
      "\u001b[34m\u001b[1mwandb\u001b[0m: \u001b[32m\u001b[41mERROR\u001b[0m     x_dict = conv(x_dict, edge_index_dict, edge_atrr_dict)\n",
      "\u001b[34m\u001b[1mwandb\u001b[0m: \u001b[32m\u001b[41mERROR\u001b[0m   File \"/Users/jjaniak/anaconda3/envs/studia_projekt/lib/python3.8/site-packages/torch/nn/modules/module.py\", line 1518, in _wrapped_call_impl\n",
      "\u001b[34m\u001b[1mwandb\u001b[0m: \u001b[32m\u001b[41mERROR\u001b[0m     return self._call_impl(*args, **kwargs)\n",
      "\u001b[34m\u001b[1mwandb\u001b[0m: \u001b[32m\u001b[41mERROR\u001b[0m   File \"/Users/jjaniak/anaconda3/envs/studia_projekt/lib/python3.8/site-packages/torch/nn/modules/module.py\", line 1527, in _call_impl\n",
      "\u001b[34m\u001b[1mwandb\u001b[0m: \u001b[32m\u001b[41mERROR\u001b[0m     return forward_call(*args, **kwargs)\n",
      "\u001b[34m\u001b[1mwandb\u001b[0m: \u001b[32m\u001b[41mERROR\u001b[0m   File \"/Users/jjaniak/anaconda3/envs/studia_projekt/lib/python3.8/site-packages/torch_geometric/nn/conv/hetero_conv.py\", line 159, in forward\n",
      "\u001b[34m\u001b[1mwandb\u001b[0m: \u001b[32m\u001b[41mERROR\u001b[0m     out = self.convs[edge_type](*args, **kwargs)\n",
      "\u001b[34m\u001b[1mwandb\u001b[0m: \u001b[32m\u001b[41mERROR\u001b[0m   File \"/Users/jjaniak/anaconda3/envs/studia_projekt/lib/python3.8/site-packages/torch/nn/modules/module.py\", line 1518, in _wrapped_call_impl\n",
      "\u001b[34m\u001b[1mwandb\u001b[0m: \u001b[32m\u001b[41mERROR\u001b[0m     return self._call_impl(*args, **kwargs)\n",
      "\u001b[34m\u001b[1mwandb\u001b[0m: \u001b[32m\u001b[41mERROR\u001b[0m   File \"/Users/jjaniak/anaconda3/envs/studia_projekt/lib/python3.8/site-packages/torch/nn/modules/module.py\", line 1527, in _call_impl\n",
      "\u001b[34m\u001b[1mwandb\u001b[0m: \u001b[32m\u001b[41mERROR\u001b[0m     return forward_call(*args, **kwargs)\n",
      "\u001b[34m\u001b[1mwandb\u001b[0m: \u001b[32m\u001b[41mERROR\u001b[0m   File \"/Users/jjaniak/anaconda3/envs/studia_projekt/lib/python3.8/site-packages/torch_geometric/nn/conv/gat_conv.py\", line 252, in forward\n",
      "\u001b[34m\u001b[1mwandb\u001b[0m: \u001b[32m\u001b[41mERROR\u001b[0m     alpha = self.edge_updater(edge_index, alpha=alpha, edge_attr=edge_attr)\n",
      "\u001b[34m\u001b[1mwandb\u001b[0m: \u001b[32m\u001b[41mERROR\u001b[0m   File \"/Users/jjaniak/anaconda3/envs/studia_projekt/lib/python3.8/site-packages/torch_geometric/nn/conv/message_passing.py\", line 527, in edge_updater\n",
      "\u001b[34m\u001b[1mwandb\u001b[0m: \u001b[32m\u001b[41mERROR\u001b[0m     out = self.edge_update(**edge_kwargs)\n",
      "\u001b[34m\u001b[1mwandb\u001b[0m: \u001b[32m\u001b[41mERROR\u001b[0m   File \"/Users/jjaniak/anaconda3/envs/studia_projekt/lib/python3.8/site-packages/torch_geometric/nn/conv/gat_conv.py\", line 295, in edge_update\n",
      "\u001b[34m\u001b[1mwandb\u001b[0m: \u001b[32m\u001b[41mERROR\u001b[0m     alpha = softmax(alpha, index, ptr, size_i)\n",
      "\u001b[34m\u001b[1mwandb\u001b[0m: \u001b[32m\u001b[41mERROR\u001b[0m   File \"/Users/jjaniak/anaconda3/envs/studia_projekt/lib/python3.8/site-packages/torch_geometric/utils/softmax.py\", line 65, in softmax\n",
      "\u001b[34m\u001b[1mwandb\u001b[0m: \u001b[32m\u001b[41mERROR\u001b[0m     src_max = scatter(src.detach(), index, dim, dim_size=N, reduce='max')\n",
      "\u001b[34m\u001b[1mwandb\u001b[0m: \u001b[32m\u001b[41mERROR\u001b[0m   File \"/Users/jjaniak/anaconda3/envs/studia_projekt/lib/python3.8/site-packages/torch_geometric/utils/scatter.py\", line 94, in scatter\n",
      "\u001b[34m\u001b[1mwandb\u001b[0m: \u001b[32m\u001b[41mERROR\u001b[0m     return src.new_zeros(size).scatter_reduce_(\n",
      "\u001b[34m\u001b[1mwandb\u001b[0m: \u001b[32m\u001b[41mERROR\u001b[0m NotImplementedError: The operator 'aten::scatter_reduce.two_out' is not currently implemented for the MPS device. If you want this op to be added in priority during the prototype phase of this feature, please comment on https://github.com/pytorch/pytorch/issues/77764. As a temporary fix, you can set the environment variable `PYTORCH_ENABLE_MPS_FALLBACK=1` to use the CPU as a fallback for this op. WARNING: this will be slower than running natively on MPS.\n",
      "\u001b[34m\u001b[1mwandb\u001b[0m: \u001b[32m\u001b[41mERROR\u001b[0m \n",
      "\u001b[34m\u001b[1mwandb\u001b[0m: Agent Starting Run: te8x29hn with config:\n",
      "\u001b[34m\u001b[1mwandb\u001b[0m: \thidden_channels: 40\n",
      "\u001b[34m\u001b[1mwandb\u001b[0m: \tlearning_rate: 0.006342581568494197\n",
      "\u001b[34m\u001b[1mwandb\u001b[0m: \tlin_layer_size: 8\n",
      "\u001b[34m\u001b[1mwandb\u001b[0m: \tnum_conv_layers: 2\n",
      "\u001b[34m\u001b[1mwandb\u001b[0m: \tnum_lin_layers: 2\n",
      "\u001b[34m\u001b[1mwandb\u001b[0m: \tweight_decay: 0.003069226034425181\n",
      "Failed to detect the name of this notebook, you can set it manually with the WANDB_NOTEBOOK_NAME environment variable to enable code saving.\n"
     ]
    },
    {
     "data": {
      "text/html": [
       "wandb version 0.17.1 is available!  To upgrade, please run:\n",
       " $ pip install wandb --upgrade"
      ],
      "text/plain": [
       "<IPython.core.display.HTML object>"
      ]
     },
     "metadata": {},
     "output_type": "display_data"
    },
    {
     "data": {
      "text/html": [
       "Tracking run with wandb version 0.16.4"
      ],
      "text/plain": [
       "<IPython.core.display.HTML object>"
      ]
     },
     "metadata": {},
     "output_type": "display_data"
    },
    {
     "data": {
      "text/html": [
       "Run data is saved locally in <code>/Users/jjaniak/Documents/studia/projekt/gradient/notebooks/downstream_tasks/wandb/run-20240607_180833-te8x29hn</code>"
      ],
      "text/plain": [
       "<IPython.core.display.HTML object>"
      ]
     },
     "metadata": {},
     "output_type": "display_data"
    },
    {
     "data": {
      "text/html": [
       "Syncing run <strong><a href='https://wandb.ai/gradient_pwr/accidents-downstream-task-v2/runs/te8x29hn' target=\"_blank\">devoted-sweep-2</a></strong> to <a href='https://wandb.ai/gradient_pwr/accidents-downstream-task-v2' target=\"_blank\">Weights & Biases</a> (<a href='https://wandb.me/run' target=\"_blank\">docs</a>)<br/>Sweep page: <a href='https://wandb.ai/gradient_pwr/accidents-downstream-task-v2/sweeps/t34vfnwj' target=\"_blank\">https://wandb.ai/gradient_pwr/accidents-downstream-task-v2/sweeps/t34vfnwj</a>"
      ],
      "text/plain": [
       "<IPython.core.display.HTML object>"
      ]
     },
     "metadata": {},
     "output_type": "display_data"
    },
    {
     "data": {
      "text/html": [
       " View project at <a href='https://wandb.ai/gradient_pwr/accidents-downstream-task-v2' target=\"_blank\">https://wandb.ai/gradient_pwr/accidents-downstream-task-v2</a>"
      ],
      "text/plain": [
       "<IPython.core.display.HTML object>"
      ]
     },
     "metadata": {},
     "output_type": "display_data"
    },
    {
     "data": {
      "text/html": [
       " View sweep at <a href='https://wandb.ai/gradient_pwr/accidents-downstream-task-v2/sweeps/t34vfnwj' target=\"_blank\">https://wandb.ai/gradient_pwr/accidents-downstream-task-v2/sweeps/t34vfnwj</a>"
      ],
      "text/plain": [
       "<IPython.core.display.HTML object>"
      ]
     },
     "metadata": {},
     "output_type": "display_data"
    },
    {
     "data": {
      "text/html": [
       " View run at <a href='https://wandb.ai/gradient_pwr/accidents-downstream-task-v2/runs/te8x29hn' target=\"_blank\">https://wandb.ai/gradient_pwr/accidents-downstream-task-v2/runs/te8x29hn</a>"
      ],
      "text/plain": [
       "<IPython.core.display.HTML object>"
      ]
     },
     "metadata": {},
     "output_type": "display_data"
    },
    {
     "name": "stderr",
     "output_type": "stream",
     "text": [
      "/Users/jjaniak/anaconda3/envs/studia_projekt/lib/python3.8/site-packages/torch_geometric/deprecation.py:22: UserWarning: 'data.DataLoader' is deprecated, use 'loader.DataLoader' instead\n",
      "  warnings.warn(out)\n",
      "GPU available: True (mps), used: True\n",
      "TPU available: False, using: 0 TPU cores\n",
      "IPU available: False, using: 0 IPUs\n",
      "HPU available: False, using: 0 HPUs\n",
      "Missing logger folder: ../../gradient_logs/2024_06_07_18_08_38/lightning_logs\n",
      "\n",
      "  | Name  | Type      | Params\n",
      "------------------------------------\n",
      "0 | model | HeteroGNN | 17.6 K\n",
      "------------------------------------\n",
      "17.6 K    Trainable params\n",
      "0         Non-trainable params\n",
      "17.6 K    Total params\n",
      "0.071     Total estimated model params size (MB)\n"
     ]
    },
    {
     "data": {
      "application/vnd.jupyter.widget-view+json": {
       "model_id": "c6fb9864b0894f5fb69747a672b14ed5",
       "version_major": 2,
       "version_minor": 0
      },
      "text/plain": [
       "Sanity Checking: |          | 0/? [00:00<?, ?it/s]"
      ]
     },
     "metadata": {},
     "output_type": "display_data"
    },
    {
     "name": "stderr",
     "output_type": "stream",
     "text": [
      "/Users/jjaniak/anaconda3/envs/studia_projekt/lib/python3.8/site-packages/pytorch_lightning/trainer/connectors/data_connector.py:441: The 'val_dataloader' does not have many workers which may be a bottleneck. Consider increasing the value of the `num_workers` argument` to `num_workers=11` in the `DataLoader` to improve performance.\n"
     ]
    },
    {
     "data": {
      "application/vnd.jupyter.widget-view+json": {
       "model_id": "f17024b5c1584d62b10bcd8cc4852a9f",
       "version_major": 2,
       "version_minor": 0
      },
      "text/plain": [
       "VBox(children=(Label(value='0.001 MB of 0.001 MB uploaded\\r'), FloatProgress(value=1.0, max=1.0)))"
      ]
     },
     "metadata": {},
     "output_type": "display_data"
    },
    {
     "data": {
      "text/html": [
       "<style>\n",
       "    table.wandb td:nth-child(1) { padding: 0 10px; text-align: left ; width: auto;} td:nth-child(2) {text-align: left ; width: 100%}\n",
       "    .wandb-row { display: flex; flex-direction: row; flex-wrap: wrap; justify-content: flex-start; width: 100% }\n",
       "    .wandb-col { display: flex; flex-direction: column; flex-basis: 100%; flex: 1; padding: 10px; }\n",
       "    </style>\n",
       "<div class=\"wandb-row\"><div class=\"wandb-col\"><h3>Run history:</h3><br/><table class=\"wandb\"><tr><td>USE_HEXES_ATTRS</td><td>▁</td></tr><tr><td>USE_ORTOPHOTO</td><td>▁</td></tr><tr><td>USE_OSMNX_ATTRS</td><td>▁</td></tr></table><br/></div><div class=\"wandb-col\"><h3>Run summary:</h3><br/><table class=\"wandb\"><tr><td>USE_HEXES_ATTRS</td><td>1</td></tr><tr><td>USE_ORTOPHOTO</td><td>0</td></tr><tr><td>USE_OSMNX_ATTRS</td><td>1</td></tr><tr><td>data_structure</td><td>graph</td></tr></table><br/></div></div>"
      ],
      "text/plain": [
       "<IPython.core.display.HTML object>"
      ]
     },
     "metadata": {},
     "output_type": "display_data"
    },
    {
     "data": {
      "text/html": [
       " View run <strong style=\"color:#cdcd00\">devoted-sweep-2</strong> at: <a href='https://wandb.ai/gradient_pwr/accidents-downstream-task-v2/runs/te8x29hn' target=\"_blank\">https://wandb.ai/gradient_pwr/accidents-downstream-task-v2/runs/te8x29hn</a><br/>Synced 6 W&B file(s), 0 media file(s), 0 artifact file(s) and 0 other file(s)"
      ],
      "text/plain": [
       "<IPython.core.display.HTML object>"
      ]
     },
     "metadata": {},
     "output_type": "display_data"
    },
    {
     "data": {
      "text/html": [
       "Find logs at: <code>./wandb/run-20240607_180833-te8x29hn/logs</code>"
      ],
      "text/plain": [
       "<IPython.core.display.HTML object>"
      ]
     },
     "metadata": {},
     "output_type": "display_data"
    },
    {
     "name": "stderr",
     "output_type": "stream",
     "text": [
      "Run te8x29hn errored:\n",
      "Traceback (most recent call last):\n",
      "  File \"/Users/jjaniak/anaconda3/envs/studia_projekt/lib/python3.8/site-packages/wandb/agents/pyagent.py\", line 308, in _run_job\n",
      "    self._function()\n",
      "  File \"/var/folders/4k/8js3jm9n457cm4_v631zyrkw0000gn/T/ipykernel_25686/3559290024.py\", line 62, in wrapped\n",
      "    auc, accuracy, f1, model_path = train(\n",
      "  File \"/Users/jjaniak/Documents/studia/projekt/gradient/notebooks/downstream_tasks/../../src/training/train.py\", line 84, in train\n",
      "    trainer.fit(model, train_loader, val_dataloaders=(val_loader or None))\n",
      "  File \"/Users/jjaniak/anaconda3/envs/studia_projekt/lib/python3.8/site-packages/pytorch_lightning/trainer/trainer.py\", line 545, in fit\n",
      "    call._call_and_handle_interrupt(\n",
      "  File \"/Users/jjaniak/anaconda3/envs/studia_projekt/lib/python3.8/site-packages/pytorch_lightning/trainer/call.py\", line 44, in _call_and_handle_interrupt\n",
      "    return trainer_fn(*args, **kwargs)\n",
      "  File \"/Users/jjaniak/anaconda3/envs/studia_projekt/lib/python3.8/site-packages/pytorch_lightning/trainer/trainer.py\", line 581, in _fit_impl\n",
      "    self._run(model, ckpt_path=ckpt_path)\n",
      "  File \"/Users/jjaniak/anaconda3/envs/studia_projekt/lib/python3.8/site-packages/pytorch_lightning/trainer/trainer.py\", line 990, in _run\n",
      "    results = self._run_stage()\n",
      "  File \"/Users/jjaniak/anaconda3/envs/studia_projekt/lib/python3.8/site-packages/pytorch_lightning/trainer/trainer.py\", line 1034, in _run_stage\n",
      "    self._run_sanity_check()\n",
      "  File \"/Users/jjaniak/anaconda3/envs/studia_projekt/lib/python3.8/site-packages/pytorch_lightning/trainer/trainer.py\", line 1063, in _run_sanity_check\n",
      "    val_loop.run()\n",
      "  File \"/Users/jjaniak/anaconda3/envs/studia_projekt/lib/python3.8/site-packages/pytorch_lightning/loops/utilities.py\", line 181, in _decorator\n",
      "    return loop_run(self, *args, **kwargs)\n",
      "  File \"/Users/jjaniak/anaconda3/envs/studia_projekt/lib/python3.8/site-packages/pytorch_lightning/loops/evaluation_loop.py\", line 134, in run\n",
      "    self._evaluation_step(batch, batch_idx, dataloader_idx, dataloader_iter)\n",
      "  File \"/Users/jjaniak/anaconda3/envs/studia_projekt/lib/python3.8/site-packages/pytorch_lightning/loops/evaluation_loop.py\", line 391, in _evaluation_step\n",
      "    output = call._call_strategy_hook(trainer, hook_name, *step_args)\n",
      "  File \"/Users/jjaniak/anaconda3/envs/studia_projekt/lib/python3.8/site-packages/pytorch_lightning/trainer/call.py\", line 309, in _call_strategy_hook\n",
      "    output = fn(*args, **kwargs)\n",
      "  File \"/Users/jjaniak/anaconda3/envs/studia_projekt/lib/python3.8/site-packages/pytorch_lightning/strategies/strategy.py\", line 403, in validation_step\n",
      "    return self.lightning_module.validation_step(*args, **kwargs)\n",
      "  File \"/Users/jjaniak/Documents/studia/projekt/gradient/notebooks/downstream_tasks/../../src/lightning/hetero_gnn_module.py\", line 57, in validation_step\n",
      "    y_hat = self.model(batch.x_dict, batch.edge_index_dict, batch.edge_attr_dict)\n",
      "  File \"/Users/jjaniak/anaconda3/envs/studia_projekt/lib/python3.8/site-packages/torch/nn/modules/module.py\", line 1518, in _wrapped_call_impl\n",
      "    return self._call_impl(*args, **kwargs)\n",
      "  File \"/Users/jjaniak/anaconda3/envs/studia_projekt/lib/python3.8/site-packages/torch/nn/modules/module.py\", line 1527, in _call_impl\n",
      "    return forward_call(*args, **kwargs)\n",
      "  File \"/Users/jjaniak/Documents/studia/projekt/gradient/notebooks/downstream_tasks/../../src/baseline_models/HeteroGNN/HeteroGNN.py\", line 59, in forward\n",
      "    value = self._forward(x_dict, edge_index_dict, edge_atrr_dict)\n",
      "  File \"/Users/jjaniak/Documents/studia/projekt/gradient/notebooks/downstream_tasks/../../src/baseline_models/HeteroGNN/HeteroGNN.py\", line 74, in _forward\n",
      "    x_dict = conv(x_dict, edge_index_dict, edge_atrr_dict)\n",
      "  File \"/Users/jjaniak/anaconda3/envs/studia_projekt/lib/python3.8/site-packages/torch/nn/modules/module.py\", line 1518, in _wrapped_call_impl\n",
      "    return self._call_impl(*args, **kwargs)\n",
      "  File \"/Users/jjaniak/anaconda3/envs/studia_projekt/lib/python3.8/site-packages/torch/nn/modules/module.py\", line 1527, in _call_impl\n",
      "    return forward_call(*args, **kwargs)\n",
      "  File \"/Users/jjaniak/anaconda3/envs/studia_projekt/lib/python3.8/site-packages/torch_geometric/nn/conv/hetero_conv.py\", line 159, in forward\n",
      "    out = self.convs[edge_type](*args, **kwargs)\n",
      "  File \"/Users/jjaniak/anaconda3/envs/studia_projekt/lib/python3.8/site-packages/torch/nn/modules/module.py\", line 1518, in _wrapped_call_impl\n",
      "    return self._call_impl(*args, **kwargs)\n",
      "  File \"/Users/jjaniak/anaconda3/envs/studia_projekt/lib/python3.8/site-packages/torch/nn/modules/module.py\", line 1527, in _call_impl\n",
      "    return forward_call(*args, **kwargs)\n",
      "  File \"/Users/jjaniak/anaconda3/envs/studia_projekt/lib/python3.8/site-packages/torch_geometric/nn/conv/gat_conv.py\", line 252, in forward\n",
      "    alpha = self.edge_updater(edge_index, alpha=alpha, edge_attr=edge_attr)\n",
      "  File \"/Users/jjaniak/anaconda3/envs/studia_projekt/lib/python3.8/site-packages/torch_geometric/nn/conv/message_passing.py\", line 527, in edge_updater\n",
      "    out = self.edge_update(**edge_kwargs)\n",
      "  File \"/Users/jjaniak/anaconda3/envs/studia_projekt/lib/python3.8/site-packages/torch_geometric/nn/conv/gat_conv.py\", line 295, in edge_update\n",
      "    alpha = softmax(alpha, index, ptr, size_i)\n",
      "  File \"/Users/jjaniak/anaconda3/envs/studia_projekt/lib/python3.8/site-packages/torch_geometric/utils/softmax.py\", line 65, in softmax\n",
      "    src_max = scatter(src.detach(), index, dim, dim_size=N, reduce='max')\n",
      "  File \"/Users/jjaniak/anaconda3/envs/studia_projekt/lib/python3.8/site-packages/torch_geometric/utils/scatter.py\", line 94, in scatter\n",
      "    return src.new_zeros(size).scatter_reduce_(\n",
      "NotImplementedError: The operator 'aten::scatter_reduce.two_out' is not currently implemented for the MPS device. If you want this op to be added in priority during the prototype phase of this feature, please comment on https://github.com/pytorch/pytorch/issues/77764. As a temporary fix, you can set the environment variable `PYTORCH_ENABLE_MPS_FALLBACK=1` to use the CPU as a fallback for this op. WARNING: this will be slower than running natively on MPS.\n",
      "\n",
      "\u001b[34m\u001b[1mwandb\u001b[0m: \u001b[32m\u001b[41mERROR\u001b[0m Run te8x29hn errored:\n",
      "\u001b[34m\u001b[1mwandb\u001b[0m: \u001b[32m\u001b[41mERROR\u001b[0m Traceback (most recent call last):\n",
      "\u001b[34m\u001b[1mwandb\u001b[0m: \u001b[32m\u001b[41mERROR\u001b[0m   File \"/Users/jjaniak/anaconda3/envs/studia_projekt/lib/python3.8/site-packages/wandb/agents/pyagent.py\", line 308, in _run_job\n",
      "\u001b[34m\u001b[1mwandb\u001b[0m: \u001b[32m\u001b[41mERROR\u001b[0m     self._function()\n",
      "\u001b[34m\u001b[1mwandb\u001b[0m: \u001b[32m\u001b[41mERROR\u001b[0m   File \"/var/folders/4k/8js3jm9n457cm4_v631zyrkw0000gn/T/ipykernel_25686/3559290024.py\", line 62, in wrapped\n",
      "\u001b[34m\u001b[1mwandb\u001b[0m: \u001b[32m\u001b[41mERROR\u001b[0m     auc, accuracy, f1, model_path = train(\n",
      "\u001b[34m\u001b[1mwandb\u001b[0m: \u001b[32m\u001b[41mERROR\u001b[0m   File \"/Users/jjaniak/Documents/studia/projekt/gradient/notebooks/downstream_tasks/../../src/training/train.py\", line 84, in train\n",
      "\u001b[34m\u001b[1mwandb\u001b[0m: \u001b[32m\u001b[41mERROR\u001b[0m     trainer.fit(model, train_loader, val_dataloaders=(val_loader or None))\n",
      "\u001b[34m\u001b[1mwandb\u001b[0m: \u001b[32m\u001b[41mERROR\u001b[0m   File \"/Users/jjaniak/anaconda3/envs/studia_projekt/lib/python3.8/site-packages/pytorch_lightning/trainer/trainer.py\", line 545, in fit\n",
      "\u001b[34m\u001b[1mwandb\u001b[0m: \u001b[32m\u001b[41mERROR\u001b[0m     call._call_and_handle_interrupt(\n",
      "\u001b[34m\u001b[1mwandb\u001b[0m: \u001b[32m\u001b[41mERROR\u001b[0m   File \"/Users/jjaniak/anaconda3/envs/studia_projekt/lib/python3.8/site-packages/pytorch_lightning/trainer/call.py\", line 44, in _call_and_handle_interrupt\n",
      "\u001b[34m\u001b[1mwandb\u001b[0m: \u001b[32m\u001b[41mERROR\u001b[0m     return trainer_fn(*args, **kwargs)\n",
      "\u001b[34m\u001b[1mwandb\u001b[0m: \u001b[32m\u001b[41mERROR\u001b[0m   File \"/Users/jjaniak/anaconda3/envs/studia_projekt/lib/python3.8/site-packages/pytorch_lightning/trainer/trainer.py\", line 581, in _fit_impl\n",
      "\u001b[34m\u001b[1mwandb\u001b[0m: \u001b[32m\u001b[41mERROR\u001b[0m     self._run(model, ckpt_path=ckpt_path)\n",
      "\u001b[34m\u001b[1mwandb\u001b[0m: \u001b[32m\u001b[41mERROR\u001b[0m   File \"/Users/jjaniak/anaconda3/envs/studia_projekt/lib/python3.8/site-packages/pytorch_lightning/trainer/trainer.py\", line 990, in _run\n",
      "\u001b[34m\u001b[1mwandb\u001b[0m: \u001b[32m\u001b[41mERROR\u001b[0m     results = self._run_stage()\n",
      "\u001b[34m\u001b[1mwandb\u001b[0m: \u001b[32m\u001b[41mERROR\u001b[0m   File \"/Users/jjaniak/anaconda3/envs/studia_projekt/lib/python3.8/site-packages/pytorch_lightning/trainer/trainer.py\", line 1034, in _run_stage\n",
      "\u001b[34m\u001b[1mwandb\u001b[0m: \u001b[32m\u001b[41mERROR\u001b[0m     self._run_sanity_check()\n",
      "\u001b[34m\u001b[1mwandb\u001b[0m: \u001b[32m\u001b[41mERROR\u001b[0m   File \"/Users/jjaniak/anaconda3/envs/studia_projekt/lib/python3.8/site-packages/pytorch_lightning/trainer/trainer.py\", line 1063, in _run_sanity_check\n",
      "\u001b[34m\u001b[1mwandb\u001b[0m: \u001b[32m\u001b[41mERROR\u001b[0m     val_loop.run()\n",
      "\u001b[34m\u001b[1mwandb\u001b[0m: \u001b[32m\u001b[41mERROR\u001b[0m   File \"/Users/jjaniak/anaconda3/envs/studia_projekt/lib/python3.8/site-packages/pytorch_lightning/loops/utilities.py\", line 181, in _decorator\n",
      "\u001b[34m\u001b[1mwandb\u001b[0m: \u001b[32m\u001b[41mERROR\u001b[0m     return loop_run(self, *args, **kwargs)\n",
      "\u001b[34m\u001b[1mwandb\u001b[0m: \u001b[32m\u001b[41mERROR\u001b[0m   File \"/Users/jjaniak/anaconda3/envs/studia_projekt/lib/python3.8/site-packages/pytorch_lightning/loops/evaluation_loop.py\", line 134, in run\n",
      "\u001b[34m\u001b[1mwandb\u001b[0m: \u001b[32m\u001b[41mERROR\u001b[0m     self._evaluation_step(batch, batch_idx, dataloader_idx, dataloader_iter)\n",
      "\u001b[34m\u001b[1mwandb\u001b[0m: \u001b[32m\u001b[41mERROR\u001b[0m   File \"/Users/jjaniak/anaconda3/envs/studia_projekt/lib/python3.8/site-packages/pytorch_lightning/loops/evaluation_loop.py\", line 391, in _evaluation_step\n",
      "\u001b[34m\u001b[1mwandb\u001b[0m: \u001b[32m\u001b[41mERROR\u001b[0m     output = call._call_strategy_hook(trainer, hook_name, *step_args)\n",
      "\u001b[34m\u001b[1mwandb\u001b[0m: \u001b[32m\u001b[41mERROR\u001b[0m   File \"/Users/jjaniak/anaconda3/envs/studia_projekt/lib/python3.8/site-packages/pytorch_lightning/trainer/call.py\", line 309, in _call_strategy_hook\n",
      "\u001b[34m\u001b[1mwandb\u001b[0m: \u001b[32m\u001b[41mERROR\u001b[0m     output = fn(*args, **kwargs)\n",
      "\u001b[34m\u001b[1mwandb\u001b[0m: \u001b[32m\u001b[41mERROR\u001b[0m   File \"/Users/jjaniak/anaconda3/envs/studia_projekt/lib/python3.8/site-packages/pytorch_lightning/strategies/strategy.py\", line 403, in validation_step\n",
      "\u001b[34m\u001b[1mwandb\u001b[0m: \u001b[32m\u001b[41mERROR\u001b[0m     return self.lightning_module.validation_step(*args, **kwargs)\n",
      "\u001b[34m\u001b[1mwandb\u001b[0m: \u001b[32m\u001b[41mERROR\u001b[0m   File \"/Users/jjaniak/Documents/studia/projekt/gradient/notebooks/downstream_tasks/../../src/lightning/hetero_gnn_module.py\", line 57, in validation_step\n",
      "\u001b[34m\u001b[1mwandb\u001b[0m: \u001b[32m\u001b[41mERROR\u001b[0m     y_hat = self.model(batch.x_dict, batch.edge_index_dict, batch.edge_attr_dict)\n",
      "\u001b[34m\u001b[1mwandb\u001b[0m: \u001b[32m\u001b[41mERROR\u001b[0m   File \"/Users/jjaniak/anaconda3/envs/studia_projekt/lib/python3.8/site-packages/torch/nn/modules/module.py\", line 1518, in _wrapped_call_impl\n",
      "\u001b[34m\u001b[1mwandb\u001b[0m: \u001b[32m\u001b[41mERROR\u001b[0m     return self._call_impl(*args, **kwargs)\n",
      "\u001b[34m\u001b[1mwandb\u001b[0m: \u001b[32m\u001b[41mERROR\u001b[0m   File \"/Users/jjaniak/anaconda3/envs/studia_projekt/lib/python3.8/site-packages/torch/nn/modules/module.py\", line 1527, in _call_impl\n",
      "\u001b[34m\u001b[1mwandb\u001b[0m: \u001b[32m\u001b[41mERROR\u001b[0m     return forward_call(*args, **kwargs)\n",
      "\u001b[34m\u001b[1mwandb\u001b[0m: \u001b[32m\u001b[41mERROR\u001b[0m   File \"/Users/jjaniak/Documents/studia/projekt/gradient/notebooks/downstream_tasks/../../src/baseline_models/HeteroGNN/HeteroGNN.py\", line 59, in forward\n",
      "\u001b[34m\u001b[1mwandb\u001b[0m: \u001b[32m\u001b[41mERROR\u001b[0m     value = self._forward(x_dict, edge_index_dict, edge_atrr_dict)\n",
      "\u001b[34m\u001b[1mwandb\u001b[0m: \u001b[32m\u001b[41mERROR\u001b[0m   File \"/Users/jjaniak/Documents/studia/projekt/gradient/notebooks/downstream_tasks/../../src/baseline_models/HeteroGNN/HeteroGNN.py\", line 74, in _forward\n",
      "\u001b[34m\u001b[1mwandb\u001b[0m: \u001b[32m\u001b[41mERROR\u001b[0m     x_dict = conv(x_dict, edge_index_dict, edge_atrr_dict)\n",
      "\u001b[34m\u001b[1mwandb\u001b[0m: \u001b[32m\u001b[41mERROR\u001b[0m   File \"/Users/jjaniak/anaconda3/envs/studia_projekt/lib/python3.8/site-packages/torch/nn/modules/module.py\", line 1518, in _wrapped_call_impl\n",
      "\u001b[34m\u001b[1mwandb\u001b[0m: \u001b[32m\u001b[41mERROR\u001b[0m     return self._call_impl(*args, **kwargs)\n",
      "\u001b[34m\u001b[1mwandb\u001b[0m: \u001b[32m\u001b[41mERROR\u001b[0m   File \"/Users/jjaniak/anaconda3/envs/studia_projekt/lib/python3.8/site-packages/torch/nn/modules/module.py\", line 1527, in _call_impl\n",
      "\u001b[34m\u001b[1mwandb\u001b[0m: \u001b[32m\u001b[41mERROR\u001b[0m     return forward_call(*args, **kwargs)\n",
      "\u001b[34m\u001b[1mwandb\u001b[0m: \u001b[32m\u001b[41mERROR\u001b[0m   File \"/Users/jjaniak/anaconda3/envs/studia_projekt/lib/python3.8/site-packages/torch_geometric/nn/conv/hetero_conv.py\", line 159, in forward\n",
      "\u001b[34m\u001b[1mwandb\u001b[0m: \u001b[32m\u001b[41mERROR\u001b[0m     out = self.convs[edge_type](*args, **kwargs)\n",
      "\u001b[34m\u001b[1mwandb\u001b[0m: \u001b[32m\u001b[41mERROR\u001b[0m   File \"/Users/jjaniak/anaconda3/envs/studia_projekt/lib/python3.8/site-packages/torch/nn/modules/module.py\", line 1518, in _wrapped_call_impl\n",
      "\u001b[34m\u001b[1mwandb\u001b[0m: \u001b[32m\u001b[41mERROR\u001b[0m     return self._call_impl(*args, **kwargs)\n",
      "\u001b[34m\u001b[1mwandb\u001b[0m: \u001b[32m\u001b[41mERROR\u001b[0m   File \"/Users/jjaniak/anaconda3/envs/studia_projekt/lib/python3.8/site-packages/torch/nn/modules/module.py\", line 1527, in _call_impl\n",
      "\u001b[34m\u001b[1mwandb\u001b[0m: \u001b[32m\u001b[41mERROR\u001b[0m     return forward_call(*args, **kwargs)\n",
      "\u001b[34m\u001b[1mwandb\u001b[0m: \u001b[32m\u001b[41mERROR\u001b[0m   File \"/Users/jjaniak/anaconda3/envs/studia_projekt/lib/python3.8/site-packages/torch_geometric/nn/conv/gat_conv.py\", line 252, in forward\n",
      "\u001b[34m\u001b[1mwandb\u001b[0m: \u001b[32m\u001b[41mERROR\u001b[0m     alpha = self.edge_updater(edge_index, alpha=alpha, edge_attr=edge_attr)\n",
      "\u001b[34m\u001b[1mwandb\u001b[0m: \u001b[32m\u001b[41mERROR\u001b[0m   File \"/Users/jjaniak/anaconda3/envs/studia_projekt/lib/python3.8/site-packages/torch_geometric/nn/conv/message_passing.py\", line 527, in edge_updater\n",
      "\u001b[34m\u001b[1mwandb\u001b[0m: \u001b[32m\u001b[41mERROR\u001b[0m     out = self.edge_update(**edge_kwargs)\n",
      "\u001b[34m\u001b[1mwandb\u001b[0m: \u001b[32m\u001b[41mERROR\u001b[0m   File \"/Users/jjaniak/anaconda3/envs/studia_projekt/lib/python3.8/site-packages/torch_geometric/nn/conv/gat_conv.py\", line 295, in edge_update\n",
      "\u001b[34m\u001b[1mwandb\u001b[0m: \u001b[32m\u001b[41mERROR\u001b[0m     alpha = softmax(alpha, index, ptr, size_i)\n",
      "\u001b[34m\u001b[1mwandb\u001b[0m: \u001b[32m\u001b[41mERROR\u001b[0m   File \"/Users/jjaniak/anaconda3/envs/studia_projekt/lib/python3.8/site-packages/torch_geometric/utils/softmax.py\", line 65, in softmax\n",
      "\u001b[34m\u001b[1mwandb\u001b[0m: \u001b[32m\u001b[41mERROR\u001b[0m     src_max = scatter(src.detach(), index, dim, dim_size=N, reduce='max')\n",
      "\u001b[34m\u001b[1mwandb\u001b[0m: \u001b[32m\u001b[41mERROR\u001b[0m   File \"/Users/jjaniak/anaconda3/envs/studia_projekt/lib/python3.8/site-packages/torch_geometric/utils/scatter.py\", line 94, in scatter\n",
      "\u001b[34m\u001b[1mwandb\u001b[0m: \u001b[32m\u001b[41mERROR\u001b[0m     return src.new_zeros(size).scatter_reduce_(\n",
      "\u001b[34m\u001b[1mwandb\u001b[0m: \u001b[32m\u001b[41mERROR\u001b[0m NotImplementedError: The operator 'aten::scatter_reduce.two_out' is not currently implemented for the MPS device. If you want this op to be added in priority during the prototype phase of this feature, please comment on https://github.com/pytorch/pytorch/issues/77764. As a temporary fix, you can set the environment variable `PYTORCH_ENABLE_MPS_FALLBACK=1` to use the CPU as a fallback for this op. WARNING: this will be slower than running natively on MPS.\n",
      "\u001b[34m\u001b[1mwandb\u001b[0m: \u001b[32m\u001b[41mERROR\u001b[0m \n",
      "\u001b[34m\u001b[1mwandb\u001b[0m: Sweep Agent: Waiting for job.\n",
      "\u001b[34m\u001b[1mwandb\u001b[0m: Job received.\n",
      "\u001b[34m\u001b[1mwandb\u001b[0m: Agent Starting Run: pwx8ywg7 with config:\n",
      "\u001b[34m\u001b[1mwandb\u001b[0m: \thidden_channels: 50\n",
      "\u001b[34m\u001b[1mwandb\u001b[0m: \tlearning_rate: 0.002582573821308741\n",
      "\u001b[34m\u001b[1mwandb\u001b[0m: \tlin_layer_size: 8\n",
      "\u001b[34m\u001b[1mwandb\u001b[0m: \tnum_conv_layers: 1\n",
      "\u001b[34m\u001b[1mwandb\u001b[0m: \tnum_lin_layers: 4\n",
      "\u001b[34m\u001b[1mwandb\u001b[0m: \tweight_decay: 0.007841545108972668\n",
      "Failed to detect the name of this notebook, you can set it manually with the WANDB_NOTEBOOK_NAME environment variable to enable code saving.\n"
     ]
    },
    {
     "data": {
      "application/vnd.jupyter.widget-view+json": {
       "model_id": "fae76e03fe4c45eda3559d668f196478",
       "version_major": 2,
       "version_minor": 0
      },
      "text/plain": [
       "VBox(children=(Label(value='Waiting for wandb.init()...\\r'), FloatProgress(value=0.01116289027777763, max=1.0)…"
      ]
     },
     "metadata": {},
     "output_type": "display_data"
    },
    {
     "data": {
      "text/html": [
       "wandb version 0.17.1 is available!  To upgrade, please run:\n",
       " $ pip install wandb --upgrade"
      ],
      "text/plain": [
       "<IPython.core.display.HTML object>"
      ]
     },
     "metadata": {},
     "output_type": "display_data"
    },
    {
     "data": {
      "text/html": [
       "Tracking run with wandb version 0.16.4"
      ],
      "text/plain": [
       "<IPython.core.display.HTML object>"
      ]
     },
     "metadata": {},
     "output_type": "display_data"
    },
    {
     "data": {
      "text/html": [
       "Run data is saved locally in <code>/Users/jjaniak/Documents/studia/projekt/gradient/notebooks/downstream_tasks/wandb/run-20240607_180855-pwx8ywg7</code>"
      ],
      "text/plain": [
       "<IPython.core.display.HTML object>"
      ]
     },
     "metadata": {},
     "output_type": "display_data"
    },
    {
     "data": {
      "text/html": [
       "Syncing run <strong><a href='https://wandb.ai/gradient_pwr/accidents-downstream-task-v2/runs/pwx8ywg7' target=\"_blank\">gallant-sweep-3</a></strong> to <a href='https://wandb.ai/gradient_pwr/accidents-downstream-task-v2' target=\"_blank\">Weights & Biases</a> (<a href='https://wandb.me/run' target=\"_blank\">docs</a>)<br/>Sweep page: <a href='https://wandb.ai/gradient_pwr/accidents-downstream-task-v2/sweeps/t34vfnwj' target=\"_blank\">https://wandb.ai/gradient_pwr/accidents-downstream-task-v2/sweeps/t34vfnwj</a>"
      ],
      "text/plain": [
       "<IPython.core.display.HTML object>"
      ]
     },
     "metadata": {},
     "output_type": "display_data"
    },
    {
     "data": {
      "text/html": [
       " View project at <a href='https://wandb.ai/gradient_pwr/accidents-downstream-task-v2' target=\"_blank\">https://wandb.ai/gradient_pwr/accidents-downstream-task-v2</a>"
      ],
      "text/plain": [
       "<IPython.core.display.HTML object>"
      ]
     },
     "metadata": {},
     "output_type": "display_data"
    },
    {
     "data": {
      "text/html": [
       " View sweep at <a href='https://wandb.ai/gradient_pwr/accidents-downstream-task-v2/sweeps/t34vfnwj' target=\"_blank\">https://wandb.ai/gradient_pwr/accidents-downstream-task-v2/sweeps/t34vfnwj</a>"
      ],
      "text/plain": [
       "<IPython.core.display.HTML object>"
      ]
     },
     "metadata": {},
     "output_type": "display_data"
    },
    {
     "data": {
      "text/html": [
       " View run at <a href='https://wandb.ai/gradient_pwr/accidents-downstream-task-v2/runs/pwx8ywg7' target=\"_blank\">https://wandb.ai/gradient_pwr/accidents-downstream-task-v2/runs/pwx8ywg7</a>"
      ],
      "text/plain": [
       "<IPython.core.display.HTML object>"
      ]
     },
     "metadata": {},
     "output_type": "display_data"
    },
    {
     "name": "stderr",
     "output_type": "stream",
     "text": [
      "/Users/jjaniak/anaconda3/envs/studia_projekt/lib/python3.8/site-packages/torch_geometric/deprecation.py:22: UserWarning: 'data.DataLoader' is deprecated, use 'loader.DataLoader' instead\n",
      "  warnings.warn(out)\n",
      "GPU available: True (mps), used: True\n",
      "TPU available: False, using: 0 TPU cores\n",
      "IPU available: False, using: 0 IPUs\n",
      "HPU available: False, using: 0 HPUs\n",
      "Missing logger folder: ../../gradient_logs/2024_06_07_18_09_00/lightning_logs\n",
      "\n",
      "  | Name  | Type      | Params\n",
      "------------------------------------\n",
      "0 | model | HeteroGNN | 11.5 K\n",
      "------------------------------------\n",
      "11.5 K    Trainable params\n",
      "0         Non-trainable params\n",
      "11.5 K    Total params\n",
      "0.046     Total estimated model params size (MB)\n"
     ]
    },
    {
     "data": {
      "application/vnd.jupyter.widget-view+json": {
       "model_id": "807079b2240a4acd811072410924e34e",
       "version_major": 2,
       "version_minor": 0
      },
      "text/plain": [
       "Sanity Checking: |          | 0/? [00:00<?, ?it/s]"
      ]
     },
     "metadata": {},
     "output_type": "display_data"
    },
    {
     "name": "stderr",
     "output_type": "stream",
     "text": [
      "/Users/jjaniak/anaconda3/envs/studia_projekt/lib/python3.8/site-packages/pytorch_lightning/trainer/connectors/data_connector.py:441: The 'val_dataloader' does not have many workers which may be a bottleneck. Consider increasing the value of the `num_workers` argument` to `num_workers=11` in the `DataLoader` to improve performance.\n"
     ]
    },
    {
     "data": {
      "application/vnd.jupyter.widget-view+json": {
       "model_id": "a9b5be385b734f199aad957fb0208457",
       "version_major": 2,
       "version_minor": 0
      },
      "text/plain": [
       "VBox(children=(Label(value='0.001 MB of 0.001 MB uploaded\\r'), FloatProgress(value=1.0, max=1.0)))"
      ]
     },
     "metadata": {},
     "output_type": "display_data"
    },
    {
     "data": {
      "text/html": [
       "<style>\n",
       "    table.wandb td:nth-child(1) { padding: 0 10px; text-align: left ; width: auto;} td:nth-child(2) {text-align: left ; width: 100%}\n",
       "    .wandb-row { display: flex; flex-direction: row; flex-wrap: wrap; justify-content: flex-start; width: 100% }\n",
       "    .wandb-col { display: flex; flex-direction: column; flex-basis: 100%; flex: 1; padding: 10px; }\n",
       "    </style>\n",
       "<div class=\"wandb-row\"><div class=\"wandb-col\"><h3>Run history:</h3><br/><table class=\"wandb\"><tr><td>USE_HEXES_ATTRS</td><td>▁</td></tr><tr><td>USE_ORTOPHOTO</td><td>▁</td></tr><tr><td>USE_OSMNX_ATTRS</td><td>▁</td></tr></table><br/></div><div class=\"wandb-col\"><h3>Run summary:</h3><br/><table class=\"wandb\"><tr><td>USE_HEXES_ATTRS</td><td>1</td></tr><tr><td>USE_ORTOPHOTO</td><td>0</td></tr><tr><td>USE_OSMNX_ATTRS</td><td>1</td></tr><tr><td>data_structure</td><td>graph</td></tr></table><br/></div></div>"
      ],
      "text/plain": [
       "<IPython.core.display.HTML object>"
      ]
     },
     "metadata": {},
     "output_type": "display_data"
    },
    {
     "data": {
      "text/html": [
       " View run <strong style=\"color:#cdcd00\">gallant-sweep-3</strong> at: <a href='https://wandb.ai/gradient_pwr/accidents-downstream-task-v2/runs/pwx8ywg7' target=\"_blank\">https://wandb.ai/gradient_pwr/accidents-downstream-task-v2/runs/pwx8ywg7</a><br/>Synced 6 W&B file(s), 0 media file(s), 0 artifact file(s) and 0 other file(s)"
      ],
      "text/plain": [
       "<IPython.core.display.HTML object>"
      ]
     },
     "metadata": {},
     "output_type": "display_data"
    },
    {
     "data": {
      "text/html": [
       "Find logs at: <code>./wandb/run-20240607_180855-pwx8ywg7/logs</code>"
      ],
      "text/plain": [
       "<IPython.core.display.HTML object>"
      ]
     },
     "metadata": {},
     "output_type": "display_data"
    },
    {
     "name": "stderr",
     "output_type": "stream",
     "text": [
      "Run pwx8ywg7 errored:\n",
      "Traceback (most recent call last):\n",
      "  File \"/Users/jjaniak/anaconda3/envs/studia_projekt/lib/python3.8/site-packages/wandb/agents/pyagent.py\", line 308, in _run_job\n",
      "    self._function()\n",
      "  File \"/var/folders/4k/8js3jm9n457cm4_v631zyrkw0000gn/T/ipykernel_25686/3559290024.py\", line 62, in wrapped\n",
      "    auc, accuracy, f1, model_path = train(\n",
      "  File \"/Users/jjaniak/Documents/studia/projekt/gradient/notebooks/downstream_tasks/../../src/training/train.py\", line 84, in train\n",
      "    trainer.fit(model, train_loader, val_dataloaders=(val_loader or None))\n",
      "  File \"/Users/jjaniak/anaconda3/envs/studia_projekt/lib/python3.8/site-packages/pytorch_lightning/trainer/trainer.py\", line 545, in fit\n",
      "    call._call_and_handle_interrupt(\n",
      "  File \"/Users/jjaniak/anaconda3/envs/studia_projekt/lib/python3.8/site-packages/pytorch_lightning/trainer/call.py\", line 44, in _call_and_handle_interrupt\n",
      "    return trainer_fn(*args, **kwargs)\n",
      "  File \"/Users/jjaniak/anaconda3/envs/studia_projekt/lib/python3.8/site-packages/pytorch_lightning/trainer/trainer.py\", line 581, in _fit_impl\n",
      "    self._run(model, ckpt_path=ckpt_path)\n",
      "  File \"/Users/jjaniak/anaconda3/envs/studia_projekt/lib/python3.8/site-packages/pytorch_lightning/trainer/trainer.py\", line 990, in _run\n",
      "    results = self._run_stage()\n",
      "  File \"/Users/jjaniak/anaconda3/envs/studia_projekt/lib/python3.8/site-packages/pytorch_lightning/trainer/trainer.py\", line 1034, in _run_stage\n",
      "    self._run_sanity_check()\n",
      "  File \"/Users/jjaniak/anaconda3/envs/studia_projekt/lib/python3.8/site-packages/pytorch_lightning/trainer/trainer.py\", line 1063, in _run_sanity_check\n",
      "    val_loop.run()\n",
      "  File \"/Users/jjaniak/anaconda3/envs/studia_projekt/lib/python3.8/site-packages/pytorch_lightning/loops/utilities.py\", line 181, in _decorator\n",
      "    return loop_run(self, *args, **kwargs)\n",
      "  File \"/Users/jjaniak/anaconda3/envs/studia_projekt/lib/python3.8/site-packages/pytorch_lightning/loops/evaluation_loop.py\", line 134, in run\n",
      "    self._evaluation_step(batch, batch_idx, dataloader_idx, dataloader_iter)\n",
      "  File \"/Users/jjaniak/anaconda3/envs/studia_projekt/lib/python3.8/site-packages/pytorch_lightning/loops/evaluation_loop.py\", line 391, in _evaluation_step\n",
      "    output = call._call_strategy_hook(trainer, hook_name, *step_args)\n",
      "  File \"/Users/jjaniak/anaconda3/envs/studia_projekt/lib/python3.8/site-packages/pytorch_lightning/trainer/call.py\", line 309, in _call_strategy_hook\n",
      "    output = fn(*args, **kwargs)\n",
      "  File \"/Users/jjaniak/anaconda3/envs/studia_projekt/lib/python3.8/site-packages/pytorch_lightning/strategies/strategy.py\", line 403, in validation_step\n",
      "    return self.lightning_module.validation_step(*args, **kwargs)\n",
      "  File \"/Users/jjaniak/Documents/studia/projekt/gradient/notebooks/downstream_tasks/../../src/lightning/hetero_gnn_module.py\", line 57, in validation_step\n",
      "    y_hat = self.model(batch.x_dict, batch.edge_index_dict, batch.edge_attr_dict)\n",
      "  File \"/Users/jjaniak/anaconda3/envs/studia_projekt/lib/python3.8/site-packages/torch/nn/modules/module.py\", line 1518, in _wrapped_call_impl\n",
      "    return self._call_impl(*args, **kwargs)\n",
      "  File \"/Users/jjaniak/anaconda3/envs/studia_projekt/lib/python3.8/site-packages/torch/nn/modules/module.py\", line 1527, in _call_impl\n",
      "    return forward_call(*args, **kwargs)\n",
      "  File \"/Users/jjaniak/Documents/studia/projekt/gradient/notebooks/downstream_tasks/../../src/baseline_models/HeteroGNN/HeteroGNN.py\", line 59, in forward\n",
      "    value = self._forward(x_dict, edge_index_dict, edge_atrr_dict)\n",
      "  File \"/Users/jjaniak/Documents/studia/projekt/gradient/notebooks/downstream_tasks/../../src/baseline_models/HeteroGNN/HeteroGNN.py\", line 74, in _forward\n",
      "    x_dict = conv(x_dict, edge_index_dict, edge_atrr_dict)\n",
      "  File \"/Users/jjaniak/anaconda3/envs/studia_projekt/lib/python3.8/site-packages/torch/nn/modules/module.py\", line 1518, in _wrapped_call_impl\n",
      "    return self._call_impl(*args, **kwargs)\n",
      "  File \"/Users/jjaniak/anaconda3/envs/studia_projekt/lib/python3.8/site-packages/torch/nn/modules/module.py\", line 1527, in _call_impl\n",
      "    return forward_call(*args, **kwargs)\n",
      "  File \"/Users/jjaniak/anaconda3/envs/studia_projekt/lib/python3.8/site-packages/torch_geometric/nn/conv/hetero_conv.py\", line 159, in forward\n",
      "    out = self.convs[edge_type](*args, **kwargs)\n",
      "  File \"/Users/jjaniak/anaconda3/envs/studia_projekt/lib/python3.8/site-packages/torch/nn/modules/module.py\", line 1518, in _wrapped_call_impl\n",
      "    return self._call_impl(*args, **kwargs)\n",
      "  File \"/Users/jjaniak/anaconda3/envs/studia_projekt/lib/python3.8/site-packages/torch/nn/modules/module.py\", line 1527, in _call_impl\n",
      "    return forward_call(*args, **kwargs)\n",
      "  File \"/Users/jjaniak/anaconda3/envs/studia_projekt/lib/python3.8/site-packages/torch_geometric/nn/conv/gat_conv.py\", line 252, in forward\n",
      "    alpha = self.edge_updater(edge_index, alpha=alpha, edge_attr=edge_attr)\n",
      "  File \"/Users/jjaniak/anaconda3/envs/studia_projekt/lib/python3.8/site-packages/torch_geometric/nn/conv/message_passing.py\", line 527, in edge_updater\n",
      "    out = self.edge_update(**edge_kwargs)\n",
      "  File \"/Users/jjaniak/anaconda3/envs/studia_projekt/lib/python3.8/site-packages/torch_geometric/nn/conv/gat_conv.py\", line 295, in edge_update\n",
      "    alpha = softmax(alpha, index, ptr, size_i)\n",
      "  File \"/Users/jjaniak/anaconda3/envs/studia_projekt/lib/python3.8/site-packages/torch_geometric/utils/softmax.py\", line 65, in softmax\n",
      "    src_max = scatter(src.detach(), index, dim, dim_size=N, reduce='max')\n",
      "  File \"/Users/jjaniak/anaconda3/envs/studia_projekt/lib/python3.8/site-packages/torch_geometric/utils/scatter.py\", line 94, in scatter\n",
      "    return src.new_zeros(size).scatter_reduce_(\n",
      "NotImplementedError: The operator 'aten::scatter_reduce.two_out' is not currently implemented for the MPS device. If you want this op to be added in priority during the prototype phase of this feature, please comment on https://github.com/pytorch/pytorch/issues/77764. As a temporary fix, you can set the environment variable `PYTORCH_ENABLE_MPS_FALLBACK=1` to use the CPU as a fallback for this op. WARNING: this will be slower than running natively on MPS.\n",
      "\n",
      "\u001b[34m\u001b[1mwandb\u001b[0m: \u001b[32m\u001b[41mERROR\u001b[0m Run pwx8ywg7 errored:\n",
      "\u001b[34m\u001b[1mwandb\u001b[0m: \u001b[32m\u001b[41mERROR\u001b[0m Traceback (most recent call last):\n",
      "\u001b[34m\u001b[1mwandb\u001b[0m: \u001b[32m\u001b[41mERROR\u001b[0m   File \"/Users/jjaniak/anaconda3/envs/studia_projekt/lib/python3.8/site-packages/wandb/agents/pyagent.py\", line 308, in _run_job\n",
      "\u001b[34m\u001b[1mwandb\u001b[0m: \u001b[32m\u001b[41mERROR\u001b[0m     self._function()\n",
      "\u001b[34m\u001b[1mwandb\u001b[0m: \u001b[32m\u001b[41mERROR\u001b[0m   File \"/var/folders/4k/8js3jm9n457cm4_v631zyrkw0000gn/T/ipykernel_25686/3559290024.py\", line 62, in wrapped\n",
      "\u001b[34m\u001b[1mwandb\u001b[0m: \u001b[32m\u001b[41mERROR\u001b[0m     auc, accuracy, f1, model_path = train(\n",
      "\u001b[34m\u001b[1mwandb\u001b[0m: \u001b[32m\u001b[41mERROR\u001b[0m   File \"/Users/jjaniak/Documents/studia/projekt/gradient/notebooks/downstream_tasks/../../src/training/train.py\", line 84, in train\n",
      "\u001b[34m\u001b[1mwandb\u001b[0m: \u001b[32m\u001b[41mERROR\u001b[0m     trainer.fit(model, train_loader, val_dataloaders=(val_loader or None))\n",
      "\u001b[34m\u001b[1mwandb\u001b[0m: \u001b[32m\u001b[41mERROR\u001b[0m   File \"/Users/jjaniak/anaconda3/envs/studia_projekt/lib/python3.8/site-packages/pytorch_lightning/trainer/trainer.py\", line 545, in fit\n",
      "\u001b[34m\u001b[1mwandb\u001b[0m: \u001b[32m\u001b[41mERROR\u001b[0m     call._call_and_handle_interrupt(\n",
      "\u001b[34m\u001b[1mwandb\u001b[0m: \u001b[32m\u001b[41mERROR\u001b[0m   File \"/Users/jjaniak/anaconda3/envs/studia_projekt/lib/python3.8/site-packages/pytorch_lightning/trainer/call.py\", line 44, in _call_and_handle_interrupt\n",
      "\u001b[34m\u001b[1mwandb\u001b[0m: \u001b[32m\u001b[41mERROR\u001b[0m     return trainer_fn(*args, **kwargs)\n",
      "\u001b[34m\u001b[1mwandb\u001b[0m: \u001b[32m\u001b[41mERROR\u001b[0m   File \"/Users/jjaniak/anaconda3/envs/studia_projekt/lib/python3.8/site-packages/pytorch_lightning/trainer/trainer.py\", line 581, in _fit_impl\n",
      "\u001b[34m\u001b[1mwandb\u001b[0m: \u001b[32m\u001b[41mERROR\u001b[0m     self._run(model, ckpt_path=ckpt_path)\n",
      "\u001b[34m\u001b[1mwandb\u001b[0m: \u001b[32m\u001b[41mERROR\u001b[0m   File \"/Users/jjaniak/anaconda3/envs/studia_projekt/lib/python3.8/site-packages/pytorch_lightning/trainer/trainer.py\", line 990, in _run\n",
      "\u001b[34m\u001b[1mwandb\u001b[0m: \u001b[32m\u001b[41mERROR\u001b[0m     results = self._run_stage()\n",
      "\u001b[34m\u001b[1mwandb\u001b[0m: \u001b[32m\u001b[41mERROR\u001b[0m   File \"/Users/jjaniak/anaconda3/envs/studia_projekt/lib/python3.8/site-packages/pytorch_lightning/trainer/trainer.py\", line 1034, in _run_stage\n",
      "\u001b[34m\u001b[1mwandb\u001b[0m: \u001b[32m\u001b[41mERROR\u001b[0m     self._run_sanity_check()\n",
      "\u001b[34m\u001b[1mwandb\u001b[0m: \u001b[32m\u001b[41mERROR\u001b[0m   File \"/Users/jjaniak/anaconda3/envs/studia_projekt/lib/python3.8/site-packages/pytorch_lightning/trainer/trainer.py\", line 1063, in _run_sanity_check\n",
      "\u001b[34m\u001b[1mwandb\u001b[0m: \u001b[32m\u001b[41mERROR\u001b[0m     val_loop.run()\n",
      "\u001b[34m\u001b[1mwandb\u001b[0m: \u001b[32m\u001b[41mERROR\u001b[0m   File \"/Users/jjaniak/anaconda3/envs/studia_projekt/lib/python3.8/site-packages/pytorch_lightning/loops/utilities.py\", line 181, in _decorator\n",
      "\u001b[34m\u001b[1mwandb\u001b[0m: \u001b[32m\u001b[41mERROR\u001b[0m     return loop_run(self, *args, **kwargs)\n",
      "\u001b[34m\u001b[1mwandb\u001b[0m: \u001b[32m\u001b[41mERROR\u001b[0m   File \"/Users/jjaniak/anaconda3/envs/studia_projekt/lib/python3.8/site-packages/pytorch_lightning/loops/evaluation_loop.py\", line 134, in run\n",
      "\u001b[34m\u001b[1mwandb\u001b[0m: \u001b[32m\u001b[41mERROR\u001b[0m     self._evaluation_step(batch, batch_idx, dataloader_idx, dataloader_iter)\n",
      "\u001b[34m\u001b[1mwandb\u001b[0m: \u001b[32m\u001b[41mERROR\u001b[0m   File \"/Users/jjaniak/anaconda3/envs/studia_projekt/lib/python3.8/site-packages/pytorch_lightning/loops/evaluation_loop.py\", line 391, in _evaluation_step\n",
      "\u001b[34m\u001b[1mwandb\u001b[0m: \u001b[32m\u001b[41mERROR\u001b[0m     output = call._call_strategy_hook(trainer, hook_name, *step_args)\n",
      "\u001b[34m\u001b[1mwandb\u001b[0m: \u001b[32m\u001b[41mERROR\u001b[0m   File \"/Users/jjaniak/anaconda3/envs/studia_projekt/lib/python3.8/site-packages/pytorch_lightning/trainer/call.py\", line 309, in _call_strategy_hook\n",
      "\u001b[34m\u001b[1mwandb\u001b[0m: \u001b[32m\u001b[41mERROR\u001b[0m     output = fn(*args, **kwargs)\n",
      "\u001b[34m\u001b[1mwandb\u001b[0m: \u001b[32m\u001b[41mERROR\u001b[0m   File \"/Users/jjaniak/anaconda3/envs/studia_projekt/lib/python3.8/site-packages/pytorch_lightning/strategies/strategy.py\", line 403, in validation_step\n",
      "\u001b[34m\u001b[1mwandb\u001b[0m: \u001b[32m\u001b[41mERROR\u001b[0m     return self.lightning_module.validation_step(*args, **kwargs)\n",
      "\u001b[34m\u001b[1mwandb\u001b[0m: \u001b[32m\u001b[41mERROR\u001b[0m   File \"/Users/jjaniak/Documents/studia/projekt/gradient/notebooks/downstream_tasks/../../src/lightning/hetero_gnn_module.py\", line 57, in validation_step\n",
      "\u001b[34m\u001b[1mwandb\u001b[0m: \u001b[32m\u001b[41mERROR\u001b[0m     y_hat = self.model(batch.x_dict, batch.edge_index_dict, batch.edge_attr_dict)\n",
      "\u001b[34m\u001b[1mwandb\u001b[0m: \u001b[32m\u001b[41mERROR\u001b[0m   File \"/Users/jjaniak/anaconda3/envs/studia_projekt/lib/python3.8/site-packages/torch/nn/modules/module.py\", line 1518, in _wrapped_call_impl\n",
      "\u001b[34m\u001b[1mwandb\u001b[0m: \u001b[32m\u001b[41mERROR\u001b[0m     return self._call_impl(*args, **kwargs)\n",
      "\u001b[34m\u001b[1mwandb\u001b[0m: \u001b[32m\u001b[41mERROR\u001b[0m   File \"/Users/jjaniak/anaconda3/envs/studia_projekt/lib/python3.8/site-packages/torch/nn/modules/module.py\", line 1527, in _call_impl\n",
      "\u001b[34m\u001b[1mwandb\u001b[0m: \u001b[32m\u001b[41mERROR\u001b[0m     return forward_call(*args, **kwargs)\n",
      "\u001b[34m\u001b[1mwandb\u001b[0m: \u001b[32m\u001b[41mERROR\u001b[0m   File \"/Users/jjaniak/Documents/studia/projekt/gradient/notebooks/downstream_tasks/../../src/baseline_models/HeteroGNN/HeteroGNN.py\", line 59, in forward\n",
      "\u001b[34m\u001b[1mwandb\u001b[0m: \u001b[32m\u001b[41mERROR\u001b[0m     value = self._forward(x_dict, edge_index_dict, edge_atrr_dict)\n",
      "\u001b[34m\u001b[1mwandb\u001b[0m: \u001b[32m\u001b[41mERROR\u001b[0m   File \"/Users/jjaniak/Documents/studia/projekt/gradient/notebooks/downstream_tasks/../../src/baseline_models/HeteroGNN/HeteroGNN.py\", line 74, in _forward\n",
      "\u001b[34m\u001b[1mwandb\u001b[0m: \u001b[32m\u001b[41mERROR\u001b[0m     x_dict = conv(x_dict, edge_index_dict, edge_atrr_dict)\n",
      "\u001b[34m\u001b[1mwandb\u001b[0m: \u001b[32m\u001b[41mERROR\u001b[0m   File \"/Users/jjaniak/anaconda3/envs/studia_projekt/lib/python3.8/site-packages/torch/nn/modules/module.py\", line 1518, in _wrapped_call_impl\n",
      "\u001b[34m\u001b[1mwandb\u001b[0m: \u001b[32m\u001b[41mERROR\u001b[0m     return self._call_impl(*args, **kwargs)\n",
      "\u001b[34m\u001b[1mwandb\u001b[0m: \u001b[32m\u001b[41mERROR\u001b[0m   File \"/Users/jjaniak/anaconda3/envs/studia_projekt/lib/python3.8/site-packages/torch/nn/modules/module.py\", line 1527, in _call_impl\n",
      "\u001b[34m\u001b[1mwandb\u001b[0m: \u001b[32m\u001b[41mERROR\u001b[0m     return forward_call(*args, **kwargs)\n",
      "\u001b[34m\u001b[1mwandb\u001b[0m: \u001b[32m\u001b[41mERROR\u001b[0m   File \"/Users/jjaniak/anaconda3/envs/studia_projekt/lib/python3.8/site-packages/torch_geometric/nn/conv/hetero_conv.py\", line 159, in forward\n",
      "\u001b[34m\u001b[1mwandb\u001b[0m: \u001b[32m\u001b[41mERROR\u001b[0m     out = self.convs[edge_type](*args, **kwargs)\n",
      "\u001b[34m\u001b[1mwandb\u001b[0m: \u001b[32m\u001b[41mERROR\u001b[0m   File \"/Users/jjaniak/anaconda3/envs/studia_projekt/lib/python3.8/site-packages/torch/nn/modules/module.py\", line 1518, in _wrapped_call_impl\n",
      "\u001b[34m\u001b[1mwandb\u001b[0m: \u001b[32m\u001b[41mERROR\u001b[0m     return self._call_impl(*args, **kwargs)\n",
      "\u001b[34m\u001b[1mwandb\u001b[0m: \u001b[32m\u001b[41mERROR\u001b[0m   File \"/Users/jjaniak/anaconda3/envs/studia_projekt/lib/python3.8/site-packages/torch/nn/modules/module.py\", line 1527, in _call_impl\n",
      "\u001b[34m\u001b[1mwandb\u001b[0m: \u001b[32m\u001b[41mERROR\u001b[0m     return forward_call(*args, **kwargs)\n",
      "\u001b[34m\u001b[1mwandb\u001b[0m: \u001b[32m\u001b[41mERROR\u001b[0m   File \"/Users/jjaniak/anaconda3/envs/studia_projekt/lib/python3.8/site-packages/torch_geometric/nn/conv/gat_conv.py\", line 252, in forward\n",
      "\u001b[34m\u001b[1mwandb\u001b[0m: \u001b[32m\u001b[41mERROR\u001b[0m     alpha = self.edge_updater(edge_index, alpha=alpha, edge_attr=edge_attr)\n",
      "\u001b[34m\u001b[1mwandb\u001b[0m: \u001b[32m\u001b[41mERROR\u001b[0m   File \"/Users/jjaniak/anaconda3/envs/studia_projekt/lib/python3.8/site-packages/torch_geometric/nn/conv/message_passing.py\", line 527, in edge_updater\n",
      "\u001b[34m\u001b[1mwandb\u001b[0m: \u001b[32m\u001b[41mERROR\u001b[0m     out = self.edge_update(**edge_kwargs)\n",
      "\u001b[34m\u001b[1mwandb\u001b[0m: \u001b[32m\u001b[41mERROR\u001b[0m   File \"/Users/jjaniak/anaconda3/envs/studia_projekt/lib/python3.8/site-packages/torch_geometric/nn/conv/gat_conv.py\", line 295, in edge_update\n",
      "\u001b[34m\u001b[1mwandb\u001b[0m: \u001b[32m\u001b[41mERROR\u001b[0m     alpha = softmax(alpha, index, ptr, size_i)\n",
      "\u001b[34m\u001b[1mwandb\u001b[0m: \u001b[32m\u001b[41mERROR\u001b[0m   File \"/Users/jjaniak/anaconda3/envs/studia_projekt/lib/python3.8/site-packages/torch_geometric/utils/softmax.py\", line 65, in softmax\n",
      "\u001b[34m\u001b[1mwandb\u001b[0m: \u001b[32m\u001b[41mERROR\u001b[0m     src_max = scatter(src.detach(), index, dim, dim_size=N, reduce='max')\n",
      "\u001b[34m\u001b[1mwandb\u001b[0m: \u001b[32m\u001b[41mERROR\u001b[0m   File \"/Users/jjaniak/anaconda3/envs/studia_projekt/lib/python3.8/site-packages/torch_geometric/utils/scatter.py\", line 94, in scatter\n",
      "\u001b[34m\u001b[1mwandb\u001b[0m: \u001b[32m\u001b[41mERROR\u001b[0m     return src.new_zeros(size).scatter_reduce_(\n",
      "\u001b[34m\u001b[1mwandb\u001b[0m: \u001b[32m\u001b[41mERROR\u001b[0m NotImplementedError: The operator 'aten::scatter_reduce.two_out' is not currently implemented for the MPS device. If you want this op to be added in priority during the prototype phase of this feature, please comment on https://github.com/pytorch/pytorch/issues/77764. As a temporary fix, you can set the environment variable `PYTORCH_ENABLE_MPS_FALLBACK=1` to use the CPU as a fallback for this op. WARNING: this will be slower than running natively on MPS.\n",
      "\u001b[34m\u001b[1mwandb\u001b[0m: \u001b[32m\u001b[41mERROR\u001b[0m \n",
      "\u001b[34m\u001b[1mwandb\u001b[0m: Agent Starting Run: 1cd364ce with config:\n",
      "\u001b[34m\u001b[1mwandb\u001b[0m: \thidden_channels: 20\n",
      "\u001b[34m\u001b[1mwandb\u001b[0m: \tlearning_rate: 6.410657669952845e-05\n",
      "\u001b[34m\u001b[1mwandb\u001b[0m: \tlin_layer_size: 32\n",
      "\u001b[34m\u001b[1mwandb\u001b[0m: \tnum_conv_layers: 3\n",
      "\u001b[34m\u001b[1mwandb\u001b[0m: \tnum_lin_layers: 0\n",
      "\u001b[34m\u001b[1mwandb\u001b[0m: \tweight_decay: 2.5160736387526335e-05\n",
      "Failed to detect the name of this notebook, you can set it manually with the WANDB_NOTEBOOK_NAME environment variable to enable code saving.\n"
     ]
    },
    {
     "data": {
      "text/html": [
       "wandb version 0.17.1 is available!  To upgrade, please run:\n",
       " $ pip install wandb --upgrade"
      ],
      "text/plain": [
       "<IPython.core.display.HTML object>"
      ]
     },
     "metadata": {},
     "output_type": "display_data"
    },
    {
     "data": {
      "text/html": [
       "Tracking run with wandb version 0.16.4"
      ],
      "text/plain": [
       "<IPython.core.display.HTML object>"
      ]
     },
     "metadata": {},
     "output_type": "display_data"
    },
    {
     "data": {
      "text/html": [
       "Run data is saved locally in <code>/Users/jjaniak/Documents/studia/projekt/gradient/notebooks/downstream_tasks/wandb/run-20240607_180910-1cd364ce</code>"
      ],
      "text/plain": [
       "<IPython.core.display.HTML object>"
      ]
     },
     "metadata": {},
     "output_type": "display_data"
    },
    {
     "data": {
      "text/html": [
       "Syncing run <strong><a href='https://wandb.ai/gradient_pwr/accidents-downstream-task-v2/runs/1cd364ce' target=\"_blank\">rosy-sweep-4</a></strong> to <a href='https://wandb.ai/gradient_pwr/accidents-downstream-task-v2' target=\"_blank\">Weights & Biases</a> (<a href='https://wandb.me/run' target=\"_blank\">docs</a>)<br/>Sweep page: <a href='https://wandb.ai/gradient_pwr/accidents-downstream-task-v2/sweeps/t34vfnwj' target=\"_blank\">https://wandb.ai/gradient_pwr/accidents-downstream-task-v2/sweeps/t34vfnwj</a>"
      ],
      "text/plain": [
       "<IPython.core.display.HTML object>"
      ]
     },
     "metadata": {},
     "output_type": "display_data"
    },
    {
     "data": {
      "text/html": [
       " View project at <a href='https://wandb.ai/gradient_pwr/accidents-downstream-task-v2' target=\"_blank\">https://wandb.ai/gradient_pwr/accidents-downstream-task-v2</a>"
      ],
      "text/plain": [
       "<IPython.core.display.HTML object>"
      ]
     },
     "metadata": {},
     "output_type": "display_data"
    },
    {
     "data": {
      "text/html": [
       " View sweep at <a href='https://wandb.ai/gradient_pwr/accidents-downstream-task-v2/sweeps/t34vfnwj' target=\"_blank\">https://wandb.ai/gradient_pwr/accidents-downstream-task-v2/sweeps/t34vfnwj</a>"
      ],
      "text/plain": [
       "<IPython.core.display.HTML object>"
      ]
     },
     "metadata": {},
     "output_type": "display_data"
    },
    {
     "data": {
      "text/html": [
       " View run at <a href='https://wandb.ai/gradient_pwr/accidents-downstream-task-v2/runs/1cd364ce' target=\"_blank\">https://wandb.ai/gradient_pwr/accidents-downstream-task-v2/runs/1cd364ce</a>"
      ],
      "text/plain": [
       "<IPython.core.display.HTML object>"
      ]
     },
     "metadata": {},
     "output_type": "display_data"
    },
    {
     "name": "stderr",
     "output_type": "stream",
     "text": [
      "/Users/jjaniak/anaconda3/envs/studia_projekt/lib/python3.8/site-packages/torch_geometric/deprecation.py:22: UserWarning: 'data.DataLoader' is deprecated, use 'loader.DataLoader' instead\n",
      "  warnings.warn(out)\n",
      "GPU available: True (mps), used: True\n",
      "TPU available: False, using: 0 TPU cores\n",
      "IPU available: False, using: 0 IPUs\n",
      "HPU available: False, using: 0 HPUs\n",
      "Missing logger folder: ../../gradient_logs/2024_06_07_18_09_15/lightning_logs\n",
      "\n",
      "  | Name  | Type      | Params\n",
      "------------------------------------\n",
      "0 | model | HeteroGNN | 9.6 K \n",
      "------------------------------------\n",
      "9.6 K     Trainable params\n",
      "0         Non-trainable params\n",
      "9.6 K     Total params\n",
      "0.038     Total estimated model params size (MB)\n"
     ]
    },
    {
     "data": {
      "application/vnd.jupyter.widget-view+json": {
       "model_id": "a493d7710909473fa1b1f23f6435665d",
       "version_major": 2,
       "version_minor": 0
      },
      "text/plain": [
       "Sanity Checking: |          | 0/? [00:00<?, ?it/s]"
      ]
     },
     "metadata": {},
     "output_type": "display_data"
    },
    {
     "name": "stderr",
     "output_type": "stream",
     "text": [
      "/Users/jjaniak/anaconda3/envs/studia_projekt/lib/python3.8/site-packages/pytorch_lightning/trainer/connectors/data_connector.py:441: The 'val_dataloader' does not have many workers which may be a bottleneck. Consider increasing the value of the `num_workers` argument` to `num_workers=11` in the `DataLoader` to improve performance.\n"
     ]
    },
    {
     "data": {
      "application/vnd.jupyter.widget-view+json": {
       "model_id": "f9f67bc42e7b4f44a5b68516076ecf6f",
       "version_major": 2,
       "version_minor": 0
      },
      "text/plain": [
       "VBox(children=(Label(value='0.001 MB of 0.001 MB uploaded\\r'), FloatProgress(value=1.0, max=1.0)))"
      ]
     },
     "metadata": {},
     "output_type": "display_data"
    },
    {
     "data": {
      "text/html": [
       "<style>\n",
       "    table.wandb td:nth-child(1) { padding: 0 10px; text-align: left ; width: auto;} td:nth-child(2) {text-align: left ; width: 100%}\n",
       "    .wandb-row { display: flex; flex-direction: row; flex-wrap: wrap; justify-content: flex-start; width: 100% }\n",
       "    .wandb-col { display: flex; flex-direction: column; flex-basis: 100%; flex: 1; padding: 10px; }\n",
       "    </style>\n",
       "<div class=\"wandb-row\"><div class=\"wandb-col\"><h3>Run history:</h3><br/><table class=\"wandb\"><tr><td>USE_HEXES_ATTRS</td><td>▁</td></tr><tr><td>USE_ORTOPHOTO</td><td>▁</td></tr><tr><td>USE_OSMNX_ATTRS</td><td>▁</td></tr></table><br/></div><div class=\"wandb-col\"><h3>Run summary:</h3><br/><table class=\"wandb\"><tr><td>USE_HEXES_ATTRS</td><td>1</td></tr><tr><td>USE_ORTOPHOTO</td><td>0</td></tr><tr><td>USE_OSMNX_ATTRS</td><td>1</td></tr><tr><td>data_structure</td><td>graph</td></tr></table><br/></div></div>"
      ],
      "text/plain": [
       "<IPython.core.display.HTML object>"
      ]
     },
     "metadata": {},
     "output_type": "display_data"
    },
    {
     "data": {
      "text/html": [
       " View run <strong style=\"color:#cdcd00\">rosy-sweep-4</strong> at: <a href='https://wandb.ai/gradient_pwr/accidents-downstream-task-v2/runs/1cd364ce' target=\"_blank\">https://wandb.ai/gradient_pwr/accidents-downstream-task-v2/runs/1cd364ce</a><br/>Synced 6 W&B file(s), 0 media file(s), 0 artifact file(s) and 0 other file(s)"
      ],
      "text/plain": [
       "<IPython.core.display.HTML object>"
      ]
     },
     "metadata": {},
     "output_type": "display_data"
    },
    {
     "data": {
      "text/html": [
       "Find logs at: <code>./wandb/run-20240607_180910-1cd364ce/logs</code>"
      ],
      "text/plain": [
       "<IPython.core.display.HTML object>"
      ]
     },
     "metadata": {},
     "output_type": "display_data"
    },
    {
     "name": "stderr",
     "output_type": "stream",
     "text": [
      "Run 1cd364ce errored:\n",
      "Traceback (most recent call last):\n",
      "  File \"/Users/jjaniak/anaconda3/envs/studia_projekt/lib/python3.8/site-packages/wandb/agents/pyagent.py\", line 308, in _run_job\n",
      "    self._function()\n",
      "  File \"/var/folders/4k/8js3jm9n457cm4_v631zyrkw0000gn/T/ipykernel_25686/3559290024.py\", line 62, in wrapped\n",
      "    auc, accuracy, f1, model_path = train(\n",
      "  File \"/Users/jjaniak/Documents/studia/projekt/gradient/notebooks/downstream_tasks/../../src/training/train.py\", line 84, in train\n",
      "    trainer.fit(model, train_loader, val_dataloaders=(val_loader or None))\n",
      "  File \"/Users/jjaniak/anaconda3/envs/studia_projekt/lib/python3.8/site-packages/pytorch_lightning/trainer/trainer.py\", line 545, in fit\n",
      "    call._call_and_handle_interrupt(\n",
      "  File \"/Users/jjaniak/anaconda3/envs/studia_projekt/lib/python3.8/site-packages/pytorch_lightning/trainer/call.py\", line 44, in _call_and_handle_interrupt\n",
      "    return trainer_fn(*args, **kwargs)\n",
      "  File \"/Users/jjaniak/anaconda3/envs/studia_projekt/lib/python3.8/site-packages/pytorch_lightning/trainer/trainer.py\", line 581, in _fit_impl\n",
      "    self._run(model, ckpt_path=ckpt_path)\n",
      "  File \"/Users/jjaniak/anaconda3/envs/studia_projekt/lib/python3.8/site-packages/pytorch_lightning/trainer/trainer.py\", line 990, in _run\n",
      "    results = self._run_stage()\n",
      "  File \"/Users/jjaniak/anaconda3/envs/studia_projekt/lib/python3.8/site-packages/pytorch_lightning/trainer/trainer.py\", line 1034, in _run_stage\n",
      "    self._run_sanity_check()\n",
      "  File \"/Users/jjaniak/anaconda3/envs/studia_projekt/lib/python3.8/site-packages/pytorch_lightning/trainer/trainer.py\", line 1063, in _run_sanity_check\n",
      "    val_loop.run()\n",
      "  File \"/Users/jjaniak/anaconda3/envs/studia_projekt/lib/python3.8/site-packages/pytorch_lightning/loops/utilities.py\", line 181, in _decorator\n",
      "    return loop_run(self, *args, **kwargs)\n",
      "  File \"/Users/jjaniak/anaconda3/envs/studia_projekt/lib/python3.8/site-packages/pytorch_lightning/loops/evaluation_loop.py\", line 134, in run\n",
      "    self._evaluation_step(batch, batch_idx, dataloader_idx, dataloader_iter)\n",
      "  File \"/Users/jjaniak/anaconda3/envs/studia_projekt/lib/python3.8/site-packages/pytorch_lightning/loops/evaluation_loop.py\", line 391, in _evaluation_step\n",
      "    output = call._call_strategy_hook(trainer, hook_name, *step_args)\n",
      "  File \"/Users/jjaniak/anaconda3/envs/studia_projekt/lib/python3.8/site-packages/pytorch_lightning/trainer/call.py\", line 309, in _call_strategy_hook\n",
      "    output = fn(*args, **kwargs)\n",
      "  File \"/Users/jjaniak/anaconda3/envs/studia_projekt/lib/python3.8/site-packages/pytorch_lightning/strategies/strategy.py\", line 403, in validation_step\n",
      "    return self.lightning_module.validation_step(*args, **kwargs)\n",
      "  File \"/Users/jjaniak/Documents/studia/projekt/gradient/notebooks/downstream_tasks/../../src/lightning/hetero_gnn_module.py\", line 57, in validation_step\n",
      "    y_hat = self.model(batch.x_dict, batch.edge_index_dict, batch.edge_attr_dict)\n",
      "  File \"/Users/jjaniak/anaconda3/envs/studia_projekt/lib/python3.8/site-packages/torch/nn/modules/module.py\", line 1518, in _wrapped_call_impl\n",
      "    return self._call_impl(*args, **kwargs)\n",
      "  File \"/Users/jjaniak/anaconda3/envs/studia_projekt/lib/python3.8/site-packages/torch/nn/modules/module.py\", line 1527, in _call_impl\n",
      "    return forward_call(*args, **kwargs)\n",
      "  File \"/Users/jjaniak/Documents/studia/projekt/gradient/notebooks/downstream_tasks/../../src/baseline_models/HeteroGNN/HeteroGNN.py\", line 59, in forward\n",
      "    value = self._forward(x_dict, edge_index_dict, edge_atrr_dict)\n",
      "  File \"/Users/jjaniak/Documents/studia/projekt/gradient/notebooks/downstream_tasks/../../src/baseline_models/HeteroGNN/HeteroGNN.py\", line 74, in _forward\n",
      "    x_dict = conv(x_dict, edge_index_dict, edge_atrr_dict)\n",
      "  File \"/Users/jjaniak/anaconda3/envs/studia_projekt/lib/python3.8/site-packages/torch/nn/modules/module.py\", line 1518, in _wrapped_call_impl\n",
      "    return self._call_impl(*args, **kwargs)\n",
      "  File \"/Users/jjaniak/anaconda3/envs/studia_projekt/lib/python3.8/site-packages/torch/nn/modules/module.py\", line 1527, in _call_impl\n",
      "    return forward_call(*args, **kwargs)\n",
      "  File \"/Users/jjaniak/anaconda3/envs/studia_projekt/lib/python3.8/site-packages/torch_geometric/nn/conv/hetero_conv.py\", line 159, in forward\n",
      "    out = self.convs[edge_type](*args, **kwargs)\n",
      "  File \"/Users/jjaniak/anaconda3/envs/studia_projekt/lib/python3.8/site-packages/torch/nn/modules/module.py\", line 1518, in _wrapped_call_impl\n",
      "    return self._call_impl(*args, **kwargs)\n",
      "  File \"/Users/jjaniak/anaconda3/envs/studia_projekt/lib/python3.8/site-packages/torch/nn/modules/module.py\", line 1527, in _call_impl\n",
      "    return forward_call(*args, **kwargs)\n",
      "  File \"/Users/jjaniak/anaconda3/envs/studia_projekt/lib/python3.8/site-packages/torch_geometric/nn/conv/gat_conv.py\", line 252, in forward\n",
      "    alpha = self.edge_updater(edge_index, alpha=alpha, edge_attr=edge_attr)\n",
      "  File \"/Users/jjaniak/anaconda3/envs/studia_projekt/lib/python3.8/site-packages/torch_geometric/nn/conv/message_passing.py\", line 527, in edge_updater\n",
      "    out = self.edge_update(**edge_kwargs)\n",
      "  File \"/Users/jjaniak/anaconda3/envs/studia_projekt/lib/python3.8/site-packages/torch_geometric/nn/conv/gat_conv.py\", line 295, in edge_update\n",
      "    alpha = softmax(alpha, index, ptr, size_i)\n",
      "  File \"/Users/jjaniak/anaconda3/envs/studia_projekt/lib/python3.8/site-packages/torch_geometric/utils/softmax.py\", line 65, in softmax\n",
      "    src_max = scatter(src.detach(), index, dim, dim_size=N, reduce='max')\n",
      "  File \"/Users/jjaniak/anaconda3/envs/studia_projekt/lib/python3.8/site-packages/torch_geometric/utils/scatter.py\", line 94, in scatter\n",
      "    return src.new_zeros(size).scatter_reduce_(\n",
      "NotImplementedError: The operator 'aten::scatter_reduce.two_out' is not currently implemented for the MPS device. If you want this op to be added in priority during the prototype phase of this feature, please comment on https://github.com/pytorch/pytorch/issues/77764. As a temporary fix, you can set the environment variable `PYTORCH_ENABLE_MPS_FALLBACK=1` to use the CPU as a fallback for this op. WARNING: this will be slower than running natively on MPS.\n",
      "\n",
      "\u001b[34m\u001b[1mwandb\u001b[0m: \u001b[32m\u001b[41mERROR\u001b[0m Run 1cd364ce errored:\n",
      "\u001b[34m\u001b[1mwandb\u001b[0m: \u001b[32m\u001b[41mERROR\u001b[0m Traceback (most recent call last):\n",
      "\u001b[34m\u001b[1mwandb\u001b[0m: \u001b[32m\u001b[41mERROR\u001b[0m   File \"/Users/jjaniak/anaconda3/envs/studia_projekt/lib/python3.8/site-packages/wandb/agents/pyagent.py\", line 308, in _run_job\n",
      "\u001b[34m\u001b[1mwandb\u001b[0m: \u001b[32m\u001b[41mERROR\u001b[0m     self._function()\n",
      "\u001b[34m\u001b[1mwandb\u001b[0m: \u001b[32m\u001b[41mERROR\u001b[0m   File \"/var/folders/4k/8js3jm9n457cm4_v631zyrkw0000gn/T/ipykernel_25686/3559290024.py\", line 62, in wrapped\n",
      "\u001b[34m\u001b[1mwandb\u001b[0m: \u001b[32m\u001b[41mERROR\u001b[0m     auc, accuracy, f1, model_path = train(\n",
      "\u001b[34m\u001b[1mwandb\u001b[0m: \u001b[32m\u001b[41mERROR\u001b[0m   File \"/Users/jjaniak/Documents/studia/projekt/gradient/notebooks/downstream_tasks/../../src/training/train.py\", line 84, in train\n",
      "\u001b[34m\u001b[1mwandb\u001b[0m: \u001b[32m\u001b[41mERROR\u001b[0m     trainer.fit(model, train_loader, val_dataloaders=(val_loader or None))\n",
      "\u001b[34m\u001b[1mwandb\u001b[0m: \u001b[32m\u001b[41mERROR\u001b[0m   File \"/Users/jjaniak/anaconda3/envs/studia_projekt/lib/python3.8/site-packages/pytorch_lightning/trainer/trainer.py\", line 545, in fit\n",
      "\u001b[34m\u001b[1mwandb\u001b[0m: \u001b[32m\u001b[41mERROR\u001b[0m     call._call_and_handle_interrupt(\n",
      "\u001b[34m\u001b[1mwandb\u001b[0m: \u001b[32m\u001b[41mERROR\u001b[0m   File \"/Users/jjaniak/anaconda3/envs/studia_projekt/lib/python3.8/site-packages/pytorch_lightning/trainer/call.py\", line 44, in _call_and_handle_interrupt\n",
      "\u001b[34m\u001b[1mwandb\u001b[0m: \u001b[32m\u001b[41mERROR\u001b[0m     return trainer_fn(*args, **kwargs)\n",
      "\u001b[34m\u001b[1mwandb\u001b[0m: \u001b[32m\u001b[41mERROR\u001b[0m   File \"/Users/jjaniak/anaconda3/envs/studia_projekt/lib/python3.8/site-packages/pytorch_lightning/trainer/trainer.py\", line 581, in _fit_impl\n",
      "\u001b[34m\u001b[1mwandb\u001b[0m: \u001b[32m\u001b[41mERROR\u001b[0m     self._run(model, ckpt_path=ckpt_path)\n",
      "\u001b[34m\u001b[1mwandb\u001b[0m: \u001b[32m\u001b[41mERROR\u001b[0m   File \"/Users/jjaniak/anaconda3/envs/studia_projekt/lib/python3.8/site-packages/pytorch_lightning/trainer/trainer.py\", line 990, in _run\n",
      "\u001b[34m\u001b[1mwandb\u001b[0m: \u001b[32m\u001b[41mERROR\u001b[0m     results = self._run_stage()\n",
      "\u001b[34m\u001b[1mwandb\u001b[0m: \u001b[32m\u001b[41mERROR\u001b[0m   File \"/Users/jjaniak/anaconda3/envs/studia_projekt/lib/python3.8/site-packages/pytorch_lightning/trainer/trainer.py\", line 1034, in _run_stage\n",
      "\u001b[34m\u001b[1mwandb\u001b[0m: \u001b[32m\u001b[41mERROR\u001b[0m     self._run_sanity_check()\n",
      "\u001b[34m\u001b[1mwandb\u001b[0m: \u001b[32m\u001b[41mERROR\u001b[0m   File \"/Users/jjaniak/anaconda3/envs/studia_projekt/lib/python3.8/site-packages/pytorch_lightning/trainer/trainer.py\", line 1063, in _run_sanity_check\n",
      "\u001b[34m\u001b[1mwandb\u001b[0m: \u001b[32m\u001b[41mERROR\u001b[0m     val_loop.run()\n",
      "\u001b[34m\u001b[1mwandb\u001b[0m: \u001b[32m\u001b[41mERROR\u001b[0m   File \"/Users/jjaniak/anaconda3/envs/studia_projekt/lib/python3.8/site-packages/pytorch_lightning/loops/utilities.py\", line 181, in _decorator\n",
      "\u001b[34m\u001b[1mwandb\u001b[0m: \u001b[32m\u001b[41mERROR\u001b[0m     return loop_run(self, *args, **kwargs)\n",
      "\u001b[34m\u001b[1mwandb\u001b[0m: \u001b[32m\u001b[41mERROR\u001b[0m   File \"/Users/jjaniak/anaconda3/envs/studia_projekt/lib/python3.8/site-packages/pytorch_lightning/loops/evaluation_loop.py\", line 134, in run\n",
      "\u001b[34m\u001b[1mwandb\u001b[0m: \u001b[32m\u001b[41mERROR\u001b[0m     self._evaluation_step(batch, batch_idx, dataloader_idx, dataloader_iter)\n",
      "\u001b[34m\u001b[1mwandb\u001b[0m: \u001b[32m\u001b[41mERROR\u001b[0m   File \"/Users/jjaniak/anaconda3/envs/studia_projekt/lib/python3.8/site-packages/pytorch_lightning/loops/evaluation_loop.py\", line 391, in _evaluation_step\n",
      "\u001b[34m\u001b[1mwandb\u001b[0m: \u001b[32m\u001b[41mERROR\u001b[0m     output = call._call_strategy_hook(trainer, hook_name, *step_args)\n",
      "\u001b[34m\u001b[1mwandb\u001b[0m: \u001b[32m\u001b[41mERROR\u001b[0m   File \"/Users/jjaniak/anaconda3/envs/studia_projekt/lib/python3.8/site-packages/pytorch_lightning/trainer/call.py\", line 309, in _call_strategy_hook\n",
      "\u001b[34m\u001b[1mwandb\u001b[0m: \u001b[32m\u001b[41mERROR\u001b[0m     output = fn(*args, **kwargs)\n",
      "\u001b[34m\u001b[1mwandb\u001b[0m: \u001b[32m\u001b[41mERROR\u001b[0m   File \"/Users/jjaniak/anaconda3/envs/studia_projekt/lib/python3.8/site-packages/pytorch_lightning/strategies/strategy.py\", line 403, in validation_step\n",
      "\u001b[34m\u001b[1mwandb\u001b[0m: \u001b[32m\u001b[41mERROR\u001b[0m     return self.lightning_module.validation_step(*args, **kwargs)\n",
      "\u001b[34m\u001b[1mwandb\u001b[0m: \u001b[32m\u001b[41mERROR\u001b[0m   File \"/Users/jjaniak/Documents/studia/projekt/gradient/notebooks/downstream_tasks/../../src/lightning/hetero_gnn_module.py\", line 57, in validation_step\n",
      "\u001b[34m\u001b[1mwandb\u001b[0m: \u001b[32m\u001b[41mERROR\u001b[0m     y_hat = self.model(batch.x_dict, batch.edge_index_dict, batch.edge_attr_dict)\n",
      "\u001b[34m\u001b[1mwandb\u001b[0m: \u001b[32m\u001b[41mERROR\u001b[0m   File \"/Users/jjaniak/anaconda3/envs/studia_projekt/lib/python3.8/site-packages/torch/nn/modules/module.py\", line 1518, in _wrapped_call_impl\n",
      "\u001b[34m\u001b[1mwandb\u001b[0m: \u001b[32m\u001b[41mERROR\u001b[0m     return self._call_impl(*args, **kwargs)\n",
      "\u001b[34m\u001b[1mwandb\u001b[0m: \u001b[32m\u001b[41mERROR\u001b[0m   File \"/Users/jjaniak/anaconda3/envs/studia_projekt/lib/python3.8/site-packages/torch/nn/modules/module.py\", line 1527, in _call_impl\n",
      "\u001b[34m\u001b[1mwandb\u001b[0m: \u001b[32m\u001b[41mERROR\u001b[0m     return forward_call(*args, **kwargs)\n",
      "\u001b[34m\u001b[1mwandb\u001b[0m: \u001b[32m\u001b[41mERROR\u001b[0m   File \"/Users/jjaniak/Documents/studia/projekt/gradient/notebooks/downstream_tasks/../../src/baseline_models/HeteroGNN/HeteroGNN.py\", line 59, in forward\n",
      "\u001b[34m\u001b[1mwandb\u001b[0m: \u001b[32m\u001b[41mERROR\u001b[0m     value = self._forward(x_dict, edge_index_dict, edge_atrr_dict)\n",
      "\u001b[34m\u001b[1mwandb\u001b[0m: \u001b[32m\u001b[41mERROR\u001b[0m   File \"/Users/jjaniak/Documents/studia/projekt/gradient/notebooks/downstream_tasks/../../src/baseline_models/HeteroGNN/HeteroGNN.py\", line 74, in _forward\n",
      "\u001b[34m\u001b[1mwandb\u001b[0m: \u001b[32m\u001b[41mERROR\u001b[0m     x_dict = conv(x_dict, edge_index_dict, edge_atrr_dict)\n",
      "\u001b[34m\u001b[1mwandb\u001b[0m: \u001b[32m\u001b[41mERROR\u001b[0m   File \"/Users/jjaniak/anaconda3/envs/studia_projekt/lib/python3.8/site-packages/torch/nn/modules/module.py\", line 1518, in _wrapped_call_impl\n",
      "\u001b[34m\u001b[1mwandb\u001b[0m: \u001b[32m\u001b[41mERROR\u001b[0m     return self._call_impl(*args, **kwargs)\n",
      "\u001b[34m\u001b[1mwandb\u001b[0m: \u001b[32m\u001b[41mERROR\u001b[0m   File \"/Users/jjaniak/anaconda3/envs/studia_projekt/lib/python3.8/site-packages/torch/nn/modules/module.py\", line 1527, in _call_impl\n",
      "\u001b[34m\u001b[1mwandb\u001b[0m: \u001b[32m\u001b[41mERROR\u001b[0m     return forward_call(*args, **kwargs)\n",
      "\u001b[34m\u001b[1mwandb\u001b[0m: \u001b[32m\u001b[41mERROR\u001b[0m   File \"/Users/jjaniak/anaconda3/envs/studia_projekt/lib/python3.8/site-packages/torch_geometric/nn/conv/hetero_conv.py\", line 159, in forward\n",
      "\u001b[34m\u001b[1mwandb\u001b[0m: \u001b[32m\u001b[41mERROR\u001b[0m     out = self.convs[edge_type](*args, **kwargs)\n",
      "\u001b[34m\u001b[1mwandb\u001b[0m: \u001b[32m\u001b[41mERROR\u001b[0m   File \"/Users/jjaniak/anaconda3/envs/studia_projekt/lib/python3.8/site-packages/torch/nn/modules/module.py\", line 1518, in _wrapped_call_impl\n",
      "\u001b[34m\u001b[1mwandb\u001b[0m: \u001b[32m\u001b[41mERROR\u001b[0m     return self._call_impl(*args, **kwargs)\n",
      "\u001b[34m\u001b[1mwandb\u001b[0m: \u001b[32m\u001b[41mERROR\u001b[0m   File \"/Users/jjaniak/anaconda3/envs/studia_projekt/lib/python3.8/site-packages/torch/nn/modules/module.py\", line 1527, in _call_impl\n",
      "\u001b[34m\u001b[1mwandb\u001b[0m: \u001b[32m\u001b[41mERROR\u001b[0m     return forward_call(*args, **kwargs)\n",
      "\u001b[34m\u001b[1mwandb\u001b[0m: \u001b[32m\u001b[41mERROR\u001b[0m   File \"/Users/jjaniak/anaconda3/envs/studia_projekt/lib/python3.8/site-packages/torch_geometric/nn/conv/gat_conv.py\", line 252, in forward\n",
      "\u001b[34m\u001b[1mwandb\u001b[0m: \u001b[32m\u001b[41mERROR\u001b[0m     alpha = self.edge_updater(edge_index, alpha=alpha, edge_attr=edge_attr)\n",
      "\u001b[34m\u001b[1mwandb\u001b[0m: \u001b[32m\u001b[41mERROR\u001b[0m   File \"/Users/jjaniak/anaconda3/envs/studia_projekt/lib/python3.8/site-packages/torch_geometric/nn/conv/message_passing.py\", line 527, in edge_updater\n",
      "\u001b[34m\u001b[1mwandb\u001b[0m: \u001b[32m\u001b[41mERROR\u001b[0m     out = self.edge_update(**edge_kwargs)\n",
      "\u001b[34m\u001b[1mwandb\u001b[0m: \u001b[32m\u001b[41mERROR\u001b[0m   File \"/Users/jjaniak/anaconda3/envs/studia_projekt/lib/python3.8/site-packages/torch_geometric/nn/conv/gat_conv.py\", line 295, in edge_update\n",
      "\u001b[34m\u001b[1mwandb\u001b[0m: \u001b[32m\u001b[41mERROR\u001b[0m     alpha = softmax(alpha, index, ptr, size_i)\n",
      "\u001b[34m\u001b[1mwandb\u001b[0m: \u001b[32m\u001b[41mERROR\u001b[0m   File \"/Users/jjaniak/anaconda3/envs/studia_projekt/lib/python3.8/site-packages/torch_geometric/utils/softmax.py\", line 65, in softmax\n",
      "\u001b[34m\u001b[1mwandb\u001b[0m: \u001b[32m\u001b[41mERROR\u001b[0m     src_max = scatter(src.detach(), index, dim, dim_size=N, reduce='max')\n",
      "\u001b[34m\u001b[1mwandb\u001b[0m: \u001b[32m\u001b[41mERROR\u001b[0m   File \"/Users/jjaniak/anaconda3/envs/studia_projekt/lib/python3.8/site-packages/torch_geometric/utils/scatter.py\", line 94, in scatter\n",
      "\u001b[34m\u001b[1mwandb\u001b[0m: \u001b[32m\u001b[41mERROR\u001b[0m     return src.new_zeros(size).scatter_reduce_(\n",
      "\u001b[34m\u001b[1mwandb\u001b[0m: \u001b[32m\u001b[41mERROR\u001b[0m NotImplementedError: The operator 'aten::scatter_reduce.two_out' is not currently implemented for the MPS device. If you want this op to be added in priority during the prototype phase of this feature, please comment on https://github.com/pytorch/pytorch/issues/77764. As a temporary fix, you can set the environment variable `PYTORCH_ENABLE_MPS_FALLBACK=1` to use the CPU as a fallback for this op. WARNING: this will be slower than running natively on MPS.\n",
      "\u001b[34m\u001b[1mwandb\u001b[0m: \u001b[32m\u001b[41mERROR\u001b[0m \n",
      "\u001b[34m\u001b[1mwandb\u001b[0m: Agent Starting Run: e3eodpv0 with config:\n",
      "\u001b[34m\u001b[1mwandb\u001b[0m: \thidden_channels: 30\n",
      "\u001b[34m\u001b[1mwandb\u001b[0m: \tlearning_rate: 1.2593610520523711e-05\n",
      "\u001b[34m\u001b[1mwandb\u001b[0m: \tlin_layer_size: 64\n",
      "\u001b[34m\u001b[1mwandb\u001b[0m: \tnum_conv_layers: 4\n",
      "\u001b[34m\u001b[1mwandb\u001b[0m: \tnum_lin_layers: 1\n",
      "\u001b[34m\u001b[1mwandb\u001b[0m: \tweight_decay: 0.0006649575336981484\n",
      "Failed to detect the name of this notebook, you can set it manually with the WANDB_NOTEBOOK_NAME environment variable to enable code saving.\n"
     ]
    },
    {
     "data": {
      "text/html": [
       "wandb version 0.17.1 is available!  To upgrade, please run:\n",
       " $ pip install wandb --upgrade"
      ],
      "text/plain": [
       "<IPython.core.display.HTML object>"
      ]
     },
     "metadata": {},
     "output_type": "display_data"
    },
    {
     "data": {
      "text/html": [
       "Tracking run with wandb version 0.16.4"
      ],
      "text/plain": [
       "<IPython.core.display.HTML object>"
      ]
     },
     "metadata": {},
     "output_type": "display_data"
    },
    {
     "data": {
      "text/html": [
       "Run data is saved locally in <code>/Users/jjaniak/Documents/studia/projekt/gradient/notebooks/downstream_tasks/wandb/run-20240607_180926-e3eodpv0</code>"
      ],
      "text/plain": [
       "<IPython.core.display.HTML object>"
      ]
     },
     "metadata": {},
     "output_type": "display_data"
    },
    {
     "data": {
      "text/html": [
       "Syncing run <strong><a href='https://wandb.ai/gradient_pwr/accidents-downstream-task-v2/runs/e3eodpv0' target=\"_blank\">golden-sweep-5</a></strong> to <a href='https://wandb.ai/gradient_pwr/accidents-downstream-task-v2' target=\"_blank\">Weights & Biases</a> (<a href='https://wandb.me/run' target=\"_blank\">docs</a>)<br/>Sweep page: <a href='https://wandb.ai/gradient_pwr/accidents-downstream-task-v2/sweeps/t34vfnwj' target=\"_blank\">https://wandb.ai/gradient_pwr/accidents-downstream-task-v2/sweeps/t34vfnwj</a>"
      ],
      "text/plain": [
       "<IPython.core.display.HTML object>"
      ]
     },
     "metadata": {},
     "output_type": "display_data"
    },
    {
     "data": {
      "text/html": [
       " View project at <a href='https://wandb.ai/gradient_pwr/accidents-downstream-task-v2' target=\"_blank\">https://wandb.ai/gradient_pwr/accidents-downstream-task-v2</a>"
      ],
      "text/plain": [
       "<IPython.core.display.HTML object>"
      ]
     },
     "metadata": {},
     "output_type": "display_data"
    },
    {
     "data": {
      "text/html": [
       " View sweep at <a href='https://wandb.ai/gradient_pwr/accidents-downstream-task-v2/sweeps/t34vfnwj' target=\"_blank\">https://wandb.ai/gradient_pwr/accidents-downstream-task-v2/sweeps/t34vfnwj</a>"
      ],
      "text/plain": [
       "<IPython.core.display.HTML object>"
      ]
     },
     "metadata": {},
     "output_type": "display_data"
    },
    {
     "data": {
      "text/html": [
       " View run at <a href='https://wandb.ai/gradient_pwr/accidents-downstream-task-v2/runs/e3eodpv0' target=\"_blank\">https://wandb.ai/gradient_pwr/accidents-downstream-task-v2/runs/e3eodpv0</a>"
      ],
      "text/plain": [
       "<IPython.core.display.HTML object>"
      ]
     },
     "metadata": {},
     "output_type": "display_data"
    },
    {
     "name": "stderr",
     "output_type": "stream",
     "text": [
      "/Users/jjaniak/anaconda3/envs/studia_projekt/lib/python3.8/site-packages/torch_geometric/deprecation.py:22: UserWarning: 'data.DataLoader' is deprecated, use 'loader.DataLoader' instead\n",
      "  warnings.warn(out)\n",
      "GPU available: True (mps), used: True\n",
      "TPU available: False, using: 0 TPU cores\n",
      "IPU available: False, using: 0 IPUs\n",
      "HPU available: False, using: 0 HPUs\n",
      "Missing logger folder: ../../gradient_logs/2024_06_07_18_09_31/lightning_logs\n",
      "\n",
      "  | Name  | Type      | Params\n",
      "------------------------------------\n",
      "0 | model | HeteroGNN | 26.2 K\n",
      "------------------------------------\n",
      "26.2 K    Trainable params\n",
      "0         Non-trainable params\n",
      "26.2 K    Total params\n",
      "0.105     Total estimated model params size (MB)\n"
     ]
    },
    {
     "data": {
      "application/vnd.jupyter.widget-view+json": {
       "model_id": "e945af77aac9459984c1670a260111b7",
       "version_major": 2,
       "version_minor": 0
      },
      "text/plain": [
       "Sanity Checking: |          | 0/? [00:00<?, ?it/s]"
      ]
     },
     "metadata": {},
     "output_type": "display_data"
    },
    {
     "name": "stderr",
     "output_type": "stream",
     "text": [
      "/Users/jjaniak/anaconda3/envs/studia_projekt/lib/python3.8/site-packages/pytorch_lightning/trainer/connectors/data_connector.py:441: The 'val_dataloader' does not have many workers which may be a bottleneck. Consider increasing the value of the `num_workers` argument` to `num_workers=11` in the `DataLoader` to improve performance.\n"
     ]
    },
    {
     "data": {
      "application/vnd.jupyter.widget-view+json": {
       "model_id": "c1011e71bb27474580a9ad8f8aa0dcba",
       "version_major": 2,
       "version_minor": 0
      },
      "text/plain": [
       "VBox(children=(Label(value='0.001 MB of 0.001 MB uploaded\\r'), FloatProgress(value=1.0, max=1.0)))"
      ]
     },
     "metadata": {},
     "output_type": "display_data"
    },
    {
     "data": {
      "text/html": [
       "<style>\n",
       "    table.wandb td:nth-child(1) { padding: 0 10px; text-align: left ; width: auto;} td:nth-child(2) {text-align: left ; width: 100%}\n",
       "    .wandb-row { display: flex; flex-direction: row; flex-wrap: wrap; justify-content: flex-start; width: 100% }\n",
       "    .wandb-col { display: flex; flex-direction: column; flex-basis: 100%; flex: 1; padding: 10px; }\n",
       "    </style>\n",
       "<div class=\"wandb-row\"><div class=\"wandb-col\"><h3>Run history:</h3><br/><table class=\"wandb\"><tr><td>USE_HEXES_ATTRS</td><td>▁</td></tr><tr><td>USE_ORTOPHOTO</td><td>▁</td></tr><tr><td>USE_OSMNX_ATTRS</td><td>▁</td></tr></table><br/></div><div class=\"wandb-col\"><h3>Run summary:</h3><br/><table class=\"wandb\"><tr><td>USE_HEXES_ATTRS</td><td>1</td></tr><tr><td>USE_ORTOPHOTO</td><td>0</td></tr><tr><td>USE_OSMNX_ATTRS</td><td>1</td></tr><tr><td>data_structure</td><td>graph</td></tr></table><br/></div></div>"
      ],
      "text/plain": [
       "<IPython.core.display.HTML object>"
      ]
     },
     "metadata": {},
     "output_type": "display_data"
    },
    {
     "data": {
      "text/html": [
       " View run <strong style=\"color:#cdcd00\">golden-sweep-5</strong> at: <a href='https://wandb.ai/gradient_pwr/accidents-downstream-task-v2/runs/e3eodpv0' target=\"_blank\">https://wandb.ai/gradient_pwr/accidents-downstream-task-v2/runs/e3eodpv0</a><br/>Synced 6 W&B file(s), 0 media file(s), 0 artifact file(s) and 0 other file(s)"
      ],
      "text/plain": [
       "<IPython.core.display.HTML object>"
      ]
     },
     "metadata": {},
     "output_type": "display_data"
    },
    {
     "data": {
      "text/html": [
       "Find logs at: <code>./wandb/run-20240607_180926-e3eodpv0/logs</code>"
      ],
      "text/plain": [
       "<IPython.core.display.HTML object>"
      ]
     },
     "metadata": {},
     "output_type": "display_data"
    },
    {
     "name": "stderr",
     "output_type": "stream",
     "text": [
      "Run e3eodpv0 errored:\n",
      "Traceback (most recent call last):\n",
      "  File \"/Users/jjaniak/anaconda3/envs/studia_projekt/lib/python3.8/site-packages/wandb/agents/pyagent.py\", line 308, in _run_job\n",
      "    self._function()\n",
      "  File \"/var/folders/4k/8js3jm9n457cm4_v631zyrkw0000gn/T/ipykernel_25686/3559290024.py\", line 62, in wrapped\n",
      "    auc, accuracy, f1, model_path = train(\n",
      "  File \"/Users/jjaniak/Documents/studia/projekt/gradient/notebooks/downstream_tasks/../../src/training/train.py\", line 84, in train\n",
      "    trainer.fit(model, train_loader, val_dataloaders=(val_loader or None))\n",
      "  File \"/Users/jjaniak/anaconda3/envs/studia_projekt/lib/python3.8/site-packages/pytorch_lightning/trainer/trainer.py\", line 545, in fit\n",
      "    call._call_and_handle_interrupt(\n",
      "  File \"/Users/jjaniak/anaconda3/envs/studia_projekt/lib/python3.8/site-packages/pytorch_lightning/trainer/call.py\", line 44, in _call_and_handle_interrupt\n",
      "    return trainer_fn(*args, **kwargs)\n",
      "  File \"/Users/jjaniak/anaconda3/envs/studia_projekt/lib/python3.8/site-packages/pytorch_lightning/trainer/trainer.py\", line 581, in _fit_impl\n",
      "    self._run(model, ckpt_path=ckpt_path)\n",
      "  File \"/Users/jjaniak/anaconda3/envs/studia_projekt/lib/python3.8/site-packages/pytorch_lightning/trainer/trainer.py\", line 990, in _run\n",
      "    results = self._run_stage()\n",
      "  File \"/Users/jjaniak/anaconda3/envs/studia_projekt/lib/python3.8/site-packages/pytorch_lightning/trainer/trainer.py\", line 1034, in _run_stage\n",
      "    self._run_sanity_check()\n",
      "  File \"/Users/jjaniak/anaconda3/envs/studia_projekt/lib/python3.8/site-packages/pytorch_lightning/trainer/trainer.py\", line 1063, in _run_sanity_check\n",
      "    val_loop.run()\n",
      "  File \"/Users/jjaniak/anaconda3/envs/studia_projekt/lib/python3.8/site-packages/pytorch_lightning/loops/utilities.py\", line 181, in _decorator\n",
      "    return loop_run(self, *args, **kwargs)\n",
      "  File \"/Users/jjaniak/anaconda3/envs/studia_projekt/lib/python3.8/site-packages/pytorch_lightning/loops/evaluation_loop.py\", line 134, in run\n",
      "    self._evaluation_step(batch, batch_idx, dataloader_idx, dataloader_iter)\n",
      "  File \"/Users/jjaniak/anaconda3/envs/studia_projekt/lib/python3.8/site-packages/pytorch_lightning/loops/evaluation_loop.py\", line 391, in _evaluation_step\n",
      "    output = call._call_strategy_hook(trainer, hook_name, *step_args)\n",
      "  File \"/Users/jjaniak/anaconda3/envs/studia_projekt/lib/python3.8/site-packages/pytorch_lightning/trainer/call.py\", line 309, in _call_strategy_hook\n",
      "    output = fn(*args, **kwargs)\n",
      "  File \"/Users/jjaniak/anaconda3/envs/studia_projekt/lib/python3.8/site-packages/pytorch_lightning/strategies/strategy.py\", line 403, in validation_step\n",
      "    return self.lightning_module.validation_step(*args, **kwargs)\n",
      "  File \"/Users/jjaniak/Documents/studia/projekt/gradient/notebooks/downstream_tasks/../../src/lightning/hetero_gnn_module.py\", line 57, in validation_step\n",
      "    y_hat = self.model(batch.x_dict, batch.edge_index_dict, batch.edge_attr_dict)\n",
      "  File \"/Users/jjaniak/anaconda3/envs/studia_projekt/lib/python3.8/site-packages/torch/nn/modules/module.py\", line 1518, in _wrapped_call_impl\n",
      "    return self._call_impl(*args, **kwargs)\n",
      "  File \"/Users/jjaniak/anaconda3/envs/studia_projekt/lib/python3.8/site-packages/torch/nn/modules/module.py\", line 1527, in _call_impl\n",
      "    return forward_call(*args, **kwargs)\n",
      "  File \"/Users/jjaniak/Documents/studia/projekt/gradient/notebooks/downstream_tasks/../../src/baseline_models/HeteroGNN/HeteroGNN.py\", line 59, in forward\n",
      "    value = self._forward(x_dict, edge_index_dict, edge_atrr_dict)\n",
      "  File \"/Users/jjaniak/Documents/studia/projekt/gradient/notebooks/downstream_tasks/../../src/baseline_models/HeteroGNN/HeteroGNN.py\", line 74, in _forward\n",
      "    x_dict = conv(x_dict, edge_index_dict, edge_atrr_dict)\n",
      "  File \"/Users/jjaniak/anaconda3/envs/studia_projekt/lib/python3.8/site-packages/torch/nn/modules/module.py\", line 1518, in _wrapped_call_impl\n",
      "    return self._call_impl(*args, **kwargs)\n",
      "  File \"/Users/jjaniak/anaconda3/envs/studia_projekt/lib/python3.8/site-packages/torch/nn/modules/module.py\", line 1527, in _call_impl\n",
      "    return forward_call(*args, **kwargs)\n",
      "  File \"/Users/jjaniak/anaconda3/envs/studia_projekt/lib/python3.8/site-packages/torch_geometric/nn/conv/hetero_conv.py\", line 159, in forward\n",
      "    out = self.convs[edge_type](*args, **kwargs)\n",
      "  File \"/Users/jjaniak/anaconda3/envs/studia_projekt/lib/python3.8/site-packages/torch/nn/modules/module.py\", line 1518, in _wrapped_call_impl\n",
      "    return self._call_impl(*args, **kwargs)\n",
      "  File \"/Users/jjaniak/anaconda3/envs/studia_projekt/lib/python3.8/site-packages/torch/nn/modules/module.py\", line 1527, in _call_impl\n",
      "    return forward_call(*args, **kwargs)\n",
      "  File \"/Users/jjaniak/anaconda3/envs/studia_projekt/lib/python3.8/site-packages/torch_geometric/nn/conv/gat_conv.py\", line 252, in forward\n",
      "    alpha = self.edge_updater(edge_index, alpha=alpha, edge_attr=edge_attr)\n",
      "  File \"/Users/jjaniak/anaconda3/envs/studia_projekt/lib/python3.8/site-packages/torch_geometric/nn/conv/message_passing.py\", line 527, in edge_updater\n",
      "    out = self.edge_update(**edge_kwargs)\n",
      "  File \"/Users/jjaniak/anaconda3/envs/studia_projekt/lib/python3.8/site-packages/torch_geometric/nn/conv/gat_conv.py\", line 295, in edge_update\n",
      "    alpha = softmax(alpha, index, ptr, size_i)\n",
      "  File \"/Users/jjaniak/anaconda3/envs/studia_projekt/lib/python3.8/site-packages/torch_geometric/utils/softmax.py\", line 65, in softmax\n",
      "    src_max = scatter(src.detach(), index, dim, dim_size=N, reduce='max')\n",
      "  File \"/Users/jjaniak/anaconda3/envs/studia_projekt/lib/python3.8/site-packages/torch_geometric/utils/scatter.py\", line 94, in scatter\n",
      "    return src.new_zeros(size).scatter_reduce_(\n",
      "NotImplementedError: The operator 'aten::scatter_reduce.two_out' is not currently implemented for the MPS device. If you want this op to be added in priority during the prototype phase of this feature, please comment on https://github.com/pytorch/pytorch/issues/77764. As a temporary fix, you can set the environment variable `PYTORCH_ENABLE_MPS_FALLBACK=1` to use the CPU as a fallback for this op. WARNING: this will be slower than running natively on MPS.\n",
      "\n",
      "\u001b[34m\u001b[1mwandb\u001b[0m: \u001b[32m\u001b[41mERROR\u001b[0m Run e3eodpv0 errored:\n",
      "\u001b[34m\u001b[1mwandb\u001b[0m: \u001b[32m\u001b[41mERROR\u001b[0m Traceback (most recent call last):\n",
      "\u001b[34m\u001b[1mwandb\u001b[0m: \u001b[32m\u001b[41mERROR\u001b[0m   File \"/Users/jjaniak/anaconda3/envs/studia_projekt/lib/python3.8/site-packages/wandb/agents/pyagent.py\", line 308, in _run_job\n",
      "\u001b[34m\u001b[1mwandb\u001b[0m: \u001b[32m\u001b[41mERROR\u001b[0m     self._function()\n",
      "\u001b[34m\u001b[1mwandb\u001b[0m: \u001b[32m\u001b[41mERROR\u001b[0m   File \"/var/folders/4k/8js3jm9n457cm4_v631zyrkw0000gn/T/ipykernel_25686/3559290024.py\", line 62, in wrapped\n",
      "\u001b[34m\u001b[1mwandb\u001b[0m: \u001b[32m\u001b[41mERROR\u001b[0m     auc, accuracy, f1, model_path = train(\n",
      "\u001b[34m\u001b[1mwandb\u001b[0m: \u001b[32m\u001b[41mERROR\u001b[0m   File \"/Users/jjaniak/Documents/studia/projekt/gradient/notebooks/downstream_tasks/../../src/training/train.py\", line 84, in train\n",
      "\u001b[34m\u001b[1mwandb\u001b[0m: \u001b[32m\u001b[41mERROR\u001b[0m     trainer.fit(model, train_loader, val_dataloaders=(val_loader or None))\n",
      "\u001b[34m\u001b[1mwandb\u001b[0m: \u001b[32m\u001b[41mERROR\u001b[0m   File \"/Users/jjaniak/anaconda3/envs/studia_projekt/lib/python3.8/site-packages/pytorch_lightning/trainer/trainer.py\", line 545, in fit\n",
      "\u001b[34m\u001b[1mwandb\u001b[0m: \u001b[32m\u001b[41mERROR\u001b[0m     call._call_and_handle_interrupt(\n",
      "\u001b[34m\u001b[1mwandb\u001b[0m: \u001b[32m\u001b[41mERROR\u001b[0m   File \"/Users/jjaniak/anaconda3/envs/studia_projekt/lib/python3.8/site-packages/pytorch_lightning/trainer/call.py\", line 44, in _call_and_handle_interrupt\n",
      "\u001b[34m\u001b[1mwandb\u001b[0m: \u001b[32m\u001b[41mERROR\u001b[0m     return trainer_fn(*args, **kwargs)\n",
      "\u001b[34m\u001b[1mwandb\u001b[0m: \u001b[32m\u001b[41mERROR\u001b[0m   File \"/Users/jjaniak/anaconda3/envs/studia_projekt/lib/python3.8/site-packages/pytorch_lightning/trainer/trainer.py\", line 581, in _fit_impl\n",
      "\u001b[34m\u001b[1mwandb\u001b[0m: \u001b[32m\u001b[41mERROR\u001b[0m     self._run(model, ckpt_path=ckpt_path)\n",
      "\u001b[34m\u001b[1mwandb\u001b[0m: \u001b[32m\u001b[41mERROR\u001b[0m   File \"/Users/jjaniak/anaconda3/envs/studia_projekt/lib/python3.8/site-packages/pytorch_lightning/trainer/trainer.py\", line 990, in _run\n",
      "\u001b[34m\u001b[1mwandb\u001b[0m: \u001b[32m\u001b[41mERROR\u001b[0m     results = self._run_stage()\n",
      "\u001b[34m\u001b[1mwandb\u001b[0m: \u001b[32m\u001b[41mERROR\u001b[0m   File \"/Users/jjaniak/anaconda3/envs/studia_projekt/lib/python3.8/site-packages/pytorch_lightning/trainer/trainer.py\", line 1034, in _run_stage\n",
      "\u001b[34m\u001b[1mwandb\u001b[0m: \u001b[32m\u001b[41mERROR\u001b[0m     self._run_sanity_check()\n",
      "\u001b[34m\u001b[1mwandb\u001b[0m: \u001b[32m\u001b[41mERROR\u001b[0m   File \"/Users/jjaniak/anaconda3/envs/studia_projekt/lib/python3.8/site-packages/pytorch_lightning/trainer/trainer.py\", line 1063, in _run_sanity_check\n",
      "\u001b[34m\u001b[1mwandb\u001b[0m: \u001b[32m\u001b[41mERROR\u001b[0m     val_loop.run()\n",
      "\u001b[34m\u001b[1mwandb\u001b[0m: \u001b[32m\u001b[41mERROR\u001b[0m   File \"/Users/jjaniak/anaconda3/envs/studia_projekt/lib/python3.8/site-packages/pytorch_lightning/loops/utilities.py\", line 181, in _decorator\n",
      "\u001b[34m\u001b[1mwandb\u001b[0m: \u001b[32m\u001b[41mERROR\u001b[0m     return loop_run(self, *args, **kwargs)\n",
      "\u001b[34m\u001b[1mwandb\u001b[0m: \u001b[32m\u001b[41mERROR\u001b[0m   File \"/Users/jjaniak/anaconda3/envs/studia_projekt/lib/python3.8/site-packages/pytorch_lightning/loops/evaluation_loop.py\", line 134, in run\n",
      "\u001b[34m\u001b[1mwandb\u001b[0m: \u001b[32m\u001b[41mERROR\u001b[0m     self._evaluation_step(batch, batch_idx, dataloader_idx, dataloader_iter)\n",
      "\u001b[34m\u001b[1mwandb\u001b[0m: \u001b[32m\u001b[41mERROR\u001b[0m   File \"/Users/jjaniak/anaconda3/envs/studia_projekt/lib/python3.8/site-packages/pytorch_lightning/loops/evaluation_loop.py\", line 391, in _evaluation_step\n",
      "\u001b[34m\u001b[1mwandb\u001b[0m: \u001b[32m\u001b[41mERROR\u001b[0m     output = call._call_strategy_hook(trainer, hook_name, *step_args)\n",
      "\u001b[34m\u001b[1mwandb\u001b[0m: \u001b[32m\u001b[41mERROR\u001b[0m   File \"/Users/jjaniak/anaconda3/envs/studia_projekt/lib/python3.8/site-packages/pytorch_lightning/trainer/call.py\", line 309, in _call_strategy_hook\n",
      "\u001b[34m\u001b[1mwandb\u001b[0m: \u001b[32m\u001b[41mERROR\u001b[0m     output = fn(*args, **kwargs)\n",
      "\u001b[34m\u001b[1mwandb\u001b[0m: \u001b[32m\u001b[41mERROR\u001b[0m   File \"/Users/jjaniak/anaconda3/envs/studia_projekt/lib/python3.8/site-packages/pytorch_lightning/strategies/strategy.py\", line 403, in validation_step\n",
      "\u001b[34m\u001b[1mwandb\u001b[0m: \u001b[32m\u001b[41mERROR\u001b[0m     return self.lightning_module.validation_step(*args, **kwargs)\n",
      "\u001b[34m\u001b[1mwandb\u001b[0m: \u001b[32m\u001b[41mERROR\u001b[0m   File \"/Users/jjaniak/Documents/studia/projekt/gradient/notebooks/downstream_tasks/../../src/lightning/hetero_gnn_module.py\", line 57, in validation_step\n",
      "\u001b[34m\u001b[1mwandb\u001b[0m: \u001b[32m\u001b[41mERROR\u001b[0m     y_hat = self.model(batch.x_dict, batch.edge_index_dict, batch.edge_attr_dict)\n",
      "\u001b[34m\u001b[1mwandb\u001b[0m: \u001b[32m\u001b[41mERROR\u001b[0m   File \"/Users/jjaniak/anaconda3/envs/studia_projekt/lib/python3.8/site-packages/torch/nn/modules/module.py\", line 1518, in _wrapped_call_impl\n",
      "\u001b[34m\u001b[1mwandb\u001b[0m: \u001b[32m\u001b[41mERROR\u001b[0m     return self._call_impl(*args, **kwargs)\n",
      "\u001b[34m\u001b[1mwandb\u001b[0m: \u001b[32m\u001b[41mERROR\u001b[0m   File \"/Users/jjaniak/anaconda3/envs/studia_projekt/lib/python3.8/site-packages/torch/nn/modules/module.py\", line 1527, in _call_impl\n",
      "\u001b[34m\u001b[1mwandb\u001b[0m: \u001b[32m\u001b[41mERROR\u001b[0m     return forward_call(*args, **kwargs)\n",
      "\u001b[34m\u001b[1mwandb\u001b[0m: \u001b[32m\u001b[41mERROR\u001b[0m   File \"/Users/jjaniak/Documents/studia/projekt/gradient/notebooks/downstream_tasks/../../src/baseline_models/HeteroGNN/HeteroGNN.py\", line 59, in forward\n",
      "\u001b[34m\u001b[1mwandb\u001b[0m: \u001b[32m\u001b[41mERROR\u001b[0m     value = self._forward(x_dict, edge_index_dict, edge_atrr_dict)\n",
      "\u001b[34m\u001b[1mwandb\u001b[0m: \u001b[32m\u001b[41mERROR\u001b[0m   File \"/Users/jjaniak/Documents/studia/projekt/gradient/notebooks/downstream_tasks/../../src/baseline_models/HeteroGNN/HeteroGNN.py\", line 74, in _forward\n",
      "\u001b[34m\u001b[1mwandb\u001b[0m: \u001b[32m\u001b[41mERROR\u001b[0m     x_dict = conv(x_dict, edge_index_dict, edge_atrr_dict)\n",
      "\u001b[34m\u001b[1mwandb\u001b[0m: \u001b[32m\u001b[41mERROR\u001b[0m   File \"/Users/jjaniak/anaconda3/envs/studia_projekt/lib/python3.8/site-packages/torch/nn/modules/module.py\", line 1518, in _wrapped_call_impl\n",
      "\u001b[34m\u001b[1mwandb\u001b[0m: \u001b[32m\u001b[41mERROR\u001b[0m     return self._call_impl(*args, **kwargs)\n",
      "\u001b[34m\u001b[1mwandb\u001b[0m: \u001b[32m\u001b[41mERROR\u001b[0m   File \"/Users/jjaniak/anaconda3/envs/studia_projekt/lib/python3.8/site-packages/torch/nn/modules/module.py\", line 1527, in _call_impl\n",
      "\u001b[34m\u001b[1mwandb\u001b[0m: \u001b[32m\u001b[41mERROR\u001b[0m     return forward_call(*args, **kwargs)\n",
      "\u001b[34m\u001b[1mwandb\u001b[0m: \u001b[32m\u001b[41mERROR\u001b[0m   File \"/Users/jjaniak/anaconda3/envs/studia_projekt/lib/python3.8/site-packages/torch_geometric/nn/conv/hetero_conv.py\", line 159, in forward\n",
      "\u001b[34m\u001b[1mwandb\u001b[0m: \u001b[32m\u001b[41mERROR\u001b[0m     out = self.convs[edge_type](*args, **kwargs)\n",
      "\u001b[34m\u001b[1mwandb\u001b[0m: \u001b[32m\u001b[41mERROR\u001b[0m   File \"/Users/jjaniak/anaconda3/envs/studia_projekt/lib/python3.8/site-packages/torch/nn/modules/module.py\", line 1518, in _wrapped_call_impl\n",
      "\u001b[34m\u001b[1mwandb\u001b[0m: \u001b[32m\u001b[41mERROR\u001b[0m     return self._call_impl(*args, **kwargs)\n",
      "\u001b[34m\u001b[1mwandb\u001b[0m: \u001b[32m\u001b[41mERROR\u001b[0m   File \"/Users/jjaniak/anaconda3/envs/studia_projekt/lib/python3.8/site-packages/torch/nn/modules/module.py\", line 1527, in _call_impl\n",
      "\u001b[34m\u001b[1mwandb\u001b[0m: \u001b[32m\u001b[41mERROR\u001b[0m     return forward_call(*args, **kwargs)\n",
      "\u001b[34m\u001b[1mwandb\u001b[0m: \u001b[32m\u001b[41mERROR\u001b[0m   File \"/Users/jjaniak/anaconda3/envs/studia_projekt/lib/python3.8/site-packages/torch_geometric/nn/conv/gat_conv.py\", line 252, in forward\n",
      "\u001b[34m\u001b[1mwandb\u001b[0m: \u001b[32m\u001b[41mERROR\u001b[0m     alpha = self.edge_updater(edge_index, alpha=alpha, edge_attr=edge_attr)\n",
      "\u001b[34m\u001b[1mwandb\u001b[0m: \u001b[32m\u001b[41mERROR\u001b[0m   File \"/Users/jjaniak/anaconda3/envs/studia_projekt/lib/python3.8/site-packages/torch_geometric/nn/conv/message_passing.py\", line 527, in edge_updater\n",
      "\u001b[34m\u001b[1mwandb\u001b[0m: \u001b[32m\u001b[41mERROR\u001b[0m     out = self.edge_update(**edge_kwargs)\n",
      "\u001b[34m\u001b[1mwandb\u001b[0m: \u001b[32m\u001b[41mERROR\u001b[0m   File \"/Users/jjaniak/anaconda3/envs/studia_projekt/lib/python3.8/site-packages/torch_geometric/nn/conv/gat_conv.py\", line 295, in edge_update\n",
      "\u001b[34m\u001b[1mwandb\u001b[0m: \u001b[32m\u001b[41mERROR\u001b[0m     alpha = softmax(alpha, index, ptr, size_i)\n",
      "\u001b[34m\u001b[1mwandb\u001b[0m: \u001b[32m\u001b[41mERROR\u001b[0m   File \"/Users/jjaniak/anaconda3/envs/studia_projekt/lib/python3.8/site-packages/torch_geometric/utils/softmax.py\", line 65, in softmax\n",
      "\u001b[34m\u001b[1mwandb\u001b[0m: \u001b[32m\u001b[41mERROR\u001b[0m     src_max = scatter(src.detach(), index, dim, dim_size=N, reduce='max')\n",
      "\u001b[34m\u001b[1mwandb\u001b[0m: \u001b[32m\u001b[41mERROR\u001b[0m   File \"/Users/jjaniak/anaconda3/envs/studia_projekt/lib/python3.8/site-packages/torch_geometric/utils/scatter.py\", line 94, in scatter\n",
      "\u001b[34m\u001b[1mwandb\u001b[0m: \u001b[32m\u001b[41mERROR\u001b[0m     return src.new_zeros(size).scatter_reduce_(\n",
      "\u001b[34m\u001b[1mwandb\u001b[0m: \u001b[32m\u001b[41mERROR\u001b[0m NotImplementedError: The operator 'aten::scatter_reduce.two_out' is not currently implemented for the MPS device. If you want this op to be added in priority during the prototype phase of this feature, please comment on https://github.com/pytorch/pytorch/issues/77764. As a temporary fix, you can set the environment variable `PYTORCH_ENABLE_MPS_FALLBACK=1` to use the CPU as a fallback for this op. WARNING: this will be slower than running natively on MPS.\n",
      "\u001b[34m\u001b[1mwandb\u001b[0m: \u001b[32m\u001b[41mERROR\u001b[0m \n",
      "\u001b[34m\u001b[1mwandb\u001b[0m: Agent Starting Run: uv33rwpt with config:\n",
      "\u001b[34m\u001b[1mwandb\u001b[0m: \thidden_channels: 40\n",
      "\u001b[34m\u001b[1mwandb\u001b[0m: \tlearning_rate: 0.004372562537653925\n",
      "\u001b[34m\u001b[1mwandb\u001b[0m: \tlin_layer_size: 32\n",
      "\u001b[34m\u001b[1mwandb\u001b[0m: \tnum_conv_layers: 2\n",
      "\u001b[34m\u001b[1mwandb\u001b[0m: \tnum_lin_layers: 1\n",
      "\u001b[34m\u001b[1mwandb\u001b[0m: \tweight_decay: 7.539612083469503e-05\n",
      "Failed to detect the name of this notebook, you can set it manually with the WANDB_NOTEBOOK_NAME environment variable to enable code saving.\n"
     ]
    },
    {
     "data": {
      "text/html": [
       "wandb version 0.17.1 is available!  To upgrade, please run:\n",
       " $ pip install wandb --upgrade"
      ],
      "text/plain": [
       "<IPython.core.display.HTML object>"
      ]
     },
     "metadata": {},
     "output_type": "display_data"
    },
    {
     "data": {
      "text/html": [
       "Tracking run with wandb version 0.16.4"
      ],
      "text/plain": [
       "<IPython.core.display.HTML object>"
      ]
     },
     "metadata": {},
     "output_type": "display_data"
    },
    {
     "data": {
      "text/html": [
       "Run data is saved locally in <code>/Users/jjaniak/Documents/studia/projekt/gradient/notebooks/downstream_tasks/wandb/run-20240607_180942-uv33rwpt</code>"
      ],
      "text/plain": [
       "<IPython.core.display.HTML object>"
      ]
     },
     "metadata": {},
     "output_type": "display_data"
    },
    {
     "data": {
      "text/html": [
       "Syncing run <strong><a href='https://wandb.ai/gradient_pwr/accidents-downstream-task-v2/runs/uv33rwpt' target=\"_blank\">laced-sweep-6</a></strong> to <a href='https://wandb.ai/gradient_pwr/accidents-downstream-task-v2' target=\"_blank\">Weights & Biases</a> (<a href='https://wandb.me/run' target=\"_blank\">docs</a>)<br/>Sweep page: <a href='https://wandb.ai/gradient_pwr/accidents-downstream-task-v2/sweeps/t34vfnwj' target=\"_blank\">https://wandb.ai/gradient_pwr/accidents-downstream-task-v2/sweeps/t34vfnwj</a>"
      ],
      "text/plain": [
       "<IPython.core.display.HTML object>"
      ]
     },
     "metadata": {},
     "output_type": "display_data"
    },
    {
     "data": {
      "text/html": [
       " View project at <a href='https://wandb.ai/gradient_pwr/accidents-downstream-task-v2' target=\"_blank\">https://wandb.ai/gradient_pwr/accidents-downstream-task-v2</a>"
      ],
      "text/plain": [
       "<IPython.core.display.HTML object>"
      ]
     },
     "metadata": {},
     "output_type": "display_data"
    },
    {
     "data": {
      "text/html": [
       " View sweep at <a href='https://wandb.ai/gradient_pwr/accidents-downstream-task-v2/sweeps/t34vfnwj' target=\"_blank\">https://wandb.ai/gradient_pwr/accidents-downstream-task-v2/sweeps/t34vfnwj</a>"
      ],
      "text/plain": [
       "<IPython.core.display.HTML object>"
      ]
     },
     "metadata": {},
     "output_type": "display_data"
    },
    {
     "data": {
      "text/html": [
       " View run at <a href='https://wandb.ai/gradient_pwr/accidents-downstream-task-v2/runs/uv33rwpt' target=\"_blank\">https://wandb.ai/gradient_pwr/accidents-downstream-task-v2/runs/uv33rwpt</a>"
      ],
      "text/plain": [
       "<IPython.core.display.HTML object>"
      ]
     },
     "metadata": {},
     "output_type": "display_data"
    },
    {
     "name": "stderr",
     "output_type": "stream",
     "text": [
      "/Users/jjaniak/anaconda3/envs/studia_projekt/lib/python3.8/site-packages/torch_geometric/deprecation.py:22: UserWarning: 'data.DataLoader' is deprecated, use 'loader.DataLoader' instead\n",
      "  warnings.warn(out)\n",
      "GPU available: True (mps), used: True\n",
      "TPU available: False, using: 0 TPU cores\n",
      "IPU available: False, using: 0 IPUs\n",
      "HPU available: False, using: 0 HPUs\n",
      "Missing logger folder: ../../gradient_logs/2024_06_07_18_09_48/lightning_logs\n",
      "\n",
      "  | Name  | Type      | Params\n",
      "------------------------------------\n",
      "0 | model | HeteroGNN | 19.6 K\n",
      "------------------------------------\n",
      "19.6 K    Trainable params\n",
      "0         Non-trainable params\n",
      "19.6 K    Total params\n",
      "0.078     Total estimated model params size (MB)\n"
     ]
    },
    {
     "data": {
      "application/vnd.jupyter.widget-view+json": {
       "model_id": "9f76224ce18c40c89b99008ee5ffae3f",
       "version_major": 2,
       "version_minor": 0
      },
      "text/plain": [
       "Sanity Checking: |          | 0/? [00:00<?, ?it/s]"
      ]
     },
     "metadata": {},
     "output_type": "display_data"
    },
    {
     "name": "stderr",
     "output_type": "stream",
     "text": [
      "/Users/jjaniak/anaconda3/envs/studia_projekt/lib/python3.8/site-packages/pytorch_lightning/trainer/connectors/data_connector.py:441: The 'val_dataloader' does not have many workers which may be a bottleneck. Consider increasing the value of the `num_workers` argument` to `num_workers=11` in the `DataLoader` to improve performance.\n"
     ]
    },
    {
     "data": {
      "application/vnd.jupyter.widget-view+json": {
       "model_id": "0a8c56f05bbd4ba59c79eb0f465888e2",
       "version_major": 2,
       "version_minor": 0
      },
      "text/plain": [
       "VBox(children=(Label(value='0.001 MB of 0.001 MB uploaded\\r'), FloatProgress(value=1.0, max=1.0)))"
      ]
     },
     "metadata": {},
     "output_type": "display_data"
    },
    {
     "data": {
      "text/html": [
       "<style>\n",
       "    table.wandb td:nth-child(1) { padding: 0 10px; text-align: left ; width: auto;} td:nth-child(2) {text-align: left ; width: 100%}\n",
       "    .wandb-row { display: flex; flex-direction: row; flex-wrap: wrap; justify-content: flex-start; width: 100% }\n",
       "    .wandb-col { display: flex; flex-direction: column; flex-basis: 100%; flex: 1; padding: 10px; }\n",
       "    </style>\n",
       "<div class=\"wandb-row\"><div class=\"wandb-col\"><h3>Run history:</h3><br/><table class=\"wandb\"><tr><td>USE_HEXES_ATTRS</td><td>▁</td></tr><tr><td>USE_ORTOPHOTO</td><td>▁</td></tr><tr><td>USE_OSMNX_ATTRS</td><td>▁</td></tr></table><br/></div><div class=\"wandb-col\"><h3>Run summary:</h3><br/><table class=\"wandb\"><tr><td>USE_HEXES_ATTRS</td><td>1</td></tr><tr><td>USE_ORTOPHOTO</td><td>0</td></tr><tr><td>USE_OSMNX_ATTRS</td><td>1</td></tr><tr><td>data_structure</td><td>graph</td></tr></table><br/></div></div>"
      ],
      "text/plain": [
       "<IPython.core.display.HTML object>"
      ]
     },
     "metadata": {},
     "output_type": "display_data"
    },
    {
     "data": {
      "text/html": [
       " View run <strong style=\"color:#cdcd00\">laced-sweep-6</strong> at: <a href='https://wandb.ai/gradient_pwr/accidents-downstream-task-v2/runs/uv33rwpt' target=\"_blank\">https://wandb.ai/gradient_pwr/accidents-downstream-task-v2/runs/uv33rwpt</a><br/>Synced 6 W&B file(s), 0 media file(s), 0 artifact file(s) and 0 other file(s)"
      ],
      "text/plain": [
       "<IPython.core.display.HTML object>"
      ]
     },
     "metadata": {},
     "output_type": "display_data"
    },
    {
     "data": {
      "text/html": [
       "Find logs at: <code>./wandb/run-20240607_180942-uv33rwpt/logs</code>"
      ],
      "text/plain": [
       "<IPython.core.display.HTML object>"
      ]
     },
     "metadata": {},
     "output_type": "display_data"
    },
    {
     "name": "stderr",
     "output_type": "stream",
     "text": [
      "Run uv33rwpt errored:\n",
      "Traceback (most recent call last):\n",
      "  File \"/Users/jjaniak/anaconda3/envs/studia_projekt/lib/python3.8/site-packages/wandb/agents/pyagent.py\", line 308, in _run_job\n",
      "    self._function()\n",
      "  File \"/var/folders/4k/8js3jm9n457cm4_v631zyrkw0000gn/T/ipykernel_25686/3559290024.py\", line 62, in wrapped\n",
      "    auc, accuracy, f1, model_path = train(\n",
      "  File \"/Users/jjaniak/Documents/studia/projekt/gradient/notebooks/downstream_tasks/../../src/training/train.py\", line 84, in train\n",
      "    trainer.fit(model, train_loader, val_dataloaders=(val_loader or None))\n",
      "  File \"/Users/jjaniak/anaconda3/envs/studia_projekt/lib/python3.8/site-packages/pytorch_lightning/trainer/trainer.py\", line 545, in fit\n",
      "    call._call_and_handle_interrupt(\n",
      "  File \"/Users/jjaniak/anaconda3/envs/studia_projekt/lib/python3.8/site-packages/pytorch_lightning/trainer/call.py\", line 44, in _call_and_handle_interrupt\n",
      "    return trainer_fn(*args, **kwargs)\n",
      "  File \"/Users/jjaniak/anaconda3/envs/studia_projekt/lib/python3.8/site-packages/pytorch_lightning/trainer/trainer.py\", line 581, in _fit_impl\n",
      "    self._run(model, ckpt_path=ckpt_path)\n",
      "  File \"/Users/jjaniak/anaconda3/envs/studia_projekt/lib/python3.8/site-packages/pytorch_lightning/trainer/trainer.py\", line 990, in _run\n",
      "    results = self._run_stage()\n",
      "  File \"/Users/jjaniak/anaconda3/envs/studia_projekt/lib/python3.8/site-packages/pytorch_lightning/trainer/trainer.py\", line 1034, in _run_stage\n",
      "    self._run_sanity_check()\n",
      "  File \"/Users/jjaniak/anaconda3/envs/studia_projekt/lib/python3.8/site-packages/pytorch_lightning/trainer/trainer.py\", line 1063, in _run_sanity_check\n",
      "    val_loop.run()\n",
      "  File \"/Users/jjaniak/anaconda3/envs/studia_projekt/lib/python3.8/site-packages/pytorch_lightning/loops/utilities.py\", line 181, in _decorator\n",
      "    return loop_run(self, *args, **kwargs)\n",
      "  File \"/Users/jjaniak/anaconda3/envs/studia_projekt/lib/python3.8/site-packages/pytorch_lightning/loops/evaluation_loop.py\", line 134, in run\n",
      "    self._evaluation_step(batch, batch_idx, dataloader_idx, dataloader_iter)\n",
      "  File \"/Users/jjaniak/anaconda3/envs/studia_projekt/lib/python3.8/site-packages/pytorch_lightning/loops/evaluation_loop.py\", line 391, in _evaluation_step\n",
      "    output = call._call_strategy_hook(trainer, hook_name, *step_args)\n",
      "  File \"/Users/jjaniak/anaconda3/envs/studia_projekt/lib/python3.8/site-packages/pytorch_lightning/trainer/call.py\", line 309, in _call_strategy_hook\n",
      "    output = fn(*args, **kwargs)\n",
      "  File \"/Users/jjaniak/anaconda3/envs/studia_projekt/lib/python3.8/site-packages/pytorch_lightning/strategies/strategy.py\", line 403, in validation_step\n",
      "    return self.lightning_module.validation_step(*args, **kwargs)\n",
      "  File \"/Users/jjaniak/Documents/studia/projekt/gradient/notebooks/downstream_tasks/../../src/lightning/hetero_gnn_module.py\", line 57, in validation_step\n",
      "    y_hat = self.model(batch.x_dict, batch.edge_index_dict, batch.edge_attr_dict)\n",
      "  File \"/Users/jjaniak/anaconda3/envs/studia_projekt/lib/python3.8/site-packages/torch/nn/modules/module.py\", line 1518, in _wrapped_call_impl\n",
      "    return self._call_impl(*args, **kwargs)\n",
      "  File \"/Users/jjaniak/anaconda3/envs/studia_projekt/lib/python3.8/site-packages/torch/nn/modules/module.py\", line 1527, in _call_impl\n",
      "    return forward_call(*args, **kwargs)\n",
      "  File \"/Users/jjaniak/Documents/studia/projekt/gradient/notebooks/downstream_tasks/../../src/baseline_models/HeteroGNN/HeteroGNN.py\", line 59, in forward\n",
      "    value = self._forward(x_dict, edge_index_dict, edge_atrr_dict)\n",
      "  File \"/Users/jjaniak/Documents/studia/projekt/gradient/notebooks/downstream_tasks/../../src/baseline_models/HeteroGNN/HeteroGNN.py\", line 74, in _forward\n",
      "    x_dict = conv(x_dict, edge_index_dict, edge_atrr_dict)\n",
      "  File \"/Users/jjaniak/anaconda3/envs/studia_projekt/lib/python3.8/site-packages/torch/nn/modules/module.py\", line 1518, in _wrapped_call_impl\n",
      "    return self._call_impl(*args, **kwargs)\n",
      "  File \"/Users/jjaniak/anaconda3/envs/studia_projekt/lib/python3.8/site-packages/torch/nn/modules/module.py\", line 1527, in _call_impl\n",
      "    return forward_call(*args, **kwargs)\n",
      "  File \"/Users/jjaniak/anaconda3/envs/studia_projekt/lib/python3.8/site-packages/torch_geometric/nn/conv/hetero_conv.py\", line 159, in forward\n",
      "    out = self.convs[edge_type](*args, **kwargs)\n",
      "  File \"/Users/jjaniak/anaconda3/envs/studia_projekt/lib/python3.8/site-packages/torch/nn/modules/module.py\", line 1518, in _wrapped_call_impl\n",
      "    return self._call_impl(*args, **kwargs)\n",
      "  File \"/Users/jjaniak/anaconda3/envs/studia_projekt/lib/python3.8/site-packages/torch/nn/modules/module.py\", line 1527, in _call_impl\n",
      "    return forward_call(*args, **kwargs)\n",
      "  File \"/Users/jjaniak/anaconda3/envs/studia_projekt/lib/python3.8/site-packages/torch_geometric/nn/conv/gat_conv.py\", line 252, in forward\n",
      "    alpha = self.edge_updater(edge_index, alpha=alpha, edge_attr=edge_attr)\n",
      "  File \"/Users/jjaniak/anaconda3/envs/studia_projekt/lib/python3.8/site-packages/torch_geometric/nn/conv/message_passing.py\", line 527, in edge_updater\n",
      "    out = self.edge_update(**edge_kwargs)\n",
      "  File \"/Users/jjaniak/anaconda3/envs/studia_projekt/lib/python3.8/site-packages/torch_geometric/nn/conv/gat_conv.py\", line 295, in edge_update\n",
      "    alpha = softmax(alpha, index, ptr, size_i)\n",
      "  File \"/Users/jjaniak/anaconda3/envs/studia_projekt/lib/python3.8/site-packages/torch_geometric/utils/softmax.py\", line 65, in softmax\n",
      "    src_max = scatter(src.detach(), index, dim, dim_size=N, reduce='max')\n",
      "  File \"/Users/jjaniak/anaconda3/envs/studia_projekt/lib/python3.8/site-packages/torch_geometric/utils/scatter.py\", line 94, in scatter\n",
      "    return src.new_zeros(size).scatter_reduce_(\n",
      "NotImplementedError: The operator 'aten::scatter_reduce.two_out' is not currently implemented for the MPS device. If you want this op to be added in priority during the prototype phase of this feature, please comment on https://github.com/pytorch/pytorch/issues/77764. As a temporary fix, you can set the environment variable `PYTORCH_ENABLE_MPS_FALLBACK=1` to use the CPU as a fallback for this op. WARNING: this will be slower than running natively on MPS.\n",
      "\n",
      "\u001b[34m\u001b[1mwandb\u001b[0m: \u001b[32m\u001b[41mERROR\u001b[0m Run uv33rwpt errored:\n",
      "\u001b[34m\u001b[1mwandb\u001b[0m: \u001b[32m\u001b[41mERROR\u001b[0m Traceback (most recent call last):\n",
      "\u001b[34m\u001b[1mwandb\u001b[0m: \u001b[32m\u001b[41mERROR\u001b[0m   File \"/Users/jjaniak/anaconda3/envs/studia_projekt/lib/python3.8/site-packages/wandb/agents/pyagent.py\", line 308, in _run_job\n",
      "\u001b[34m\u001b[1mwandb\u001b[0m: \u001b[32m\u001b[41mERROR\u001b[0m     self._function()\n",
      "\u001b[34m\u001b[1mwandb\u001b[0m: \u001b[32m\u001b[41mERROR\u001b[0m   File \"/var/folders/4k/8js3jm9n457cm4_v631zyrkw0000gn/T/ipykernel_25686/3559290024.py\", line 62, in wrapped\n",
      "\u001b[34m\u001b[1mwandb\u001b[0m: \u001b[32m\u001b[41mERROR\u001b[0m     auc, accuracy, f1, model_path = train(\n",
      "\u001b[34m\u001b[1mwandb\u001b[0m: \u001b[32m\u001b[41mERROR\u001b[0m   File \"/Users/jjaniak/Documents/studia/projekt/gradient/notebooks/downstream_tasks/../../src/training/train.py\", line 84, in train\n",
      "\u001b[34m\u001b[1mwandb\u001b[0m: \u001b[32m\u001b[41mERROR\u001b[0m     trainer.fit(model, train_loader, val_dataloaders=(val_loader or None))\n",
      "\u001b[34m\u001b[1mwandb\u001b[0m: \u001b[32m\u001b[41mERROR\u001b[0m   File \"/Users/jjaniak/anaconda3/envs/studia_projekt/lib/python3.8/site-packages/pytorch_lightning/trainer/trainer.py\", line 545, in fit\n",
      "\u001b[34m\u001b[1mwandb\u001b[0m: \u001b[32m\u001b[41mERROR\u001b[0m     call._call_and_handle_interrupt(\n",
      "\u001b[34m\u001b[1mwandb\u001b[0m: \u001b[32m\u001b[41mERROR\u001b[0m   File \"/Users/jjaniak/anaconda3/envs/studia_projekt/lib/python3.8/site-packages/pytorch_lightning/trainer/call.py\", line 44, in _call_and_handle_interrupt\n",
      "\u001b[34m\u001b[1mwandb\u001b[0m: \u001b[32m\u001b[41mERROR\u001b[0m     return trainer_fn(*args, **kwargs)\n",
      "\u001b[34m\u001b[1mwandb\u001b[0m: \u001b[32m\u001b[41mERROR\u001b[0m   File \"/Users/jjaniak/anaconda3/envs/studia_projekt/lib/python3.8/site-packages/pytorch_lightning/trainer/trainer.py\", line 581, in _fit_impl\n",
      "\u001b[34m\u001b[1mwandb\u001b[0m: \u001b[32m\u001b[41mERROR\u001b[0m     self._run(model, ckpt_path=ckpt_path)\n",
      "\u001b[34m\u001b[1mwandb\u001b[0m: \u001b[32m\u001b[41mERROR\u001b[0m   File \"/Users/jjaniak/anaconda3/envs/studia_projekt/lib/python3.8/site-packages/pytorch_lightning/trainer/trainer.py\", line 990, in _run\n",
      "\u001b[34m\u001b[1mwandb\u001b[0m: \u001b[32m\u001b[41mERROR\u001b[0m     results = self._run_stage()\n",
      "\u001b[34m\u001b[1mwandb\u001b[0m: \u001b[32m\u001b[41mERROR\u001b[0m   File \"/Users/jjaniak/anaconda3/envs/studia_projekt/lib/python3.8/site-packages/pytorch_lightning/trainer/trainer.py\", line 1034, in _run_stage\n",
      "\u001b[34m\u001b[1mwandb\u001b[0m: \u001b[32m\u001b[41mERROR\u001b[0m     self._run_sanity_check()\n",
      "\u001b[34m\u001b[1mwandb\u001b[0m: \u001b[32m\u001b[41mERROR\u001b[0m   File \"/Users/jjaniak/anaconda3/envs/studia_projekt/lib/python3.8/site-packages/pytorch_lightning/trainer/trainer.py\", line 1063, in _run_sanity_check\n",
      "\u001b[34m\u001b[1mwandb\u001b[0m: \u001b[32m\u001b[41mERROR\u001b[0m     val_loop.run()\n",
      "\u001b[34m\u001b[1mwandb\u001b[0m: \u001b[32m\u001b[41mERROR\u001b[0m   File \"/Users/jjaniak/anaconda3/envs/studia_projekt/lib/python3.8/site-packages/pytorch_lightning/loops/utilities.py\", line 181, in _decorator\n",
      "\u001b[34m\u001b[1mwandb\u001b[0m: \u001b[32m\u001b[41mERROR\u001b[0m     return loop_run(self, *args, **kwargs)\n",
      "\u001b[34m\u001b[1mwandb\u001b[0m: \u001b[32m\u001b[41mERROR\u001b[0m   File \"/Users/jjaniak/anaconda3/envs/studia_projekt/lib/python3.8/site-packages/pytorch_lightning/loops/evaluation_loop.py\", line 134, in run\n",
      "\u001b[34m\u001b[1mwandb\u001b[0m: \u001b[32m\u001b[41mERROR\u001b[0m     self._evaluation_step(batch, batch_idx, dataloader_idx, dataloader_iter)\n",
      "\u001b[34m\u001b[1mwandb\u001b[0m: \u001b[32m\u001b[41mERROR\u001b[0m   File \"/Users/jjaniak/anaconda3/envs/studia_projekt/lib/python3.8/site-packages/pytorch_lightning/loops/evaluation_loop.py\", line 391, in _evaluation_step\n",
      "\u001b[34m\u001b[1mwandb\u001b[0m: \u001b[32m\u001b[41mERROR\u001b[0m     output = call._call_strategy_hook(trainer, hook_name, *step_args)\n",
      "\u001b[34m\u001b[1mwandb\u001b[0m: \u001b[32m\u001b[41mERROR\u001b[0m   File \"/Users/jjaniak/anaconda3/envs/studia_projekt/lib/python3.8/site-packages/pytorch_lightning/trainer/call.py\", line 309, in _call_strategy_hook\n",
      "\u001b[34m\u001b[1mwandb\u001b[0m: \u001b[32m\u001b[41mERROR\u001b[0m     output = fn(*args, **kwargs)\n",
      "\u001b[34m\u001b[1mwandb\u001b[0m: \u001b[32m\u001b[41mERROR\u001b[0m   File \"/Users/jjaniak/anaconda3/envs/studia_projekt/lib/python3.8/site-packages/pytorch_lightning/strategies/strategy.py\", line 403, in validation_step\n",
      "\u001b[34m\u001b[1mwandb\u001b[0m: \u001b[32m\u001b[41mERROR\u001b[0m     return self.lightning_module.validation_step(*args, **kwargs)\n",
      "\u001b[34m\u001b[1mwandb\u001b[0m: \u001b[32m\u001b[41mERROR\u001b[0m   File \"/Users/jjaniak/Documents/studia/projekt/gradient/notebooks/downstream_tasks/../../src/lightning/hetero_gnn_module.py\", line 57, in validation_step\n",
      "\u001b[34m\u001b[1mwandb\u001b[0m: \u001b[32m\u001b[41mERROR\u001b[0m     y_hat = self.model(batch.x_dict, batch.edge_index_dict, batch.edge_attr_dict)\n",
      "\u001b[34m\u001b[1mwandb\u001b[0m: \u001b[32m\u001b[41mERROR\u001b[0m   File \"/Users/jjaniak/anaconda3/envs/studia_projekt/lib/python3.8/site-packages/torch/nn/modules/module.py\", line 1518, in _wrapped_call_impl\n",
      "\u001b[34m\u001b[1mwandb\u001b[0m: \u001b[32m\u001b[41mERROR\u001b[0m     return self._call_impl(*args, **kwargs)\n",
      "\u001b[34m\u001b[1mwandb\u001b[0m: \u001b[32m\u001b[41mERROR\u001b[0m   File \"/Users/jjaniak/anaconda3/envs/studia_projekt/lib/python3.8/site-packages/torch/nn/modules/module.py\", line 1527, in _call_impl\n",
      "\u001b[34m\u001b[1mwandb\u001b[0m: \u001b[32m\u001b[41mERROR\u001b[0m     return forward_call(*args, **kwargs)\n",
      "\u001b[34m\u001b[1mwandb\u001b[0m: \u001b[32m\u001b[41mERROR\u001b[0m   File \"/Users/jjaniak/Documents/studia/projekt/gradient/notebooks/downstream_tasks/../../src/baseline_models/HeteroGNN/HeteroGNN.py\", line 59, in forward\n",
      "\u001b[34m\u001b[1mwandb\u001b[0m: \u001b[32m\u001b[41mERROR\u001b[0m     value = self._forward(x_dict, edge_index_dict, edge_atrr_dict)\n",
      "\u001b[34m\u001b[1mwandb\u001b[0m: \u001b[32m\u001b[41mERROR\u001b[0m   File \"/Users/jjaniak/Documents/studia/projekt/gradient/notebooks/downstream_tasks/../../src/baseline_models/HeteroGNN/HeteroGNN.py\", line 74, in _forward\n",
      "\u001b[34m\u001b[1mwandb\u001b[0m: \u001b[32m\u001b[41mERROR\u001b[0m     x_dict = conv(x_dict, edge_index_dict, edge_atrr_dict)\n",
      "\u001b[34m\u001b[1mwandb\u001b[0m: \u001b[32m\u001b[41mERROR\u001b[0m   File \"/Users/jjaniak/anaconda3/envs/studia_projekt/lib/python3.8/site-packages/torch/nn/modules/module.py\", line 1518, in _wrapped_call_impl\n",
      "\u001b[34m\u001b[1mwandb\u001b[0m: \u001b[32m\u001b[41mERROR\u001b[0m     return self._call_impl(*args, **kwargs)\n",
      "\u001b[34m\u001b[1mwandb\u001b[0m: \u001b[32m\u001b[41mERROR\u001b[0m   File \"/Users/jjaniak/anaconda3/envs/studia_projekt/lib/python3.8/site-packages/torch/nn/modules/module.py\", line 1527, in _call_impl\n",
      "\u001b[34m\u001b[1mwandb\u001b[0m: \u001b[32m\u001b[41mERROR\u001b[0m     return forward_call(*args, **kwargs)\n",
      "\u001b[34m\u001b[1mwandb\u001b[0m: \u001b[32m\u001b[41mERROR\u001b[0m   File \"/Users/jjaniak/anaconda3/envs/studia_projekt/lib/python3.8/site-packages/torch_geometric/nn/conv/hetero_conv.py\", line 159, in forward\n",
      "\u001b[34m\u001b[1mwandb\u001b[0m: \u001b[32m\u001b[41mERROR\u001b[0m     out = self.convs[edge_type](*args, **kwargs)\n",
      "\u001b[34m\u001b[1mwandb\u001b[0m: \u001b[32m\u001b[41mERROR\u001b[0m   File \"/Users/jjaniak/anaconda3/envs/studia_projekt/lib/python3.8/site-packages/torch/nn/modules/module.py\", line 1518, in _wrapped_call_impl\n",
      "\u001b[34m\u001b[1mwandb\u001b[0m: \u001b[32m\u001b[41mERROR\u001b[0m     return self._call_impl(*args, **kwargs)\n",
      "\u001b[34m\u001b[1mwandb\u001b[0m: \u001b[32m\u001b[41mERROR\u001b[0m   File \"/Users/jjaniak/anaconda3/envs/studia_projekt/lib/python3.8/site-packages/torch/nn/modules/module.py\", line 1527, in _call_impl\n",
      "\u001b[34m\u001b[1mwandb\u001b[0m: \u001b[32m\u001b[41mERROR\u001b[0m     return forward_call(*args, **kwargs)\n",
      "\u001b[34m\u001b[1mwandb\u001b[0m: \u001b[32m\u001b[41mERROR\u001b[0m   File \"/Users/jjaniak/anaconda3/envs/studia_projekt/lib/python3.8/site-packages/torch_geometric/nn/conv/gat_conv.py\", line 252, in forward\n",
      "\u001b[34m\u001b[1mwandb\u001b[0m: \u001b[32m\u001b[41mERROR\u001b[0m     alpha = self.edge_updater(edge_index, alpha=alpha, edge_attr=edge_attr)\n",
      "\u001b[34m\u001b[1mwandb\u001b[0m: \u001b[32m\u001b[41mERROR\u001b[0m   File \"/Users/jjaniak/anaconda3/envs/studia_projekt/lib/python3.8/site-packages/torch_geometric/nn/conv/message_passing.py\", line 527, in edge_updater\n",
      "\u001b[34m\u001b[1mwandb\u001b[0m: \u001b[32m\u001b[41mERROR\u001b[0m     out = self.edge_update(**edge_kwargs)\n",
      "\u001b[34m\u001b[1mwandb\u001b[0m: \u001b[32m\u001b[41mERROR\u001b[0m   File \"/Users/jjaniak/anaconda3/envs/studia_projekt/lib/python3.8/site-packages/torch_geometric/nn/conv/gat_conv.py\", line 295, in edge_update\n",
      "\u001b[34m\u001b[1mwandb\u001b[0m: \u001b[32m\u001b[41mERROR\u001b[0m     alpha = softmax(alpha, index, ptr, size_i)\n",
      "\u001b[34m\u001b[1mwandb\u001b[0m: \u001b[32m\u001b[41mERROR\u001b[0m   File \"/Users/jjaniak/anaconda3/envs/studia_projekt/lib/python3.8/site-packages/torch_geometric/utils/softmax.py\", line 65, in softmax\n",
      "\u001b[34m\u001b[1mwandb\u001b[0m: \u001b[32m\u001b[41mERROR\u001b[0m     src_max = scatter(src.detach(), index, dim, dim_size=N, reduce='max')\n",
      "\u001b[34m\u001b[1mwandb\u001b[0m: \u001b[32m\u001b[41mERROR\u001b[0m   File \"/Users/jjaniak/anaconda3/envs/studia_projekt/lib/python3.8/site-packages/torch_geometric/utils/scatter.py\", line 94, in scatter\n",
      "\u001b[34m\u001b[1mwandb\u001b[0m: \u001b[32m\u001b[41mERROR\u001b[0m     return src.new_zeros(size).scatter_reduce_(\n",
      "\u001b[34m\u001b[1mwandb\u001b[0m: \u001b[32m\u001b[41mERROR\u001b[0m NotImplementedError: The operator 'aten::scatter_reduce.two_out' is not currently implemented for the MPS device. If you want this op to be added in priority during the prototype phase of this feature, please comment on https://github.com/pytorch/pytorch/issues/77764. As a temporary fix, you can set the environment variable `PYTORCH_ENABLE_MPS_FALLBACK=1` to use the CPU as a fallback for this op. WARNING: this will be slower than running natively on MPS.\n",
      "\u001b[34m\u001b[1mwandb\u001b[0m: \u001b[32m\u001b[41mERROR\u001b[0m \n",
      "Detected 5 failed runs in a row at start, killing sweep.\n",
      "\u001b[34m\u001b[1mwandb\u001b[0m: \u001b[32m\u001b[41mERROR\u001b[0m Detected 5 failed runs in a row at start, killing sweep.\n",
      "\u001b[34m\u001b[1mwandb\u001b[0m: To change this value set WANDB_AGENT_MAX_INITIAL_FAILURES=val\n"
     ]
    },
    {
     "name": "stdout",
     "output_type": "stream",
     "text": [
      "Sweep for config 4/4 in progress...\n"
     ]
    },
    {
     "name": "stderr",
     "output_type": "stream",
     "text": [
      "\u001b[34m\u001b[1mwandb\u001b[0m: \u001b[33mWARNING\u001b[0m If you're specifying your api key in code, ensure this code is not shared publicly.\n",
      "\u001b[34m\u001b[1mwandb\u001b[0m: \u001b[33mWARNING\u001b[0m Consider setting the WANDB_API_KEY environment variable, or running `wandb login` from the command line.\n",
      "\u001b[34m\u001b[1mwandb\u001b[0m: Appending key for api.wandb.ai to your netrc file: /Users/jjaniak/.netrc\n"
     ]
    },
    {
     "name": "stdout",
     "output_type": "stream",
     "text": [
      "Create sweep with ID: m8zigvbo\n",
      "Sweep URL: https://wandb.ai/gradient_pwr/accidents-downstream-task-v2/sweeps/m8zigvbo\n"
     ]
    },
    {
     "name": "stderr",
     "output_type": "stream",
     "text": [
      "\u001b[34m\u001b[1mwandb\u001b[0m: Agent Starting Run: mycj9ux4 with config:\n",
      "\u001b[34m\u001b[1mwandb\u001b[0m: \thidden_channels: 20\n",
      "\u001b[34m\u001b[1mwandb\u001b[0m: \tlearning_rate: 4.5284204996142113e-05\n",
      "\u001b[34m\u001b[1mwandb\u001b[0m: \tlin_layer_size: 16\n",
      "\u001b[34m\u001b[1mwandb\u001b[0m: \tnum_conv_layers: 2\n",
      "\u001b[34m\u001b[1mwandb\u001b[0m: \tnum_lin_layers: 0\n",
      "\u001b[34m\u001b[1mwandb\u001b[0m: \tweight_decay: 0.0005153212091023232\n",
      "Failed to detect the name of this notebook, you can set it manually with the WANDB_NOTEBOOK_NAME environment variable to enable code saving.\n"
     ]
    },
    {
     "data": {
      "text/html": [
       "wandb version 0.17.1 is available!  To upgrade, please run:\n",
       " $ pip install wandb --upgrade"
      ],
      "text/plain": [
       "<IPython.core.display.HTML object>"
      ]
     },
     "metadata": {},
     "output_type": "display_data"
    },
    {
     "data": {
      "text/html": [
       "Tracking run with wandb version 0.16.4"
      ],
      "text/plain": [
       "<IPython.core.display.HTML object>"
      ]
     },
     "metadata": {},
     "output_type": "display_data"
    },
    {
     "data": {
      "text/html": [
       "Run data is saved locally in <code>/Users/jjaniak/Documents/studia/projekt/gradient/notebooks/downstream_tasks/wandb/run-20240607_180958-mycj9ux4</code>"
      ],
      "text/plain": [
       "<IPython.core.display.HTML object>"
      ]
     },
     "metadata": {},
     "output_type": "display_data"
    },
    {
     "data": {
      "text/html": [
       "Syncing run <strong><a href='https://wandb.ai/gradient_pwr/accidents-downstream-task-v2/runs/mycj9ux4' target=\"_blank\">cool-sweep-1</a></strong> to <a href='https://wandb.ai/gradient_pwr/accidents-downstream-task-v2' target=\"_blank\">Weights & Biases</a> (<a href='https://wandb.me/run' target=\"_blank\">docs</a>)<br/>Sweep page: <a href='https://wandb.ai/gradient_pwr/accidents-downstream-task-v2/sweeps/m8zigvbo' target=\"_blank\">https://wandb.ai/gradient_pwr/accidents-downstream-task-v2/sweeps/m8zigvbo</a>"
      ],
      "text/plain": [
       "<IPython.core.display.HTML object>"
      ]
     },
     "metadata": {},
     "output_type": "display_data"
    },
    {
     "data": {
      "text/html": [
       " View project at <a href='https://wandb.ai/gradient_pwr/accidents-downstream-task-v2' target=\"_blank\">https://wandb.ai/gradient_pwr/accidents-downstream-task-v2</a>"
      ],
      "text/plain": [
       "<IPython.core.display.HTML object>"
      ]
     },
     "metadata": {},
     "output_type": "display_data"
    },
    {
     "data": {
      "text/html": [
       " View sweep at <a href='https://wandb.ai/gradient_pwr/accidents-downstream-task-v2/sweeps/m8zigvbo' target=\"_blank\">https://wandb.ai/gradient_pwr/accidents-downstream-task-v2/sweeps/m8zigvbo</a>"
      ],
      "text/plain": [
       "<IPython.core.display.HTML object>"
      ]
     },
     "metadata": {},
     "output_type": "display_data"
    },
    {
     "data": {
      "text/html": [
       " View run at <a href='https://wandb.ai/gradient_pwr/accidents-downstream-task-v2/runs/mycj9ux4' target=\"_blank\">https://wandb.ai/gradient_pwr/accidents-downstream-task-v2/runs/mycj9ux4</a>"
      ],
      "text/plain": [
       "<IPython.core.display.HTML object>"
      ]
     },
     "metadata": {},
     "output_type": "display_data"
    },
    {
     "name": "stderr",
     "output_type": "stream",
     "text": [
      "/Users/jjaniak/anaconda3/envs/studia_projekt/lib/python3.8/site-packages/torch_geometric/deprecation.py:22: UserWarning: 'data.DataLoader' is deprecated, use 'loader.DataLoader' instead\n",
      "  warnings.warn(out)\n",
      "GPU available: True (mps), used: True\n",
      "TPU available: False, using: 0 TPU cores\n",
      "IPU available: False, using: 0 IPUs\n",
      "HPU available: False, using: 0 HPUs\n",
      "Missing logger folder: ../../gradient_logs/2024_06_07_18_10_04/lightning_logs\n",
      "\n",
      "  | Name  | Type      | Params\n",
      "------------------------------------\n",
      "0 | model | HeteroGNN | 47.9 K\n",
      "------------------------------------\n",
      "47.9 K    Trainable params\n",
      "0         Non-trainable params\n",
      "47.9 K    Total params\n",
      "0.192     Total estimated model params size (MB)\n"
     ]
    },
    {
     "data": {
      "application/vnd.jupyter.widget-view+json": {
       "model_id": "18228447efff4765a70cd70baf3d6df1",
       "version_major": 2,
       "version_minor": 0
      },
      "text/plain": [
       "Sanity Checking: |          | 0/? [00:00<?, ?it/s]"
      ]
     },
     "metadata": {},
     "output_type": "display_data"
    },
    {
     "name": "stderr",
     "output_type": "stream",
     "text": [
      "/Users/jjaniak/anaconda3/envs/studia_projekt/lib/python3.8/site-packages/pytorch_lightning/trainer/connectors/data_connector.py:441: The 'val_dataloader' does not have many workers which may be a bottleneck. Consider increasing the value of the `num_workers` argument` to `num_workers=11` in the `DataLoader` to improve performance.\n"
     ]
    },
    {
     "data": {
      "application/vnd.jupyter.widget-view+json": {
       "model_id": "ab91b53031954c538c7a0c0e45f83a03",
       "version_major": 2,
       "version_minor": 0
      },
      "text/plain": [
       "VBox(children=(Label(value='237.849 MB of 237.849 MB uploaded\\r'), FloatProgress(value=1.0, max=1.0)))"
      ]
     },
     "metadata": {},
     "output_type": "display_data"
    },
    {
     "data": {
      "text/html": [
       "<style>\n",
       "    table.wandb td:nth-child(1) { padding: 0 10px; text-align: left ; width: auto;} td:nth-child(2) {text-align: left ; width: 100%}\n",
       "    .wandb-row { display: flex; flex-direction: row; flex-wrap: wrap; justify-content: flex-start; width: 100% }\n",
       "    .wandb-col { display: flex; flex-direction: column; flex-basis: 100%; flex: 1; padding: 10px; }\n",
       "    </style>\n",
       "<div class=\"wandb-row\"><div class=\"wandb-col\"><h3>Run history:</h3><br/><table class=\"wandb\"><tr><td>USE_HEXES_ATTRS</td><td>▁</td></tr><tr><td>USE_ORTOPHOTO</td><td>▁</td></tr><tr><td>USE_OSMNX_ATTRS</td><td>▁</td></tr></table><br/></div><div class=\"wandb-col\"><h3>Run summary:</h3><br/><table class=\"wandb\"><tr><td>USE_HEXES_ATTRS</td><td>1</td></tr><tr><td>USE_ORTOPHOTO</td><td>0</td></tr><tr><td>USE_OSMNX_ATTRS</td><td>1</td></tr><tr><td>data_structure</td><td>graph</td></tr></table><br/></div></div>"
      ],
      "text/plain": [
       "<IPython.core.display.HTML object>"
      ]
     },
     "metadata": {},
     "output_type": "display_data"
    },
    {
     "data": {
      "text/html": [
       " View run <strong style=\"color:#cdcd00\">cool-sweep-1</strong> at: <a href='https://wandb.ai/gradient_pwr/accidents-downstream-task-v2/runs/mycj9ux4' target=\"_blank\">https://wandb.ai/gradient_pwr/accidents-downstream-task-v2/runs/mycj9ux4</a><br/>Synced 6 W&B file(s), 0 media file(s), 1 artifact file(s) and 0 other file(s)"
      ],
      "text/plain": [
       "<IPython.core.display.HTML object>"
      ]
     },
     "metadata": {},
     "output_type": "display_data"
    },
    {
     "data": {
      "text/html": [
       "Find logs at: <code>./wandb/run-20240607_180958-mycj9ux4/logs</code>"
      ],
      "text/plain": [
       "<IPython.core.display.HTML object>"
      ]
     },
     "metadata": {},
     "output_type": "display_data"
    },
    {
     "name": "stderr",
     "output_type": "stream",
     "text": [
      "Run mycj9ux4 errored:\n",
      "Traceback (most recent call last):\n",
      "  File \"/Users/jjaniak/anaconda3/envs/studia_projekt/lib/python3.8/site-packages/wandb/agents/pyagent.py\", line 308, in _run_job\n",
      "    self._function()\n",
      "  File \"/var/folders/4k/8js3jm9n457cm4_v631zyrkw0000gn/T/ipykernel_25686/3559290024.py\", line 62, in wrapped\n",
      "    auc, accuracy, f1, model_path = train(\n",
      "  File \"/Users/jjaniak/Documents/studia/projekt/gradient/notebooks/downstream_tasks/../../src/training/train.py\", line 84, in train\n",
      "    trainer.fit(model, train_loader, val_dataloaders=(val_loader or None))\n",
      "  File \"/Users/jjaniak/anaconda3/envs/studia_projekt/lib/python3.8/site-packages/pytorch_lightning/trainer/trainer.py\", line 545, in fit\n",
      "    call._call_and_handle_interrupt(\n",
      "  File \"/Users/jjaniak/anaconda3/envs/studia_projekt/lib/python3.8/site-packages/pytorch_lightning/trainer/call.py\", line 44, in _call_and_handle_interrupt\n",
      "    return trainer_fn(*args, **kwargs)\n",
      "  File \"/Users/jjaniak/anaconda3/envs/studia_projekt/lib/python3.8/site-packages/pytorch_lightning/trainer/trainer.py\", line 581, in _fit_impl\n",
      "    self._run(model, ckpt_path=ckpt_path)\n",
      "  File \"/Users/jjaniak/anaconda3/envs/studia_projekt/lib/python3.8/site-packages/pytorch_lightning/trainer/trainer.py\", line 990, in _run\n",
      "    results = self._run_stage()\n",
      "  File \"/Users/jjaniak/anaconda3/envs/studia_projekt/lib/python3.8/site-packages/pytorch_lightning/trainer/trainer.py\", line 1034, in _run_stage\n",
      "    self._run_sanity_check()\n",
      "  File \"/Users/jjaniak/anaconda3/envs/studia_projekt/lib/python3.8/site-packages/pytorch_lightning/trainer/trainer.py\", line 1063, in _run_sanity_check\n",
      "    val_loop.run()\n",
      "  File \"/Users/jjaniak/anaconda3/envs/studia_projekt/lib/python3.8/site-packages/pytorch_lightning/loops/utilities.py\", line 181, in _decorator\n",
      "    return loop_run(self, *args, **kwargs)\n",
      "  File \"/Users/jjaniak/anaconda3/envs/studia_projekt/lib/python3.8/site-packages/pytorch_lightning/loops/evaluation_loop.py\", line 134, in run\n",
      "    self._evaluation_step(batch, batch_idx, dataloader_idx, dataloader_iter)\n",
      "  File \"/Users/jjaniak/anaconda3/envs/studia_projekt/lib/python3.8/site-packages/pytorch_lightning/loops/evaluation_loop.py\", line 391, in _evaluation_step\n",
      "    output = call._call_strategy_hook(trainer, hook_name, *step_args)\n",
      "  File \"/Users/jjaniak/anaconda3/envs/studia_projekt/lib/python3.8/site-packages/pytorch_lightning/trainer/call.py\", line 309, in _call_strategy_hook\n",
      "    output = fn(*args, **kwargs)\n",
      "  File \"/Users/jjaniak/anaconda3/envs/studia_projekt/lib/python3.8/site-packages/pytorch_lightning/strategies/strategy.py\", line 403, in validation_step\n",
      "    return self.lightning_module.validation_step(*args, **kwargs)\n",
      "  File \"/Users/jjaniak/Documents/studia/projekt/gradient/notebooks/downstream_tasks/../../src/lightning/hetero_gnn_module.py\", line 57, in validation_step\n",
      "    y_hat = self.model(batch.x_dict, batch.edge_index_dict, batch.edge_attr_dict)\n",
      "  File \"/Users/jjaniak/anaconda3/envs/studia_projekt/lib/python3.8/site-packages/torch/nn/modules/module.py\", line 1518, in _wrapped_call_impl\n",
      "    return self._call_impl(*args, **kwargs)\n",
      "  File \"/Users/jjaniak/anaconda3/envs/studia_projekt/lib/python3.8/site-packages/torch/nn/modules/module.py\", line 1527, in _call_impl\n",
      "    return forward_call(*args, **kwargs)\n",
      "  File \"/Users/jjaniak/Documents/studia/projekt/gradient/notebooks/downstream_tasks/../../src/baseline_models/HeteroGNN/HeteroGNN.py\", line 59, in forward\n",
      "    value = self._forward(x_dict, edge_index_dict, edge_atrr_dict)\n",
      "  File \"/Users/jjaniak/Documents/studia/projekt/gradient/notebooks/downstream_tasks/../../src/baseline_models/HeteroGNN/HeteroGNN.py\", line 74, in _forward\n",
      "    x_dict = conv(x_dict, edge_index_dict, edge_atrr_dict)\n",
      "  File \"/Users/jjaniak/anaconda3/envs/studia_projekt/lib/python3.8/site-packages/torch/nn/modules/module.py\", line 1518, in _wrapped_call_impl\n",
      "    return self._call_impl(*args, **kwargs)\n",
      "  File \"/Users/jjaniak/anaconda3/envs/studia_projekt/lib/python3.8/site-packages/torch/nn/modules/module.py\", line 1527, in _call_impl\n",
      "    return forward_call(*args, **kwargs)\n",
      "  File \"/Users/jjaniak/anaconda3/envs/studia_projekt/lib/python3.8/site-packages/torch_geometric/nn/conv/hetero_conv.py\", line 159, in forward\n",
      "    out = self.convs[edge_type](*args, **kwargs)\n",
      "  File \"/Users/jjaniak/anaconda3/envs/studia_projekt/lib/python3.8/site-packages/torch/nn/modules/module.py\", line 1518, in _wrapped_call_impl\n",
      "    return self._call_impl(*args, **kwargs)\n",
      "  File \"/Users/jjaniak/anaconda3/envs/studia_projekt/lib/python3.8/site-packages/torch/nn/modules/module.py\", line 1527, in _call_impl\n",
      "    return forward_call(*args, **kwargs)\n",
      "  File \"/Users/jjaniak/anaconda3/envs/studia_projekt/lib/python3.8/site-packages/torch_geometric/nn/conv/gat_conv.py\", line 252, in forward\n",
      "    alpha = self.edge_updater(edge_index, alpha=alpha, edge_attr=edge_attr)\n",
      "  File \"/Users/jjaniak/anaconda3/envs/studia_projekt/lib/python3.8/site-packages/torch_geometric/nn/conv/message_passing.py\", line 527, in edge_updater\n",
      "    out = self.edge_update(**edge_kwargs)\n",
      "  File \"/Users/jjaniak/anaconda3/envs/studia_projekt/lib/python3.8/site-packages/torch_geometric/nn/conv/gat_conv.py\", line 295, in edge_update\n",
      "    alpha = softmax(alpha, index, ptr, size_i)\n",
      "  File \"/Users/jjaniak/anaconda3/envs/studia_projekt/lib/python3.8/site-packages/torch_geometric/utils/softmax.py\", line 65, in softmax\n",
      "    src_max = scatter(src.detach(), index, dim, dim_size=N, reduce='max')\n",
      "  File \"/Users/jjaniak/anaconda3/envs/studia_projekt/lib/python3.8/site-packages/torch_geometric/utils/scatter.py\", line 94, in scatter\n",
      "    return src.new_zeros(size).scatter_reduce_(\n",
      "NotImplementedError: The operator 'aten::scatter_reduce.two_out' is not currently implemented for the MPS device. If you want this op to be added in priority during the prototype phase of this feature, please comment on https://github.com/pytorch/pytorch/issues/77764. As a temporary fix, you can set the environment variable `PYTORCH_ENABLE_MPS_FALLBACK=1` to use the CPU as a fallback for this op. WARNING: this will be slower than running natively on MPS.\n",
      "\n",
      "\u001b[34m\u001b[1mwandb\u001b[0m: \u001b[32m\u001b[41mERROR\u001b[0m Run mycj9ux4 errored:\n",
      "\u001b[34m\u001b[1mwandb\u001b[0m: \u001b[32m\u001b[41mERROR\u001b[0m Traceback (most recent call last):\n",
      "\u001b[34m\u001b[1mwandb\u001b[0m: \u001b[32m\u001b[41mERROR\u001b[0m   File \"/Users/jjaniak/anaconda3/envs/studia_projekt/lib/python3.8/site-packages/wandb/agents/pyagent.py\", line 308, in _run_job\n",
      "\u001b[34m\u001b[1mwandb\u001b[0m: \u001b[32m\u001b[41mERROR\u001b[0m     self._function()\n",
      "\u001b[34m\u001b[1mwandb\u001b[0m: \u001b[32m\u001b[41mERROR\u001b[0m   File \"/var/folders/4k/8js3jm9n457cm4_v631zyrkw0000gn/T/ipykernel_25686/3559290024.py\", line 62, in wrapped\n",
      "\u001b[34m\u001b[1mwandb\u001b[0m: \u001b[32m\u001b[41mERROR\u001b[0m     auc, accuracy, f1, model_path = train(\n",
      "\u001b[34m\u001b[1mwandb\u001b[0m: \u001b[32m\u001b[41mERROR\u001b[0m   File \"/Users/jjaniak/Documents/studia/projekt/gradient/notebooks/downstream_tasks/../../src/training/train.py\", line 84, in train\n",
      "\u001b[34m\u001b[1mwandb\u001b[0m: \u001b[32m\u001b[41mERROR\u001b[0m     trainer.fit(model, train_loader, val_dataloaders=(val_loader or None))\n",
      "\u001b[34m\u001b[1mwandb\u001b[0m: \u001b[32m\u001b[41mERROR\u001b[0m   File \"/Users/jjaniak/anaconda3/envs/studia_projekt/lib/python3.8/site-packages/pytorch_lightning/trainer/trainer.py\", line 545, in fit\n",
      "\u001b[34m\u001b[1mwandb\u001b[0m: \u001b[32m\u001b[41mERROR\u001b[0m     call._call_and_handle_interrupt(\n",
      "\u001b[34m\u001b[1mwandb\u001b[0m: \u001b[32m\u001b[41mERROR\u001b[0m   File \"/Users/jjaniak/anaconda3/envs/studia_projekt/lib/python3.8/site-packages/pytorch_lightning/trainer/call.py\", line 44, in _call_and_handle_interrupt\n",
      "\u001b[34m\u001b[1mwandb\u001b[0m: \u001b[32m\u001b[41mERROR\u001b[0m     return trainer_fn(*args, **kwargs)\n",
      "\u001b[34m\u001b[1mwandb\u001b[0m: \u001b[32m\u001b[41mERROR\u001b[0m   File \"/Users/jjaniak/anaconda3/envs/studia_projekt/lib/python3.8/site-packages/pytorch_lightning/trainer/trainer.py\", line 581, in _fit_impl\n",
      "\u001b[34m\u001b[1mwandb\u001b[0m: \u001b[32m\u001b[41mERROR\u001b[0m     self._run(model, ckpt_path=ckpt_path)\n",
      "\u001b[34m\u001b[1mwandb\u001b[0m: \u001b[32m\u001b[41mERROR\u001b[0m   File \"/Users/jjaniak/anaconda3/envs/studia_projekt/lib/python3.8/site-packages/pytorch_lightning/trainer/trainer.py\", line 990, in _run\n",
      "\u001b[34m\u001b[1mwandb\u001b[0m: \u001b[32m\u001b[41mERROR\u001b[0m     results = self._run_stage()\n",
      "\u001b[34m\u001b[1mwandb\u001b[0m: \u001b[32m\u001b[41mERROR\u001b[0m   File \"/Users/jjaniak/anaconda3/envs/studia_projekt/lib/python3.8/site-packages/pytorch_lightning/trainer/trainer.py\", line 1034, in _run_stage\n",
      "\u001b[34m\u001b[1mwandb\u001b[0m: \u001b[32m\u001b[41mERROR\u001b[0m     self._run_sanity_check()\n",
      "\u001b[34m\u001b[1mwandb\u001b[0m: \u001b[32m\u001b[41mERROR\u001b[0m   File \"/Users/jjaniak/anaconda3/envs/studia_projekt/lib/python3.8/site-packages/pytorch_lightning/trainer/trainer.py\", line 1063, in _run_sanity_check\n",
      "\u001b[34m\u001b[1mwandb\u001b[0m: \u001b[32m\u001b[41mERROR\u001b[0m     val_loop.run()\n",
      "\u001b[34m\u001b[1mwandb\u001b[0m: \u001b[32m\u001b[41mERROR\u001b[0m   File \"/Users/jjaniak/anaconda3/envs/studia_projekt/lib/python3.8/site-packages/pytorch_lightning/loops/utilities.py\", line 181, in _decorator\n",
      "\u001b[34m\u001b[1mwandb\u001b[0m: \u001b[32m\u001b[41mERROR\u001b[0m     return loop_run(self, *args, **kwargs)\n",
      "\u001b[34m\u001b[1mwandb\u001b[0m: \u001b[32m\u001b[41mERROR\u001b[0m   File \"/Users/jjaniak/anaconda3/envs/studia_projekt/lib/python3.8/site-packages/pytorch_lightning/loops/evaluation_loop.py\", line 134, in run\n",
      "\u001b[34m\u001b[1mwandb\u001b[0m: \u001b[32m\u001b[41mERROR\u001b[0m     self._evaluation_step(batch, batch_idx, dataloader_idx, dataloader_iter)\n",
      "\u001b[34m\u001b[1mwandb\u001b[0m: \u001b[32m\u001b[41mERROR\u001b[0m   File \"/Users/jjaniak/anaconda3/envs/studia_projekt/lib/python3.8/site-packages/pytorch_lightning/loops/evaluation_loop.py\", line 391, in _evaluation_step\n",
      "\u001b[34m\u001b[1mwandb\u001b[0m: \u001b[32m\u001b[41mERROR\u001b[0m     output = call._call_strategy_hook(trainer, hook_name, *step_args)\n",
      "\u001b[34m\u001b[1mwandb\u001b[0m: \u001b[32m\u001b[41mERROR\u001b[0m   File \"/Users/jjaniak/anaconda3/envs/studia_projekt/lib/python3.8/site-packages/pytorch_lightning/trainer/call.py\", line 309, in _call_strategy_hook\n",
      "\u001b[34m\u001b[1mwandb\u001b[0m: \u001b[32m\u001b[41mERROR\u001b[0m     output = fn(*args, **kwargs)\n",
      "\u001b[34m\u001b[1mwandb\u001b[0m: \u001b[32m\u001b[41mERROR\u001b[0m   File \"/Users/jjaniak/anaconda3/envs/studia_projekt/lib/python3.8/site-packages/pytorch_lightning/strategies/strategy.py\", line 403, in validation_step\n",
      "\u001b[34m\u001b[1mwandb\u001b[0m: \u001b[32m\u001b[41mERROR\u001b[0m     return self.lightning_module.validation_step(*args, **kwargs)\n",
      "\u001b[34m\u001b[1mwandb\u001b[0m: \u001b[32m\u001b[41mERROR\u001b[0m   File \"/Users/jjaniak/Documents/studia/projekt/gradient/notebooks/downstream_tasks/../../src/lightning/hetero_gnn_module.py\", line 57, in validation_step\n",
      "\u001b[34m\u001b[1mwandb\u001b[0m: \u001b[32m\u001b[41mERROR\u001b[0m     y_hat = self.model(batch.x_dict, batch.edge_index_dict, batch.edge_attr_dict)\n",
      "\u001b[34m\u001b[1mwandb\u001b[0m: \u001b[32m\u001b[41mERROR\u001b[0m   File \"/Users/jjaniak/anaconda3/envs/studia_projekt/lib/python3.8/site-packages/torch/nn/modules/module.py\", line 1518, in _wrapped_call_impl\n",
      "\u001b[34m\u001b[1mwandb\u001b[0m: \u001b[32m\u001b[41mERROR\u001b[0m     return self._call_impl(*args, **kwargs)\n",
      "\u001b[34m\u001b[1mwandb\u001b[0m: \u001b[32m\u001b[41mERROR\u001b[0m   File \"/Users/jjaniak/anaconda3/envs/studia_projekt/lib/python3.8/site-packages/torch/nn/modules/module.py\", line 1527, in _call_impl\n",
      "\u001b[34m\u001b[1mwandb\u001b[0m: \u001b[32m\u001b[41mERROR\u001b[0m     return forward_call(*args, **kwargs)\n",
      "\u001b[34m\u001b[1mwandb\u001b[0m: \u001b[32m\u001b[41mERROR\u001b[0m   File \"/Users/jjaniak/Documents/studia/projekt/gradient/notebooks/downstream_tasks/../../src/baseline_models/HeteroGNN/HeteroGNN.py\", line 59, in forward\n",
      "\u001b[34m\u001b[1mwandb\u001b[0m: \u001b[32m\u001b[41mERROR\u001b[0m     value = self._forward(x_dict, edge_index_dict, edge_atrr_dict)\n",
      "\u001b[34m\u001b[1mwandb\u001b[0m: \u001b[32m\u001b[41mERROR\u001b[0m   File \"/Users/jjaniak/Documents/studia/projekt/gradient/notebooks/downstream_tasks/../../src/baseline_models/HeteroGNN/HeteroGNN.py\", line 74, in _forward\n",
      "\u001b[34m\u001b[1mwandb\u001b[0m: \u001b[32m\u001b[41mERROR\u001b[0m     x_dict = conv(x_dict, edge_index_dict, edge_atrr_dict)\n",
      "\u001b[34m\u001b[1mwandb\u001b[0m: \u001b[32m\u001b[41mERROR\u001b[0m   File \"/Users/jjaniak/anaconda3/envs/studia_projekt/lib/python3.8/site-packages/torch/nn/modules/module.py\", line 1518, in _wrapped_call_impl\n",
      "\u001b[34m\u001b[1mwandb\u001b[0m: \u001b[32m\u001b[41mERROR\u001b[0m     return self._call_impl(*args, **kwargs)\n",
      "\u001b[34m\u001b[1mwandb\u001b[0m: \u001b[32m\u001b[41mERROR\u001b[0m   File \"/Users/jjaniak/anaconda3/envs/studia_projekt/lib/python3.8/site-packages/torch/nn/modules/module.py\", line 1527, in _call_impl\n",
      "\u001b[34m\u001b[1mwandb\u001b[0m: \u001b[32m\u001b[41mERROR\u001b[0m     return forward_call(*args, **kwargs)\n",
      "\u001b[34m\u001b[1mwandb\u001b[0m: \u001b[32m\u001b[41mERROR\u001b[0m   File \"/Users/jjaniak/anaconda3/envs/studia_projekt/lib/python3.8/site-packages/torch_geometric/nn/conv/hetero_conv.py\", line 159, in forward\n",
      "\u001b[34m\u001b[1mwandb\u001b[0m: \u001b[32m\u001b[41mERROR\u001b[0m     out = self.convs[edge_type](*args, **kwargs)\n",
      "\u001b[34m\u001b[1mwandb\u001b[0m: \u001b[32m\u001b[41mERROR\u001b[0m   File \"/Users/jjaniak/anaconda3/envs/studia_projekt/lib/python3.8/site-packages/torch/nn/modules/module.py\", line 1518, in _wrapped_call_impl\n",
      "\u001b[34m\u001b[1mwandb\u001b[0m: \u001b[32m\u001b[41mERROR\u001b[0m     return self._call_impl(*args, **kwargs)\n",
      "\u001b[34m\u001b[1mwandb\u001b[0m: \u001b[32m\u001b[41mERROR\u001b[0m   File \"/Users/jjaniak/anaconda3/envs/studia_projekt/lib/python3.8/site-packages/torch/nn/modules/module.py\", line 1527, in _call_impl\n",
      "\u001b[34m\u001b[1mwandb\u001b[0m: \u001b[32m\u001b[41mERROR\u001b[0m     return forward_call(*args, **kwargs)\n",
      "\u001b[34m\u001b[1mwandb\u001b[0m: \u001b[32m\u001b[41mERROR\u001b[0m   File \"/Users/jjaniak/anaconda3/envs/studia_projekt/lib/python3.8/site-packages/torch_geometric/nn/conv/gat_conv.py\", line 252, in forward\n",
      "\u001b[34m\u001b[1mwandb\u001b[0m: \u001b[32m\u001b[41mERROR\u001b[0m     alpha = self.edge_updater(edge_index, alpha=alpha, edge_attr=edge_attr)\n",
      "\u001b[34m\u001b[1mwandb\u001b[0m: \u001b[32m\u001b[41mERROR\u001b[0m   File \"/Users/jjaniak/anaconda3/envs/studia_projekt/lib/python3.8/site-packages/torch_geometric/nn/conv/message_passing.py\", line 527, in edge_updater\n",
      "\u001b[34m\u001b[1mwandb\u001b[0m: \u001b[32m\u001b[41mERROR\u001b[0m     out = self.edge_update(**edge_kwargs)\n",
      "\u001b[34m\u001b[1mwandb\u001b[0m: \u001b[32m\u001b[41mERROR\u001b[0m   File \"/Users/jjaniak/anaconda3/envs/studia_projekt/lib/python3.8/site-packages/torch_geometric/nn/conv/gat_conv.py\", line 295, in edge_update\n",
      "\u001b[34m\u001b[1mwandb\u001b[0m: \u001b[32m\u001b[41mERROR\u001b[0m     alpha = softmax(alpha, index, ptr, size_i)\n",
      "\u001b[34m\u001b[1mwandb\u001b[0m: \u001b[32m\u001b[41mERROR\u001b[0m   File \"/Users/jjaniak/anaconda3/envs/studia_projekt/lib/python3.8/site-packages/torch_geometric/utils/softmax.py\", line 65, in softmax\n",
      "\u001b[34m\u001b[1mwandb\u001b[0m: \u001b[32m\u001b[41mERROR\u001b[0m     src_max = scatter(src.detach(), index, dim, dim_size=N, reduce='max')\n",
      "\u001b[34m\u001b[1mwandb\u001b[0m: \u001b[32m\u001b[41mERROR\u001b[0m   File \"/Users/jjaniak/anaconda3/envs/studia_projekt/lib/python3.8/site-packages/torch_geometric/utils/scatter.py\", line 94, in scatter\n",
      "\u001b[34m\u001b[1mwandb\u001b[0m: \u001b[32m\u001b[41mERROR\u001b[0m     return src.new_zeros(size).scatter_reduce_(\n",
      "\u001b[34m\u001b[1mwandb\u001b[0m: \u001b[32m\u001b[41mERROR\u001b[0m NotImplementedError: The operator 'aten::scatter_reduce.two_out' is not currently implemented for the MPS device. If you want this op to be added in priority during the prototype phase of this feature, please comment on https://github.com/pytorch/pytorch/issues/77764. As a temporary fix, you can set the environment variable `PYTORCH_ENABLE_MPS_FALLBACK=1` to use the CPU as a fallback for this op. WARNING: this will be slower than running natively on MPS.\n",
      "\u001b[34m\u001b[1mwandb\u001b[0m: \u001b[32m\u001b[41mERROR\u001b[0m \n",
      "\u001b[34m\u001b[1mwandb\u001b[0m: Agent Starting Run: wxk1wf9n with config:\n",
      "\u001b[34m\u001b[1mwandb\u001b[0m: \thidden_channels: 10\n",
      "\u001b[34m\u001b[1mwandb\u001b[0m: \tlearning_rate: 1.794202274118097e-05\n",
      "\u001b[34m\u001b[1mwandb\u001b[0m: \tlin_layer_size: 128\n",
      "\u001b[34m\u001b[1mwandb\u001b[0m: \tnum_conv_layers: 4\n",
      "\u001b[34m\u001b[1mwandb\u001b[0m: \tnum_lin_layers: 3\n",
      "\u001b[34m\u001b[1mwandb\u001b[0m: \tweight_decay: 0.00014670873749171302\n",
      "Failed to detect the name of this notebook, you can set it manually with the WANDB_NOTEBOOK_NAME environment variable to enable code saving.\n",
      "\u001b[34m\u001b[1mwandb\u001b[0m: Ctrl + C detected. Stopping sweep.\n"
     ]
    },
    {
     "name": "stdout",
     "output_type": "stream",
     "text": [
      "Problem at: /var/folders/4k/8js3jm9n457cm4_v631zyrkw0000gn/T/ipykernel_25686/3559290024.py 4 wrapped\n"
     ]
    },
    {
     "name": "stderr",
     "output_type": "stream",
     "text": [
      "Traceback (most recent call last):\n",
      "  File \"/Users/jjaniak/anaconda3/envs/studia_projekt/lib/python3.8/site-packages/wandb/sdk/wandb_init.py\", line 1176, in init\n",
      "    run = wi.init()\n",
      "  File \"/Users/jjaniak/anaconda3/envs/studia_projekt/lib/python3.8/site-packages/wandb/sdk/wandb_init.py\", line 817, in init\n",
      "    run_start_result = run_start_handle.wait(timeout=30)\n",
      "  File \"/Users/jjaniak/anaconda3/envs/studia_projekt/lib/python3.8/site-packages/wandb/sdk/lib/mailbox.py\", line 283, in wait\n",
      "    found, abandoned = self._slot._get_and_clear(timeout=wait_timeout)\n",
      "  File \"/Users/jjaniak/anaconda3/envs/studia_projekt/lib/python3.8/site-packages/wandb/sdk/lib/mailbox.py\", line 130, in _get_and_clear\n",
      "    if self._wait(timeout=timeout):\n",
      "  File \"/Users/jjaniak/anaconda3/envs/studia_projekt/lib/python3.8/site-packages/wandb/sdk/lib/mailbox.py\", line 126, in _wait\n",
      "    return self._event.wait(timeout=timeout)\n",
      "  File \"/Users/jjaniak/anaconda3/envs/studia_projekt/lib/python3.8/threading.py\", line 558, in wait\n",
      "    signaled = self._cond.wait(timeout)\n",
      "  File \"/Users/jjaniak/anaconda3/envs/studia_projekt/lib/python3.8/threading.py\", line 306, in wait\n",
      "    gotit = waiter.acquire(True, timeout)\n",
      "Exception\n"
     ]
    }
   ],
   "source": [
    "from typing import Any, Dict\n",
    "\n",
    "def derive_data_structure(attr_config):\n",
    "    if attr_config[\"USE_OSMNX_ATTRS\"]:\n",
    "        return \"graph\"\n",
    "    return \"tabular\"\n",
    "\n",
    "\n",
    "configs_size = len(ATTRIBUTES_CONFIGURATIONS)\n",
    "\n",
    "for index, attr_config in enumerate(ATTRIBUTES_CONFIGURATIONS):\n",
    "    print(\"Sweep for config {}/{} in progress...\".format(index + 1, configs_size))\n",
    "\n",
    "    # assert \"USE_ORTOPHOTO\" in attr_config, \"Provide USE_ORTOPHOTO key\"\n",
    "    # assert \"USE_HEXES_ATTRS\" in attr_config, \"Provide USE_HEXES_ATTRS key\"\n",
    "    # assert \"USE_OSMNX_ATTRS\" in attr_config, \"Provide USE_OSMNX_ATTRS key\"\n",
    "\n",
    "    data_structure = derive_data_structure(attr_config)\n",
    "    \n",
    "    creator_params: Dict[str, Any] = dict(\n",
    "        use_hexes_attr=bool(attr_config[\"USE_HEXES_ATTRS\"]),\n",
    "    )\n",
    "    \n",
    "    \n",
    "    if isinstance(attr_config[\"USE_HEXES_ATTRS\"], dict):\n",
    "        hex_fi_config = attr_config[\"USE_HEXES_ATTRS\"]\n",
    "        hex_features = pd.read_json(\n",
    "            f\"{HEX_FI_LOCATION}/accidents_top_{hex_fi_config['NUM_FEATURES']}_percent_{hex_fi_config['IN_PERCENT']}.json\"\n",
    "        )\n",
    "        hex_features = hex_features[\"top_values\"].tolist()\n",
    "        creator_params[\"columns_to_take\"] = hex_features\n",
    "    elif attr_config[\"USE_HEXES_ATTRS\"] == True:\n",
    "        creator_params[\"columns_to_take\"] = \"all\"    \n",
    "    \n",
    "    if data_structure == \"graph\":\n",
    "        graph_data_dict = {\n",
    "            city_name: create_graph_data(\n",
    "                hexes=gdfs[\"hexes\"],\n",
    "                controller=cast(GraphLayerController, gdfs[\"controller\"]),\n",
    "                osmnx_edges=gdfs[\"osmnx_edges\"],\n",
    "                osmnx_nodes=gdfs[\"osmnx_nodes\"],\n",
    "                use_ortophoto=attr_config[\"USE_ORTOPHOTO\"],\n",
    "                **creator_params,\n",
    "            )\n",
    "            for city_name, gdfs in gdfs_dict.items()\n",
    "        }\n",
    "        run_sweep_graph_data(attr_config)\n",
    "    elif data_structure == \"tabular\":\n",
    "        tabular_data_dict = {\n",
    "            city_name: create_tabular_data(\n",
    "                hexes=gdfs[\"hexes\"],\n",
    "                controller=cast(GraphLayerController, gdfs[\"controller\"]),\n",
    "                use_ortophoto=attr_config[\"USE_ORTOPHOTO\"],\n",
    "                **creator_params,\n",
    "            )\n",
    "            for city_name, gdfs in gdfs_dict.items()\n",
    "        }\n",
    "        run_sweep_tabular_data(attr_config)\n",
    "    else:\n",
    "        raise ValueError(\"Unknown data structure\")"
   ]
  }
 ],
 "metadata": {
  "kernelspec": {
   "display_name": "Python 3",
   "language": "python",
   "name": "python3"
  },
  "language_info": {
   "codemirror_mode": {
    "name": "ipython",
    "version": 3
   },
   "file_extension": ".py",
   "mimetype": "text/x-python",
   "name": "python",
   "nbconvert_exporter": "python",
   "pygments_lexer": "ipython3",
   "version": "3.8.18"
  }
 },
 "nbformat": 4,
 "nbformat_minor": 5
}
