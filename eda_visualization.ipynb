{
  "cells": [
    {
      "cell_type": "markdown",
      "metadata": {
        "id": "9dcg4OuSvEFr"
      },
      "source": [
        "# Dane (eda.ipynb)\n",
        "Dane o wypadkach (https://geoportal.wroclaw.pl/zasoby/?zasob=wypadki_kolizje)"
      ]
    },
    {
      "cell_type": "code",
      "execution_count": null,
      "metadata": {
        "id": "LmSgirUIunNr"
      },
      "outputs": [],
      "source": [
        "import pandas as pd\n",
        "import geopandas as gpd"
      ]
    },
    {
      "cell_type": "code",
      "execution_count": null,
      "metadata": {
        "id": "Tg-xQU1xvWN4"
      },
      "outputs": [],
      "source": [
        "# gdf = gpd.read_file(\"./data/wypadki/2023_szczegoly_zdarzen_dr.shx\")\n",
        "gdf = gpd.read_file(\"./2023_szczegoly_zdarzen_dr.shx\")"
      ]
    },
    {
      "cell_type": "code",
      "execution_count": null,
      "metadata": {
        "colab": {
          "base_uri": "https://localhost:8080/"
        },
        "id": "XO21M8YSvh0C",
        "outputId": "ee3adc7a-432b-4be0-8d66-68938ca1dbd8"
      },
      "outputs": [],
      "source": [
        "gdf"
      ]
    },
    {
      "cell_type": "markdown",
      "metadata": {
        "id": "AfOgkNFbwqRD"
      },
      "source": [
        "# Mapa ciepła\n",
        "Na podstawie (https://www.kaggle.com/code/holoong9291/heatmap-for-car-accident/notebook)"
      ]
    },
    {
      "cell_type": "markdown",
      "metadata": {
        "id": "zbrnCpQ8WMl4"
      },
      "source": [
        "**ZADANIE**: <br>\n",
        "Załóżmy, że chcemy wyświetlić na mapie miejsca wypadków wraz z liczbą uczestników biorących w nich udział w 2023 roku."
      ]
    },
    {
      "cell_type": "markdown",
      "metadata": {
        "id": "7shm8NOgWSHS"
      },
      "source": [
        "Pierwszym ze sposobów będzie wykorzystanie `.explore`, dzięki czemu będziemy mogli wyświetlić punkty na mapie. Dodatkowo ustawiając argumenty `column=\"UCZ_SUMA\"` oraz `cmap=\"viridis\"` będziemy mogli zobaczyć liczbę uczestników danego zdarzenia (odcień punktu mówi nam ilu było uczestników)."
      ]
    },
    {
      "cell_type": "code",
      "execution_count": null,
      "metadata": {
        "colab": {
          "base_uri": "https://localhost:8080/"
        },
        "id": "xpKKgnp_WCxL",
        "outputId": "ab08c223-66ef-4928-c8b1-bdb293e913ce"
      },
      "outputs": [],
      "source": [
        "pip install mapclassify"
      ]
    },
    {
      "cell_type": "code",
      "execution_count": null,
      "metadata": {
        "colab": {
          "base_uri": "https://localhost:8080/"
        },
        "id": "Ic_MfLrYV51z",
        "outputId": "7d060c3d-7811-4894-a8e5-de56b6667e7c"
      },
      "outputs": [],
      "source": [
        "gdf2 = gdf.copy()\n",
        "gdf2.explore(column=\"UCZ_SUMA\", cmap=\"viridis\")"
      ]
    },
    {
      "cell_type": "markdown",
      "metadata": {
        "id": "TkTjOpaCijEG"
      },
      "source": [
        "W powyższym sposobie niezależnie czy przybliżamy, czy oddalamy mapę, zawsze będziemy widzieć wszystkie miejsca wypadków (punkty) z osobna."
      ]
    },
    {
      "cell_type": "markdown",
      "metadata": {
        "id": "DGDyFxmOW-TY"
      },
      "source": [
        "Powyższe zadanie możemy wykonać również w inny sposób. Wykorzystując bibliotekę `folium`, dzięki `HeatMap` możemy podobnie jak wcześniej zaznaczyć miejsca wypadków, z tą różnicą, że jeżeli mamy bardziej oddaloną mapę te miejsca będziemy widzieć bardziej ogólnie. Z kolei im bardziej będziemy przybliżać dany obszar, tym precyzyjniej będziemy widzieć dokładne miejsce zdarzenia. Dodatkowo kolory będą nam sygnalizowały jak dużo uczestników było na danym obszarze."
      ]
    },
    {
      "cell_type": "code",
      "execution_count": null,
      "metadata": {
        "id": "lCW1UawJSbgk"
      },
      "outputs": [],
      "source": [
        "import folium\n",
        "from folium.plugins import HeatMap"
      ]
    },
    {
      "cell_type": "markdown",
      "metadata": {
        "id": "t0Z_T0_WS1_U"
      },
      "source": [
        "Współrzędne naszych danych są zapisane w układzie współrzędnych EPSG: 2177 (patrz poniżej).  "
      ]
    },
    {
      "cell_type": "code",
      "execution_count": null,
      "metadata": {
        "colab": {
          "base_uri": "https://localhost:8080/"
        },
        "id": "VgXAuJU-ScKB",
        "outputId": "0abe5e54-383a-4a74-f71b-2f743cd2411f"
      },
      "outputs": [],
      "source": [
        "gdf2['geometry']"
      ]
    },
    {
      "cell_type": "markdown",
      "metadata": {
        "id": "Pj8HHI50TLbc"
      },
      "source": [
        "Aby móc utworzyc mapę ciepła za pomocą biblioteki `folium` musimy przetransformować współrzędne punktów do układu współrzędnych EPSG: 4326."
      ]
    },
    {
      "cell_type": "code",
      "execution_count": null,
      "metadata": {
        "id": "naSHt8NeTwl4"
      },
      "outputs": [],
      "source": [
        "gdf3 = gdf2.copy()\n",
        "gdf3 = gdf3.to_crs('EPSG:4326')"
      ]
    },
    {
      "cell_type": "markdown",
      "metadata": {
        "id": "O6z0Y-4sT68Q"
      },
      "source": [
        "Teraz mamy:"
      ]
    },
    {
      "cell_type": "code",
      "execution_count": null,
      "metadata": {
        "colab": {
          "base_uri": "https://localhost:8080/"
        },
        "id": "e-gG1JiLT09-",
        "outputId": "e12ff4ef-38e7-4c73-f2fe-38cdd24755d7"
      },
      "outputs": [],
      "source": [
        "gdf3['geometry']"
      ]
    },
    {
      "cell_type": "code",
      "execution_count": null,
      "metadata": {
        "colab": {
          "base_uri": "https://localhost:8080/"
        },
        "id": "OnJJDaxqwhqO",
        "outputId": "c4e04826-0309-44c4-e3f9-4fcb05608841"
      },
      "outputs": [],
      "source": [
        "X = gdf3['geometry'].x # współrzędne punktów na osi x\n",
        "Y = gdf3['geometry'].y # współrzędne punktów na osi y\n",
        "UCZ_SUMA = gdf3['UCZ_SUMA'] # liczba uczestników\n",
        "\n",
        "tmp = list(zip(Y, X, UCZ_SUMA)) # tworzenie listy współrzędnych dla mapy ciepła\n",
        "\n",
        "hmap = folium.Map(location=[Y.mean(), X.mean()], control_scale=True, zoom_start=10) # tworzenie Folium map\n",
        "\n",
        "hmap.add_child(HeatMap(tmp, radius=15)) # dodanie warstwy mapy ciepła\n",
        "\n",
        "hmap"
      ]
    },
    {
      "cell_type": "markdown",
      "metadata": {
        "id": "rP6jSZ0Nhb7O"
      },
      "source": [
        "# Regionalizacja, embedding\n",
        "W tej części będziemy wykorzystywać bibliotekę `srai` (https://github.com/kraina-ai/srai)"
      ]
    },
    {
      "cell_type": "code",
      "execution_count": null,
      "metadata": {
        "colab": {
          "base_uri": "https://localhost:8080/"
        },
        "id": "O4fXnGk4xUE1",
        "outputId": "fab964fc-f565-4829-beab-cb1bf0340bb9"
      },
      "outputs": [],
      "source": [
        "pip install srai"
      ]
    },
    {
      "cell_type": "code",
      "execution_count": null,
      "metadata": {
        "colab": {
          "base_uri": "https://localhost:8080/"
        },
        "id": "ojmz8mkCxY_h",
        "outputId": "f028081b-145a-43c8-8060-c125b308ccaa"
      },
      "outputs": [],
      "source": [
        "pip install srai[osm]"
      ]
    },
    {
      "cell_type": "code",
      "execution_count": null,
      "metadata": {
        "id": "itVxLFcDxMvb"
      },
      "outputs": [],
      "source": [
        "from srai.regionalizers import H3Regionalizer, geocode_to_region_gdf"
      ]
    },
    {
      "cell_type": "code",
      "execution_count": null,
      "metadata": {
        "id": "XDCDmleFxT6I"
      },
      "outputs": [],
      "source": [
        "from srai.loaders.osm_loaders.filters.popular import get_popular_tags\n",
        "from srai.loaders.osm_loaders.filters import GEOFABRIK_LAYERS, HEX2VEC_FILTER\n",
        "from srai.loaders.osm_loaders import OSMOnlineLoader\n",
        "from srai.regionalizers import geocode_to_region_gdf\n",
        "from srai.plotting.folium_wrapper import plot_regions\n",
        "from functional import seq"
      ]
    },
    {
      "cell_type": "markdown",
      "metadata": {
        "id": "zowUQCfEvuYH"
      },
      "source": [
        "## Regionalizacja\n",
        "Załóżmy, że chcemy podzielić Wrocław na heksagony."
      ]
    },
    {
      "cell_type": "code",
      "execution_count": null,
      "metadata": {
        "id": "Pb8iUkPAxAf1"
      },
      "outputs": [],
      "source": [
        "area = geocode_to_region_gdf(\"Wrocław, Poland\") # pobieranie obszaru"
      ]
    },
    {
      "cell_type": "code",
      "execution_count": null,
      "metadata": {
        "colab": {
          "base_uri": "https://localhost:8080/"
        },
        "id": "YVuIjXZ-yoaT",
        "outputId": "89c837b3-2b81-435a-fe8a-57a0184d2f34"
      },
      "outputs": [],
      "source": [
        "area"
      ]
    },
    {
      "cell_type": "markdown",
      "metadata": {
        "id": "iKwjevrPw5Zq"
      },
      "source": [
        "Możliwe regionalizacje (https://github.com/kraina-ai/srai#regionalization)"
      ]
    },
    {
      "cell_type": "code",
      "execution_count": null,
      "metadata": {
        "id": "pBq4eLUqwkZh"
      },
      "outputs": [],
      "source": [
        "regionalizer = H3Regionalizer(resolution=8) # https://h3geo.org/docs/core-library/restable/\n",
        "regions = regionalizer.transform(area)"
      ]
    },
    {
      "cell_type": "code",
      "execution_count": null,
      "metadata": {
        "colab": {
          "base_uri": "https://localhost:8080/"
        },
        "id": "3XGVqOCEyKGC",
        "outputId": "6d62eb72-72f6-4664-b978-6556e49b9bf5"
      },
      "outputs": [],
      "source": [
        "regions.head()"
      ]
    },
    {
      "cell_type": "code",
      "execution_count": null,
      "metadata": {
        "id": "GXhqYBO_yaKN"
      },
      "outputs": [],
      "source": [
        "from srai.plotting import plot_regions"
      ]
    },
    {
      "cell_type": "code",
      "execution_count": null,
      "metadata": {
        "id": "qoeFU3--yJYR"
      },
      "outputs": [],
      "source": [
        "folium_map = plot_regions(area, colormap=[\"rgba(0,0,0,0.1)\"], tiles_style=\"CartoDB positron\")"
      ]
    },
    {
      "cell_type": "code",
      "execution_count": null,
      "metadata": {
        "colab": {
          "base_uri": "https://localhost:8080/"
        },
        "id": "Eii8L4Twyfv5",
        "outputId": "b35474e4-ceec-40b7-a032-17f2d111381e"
      },
      "outputs": [],
      "source": [
        "folium_map # wyświetlenie pobranego obszaru"
      ]
    },
    {
      "cell_type": "code",
      "execution_count": null,
      "metadata": {
        "colab": {
          "base_uri": "https://localhost:8080/"
        },
        "id": "1cd11JLPyXT4",
        "outputId": "530cce3f-ab17-467e-8a61-4bae4b7cdc8c"
      },
      "outputs": [],
      "source": [
        "plot_regions(regions_gdf=regions, map=folium_map) # wyświetlenie obszaru wraz z regionzalizacją"
      ]
    },
    {
      "cell_type": "markdown",
      "metadata": {
        "id": "PzNznYkUyugY"
      },
      "source": [
        "## Embedding\n",
        "**ZADANIE:**<br>\n",
        "Załóżmy, że chcemy zobaczyć, jak rozkładała się liczba wypadków w poszczególnych regionach w 2023 roku."
      ]
    },
    {
      "cell_type": "code",
      "execution_count": null,
      "metadata": {
        "colab": {
          "base_uri": "https://localhost:8080/"
        },
        "id": "f3IY_JTZzvy7",
        "outputId": "081d0972-4edf-42bb-937b-c7016ca59af0"
      },
      "outputs": [],
      "source": [
        "pip install typing-extensions"
      ]
    },
    {
      "cell_type": "code",
      "execution_count": null,
      "metadata": {
        "id": "ga9HmyHmzufj"
      },
      "outputs": [],
      "source": [
        "from srai.embedders import CountEmbedder\n",
        "from srai.joiners import IntersectionJoiner\n",
        "from srai.loaders import OSMOnlineLoader"
      ]
    },
    {
      "cell_type": "code",
      "execution_count": null,
      "metadata": {
        "id": "IyAvX2Xnzrjb"
      },
      "outputs": [],
      "source": [
        "loader = OSMOnlineLoader()\n",
        "regionalizer = H3Regionalizer(resolution=9)\n",
        "joiner = IntersectionJoiner()"
      ]
    },
    {
      "cell_type": "code",
      "execution_count": null,
      "metadata": {
        "id": "xlZmKEXT0t4T"
      },
      "outputs": [],
      "source": [
        "from srai.constants import WGS84_CRS, FEATURES_INDEX"
      ]
    },
    {
      "cell_type": "code",
      "execution_count": null,
      "metadata": {
        "colab": {
          "base_uri": "https://localhost:8080/"
        },
        "id": "_SRWo2qWC90-",
        "outputId": "55026832-90b0-4dde-d963-a8f88390f3d4"
      },
      "outputs": [],
      "source": [
        "gdf3.head()"
      ]
    },
    {
      "cell_type": "code",
      "execution_count": null,
      "metadata": {
        "id": "RfVkfdNs0ZFX"
      },
      "outputs": [],
      "source": [
        "area = geocode_to_region_gdf(\"Wrocław, Poland\") # pobieranie obszaru\n",
        "\n",
        "query = {'ROK': gdf3['ROK'], 'geometry': gdf3['geometry']} # wyznaczanie jakie dane będziemy chcięli wyciągnąć\n",
        "features = gpd.GeoDataFrame(\n",
        "    query,\n",
        "    crs=WGS84_CRS,\n",
        "    index=gpd.pd.Index(name=FEATURES_INDEX, data=[i for i in range(len(gdf3))]),\n",
        ")"
      ]
    },
    {
      "cell_type": "code",
      "execution_count": null,
      "metadata": {
        "id": "hVrMknlS02zq"
      },
      "outputs": [],
      "source": [
        "regions = regionalizer.transform(area)"
      ]
    },
    {
      "cell_type": "code",
      "execution_count": null,
      "metadata": {
        "colab": {
          "base_uri": "https://localhost:8080/"
        },
        "id": "7QEyz8Ad0_ms",
        "outputId": "e13fe30d-6286-4e69-9f16-6f0026c04d29"
      },
      "outputs": [],
      "source": [
        "features.head()"
      ]
    },
    {
      "cell_type": "code",
      "execution_count": null,
      "metadata": {
        "id": "i5orsu4j07yU"
      },
      "outputs": [],
      "source": [
        "joint = joiner.transform(regions, features, return_geom=True) # łączenie regionów z punktami w których były wypadki"
      ]
    },
    {
      "cell_type": "markdown",
      "metadata": {
        "id": "Rpp-ScEdEDgd"
      },
      "source": [
        "`joint` zwraca tabelę, z której można odczytać, które punkty leżą w danym regionie."
      ]
    },
    {
      "cell_type": "code",
      "execution_count": null,
      "metadata": {
        "colab": {
          "base_uri": "https://localhost:8080/"
        },
        "id": "VbVlyu_O1IUb",
        "outputId": "043df88d-74ff-4853-91bf-9fcb341ec690"
      },
      "outputs": [],
      "source": [
        "joint"
      ]
    },
    {
      "cell_type": "markdown",
      "metadata": {
        "id": "vlIofR1OETBh"
      },
      "source": [
        "Mapa wraz z regionalizacją + punkty w których doszło do wypadków na podstawie pobranych danych <br>\n",
        "(można zauważyć, że część punktów jest poza obszarem Wrocławia):"
      ]
    },
    {
      "cell_type": "code",
      "execution_count": null,
      "metadata": {
        "colab": {
          "base_uri": "https://localhost:8080/"
        },
        "id": "wup8u2hY1QQX",
        "outputId": "62b83652-cca3-4650-b8ab-f5896a44f8c7"
      },
      "outputs": [],
      "source": [
        "folium_map = plot_regions(regions, colormap=[\"cornflowerblue\"])\n",
        "features.explore(\n",
        "    m=folium_map,\n",
        "    style_kwds=dict(color=\"darkblue\", opacity=0.5, fillColor=\"darkblue\", fillOpacity=0.5),\n",
        "    marker_kwds=dict(radius=2),\n",
        ")"
      ]
    },
    {
      "cell_type": "markdown",
      "metadata": {
        "id": "NUklDO3zFU83"
      },
      "source": [
        " Mapa wraz z regionalizacją + punkty w których doszło do wypadków już po sprawdzeniu które punkty należą do regionów <br>\n",
        "(można zauważyć, że każdy z punktów mieści się w którymś z regionów, nie ma punktów poza regionami):"
      ]
    },
    {
      "cell_type": "code",
      "execution_count": null,
      "metadata": {
        "colab": {
          "base_uri": "https://localhost:8080/"
        },
        "id": "hfNIk2bNx28S",
        "outputId": "d8f3ebb7-01c7-4f35-d0b7-e9a3f1383e78"
      },
      "outputs": [],
      "source": [
        "folium_map = plot_regions(regions, colormap=[\"cornflowerblue\"])\n",
        "joint.explore(\n",
        "    m=folium_map,\n",
        "    style_kwds=dict(color=\"darkgreen\", opacity=1, fillColor=\"darkgreen\", fillOpacity=1),\n",
        "    marker_kwds=dict(radius=2),\n",
        ")"
      ]
    },
    {
      "cell_type": "markdown",
      "metadata": {
        "id": "QGyVAwuGF3m1"
      },
      "source": [
        "Wyświtlenie dwóch powyższych map z punktami na jednej mapie:"
      ]
    },
    {
      "cell_type": "code",
      "execution_count": null,
      "metadata": {
        "colab": {
          "base_uri": "https://localhost:8080/"
        },
        "id": "TZ2gQny62-5-",
        "outputId": "dde8d7a6-3169-42db-d202-f774466cd210"
      },
      "outputs": [],
      "source": [
        "folium_map = plot_regions(regions, colormap=[\"cornflowerblue\"])\n",
        "\n",
        "features.explore(\n",
        "    m=folium_map,\n",
        "    style_kwds=dict(color=\"darkblue\", opacity=0.5, fillColor=\"darkblue\", fillOpacity=0.5),\n",
        "    marker_kwds=dict(radius=2),\n",
        ")\n",
        "\n",
        "joint.explore(\n",
        "    m=folium_map,\n",
        "    style_kwds=dict(color=\"darkgreen\", opacity=1, fillColor=\"darkgreen\", fillOpacity=1),\n",
        "    marker_kwds=dict(radius=2),\n",
        ")"
      ]
    },
    {
      "cell_type": "markdown",
      "metadata": {
        "id": "ThzR51IJ4qZd"
      },
      "source": [
        "Mapa wraz z regionalizacją + punkty wypadków (kolory oznaczają regiony, jeżeli dane punkty znajdują się w jednym regionie to są tego samego koloru):"
      ]
    },
    {
      "cell_type": "code",
      "execution_count": null,
      "metadata": {
        "id": "LrvuYMLj4bo4"
      },
      "outputs": [],
      "source": [
        "from srai.constants import REGIONS_INDEX\n",
        "from plotly.express import colors"
      ]
    },
    {
      "cell_type": "code",
      "execution_count": null,
      "metadata": {
        "colab": {
          "base_uri": "https://localhost:8080/"
        },
        "id": "7mRh_8LX4SKX",
        "outputId": "7b0fb8c3-151d-4d7b-affa-6f0c4d5197ee"
      },
      "outputs": [],
      "source": [
        "folium_map = plot_regions(regions, tiles_style=\"CartoDB positron\", colormap=[\"rgba(0,0,0,0)\"])\n",
        "joint.reset_index().explore(m=folium_map, column=REGIONS_INDEX, cmap=colors.qualitative.Bold)"
      ]
    },
    {
      "cell_type": "markdown",
      "metadata": {
        "id": "XY4QujjuG6CO"
      },
      "source": [
        "W poniższej tabeli `ROK_2023` będzie oznaczać liczę wpadków w 2023 w danym regionie:"
      ]
    },
    {
      "cell_type": "code",
      "execution_count": null,
      "metadata": {
        "colab": {
          "base_uri": "https://localhost:8080/"
        },
        "id": "KD8KOcocx22n",
        "outputId": "a11f5360-3ccb-4f4a-b30c-9148271e4482"
      },
      "outputs": [],
      "source": [
        "wide_embedder = CountEmbedder(count_subcategories=True)\n",
        "wide_embedding = wide_embedder.transform(regions, features, joint)\n",
        "wide_embedding.head()"
      ]
    },
    {
      "cell_type": "markdown",
      "metadata": {
        "id": "DlqYFEUzHVLX"
      },
      "source": [
        "Liczba regionów z daną liczbą wypadków:"
      ]
    },
    {
      "cell_type": "code",
      "execution_count": null,
      "metadata": {
        "colab": {
          "base_uri": "https://localhost:8080/"
        },
        "id": "GcMkAZqCSg7o",
        "outputId": "7deb44e7-9b3d-4ca4-c34e-a40ccfbe3eda"
      },
      "outputs": [],
      "source": [
        "import matplotlib.pyplot as plt\n",
        "\n",
        "x=[i for i in range(0, max(wide_embedding[\"ROK_2023\"])+1)]\n",
        "dict_x_y={}\n",
        "for i in x:\n",
        "  dict_x_y[i] = list(wide_embedding[\"ROK_2023\"]).count(i)\n",
        "\n",
        "y=list(dict_x_y.values())\n",
        "\n",
        "plt.grid(axis='y', alpha=0.75)\n",
        "plt.bar(x,y, color='darkorange')\n",
        "plt.title('Liczba regionów z daną liczbą wypadków')\n",
        "plt.xlabel('Liczba wypadków')\n",
        "plt.ylabel('Liczba regionów')\n",
        "plt.show()"
      ]
    },
    {
      "cell_type": "markdown",
      "metadata": {
        "id": "kqN4D_wKWqAE"
      },
      "source": [
        "Wyświetlenie regionów na mapie w różnych odcieniach w zależności od liczby wypadków:"
      ]
    },
    {
      "cell_type": "code",
      "execution_count": null,
      "metadata": {
        "id": "L0COtqkF5KlI"
      },
      "outputs": [],
      "source": [
        "from srai.plotting import plot_numeric_data"
      ]
    },
    {
      "cell_type": "code",
      "execution_count": null,
      "metadata": {
        "colab": {
          "base_uri": "https://localhost:8080/"
        },
        "id": "8083M7mYx-fT",
        "outputId": "340ce476-cfe4-4f8d-e29c-d657329b58f9"
      },
      "outputs": [],
      "source": [
        "plot_numeric_data(regions, \"ROK_2023\", wide_embedding)"
      ]
    },
    {
      "cell_type": "markdown",
      "metadata": {
        "id": "g01OkvsL11XC"
      },
      "source": [
        "# Skrzyżowania i sygnalizacja świetlna we Wrocławiu"
      ]
    },
    {
      "cell_type": "markdown",
      "metadata": {
        "id": "jEif8DuHYblO"
      },
      "source": [
        "Tutaj już nie będziemy wykorzystywać danych o wypadkach. Załóżmy, że chcemy się dowiedzieć, gdzie są zlokalizowane skrzyżowania i sygnalizacja świetlna.\n",
        "<br>\n",
        "<br>\n",
        "Możemy to zrobić na dwa sposob:\n",
        "* wykorzystać bibliotekę `srai` (szybszy sposób),\n",
        "* wykorzystać bibliotekę `overpy` (bardziej skomplikowane) - ten sposób zostanie przedstawiony tylko w sekcji 'Skrzyżowania'.\n",
        "<br>\n",
        "<br>\n"
      ]
    },
    {
      "cell_type": "markdown",
      "metadata": {
        "id": "hVculVuvAax3"
      },
      "source": [
        "## Skrzyżowania"
      ]
    },
    {
      "cell_type": "markdown",
      "metadata": {
        "id": "omNoZb3dX_dg"
      },
      "source": [
        "**ZADANIE:**<br>\n",
        "Załóżmy, że chcemy pobrać dane o skrzyżowaniach we Wrocławiu, konkretnie chcemy wiedzieć w jakich punktach się mieszczą."
      ]
    },
    {
      "cell_type": "markdown",
      "metadata": {
        "id": "zuU9EQlhZ4sk"
      },
      "source": [
        "Zacznijmy od sposobu z wykorzystaniem biblioteki `overpy`.\n",
        "\n",
        "Biblioteka `overpy`, jest wrapperem do API serwisu OpenStreetMap (OSM), służy do pobierania danych geograficznych. Za pomocą `overpy` można komunikować się z API OSM i pobierać różnego rodzaju informacje geograficzne, takie jak dane o miejscach, drogach, budynkach itp., które są dostępne na platformie OpenStreetMap."
      ]
    },
    {
      "cell_type": "code",
      "execution_count": null,
      "metadata": {
        "colab": {
          "base_uri": "https://localhost:8080/"
        },
        "id": "e4pVDKHe2AH7",
        "outputId": "82dbe099-2574-492a-d887-d486f9c80cc4"
      },
      "outputs": [],
      "source": [
        "pip install overpy"
      ]
    },
    {
      "cell_type": "code",
      "execution_count": null,
      "metadata": {
        "id": "X2G2V6G12Zaj"
      },
      "outputs": [],
      "source": [
        "import overpy\n",
        "\n",
        "api = overpy.Overpass()\n",
        "\n",
        "query = \"\"\"\n",
        "area[name=\"Wrocław\"];\n",
        "(node[\"highway\"=\"crossing\"](area););\n",
        "out;\n",
        "\"\"\" # zapytanie o skrzyżowania we Wrocławiu\n",
        "\n",
        "result = api.query(query)"
      ]
    },
    {
      "cell_type": "code",
      "execution_count": null,
      "metadata": {
        "id": "dBez_9Oh7dw3"
      },
      "outputs": [],
      "source": [
        "data = []\n",
        "for node in result.nodes:\n",
        "    data.append({\n",
        "        'ID': node.id,\n",
        "        'Latitude': node.lat,\n",
        "        'Longitude': node.lon,\n",
        "    })"
      ]
    },
    {
      "cell_type": "code",
      "execution_count": null,
      "metadata": {
        "colab": {
          "base_uri": "https://localhost:8080/"
        },
        "id": "T3ZJBf588Png",
        "outputId": "c3a18c9c-4427-4171-f575-b4e35bf4e730"
      },
      "outputs": [],
      "source": [
        "from shapely.geometry import Point\n",
        "\n",
        "# tworzenie obiektów Point na podstawie współrzędnych\n",
        "geometry = []\n",
        "for i in data:\n",
        "  geometry.append(Point(i['Longitude'], i['Latitude']))\n",
        "\n",
        "gdf_overpy = gpd.GeoDataFrame(data, geometry=geometry) # tworzenie GeoDataFrame\n",
        "\n",
        "gdf_overpy.head()"
      ]
    },
    {
      "cell_type": "markdown",
      "metadata": {
        "id": "lBe0X5Qx9hp0"
      },
      "source": [
        "Drugim sposobem jest wykorzystanie biblioteki `srai`."
      ]
    },
    {
      "cell_type": "code",
      "execution_count": null,
      "metadata": {
        "colab": {
          "base_uri": "https://localhost:8080/"
        },
        "id": "nNGt2n8016ba",
        "outputId": "a7ea0a74-ab61-4b12-f59b-c3b0424c2563"
      },
      "outputs": [],
      "source": [
        "loader = OSMOnlineLoader()\n",
        "\n",
        "query = {\"highway\": \"crossing\"} # filtr dla skrzyżowań\n",
        "area = geocode_to_region_gdf(\"Wrocław, Poland\") # uzyskanie obszaru Wrocławia jako GeoDataFrame\n",
        "features = loader.load(area, query) # wczytanie danych o skrzyżowaniach we Wrocławiu\n",
        "\n",
        "features.head()"
      ]
    },
    {
      "cell_type": "markdown",
      "metadata": {
        "id": "sRv8uH2lba5o"
      },
      "source": [
        "Porównując powyższe tabele widzimy, że w obu sposobach w rezultacie otrzymujemy te same punkty."
      ]
    },
    {
      "cell_type": "markdown",
      "metadata": {
        "id": "fHccahI5bm6h"
      },
      "source": [
        "Od teraz będziemy parcować tylko na danych uzyskanch za pomocą biblioteki `srai`."
      ]
    },
    {
      "cell_type": "markdown",
      "metadata": {
        "id": "Gnj_hQGLbvTD"
      },
      "source": [
        "Teraz wyświetlimy sobie miejsca na mapie gdzie występują skrzyżwania:"
      ]
    },
    {
      "cell_type": "code",
      "execution_count": null,
      "metadata": {
        "colab": {
          "base_uri": "https://localhost:8080/"
        },
        "id": "YJhXzOjx-Gcv",
        "outputId": "6593159f-08b9-41ef-809b-23529b19339f"
      },
      "outputs": [],
      "source": [
        "folium_map = plot_regions(area, colormap=[\"lightgray\"], tiles_style=\"CartoDB positron\")\n",
        "features.explore(m=folium_map, color=\"gold\")"
      ]
    },
    {
      "cell_type": "markdown",
      "metadata": {
        "id": "xGa4id0j_CfZ"
      },
      "source": [
        "Teraz dla danych o skrzyżowaniach, podobnie jak poprzednio, zostanie dokonana regionalizacja i embedding  (patrz sekcja 'Regionalizacja, Embedding').\n",
        "\n",
        "Będziemy zliczać liczbę skrzyżowań w danym regionie."
      ]
    },
    {
      "cell_type": "code",
      "execution_count": null,
      "metadata": {
        "colab": {
          "base_uri": "https://localhost:8080/"
        },
        "id": "-wKtHFGN2x5s",
        "outputId": "a35b1934-0445-4b9f-f76c-f7e58b9a3e7a"
      },
      "outputs": [],
      "source": [
        "# -----KOD Z POPRZEDNIEJ KOMÓRKI-----\n",
        "# loader = OSMOnlineLoader()\n",
        "\n",
        "# query = {\"highway\": \"crossing\"} # filtr dla skrzyżowań\n",
        "# area = geocode_to_region_gdf(\"Wrocław, Poland\") # uzyskanie obszaru Wrocławia jako GeoDataFrame\n",
        "# gdf_srai_crossing = loader.load(area, query) # wczytanie danych o skrzyżowaniach we Wrocławiu\n",
        "# ----------------------------------\n",
        "\n",
        "regionalizer = H3Regionalizer(resolution=9)\n",
        "joiner = IntersectionJoiner()\n",
        "\n",
        "regions = regionalizer.transform(area)\n",
        "joint = joiner.transform(regions, features)\n",
        "embedder = CountEmbedder()\n",
        "embeddings = embedder.transform(regions, features, joint)"
      ]
    },
    {
      "cell_type": "markdown",
      "metadata": {
        "id": "msVh6xq2gY8R"
      },
      "source": [
        "Liczba regionów z daną liczbą skrzyżowań:"
      ]
    },
    {
      "cell_type": "code",
      "execution_count": null,
      "metadata": {
        "colab": {
          "base_uri": "https://localhost:8080/"
        },
        "id": "cen_b-8iegtk",
        "outputId": "0f8d332d-97d1-4cd5-a3b4-66403992f07d"
      },
      "outputs": [],
      "source": [
        "x=[i for i in range(0, max(embeddings[\"highway_crossing\"])+1)]\n",
        "dict_x_y={}\n",
        "for i in x:\n",
        "  dict_x_y[i] = list(embeddings[\"highway_crossing\"]).count(i)\n",
        "\n",
        "y=list(dict_x_y.values())\n",
        "\n",
        "plt.grid(axis='y', alpha=0.75)\n",
        "plt.bar(x,y, color='darkorange')\n",
        "plt.title('Liczba regionów z daną liczbą skrzyżowań')\n",
        "plt.xlabel('Liczba skrzyżowań')\n",
        "plt.ylabel('Liczba regionów')\n",
        "plt.show()"
      ]
    },
    {
      "cell_type": "markdown",
      "metadata": {
        "id": "MWESDyENf36p"
      },
      "source": [
        "Wyświetlenie regionów na mapie w różnych odcieniach w zależności od liczby skrzyżowań:"
      ]
    },
    {
      "cell_type": "code",
      "execution_count": null,
      "metadata": {
        "colab": {
          "base_uri": "https://localhost:8080/"
        },
        "id": "XtkeFc3eeQCx",
        "outputId": "da89e21b-a7eb-455d-a524-2caa400e1b58"
      },
      "outputs": [],
      "source": [
        "folium_map = plot_regions(area, colormap=[\"rgba(0,0,0,0.1)\"], tiles_style=\"CartoDB positron\")\n",
        "plot_numeric_data(regions, \"highway_crossing\", embeddings, map=folium_map)"
      ]
    },
    {
      "cell_type": "markdown",
      "metadata": {
        "id": "XaRmu-Dlfrc9"
      },
      "source": [
        "Mapa wraz z regionalizacją + pukty, gdzie są skrzyżowania:"
      ]
    },
    {
      "cell_type": "code",
      "execution_count": null,
      "metadata": {
        "colab": {
          "base_uri": "https://localhost:8080/"
        },
        "id": "PfbLTu-e89xF",
        "outputId": "bf675b54-fabb-413b-8dbf-18e5f9cf0d71"
      },
      "outputs": [],
      "source": [
        "folium_map = plot_regions(regions, tiles_style=\"CartoDB positron\", colormap=[\"lightgray\"])\n",
        "features.explore(\n",
        "    m=folium_map,\n",
        "    color=\"gold\"\n",
        ")"
      ]
    },
    {
      "cell_type": "markdown",
      "metadata": {
        "id": "iGYpetbxDeso"
      },
      "source": [
        "## Sygnalizacja świetlna"
      ]
    },
    {
      "cell_type": "markdown",
      "metadata": {
        "id": "HfW-RyEuDmiY"
      },
      "source": [
        "**ZADANIE:**<br>\n",
        "Podobnie jak dla skrzyzowań, chcemy teraz pobrać dane o sygnalizacji świetlnej we Wrocławiu."
      ]
    },
    {
      "cell_type": "markdown",
      "metadata": {
        "id": "ocvSVkAFg7Wx"
      },
      "source": [
        "W tym zadaniu postępujemy analogicznie jak dla skrzyżowań (korztystamy z biblioteki `srai`)."
      ]
    },
    {
      "cell_type": "code",
      "execution_count": null,
      "metadata": {
        "colab": {
          "base_uri": "https://localhost:8080/"
        },
        "id": "AN5Sf5M5D77k",
        "outputId": "8a83f16f-d3e4-4009-f861-acca31f5804c"
      },
      "outputs": [],
      "source": [
        "query = {\"highway\": \"traffic_signals\"}\n",
        "area = geocode_to_region_gdf(\"Wrocław, Poland\")\n",
        "features = loader.load(area, query)\n",
        "regions = regionalizer.transform(area)\n",
        "\n",
        "folium_map = plot_regions(regions, tiles_style=\"CartoDB positron\", colormap=[\"lightgray\"])\n",
        "features.explore(\n",
        "    m=folium_map,\n",
        "    color=\"purple\"\n",
        ")"
      ]
    },
    {
      "cell_type": "code",
      "execution_count": null,
      "metadata": {
        "colab": {
          "base_uri": "https://localhost:8080/"
        },
        "id": "bBqlebomFFYO",
        "outputId": "78c3733e-96ca-4f83-fd10-99862711fa82"
      },
      "outputs": [],
      "source": [
        "features.head()"
      ]
    },
    {
      "cell_type": "code",
      "execution_count": null,
      "metadata": {
        "colab": {
          "base_uri": "https://localhost:8080/"
        },
        "id": "Kng4o1nEPObf",
        "outputId": "3d585e4a-1df3-467c-95d8-4b32e090d381"
      },
      "outputs": [],
      "source": [
        "joint = joiner.transform(regions, features)\n",
        "\n",
        "embedder = CountEmbedder()\n",
        "embeddings = embedder.transform(regions, features, joint)\n",
        "\n",
        "folium_map = plot_regions(area, colormap=[\"rgba(0,0,0,0.1)\"], tiles_style=\"CartoDB positron\")\n",
        "plot_numeric_data(regions, \"highway_traffic_signals\", embeddings, map=folium_map)"
      ]
    },
    {
      "cell_type": "code",
      "execution_count": null,
      "metadata": {
        "colab": {
          "base_uri": "https://localhost:8080/"
        },
        "id": "HcyGNJxIhTJI",
        "outputId": "465bf70a-cf85-4b6e-cd21-4e214643e0a8"
      },
      "outputs": [],
      "source": [
        "x=[i for i in range(0, max(embeddings[\"highway_traffic_signals\"])+1)]\n",
        "dict_x_y={}\n",
        "for i in x:\n",
        "  dict_x_y[i] = list(embeddings[\"highway_traffic_signals\"]).count(i)\n",
        "\n",
        "y=list(dict_x_y.values())\n",
        "\n",
        "plt.grid(axis='y', alpha=0.75)\n",
        "plt.bar(x,y, color='darkorange')\n",
        "plt.title('Liczba regionów z daną liczbą sygnalizacji świetlnej')\n",
        "plt.xlabel('Liczba sygnalizacji świetlnej')\n",
        "plt.ylabel('Liczba regionów')\n",
        "plt.show()"
      ]
    },
    {
      "cell_type": "markdown",
      "metadata": {
        "id": "AYWu5ZFKExnq"
      },
      "source": [
        "## Sygnalizacja świtlna i skrzyżowania"
      ]
    },
    {
      "cell_type": "markdown",
      "metadata": {
        "id": "s7FOfDa2G4ef"
      },
      "source": [
        "### Filtrowanie\n",
        "Nie trzeba pobierać danych każde z osobna, możemy również tworzyć filtry dla większej ilości tagów.\n",
        "\n",
        "\n",
        "**ZADANIE:**<br>\n",
        "Załóżmy, że chcemy pobrać równocześnie dane o skrzyżowaniach i sygnalizacji."
      ]
    },
    {
      "cell_type": "code",
      "execution_count": null,
      "metadata": {
        "colab": {
          "base_uri": "https://localhost:8080/"
        },
        "id": "btwnyVwaFQar",
        "outputId": "27471907-fb2c-4389-c71c-c7baf3ea38d1"
      },
      "outputs": [],
      "source": [
        "query = {\"traffic_signals\": {\"highway\": \"traffic_signals\"}, \"crossing\": {\"highway\": \"crossing\"}} # filtr dla sygnalizacji świetlnej i skrzyżowań\n",
        "area = geocode_to_region_gdf(\"Wrocław, Poland\") # uzyskanie obszaru Wrocławia jako GeoDataFrame\n",
        "features = loader.load(area, query) # wczytanie danych o sygnalizacji świetlnej i skrzyżowaniach we Wrocławiu\n",
        "\n",
        "# regionalizacja danych\n",
        "regionalizer = H3Regionalizer(resolution=9)\n",
        "regions = regionalizer.transform(area)"
      ]
    },
    {
      "cell_type": "code",
      "execution_count": null,
      "metadata": {
        "colab": {
          "base_uri": "https://localhost:8080/"
        },
        "id": "GtddH2cYFm7U",
        "outputId": "648d87cb-db13-4e93-8af5-65514b9abb60"
      },
      "outputs": [],
      "source": [
        "features.head()"
      ]
    },
    {
      "cell_type": "markdown",
      "metadata": {
        "id": "ThZ7d9qcGv_m"
      },
      "source": [
        "### Embedding"
      ]
    },
    {
      "cell_type": "code",
      "execution_count": null,
      "metadata": {
        "colab": {
          "base_uri": "https://localhost:8080/"
        },
        "id": "TgsRm93OFlIU",
        "outputId": "29ebc0cc-0de5-454b-efe4-7311e733f2f5"
      },
      "outputs": [],
      "source": [
        "# Łączenie danych\n",
        "joiner = IntersectionJoiner()\n",
        "joint = joiner.transform(regions, features)\n",
        "\n",
        "# Embedding danych\n",
        "embedder = CountEmbedder()\n",
        "embeddings = embedder.transform(regions, features, joint)\n",
        "\n",
        "# Tworzenie mapy Folium\n",
        "folium_map = plot_regions(area, colormap=[\"rgba(0,0,0,0.1)\"], tiles_style=\"CartoDB positron\")\n"
      ]
    },
    {
      "cell_type": "code",
      "execution_count": null,
      "metadata": {
        "colab": {
          "base_uri": "https://localhost:8080/"
        },
        "id": "wn90uTkDO1Gu",
        "outputId": "e01e7582-0152-4e7d-f749-695937aa1073"
      },
      "outputs": [],
      "source": [
        "embeddings.head()"
      ]
    },
    {
      "cell_type": "code",
      "execution_count": null,
      "metadata": {
        "colab": {
          "base_uri": "https://localhost:8080/"
        },
        "id": "tyvd5XQvO1CJ",
        "outputId": "33d30f9a-55ca-49ac-bf48-702ba8f81f23"
      },
      "outputs": [],
      "source": [
        "plot_numeric_data(regions, \"traffic_signals_highway=traffic_signals\", embeddings, map=folium_map)"
      ]
    },
    {
      "cell_type": "code",
      "execution_count": null,
      "metadata": {
        "colab": {
          "base_uri": "https://localhost:8080/"
        },
        "id": "XDn8hC9tO8N8",
        "outputId": "89277732-4b99-43ca-de32-78d31641ca82"
      },
      "outputs": [],
      "source": [
        "plot_numeric_data(regions, \"crossing_highway=crossing\", embeddings, map=folium_map)"
      ]
    }
  ],
  "metadata": {
    "colab": {
      "collapsed_sections": [
        "9dcg4OuSvEFr",
        "AfOgkNFbwqRD",
        "rP6jSZ0Nhb7O",
        "zowUQCfEvuYH",
        "PzNznYkUyugY",
        "g01OkvsL11XC",
        "hVculVuvAax3",
        "iGYpetbxDeso",
        "AYWu5ZFKExnq"
      ],
      "provenance": []
    },
    "kernelspec": {
      "display_name": "Python 3",
      "name": "python3"
    },
    "language_info": {
      "name": "python"
    }
  },
  "nbformat": 4,
  "nbformat_minor": 0
}
