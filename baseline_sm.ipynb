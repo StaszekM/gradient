version https://git-lfs.github.com/spec/v1
oid sha256:3308d2ac5a228c198af91bd076afcb3c652dc64a676c24243302c97000b6e915
size 15891
